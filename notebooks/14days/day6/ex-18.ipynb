{
 "cells": [
  {
   "cell_type": "code",
   "execution_count": null,
   "id": "2f1a4721-bdb7-44c2-9b82-2b2837c4c4c6",
   "metadata": {},
   "outputs": [],
   "source": [
    "#created at 20250416"
   ]
  },
  {
   "cell_type": "code",
   "execution_count": null,
   "id": "bcc8468d-c01f-484a-b7a2-f7514bc6f3e7",
   "metadata": {},
   "outputs": [],
   "source": [
    "#Context Manager class"
   ]
  },
  {
   "cell_type": "code",
   "execution_count": 1,
   "id": "0c0a28d7-95a3-451c-a1a3-bea81b440855",
   "metadata": {},
   "outputs": [
    {
     "name": "stdout",
     "output_type": "stream",
     "text": [
      "\n",
      " === Context Manager Class ===\n"
     ]
    }
   ],
   "source": [
    "print(\"\\n === Context Manager Class ===\")"
   ]
  },
  {
   "cell_type": "code",
   "execution_count": 2,
   "id": "299caae0-e59c-4921-9913-4670ec52ff3f",
   "metadata": {},
   "outputs": [
    {
     "name": "stdout",
     "output_type": "stream",
     "text": [
      "Connnecting to db:MyDB\n",
      "Performing database operations\n",
      "Disconnecting from:MyDB\n"
     ]
    }
   ],
   "source": [
    "class DataBaseConnection:\n",
    "    def __init__(self, db_name):\n",
    "        self.db_name = db_name\n",
    "\n",
    "    def __enter__(self):\n",
    "        print(f\"Connnecting to db:{self.db_name}\")\n",
    "        return self\n",
    "\n",
    "    def __exit__(self, exc_type, exc_val, exc_tb):\n",
    "        print(f\"Disconnecting from:{self.db_name}\")\n",
    "\n",
    "with DataBaseConnection(\"MyDB\") as db:\n",
    "    print(\"Performing database operations\")"
   ]
  },
  {
   "cell_type": "code",
   "execution_count": null,
   "id": "d9826384-4fca-430d-b3fc-611edc492633",
   "metadata": {},
   "outputs": [],
   "source": []
  },
  {
   "cell_type": "code",
   "execution_count": null,
   "id": "563abec9-8b9f-44cb-9e1e-d35d905323e0",
   "metadata": {},
   "outputs": [],
   "source": []
  }
 ],
 "metadata": {
  "kernelspec": {
   "display_name": "Python 3 (ipykernel)",
   "language": "python",
   "name": "python3"
  },
  "language_info": {
   "codemirror_mode": {
    "name": "ipython",
    "version": 3
   },
   "file_extension": ".py",
   "mimetype": "text/x-python",
   "name": "python",
   "nbconvert_exporter": "python",
   "pygments_lexer": "ipython3",
   "version": "3.12.8"
  }
 },
 "nbformat": 4,
 "nbformat_minor": 5
}
