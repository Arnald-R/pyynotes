{
 "cells": [
  {
   "cell_type": "code",
   "execution_count": null,
   "id": "cd3986a9-1e05-4701-b8aa-bc65bb91d2b4",
   "metadata": {},
   "outputs": [],
   "source": [
    "#created at 20250415"
   ]
  },
  {
   "cell_type": "code",
   "execution_count": null,
   "id": "1114da4d-9feb-4465-abbd-692d8ff471ec",
   "metadata": {},
   "outputs": [],
   "source": [
    "#Multiple Exception Handling "
   ]
  },
  {
   "cell_type": "code",
   "execution_count": 1,
   "id": "1abe7fde-0fc4-4096-9f18-86f2506c1f89",
   "metadata": {},
   "outputs": [
    {
     "name": "stdout",
     "output_type": "stream",
     "text": [
      "\n",
      " === Multiple Exception Handling ===\n"
     ]
    }
   ],
   "source": [
    "print(\"\\n === Multiple Exception Handling ===\")"
   ]
  },
  {
   "cell_type": "code",
   "execution_count": 2,
   "id": "e3145ee8-d2f4-48eb-ae16-9f3ff5d34431",
   "metadata": {},
   "outputs": [],
   "source": [
    "def process_data(data):\n",
    "    try:\n",
    "        value = int(data)\n",
    "        result = 100/value\n",
    "        print(f\"result:{result}\")\n",
    "    except (valueError, ZeroDivisionError) as e:\n",
    "        print(f\"Error occured:{type(e).__name__}\")"
   ]
  },
  {
   "cell_type": "code",
   "execution_count": 3,
   "id": "3c385b39-49e1-41dd-bc14-8bf427487d42",
   "metadata": {},
   "outputs": [
    {
     "ename": "NameError",
     "evalue": "name 'valueError' is not defined",
     "output_type": "error",
     "traceback": [
      "\u001b[0;31m---------------------------------------------------------------------------\u001b[0m",
      "\u001b[0;31mValueError\u001b[0m                                Traceback (most recent call last)",
      "Cell \u001b[0;32mIn[2], line 3\u001b[0m, in \u001b[0;36mprocess_data\u001b[0;34m(data)\u001b[0m\n\u001b[1;32m      2\u001b[0m \u001b[38;5;28;01mtry\u001b[39;00m:\n\u001b[0;32m----> 3\u001b[0m     value \u001b[38;5;241m=\u001b[39m \u001b[38;5;28;43mint\u001b[39;49m\u001b[43m(\u001b[49m\u001b[43mdata\u001b[49m\u001b[43m)\u001b[49m\n\u001b[1;32m      4\u001b[0m     result \u001b[38;5;241m=\u001b[39m \u001b[38;5;241m100\u001b[39m\u001b[38;5;241m/\u001b[39mvalue\n",
      "\u001b[0;31mValueError\u001b[0m: invalid literal for int() with base 10: 'abc'",
      "\nDuring handling of the above exception, another exception occurred:\n",
      "\u001b[0;31mNameError\u001b[0m                                 Traceback (most recent call last)",
      "Cell \u001b[0;32mIn[3], line 1\u001b[0m\n\u001b[0;32m----> 1\u001b[0m \u001b[43mprocess_data\u001b[49m\u001b[43m(\u001b[49m\u001b[38;5;124;43m'\u001b[39;49m\u001b[38;5;124;43mabc\u001b[39;49m\u001b[38;5;124;43m'\u001b[39;49m\u001b[43m)\u001b[49m\n",
      "Cell \u001b[0;32mIn[2], line 6\u001b[0m, in \u001b[0;36mprocess_data\u001b[0;34m(data)\u001b[0m\n\u001b[1;32m      4\u001b[0m     result \u001b[38;5;241m=\u001b[39m \u001b[38;5;241m100\u001b[39m\u001b[38;5;241m/\u001b[39mvalue\n\u001b[1;32m      5\u001b[0m     \u001b[38;5;28mprint\u001b[39m(\u001b[38;5;124mf\u001b[39m\u001b[38;5;124m\"\u001b[39m\u001b[38;5;124mresult:\u001b[39m\u001b[38;5;132;01m{\u001b[39;00mresult\u001b[38;5;132;01m}\u001b[39;00m\u001b[38;5;124m\"\u001b[39m)\n\u001b[0;32m----> 6\u001b[0m \u001b[38;5;28;01mexcept\u001b[39;00m (\u001b[43mvalueError\u001b[49m, \u001b[38;5;167;01mZeroDivisionError\u001b[39;00m) \u001b[38;5;28;01mas\u001b[39;00m e:\n\u001b[1;32m      7\u001b[0m     \u001b[38;5;28mprint\u001b[39m(\u001b[38;5;124mf\u001b[39m\u001b[38;5;124m\"\u001b[39m\u001b[38;5;124mError occured:\u001b[39m\u001b[38;5;132;01m{\u001b[39;00m\u001b[38;5;28mtype\u001b[39m(e)\u001b[38;5;241m.\u001b[39m\u001b[38;5;18m__name__\u001b[39m\u001b[38;5;132;01m}\u001b[39;00m\u001b[38;5;124m\"\u001b[39m)\n",
      "\u001b[0;31mNameError\u001b[0m: name 'valueError' is not defined"
     ]
    }
   ],
   "source": [
    "process_data('abc')"
   ]
  },
  {
   "cell_type": "code",
   "execution_count": null,
   "id": "dd455122-8a45-4486-8530-2984dfdc5f5e",
   "metadata": {},
   "outputs": [],
   "source": []
  },
  {
   "cell_type": "code",
   "execution_count": null,
   "id": "548423ff-90ed-4427-9970-86924dca8ef8",
   "metadata": {},
   "outputs": [],
   "source": [
    "\n"
   ]
  },
  {
   "cell_type": "code",
   "execution_count": null,
   "id": "d96ec938-9d28-4a45-9e71-43b4977daac0",
   "metadata": {},
   "outputs": [],
   "source": []
  }
 ],
 "metadata": {
  "kernelspec": {
   "display_name": "Python 3 (ipykernel)",
   "language": "python",
   "name": "python3"
  },
  "language_info": {
   "codemirror_mode": {
    "name": "ipython",
    "version": 3
   },
   "file_extension": ".py",
   "mimetype": "text/x-python",
   "name": "python",
   "nbconvert_exporter": "python",
   "pygments_lexer": "ipython3",
   "version": "3.12.8"
  }
 },
 "nbformat": 4,
 "nbformat_minor": 5
}
