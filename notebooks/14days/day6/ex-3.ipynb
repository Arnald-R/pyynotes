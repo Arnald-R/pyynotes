{
 "cells": [
  {
   "cell_type": "code",
   "execution_count": null,
   "id": "b14fec3c-2acd-464b-91fe-19dd9d0e4465",
   "metadata": {},
   "outputs": [],
   "source": [
    "#created at 20250412"
   ]
  },
  {
   "cell_type": "code",
   "execution_count": null,
   "id": "049722d4-29ec-4126-b838-b01c8799423d",
   "metadata": {},
   "outputs": [],
   "source": [
    "#Inheritance"
   ]
  },
  {
   "cell_type": "code",
   "execution_count": 1,
   "id": "2297eac7-6537-4769-a5c6-66a9b8ccd3ae",
   "metadata": {},
   "outputs": [
    {
     "name": "stdout",
     "output_type": "stream",
     "text": [
      "\n",
      " === Inheritance ===\n"
     ]
    }
   ],
   "source": [
    "print(\"\\n === Inheritance ===\")"
   ]
  },
  {
   "cell_type": "code",
   "execution_count": 2,
   "id": "05fddae2-308b-4c12-ae7e-204b5af7a2bb",
   "metadata": {},
   "outputs": [],
   "source": [
    "class Animal:\n",
    "    def  __init__(self, name):\n",
    "        self.name = name\n",
    "\n",
    "    def speak(self):\n",
    "        pass"
   ]
  },
  {
   "cell_type": "code",
   "execution_count": 3,
   "id": "624e0a0d-ad0b-4853-961c-230ac3d309c5",
   "metadata": {},
   "outputs": [],
   "source": [
    "class Cat(Animal):\n",
    "    def speak(self):\n",
    "        return f\" {self.name} says meow\""
   ]
  },
  {
   "cell_type": "code",
   "execution_count": 4,
   "id": "3ce180d7-ce83-4fa8-8592-a8eaed32c43f",
   "metadata": {},
   "outputs": [],
   "source": [
    "class Duck(Animal):\n",
    "    def speak(self):\n",
    "        return f\"{self.name} says buck buck\""
   ]
  },
  {
   "cell_type": "code",
   "execution_count": 5,
   "id": "bdd72437-405a-4b0e-9f8d-129bcbbad4c8",
   "metadata": {},
   "outputs": [
    {
     "name": "stdout",
     "output_type": "stream",
     "text": [
      " Whiskers says meow\n",
      "Donald says buck buck\n"
     ]
    }
   ],
   "source": [
    "animals = [Cat(\"Whiskers\"), Duck(\"Donald\")]\n",
    "for animal in animals:\n",
    "    print(animal.speak())"
   ]
  },
  {
   "cell_type": "code",
   "execution_count": null,
   "id": "21e0ca17-e326-4a6c-869b-e25f0fd71e8c",
   "metadata": {},
   "outputs": [],
   "source": []
  }
 ],
 "metadata": {
  "kernelspec": {
   "display_name": "Python 3 (ipykernel)",
   "language": "python",
   "name": "python3"
  },
  "language_info": {
   "codemirror_mode": {
    "name": "ipython",
    "version": 3
   },
   "file_extension": ".py",
   "mimetype": "text/x-python",
   "name": "python",
   "nbconvert_exporter": "python",
   "pygments_lexer": "ipython3",
   "version": "3.12.8"
  }
 },
 "nbformat": 4,
 "nbformat_minor": 5
}
