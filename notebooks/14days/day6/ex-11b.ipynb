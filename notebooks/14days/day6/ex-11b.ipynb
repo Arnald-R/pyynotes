{
 "cells": [
  {
   "cell_type": "code",
   "execution_count": null,
   "id": "5df97b9d-67db-4023-80aa-2c225e07a9fb",
   "metadata": {},
   "outputs": [],
   "source": [
    "#created at 20250415"
   ]
  },
  {
   "cell_type": "code",
   "execution_count": null,
   "id": "f6106348-3088-4470-a7bb-6967e7bd55a4",
   "metadata": {},
   "outputs": [],
   "source": [
    "#Magic Methods"
   ]
  },
  {
   "cell_type": "code",
   "execution_count": 1,
   "id": "700634fe-b927-4f85-996a-54a04822ae6b",
   "metadata": {},
   "outputs": [
    {
     "name": "stdout",
     "output_type": "stream",
     "text": [
      "\n",
      " === Magic Methods ===\n"
     ]
    }
   ],
   "source": [
    "print(\"\\n === Magic Methods ===\")"
   ]
  },
  {
   "cell_type": "code",
   "execution_count": 2,
   "id": "5fe3d296-6657-4494-8d85-e07292923f27",
   "metadata": {},
   "outputs": [],
   "source": [
    "class Point:\n",
    "    def __init__(self, x, y):\n",
    "        self.x = x\n",
    "        self.y = y\n",
    "\n",
    "    def __str__(self):\n",
    "        return f\"Point({self.x}, {self.y})\"\n",
    "\n",
    "    def __add__(self, other):\n",
    "        return Point(self.x + other.x, self.y + other.y)\n",
    "        "
   ]
  },
  {
   "cell_type": "code",
   "execution_count": 3,
   "id": "cac06de6-7ef4-403d-836d-69c270f145e7",
   "metadata": {},
   "outputs": [],
   "source": [
    "p1 = Point(1, 2)"
   ]
  },
  {
   "cell_type": "code",
   "execution_count": 4,
   "id": "d39f2edb-69f4-4738-9f43-143a9e361dca",
   "metadata": {},
   "outputs": [],
   "source": [
    "p2 = Point(2, 3)"
   ]
  },
  {
   "cell_type": "code",
   "execution_count": 5,
   "id": "dd5d1641-5d7a-43c9-b6d5-215003f58b9a",
   "metadata": {},
   "outputs": [
    {
     "name": "stdout",
     "output_type": "stream",
     "text": [
      "sum of points:Point(3, 5)\n"
     ]
    }
   ],
   "source": [
    "print(f\"sum of points:{ p1 + p2}\")"
   ]
  },
  {
   "cell_type": "code",
   "execution_count": null,
   "id": "7b9fc7b6-0cd3-4987-9e27-2c5e4260016d",
   "metadata": {},
   "outputs": [],
   "source": []
  }
 ],
 "metadata": {
  "kernelspec": {
   "display_name": "Python 3 (ipykernel)",
   "language": "python",
   "name": "python3"
  },
  "language_info": {
   "codemirror_mode": {
    "name": "ipython",
    "version": 3
   },
   "file_extension": ".py",
   "mimetype": "text/x-python",
   "name": "python",
   "nbconvert_exporter": "python",
   "pygments_lexer": "ipython3",
   "version": "3.12.8"
  }
 },
 "nbformat": 4,
 "nbformat_minor": 5
}
