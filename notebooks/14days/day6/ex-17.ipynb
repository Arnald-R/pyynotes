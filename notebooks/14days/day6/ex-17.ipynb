{
 "cells": [
  {
   "cell_type": "code",
   "execution_count": null,
   "id": "fbdc4ac6-3fa6-467c-9107-411e738887c3",
   "metadata": {},
   "outputs": [],
   "source": [
    "#created at 20250415"
   ]
  },
  {
   "cell_type": "code",
   "execution_count": null,
   "id": "72d150c9-1092-40ea-b562-beab27cafed3",
   "metadata": {},
   "outputs": [],
   "source": [
    "#Multiple Constructors"
   ]
  },
  {
   "cell_type": "raw",
   "id": "07d9bd6b-40e0-48c1-9079-ea37fdd314f2",
   "metadata": {},
   "source": [
    "print(\"\\n === Multiple Constructors ===\")"
   ]
  },
  {
   "cell_type": "code",
   "execution_count": 2,
   "id": "0df120b7-007f-4079-b2e8-d2af3c9223b6",
   "metadata": {},
   "outputs": [],
   "source": [
    "class Time:\n",
    "    def __init__(self, hours, minutes):\n",
    "        self.hours = hours\n",
    "        self.minutes = minutes\n",
    "\n",
    "    @classmethod\n",
    "    def from_string(cls, time_str):\n",
    "        hours, minutes = map(int,time_str.split(':'))\n",
    "        return cls(hours, minutes)\n",
    "\n",
    "    @classmethod \n",
    "    def from_minutes(cls, minutes):\n",
    "        hours = minutes // 60\n",
    "        mins = minutes % 60\n",
    "        return cls(hours, mins)\n"
   ]
  },
  {
   "cell_type": "code",
   "execution_count": 3,
   "id": "8719c0da-7246-462a-87d4-74b2849de515",
   "metadata": {},
   "outputs": [],
   "source": [
    "time1 = Time(1,3)"
   ]
  },
  {
   "cell_type": "code",
   "execution_count": 4,
   "id": "0f41f5f2-4841-4db2-bda6-2df1e6b7aa9c",
   "metadata": {},
   "outputs": [],
   "source": [
    "time2 = Time.from_string(\"2:45\")"
   ]
  },
  {
   "cell_type": "code",
   "execution_count": 5,
   "id": "4ce45e7f-4446-42ba-ad86-d68c35f4266a",
   "metadata": {},
   "outputs": [],
   "source": [
    "time3 = Time.from_minutes(150)"
   ]
  },
  {
   "cell_type": "code",
   "execution_count": null,
   "id": "9b1fb9e4-0a1a-4d2e-b837-695c1d8aca97",
   "metadata": {},
   "outputs": [],
   "source": []
  }
 ],
 "metadata": {
  "kernelspec": {
   "display_name": "Python 3 (ipykernel)",
   "language": "python",
   "name": "python3"
  },
  "language_info": {
   "codemirror_mode": {
    "name": "ipython",
    "version": 3
   },
   "file_extension": ".py",
   "mimetype": "text/x-python",
   "name": "python",
   "nbconvert_exporter": "python",
   "pygments_lexer": "ipython3",
   "version": "3.12.8"
  }
 },
 "nbformat": 4,
 "nbformat_minor": 5
}
