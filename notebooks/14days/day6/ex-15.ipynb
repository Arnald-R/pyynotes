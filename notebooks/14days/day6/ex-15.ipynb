{
 "cells": [
  {
   "cell_type": "code",
   "execution_count": null,
   "id": "f09b4e2f-0b24-4f0b-b18d-d920746f5107",
   "metadata": {},
   "outputs": [],
   "source": [
    "#created at 202504"
   ]
  },
  {
   "cell_type": "code",
   "execution_count": null,
   "id": "b851b693-8c0d-441c-bd33-5f9cb0572ef9",
   "metadata": {},
   "outputs": [],
   "source": [
    "#Class variables"
   ]
  },
  {
   "cell_type": "code",
   "execution_count": 1,
   "id": "ecd72967-7bad-4141-afd9-63d000685f6c",
   "metadata": {},
   "outputs": [
    {
     "name": "stdout",
     "output_type": "stream",
     "text": [
      "\n",
      " === Class varaibels ===\n"
     ]
    }
   ],
   "source": [
    "print(\"\\n === Class varaibels ===\")"
   ]
  },
  {
   "cell_type": "code",
   "execution_count": 2,
   "id": "d11aaffc-a141-4330-aab5-414db9d8ef30",
   "metadata": {},
   "outputs": [],
   "source": [
    "class Student:\n",
    "    school_name = \"Python High Schol\" # class variable\n",
    "\n",
    "    def __init__(self, name):\n",
    "        self.name = name # instance variable\n",
    "        "
   ]
  },
  {
   "cell_type": "code",
   "execution_count": 3,
   "id": "0c1e96b7-5b29-4fb8-948c-1b8a4886e9e7",
   "metadata": {},
   "outputs": [],
   "source": [
    "student1 = Student(\"Arnald\")\n",
    "student2 = Student(\"Ambu\")"
   ]
  },
  {
   "cell_type": "code",
   "execution_count": 4,
   "id": "59ed4b97-f517-442a-9b78-aa94cbd94ce5",
   "metadata": {},
   "outputs": [
    {
     "name": "stdout",
     "output_type": "stream",
     "text": [
      "school:Python High Schol\n"
     ]
    }
   ],
   "source": [
    "print(f\"school:{Student.school_name}\")"
   ]
  },
  {
   "cell_type": "code",
   "execution_count": 5,
   "id": "ceb0b56a-de56-483d-b6ad-aec53a93e356",
   "metadata": {},
   "outputs": [
    {
     "name": "stdout",
     "output_type": "stream",
     "text": [
      "students:Arnald,Ambu\n"
     ]
    }
   ],
   "source": [
    "print(f\"students:{student1.name},{student2.name}\")"
   ]
  },
  {
   "cell_type": "code",
   "execution_count": null,
   "id": "d53f34a0-5df4-48e4-bb43-b1e156094aaf",
   "metadata": {},
   "outputs": [],
   "source": []
  }
 ],
 "metadata": {
  "kernelspec": {
   "display_name": "Python 3 (ipykernel)",
   "language": "python",
   "name": "python3"
  },
  "language_info": {
   "codemirror_mode": {
    "name": "ipython",
    "version": 3
   },
   "file_extension": ".py",
   "mimetype": "text/x-python",
   "name": "python",
   "nbconvert_exporter": "python",
   "pygments_lexer": "ipython3",
   "version": "3.12.8"
  }
 },
 "nbformat": 4,
 "nbformat_minor": 5
}
