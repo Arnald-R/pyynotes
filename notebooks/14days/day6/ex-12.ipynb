{
 "cells": [
  {
   "cell_type": "code",
   "execution_count": null,
   "id": "0567ed64-62de-4264-a80c-bec81297087b",
   "metadata": {},
   "outputs": [],
   "source": [
    "#created at 20250415"
   ]
  },
  {
   "cell_type": "code",
   "execution_count": null,
   "id": "2af5a41f-c356-477e-9785-8c0570161510",
   "metadata": {},
   "outputs": [],
   "source": [
    "#Composition"
   ]
  },
  {
   "cell_type": "code",
   "execution_count": 1,
   "id": "a62f789d-4db0-41c3-896c-39d35a48f83a",
   "metadata": {},
   "outputs": [
    {
     "name": "stdout",
     "output_type": "stream",
     "text": [
      "\n",
      " === Composition ===\n"
     ]
    }
   ],
   "source": [
    "print(\"\\n === Composition ===\")"
   ]
  },
  {
   "cell_type": "code",
   "execution_count": 2,
   "id": "c9896c5b-acf9-4f2b-b3e4-cada46cab826",
   "metadata": {},
   "outputs": [],
   "source": [
    "class Engine:\n",
    "    def start(self):\n",
    "        return \"Engine Started\""
   ]
  },
  {
   "cell_type": "code",
   "execution_count": 3,
   "id": "0fcc11b8-8d10-481f-aaee-37efe737de68",
   "metadata": {},
   "outputs": [],
   "source": [
    "class Car:\n",
    "    def __init__(self):\n",
    "        self.engine = Engine()\n",
    "\n",
    "    def start(self):\n",
    "        return self.engine.start()"
   ]
  },
  {
   "cell_type": "code",
   "execution_count": 4,
   "id": "9806c83b-d8bf-4afd-8f26-85165efbb9dc",
   "metadata": {},
   "outputs": [
    {
     "name": "stdout",
     "output_type": "stream",
     "text": [
      "Engine Started\n"
     ]
    }
   ],
   "source": [
    "car = Car()\n",
    "\n",
    "print(car.start())"
   ]
  },
  {
   "cell_type": "code",
   "execution_count": null,
   "id": "513918aa-cc21-4b57-a9f3-9f92171214eb",
   "metadata": {},
   "outputs": [],
   "source": []
  }
 ],
 "metadata": {
  "kernelspec": {
   "display_name": "Python 3 (ipykernel)",
   "language": "python",
   "name": "python3"
  },
  "language_info": {
   "codemirror_mode": {
    "name": "ipython",
    "version": 3
   },
   "file_extension": ".py",
   "mimetype": "text/x-python",
   "name": "python",
   "nbconvert_exporter": "python",
   "pygments_lexer": "ipython3",
   "version": "3.12.8"
  }
 },
 "nbformat": 4,
 "nbformat_minor": 5
}
