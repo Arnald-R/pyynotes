{
 "cells": [
  {
   "cell_type": "code",
   "execution_count": null,
   "id": "3e0c44a8-abcd-410d-a1bd-b49987de5904",
   "metadata": {},
   "outputs": [],
   "source": [
    "#created at 20250415"
   ]
  },
  {
   "cell_type": "code",
   "execution_count": null,
   "id": "16c47a10-a1e4-4547-b83b-48dc500cbf84",
   "metadata": {},
   "outputs": [],
   "source": [
    "#MEthod Chaining"
   ]
  },
  {
   "cell_type": "code",
   "execution_count": 1,
   "id": "09568510-4b58-41aa-900d-0860d0fe922b",
   "metadata": {},
   "outputs": [
    {
     "name": "stdout",
     "output_type": "stream",
     "text": [
      "\n",
      " === Method Chaining ===\n"
     ]
    }
   ],
   "source": [
    "print(\"\\n === Method Chaining ===\")"
   ]
  },
  {
   "cell_type": "code",
   "execution_count": 2,
   "id": "73bb4f14-f5bb-4641-b0d5-df2e7d06556c",
   "metadata": {},
   "outputs": [],
   "source": [
    "class Calculator:\n",
    "    def __init__(self):\n",
    "        self.result = 0\n",
    "\n",
    "    def add(Self, n):\n",
    "        self.result += n\n",
    "        return self\n",
    "\n",
    "    def multipy(self, n):\n",
    "        self.result *= n\n",
    "        return self\n",
    "\n",
    "    def get_result(self):\n",
    "        return self.result"
   ]
  },
  {
   "cell_type": "code",
   "execution_count": 3,
   "id": "f8ae2435-885d-4db1-81b9-646d0ec20967",
   "metadata": {},
   "outputs": [],
   "source": [
    "calc = Calculator()"
   ]
  },
  {
   "cell_type": "code",
   "execution_count": 5,
   "id": "cd276ec2-4423-4f30-9870-73a0bd9eb8ab",
   "metadata": {},
   "outputs": [
    {
     "ename": "NameError",
     "evalue": "name 'self' is not defined",
     "output_type": "error",
     "traceback": [
      "\u001b[0;31m---------------------------------------------------------------------------\u001b[0m",
      "\u001b[0;31mNameError\u001b[0m                                 Traceback (most recent call last)",
      "Cell \u001b[0;32mIn[5], line 1\u001b[0m\n\u001b[0;32m----> 1\u001b[0m \u001b[38;5;28mprint\u001b[39m(\u001b[43mcalc\u001b[49m\u001b[38;5;241;43m.\u001b[39;49m\u001b[43madd\u001b[49m\u001b[43m(\u001b[49m\u001b[38;5;241;43m5\u001b[39;49m\u001b[43m)\u001b[49m\u001b[38;5;241m.\u001b[39mmultiply(\u001b[38;5;241m2\u001b[39m)\u001b[38;5;241m.\u001b[39madd(\u001b[38;5;241m3\u001b[39m)\u001b[38;5;241m.\u001b[39mget_result())\n",
      "Cell \u001b[0;32mIn[2], line 6\u001b[0m, in \u001b[0;36mCalculator.add\u001b[0;34m(Self, n)\u001b[0m\n\u001b[1;32m      5\u001b[0m \u001b[38;5;28;01mdef\u001b[39;00m\u001b[38;5;250m \u001b[39m\u001b[38;5;21madd\u001b[39m(Self, n):\n\u001b[0;32m----> 6\u001b[0m     \u001b[38;5;28;43mself\u001b[39;49m\u001b[38;5;241m.\u001b[39mresult \u001b[38;5;241m+\u001b[39m\u001b[38;5;241m=\u001b[39m n\n\u001b[1;32m      7\u001b[0m     \u001b[38;5;28;01mreturn\u001b[39;00m \u001b[38;5;28mself\u001b[39m\n",
      "\u001b[0;31mNameError\u001b[0m: name 'self' is not defined"
     ]
    }
   ],
   "source": [
    "print(calc.add(5).multiply(2).add(3).get_result())"
   ]
  },
  {
   "cell_type": "code",
   "execution_count": null,
   "id": "6931d982-912b-437c-ac9f-1fa34a4a4aae",
   "metadata": {},
   "outputs": [],
   "source": []
  }
 ],
 "metadata": {
  "kernelspec": {
   "display_name": "Python 3 (ipykernel)",
   "language": "python",
   "name": "python3"
  },
  "language_info": {
   "codemirror_mode": {
    "name": "ipython",
    "version": 3
   },
   "file_extension": ".py",
   "mimetype": "text/x-python",
   "name": "python",
   "nbconvert_exporter": "python",
   "pygments_lexer": "ipython3",
   "version": "3.12.8"
  }
 },
 "nbformat": 4,
 "nbformat_minor": 5
}
