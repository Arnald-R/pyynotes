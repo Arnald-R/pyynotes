{
 "cells": [
  {
   "cell_type": "code",
   "execution_count": null,
   "id": "8bf3392f-ec47-42a1-ba88-804520a7e4f3",
   "metadata": {},
   "outputs": [],
   "source": [
    "#created at 20250412"
   ]
  },
  {
   "cell_type": "code",
   "execution_count": null,
   "id": "fc60ed5f-cf79-4110-9ab2-82c429ed6f5c",
   "metadata": {},
   "outputs": [],
   "source": [
    "#class with properties"
   ]
  },
  {
   "cell_type": "code",
   "execution_count": 1,
   "id": "773b817b-4fe2-4b42-9a98-838434d61129",
   "metadata": {},
   "outputs": [
    {
     "name": "stdout",
     "output_type": "stream",
     "text": [
      "\n",
      " === Class with properties ===\n"
     ]
    }
   ],
   "source": [
    "print(\"\\n === Class with properties ===\")"
   ]
  },
  {
   "cell_type": "code",
   "execution_count": 3,
   "id": "f41bf65c-f935-4ada-bec8-a836d88facaf",
   "metadata": {},
   "outputs": [],
   "source": [
    "class Circle:\n",
    "    def __init__(self, radius):\n",
    "        self.radius = radius\n",
    "\n",
    "    @property\n",
    "    def radius(self):\n",
    "        return self._radius\n",
    "\n",
    "    @radius.setter\n",
    "    def radius(self, value):\n",
    "        if value > 0:\n",
    "            self._radius = value \n",
    "        else:\n",
    "            raise ValueError(\"Radius must be Positive\")\n",
    "\n",
    "    @property\n",
    "    def area(self):\n",
    "        return 3.14 * self._radius * 2"
   ]
  },
  {
   "cell_type": "code",
   "execution_count": 4,
   "id": "f9ec00bf-30d2-4a44-a8b5-98cac7d14d18",
   "metadata": {},
   "outputs": [],
   "source": [
    "circle = Circle(5)"
   ]
  },
  {
   "cell_type": "code",
   "execution_count": 5,
   "id": "16fc8f92-cbc4-4ceb-9102-2a18c62e3a22",
   "metadata": {},
   "outputs": [
    {
     "name": "stdout",
     "output_type": "stream",
     "text": [
      "circle area:31.400000000000002\n"
     ]
    }
   ],
   "source": [
    "print(f\"circle area:{circle.area}\")"
   ]
  },
  {
   "cell_type": "code",
   "execution_count": null,
   "id": "c9b1c1d5-d3f7-451d-8dbe-c9fb11e04538",
   "metadata": {},
   "outputs": [],
   "source": []
  }
 ],
 "metadata": {
  "kernelspec": {
   "display_name": "Python 3 (ipykernel)",
   "language": "python",
   "name": "python3"
  },
  "language_info": {
   "codemirror_mode": {
    "name": "ipython",
    "version": 3
   },
   "file_extension": ".py",
   "mimetype": "text/x-python",
   "name": "python",
   "nbconvert_exporter": "python",
   "pygments_lexer": "ipython3",
   "version": "3.12.8"
  }
 },
 "nbformat": 4,
 "nbformat_minor": 5
}
