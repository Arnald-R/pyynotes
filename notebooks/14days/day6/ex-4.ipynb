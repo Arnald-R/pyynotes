{
 "cells": [
  {
   "cell_type": "code",
   "execution_count": null,
   "id": "f3e62cc3-dc6c-44b5-9f42-661b1929ff56",
   "metadata": {},
   "outputs": [],
   "source": [
    "#created at 20250412"
   ]
  },
  {
   "cell_type": "code",
   "execution_count": null,
   "id": "ef71bcbe-ba26-4925-8024-41ab620af3ce",
   "metadata": {},
   "outputs": [],
   "source": [
    "#Multiple Inheritance"
   ]
  },
  {
   "cell_type": "code",
   "execution_count": 1,
   "id": "8b00a813-70ce-4756-a04a-116629f20cd5",
   "metadata": {},
   "outputs": [
    {
     "name": "stdout",
     "output_type": "stream",
     "text": [
      "\n",
      " === Multiple Inheritance ===\n"
     ]
    }
   ],
   "source": [
    "print(\"\\n === Multiple Inheritance ===\")"
   ]
  },
  {
   "cell_type": "code",
   "execution_count": 2,
   "id": "e49e5100-23a4-4ff1-b591-630b4fbebdb4",
   "metadata": {},
   "outputs": [],
   "source": [
    "class flying:\n",
    "    def fly(self):\n",
    "        return \" i can fly\"\n",
    "        "
   ]
  },
  {
   "cell_type": "code",
   "execution_count": 3,
   "id": "69f33ce8-aae8-45ee-ae47-fda8325bdda5",
   "metadata": {},
   "outputs": [],
   "source": [
    "class Swimming:\n",
    "    def swin(self):\n",
    "        return \"i can swim\"\n",
    "        "
   ]
  },
  {
   "cell_type": "code",
   "execution_count": 6,
   "id": "46873af5-9066-45d5-a4ce-2afd2181d40d",
   "metadata": {},
   "outputs": [],
   "source": [
    "class Duck(flying, Swimming):\n",
    "    def speak(self):\n",
    "        return f\"{self.name} says quack\""
   ]
  },
  {
   "cell_type": "code",
   "execution_count": 9,
   "id": "0fc93e3a-8bfb-4fa5-a7d0-702d4e92388b",
   "metadata": {},
   "outputs": [],
   "source": [
    "duck = Duck()"
   ]
  },
  {
   "cell_type": "code",
   "execution_count": 10,
   "id": "38ae34f6-d6df-451b-913e-a0afb9f00c13",
   "metadata": {},
   "outputs": [
    {
     "name": "stdout",
     "output_type": "stream",
     "text": [
      " i can fly\n"
     ]
    }
   ],
   "source": [
    "print(duck.fly())"
   ]
  },
  {
   "cell_type": "code",
   "execution_count": 12,
   "id": "77573cf0-3a72-48fc-ad47-3b86237c7a38",
   "metadata": {},
   "outputs": [
    {
     "name": "stdout",
     "output_type": "stream",
     "text": [
      "i can swim\n"
     ]
    }
   ],
   "source": [
    "print(duck.swin())"
   ]
  },
  {
   "cell_type": "code",
   "execution_count": null,
   "id": "be59cee4-5a70-4df5-819c-4d54c45d4f7d",
   "metadata": {},
   "outputs": [],
   "source": []
  }
 ],
 "metadata": {
  "kernelspec": {
   "display_name": "Python 3 (ipykernel)",
   "language": "python",
   "name": "python3"
  },
  "language_info": {
   "codemirror_mode": {
    "name": "ipython",
    "version": 3
   },
   "file_extension": ".py",
   "mimetype": "text/x-python",
   "name": "python",
   "nbconvert_exporter": "python",
   "pygments_lexer": "ipython3",
   "version": "3.12.8"
  }
 },
 "nbformat": 4,
 "nbformat_minor": 5
}
