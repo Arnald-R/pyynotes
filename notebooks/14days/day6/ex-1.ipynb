{
 "cells": [
  {
   "cell_type": "code",
   "execution_count": null,
   "id": "b5e1d474-8262-43ad-b1be-58ea3979f593",
   "metadata": {},
   "outputs": [],
   "source": [
    "#created at 20250412"
   ]
  },
  {
   "cell_type": "code",
   "execution_count": null,
   "id": "ba10c4d9-3e83-4ca0-b4dd-d5cfaf8bbff9",
   "metadata": {},
   "outputs": [],
   "source": [
    "#Day 6- OOPS"
   ]
  },
  {
   "cell_type": "code",
   "execution_count": null,
   "id": "0eaaff3b-40d4-4bde-8f21-6fd60510013d",
   "metadata": {},
   "outputs": [],
   "source": [
    "#Basic Class Definition"
   ]
  },
  {
   "cell_type": "code",
   "execution_count": 1,
   "id": "13d15543-0598-4c0f-b0a7-9689b9a7169f",
   "metadata": {},
   "outputs": [
    {
     "name": "stdout",
     "output_type": "stream",
     "text": [
      "\n",
      " === Basic Class Files ===\n"
     ]
    }
   ],
   "source": [
    "print(\"\\n === Basic Class Files ===\")"
   ]
  },
  {
   "cell_type": "code",
   "execution_count": 2,
   "id": "9bfd9443-11f1-4fcf-82c9-aa7373ac0dd2",
   "metadata": {},
   "outputs": [],
   "source": [
    "class Dog:\n",
    "    def __init__(self, name, age):\n",
    "        self.name = name\n",
    "        self.age = age\n",
    "\n",
    "    def bark(self):\n",
    "        return f\"{self.name} says woof!\""
   ]
  },
  {
   "cell_type": "code",
   "execution_count": 3,
   "id": "3b3c9704-062e-4bdb-8e8a-6559586bfec8",
   "metadata": {},
   "outputs": [],
   "source": [
    "dog1 =  Dog(\"max\",3)"
   ]
  },
  {
   "cell_type": "code",
   "execution_count": 5,
   "id": "dfc1a78e-9f95-458b-8790-3fb41b56c2bb",
   "metadata": {},
   "outputs": [
    {
     "name": "stdout",
     "output_type": "stream",
     "text": [
      "max says woof!\n"
     ]
    }
   ],
   "source": [
    "print(dog1.bark())"
   ]
  },
  {
   "cell_type": "code",
   "execution_count": null,
   "id": "5684be41-9c82-4297-a585-3846e17e2f51",
   "metadata": {},
   "outputs": [],
   "source": []
  }
 ],
 "metadata": {
  "kernelspec": {
   "display_name": "Python 3 (ipykernel)",
   "language": "python",
   "name": "python3"
  },
  "language_info": {
   "codemirror_mode": {
    "name": "ipython",
    "version": 3
   },
   "file_extension": ".py",
   "mimetype": "text/x-python",
   "name": "python",
   "nbconvert_exporter": "python",
   "pygments_lexer": "ipython3",
   "version": "3.12.8"
  }
 },
 "nbformat": 4,
 "nbformat_minor": 5
}
