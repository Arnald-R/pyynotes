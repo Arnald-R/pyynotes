{
 "cells": [
  {
   "cell_type": "code",
   "execution_count": null,
   "id": "5d3eae45-6f47-4270-a319-0851af5c8c9e",
   "metadata": {},
   "outputs": [],
   "source": [
    "#created at 20250415"
   ]
  },
  {
   "cell_type": "code",
   "execution_count": null,
   "id": "a27c2875-dde8-4f50-adda-0a3a66f72ba9",
   "metadata": {},
   "outputs": [],
   "source": [
    "#Static Methods "
   ]
  },
  {
   "cell_type": "code",
   "execution_count": 1,
   "id": "beae2a67-3fc1-4f1f-a7bd-4c993a866f4d",
   "metadata": {},
   "outputs": [
    {
     "name": "stdout",
     "output_type": "stream",
     "text": [
      "\n",
      " === Static methods ===\n"
     ]
    }
   ],
   "source": [
    "print(\"\\n === Static methods ===\")"
   ]
  },
  {
   "cell_type": "code",
   "execution_count": 6,
   "id": "ee4c3fc4-c01b-4cae-96ed-246392c4b27c",
   "metadata": {},
   "outputs": [],
   "source": [
    "class Mathoperations:\n",
    "    @staticmethod\n",
    "    def add(x, y):\n",
    "        return x + y\n",
    "\n",
    "    def multiply(x, y):\n",
    "        return x * y"
   ]
  },
  {
   "cell_type": "code",
   "execution_count": 7,
   "id": "f62130cf-d792-4286-bec0-ce59db775a07",
   "metadata": {},
   "outputs": [
    {
     "name": "stdout",
     "output_type": "stream",
     "text": [
      "add :8\n"
     ]
    }
   ],
   "source": [
    "print(f\"add :{Mathoperations.add(5, 3)}\")"
   ]
  },
  {
   "cell_type": "code",
   "execution_count": 8,
   "id": "1341ebcf-9183-4d38-be11-e5480c9f3a12",
   "metadata": {},
   "outputs": [
    {
     "name": "stdout",
     "output_type": "stream",
     "text": [
      "multiply :20\n"
     ]
    }
   ],
   "source": [
    "print(f\"multiply :{Mathoperations.multiply(5, 4)}\")"
   ]
  },
  {
   "cell_type": "code",
   "execution_count": null,
   "id": "44d6ba29-3791-4942-a87f-848c87fe70c6",
   "metadata": {},
   "outputs": [],
   "source": []
  }
 ],
 "metadata": {
  "kernelspec": {
   "display_name": "Python 3 (ipykernel)",
   "language": "python",
   "name": "python3"
  },
  "language_info": {
   "codemirror_mode": {
    "name": "ipython",
    "version": 3
   },
   "file_extension": ".py",
   "mimetype": "text/x-python",
   "name": "python",
   "nbconvert_exporter": "python",
   "pygments_lexer": "ipython3",
   "version": "3.12.8"
  }
 },
 "nbformat": 4,
 "nbformat_minor": 5
}
