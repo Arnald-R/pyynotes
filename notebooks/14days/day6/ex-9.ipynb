{
 "cells": [
  {
   "cell_type": "code",
   "execution_count": null,
   "id": "e689394d-a800-4827-a052-e457fb495f3e",
   "metadata": {},
   "outputs": [],
   "source": [
    "#created at 20250215"
   ]
  },
  {
   "cell_type": "code",
   "execution_count": null,
   "id": "1b5773c5-09d4-4501-b9e1-7405e29b29cb",
   "metadata": {},
   "outputs": [],
   "source": [
    "#Class Methods"
   ]
  },
  {
   "cell_type": "code",
   "execution_count": 1,
   "id": "5eac9f0b-be9f-41b1-8761-81eadba6b41a",
   "metadata": {},
   "outputs": [
    {
     "name": "stdout",
     "output_type": "stream",
     "text": [
      "\n",
      " === Class Methods ===\n"
     ]
    }
   ],
   "source": [
    "print(\"\\n === Class Methods ===\")"
   ]
  },
  {
   "cell_type": "code",
   "execution_count": 2,
   "id": "bb8029f3-56a8-4005-be30-9b2ecf06b158",
   "metadata": {},
   "outputs": [],
   "source": [
    "class Date:\n",
    "    def __init__(self, year, month, day):\n",
    "        self.year = year\n",
    "        self.month = month\n",
    "        self.date = day\n",
    "\n",
    "\n",
    "    @classmethod\n",
    "    def from_string(cls, date_string):\n",
    "        year, month, day = map(int, date_string.split('-'))\n",
    "        return cls(year, month, day)\n",
    "\n",
    "    def __str__(self):\n",
    "        return f\"{self.year}-{self.month}-{self.day}\""
   ]
  },
  {
   "cell_type": "code",
   "execution_count": 3,
   "id": "5fbe8326-ed90-477d-8504-2774a97115ed",
   "metadata": {},
   "outputs": [],
   "source": [
    "date = Date.from_string(\"2024-04-15\")"
   ]
  },
  {
   "cell_type": "code",
   "execution_count": 4,
   "id": "208109a0-292a-4496-845e-e2e5d89eb9aa",
   "metadata": {},
   "outputs": [
    {
     "ename": "AttributeError",
     "evalue": "'Date' object has no attribute 'day'",
     "output_type": "error",
     "traceback": [
      "\u001b[0;31m---------------------------------------------------------------------------\u001b[0m",
      "\u001b[0;31mAttributeError\u001b[0m                            Traceback (most recent call last)",
      "Cell \u001b[0;32mIn[4], line 1\u001b[0m\n\u001b[0;32m----> 1\u001b[0m \u001b[38;5;28mprint\u001b[39m(\u001b[38;5;124mf\u001b[39m\u001b[38;5;124m\"\u001b[39m\u001b[38;5;124mDate:\u001b[39m\u001b[38;5;132;43;01m{\u001b[39;49;00m\u001b[43mdate\u001b[49m\u001b[38;5;132;43;01m}\u001b[39;49;00m\u001b[38;5;124m\"\u001b[39m)\n",
      "Cell \u001b[0;32mIn[2], line 14\u001b[0m, in \u001b[0;36mDate.__str__\u001b[0;34m(self)\u001b[0m\n\u001b[1;32m     13\u001b[0m \u001b[38;5;28;01mdef\u001b[39;00m\u001b[38;5;250m \u001b[39m\u001b[38;5;21m__str__\u001b[39m(\u001b[38;5;28mself\u001b[39m):\n\u001b[0;32m---> 14\u001b[0m     \u001b[38;5;28;01mreturn\u001b[39;00m \u001b[38;5;124mf\u001b[39m\u001b[38;5;124m\"\u001b[39m\u001b[38;5;132;01m{\u001b[39;00m\u001b[38;5;28mself\u001b[39m\u001b[38;5;241m.\u001b[39myear\u001b[38;5;132;01m}\u001b[39;00m\u001b[38;5;124m-\u001b[39m\u001b[38;5;132;01m{\u001b[39;00m\u001b[38;5;28mself\u001b[39m\u001b[38;5;241m.\u001b[39mmonth\u001b[38;5;132;01m}\u001b[39;00m\u001b[38;5;124m-\u001b[39m\u001b[38;5;132;01m{\u001b[39;00m\u001b[38;5;28;43mself\u001b[39;49m\u001b[38;5;241;43m.\u001b[39;49m\u001b[43mday\u001b[49m\u001b[38;5;132;01m}\u001b[39;00m\u001b[38;5;124m\"\u001b[39m\n",
      "\u001b[0;31mAttributeError\u001b[0m: 'Date' object has no attribute 'day'"
     ]
    }
   ],
   "source": [
    "print(f\"Date:{date}\")"
   ]
  },
  {
   "cell_type": "code",
   "execution_count": null,
   "id": "40641b8d-1cf0-457e-9524-e0e07dfd6841",
   "metadata": {},
   "outputs": [],
   "source": []
  }
 ],
 "metadata": {
  "kernelspec": {
   "display_name": "Python 3 (ipykernel)",
   "language": "python",
   "name": "python3"
  },
  "language_info": {
   "codemirror_mode": {
    "name": "ipython",
    "version": 3
   },
   "file_extension": ".py",
   "mimetype": "text/x-python",
   "name": "python",
   "nbconvert_exporter": "python",
   "pygments_lexer": "ipython3",
   "version": "3.12.8"
  }
 },
 "nbformat": 4,
 "nbformat_minor": 5
}
