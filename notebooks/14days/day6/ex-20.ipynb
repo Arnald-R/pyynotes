{
 "cells": [
  {
   "cell_type": "code",
   "execution_count": null,
   "id": "ecb127f4-e958-4299-9538-6e9c27663985",
   "metadata": {},
   "outputs": [],
   "source": [
    "#created at 20250416"
   ]
  },
  {
   "cell_type": "code",
   "execution_count": null,
   "id": "1a18cdb9-8d6e-4180-9dc4-66f113b4c26e",
   "metadata": {},
   "outputs": [],
   "source": [
    "#Descriptor"
   ]
  },
  {
   "cell_type": "code",
   "execution_count": 1,
   "id": "a8bb3f15-c6dd-4724-b1cb-b34a6f79ce95",
   "metadata": {},
   "outputs": [
    {
     "name": "stdout",
     "output_type": "stream",
     "text": [
      "\n",
      " === Descriptor ===\n"
     ]
    }
   ],
   "source": [
    "print(\"\\n === Descriptor ===\")"
   ]
  },
  {
   "cell_type": "code",
   "execution_count": 11,
   "id": "73750d6b-ef63-4ecf-a75e-594cc1f8e15a",
   "metadata": {},
   "outputs": [
    {
     "ename": "NameError",
     "evalue": "name 'self' is not defined",
     "output_type": "error",
     "traceback": [
      "\u001b[0;31m---------------------------------------------------------------------------\u001b[0m",
      "\u001b[0;31mNameError\u001b[0m                                 Traceback (most recent call last)",
      "Cell \u001b[0;32mIn[11], line 25\u001b[0m\n\u001b[1;32m     22\u001b[0m     \u001b[38;5;28;01mdef\u001b[39;00m\u001b[38;5;250m \u001b[39m\u001b[38;5;21m__init__\u001b[39m(slef, score):\n\u001b[1;32m     23\u001b[0m         \u001b[38;5;28mself\u001b[39m\u001b[38;5;241m.\u001b[39mscore \u001b[38;5;241m=\u001b[39m score\n\u001b[0;32m---> 25\u001b[0m Student_score \u001b[38;5;241m=\u001b[39m \u001b[43mScore\u001b[49m\u001b[43m(\u001b[49m\u001b[38;5;241;43m85\u001b[39;49m\u001b[43m)\u001b[49m\n\u001b[1;32m     27\u001b[0m \u001b[38;5;28mprint\u001b[39m(\u001b[38;5;124mf\u001b[39m\u001b[38;5;124m\"\u001b[39m\u001b[38;5;124mStudent score :\u001b[39m\u001b[38;5;132;01m{\u001b[39;00mStudent_score\u001b[38;5;241m.\u001b[39mscore\u001b[38;5;132;01m}\u001b[39;00m\u001b[38;5;124m\"\u001b[39m)\n",
      "Cell \u001b[0;32mIn[11], line 23\u001b[0m, in \u001b[0;36mScore.__init__\u001b[0;34m(slef, score)\u001b[0m\n\u001b[1;32m     22\u001b[0m \u001b[38;5;28;01mdef\u001b[39;00m\u001b[38;5;250m \u001b[39m\u001b[38;5;21m__init__\u001b[39m(slef, score):\n\u001b[0;32m---> 23\u001b[0m     \u001b[38;5;28;43mself\u001b[39;49m\u001b[38;5;241m.\u001b[39mscore \u001b[38;5;241m=\u001b[39m score\n",
      "\u001b[0;31mNameError\u001b[0m: name 'self' is not defined"
     ]
    }
   ],
   "source": [
    "class Validator:\n",
    "    def __init__(self, min_value=None, max_value=None):\n",
    "        self.min_value = min_value\n",
    "        self.max_value = max_value\n",
    "\n",
    "    def __get__(self, instance, owner):\n",
    "        return instance.__dict__[self.name]\n",
    "\n",
    "    def __set__(self, instance, value):\n",
    "        if self.min_value is not None and value < self.min_value:\n",
    "            raise ValueError (f\"Value Cannot be less than {self.min_value}\")\n",
    "        if self.max_value is not None and value < self.max_value:\n",
    "            raise ValueError (f\"Value cannot be less than {self.max_value}\")\n",
    "        instance.__dict__[self.name] = value\n",
    "\n",
    "    def __set_name__(self, owner, name):\n",
    "        self.name = name\n",
    "\n",
    "class Score:\n",
    "    score = Validator(0, 100)\n",
    "\n",
    "    def __init__(slef, score):\n",
    "        self.score = score\n",
    "\n",
    "Student_score = Score(85)\n",
    "\n",
    "print(f\"Student score :{Student_score.score}\")"
   ]
  },
  {
   "cell_type": "code",
   "execution_count": 9,
   "id": "2a52ea43-5d34-48ee-ab99-dce62cff2b89",
   "metadata": {},
   "outputs": [
    {
     "ename": "NameError",
     "evalue": "name 'self' is not defined",
     "output_type": "error",
     "traceback": [
      "\u001b[0;31m---------------------------------------------------------------------------\u001b[0m",
      "\u001b[0;31mNameError\u001b[0m                                 Traceback (most recent call last)",
      "Cell \u001b[0;32mIn[9], line 1\u001b[0m\n\u001b[0;32m----> 1\u001b[0m Student_score \u001b[38;5;241m=\u001b[39m \u001b[43mScore\u001b[49m\u001b[43m(\u001b[49m\u001b[38;5;241;43m85\u001b[39;49m\u001b[43m)\u001b[49m\n",
      "Cell \u001b[0;32mIn[8], line 23\u001b[0m, in \u001b[0;36mScore.__init__\u001b[0;34m(slef, score)\u001b[0m\n\u001b[1;32m     22\u001b[0m \u001b[38;5;28;01mdef\u001b[39;00m\u001b[38;5;250m \u001b[39m\u001b[38;5;21m__init__\u001b[39m(slef, score):\n\u001b[0;32m---> 23\u001b[0m     \u001b[38;5;28;43mself\u001b[39;49m\u001b[38;5;241m.\u001b[39mscore \u001b[38;5;241m=\u001b[39m score\n",
      "\u001b[0;31mNameError\u001b[0m: name 'self' is not defined"
     ]
    }
   ],
   "source": [
    "Student_score = Score(85)"
   ]
  },
  {
   "cell_type": "code",
   "execution_count": 10,
   "id": "82b1b798-1ea4-4b47-a7a6-676c81aac566",
   "metadata": {},
   "outputs": [
    {
     "ename": "NameError",
     "evalue": "name 'Student_score' is not defined",
     "output_type": "error",
     "traceback": [
      "\u001b[0;31m---------------------------------------------------------------------------\u001b[0m",
      "\u001b[0;31mNameError\u001b[0m                                 Traceback (most recent call last)",
      "Cell \u001b[0;32mIn[10], line 1\u001b[0m\n\u001b[0;32m----> 1\u001b[0m \u001b[38;5;28mprint\u001b[39m(\u001b[38;5;124mf\u001b[39m\u001b[38;5;124m\"\u001b[39m\u001b[38;5;124mStudent score :\u001b[39m\u001b[38;5;132;01m{\u001b[39;00m\u001b[43mStudent_score\u001b[49m\u001b[38;5;241m.\u001b[39mscore\u001b[38;5;132;01m}\u001b[39;00m\u001b[38;5;124m\"\u001b[39m)\n",
      "\u001b[0;31mNameError\u001b[0m: name 'Student_score' is not defined"
     ]
    }
   ],
   "source": [
    "print(f\"Student score :{Student_score.score}\")"
   ]
  },
  {
   "cell_type": "code",
   "execution_count": 12,
   "id": "a74f913e-a9ba-4502-a2f6-9a520fcbf0a7",
   "metadata": {},
   "outputs": [
    {
     "name": "stdout",
     "output_type": "stream",
     "text": [
      "Student score: 85\n"
     ]
    }
   ],
   "source": [
    "class Validator:\n",
    "    def __init__(self, min_value=None, max_value=None):\n",
    "        self.min_value = min_value\n",
    "        self.max_value = max_value\n",
    "    \n",
    "    def __get__(self, instance, owner):\n",
    "        return instance.__dict__[self.name]\n",
    "    \n",
    "    def __set__(self, instance, value):\n",
    "        if self.min_value is not None and value < self.min_value:\n",
    "            raise ValueError(f\"Value cannot be less than {self.min_value}\")\n",
    "        if self.max_value is not None and value > self.max_value:\n",
    "            raise ValueError(f\"Value cannot be greater than {self.max_value}\")\n",
    "        instance.__dict__[self.name] = value\n",
    "    \n",
    "    def __set_name__(self, owner, name):\n",
    "        self.name = name\n",
    "\n",
    "class Score:\n",
    "    score = Validator(0, 100)\n",
    "    \n",
    "    def __init__(self, score):\n",
    "        self.score = score\n",
    "\n",
    "student_score = Score(85)\n",
    "print(f\"Student score: {student_score.score}\") "
   ]
  },
  {
   "cell_type": "code",
   "execution_count": null,
   "id": "4116539b-1724-4857-a3ad-221147c9cc24",
   "metadata": {},
   "outputs": [],
   "source": []
  }
 ],
 "metadata": {
  "kernelspec": {
   "display_name": "Python 3 (ipykernel)",
   "language": "python",
   "name": "python3"
  },
  "language_info": {
   "codemirror_mode": {
    "name": "ipython",
    "version": 3
   },
   "file_extension": ".py",
   "mimetype": "text/x-python",
   "name": "python",
   "nbconvert_exporter": "python",
   "pygments_lexer": "ipython3",
   "version": "3.12.8"
  }
 },
 "nbformat": 4,
 "nbformat_minor": 5
}
