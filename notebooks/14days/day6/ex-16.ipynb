{
 "cells": [
  {
   "cell_type": "code",
   "execution_count": null,
   "id": "0be4905e-048e-4f67-91f1-9c43fc7e53d6",
   "metadata": {},
   "outputs": [],
   "source": [
    "#created at 20250415"
   ]
  },
  {
   "cell_type": "code",
   "execution_count": null,
   "id": "e9478cf1-e26f-4b1b-9864-f4f8f4c3a2fa",
   "metadata": {},
   "outputs": [],
   "source": [
    "#Private Methods "
   ]
  },
  {
   "cell_type": "code",
   "execution_count": 1,
   "id": "64b228c1-dd73-4729-b394-bdcec97c14aa",
   "metadata": {},
   "outputs": [
    {
     "name": "stdout",
     "output_type": "stream",
     "text": [
      "\n",
      " === Private Methods === \n"
     ]
    }
   ],
   "source": [
    "print(\"\\n === Private Methods === \")"
   ]
  },
  {
   "cell_type": "code",
   "execution_count": 2,
   "id": "24fab5fb-f8a3-4707-9c42-a005ecd872df",
   "metadata": {},
   "outputs": [],
   "source": [
    "class processor:\n",
    "    def __init__(self, data):\n",
    "        self.data = data\n",
    "\n",
    "    def process(self):\n",
    "        processed_data = self.__clean_data()\n",
    "        return self.__format_data(processed_data)\n",
    "\n",
    "    def __clean_data(Self):\n",
    "        return self.data.strip()\n",
    "\n",
    "    def __format_data(self, data):\n",
    "        return data.upper()\n",
    "                "
   ]
  },
  {
   "cell_type": "code",
   "execution_count": 4,
   "id": "6846eb74-1b6e-48aa-a28b-c6b9a2825a47",
   "metadata": {},
   "outputs": [],
   "source": [
    "proc = processor(\"Heloo World \")"
   ]
  },
  {
   "cell_type": "code",
   "execution_count": 5,
   "id": "b053f1fa-59de-4fed-9318-5d7db8e58481",
   "metadata": {},
   "outputs": [
    {
     "ename": "NameError",
     "evalue": "name 'self' is not defined",
     "output_type": "error",
     "traceback": [
      "\u001b[0;31m---------------------------------------------------------------------------\u001b[0m",
      "\u001b[0;31mNameError\u001b[0m                                 Traceback (most recent call last)",
      "Cell \u001b[0;32mIn[5], line 1\u001b[0m\n\u001b[0;32m----> 1\u001b[0m \u001b[38;5;28mprint\u001b[39m(\u001b[38;5;124mf\u001b[39m\u001b[38;5;124m\"\u001b[39m\u001b[38;5;124mprocessed :\u001b[39m\u001b[38;5;132;01m{\u001b[39;00m\u001b[43mproc\u001b[49m\u001b[38;5;241;43m.\u001b[39;49m\u001b[43mprocess\u001b[49m\u001b[43m(\u001b[49m\u001b[43m)\u001b[49m\u001b[38;5;132;01m}\u001b[39;00m\u001b[38;5;124m\"\u001b[39m)\n",
      "Cell \u001b[0;32mIn[2], line 6\u001b[0m, in \u001b[0;36mprocessor.process\u001b[0;34m(self)\u001b[0m\n\u001b[1;32m      5\u001b[0m \u001b[38;5;28;01mdef\u001b[39;00m\u001b[38;5;250m \u001b[39m\u001b[38;5;21mprocess\u001b[39m(\u001b[38;5;28mself\u001b[39m):\n\u001b[0;32m----> 6\u001b[0m     processed_data \u001b[38;5;241m=\u001b[39m \u001b[38;5;28;43mself\u001b[39;49m\u001b[38;5;241;43m.\u001b[39;49m\u001b[43m__clean_data\u001b[49m\u001b[43m(\u001b[49m\u001b[43m)\u001b[49m\n\u001b[1;32m      7\u001b[0m     \u001b[38;5;28;01mreturn\u001b[39;00m \u001b[38;5;28mself\u001b[39m\u001b[38;5;241m.\u001b[39m__format_data(processed_data)\n",
      "Cell \u001b[0;32mIn[2], line 10\u001b[0m, in \u001b[0;36mprocessor.__clean_data\u001b[0;34m(Self)\u001b[0m\n\u001b[1;32m      9\u001b[0m \u001b[38;5;28;01mdef\u001b[39;00m\u001b[38;5;250m \u001b[39m\u001b[38;5;21m__clean_data\u001b[39m(Self):\n\u001b[0;32m---> 10\u001b[0m     \u001b[38;5;28;01mreturn\u001b[39;00m \u001b[38;5;28;43mself\u001b[39;49m\u001b[38;5;241m.\u001b[39mdata\u001b[38;5;241m.\u001b[39mstrip()\n",
      "\u001b[0;31mNameError\u001b[0m: name 'self' is not defined"
     ]
    }
   ],
   "source": [
    "print(f\"processed :{proc.process()}\")"
   ]
  },
  {
   "cell_type": "code",
   "execution_count": null,
   "id": "39aff3de-ee0e-46a1-adb0-94cd5ee4cbbe",
   "metadata": {},
   "outputs": [],
   "source": []
  }
 ],
 "metadata": {
  "kernelspec": {
   "display_name": "Python 3 (ipykernel)",
   "language": "python",
   "name": "python3"
  },
  "language_info": {
   "codemirror_mode": {
    "name": "ipython",
    "version": 3
   },
   "file_extension": ".py",
   "mimetype": "text/x-python",
   "name": "python",
   "nbconvert_exporter": "python",
   "pygments_lexer": "ipython3",
   "version": "3.12.8"
  }
 },
 "nbformat": 4,
 "nbformat_minor": 5
}
