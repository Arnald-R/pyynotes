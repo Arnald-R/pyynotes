{
 "cells": [
  {
   "cell_type": "code",
   "execution_count": null,
   "id": "4757c3fc-c9a1-43fa-9087-71d91e9756e2",
   "metadata": {},
   "outputs": [],
   "source": [
    "#created at 20250415"
   ]
  },
  {
   "cell_type": "code",
   "execution_count": null,
   "id": "d258149a-c993-4635-8102-0046f05fef98",
   "metadata": {},
   "outputs": [],
   "source": [
    "#Property decorators"
   ]
  },
  {
   "cell_type": "code",
   "execution_count": 1,
   "id": "867e19e1-fa23-4c28-b87e-4d05fcf11420",
   "metadata": {},
   "outputs": [
    {
     "name": "stdout",
     "output_type": "stream",
     "text": [
      "\n",
      " === Property Decorators === \n"
     ]
    }
   ],
   "source": [
    "print(\"\\n === Property Decorators === \")"
   ]
  },
  {
   "cell_type": "code",
   "execution_count": 5,
   "id": "af3749b4-337c-4b1e-9a5e-98363161b846",
   "metadata": {},
   "outputs": [
    {
     "name": "stdout",
     "output_type": "stream",
     "text": [
      "temparture:25\n",
      "fahrenheit:77.0\n"
     ]
    }
   ],
   "source": [
    "class Temperature:\n",
    "    def __init__(self, celsius):\n",
    "        self._celsius = celsius\n",
    "\n",
    "    @property\n",
    "    def celsius(self):\n",
    "        return self._celsius\n",
    "\n",
    "    @property\n",
    "    def fahrenheit(self):\n",
    "        return (self._celsius * 9/5) + 32\n",
    "\n",
    "    @fahrenheit.setter\n",
    "    def fahrenheit(self, value):\n",
    "        self._celsius = (value - 32) * 5/9\n",
    "\n",
    "temp = Temperature(25)\n",
    "print(f\"temparture:{temp.celsius}\")\n",
    "print(f\"fahrenheit:{temp.fahrenheit}\")"
   ]
  },
  {
   "cell_type": "code",
   "execution_count": 3,
   "id": "322464af-bdf1-4e8f-bf2b-8821ba969f58",
   "metadata": {},
   "outputs": [
    {
     "ename": "AttributeError",
     "evalue": "property 'celsius' of 'Temperature' object has no setter",
     "output_type": "error",
     "traceback": [
      "\u001b[0;31m---------------------------------------------------------------------------\u001b[0m",
      "\u001b[0;31mAttributeError\u001b[0m                            Traceback (most recent call last)",
      "Cell \u001b[0;32mIn[3], line 1\u001b[0m\n\u001b[0;32m----> 1\u001b[0m temp \u001b[38;5;241m=\u001b[39m \u001b[43mTemperature\u001b[49m\u001b[43m(\u001b[49m\u001b[38;5;241;43m25\u001b[39;49m\u001b[43m)\u001b[49m\n",
      "Cell \u001b[0;32mIn[2], line 3\u001b[0m, in \u001b[0;36mTemperature.__init__\u001b[0;34m(self, celsius)\u001b[0m\n\u001b[1;32m      2\u001b[0m \u001b[38;5;28;01mdef\u001b[39;00m\u001b[38;5;250m \u001b[39m\u001b[38;5;21m__init__\u001b[39m(\u001b[38;5;28mself\u001b[39m, celsius):\n\u001b[0;32m----> 3\u001b[0m     \u001b[38;5;28;43mself\u001b[39;49m\u001b[38;5;241;43m.\u001b[39;49m\u001b[43mcelsius\u001b[49m \u001b[38;5;241m=\u001b[39m celsius\n",
      "\u001b[0;31mAttributeError\u001b[0m: property 'celsius' of 'Temperature' object has no setter"
     ]
    }
   ],
   "source": [
    "        "
   ]
  },
  {
   "cell_type": "code",
   "execution_count": null,
   "id": "315a0387-7a13-40a7-bc09-0afd33277339",
   "metadata": {},
   "outputs": [],
   "source": []
  }
 ],
 "metadata": {
  "kernelspec": {
   "display_name": "Python 3 (ipykernel)",
   "language": "python",
   "name": "python3"
  },
  "language_info": {
   "codemirror_mode": {
    "name": "ipython",
    "version": 3
   },
   "file_extension": ".py",
   "mimetype": "text/x-python",
   "name": "python",
   "nbconvert_exporter": "python",
   "pygments_lexer": "ipython3",
   "version": "3.12.8"
  }
 },
 "nbformat": 4,
 "nbformat_minor": 5
}
