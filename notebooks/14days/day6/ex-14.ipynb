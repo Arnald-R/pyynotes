{
 "cells": [
  {
   "cell_type": "code",
   "execution_count": null,
   "id": "0698a315-0ab2-4ea2-9b25-154344907708",
   "metadata": {},
   "outputs": [],
   "source": [
    "#created at 20250415"
   ]
  },
  {
   "cell_type": "code",
   "execution_count": null,
   "id": "88bab796-9dc2-487f-8880-d618423c2f5a",
   "metadata": {},
   "outputs": [],
   "source": [
    "#Mixins"
   ]
  },
  {
   "cell_type": "code",
   "execution_count": 1,
   "id": "154a2d05-afee-45b5-871a-601b8f36ae98",
   "metadata": {},
   "outputs": [
    {
     "name": "stdout",
     "output_type": "stream",
     "text": [
      "\n",
      " === Mixins ===\n"
     ]
    }
   ],
   "source": [
    "print(\"\\n === Mixins ===\")"
   ]
  },
  {
   "cell_type": "code",
   "execution_count": 2,
   "id": "e5d0dcc8-41ef-40cb-be34-641a66ca0807",
   "metadata": {},
   "outputs": [],
   "source": [
    "class JSONMixin:\n",
    "    def to_json(self):\n",
    "        import json\n",
    "        return json.dumps(self.__dict__)\n",
    "\n",
    "class Person(JSONMixin):\n",
    "    def __init__(self, name, age):\n",
    "        self.name = name\n",
    "        self.age = age\n",
    "\n",
    "person = Person(\"John\", 30)"
   ]
  },
  {
   "cell_type": "code",
   "execution_count": 3,
   "id": "10decfa3-3199-4fe2-a3d1-5b78d7df4680",
   "metadata": {},
   "outputs": [
    {
     "name": "stdout",
     "output_type": "stream",
     "text": [
      "JSON:{\"name\": \"John\", \"age\": 30}\n"
     ]
    }
   ],
   "source": [
    "print(f\"JSON:{person.to_json()}\")"
   ]
  },
  {
   "cell_type": "code",
   "execution_count": null,
   "id": "e5af9f4a-6d57-4379-870e-86d5abb1815d",
   "metadata": {},
   "outputs": [],
   "source": []
  }
 ],
 "metadata": {
  "kernelspec": {
   "display_name": "Python 3 (ipykernel)",
   "language": "python",
   "name": "python3"
  },
  "language_info": {
   "codemirror_mode": {
    "name": "ipython",
    "version": 3
   },
   "file_extension": ".py",
   "mimetype": "text/x-python",
   "name": "python",
   "nbconvert_exporter": "python",
   "pygments_lexer": "ipython3",
   "version": "3.12.8"
  }
 },
 "nbformat": 4,
 "nbformat_minor": 5
}
