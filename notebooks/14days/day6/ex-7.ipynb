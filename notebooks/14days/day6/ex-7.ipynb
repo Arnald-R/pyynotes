{
 "cells": [
  {
   "cell_type": "code",
   "execution_count": null,
   "id": "faf6533b-da6b-451e-9dd4-533a0bc90cf2",
   "metadata": {},
   "outputs": [],
   "source": [
    "#created at 20250412"
   ]
  },
  {
   "cell_type": "code",
   "execution_count": null,
   "id": "12089604-9f43-45b5-9842-a0ab5e2db819",
   "metadata": {},
   "outputs": [],
   "source": [
    "#Abstract Base Class"
   ]
  },
  {
   "cell_type": "code",
   "execution_count": 1,
   "id": "6570a04b-8975-435e-8158-d62a0765f733",
   "metadata": {},
   "outputs": [
    {
     "name": "stdout",
     "output_type": "stream",
     "text": [
      "\n",
      " === Abstract Base Class ===\n"
     ]
    }
   ],
   "source": [
    "print(\"\\n === Abstract Base Class ===\")"
   ]
  },
  {
   "cell_type": "code",
   "execution_count": 4,
   "id": "112e88a3-2a69-4966-ad72-f0fe780d2863",
   "metadata": {},
   "outputs": [],
   "source": [
    "from abc import ABC, abstractmethod"
   ]
  },
  {
   "cell_type": "code",
   "execution_count": 5,
   "id": "5c858fee-7794-4937-a9b4-19eda38e53c9",
   "metadata": {},
   "outputs": [],
   "source": [
    "class Vehicle(ABC):\n",
    "    @abstractmethod\n",
    "    def start(self):\n",
    "        pass\n",
    "\n",
    "    "
   ]
  },
  {
   "cell_type": "code",
   "execution_count": 6,
   "id": "0ad01f77-d78e-4ca5-b27c-c155168a80f5",
   "metadata": {},
   "outputs": [],
   "source": [
    "class Car(Vehicle):\n",
    "    def start(self):\n",
    "        return \"engine started\""
   ]
  },
  {
   "cell_type": "code",
   "execution_count": 7,
   "id": "a003f05e-bb5e-4087-9d5d-e620e49c057f",
   "metadata": {},
   "outputs": [],
   "source": [
    "car = Car()"
   ]
  },
  {
   "cell_type": "code",
   "execution_count": 8,
   "id": "3b64a287-388a-4156-b0e3-e9a6151ddf1b",
   "metadata": {},
   "outputs": [
    {
     "name": "stdout",
     "output_type": "stream",
     "text": [
      "engine started\n"
     ]
    }
   ],
   "source": [
    "print(car.start())"
   ]
  },
  {
   "cell_type": "code",
   "execution_count": null,
   "id": "41634573-d88a-4a8f-93ba-3c1e8b7ad6a4",
   "metadata": {},
   "outputs": [],
   "source": []
  }
 ],
 "metadata": {
  "kernelspec": {
   "display_name": "Python 3 (ipykernel)",
   "language": "python",
   "name": "python3"
  },
  "language_info": {
   "codemirror_mode": {
    "name": "ipython",
    "version": 3
   },
   "file_extension": ".py",
   "mimetype": "text/x-python",
   "name": "python",
   "nbconvert_exporter": "python",
   "pygments_lexer": "ipython3",
   "version": "3.12.8"
  }
 },
 "nbformat": 4,
 "nbformat_minor": 5
}
