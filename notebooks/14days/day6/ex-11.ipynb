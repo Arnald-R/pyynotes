{
 "cells": [
  {
   "cell_type": "code",
   "execution_count": null,
   "id": "cd3986a9-1e05-4701-b8aa-bc65bb91d2b4",
   "metadata": {},
   "outputs": [],
   "source": [
    "#created at 20250415"
   ]
  },
  {
   "cell_type": "code",
   "execution_count": null,
   "id": "1114da4d-9feb-4465-abbd-692d8ff471ec",
   "metadata": {},
   "outputs": [],
   "source": [
    "#Multiple Exception Handling "
   ]
  },
  {
   "cell_type": "code",
   "execution_count": 1,
   "id": "1abe7fde-0fc4-4096-9f18-86f2506c1f89",
   "metadata": {},
   "outputs": [
    {
     "name": "stdout",
     "output_type": "stream",
     "text": [
      "\n",
      " === Multiple Exception Handling ===\n"
     ]
    }
   ],
   "source": [
    "print(\"\\n === Multiple Exception Handling ===\")"
   ]
  },
  {
   "cell_type": "code",
   "execution_count": null,
   "id": "e3145ee8-d2f4-48eb-ae16-9f3ff5d34431",
   "metadata": {},
   "outputs": [],
   "source": [
    "def process_data(data):\n",
    "    try:\n",
    "        value = int(data)\n",
    "        result = 100/value\n",
    "        print(f\"result:{result}\")\n",
    "    except (valueError, ZeroDivisionError) as e:\n",
    "        print(f\"Error occured:{t"
   ]
  },
  {
   "cell_type": "code",
   "execution_count": null,
   "id": "3c385b39-49e1-41dd-bc14-8bf427487d42",
   "metadata": {},
   "outputs": [],
   "source": []
  },
  {
   "cell_type": "code",
   "execution_count": null,
   "id": "dd455122-8a45-4486-8530-2984dfdc5f5e",
   "metadata": {},
   "outputs": [],
   "source": []
  }
 ],
 "metadata": {
  "kernelspec": {
   "display_name": "Python 3 (ipykernel)",
   "language": "python",
   "name": "python3"
  },
  "language_info": {
   "codemirror_mode": {
    "name": "ipython",
    "version": 3
   },
   "file_extension": ".py",
   "mimetype": "text/x-python",
   "name": "python",
   "nbconvert_exporter": "python",
   "pygments_lexer": "ipython3",
   "version": "3.12.8"
  }
 },
 "nbformat": 4,
 "nbformat_minor": 5
}
