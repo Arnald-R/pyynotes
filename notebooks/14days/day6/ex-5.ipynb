{
 "cells": [
  {
   "cell_type": "code",
   "execution_count": null,
   "id": "86311a9c-2156-4fe9-bb80-53deecec7953",
   "metadata": {},
   "outputs": [],
   "source": [
    "#created at 20250412"
   ]
  },
  {
   "cell_type": "code",
   "execution_count": null,
   "id": "45fd8470-262f-4536-8f24-bc1dd6bd1e5e",
   "metadata": {},
   "outputs": [],
   "source": [
    "#Encapsulation"
   ]
  },
  {
   "cell_type": "code",
   "execution_count": 1,
   "id": "5ac377e8-866a-47b7-a2a9-f9f48d24e6d8",
   "metadata": {},
   "outputs": [
    {
     "name": "stdout",
     "output_type": "stream",
     "text": [
      "\n",
      " === Encapsulation ===\n"
     ]
    }
   ],
   "source": [
    "print(\"\\n === Encapsulation ===\")"
   ]
  },
  {
   "cell_type": "code",
   "execution_count": 2,
   "id": "557b67b9-29c9-4a99-b703-4c6dc4385078",
   "metadata": {},
   "outputs": [],
   "source": [
    "class BankAccount:\n",
    "    def __init__(self):\n",
    "        self._balance = 0 #Private Attribute\n",
    "    \n",
    "    def deposit(self, amount):\n",
    "        if amount > 0:\n",
    "            self._balance += amount \n",
    "            return True \n",
    "        return False\n",
    "\n",
    "    def get_balance(self):\n",
    "        return self._balance"
   ]
  },
  {
   "cell_type": "code",
   "execution_count": 3,
   "id": "cb831a43-dbf7-4aeb-ba68-10a80185e382",
   "metadata": {},
   "outputs": [],
   "source": [
    "account = BankAccount()"
   ]
  },
  {
   "cell_type": "code",
   "execution_count": 4,
   "id": "c2609589-f138-4285-8442-1529d8c805d4",
   "metadata": {},
   "outputs": [
    {
     "data": {
      "text/plain": [
       "True"
      ]
     },
     "execution_count": 4,
     "metadata": {},
     "output_type": "execute_result"
    }
   ],
   "source": [
    "account.deposit(100)"
   ]
  },
  {
   "cell_type": "code",
   "execution_count": 5,
   "id": "d867f76d-78ba-4fba-ba4e-e7d4e039541a",
   "metadata": {},
   "outputs": [
    {
     "name": "stdout",
     "output_type": "stream",
     "text": [
      "Balance:100\n"
     ]
    }
   ],
   "source": [
    "print(f\"Balance:{account.get_balance()}\")"
   ]
  },
  {
   "cell_type": "code",
   "execution_count": null,
   "id": "b32e3fd3-dd6e-4e52-b20a-d8979a2bef74",
   "metadata": {},
   "outputs": [],
   "source": []
  }
 ],
 "metadata": {
  "kernelspec": {
   "display_name": "Python 3 (ipykernel)",
   "language": "python",
   "name": "python3"
  },
  "language_info": {
   "codemirror_mode": {
    "name": "ipython",
    "version": 3
   },
   "file_extension": ".py",
   "mimetype": "text/x-python",
   "name": "python",
   "nbconvert_exporter": "python",
   "pygments_lexer": "ipython3",
   "version": "3.12.8"
  }
 },
 "nbformat": 4,
 "nbformat_minor": 5
}
