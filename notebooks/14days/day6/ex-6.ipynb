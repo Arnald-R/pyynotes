{
 "cells": [
  {
   "cell_type": "code",
   "execution_count": null,
   "id": "b3e026cc-9509-43a3-972e-f59f2c70f023",
   "metadata": {},
   "outputs": [],
   "source": [
    "#created at 20250412"
   ]
  },
  {
   "cell_type": "code",
   "execution_count": null,
   "id": "12cd54a3-004e-4cb5-98d4-89d66d0bf585",
   "metadata": {},
   "outputs": [],
   "source": [
    "#Method overriding"
   ]
  },
  {
   "cell_type": "code",
   "execution_count": null,
   "id": "e1936451-f3d6-4022-95bc-bf6f4b0a4b8c",
   "metadata": {},
   "outputs": [],
   "source": [
    "print(\"\\n === Method overriding ===\")"
   ]
  },
  {
   "cell_type": "code",
   "execution_count": 1,
   "id": "60dec9ad-0186-44a3-9224-1fe63885f027",
   "metadata": {},
   "outputs": [],
   "source": [
    "class Shape:\n",
    "    def area(self):\n",
    "        return 0 "
   ]
  },
  {
   "cell_type": "code",
   "execution_count": 2,
   "id": "14658b1a-98e1-475e-80cc-3671eb94c064",
   "metadata": {},
   "outputs": [],
   "source": [
    "class Square(Shape):\n",
    "    def __init__(self, side):\n",
    "        self.side = side\n",
    "\n",
    "    def area(self):\n",
    "        return self.side ** 2"
   ]
  },
  {
   "cell_type": "code",
   "execution_count": 3,
   "id": "b90d0372-57e4-458b-a702-1d08b7d5aced",
   "metadata": {},
   "outputs": [],
   "source": [
    "square = Square(5)"
   ]
  },
  {
   "cell_type": "code",
   "execution_count": 5,
   "id": "20205814-44c2-476b-86a2-74f99a3d2a5f",
   "metadata": {},
   "outputs": [
    {
     "name": "stdout",
     "output_type": "stream",
     "text": [
      "Square area:25\n"
     ]
    }
   ],
   "source": [
    "print(f\"Square area:{square.area()}\")"
   ]
  },
  {
   "cell_type": "code",
   "execution_count": null,
   "id": "da427c1a-9177-458a-bbff-064878a66339",
   "metadata": {},
   "outputs": [],
   "source": []
  }
 ],
 "metadata": {
  "kernelspec": {
   "display_name": "Python 3 (ipykernel)",
   "language": "python",
   "name": "python3"
  },
  "language_info": {
   "codemirror_mode": {
    "name": "ipython",
    "version": 3
   },
   "file_extension": ".py",
   "mimetype": "text/x-python",
   "name": "python",
   "nbconvert_exporter": "python",
   "pygments_lexer": "ipython3",
   "version": "3.12.8"
  }
 },
 "nbformat": 4,
 "nbformat_minor": 5
}
