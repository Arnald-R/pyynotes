{
 "cells": [
  {
   "cell_type": "code",
   "execution_count": null,
   "id": "5c5b59c3-5fe8-4aae-a199-d154b5f1c35e",
   "metadata": {},
   "outputs": [],
   "source": [
    "#created at 20250423"
   ]
  },
  {
   "cell_type": "code",
   "execution_count": null,
   "id": "20188d5b-3071-4a0d-a186-dae4539843e7",
   "metadata": {},
   "outputs": [],
   "source": [
    "#Statistical Analysis"
   ]
  },
  {
   "cell_type": "code",
   "execution_count": 1,
   "id": "fcaedf3f-864c-4f25-a0be-db0c851aa429",
   "metadata": {},
   "outputs": [
    {
     "name": "stdout",
     "output_type": "stream",
     "text": [
      "\n",
      " === Statistical Analysis ===\n"
     ]
    }
   ],
   "source": [
    "print(\"\\n === Statistical Analysis ===\")"
   ]
  },
  {
   "cell_type": "code",
   "execution_count": 2,
   "id": "005bc026-59a4-499c-bf34-fa538fa1f5a1",
   "metadata": {},
   "outputs": [],
   "source": [
    "import numpy as np"
   ]
  },
  {
   "cell_type": "code",
   "execution_count": 3,
   "id": "60d6431d-853c-41a7-9870-763908e1e0a5",
   "metadata": {},
   "outputs": [],
   "source": [
    "data = np.random.randn(1000)"
   ]
  },
  {
   "cell_type": "code",
   "execution_count": 5,
   "id": "3e79e1c7-26fb-4c79-997d-926faf0595f9",
   "metadata": {},
   "outputs": [
    {
     "name": "stdout",
     "output_type": "stream",
     "text": [
      "Mean:\n",
      "-0.006732133134534475\n"
     ]
    }
   ],
   "source": [
    "print(f\"Mean:\\n{np.mean(data)}\")"
   ]
  },
  {
   "cell_type": "code",
   "execution_count": 6,
   "id": "641f0720-6a1a-4019-a1ce-c71f337a05d8",
   "metadata": {},
   "outputs": [
    {
     "name": "stdout",
     "output_type": "stream",
     "text": [
      "Median:\n",
      "-0.01543225462915951\n"
     ]
    }
   ],
   "source": [
    "print(f\"Median:\\n{np.median(data)}\")"
   ]
  },
  {
   "cell_type": "code",
   "execution_count": 7,
   "id": "833a0163-939d-42ec-9c57-30f483777247",
   "metadata": {},
   "outputs": [
    {
     "name": "stdout",
     "output_type": "stream",
     "text": [
      "Standard deviation: 0.9801066437421587\n"
     ]
    }
   ],
   "source": [
    "print(f\"Standard deviation: {np.std(data)}\")"
   ]
  },
  {
   "cell_type": "code",
   "execution_count": 8,
   "id": "ef66ee2c-8e4e-4ec5-96ba-39305e7f60b1",
   "metadata": {},
   "outputs": [
    {
     "name": "stdout",
     "output_type": "stream",
     "text": [
      "Correlation:\n",
      "[[1.         0.05143043]\n",
      " [0.05143043 1.        ]]\n"
     ]
    }
   ],
   "source": [
    "print(f\"Correlation:\\n{np.corrcoef(data, np.random.randn(1000))}\")"
   ]
  },
  {
   "cell_type": "code",
   "execution_count": null,
   "id": "f6290741-407e-45bc-b030-f2b51fa2af01",
   "metadata": {},
   "outputs": [],
   "source": []
  }
 ],
 "metadata": {
  "kernelspec": {
   "display_name": "Python 3 (ipykernel)",
   "language": "python",
   "name": "python3"
  },
  "language_info": {
   "codemirror_mode": {
    "name": "ipython",
    "version": 3
   },
   "file_extension": ".py",
   "mimetype": "text/x-python",
   "name": "python",
   "nbconvert_exporter": "python",
   "pygments_lexer": "ipython3",
   "version": "3.12.8"
  }
 },
 "nbformat": 4,
 "nbformat_minor": 5
}
