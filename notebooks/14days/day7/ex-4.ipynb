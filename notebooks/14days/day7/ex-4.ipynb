{
 "cells": [
  {
   "cell_type": "code",
   "execution_count": null,
   "id": "fd7c4eae-91b6-4c8b-a11d-8edc77c6e357",
   "metadata": {},
   "outputs": [],
   "source": [
    "#created at 20250421"
   ]
  },
  {
   "cell_type": "code",
   "execution_count": 4,
   "id": "7462fa7f-f8d3-4555-8fbf-d1be3dcd77f7",
   "metadata": {},
   "outputs": [],
   "source": [
    "import numpy as np"
   ]
  },
  {
   "cell_type": "code",
   "execution_count": 5,
   "id": "52224ed9-4811-40db-a8f4-dbfe835d487a",
   "metadata": {},
   "outputs": [],
   "source": [
    "#Array Indexing and Slicing"
   ]
  },
  {
   "cell_type": "code",
   "execution_count": 6,
   "id": "c07070d3-1f12-415e-9662-eca3e438008a",
   "metadata": {},
   "outputs": [
    {
     "name": "stdout",
     "output_type": "stream",
     "text": [
      "\n",
      " === Array Indexing and Slicing ===\n"
     ]
    }
   ],
   "source": [
    "print(\"\\n === Array Indexing and Slicing ===\")"
   ]
  },
  {
   "cell_type": "code",
   "execution_count": 7,
   "id": "3d771408-202a-4e9d-9eec-fe16abadcc10",
   "metadata": {},
   "outputs": [],
   "source": [
    "arr1 = np.array([[1, 2, 3],[4, 5, 6],[6, 7, 8]])"
   ]
  },
  {
   "cell_type": "code",
   "execution_count": 9,
   "id": "b683d8d3-3ee9-4c77-8246-9318ad7ca782",
   "metadata": {},
   "outputs": [
    {
     "name": "stdout",
     "output_type": "stream",
     "text": [
      "Element at (1,1):5\n"
     ]
    }
   ],
   "source": [
    "print(f\"Element at (1,1):{arr1[1, 1]}\")"
   ]
  },
  {
   "cell_type": "code",
   "execution_count": 11,
   "id": "f2d9f444-3ef0-44cf-b123-6b94060c1013",
   "metadata": {},
   "outputs": [
    {
     "name": "stdout",
     "output_type": "stream",
     "text": [
      "First row:[1 2 3]\n"
     ]
    }
   ],
   "source": [
    "print(f\"First row:{arr1[0,:]}\")"
   ]
  },
  {
   "cell_type": "code",
   "execution_count": 13,
   "id": "913e9b39-bd5e-42ce-bb0a-5f77a247d326",
   "metadata": {},
   "outputs": [
    {
     "name": "stdout",
     "output_type": "stream",
     "text": [
      "first column:[1 4 6]\n"
     ]
    }
   ],
   "source": [
    "print(f\"first column:{arr1[:,0]}\")"
   ]
  },
  {
   "cell_type": "code",
   "execution_count": 14,
   "id": "6a28613d-d5ac-4e8a-a094-9d739b50d450",
   "metadata": {},
   "outputs": [
    {
     "name": "stdout",
     "output_type": "stream",
     "text": [
      "Subarray:\n",
      "[[2 3]\n",
      " [5 6]]\n"
     ]
    }
   ],
   "source": [
    "print(f\"Subarray:\\n{arr1[0:2,1:3]}\")"
   ]
  },
  {
   "cell_type": "code",
   "execution_count": null,
   "id": "5639c78d-fb05-4947-beff-e3d26bab0e1c",
   "metadata": {},
   "outputs": [],
   "source": []
  }
 ],
 "metadata": {
  "kernelspec": {
   "display_name": "Python 3 (ipykernel)",
   "language": "python",
   "name": "python3"
  },
  "language_info": {
   "codemirror_mode": {
    "name": "ipython",
    "version": 3
   },
   "file_extension": ".py",
   "mimetype": "text/x-python",
   "name": "python",
   "nbconvert_exporter": "python",
   "pygments_lexer": "ipython3",
   "version": "3.12.8"
  }
 },
 "nbformat": 4,
 "nbformat_minor": 5
}
