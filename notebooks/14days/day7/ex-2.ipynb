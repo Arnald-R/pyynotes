{
 "cells": [
  {
   "cell_type": "code",
   "execution_count": null,
   "id": "9d8bbca3-ebc0-488a-87da-8ca9d467265c",
   "metadata": {},
   "outputs": [],
   "source": [
    "#created at 20250421"
   ]
  },
  {
   "cell_type": "code",
   "execution_count": null,
   "id": "cc200b7c-6210-4f9e-8295-497724a48af6",
   "metadata": {},
   "outputs": [],
   "source": [
    "#Basic Numpy Arrays"
   ]
  },
  {
   "cell_type": "code",
   "execution_count": 1,
   "id": "6824b3e5-1b83-4735-a739-110147c8e012",
   "metadata": {},
   "outputs": [
    {
     "name": "stdout",
     "output_type": "stream",
     "text": [
      "\n",
      " === Basic Numpy Arrays ===\n"
     ]
    }
   ],
   "source": [
    "print(\"\\n === Basic Numpy Arrays ===\")"
   ]
  },
  {
   "cell_type": "code",
   "execution_count": 3,
   "id": "d1f06bd5-6f56-4a04-a87d-0e267d98cf2a",
   "metadata": {},
   "outputs": [],
   "source": [
    "import numpy as np"
   ]
  },
  {
   "cell_type": "code",
   "execution_count": 4,
   "id": "ff90e612-1778-4798-87c3-2a1b503e8a1f",
   "metadata": {},
   "outputs": [],
   "source": [
    "arr1 = np.array([1, 2, 3, 4, 5])"
   ]
  },
  {
   "cell_type": "code",
   "execution_count": 10,
   "id": "3ec418f1-2171-448b-98c3-253af911143e",
   "metadata": {},
   "outputs": [],
   "source": [
    "arr2 = np.array([[1, 2, 3], [4, 5, 6]])"
   ]
  },
  {
   "cell_type": "code",
   "execution_count": 11,
   "id": "1de7f3c2-16f4-4b77-aed2-a513386d90a0",
   "metadata": {},
   "outputs": [
    {
     "name": "stdout",
     "output_type": "stream",
     "text": [
      "1D Array: [1 2 3 4 5]\n"
     ]
    }
   ],
   "source": [
    "print(f\"1D Array: {arr1}\")"
   ]
  },
  {
   "cell_type": "code",
   "execution_count": 12,
   "id": "f06fe037-f8d4-4a8d-aed6-dfcb9e3c428a",
   "metadata": {},
   "outputs": [
    {
     "name": "stdout",
     "output_type": "stream",
     "text": [
      "2D Array:\n",
      "[[1 2 3]\n",
      " [4 5 6]]\n"
     ]
    }
   ],
   "source": [
    "print(f\"2D Array:\\n{arr2}\")"
   ]
  },
  {
   "cell_type": "code",
   "execution_count": 14,
   "id": "a8d67f57-0c24-407f-a89b-37e611171a39",
   "metadata": {},
   "outputs": [
    {
     "name": "stdout",
     "output_type": "stream",
     "text": [
      "arry shapee:(2, 3)\n"
     ]
    }
   ],
   "source": [
    "print(f\"arry shapee:{arr2.shape}\")"
   ]
  },
  {
   "cell_type": "code",
   "execution_count": 15,
   "id": "13568aeb-12b3-4408-ba3b-d1d40b8189f9",
   "metadata": {},
   "outputs": [
    {
     "name": "stdout",
     "output_type": "stream",
     "text": [
      " Array Dimensions:2\n"
     ]
    }
   ],
   "source": [
    "print(f\" Array Dimensions:{arr2.ndim}\")"
   ]
  },
  {
   "cell_type": "code",
   "execution_count": null,
   "id": "3f353b96-a2ed-4668-aefc-9c5adead4c15",
   "metadata": {},
   "outputs": [],
   "source": [
    "#Array Creation Methods"
   ]
  },
  {
   "cell_type": "code",
   "execution_count": 16,
   "id": "bb648a6c-db74-4d82-a2f8-001fab8c1bc3",
   "metadata": {},
   "outputs": [
    {
     "name": "stdout",
     "output_type": "stream",
     "text": [
      "\n",
      " Array Creation Methods \n"
     ]
    }
   ],
   "source": [
    "print(\"\\n Array Creation Methods \")"
   ]
  },
  {
   "cell_type": "code",
   "execution_count": 22,
   "id": "46a42c2d-c999-4e28-a8af-29cfc34886f7",
   "metadata": {},
   "outputs": [],
   "source": [
    "zeros = np.zeros((2, 3))"
   ]
  },
  {
   "cell_type": "code",
   "execution_count": 23,
   "id": "11b4dd97-479d-4654-ad90-8d2d6c2caa5b",
   "metadata": {},
   "outputs": [],
   "source": [
    "ones = np.ones((2,2))"
   ]
  },
  {
   "cell_type": "code",
   "execution_count": 24,
   "id": "b4c964f7-12b2-4c7e-9b9b-e1294f338639",
   "metadata": {},
   "outputs": [],
   "source": [
    "random_arr = np.random.rand(3, 3)"
   ]
  },
  {
   "cell_type": "code",
   "execution_count": 25,
   "id": "7eca1690-0466-4824-9621-e8b0aad91925",
   "metadata": {},
   "outputs": [],
   "source": [
    "range_arr = np.arange(0, 10, 2)"
   ]
  },
  {
   "cell_type": "code",
   "execution_count": 26,
   "id": "c9666c6c-9e2e-49ad-8abb-21554aa5fad6",
   "metadata": {},
   "outputs": [
    {
     "name": "stdout",
     "output_type": "stream",
     "text": [
      "zeros:[[0. 0. 0.]\n",
      " [0. 0. 0.]]\n"
     ]
    }
   ],
   "source": [
    "print(f\"zeros:{zeros}\")"
   ]
  },
  {
   "cell_type": "code",
   "execution_count": 27,
   "id": "16c7d710-34aa-4c68-aac6-27a8ec881bd5",
   "metadata": {},
   "outputs": [
    {
     "name": "stdout",
     "output_type": "stream",
     "text": [
      "ones:[[1. 1.]\n",
      " [1. 1.]]\n"
     ]
    }
   ],
   "source": [
    "print(f\"ones:{ones}\")"
   ]
  },
  {
   "cell_type": "code",
   "execution_count": 28,
   "id": "b95b3f4a-2e27-4725-bb40-d35f2511c921",
   "metadata": {},
   "outputs": [
    {
     "name": "stdout",
     "output_type": "stream",
     "text": [
      "Random:[[0.59081775 0.0935357  0.08868859]\n",
      " [0.58074852 0.06797903 0.22512338]\n",
      " [0.11001029 0.88341247 0.68778503]]\n"
     ]
    }
   ],
   "source": [
    "print(f\"Random:{random_arr}\")"
   ]
  },
  {
   "cell_type": "code",
   "execution_count": 29,
   "id": "706b4db1-42e3-43ff-aacb-dc1ec6e411f6",
   "metadata": {},
   "outputs": [
    {
     "name": "stdout",
     "output_type": "stream",
     "text": [
      "range:[0 2 4 6 8]\n"
     ]
    }
   ],
   "source": [
    "print(f\"range:{range_arr}\")"
   ]
  },
  {
   "cell_type": "code",
   "execution_count": null,
   "id": "47192aa2-661e-4788-b404-1e959b99a92f",
   "metadata": {},
   "outputs": [],
   "source": []
  }
 ],
 "metadata": {
  "kernelspec": {
   "display_name": "Python 3 (ipykernel)",
   "language": "python",
   "name": "python3"
  },
  "language_info": {
   "codemirror_mode": {
    "name": "ipython",
    "version": 3
   },
   "file_extension": ".py",
   "mimetype": "text/x-python",
   "name": "python",
   "nbconvert_exporter": "python",
   "pygments_lexer": "ipython3",
   "version": "3.12.8"
  }
 },
 "nbformat": 4,
 "nbformat_minor": 5
}
