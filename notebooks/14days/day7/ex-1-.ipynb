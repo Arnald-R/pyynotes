{
 "cells": [
  {
   "cell_type": "code",
   "execution_count": 5,
   "id": "f7ba599e-9b5b-4304-b764-f145a5435c35",
   "metadata": {},
   "outputs": [
    {
     "name": "stdout",
     "output_type": "stream",
     "text": [
      "Even\n"
     ]
    }
   ],
   "source": [
    "x = 4\n",
    "result = \"Even\" if x % 2 == 0 else \"Odd\"\n",
    "print(result)"
   ]
  },
  {
   "cell_type": "code",
   "execution_count": 6,
   "id": "65affd5c-e8a5-416e-8380-faae56513ca6",
   "metadata": {},
   "outputs": [],
   "source": [
    "def greet(name):\n",
    "    return f\"Hello, {name}\"\n"
   ]
  },
  {
   "cell_type": "code",
   "execution_count": 8,
   "id": "3b8d5750-9797-4c79-9cb7-214e1c183198",
   "metadata": {},
   "outputs": [
    {
     "name": "stdout",
     "output_type": "stream",
     "text": [
      "Hello, arnald\n"
     ]
    }
   ],
   "source": [
    "print(greet(\"arnald\"))"
   ]
  },
  {
   "cell_type": "code",
   "execution_count": 9,
   "id": "244b37a5-b81a-4dff-ad0b-21a8d58ac67e",
   "metadata": {},
   "outputs": [],
   "source": [
    "def func(*args, **kwargs):\n",
    "    print(args)\n",
    "    print(kwargs)\n"
   ]
  },
  {
   "cell_type": "code",
   "execution_count": 10,
   "id": "5ee3f2df-b8d3-49d3-853b-41b7b9191670",
   "metadata": {},
   "outputs": [],
   "source": [
    "def factorial(n):\n",
    "    return 1 if n == 0 else n * factorial(n - 1)\n"
   ]
  },
  {
   "cell_type": "code",
   "execution_count": 11,
   "id": "5b3bceaa-5458-48d0-9105-95df590df83b",
   "metadata": {},
   "outputs": [
    {
     "name": "stdout",
     "output_type": "stream",
     "text": [
      "120\n"
     ]
    }
   ],
   "source": [
    "print(factorial(5))"
   ]
  },
  {
   "cell_type": "code",
   "execution_count": 12,
   "id": "96e1c1d6-a1ca-4020-a5de-debe5e9389e9",
   "metadata": {},
   "outputs": [],
   "source": [
    "def greet(name=\"Guest\"):\n",
    "    print(\"Hello\", name)\n"
   ]
  },
  {
   "cell_type": "code",
   "execution_count": 13,
   "id": "c1773a16-c60c-4a28-9ebf-babb30c327f9",
   "metadata": {},
   "outputs": [
    {
     "name": "stdout",
     "output_type": "stream",
     "text": [
      "Hello Guest\n"
     ]
    }
   ],
   "source": [
    "greet()"
   ]
  },
  {
   "cell_type": "code",
   "execution_count": 14,
   "id": "bbb3d5da-9534-4757-8825-6841e4834feb",
   "metadata": {},
   "outputs": [
    {
     "name": "stdout",
     "output_type": "stream",
     "text": [
      "Hello, Alice!\n"
     ]
    }
   ],
   "source": [
    "def greet(name):      # ← 'name' is a **parameter**\n",
    "    print(f\"Hello, {name}!\")\n",
    "\n",
    "greet(\"Alice\")         # ← \"Alice\" is an **argument**\n"
   ]
  },
  {
   "cell_type": "code",
   "execution_count": 16,
   "id": "f1629702-c43c-4840-a2a7-e4ef6ba90379",
   "metadata": {},
   "outputs": [
    {
     "data": {
      "text/plain": [
       "5"
      ]
     },
     "execution_count": 16,
     "metadata": {},
     "output_type": "execute_result"
    }
   ],
   "source": [
    "def add(a,b):\n",
    "    return a+b\n",
    "\n",
    "add(2, 3)"
   ]
  },
  {
   "cell_type": "code",
   "execution_count": 17,
   "id": "3b486e70-802d-4ba5-b38c-415cf72e6406",
   "metadata": {},
   "outputs": [],
   "source": [
    "def add(a=2,b=3):\n",
    "    return a+b\n",
    "\n"
   ]
  },
  {
   "cell_type": "code",
   "execution_count": 18,
   "id": "b02ab707-aa5a-4e1f-84a1-0cda26be06b0",
   "metadata": {},
   "outputs": [
    {
     "name": "stdout",
     "output_type": "stream",
     "text": [
      "5\n"
     ]
    }
   ],
   "source": [
    "print(add())"
   ]
  },
  {
   "cell_type": "code",
   "execution_count": 20,
   "id": "099ec543-a136-4b5c-8b4d-86b60d057e08",
   "metadata": {},
   "outputs": [],
   "source": [
    "def greet(name =\"Guest\"):\n",
    "    print(f\"hi,{name}!\")"
   ]
  },
  {
   "cell_type": "code",
   "execution_count": 21,
   "id": "0bfdeaa7-72c8-423d-b44c-89b215ae3368",
   "metadata": {},
   "outputs": [
    {
     "name": "stdout",
     "output_type": "stream",
     "text": [
      "hi,Guest!\n"
     ]
    }
   ],
   "source": [
    "greet()"
   ]
  },
  {
   "cell_type": "code",
   "execution_count": 22,
   "id": "8d7d31ae-9a78-460d-aaf3-bec4370b1808",
   "metadata": {},
   "outputs": [
    {
     "name": "stdout",
     "output_type": "stream",
     "text": [
      "hi,Arnald!\n"
     ]
    }
   ],
   "source": [
    "greet(\"Arnald\")"
   ]
  },
  {
   "cell_type": "code",
   "execution_count": 23,
   "id": "5a324d31-15f3-403d-b0f6-019c050f2b6d",
   "metadata": {},
   "outputs": [],
   "source": [
    "def maths(*args):\n",
    "    for arg in args:\n",
    "        print(arg)"
   ]
  },
  {
   "cell_type": "code",
   "execution_count": 24,
   "id": "db9ba0c5-36b1-4684-be62-7860a9db8fab",
   "metadata": {},
   "outputs": [
    {
     "name": "stdout",
     "output_type": "stream",
     "text": [
      "1\n",
      "2\n",
      "3\n"
     ]
    }
   ],
   "source": [
    "maths(1, 2, 3)"
   ]
  },
  {
   "cell_type": "code",
   "execution_count": 25,
   "id": "8625c0ed-579b-4e93-961d-719e882a8bd9",
   "metadata": {},
   "outputs": [],
   "source": [
    "def key_maths(**kwargs):\n",
    "    for key, value in kwargs.items():\n",
    "        print(key, \"=\" , value)\n",
    "        "
   ]
  },
  {
   "cell_type": "code",
   "execution_count": 26,
   "id": "e076e3cd-1309-4fd2-a6e3-9f57c3f062ed",
   "metadata": {},
   "outputs": [
    {
     "name": "stdout",
     "output_type": "stream",
     "text": [
      "name = Arnald\n",
      "Age = 23\n"
     ]
    }
   ],
   "source": [
    "key_maths(name = \"Arnald\", Age = \"23\")"
   ]
  },
  {
   "cell_type": "code",
   "execution_count": 27,
   "id": "6457197c-6c88-4084-9d52-09f48dd1354a",
   "metadata": {},
   "outputs": [],
   "source": [
    "nums = [1, 2, 3]\n",
    "result = list(map(lambda x: x*2, nums))  # [2, 4, 6]\n"
   ]
  },
  {
   "cell_type": "code",
   "execution_count": 28,
   "id": "14820ee6-798f-4002-b5a2-b8e0807f17e8",
   "metadata": {},
   "outputs": [],
   "source": [
    "def decorator(func):\n",
    "    def wrapper():\n",
    "        print(\"Before\")\n",
    "        func()\n",
    "        print(\"After\")\n",
    "    return wrapper\n",
    "\n",
    "@decorator\n",
    "def greet():\n",
    "    print(\"Hello\")\n"
   ]
  },
  {
   "cell_type": "code",
   "execution_count": 29,
   "id": "b785d76d-6149-43fc-9b63-5f2471f2d808",
   "metadata": {},
   "outputs": [
    {
     "name": "stdout",
     "output_type": "stream",
     "text": [
      "Before\n",
      "Hello\n",
      "After\n"
     ]
    }
   ],
   "source": [
    "greet()"
   ]
  },
  {
   "cell_type": "code",
   "execution_count": 30,
   "id": "abeeb48f-367f-4b2c-846d-752ab95a32c3",
   "metadata": {},
   "outputs": [
    {
     "name": "stderr",
     "output_type": "stream",
     "text": [
      "E\n",
      "======================================================================\n",
      "ERROR: /home/arnald/ (unittest.loader._FailedTest./home/arnald/)\n",
      "----------------------------------------------------------------------\n",
      "AttributeError: module '__main__' has no attribute '/home/arnald/'\n",
      "\n",
      "----------------------------------------------------------------------\n",
      "Ran 1 test in 0.093s\n",
      "\n",
      "FAILED (errors=1)\n"
     ]
    },
    {
     "ename": "SystemExit",
     "evalue": "1",
     "output_type": "error",
     "traceback": [
      "An exception has occurred, use %tb to see the full traceback.\n",
      "\u001b[0;31mSystemExit\u001b[0m\u001b[0;31m:\u001b[0m 1\n"
     ]
    },
    {
     "name": "stderr",
     "output_type": "stream",
     "text": [
      "/home/arnald/miniconda3/envs/py312/lib/python3.12/site-packages/IPython/core/interactiveshell.py:3516: UserWarning: To exit: use 'exit', 'quit', or Ctrl-D.\n",
      "  warn(\"To exit: use 'exit', 'quit', or Ctrl-D.\", stacklevel=1)\n"
     ]
    }
   ],
   "source": [
    "import unittest\n",
    "\n",
    "class TestCalc(unittest.TestCase):\n",
    "    def test_add(self):\n",
    "        self.assertEqual(2 + 3, 5)\n",
    "\n",
    "unittest.main()\n"
   ]
  },
  {
   "cell_type": "code",
   "execution_count": null,
   "id": "4d64cc2c-9683-45ae-9780-a475140ee4b8",
   "metadata": {},
   "outputs": [],
   "source": []
  }
 ],
 "metadata": {
  "kernelspec": {
   "display_name": "Python 3 (ipykernel)",
   "language": "python",
   "name": "python3"
  },
  "language_info": {
   "codemirror_mode": {
    "name": "ipython",
    "version": 3
   },
   "file_extension": ".py",
   "mimetype": "text/x-python",
   "name": "python",
   "nbconvert_exporter": "python",
   "pygments_lexer": "ipython3",
   "version": "3.12.8"
  }
 },
 "nbformat": 4,
 "nbformat_minor": 5
}
