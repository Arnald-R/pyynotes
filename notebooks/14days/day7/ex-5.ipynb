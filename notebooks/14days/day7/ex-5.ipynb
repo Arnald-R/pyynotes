{
 "cells": [
  {
   "cell_type": "code",
   "execution_count": null,
   "id": "eed234cd-c3af-47f9-82e3-03e17ea5a368",
   "metadata": {},
   "outputs": [],
   "source": [
    "#created at 20250421"
   ]
  },
  {
   "cell_type": "code",
   "execution_count": null,
   "id": "f729c99a-8291-49ae-9c7a-e03ef3111fab",
   "metadata": {},
   "outputs": [],
   "source": [
    "#BAsic Pandass series"
   ]
  },
  {
   "cell_type": "code",
   "execution_count": 2,
   "id": "0d06cca2-b37a-4757-b845-4131896f2221",
   "metadata": {},
   "outputs": [
    {
     "name": "stdout",
     "output_type": "stream",
     "text": [
      "\n",
      " === Basic Pandas Series ===\n"
     ]
    }
   ],
   "source": [
    "print(\"\\n === Basic Pandas Series ===\")"
   ]
  },
  {
   "cell_type": "code",
   "execution_count": 3,
   "id": "6245d128-3b46-4630-8da2-1f1f608ea649",
   "metadata": {},
   "outputs": [],
   "source": [
    "import pandas as pd"
   ]
  },
  {
   "cell_type": "code",
   "execution_count": 6,
   "id": "4cf0006c-8eeb-4938-999e-3b894e0e5c82",
   "metadata": {},
   "outputs": [],
   "source": [
    "series = pd.Series([1, 2, 3, 4, 5], index=['a', 'b', 'c', 'd', 'e'])"
   ]
  },
  {
   "cell_type": "code",
   "execution_count": 7,
   "id": "8d73617f-ed87-4ede-8a93-8276058f52d5",
   "metadata": {},
   "outputs": [
    {
     "name": "stdout",
     "output_type": "stream",
     "text": [
      "Series:\n",
      " a    1\n",
      "b    2\n",
      "c    3\n",
      "d    4\n",
      "e    5\n",
      "dtype: int64\n"
     ]
    }
   ],
   "source": [
    "print(f\"Series:\\n {series}\")"
   ]
  },
  {
   "cell_type": "code",
   "execution_count": 8,
   "id": "2a3f6d4b-b8d9-40fa-b0af-5e4c779cd06b",
   "metadata": {},
   "outputs": [
    {
     "name": "stdout",
     "output_type": "stream",
     "text": [
      "Index:Index(['a', 'b', 'c', 'd', 'e'], dtype='object')\n"
     ]
    }
   ],
   "source": [
    "print(f\"Index:{series.index}\")"
   ]
  },
  {
   "cell_type": "code",
   "execution_count": 9,
   "id": "c28b7221-2086-4fa5-8484-1882b31b8604",
   "metadata": {},
   "outputs": [
    {
     "name": "stdout",
     "output_type": "stream",
     "text": [
      "Values:[1 2 3 4 5]\n"
     ]
    }
   ],
   "source": [
    "print(f\"Values:{series.values}\")"
   ]
  },
  {
   "cell_type": "code",
   "execution_count": null,
   "id": "adbcdeb9-d861-44bf-8468-3d0957cf0ba1",
   "metadata": {},
   "outputs": [],
   "source": []
  }
 ],
 "metadata": {
  "kernelspec": {
   "display_name": "Python 3 (ipykernel)",
   "language": "python",
   "name": "python3"
  },
  "language_info": {
   "codemirror_mode": {
    "name": "ipython",
    "version": 3
   },
   "file_extension": ".py",
   "mimetype": "text/x-python",
   "name": "python",
   "nbconvert_exporter": "python",
   "pygments_lexer": "ipython3",
   "version": "3.12.8"
  }
 },
 "nbformat": 4,
 "nbformat_minor": 5
}
