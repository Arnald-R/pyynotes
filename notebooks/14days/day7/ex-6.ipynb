{
 "cells": [
  {
   "cell_type": "code",
   "execution_count": null,
   "id": "657eaefd-be91-4949-b775-d1cbc48b0543",
   "metadata": {},
   "outputs": [],
   "source": [
    "#created at 20250421"
   ]
  },
  {
   "cell_type": "code",
   "execution_count": null,
   "id": "45d34e8a-1d86-4246-9653-135cf4dc1cd9",
   "metadata": {},
   "outputs": [],
   "source": [
    "#Creating Dataframe"
   ]
  },
  {
   "cell_type": "code",
   "execution_count": 3,
   "id": "449069b6-0148-4f82-b4a1-0ca626774e8f",
   "metadata": {},
   "outputs": [],
   "source": [
    "import pandas as pd"
   ]
  },
  {
   "cell_type": "code",
   "execution_count": 4,
   "id": "0d49b70c-598d-40e9-aea2-ff848085a0e3",
   "metadata": {},
   "outputs": [
    {
     "name": "stdout",
     "output_type": "stream",
     "text": [
      "\n",
      " === Dataframe Creation ===\n"
     ]
    }
   ],
   "source": [
    "print(\"\\n === Dataframe Creation ===\")"
   ]
  },
  {
   "cell_type": "code",
   "execution_count": 5,
   "id": "4f7e66df-360e-4669-afe0-d28ba4e14f87",
   "metadata": {},
   "outputs": [],
   "source": [
    "data = {\n",
    "    'name' : ['John', 'Arnald', 'Antony'],\n",
    "    'age':[21, 22, 21],\n",
    "    'city':['coimbatore', 'banglore', 'Tirunelveli']\n",
    "}"
   ]
  },
  {
   "cell_type": "code",
   "execution_count": 6,
   "id": "6cafbcea-1ec7-4a5e-bfaf-d1183c39eda1",
   "metadata": {},
   "outputs": [],
   "source": [
    "df = pd.DataFrame(data)"
   ]
  },
  {
   "cell_type": "code",
   "execution_count": 7,
   "id": "2367f02a-e76e-4e94-b13b-37cc13b8973b",
   "metadata": {},
   "outputs": [
    {
     "name": "stdout",
     "output_type": "stream",
     "text": [
      "Dataframe:\n",
      "     name  age         city\n",
      "0    John   21   coimbatore\n",
      "1  Arnald   22     banglore\n",
      "2  Antony   21  Tirunelveli\n"
     ]
    }
   ],
   "source": [
    "print(f\"Dataframe:\\n{df}\")"
   ]
  },
  {
   "cell_type": "code",
   "execution_count": 8,
   "id": "060dedbd-ac02-4c64-8049-e12dcb8b4446",
   "metadata": {},
   "outputs": [
    {
     "name": "stdout",
     "output_type": "stream",
     "text": [
      "Head:\n",
      "     name  age         city\n",
      "0    John   21   coimbatore\n",
      "1  Arnald   22     banglore\n",
      "2  Antony   21  Tirunelveli\n"
     ]
    }
   ],
   "source": [
    "print(f\"Head:\\n{df.head()}\")"
   ]
  },
  {
   "cell_type": "code",
   "execution_count": 10,
   "id": "b066ff62-fcfa-420d-9384-9e9c24cb1dce",
   "metadata": {},
   "outputs": [
    {
     "name": "stdout",
     "output_type": "stream",
     "text": [
      "Description :\n",
      "              age\n",
      "count   3.000000\n",
      "mean   21.333333\n",
      "std     0.577350\n",
      "min    21.000000\n",
      "25%    21.000000\n",
      "50%    21.000000\n",
      "75%    21.500000\n",
      "max    22.000000\n"
     ]
    }
   ],
   "source": [
    "print(f\"Description :\\n {df.describe()}\")"
   ]
  },
  {
   "cell_type": "code",
   "execution_count": 11,
   "id": "492f9a16-607f-4d89-aa8f-8b56becef506",
   "metadata": {},
   "outputs": [
    {
     "name": "stdout",
     "output_type": "stream",
     "text": [
      "<class 'pandas.core.frame.DataFrame'>\n",
      "RangeIndex: 3 entries, 0 to 2\n",
      "Data columns (total 3 columns):\n",
      " #   Column  Non-Null Count  Dtype \n",
      "---  ------  --------------  ----- \n",
      " 0   name    3 non-null      object\n",
      " 1   age     3 non-null      int64 \n",
      " 2   city    3 non-null      object\n",
      "dtypes: int64(1), object(2)\n",
      "memory usage: 204.0+ bytes\n",
      "info:\n",
      " None\n"
     ]
    }
   ],
   "source": [
    "print(f\"info:\\n {df.info()}\")"
   ]
  },
  {
   "cell_type": "code",
   "execution_count": 13,
   "id": "22193965-5883-4b9b-bc04-4ebc84d64098",
   "metadata": {},
   "outputs": [
    {
     "name": "stdout",
     "output_type": "stream",
     "text": [
      "Column:\n",
      " Index(['name', 'age', 'city'], dtype='object')\n"
     ]
    }
   ],
   "source": [
    "print(f\"Column:\\n {df.columns}\")"
   ]
  },
  {
   "cell_type": "code",
   "execution_count": null,
   "id": "164ede37-6aca-4380-9af1-67ef182bf0c5",
   "metadata": {},
   "outputs": [],
   "source": [
    "#Dataframe Indexing"
   ]
  },
  {
   "cell_type": "code",
   "execution_count": 14,
   "id": "7e84fd39-e8aa-4e04-bcd3-46750bb618d2",
   "metadata": {},
   "outputs": [
    {
     "name": "stdout",
     "output_type": "stream",
     "text": [
      "\n",
      " === Dataframe Indexing === \n"
     ]
    }
   ],
   "source": [
    "print(\"\\n === Dataframe Indexing === \")"
   ]
  },
  {
   "cell_type": "code",
   "execution_count": 16,
   "id": "3adbbbc9-7714-4ec2-8953-a6b2b49c19d2",
   "metadata": {},
   "outputs": [
    {
     "name": "stdout",
     "output_type": "stream",
     "text": [
      "column: \n",
      "0      John\n",
      "1    Arnald\n",
      "2    Antony\n",
      "Name: name, dtype: object\n"
     ]
    }
   ],
   "source": [
    "print(f\"column: \\n{df['name']}\")"
   ]
  },
  {
   "cell_type": "code",
   "execution_count": 17,
   "id": "e6981428-0e62-40eb-a01d-0c3df2619a4b",
   "metadata": {},
   "outputs": [
    {
     "name": "stdout",
     "output_type": "stream",
     "text": [
      "Select rows:\n",
      "     name  age        city\n",
      "0    John   21  coimbatore\n",
      "1  Arnald   22    banglore\n"
     ]
    }
   ],
   "source": [
    "print(f\"Select rows:\\n{df.loc[0:1]}\")"
   ]
  },
  {
   "cell_type": "code",
   "execution_count": 18,
   "id": "f0c61dc0-9edd-4b14-a247-ebe47b0cbc51",
   "metadata": {},
   "outputs": [
    {
     "name": "stdout",
     "output_type": "stream",
     "text": [
      "Selcet by condition:\n",
      "Empty DataFrame\n",
      "Columns: [name, age, city]\n",
      "Index: []\n"
     ]
    }
   ],
   "source": [
    "print(f\"Selcet by condition:\\n{df[df['age'] > 30]}\")"
   ]
  },
  {
   "cell_type": "code",
   "execution_count": null,
   "id": "4f385451-9ce6-4f4e-add3-69b4e4ffc669",
   "metadata": {},
   "outputs": [],
   "source": []
  }
 ],
 "metadata": {
  "kernelspec": {
   "display_name": "Python 3 (ipykernel)",
   "language": "python",
   "name": "python3"
  },
  "language_info": {
   "codemirror_mode": {
    "name": "ipython",
    "version": 3
   },
   "file_extension": ".py",
   "mimetype": "text/x-python",
   "name": "python",
   "nbconvert_exporter": "python",
   "pygments_lexer": "ipython3",
   "version": "3.12.8"
  }
 },
 "nbformat": 4,
 "nbformat_minor": 5
}
