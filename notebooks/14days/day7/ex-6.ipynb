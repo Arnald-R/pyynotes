{
 "cells": [
  {
   "cell_type": "code",
   "execution_count": null,
   "id": "657eaefd-be91-4949-b775-d1cbc48b0543",
   "metadata": {},
   "outputs": [],
   "source": [
    "#created at 20250421"
   ]
  },
  {
   "cell_type": "code",
   "execution_count": null,
   "id": "45d34e8a-1d86-4246-9653-135cf4dc1cd9",
   "metadata": {},
   "outputs": [],
   "source": [
    "#Creating Dataframe"
   ]
  },
  {
   "cell_type": "code",
   "execution_count": 4,
   "id": "449069b6-0148-4f82-b4a1-0ca626774e8f",
   "metadata": {},
   "outputs": [],
   "source": [
    "import pandas as pd"
   ]
  },
  {
   "cell_type": "code",
   "execution_count": 5,
   "id": "0d49b70c-598d-40e9-aea2-ff848085a0e3",
   "metadata": {},
   "outputs": [
    {
     "name": "stdout",
     "output_type": "stream",
     "text": [
      "\n",
      " === Dataframe Creation ===\n"
     ]
    }
   ],
   "source": [
    "print(\"\\n === Dataframe Creation ===\")"
   ]
  },
  {
   "cell_type": "code",
   "execution_count": 6,
   "id": "4f7e66df-360e-4669-afe0-d28ba4e14f87",
   "metadata": {},
   "outputs": [],
   "source": [
    "data = {\n",
    "    'name' : ['John', 'Arnald', 'Antony'],\n",
    "    'age':[21, 22, 21],\n",
    "    'city':['coimbatore', 'banglore', 'Tirunelveli']\n",
    "}"
   ]
  },
  {
   "cell_type": "code",
   "execution_count": 8,
   "id": "6cafbcea-1ec7-4a5e-bfaf-d1183c39eda1",
   "metadata": {},
   "outputs": [],
   "source": [
    "df = pd.DataFrame(data)"
   ]
  },
  {
   "cell_type": "code",
   "execution_count": 9,
   "id": "2367f02a-e76e-4e94-b13b-37cc13b8973b",
   "metadata": {},
   "outputs": [
    {
     "name": "stdout",
     "output_type": "stream",
     "text": [
      "Dataframe:\n",
      "     name  age         city\n",
      "0    John   21   coimbatore\n",
      "1  Arnald   22     banglore\n",
      "2  Antony   21  Tirunelveli\n"
     ]
    }
   ],
   "source": [
    "print(f\"Dataframe:\\n{df}\")"
   ]
  },
  {
   "cell_type": "code",
   "execution_count": null,
   "id": "060dedbd-ac02-4c64-8049-e12dcb8b4446",
   "metadata": {},
   "outputs": [],
   "source": [
    "#"
   ]
  }
 ],
 "metadata": {
  "kernelspec": {
   "display_name": "Python 3 (ipykernel)",
   "language": "python",
   "name": "python3"
  },
  "language_info": {
   "codemirror_mode": {
    "name": "ipython",
    "version": 3
   },
   "file_extension": ".py",
   "mimetype": "text/x-python",
   "name": "python",
   "nbconvert_exporter": "python",
   "pygments_lexer": "ipython3",
   "version": "3.12.8"
  }
 },
 "nbformat": 4,
 "nbformat_minor": 5
}
