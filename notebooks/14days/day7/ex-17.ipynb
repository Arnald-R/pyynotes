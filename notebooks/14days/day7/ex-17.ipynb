{
 "cells": [
  {
   "cell_type": "code",
   "execution_count": null,
   "id": "968d1007-7dc0-478b-98ff-a5ed934b54d2",
   "metadata": {},
   "outputs": [],
   "source": [
    "#created at 20250423"
   ]
  },
  {
   "cell_type": "code",
   "execution_count": 2,
   "id": "73dc3b56-8e29-4254-8acc-fabbb542030e",
   "metadata": {},
   "outputs": [],
   "source": [
    "#Merging Dataframe"
   ]
  },
  {
   "cell_type": "code",
   "execution_count": 3,
   "id": "6f390d98-ab9b-4480-9f1b-40a7274583cf",
   "metadata": {},
   "outputs": [
    {
     "name": "stdout",
     "output_type": "stream",
     "text": [
      "\n",
      " === Merging Dataframe === \n"
     ]
    }
   ],
   "source": [
    "print(\"\\n === Merging Dataframe === \")"
   ]
  },
  {
   "cell_type": "code",
   "execution_count": 4,
   "id": "d9aedde0-55e2-4c6a-a516-3ba881287224",
   "metadata": {},
   "outputs": [],
   "source": [
    "import pandas as pd"
   ]
  },
  {
   "cell_type": "code",
   "execution_count": 5,
   "id": "98c9690e-d3ee-4214-8a85-1cd764675999",
   "metadata": {},
   "outputs": [],
   "source": [
    "df1 = pd.DataFrame({'key' : ['A', 'B'], 'value' : [1, 2]})"
   ]
  },
  {
   "cell_type": "code",
   "execution_count": 6,
   "id": "bdf3f65f-53c6-4304-8b75-dc17dffd50a9",
   "metadata": {},
   "outputs": [],
   "source": [
    "df2 = pd.DataFrame({'key' : ['A', 'B'], 'value' : [3, 4]})"
   ]
  },
  {
   "cell_type": "code",
   "execution_count": 7,
   "id": "4491f004-9739-4582-8593-0f13c1bd2c8d",
   "metadata": {},
   "outputs": [],
   "source": [
    "merged =pd.merge(df1, df2, on='key')"
   ]
  },
  {
   "cell_type": "code",
   "execution_count": 8,
   "id": "d79a2680-5443-422e-99e3-a47bb2f8127c",
   "metadata": {},
   "outputs": [
    {
     "name": "stdout",
     "output_type": "stream",
     "text": [
      "mered dfs:\n",
      "   key  value_x  value_y\n",
      "0   A        1        3\n",
      "1   B        2        4\n"
     ]
    }
   ],
   "source": [
    "print(f\"mered dfs:\\n {merged}\")"
   ]
  },
  {
   "cell_type": "code",
   "execution_count": null,
   "id": "13122cff-77cc-4d3c-929c-c79b4cb99b98",
   "metadata": {},
   "outputs": [],
   "source": []
  }
 ],
 "metadata": {
  "kernelspec": {
   "display_name": "Python 3 (ipykernel)",
   "language": "python",
   "name": "python3"
  },
  "language_info": {
   "codemirror_mode": {
    "name": "ipython",
    "version": 3
   },
   "file_extension": ".py",
   "mimetype": "text/x-python",
   "name": "python",
   "nbconvert_exporter": "python",
   "pygments_lexer": "ipython3",
   "version": "3.12.8"
  }
 },
 "nbformat": 4,
 "nbformat_minor": 5
}
