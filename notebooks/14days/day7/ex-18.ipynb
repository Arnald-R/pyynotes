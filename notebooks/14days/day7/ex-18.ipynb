{
 "cells": [
  {
   "cell_type": "code",
   "execution_count": null,
   "id": "ad30893e-7b6d-45fa-92e1-e85564fb4d35",
   "metadata": {},
   "outputs": [],
   "source": [
    "#created at 20250423"
   ]
  },
  {
   "cell_type": "code",
   "execution_count": null,
   "id": "6985297a-a64f-4f93-936c-2732a2ce1c72",
   "metadata": {},
   "outputs": [],
   "source": [
    "#Time series with pandas"
   ]
  },
  {
   "cell_type": "code",
   "execution_count": 1,
   "id": "2e5bffa3-8909-4b21-9c5a-86f9d662adac",
   "metadata": {},
   "outputs": [
    {
     "name": "stdout",
     "output_type": "stream",
     "text": [
      "\n",
      " === Time series with pandas ===\n"
     ]
    }
   ],
   "source": [
    "print(\"\\n === Time series with pandas ===\")"
   ]
  },
  {
   "cell_type": "code",
   "execution_count": 5,
   "id": "97f1c1ad-2978-461c-a252-18609b57abdc",
   "metadata": {},
   "outputs": [],
   "source": [
    "import pandas as pd\n",
    "import numpy as np"
   ]
  },
  {
   "cell_type": "code",
   "execution_count": 6,
   "id": "f3e294fe-19fe-46d6-890a-d9273411a59d",
   "metadata": {},
   "outputs": [],
   "source": [
    "dates = pd.date_range('20240423', periods = 6)"
   ]
  },
  {
   "cell_type": "code",
   "execution_count": 7,
   "id": "56c6e007-8690-4dfd-a3f6-ed5c76d13356",
   "metadata": {},
   "outputs": [],
   "source": [
    "df = pd.DataFrame(np.random.randn(6, 4), index=dates, columns=list('ABCD'))"
   ]
  },
  {
   "cell_type": "code",
   "execution_count": 8,
   "id": "b5288a99-ddd4-4271-8519-765a210bb4e9",
   "metadata": {},
   "outputs": [
    {
     "name": "stdout",
     "output_type": "stream",
     "text": [
      "Series Datframe:\n",
      "                    A         B         C         D\n",
      "2024-04-23 -1.606995  1.093850  1.429603 -1.040285\n",
      "2024-04-24 -0.298476 -0.341987 -1.357676  0.788413\n",
      "2024-04-25 -0.076387 -1.461239 -0.296636 -0.954272\n",
      "2024-04-26 -0.793444  0.343442  0.261968 -0.322160\n",
      "2024-04-27  4.078006 -0.037191  1.129707 -1.713663\n",
      "2024-04-28 -0.654057  1.212633 -0.977377 -0.530810\n"
     ]
    }
   ],
   "source": [
    "print(f\"Series Datframe:\\n {df}\")"
   ]
  },
  {
   "cell_type": "code",
   "execution_count": null,
   "id": "c58d89b3-9d4f-417d-a652-c69e54825317",
   "metadata": {},
   "outputs": [],
   "source": []
  }
 ],
 "metadata": {
  "kernelspec": {
   "display_name": "Python 3 (ipykernel)",
   "language": "python",
   "name": "python3"
  },
  "language_info": {
   "codemirror_mode": {
    "name": "ipython",
    "version": 3
   },
   "file_extension": ".py",
   "mimetype": "text/x-python",
   "name": "python",
   "nbconvert_exporter": "python",
   "pygments_lexer": "ipython3",
   "version": "3.12.8"
  }
 },
 "nbformat": 4,
 "nbformat_minor": 5
}
