{
 "cells": [
  {
   "cell_type": "code",
   "execution_count": null,
   "id": "5171502d-d2dd-4dc3-92c0-0c9a198b4bbb",
   "metadata": {},
   "outputs": [],
   "source": [
    "#created at 20250423"
   ]
  },
  {
   "cell_type": "code",
   "execution_count": null,
   "id": "3cc5b74b-fbe2-414e-9738-cb5544447d34",
   "metadata": {},
   "outputs": [],
   "source": [
    "#Data Manipulation with Pandas"
   ]
  },
  {
   "cell_type": "code",
   "execution_count": 1,
   "id": "833b0e94-8f4b-40d3-b073-844dd4d77c2e",
   "metadata": {},
   "outputs": [
    {
     "name": "stdout",
     "output_type": "stream",
     "text": [
      "\n",
      " === Data Manipulation with pandas ===\n"
     ]
    }
   ],
   "source": [
    "print(\"\\n === Data Manipulation with pandas ===\")"
   ]
  },
  {
   "cell_type": "code",
   "execution_count": 4,
   "id": "5452830a-02f2-4203-a7b7-c0da7704e27d",
   "metadata": {},
   "outputs": [],
   "source": [
    "import numpy as np\n",
    "import pandas as pd"
   ]
  },
  {
   "cell_type": "code",
   "execution_count": 5,
   "id": "9ac4e3e4-69a6-434e-85e3-fbb5ecacce2c",
   "metadata": {},
   "outputs": [],
   "source": [
    "df = pd.DataFrame({\n",
    "    'A': [1, 2, np.nan, 4],\n",
    "    'B': [5,np.nan, 7, 8],\n",
    "    'C': ['a', 'b', 'c', 'd']\n",
    "})"
   ]
  },
  {
   "cell_type": "code",
   "execution_count": 6,
   "id": "0baa8a7c-d21f-461f-8af8-0d5de4921380",
   "metadata": {},
   "outputs": [
    {
     "name": "stdout",
     "output_type": "stream",
     "text": [
      "original:\n",
      "     A    B  C\n",
      "0  1.0  5.0  a\n",
      "1  2.0  NaN  b\n",
      "2  NaN  7.0  c\n",
      "3  4.0  8.0  d\n"
     ]
    }
   ],
   "source": [
    "print(f\"original:\\n{df}\")"
   ]
  },
  {
   "cell_type": "code",
   "execution_count": 7,
   "id": "d8731a11-2115-4747-b04d-803a85be349a",
   "metadata": {},
   "outputs": [
    {
     "name": "stdout",
     "output_type": "stream",
     "text": [
      "Dropna:\n",
      "     A    B  C\n",
      "0  1.0  5.0  a\n",
      "3  4.0  8.0  d\n"
     ]
    }
   ],
   "source": [
    "print(f\"Dropna:\\n{df.dropna()}\")"
   ]
  },
  {
   "cell_type": "code",
   "execution_count": 9,
   "id": "acf69956-8859-4c54-ad2f-5c8213200db6",
   "metadata": {},
   "outputs": [
    {
     "name": "stdout",
     "output_type": "stream",
     "text": [
      "fillna:\n",
      "     A    B  C\n",
      "0  1.0  5.0  a\n",
      "1  2.0  0.0  b\n",
      "2  0.0  7.0  c\n",
      "3  4.0  8.0  d\n"
     ]
    }
   ],
   "source": [
    "print(f\"fillna:\\n{df.fillna(0)}\")"
   ]
  },
  {
   "cell_type": "code",
   "execution_count": null,
   "id": "829b84ed-b2ce-4c48-8227-fb0c8ebb5fdd",
   "metadata": {},
   "outputs": [],
   "source": []
  }
 ],
 "metadata": {
  "kernelspec": {
   "display_name": "Python 3 (ipykernel)",
   "language": "python",
   "name": "python3"
  },
  "language_info": {
   "codemirror_mode": {
    "name": "ipython",
    "version": 3
   },
   "file_extension": ".py",
   "mimetype": "text/x-python",
   "name": "python",
   "nbconvert_exporter": "python",
   "pygments_lexer": "ipython3",
   "version": "3.12.8"
  }
 },
 "nbformat": 4,
 "nbformat_minor": 5
}
