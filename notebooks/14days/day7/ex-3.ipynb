{
 "cells": [
  {
   "cell_type": "code",
   "execution_count": null,
   "id": "5548e896-d037-4cca-b63c-ddcca56902ed",
   "metadata": {},
   "outputs": [],
   "source": [
    "#created at 20250421"
   ]
  },
  {
   "cell_type": "code",
   "execution_count": null,
   "id": "c502ff47-dd06-4666-80fc-26701cd906ad",
   "metadata": {},
   "outputs": [],
   "source": [
    "#Array Operations"
   ]
  },
  {
   "cell_type": "code",
   "execution_count": 1,
   "id": "15e0318c-f889-4c0b-b5d7-53acd5190e2b",
   "metadata": {},
   "outputs": [
    {
     "name": "stdout",
     "output_type": "stream",
     "text": [
      "\n",
      " === Array Operations ===\n"
     ]
    }
   ],
   "source": [
    "print(\"\\n === Array Operations ===\")"
   ]
  },
  {
   "cell_type": "code",
   "execution_count": 3,
   "id": "7abdcff5-e67d-4541-bf09-11343084d3b1",
   "metadata": {},
   "outputs": [],
   "source": [
    "import numpy as np"
   ]
  },
  {
   "cell_type": "code",
   "execution_count": 4,
   "id": "c43a1bb9-5980-4a60-bf54-d81d41db30b0",
   "metadata": {},
   "outputs": [],
   "source": [
    "arr3 = np.array([2, 3, 4])"
   ]
  },
  {
   "cell_type": "code",
   "execution_count": 5,
   "id": "c68aa4fe-7d4f-493a-b399-9d939a6b7f25",
   "metadata": {},
   "outputs": [],
   "source": [
    "arr4 = np.array([4, 5, 6])"
   ]
  },
  {
   "cell_type": "code",
   "execution_count": 6,
   "id": "d5f08495-3e39-423d-955a-084925f529bb",
   "metadata": {},
   "outputs": [
    {
     "name": "stdout",
     "output_type": "stream",
     "text": [
      "Array Addition:[ 6  8 10]\n"
     ]
    }
   ],
   "source": [
    "print(f\"Array Addition:{arr3 + arr4}\")"
   ]
  },
  {
   "cell_type": "code",
   "execution_count": 7,
   "id": "b9efea58-2d68-4480-a3be-74f2ebbf848d",
   "metadata": {},
   "outputs": [
    {
     "name": "stdout",
     "output_type": "stream",
     "text": [
      "Array Multiply:[ 8 15 24]\n"
     ]
    }
   ],
   "source": [
    "print(f\"Array Multiply:{arr3 * arr4}\")"
   ]
  },
  {
   "cell_type": "code",
   "execution_count": 8,
   "id": "5a3d1335-741e-465f-ac20-cc9c13f80d41",
   "metadata": {},
   "outputs": [
    {
     "name": "stdout",
     "output_type": "stream",
     "text": [
      "Squareroot:[1.41421356 1.73205081 2.        ]\n"
     ]
    }
   ],
   "source": [
    "print(f\"Squareroot:{np.sqrt(arr3)}\")"
   ]
  },
  {
   "cell_type": "code",
   "execution_count": 9,
   "id": "b2d28fcd-ee87-40b6-a332-ee79c0bcc99b",
   "metadata": {},
   "outputs": [
    {
     "name": "stdout",
     "output_type": "stream",
     "text": [
      "Mean:3.0\n"
     ]
    }
   ],
   "source": [
    "print(f\"Mean:{np.mean(arr3)}\")"
   ]
  },
  {
   "cell_type": "code",
   "execution_count": null,
   "id": "84522237-20f2-4990-8a00-bd1fc4d2ea4c",
   "metadata": {},
   "outputs": [],
   "source": []
  }
 ],
 "metadata": {
  "kernelspec": {
   "display_name": "Python 3 (ipykernel)",
   "language": "python",
   "name": "python3"
  },
  "language_info": {
   "codemirror_mode": {
    "name": "ipython",
    "version": 3
   },
   "file_extension": ".py",
   "mimetype": "text/x-python",
   "name": "python",
   "nbconvert_exporter": "python",
   "pygments_lexer": "ipython3",
   "version": "3.12.8"
  }
 },
 "nbformat": 4,
 "nbformat_minor": 5
}
