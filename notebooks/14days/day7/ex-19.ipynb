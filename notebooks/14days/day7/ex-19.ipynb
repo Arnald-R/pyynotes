{
 "cells": [
  {
   "cell_type": "code",
   "execution_count": null,
   "id": "393a7ab5-3836-4aad-8280-31a9c87185a1",
   "metadata": {},
   "outputs": [],
   "source": [
    "#created at 20250423"
   ]
  },
  {
   "cell_type": "code",
   "execution_count": null,
   "id": "4b06fc25-8db8-4af0-8d44-0853e01b69bf",
   "metadata": {},
   "outputs": [],
   "source": [
    "#Advanced numpy operations"
   ]
  },
  {
   "cell_type": "code",
   "execution_count": 1,
   "id": "f30dfc34-0c50-4ce3-bc93-482694acb8c9",
   "metadata": {},
   "outputs": [
    {
     "name": "stdout",
     "output_type": "stream",
     "text": [
      "\n",
      " === Advanced numpy operations ===\n"
     ]
    }
   ],
   "source": [
    "print(\"\\n === Advanced numpy operations ===\")"
   ]
  },
  {
   "cell_type": "code",
   "execution_count": 5,
   "id": "aaae7136-5124-4dd2-8f1e-59ebba02fce0",
   "metadata": {},
   "outputs": [],
   "source": [
    "import pandas as pd\n",
    "import numpy as np"
   ]
  },
  {
   "cell_type": "code",
   "execution_count": 6,
   "id": "56406064-36ce-4ba3-a5e3-6505a526ef48",
   "metadata": {},
   "outputs": [],
   "source": [
    "arr = np.array([[1, 2, 3], [4, 5, 6]])"
   ]
  },
  {
   "cell_type": "code",
   "execution_count": 7,
   "id": "3fc1a3b1-7cc1-4b65-bcca-f978fd77f21b",
   "metadata": {},
   "outputs": [
    {
     "name": "stdout",
     "output_type": "stream",
     "text": [
      "Transpose:[[1 4]\n",
      " [2 5]\n",
      " [3 6]]\n"
     ]
    }
   ],
   "source": [
    "print(f\"Transpose:{arr.T}\")"
   ]
  },
  {
   "cell_type": "code",
   "execution_count": 9,
   "id": "7834ecfd-d591-4bee-9715-f292d85a7c21",
   "metadata": {},
   "outputs": [
    {
     "name": "stdout",
     "output_type": "stream",
     "text": [
      "Reshape:\n",
      " [[1 2]\n",
      " [3 4]\n",
      " [5 6]]\n"
     ]
    }
   ],
   "source": [
    "print(f\"Reshape:\\n {arr.reshape(3, 2)}\")"
   ]
  },
  {
   "cell_type": "code",
   "execution_count": 10,
   "id": "02884a2f-3c39-4f95-a974-f4cb05179921",
   "metadata": {},
   "outputs": [
    {
     "name": "stdout",
     "output_type": "stream",
     "text": [
      "stack:\n",
      " [[1 2 3]\n",
      " [4 5 6]\n",
      " [1 2 3]\n",
      " [4 5 6]]\n"
     ]
    }
   ],
   "source": [
    "print(f\"stack:\\n {np.vstack((arr, arr))}\")"
   ]
  },
  {
   "cell_type": "code",
   "execution_count": null,
   "id": "150309d3-c8a1-4eba-b612-aedf12bf1cfa",
   "metadata": {},
   "outputs": [],
   "source": []
  }
 ],
 "metadata": {
  "kernelspec": {
   "display_name": "Python 3 (ipykernel)",
   "language": "python",
   "name": "python3"
  },
  "language_info": {
   "codemirror_mode": {
    "name": "ipython",
    "version": 3
   },
   "file_extension": ".py",
   "mimetype": "text/x-python",
   "name": "python",
   "nbconvert_exporter": "python",
   "pygments_lexer": "ipython3",
   "version": "3.12.8"
  }
 },
 "nbformat": 4,
 "nbformat_minor": 5
}
