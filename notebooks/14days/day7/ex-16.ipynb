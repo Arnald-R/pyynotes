{
 "cells": [
  {
   "cell_type": "code",
   "execution_count": null,
   "id": "e63c5d88-5561-499a-8c2d-82c148154ba2",
   "metadata": {},
   "outputs": [],
   "source": [
    "#created at 20250423"
   ]
  },
  {
   "cell_type": "code",
   "execution_count": null,
   "id": "bf2c5554-9a83-46c3-b8d4-ddb1a2fdca01",
   "metadata": {},
   "outputs": [],
   "source": [
    "#Groupby Operations"
   ]
  },
  {
   "cell_type": "code",
   "execution_count": 1,
   "id": "1956af46-eb97-4e83-a786-1b1fd95af73b",
   "metadata": {},
   "outputs": [
    {
     "name": "stdout",
     "output_type": "stream",
     "text": [
      "\n",
      " === Groupby operations ===\n"
     ]
    }
   ],
   "source": [
    "print(\"\\n === Groupby operations ===\")"
   ]
  },
  {
   "cell_type": "code",
   "execution_count": 2,
   "id": "a813338b-ca9b-4978-a457-1d667423ed90",
   "metadata": {},
   "outputs": [],
   "source": [
    "import pandas as pd"
   ]
  },
  {
   "cell_type": "code",
   "execution_count": 3,
   "id": "4e748a06-beb5-4de9-9ad8-7a4d755f9820",
   "metadata": {},
   "outputs": [],
   "source": [
    "df = pd.DataFrame({\n",
    "    'Category': ['A', 'A', 'B', 'B'],\n",
    "    'values': [1, 2, 3, 4]\n",
    "})"
   ]
  },
  {
   "cell_type": "code",
   "execution_count": 6,
   "id": "c1935247-edb1-4354-b2aa-1ab027fc9192",
   "metadata": {},
   "outputs": [
    {
     "name": "stdout",
     "output_type": "stream",
     "text": [
      "Groupby sum:\n",
      "Category\n",
      "A    3\n",
      "B    7\n",
      "Name: values, dtype: int64\n"
     ]
    }
   ],
   "source": [
    "print(f\"Groupby sum:\\n{df.groupby('Category')['values'].sum()}\")"
   ]
  },
  {
   "cell_type": "code",
   "execution_count": null,
   "id": "e83498fd-4075-41a3-a0d5-00a406ffa6b4",
   "metadata": {},
   "outputs": [],
   "source": []
  }
 ],
 "metadata": {
  "kernelspec": {
   "display_name": "Python 3 (ipykernel)",
   "language": "python",
   "name": "python3"
  },
  "language_info": {
   "codemirror_mode": {
    "name": "ipython",
    "version": 3
   },
   "file_extension": ".py",
   "mimetype": "text/x-python",
   "name": "python",
   "nbconvert_exporter": "python",
   "pygments_lexer": "ipython3",
   "version": "3.12.8"
  }
 },
 "nbformat": 4,
 "nbformat_minor": 5
}
