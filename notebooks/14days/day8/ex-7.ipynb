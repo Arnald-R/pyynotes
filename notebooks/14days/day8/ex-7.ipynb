{
 "cells": [
  {
   "cell_type": "code",
   "execution_count": null,
   "id": "9840b1dc-cbcd-449b-8bab-0a36b7f538c5",
   "metadata": {},
   "outputs": [],
   "source": [
    "#created at 20250425"
   ]
  },
  {
   "cell_type": "code",
   "execution_count": null,
   "id": "48bf2940-b256-439e-8157-6b2bd6eb78ca",
   "metadata": {},
   "outputs": [],
   "source": [
    "#Word Boundary Matching"
   ]
  },
  {
   "cell_type": "code",
   "execution_count": 2,
   "id": "836056b7-1ebe-492f-898d-0d610ec86e34",
   "metadata": {},
   "outputs": [
    {
     "name": "stdout",
     "output_type": "stream",
     "text": [
      "\n",
      " === Word Boundary matchig ===\n"
     ]
    }
   ],
   "source": [
    "print(\"\\n === Word Boundary matchig ===\")"
   ]
  },
  {
   "cell_type": "code",
   "execution_count": 2,
   "id": "4c632b1b-f009-49ce-a443-111a84561053",
   "metadata": {},
   "outputs": [],
   "source": [
    "import re"
   ]
  },
  {
   "cell_type": "code",
   "execution_count": 3,
   "id": "03fb7603-13c7-43e6-a9d2-86ffbb6990cc",
   "metadata": {},
   "outputs": [],
   "source": [
    "text = \"Find the word 'cat' in 'category' and 'cat'\""
   ]
  },
  {
   "cell_type": "code",
   "execution_count": 4,
   "id": "6bed9a65-d27c-4d53-b9d8-f0287bc48dbc",
   "metadata": {},
   "outputs": [],
   "source": [
    "matches = re.findall(r'\\bcat\\b', text)"
   ]
  },
  {
   "cell_type": "code",
   "execution_count": 5,
   "id": "11deac67-f7ed-4244-b30f-d83429230419",
   "metadata": {},
   "outputs": [
    {
     "name": "stdout",
     "output_type": "stream",
     "text": [
      "cat in:['cat', 'cat']\n"
     ]
    }
   ],
   "source": [
    "print(f\"cat in:{matches}\")"
   ]
  },
  {
   "cell_type": "code",
   "execution_count": null,
   "id": "b81f1e0d-b14b-4e48-88b3-9008f61a5a6a",
   "metadata": {},
   "outputs": [],
   "source": []
  }
 ],
 "metadata": {
  "kernelspec": {
   "display_name": "Python 3 (ipykernel)",
   "language": "python",
   "name": "python3"
  },
  "language_info": {
   "codemirror_mode": {
    "name": "ipython",
    "version": 3
   },
   "file_extension": ".py",
   "mimetype": "text/x-python",
   "name": "python",
   "nbconvert_exporter": "python",
   "pygments_lexer": "ipython3",
   "version": "3.12.8"
  }
 },
 "nbformat": 4,
 "nbformat_minor": 5
}
