{
 "cells": [
  {
   "cell_type": "code",
   "execution_count": null,
   "id": "db883026-f0a7-43a3-8dc0-680f2756738a",
   "metadata": {},
   "outputs": [],
   "source": [
    "#created at 20250426"
   ]
  },
  {
   "cell_type": "code",
   "execution_count": null,
   "id": "808bec56-a475-4454-9fb9-250daa095776",
   "metadata": {},
   "outputs": [],
   "source": [
    "#Lookahead and Lookbehind"
   ]
  },
  {
   "cell_type": "code",
   "execution_count": 1,
   "id": "a411a309-b21c-4ef4-af96-358b56fc0a9c",
   "metadata": {},
   "outputs": [
    {
     "name": "stdout",
     "output_type": "stream",
     "text": [
      "\n",
      " === Lookahead and Lookbehind ===\n"
     ]
    }
   ],
   "source": [
    "print(\"\\n === Lookahead and Lookbehind ===\")"
   ]
  },
  {
   "cell_type": "code",
   "execution_count": 2,
   "id": "5cf87e5b-b088-4c29-a94c-8f672fecb88b",
   "metadata": {},
   "outputs": [],
   "source": [
    "text = \"Price: $100, Cost: $200\""
   ]
  },
  {
   "cell_type": "code",
   "execution_count": 3,
   "id": "3e0189fd-6da7-44d3-86b8-5341e655a810",
   "metadata": {},
   "outputs": [],
   "source": [
    "import re"
   ]
  },
  {
   "cell_type": "code",
   "execution_count": 4,
   "id": "79074a7f-1f97-4876-9239-4998b34c480b",
   "metadata": {},
   "outputs": [],
   "source": [
    "#Find numbers after '$'"
   ]
  },
  {
   "cell_type": "code",
   "execution_count": 5,
   "id": "ad23f49c-8464-4617-b201-3347215f364b",
   "metadata": {},
   "outputs": [],
   "source": [
    "prices = re.findall(r'(?<=\\$)\\d+' , text)"
   ]
  },
  {
   "cell_type": "code",
   "execution_count": 6,
   "id": "263a5bdf-411c-4ac7-871b-5dd569c84bba",
   "metadata": {},
   "outputs": [
    {
     "name": "stdout",
     "output_type": "stream",
     "text": [
      "prices:['100', '200']\n"
     ]
    }
   ],
   "source": [
    "print(f\"prices:{prices}\")"
   ]
  },
  {
   "cell_type": "code",
   "execution_count": null,
   "id": "7785ced6-3702-4f99-a54e-ac2135e0e696",
   "metadata": {},
   "outputs": [],
   "source": []
  }
 ],
 "metadata": {
  "kernelspec": {
   "display_name": "Python 3 (ipykernel)",
   "language": "python",
   "name": "python3"
  },
  "language_info": {
   "codemirror_mode": {
    "name": "ipython",
    "version": 3
   },
   "file_extension": ".py",
   "mimetype": "text/x-python",
   "name": "python",
   "nbconvert_exporter": "python",
   "pygments_lexer": "ipython3",
   "version": "3.12.8"
  }
 },
 "nbformat": 4,
 "nbformat_minor": 5
}
