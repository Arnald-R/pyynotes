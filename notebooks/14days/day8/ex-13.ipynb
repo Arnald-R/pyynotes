{
 "cells": [
  {
   "cell_type": "code",
   "execution_count": null,
   "id": "848f2000-274a-433c-860c-60783c8e5b7e",
   "metadata": {},
   "outputs": [],
   "source": [
    "#created at 20250428"
   ]
  },
  {
   "cell_type": "code",
   "execution_count": null,
   "id": "29c83e44-2b5a-4bad-843e-f89258ccaa40",
   "metadata": {},
   "outputs": [],
   "source": [
    "#Phone Number Formatting"
   ]
  },
  {
   "cell_type": "code",
   "execution_count": 1,
   "id": "6a5292a2-1412-4a9b-a8eb-cdf3e62e4070",
   "metadata": {},
   "outputs": [
    {
     "name": "stdout",
     "output_type": "stream",
     "text": [
      "\n",
      " === Phone number Formatting ===\n"
     ]
    }
   ],
   "source": [
    "print(\"\\n === Phone number Formatting ===\")"
   ]
  },
  {
   "cell_type": "code",
   "execution_count": 2,
   "id": "40df9025-d0a5-4e23-b3e9-fd42a921cf44",
   "metadata": {},
   "outputs": [],
   "source": [
    "import re"
   ]
  },
  {
   "cell_type": "code",
   "execution_count": 3,
   "id": "2d362ebd-6cca-4904-9ea6-611e1c9f298e",
   "metadata": {},
   "outputs": [],
   "source": [
    "def format_phone(phone):\n",
    "    #Remove all non-digits \n",
    "    digits = re.sub(r'\\D', '', phone)\n",
    "    #Format as XXX-XXX-XXXX\n",
    "    return re.sub(r'(\\d{3})(\\d{3})(\\d{4})', r'\\1-\\2-\\3', digits)"
   ]
  },
  {
   "cell_type": "code",
   "execution_count": 4,
   "id": "33ecd4d5-177e-467c-853f-c40d36e39a2f",
   "metadata": {},
   "outputs": [
    {
     "name": "stdout",
     "output_type": "stream",
     "text": [
      "formatted phone:123-456-7890\n"
     ]
    }
   ],
   "source": [
    "print(f\"formatted phone:{format_phone('1234567890')}\")"
   ]
  },
  {
   "cell_type": "code",
   "execution_count": null,
   "id": "33b90005-ebbc-4849-aea1-0c19c5b65eb5",
   "metadata": {},
   "outputs": [],
   "source": []
  }
 ],
 "metadata": {
  "kernelspec": {
   "display_name": "Python 3 (ipykernel)",
   "language": "python",
   "name": "python3"
  },
  "language_info": {
   "codemirror_mode": {
    "name": "ipython",
    "version": 3
   },
   "file_extension": ".py",
   "mimetype": "text/x-python",
   "name": "python",
   "nbconvert_exporter": "python",
   "pygments_lexer": "ipython3",
   "version": "3.12.8"
  }
 },
 "nbformat": 4,
 "nbformat_minor": 5
}
