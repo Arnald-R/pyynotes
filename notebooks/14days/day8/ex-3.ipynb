{
 "cells": [
  {
   "cell_type": "code",
   "execution_count": null,
   "id": "c587681c-1342-4609-9f5a-494aaaf98a09",
   "metadata": {},
   "outputs": [],
   "source": [
    "#created at 20250424"
   ]
  },
  {
   "cell_type": "code",
   "execution_count": null,
   "id": "a4358bf2-ad9d-400c-8e4f-7868a9bf83c0",
   "metadata": {},
   "outputs": [],
   "source": [
    "#string split with regex"
   ]
  },
  {
   "cell_type": "code",
   "execution_count": 5,
   "id": "a9a9d50a-684b-4167-a7ac-2e96d1c76b8e",
   "metadata": {},
   "outputs": [
    {
     "name": "stdout",
     "output_type": "stream",
     "text": [
      "\n",
      " === String split with Regex ===\n"
     ]
    }
   ],
   "source": [
    "print(\"\\n === String split with Regex ===\")\n",
    "import re"
   ]
  },
  {
   "cell_type": "code",
   "execution_count": 6,
   "id": "0e45500d-e738-4632-8c2e-ff0f500ace64",
   "metadata": {},
   "outputs": [],
   "source": [
    "text = \"Hello;world,How are you\""
   ]
  },
  {
   "cell_type": "code",
   "execution_count": 7,
   "id": "28fec6d8-5ac8-45d9-b381-f63c13ec1f8a",
   "metadata": {},
   "outputs": [],
   "source": [
    "parts = re.split(r'[;,:]', text)"
   ]
  },
  {
   "cell_type": "code",
   "execution_count": 8,
   "id": "8f15edef-42e9-45eb-b9ee-fb221f082f1d",
   "metadata": {},
   "outputs": [
    {
     "name": "stdout",
     "output_type": "stream",
     "text": [
      "split parts: ['Hello', 'world', 'How are you']\n"
     ]
    }
   ],
   "source": [
    "print(f\"split parts: {parts}\")"
   ]
  },
  {
   "cell_type": "code",
   "execution_count": null,
   "id": "65690f02-4d79-4b1d-b238-0ea0aed38b73",
   "metadata": {},
   "outputs": [],
   "source": []
  }
 ],
 "metadata": {
  "kernelspec": {
   "display_name": "Python 3 (ipykernel)",
   "language": "python",
   "name": "python3"
  },
  "language_info": {
   "codemirror_mode": {
    "name": "ipython",
    "version": 3
   },
   "file_extension": ".py",
   "mimetype": "text/x-python",
   "name": "python",
   "nbconvert_exporter": "python",
   "pygments_lexer": "ipython3",
   "version": "3.12.8"
  }
 },
 "nbformat": 4,
 "nbformat_minor": 5
}
