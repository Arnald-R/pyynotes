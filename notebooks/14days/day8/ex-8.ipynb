{
 "cells": [
  {
   "cell_type": "code",
   "execution_count": null,
   "id": "c52071aa-9942-4dd8-8914-770eae79fd16",
   "metadata": {},
   "outputs": [],
   "source": [
    "#created at 20250426"
   ]
  },
  {
   "cell_type": "code",
   "execution_count": null,
   "id": "19b6bb53-8959-45e9-849f-5f95b09a1c80",
   "metadata": {},
   "outputs": [],
   "source": [
    "#URL pattern matching"
   ]
  },
  {
   "cell_type": "code",
   "execution_count": 1,
   "id": "355f21a7-74dc-41e1-adcc-31b8c8da87c2",
   "metadata": {},
   "outputs": [
    {
     "name": "stdout",
     "output_type": "stream",
     "text": [
      "\n",
      " === URL pattern Matching ===\n"
     ]
    }
   ],
   "source": [
    "print(\"\\n === URL pattern Matching ===\")"
   ]
  },
  {
   "cell_type": "code",
   "execution_count": 2,
   "id": "7eef798a-6770-489a-801f-ec2f37ea6379",
   "metadata": {},
   "outputs": [],
   "source": [
    "import re"
   ]
  },
  {
   "cell_type": "code",
   "execution_count": 3,
   "id": "a3b9134d-7d79-4b35-a370-a323092f9ddc",
   "metadata": {},
   "outputs": [],
   "source": [
    "text = \"Visit our website at https://www.example.com or http://test.com\""
   ]
  },
  {
   "cell_type": "code",
   "execution_count": 4,
   "id": "17bd7794-f52f-4516-82d1-41943759029b",
   "metadata": {},
   "outputs": [],
   "source": [
    "urls = re.findall(r'https?://[\\W\\.-]+\\.\\W+', text)"
   ]
  },
  {
   "cell_type": "code",
   "execution_count": 5,
   "id": "22563db8-2708-43d8-9ddd-c58fa2d28683",
   "metadata": {},
   "outputs": [
    {
     "name": "stdout",
     "output_type": "stream",
     "text": [
      "found urls:[]\n"
     ]
    }
   ],
   "source": [
    "print(f\"found urls:{urls}\")"
   ]
  },
  {
   "cell_type": "code",
   "execution_count": null,
   "id": "2d8d70af-283f-40de-b503-8eb3314c8e91",
   "metadata": {},
   "outputs": [],
   "source": []
  }
 ],
 "metadata": {
  "kernelspec": {
   "display_name": "Python 3 (ipykernel)",
   "language": "python",
   "name": "python3"
  },
  "language_info": {
   "codemirror_mode": {
    "name": "ipython",
    "version": 3
   },
   "file_extension": ".py",
   "mimetype": "text/x-python",
   "name": "python",
   "nbconvert_exporter": "python",
   "pygments_lexer": "ipython3",
   "version": "3.12.8"
  }
 },
 "nbformat": 4,
 "nbformat_minor": 5
}
