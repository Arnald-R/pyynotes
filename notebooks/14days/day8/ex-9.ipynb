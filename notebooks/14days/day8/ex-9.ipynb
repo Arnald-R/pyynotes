{
 "cells": [
  {
   "cell_type": "code",
   "execution_count": null,
   "id": "14a151c4-d0ec-4420-b1b4-deae659de68a",
   "metadata": {},
   "outputs": [],
   "source": [
    "#created at 20250426"
   ]
  },
  {
   "cell_type": "code",
   "execution_count": null,
   "id": "d8981f70-0ba5-4356-ab75-08f04fb0b487",
   "metadata": {},
   "outputs": [],
   "source": [
    "#Named Groups"
   ]
  },
  {
   "cell_type": "code",
   "execution_count": 1,
   "id": "8c625d8c-9f02-4567-8606-41100efbe1f9",
   "metadata": {},
   "outputs": [
    {
     "name": "stdout",
     "output_type": "stream",
     "text": [
      "\n",
      " === Named Groups ===\n"
     ]
    }
   ],
   "source": [
    "print(\"\\n === Named Groups ===\")"
   ]
  },
  {
   "cell_type": "code",
   "execution_count": 2,
   "id": "621851a7-a581-4e79-b5c0-a294f01d5d6d",
   "metadata": {},
   "outputs": [],
   "source": [
    "import re"
   ]
  },
  {
   "cell_type": "code",
   "execution_count": 3,
   "id": "12f9e4e5-6be8-45db-b311-2180cadc5263",
   "metadata": {},
   "outputs": [],
   "source": [
    "text = \"John Doe: 30 years old\""
   ]
  },
  {
   "cell_type": "code",
   "execution_count": 4,
   "id": "1dcaa8de-d17b-4d4d-a480-cb6c30c981f1",
   "metadata": {},
   "outputs": [],
   "source": [
    "pattern = r'(?P<name>[\\W\\S]+): (?P<age>\\d+) years old'"
   ]
  },
  {
   "cell_type": "code",
   "execution_count": 5,
   "id": "d9d4e321-2598-4091-a6d9-842ebb000c5b",
   "metadata": {},
   "outputs": [],
   "source": [
    "match = re.search(pattern, text)"
   ]
  },
  {
   "cell_type": "code",
   "execution_count": 7,
   "id": "53f972d7-09bb-4548-baef-1254bbcd1ff5",
   "metadata": {},
   "outputs": [
    {
     "name": "stdout",
     "output_type": "stream",
     "text": [
      "Name: John Doe\n",
      "Age: 30\n"
     ]
    }
   ],
   "source": [
    "if match:\n",
    "    print(f\"Name: {match.group('name')}\")\n",
    "    print(f\"Age: {match.group('age')}\")"
   ]
  },
  {
   "cell_type": "code",
   "execution_count": null,
   "id": "850bc695-4675-4629-acd1-9449dea48ab0",
   "metadata": {},
   "outputs": [],
   "source": []
  }
 ],
 "metadata": {
  "kernelspec": {
   "display_name": "Python 3 (ipykernel)",
   "language": "python",
   "name": "python3"
  },
  "language_info": {
   "codemirror_mode": {
    "name": "ipython",
    "version": 3
   },
   "file_extension": ".py",
   "mimetype": "text/x-python",
   "name": "python",
   "nbconvert_exporter": "python",
   "pygments_lexer": "ipython3",
   "version": "3.12.8"
  }
 },
 "nbformat": 4,
 "nbformat_minor": 5
}
