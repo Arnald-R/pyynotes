{
 "cells": [
  {
   "cell_type": "code",
   "execution_count": null,
   "id": "33aba505-92dd-4bc6-ad04-efc4c9b1a858",
   "metadata": {},
   "outputs": [],
   "source": [
    "#created at 20250426"
   ]
  },
  {
   "cell_type": "code",
   "execution_count": null,
   "id": "52ee63af-8a8a-4e79-9e1e-76b2d791eeaf",
   "metadata": {},
   "outputs": [],
   "source": [
    "#Complex Pattern Matching"
   ]
  },
  {
   "cell_type": "code",
   "execution_count": 4,
   "id": "e9330392-8ed3-440f-b807-9b203260fc5d",
   "metadata": {},
   "outputs": [
    {
     "name": "stdout",
     "output_type": "stream",
     "text": [
      "\n",
      " === Complex pattern Matching ===\n"
     ]
    }
   ],
   "source": [
    "print(\"\\n === Complex pattern Matching ===\")"
   ]
  },
  {
   "cell_type": "code",
   "execution_count": 5,
   "id": "72e74bde-08f0-41bc-97be-ed36aa166d27",
   "metadata": {},
   "outputs": [],
   "source": [
    "text = \"\"\"\n",
    "<div class=\"content\">\n",
    "    <p>Some text here </p>\n",
    "    <p>More text here </p>\n",
    "</div>\n",
    "\"\"\""
   ]
  },
  {
   "cell_type": "code",
   "execution_count": 6,
   "id": "a425d2e3-a34f-4ce8-aed9-eaba212d73d7",
   "metadata": {},
   "outputs": [],
   "source": [
    "import re"
   ]
  },
  {
   "cell_type": "code",
   "execution_count": 7,
   "id": "04b36aed-4783-4d2f-bc94-7fea6cd9df8d",
   "metadata": {},
   "outputs": [],
   "source": [
    "paragraphs = re.findall(r'<p>(.*?)</p>', text)"
   ]
  },
  {
   "cell_type": "code",
   "execution_count": 8,
   "id": "abd56999-580b-46e3-a8af-c117ccf0b180",
   "metadata": {},
   "outputs": [
    {
     "name": "stdout",
     "output_type": "stream",
     "text": [
      "found paragraphs :['Some text here ', 'More text here ']\n"
     ]
    }
   ],
   "source": [
    "print(f\"found paragraphs :{paragraphs}\")"
   ]
  },
  {
   "cell_type": "code",
   "execution_count": null,
   "id": "0d6373e3-af53-4210-ad41-c6adc5b9024a",
   "metadata": {},
   "outputs": [],
   "source": []
  }
 ],
 "metadata": {
  "kernelspec": {
   "display_name": "Python 3 (ipykernel)",
   "language": "python",
   "name": "python3"
  },
  "language_info": {
   "codemirror_mode": {
    "name": "ipython",
    "version": 3
   },
   "file_extension": ".py",
   "mimetype": "text/x-python",
   "name": "python",
   "nbconvert_exporter": "python",
   "pygments_lexer": "ipython3",
   "version": "3.12.8"
  }
 },
 "nbformat": 4,
 "nbformat_minor": 5
}
