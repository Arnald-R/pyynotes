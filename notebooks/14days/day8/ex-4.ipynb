{
 "cells": [
  {
   "cell_type": "code",
   "execution_count": null,
   "id": "e96b1782-f9fd-4d40-89a3-9af6ac131a8a",
   "metadata": {},
   "outputs": [],
   "source": [
    "#created at 20250424"
   ]
  },
  {
   "cell_type": "code",
   "execution_count": null,
   "id": "5caf1985-d61a-4692-a344-ede6cc9759da",
   "metadata": {},
   "outputs": [],
   "source": [
    "#Pattern Substituition"
   ]
  },
  {
   "cell_type": "code",
   "execution_count": 1,
   "id": "102afa65-c30c-4249-9de9-df54cb3cdf65",
   "metadata": {},
   "outputs": [
    {
     "name": "stdout",
     "output_type": "stream",
     "text": [
      "\n",
      " === Pattern substiution === \n"
     ]
    }
   ],
   "source": [
    "print(\"\\n === Pattern substiution === \")"
   ]
  },
  {
   "cell_type": "code",
   "execution_count": 3,
   "id": "7f2f3c58-57d6-40e4-b2f8-cdb64a5be3fd",
   "metadata": {},
   "outputs": [],
   "source": [
    "text = \"My SSN is 123-45-6789 and credit card is 1234-5678-9012-3456\""
   ]
  },
  {
   "cell_type": "code",
   "execution_count": 4,
   "id": "731da545-083f-42ac-a1ee-fff1eaa31dc6",
   "metadata": {},
   "outputs": [],
   "source": [
    "import re"
   ]
  },
  {
   "cell_type": "code",
   "execution_count": 6,
   "id": "802f4459-96f5-4945-bba3-8d6f48ee2886",
   "metadata": {},
   "outputs": [],
   "source": [
    "masked = re.sub(r'\\d{3}-\\d{2}-\\d{4}','xxx-xx-xxxx', text)"
   ]
  },
  {
   "cell_type": "code",
   "execution_count": 8,
   "id": "597ed14c-ebfb-453d-8b39-2c79b2a9adab",
   "metadata": {},
   "outputs": [],
   "source": [
    "masked = re.sub(r'\\d{4}-\\d{4}-\\d{4}-\\d{4}','xxxx-xxxx-xxxx-xxxx', masked)"
   ]
  },
  {
   "cell_type": "code",
   "execution_count": 9,
   "id": "c575302e-a540-4db4-a793-2088cb671393",
   "metadata": {},
   "outputs": [
    {
     "name": "stdout",
     "output_type": "stream",
     "text": [
      "Masked text: My SSN is xxx-xx-xxxx and credit card is xxxx-xxxx-xxxx-xxxx\n"
     ]
    }
   ],
   "source": [
    "print(f\"Masked text: {masked}\")"
   ]
  },
  {
   "cell_type": "code",
   "execution_count": null,
   "id": "c690cd88-9819-4e68-9fcf-2f006fdb509b",
   "metadata": {},
   "outputs": [],
   "source": []
  }
 ],
 "metadata": {
  "kernelspec": {
   "display_name": "Python 3 (ipykernel)",
   "language": "python",
   "name": "python3"
  },
  "language_info": {
   "codemirror_mode": {
    "name": "ipython",
    "version": 3
   },
   "file_extension": ".py",
   "mimetype": "text/x-python",
   "name": "python",
   "nbconvert_exporter": "python",
   "pygments_lexer": "ipython3",
   "version": "3.12.8"
  }
 },
 "nbformat": 4,
 "nbformat_minor": 5
}
