{
 "cells": [
  {
   "cell_type": "code",
   "execution_count": null,
   "id": "82dc1cb0-ad96-4f4f-9717-7f14e1416886",
   "metadata": {},
   "outputs": [],
   "source": [
    "#created at 20250423"
   ]
  },
  {
   "cell_type": "code",
   "execution_count": 3,
   "id": "9bb1662a-e09e-4b73-b443-656d3bdeae4d",
   "metadata": {},
   "outputs": [],
   "source": [
    "import re\n",
    "from datetime import datetime"
   ]
  },
  {
   "cell_type": "code",
   "execution_count": 4,
   "id": "9906bb7e-134f-4f6e-bc47-1f2b1e2deb51",
   "metadata": {},
   "outputs": [],
   "source": [
    "text =\"Contact us at:test@email.com or support@company.com\""
   ]
  },
  {
   "cell_type": "code",
   "execution_count": 5,
   "id": "a14094a3-d0d1-4ed3-ab94-290460925595",
   "metadata": {},
   "outputs": [],
   "source": [
    "emails = re.findall(r'[\\w\\.-]+@[\\w\\.-]+', text)"
   ]
  },
  {
   "cell_type": "code",
   "execution_count": 6,
   "id": "4fb18e99-9f55-476a-8595-8e639444a906",
   "metadata": {},
   "outputs": [
    {
     "name": "stdout",
     "output_type": "stream",
     "text": [
      "found emails:['test@email.com', 'support@company.com']\n"
     ]
    }
   ],
   "source": [
    "print(f\"found emails:{emails}\")"
   ]
  },
  {
   "cell_type": "code",
   "execution_count": null,
   "id": "75608f34-2ec4-483a-8474-d265d8fe5d32",
   "metadata": {},
   "outputs": [],
   "source": []
  }
 ],
 "metadata": {
  "kernelspec": {
   "display_name": "Python 3 (ipykernel)",
   "language": "python",
   "name": "python3"
  },
  "language_info": {
   "codemirror_mode": {
    "name": "ipython",
    "version": 3
   },
   "file_extension": ".py",
   "mimetype": "text/x-python",
   "name": "python",
   "nbconvert_exporter": "python",
   "pygments_lexer": "ipython3",
   "version": "3.12.8"
  }
 },
 "nbformat": 4,
 "nbformat_minor": 5
}
