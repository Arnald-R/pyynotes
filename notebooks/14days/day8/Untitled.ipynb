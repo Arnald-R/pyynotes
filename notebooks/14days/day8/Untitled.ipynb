{
 "cells": [
  {
   "cell_type": "code",
   "execution_count": null,
   "id": "db6288c1-ad14-4d38-945b-f984018fbb4a",
   "metadata": {},
   "outputs": [],
   "source": [
    "#created at 20250426"
   ]
  },
  {
   "cell_type": "code",
   "execution_count": null,
   "id": "94e92070-0ceb-42d4-8739-9d5ce9b333ec",
   "metadata": {},
   "outputs": [],
   "source": [
    "#String validation"
   ]
  },
  {
   "cell_type": "code",
   "execution_count": 1,
   "id": "b5514c83-8a90-46f7-a7c4-78f281485356",
   "metadata": {},
   "outputs": [
    {
     "name": "stdout",
     "output_type": "stream",
     "text": [
      "\n",
      " === String Validation ===\n"
     ]
    }
   ],
   "source": [
    "print(\"\\n === String Validation ===\")"
   ]
  },
  {
   "cell_type": "code",
   "execution_count": null,
   "id": "9df17f14-bdd2-4d9c-8327-30ff3c3e4f11",
   "metadata": {},
   "outputs": [],
   "source": []
  }
 ],
 "metadata": {
  "kernelspec": {
   "display_name": "Python 3 (ipykernel)",
   "language": "python",
   "name": "python3"
  },
  "language_info": {
   "codemirror_mode": {
    "name": "ipython",
    "version": 3
   },
   "file_extension": ".py",
   "mimetype": "text/x-python",
   "name": "python",
   "nbconvert_exporter": "python",
   "pygments_lexer": "ipython3",
   "version": "3.12.8"
  }
 },
 "nbformat": 4,
 "nbformat_minor": 5
}
