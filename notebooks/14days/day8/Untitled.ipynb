{
 "cells": [
  {
   "cell_type": "code",
   "execution_count": null,
   "id": "2fa0eb56-1b8a-4b55-99c6-036acaa84cc3",
   "metadata": {},
   "outputs": [],
   "source": [
    "#created at 20250428"
   ]
  },
  {
   "cell_type": "code",
   "execution_count": null,
   "id": "70ff0ead-0ecf-4a3b-a8e3-fb77f420726f",
   "metadata": {},
   "outputs": [],
   "source": [
    "#password Validation"
   ]
  },
  {
   "cell_type": "code",
   "execution_count": 1,
   "id": "ea41b3f5-b153-4d81-be92-ce1a60161b4c",
   "metadata": {},
   "outputs": [
    {
     "name": "stdout",
     "output_type": "stream",
     "text": [
      "\n",
      " === Password validation ===\n"
     ]
    }
   ],
   "source": [
    "print(\"\\n === Password validation ===\")"
   ]
  },
  {
   "cell_type": "code",
   "execution_count": 2,
   "id": "90b0b66d-89e3-48a3-a133-2efe0d4025f5",
   "metadata": {},
   "outputs": [],
   "source": [
    "import re"
   ]
  },
  {
   "cell_type": "code",
   "execution_count": 3,
   "id": "b3b733cf-229a-4c55-9d51-fe388d706802",
   "metadata": {},
   "outputs": [],
   "source": [
    "def validate_password(password):\n",
    "    #atleaset 8 charcters, 1 uppercase, 1 lowercase, 1 Number\n",
    "    pattern = r'^(?=.*[A-Z])(?=.[a-z])(?=.*\\d).{8,}$'\n",
    "    return bool(re.match(pattern, password))\n",
    "    "
   ]
  },
  {
   "cell_type": "code",
   "execution_count": 6,
   "id": "42f798e1-e0a4-4c75-bf40-97049d1fe22d",
   "metadata": {},
   "outputs": [
    {
     "name": "stdout",
     "output_type": "stream",
     "text": [
      "Valid password: True\n"
     ]
    }
   ],
   "source": [
    "print(f\"Valid password: {validate_password('Password123')}\")"
   ]
  },
  {
   "cell_type": "code",
   "execution_count": null,
   "id": "8f19872c-74e0-4c62-9c69-dda9b8fa0c1e",
   "metadata": {},
   "outputs": [],
   "source": [
    "print(f\"Validate password:{validate_password("
   ]
  }
 ],
 "metadata": {
  "kernelspec": {
   "display_name": "Python 3 (ipykernel)",
   "language": "python",
   "name": "python3"
  },
  "language_info": {
   "codemirror_mode": {
    "name": "ipython",
    "version": 3
   },
   "file_extension": ".py",
   "mimetype": "text/x-python",
   "name": "python",
   "nbconvert_exporter": "python",
   "pygments_lexer": "ipython3",
   "version": "3.12.8"
  }
 },
 "nbformat": 4,
 "nbformat_minor": 5
}
