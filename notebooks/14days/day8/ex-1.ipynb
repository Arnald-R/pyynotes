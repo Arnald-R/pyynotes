{
 "cells": [
  {
   "cell_type": "code",
   "execution_count": null,
   "id": "82dc1cb0-ad96-4f4f-9717-7f14e1416886",
   "metadata": {},
   "outputs": [],
   "source": [
    "#created at 202504 23"
   ]
  },
  {
   "cell_type": "code",
   "execution_count": null,
   "id": "9bb1662a-e09e-4b73-b443-656d3bdeae4d",
   "metadata": {},
   "outputs": [],
   "source": [
    "#Basic pattern Matching"
   ]
  },
  {
   "cell_type": "code",
   "execution_count": 1,
   "id": "9906bb7e-134f-4f6e-bc47-1f2b1e2deb51",
   "metadata": {},
   "outputs": [
    {
     "name": "stdout",
     "output_type": "stream",
     "text": [
      "\n",
      " === Basic Pattern Matching ===\n"
     ]
    }
   ],
   "source": [
    "print(\"\\n === Basic Pattern Matching ===\")"
   ]
  },
  {
   "cell_type": "code",
   "execution_count": 3,
   "id": "a14094a3-d0d1-4ed3-ab94-290460925595",
   "metadata": {},
   "outputs": [],
   "source": [
    "import re\n",
    "from datetime import datetime"
   ]
  },
  {
   "cell_type": "code",
   "execution_count": 5,
   "id": "005ce0f6-c61e-42bc-9707-857f076ab63b",
   "metadata": {},
   "outputs": [],
   "source": [
    "text = \"Hello, my phone number is 123-456-7890\""
   ]
  },
  {
   "cell_type": "code",
   "execution_count": 6,
   "id": "ef340d66-46a8-4b8b-ba75-04b26582705f",
   "metadata": {},
   "outputs": [],
   "source": [
    "pattern = r\"\\d{3}-\\d{3}-\\d{4}\""
   ]
  },
  {
   "cell_type": "code",
   "execution_count": 7,
   "id": "d916a369-5c04-45d8-ad13-c576f006a8fb",
   "metadata": {},
   "outputs": [],
   "source": [
    "match = re.search(pattern, text)"
   ]
  },
  {
   "cell_type": "code",
   "execution_count": 8,
   "id": "8c255883-2ec3-405c-acaf-9180e3ed9b51",
   "metadata": {},
   "outputs": [
    {
     "name": "stdout",
     "output_type": "stream",
     "text": [
      "Phone number found:123-456-7890\n"
     ]
    }
   ],
   "source": [
    "print(f\"Phone number found:{match.group() if match else 'Not found'}\")"
   ]
  },
  {
   "cell_type": "code",
   "execution_count": null,
   "id": "f527d9a3-cf66-4de3-b54a-5b6f1094b0df",
   "metadata": {},
   "outputs": [],
   "source": []
  }
 ],
 "metadata": {
  "kernelspec": {
   "display_name": "Python 3 (ipykernel)",
   "language": "python",
   "name": "python3"
  },
  "language_info": {
   "codemirror_mode": {
    "name": "ipython",
    "version": 3
   },
   "file_extension": ".py",
   "mimetype": "text/x-python",
   "name": "python",
   "nbconvert_exporter": "python",
   "pygments_lexer": "ipython3",
   "version": "3.12.8"
  }
 },
 "nbformat": 4,
 "nbformat_minor": 5
}
