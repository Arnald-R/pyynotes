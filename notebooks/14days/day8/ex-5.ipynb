{
 "cells": [
  {
   "cell_type": "code",
   "execution_count": null,
   "id": "6c336d8b-c0ff-4dfc-9dc2-e85cc2f3c130",
   "metadata": {},
   "outputs": [],
   "source": [
    "#created at 20250424"
   ]
  },
  {
   "cell_type": "code",
   "execution_count": null,
   "id": "942c7669-abab-4b30-a392-2130016600f0",
   "metadata": {},
   "outputs": [],
   "source": [
    "#Case sensitive Matching"
   ]
  },
  {
   "cell_type": "code",
   "execution_count": 1,
   "id": "c8c0a38c-b60b-47a7-8ac7-bbed9fa87fa6",
   "metadata": {},
   "outputs": [
    {
     "name": "stdout",
     "output_type": "stream",
     "text": [
      "\n",
      " === Case sensitive Matching ===\n"
     ]
    }
   ],
   "source": [
    "print(\"\\n === Case sensitive Matching ===\")"
   ]
  },
  {
   "cell_type": "code",
   "execution_count": 2,
   "id": "60392062-8470-448b-b0cb-c67e5be65b11",
   "metadata": {},
   "outputs": [],
   "source": [
    "import re"
   ]
  },
  {
   "cell_type": "code",
   "execution_count": 5,
   "id": "bf0d7240-aee7-4414-8b09-8ec3bbb88407",
   "metadata": {},
   "outputs": [],
   "source": [
    "text = \"Python is awesome, PYTHON is great, Python is Fun\""
   ]
  },
  {
   "cell_type": "code",
   "execution_count": 7,
   "id": "3acec8b7-ec03-4c8a-878f-2f1399f2bcd9",
   "metadata": {},
   "outputs": [],
   "source": [
    "matches = re.findall(r'python',text, re.IGNORECASE)"
   ]
  },
  {
   "cell_type": "code",
   "execution_count": 8,
   "id": "83247405-b9df-4bf3-96ce-7446ed2fd775",
   "metadata": {},
   "outputs": [
    {
     "name": "stdout",
     "output_type": "stream",
     "text": [
      "Found 'python' 3 times\n"
     ]
    }
   ],
   "source": [
    "print(f\"Found 'python' {len(matches)} times\")"
   ]
  },
  {
   "cell_type": "code",
   "execution_count": null,
   "id": "3cabd62d-f39e-4722-9884-b9aadbed601e",
   "metadata": {},
   "outputs": [],
   "source": []
  }
 ],
 "metadata": {
  "kernelspec": {
   "display_name": "Python 3 (ipykernel)",
   "language": "python",
   "name": "python3"
  },
  "language_info": {
   "codemirror_mode": {
    "name": "ipython",
    "version": 3
   },
   "file_extension": ".py",
   "mimetype": "text/x-python",
   "name": "python",
   "nbconvert_exporter": "python",
   "pygments_lexer": "ipython3",
   "version": "3.12.8"
  }
 },
 "nbformat": 4,
 "nbformat_minor": 5
}
