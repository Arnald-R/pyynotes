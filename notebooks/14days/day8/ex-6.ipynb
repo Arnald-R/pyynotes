{
 "cells": [
  {
   "cell_type": "code",
   "execution_count": null,
   "id": "875692d7-3e22-4d65-9e49-71b1e395b30b",
   "metadata": {},
   "outputs": [],
   "source": [
    "#created at 20250425"
   ]
  },
  {
   "cell_type": "code",
   "execution_count": null,
   "id": "aec2611c-35ec-461a-a503-8ce6e746f19d",
   "metadata": {},
   "outputs": [],
   "source": [
    "#Date Pattern Matching"
   ]
  },
  {
   "cell_type": "code",
   "execution_count": 8,
   "id": "05896d77-b08e-45e7-a316-1670506ab69f",
   "metadata": {},
   "outputs": [],
   "source": [
    "import re\n",
    "from datetime import datetime"
   ]
  },
  {
   "cell_type": "code",
   "execution_count": 9,
   "id": "d7670a06-96b1-4318-a4be-51ef96a34dad",
   "metadata": {},
   "outputs": [
    {
     "name": "stdout",
     "output_type": "stream",
     "text": [
      "\n",
      " === Date Pattern Matching ===\n"
     ]
    }
   ],
   "source": [
    "print(\"\\n === Date Pattern Matching ===\")"
   ]
  },
  {
   "cell_type": "code",
   "execution_count": 12,
   "id": "4434c1f4-452f-46d7-a0e7-4b192f44a950",
   "metadata": {},
   "outputs": [],
   "source": [
    "text = \"Important dates: 2025-04-25, 2025/04/25, 25-Apr-2025\""
   ]
  },
  {
   "cell_type": "code",
   "execution_count": 14,
   "id": "137e3f9e-c93c-47cb-8670-639fb7d3452d",
   "metadata": {},
   "outputs": [],
   "source": [
    "dates = re.findall(r'\\d{4}[-/]\\d{2}[-/]\\d{2}', text)"
   ]
  },
  {
   "cell_type": "code",
   "execution_count": 15,
   "id": "c9612571-d15c-496e-aa76-8fc1769e5c04",
   "metadata": {},
   "outputs": [
    {
     "name": "stdout",
     "output_type": "stream",
     "text": [
      "Found dates:['2025-04-25', '2025/04/25']\n"
     ]
    }
   ],
   "source": [
    "print(f\"Found dates:{dates}\")"
   ]
  },
  {
   "cell_type": "code",
   "execution_count": null,
   "id": "8f5cd36d-af1f-43f9-af7e-d5067434970c",
   "metadata": {},
   "outputs": [],
   "source": []
  }
 ],
 "metadata": {
  "kernelspec": {
   "display_name": "Python 3 (ipykernel)",
   "language": "python",
   "name": "python3"
  },
  "language_info": {
   "codemirror_mode": {
    "name": "ipython",
    "version": 3
   },
   "file_extension": ".py",
   "mimetype": "text/x-python",
   "name": "python",
   "nbconvert_exporter": "python",
   "pygments_lexer": "ipython3",
   "version": "3.12.8"
  }
 },
 "nbformat": 4,
 "nbformat_minor": 5
}
