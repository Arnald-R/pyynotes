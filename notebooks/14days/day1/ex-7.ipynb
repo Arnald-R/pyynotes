{
 "cells": [
  {
   "cell_type": "code",
   "execution_count": null,
   "id": "b5e63e55-c148-4020-9821-3cd693d149c6",
   "metadata": {},
   "outputs": [],
   "source": [
    "#created at 20250325"
   ]
  },
  {
   "cell_type": "code",
   "execution_count": null,
   "id": "135de3b1-82f1-413d-9e80-18ee9f4de40e",
   "metadata": {},
   "outputs": [],
   "source": [
    "#Number systems"
   ]
  },
  {
   "cell_type": "code",
   "execution_count": 1,
   "id": "75582e5b-2062-4ebb-adce-57eb5d8d2deb",
   "metadata": {},
   "outputs": [
    {
     "name": "stdout",
     "output_type": "stream",
     "text": [
      "\n",
      " === Number Systems === \n"
     ]
    }
   ],
   "source": [
    "print(\"\\n === Number Systems === \")"
   ]
  },
  {
   "cell_type": "code",
   "execution_count": 2,
   "id": "368892c9-615d-46ad-a8c3-6824fae33a8f",
   "metadata": {},
   "outputs": [],
   "source": [
    "decimal = 42"
   ]
  },
  {
   "cell_type": "code",
   "execution_count": 3,
   "id": "b0e47e5e-ac33-4fd1-874c-52c545d79af8",
   "metadata": {},
   "outputs": [],
   "source": [
    "binary = 0b101010"
   ]
  },
  {
   "cell_type": "code",
   "execution_count": 4,
   "id": "b7cff3ee-3a4f-4627-84d7-a99c43d16813",
   "metadata": {},
   "outputs": [],
   "source": [
    "hexadecimal = 0x2A"
   ]
  },
  {
   "cell_type": "code",
   "execution_count": 5,
   "id": "bbc443a7-e9eb-4e4d-b214-aac88a28f7b5",
   "metadata": {},
   "outputs": [],
   "source": [
    "octal = 0o52"
   ]
  },
  {
   "cell_type": "code",
   "execution_count": 6,
   "id": "266bf82c-54da-430c-a0bc-3d27dde94b64",
   "metadata": {},
   "outputs": [
    {
     "name": "stdout",
     "output_type": "stream",
     "text": [
      "Decimal:42, Binary:42, hexadecimal:42, Octal: 42\n"
     ]
    }
   ],
   "source": [
    "print(f\"Decimal:{decimal}, Binary:{binary}, hexadecimal:{hexadecimal}, Octal: {octal}\")"
   ]
  },
  {
   "cell_type": "code",
   "execution_count": null,
   "id": "92be56f2-2f4a-4b80-ad4c-2a08c36fab09",
   "metadata": {},
   "outputs": [],
   "source": []
  }
 ],
 "metadata": {
  "kernelspec": {
   "display_name": "Python 3 (ipykernel)",
   "language": "python",
   "name": "python3"
  },
  "language_info": {
   "codemirror_mode": {
    "name": "ipython",
    "version": 3
   },
   "file_extension": ".py",
   "mimetype": "text/x-python",
   "name": "python",
   "nbconvert_exporter": "python",
   "pygments_lexer": "ipython3",
   "version": "3.12.8"
  }
 },
 "nbformat": 4,
 "nbformat_minor": 5
}
