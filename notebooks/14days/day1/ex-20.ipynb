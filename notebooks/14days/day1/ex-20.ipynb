{
 "cells": [
  {
   "cell_type": "code",
   "execution_count": null,
   "id": "be72e021-c6f3-4ef3-89f7-0d2bc2633383",
   "metadata": {},
   "outputs": [],
   "source": [
    "#created at 20250326"
   ]
  },
  {
   "cell_type": "code",
   "execution_count": null,
   "id": "4234b615-3984-4764-8ef1-b960c1abec91",
   "metadata": {},
   "outputs": [],
   "source": [
    "#Type conversion chain"
   ]
  },
  {
   "cell_type": "code",
   "execution_count": 1,
   "id": "7a430fc4-1d4d-4069-a6aa-e6cc80707fae",
   "metadata": {},
   "outputs": [
    {
     "name": "stdout",
     "output_type": "stream",
     "text": [
      "\n",
      " === Type conversion chain ===\n"
     ]
    }
   ],
   "source": [
    "print(\"\\n === Type conversion chain ===\")"
   ]
  },
  {
   "cell_type": "code",
   "execution_count": 2,
   "id": "04b2ba99-73a3-4d2b-af26-f596657a0a5c",
   "metadata": {},
   "outputs": [
    {
     "name": "stdin",
     "output_type": "stream",
     "text": [
      "Enter a number: 12\n"
     ]
    }
   ],
   "source": [
    "user_input = input(\"Enter a number:\")#String"
   ]
  },
  {
   "cell_type": "code",
   "execution_count": 3,
   "id": "8a17cd89-bdd3-443b-ba23-3357de41d4c2",
   "metadata": {},
   "outputs": [],
   "source": [
    "number_float = float(user_input)#Convert to float"
   ]
  },
  {
   "cell_type": "code",
   "execution_count": 4,
   "id": "f24e867a-8c31-4fcc-8ae3-0db8e8a0bd77",
   "metadata": {},
   "outputs": [],
   "source": [
    "number_int = int(number_float) #convert to integer"
   ]
  },
  {
   "cell_type": "code",
   "execution_count": 5,
   "id": "f803927a-5279-40c5-b48c-b7696e4256d7",
   "metadata": {},
   "outputs": [],
   "source": [
    "back_to_string = str(number_int)#convert back to string"
   ]
  },
  {
   "cell_type": "code",
   "execution_count": 6,
   "id": "9155126e-d899-4a18-bed0-62f375f485af",
   "metadata": {},
   "outputs": [
    {
     "name": "stdout",
     "output_type": "stream",
     "text": [
      "Original: 12,final:12\n"
     ]
    }
   ],
   "source": [
    "print(f\"Original: {user_input},final:{back_to_string}\")"
   ]
  },
  {
   "cell_type": "code",
   "execution_count": null,
   "id": "9c15c9ce-54e0-4e66-a73d-3403188a6cc0",
   "metadata": {},
   "outputs": [],
   "source": []
  }
 ],
 "metadata": {
  "kernelspec": {
   "display_name": "Python 3 (ipykernel)",
   "language": "python",
   "name": "python3"
  },
  "language_info": {
   "codemirror_mode": {
    "name": "ipython",
    "version": 3
   },
   "file_extension": ".py",
   "mimetype": "text/x-python",
   "name": "python",
   "nbconvert_exporter": "python",
   "pygments_lexer": "ipython3",
   "version": "3.12.8"
  }
 },
 "nbformat": 4,
 "nbformat_minor": 5
}
