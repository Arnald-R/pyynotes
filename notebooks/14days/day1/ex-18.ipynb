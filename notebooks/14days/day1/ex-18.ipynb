{
 "cells": [
  {
   "cell_type": "code",
   "execution_count": null,
   "id": "d4ffb802-f18b-4e0e-a1b0-0c6de8730045",
   "metadata": {},
   "outputs": [],
   "source": [
    "#created at 20250326"
   ]
  },
  {
   "cell_type": "code",
   "execution_count": null,
   "id": "1464b961-69f2-4469-8733-5a4704182d20",
   "metadata": {},
   "outputs": [],
   "source": [
    "#Print Seperators"
   ]
  },
  {
   "cell_type": "code",
   "execution_count": 1,
   "id": "bf50e04e-7f18-420d-9893-43f82d991438",
   "metadata": {},
   "outputs": [
    {
     "name": "stdout",
     "output_type": "stream",
     "text": [
      "\n",
      " === Print Separators === \n"
     ]
    }
   ],
   "source": [
    "print(\"\\n === Print Separators === \")"
   ]
  },
  {
   "cell_type": "code",
   "execution_count": 2,
   "id": "da6919b0-c656-491a-a8fb-a9c825ba4b8a",
   "metadata": {},
   "outputs": [
    {
     "name": "stdout",
     "output_type": "stream",
     "text": [
      "Python -> Is -> Fun\n"
     ]
    }
   ],
   "source": [
    "print(\"Python\", \"Is\", \"Fun\", sep=\" -> \")"
   ]
  },
  {
   "cell_type": "code",
   "execution_count": 3,
   "id": "f0813592-4048-4b6a-9412-193a980e2b5e",
   "metadata": {},
   "outputs": [
    {
     "name": "stdout",
     "output_type": "stream",
     "text": [
      "2025 -> 03 -> 26\n"
     ]
    }
   ],
   "source": [
    "print(\"2025\", \"03\", \"26\", sep=\" -> \") "
   ]
  },
  {
   "cell_type": "code",
   "execution_count": 4,
   "id": "a7f1b969-fe19-4850-bd68-ddbe3e443e82",
   "metadata": {},
   "outputs": [
    {
     "name": "stdout",
     "output_type": "stream",
     "text": [
      "Hello!"
     ]
    }
   ],
   "source": [
    "print(\"Hello\",end = \"!\")"
   ]
  },
  {
   "cell_type": "code",
   "execution_count": 6,
   "id": "8d9548e4-37a6-448b-989d-c120782cb8a9",
   "metadata": {},
   "outputs": [
    {
     "name": "stdout",
     "output_type": "stream",
     "text": [
      "here\n"
     ]
    }
   ],
   "source": [
    "print(\"here\")"
   ]
  },
  {
   "cell_type": "code",
   "execution_count": null,
   "id": "cda1714c-8265-4166-bea9-df12a5469da6",
   "metadata": {},
   "outputs": [],
   "source": []
  }
 ],
 "metadata": {
  "kernelspec": {
   "display_name": "Python 3 (ipykernel)",
   "language": "python",
   "name": "python3"
  },
  "language_info": {
   "codemirror_mode": {
    "name": "ipython",
    "version": 3
   },
   "file_extension": ".py",
   "mimetype": "text/x-python",
   "name": "python",
   "nbconvert_exporter": "python",
   "pygments_lexer": "ipython3",
   "version": "3.12.8"
  }
 },
 "nbformat": 4,
 "nbformat_minor": 5
}
