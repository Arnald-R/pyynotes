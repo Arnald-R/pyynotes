{
 "cells": [
  {
   "cell_type": "code",
   "execution_count": null,
   "id": "b88de011-4cb4-43d5-b168-75365d769f7b",
   "metadata": {},
   "outputs": [],
   "source": [
    "#created at 20250326"
   ]
  },
  {
   "cell_type": "code",
   "execution_count": null,
   "id": "d0af2348-4f06-457a-910e-d927d7bdcb8b",
   "metadata": {},
   "outputs": [],
   "source": [
    "#string indexing"
   ]
  },
  {
   "cell_type": "code",
   "execution_count": 1,
   "id": "458e9d9e-6209-44ec-96e7-e4ff24717dbb",
   "metadata": {},
   "outputs": [
    {
     "name": "stdout",
     "output_type": "stream",
     "text": [
      "\n",
      " === String Indexing === \n"
     ]
    }
   ],
   "source": [
    "print(\"\\n === String Indexing === \")"
   ]
  },
  {
   "cell_type": "code",
   "execution_count": 2,
   "id": "b3796a7c-9782-4649-956c-7cd7d7136dfc",
   "metadata": {},
   "outputs": [],
   "source": [
    "text = \"Python\""
   ]
  },
  {
   "cell_type": "code",
   "execution_count": 3,
   "id": "0ca92f84-5d2e-4ed1-a59b-16108ed01fce",
   "metadata": {},
   "outputs": [
    {
     "name": "stdout",
     "output_type": "stream",
     "text": [
      "First character:P\n"
     ]
    }
   ],
   "source": [
    "print(f\"First character:{text[0]}\")"
   ]
  },
  {
   "cell_type": "code",
   "execution_count": 5,
   "id": "daa3a07f-8a07-4371-873a-79875342c353",
   "metadata": {},
   "outputs": [
    {
     "name": "stdout",
     "output_type": "stream",
     "text": [
      "Last character:n\n"
     ]
    }
   ],
   "source": [
    "print(f\"Last character:{text[-1]}\")"
   ]
  },
  {
   "cell_type": "code",
   "execution_count": 6,
   "id": "9d607d32-a82b-4a98-a2a1-3cc9f0c4bcfb",
   "metadata": {},
   "outputs": [
    {
     "name": "stdout",
     "output_type": "stream",
     "text": [
      "print first three characters:Pyt\n"
     ]
    }
   ],
   "source": [
    "print(f\"print first three characters:{text[:3]}\")"
   ]
  },
  {
   "cell_type": "code",
   "execution_count": 8,
   "id": "b756f28c-0a89-4168-bac9-bb062a99ab94",
   "metadata": {},
   "outputs": [
    {
     "name": "stdout",
     "output_type": "stream",
     "text": [
      "print the last three characters:hon\n"
     ]
    }
   ],
   "source": [
    "print(f\"print the last three characters:{text[-3:]}\")"
   ]
  },
  {
   "cell_type": "code",
   "execution_count": 15,
   "id": "e2c0853e-8b0b-4d9d-8ba3-a095b4a9b756",
   "metadata": {},
   "outputs": [
    {
     "name": "stdout",
     "output_type": "stream",
     "text": [
      "the reverse the word:nohtyP\n"
     ]
    }
   ],
   "source": [
    "print(f\"the reverse the word:{text[ ::-1]}\")"
   ]
  },
  {
   "cell_type": "code",
   "execution_count": null,
   "id": "39ab6232-66d2-4052-addf-dcb195c0678d",
   "metadata": {},
   "outputs": [],
   "source": []
  }
 ],
 "metadata": {
  "kernelspec": {
   "display_name": "Python 3 (ipykernel)",
   "language": "python",
   "name": "python3"
  },
  "language_info": {
   "codemirror_mode": {
    "name": "ipython",
    "version": 3
   },
   "file_extension": ".py",
   "mimetype": "text/x-python",
   "name": "python",
   "nbconvert_exporter": "python",
   "pygments_lexer": "ipython3",
   "version": "3.12.8"
  }
 },
 "nbformat": 4,
 "nbformat_minor": 5
}
