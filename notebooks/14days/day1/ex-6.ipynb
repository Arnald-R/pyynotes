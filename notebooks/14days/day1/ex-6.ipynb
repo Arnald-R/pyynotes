{
 "cells": [
  {
   "cell_type": "code",
   "execution_count": null,
   "id": "44156847-ac47-4726-aac5-26912643ae75",
   "metadata": {},
   "outputs": [],
   "source": [
    "#created at 20250325"
   ]
  },
  {
   "cell_type": "code",
   "execution_count": null,
   "id": "68dd0f2c-d918-489b-8f82-07598c678987",
   "metadata": {},
   "outputs": [],
   "source": [
    "#string operations"
   ]
  },
  {
   "cell_type": "code",
   "execution_count": 1,
   "id": "bc1a70e1-0c5e-4c07-bb3f-2f8b0f095c5c",
   "metadata": {},
   "outputs": [
    {
     "name": "stdout",
     "output_type": "stream",
     "text": [
      "\n",
      " === string Operations ===\n"
     ]
    }
   ],
   "source": [
    "print(\"\\n === string Operations ===\")"
   ]
  },
  {
   "cell_type": "code",
   "execution_count": 2,
   "id": "51bb7aa9-11d5-4930-981e-e3334044efc3",
   "metadata": {},
   "outputs": [],
   "source": [
    "text = \"Python programming\""
   ]
  },
  {
   "cell_type": "code",
   "execution_count": 3,
   "id": "0c285e13-ccab-4358-9ab7-f70a653e7b0c",
   "metadata": {},
   "outputs": [
    {
     "name": "stdout",
     "output_type": "stream",
     "text": [
      "PYTHON PROGRAMMING\n"
     ]
    }
   ],
   "source": [
    "print(text.upper())"
   ]
  },
  {
   "cell_type": "code",
   "execution_count": 4,
   "id": "e2614801-af91-406e-a9f9-ea046d64202e",
   "metadata": {},
   "outputs": [
    {
     "name": "stdout",
     "output_type": "stream",
     "text": [
      "Python Programming\n"
     ]
    }
   ],
   "source": [
    "print(text.title())"
   ]
  },
  {
   "cell_type": "code",
   "execution_count": 8,
   "id": "ed3abe8e-b084-42c7-86bc-3b6d02ade036",
   "metadata": {},
   "outputs": [
    {
     "name": "stdout",
     "output_type": "stream",
     "text": [
      "Python progralling\n"
     ]
    }
   ],
   "source": [
    "print(text.replace('m','l'))"
   ]
  },
  {
   "cell_type": "code",
   "execution_count": 9,
   "id": "1975463d-0c18-4720-84fb-cb680d8897fb",
   "metadata": {},
   "outputs": [
    {
     "name": "stdout",
     "output_type": "stream",
     "text": [
      "18\n"
     ]
    }
   ],
   "source": [
    "print(len(text))"
   ]
  },
  {
   "cell_type": "code",
   "execution_count": null,
   "id": "1011b27c-3d6b-4435-bf5a-457c23d868ce",
   "metadata": {},
   "outputs": [],
   "source": []
  }
 ],
 "metadata": {
  "kernelspec": {
   "display_name": "Python 3 (ipykernel)",
   "language": "python",
   "name": "python3"
  },
  "language_info": {
   "codemirror_mode": {
    "name": "ipython",
    "version": 3
   },
   "file_extension": ".py",
   "mimetype": "text/x-python",
   "name": "python",
   "nbconvert_exporter": "python",
   "pygments_lexer": "ipython3",
   "version": "3.12.8"
  }
 },
 "nbformat": 4,
 "nbformat_minor": 5
}
