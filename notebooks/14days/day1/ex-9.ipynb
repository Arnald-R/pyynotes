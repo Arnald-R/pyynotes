{
 "cells": [
  {
   "cell_type": "code",
   "execution_count": null,
   "id": "e3d09812-4a29-44bf-874e-cb7c756ba06c",
   "metadata": {},
   "outputs": [],
   "source": [
    "#created at 20250325"
   ]
  },
  {
   "cell_type": "code",
   "execution_count": null,
   "id": "cb3e2335-a8ef-43a6-b8a3-d5f8f57ec5bf",
   "metadata": {},
   "outputs": [],
   "source": [
    "#String formatting"
   ]
  },
  {
   "cell_type": "code",
   "execution_count": 1,
   "id": "b41465bc-89b7-463f-abd0-00803281bae5",
   "metadata": {},
   "outputs": [
    {
     "name": "stdout",
     "output_type": "stream",
     "text": [
      "\n",
      " === String Formatting === \n"
     ]
    }
   ],
   "source": [
    "print(\"\\n === String Formatting === \")"
   ]
  },
  {
   "cell_type": "code",
   "execution_count": 2,
   "id": "7d9bd8b4-0a84-4c05-8d77-8736369028f4",
   "metadata": {},
   "outputs": [],
   "source": [
    "name = \"Arnald\""
   ]
  },
  {
   "cell_type": "code",
   "execution_count": 3,
   "id": "13ca550d-0a30-453d-8a5b-ed34b5d50cc3",
   "metadata": {},
   "outputs": [],
   "source": [
    "age = 22"
   ]
  },
  {
   "cell_type": "code",
   "execution_count": 4,
   "id": "2c7f9db5-260d-4cf1-a681-4051ff367883",
   "metadata": {},
   "outputs": [
    {
     "name": "stdout",
     "output_type": "stream",
     "text": [
      "Name:Arnald,Age:22\n"
     ]
    }
   ],
   "source": [
    "#F- string\n",
    "print(f\"Name:{name},Age:{age}\")"
   ]
  },
  {
   "cell_type": "code",
   "execution_count": 5,
   "id": "ae563c8e-f3ee-4798-b5e7-2b7b919183c1",
   "metadata": {},
   "outputs": [
    {
     "name": "stdout",
     "output_type": "stream",
     "text": [
      "Name: Arnald, Age: 22\n"
     ]
    }
   ],
   "source": [
    "#Format() Method \n",
    "print(\"Name: {}, Age: {}\".format(name,age))"
   ]
  },
  {
   "cell_type": "code",
   "execution_count": 8,
   "id": "2a61360c-ee4b-4839-a144-7b64db9693b4",
   "metadata": {},
   "outputs": [
    {
     "name": "stdout",
     "output_type": "stream",
     "text": [
      "Name: Arnald, Age: 22\n"
     ]
    }
   ],
   "source": [
    "# % operator\n",
    "print(\"Name: %s, Age: %d\" %(name, age))"
   ]
  },
  {
   "cell_type": "code",
   "execution_count": null,
   "id": "993b3c60-c7a3-4e2a-97f0-d1f8d71ff078",
   "metadata": {},
   "outputs": [],
   "source": []
  }
 ],
 "metadata": {
  "kernelspec": {
   "display_name": "Python 3 (ipykernel)",
   "language": "python",
   "name": "python3"
  },
  "language_info": {
   "codemirror_mode": {
    "name": "ipython",
    "version": 3
   },
   "file_extension": ".py",
   "mimetype": "text/x-python",
   "name": "python",
   "nbconvert_exporter": "python",
   "pygments_lexer": "ipython3",
   "version": "3.12.8"
  }
 },
 "nbformat": 4,
 "nbformat_minor": 5
}
