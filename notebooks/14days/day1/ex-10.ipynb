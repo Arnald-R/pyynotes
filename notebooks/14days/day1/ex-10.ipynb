{
 "cells": [
  {
   "cell_type": "code",
   "execution_count": null,
   "id": "9bfe9e55-0f5f-41a4-80b1-006878354314",
   "metadata": {},
   "outputs": [],
   "source": [
    "#created at 20250325"
   ]
  },
  {
   "cell_type": "code",
   "execution_count": null,
   "id": "7fdbd8ab-05bf-4725-a197-6a14c5f9e679",
   "metadata": {},
   "outputs": [],
   "source": [
    "#Type checking "
   ]
  },
  {
   "cell_type": "code",
   "execution_count": 1,
   "id": "f8aaf339-507d-4c24-acdf-eed1d0fbdd0a",
   "metadata": {},
   "outputs": [
    {
     "name": "stdout",
     "output_type": "stream",
     "text": [
      "\n",
      " === Type checking === \n"
     ]
    }
   ],
   "source": [
    "print(\"\\n === Type checking === \")"
   ]
  },
  {
   "cell_type": "code",
   "execution_count": 2,
   "id": "77f9278d-f813-460b-9318-42905da72238",
   "metadata": {},
   "outputs": [],
   "source": [
    "x = 100"
   ]
  },
  {
   "cell_type": "code",
   "execution_count": 3,
   "id": "bb1966a8-575d-4cba-abf1-372302da370d",
   "metadata": {},
   "outputs": [],
   "source": [
    "y = \"Arnald\""
   ]
  },
  {
   "cell_type": "code",
   "execution_count": 4,
   "id": "39909ead-f8d4-4a5a-ac3d-379433ac0d55",
   "metadata": {},
   "outputs": [],
   "source": [
    "z = 3.14"
   ]
  },
  {
   "cell_type": "code",
   "execution_count": 5,
   "id": "c76d5b0a-cbac-4733-9314-5086cc0dd9fc",
   "metadata": {},
   "outputs": [
    {
     "name": "stdout",
     "output_type": "stream",
     "text": [
      "Type of 100 is <class 'int'> \n"
     ]
    }
   ],
   "source": [
    "print(f\"Type of {x} is {type(x)} \")"
   ]
  },
  {
   "cell_type": "code",
   "execution_count": 6,
   "id": "ac7541a2-c1f5-4b4e-9d48-6d44a3cb0050",
   "metadata": {},
   "outputs": [
    {
     "name": "stdout",
     "output_type": "stream",
     "text": [
      "Type of Arnald is <class 'str'> \n"
     ]
    }
   ],
   "source": [
    "print(f\"Type of {y} is {type(y)} \")"
   ]
  },
  {
   "cell_type": "code",
   "execution_count": 8,
   "id": "29eb83ee-87b3-412e-ab20-5e2946717348",
   "metadata": {},
   "outputs": [
    {
     "name": "stdout",
     "output_type": "stream",
     "text": [
      "Type of 3.14 is <class 'float'>\n"
     ]
    }
   ],
   "source": [
    "print(f\"Type of {z} is {type(z)}\")"
   ]
  },
  {
   "cell_type": "code",
   "execution_count": null,
   "id": "61a71a9d-8225-48a1-a4d3-9c7681a37049",
   "metadata": {},
   "outputs": [],
   "source": []
  }
 ],
 "metadata": {
  "kernelspec": {
   "display_name": "Python 3 (ipykernel)",
   "language": "python",
   "name": "python3"
  },
  "language_info": {
   "codemirror_mode": {
    "name": "ipython",
    "version": 3
   },
   "file_extension": ".py",
   "mimetype": "text/x-python",
   "name": "python",
   "nbconvert_exporter": "python",
   "pygments_lexer": "ipython3",
   "version": "3.12.8"
  }
 },
 "nbformat": 4,
 "nbformat_minor": 5
}
