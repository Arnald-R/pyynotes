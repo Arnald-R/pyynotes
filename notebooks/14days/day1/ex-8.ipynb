{
 "cells": [
  {
   "cell_type": "code",
   "execution_count": null,
   "id": "9e3274b3-3dcf-4a74-85cd-f2c93d3e7fb5",
   "metadata": {},
   "outputs": [],
   "source": [
    "#created at 20250325"
   ]
  },
  {
   "cell_type": "code",
   "execution_count": null,
   "id": "2e044266-dc80-4f99-8431-be66e1f4d858",
   "metadata": {},
   "outputs": [],
   "source": [
    "#Math Operations"
   ]
  },
  {
   "cell_type": "code",
   "execution_count": 1,
   "id": "4b937add-ad2e-4286-9393-83b7f59d1552",
   "metadata": {},
   "outputs": [
    {
     "name": "stdout",
     "output_type": "stream",
     "text": [
      "\n",
      " === Basic Math Operation ===\n"
     ]
    }
   ],
   "source": [
    "print(\"\\n === Basic Math Operation ===\")"
   ]
  },
  {
   "cell_type": "code",
   "execution_count": 2,
   "id": "344d1db1-7734-4e9d-a366-6fb44beb5c18",
   "metadata": {},
   "outputs": [],
   "source": [
    "a = 10"
   ]
  },
  {
   "cell_type": "code",
   "execution_count": 3,
   "id": "fef82908-f79d-4b6c-95a0-f81caf8cb0ff",
   "metadata": {},
   "outputs": [],
   "source": [
    "b = 3"
   ]
  },
  {
   "cell_type": "code",
   "execution_count": 4,
   "id": "3875c46f-324d-4865-8c32-ce181eb1fda1",
   "metadata": {},
   "outputs": [
    {
     "name": "stdout",
     "output_type": "stream",
     "text": [
      "Sum:13\n"
     ]
    }
   ],
   "source": [
    "print(f\"Sum:{a + b}\")"
   ]
  },
  {
   "cell_type": "code",
   "execution_count": 5,
   "id": "ed160598-455c-4596-8eb5-4e6e6dadda10",
   "metadata": {},
   "outputs": [
    {
     "name": "stdout",
     "output_type": "stream",
     "text": [
      "Difference :7\n"
     ]
    }
   ],
   "source": [
    "print(f\"Difference :{a - b}\")"
   ]
  },
  {
   "cell_type": "code",
   "execution_count": 6,
   "id": "d0a82bc4-8985-41a9-b9eb-8081e23c4cc4",
   "metadata": {},
   "outputs": [
    {
     "name": "stdout",
     "output_type": "stream",
     "text": [
      "Product :30\n"
     ]
    }
   ],
   "source": [
    "print(f\"Product :{a * b}\")"
   ]
  },
  {
   "cell_type": "code",
   "execution_count": 7,
   "id": "9cea392d-9c39-4180-afc6-14090f6bf905",
   "metadata": {},
   "outputs": [
    {
     "name": "stdout",
     "output_type": "stream",
     "text": [
      "Division : 3.3333333333333335\n"
     ]
    }
   ],
   "source": [
    "print(f\"Division : {a / b}\")"
   ]
  },
  {
   "cell_type": "code",
   "execution_count": 8,
   "id": "4c88cfad-9820-492e-812c-b700e15f8e25",
   "metadata": {},
   "outputs": [
    {
     "name": "stdout",
     "output_type": "stream",
     "text": [
      "Integer Division: 3\n"
     ]
    }
   ],
   "source": [
    "print(f\"Integer Division: {a // b}\")"
   ]
  },
  {
   "cell_type": "code",
   "execution_count": 9,
   "id": "7e94d428-de1a-4d89-a9f5-4a3abd27b9a5",
   "metadata": {},
   "outputs": [
    {
     "name": "stdout",
     "output_type": "stream",
     "text": [
      "Remainder: 1\n"
     ]
    }
   ],
   "source": [
    "print(f\"Remainder: {a % b}\")"
   ]
  },
  {
   "cell_type": "code",
   "execution_count": 11,
   "id": "157f9822-c4eb-4428-9159-9b887289d553",
   "metadata": {},
   "outputs": [
    {
     "name": "stdout",
     "output_type": "stream",
     "text": [
      "Power: 1000\n"
     ]
    }
   ],
   "source": [
    "print(f\"Power: {a ** b}\")"
   ]
  },
  {
   "cell_type": "code",
   "execution_count": null,
   "id": "4d760b4b-20e1-4e24-a1e1-52df492db540",
   "metadata": {},
   "outputs": [],
   "source": []
  }
 ],
 "metadata": {
  "kernelspec": {
   "display_name": "Python 3 (ipykernel)",
   "language": "python",
   "name": "python3"
  },
  "language_info": {
   "codemirror_mode": {
    "name": "ipython",
    "version": 3
   },
   "file_extension": ".py",
   "mimetype": "text/x-python",
   "name": "python",
   "nbconvert_exporter": "python",
   "pygments_lexer": "ipython3",
   "version": "3.12.8"
  }
 },
 "nbformat": 4,
 "nbformat_minor": 5
}
