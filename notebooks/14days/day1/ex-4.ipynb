{
 "cells": [
  {
   "cell_type": "code",
   "execution_count": null,
   "id": "92333c8b-2bae-458d-8be4-9f6293cd5bb4",
   "metadata": {},
   "outputs": [],
   "source": [
    "#created at 20250325"
   ]
  },
  {
   "cell_type": "code",
   "execution_count": null,
   "id": "950ddb35-72ba-4d84-a9aa-fa76f814b0b2",
   "metadata": {},
   "outputs": [],
   "source": [
    "#Data type conversion "
   ]
  },
  {
   "cell_type": "code",
   "execution_count": 1,
   "id": "126282a0-2794-4761-8d05-d206c11e878e",
   "metadata": {},
   "outputs": [
    {
     "name": "stdout",
     "output_type": "stream",
     "text": [
      "\n",
      " === Type Conversion Examples ===\n"
     ]
    }
   ],
   "source": [
    "print(\"\\n === Type Conversion Examples ===\")"
   ]
  },
  {
   "cell_type": "code",
   "execution_count": 2,
   "id": "5e4b84a9-cc79-413a-bcf9-3a6b886dacb3",
   "metadata": {},
   "outputs": [],
   "source": [
    "num_str = \"12345\""
   ]
  },
  {
   "cell_type": "code",
   "execution_count": 3,
   "id": "b9af47b5-ae99-45e0-8863-9d2d4e7ed462",
   "metadata": {},
   "outputs": [],
   "source": [
    "num_int = int(num_str)"
   ]
  },
  {
   "cell_type": "code",
   "execution_count": 4,
   "id": "2edb8729-ac2a-4657-b892-6eb4ab3e190e",
   "metadata": {},
   "outputs": [],
   "source": [
    "num_float = float(num_str)"
   ]
  },
  {
   "cell_type": "code",
   "execution_count": 5,
   "id": "a500b776-7f29-47e5-9544-7e7385a0430f",
   "metadata": {},
   "outputs": [
    {
     "name": "stdout",
     "output_type": "stream",
     "text": [
      "String: 12345, Int: 12345, Float: 12345.0\n"
     ]
    }
   ],
   "source": [
    "print(f\"String: {num_str}, Int: {num_int}, Float: {num_float}\")"
   ]
  },
  {
   "cell_type": "code",
   "execution_count": null,
   "id": "ab2b3bf5-1336-4bbc-bb33-77d8166affaf",
   "metadata": {},
   "outputs": [],
   "source": []
  }
 ],
 "metadata": {
  "kernelspec": {
   "display_name": "Python 3 (ipykernel)",
   "language": "python",
   "name": "python3"
  },
  "language_info": {
   "codemirror_mode": {
    "name": "ipython",
    "version": 3
   },
   "file_extension": ".py",
   "mimetype": "text/x-python",
   "name": "python",
   "nbconvert_exporter": "python",
   "pygments_lexer": "ipython3",
   "version": "3.12.8"
  }
 },
 "nbformat": 4,
 "nbformat_minor": 5
}
