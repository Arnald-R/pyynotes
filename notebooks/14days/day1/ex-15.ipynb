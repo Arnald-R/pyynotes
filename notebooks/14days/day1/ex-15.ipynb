{
 "cells": [
  {
   "cell_type": "code",
   "execution_count": null,
   "id": "5d99e606-93af-4ae0-a51c-2e765f47097a",
   "metadata": {},
   "outputs": [],
   "source": [
    "#created at 20250326"
   ]
  },
  {
   "cell_type": "code",
   "execution_count": 1,
   "id": "eebf23f7-33ea-4b0a-9782-704a690ee090",
   "metadata": {},
   "outputs": [],
   "source": [
    "#Numeric Functions"
   ]
  },
  {
   "cell_type": "code",
   "execution_count": 2,
   "id": "32ea5bbd-24a7-4e2d-87e4-f863a6128df1",
   "metadata": {},
   "outputs": [
    {
     "name": "stdout",
     "output_type": "stream",
     "text": [
      "\n",
      " === Numeric Functions === \n"
     ]
    }
   ],
   "source": [
    "print(\"\\n === Numeric Functions === \")"
   ]
  },
  {
   "cell_type": "code",
   "execution_count": 2,
   "id": "063aba65-8c84-45b7-a069-6b7a6762b216",
   "metadata": {},
   "outputs": [],
   "source": [
    "x = -42.75"
   ]
  },
  {
   "cell_type": "code",
   "execution_count": 3,
   "id": "840def64-5a23-47df-9a3f-b69380742233",
   "metadata": {},
   "outputs": [
    {
     "name": "stdout",
     "output_type": "stream",
     "text": [
      "Absoulte value:42.75\n"
     ]
    }
   ],
   "source": [
    "print(f\"Absoulte value:{abs(x)}\")"
   ]
  },
  {
   "cell_type": "code",
   "execution_count": 4,
   "id": "c7979e11-35b7-44a6-86a2-5e3fbf347ea9",
   "metadata": {},
   "outputs": [
    {
     "name": "stdout",
     "output_type": "stream",
     "text": [
      "Rounded:-43\n"
     ]
    }
   ],
   "source": [
    "print(f\"Rounded:{round(x)}\")"
   ]
  },
  {
   "cell_type": "code",
   "execution_count": 5,
   "id": "116a4d99-7811-439c-8a8d-207d1b9a1cf3",
   "metadata": {},
   "outputs": [
    {
     "name": "stdout",
     "output_type": "stream",
     "text": [
      "rounded to 1 decimal :-42.8\n"
     ]
    }
   ],
   "source": [
    "print(f\"rounded to 1 decimal :{round(x, 1)}\")"
   ]
  },
  {
   "cell_type": "code",
   "execution_count": null,
   "id": "8e457c18-1df2-47fb-bf5d-5a63368a2c21",
   "metadata": {},
   "outputs": [],
   "source": []
  }
 ],
 "metadata": {
  "kernelspec": {
   "display_name": "Python 3 (ipykernel)",
   "language": "python",
   "name": "python3"
  },
  "language_info": {
   "codemirror_mode": {
    "name": "ipython",
    "version": 3
   },
   "file_extension": ".py",
   "mimetype": "text/x-python",
   "name": "python",
   "nbconvert_exporter": "python",
   "pygments_lexer": "ipython3",
   "version": "3.12.8"
  }
 },
 "nbformat": 4,
 "nbformat_minor": 5
}
