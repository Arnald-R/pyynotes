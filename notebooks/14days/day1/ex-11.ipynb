{
 "cells": [
  {
   "cell_type": "code",
   "execution_count": null,
   "id": "abfe4cdb-426f-4b2d-a770-d180e9e801b8",
   "metadata": {},
   "outputs": [],
   "source": [
    "#created at 20250326"
   ]
  },
  {
   "cell_type": "code",
   "execution_count": null,
   "id": "0bfa02cc-abaf-47da-a728-e2cbfa5d5d8b",
   "metadata": {},
   "outputs": [],
   "source": [
    "#Boolean operations"
   ]
  },
  {
   "cell_type": "code",
   "execution_count": 1,
   "id": "1b7d6178-50d3-4388-b6f9-1244b975890f",
   "metadata": {},
   "outputs": [
    {
     "name": "stdout",
     "output_type": "stream",
     "text": [
      "\n",
      " === Boolean Operations === \n"
     ]
    }
   ],
   "source": [
    "print(\"\\n === Boolean Operations === \")"
   ]
  },
  {
   "cell_type": "code",
   "execution_count": 2,
   "id": "63d0ede3-8d2c-4637-82e6-791e8231745f",
   "metadata": {},
   "outputs": [],
   "source": [
    "is_sunny = True"
   ]
  },
  {
   "cell_type": "code",
   "execution_count": 3,
   "id": "79c89f6f-8bd7-4578-bfcc-f358cd757930",
   "metadata": {},
   "outputs": [],
   "source": [
    "is_warm = True"
   ]
  },
  {
   "cell_type": "code",
   "execution_count": 4,
   "id": "edecae05-d188-46ae-ba5e-237188d6d8d4",
   "metadata": {},
   "outputs": [
    {
     "name": "stdout",
     "output_type": "stream",
     "text": [
      "Is it sunny or Warm? True\n"
     ]
    }
   ],
   "source": [
    "print(f\"Is it sunny AND Warm? {is_sunny and is_warm}\")"
   ]
  },
  {
   "cell_type": "code",
   "execution_count": 5,
   "id": "f17664d2-5f87-4046-91c1-e95dc7cd81f5",
   "metadata": {},
   "outputs": [
    {
     "name": "stdout",
     "output_type": "stream",
     "text": [
      "Is it is sunny OR Warm? True\n"
     ]
    }
   ],
   "source": [
    "print(f\"Is it is sunny OR Warm? {is_sunny or is_warm}\")"
   ]
  },
  {
   "cell_type": "code",
   "execution_count": 6,
   "id": "b7c2e60c-a416-4d96-adf1-8f56cb867f3d",
   "metadata": {},
   "outputs": [
    {
     "name": "stdout",
     "output_type": "stream",
     "text": [
      "Is it not sunnyFalse\n"
     ]
    }
   ],
   "source": [
    "print(f\"Is it not sunny{not is_sunny}\")"
   ]
  },
  {
   "cell_type": "code",
   "execution_count": null,
   "id": "65ec88a1-1f1e-4de2-8277-7abff77a2b40",
   "metadata": {},
   "outputs": [],
   "source": []
  }
 ],
 "metadata": {
  "kernelspec": {
   "display_name": "Python 3 (ipykernel)",
   "language": "python",
   "name": "python3"
  },
  "language_info": {
   "codemirror_mode": {
    "name": "ipython",
    "version": 3
   },
   "file_extension": ".py",
   "mimetype": "text/x-python",
   "name": "python",
   "nbconvert_exporter": "python",
   "pygments_lexer": "ipython3",
   "version": "3.12.8"
  }
 },
 "nbformat": 4,
 "nbformat_minor": 5
}
