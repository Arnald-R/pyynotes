{
 "cells": [
  {
   "cell_type": "code",
   "execution_count": null,
   "id": "ec65b36c-da82-49d6-80cc-7aab16e8c98e",
   "metadata": {},
   "outputs": [],
   "source": [
    "#created at 20250325"
   ]
  },
  {
   "cell_type": "code",
   "execution_count": null,
   "id": "3583e5bc-f517-48de-9467-f42731e8ee54",
   "metadata": {},
   "outputs": [],
   "source": [
    "#Basic Input"
   ]
  },
  {
   "cell_type": "code",
   "execution_count": 1,
   "id": "d9a7c856-95d6-4061-a174-ceb16d523e8e",
   "metadata": {},
   "outputs": [
    {
     "name": "stdout",
     "output_type": "stream",
     "text": [
      "\n",
      " === Input Examples === \n"
     ]
    }
   ],
   "source": [
    "print(\"\\n === Input Examples === \")"
   ]
  },
  {
   "cell_type": "code",
   "execution_count": 2,
   "id": "8e32828f-1d4d-4e9f-ba17-8cde88486ee6",
   "metadata": {},
   "outputs": [
    {
     "name": "stdin",
     "output_type": "stream",
     "text": [
      "What is your name? Arnald\n"
     ]
    }
   ],
   "source": [
    "name = input(\"What is your name?\")"
   ]
  },
  {
   "cell_type": "code",
   "execution_count": 4,
   "id": "e08eae51-9683-4792-bca1-357a366fff89",
   "metadata": {},
   "outputs": [
    {
     "name": "stdin",
     "output_type": "stream",
     "text": [
      "what is your age? 22\n"
     ]
    }
   ],
   "source": [
    "age = int(input(\"what is your age?\"))"
   ]
  },
  {
   "cell_type": "code",
   "execution_count": 5,
   "id": "5b392232-5667-434d-93bf-bf5fb7dc51c7",
   "metadata": {},
   "outputs": [
    {
     "name": "stdout",
     "output_type": "stream",
     "text": [
      "In 5 years, Arnald will be 27 years old\n"
     ]
    }
   ],
   "source": [
    "print(f\"In 5 years, {name} will be {age + 5} years old\")"
   ]
  },
  {
   "cell_type": "code",
   "execution_count": null,
   "id": "00239477-3a99-43c1-a7f1-0ecff6f9e901",
   "metadata": {},
   "outputs": [],
   "source": []
  }
 ],
 "metadata": {
  "kernelspec": {
   "display_name": "Python 3 (ipykernel)",
   "language": "python",
   "name": "python3"
  },
  "language_info": {
   "codemirror_mode": {
    "name": "ipython",
    "version": 3
   },
   "file_extension": ".py",
   "mimetype": "text/x-python",
   "name": "python",
   "nbconvert_exporter": "python",
   "pygments_lexer": "ipython3",
   "version": "3.12.8"
  }
 },
 "nbformat": 4,
 "nbformat_minor": 5
}
