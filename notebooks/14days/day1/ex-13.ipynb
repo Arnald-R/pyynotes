{
 "cells": [
  {
   "cell_type": "code",
   "execution_count": null,
   "id": "0450faf0-1ed4-48e8-be4a-cfb87dd19afe",
   "metadata": {},
   "outputs": [],
   "source": [
    "#created at 20250326"
   ]
  },
  {
   "cell_type": "code",
   "execution_count": null,
   "id": "d12c5325-8c51-423b-bc18-b05e06b0a7b9",
   "metadata": {},
   "outputs": [],
   "source": [
    "#Basic Error Handling"
   ]
  },
  {
   "cell_type": "code",
   "execution_count": 1,
   "id": "ed52ba0c-7b65-4eab-8ae0-05dc2477d40c",
   "metadata": {},
   "outputs": [
    {
     "name": "stdout",
     "output_type": "stream",
     "text": [
      "\n",
      " === Basic Error Handling === \n"
     ]
    }
   ],
   "source": [
    "print(\"\\n === Basic Error Handling === \")"
   ]
  },
  {
   "cell_type": "code",
   "execution_count": 2,
   "id": "8bfb8051-f87f-4efd-bf12-1e77d67ee674",
   "metadata": {},
   "outputs": [
    {
     "name": "stdin",
     "output_type": "stream",
     "text": [
      "Enter a number: 34\n"
     ]
    },
    {
     "name": "stdout",
     "output_type": "stream",
     "text": [
      "Entered input:34\n"
     ]
    }
   ],
   "source": [
    "try:\n",
    "    number = int(input(\"Enter a number:\"))\n",
    "    print(f\"Entered input:{number}\")\n",
    "\n",
    "except ValueError:\n",
    "    print(\"That is not a valid number\")"
   ]
  },
  {
   "cell_type": "code",
   "execution_count": null,
   "id": "c199a620-b879-4eef-8bb1-39961993ff66",
   "metadata": {},
   "outputs": [],
   "source": []
  }
 ],
 "metadata": {
  "kernelspec": {
   "display_name": "Python 3 (ipykernel)",
   "language": "python",
   "name": "python3"
  },
  "language_info": {
   "codemirror_mode": {
    "name": "ipython",
    "version": 3
   },
   "file_extension": ".py",
   "mimetype": "text/x-python",
   "name": "python",
   "nbconvert_exporter": "python",
   "pygments_lexer": "ipython3",
   "version": "3.12.8"
  }
 },
 "nbformat": 4,
 "nbformat_minor": 5
}
