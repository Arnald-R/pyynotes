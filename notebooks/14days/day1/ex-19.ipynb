{
 "cells": [
  {
   "cell_type": "code",
   "execution_count": null,
   "id": "c71d0aee-036a-44c8-8923-5adcae80e5f6",
   "metadata": {},
   "outputs": [],
   "source": [
    "#created at 20250326"
   ]
  },
  {
   "cell_type": "code",
   "execution_count": null,
   "id": "11945ea6-b3f4-4dd1-8a5a-838cbcb453be",
   "metadata": {},
   "outputs": [],
   "source": [
    "#Basic Calculator"
   ]
  },
  {
   "cell_type": "code",
   "execution_count": 1,
   "id": "16bb4c85-728b-48f1-b891-8731ff7958f9",
   "metadata": {},
   "outputs": [
    {
     "name": "stdout",
     "output_type": "stream",
     "text": [
      "\n",
      " === Basic calculator === \n"
     ]
    }
   ],
   "source": [
    "print(\"\\n === Basic calculator === \")"
   ]
  },
  {
   "cell_type": "code",
   "execution_count": 3,
   "id": "bc78947b-a2bb-4fe4-a16e-4fc12921215c",
   "metadata": {},
   "outputs": [
    {
     "name": "stdout",
     "output_type": "stream",
     "text": [
      "Simple Calculator\n"
     ]
    }
   ],
   "source": [
    "print(\"Simple Calculator\")"
   ]
  },
  {
   "cell_type": "code",
   "execution_count": 5,
   "id": "9c0b5dd2-3ff6-4e23-9fe1-922d7bdfa34e",
   "metadata": {},
   "outputs": [
    {
     "name": "stdin",
     "output_type": "stream",
     "text": [
      "Enter the number: 12\n"
     ]
    }
   ],
   "source": [
    "num1 = int(input(\"Enter the number:\"))"
   ]
  },
  {
   "cell_type": "code",
   "execution_count": 6,
   "id": "6fecad31-95dc-4c11-ab12-0a9311f505a3",
   "metadata": {},
   "outputs": [
    {
     "name": "stdin",
     "output_type": "stream",
     "text": [
      "Enter the number2: 5\n"
     ]
    }
   ],
   "source": [
    "num2 = int(input(\"Enter the number2:\"))"
   ]
  },
  {
   "cell_type": "code",
   "execution_count": 8,
   "id": "9e2c801e-e166-4361-b644-6ef3391781b9",
   "metadata": {},
   "outputs": [
    {
     "name": "stdin",
     "output_type": "stream",
     "text": [
      "Select the operation: +, -, *, /, % *\n"
     ]
    }
   ],
   "source": [
    "operation = input(\"Select the operation: +, -, *, /\")"
   ]
  },
  {
   "cell_type": "code",
   "execution_count": 9,
   "id": "4c463ce4-a49c-425d-9776-e0333bfdaf1f",
   "metadata": {},
   "outputs": [
    {
     "name": "stdout",
     "output_type": "stream",
     "text": [
      "Result: 60\n"
     ]
    }
   ],
   "source": [
    "if operation == '+':\n",
    "    print(f\"Result: {num1 + num2}\")\n",
    "elif operation == '-':\n",
    "    print(f\"Result: {num1 - num2}\")\n",
    "elif operation == '*':\n",
    "    print(f\"Result: {num1 * num2}\")\n",
    "elif operation == '/':\n",
    "    print(f\"Result: {num1 / num2}\")"
   ]
  },
  {
   "cell_type": "code",
   "execution_count": null,
   "id": "486ede3a-3563-4cb9-8d4f-61a40d5df38a",
   "metadata": {},
   "outputs": [],
   "source": []
  }
 ],
 "metadata": {
  "kernelspec": {
   "display_name": "Python 3 (ipykernel)",
   "language": "python",
   "name": "python3"
  },
  "language_info": {
   "codemirror_mode": {
    "name": "ipython",
    "version": 3
   },
   "file_extension": ".py",
   "mimetype": "text/x-python",
   "name": "python",
   "nbconvert_exporter": "python",
   "pygments_lexer": "ipython3",
   "version": "3.12.8"
  }
 },
 "nbformat": 4,
 "nbformat_minor": 5
}
