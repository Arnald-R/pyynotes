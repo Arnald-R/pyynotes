{
 "cells": [
  {
   "cell_type": "code",
   "execution_count": null,
   "id": "8cadf071-7479-405d-a4ac-3a76b75e9877",
   "metadata": {},
   "outputs": [],
   "source": [
    "#created at 20250326"
   ]
  },
  {
   "cell_type": "code",
   "execution_count": null,
   "id": "900bde35-40af-4af4-8573-e3092bb70114",
   "metadata": {},
   "outputs": [],
   "source": [
    "#String methods"
   ]
  },
  {
   "cell_type": "code",
   "execution_count": 1,
   "id": "a8e76a83-3c21-47fc-95c5-3c6d47b1f03a",
   "metadata": {},
   "outputs": [
    {
     "name": "stdout",
     "output_type": "stream",
     "text": [
      "\n",
      " === String Methods === \n"
     ]
    }
   ],
   "source": [
    "print(\"\\n === String Methods === \")"
   ]
  },
  {
   "cell_type": "code",
   "execution_count": 2,
   "id": "3fc8b21e-1cb3-496d-9fe5-effbcd48b01d",
   "metadata": {},
   "outputs": [],
   "source": [
    "text = \"Python Programming\""
   ]
  },
  {
   "cell_type": "code",
   "execution_count": 4,
   "id": "83574d2c-e1f4-42f1-b5ec-b6a93f9b0628",
   "metadata": {},
   "outputs": [
    {
     "name": "stdout",
     "output_type": "stream",
     "text": [
      "Strip spaces:'Python Programming'\n"
     ]
    }
   ],
   "source": [
    "print(f\"Strip spaces:'{text.strip()}'\")"
   ]
  },
  {
   "cell_type": "code",
   "execution_count": 5,
   "id": "d790a899-2c45-4f63-99ad-c60030b86063",
   "metadata": {},
   "outputs": [
    {
     "name": "stdout",
     "output_type": "stream",
     "text": [
      "lower case: 'python programming'\n"
     ]
    }
   ],
   "source": [
    "print(f\"lower case: '{text.lower()}'\")"
   ]
  },
  {
   "cell_type": "code",
   "execution_count": 6,
   "id": "73acaae4-34ba-4623-bb6d-b25d36f950bb",
   "metadata": {},
   "outputs": [
    {
     "name": "stdout",
     "output_type": "stream",
     "text": [
      "count 'p': 0\n"
     ]
    }
   ],
   "source": [
    "print(f\"count 'p': {text.count('p')}\")"
   ]
  },
  {
   "cell_type": "code",
   "execution_count": 7,
   "id": "c91001b7-39ff-4dfd-b5f5-4eb502782cf8",
   "metadata": {},
   "outputs": [
    {
     "name": "stdout",
     "output_type": "stream",
     "text": [
      "finf 'gram':10\n"
     ]
    }
   ],
   "source": [
    "print(f\"finf 'gram':{text.find('gram')}\")"
   ]
  },
  {
   "cell_type": "code",
   "execution_count": null,
   "id": "a6640ba0-e83c-4dec-8bd1-0d4fb2cafbda",
   "metadata": {},
   "outputs": [],
   "source": []
  }
 ],
 "metadata": {
  "kernelspec": {
   "display_name": "Python 3 (ipykernel)",
   "language": "python",
   "name": "python3"
  },
  "language_info": {
   "codemirror_mode": {
    "name": "ipython",
    "version": 3
   },
   "file_extension": ".py",
   "mimetype": "text/x-python",
   "name": "python",
   "nbconvert_exporter": "python",
   "pygments_lexer": "ipython3",
   "version": "3.12.8"
  }
 },
 "nbformat": 4,
 "nbformat_minor": 5
}
