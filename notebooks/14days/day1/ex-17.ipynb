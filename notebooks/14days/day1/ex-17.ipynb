{
 "cells": [
  {
   "cell_type": "code",
   "execution_count": null,
   "id": "325f8647-889f-476f-8149-1ebc9a79f43b",
   "metadata": {},
   "outputs": [],
   "source": [
    "#created at 20250326"
   ]
  },
  {
   "cell_type": "code",
   "execution_count": null,
   "id": "d131da64-7813-4f34-abf2-aff85455995d",
   "metadata": {},
   "outputs": [],
   "source": [
    "#Comments Demo"
   ]
  },
  {
   "cell_type": "code",
   "execution_count": 1,
   "id": "a4e448b7-77d0-485f-bcca-e95c548be965",
   "metadata": {},
   "outputs": [
    {
     "name": "stdout",
     "output_type": "stream",
     "text": [
      "\n",
      " === Comments Demo === \n"
     ]
    }
   ],
   "source": [
    "print(\"\\n === Comments Demo === \")"
   ]
  },
  {
   "cell_type": "code",
   "execution_count": 2,
   "id": "1a533c72-f93f-4de3-8d3b-b560ed7e60c7",
   "metadata": {},
   "outputs": [
    {
     "name": "stdout",
     "output_type": "stream",
     "text": [
      "Hello\n"
     ]
    }
   ],
   "source": [
    "#Single line comment\n",
    "print(\"Hello\") #End of line comment"
   ]
  },
  {
   "cell_type": "code",
   "execution_count": null,
   "id": "e7c59dd2-0585-4119-af78-4079532f08b1",
   "metadata": {},
   "outputs": [],
   "source": [
    "'''\n",
    "This is a\n",
    "multi-line\n",
    "comment\n",
    "'''"
   ]
  }
 ],
 "metadata": {
  "kernelspec": {
   "display_name": "Python 3 (ipykernel)",
   "language": "python",
   "name": "python3"
  },
  "language_info": {
   "codemirror_mode": {
    "name": "ipython",
    "version": 3
   },
   "file_extension": ".py",
   "mimetype": "text/x-python",
   "name": "python",
   "nbconvert_exporter": "python",
   "pygments_lexer": "ipython3",
   "version": "3.12.8"
  }
 },
 "nbformat": 4,
 "nbformat_minor": 5
}
