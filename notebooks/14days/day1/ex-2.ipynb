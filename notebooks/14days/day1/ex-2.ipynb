{
 "cells": [
  {
   "cell_type": "code",
   "execution_count": null,
   "id": "273a458e-1702-4e6c-887f-6bb542919f2b",
   "metadata": {},
   "outputs": [],
   "source": [
    "#created at 20250325"
   ]
  },
  {
   "cell_type": "code",
   "execution_count": null,
   "id": "ea5b1e51-e4ab-4608-928a-0454bbbcb3c8",
   "metadata": {},
   "outputs": [],
   "source": [
    "#Basic Variable"
   ]
  },
  {
   "cell_type": "code",
   "execution_count": 1,
   "id": "7172f0b9-94f7-417c-bc43-07b2cc6fbb91",
   "metadata": {},
   "outputs": [
    {
     "name": "stdout",
     "output_type": "stream",
     "text": [
      "\n",
      "=== Variable examples ===\n"
     ]
    }
   ],
   "source": [
    "print(\"\\n=== Variable examples ===\")"
   ]
  },
  {
   "cell_type": "code",
   "execution_count": 2,
   "id": "88c5f5b7-e3ed-4a9b-b30e-ed713db9c1c1",
   "metadata": {},
   "outputs": [],
   "source": [
    "name = \"Arnald\""
   ]
  },
  {
   "cell_type": "code",
   "execution_count": 3,
   "id": "00b4d7bf-18b4-4b05-8d27-058ab189e630",
   "metadata": {},
   "outputs": [],
   "source": [
    "age = 22"
   ]
  },
  {
   "cell_type": "code",
   "execution_count": 4,
   "id": "62edd5fc-1253-4c04-a1eb-f2794e400e95",
   "metadata": {},
   "outputs": [],
   "source": [
    "height = 1.75"
   ]
  },
  {
   "cell_type": "code",
   "execution_count": 5,
   "id": "df2deb25-9ba5-4d31-8be3-efc3930bc56b",
   "metadata": {},
   "outputs": [],
   "source": [
    "is_student = True"
   ]
  },
  {
   "cell_type": "code",
   "execution_count": 6,
   "id": "5fafdb34-08b0-4da2-988a-0361fbc49064",
   "metadata": {},
   "outputs": [
    {
     "name": "stdout",
     "output_type": "stream",
     "text": [
      "Name:Arnald, Age:22, Height: 1.75, Student : True\n"
     ]
    }
   ],
   "source": [
    "print(f\"Name:{name}, Age:{age}, Height: {height}, Student : {is_student}\")"
   ]
  },
  {
   "cell_type": "code",
   "execution_count": null,
   "id": "8e0576e5-0f7d-426f-a696-dad57821d0d9",
   "metadata": {},
   "outputs": [],
   "source": []
  }
 ],
 "metadata": {
  "kernelspec": {
   "display_name": "Python 3 (ipykernel)",
   "language": "python",
   "name": "python3"
  },
  "language_info": {
   "codemirror_mode": {
    "name": "ipython",
    "version": 3
   },
   "file_extension": ".py",
   "mimetype": "text/x-python",
   "name": "python",
   "nbconvert_exporter": "python",
   "pygments_lexer": "ipython3",
   "version": "3.12.8"
  }
 },
 "nbformat": 4,
 "nbformat_minor": 5
}
