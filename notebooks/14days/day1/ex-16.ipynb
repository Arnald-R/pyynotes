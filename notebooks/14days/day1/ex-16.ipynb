{
 "cells": [
  {
   "cell_type": "code",
   "execution_count": null,
   "id": "f636d5d5-75c9-4f6d-82f0-74a4f792d40a",
   "metadata": {},
   "outputs": [],
   "source": [
    "#created at 20250326"
   ]
  },
  {
   "cell_type": "code",
   "execution_count": null,
   "id": "9b1205bc-acd5-4c3c-8d6e-5e49c76776ad",
   "metadata": {},
   "outputs": [],
   "source": [
    "#Variable Naming Example"
   ]
  },
  {
   "cell_type": "code",
   "execution_count": 1,
   "id": "832e720d-6244-4de2-9cdd-feb2f15f0140",
   "metadata": {},
   "outputs": [
    {
     "name": "stdout",
     "output_type": "stream",
     "text": [
      "\n",
      " === Variable naming example === \n"
     ]
    }
   ],
   "source": [
    "print(\"\\n === Variable naming example === \")"
   ]
  },
  {
   "cell_type": "code",
   "execution_count": 2,
   "id": "5ae06346-2bfc-4360-bc81-7a172f57b893",
   "metadata": {},
   "outputs": [],
   "source": [
    "first_name = \"John\" #snake case"
   ]
  },
  {
   "cell_type": "code",
   "execution_count": 3,
   "id": "5ffa0ff8-e84d-43e5-9c7a-d16ac5323b57",
   "metadata": {},
   "outputs": [],
   "source": [
    "lastname = \"Doe\" #camel case"
   ]
  },
  {
   "cell_type": "code",
   "execution_count": 4,
   "id": "029dd175-50c3-4c53-ba01-c519df5ec067",
   "metadata": {},
   "outputs": [],
   "source": [
    "Phone_number = \"123\" #pascal case"
   ]
  },
  {
   "cell_type": "code",
   "execution_count": 5,
   "id": "9f247b87-497c-40a0-b348-536f44a80a7d",
   "metadata": {},
   "outputs": [],
   "source": [
    "_private = \"secret\" #private case"
   ]
  },
  {
   "cell_type": "code",
   "execution_count": 6,
   "id": "24244730-1acc-4d09-b260-db0b86c24160",
   "metadata": {},
   "outputs": [
    {
     "name": "stdout",
     "output_type": "stream",
     "text": [
      "Different naming styles: John, Doe, 123, secret\n"
     ]
    }
   ],
   "source": [
    "print(f\"Different naming styles: {first_name}, {lastname}, {Phone_number}, {_private}\")"
   ]
  },
  {
   "cell_type": "code",
   "execution_count": null,
   "id": "8fac5ef1-6bde-4844-a57e-92559ffd57a6",
   "metadata": {},
   "outputs": [],
   "source": []
  }
 ],
 "metadata": {
  "kernelspec": {
   "display_name": "Python 3 (ipykernel)",
   "language": "python",
   "name": "python3"
  },
  "language_info": {
   "codemirror_mode": {
    "name": "ipython",
    "version": 3
   },
   "file_extension": ".py",
   "mimetype": "text/x-python",
   "name": "python",
   "nbconvert_exporter": "python",
   "pygments_lexer": "ipython3",
   "version": "3.12.8"
  }
 },
 "nbformat": 4,
 "nbformat_minor": 5
}
