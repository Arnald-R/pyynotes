{
 "cells": [
  {
   "cell_type": "code",
   "execution_count": null,
   "id": "c8bac82b-2dbf-494c-822d-8486152c2abc",
   "metadata": {},
   "outputs": [],
   "source": [
    "#created at 20250325"
   ]
  },
  {
   "cell_type": "code",
   "execution_count": null,
   "id": "fe9baf30-c5f6-4492-9e56-986e1b61ddc0",
   "metadata": {},
   "outputs": [],
   "source": [
    "#Multiple assignment"
   ]
  },
  {
   "cell_type": "code",
   "execution_count": 1,
   "id": "0c363db9-8234-4839-b251-039eee36b11b",
   "metadata": {},
   "outputs": [
    {
     "name": "stdout",
     "output_type": "stream",
     "text": [
      "\n",
      " === Multiple Assignment Examples ===\n"
     ]
    }
   ],
   "source": [
    "print(\"\\n === Multiple Assignment Examples ===\")"
   ]
  },
  {
   "cell_type": "code",
   "execution_count": 2,
   "id": "3062d6c9-23b3-4eaf-9c4c-ad4cdbecabd0",
   "metadata": {},
   "outputs": [],
   "source": [
    "x, y ,z = 1, 2, 3"
   ]
  },
  {
   "cell_type": "code",
   "execution_count": 3,
   "id": "c335eb4b-a4dd-4a58-b383-ac5516ed8a95",
   "metadata": {},
   "outputs": [
    {
     "name": "stdout",
     "output_type": "stream",
     "text": [
      " X: 1, Y: 2, Z: 3\n"
     ]
    }
   ],
   "source": [
    "print(f\" X: {x}, Y: {y}, Z: {z}\")"
   ]
  },
  {
   "cell_type": "code",
   "execution_count": 4,
   "id": "56c512c9-c51d-4d17-ad7f-5b20da02b70f",
   "metadata": {},
   "outputs": [],
   "source": [
    "a = b = c = 10"
   ]
  },
  {
   "cell_type": "code",
   "execution_count": 5,
   "id": "4a9346c7-7a84-4bc7-b1f2-5e88ed8f8689",
   "metadata": {},
   "outputs": [
    {
     "name": "stdout",
     "output_type": "stream",
     "text": [
      "A: 10, B: 10, C: 10\n"
     ]
    }
   ],
   "source": [
    "print(f\"A: {a}, B: {b}, C: {c}\")"
   ]
  },
  {
   "cell_type": "code",
   "execution_count": null,
   "id": "343c2d39-d311-4ce5-b98b-73a2f9ddbbde",
   "metadata": {},
   "outputs": [],
   "source": []
  }
 ],
 "metadata": {
  "kernelspec": {
   "display_name": "Python 3 (ipykernel)",
   "language": "python",
   "name": "python3"
  },
  "language_info": {
   "codemirror_mode": {
    "name": "ipython",
    "version": 3
   },
   "file_extension": ".py",
   "mimetype": "text/x-python",
   "name": "python",
   "nbconvert_exporter": "python",
   "pygments_lexer": "ipython3",
   "version": "3.12.8"
  }
 },
 "nbformat": 4,
 "nbformat_minor": 5
}
