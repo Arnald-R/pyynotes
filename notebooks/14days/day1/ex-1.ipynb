{
 "cells": [
  {
   "cell_type": "code",
   "execution_count": null,
   "id": "273a458e-1702-4e6c-887f-6bb542919f2b",
   "metadata": {},
   "outputs": [],
   "source": [
    "#created at 20250325"
   ]
  },
  {
   "cell_type": "code",
   "execution_count": null,
   "id": "42d1094f-5a52-4ded-9bc6-73ebcdb31ad3",
   "metadata": {},
   "outputs": [],
   "source": [
    "# Python Learning Plan - Day 1: Python Basics\n",
    "# Comprehensive examples of basic Python concepts"
   ]
  },
  {
   "cell_type": "code",
   "execution_count": null,
   "id": "ea5b1e51-e4ab-4608-928a-0454bbbcb3c8",
   "metadata": {},
   "outputs": [],
   "source": [
    "#Basic Print"
   ]
  },
  {
   "cell_type": "code",
   "execution_count": 3,
   "id": "7172f0b9-94f7-417c-bc43-07b2cc6fbb91",
   "metadata": {},
   "outputs": [
    {
     "name": "stdout",
     "output_type": "stream",
     "text": [
      "\n",
      "=== Basic print examples ===\n"
     ]
    }
   ],
   "source": [
    "print(\"\\n=== Basic print examples ===\")"
   ]
  },
  {
   "cell_type": "code",
   "execution_count": 4,
   "id": "88c5f5b7-e3ed-4a9b-b30e-ed713db9c1c1",
   "metadata": {},
   "outputs": [
    {
     "name": "stdout",
     "output_type": "stream",
     "text": [
      "Hello world\n"
     ]
    }
   ],
   "source": [
    "print(\"Hello world\")"
   ]
  },
  {
   "cell_type": "code",
   "execution_count": 6,
   "id": "00b4d7bf-18b4-4b05-8d27-058ab189e630",
   "metadata": {},
   "outputs": [
    {
     "name": "stdout",
     "output_type": "stream",
     "text": [
      "python is awesome\n"
     ]
    }
   ],
   "source": [
    "print(\"python\", \"is\", \"awesome\")"
   ]
  },
  {
   "cell_type": "code",
   "execution_count": 8,
   "id": "cc7340de-8b10-49dc-b444-7b229a3eaff3",
   "metadata": {},
   "outputs": [
    {
     "name": "stdout",
     "output_type": "stream",
     "text": [
      "This is line 1\n",
      "This is line 2\n"
     ]
    }
   ],
   "source": [
    "print(\"This is line 1\\nThis is line 2\")"
   ]
  },
  {
   "cell_type": "code",
   "execution_count": null,
   "id": "009892d3-267b-4ea7-b38b-dc63552fe09e",
   "metadata": {},
   "outputs": [],
   "source": []
  }
 ],
 "metadata": {
  "kernelspec": {
   "display_name": "Python 3 (ipykernel)",
   "language": "python",
   "name": "python3"
  },
  "language_info": {
   "codemirror_mode": {
    "name": "ipython",
    "version": 3
   },
   "file_extension": ".py",
   "mimetype": "text/x-python",
   "name": "python",
   "nbconvert_exporter": "python",
   "pygments_lexer": "ipython3",
   "version": "3.12.8"
  }
 },
 "nbformat": 4,
 "nbformat_minor": 5
}
