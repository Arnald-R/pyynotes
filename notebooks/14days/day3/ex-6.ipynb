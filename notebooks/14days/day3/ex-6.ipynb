{
 "cells": [
  {
   "cell_type": "code",
   "execution_count": null,
   "id": "c634f878-9152-4f5a-9dce-5c9034dcba4c",
   "metadata": {},
   "outputs": [],
   "source": [
    "#created at 20250331"
   ]
  },
  {
   "cell_type": "code",
   "execution_count": null,
   "id": "986a37e0-3a3e-4bb9-8a93-e3be733b315a",
   "metadata": {},
   "outputs": [],
   "source": [
    "#while loop"
   ]
  },
  {
   "cell_type": "code",
   "execution_count": 1,
   "id": "e8d8e9f4-8d77-4510-9559-f05ce0fa9f52",
   "metadata": {},
   "outputs": [
    {
     "name": "stdout",
     "output_type": "stream",
     "text": [
      "\n",
      " === While loop ===\n"
     ]
    }
   ],
   "source": [
    "print(\"\\n === While loop ===\")"
   ]
  },
  {
   "cell_type": "code",
   "execution_count": 2,
   "id": "34c779eb-c528-42e7-be96-ba33265a0f38",
   "metadata": {},
   "outputs": [],
   "source": [
    "count = 0"
   ]
  },
  {
   "cell_type": "code",
   "execution_count": 4,
   "id": "ea30e489-84ed-4e99-88b6-f8f354713d8d",
   "metadata": {},
   "outputs": [
    {
     "name": "stdout",
     "output_type": "stream",
     "text": [
      "count:5\n"
     ]
    }
   ],
   "source": [
    "while count < 5:\n",
    "    print(f\"count:{count}\")\n",
    "    count += 1"
   ]
  },
  {
   "cell_type": "code",
   "execution_count": null,
   "id": "fd6b4409-d9c3-4f7e-9906-ce4bdeb2ab8a",
   "metadata": {},
   "outputs": [],
   "source": []
  }
 ],
 "metadata": {
  "kernelspec": {
   "display_name": "Python 3 (ipykernel)",
   "language": "python",
   "name": "python3"
  },
  "language_info": {
   "codemirror_mode": {
    "name": "ipython",
    "version": 3
   },
   "file_extension": ".py",
   "mimetype": "text/x-python",
   "name": "python",
   "nbconvert_exporter": "python",
   "pygments_lexer": "ipython3",
   "version": "3.12.8"
  }
 },
 "nbformat": 4,
 "nbformat_minor": 5
}
