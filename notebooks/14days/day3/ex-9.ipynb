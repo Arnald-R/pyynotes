{
 "cells": [
  {
   "cell_type": "code",
   "execution_count": null,
   "id": "f3a91b22-2a01-4d49-8348-f459a6523746",
   "metadata": {},
   "outputs": [],
   "source": [
    "#created at 20250332"
   ]
  },
  {
   "cell_type": "code",
   "execution_count": null,
   "id": "7efb9e4f-1c01-4d34-9cd4-05551579b2e3",
   "metadata": {},
   "outputs": [],
   "source": [
    "#Pass Statement"
   ]
  },
  {
   "cell_type": "code",
   "execution_count": 1,
   "id": "1fc6b307-bef4-4f4c-af0a-7bdee23f8e5d",
   "metadata": {},
   "outputs": [
    {
     "name": "stdout",
     "output_type": "stream",
     "text": [
      "\n",
      " ===Pass statement ===\n"
     ]
    }
   ],
   "source": [
    "print(\"\\n ===Pass statement ===\")"
   ]
  },
  {
   "cell_type": "code",
   "execution_count": 2,
   "id": "60311ece-5e40-4e71-b88c-a5233cf568db",
   "metadata": {},
   "outputs": [
    {
     "name": "stdout",
     "output_type": "stream",
     "text": [
      "number:0\n",
      "number:1\n",
      "number:2\n"
     ]
    }
   ],
   "source": [
    "for i in range(3):\n",
    "    if i == 3:\n",
    "        pass\n",
    "    else:\n",
    "        print(f\"number:{i}\")"
   ]
  },
  {
   "cell_type": "code",
   "execution_count": null,
   "id": "4394be08-ecbe-4566-aa85-6ea03e0e6ea2",
   "metadata": {},
   "outputs": [],
   "source": []
  },
  {
   "cell_type": "code",
   "execution_count": null,
   "id": "1e0a481f-2bab-49b6-bdc1-c360516239f5",
   "metadata": {},
   "outputs": [],
   "source": []
  }
 ],
 "metadata": {
  "kernelspec": {
   "display_name": "Python 3 (ipykernel)",
   "language": "python",
   "name": "python3"
  },
  "language_info": {
   "codemirror_mode": {
    "name": "ipython",
    "version": 3
   },
   "file_extension": ".py",
   "mimetype": "text/x-python",
   "name": "python",
   "nbconvert_exporter": "python",
   "pygments_lexer": "ipython3",
   "version": "3.12.8"
  }
 },
 "nbformat": 4,
 "nbformat_minor": 5
}
