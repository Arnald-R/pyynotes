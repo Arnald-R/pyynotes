{
 "cells": [
  {
   "cell_type": "code",
   "execution_count": null,
   "id": "5c14e12d-9435-4abd-8a7b-6c80cad0b05c",
   "metadata": {},
   "outputs": [],
   "source": [
    "#creaated at 20250331"
   ]
  },
  {
   "cell_type": "code",
   "execution_count": null,
   "id": "e2e2b52e-6b8c-4d4f-b04b-79008ef2fd70",
   "metadata": {},
   "outputs": [],
   "source": [
    "#For loop with Dictionary"
   ]
  },
  {
   "cell_type": "code",
   "execution_count": 1,
   "id": "7dfde172-80f0-4e24-941b-459bd98ab71c",
   "metadata": {},
   "outputs": [
    {
     "name": "stdout",
     "output_type": "stream",
     "text": [
      "\n",
      " === For loop with Dictionary ===\n"
     ]
    }
   ],
   "source": [
    "print(\"\\n === For loop with Dictionary ===\")"
   ]
  },
  {
   "cell_type": "code",
   "execution_count": 3,
   "id": "811a8f54-1308-4b1d-8493-02bb53a99ecd",
   "metadata": {},
   "outputs": [],
   "source": [
    "person  = {\n",
    "    'name' : 'Arnald',\n",
    "    'age'  : 23,\n",
    "    'city' : 'Newyork'\n",
    "}"
   ]
  },
  {
   "cell_type": "code",
   "execution_count": 8,
   "id": "33fe0f53-f7bd-4e90-b03c-84fc710574f4",
   "metadata": {},
   "outputs": [
    {
     "name": "stdout",
     "output_type": "stream",
     "text": [
      "Key:name \n",
      "value:Arnald\n",
      "Key:age \n",
      "value:23\n",
      "Key:city \n",
      "value:Newyork\n"
     ]
    }
   ],
   "source": [
    "for key,value in person.items():\n",
    "    print(f\"Key:{key} \\nvalue:{value}\")"
   ]
  },
  {
   "cell_type": "code",
   "execution_count": null,
   "id": "bd7a7408-b0ea-4202-821a-9c4bed0e110a",
   "metadata": {},
   "outputs": [],
   "source": []
  }
 ],
 "metadata": {
  "kernelspec": {
   "display_name": "Python 3 (ipykernel)",
   "language": "python",
   "name": "python3"
  },
  "language_info": {
   "codemirror_mode": {
    "name": "ipython",
    "version": 3
   },
   "file_extension": ".py",
   "mimetype": "text/x-python",
   "name": "python",
   "nbconvert_exporter": "python",
   "pygments_lexer": "ipython3",
   "version": "3.12.8"
  }
 },
 "nbformat": 4,
 "nbformat_minor": 5
}
