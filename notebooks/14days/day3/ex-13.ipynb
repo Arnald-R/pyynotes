{
 "cells": [
  {
   "cell_type": "code",
   "execution_count": null,
   "id": "23e502b3-d612-474e-b352-43e74dcdb660",
   "metadata": {},
   "outputs": [],
   "source": [
    "#created at 20250331"
   ]
  },
  {
   "cell_type": "code",
   "execution_count": null,
   "id": "b0a9acae-0ebc-4882-851a-ff12b70f1618",
   "metadata": {},
   "outputs": [],
   "source": [
    "#Conditional Expression(Ternary Operator)"
   ]
  },
  {
   "cell_type": "code",
   "execution_count": 1,
   "id": "379e3713-d671-461c-9844-fa0f4b3c4e44",
   "metadata": {},
   "outputs": [
    {
     "name": "stdout",
     "output_type": "stream",
     "text": [
      "\n",
      " === Ternary Operator ===\n"
     ]
    }
   ],
   "source": [
    "print(\"\\n === Ternary Operator ===\")"
   ]
  },
  {
   "cell_type": "code",
   "execution_count": 2,
   "id": "e7c6dfaf-b317-47d4-ac55-adad6710ac6e",
   "metadata": {},
   "outputs": [],
   "source": [
    "age = 20"
   ]
  },
  {
   "cell_type": "code",
   "execution_count": 3,
   "id": "54e10432-b126-422f-8fbe-b7c80c5cfc6f",
   "metadata": {},
   "outputs": [],
   "source": [
    "status = \"Major\" if age >= 17 else \"minor\""
   ]
  },
  {
   "cell_type": "code",
   "execution_count": 5,
   "id": "6ea3a796-915b-4e51-ba30-0f57e8fb4914",
   "metadata": {},
   "outputs": [
    {
     "name": "stdout",
     "output_type": "stream",
     "text": [
      "status:Major\n"
     ]
    }
   ],
   "source": [
    "print(f\"status:{status}\")"
   ]
  },
  {
   "cell_type": "code",
   "execution_count": null,
   "id": "411a688b-38e4-4e65-9c5d-afd6fd748a07",
   "metadata": {},
   "outputs": [],
   "source": []
  }
 ],
 "metadata": {
  "kernelspec": {
   "display_name": "Python 3 (ipykernel)",
   "language": "python",
   "name": "python3"
  },
  "language_info": {
   "codemirror_mode": {
    "name": "ipython",
    "version": 3
   },
   "file_extension": ".py",
   "mimetype": "text/x-python",
   "name": "python",
   "nbconvert_exporter": "python",
   "pygments_lexer": "ipython3",
   "version": "3.12.8"
  }
 },
 "nbformat": 4,
 "nbformat_minor": 5
}
