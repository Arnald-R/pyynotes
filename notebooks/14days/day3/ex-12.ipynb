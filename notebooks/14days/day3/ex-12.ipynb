{
 "cells": [
  {
   "cell_type": "code",
   "execution_count": null,
   "id": "2ed80d71-e10a-44be-96b3-8d6710e6c360",
   "metadata": {},
   "outputs": [],
   "source": [
    "#crated at 20250331"
   ]
  },
  {
   "cell_type": "code",
   "execution_count": null,
   "id": "83d8081a-436e-4dcb-ac21-16bfbe56289a",
   "metadata": {},
   "outputs": [],
   "source": [
    "#While with Break else"
   ]
  },
  {
   "cell_type": "code",
   "execution_count": 1,
   "id": "f1ffeea8-6d05-494a-8a78-24b1f6bf9085",
   "metadata": {},
   "outputs": [
    {
     "name": "stdout",
     "output_type": "stream",
     "text": [
      "\n",
      " === While with break else ===\n"
     ]
    }
   ],
   "source": [
    "print(\"\\n === While with break else ===\")"
   ]
  },
  {
   "cell_type": "code",
   "execution_count": 2,
   "id": "80b132bf-e17e-414e-9d37-ebf3a73697b4",
   "metadata": {},
   "outputs": [],
   "source": [
    "num = 0"
   ]
  },
  {
   "cell_type": "code",
   "execution_count": 4,
   "id": "98e8887f-aeac-4017-922d-21cbff47d4ac",
   "metadata": {},
   "outputs": [
    {
     "ename": "IndentationError",
     "evalue": "unexpected indent (3659603199.py, line 5)",
     "output_type": "error",
     "traceback": [
      "\u001b[0;36m  Cell \u001b[0;32mIn[4], line 5\u001b[0;36m\u001b[0m\n\u001b[0;31m    num += 1\u001b[0m\n\u001b[0m    ^\u001b[0m\n\u001b[0;31mIndentationError\u001b[0m\u001b[0;31m:\u001b[0m unexpected indent\n"
     ]
    }
   ],
   "source": [
    "while num > 5:\n",
    "    if num == 3:\n",
    "        break\n",
    "    print(f\"current number:{num}\")\n",
    "    num += 1\n",
    "else:\n",
    "    print(f\"loop completed successfully\")"
   ]
  },
  {
   "cell_type": "code",
   "execution_count": null,
   "id": "a3880fe7-a770-4ea5-bbea-2371c4d7841b",
   "metadata": {},
   "outputs": [],
   "source": []
  }
 ],
 "metadata": {
  "kernelspec": {
   "display_name": "Python 3 (ipykernel)",
   "language": "python",
   "name": "python3"
  },
  "language_info": {
   "codemirror_mode": {
    "name": "ipython",
    "version": 3
   },
   "file_extension": ".py",
   "mimetype": "text/x-python",
   "name": "python",
   "nbconvert_exporter": "python",
   "pygments_lexer": "ipython3",
   "version": "3.12.8"
  }
 },
 "nbformat": 4,
 "nbformat_minor": 5
}
