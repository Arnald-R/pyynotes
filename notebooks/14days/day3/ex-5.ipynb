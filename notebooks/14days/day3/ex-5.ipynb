{
 "cells": [
  {
   "cell_type": "code",
   "execution_count": null,
   "id": "1a14053f-87ec-486c-a8bf-e0c194a698ce",
   "metadata": {},
   "outputs": [],
   "source": [
    "#created at 20250331"
   ]
  },
  {
   "cell_type": "code",
   "execution_count": 1,
   "id": "36e87c39-466c-4883-ab4f-893b24fd0fb0",
   "metadata": {},
   "outputs": [],
   "source": [
    "#Range Based for loop"
   ]
  },
  {
   "cell_type": "code",
   "execution_count": 2,
   "id": "12da7627-8026-4b51-8277-6b7d7f049c75",
   "metadata": {},
   "outputs": [
    {
     "name": "stdout",
     "output_type": "stream",
     "text": [
      "\n",
      " === Range Based For loop ===\n"
     ]
    }
   ],
   "source": [
    "print(\"\\n === Range Based For loop ===\")"
   ]
  },
  {
   "cell_type": "code",
   "execution_count": 3,
   "id": "3ff0ee44-6632-436a-b17b-614457e63f09",
   "metadata": {},
   "outputs": [
    {
     "name": "stdout",
     "output_type": "stream",
     "text": [
      "0\n",
      "1\n",
      "2\n",
      "3\n",
      "4\n"
     ]
    }
   ],
   "source": [
    "for i in range(5):\n",
    "    print(i)"
   ]
  },
  {
   "cell_type": "code",
   "execution_count": 4,
   "id": "215a3640-87b6-4fa4-9463-f3972b0e93cb",
   "metadata": {},
   "outputs": [
    {
     "name": "stdout",
     "output_type": "stream",
     "text": [
      "2\n",
      "3\n",
      "4\n"
     ]
    }
   ],
   "source": [
    "for i in range(2,5):\n",
    "    print(i)"
   ]
  },
  {
   "cell_type": "code",
   "execution_count": 7,
   "id": "488411f9-531e-4c75-832c-de447a00915f",
   "metadata": {},
   "outputs": [
    {
     "name": "stdout",
     "output_type": "stream",
     "text": [
      "Even numbers:0\n",
      "Even numbers:2\n",
      "Even numbers:4\n",
      "Even numbers:6\n",
      "Even numbers:8\n"
     ]
    }
   ],
   "source": [
    "for i in range(0, 10, 2):\n",
    "    print(f\"Even numbers:{i}\")"
   ]
  },
  {
   "cell_type": "code",
   "execution_count": null,
   "id": "4e02c810-a5f1-4e1e-a1f9-14f3c294947d",
   "metadata": {},
   "outputs": [],
   "source": []
  }
 ],
 "metadata": {
  "kernelspec": {
   "display_name": "Python 3 (ipykernel)",
   "language": "python",
   "name": "python3"
  },
  "language_info": {
   "codemirror_mode": {
    "name": "ipython",
    "version": 3
   },
   "file_extension": ".py",
   "mimetype": "text/x-python",
   "name": "python",
   "nbconvert_exporter": "python",
   "pygments_lexer": "ipython3",
   "version": "3.12.8"
  }
 },
 "nbformat": 4,
 "nbformat_minor": 5
}
