{
 "cells": [
  {
   "cell_type": "code",
   "execution_count": null,
   "id": "c8c0bc88-718e-4fe5-8e0f-f365a8ed70e0",
   "metadata": {},
   "outputs": [],
   "source": [
    "#created at 20250331"
   ]
  },
  {
   "cell_type": "code",
   "execution_count": null,
   "id": "f713aacd-a791-42e0-8820-145f9e8e1596",
   "metadata": {},
   "outputs": [],
   "source": [
    "#Break statement"
   ]
  },
  {
   "cell_type": "code",
   "execution_count": 1,
   "id": "eb0b4126-5535-4b66-b5ee-ce4b519c3ee9",
   "metadata": {},
   "outputs": [
    {
     "name": "stdout",
     "output_type": "stream",
     "text": [
      "\n",
      " === Break statement ===\n"
     ]
    }
   ],
   "source": [
    "print(\"\\n === Break statement ===\")"
   ]
  },
  {
   "cell_type": "code",
   "execution_count": 2,
   "id": "1eafcd0c-4fe4-49c5-a36b-13bb0a928792",
   "metadata": {},
   "outputs": [
    {
     "name": "stdout",
     "output_type": "stream",
     "text": [
      "0\n",
      "1\n",
      "2\n",
      "3\n",
      "4\n"
     ]
    }
   ],
   "source": [
    "for i in range(10):\n",
    "    if i == 5:\n",
    "        break\n",
    "    print(f\"current number:{i}\")\n",
    "print(f\"Loop broken at 5\")"
   ]
  },
  {
   "cell_type": "code",
   "execution_count": null,
   "id": "6098ef4f-cad2-4275-bd68-cd369a78d692",
   "metadata": {},
   "outputs": [],
   "source": []
  }
 ],
 "metadata": {
  "kernelspec": {
   "display_name": "Python 3 (ipykernel)",
   "language": "python",
   "name": "python3"
  },
  "language_info": {
   "codemirror_mode": {
    "name": "ipython",
    "version": 3
   },
   "file_extension": ".py",
   "mimetype": "text/x-python",
   "name": "python",
   "nbconvert_exporter": "python",
   "pygments_lexer": "ipython3",
   "version": "3.12.8"
  }
 },
 "nbformat": 4,
 "nbformat_minor": 5
}
