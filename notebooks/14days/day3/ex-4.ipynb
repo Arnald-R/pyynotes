{
 "cells": [
  {
   "cell_type": "code",
   "execution_count": null,
   "id": "97d54540-3c7f-4904-b739-2ec184ad4ae7",
   "metadata": {},
   "outputs": [],
   "source": [
    "#created at 20250331"
   ]
  },
  {
   "cell_type": "code",
   "execution_count": null,
   "id": "234ba6ac-4e52-4d70-bcd9-6ae9246e11ca",
   "metadata": {},
   "outputs": [],
   "source": [
    "#Basic For loop"
   ]
  },
  {
   "cell_type": "code",
   "execution_count": 1,
   "id": "b0f088d1-f860-4ff4-9b80-fce1c95e8ef9",
   "metadata": {},
   "outputs": [
    {
     "name": "stdout",
     "output_type": "stream",
     "text": [
      "\n",
      " === Basic For Loop === \n"
     ]
    }
   ],
   "source": [
    "print(\"\\n === Basic For Loop === \")"
   ]
  },
  {
   "cell_type": "code",
   "execution_count": 2,
   "id": "11998af6-45cc-478f-810f-a53542134031",
   "metadata": {},
   "outputs": [
    {
     "name": "stdout",
     "output_type": "stream",
     "text": [
      "fruit list:apple\n",
      "fruit list:orange\n",
      "fruit list:banana\n"
     ]
    }
   ],
   "source": [
    "fruits = ['apple','orange','banana']\n",
    "for fruit in fruits:\n",
    "    print(f\"fruit list:{fruit}\")"
   ]
  },
  {
   "cell_type": "code",
   "execution_count": null,
   "id": "a68b1aed-fce8-4b05-90a0-27e832b2c68b",
   "metadata": {},
   "outputs": [],
   "source": []
  }
 ],
 "metadata": {
  "kernelspec": {
   "display_name": "Python 3 (ipykernel)",
   "language": "python",
   "name": "python3"
  },
  "language_info": {
   "codemirror_mode": {
    "name": "ipython",
    "version": 3
   },
   "file_extension": ".py",
   "mimetype": "text/x-python",
   "name": "python",
   "nbconvert_exporter": "python",
   "pygments_lexer": "ipython3",
   "version": "3.12.8"
  }
 },
 "nbformat": 4,
 "nbformat_minor": 5
}
