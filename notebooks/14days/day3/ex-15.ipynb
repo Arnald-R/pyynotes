{
 "cells": [
  {
   "cell_type": "code",
   "execution_count": null,
   "id": "693d7e22-8b87-48f4-879a-9ccabe331bd1",
   "metadata": {},
   "outputs": [],
   "source": [
    "#created at 20250331"
   ]
  },
  {
   "cell_type": "code",
   "execution_count": null,
   "id": "81d90470-c8b7-428d-99aa-4d86637facdf",
   "metadata": {},
   "outputs": [],
   "source": [
    "#Multiple conditions"
   ]
  },
  {
   "cell_type": "code",
   "execution_count": 1,
   "id": "af70ca93-1879-480f-ad5f-3675a9705ccf",
   "metadata": {},
   "outputs": [
    {
     "name": "stdout",
     "output_type": "stream",
     "text": [
      "\n",
      " === Multiple Conditions === \n"
     ]
    }
   ],
   "source": [
    "print(\"\\n === Multiple Conditions === \")"
   ]
  },
  {
   "cell_type": "code",
   "execution_count": 2,
   "id": "af236eed-1239-4778-9613-5276b69897a8",
   "metadata": {},
   "outputs": [],
   "source": [
    "age = 22"
   ]
  },
  {
   "cell_type": "code",
   "execution_count": 6,
   "id": "adfe9250-8824-43a4-9b7f-a65302adbcac",
   "metadata": {},
   "outputs": [],
   "source": [
    "income = 22000"
   ]
  },
  {
   "cell_type": "code",
   "execution_count": 8,
   "id": "99ff480c-fbe2-43c7-9922-054c6e434f5c",
   "metadata": {},
   "outputs": [
    {
     "name": "stdout",
     "output_type": "stream",
     "text": [
      "you are eligible\n"
     ]
    }
   ],
   "source": [
    "if age > 18 and income >= 20000:\n",
    "    print(\"you are eligible\")\n",
    "elif age > 18 or income >= 20000:\n",
    "    print(\"yo  need further review\")\n",
    "else:\n",
    "    print(\"You are not eligible\")"
   ]
  },
  {
   "cell_type": "code",
   "execution_count": null,
   "id": "c2e1d436-47da-44f5-88ed-94d59ef2a941",
   "metadata": {},
   "outputs": [],
   "source": []
  }
 ],
 "metadata": {
  "kernelspec": {
   "display_name": "Python 3 (ipykernel)",
   "language": "python",
   "name": "python3"
  },
  "language_info": {
   "codemirror_mode": {
    "name": "ipython",
    "version": 3
   },
   "file_extension": ".py",
   "mimetype": "text/x-python",
   "name": "python",
   "nbconvert_exporter": "python",
   "pygments_lexer": "ipython3",
   "version": "3.12.8"
  }
 },
 "nbformat": 4,
 "nbformat_minor": 5
}
