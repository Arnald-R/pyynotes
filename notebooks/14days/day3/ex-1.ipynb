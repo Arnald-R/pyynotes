{
 "cells": [
  {
   "cell_type": "code",
   "execution_count": null,
   "id": "8191c688-081d-43ce-8dc1-5f3c4e15b80b",
   "metadata": {},
   "outputs": [],
   "source": [
    "#created at 20250331"
   ]
  },
  {
   "cell_type": "code",
   "execution_count": null,
   "id": "3ee07315-197d-443b-a344-2f22e76d7a5e",
   "metadata": {},
   "outputs": [],
   "source": [
    "#Basic if else"
   ]
  },
  {
   "cell_type": "code",
   "execution_count": 1,
   "id": "eeb7e6bc-5314-4dd0-8ff0-33fa3200a897",
   "metadata": {},
   "outputs": [
    {
     "name": "stdout",
     "output_type": "stream",
     "text": [
      "\n",
      " === Basic If Else === \n"
     ]
    }
   ],
   "source": [
    "print(\"\\n === Basic If Else === \")"
   ]
  },
  {
   "cell_type": "code",
   "execution_count": 2,
   "id": "fad16414-78a2-4997-ac6b-97f7b938a278",
   "metadata": {},
   "outputs": [],
   "source": [
    "age = 18"
   ]
  },
  {
   "cell_type": "code",
   "execution_count": 3,
   "id": "216bbfb5-92a3-4b48-8713-2f1d6696fbda",
   "metadata": {},
   "outputs": [
    {
     "name": "stdout",
     "output_type": "stream",
     "text": [
      "you are major\n"
     ]
    }
   ],
   "source": [
    "if age >= 18 :\n",
    "    print(\"you are major\")\n",
    "else :\n",
    "    print(\"You are minor\")"
   ]
  },
  {
   "cell_type": "code",
   "execution_count": null,
   "id": "7c91590c-4362-4973-8ee4-fcd3813cec21",
   "metadata": {},
   "outputs": [],
   "source": []
  }
 ],
 "metadata": {
  "kernelspec": {
   "display_name": "Python 3 (ipykernel)",
   "language": "python",
   "name": "python3"
  },
  "language_info": {
   "codemirror_mode": {
    "name": "ipython",
    "version": 3
   },
   "file_extension": ".py",
   "mimetype": "text/x-python",
   "name": "python",
   "nbconvert_exporter": "python",
   "pygments_lexer": "ipython3",
   "version": "3.12.8"
  }
 },
 "nbformat": 4,
 "nbformat_minor": 5
}
