{
 "cells": [
  {
   "cell_type": "code",
   "execution_count": 1,
   "id": "481a8bed-74a0-4d4a-9280-27901e81d5da",
   "metadata": {},
   "outputs": [],
   "source": [
    "#created at 20250331"
   ]
  },
  {
   "cell_type": "code",
   "execution_count": null,
   "id": "17d94f85-8e83-4a76-b4f6-6e926e36ea43",
   "metadata": {},
   "outputs": [],
   "source": [
    "#Complex control flow"
   ]
  },
  {
   "cell_type": "code",
   "execution_count": 2,
   "id": "9eedfc27-da2c-43ec-a5c2-e88dc0d2671b",
   "metadata": {},
   "outputs": [
    {
     "name": "stdout",
     "output_type": "stream",
     "text": [
      "\n",
      " === Complex control flow === \n"
     ]
    }
   ],
   "source": [
    "print(\"\\n === Complex control flow === \")"
   ]
  },
  {
   "cell_type": "code",
   "execution_count": 3,
   "id": "239fac5e-8034-40ef-950a-d65f4577c702",
   "metadata": {},
   "outputs": [],
   "source": [
    "def check_number(num):\n",
    "    if num > 0:\n",
    "        return \"Positive\"\n",
    "    elif num < 0:\n",
    "        return \"Negative\"\n",
    "    else:\n",
    "        if num % 2 == 0:\n",
    "            return \"Positive even\"\n",
    "        else:\n",
    "            return \"positive odd\""
   ]
  },
  {
   "cell_type": "code",
   "execution_count": 4,
   "id": "5c41554e-9da5-49f4-98b5-372fd7dce530",
   "metadata": {},
   "outputs": [],
   "source": [
    "number = [-1, 0, 6, 9]"
   ]
  },
  {
   "cell_type": "code",
   "execution_count": 6,
   "id": "8f8cee0e-9bb9-4669-baa5-cf2e4f9132d3",
   "metadata": {},
   "outputs": [
    {
     "name": "stdout",
     "output_type": "stream",
     "text": [
      "Numbers -1 is Negative\n",
      "Numbers 0 is Positive even\n",
      "Numbers 6 is Positive\n",
      "Numbers 9 is Positive\n"
     ]
    }
   ],
   "source": [
    "for num in number:\n",
    "    result = check_number(num)\n",
    "    print(f\"Numbers {num} is {result}\")"
   ]
  },
  {
   "cell_type": "code",
   "execution_count": null,
   "id": "58fd581b-00de-4870-97ee-9ccee9d01f88",
   "metadata": {},
   "outputs": [],
   "source": []
  }
 ],
 "metadata": {
  "kernelspec": {
   "display_name": "Python 3 (ipykernel)",
   "language": "python",
   "name": "python3"
  },
  "language_info": {
   "codemirror_mode": {
    "name": "ipython",
    "version": 3
   },
   "file_extension": ".py",
   "mimetype": "text/x-python",
   "name": "python",
   "nbconvert_exporter": "python",
   "pygments_lexer": "ipython3",
   "version": "3.12.8"
  }
 },
 "nbformat": 4,
 "nbformat_minor": 5
}
