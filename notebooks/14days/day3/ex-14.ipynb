{
 "cells": [
  {
   "cell_type": "code",
   "execution_count": null,
   "id": "faae3d77-268a-4e83-b0ff-0b3127c8edaa",
   "metadata": {},
   "outputs": [],
   "source": [
    "#created at 20250331"
   ]
  },
  {
   "cell_type": "code",
   "execution_count": null,
   "id": "73c22695-755d-420c-acc3-1609857e2523",
   "metadata": {},
   "outputs": [],
   "source": [
    "#Loop with Enumerate"
   ]
  },
  {
   "cell_type": "code",
   "execution_count": 2,
   "id": "93c8d755-35e9-482f-920a-fe9815643a82",
   "metadata": {},
   "outputs": [
    {
     "name": "stdout",
     "output_type": "stream",
     "text": [
      "\n",
      " === Loop with Enumerate ===\n"
     ]
    }
   ],
   "source": [
    "print(\"\\n === Loop with Enumerate ===\")"
   ]
  },
  {
   "cell_type": "code",
   "execution_count": 3,
   "id": "549c932f-f736-46df-9c5f-6c6ae0f83330",
   "metadata": {},
   "outputs": [],
   "source": [
    "fruits = ['apple','orange','banana']"
   ]
  },
  {
   "cell_type": "code",
   "execution_count": 4,
   "id": "573c6645-69e3-41ad-b9f1-af85f569ecef",
   "metadata": {},
   "outputs": [
    {
     "name": "stdout",
     "output_type": "stream",
     "text": [
      "Index:0 fruits:apple\n",
      "Index:1 fruits:orange\n",
      "Index:2 fruits:banana\n"
     ]
    }
   ],
   "source": [
    "for index,fruit in enumerate(fruits):\n",
    "    print(f\"Index:{index} fruits:{fruit}\")"
   ]
  },
  {
   "cell_type": "code",
   "execution_count": null,
   "id": "3f54b548-9999-4332-a6bb-82b5124c827e",
   "metadata": {},
   "outputs": [],
   "source": []
  }
 ],
 "metadata": {
  "kernelspec": {
   "display_name": "Python 3 (ipykernel)",
   "language": "python",
   "name": "python3"
  },
  "language_info": {
   "codemirror_mode": {
    "name": "ipython",
    "version": 3
   },
   "file_extension": ".py",
   "mimetype": "text/x-python",
   "name": "python",
   "nbconvert_exporter": "python",
   "pygments_lexer": "ipython3",
   "version": "3.12.8"
  }
 },
 "nbformat": 4,
 "nbformat_minor": 5
}
