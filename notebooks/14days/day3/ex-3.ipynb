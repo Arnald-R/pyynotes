{
 "cells": [
  {
   "cell_type": "code",
   "execution_count": null,
   "id": "fce6cd55-4eb3-4b39-8b6e-a849d21be66d",
   "metadata": {},
   "outputs": [],
   "source": [
    "#created at 20250331"
   ]
  },
  {
   "cell_type": "code",
   "execution_count": null,
   "id": "5300561c-9a4a-4ae6-b07e-191a8498bc33",
   "metadata": {},
   "outputs": [],
   "source": [
    "#Nested If statements"
   ]
  },
  {
   "cell_type": "code",
   "execution_count": 1,
   "id": "158e69e2-1224-49ab-a88f-7081f800e53f",
   "metadata": {},
   "outputs": [
    {
     "name": "stdout",
     "output_type": "stream",
     "text": [
      "\n",
      " === Nested If Statements === \n"
     ]
    }
   ],
   "source": [
    "print(\"\\n === Nested If Statements === \")"
   ]
  },
  {
   "cell_type": "code",
   "execution_count": 2,
   "id": "c6636c1f-5114-4878-9f4e-b087f56cefdb",
   "metadata": {},
   "outputs": [],
   "source": [
    "age = 18"
   ]
  },
  {
   "cell_type": "code",
   "execution_count": 3,
   "id": "08d3d18f-e9a5-429a-aef1-de9f761b417e",
   "metadata": {},
   "outputs": [],
   "source": [
    "has_license = True"
   ]
  },
  {
   "cell_type": "code",
   "execution_count": 4,
   "id": "60d6fc99-bb6c-46f3-99d7-4868b184d033",
   "metadata": {},
   "outputs": [
    {
     "name": "stdout",
     "output_type": "stream",
     "text": [
      "you can drive\n"
     ]
    }
   ],
   "source": [
    "if age >= 18:\n",
    "    if has_license:\n",
    "        print(\"you can drive\")\n",
    "    else:\n",
    "        print(\"You need a license to drive\")\n",
    "else:\n",
    "    print(\"You are too young to drive\")"
   ]
  },
  {
   "cell_type": "code",
   "execution_count": null,
   "id": "0bbc9287-ef04-41f1-8b7d-a27a97df105a",
   "metadata": {},
   "outputs": [],
   "source": []
  }
 ],
 "metadata": {
  "kernelspec": {
   "display_name": "Python 3 (ipykernel)",
   "language": "python",
   "name": "python3"
  },
  "language_info": {
   "codemirror_mode": {
    "name": "ipython",
    "version": 3
   },
   "file_extension": ".py",
   "mimetype": "text/x-python",
   "name": "python",
   "nbconvert_exporter": "python",
   "pygments_lexer": "ipython3",
   "version": "3.12.8"
  }
 },
 "nbformat": 4,
 "nbformat_minor": 5
}
