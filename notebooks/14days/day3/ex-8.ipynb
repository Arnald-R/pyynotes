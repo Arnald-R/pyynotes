{
 "cells": [
  {
   "cell_type": "code",
   "execution_count": null,
   "id": "1242cbc7-2106-47c2-b280-6850582f4a87",
   "metadata": {},
   "outputs": [],
   "source": [
    "#created at 20250331"
   ]
  },
  {
   "cell_type": "code",
   "execution_count": null,
   "id": "dc4e905e-5bb1-41ea-941d-73cd14917e19",
   "metadata": {},
   "outputs": [],
   "source": [
    "#Continue statement"
   ]
  },
  {
   "cell_type": "code",
   "execution_count": 1,
   "id": "dc77c1d5-6da7-4bd2-9287-495fb1df9bcd",
   "metadata": {},
   "outputs": [
    {
     "name": "stdout",
     "output_type": "stream",
     "text": [
      "\n",
      " === continue statement ===\n"
     ]
    }
   ],
   "source": [
    "print(\"\\n === continue statement ===\")"
   ]
  },
  {
   "cell_type": "code",
   "execution_count": 3,
   "id": "cb72308f-de45-43c8-8dee-60adae7fc91c",
   "metadata": {},
   "outputs": [
    {
     "name": "stdout",
     "output_type": "stream",
     "text": [
      "continue at 3: 0\n",
      "continue at 3: 1\n",
      "continue at 3: 2\n",
      "continue at 3: 4\n"
     ]
    }
   ],
   "source": [
    "for i in range(5):\n",
    "    if i == 3:\n",
    "        continue\n",
    "    print(f\"continue at 3: {i}\")"
   ]
  },
  {
   "cell_type": "code",
   "execution_count": null,
   "id": "5191c789-739f-42f5-a031-84723ce012aa",
   "metadata": {},
   "outputs": [],
   "source": []
  }
 ],
 "metadata": {
  "kernelspec": {
   "display_name": "Python 3 (ipykernel)",
   "language": "python",
   "name": "python3"
  },
  "language_info": {
   "codemirror_mode": {
    "name": "ipython",
    "version": 3
   },
   "file_extension": ".py",
   "mimetype": "text/x-python",
   "name": "python",
   "nbconvert_exporter": "python",
   "pygments_lexer": "ipython3",
   "version": "3.12.8"
  }
 },
 "nbformat": 4,
 "nbformat_minor": 5
}
