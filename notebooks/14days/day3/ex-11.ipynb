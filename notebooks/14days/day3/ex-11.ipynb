{
 "cells": [
  {
   "cell_type": "code",
   "execution_count": null,
   "id": "38e7c7d9-e3d1-4e71-9ad9-33ffe5ef32ad",
   "metadata": {},
   "outputs": [],
   "source": [
    "#created at 20250331"
   ]
  },
  {
   "cell_type": "code",
   "execution_count": null,
   "id": "32981e6b-c000-44ad-9ca4-552aebda861a",
   "metadata": {},
   "outputs": [],
   "source": [
    "#Loop with else"
   ]
  },
  {
   "cell_type": "code",
   "execution_count": 1,
   "id": "fb48f314-4eef-4b7f-a50a-f3463b2d56ff",
   "metadata": {},
   "outputs": [
    {
     "name": "stdout",
     "output_type": "stream",
     "text": [
      "\n",
      " === Loop with else ===\n"
     ]
    }
   ],
   "source": [
    "print(\"\\n === Loop with else ===\")"
   ]
  },
  {
   "cell_type": "code",
   "execution_count": 2,
   "id": "d0a79252-01d3-4413-904e-f72f29fc036e",
   "metadata": {},
   "outputs": [
    {
     "name": "stdout",
     "output_type": "stream",
     "text": [
      "number:0\n",
      "number:1\n",
      "number:2\n",
      "loop completed successfully\n"
     ]
    }
   ],
   "source": [
    "for i in range(3):\n",
    "    print(f\"number:{i}\")\n",
    "else:\n",
    "    print(\"loop completed successfully\")"
   ]
  },
  {
   "cell_type": "code",
   "execution_count": null,
   "id": "14a26ec9-4809-4b6c-9261-e0297e29e52a",
   "metadata": {},
   "outputs": [],
   "source": []
  }
 ],
 "metadata": {
  "kernelspec": {
   "display_name": "Python 3 (ipykernel)",
   "language": "python",
   "name": "python3"
  },
  "language_info": {
   "codemirror_mode": {
    "name": "ipython",
    "version": 3
   },
   "file_extension": ".py",
   "mimetype": "text/x-python",
   "name": "python",
   "nbconvert_exporter": "python",
   "pygments_lexer": "ipython3",
   "version": "3.12.8"
  }
 },
 "nbformat": 4,
 "nbformat_minor": 5
}
