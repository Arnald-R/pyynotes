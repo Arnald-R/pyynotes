{
 "cells": [
  {
   "cell_type": "code",
   "execution_count": null,
   "id": "85e4426a-6a18-4dd4-b0bb-322e6b07668f",
   "metadata": {},
   "outputs": [],
   "source": [
    "#created at 20250331"
   ]
  },
  {
   "cell_type": "code",
   "execution_count": null,
   "id": "0dd7499a-c35a-4a52-accd-e509653aeb38",
   "metadata": {},
   "outputs": [],
   "source": [
    "#Nested if with multiple conditions"
   ]
  },
  {
   "cell_type": "code",
   "execution_count": 1,
   "id": "0ab4acfe-bd1d-45e9-a6b7-12a043e3ec79",
   "metadata": {},
   "outputs": [
    {
     "name": "stdout",
     "output_type": "stream",
     "text": [
      "\n",
      " === Nested if with Multiple conditions ===\n"
     ]
    }
   ],
   "source": [
    "print(\"\\n === Nested if with Multiple conditions ===\")"
   ]
  },
  {
   "cell_type": "code",
   "execution_count": 2,
   "id": "67f1c92a-a20a-4d97-abae-4cffa4016da4",
   "metadata": {},
   "outputs": [],
   "source": [
    "user_type = \"admin\""
   ]
  },
  {
   "cell_type": "code",
   "execution_count": 3,
   "id": "228138e1-b68e-4b0d-9144-d62e9bccf55d",
   "metadata": {},
   "outputs": [],
   "source": [
    "is_logged_in = True"
   ]
  },
  {
   "cell_type": "code",
   "execution_count": 4,
   "id": "30135123-13e7-4664-82c9-143c4ca3840a",
   "metadata": {},
   "outputs": [],
   "source": [
    "has_permission = True"
   ]
  },
  {
   "cell_type": "code",
   "execution_count": 5,
   "id": "24b3d895-2e11-4aba-894d-d0d8ced35ac4",
   "metadata": {},
   "outputs": [
    {
     "name": "stdout",
     "output_type": "stream",
     "text": [
      "full access granted\n"
     ]
    }
   ],
   "source": [
    "if is_logged_in:\n",
    "    if user_type == \"admin\":\n",
    "        if has_permission:\n",
    "            print(\"full access granted\")\n",
    "        else:\n",
    "            print(\"Admin without Permissions\")\n",
    "    else:\n",
    "        print(\"Limited accesss\")\n",
    "else:\n",
    "    print(\"logged out\")"
   ]
  },
  {
   "cell_type": "code",
   "execution_count": null,
   "id": "dcd89192-262c-4fad-9f9e-083a363c614c",
   "metadata": {},
   "outputs": [],
   "source": []
  }
 ],
 "metadata": {
  "kernelspec": {
   "display_name": "Python 3 (ipykernel)",
   "language": "python",
   "name": "python3"
  },
  "language_info": {
   "codemirror_mode": {
    "name": "ipython",
    "version": 3
   },
   "file_extension": ".py",
   "mimetype": "text/x-python",
   "name": "python",
   "nbconvert_exporter": "python",
   "pygments_lexer": "ipython3",
   "version": "3.12.8"
  }
 },
 "nbformat": 4,
 "nbformat_minor": 5
}
