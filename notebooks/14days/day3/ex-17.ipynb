{
 "cells": [
  {
   "cell_type": "code",
   "execution_count": null,
   "id": "a5822ff6-5612-4040-b36d-6b6f9f1905be",
   "metadata": {},
   "outputs": [],
   "source": [
    "#created at 20250331"
   ]
  },
  {
   "cell_type": "code",
   "execution_count": null,
   "id": "2e30d2f4-d34b-49ed-8873-5fc676c954c4",
   "metadata": {},
   "outputs": [],
   "source": [
    "#While loop with Try-Except"
   ]
  },
  {
   "cell_type": "code",
   "execution_count": 1,
   "id": "67c20c5b-46d2-44ea-9e63-ddca2955648a",
   "metadata": {},
   "outputs": [
    {
     "name": "stdout",
     "output_type": "stream",
     "text": [
      "\n",
      " === While loop with try Except ===\n"
     ]
    }
   ],
   "source": [
    "print(\"\\n === While loop with try Except ===\")"
   ]
  },
  {
   "cell_type": "code",
   "execution_count": 4,
   "id": "f78f7777-6e4d-44e1-9785-a9cb01ef989b",
   "metadata": {},
   "outputs": [
    {
     "name": "stdin",
     "output_type": "stream",
     "text": [
      "Enter a number(0 to exit) 3\n"
     ]
    },
    {
     "name": "stdout",
     "output_type": "stream",
     "text": [
      "you entered :3\n"
     ]
    },
    {
     "name": "stdin",
     "output_type": "stream",
     "text": [
      "Enter a number(0 to exit) 0\n"
     ]
    }
   ],
   "source": [
    "while True:\n",
    "    try:\n",
    "        number = int(input(\"Enter a number(0 to exit)\"))\n",
    "        if number == 0:\n",
    "            break\n",
    "        print(f\"you entered :{number}\")\n",
    "    except ValueError:\n",
    "        print(\"please enter a valid number\")"
   ]
  },
  {
   "cell_type": "code",
   "execution_count": null,
   "id": "7e9c3352-14b7-4624-b09f-ddaffe68c2c2",
   "metadata": {},
   "outputs": [],
   "source": []
  }
 ],
 "metadata": {
  "kernelspec": {
   "display_name": "Python 3 (ipykernel)",
   "language": "python",
   "name": "python3"
  },
  "language_info": {
   "codemirror_mode": {
    "name": "ipython",
    "version": 3
   },
   "file_extension": ".py",
   "mimetype": "text/x-python",
   "name": "python",
   "nbconvert_exporter": "python",
   "pygments_lexer": "ipython3",
   "version": "3.12.8"
  }
 },
 "nbformat": 4,
 "nbformat_minor": 5
}
