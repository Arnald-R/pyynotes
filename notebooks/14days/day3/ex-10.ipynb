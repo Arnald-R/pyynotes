{
 "cells": [
  {
   "cell_type": "code",
   "execution_count": null,
   "id": "c94889dc-f7fa-4ca0-a835-6bb972e0d1c0",
   "metadata": {},
   "outputs": [],
   "source": [
    "#created at 20250331"
   ]
  },
  {
   "cell_type": "code",
   "execution_count": null,
   "id": "a0030d07-40f5-4331-9567-738f6f9ec168",
   "metadata": {},
   "outputs": [],
   "source": [
    "#Nested loops"
   ]
  },
  {
   "cell_type": "code",
   "execution_count": 1,
   "id": "deed081a-afde-4cae-878c-8f102db18f44",
   "metadata": {},
   "outputs": [
    {
     "name": "stdout",
     "output_type": "stream",
     "text": [
      "\n",
      " === Nested loops ===\n"
     ]
    }
   ],
   "source": [
    "print(\"\\n === Nested loops ===\")"
   ]
  },
  {
   "cell_type": "code",
   "execution_count": 2,
   "id": "29da71aa-016e-46fe-ae94-658d1a740386",
   "metadata": {},
   "outputs": [
    {
     "name": "stdout",
     "output_type": "stream",
     "text": [
      "i:0 j:0\n",
      "i:0 j:1\n",
      "i:1 j:0\n",
      "i:1 j:1\n",
      "i:2 j:0\n",
      "i:2 j:1\n"
     ]
    }
   ],
   "source": [
    "for i in range(3):\n",
    "    for j in range(2):\n",
    "        print(f\"i:{i} j:{j}\")"
   ]
  },
  {
   "cell_type": "code",
   "execution_count": null,
   "id": "af1c6594-566b-4469-986e-7172441d8343",
   "metadata": {},
   "outputs": [],
   "source": []
  }
 ],
 "metadata": {
  "kernelspec": {
   "display_name": "Python 3 (ipykernel)",
   "language": "python",
   "name": "python3"
  },
  "language_info": {
   "codemirror_mode": {
    "name": "ipython",
    "version": 3
   },
   "file_extension": ".py",
   "mimetype": "text/x-python",
   "name": "python",
   "nbconvert_exporter": "python",
   "pygments_lexer": "ipython3",
   "version": "3.12.8"
  }
 },
 "nbformat": 4,
 "nbformat_minor": 5
}
