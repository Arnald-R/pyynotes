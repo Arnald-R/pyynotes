{
 "cells": [
  {
   "cell_type": "code",
   "execution_count": null,
   "id": "31e0a110-b08b-44e8-b6d3-171e59cab349",
   "metadata": {},
   "outputs": [],
   "source": [
    "#created at 20250331"
   ]
  },
  {
   "cell_type": "code",
   "execution_count": null,
   "id": "6e82b137-8441-4cc2-bfdd-fa962aa2c60d",
   "metadata": {},
   "outputs": [],
   "source": [
    "#Loop with List comprehensions"
   ]
  },
  {
   "cell_type": "code",
   "execution_count": null,
   "id": "48255229-6d44-41ed-9784-63d9da908aff",
   "metadata": {},
   "outputs": [],
   "source": [
    "print(\"\\n === Loop with List comrehensions === \")"
   ]
  },
  {
   "cell_type": "code",
   "execution_count": 1,
   "id": "0da0118b-9368-4cea-8a5f-3b434242588d",
   "metadata": {},
   "outputs": [],
   "source": [
    "numbers = [1,2,3,4,5]"
   ]
  },
  {
   "cell_type": "code",
   "execution_count": 2,
   "id": "822fb167-d9e5-48d6-ad89-e10fbf9048c9",
   "metadata": {},
   "outputs": [],
   "source": [
    "squares = [num**2 for num in numbers if num%2 == 0]"
   ]
  },
  {
   "cell_type": "code",
   "execution_count": 3,
   "id": "b321bf88-8156-401c-8a4a-7dbee5a006c2",
   "metadata": {},
   "outputs": [
    {
     "name": "stdout",
     "output_type": "stream",
     "text": [
      "squares of even numbers:[4, 16]\n"
     ]
    }
   ],
   "source": [
    "print(f\"squares of even numbers:{squares}\")"
   ]
  },
  {
   "cell_type": "code",
   "execution_count": null,
   "id": "46d8052c-9e17-49cc-8269-1c5215afac99",
   "metadata": {},
   "outputs": [],
   "source": []
  }
 ],
 "metadata": {
  "kernelspec": {
   "display_name": "Python 3 (ipykernel)",
   "language": "python",
   "name": "python3"
  },
  "language_info": {
   "codemirror_mode": {
    "name": "ipython",
    "version": 3
   },
   "file_extension": ".py",
   "mimetype": "text/x-python",
   "name": "python",
   "nbconvert_exporter": "python",
   "pygments_lexer": "ipython3",
   "version": "3.12.8"
  }
 },
 "nbformat": 4,
 "nbformat_minor": 5
}
