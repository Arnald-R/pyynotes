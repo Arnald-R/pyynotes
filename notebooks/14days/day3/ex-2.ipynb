{
 "cells": [
  {
   "cell_type": "code",
   "execution_count": null,
   "id": "488ab8c5-5cf2-48fd-a33a-2f282e728706",
   "metadata": {},
   "outputs": [],
   "source": [
    "#created at 20250331"
   ]
  },
  {
   "cell_type": "code",
   "execution_count": null,
   "id": "a81200e5-a4f5-4007-afbf-4d4be22dab69",
   "metadata": {},
   "outputs": [],
   "source": [
    "#If Elif Else chain"
   ]
  },
  {
   "cell_type": "code",
   "execution_count": 1,
   "id": "8f1f38d4-60e2-4c21-8643-d3bc94878ffe",
   "metadata": {},
   "outputs": [
    {
     "name": "stdout",
     "output_type": "stream",
     "text": [
      "\n",
      " === If Elif Else chain === \n"
     ]
    }
   ],
   "source": [
    "print(\"\\n === If Elif Else chain === \")"
   ]
  },
  {
   "cell_type": "code",
   "execution_count": 2,
   "id": "eee31acc-63e7-4ffd-8c41-507f74ecf46a",
   "metadata": {},
   "outputs": [],
   "source": [
    "score = 65"
   ]
  },
  {
   "cell_type": "code",
   "execution_count": 3,
   "id": "6b245700-4a8a-4563-9db7-c26372aa215e",
   "metadata": {},
   "outputs": [],
   "source": [
    "if score >= 90:\n",
    "    grade = 'A'\n",
    "elif score >= 80:\n",
    "    grade = 'B'\n",
    "elif score >= 70:\n",
    "    grade = 'C'\n",
    "else:\n",
    "    grade = 'D'"
   ]
  },
  {
   "cell_type": "code",
   "execution_count": 4,
   "id": "e5ca93ef-2c08-4b68-b9f3-8714e74f5156",
   "metadata": {},
   "outputs": [
    {
     "name": "stdout",
     "output_type": "stream",
     "text": [
      "score:65 grade:D\n"
     ]
    }
   ],
   "source": [
    "print(f\"score:{score} grade:{grade}\")"
   ]
  },
  {
   "cell_type": "code",
   "execution_count": null,
   "id": "94843935-bbff-40d3-9fc5-9e3a99155fd7",
   "metadata": {},
   "outputs": [],
   "source": []
  }
 ],
 "metadata": {
  "kernelspec": {
   "display_name": "Python 3 (ipykernel)",
   "language": "python",
   "name": "python3"
  },
  "language_info": {
   "codemirror_mode": {
    "name": "ipython",
    "version": 3
   },
   "file_extension": ".py",
   "mimetype": "text/x-python",
   "name": "python",
   "nbconvert_exporter": "python",
   "pygments_lexer": "ipython3",
   "version": "3.12.8"
  }
 },
 "nbformat": 4,
 "nbformat_minor": 5
}
