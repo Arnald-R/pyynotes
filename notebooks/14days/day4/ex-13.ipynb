{
 "cells": [
  {
   "cell_type": "code",
   "execution_count": null,
   "id": "0287469b-a2ed-4b41-af31-910d292d71f7",
   "metadata": {},
   "outputs": [],
   "source": [
    "#created at 20250401"
   ]
  },
  {
   "cell_type": "code",
   "execution_count": null,
   "id": "9b19aedc-e43e-4883-bdd6-83b0aa65b60d",
   "metadata": {},
   "outputs": [],
   "source": [
    "#Built in Module Example"
   ]
  },
  {
   "cell_type": "code",
   "execution_count": 1,
   "id": "8108d105-c0b5-4419-83d4-bb8974475618",
   "metadata": {},
   "outputs": [
    {
     "name": "stdout",
     "output_type": "stream",
     "text": [
      "\n",
      " === Built in Module Example ===\n"
     ]
    }
   ],
   "source": [
    "print(\"\\n === Built in Module Example ===\")"
   ]
  },
  {
   "cell_type": "code",
   "execution_count": 2,
   "id": "7c45c2c1-4c73-471d-83ae-ba1ad9dea5e2",
   "metadata": {},
   "outputs": [],
   "source": [
    "import math"
   ]
  },
  {
   "cell_type": "code",
   "execution_count": 3,
   "id": "514943d0-f131-4b48-b00e-2804288daee9",
   "metadata": {},
   "outputs": [
    {
     "name": "stdout",
     "output_type": "stream",
     "text": [
      "pi:3.141592653589793\n"
     ]
    }
   ],
   "source": [
    "print(f\"pi:{math.pi}\")"
   ]
  },
  {
   "cell_type": "code",
   "execution_count": 4,
   "id": "19b0590f-d2e5-4782-a335-0ee09e86489e",
   "metadata": {},
   "outputs": [
    {
     "name": "stdout",
     "output_type": "stream",
     "text": [
      "square root of 16:4.0\n"
     ]
    }
   ],
   "source": [
    "print(f\"square root of 16:{math.sqrt(16)}\")"
   ]
  },
  {
   "cell_type": "code",
   "execution_count": 5,
   "id": "127a688f-fd7a-4f26-9606-523ef78974af",
   "metadata": {},
   "outputs": [
    {
     "name": "stdout",
     "output_type": "stream",
     "text": [
      "cosine of 0:1.0\n"
     ]
    }
   ],
   "source": [
    "print(f\"cosine of 0:{math.cos(0)}\")"
   ]
  },
  {
   "cell_type": "code",
   "execution_count": null,
   "id": "0c00b77f-e651-4017-9367-f2bb338735f3",
   "metadata": {},
   "outputs": [],
   "source": []
  }
 ],
 "metadata": {
  "kernelspec": {
   "display_name": "Python 3 (ipykernel)",
   "language": "python",
   "name": "python3"
  },
  "language_info": {
   "codemirror_mode": {
    "name": "ipython",
    "version": 3
   },
   "file_extension": ".py",
   "mimetype": "text/x-python",
   "name": "python",
   "nbconvert_exporter": "python",
   "pygments_lexer": "ipython3",
   "version": "3.12.8"
  }
 },
 "nbformat": 4,
 "nbformat_minor": 5
}
