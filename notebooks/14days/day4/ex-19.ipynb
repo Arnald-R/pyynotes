{
 "cells": [
  {
   "cell_type": "code",
   "execution_count": null,
   "id": "1ed012bc-b75d-4dd9-9af7-6a542cf766d8",
   "metadata": {},
   "outputs": [],
   "source": [
    "#created at 20250401"
   ]
  },
  {
   "cell_type": "code",
   "execution_count": null,
   "id": "de9af54c-1fa8-48aa-bfb0-7db05e4d84b6",
   "metadata": {},
   "outputs": [],
   "source": [
    "#Partial Functions"
   ]
  },
  {
   "cell_type": "code",
   "execution_count": 1,
   "id": "dd978abc-9a01-4210-8cac-fe9ad31bc0c6",
   "metadata": {},
   "outputs": [
    {
     "name": "stdout",
     "output_type": "stream",
     "text": [
      "\n",
      " === Partial functions === \n"
     ]
    }
   ],
   "source": [
    "print(\"\\n === Partial functions === \")"
   ]
  },
  {
   "cell_type": "code",
   "execution_count": 2,
   "id": "9ca327bc-b4f5-49ed-99b5-06ac2ce181e8",
   "metadata": {},
   "outputs": [],
   "source": [
    "from functools import partial"
   ]
  },
  {
   "cell_type": "code",
   "execution_count": 3,
   "id": "346dde75-8159-4161-a237-3113323d2ab8",
   "metadata": {},
   "outputs": [],
   "source": [
    "def multiply(x, y):\n",
    "    return x * y"
   ]
  },
  {
   "cell_type": "code",
   "execution_count": 4,
   "id": "c96ab5d2-5fde-43f7-b843-6ec8dcec08b7",
   "metadata": {},
   "outputs": [],
   "source": [
    "double = partial(multiply, y=2)"
   ]
  },
  {
   "cell_type": "code",
   "execution_count": 5,
   "id": "d705dd50-0d76-461b-ac0f-642011a0bbd9",
   "metadata": {},
   "outputs": [],
   "source": [
    "triple = partial(multiply, y=3)"
   ]
  },
  {
   "cell_type": "code",
   "execution_count": 6,
   "id": "795b4400-6bd5-4b97-bf29-81e12662a84c",
   "metadata": {},
   "outputs": [
    {
     "name": "stdout",
     "output_type": "stream",
     "text": [
      "Double 5:10\n"
     ]
    }
   ],
   "source": [
    "print(f\"Double 5:{double(5)}\")"
   ]
  },
  {
   "cell_type": "code",
   "execution_count": 7,
   "id": "45811291-3d5b-4fc9-8e68-05b302e1f1d8",
   "metadata": {},
   "outputs": [
    {
     "name": "stdout",
     "output_type": "stream",
     "text": [
      "triple 5:15\n"
     ]
    }
   ],
   "source": [
    "print(f\"triple 5:{triple(5)}\")"
   ]
  },
  {
   "cell_type": "code",
   "execution_count": null,
   "id": "7abe745c-8170-4b09-ac8e-5587d9331cb1",
   "metadata": {},
   "outputs": [],
   "source": []
  }
 ],
 "metadata": {
  "kernelspec": {
   "display_name": "Python 3 (ipykernel)",
   "language": "python",
   "name": "python3"
  },
  "language_info": {
   "codemirror_mode": {
    "name": "ipython",
    "version": 3
   },
   "file_extension": ".py",
   "mimetype": "text/x-python",
   "name": "python",
   "nbconvert_exporter": "python",
   "pygments_lexer": "ipython3",
   "version": "3.12.8"
  }
 },
 "nbformat": 4,
 "nbformat_minor": 5
}
