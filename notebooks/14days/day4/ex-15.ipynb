{
 "cells": [
  {
   "cell_type": "code",
   "execution_count": null,
   "id": "192dfcff-778c-4287-becd-d9267ffbf32f",
   "metadata": {},
   "outputs": [],
   "source": [
    "#created at 20250401"
   ]
  },
  {
   "cell_type": "code",
   "execution_count": null,
   "id": "b8b0de64-d484-4401-b6f3-813f3f56c738",
   "metadata": {},
   "outputs": [],
   "source": [
    "#Function with type hints"
   ]
  },
  {
   "cell_type": "code",
   "execution_count": 2,
   "id": "9043a5e9-bced-4624-b4c1-654a9e17b6d9",
   "metadata": {},
   "outputs": [
    {
     "name": "stdout",
     "output_type": "stream",
     "text": [
      "\n",
      " === Function with Type hints ===\n"
     ]
    }
   ],
   "source": [
    "print(\"\\n === Function with Type hints ===\")"
   ]
  },
  {
   "cell_type": "code",
   "execution_count": 3,
   "id": "c925d948-fca1-4ff8-95a6-d4b1d7303aaa",
   "metadata": {},
   "outputs": [],
   "source": [
    "import datetime"
   ]
  },
  {
   "cell_type": "code",
   "execution_count": 4,
   "id": "2fec3ea1-9c84-4f08-900d-4296d9e698a2",
   "metadata": {},
   "outputs": [],
   "source": [
    "def calculate_age(birth_year:int, current_year: int = 2025) -> int:\n",
    "    return current_year - birth_year"
   ]
  },
  {
   "cell_type": "code",
   "execution_count": 5,
   "id": "0157aaba-bf71-475f-ba94-33cc2d5af37b",
   "metadata": {},
   "outputs": [
    {
     "data": {
      "text/plain": [
       "23"
      ]
     },
     "execution_count": 5,
     "metadata": {},
     "output_type": "execute_result"
    }
   ],
   "source": [
    "calculate_age(2002)"
   ]
  },
  {
   "cell_type": "code",
   "execution_count": null,
   "id": "6c6bc916-3c5d-4e7a-939b-2f9533724d9e",
   "metadata": {},
   "outputs": [],
   "source": []
  }
 ],
 "metadata": {
  "kernelspec": {
   "display_name": "Python 3 (ipykernel)",
   "language": "python",
   "name": "python3"
  },
  "language_info": {
   "codemirror_mode": {
    "name": "ipython",
    "version": 3
   },
   "file_extension": ".py",
   "mimetype": "text/x-python",
   "name": "python",
   "nbconvert_exporter": "python",
   "pygments_lexer": "ipython3",
   "version": "3.12.8"
  }
 },
 "nbformat": 4,
 "nbformat_minor": 5
}
