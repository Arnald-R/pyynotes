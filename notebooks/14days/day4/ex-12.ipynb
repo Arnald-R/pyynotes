{
 "cells": [
  {
   "cell_type": "code",
   "execution_count": null,
   "id": "611fcc0d-a1c6-4304-83bc-d9e09f7f74e5",
   "metadata": {},
   "outputs": [],
   "source": [
    "#created at 20250401"
   ]
  },
  {
   "cell_type": "code",
   "execution_count": 6,
   "id": "0d7190d6-f7f6-40d3-ac06-409bd576ed43",
   "metadata": {},
   "outputs": [],
   "source": [
    "import math\n",
    "import random\n",
    "from datetime import datetime\n",
    "from collections import Counter, defaultdict "
   ]
  },
  {
   "cell_type": "code",
   "execution_count": null,
   "id": "3e229225-bb99-4e04-bbb4-d7c59c1f5f5d",
   "metadata": {},
   "outputs": [],
   "source": [
    "#Decorator Example"
   ]
  },
  {
   "cell_type": "code",
   "execution_count": 7,
   "id": "2bec73d8-4c99-49f7-8f87-27ea847eb77c",
   "metadata": {},
   "outputs": [
    {
     "name": "stdout",
     "output_type": "stream",
     "text": [
      "\n",
      " === Decorator Example ===\n"
     ]
    }
   ],
   "source": [
    "print(\"\\n === Decorator Example ===\")"
   ]
  },
  {
   "cell_type": "code",
   "execution_count": 8,
   "id": "b097aafd-51e3-4cd2-81f9-14117d327531",
   "metadata": {},
   "outputs": [],
   "source": [
    "def timer_decorator(func):\n",
    "    def wrapper(*args, **kwargs):\n",
    "        start = datetime.now()\n",
    "        result = func(*args, **kwargs)\n",
    "        end = datetime.now()\n",
    "        print(f\"function took:{end-start} time for the exection\")\n",
    "        return result\n",
    "    return wrapper"
   ]
  },
  {
   "cell_type": "code",
   "execution_count": 9,
   "id": "a24e9e6c-1692-4f0e-91be-189183312c95",
   "metadata": {},
   "outputs": [],
   "source": [
    "@timer_decorator\n",
    "def slow_function():\n",
    "    return sum(i * i for i in range (1000000))"
   ]
  },
  {
   "cell_type": "code",
   "execution_count": 10,
   "id": "037c595b-0734-4962-8739-3ead3e0f7aca",
   "metadata": {},
   "outputs": [
    {
     "name": "stdout",
     "output_type": "stream",
     "text": [
      "function took:0:00:00.161991 time for the exection\n"
     ]
    },
    {
     "data": {
      "text/plain": [
       "333332833333500000"
      ]
     },
     "execution_count": 10,
     "metadata": {},
     "output_type": "execute_result"
    }
   ],
   "source": [
    "slow_function()"
   ]
  },
  {
   "cell_type": "code",
   "execution_count": null,
   "id": "e53b8dd8-c5e6-491b-a337-518242e1b30e",
   "metadata": {},
   "outputs": [],
   "source": []
  }
 ],
 "metadata": {
  "kernelspec": {
   "display_name": "Python 3 (ipykernel)",
   "language": "python",
   "name": "python3"
  },
  "language_info": {
   "codemirror_mode": {
    "name": "ipython",
    "version": 3
   },
   "file_extension": ".py",
   "mimetype": "text/x-python",
   "name": "python",
   "nbconvert_exporter": "python",
   "pygments_lexer": "ipython3",
   "version": "3.12.8"
  }
 },
 "nbformat": 4,
 "nbformat_minor": 5
}
