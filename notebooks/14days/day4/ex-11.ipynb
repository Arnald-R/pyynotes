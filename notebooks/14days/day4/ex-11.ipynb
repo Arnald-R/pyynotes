{
 "cells": [
  {
   "cell_type": "code",
   "execution_count": null,
   "id": "a09ea439-02de-4a6f-b881-673eddf663ee",
   "metadata": {},
   "outputs": [],
   "source": [
    "#created at 20250401"
   ]
  },
  {
   "cell_type": "code",
   "execution_count": null,
   "id": "6ad35d5d-5b3a-43dc-8d78-75894710572b",
   "metadata": {},
   "outputs": [],
   "source": [
    "#Generator Function "
   ]
  },
  {
   "cell_type": "code",
   "execution_count": 1,
   "id": "6456a5e5-1f6e-4cad-a0f3-4c3e88e3ce4c",
   "metadata": {},
   "outputs": [
    {
     "name": "stdout",
     "output_type": "stream",
     "text": [
      "\n",
      " === Generator function ===\n"
     ]
    }
   ],
   "source": [
    "print(\"\\n === Generator function ===\")"
   ]
  },
  {
   "cell_type": "code",
   "execution_count": 2,
   "id": "161f8966-1559-4c68-a4b0-0b1f216f64e5",
   "metadata": {},
   "outputs": [
    {
     "ename": "SyntaxError",
     "evalue": "invalid syntax (664736029.py, line 1)",
     "output_type": "error",
     "traceback": [
      "\u001b[0;36m  Cell \u001b[0;32mIn[2], line 1\u001b[0;36m\u001b[0m\n\u001b[0;31m    def fibanocci(5):\u001b[0m\n\u001b[0m                  ^\u001b[0m\n\u001b[0;31mSyntaxError\u001b[0m\u001b[0;31m:\u001b[0m invalid syntax\n"
     ]
    }
   ],
   "source": [
    "def fibanocci(n):\n",
    "    a, b = 0, 1\n",
    "    for _ in range(n)\n",
    "        yield a\n",
    "        a, b = b, a + b"
   ]
  },
  {
   "cell_type": "code",
   "execution_count": null,
   "id": "c18e8846-a578-4d9e-8978-445293fbd04a",
   "metadata": {},
   "outputs": [],
   "source": [
    "fib_numbers = list(fibanocci(5))"
   ]
  },
  {
   "cell_type": "code",
   "execution_count": null,
   "id": "cd09bc45-df1f-48dc-931c-eb3e1256fa2f",
   "metadata": {},
   "outputs": [],
   "source": []
  }
 ],
 "metadata": {
  "kernelspec": {
   "display_name": "Python 3 (ipykernel)",
   "language": "python",
   "name": "python3"
  },
  "language_info": {
   "codemirror_mode": {
    "name": "ipython",
    "version": 3
   },
   "file_extension": ".py",
   "mimetype": "text/x-python",
   "name": "python",
   "nbconvert_exporter": "python",
   "pygments_lexer": "ipython3",
   "version": "3.12.8"
  }
 },
 "nbformat": 4,
 "nbformat_minor": 5
}
