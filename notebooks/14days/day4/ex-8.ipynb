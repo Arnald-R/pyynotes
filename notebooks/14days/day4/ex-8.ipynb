{
 "cells": [
  {
   "cell_type": "code",
   "execution_count": null,
   "id": "7618d49e-5dc2-4487-828d-9a380e8b9403",
   "metadata": {},
   "outputs": [],
   "source": [
    "#created at 20250401"
   ]
  },
  {
   "cell_type": "code",
   "execution_count": null,
   "id": "cfb532a2-eb99-4610-a5c2-c880a73424c9",
   "metadata": {},
   "outputs": [],
   "source": [
    "#Function as Parameter"
   ]
  },
  {
   "cell_type": "code",
   "execution_count": 5,
   "id": "53036a29-9a16-4c83-bd1f-d02043164ace",
   "metadata": {},
   "outputs": [],
   "source": [
    "import math"
   ]
  },
  {
   "cell_type": "code",
   "execution_count": 6,
   "id": "7d17a0c5-7c7d-4bb7-9614-1e7e5243dc6e",
   "metadata": {},
   "outputs": [
    {
     "name": "stdout",
     "output_type": "stream",
     "text": [
      "\n",
      " === Function Parameter === \n"
     ]
    }
   ],
   "source": [
    "print(\"\\n === Function Parameter === \")"
   ]
  },
  {
   "cell_type": "code",
   "execution_count": 7,
   "id": "975a9e94-9930-46a3-851c-19b009319d01",
   "metadata": {},
   "outputs": [],
   "source": [
    "def apply_operation(func, value):\n",
    "    return func(value)"
   ]
  },
  {
   "cell_type": "code",
   "execution_count": 8,
   "id": "343297e7-2344-46e2-94f1-ce10b1ac2f10",
   "metadata": {},
   "outputs": [
    {
     "ename": "NameError",
     "evalue": "name 'square' is not defined",
     "output_type": "error",
     "traceback": [
      "\u001b[0;31m---------------------------------------------------------------------------\u001b[0m",
      "\u001b[0;31mNameError\u001b[0m                                 Traceback (most recent call last)",
      "Cell \u001b[0;32mIn[8], line 1\u001b[0m\n\u001b[0;32m----> 1\u001b[0m \u001b[38;5;28mprint\u001b[39m(apply_operation(\u001b[43msquare\u001b[49m, \u001b[38;5;241m4\u001b[39m))\n",
      "\u001b[0;31mNameError\u001b[0m: name 'square' is not defined"
     ]
    }
   ],
   "source": [
    "print(apply_operation(square, 4))"
   ]
  },
  {
   "cell_type": "code",
   "execution_count": 10,
   "id": "74ff8576-0961-4819-8243-29cb5345732d",
   "metadata": {},
   "outputs": [
    {
     "ename": "NameError",
     "evalue": "name 'double' is not defined",
     "output_type": "error",
     "traceback": [
      "\u001b[0;31m---------------------------------------------------------------------------\u001b[0m",
      "\u001b[0;31mNameError\u001b[0m                                 Traceback (most recent call last)",
      "Cell \u001b[0;32mIn[10], line 1\u001b[0m\n\u001b[0;32m----> 1\u001b[0m \u001b[38;5;28mprint\u001b[39m(apply_operation(\u001b[43mdouble\u001b[49m, \u001b[38;5;241m4\u001b[39m))\n",
      "\u001b[0;31mNameError\u001b[0m: name 'double' is not defined"
     ]
    }
   ],
   "source": [
    "print(apply_operation(double, 4))"
   ]
  },
  {
   "cell_type": "code",
   "execution_count": null,
   "id": "02a18504-cfe8-4070-aef9-101b4e102077",
   "metadata": {},
   "outputs": [],
   "source": []
  }
 ],
 "metadata": {
  "kernelspec": {
   "display_name": "Python 3 (ipykernel)",
   "language": "python",
   "name": "python3"
  },
  "language_info": {
   "codemirror_mode": {
    "name": "ipython",
    "version": 3
   },
   "file_extension": ".py",
   "mimetype": "text/x-python",
   "name": "python",
   "nbconvert_exporter": "python",
   "pygments_lexer": "ipython3",
   "version": "3.12.8"
  }
 },
 "nbformat": 4,
 "nbformat_minor": 5
}
