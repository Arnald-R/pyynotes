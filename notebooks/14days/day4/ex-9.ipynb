{
 "cells": [
  {
   "cell_type": "code",
   "execution_count": null,
   "id": "7b2c999c-52bd-4d1c-a2a1-01a6de741aa1",
   "metadata": {},
   "outputs": [],
   "source": [
    "#created at 20250401"
   ]
  },
  {
   "cell_type": "code",
   "execution_count": null,
   "id": "7ec4c1f8-ca01-47bf-871b-68638e5bd19d",
   "metadata": {},
   "outputs": [],
   "source": [
    "#Nested Functions"
   ]
  },
  {
   "cell_type": "code",
   "execution_count": 1,
   "id": "ea9fb255-e526-439c-98f2-2816a2751349",
   "metadata": {},
   "outputs": [
    {
     "name": "stdout",
     "output_type": "stream",
     "text": [
      "\n",
      " === Nested Functions ===\n"
     ]
    }
   ],
   "source": [
    "print(\"\\n === Nested Functions ===\")"
   ]
  },
  {
   "cell_type": "code",
   "execution_count": 4,
   "id": "c9f45b58-a715-478b-a5a4-49f5a8422a63",
   "metadata": {},
   "outputs": [
    {
     "name": "stdout",
     "output_type": "stream",
     "text": [
      "add five t 3:8\n"
     ]
    }
   ],
   "source": [
    "def outer_function(x):\n",
    "    def inner_function(y):\n",
    "        return x + y\n",
    "    return inner_function\n",
    "add_five = outer_function(5)\n",
    "print(f\"add five t 3:{add_five(3)}\")"
   ]
  },
  {
   "cell_type": "code",
   "execution_count": 3,
   "id": "ce851f39-b14f-4e46-b86c-41bd046720a8",
   "metadata": {},
   "outputs": [
    {
     "ename": "NameError",
     "evalue": "name 'outer_function' is not defined",
     "output_type": "error",
     "traceback": [
      "\u001b[0;31m---------------------------------------------------------------------------\u001b[0m",
      "\u001b[0;31mNameError\u001b[0m                                 Traceback (most recent call last)",
      "Cell \u001b[0;32mIn[3], line 1\u001b[0m\n\u001b[0;32m----> 1\u001b[0m add_five \u001b[38;5;241m=\u001b[39m\u001b[43mouter_function\u001b[49m(\u001b[38;5;241m5\u001b[39m)\n",
      "\u001b[0;31mNameError\u001b[0m: name 'outer_function' is not defined"
     ]
    }
   ],
   "source": []
  },
  {
   "cell_type": "code",
   "execution_count": null,
   "id": "2e6b6307-1533-44d4-9628-e17bf018c065",
   "metadata": {},
   "outputs": [],
   "source": []
  }
 ],
 "metadata": {
  "kernelspec": {
   "display_name": "Python 3 (ipykernel)",
   "language": "python",
   "name": "python3"
  },
  "language_info": {
   "codemirror_mode": {
    "name": "ipython",
    "version": 3
   },
   "file_extension": ".py",
   "mimetype": "text/x-python",
   "name": "python",
   "nbconvert_exporter": "python",
   "pygments_lexer": "ipython3",
   "version": "3.12.8"
  }
 },
 "nbformat": 4,
 "nbformat_minor": 5
}
