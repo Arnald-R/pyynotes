{
 "cells": [
  {
   "cell_type": "code",
   "execution_count": null,
   "id": "f118cdd8-ed15-4c2f-a03d-ad60fb915d48",
   "metadata": {},
   "outputs": [],
   "source": [
    "#created at 20250401"
   ]
  },
  {
   "cell_type": "code",
   "execution_count": null,
   "id": "16bc86f2-8a30-43c2-8940-fadf0fd83d14",
   "metadata": {},
   "outputs": [],
   "source": [
    "#Module level variables and functions"
   ]
  },
  {
   "cell_type": "code",
   "execution_count": 1,
   "id": "18d83d19-a362-46f6-97ab-52783d232657",
   "metadata": {},
   "outputs": [
    {
     "name": "stdout",
     "output_type": "stream",
     "text": [
      "\n",
      " === Module level variables and functions ===\n"
     ]
    }
   ],
   "source": [
    "print(\"\\n === Module level variables and functions ===\")"
   ]
  },
  {
   "cell_type": "code",
   "execution_count": null,
   "id": "aea82c2a-3714-4084-a50e-68e78a6b9d02",
   "metadata": {},
   "outputs": [],
   "source": [
    "#This would typically in seperate module"
   ]
  },
  {
   "cell_type": "code",
   "execution_count": 2,
   "id": "7152dfce-7397-4a98-96a4-a5b0959926af",
   "metadata": {},
   "outputs": [],
   "source": [
    "PI = 3.14159"
   ]
  },
  {
   "cell_type": "code",
   "execution_count": 3,
   "id": "481583da-aea7-42c6-94f2-e8a175ed0ccb",
   "metadata": {},
   "outputs": [],
   "source": [
    "E = 2.71828"
   ]
  },
  {
   "cell_type": "code",
   "execution_count": 4,
   "id": "3e91c3b9-6dff-4ad4-84d0-37e58c7ecda0",
   "metadata": {},
   "outputs": [],
   "source": [
    "def circle_area(radius :float) -> float:\n",
    "    return PI * radius ** 2"
   ]
  },
  {
   "cell_type": "code",
   "execution_count": 5,
   "id": "f65bffba-9c55-4239-b122-2152564dff0f",
   "metadata": {},
   "outputs": [],
   "source": [
    "def exponential(x: float) -> float:\n",
    "    return  E ** x"
   ]
  },
  {
   "cell_type": "code",
   "execution_count": 6,
   "id": "513b6cf4-9726-4b82-bbe4-b50915079b3e",
   "metadata": {},
   "outputs": [
    {
     "name": "stdout",
     "output_type": "stream",
     "text": [
      "circle area (r=5):78.54\n",
      " e^2 :7.39\n"
     ]
    }
   ],
   "source": [
    "print(f\"circle area (r=5):{circle_area(5):.2f}\")\n",
    "print(f\" e^2 :{exponential(2):.2f}\")"
   ]
  },
  {
   "cell_type": "code",
   "execution_count": null,
   "id": "e4bbe527-33d8-404a-a866-af93f43b857a",
   "metadata": {},
   "outputs": [],
   "source": []
  }
 ],
 "metadata": {
  "kernelspec": {
   "display_name": "Python 3 (ipykernel)",
   "language": "python",
   "name": "python3"
  },
  "language_info": {
   "codemirror_mode": {
    "name": "ipython",
    "version": 3
   },
   "file_extension": ".py",
   "mimetype": "text/x-python",
   "name": "python",
   "nbconvert_exporter": "python",
   "pygments_lexer": "ipython3",
   "version": "3.12.8"
  }
 },
 "nbformat": 4,
 "nbformat_minor": 5
}
