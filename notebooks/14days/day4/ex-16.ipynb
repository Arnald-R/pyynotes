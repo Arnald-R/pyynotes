{
 "cells": [
  {
   "cell_type": "code",
   "execution_count": 1,
   "id": "5fff9cea-265a-48bb-8282-3ef1846018d7",
   "metadata": {},
   "outputs": [],
   "source": [
    "#created at 20250401"
   ]
  },
  {
   "cell_type": "code",
   "execution_count": null,
   "id": "a1839ab3-f556-4eaf-aa82-23f87129981f",
   "metadata": {},
   "outputs": [],
   "source": [
    "#Error Handling in Functions"
   ]
  },
  {
   "cell_type": "code",
   "execution_count": 1,
   "id": "d8e11453-fa00-4e3c-9a2e-2e941f79343f",
   "metadata": {},
   "outputs": [
    {
     "name": "stdout",
     "output_type": "stream",
     "text": [
      "\n",
      " === Error Handling in functions ===\n"
     ]
    }
   ],
   "source": [
    "print(\"\\n === Error Handling in functions ===\")"
   ]
  },
  {
   "cell_type": "code",
   "execution_count": 2,
   "id": "d9afbe9b-7026-4519-984c-f174cb8c39ef",
   "metadata": {},
   "outputs": [],
   "source": [
    "def divide_numbers(a: float, b: float) -> float:\n",
    "    try:\n",
    "        return a / b\n",
    "    except ZeroDivisionError:\n",
    "        return \"Cannot divide by zero\"\n",
    "    except TypeError:\n",
    "        return \"Invalid number type\""
   ]
  },
  {
   "cell_type": "code",
   "execution_count": 3,
   "id": "122339a0-28c4-4e2a-8811-4bd11c6c1d7c",
   "metadata": {},
   "outputs": [
    {
     "name": "stdout",
     "output_type": "stream",
     "text": [
      "5.0\n"
     ]
    }
   ],
   "source": [
    "print(divide_numbers(10, 2))"
   ]
  },
  {
   "cell_type": "code",
   "execution_count": 4,
   "id": "af1215f0-3411-41ec-81c8-41917d0ad328",
   "metadata": {},
   "outputs": [
    {
     "name": "stdout",
     "output_type": "stream",
     "text": [
      "Cannot divide by zero\n"
     ]
    }
   ],
   "source": [
    "print(divide_numbers(5, 0))"
   ]
  },
  {
   "cell_type": "code",
   "execution_count": 6,
   "id": "3e1fb224-06ec-40a4-8259-a006164d81d0",
   "metadata": {},
   "outputs": [
    {
     "name": "stdout",
     "output_type": "stream",
     "text": [
      "0.39999999999999997\n"
     ]
    }
   ],
   "source": [
    "print(divide_numbers(2.4, 6))"
   ]
  },
  {
   "cell_type": "code",
   "execution_count": null,
   "id": "e93b607b-535c-47b8-8553-50de491a26bf",
   "metadata": {},
   "outputs": [],
   "source": []
  }
 ],
 "metadata": {
  "kernelspec": {
   "display_name": "Python 3 (ipykernel)",
   "language": "python",
   "name": "python3"
  },
  "language_info": {
   "codemirror_mode": {
    "name": "ipython",
    "version": 3
   },
   "file_extension": ".py",
   "mimetype": "text/x-python",
   "name": "python",
   "nbconvert_exporter": "python",
   "pygments_lexer": "ipython3",
   "version": "3.12.8"
  }
 },
 "nbformat": 4,
 "nbformat_minor": 5
}
