{
 "cells": [
  {
   "cell_type": "code",
   "execution_count": null,
   "id": "e1c0f71e-ed60-43e5-9d95-aaea2f39df63",
   "metadata": {},
   "outputs": [],
   "source": [
    "#created at 20250401"
   ]
  },
  {
   "cell_type": "code",
   "execution_count": null,
   "id": "62def382-8f3c-4b16-b34d-fe3e0dca5f5f",
   "metadata": {},
   "outputs": [],
   "source": [
    "#Combined *args and *kwargs combined"
   ]
  },
  {
   "cell_type": "code",
   "execution_count": 1,
   "id": "64838d15-bdb1-41fe-88b9-c734cfbe256c",
   "metadata": {},
   "outputs": [
    {
     "name": "stdout",
     "output_type": "stream",
     "text": [
      "\n",
      " === combined args and kwargs ====\n"
     ]
    }
   ],
   "source": [
    "print(\"\\n === combined args and kwargs ====\")"
   ]
  },
  {
   "cell_type": "code",
   "execution_count": 2,
   "id": "2b0542c3-0159-471a-b80c-f6622c733354",
   "metadata": {},
   "outputs": [],
   "source": [
    "def mixed_args(*args, **kwargs):\n",
    "    print(f\"Args: {args} Kwargs:{kwargs}\")"
   ]
  },
  {
   "cell_type": "code",
   "execution_count": 4,
   "id": "73089e79-f673-4ce1-b763-ecb93f4acec6",
   "metadata": {},
   "outputs": [
    {
     "name": "stdout",
     "output_type": "stream",
     "text": [
      "Args: (1, 2, 3, 4, 'Hello', 'Hi') Kwargs:{'name': 'Arnald', 'Role': 'Python'}\n"
     ]
    }
   ],
   "source": [
    "mixed_args(1, 2, 3, 4,'Hello','Hi',name = \"Arnald\",Role = \"Python\")"
   ]
  },
  {
   "cell_type": "code",
   "execution_count": null,
   "id": "b20ac76b-8dce-4cb6-b7df-839d84ed5854",
   "metadata": {},
   "outputs": [],
   "source": []
  }
 ],
 "metadata": {
  "kernelspec": {
   "display_name": "Python 3 (ipykernel)",
   "language": "python",
   "name": "python3"
  },
  "language_info": {
   "codemirror_mode": {
    "name": "ipython",
    "version": 3
   },
   "file_extension": ".py",
   "mimetype": "text/x-python",
   "name": "python",
   "nbconvert_exporter": "python",
   "pygments_lexer": "ipython3",
   "version": "3.12.8"
  }
 },
 "nbformat": 4,
 "nbformat_minor": 5
}
