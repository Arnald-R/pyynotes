{
 "cells": [
  {
   "cell_type": "code",
   "execution_count": null,
   "id": "eec26d64-e2b2-480c-b0d9-d9e55222a79b",
   "metadata": {},
   "outputs": [],
   "source": [
    "#created at 20250401"
   ]
  },
  {
   "cell_type": "code",
   "execution_count": null,
   "id": "eeb2c224-4fd8-45f9-90ae-40cec0340811",
   "metadata": {},
   "outputs": [],
   "source": [
    "#Recursive Function"
   ]
  },
  {
   "cell_type": "code",
   "execution_count": 1,
   "id": "4072cbf4-ea9d-4934-a481-5d60273e98a2",
   "metadata": {},
   "outputs": [
    {
     "name": "stdout",
     "output_type": "stream",
     "text": [
      "\n",
      " === Recursive Function ===\n"
     ]
    }
   ],
   "source": [
    "print(\"\\n === Recursive Function ===\")"
   ]
  },
  {
   "cell_type": "code",
   "execution_count": 2,
   "id": "658fd91c-44eb-455b-8de6-9aab0ae72e97",
   "metadata": {},
   "outputs": [],
   "source": [
    "def factorial(n):\n",
    "    if n<=1:\n",
    "        return 1\n",
    "    return n * factorial(n-1)"
   ]
  },
  {
   "cell_type": "code",
   "execution_count": 3,
   "id": "55486810-71f8-414d-86f0-a7a5da2ccf0b",
   "metadata": {},
   "outputs": [
    {
     "name": "stdout",
     "output_type": "stream",
     "text": [
      "factorial of 5:120\n"
     ]
    }
   ],
   "source": [
    "print(f\"factorial of 5:{factorial(5)}\")"
   ]
  },
  {
   "cell_type": "code",
   "execution_count": null,
   "id": "dd092a28-dffb-4161-b337-64046a72b311",
   "metadata": {},
   "outputs": [],
   "source": []
  }
 ],
 "metadata": {
  "kernelspec": {
   "display_name": "Python 3 (ipykernel)",
   "language": "python",
   "name": "python3"
  },
  "language_info": {
   "codemirror_mode": {
    "name": "ipython",
    "version": 3
   },
   "file_extension": ".py",
   "mimetype": "text/x-python",
   "name": "python",
   "nbconvert_exporter": "python",
   "pygments_lexer": "ipython3",
   "version": "3.12.8"
  }
 },
 "nbformat": 4,
 "nbformat_minor": 5
}
