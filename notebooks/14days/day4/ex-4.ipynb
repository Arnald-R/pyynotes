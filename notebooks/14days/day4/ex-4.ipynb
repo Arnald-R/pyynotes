{
 "cells": [
  {
   "cell_type": "code",
   "execution_count": null,
   "id": "6a63c8ac-b263-4e07-970a-a6edda198368",
   "metadata": {},
   "outputs": [],
   "source": [
    "#created at 20250401"
   ]
  },
  {
   "cell_type": "code",
   "execution_count": null,
   "id": "c939141a-4bbd-4bc4-95e7-a0b444b622bb",
   "metadata": {},
   "outputs": [],
   "source": [
    "# *args Example"
   ]
  },
  {
   "cell_type": "code",
   "execution_count": 1,
   "id": "fd7beca6-1784-4979-afd0-28559bd02342",
   "metadata": {},
   "outputs": [
    {
     "name": "stdout",
     "output_type": "stream",
     "text": [
      "\n",
      " === *args Example === \n"
     ]
    }
   ],
   "source": [
    "print(\"\\n === *args Example === \")"
   ]
  },
  {
   "cell_type": "code",
   "execution_count": 2,
   "id": "300f1690-cd9a-4538-a69c-75b2380fe06a",
   "metadata": {},
   "outputs": [],
   "source": [
    "def sum_all(*args):\n",
    "    total = sum(args)\n",
    "    return f\"sum of {args} is {total}\""
   ]
  },
  {
   "cell_type": "code",
   "execution_count": 3,
   "id": "29d62173-dd02-439c-90ea-b06256feb433",
   "metadata": {},
   "outputs": [
    {
     "name": "stdout",
     "output_type": "stream",
     "text": [
      "sum of (1, 2, 3, 4, 5) is 15\n"
     ]
    }
   ],
   "source": [
    "print(sum_all(1, 2, 3, 4, 5))"
   ]
  },
  {
   "cell_type": "code",
   "execution_count": 5,
   "id": "436d889b-befa-4c8f-b1b3-7f213ed422ff",
   "metadata": {},
   "outputs": [],
   "source": [
    "def show(*args):\n",
    "    return args"
   ]
  },
  {
   "cell_type": "code",
   "execution_count": 6,
   "id": "4a5e2808-94f0-4acf-aee9-15e23d049b07",
   "metadata": {},
   "outputs": [
    {
     "name": "stdout",
     "output_type": "stream",
     "text": [
      "(1, 2, 3, 'hello')\n"
     ]
    }
   ],
   "source": [
    "print(show(1,2,3,'hello'))"
   ]
  },
  {
   "cell_type": "code",
   "execution_count": null,
   "id": "516a31bf-0d54-4446-83e3-5bfabe4922bd",
   "metadata": {},
   "outputs": [],
   "source": []
  }
 ],
 "metadata": {
  "kernelspec": {
   "display_name": "Python 3 (ipykernel)",
   "language": "python",
   "name": "python3"
  },
  "language_info": {
   "codemirror_mode": {
    "name": "ipython",
    "version": 3
   },
   "file_extension": ".py",
   "mimetype": "text/x-python",
   "name": "python",
   "nbconvert_exporter": "python",
   "pygments_lexer": "ipython3",
   "version": "3.12.8"
  }
 },
 "nbformat": 4,
 "nbformat_minor": 5
}
