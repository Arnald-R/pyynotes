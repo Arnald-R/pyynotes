{
 "cells": [
  {
   "cell_type": "code",
   "execution_count": null,
   "id": "4e725b2e-4159-486e-a663-64cb8867b7be",
   "metadata": {},
   "outputs": [],
   "source": [
    "#created at 20250401"
   ]
  },
  {
   "cell_type": "code",
   "execution_count": null,
   "id": "4c1cb615-cb0b-46e5-84e3-414932ae892d",
   "metadata": {},
   "outputs": [],
   "source": [
    "#Random Module Example"
   ]
  },
  {
   "cell_type": "code",
   "execution_count": 2,
   "id": "de393d01-e99b-4237-b1e9-9518c478b6b0",
   "metadata": {},
   "outputs": [
    {
     "name": "stdout",
     "output_type": "stream",
     "text": [
      "\n",
      " === Random module Example ===\n"
     ]
    }
   ],
   "source": [
    "print(\"\\n === Random module Example ===\")"
   ]
  },
  {
   "cell_type": "code",
   "execution_count": 3,
   "id": "db8fcd89-9eef-4461-adba-4128d38f5805",
   "metadata": {},
   "outputs": [],
   "source": [
    "import random"
   ]
  },
  {
   "cell_type": "code",
   "execution_count": 5,
   "id": "e5e5b01e-2c09-4f04-baf9-83b05b47a46c",
   "metadata": {},
   "outputs": [],
   "source": [
    "numbers = list(range(1, 11))"
   ]
  },
  {
   "cell_type": "code",
   "execution_count": 8,
   "id": "16d6ce43-9dba-422c-b6b0-d86cb7402ecd",
   "metadata": {},
   "outputs": [
    {
     "name": "stdout",
     "output_type": "stream",
     "text": [
      "Random number:9\n"
     ]
    }
   ],
   "source": [
    "print(f\"Random number:{random.randint(1, 10)}\")"
   ]
  },
  {
   "cell_type": "code",
   "execution_count": 17,
   "id": "7cd3f6f2-b060-4ed0-a83a-e09383244a9d",
   "metadata": {},
   "outputs": [
    {
     "name": "stdout",
     "output_type": "stream",
     "text": [
      "Random choice:1\n"
     ]
    }
   ],
   "source": [
    "print(f\"Random choice:{random.choice(numbers)}\")"
   ]
  },
  {
   "cell_type": "code",
   "execution_count": 19,
   "id": "a4ac4043-b34d-444c-b2a7-63145ddd3148",
   "metadata": {},
   "outputs": [],
   "source": [
    "random.shuffle(numbers)"
   ]
  },
  {
   "cell_type": "code",
   "execution_count": 20,
   "id": "47fd5c45-3649-44ae-aa1f-393ee6b78650",
   "metadata": {},
   "outputs": [
    {
     "name": "stdout",
     "output_type": "stream",
     "text": [
      "Shuffled numbers:[3, 5, 1, 7, 9, 6, 10, 8, 4, 2]\n"
     ]
    }
   ],
   "source": [
    "print(f\"Shuffled numbers:{numbers}\")"
   ]
  },
  {
   "cell_type": "code",
   "execution_count": null,
   "id": "b360fbdb-47dc-4fef-8f38-f013981fd087",
   "metadata": {},
   "outputs": [],
   "source": []
  }
 ],
 "metadata": {
  "kernelspec": {
   "display_name": "Python 3 (ipykernel)",
   "language": "python",
   "name": "python3"
  },
  "language_info": {
   "codemirror_mode": {
    "name": "ipython",
    "version": 3
   },
   "file_extension": ".py",
   "mimetype": "text/x-python",
   "name": "python",
   "nbconvert_exporter": "python",
   "pygments_lexer": "ipython3",
   "version": "3.12.8"
  }
 },
 "nbformat": 4,
 "nbformat_minor": 5
}
