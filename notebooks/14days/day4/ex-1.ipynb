{
 "cells": [
  {
   "cell_type": "code",
   "execution_count": null,
   "id": "3b9714d4-803c-45fe-983a-532170a5ae7c",
   "metadata": {},
   "outputs": [],
   "source": [
    "#created at 20250402"
   ]
  },
  {
   "cell_type": "code",
   "execution_count": null,
   "id": "cacb74e2-87ad-4575-ad04-be90234487ee",
   "metadata": {},
   "outputs": [],
   "source": [
    "#Functions and Modules"
   ]
  },
  {
   "cell_type": "code",
   "execution_count": 1,
   "id": "8c646b7d-7089-4013-862f-e9f2771d05b8",
   "metadata": {},
   "outputs": [
    {
     "name": "stdout",
     "output_type": "stream",
     "text": [
      "\n",
      " === Basic Functions ===\n"
     ]
    }
   ],
   "source": [
    "print(\"\\n === Basic Functions ===\")"
   ]
  },
  {
   "cell_type": "code",
   "execution_count": 2,
   "id": "8b3bc3f3-9ff3-4cc4-9ad9-1e909935a7a2",
   "metadata": {},
   "outputs": [],
   "source": [
    "def greet(name):\n",
    "    return f\"Hello,{name}\""
   ]
  },
  {
   "cell_type": "code",
   "execution_count": 3,
   "id": "1e7b6929-794e-434e-9c8f-a13cd6a60cbf",
   "metadata": {},
   "outputs": [
    {
     "name": "stdout",
     "output_type": "stream",
     "text": [
      "Hello,Arnald\n"
     ]
    }
   ],
   "source": [
    "print(greet(\"Arnald\"))"
   ]
  },
  {
   "cell_type": "code",
   "execution_count": null,
   "id": "12e00182-2955-4080-b438-b9daf1896676",
   "metadata": {},
   "outputs": [],
   "source": []
  }
 ],
 "metadata": {
  "kernelspec": {
   "display_name": "Python 3 (ipykernel)",
   "language": "python",
   "name": "python3"
  },
  "language_info": {
   "codemirror_mode": {
    "name": "ipython",
    "version": 3
   },
   "file_extension": ".py",
   "mimetype": "text/x-python",
   "name": "python",
   "nbconvert_exporter": "python",
   "pygments_lexer": "ipython3",
   "version": "3.12.8"
  }
 },
 "nbformat": 4,
 "nbformat_minor": 5
}
