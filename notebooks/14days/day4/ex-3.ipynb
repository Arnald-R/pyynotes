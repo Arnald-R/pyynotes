{
 "cells": [
  {
   "cell_type": "code",
   "execution_count": null,
   "id": "4354cfbd-21c2-4544-8abc-2428b8ce010d",
   "metadata": {},
   "outputs": [],
   "source": [
    "#created at 20250401"
   ]
  },
  {
   "cell_type": "code",
   "execution_count": null,
   "id": "393850b8-5edc-492c-88a3-6c37d95797d4",
   "metadata": {},
   "outputs": [],
   "source": [
    "#Default Parameters"
   ]
  },
  {
   "cell_type": "code",
   "execution_count": 1,
   "id": "4a6d8e15-167d-4bcd-8a9f-9ccdb6d8d0be",
   "metadata": {},
   "outputs": [
    {
     "name": "stdout",
     "output_type": "stream",
     "text": [
      "\n",
      " === Default Parameters === \n"
     ]
    }
   ],
   "source": [
    "print(\"\\n === Default Parameters === \")"
   ]
  },
  {
   "cell_type": "code",
   "execution_count": 2,
   "id": "03182d02-abfe-4e64-96aa-790053fa1056",
   "metadata": {},
   "outputs": [],
   "source": [
    "def power(base, exponent=2):\n",
    "    return base ** exponent"
   ]
  },
  {
   "cell_type": "code",
   "execution_count": 5,
   "id": "a6304877-5c98-4009-94a6-e37021589356",
   "metadata": {},
   "outputs": [
    {
     "name": "stdout",
     "output_type": "stream",
     "text": [
      "square:16\n"
     ]
    }
   ],
   "source": [
    "print(f\"square:{power(4)}\")"
   ]
  },
  {
   "cell_type": "code",
   "execution_count": 7,
   "id": "82e6165b-96ae-4ec3-9d96-1a0d67fb22b8",
   "metadata": {},
   "outputs": [
    {
     "name": "stdout",
     "output_type": "stream",
     "text": [
      "cube:64\n"
     ]
    }
   ],
   "source": [
    "print(f\"cube:{power(4, 3)}\")"
   ]
  },
  {
   "cell_type": "code",
   "execution_count": null,
   "id": "9e0d89be-f56f-4f82-885e-7c31d05b469f",
   "metadata": {},
   "outputs": [],
   "source": []
  }
 ],
 "metadata": {
  "kernelspec": {
   "display_name": "Python 3 (ipykernel)",
   "language": "python",
   "name": "python3"
  },
  "language_info": {
   "codemirror_mode": {
    "name": "ipython",
    "version": 3
   },
   "file_extension": ".py",
   "mimetype": "text/x-python",
   "name": "python",
   "nbconvert_exporter": "python",
   "pygments_lexer": "ipython3",
   "version": "3.12.8"
  }
 },
 "nbformat": 4,
 "nbformat_minor": 5
}
