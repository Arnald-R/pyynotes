{
 "cells": [
  {
   "cell_type": "code",
   "execution_count": null,
   "id": "8f39da33-6144-4fa2-a697-83cb9bda8084",
   "metadata": {},
   "outputs": [],
   "source": [
    "#created at 20250401"
   ]
  },
  {
   "cell_type": "code",
   "execution_count": null,
   "id": "6c5e8131-9b49-471a-9b63-bb44f0fc1477",
   "metadata": {},
   "outputs": [],
   "source": [
    "#Function with Multiple Returns"
   ]
  },
  {
   "cell_type": "code",
   "execution_count": 1,
   "id": "e54bc020-1913-4150-b64c-4187766ebc3c",
   "metadata": {},
   "outputs": [
    {
     "name": "stdout",
     "output_type": "stream",
     "text": [
      "\n",
      " === Function with Multiple Returns ===\n"
     ]
    }
   ],
   "source": [
    "print(\"\\n === Function with Multiple Returns ===\")"
   ]
  },
  {
   "cell_type": "code",
   "execution_count": 2,
   "id": "8a3e3900-a906-4f0a-8a22-1b477a069a55",
   "metadata": {},
   "outputs": [],
   "source": [
    "import math"
   ]
  },
  {
   "cell_type": "code",
   "execution_count": 4,
   "id": "3ecc8bdf-a758-439b-9fce-9a3cd04526f5",
   "metadata": {},
   "outputs": [],
   "source": [
    "def analyze_number(num):\n",
    "    is_even = num % 2 ==0\n",
    "    is_positive = num > 0\n",
    "    absolute_value = abs(num)\n",
    "    return is_even, is_positive, absolute_value"
   ]
  },
  {
   "cell_type": "code",
   "execution_count": 5,
   "id": "1b34d754-f11b-49cd-a7b7-cacfff7d3624",
   "metadata": {},
   "outputs": [
    {
     "name": "stdout",
     "output_type": "stream",
     "text": [
      "(False, False, 5)\n"
     ]
    }
   ],
   "source": [
    "print(analyze_number(-5))"
   ]
  },
  {
   "cell_type": "code",
   "execution_count": null,
   "id": "fae9b207-aed9-438c-ae05-4f579f56c0e6",
   "metadata": {},
   "outputs": [],
   "source": []
  }
 ],
 "metadata": {
  "kernelspec": {
   "display_name": "Python 3 (ipykernel)",
   "language": "python",
   "name": "python3"
  },
  "language_info": {
   "codemirror_mode": {
    "name": "ipython",
    "version": 3
   },
   "file_extension": ".py",
   "mimetype": "text/x-python",
   "name": "python",
   "nbconvert_exporter": "python",
   "pygments_lexer": "ipython3",
   "version": "3.12.8"
  }
 },
 "nbformat": 4,
 "nbformat_minor": 5
}
