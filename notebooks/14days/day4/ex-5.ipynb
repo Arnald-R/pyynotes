{
 "cells": [
  {
   "cell_type": "code",
   "execution_count": null,
   "id": "2c56f9ce-23da-4785-8e28-663118768801",
   "metadata": {},
   "outputs": [],
   "source": [
    "#created at 20250401"
   ]
  },
  {
   "cell_type": "code",
   "execution_count": null,
   "id": "533ebabf-756a-4d2a-943d-7e8ec9613f01",
   "metadata": {},
   "outputs": [],
   "source": [
    "#**kwargs Example"
   ]
  },
  {
   "cell_type": "code",
   "execution_count": 1,
   "id": "92ad625e-1626-407f-a7ec-74a42c69d039",
   "metadata": {},
   "outputs": [
    {
     "name": "stdout",
     "output_type": "stream",
     "text": [
      "\n",
      " === **kwargs Example ===\n"
     ]
    }
   ],
   "source": [
    "print(\"\\n === **kwargs Example ===\")"
   ]
  },
  {
   "cell_type": "code",
   "execution_count": 3,
   "id": "217a95a4-c36d-4375-8de0-a49d8be7e884",
   "metadata": {},
   "outputs": [],
   "source": [
    "def show(**kwargs):\n",
    "    for key, value in kwargs.items():\n",
    "        print(f\"key:{key} value:{value}\")"
   ]
  },
  {
   "cell_type": "code",
   "execution_count": 4,
   "id": "aa4873d6-7ed0-4c43-97bf-76fcd101137c",
   "metadata": {},
   "outputs": [
    {
     "name": "stdout",
     "output_type": "stream",
     "text": [
      "key:name value:Arnald\n",
      "key:Role value:Python\n",
      "key:salery value:intern\n"
     ]
    }
   ],
   "source": [
    "show(name =\"Arnald\", Role=\"Python\", salery =\"intern\") "
   ]
  },
  {
   "cell_type": "code",
   "execution_count": 5,
   "id": "8367a4e5-7556-479d-9ef0-df40ef42066a",
   "metadata": {},
   "outputs": [],
   "source": [
    "def populate(**kwargs):\n",
    "    for key, value in kwargs.items():\n",
    "        print(f\"key:{key} value:{value}\")"
   ]
  },
  {
   "cell_type": "code",
   "execution_count": 7,
   "id": "2dcad8d8-0f65-4b00-8c66-98b574af4f3b",
   "metadata": {},
   "outputs": [
    {
     "name": "stdout",
     "output_type": "stream",
     "text": [
      "key:name value:Ambu\n",
      "key:Role value:Daily wages\n",
      "key:salery value:20000\n"
     ]
    }
   ],
   "source": [
    "populate(name = \"Ambu\",Role = \"Daily wages\", salery = \"20000\")"
   ]
  },
  {
   "cell_type": "code",
   "execution_count": null,
   "id": "1a20adc0-89ae-40ea-851c-0f962a7e4087",
   "metadata": {},
   "outputs": [],
   "source": []
  }
 ],
 "metadata": {
  "kernelspec": {
   "display_name": "Python 3 (ipykernel)",
   "language": "python",
   "name": "python3"
  },
  "language_info": {
   "codemirror_mode": {
    "name": "ipython",
    "version": 3
   },
   "file_extension": ".py",
   "mimetype": "text/x-python",
   "name": "python",
   "nbconvert_exporter": "python",
   "pygments_lexer": "ipython3",
   "version": "3.12.8"
  }
 },
 "nbformat": 4,
 "nbformat_minor": 5
}
