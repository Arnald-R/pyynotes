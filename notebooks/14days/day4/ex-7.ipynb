{
 "cells": [
  {
   "cell_type": "code",
   "execution_count": null,
   "id": "2aee1234-346d-420b-bcf7-cbb2c75d5839",
   "metadata": {},
   "outputs": [],
   "source": [
    "#created at 20250401"
   ]
  },
  {
   "cell_type": "code",
   "execution_count": null,
   "id": "a0bd57e0-ce91-41fe-88c8-6ef830ec717d",
   "metadata": {},
   "outputs": [],
   "source": [
    "#Lambda functions"
   ]
  },
  {
   "cell_type": "code",
   "execution_count": 1,
   "id": "62b392e1-4914-4a8c-abcd-09c819977920",
   "metadata": {},
   "outputs": [
    {
     "name": "stdout",
     "output_type": "stream",
     "text": [
      "\n",
      " === Lambda Functions ===\n"
     ]
    }
   ],
   "source": [
    "print(\"\\n === Lambda Functions ===\")"
   ]
  },
  {
   "cell_type": "code",
   "execution_count": 1,
   "id": "06a234a7-19bc-4e6b-a965-958943f45710",
   "metadata": {},
   "outputs": [],
   "source": [
    "square = lambda x: x**2"
   ]
  },
  {
   "cell_type": "code",
   "execution_count": 2,
   "id": "b7b8230b-8573-41f6-9752-596562376eaa",
   "metadata": {},
   "outputs": [],
   "source": [
    "double = lambda x: x*2"
   ]
  },
  {
   "cell_type": "code",
   "execution_count": 3,
   "id": "0857af6b-7dc5-4d65-8247-7677f8914b03",
   "metadata": {},
   "outputs": [
    {
     "name": "stdout",
     "output_type": "stream",
     "text": [
      " square :25\n"
     ]
    }
   ],
   "source": [
    "print(f\" square :{square(5)}\")"
   ]
  },
  {
   "cell_type": "code",
   "execution_count": 4,
   "id": "bfa74f95-2c65-456e-b449-377c4d76c12f",
   "metadata": {},
   "outputs": [
    {
     "name": "stdout",
     "output_type": "stream",
     "text": [
      " double:6\n"
     ]
    }
   ],
   "source": [
    "print(f\" double:{double(3)}\")"
   ]
  },
  {
   "cell_type": "code",
   "execution_count": null,
   "id": "14dc60e9-e246-4b64-9112-6bec1cc0745e",
   "metadata": {},
   "outputs": [],
   "source": []
  }
 ],
 "metadata": {
  "kernelspec": {
   "display_name": "Python 3 (ipykernel)",
   "language": "python",
   "name": "python3"
  },
  "language_info": {
   "codemirror_mode": {
    "name": "ipython",
    "version": 3
   },
   "file_extension": ".py",
   "mimetype": "text/x-python",
   "name": "python",
   "nbconvert_exporter": "python",
   "pygments_lexer": "ipython3",
   "version": "3.12.8"
  }
 },
 "nbformat": 4,
 "nbformat_minor": 5
}
