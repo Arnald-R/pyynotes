{
 "cells": [
  {
   "cell_type": "code",
   "execution_count": null,
   "id": "eb436872-e471-409a-85a4-c1f377a96317",
   "metadata": {},
   "outputs": [],
   "source": [
    "#created at 20250401"
   ]
  },
  {
   "cell_type": "code",
   "execution_count": null,
   "id": "968b61db-6c29-4563-bdbc-eb5aafe80af0",
   "metadata": {},
   "outputs": [],
   "source": [
    "#Function with multiple parameters"
   ]
  },
  {
   "cell_type": "code",
   "execution_count": 1,
   "id": "82031265-41fa-4363-a0f7-de5f2e93047e",
   "metadata": {},
   "outputs": [
    {
     "name": "stdout",
     "output_type": "stream",
     "text": [
      "\n",
      " === Function with multiple parameters === \n"
     ]
    }
   ],
   "source": [
    "print(\"\\n === Function with multiple parameters === \")"
   ]
  },
  {
   "cell_type": "code",
   "execution_count": 2,
   "id": "5fe56975-2e35-4a21-be72-5ea81b785381",
   "metadata": {},
   "outputs": [],
   "source": [
    "def calculate_rectangle(length,width):\n",
    "    area = length * width\n",
    "    perimeter = 2 * (length + width)\n",
    "    return area, perimeter"
   ]
  },
  {
   "cell_type": "code",
   "execution_count": 3,
   "id": "aac0cd26-dd37-4015-89a9-cb154ea48897",
   "metadata": {},
   "outputs": [],
   "source": [
    "area, perimeter = calculate_rectangle(5, 3)"
   ]
  },
  {
   "cell_type": "code",
   "execution_count": 4,
   "id": "35b31f77-4044-44f3-979b-3be2eab2216c",
   "metadata": {},
   "outputs": [
    {
     "name": "stdout",
     "output_type": "stream",
     "text": [
      "area:15 perimeter:16\n"
     ]
    }
   ],
   "source": [
    "print(f\"area:{area} perimeter:{perimeter}\")"
   ]
  },
  {
   "cell_type": "code",
   "execution_count": null,
   "id": "e99f4a26-f487-490a-bd13-f94b4aeb4ba0",
   "metadata": {},
   "outputs": [],
   "source": []
  }
 ],
 "metadata": {
  "kernelspec": {
   "display_name": "Python 3 (ipykernel)",
   "language": "python",
   "name": "python3"
  },
  "language_info": {
   "codemirror_mode": {
    "name": "ipython",
    "version": 3
   },
   "file_extension": ".py",
   "mimetype": "text/x-python",
   "name": "python",
   "nbconvert_exporter": "python",
   "pygments_lexer": "ipython3",
   "version": "3.12.8"
  }
 },
 "nbformat": 4,
 "nbformat_minor": 5
}
