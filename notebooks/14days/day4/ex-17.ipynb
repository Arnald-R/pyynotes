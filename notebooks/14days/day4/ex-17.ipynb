{
 "cells": [
  {
   "cell_type": "code",
   "execution_count": null,
   "id": "e85dad22-3c26-4e42-8b2d-c05ff6538a00",
   "metadata": {},
   "outputs": [],
   "source": [
    "#created at 20250401"
   ]
  },
  {
   "cell_type": "code",
   "execution_count": null,
   "id": "ab7130dc-90db-477d-8946-38eb4ed0b0d7",
   "metadata": {},
   "outputs": [],
   "source": [
    "#Collection module Example"
   ]
  },
  {
   "cell_type": "code",
   "execution_count": 1,
   "id": "ab3aa457-2c49-43b7-bf6f-3db9fdc2d63c",
   "metadata": {},
   "outputs": [],
   "source": [
    "from collections import Counter,defaultdict"
   ]
  },
  {
   "cell_type": "code",
   "execution_count": 2,
   "id": "5cef9534-774e-431a-947f-583370bdce19",
   "metadata": {},
   "outputs": [
    {
     "name": "stdout",
     "output_type": "stream",
     "text": [
      "\n",
      " === Collection Module Example ===\n"
     ]
    }
   ],
   "source": [
    "print(\"\\n === Collection Module Example ===\")"
   ]
  },
  {
   "cell_type": "code",
   "execution_count": 3,
   "id": "73247523-0b79-4144-b9d1-6ee74d4c76f0",
   "metadata": {},
   "outputs": [],
   "source": [
    "words = ['apple', 'orange', 'banana', 'grapes', 'pineapple']"
   ]
  },
  {
   "cell_type": "code",
   "execution_count": 4,
   "id": "0176e4e7-6b61-49f6-87ad-7eb5be244877",
   "metadata": {},
   "outputs": [],
   "source": [
    "word_count = Counter(words)"
   ]
  },
  {
   "cell_type": "code",
   "execution_count": 5,
   "id": "35aacdd5-f382-4a14-8c28-d5f49f069409",
   "metadata": {},
   "outputs": [
    {
     "name": "stdout",
     "output_type": "stream",
     "text": [
      "Word frequency:{'apple': 1, 'orange': 1, 'banana': 1, 'grapes': 1, 'pineapple': 1}\n"
     ]
    }
   ],
   "source": [
    "print(f\"Word frequency:{dict(word_count)}\")"
   ]
  },
  {
   "cell_type": "code",
   "execution_count": 6,
   "id": "24871143-83b6-490c-b0a8-db5a7583bf1b",
   "metadata": {},
   "outputs": [],
   "source": [
    "defualt_dict = defaultdict(list)"
   ]
  },
  {
   "cell_type": "code",
   "execution_count": 7,
   "id": "680e39a0-e04f-48dd-8479-50be8a4cd4fe",
   "metadata": {},
   "outputs": [],
   "source": [
    "defualt_dict['words'].append('apple')"
   ]
  },
  {
   "cell_type": "code",
   "execution_count": 8,
   "id": "2e58b9e1-5890-4a47-88d2-402f22c87438",
   "metadata": {},
   "outputs": [
    {
     "name": "stdout",
     "output_type": "stream",
     "text": [
      "Default dict:{'words': ['apple']}\n"
     ]
    }
   ],
   "source": [
    "  print(f\"Default dict:{dict(defualt_dict)}\")  "
   ]
  },
  {
   "cell_type": "code",
   "execution_count": null,
   "id": "6b5b0156-54ed-4538-8247-aaa02b14c0ab",
   "metadata": {},
   "outputs": [],
   "source": []
  }
 ],
 "metadata": {
  "kernelspec": {
   "display_name": "Python 3 (ipykernel)",
   "language": "python",
   "name": "python3"
  },
  "language_info": {
   "codemirror_mode": {
    "name": "ipython",
    "version": 3
   },
   "file_extension": ".py",
   "mimetype": "text/x-python",
   "name": "python",
   "nbconvert_exporter": "python",
   "pygments_lexer": "ipython3",
   "version": "3.12.8"
  }
 },
 "nbformat": 4,
 "nbformat_minor": 5
}
