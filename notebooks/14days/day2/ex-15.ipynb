{
 "cells": [
  {
   "cell_type": "code",
   "execution_count": null,
   "id": "54c5b7be-5604-4ce5-b604-bd3ebe829877",
   "metadata": {},
   "outputs": [],
   "source": [
    "#created at 20250327"
   ]
  },
  {
   "cell_type": "code",
   "execution_count": null,
   "id": "71c849ca-f079-4f8a-a2b6-a3ca4f7111ad",
   "metadata": {},
   "outputs": [],
   "source": [
    "#Type conversion Between Collection"
   ]
  },
  {
   "cell_type": "code",
   "execution_count": 1,
   "id": "f259b234-1c13-4461-a52c-e999290af3ab",
   "metadata": {},
   "outputs": [
    {
     "name": "stdout",
     "output_type": "stream",
     "text": [
      "\n",
      " === Type conversion Between Collection === \n"
     ]
    }
   ],
   "source": [
    "print(\"\\n === Type conversion Between Collection === \")"
   ]
  },
  {
   "cell_type": "code",
   "execution_count": 2,
   "id": "8bb341d8-a7f7-4bec-9846-5dec2b628b4a",
   "metadata": {},
   "outputs": [],
   "source": [
    "my_list = [1, 2, 3, 4, 5]"
   ]
  },
  {
   "cell_type": "code",
   "execution_count": 3,
   "id": "b4683d4d-8e79-4df3-9edd-8592314cdc56",
   "metadata": {},
   "outputs": [
    {
     "name": "stdout",
     "output_type": "stream",
     "text": [
      "List to set:{1, 2, 3, 4, 5}\n"
     ]
    }
   ],
   "source": [
    "print(f\"List to set:{set(my_list)}\")"
   ]
  },
  {
   "cell_type": "code",
   "execution_count": 4,
   "id": "7bff8b1f-e15a-4e2b-8284-8939c2858eb9",
   "metadata": {},
   "outputs": [
    {
     "name": "stdout",
     "output_type": "stream",
     "text": [
      "List to tuple:(1, 2, 3, 4, 5)\n"
     ]
    }
   ],
   "source": [
    "print(f\"List to tuple:{tuple(my_list)}\")"
   ]
  },
  {
   "cell_type": "code",
   "execution_count": 5,
   "id": "9228d841-547e-44f3-93d9-9a9ef40f30c2",
   "metadata": {},
   "outputs": [],
   "source": [
    "my_dict = dict(zip(['a', 'b', 'c'],[1, 2, 3]))"
   ]
  },
  {
   "cell_type": "code",
   "execution_count": 6,
   "id": "9b0ca874-4d35-474e-8e4f-0f7d4301be2e",
   "metadata": {},
   "outputs": [
    {
     "name": "stdout",
     "output_type": "stream",
     "text": [
      "zip to Dict: {'a': 1, 'b': 2, 'c': 3}\n"
     ]
    }
   ],
   "source": [
    "print(f\"zip to Dict: {my_dict}\")"
   ]
  },
  {
   "cell_type": "code",
   "execution_count": null,
   "id": "b7be0f85-5af7-47ad-a9c3-6a7bb116c6ca",
   "metadata": {},
   "outputs": [],
   "source": []
  }
 ],
 "metadata": {
  "kernelspec": {
   "display_name": "Python 3 (ipykernel)",
   "language": "python",
   "name": "python3"
  },
  "language_info": {
   "codemirror_mode": {
    "name": "ipython",
    "version": 3
   },
   "file_extension": ".py",
   "mimetype": "text/x-python",
   "name": "python",
   "nbconvert_exporter": "python",
   "pygments_lexer": "ipython3",
   "version": "3.12.8"
  }
 },
 "nbformat": 4,
 "nbformat_minor": 5
}
