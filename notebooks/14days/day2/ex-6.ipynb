{
 "cells": [
  {
   "cell_type": "code",
   "execution_count": null,
   "id": "d8fc8c02-e0f4-4334-b8c9-b5867caa7546",
   "metadata": {},
   "outputs": [],
   "source": [
    "#created at 20250326"
   ]
  },
  {
   "cell_type": "code",
   "execution_count": null,
   "id": "33278f83-37c8-4810-a512-529644bc4090",
   "metadata": {},
   "outputs": [],
   "source": [
    "#String Operations"
   ]
  },
  {
   "cell_type": "code",
   "execution_count": 1,
   "id": "4608cebe-dfc0-408d-b31c-5f0b54ace0fb",
   "metadata": {},
   "outputs": [
    {
     "name": "stdout",
     "output_type": "stream",
     "text": [
      "\n",
      " === String Operations === \n"
     ]
    }
   ],
   "source": [
    "print(\"\\n === String Operations === \")"
   ]
  },
  {
   "cell_type": "code",
   "execution_count": 2,
   "id": "038ad9a4-24e0-473b-84fb-4b98a1bb2d60",
   "metadata": {},
   "outputs": [],
   "source": [
    "str1 = \"Hello\""
   ]
  },
  {
   "cell_type": "code",
   "execution_count": 3,
   "id": "62a7ad24-53eb-4d76-bf44-9ba9cc05ea99",
   "metadata": {},
   "outputs": [],
   "source": [
    "str2 = \"Arnald\""
   ]
  },
  {
   "cell_type": "code",
   "execution_count": 4,
   "id": "fdecc954-292e-43b7-88f4-ebb751119b5f",
   "metadata": {},
   "outputs": [
    {
     "name": "stdout",
     "output_type": "stream",
     "text": [
      "Concatenation : Hello Arnald\n"
     ]
    }
   ],
   "source": [
    "print(f\"Concatenation : {str1 + ' ' + str2}\")"
   ]
  },
  {
   "cell_type": "code",
   "execution_count": 5,
   "id": "ad5a2b7b-6239-4a88-b02a-169493a4d8a7",
   "metadata": {},
   "outputs": [
    {
     "name": "stdout",
     "output_type": "stream",
     "text": [
      "Repetation : HelloHelloHello\n"
     ]
    }
   ],
   "source": [
    "print(f\"Repetation : {str1 * 3}\")"
   ]
  },
  {
   "cell_type": "code",
   "execution_count": 6,
   "id": "4b48274e-b747-4896-ade9-30f6105dcb17",
   "metadata": {},
   "outputs": [
    {
     "name": "stdout",
     "output_type": "stream",
     "text": [
      "Slicing : ell\n"
     ]
    }
   ],
   "source": [
    "print(f\"Slicing : {str1[1:4]}\")"
   ]
  },
  {
   "cell_type": "code",
   "execution_count": 9,
   "id": "e93dbf25-6f2e-4403-a8ae-b47d302e2217",
   "metadata": {},
   "outputs": [
    {
     "name": "stdout",
     "output_type": "stream",
     "text": [
      "Reverse: olleH\n"
     ]
    }
   ],
   "source": [
    "print(f\"Reverse: {str1[::-1]}\")"
   ]
  },
  {
   "cell_type": "code",
   "execution_count": null,
   "id": "768a0abe-d02e-4bf9-9461-951fd2601b3b",
   "metadata": {},
   "outputs": [],
   "source": []
  }
 ],
 "metadata": {
  "kernelspec": {
   "display_name": "Python 3 (ipykernel)",
   "language": "python",
   "name": "python3"
  },
  "language_info": {
   "codemirror_mode": {
    "name": "ipython",
    "version": 3
   },
   "file_extension": ".py",
   "mimetype": "text/x-python",
   "name": "python",
   "nbconvert_exporter": "python",
   "pygments_lexer": "ipython3",
   "version": "3.12.8"
  }
 },
 "nbformat": 4,
 "nbformat_minor": 5
}
