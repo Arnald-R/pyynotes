{
 "cells": [
  {
   "cell_type": "code",
   "execution_count": null,
   "id": "c701ee5a-fc45-4d09-82d3-e72704c298f5",
   "metadata": {},
   "outputs": [],
   "source": [
    "#created at 20250326"
   ]
  },
  {
   "cell_type": "code",
   "execution_count": null,
   "id": "784bf74f-5573-47e9-b26e-bfe2b9976e0f",
   "metadata": {},
   "outputs": [],
   "source": [
    "#Comparision Operators"
   ]
  },
  {
   "cell_type": "code",
   "execution_count": 1,
   "id": "37d36f25-8315-4bae-8d3c-40a356912fbd",
   "metadata": {},
   "outputs": [
    {
     "name": "stdout",
     "output_type": "stream",
     "text": [
      "\n",
      " === Comparision Operators === \n"
     ]
    }
   ],
   "source": [
    "print(\"\\n === Comparision Operators === \")"
   ]
  },
  {
   "cell_type": "code",
   "execution_count": 2,
   "id": "804d9f81-c874-4a85-9399-798fa24ad32a",
   "metadata": {},
   "outputs": [],
   "source": [
    "a, b = 10, 20"
   ]
  },
  {
   "cell_type": "code",
   "execution_count": 3,
   "id": "015436bd-a5fe-42cd-b81d-c09461ebbaa9",
   "metadata": {},
   "outputs": [
    {
     "name": "stdout",
     "output_type": "stream",
     "text": [
      "Equal to :False\n"
     ]
    }
   ],
   "source": [
    "print(f\"Equal to :{a == b}\")"
   ]
  },
  {
   "cell_type": "code",
   "execution_count": 4,
   "id": "90893e15-cb16-474d-93f8-00015726fcdd",
   "metadata": {},
   "outputs": [
    {
     "name": "stdout",
     "output_type": "stream",
     "text": [
      "Not Equal to:True\n"
     ]
    }
   ],
   "source": [
    "print(f\"Not Equal to:{a != b}\")"
   ]
  },
  {
   "cell_type": "code",
   "execution_count": 5,
   "id": "cb1774f3-68de-4e03-942a-81e4bcd83bf7",
   "metadata": {},
   "outputs": [
    {
     "name": "stdout",
     "output_type": "stream",
     "text": [
      "Greater than:False\n"
     ]
    }
   ],
   "source": [
    "print(f\"Greater than:{a > b}\")"
   ]
  },
  {
   "cell_type": "code",
   "execution_count": 6,
   "id": "4b336e6e-e70d-4b5d-bda3-2303bce6f267",
   "metadata": {},
   "outputs": [
    {
     "name": "stdout",
     "output_type": "stream",
     "text": [
      "Less than:True\n"
     ]
    }
   ],
   "source": [
    "print(f\"Less than:{a < b}\")"
   ]
  },
  {
   "cell_type": "code",
   "execution_count": 7,
   "id": "fbdd9653-823f-4f73-a180-1ddcf93ec19e",
   "metadata": {},
   "outputs": [
    {
     "name": "stdout",
     "output_type": "stream",
     "text": [
      "Greater than or equal:False\n"
     ]
    }
   ],
   "source": [
    "print(f\"Greater than or equal:{a >= b}\")"
   ]
  },
  {
   "cell_type": "code",
   "execution_count": 8,
   "id": "ac71bb88-61a8-4f62-b76b-f30060a37595",
   "metadata": {},
   "outputs": [
    {
     "name": "stdout",
     "output_type": "stream",
     "text": [
      "Less than or equal:True\n"
     ]
    }
   ],
   "source": [
    "print(f\"Less than or equal:{a <= b}\")"
   ]
  },
  {
   "cell_type": "code",
   "execution_count": null,
   "id": "c284c16c-be52-4d49-a9fe-f8ba1b20d183",
   "metadata": {},
   "outputs": [],
   "source": []
  }
 ],
 "metadata": {
  "kernelspec": {
   "display_name": "Python 3 (ipykernel)",
   "language": "python",
   "name": "python3"
  },
  "language_info": {
   "codemirror_mode": {
    "name": "ipython",
    "version": 3
   },
   "file_extension": ".py",
   "mimetype": "text/x-python",
   "name": "python",
   "nbconvert_exporter": "python",
   "pygments_lexer": "ipython3",
   "version": "3.12.8"
  }
 },
 "nbformat": 4,
 "nbformat_minor": 5
}
