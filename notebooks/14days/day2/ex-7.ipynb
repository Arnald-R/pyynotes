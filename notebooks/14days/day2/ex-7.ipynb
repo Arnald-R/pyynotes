{
 "cells": [
  {
   "cell_type": "code",
   "execution_count": null,
   "id": "3d548edf-ce12-4b14-a424-9a7f5149fc0b",
   "metadata": {},
   "outputs": [],
   "source": [
    "#created at 20250326"
   ]
  },
  {
   "cell_type": "code",
   "execution_count": null,
   "id": "fd53bd75-2582-425b-a69e-69372599b601",
   "metadata": {},
   "outputs": [],
   "source": [
    "#Advanced string Formatting"
   ]
  },
  {
   "cell_type": "code",
   "execution_count": 1,
   "id": "82257246-9892-4989-a065-40ccb9ddf91e",
   "metadata": {},
   "outputs": [
    {
     "name": "stdout",
     "output_type": "stream",
     "text": [
      "\n",
      " === String Formatting === \n"
     ]
    }
   ],
   "source": [
    "print(\"\\n === String Formatting === \")"
   ]
  },
  {
   "cell_type": "code",
   "execution_count": 2,
   "id": "03dc53e8-2f9c-48c2-b346-2a7e2a9cabfe",
   "metadata": {},
   "outputs": [],
   "source": [
    "name = \"Alice\""
   ]
  },
  {
   "cell_type": "code",
   "execution_count": 3,
   "id": "6ae119a7-abd8-44ed-a248-ef21ee99dab0",
   "metadata": {},
   "outputs": [],
   "source": [
    "age = 20"
   ]
  },
  {
   "cell_type": "code",
   "execution_count": 4,
   "id": "b36ff612-b717-4129-86c3-7fe655246dfd",
   "metadata": {},
   "outputs": [],
   "source": [
    "height = 1.75"
   ]
  },
  {
   "cell_type": "code",
   "execution_count": 7,
   "id": "8cedf3cf-c669-4120-8089-a9d30fde8787",
   "metadata": {},
   "outputs": [
    {
     "name": "stdout",
     "output_type": "stream",
     "text": [
      "Name: Alice, Age: 20, height: 1.75m\n"
     ]
    }
   ],
   "source": [
    "print(\"Name: {}, Age: {:d}, height: {:.2f}m\".format(name, age, height))"
   ]
  },
  {
   "cell_type": "code",
   "execution_count": 8,
   "id": "78d9f779-3817-473c-912e-816afd19ead4",
   "metadata": {},
   "outputs": [
    {
     "name": "stdout",
     "output_type": "stream",
     "text": [
      "       center       \n"
     ]
    }
   ],
   "source": [
    "print(f\"{'center':^20}\")"
   ]
  },
  {
   "cell_type": "code",
   "execution_count": 9,
   "id": "f190c43a-2f0b-4b4a-896b-1043f91a3a80",
   "metadata": {},
   "outputs": [
    {
     "name": "stdout",
     "output_type": "stream",
     "text": [
      "left                \n"
     ]
    }
   ],
   "source": [
    "print(f\"{'left':<20}\")"
   ]
  },
  {
   "cell_type": "code",
   "execution_count": 10,
   "id": "d769b3dd-47e7-4d39-a369-05a04b39a813",
   "metadata": {},
   "outputs": [
    {
     "name": "stdout",
     "output_type": "stream",
     "text": [
      "               right\n"
     ]
    }
   ],
   "source": [
    "print(f\"{'right':>20}\")"
   ]
  },
  {
   "cell_type": "code",
   "execution_count": null,
   "id": "95e15aeb-90ed-4a42-a683-35fca8d5fba0",
   "metadata": {},
   "outputs": [],
   "source": []
  }
 ],
 "metadata": {
  "kernelspec": {
   "display_name": "Python 3 (ipykernel)",
   "language": "python",
   "name": "python3"
  },
  "language_info": {
   "codemirror_mode": {
    "name": "ipython",
    "version": 3
   },
   "file_extension": ".py",
   "mimetype": "text/x-python",
   "name": "python",
   "nbconvert_exporter": "python",
   "pygments_lexer": "ipython3",
   "version": "3.12.8"
  }
 },
 "nbformat": 4,
 "nbformat_minor": 5
}
