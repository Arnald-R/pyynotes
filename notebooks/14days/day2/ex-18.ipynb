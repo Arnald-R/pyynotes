{
 "cells": [
  {
   "cell_type": "code",
   "execution_count": null,
   "id": "5b81fdff-2f84-4d72-82b5-6b7a9505c07e",
   "metadata": {},
   "outputs": [],
   "source": [
    "#created at 20250327"
   ]
  },
  {
   "cell_type": "code",
   "execution_count": null,
   "id": "b7898a50-b9f0-4d9e-8df2-6942d8ba4328",
   "metadata": {},
   "outputs": [],
   "source": [
    "#Dictionary Methods"
   ]
  },
  {
   "cell_type": "code",
   "execution_count": 1,
   "id": "ae7f1074-72b5-4833-96ab-2d42eb86ff73",
   "metadata": {},
   "outputs": [
    {
     "name": "stdout",
     "output_type": "stream",
     "text": [
      "\n",
      " === Dictionary Methods ===\n"
     ]
    }
   ],
   "source": [
    "print(\"\\n === Dictionary Methods ===\")"
   ]
  },
  {
   "cell_type": "code",
   "execution_count": 2,
   "id": "07657e3a-873c-472c-ac8d-397f6c5cc64d",
   "metadata": {},
   "outputs": [],
   "source": [
    "info = {'name':'Arnald','Age': 'Twenty'}"
   ]
  },
  {
   "cell_type": "code",
   "execution_count": 3,
   "id": "b12ce9d4-8854-404e-bcf0-8f88115d96e6",
   "metadata": {},
   "outputs": [
    {
     "name": "stdout",
     "output_type": "stream",
     "text": [
      "Get with default:not found\n"
     ]
    }
   ],
   "source": [
    "print(f\"Get with default:{info.get('email','not found')}\")"
   ]
  },
  {
   "cell_type": "code",
   "execution_count": 4,
   "id": "450b879e-7585-4d94-aff0-715c65dcea77",
   "metadata": {},
   "outputs": [
    {
     "data": {
      "text/plain": [
       "'Unknown'"
      ]
     },
     "execution_count": 4,
     "metadata": {},
     "output_type": "execute_result"
    }
   ],
   "source": [
    "info.setdefault('country','Unknown')"
   ]
  },
  {
   "cell_type": "code",
   "execution_count": 5,
   "id": "766a6c82-a82d-4c90-81f5-e70d48246903",
   "metadata": {},
   "outputs": [
    {
     "name": "stdout",
     "output_type": "stream",
     "text": [
      "After setdefault:{info}\n"
     ]
    }
   ],
   "source": [
    "print(\"After setdefault:{info}\")"
   ]
  },
  {
   "cell_type": "code",
   "execution_count": 7,
   "id": "29f36904-661c-4239-81df-97e3a69f1c95",
   "metadata": {},
   "outputs": [],
   "source": [
    "info.update({'age':23,'email':'arnald642@gmail.com'})"
   ]
  },
  {
   "cell_type": "code",
   "execution_count": 8,
   "id": "2ff5c815-f8ef-4a39-977d-31f8f2fdf758",
   "metadata": {},
   "outputs": [
    {
     "name": "stdout",
     "output_type": "stream",
     "text": [
      "After update:{'name': 'Arnald', 'Age': 'Twenty', 'country': 'Unknown', 'age': 23, 'email': 'arnald642@gmail.com'}\n"
     ]
    }
   ],
   "source": [
    "print(f\"After update:{info}\")"
   ]
  },
  {
   "cell_type": "code",
   "execution_count": null,
   "id": "c72603e5-ddd5-4f83-917b-115dd019dd4b",
   "metadata": {},
   "outputs": [],
   "source": []
  }
 ],
 "metadata": {
  "kernelspec": {
   "display_name": "Python 3 (ipykernel)",
   "language": "python",
   "name": "python3"
  },
  "language_info": {
   "codemirror_mode": {
    "name": "ipython",
    "version": 3
   },
   "file_extension": ".py",
   "mimetype": "text/x-python",
   "name": "python",
   "nbconvert_exporter": "python",
   "pygments_lexer": "ipython3",
   "version": "3.12.8"
  }
 },
 "nbformat": 4,
 "nbformat_minor": 5
}
