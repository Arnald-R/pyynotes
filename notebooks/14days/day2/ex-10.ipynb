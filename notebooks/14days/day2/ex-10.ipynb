{
 "cells": [
  {
   "cell_type": "code",
   "execution_count": null,
   "id": "0ac1aca8-93ce-44e3-a3cb-2dd5dfb152c9",
   "metadata": {},
   "outputs": [],
   "source": [
    "#created at 20250327"
   ]
  },
  {
   "cell_type": "code",
   "execution_count": null,
   "id": "f363b167-51b8-4cf2-af80-bb41a1f4d0dc",
   "metadata": {},
   "outputs": [],
   "source": [
    "#Tuple Operations"
   ]
  },
  {
   "cell_type": "code",
   "execution_count": 1,
   "id": "90e00e60-e378-4dff-9fdc-85270d0f9b96",
   "metadata": {},
   "outputs": [
    {
     "name": "stdout",
     "output_type": "stream",
     "text": [
      "\n",
      " === Tuple Operations === \n"
     ]
    }
   ],
   "source": [
    "print(\"\\n === Tuple Operations === \")"
   ]
  },
  {
   "cell_type": "code",
   "execution_count": 2,
   "id": "88e4cfef-129d-4c11-a0c9-c37d5cb0cdfc",
   "metadata": {},
   "outputs": [],
   "source": [
    "coordinates =(3, 4)"
   ]
  },
  {
   "cell_type": "code",
   "execution_count": 3,
   "id": "c3ab031b-efd7-427b-a606-b27f99067b9e",
   "metadata": {},
   "outputs": [],
   "source": [
    "x, y = coordinates #Tuple Unpacking"
   ]
  },
  {
   "cell_type": "code",
   "execution_count": 4,
   "id": "31fc3ec2-2c42-4413-9d0c-f98c744944ca",
   "metadata": {},
   "outputs": [
    {
     "name": "stdout",
     "output_type": "stream",
     "text": [
      "coordinate:(3, 4)\n"
     ]
    }
   ],
   "source": [
    "print(f\"coordinate:{coordinates}\")"
   ]
  },
  {
   "cell_type": "code",
   "execution_count": 5,
   "id": "e97553de-ad5c-4e4d-a217-cd492eb5a149",
   "metadata": {},
   "outputs": [
    {
     "name": "stdout",
     "output_type": "stream",
     "text": [
      " x:3, y:4\n"
     ]
    }
   ],
   "source": [
    "print(f\" x:{x}, y:{y}\")"
   ]
  },
  {
   "cell_type": "code",
   "execution_count": 6,
   "id": "ad0371d2-ad7b-4f09-b813-19087f5e8294",
   "metadata": {},
   "outputs": [],
   "source": [
    "nested_tuple = ((1, 2), (3, 4))"
   ]
  },
  {
   "cell_type": "code",
   "execution_count": 7,
   "id": "f28b7c07-91a9-4a25-a99b-cfaaeeafbf0b",
   "metadata": {},
   "outputs": [
    {
     "name": "stdout",
     "output_type": "stream",
     "text": [
      "Nested_Tuple:((1, 2), (3, 4))\n"
     ]
    }
   ],
   "source": [
    "print(f\"Nested_Tuple:{nested_tuple}\")"
   ]
  },
  {
   "cell_type": "code",
   "execution_count": null,
   "id": "f7da9c3a-2422-4282-9010-33e021aebd52",
   "metadata": {},
   "outputs": [],
   "source": []
  }
 ],
 "metadata": {
  "kernelspec": {
   "display_name": "Python 3 (ipykernel)",
   "language": "python",
   "name": "python3"
  },
  "language_info": {
   "codemirror_mode": {
    "name": "ipython",
    "version": 3
   },
   "file_extension": ".py",
   "mimetype": "text/x-python",
   "name": "python",
   "nbconvert_exporter": "python",
   "pygments_lexer": "ipython3",
   "version": "3.12.8"
  }
 },
 "nbformat": 4,
 "nbformat_minor": 5
}
