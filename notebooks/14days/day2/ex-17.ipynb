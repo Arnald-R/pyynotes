{
 "cells": [
  {
   "cell_type": "code",
   "execution_count": null,
   "id": "ca51cb5d-3aa4-47d6-89bb-5f8358172554",
   "metadata": {},
   "outputs": [],
   "source": [
    "#created at 20250327"
   ]
  },
  {
   "cell_type": "code",
   "execution_count": null,
   "id": "871fb67c-311d-4b69-9d20-57cce2ac2e3d",
   "metadata": {},
   "outputs": [],
   "source": [
    "#Set Methods"
   ]
  },
  {
   "cell_type": "code",
   "execution_count": 1,
   "id": "d73b06bc-7eeb-4814-9ccb-3c698ca3e57c",
   "metadata": {},
   "outputs": [
    {
     "name": "stdout",
     "output_type": "stream",
     "text": [
      "\n",
      " === Set Methods ===\n"
     ]
    }
   ],
   "source": [
    "print(\"\\n === Set Methods ===\")"
   ]
  },
  {
   "cell_type": "code",
   "execution_count": 2,
   "id": "863f0f8d-6f42-436e-8020-8c47f1ac2129",
   "metadata": {},
   "outputs": [],
   "source": [
    "set_a = {1, 2, 3}"
   ]
  },
  {
   "cell_type": "code",
   "execution_count": 3,
   "id": "b1f80c79-7289-468d-a0d6-f1d8d3cea034",
   "metadata": {},
   "outputs": [],
   "source": [
    "set_b = {4, 5, 6}"
   ]
  },
  {
   "cell_type": "code",
   "execution_count": 4,
   "id": "1ca3174e-0dd1-4c55-8ac0-14155a1fdc36",
   "metadata": {},
   "outputs": [],
   "source": [
    "set_a.update([6, 7, 8])"
   ]
  },
  {
   "cell_type": "code",
   "execution_count": 5,
   "id": "7420dd14-2653-4bf6-91de-f6db1ee39346",
   "metadata": {},
   "outputs": [
    {
     "name": "stdout",
     "output_type": "stream",
     "text": [
      "After the update:{1, 2, 3, 6, 7, 8}\n"
     ]
    }
   ],
   "source": [
    "print(f\"After the update:{set_a}\")"
   ]
  },
  {
   "cell_type": "code",
   "execution_count": 6,
   "id": "463764d4-7443-432a-a202-4bfb3dea5603",
   "metadata": {},
   "outputs": [],
   "source": [
    "set_a.discard(6)"
   ]
  },
  {
   "cell_type": "code",
   "execution_count": 7,
   "id": "6c1d6841-d24e-47cc-8158-093bf77a9579",
   "metadata": {},
   "outputs": [
    {
     "name": "stdout",
     "output_type": "stream",
     "text": [
      "After discard:{1, 2, 3, 7, 8}\n"
     ]
    }
   ],
   "source": [
    "print(f\"After discard:{set_a}\")"
   ]
  },
  {
   "cell_type": "code",
   "execution_count": 8,
   "id": "ee0de8a9-d6bb-43e2-b00c-607d8623947b",
   "metadata": {},
   "outputs": [
    {
     "name": "stdout",
     "output_type": "stream",
     "text": [
      "Is subset:False\n"
     ]
    }
   ],
   "source": [
    "print(f\"Is subset:{set_b.issubset(set_a)}\")"
   ]
  },
  {
   "cell_type": "code",
   "execution_count": null,
   "id": "777927e5-831f-4057-ab3c-f057429c9293",
   "metadata": {},
   "outputs": [],
   "source": []
  }
 ],
 "metadata": {
  "kernelspec": {
   "display_name": "Python 3 (ipykernel)",
   "language": "python",
   "name": "python3"
  },
  "language_info": {
   "codemirror_mode": {
    "name": "ipython",
    "version": 3
   },
   "file_extension": ".py",
   "mimetype": "text/x-python",
   "name": "python",
   "nbconvert_exporter": "python",
   "pygments_lexer": "ipython3",
   "version": "3.12.8"
  }
 },
 "nbformat": 4,
 "nbformat_minor": 5
}
