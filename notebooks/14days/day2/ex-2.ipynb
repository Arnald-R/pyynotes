{
 "cells": [
  {
   "cell_type": "code",
   "execution_count": null,
   "id": "b0606a86-5063-48eb-98b6-ef8754e29e46",
   "metadata": {},
   "outputs": [],
   "source": [
    "#created at 20250326"
   ]
  },
  {
   "cell_type": "code",
   "execution_count": null,
   "id": "ff22cc7e-680c-48b3-905e-a3d123d37a84",
   "metadata": {},
   "outputs": [],
   "source": [
    "#Compund Assignment Operators"
   ]
  },
  {
   "cell_type": "code",
   "execution_count": 1,
   "id": "c9b7f70a-09a5-44cf-9d17-0976d5769416",
   "metadata": {},
   "outputs": [
    {
     "name": "stdout",
     "output_type": "stream",
     "text": [
      "\n",
      " === Compound Assignment === \n"
     ]
    }
   ],
   "source": [
    "print(\"\\n === Compound Assignment === \")"
   ]
  },
  {
   "cell_type": "code",
   "execution_count": 2,
   "id": "bf1f4942-d2ef-4b5c-b843-5e54914dd17d",
   "metadata": {},
   "outputs": [],
   "source": [
    "x = 10"
   ]
  },
  {
   "cell_type": "code",
   "execution_count": 3,
   "id": "9ad69d6b-d5ba-4984-89c5-93ee0285efa8",
   "metadata": {},
   "outputs": [],
   "source": [
    "x += 5 # x= x+5"
   ]
  },
  {
   "cell_type": "code",
   "execution_count": 4,
   "id": "50f88ec3-cd14-443a-89eb-5d1793a79695",
   "metadata": {},
   "outputs": [
    {
     "name": "stdout",
     "output_type": "stream",
     "text": [
      "after +=: 15\n"
     ]
    }
   ],
   "source": [
    "print(f\"after +=: {x}\")"
   ]
  },
  {
   "cell_type": "code",
   "execution_count": 5,
   "id": "e9de0254-5513-40c6-b63e-8b407e89b29f",
   "metadata": {},
   "outputs": [],
   "source": [
    "x *= 2"
   ]
  },
  {
   "cell_type": "code",
   "execution_count": 7,
   "id": "9b8d0a0e-10c9-4779-a220-f6b62f78b79a",
   "metadata": {},
   "outputs": [
    {
     "name": "stdout",
     "output_type": "stream",
     "text": [
      "after *=:30\n"
     ]
    }
   ],
   "source": [
    "print(f\"after *=:{x}\")"
   ]
  },
  {
   "cell_type": "code",
   "execution_count": 8,
   "id": "443519ce-99df-4dd3-88fb-98e9afe01875",
   "metadata": {},
   "outputs": [],
   "source": [
    "x //= 3"
   ]
  },
  {
   "cell_type": "code",
   "execution_count": 9,
   "id": "6c0d72e8-b5e2-4855-a29c-fdb7ed2067c1",
   "metadata": {},
   "outputs": [
    {
     "name": "stdout",
     "output_type": "stream",
     "text": [
      "after //=:10\n"
     ]
    }
   ],
   "source": [
    "print(f\"after //=:{x}\")"
   ]
  },
  {
   "cell_type": "code",
   "execution_count": null,
   "id": "9de6edf9-4c6c-43ca-a02b-be2de22252e4",
   "metadata": {},
   "outputs": [],
   "source": []
  }
 ],
 "metadata": {
  "kernelspec": {
   "display_name": "Python 3 (ipykernel)",
   "language": "python",
   "name": "python3"
  },
  "language_info": {
   "codemirror_mode": {
    "name": "ipython",
    "version": 3
   },
   "file_extension": ".py",
   "mimetype": "text/x-python",
   "name": "python",
   "nbconvert_exporter": "python",
   "pygments_lexer": "ipython3",
   "version": "3.12.8"
  }
 },
 "nbformat": 4,
 "nbformat_minor": 5
}
