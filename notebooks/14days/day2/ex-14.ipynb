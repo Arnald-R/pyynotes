{
 "cells": [
  {
   "cell_type": "code",
   "execution_count": null,
   "id": "89394e22-a1e4-423b-bf09-e22dc40ef38d",
   "metadata": {},
   "outputs": [],
   "source": [
    "#created at 20250327"
   ]
  },
  {
   "cell_type": "code",
   "execution_count": null,
   "id": "9df9009c-9435-4404-952c-e3b0f1c5798a",
   "metadata": {},
   "outputs": [],
   "source": [
    "#Nested data structures"
   ]
  },
  {
   "cell_type": "code",
   "execution_count": 1,
   "id": "3483c6e8-dd20-4a8a-82d3-1298009af540",
   "metadata": {},
   "outputs": [
    {
     "name": "stdout",
     "output_type": "stream",
     "text": [
      "\n",
      " === Nested data structures === \n"
     ]
    }
   ],
   "source": [
    "print(\"\\n === Nested data structures === \")"
   ]
  },
  {
   "cell_type": "code",
   "execution_count": 7,
   "id": "2c4e683e-eaa7-4e45-968c-b649b8b97dc4",
   "metadata": {},
   "outputs": [],
   "source": [
    "complex_data = {\n",
    "    'users':{\n",
    "        'name' :'Arnald',\n",
    "        'age'  : [23, 22, 21],\n",
    "        'add'  :('268st','poy' ,'632409')\n",
    "    }\n",
    "}"
   ]
  },
  {
   "cell_type": "code",
   "execution_count": 8,
   "id": "6d2673b2-fc35-4d91-aed8-952a3d90393b",
   "metadata": {},
   "outputs": [
    {
     "name": "stdout",
     "output_type": "stream",
     "text": [
      "complex_data: {'users': {'name': 'Arnald', 'age': [23, 22, 21], 'add': ('268st', 'poy', '632409')}}\n"
     ]
    }
   ],
   "source": [
    "print(f\"complex_data: {complex_data}\")"
   ]
  },
  {
   "cell_type": "code",
   "execution_count": 10,
   "id": "0c9d8c44-05f4-4f56-9530-142f1d179389",
   "metadata": {},
   "outputs": [
    {
     "name": "stdout",
     "output_type": "stream",
     "text": [
      "User Scores:[23, 22, 21]\n"
     ]
    }
   ],
   "source": [
    "print(f\"User Scores:{complex_data['users']['age']}\")"
   ]
  },
  {
   "cell_type": "code",
   "execution_count": null,
   "id": "53f9308c-d189-402c-a24c-839f65a15a3b",
   "metadata": {},
   "outputs": [],
   "source": []
  }
 ],
 "metadata": {
  "kernelspec": {
   "display_name": "Python 3 (ipykernel)",
   "language": "python",
   "name": "python3"
  },
  "language_info": {
   "codemirror_mode": {
    "name": "ipython",
    "version": 3
   },
   "file_extension": ".py",
   "mimetype": "text/x-python",
   "name": "python",
   "nbconvert_exporter": "python",
   "pygments_lexer": "ipython3",
   "version": "3.12.8"
  }
 },
 "nbformat": 4,
 "nbformat_minor": 5
}
