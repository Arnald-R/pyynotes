{
 "cells": [
  {
   "cell_type": "code",
   "execution_count": null,
   "id": "e0830262-142e-4c3c-9970-09d16b66d21a",
   "metadata": {},
   "outputs": [],
   "source": [
    "#created at 20250326"
   ]
  },
  {
   "cell_type": "code",
   "execution_count": null,
   "id": "b9bd628b-62f9-4160-a5b5-4deef21ecc99",
   "metadata": {},
   "outputs": [],
   "source": [
    "#Logical Operators"
   ]
  },
  {
   "cell_type": "code",
   "execution_count": 1,
   "id": "dd18e727-1ff3-4c90-84ee-da88d6cd9115",
   "metadata": {},
   "outputs": [
    {
     "name": "stdout",
     "output_type": "stream",
     "text": [
      "\n",
      " === Logical Operators ===\n"
     ]
    }
   ],
   "source": [
    "print(\"\\n === Logical Operators ===\")"
   ]
  },
  {
   "cell_type": "code",
   "execution_count": 2,
   "id": "39ba6096-fd2d-4957-8973-2d661a72d323",
   "metadata": {},
   "outputs": [],
   "source": [
    "x = True"
   ]
  },
  {
   "cell_type": "code",
   "execution_count": 3,
   "id": "8b3291a3-a042-4b9a-bece-344f6770c68d",
   "metadata": {},
   "outputs": [],
   "source": [
    "y = False"
   ]
  },
  {
   "cell_type": "code",
   "execution_count": 4,
   "id": "126356a6-4c2d-414f-9c13-cdd4a3691b6a",
   "metadata": {},
   "outputs": [
    {
     "name": "stdout",
     "output_type": "stream",
     "text": [
      "AND :False\n"
     ]
    }
   ],
   "source": [
    "print(f\"AND :{x and y}\")"
   ]
  },
  {
   "cell_type": "code",
   "execution_count": 5,
   "id": "694e45a0-0cd8-4ed5-bfab-44c4fa935b6b",
   "metadata": {},
   "outputs": [
    {
     "name": "stdout",
     "output_type": "stream",
     "text": [
      "OR :True\n"
     ]
    }
   ],
   "source": [
    "print(f\"OR :{x or y}\")"
   ]
  },
  {
   "cell_type": "code",
   "execution_count": 7,
   "id": "45200a62-b75e-47b6-b890-e480dac367db",
   "metadata": {},
   "outputs": [
    {
     "name": "stdout",
     "output_type": "stream",
     "text": [
      "NOT :False\n"
     ]
    }
   ],
   "source": [
    "print(f\"NOT :{not x}\")"
   ]
  },
  {
   "cell_type": "code",
   "execution_count": 8,
   "id": "4ff51a83-ba7f-4233-ae7c-b3147d34ecce",
   "metadata": {},
   "outputs": [
    {
     "name": "stdout",
     "output_type": "stream",
     "text": [
      "complex:False or False\n"
     ]
    }
   ],
   "source": [
    "print(f\"complex:{x and y} or {not x}\")"
   ]
  },
  {
   "cell_type": "code",
   "execution_count": null,
   "id": "6cef4621-2f45-4d1b-988d-98b33fc412ef",
   "metadata": {},
   "outputs": [],
   "source": []
  }
 ],
 "metadata": {
  "kernelspec": {
   "display_name": "Python 3 (ipykernel)",
   "language": "python",
   "name": "python3"
  },
  "language_info": {
   "codemirror_mode": {
    "name": "ipython",
    "version": 3
   },
   "file_extension": ".py",
   "mimetype": "text/x-python",
   "name": "python",
   "nbconvert_exporter": "python",
   "pygments_lexer": "ipython3",
   "version": "3.12.8"
  }
 },
 "nbformat": 4,
 "nbformat_minor": 5
}
