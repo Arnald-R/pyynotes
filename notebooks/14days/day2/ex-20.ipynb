{
 "cells": [
  {
   "cell_type": "code",
   "execution_count": null,
   "id": "205b27cb-6c9c-468e-bf5b-7abdba4feac4",
   "metadata": {},
   "outputs": [],
   "source": [
    "#created at 20250328"
   ]
  },
  {
   "cell_type": "code",
   "execution_count": null,
   "id": "1bfc0ca2-2ca0-4b55-9b4d-b81a84cd3783",
   "metadata": {},
   "outputs": [],
   "source": [
    "#Collection Membership"
   ]
  },
  {
   "cell_type": "code",
   "execution_count": 1,
   "id": "ad1ce104-455d-4882-8f53-b7489eb8fa25",
   "metadata": {},
   "outputs": [
    {
     "name": "stdout",
     "output_type": "stream",
     "text": [
      "\n",
      " === Collection Membership === \n"
     ]
    }
   ],
   "source": [
    "print(\"\\n === Collection Membership === \")"
   ]
  },
  {
   "cell_type": "code",
   "execution_count": 2,
   "id": "097365a2-b566-414c-9cbd-d15bff580666",
   "metadata": {},
   "outputs": [],
   "source": [
    "numbers = [1, 2, 3, 5, 7]"
   ]
  },
  {
   "cell_type": "code",
   "execution_count": 3,
   "id": "6012eb6d-04f7-431d-bea1-67d0b4fad344",
   "metadata": {},
   "outputs": [],
   "source": [
    "my_set = {1, 2, 3}"
   ]
  },
  {
   "cell_type": "code",
   "execution_count": 4,
   "id": "d2637fef-e0ab-407d-b993-b3f3e84091cc",
   "metadata": {},
   "outputs": [],
   "source": [
    "my_dict = {'a':1,'b':3}"
   ]
  },
  {
   "cell_type": "code",
   "execution_count": 5,
   "id": "e3c25b61-1f6a-41f5-97c8-7f93a28dd9b9",
   "metadata": {},
   "outputs": [
    {
     "name": "stdout",
     "output_type": "stream",
     "text": [
      "3 in list:True\n"
     ]
    }
   ],
   "source": [
    "print(f\"3 in list:{3 in numbers}\")"
   ]
  },
  {
   "cell_type": "code",
   "execution_count": 6,
   "id": "27bbd159-41b0-4cff-b2e4-49343bf2d3c4",
   "metadata": {},
   "outputs": [
    {
     "name": "stdout",
     "output_type": "stream",
     "text": [
      "2 in set:True\n"
     ]
    }
   ],
   "source": [
    "print(f\"2 in set:{2 in my_set}\")"
   ]
  },
  {
   "cell_type": "code",
   "execution_count": 8,
   "id": "0f520e13-8b9c-4f62-9a77-63ad8ec041cc",
   "metadata": {},
   "outputs": [
    {
     "name": "stdout",
     "output_type": "stream",
     "text": [
      "a in dict:True\n"
     ]
    }
   ],
   "source": [
    "print(f\"a in dict:{'a' in my_dict}\")"
   ]
  },
  {
   "cell_type": "code",
   "execution_count": 10,
   "id": "8aad9874-fa75-46e8-b4e1-62a5711e6a45",
   "metadata": {},
   "outputs": [
    {
     "name": "stdout",
     "output_type": "stream",
     "text": [
      "1 in dict value:True\n"
     ]
    }
   ],
   "source": [
    "print(f\"1 in dict value:{1 in my_dict.values()}\")"
   ]
  },
  {
   "cell_type": "code",
   "execution_count": null,
   "id": "1fad1d25-1321-4c41-a0c4-1c08b6b9fc8f",
   "metadata": {},
   "outputs": [],
   "source": []
  }
 ],
 "metadata": {
  "kernelspec": {
   "display_name": "Python 3 (ipykernel)",
   "language": "python",
   "name": "python3"
  },
  "language_info": {
   "codemirror_mode": {
    "name": "ipython",
    "version": 3
   },
   "file_extension": ".py",
   "mimetype": "text/x-python",
   "name": "python",
   "nbconvert_exporter": "python",
   "pygments_lexer": "ipython3",
   "version": "3.12.8"
  }
 },
 "nbformat": 4,
 "nbformat_minor": 5
}
