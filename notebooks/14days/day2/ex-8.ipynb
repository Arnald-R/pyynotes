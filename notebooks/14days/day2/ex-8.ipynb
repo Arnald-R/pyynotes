{
 "cells": [
  {
   "cell_type": "code",
   "execution_count": null,
   "id": "26fe063d-cdd0-4f38-9718-c70e7c8287d6",
   "metadata": {},
   "outputs": [],
   "source": [
    "#created at 20250327"
   ]
  },
  {
   "cell_type": "code",
   "execution_count": null,
   "id": "39be7a12-34c1-4c52-a713-61f14707e153",
   "metadata": {},
   "outputs": [],
   "source": [
    "#List Operations"
   ]
  },
  {
   "cell_type": "code",
   "execution_count": 1,
   "id": "f18e5db9-b5eb-4041-a55f-2d719886ea9a",
   "metadata": {},
   "outputs": [
    {
     "name": "stdout",
     "output_type": "stream",
     "text": [
      "\n",
      " === List Operations === \n"
     ]
    }
   ],
   "source": [
    "print(\"\\n === List Operations === \")"
   ]
  },
  {
   "cell_type": "code",
   "execution_count": 2,
   "id": "f91b67bc-0208-47cb-84d1-51d9b27d23c5",
   "metadata": {},
   "outputs": [],
   "source": [
    ")"
   ]
  },
  {
   "cell_type": "code",
   "execution_count": 4,
   "id": "b0fbef3d-ffb3-442a-8162-1ec5d1c2808d",
   "metadata": {},
   "outputs": [
    {
     "name": "stdout",
     "output_type": "stream",
     "text": [
      "Original List: ['apple', 'orang', 'banana']\n"
     ]
    }
   ],
   "source": [
    "print(f\"Original List: {fruits}\")"
   ]
  },
  {
   "cell_type": "code",
   "execution_count": 5,
   "id": "3b065584-edf4-48ec-a405-00b7886670e9",
   "metadata": {},
   "outputs": [],
   "source": [
    "fruits.append('grape')"
   ]
  },
  {
   "cell_type": "code",
   "execution_count": 6,
   "id": "77d2151c-7a00-4d46-b374-a14409719b43",
   "metadata": {},
   "outputs": [
    {
     "name": "stdout",
     "output_type": "stream",
     "text": [
      "Updated List: ['apple', 'orang', 'banana', 'grape']\n"
     ]
    }
   ],
   "source": [
    "print(f\"Updated List: {fruits}\")"
   ]
  },
  {
   "cell_type": "code",
   "execution_count": 7,
   "id": "02ed4b13-8056-4fa7-a141-5ecc69ef2428",
   "metadata": {},
   "outputs": [],
   "source": [
    "fruits.insert(1,'papaya')"
   ]
  },
  {
   "cell_type": "code",
   "execution_count": 8,
   "id": "f6109825-daaa-45bd-a2a0-63e224de5f4f",
   "metadata": {},
   "outputs": [
    {
     "name": "stdout",
     "output_type": "stream",
     "text": [
      "After Insert: ['apple', 'papaya', 'orang', 'banana', 'grape']\n"
     ]
    }
   ],
   "source": [
    "print(f\"After Insert: {fruits}\")"
   ]
  },
  {
   "cell_type": "code",
   "execution_count": 9,
   "id": "d8224cb7-9a6b-48e3-809a-3d87541d6812",
   "metadata": {},
   "outputs": [],
   "source": [
    "fruits.remove('banana')"
   ]
  },
  {
   "cell_type": "code",
   "execution_count": 10,
   "id": "d620e8ac-102c-4b1e-b7e0-01f21b07b3e9",
   "metadata": {},
   "outputs": [
    {
     "name": "stdout",
     "output_type": "stream",
     "text": [
      "After remove: ['apple', 'papaya', 'orang', 'grape']\n"
     ]
    }
   ],
   "source": [
    "print(f\"After remove: {fruits}\")"
   ]
  },
  {
   "cell_type": "code",
   "execution_count": 11,
   "id": "9c500fa0-5fe2-4b44-ac72-651024ba4559",
   "metadata": {},
   "outputs": [
    {
     "name": "stdout",
     "output_type": "stream",
     "text": [
      "Sliced List:['papaya', 'orang']\n"
     ]
    }
   ],
   "source": [
    "print(f\"Sliced List:{fruits[1:3]}\")"
   ]
  },
  {
   "cell_type": "code",
   "execution_count": null,
   "id": "95af0a10-7464-4e37-8dd8-9cb7a12a77d9",
   "metadata": {},
   "outputs": [],
   "source": []
  }
 ],
 "metadata": {
  "kernelspec": {
   "display_name": "Python 3 (ipykernel)",
   "language": "python",
   "name": "python3"
  },
  "language_info": {
   "codemirror_mode": {
    "name": "ipython",
    "version": 3
   },
   "file_extension": ".py",
   "mimetype": "text/x-python",
   "name": "python",
   "nbconvert_exporter": "python",
   "pygments_lexer": "ipython3",
   "version": "3.12.8"
  }
 },
 "nbformat": 4,
 "nbformat_minor": 5
}
