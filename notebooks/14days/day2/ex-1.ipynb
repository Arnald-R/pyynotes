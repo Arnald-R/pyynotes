{
 "cells": [
  {
   "cell_type": "code",
   "execution_count": null,
   "id": "4562edcb-4a76-4a5d-9598-f9bdb040a52c",
   "metadata": {},
   "outputs": [],
   "source": [
    "#created at 20250326"
   ]
  },
  {
   "cell_type": "code",
   "execution_count": null,
   "id": "8335b6af-956c-4318-b430-03e742ce7359",
   "metadata": {},
   "outputs": [],
   "source": [
    "#Operators and data typs"
   ]
  },
  {
   "cell_type": "code",
   "execution_count": null,
   "id": "77b2977f-2099-4ebe-99ce-b092b5b234ff",
   "metadata": {},
   "outputs": [],
   "source": [
    "#Arithmetic Operators"
   ]
  },
  {
   "cell_type": "code",
   "execution_count": 1,
   "id": "24c10944-194c-4b58-b0c7-59b580bf95e3",
   "metadata": {},
   "outputs": [
    {
     "name": "stdout",
     "output_type": "stream",
     "text": [
      "\n",
      " === Arithmetic Operators ===\n"
     ]
    }
   ],
   "source": [
    "print(\"\\n === Arithmetic Operators ===\")"
   ]
  },
  {
   "cell_type": "code",
   "execution_count": 2,
   "id": "a067e0a5-4b8e-4879-95ed-29d36e5eecdf",
   "metadata": {},
   "outputs": [],
   "source": [
    "a, b = 15, 4"
   ]
  },
  {
   "cell_type": "code",
   "execution_count": 3,
   "id": "904e0a20-2e3f-4295-8711-40a90685a0c9",
   "metadata": {},
   "outputs": [
    {
     "name": "stdout",
     "output_type": "stream",
     "text": [
      "Addition:19\n"
     ]
    }
   ],
   "source": [
    "print(f\"Addition:{a + b}\")"
   ]
  },
  {
   "cell_type": "code",
   "execution_count": 4,
   "id": "4771231f-96d0-459b-93c3-f1b481fe27ab",
   "metadata": {},
   "outputs": [
    {
     "name": "stdout",
     "output_type": "stream",
     "text": [
      "Subtraction:11\n"
     ]
    }
   ],
   "source": [
    "print(f\"Subtraction:{a - b}\")"
   ]
  },
  {
   "cell_type": "code",
   "execution_count": 5,
   "id": "c30d93b9-b524-444d-af9f-fde60a591e61",
   "metadata": {},
   "outputs": [
    {
     "name": "stdout",
     "output_type": "stream",
     "text": [
      "Multiplication:60\n"
     ]
    }
   ],
   "source": [
    "print(f\"Multiplication:{a * b}\")"
   ]
  },
  {
   "cell_type": "code",
   "execution_count": 6,
   "id": "4611127b-8e79-466e-a2cd-ce9774ea0b78",
   "metadata": {},
   "outputs": [
    {
     "name": "stdout",
     "output_type": "stream",
     "text": [
      "Division:3.75\n"
     ]
    }
   ],
   "source": [
    "print(f\"Division:{a / b}\")"
   ]
  },
  {
   "cell_type": "code",
   "execution_count": 7,
   "id": "f4da8842-dd78-4e41-aec9-a267855e2eca",
   "metadata": {},
   "outputs": [
    {
     "name": "stdout",
     "output_type": "stream",
     "text": [
      "Floor Division:3\n"
     ]
    }
   ],
   "source": [
    "print(f\"Floor Division:{a // b}\")"
   ]
  },
  {
   "cell_type": "code",
   "execution_count": 8,
   "id": "9c675a80-23bc-414e-bd71-08f1135e0f4a",
   "metadata": {},
   "outputs": [
    {
     "name": "stdout",
     "output_type": "stream",
     "text": [
      "Modulus:3\n"
     ]
    }
   ],
   "source": [
    "print(f\"Modulus:{a % b}\")"
   ]
  },
  {
   "cell_type": "code",
   "execution_count": 9,
   "id": "05b02f1e-eb0e-4f80-bd2d-6781563e3e74",
   "metadata": {},
   "outputs": [
    {
     "name": "stdout",
     "output_type": "stream",
     "text": [
      "Exponentiation:50625\n"
     ]
    }
   ],
   "source": [
    "print(f\"Exponentiation:{a ** b}\")"
   ]
  },
  {
   "cell_type": "code",
   "execution_count": null,
   "id": "5c05023d-1e6a-413f-b4cd-cab7e91485d1",
   "metadata": {},
   "outputs": [],
   "source": []
  }
 ],
 "metadata": {
  "kernelspec": {
   "display_name": "Python 3 (ipykernel)",
   "language": "python",
   "name": "python3"
  },
  "language_info": {
   "codemirror_mode": {
    "name": "ipython",
    "version": 3
   },
   "file_extension": ".py",
   "mimetype": "text/x-python",
   "name": "python",
   "nbconvert_exporter": "python",
   "pygments_lexer": "ipython3",
   "version": "3.12.8"
  }
 },
 "nbformat": 4,
 "nbformat_minor": 5
}
