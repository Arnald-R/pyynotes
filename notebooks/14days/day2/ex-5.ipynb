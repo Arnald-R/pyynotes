{
 "cells": [
  {
   "cell_type": "code",
   "execution_count": null,
   "id": "1161ee22-8f14-4464-892f-2244b230e494",
   "metadata": {},
   "outputs": [],
   "source": [
    "#created at 20250326"
   ]
  },
  {
   "cell_type": "code",
   "execution_count": null,
   "id": "c8851099-31f1-481e-9ada-94a3bac6486d",
   "metadata": {},
   "outputs": [],
   "source": [
    "#Bitwise Operators"
   ]
  },
  {
   "cell_type": "code",
   "execution_count": 1,
   "id": "4ec6b253-a8fd-476a-8f25-923158e6a533",
   "metadata": {},
   "outputs": [
    {
     "name": "stdout",
     "output_type": "stream",
     "text": [
      "\n",
      " === Bitwise Operators ===\n"
     ]
    }
   ],
   "source": [
    "print(\"\\n === Bitwise Operators ===\")"
   ]
  },
  {
   "cell_type": "code",
   "execution_count": 2,
   "id": "072cf6e5-2d04-40d5-a0c6-caca0dcf41f6",
   "metadata": {},
   "outputs": [],
   "source": [
    "a, b = 60, 13"
   ]
  },
  {
   "cell_type": "code",
   "execution_count": 3,
   "id": "851b9f25-b590-4808-9740-66cbe87c3964",
   "metadata": {},
   "outputs": [
    {
     "name": "stdout",
     "output_type": "stream",
     "text": [
      "AND (&):12\n"
     ]
    }
   ],
   "source": [
    "print(f\"AND (&):{a & b}\")"
   ]
  },
  {
   "cell_type": "code",
   "execution_count": 4,
   "id": "0dc3e7a8-ca9f-41a8-97b6-af9ef5703e03",
   "metadata": {},
   "outputs": [
    {
     "name": "stdout",
     "output_type": "stream",
     "text": [
      "OR (|):61\n"
     ]
    }
   ],
   "source": [
    "print(f\"OR (|):{a | b}\")"
   ]
  },
  {
   "cell_type": "code",
   "execution_count": 5,
   "id": "6457990a-629e-41ce-af00-b2c7ca5b7115",
   "metadata": {},
   "outputs": [
    {
     "name": "stdout",
     "output_type": "stream",
     "text": [
      "XOR (^):49\n"
     ]
    }
   ],
   "source": [
    "print(f\"XOR (^):{a ^ b}\")"
   ]
  },
  {
   "cell_type": "code",
   "execution_count": 6,
   "id": "de087b11-3b39-4142-b388-e71b51f4c2b1",
   "metadata": {},
   "outputs": [
    {
     "name": "stdout",
     "output_type": "stream",
     "text": [
      "NOT (~):-61\n"
     ]
    }
   ],
   "source": [
    "print(f\"NOT (~):{~a}\")"
   ]
  },
  {
   "cell_type": "code",
   "execution_count": 7,
   "id": "1eb1dfb4-3ee0-412e-b9cc-c548b9d859cd",
   "metadata": {},
   "outputs": [
    {
     "name": "stdout",
     "output_type": "stream",
     "text": [
      "Leftshift:240\n"
     ]
    }
   ],
   "source": [
    "print(f\"Leftshift:{a << 2}\")"
   ]
  },
  {
   "cell_type": "code",
   "execution_count": 8,
   "id": "679dcf8d-3881-45c3-80b4-5a2d8a0bd773",
   "metadata": {},
   "outputs": [
    {
     "name": "stdout",
     "output_type": "stream",
     "text": [
      "Rightshift:15\n"
     ]
    }
   ],
   "source": [
    "print(f\"Rightshift:{a >> 2}\")"
   ]
  },
  {
   "cell_type": "code",
   "execution_count": null,
   "id": "2aa94aa6-b275-4a24-af2d-0d1ccf9fc16d",
   "metadata": {},
   "outputs": [],
   "source": []
  }
 ],
 "metadata": {
  "kernelspec": {
   "display_name": "Python 3 (ipykernel)",
   "language": "python",
   "name": "python3"
  },
  "language_info": {
   "codemirror_mode": {
    "name": "ipython",
    "version": 3
   },
   "file_extension": ".py",
   "mimetype": "text/x-python",
   "name": "python",
   "nbconvert_exporter": "python",
   "pygments_lexer": "ipython3",
   "version": "3.12.8"
  }
 },
 "nbformat": 4,
 "nbformat_minor": 5
}
