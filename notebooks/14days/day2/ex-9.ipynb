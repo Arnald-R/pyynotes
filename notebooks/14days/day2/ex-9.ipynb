{
 "cells": [
  {
   "cell_type": "code",
   "execution_count": null,
   "id": "6cd6b4b1-8509-4af4-9255-5a4e9acf6a2e",
   "metadata": {},
   "outputs": [],
   "source": [
    "#created at 20250327"
   ]
  },
  {
   "cell_type": "code",
   "execution_count": 1,
   "id": "390b8c95-5ce6-44f6-9e84-c6e202ffa990",
   "metadata": {},
   "outputs": [],
   "source": [
    "#List Comprehension"
   ]
  },
  {
   "cell_type": "code",
   "execution_count": 2,
   "id": "281a3c3b-5674-4ca1-a335-e7ecfab5e779",
   "metadata": {},
   "outputs": [
    {
     "name": "stdout",
     "output_type": "stream",
     "text": [
      "\n",
      " === List Comprehension === \n"
     ]
    }
   ],
   "source": [
    "print(\"\\n === List Comprehension === \")"
   ]
  },
  {
   "cell_type": "code",
   "execution_count": 3,
   "id": "81a6eda3-3ea6-4a1b-a03b-523f4ae7e286",
   "metadata": {},
   "outputs": [],
   "source": [
    "numbers = [1, 2, 3, 4, 5]"
   ]
  },
  {
   "cell_type": "code",
   "execution_count": 4,
   "id": "4465e853-68e9-4c0e-ad92-a84e8b048c50",
   "metadata": {},
   "outputs": [],
   "source": [
    "squares = [ x**2 for x in numbers]"
   ]
  },
  {
   "cell_type": "code",
   "execution_count": 5,
   "id": "55453c9e-db4b-49c2-af7f-57d6a96fe84c",
   "metadata": {},
   "outputs": [
    {
     "name": "stdout",
     "output_type": "stream",
     "text": [
      "Original numbers:[1, 2, 3, 4, 5]\n"
     ]
    }
   ],
   "source": [
    "print(f\"Original numbers:{numbers}\")"
   ]
  },
  {
   "cell_type": "code",
   "execution_count": 6,
   "id": "e8622069-bad8-4195-b7d0-427a8495abdc",
   "metadata": {},
   "outputs": [
    {
     "name": "stdout",
     "output_type": "stream",
     "text": [
      "Squares:[1, 4, 9, 16, 25]\n"
     ]
    }
   ],
   "source": [
    "print(f\"Squares:{squares}\")"
   ]
  },
  {
   "cell_type": "code",
   "execution_count": 7,
   "id": "79577111-e770-4238-8985-faec16a3e7db",
   "metadata": {},
   "outputs": [],
   "source": [
    "even_numbers = [ x for x in numbers if x % 2 == 0]"
   ]
  },
  {
   "cell_type": "code",
   "execution_count": 8,
   "id": "cf4c2543-457b-4749-bb21-6a011f8a414c",
   "metadata": {},
   "outputs": [
    {
     "name": "stdout",
     "output_type": "stream",
     "text": [
      "Even numbers:[2, 4]\n"
     ]
    }
   ],
   "source": [
    "print(f\"Even numbers:{even_numbers}\")"
   ]
  },
  {
   "cell_type": "code",
   "execution_count": null,
   "id": "32eee1a4-16f2-4662-9cea-29a04cdea753",
   "metadata": {},
   "outputs": [],
   "source": []
  }
 ],
 "metadata": {
  "kernelspec": {
   "display_name": "Python 3 (ipykernel)",
   "language": "python",
   "name": "python3"
  },
  "language_info": {
   "codemirror_mode": {
    "name": "ipython",
    "version": 3
   },
   "file_extension": ".py",
   "mimetype": "text/x-python",
   "name": "python",
   "nbconvert_exporter": "python",
   "pygments_lexer": "ipython3",
   "version": "3.12.8"
  }
 },
 "nbformat": 4,
 "nbformat_minor": 5
}
