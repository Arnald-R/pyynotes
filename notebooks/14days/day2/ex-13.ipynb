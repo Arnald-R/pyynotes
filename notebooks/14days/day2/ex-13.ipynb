{
 "cells": [
  {
   "cell_type": "code",
   "execution_count": null,
   "id": "50bd8773-9759-414a-bd16-3e2528370004",
   "metadata": {},
   "outputs": [],
   "source": [
    "#created at 20250327"
   ]
  },
  {
   "cell_type": "code",
   "execution_count": null,
   "id": "29862916-8cf4-4da9-b6c4-168f37db5ac5",
   "metadata": {},
   "outputs": [],
   "source": [
    "#Dictionary Comprehension"
   ]
  },
  {
   "cell_type": "code",
   "execution_count": 1,
   "id": "bc5a2189-aefb-4c99-8bae-4a5cb847e04d",
   "metadata": {},
   "outputs": [
    {
     "name": "stdout",
     "output_type": "stream",
     "text": [
      "\n",
      " === Dictionary Comprehension ===\n"
     ]
    }
   ],
   "source": [
    "print(\"\\n === Dictionary Comprehension ===\")"
   ]
  },
  {
   "cell_type": "code",
   "execution_count": 3,
   "id": "da819d12-4ef2-4219-9858-56cda13eacf1",
   "metadata": {},
   "outputs": [],
   "source": [
    "squares_dict ={ x: x**2 for x in range(5)}\n"
   ]
  },
  {
   "cell_type": "code",
   "execution_count": 4,
   "id": "2834ba17-cec0-455f-9abd-03f8982bfee7",
   "metadata": {},
   "outputs": [
    {
     "name": "stdout",
     "output_type": "stream",
     "text": [
      "squares_dict :{0: 0, 1: 1, 2: 4, 3: 9, 4: 16}\n"
     ]
    }
   ],
   "source": [
    "print(f\"squares_dict :{squares_dict}\")"
   ]
  },
  {
   "cell_type": "code",
   "execution_count": null,
   "id": "63f47609-3fe9-4ad0-b018-80ff7711ad50",
   "metadata": {},
   "outputs": [],
   "source": []
  }
 ],
 "metadata": {
  "kernelspec": {
   "display_name": "Python 3 (ipykernel)",
   "language": "python",
   "name": "python3"
  },
  "language_info": {
   "codemirror_mode": {
    "name": "ipython",
    "version": 3
   },
   "file_extension": ".py",
   "mimetype": "text/x-python",
   "name": "python",
   "nbconvert_exporter": "python",
   "pygments_lexer": "ipython3",
   "version": "3.12.8"
  }
 },
 "nbformat": 4,
 "nbformat_minor": 5
}
