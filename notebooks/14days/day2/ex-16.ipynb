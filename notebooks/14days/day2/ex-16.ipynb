{
 "cells": [
  {
   "cell_type": "code",
   "execution_count": 1,
   "id": "17bf2f13-4256-4d31-a210-9065c06b2f42",
   "metadata": {},
   "outputs": [],
   "source": [
    "#created at 20250327"
   ]
  },
  {
   "cell_type": "code",
   "execution_count": 2,
   "id": "7f6f073c-e19b-44d3-aec5-6b79408d9de6",
   "metadata": {},
   "outputs": [],
   "source": [
    "#Advanced List Methods"
   ]
  },
  {
   "cell_type": "code",
   "execution_count": 3,
   "id": "558e1d28-4fd8-4771-982f-4132dab08f36",
   "metadata": {},
   "outputs": [
    {
     "name": "stdout",
     "output_type": "stream",
     "text": [
      "\n",
      " === Advanced List Methods ===\n"
     ]
    }
   ],
   "source": [
    "print(\"\\n === Advanced List Methods ===\")"
   ]
  },
  {
   "cell_type": "code",
   "execution_count": 4,
   "id": "1aef291a-d464-4481-ad0a-3332288bb786",
   "metadata": {},
   "outputs": [],
   "source": [
    "numbers = [1, 2, 4, 9, 2, 4, 7, 6, 3]"
   ]
  },
  {
   "cell_type": "code",
   "execution_count": 5,
   "id": "abf8b679-e9ad-41ca-823c-ac55c898aaf0",
   "metadata": {},
   "outputs": [],
   "source": [
    "numbers.sort()"
   ]
  },
  {
   "cell_type": "code",
   "execution_count": 6,
   "id": "99c94f92-5198-4f3f-93e9-214cb4da2e45",
   "metadata": {},
   "outputs": [
    {
     "name": "stdout",
     "output_type": "stream",
     "text": [
      "numbers after sort:[1, 2, 2, 3, 4, 4, 6, 7, 9]\n"
     ]
    }
   ],
   "source": [
    "print(f\"numbers after sort:{numbers}\")"
   ]
  },
  {
   "cell_type": "code",
   "execution_count": 7,
   "id": "4bb69997-4155-4f2e-8de2-e97365a16dca",
   "metadata": {},
   "outputs": [],
   "source": [
    "numbers.reverse()"
   ]
  },
  {
   "cell_type": "code",
   "execution_count": 8,
   "id": "17aa8c20-be74-4a1a-9e94-74c4ac581ed4",
   "metadata": {},
   "outputs": [
    {
     "name": "stdout",
     "output_type": "stream",
     "text": [
      "numbers after reverse:[9, 7, 6, 4, 4, 3, 2, 2, 1]\n"
     ]
    }
   ],
   "source": [
    "print(f\"numbers after reverse:{numbers}\")"
   ]
  },
  {
   "cell_type": "code",
   "execution_count": 9,
   "id": "0f755884-aee3-4e0f-a037-c4b5a17c9a10",
   "metadata": {},
   "outputs": [
    {
     "name": "stdout",
     "output_type": "stream",
     "text": [
      "number count:1\n"
     ]
    }
   ],
   "source": [
    "print(f\"number count:{numbers.count(1)}\")"
   ]
  },
  {
   "cell_type": "code",
   "execution_count": 10,
   "id": "08efa093-aff8-4b51-881f-b7b46d355cb0",
   "metadata": {},
   "outputs": [
    {
     "name": "stdout",
     "output_type": "stream",
     "text": [
      "numbers of index:5\n"
     ]
    }
   ],
   "source": [
    "print(f\"numbers of index:{numbers.index(3)}\")"
   ]
  },
  {
   "cell_type": "code",
   "execution_count": null,
   "id": "5b5b2f75-897e-4448-8ba8-38f2c8a059e6",
   "metadata": {},
   "outputs": [],
   "source": []
  }
 ],
 "metadata": {
  "kernelspec": {
   "display_name": "Python 3 (ipykernel)",
   "language": "python",
   "name": "python3"
  },
  "language_info": {
   "codemirror_mode": {
    "name": "ipython",
    "version": 3
   },
   "file_extension": ".py",
   "mimetype": "text/x-python",
   "name": "python",
   "nbconvert_exporter": "python",
   "pygments_lexer": "ipython3",
   "version": "3.12.8"
  }
 },
 "nbformat": 4,
 "nbformat_minor": 5
}
