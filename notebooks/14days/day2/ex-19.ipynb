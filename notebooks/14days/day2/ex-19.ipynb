{
 "cells": [
  {
   "cell_type": "code",
   "execution_count": null,
   "id": "6e6418bd-702a-45ed-84bd-a573934a3eca",
   "metadata": {},
   "outputs": [],
   "source": [
    "#created at 20250328"
   ]
  },
  {
   "cell_type": "code",
   "execution_count": null,
   "id": "fc9780e6-a927-4bde-bd95-393655214671",
   "metadata": {},
   "outputs": [],
   "source": [
    "#String Methods"
   ]
  },
  {
   "cell_type": "code",
   "execution_count": 2,
   "id": "288709b0-0f9e-45ba-87e1-edcf8b2edbbc",
   "metadata": {},
   "outputs": [
    {
     "name": "stdout",
     "output_type": "stream",
     "text": [
      "\n",
      " === string Methods ===\n"
     ]
    }
   ],
   "source": [
    "print(\"\\n === string Methods ===\")"
   ]
  },
  {
   "cell_type": "code",
   "execution_count": 3,
   "id": "68191f53-ad05-4557-9262-089fc920fbdb",
   "metadata": {},
   "outputs": [],
   "source": [
    "text = \"Python Programming\""
   ]
  },
  {
   "cell_type": "code",
   "execution_count": 4,
   "id": "2cf2949a-e980-4abe-8ec2-f7191b31701d",
   "metadata": {},
   "outputs": [
    {
     "name": "stdout",
     "output_type": "stream",
     "text": [
      "split words:['Python', 'Programming']\n"
     ]
    }
   ],
   "source": [
    "print(f\"split words:{text.split()}\")"
   ]
  },
  {
   "cell_type": "code",
   "execution_count": 6,
   "id": "3c445f24-260f-4099-8bac-b3c3a5faff92",
   "metadata": {},
   "outputs": [
    {
     "name": "stdout",
     "output_type": "stream",
     "text": [
      "join words:python_is_easy\n"
     ]
    }
   ],
   "source": [
    "print(f\"join words:{'_'.join(['python', 'is', 'easy'])}\")"
   ]
  },
  {
   "cell_type": "code",
   "execution_count": 10,
   "id": "5949a8b0-05c2-4b79-96e5-d104d6dca7b5",
   "metadata": {},
   "outputs": [
    {
     "name": "stdout",
     "output_type": "stream",
     "text": [
      "Replace:Java Programming\n"
     ]
    }
   ],
   "source": [
    "print(f\"Replace:{text.replace('Python', 'Java')}\")"
   ]
  },
  {
   "cell_type": "code",
   "execution_count": 11,
   "id": "fe46d64d-85fd-472f-95c2-0904b274650a",
   "metadata": {},
   "outputs": [
    {
     "name": "stdout",
     "output_type": "stream",
     "text": [
      "Strip and title:Python Programming\n"
     ]
    }
   ],
   "source": [
    "print(f\"Strip and title:{text.strip().title()}\")"
   ]
  },
  {
   "cell_type": "code",
   "execution_count": null,
   "id": "aad0c6e4-68d6-48c2-9456-0b4be6238816",
   "metadata": {},
   "outputs": [],
   "source": []
  }
 ],
 "metadata": {
  "kernelspec": {
   "display_name": "Python 3 (ipykernel)",
   "language": "python",
   "name": "python3"
  },
  "language_info": {
   "codemirror_mode": {
    "name": "ipython",
    "version": 3
   },
   "file_extension": ".py",
   "mimetype": "text/x-python",
   "name": "python",
   "nbconvert_exporter": "python",
   "pygments_lexer": "ipython3",
   "version": "3.12.8"
  }
 },
 "nbformat": 4,
 "nbformat_minor": 5
}
