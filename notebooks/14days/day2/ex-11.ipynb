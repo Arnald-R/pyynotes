{
 "cells": [
  {
   "cell_type": "code",
   "execution_count": 1,
   "id": "de9a1a07-e55d-4b39-9a84-aeeec54a417a",
   "metadata": {},
   "outputs": [],
   "source": [
    "#created at 20250327"
   ]
  },
  {
   "cell_type": "code",
   "execution_count": null,
   "id": "231fdefb-14dd-47a1-9043-0843c8d4ceb8",
   "metadata": {},
   "outputs": [],
   "source": [
    "#Set Operations"
   ]
  },
  {
   "cell_type": "code",
   "execution_count": 2,
   "id": "d1799097-d0ff-4351-8781-5b3e7e8cb98a",
   "metadata": {},
   "outputs": [
    {
     "name": "stdout",
     "output_type": "stream",
     "text": [
      "\n",
      " === Set operations === \n"
     ]
    }
   ],
   "source": [
    "print(\"\\n === Set operations === \") "
   ]
  },
  {
   "cell_type": "code",
   "execution_count": 3,
   "id": "e797fa39-7c29-4424-9da1-b1fe2c5cbc7a",
   "metadata": {},
   "outputs": [],
   "source": [
    "set1 = {1, 2, 3, 4, 5}"
   ]
  },
  {
   "cell_type": "code",
   "execution_count": 4,
   "id": "0823b143-36e5-4dff-8551-3bac1b75bf83",
   "metadata": {},
   "outputs": [],
   "source": [
    "set2 = {4, 5, 6, 7, 8}"
   ]
  },
  {
   "cell_type": "code",
   "execution_count": 5,
   "id": "6bb6d463-86e7-42c8-aeb9-5c34edacf9ce",
   "metadata": {},
   "outputs": [
    {
     "name": "stdout",
     "output_type": "stream",
     "text": [
      "Union: {1, 2, 3, 4, 5, 6, 7, 8}\n"
     ]
    }
   ],
   "source": [
    "print(f\"Union: {set1 | set2}\")"
   ]
  },
  {
   "cell_type": "code",
   "execution_count": 6,
   "id": "5461af8a-1171-4ab5-99f4-10456ece4a0b",
   "metadata": {},
   "outputs": [
    {
     "name": "stdout",
     "output_type": "stream",
     "text": [
      "Instersection: {4, 5}\n"
     ]
    }
   ],
   "source": [
    "print(f\"Instersection: {set1 & set2}\")"
   ]
  },
  {
   "cell_type": "code",
   "execution_count": 7,
   "id": "5d7ae66d-17ed-481d-8c05-17c83af287c9",
   "metadata": {},
   "outputs": [
    {
     "name": "stdout",
     "output_type": "stream",
     "text": [
      "Difference: {1, 2, 3}\n"
     ]
    }
   ],
   "source": [
    "print(f\"Difference: {set1 - set2}\")"
   ]
  },
  {
   "cell_type": "code",
   "execution_count": 8,
   "id": "e9213757-2d72-477b-b440-644497c22494",
   "metadata": {},
   "outputs": [
    {
     "name": "stdout",
     "output_type": "stream",
     "text": [
      "Symmetric difference: {1, 2, 3, 6, 7, 8}\n"
     ]
    }
   ],
   "source": [
    "print(f\"Symmetric difference: {set1 ^ set2}\") "
   ]
  },
  {
   "cell_type": "code",
   "execution_count": null,
   "id": "71a0db61-853b-46ec-8ed5-536df3548daf",
   "metadata": {},
   "outputs": [],
   "source": []
  }
 ],
 "metadata": {
  "kernelspec": {
   "display_name": "Python 3 (ipykernel)",
   "language": "python",
   "name": "python3"
  },
  "language_info": {
   "codemirror_mode": {
    "name": "ipython",
    "version": 3
   },
   "file_extension": ".py",
   "mimetype": "text/x-python",
   "name": "python",
   "nbconvert_exporter": "python",
   "pygments_lexer": "ipython3",
   "version": "3.12.8"
  }
 },
 "nbformat": 4,
 "nbformat_minor": 5
}
