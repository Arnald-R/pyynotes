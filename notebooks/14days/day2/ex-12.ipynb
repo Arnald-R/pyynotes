{
 "cells": [
  {
   "cell_type": "code",
   "execution_count": null,
   "id": "1b1ad622-8bee-47b7-9246-10b766e3a119",
   "metadata": {},
   "outputs": [],
   "source": [
    "#created at 20250327"
   ]
  },
  {
   "cell_type": "code",
   "execution_count": null,
   "id": "6b7059ed-f8ff-4e4c-a97a-7a070b03bea9",
   "metadata": {},
   "outputs": [],
   "source": [
    "#Dict operations"
   ]
  },
  {
   "cell_type": "code",
   "execution_count": 1,
   "id": "1e9ae4ae-6cc1-44ff-9462-8642be8515ff",
   "metadata": {},
   "outputs": [
    {
     "name": "stdout",
     "output_type": "stream",
     "text": [
      "\n",
      " === Dict Operations === \n"
     ]
    }
   ],
   "source": [
    "print(\"\\n === Dict Operations === \")"
   ]
  },
  {
   "cell_type": "code",
   "execution_count": 3,
   "id": "190295a1-4e08-4ee4-bf03-35eeec09baff",
   "metadata": {},
   "outputs": [],
   "source": [
    "person = {\n",
    "    'name':'Arnald',\n",
    "    'age' : 23,\n",
    "    'city': 'Pollachi'\n",
    "}"
   ]
  },
  {
   "cell_type": "code",
   "execution_count": 4,
   "id": "da423b7a-d1bf-4a6c-aab0-eef7473a1ce7",
   "metadata": {},
   "outputs": [
    {
     "name": "stdout",
     "output_type": "stream",
     "text": [
      "Original Dict: {'name': 'Arnald', 'age': 23, 'city': 'Pollachi'}\n"
     ]
    }
   ],
   "source": [
    "print(f\"Original Dict: {person}\")"
   ]
  },
  {
   "cell_type": "code",
   "execution_count": 5,
   "id": "6d635f82-d1b9-40ac-bf6b-5f42a584849e",
   "metadata": {},
   "outputs": [],
   "source": [
    "person['email'] =('arnald642@gmail.com')"
   ]
  },
  {
   "cell_type": "code",
   "execution_count": 7,
   "id": "a0ce0b0e-c828-4f8f-84a0-c49f2ccbc9cd",
   "metadata": {},
   "outputs": [
    {
     "name": "stdout",
     "output_type": "stream",
     "text": [
      "After adding email:{'name': 'Arnald', 'age': 23, 'city': 'Pollachi', 'email': 'arnald642@gmail.com'}\n"
     ]
    }
   ],
   "source": [
    "print(f\"After adding email:{person}\")"
   ]
  },
  {
   "cell_type": "code",
   "execution_count": 9,
   "id": "5188b02e-dc25-4644-b989-8588dd0898e1",
   "metadata": {},
   "outputs": [
    {
     "name": "stdout",
     "output_type": "stream",
     "text": [
      "keys:['name', 'age', 'city', 'email']\n"
     ]
    }
   ],
   "source": [
    "print(f\"keys:{list(person.keys())}\")"
   ]
  },
  {
   "cell_type": "code",
   "execution_count": 10,
   "id": "835256f2-9b06-47fc-94e9-2dd8ff6c7044",
   "metadata": {},
   "outputs": [
    {
     "name": "stdout",
     "output_type": "stream",
     "text": [
      "values:['Arnald', 23, 'Pollachi', 'arnald642@gmail.com']\n"
     ]
    }
   ],
   "source": [
    "print(f\"values:{list(person.values())}\")"
   ]
  },
  {
   "cell_type": "code",
   "execution_count": null,
   "id": "c9f04786-28db-4768-ab88-9bd19cd59f28",
   "metadata": {},
   "outputs": [],
   "source": []
  }
 ],
 "metadata": {
  "kernelspec": {
   "display_name": "Python 3 (ipykernel)",
   "language": "python",
   "name": "python3"
  },
  "language_info": {
   "codemirror_mode": {
    "name": "ipython",
    "version": 3
   },
   "file_extension": ".py",
   "mimetype": "text/x-python",
   "name": "python",
   "nbconvert_exporter": "python",
   "pygments_lexer": "ipython3",
   "version": "3.12.8"
  }
 },
 "nbformat": 4,
 "nbformat_minor": 5
}
