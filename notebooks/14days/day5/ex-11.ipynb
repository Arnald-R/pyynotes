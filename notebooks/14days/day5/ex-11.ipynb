{
 "cells": [
  {
   "cell_type": "code",
   "execution_count": null,
   "id": "867add63-c9d9-4b6f-8146-62e0db29c828",
   "metadata": {},
   "outputs": [],
   "source": [
    "#created at 20250403"
   ]
  },
  {
   "cell_type": "code",
   "execution_count": null,
   "id": "82abec44-21c5-45ee-95db-ddd98b47b261",
   "metadata": {},
   "outputs": [],
   "source": [
    "#Try-Except-Else-Finally"
   ]
  },
  {
   "cell_type": "code",
   "execution_count": 1,
   "id": "b19de2fb-e6b0-43e3-bd3d-4f55c964d74e",
   "metadata": {},
   "outputs": [
    {
     "name": "stdout",
     "output_type": "stream",
     "text": [
      "\n",
      " === Try-Except-Else-Finally ===\n"
     ]
    }
   ],
   "source": [
    "print(\"\\n === Try-Except-Else-Finally ===\")"
   ]
  },
  {
   "cell_type": "code",
   "execution_count": 3,
   "id": "0c078187-cd66-496a-8a21-1ac42421b270",
   "metadata": {},
   "outputs": [],
   "source": [
    "def file_operation():\n",
    "    try:\n",
    "        file = open('sample.txt', 'r')\n",
    "    except FilNotFoundError:\n",
    "        print(\"File not found\")\n",
    "    else:\n",
    "        print(\"File opened successfully\")\n",
    "        file.close()\n",
    "    finally:\n",
    "        print(\"Operation completed\")\n",
    "        "
   ]
  },
  {
   "cell_type": "code",
   "execution_count": 4,
   "id": "86ca23a0-030c-418e-ae15-0636d2430d2f",
   "metadata": {},
   "outputs": [
    {
     "name": "stdout",
     "output_type": "stream",
     "text": [
      "File opened successfully\n",
      "Operation completed\n"
     ]
    }
   ],
   "source": [
    "file_operation()"
   ]
  },
  {
   "cell_type": "code",
   "execution_count": null,
   "id": "8c4e3154-4581-40c7-aa69-17c203047ff0",
   "metadata": {},
   "outputs": [],
   "source": []
  }
 ],
 "metadata": {
  "kernelspec": {
   "display_name": "Python 3 (ipykernel)",
   "language": "python",
   "name": "python3"
  },
  "language_info": {
   "codemirror_mode": {
    "name": "ipython",
    "version": 3
   },
   "file_extension": ".py",
   "mimetype": "text/x-python",
   "name": "python",
   "nbconvert_exporter": "python",
   "pygments_lexer": "ipython3",
   "version": "3.12.8"
  }
 },
 "nbformat": 4,
 "nbformat_minor": 5
}
