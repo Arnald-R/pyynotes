{
 "cells": [
  {
   "cell_type": "code",
   "execution_count": null,
   "id": "6f972bfd-45eb-4c20-a083-2e06783313d3",
   "metadata": {},
   "outputs": [],
   "source": [
    "#createed at 20250403"
   ]
  },
  {
   "cell_type": "code",
   "execution_count": null,
   "id": "38fb96d6-a55b-45ad-8231-53b36b1c60f4",
   "metadata": {},
   "outputs": [],
   "source": [
    "#CSV with dictionary"
   ]
  },
  {
   "cell_type": "code",
   "execution_count": null,
   "id": "bc4b09f9-4710-4e24-a374-8a43e8aa317c",
   "metadata": {},
   "outputs": [],
   "source": [
    "print(\"\\n === CSV with Dictionary ===\")"
   ]
  },
  {
   "cell_type": "code",
   "execution_count": 6,
   "id": "42f48195-eb80-4027-82c4-b39a4964b603",
   "metadata": {},
   "outputs": [],
   "source": [
    "import csv\n",
    "from typing import Dict"
   ]
  },
  {
   "cell_type": "code",
   "execution_count": 10,
   "id": "4718d42a-be96-41d6-8f0c-72e5cc446d46",
   "metadata": {},
   "outputs": [],
   "source": [
    "def csv_dict_operations():\n",
    "    #Writing csv with dictioanry\n",
    "    data = [\n",
    "        {\"name\" : \"Arnald\", \"age\" : 23, \"city\" : \"Pollachi\"},\n",
    "        {\"name\" : \"Antony\", \"age\" : 25, \"city\" : \"cbe\"}\n",
    "    ]\n",
    "    with open('dict_data.csv', 'w' ,newline = '') as file:\n",
    "        writer = csv.Dictwritter(file, fieldnames=['name', 'age', 'city'])\n",
    "        writer.writeheader()\n",
    "        writer.writerows(data)\n",
    "\n",
    "    #Reading csv as an dictionary\n",
    "    with open('dict_data.csv', 'r') as file:\n",
    "        reader = csv.DictReader(file)\n",
    "        for row in reader():\n",
    "            print(row)"
   ]
  },
  {
   "cell_type": "code",
   "execution_count": 11,
   "id": "d398799e-ca9d-45f8-a779-3799108777a4",
   "metadata": {},
   "outputs": [
    {
     "ename": "AttributeError",
     "evalue": "module 'csv' has no attribute 'Dictwritter'",
     "output_type": "error",
     "traceback": [
      "\u001b[0;31m---------------------------------------------------------------------------\u001b[0m",
      "\u001b[0;31mAttributeError\u001b[0m                            Traceback (most recent call last)",
      "Cell \u001b[0;32mIn[11], line 1\u001b[0m\n\u001b[0;32m----> 1\u001b[0m \u001b[43mcsv_dict_operations\u001b[49m\u001b[43m(\u001b[49m\u001b[43m)\u001b[49m\n",
      "Cell \u001b[0;32mIn[10], line 8\u001b[0m, in \u001b[0;36mcsv_dict_operations\u001b[0;34m()\u001b[0m\n\u001b[1;32m      3\u001b[0m data \u001b[38;5;241m=\u001b[39m [\n\u001b[1;32m      4\u001b[0m     {\u001b[38;5;124m\"\u001b[39m\u001b[38;5;124mname\u001b[39m\u001b[38;5;124m\"\u001b[39m : \u001b[38;5;124m\"\u001b[39m\u001b[38;5;124mArnald\u001b[39m\u001b[38;5;124m\"\u001b[39m, \u001b[38;5;124m\"\u001b[39m\u001b[38;5;124mage\u001b[39m\u001b[38;5;124m\"\u001b[39m : \u001b[38;5;241m23\u001b[39m, \u001b[38;5;124m\"\u001b[39m\u001b[38;5;124mcity\u001b[39m\u001b[38;5;124m\"\u001b[39m : \u001b[38;5;124m\"\u001b[39m\u001b[38;5;124mPollachi\u001b[39m\u001b[38;5;124m\"\u001b[39m},\n\u001b[1;32m      5\u001b[0m     {\u001b[38;5;124m\"\u001b[39m\u001b[38;5;124mname\u001b[39m\u001b[38;5;124m\"\u001b[39m : \u001b[38;5;124m\"\u001b[39m\u001b[38;5;124mAntony\u001b[39m\u001b[38;5;124m\"\u001b[39m, \u001b[38;5;124m\"\u001b[39m\u001b[38;5;124mage\u001b[39m\u001b[38;5;124m\"\u001b[39m : \u001b[38;5;241m25\u001b[39m, \u001b[38;5;124m\"\u001b[39m\u001b[38;5;124mcity\u001b[39m\u001b[38;5;124m\"\u001b[39m : \u001b[38;5;124m\"\u001b[39m\u001b[38;5;124mcbe\u001b[39m\u001b[38;5;124m\"\u001b[39m}\n\u001b[1;32m      6\u001b[0m ]\n\u001b[1;32m      7\u001b[0m \u001b[38;5;28;01mwith\u001b[39;00m \u001b[38;5;28mopen\u001b[39m(\u001b[38;5;124m'\u001b[39m\u001b[38;5;124mdict_data.csv\u001b[39m\u001b[38;5;124m'\u001b[39m, \u001b[38;5;124m'\u001b[39m\u001b[38;5;124mw\u001b[39m\u001b[38;5;124m'\u001b[39m ,newline \u001b[38;5;241m=\u001b[39m \u001b[38;5;124m'\u001b[39m\u001b[38;5;124m'\u001b[39m) \u001b[38;5;28;01mas\u001b[39;00m file:\n\u001b[0;32m----> 8\u001b[0m     writer \u001b[38;5;241m=\u001b[39m \u001b[43mcsv\u001b[49m\u001b[38;5;241;43m.\u001b[39;49m\u001b[43mDictwritter\u001b[49m(file, fieldnames\u001b[38;5;241m=\u001b[39m[\u001b[38;5;124m'\u001b[39m\u001b[38;5;124mname\u001b[39m\u001b[38;5;124m'\u001b[39m, \u001b[38;5;124m'\u001b[39m\u001b[38;5;124mage\u001b[39m\u001b[38;5;124m'\u001b[39m, \u001b[38;5;124m'\u001b[39m\u001b[38;5;124mcity\u001b[39m\u001b[38;5;124m'\u001b[39m])\n\u001b[1;32m      9\u001b[0m     writer\u001b[38;5;241m.\u001b[39mwriteheader()\n\u001b[1;32m     10\u001b[0m     writer\u001b[38;5;241m.\u001b[39mwriterows(data)\n",
      "\u001b[0;31mAttributeError\u001b[0m: module 'csv' has no attribute 'Dictwritter'"
     ]
    }
   ],
   "source": [
    "csv_dict_operations()"
   ]
  },
  {
   "cell_type": "code",
   "execution_count": null,
   "id": "a117b9a6-95ef-43f6-84fb-1b4b8bdd5c05",
   "metadata": {},
   "outputs": [],
   "source": []
  }
 ],
 "metadata": {
  "kernelspec": {
   "display_name": "Python 3 (ipykernel)",
   "language": "python",
   "name": "python3"
  },
  "language_info": {
   "codemirror_mode": {
    "name": "ipython",
    "version": 3
   },
   "file_extension": ".py",
   "mimetype": "text/x-python",
   "name": "python",
   "nbconvert_exporter": "python",
   "pygments_lexer": "ipython3",
   "version": "3.12.8"
  }
 },
 "nbformat": 4,
 "nbformat_minor": 5
}
