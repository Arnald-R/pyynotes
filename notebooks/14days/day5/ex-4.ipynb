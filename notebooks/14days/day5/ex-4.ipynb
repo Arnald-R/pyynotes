{
 "cells": [
  {
   "cell_type": "code",
   "execution_count": null,
   "id": "8446f397-70a3-4bd0-8abb-b798736a223b",
   "metadata": {},
   "outputs": [],
   "source": [
    "#created at 20250403"
   ]
  },
  {
   "cell_type": "code",
   "execution_count": null,
   "id": "2b96c009-1f99-480c-b25f-07fdc7c19577",
   "metadata": {},
   "outputs": [],
   "source": [
    "#Appending to files"
   ]
  },
  {
   "cell_type": "code",
   "execution_count": 1,
   "id": "b3c4b333-6e0d-49f8-bb74-061658ab03ab",
   "metadata": {},
   "outputs": [
    {
     "name": "stdout",
     "output_type": "stream",
     "text": [
      "\n",
      " === Appending to files === \n"
     ]
    }
   ],
   "source": [
    "print(\"\\n === Appending to files === \")"
   ]
  },
  {
   "cell_type": "code",
   "execution_count": 1,
   "id": "4f619e95-af39-43be-bae1-c0edbb4f0980",
   "metadata": {},
   "outputs": [],
   "source": [
    "def append_to_file():\n",
    "    with open('outout.txt','a') as file:\n",
    "        file.write(\"Append line\\n\")"
   ]
  },
  {
   "cell_type": "code",
   "execution_count": 2,
   "id": "c2e95c8d-268d-4157-9f57-00cb06d7a284",
   "metadata": {},
   "outputs": [],
   "source": [
    "append_to_file()"
   ]
  },
  {
   "cell_type": "code",
   "execution_count": 3,
   "id": "fc17d496-1051-425f-8a01-31e40d9941ff",
   "metadata": {},
   "outputs": [
    {
     "name": "stdout",
     "output_type": "stream",
     "text": [
      "Appended the content successfully\n"
     ]
    }
   ],
   "source": [
    "print(\"Appended the content successfully\")"
   ]
  },
  {
   "cell_type": "code",
   "execution_count": null,
   "id": "4e77a127-e0aa-44d0-8819-7b9a048a3088",
   "metadata": {},
   "outputs": [],
   "source": []
  }
 ],
 "metadata": {
  "kernelspec": {
   "display_name": "Python 3 (ipykernel)",
   "language": "python",
   "name": "python3"
  },
  "language_info": {
   "codemirror_mode": {
    "name": "ipython",
    "version": 3
   },
   "file_extension": ".py",
   "mimetype": "text/x-python",
   "name": "python",
   "nbconvert_exporter": "python",
   "pygments_lexer": "ipython3",
   "version": "3.12.8"
  }
 },
 "nbformat": 4,
 "nbformat_minor": 5
}
