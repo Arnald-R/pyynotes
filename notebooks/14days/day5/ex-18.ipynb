{
 "cells": [
  {
   "cell_type": "code",
   "execution_count": null,
   "id": "2e123772-1a9a-4797-9a3f-aa854e5f72ad",
   "metadata": {},
   "outputs": [],
   "source": [
    "#created at 20250403"
   ]
  },
  {
   "cell_type": "code",
   "execution_count": null,
   "id": "46fdc846-ef1e-4f82-a82c-d3764929af6f",
   "metadata": {},
   "outputs": [],
   "source": [
    "#file iteration with Error handling"
   ]
  },
  {
   "cell_type": "code",
   "execution_count": 1,
   "id": "a98a21d9-9515-44d2-8276-a36b6f413d41",
   "metadata": {},
   "outputs": [
    {
     "name": "stdout",
     "output_type": "stream",
     "text": [
      "\n",
      " === File Iteration ===\n"
     ]
    }
   ],
   "source": [
    "print(\"\\n === File Iteration ===\")"
   ]
  },
  {
   "cell_type": "code",
   "execution_count": 2,
   "id": "d9c9e191-e977-4a2c-b8af-d00cfcb054bd",
   "metadata": {},
   "outputs": [],
   "source": [
    "def safe_file_iteration():\n",
    "    try:\n",
    "        with open('sample.txt', 'r') as file:\n",
    "            while True:\n",
    "                line = file.readline()\n",
    "                if not line:\n",
    "                    break\n",
    "                print(f\"Line:{line.strip()}\")\n",
    "    except Exception as e:\n",
    "        print(f\"error handling iteration\")\n",
    "        "
   ]
  },
  {
   "cell_type": "code",
   "execution_count": 3,
   "id": "79e81608-625e-4ea3-8aa8-523af7cdc1d0",
   "metadata": {},
   "outputs": [
    {
     "name": "stdout",
     "output_type": "stream",
     "text": [
      "Line:hello, This is first line\n",
      "Line:This is second line\n"
     ]
    }
   ],
   "source": [
    "safe_file_iteration()"
   ]
  },
  {
   "cell_type": "code",
   "execution_count": null,
   "id": "26c8ccb7-6f5f-4850-a7df-820a6eda02eb",
   "metadata": {},
   "outputs": [],
   "source": []
  }
 ],
 "metadata": {
  "kernelspec": {
   "display_name": "Python 3 (ipykernel)",
   "language": "python",
   "name": "python3"
  },
  "language_info": {
   "codemirror_mode": {
    "name": "ipython",
    "version": 3
   },
   "file_extension": ".py",
   "mimetype": "text/x-python",
   "name": "python",
   "nbconvert_exporter": "python",
   "pygments_lexer": "ipython3",
   "version": "3.12.8"
  }
 },
 "nbformat": 4,
 "nbformat_minor": 5
}
