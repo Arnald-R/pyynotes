{
 "cells": [
  {
   "cell_type": "code",
   "execution_count": null,
   "id": "474ffcc4-b737-4275-8bd0-5ed44f10b235",
   "metadata": {},
   "outputs": [],
   "source": [
    "#created at 20250403"
   ]
  },
  {
   "cell_type": "code",
   "execution_count": null,
   "id": "17ff7e0e-6bd5-4ce9-9be1-240305ab0b5e",
   "metadata": {},
   "outputs": [],
   "source": [
    "#Directory Operations"
   ]
  },
  {
   "cell_type": "code",
   "execution_count": 3,
   "id": "1bbc231c-3ae2-47e8-b3da-ddceab2f68c2",
   "metadata": {},
   "outputs": [],
   "source": [
    "import os"
   ]
  },
  {
   "cell_type": "code",
   "execution_count": null,
   "id": "785b0c4c-8146-4ed8-8409-8be765ff0ca5",
   "metadata": {},
   "outputs": [],
   "source": []
  },
  {
   "cell_type": "code",
   "execution_count": 4,
   "id": "7a538f1b-bb11-4b16-898c-3cfd28db127c",
   "metadata": {},
   "outputs": [
    {
     "name": "stdout",
     "output_type": "stream",
     "text": [
      "\n",
      " === Directory Operations ===\n"
     ]
    }
   ],
   "source": [
    "print(\"\\n === Directory Operations ===\")"
   ]
  },
  {
   "cell_type": "code",
   "execution_count": 5,
   "id": "54152bdc-e587-42d4-97b8-ad6365aa8f46",
   "metadata": {},
   "outputs": [],
   "source": [
    "def directory_ops():\n",
    "    os.makedirs('test_dir', exist_ok=True) #creating directory\n",
    "\n",
    "    print(f\"Directory contents:{os.listdir('.')}\")#listingthe directory contents\n",
    "\n",
    "    os.rmdir('test_dir') #Removing dir"
   ]
  },
  {
   "cell_type": "code",
   "execution_count": 6,
   "id": "5579bcd6-d445-4990-af2c-e9e86c17f3e8",
   "metadata": {},
   "outputs": [
    {
     "name": "stdout",
     "output_type": "stream",
     "text": [
      "Directory contents:['binary.dat', 'ex-11.ipynb', 'ex-16.ipynb', 'ex-13.ipynb', 'ex-15.ipynb', 'ex-18.ipynb', 'ex-14.ipynb', 'ex-1.ipynb', 'ex-2.ipynb', 'ex-12.ipynb', 'ex-7.ipynb', '.ipynb_checkpoints', 'data.csv', 'ex-10.ipynb', 'test_dir', 'ex-4.ipynb', 'sample.txt', 'output.txt', 'ex-20.ipynb', 'outout.txt', 'ex-3.ipynb', 'ex-8.ipynb', 'ex-6.ipynb', 'ex-19.ipynb', 'ex-5.ipynb', 'ex-9.ipynb', 'ex-17.ipynb', 'data.json']\n"
     ]
    }
   ],
   "source": [
    "directory_ops()"
   ]
  },
  {
   "cell_type": "code",
   "execution_count": null,
   "id": "f98a4c5c-2f72-4f47-885e-d540dbb032ed",
   "metadata": {},
   "outputs": [],
   "source": []
  }
 ],
 "metadata": {
  "kernelspec": {
   "display_name": "Python 3 (ipykernel)",
   "language": "python",
   "name": "python3"
  },
  "language_info": {
   "codemirror_mode": {
    "name": "ipython",
    "version": 3
   },
   "file_extension": ".py",
   "mimetype": "text/x-python",
   "name": "python",
   "nbconvert_exporter": "python",
   "pygments_lexer": "ipython3",
   "version": "3.12.8"
  }
 },
 "nbformat": 4,
 "nbformat_minor": 5
}
