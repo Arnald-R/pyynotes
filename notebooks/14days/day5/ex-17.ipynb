{
 "cells": [
  {
   "cell_type": "code",
   "execution_count": null,
   "id": "4f914c0d-a466-4d80-8e6b-7380526ae845",
   "metadata": {},
   "outputs": [],
   "source": [
    "#created at 20250403"
   ]
  },
  {
   "cell_type": "code",
   "execution_count": null,
   "id": "032c2bf6-c541-42a6-af40-714b036a0c40",
   "metadata": {},
   "outputs": [],
   "source": [
    "#Context Manager Exception"
   ]
  },
  {
   "cell_type": "code",
   "execution_count": 1,
   "id": "8b157eec-f7a5-4a0e-b1e3-7455354ee70f",
   "metadata": {},
   "outputs": [
    {
     "name": "stdout",
     "output_type": "stream",
     "text": [
      "\n",
      " === Context Manager Exception ===\n"
     ]
    }
   ],
   "source": [
    "print(\"\\n === Context Manager Exception ===\")"
   ]
  },
  {
   "cell_type": "code",
   "execution_count": 2,
   "id": "8fc4fb7c-7488-47de-86fc-47726b1b7e03",
   "metadata": {},
   "outputs": [],
   "source": [
    "class FileManager:\n",
    "    def __init__(self, filename):\n",
    "        self.filename = filename\n",
    "        self.file     = None\n",
    "\n",
    "    def __enter__(self):\n",
    "        self.file = open(self.filename, 'r')\n",
    "        return self.file\n",
    "\n",
    "    def __exit__(self, exc_type, exc_val, exc_tb):\n",
    "        if self.file:\n",
    "            self.file.close()\n",
    "        return false"
   ]
  },
  {
   "cell_type": "code",
   "execution_count": 3,
   "id": "188bc128-fd4b-4ec2-8043-4788f6dacbd4",
   "metadata": {},
   "outputs": [
    {
     "name": "stdout",
     "output_type": "stream",
     "text": [
      "content read successfully\n",
      "Error:name 'false' is not defined\n"
     ]
    }
   ],
   "source": [
    "try:\n",
    "    with FileManager('sample.txt') as file:\n",
    "        content = file.read()\n",
    "        print(\"content read successfully\")\n",
    "except Exception as e:\n",
    "    print(f\"Error:{e}\")"
   ]
  },
  {
   "cell_type": "code",
   "execution_count": null,
   "id": "e950de4f-f003-41be-9c17-2a49a8fa77a1",
   "metadata": {},
   "outputs": [],
   "source": []
  }
 ],
 "metadata": {
  "kernelspec": {
   "display_name": "Python 3 (ipykernel)",
   "language": "python",
   "name": "python3"
  },
  "language_info": {
   "codemirror_mode": {
    "name": "ipython",
    "version": 3
   },
   "file_extension": ".py",
   "mimetype": "text/x-python",
   "name": "python",
   "nbconvert_exporter": "python",
   "pygments_lexer": "ipython3",
   "version": "3.12.8"
  }
 },
 "nbformat": 4,
 "nbformat_minor": 5
}
