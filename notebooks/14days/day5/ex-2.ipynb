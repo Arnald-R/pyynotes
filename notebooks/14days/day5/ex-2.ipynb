{
 "cells": [
  {
   "cell_type": "code",
   "execution_count": null,
   "id": "be36e500-1cbd-4dbd-8a6e-5c77fb907164",
   "metadata": {},
   "outputs": [],
   "source": [
    "#created at 20250403"
   ]
  },
  {
   "cell_type": "code",
   "execution_count": null,
   "id": "db6bf167-d7d3-4e20-a4a9-4fdada1e2a4d",
   "metadata": {},
   "outputs": [],
   "source": [
    "#Reading file line by line"
   ]
  },
  {
   "cell_type": "code",
   "execution_count": 1,
   "id": "42716978-2c94-4bb3-a023-fe5fa3844c2c",
   "metadata": {},
   "outputs": [
    {
     "name": "stdout",
     "output_type": "stream",
     "text": [
      "\n",
      " === Reading File ===\n"
     ]
    }
   ],
   "source": [
    "print(\"\\n === Reading File ===\")"
   ]
  },
  {
   "cell_type": "code",
   "execution_count": 2,
   "id": "4460be41-f0bb-410f-aec9-31316c0da6a8",
   "metadata": {},
   "outputs": [],
   "source": [
    "def read_file_lines():\n",
    "    with open('sample.txt','r') as file:\n",
    "        for line_number, line in enumerate(file, 1):\n",
    "            print(f\"line:{line_number} :{line.strip()}\")"
   ]
  },
  {
   "cell_type": "code",
   "execution_count": 3,
   "id": "b609de7a-3346-456c-9429-a0f9387aa82d",
   "metadata": {},
   "outputs": [
    {
     "name": "stdout",
     "output_type": "stream",
     "text": [
      "line:1 :hello, This is first line\n",
      "line:2 :This is second line\n"
     ]
    }
   ],
   "source": [
    "read_file_lines()"
   ]
  },
  {
   "cell_type": "code",
   "execution_count": null,
   "id": "d0aee8b8-3481-4c70-9dcf-cd98376eec32",
   "metadata": {},
   "outputs": [],
   "source": []
  }
 ],
 "metadata": {
  "kernelspec": {
   "display_name": "Python 3 (ipykernel)",
   "language": "python",
   "name": "python3"
  },
  "language_info": {
   "codemirror_mode": {
    "name": "ipython",
    "version": 3
   },
   "file_extension": ".py",
   "mimetype": "text/x-python",
   "name": "python",
   "nbconvert_exporter": "python",
   "pygments_lexer": "ipython3",
   "version": "3.12.8"
  }
 },
 "nbformat": 4,
 "nbformat_minor": 5
}
