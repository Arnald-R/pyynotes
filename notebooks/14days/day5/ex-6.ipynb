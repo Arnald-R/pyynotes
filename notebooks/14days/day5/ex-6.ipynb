{
 "cells": [
  {
   "cell_type": "code",
   "execution_count": null,
   "id": "191c1876-5c95-48f7-bffc-ffe4cd375e89",
   "metadata": {},
   "outputs": [],
   "source": [
    "#created at 20250403"
   ]
  },
  {
   "cell_type": "code",
   "execution_count": null,
   "id": "03dd518f-9fc7-4ecd-9936-4b1f13a343a0",
   "metadata": {},
   "outputs": [],
   "source": [
    "#CSV file reading"
   ]
  },
  {
   "cell_type": "code",
   "execution_count": 1,
   "id": "61a04289-71f8-4cfd-957b-d748b99329d5",
   "metadata": {},
   "outputs": [
    {
     "name": "stdout",
     "output_type": "stream",
     "text": [
      "\n",
      " === Csv file reading === \n"
     ]
    }
   ],
   "source": [
    "print(\"\\n === Csv file reading === \")"
   ]
  },
  {
   "cell_type": "code",
   "execution_count": 2,
   "id": "b747c45c-6976-4f6d-b324-e2cfab37cbdb",
   "metadata": {},
   "outputs": [],
   "source": [
    "import csv"
   ]
  },
  {
   "cell_type": "code",
   "execution_count": 5,
   "id": "df5f6097-d14b-4771-87ff-413bc2cd44cf",
   "metadata": {},
   "outputs": [],
   "source": [
    "def read_csv_file():\n",
    "    with open('data.csv', 'r') as file:\n",
    "        reader = csv.reader(file)\n",
    "        for row in reader:\n",
    "            print(f\"reader:{row}\")"
   ]
  },
  {
   "cell_type": "code",
   "execution_count": 6,
   "id": "c4a0ff1d-f8d8-490b-84d6-d2fd91358f9d",
   "metadata": {},
   "outputs": [
    {
     "name": "stdout",
     "output_type": "stream",
     "text": [
      "reader:['name', 'age', 'city']\n",
      "reader:['Arnald', '23', 'Pollachi']\n",
      "reader:['Ambu', '26', 'Udumalai']\n"
     ]
    }
   ],
   "source": [
    "read_csv_file()"
   ]
  },
  {
   "cell_type": "code",
   "execution_count": null,
   "id": "3cf1bf98-47d8-452a-a4a8-4caee17c56cb",
   "metadata": {},
   "outputs": [],
   "source": []
  }
 ],
 "metadata": {
  "kernelspec": {
   "display_name": "Python 3 (ipykernel)",
   "language": "python",
   "name": "python3"
  },
  "language_info": {
   "codemirror_mode": {
    "name": "ipython",
    "version": 3
   },
   "file_extension": ".py",
   "mimetype": "text/x-python",
   "name": "python",
   "nbconvert_exporter": "python",
   "pygments_lexer": "ipython3",
   "version": "3.12.8"
  }
 },
 "nbformat": 4,
 "nbformat_minor": 5
}
