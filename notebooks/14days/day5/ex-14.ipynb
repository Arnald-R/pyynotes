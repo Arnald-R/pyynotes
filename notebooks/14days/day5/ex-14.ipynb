{
 "cells": [
  {
   "cell_type": "code",
   "execution_count": null,
   "id": "aee1e679-9503-46f3-bd6a-8bdf54afd98f",
   "metadata": {},
   "outputs": [],
   "source": [
    "#created at 20250403"
   ]
  },
  {
   "cell_type": "code",
   "execution_count": null,
   "id": "dfd74e5b-c0c5-4433-aa99-b001b1b25d5a",
   "metadata": {},
   "outputs": [],
   "source": [
    "#Binary File Handling"
   ]
  },
  {
   "cell_type": "code",
   "execution_count": 1,
   "id": "c4aedc90-4b13-4e27-9ebd-fad9f407f5db",
   "metadata": {},
   "outputs": [
    {
     "name": "stdout",
     "output_type": "stream",
     "text": [
      "\n",
      " === Binary File Handling ===\n"
     ]
    }
   ],
   "source": [
    "print(\"\\n === Binary File Handling ===\")"
   ]
  },
  {
   "cell_type": "code",
   "execution_count": 2,
   "id": "59fe0d10-1c4e-48b7-a06b-fc3e087b3f85",
   "metadata": {},
   "outputs": [],
   "source": [
    "def binary_file_ops():\n",
    "    #writing Binary data\n",
    "    with open('binary.dat', 'wb') as file:\n",
    "        file.write(bytes([65, 66, 67, 68]))\n",
    "\n",
    "    with open('binary.dat', 'rb') as file:\n",
    "        data = file.read()\n",
    "        print(f\"binary data:{data}\")"
   ]
  },
  {
   "cell_type": "code",
   "execution_count": 3,
   "id": "7df15e97-1445-4761-bfd8-f6db7b29c581",
   "metadata": {},
   "outputs": [
    {
     "name": "stdout",
     "output_type": "stream",
     "text": [
      "binary data:b'ABCD'\n"
     ]
    }
   ],
   "source": [
    "binary_file_ops()"
   ]
  },
  {
   "cell_type": "code",
   "execution_count": null,
   "id": "e1e330cc-8758-42a8-91a3-0d74c15d7523",
   "metadata": {},
   "outputs": [],
   "source": []
  }
 ],
 "metadata": {
  "kernelspec": {
   "display_name": "Python 3 (ipykernel)",
   "language": "python",
   "name": "python3"
  },
  "language_info": {
   "codemirror_mode": {
    "name": "ipython",
    "version": 3
   },
   "file_extension": ".py",
   "mimetype": "text/x-python",
   "name": "python",
   "nbconvert_exporter": "python",
   "pygments_lexer": "ipython3",
   "version": "3.12.8"
  }
 },
 "nbformat": 4,
 "nbformat_minor": 5
}
