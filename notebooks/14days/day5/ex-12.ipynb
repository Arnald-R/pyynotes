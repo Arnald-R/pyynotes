{
 "cells": [
  {
   "cell_type": "code",
   "execution_count": null,
   "id": "76a8c01e-b636-44bc-9395-1e6a1f11a7c1",
   "metadata": {},
   "outputs": [],
   "source": [
    "#created at 20250403"
   ]
  },
  {
   "cell_type": "code",
   "execution_count": null,
   "id": "8300a9f1-3dd4-4612-a414-32a38cc7f285",
   "metadata": {},
   "outputs": [],
   "source": [
    "#Custom Exception"
   ]
  },
  {
   "cell_type": "code",
   "execution_count": 1,
   "id": "6faf9fbd-6afe-4317-bcd1-8d2aa33193de",
   "metadata": {},
   "outputs": [
    {
     "name": "stdout",
     "output_type": "stream",
     "text": [
      "\n",
      " === Custom Exception ===\n"
     ]
    }
   ],
   "source": [
    "print(\"\\n === Custom Exception ===\")"
   ]
  },
  {
   "cell_type": "code",
   "execution_count": 2,
   "id": "33698d1b-642d-43e5-9368-bf6f37ac0091",
   "metadata": {},
   "outputs": [],
   "source": [
    "class AgeError(Exception):\n",
    "    pass"
   ]
  },
  {
   "cell_type": "code",
   "execution_count": 3,
   "id": "e65dde74-aaf2-4315-9b98-cef0b7ebd3f6",
   "metadata": {},
   "outputs": [],
   "source": [
    "def verify_age(age):\n",
    "    try:\n",
    "        if age < 0:\n",
    "            raise AgeError(\"Age cannot be Negative\")\n",
    "        print(f\"Age verified:{age}\")\n",
    "    except AgeError as e:\n",
    "        print(f\"Error:{e}\")"
   ]
  },
  {
   "cell_type": "code",
   "execution_count": 4,
   "id": "67d6c1a3-9197-409c-b775-f53b7c8da4b3",
   "metadata": {},
   "outputs": [
    {
     "name": "stdout",
     "output_type": "stream",
     "text": [
      "Error:Age cannot be Negative\n"
     ]
    }
   ],
   "source": [
    "verify_age(-34)"
   ]
  },
  {
   "cell_type": "code",
   "execution_count": 5,
   "id": "10eef5d3-ba46-4800-8a13-80fec14d548d",
   "metadata": {},
   "outputs": [
    {
     "name": "stdout",
     "output_type": "stream",
     "text": [
      "Age verified:56\n"
     ]
    }
   ],
   "source": [
    "verify_age(56)"
   ]
  },
  {
   "cell_type": "code",
   "execution_count": null,
   "id": "6dcc94de-40fe-4e65-9141-a310f49ee4de",
   "metadata": {},
   "outputs": [],
   "source": []
  }
 ],
 "metadata": {
  "kernelspec": {
   "display_name": "Python 3 (ipykernel)",
   "language": "python",
   "name": "python3"
  },
  "language_info": {
   "codemirror_mode": {
    "name": "ipython",
    "version": 3
   },
   "file_extension": ".py",
   "mimetype": "text/x-python",
   "name": "python",
   "nbconvert_exporter": "python",
   "pygments_lexer": "ipython3",
   "version": "3.12.8"
  }
 },
 "nbformat": 4,
 "nbformat_minor": 5
}
