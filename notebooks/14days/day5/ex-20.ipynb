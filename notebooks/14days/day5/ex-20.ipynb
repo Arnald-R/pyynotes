{
 "cells": [
  {
   "cell_type": "code",
   "execution_count": null,
   "id": "b00cb23d-239f-45e7-9270-ea76d93cc133",
   "metadata": {},
   "outputs": [],
   "source": [
    "#created at 20250403"
   ]
  },
  {
   "cell_type": "code",
   "execution_count": null,
   "id": "2ed07103-d926-4e4d-a0e5-01765555f549",
   "metadata": {},
   "outputs": [],
   "source": [
    "#Exception chaining "
   ]
  },
  {
   "cell_type": "code",
   "execution_count": 1,
   "id": "63e7bdba-c453-46ff-8b29-e5113c8e777e",
   "metadata": {},
   "outputs": [
    {
     "name": "stdout",
     "output_type": "stream",
     "text": [
      "\n",
      " === Exception Chaining ===\n"
     ]
    }
   ],
   "source": [
    "print(\"\\n === Exception Chaining ===\")"
   ]
  },
  {
   "cell_type": "code",
   "execution_count": 3,
   "id": "a5964a48-f534-4c79-af86-25113f042f96",
   "metadata": {},
   "outputs": [],
   "source": [
    "def process_file_data():\n",
    "    try:\n",
    "        with open('nonexistent.txt', 'r') as file:\n",
    "            data = file.read()\n",
    "            return int(data)\n",
    "    except FileNotFoundError as e:\n",
    "        raise ValueError(\"Could Not process the data\") from e\n",
    "\n",
    "                    "
   ]
  },
  {
   "cell_type": "code",
   "execution_count": 4,
   "id": "0f021bad-c124-4825-95dc-a89674dfd50f",
   "metadata": {},
   "outputs": [
    {
     "name": "stdout",
     "output_type": "stream",
     "text": [
      "Error:Could Not process the data\n",
      "caused by: [Errno 2] No such file or directory: 'nonexistent.txt'\n"
     ]
    }
   ],
   "source": [
    "try:\n",
    "    process_file_data()\n",
    "except ValueError as e:\n",
    "    print(f\"Error:{e}\")\n",
    "    if e.__cause__:\n",
    "        print(f\"caused by: {e.__cause__}\")"
   ]
  },
  {
   "cell_type": "code",
   "execution_count": null,
   "id": "326a7e01-8d30-4586-9aa5-e5899fc04f0b",
   "metadata": {},
   "outputs": [],
   "source": [
    "#Cleanup created files\n",
    "for file  in ['sample.txt', 'output.txt', 'data.csv', 'data.json', 'binary.dat', 'modes.txt', 'dict_data.csv']\n",
    "    try:\n",
    "        os.remove(file)\n",
    "    except OSError:\n",
    "        pass"
   ]
  }
 ],
 "metadata": {
  "kernelspec": {
   "display_name": "Python 3 (ipykernel)",
   "language": "python",
   "name": "python3"
  },
  "language_info": {
   "codemirror_mode": {
    "name": "ipython",
    "version": 3
   },
   "file_extension": ".py",
   "mimetype": "text/x-python",
   "name": "python",
   "nbconvert_exporter": "python",
   "pygments_lexer": "ipython3",
   "version": "3.12.8"
  }
 },
 "nbformat": 4,
 "nbformat_minor": 5
}
