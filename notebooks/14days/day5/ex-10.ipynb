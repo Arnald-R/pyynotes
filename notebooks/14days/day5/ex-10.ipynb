{
 "cells": [
  {
   "cell_type": "code",
   "execution_count": null,
   "id": "f6b049b5-0cda-4eb1-b1f2-d855efda63e6",
   "metadata": {},
   "outputs": [],
   "source": [
    "#created at 20250403"
   ]
  },
  {
   "cell_type": "code",
   "execution_count": null,
   "id": "d1f5e02f-f9c7-4b0a-bd1d-5c4b5e24eab3",
   "metadata": {},
   "outputs": [],
   "source": [
    "#Multiple Exception Handling"
   ]
  },
  {
   "cell_type": "code",
   "execution_count": 1,
   "id": "8a0d8831-ebb4-4b0b-89d8-bb7b0b53439a",
   "metadata": {},
   "outputs": [
    {
     "name": "stdout",
     "output_type": "stream",
     "text": [
      "\n",
      " === Multiple Exception Handling ===\n"
     ]
    }
   ],
   "source": [
    "print(\"\\n === Multiple Exception Handling ===\")"
   ]
  },
  {
   "cell_type": "code",
   "execution_count": 4,
   "id": "6a04c97f-686e-4265-bc9e-58bc7699f7fe",
   "metadata": {},
   "outputs": [],
   "source": [
    "def process_data(data):\n",
    "    try:\n",
    "        value = int(data)\n",
    "        result = 100 / value\n",
    "        print(f\"result:{result}\")\n",
    "    except(ValueError, ZeroDivisionError) as e:\n",
    "        print(f\"Error occured:{type(e).__name__}\")"
   ]
  },
  {
   "cell_type": "code",
   "execution_count": 5,
   "id": "20ebb556-35bc-4d75-b221-48295fc52967",
   "metadata": {},
   "outputs": [
    {
     "name": "stdout",
     "output_type": "stream",
     "text": [
      "Error occured:ValueError\n"
     ]
    }
   ],
   "source": [
    "process_data(\"abc\")"
   ]
  },
  {
   "cell_type": "code",
   "execution_count": 6,
   "id": "52d72095-78a8-4cab-a359-37e3730346ec",
   "metadata": {},
   "outputs": [
    {
     "name": "stdout",
     "output_type": "stream",
     "text": [
      "Error occured:ZeroDivisionError\n"
     ]
    }
   ],
   "source": [
    "process_data(\"0\")"
   ]
  },
  {
   "cell_type": "code",
   "execution_count": null,
   "id": "3136d883-8d17-42df-91b2-0ad98493dd07",
   "metadata": {},
   "outputs": [],
   "source": []
  }
 ],
 "metadata": {
  "kernelspec": {
   "display_name": "Python 3 (ipykernel)",
   "language": "python",
   "name": "python3"
  },
  "language_info": {
   "codemirror_mode": {
    "name": "ipython",
    "version": 3
   },
   "file_extension": ".py",
   "mimetype": "text/x-python",
   "name": "python",
   "nbconvert_exporter": "python",
   "pygments_lexer": "ipython3",
   "version": "3.12.8"
  }
 },
 "nbformat": 4,
 "nbformat_minor": 5
}
