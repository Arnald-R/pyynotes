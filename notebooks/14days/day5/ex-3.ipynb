{
 "cells": [
  {
   "cell_type": "code",
   "execution_count": null,
   "id": "de0e7d16-57cc-4b79-9fd6-6df835780336",
   "metadata": {},
   "outputs": [],
   "source": [
    "#created at 2025040"
   ]
  },
  {
   "cell_type": "code",
   "execution_count": null,
   "id": "704a4d00-3ec1-4c2e-8c0a-eac07e7fdfd2",
   "metadata": {},
   "outputs": [],
   "source": [
    "#Writing files"
   ]
  },
  {
   "cell_type": "code",
   "execution_count": 1,
   "id": "6f739f9c-a088-47f7-a5ba-cb23c0c053eb",
   "metadata": {},
   "outputs": [
    {
     "name": "stdout",
     "output_type": "stream",
     "text": [
      "\n",
      " === writting the files === \n"
     ]
    }
   ],
   "source": [
    "print(\"\\n === writting the files === \")"
   ]
  },
  {
   "cell_type": "code",
   "execution_count": 3,
   "id": "7a2e6e74-a57c-4db7-8221-68f450890d7c",
   "metadata": {},
   "outputs": [],
   "source": [
    "def write_file_demo():\n",
    "    with open('output.txt','w') as file:\n",
    "        file.write(\"first line\\n\")\n",
    "        file.write(\"second line\\n\")\n",
    "        lines = [\"Third line \\n\",\"Fourth line\\n\"]\n",
    "        file.writelines(lines)"
   ]
  },
  {
   "cell_type": "code",
   "execution_count": 4,
   "id": "9fa5ffea-724a-45b5-bf5e-5ce9bb68ac04",
   "metadata": {},
   "outputs": [],
   "source": [
    "write_file_demo()"
   ]
  },
  {
   "cell_type": "code",
   "execution_count": 5,
   "id": "79c628b3-a96f-4e78-aa13-5d8c800feb56",
   "metadata": {},
   "outputs": [
    {
     "name": "stdout",
     "output_type": "stream",
     "text": [
      "written the pdf successfully\n"
     ]
    }
   ],
   "source": [
    "print(\"written the pdf successfully\")"
   ]
  },
  {
   "cell_type": "code",
   "execution_count": null,
   "id": "08a6aa20-4514-480a-869c-d8dff4a8e0c9",
   "metadata": {},
   "outputs": [],
   "source": []
  }
 ],
 "metadata": {
  "kernelspec": {
   "display_name": "Python 3 (ipykernel)",
   "language": "python",
   "name": "python3"
  },
  "language_info": {
   "codemirror_mode": {
    "name": "ipython",
    "version": 3
   },
   "file_extension": ".py",
   "mimetype": "text/x-python",
   "name": "python",
   "nbconvert_exporter": "python",
   "pygments_lexer": "ipython3",
   "version": "3.12.8"
  }
 },
 "nbformat": 4,
 "nbformat_minor": 5
}
