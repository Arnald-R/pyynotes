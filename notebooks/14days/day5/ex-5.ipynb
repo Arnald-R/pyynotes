{
 "cells": [
  {
   "cell_type": "code",
   "execution_count": null,
   "id": "7a660881-3700-41ab-b7ea-bdb0f183305d",
   "metadata": {},
   "outputs": [],
   "source": [
    "#created at 20250403"
   ]
  },
  {
   "cell_type": "code",
   "execution_count": null,
   "id": "89807e61-d4ea-4de8-bf0a-dd1a8a5d2e81",
   "metadata": {},
   "outputs": [],
   "source": [
    "#Csv file writing"
   ]
  },
  {
   "cell_type": "code",
   "execution_count": 1,
   "id": "60de91b1-ae7b-46c2-9da9-ea6a62ef6110",
   "metadata": {},
   "outputs": [
    {
     "name": "stdout",
     "output_type": "stream",
     "text": [
      "\n",
      " === Csv file Writing ===\n"
     ]
    }
   ],
   "source": [
    "print(\"\\n === Csv file Writing ===\")"
   ]
  },
  {
   "cell_type": "code",
   "execution_count": 3,
   "id": "6f00ca75-0448-4976-8caa-17d4fbe9f37e",
   "metadata": {},
   "outputs": [],
   "source": [
    "import csv\n",
    "import json"
   ]
  },
  {
   "cell_type": "code",
   "execution_count": 4,
   "id": "6cd13d0f-9aad-4920-bc6c-d396bde57f45",
   "metadata": {},
   "outputs": [],
   "source": [
    "def write_csv_file():\n",
    "    data = [\n",
    "        ['name', 'age', 'city'],\n",
    "        ['Arnald', 23, 'Pollachi'],\n",
    "        ['Ambu', 26, 'Udumalai']\n",
    "    ]\n",
    "    with open('data.csv', 'w', newline = '') as file:\n",
    "        writer = csv.writer(file)\n",
    "        writer.writerows(data)"
   ]
  },
  {
   "cell_type": "code",
   "execution_count": 5,
   "id": "34ff1876-1f05-4afd-a631-e2468e789163",
   "metadata": {},
   "outputs": [],
   "source": [
    "write_csv_file()"
   ]
  },
  {
   "cell_type": "code",
   "execution_count": 6,
   "id": "8ba19edc-9dd6-4a79-aa60-2a78b672eb0c",
   "metadata": {},
   "outputs": [
    {
     "name": "stdout",
     "output_type": "stream",
     "text": [
      "Csv file written successfully\n"
     ]
    }
   ],
   "source": [
    "print(\"Csv file written successfully\")"
   ]
  },
  {
   "cell_type": "code",
   "execution_count": null,
   "id": "23f3ccc7-2f92-47a8-9e9a-2a0d8263c63e",
   "metadata": {},
   "outputs": [],
   "source": []
  }
 ],
 "metadata": {
  "kernelspec": {
   "display_name": "Python 3 (ipykernel)",
   "language": "python",
   "name": "python3"
  },
  "language_info": {
   "codemirror_mode": {
    "name": "ipython",
    "version": 3
   },
   "file_extension": ".py",
   "mimetype": "text/x-python",
   "name": "python",
   "nbconvert_exporter": "python",
   "pygments_lexer": "ipython3",
   "version": "3.12.8"
  }
 },
 "nbformat": 4,
 "nbformat_minor": 5
}
