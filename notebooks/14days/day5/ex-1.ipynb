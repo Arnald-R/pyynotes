{
 "cells": [
  {
   "cell_type": "code",
   "execution_count": null,
   "id": "3d439318-30fc-4834-b714-752a0ff72c0a",
   "metadata": {},
   "outputs": [],
   "source": [
    "#created at 20250403"
   ]
  },
  {
   "cell_type": "code",
   "execution_count": null,
   "id": "ee7f537b-23fe-49b4-bf90-41a9ff5936a0",
   "metadata": {},
   "outputs": [],
   "source": [
    "#File Handling & Exception Handling"
   ]
  },
  {
   "cell_type": "code",
   "execution_count": null,
   "id": "2e566d8f-e00a-4c1d-ac70-7e41410ff2c5",
   "metadata": {},
   "outputs": [],
   "source": [
    "#Basic File Handling"
   ]
  },
  {
   "cell_type": "code",
   "execution_count": 1,
   "id": "e0615d91-abf8-410c-b378-5bc26247f9d9",
   "metadata": {},
   "outputs": [
    {
     "name": "stdout",
     "output_type": "stream",
     "text": [
      "\n",
      " === Basic File Handling ===\n"
     ]
    }
   ],
   "source": [
    "print(\"\\n === Basic File Handling ===\")"
   ]
  },
  {
   "cell_type": "code",
   "execution_count": 3,
   "id": "73dd8955-e102-49fa-8b73-2ee597f691a0",
   "metadata": {},
   "outputs": [],
   "source": [
    "#Basic file reading\n",
    "def read_file_basic():\n",
    "    try:\n",
    "        with open('sample.txt','r') as file:\n",
    "            content = file.read()\n",
    "            print(f\"file contents:{content}\")\n",
    "    except FileNotFoundError:\n",
    "        print(\"File not Found\")"
   ]
  },
  {
   "cell_type": "code",
   "execution_count": 4,
   "id": "e0620508-293d-45bf-9c56-464a8300705c",
   "metadata": {},
   "outputs": [],
   "source": [
    "#create sample.txt for testing\n",
    "with open('sample.txt','w') as file:\n",
    "    file.write(\"hello, This is first line \\n This is second line\")"
   ]
  },
  {
   "cell_type": "code",
   "execution_count": 5,
   "id": "666d80db-8283-4816-a48a-14b025cd9b2f",
   "metadata": {},
   "outputs": [
    {
     "name": "stdout",
     "output_type": "stream",
     "text": [
      "file contents:hello, This is first line \n",
      " This is second line\n"
     ]
    }
   ],
   "source": [
    "read_file_basic()"
   ]
  },
  {
   "cell_type": "code",
   "execution_count": null,
   "id": "04f25c90-ac44-4937-ba30-07f3713911d0",
   "metadata": {},
   "outputs": [],
   "source": []
  }
 ],
 "metadata": {
  "kernelspec": {
   "display_name": "Python 3 (ipykernel)",
   "language": "python",
   "name": "python3"
  },
  "language_info": {
   "codemirror_mode": {
    "name": "ipython",
    "version": 3
   },
   "file_extension": ".py",
   "mimetype": "text/x-python",
   "name": "python",
   "nbconvert_exporter": "python",
   "pygments_lexer": "ipython3",
   "version": "3.12.8"
  }
 },
 "nbformat": 4,
 "nbformat_minor": 5
}
