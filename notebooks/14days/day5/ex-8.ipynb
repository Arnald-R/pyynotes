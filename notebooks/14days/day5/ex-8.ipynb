{
 "cells": [
  {
   "cell_type": "code",
   "execution_count": null,
   "id": "199eb9bf-1bd3-4eb8-a4af-ee9828ce57dd",
   "metadata": {},
   "outputs": [],
   "source": [
    "#created at 20250403"
   ]
  },
  {
   "cell_type": "code",
   "execution_count": null,
   "id": "97275791-f6a4-4f49-905f-37464509dd77",
   "metadata": {},
   "outputs": [],
   "source": [
    "#Json file reading"
   ]
  },
  {
   "cell_type": "code",
   "execution_count": 1,
   "id": "2d2582af-6963-4d2e-b1db-99827912a7c6",
   "metadata": {},
   "outputs": [
    {
     "name": "stdout",
     "output_type": "stream",
     "text": [
      "\n",
      " === Json file reading ===\n"
     ]
    }
   ],
   "source": [
    "print(\"\\n === Json file reading ===\")"
   ]
  },
  {
   "cell_type": "code",
   "execution_count": 2,
   "id": "6b6a0094-6777-406c-a22b-4968f731d300",
   "metadata": {},
   "outputs": [],
   "source": [
    "import json"
   ]
  },
  {
   "cell_type": "code",
   "execution_count": 3,
   "id": "51488234-e306-43ed-a774-55eeea5df2ee",
   "metadata": {},
   "outputs": [],
   "source": [
    "def read_json_file():\n",
    "    try:\n",
    "        with open('data.json', 'r') as file:\n",
    "            data = json.load(file)\n",
    "            print(f\"JSON data: {data}\")\n",
    "    except json.JSONDecodeError:\n",
    "        print(\"Invalid Json Format!\")\n",
    "            "
   ]
  },
  {
   "cell_type": "code",
   "execution_count": 4,
   "id": "c1207943-9931-47c5-83e3-27444efa53d3",
   "metadata": {},
   "outputs": [
    {
     "name": "stdout",
     "output_type": "stream",
     "text": [
      "JSON data: {'name': 'Arnald', 'age': 23, 'city': 'Pollachi', 'hobbies': ['reading', 'writing']}\n"
     ]
    }
   ],
   "source": [
    "read_json_file()"
   ]
  },
  {
   "cell_type": "code",
   "execution_count": null,
   "id": "ce1cf2db-09ea-467f-a86a-ca96c9c9562a",
   "metadata": {},
   "outputs": [],
   "source": []
  }
 ],
 "metadata": {
  "kernelspec": {
   "display_name": "Python 3 (ipykernel)",
   "language": "python",
   "name": "python3"
  },
  "language_info": {
   "codemirror_mode": {
    "name": "ipython",
    "version": 3
   },
   "file_extension": ".py",
   "mimetype": "text/x-python",
   "name": "python",
   "nbconvert_exporter": "python",
   "pygments_lexer": "ipython3",
   "version": "3.12.8"
  }
 },
 "nbformat": 4,
 "nbformat_minor": 5
}
