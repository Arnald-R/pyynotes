{
 "cells": [
  {
   "cell_type": "code",
   "execution_count": null,
   "id": "8389e832-826e-48a5-a39c-afd8d75893ae",
   "metadata": {},
   "outputs": [],
   "source": [
    "#created at 20250403"
   ]
  },
  {
   "cell_type": "code",
   "execution_count": null,
   "id": "2403c7ba-ce6a-40b9-8188-9aade4dfd344",
   "metadata": {},
   "outputs": [],
   "source": [
    "#File Path Operations "
   ]
  },
  {
   "cell_type": "code",
   "execution_count": 1,
   "id": "48a5d3af-123b-4686-8db3-671aa04aea69",
   "metadata": {},
   "outputs": [
    {
     "name": "stdout",
     "output_type": "stream",
     "text": [
      "\n",
      " === File Path Operations ===\n"
     ]
    }
   ],
   "source": [
    "print(\"\\n === File Path Operations ===\")"
   ]
  },
  {
   "cell_type": "code",
   "execution_count": 7,
   "id": "8290896e-5def-4589-8971-08cdfff80e6a",
   "metadata": {},
   "outputs": [],
   "source": [
    "from pathlib import Path"
   ]
  },
  {
   "cell_type": "code",
   "execution_count": 8,
   "id": "eea1b326-b656-4b80-9493-21dd134b9521",
   "metadata": {},
   "outputs": [],
   "source": [
    "def path_operations():\n",
    "    path = Path('sample.txt')\n",
    "    print(f\"Absolute Path:{path.absolute()}\")\n",
    "    print(f\"Parent directory:{path.parent}\")\n",
    "    print(f\"File exists:{path.exists()}\")\n",
    "    print(f\"is_file:{path.is_file()}\")"
   ]
  },
  {
   "cell_type": "code",
   "execution_count": 9,
   "id": "82908484-f9da-4fba-9f27-3a203d345cf2",
   "metadata": {},
   "outputs": [
    {
     "name": "stdout",
     "output_type": "stream",
     "text": [
      "Absolute Path:/home/arnald/tact/pyynotes/notebooks/14days/day5/sample.txt\n",
      "Parent directory:.\n",
      "File exists:True\n",
      "is_file:True\n"
     ]
    }
   ],
   "source": [
    "path_operations()"
   ]
  },
  {
   "cell_type": "code",
   "execution_count": null,
   "id": "e1017907-e5d4-4e24-81f8-09ea6118e338",
   "metadata": {},
   "outputs": [],
   "source": []
  }
 ],
 "metadata": {
  "kernelspec": {
   "display_name": "Python 3 (ipykernel)",
   "language": "python",
   "name": "python3"
  },
  "language_info": {
   "codemirror_mode": {
    "name": "ipython",
    "version": 3
   },
   "file_extension": ".py",
   "mimetype": "text/x-python",
   "name": "python",
   "nbconvert_exporter": "python",
   "pygments_lexer": "ipython3",
   "version": "3.12.8"
  }
 },
 "nbformat": 4,
 "nbformat_minor": 5
}
