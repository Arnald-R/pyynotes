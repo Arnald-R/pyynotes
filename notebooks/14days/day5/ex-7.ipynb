{
 "cells": [
  {
   "cell_type": "code",
   "execution_count": null,
   "id": "6a16b628-f517-4b74-abe9-2bd2c4e85b1b",
   "metadata": {},
   "outputs": [],
   "source": [
    "#created at 20250403"
   ]
  },
  {
   "cell_type": "code",
   "execution_count": null,
   "id": "2d7e81ea-9358-4ad1-803f-bc95f6a81835",
   "metadata": {},
   "outputs": [],
   "source": [
    "#Json file writing "
   ]
  },
  {
   "cell_type": "code",
   "execution_count": 1,
   "id": "6b7271cd-24c4-479d-9bfa-e2a1eaf9865d",
   "metadata": {},
   "outputs": [
    {
     "name": "stdout",
     "output_type": "stream",
     "text": [
      "\n",
      " === json file writing ===\n"
     ]
    }
   ],
   "source": [
    "print(\"\\n === json file writing ===\")"
   ]
  },
  {
   "cell_type": "code",
   "execution_count": 2,
   "id": "fb73ef30-46a1-428b-bdbc-24a4a5ef0cb4",
   "metadata": {},
   "outputs": [],
   "source": [
    "import json"
   ]
  },
  {
   "cell_type": "code",
   "execution_count": 3,
   "id": "884e2714-936e-4361-95b4-b20578221838",
   "metadata": {},
   "outputs": [],
   "source": [
    "def json_file_write():\n",
    "    data = {\n",
    "        'name' : 'Arnald',\n",
    "        'age': 23,\n",
    "        'city': 'Pollachi',\n",
    "        'hobbies': ['reading','writing']\n",
    "    }\n",
    "    with open('data.json', 'w') as file:\n",
    "        json.dump(data, file, indent = 4)"
   ]
  },
  {
   "cell_type": "code",
   "execution_count": 4,
   "id": "bdbaa44e-9c0f-4f0c-bded-696b016bcfd3",
   "metadata": {},
   "outputs": [],
   "source": [
    "json_file_write()"
   ]
  },
  {
   "cell_type": "code",
   "execution_count": 5,
   "id": "7500f995-94d8-4409-89f4-01cb3f06c1c6",
   "metadata": {},
   "outputs": [
    {
     "name": "stdout",
     "output_type": "stream",
     "text": [
      "Json file written successfully\n"
     ]
    }
   ],
   "source": [
    "print(\"Json file written successfully\")"
   ]
  },
  {
   "cell_type": "code",
   "execution_count": null,
   "id": "61e0669a-10c9-4798-82fd-bb31d71408c5",
   "metadata": {},
   "outputs": [],
   "source": []
  }
 ],
 "metadata": {
  "kernelspec": {
   "display_name": "Python 3 (ipykernel)",
   "language": "python",
   "name": "python3"
  },
  "language_info": {
   "codemirror_mode": {
    "name": "ipython",
    "version": 3
   },
   "file_extension": ".py",
   "mimetype": "text/x-python",
   "name": "python",
   "nbconvert_exporter": "python",
   "pygments_lexer": "ipython3",
   "version": "3.12.8"
  }
 },
 "nbformat": 4,
 "nbformat_minor": 5
}
