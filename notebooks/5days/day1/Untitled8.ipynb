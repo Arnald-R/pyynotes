{
 "cells": [
  {
   "cell_type": "code",
   "execution_count": null,
   "id": "626a3c42-370e-4ddd-b8ed-d76b38300fd5",
   "metadata": {},
   "outputs": [],
   "source": [
    "#day 9"
   ]
  },
  {
   "cell_type": "code",
   "execution_count": 1,
   "id": "41ef1c83-98dc-4872-a3d9-ce967a9af6fb",
   "metadata": {},
   "outputs": [],
   "source": [
    "with open(\"sample.txt\",'w') as file:\n",
    "    file.write(\"Hi this the 9 day\\n Welcome to the file\")"
   ]
  },
  {
   "cell_type": "code",
   "execution_count": 3,
   "id": "00e4b537-c41b-4fd9-8d82-ae7fcb9d18ae",
   "metadata": {},
   "outputs": [
    {
     "name": "stdout",
     "output_type": "stream",
     "text": [
      "Hi this the 9 day\n",
      " Welcome to the file\n"
     ]
    }
   ],
   "source": [
    "with open(\"sample.txt\",'r') as file:\n",
    "    content = file.read()\n",
    "    print(content)"
   ]
  },
  {
   "cell_type": "code",
   "execution_count": 4,
   "id": "58bd6273-be5a-454e-a5cd-fa2a562aed50",
   "metadata": {},
   "outputs": [],
   "source": [
    "import json"
   ]
  },
  {
   "cell_type": "code",
   "execution_count": 5,
   "id": "d0a98acd-6e20-4e46-817d-642df1f5cb95",
   "metadata": {},
   "outputs": [],
   "source": [
    "data = {\n",
    "    \"name\" : \"Arnald\",\n",
    "    \"age\": 23,\n",
    "    \"locat\": \"poy\"\n",
    "}"
   ]
  },
  {
   "cell_type": "code",
   "execution_count": 6,
   "id": "9fe44b74-3d5c-4a30-a811-6be6631f88e1",
   "metadata": {},
   "outputs": [],
   "source": [
    "with open(\"data.json\", \"w\") as file:\n",
    "    json.dump(data, file, indent=4)\n",
    "    "
   ]
  },
  {
   "cell_type": "code",
   "execution_count": 7,
   "id": "dde5ae09-ff52-4a81-bc09-8ddd4296dae8",
   "metadata": {},
   "outputs": [
    {
     "name": "stdout",
     "output_type": "stream",
     "text": [
      "{'name': 'Arnald', 'age': 23, 'locat': 'poy'}\n"
     ]
    }
   ],
   "source": [
    "with open(\"data.json\", \"r\") as file:\n",
    "    loaded_data = json.load(file)\n",
    "    print(loaded_data)"
   ]
  },
  {
   "cell_type": "code",
   "execution_count": null,
   "id": "efc00686-ed2b-4075-b47e-cff1e37d6ce0",
   "metadata": {},
   "outputs": [],
   "source": []
  }
 ],
 "metadata": {
  "kernelspec": {
   "display_name": "Python 3 (ipykernel)",
   "language": "python",
   "name": "python3"
  },
  "language_info": {
   "codemirror_mode": {
    "name": "ipython",
    "version": 3
   },
   "file_extension": ".py",
   "mimetype": "text/x-python",
   "name": "python",
   "nbconvert_exporter": "python",
   "pygments_lexer": "ipython3",
   "version": "3.12.8"
  }
 },
 "nbformat": 4,
 "nbformat_minor": 5
}
