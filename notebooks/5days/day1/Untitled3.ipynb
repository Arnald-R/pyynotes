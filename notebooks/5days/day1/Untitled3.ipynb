{
 "cells": [
  {
   "cell_type": "code",
   "execution_count": null,
   "id": "c5eef11c-f610-4bd6-b896-e14cce878e9b",
   "metadata": {},
   "outputs": [],
   "source": [
    "#day4"
   ]
  },
  {
   "cell_type": "code",
   "execution_count": 1,
   "id": "10c313a8-5c24-41a1-bfce-ec7b7ec5fa89",
   "metadata": {},
   "outputs": [
    {
     "name": "stdout",
     "output_type": "stream",
     "text": [
      "poitive\n"
     ]
    }
   ],
   "source": [
    "#if\n",
    "\n",
    "x=10\n",
    "\n",
    "if x > 0:\n",
    "    print(\"poitive\")\n",
    "elif x == 0:\n",
    "    print(\"zero\")\n",
    "else:\n",
    "    print(\"Negative\")\n",
    "        "
   ]
  },
  {
   "cell_type": "code",
   "execution_count": 6,
   "id": "7b9d36f0-e2ce-42c1-b291-194175c6c53b",
   "metadata": {},
   "outputs": [
    {
     "name": "stdout",
     "output_type": "stream",
     "text": [
      "Start ofthe week\n"
     ]
    }
   ],
   "source": [
    "#switch case\n",
    "\n",
    "day = \"Monday\"\n",
    "\n",
    "match day:\n",
    "    case \"Monday\":\n",
    "        print(\"Start ofthe week\")\n",
    "    case \"Tuesday\":\n",
    "        print(\"Next week\")\n",
    "    case _:\n",
    "        print(\"end of the week\")\n"
   ]
  },
  {
   "cell_type": "code",
   "execution_count": 7,
   "id": "10e715d7-55df-4293-914d-62e47dc21f2f",
   "metadata": {},
   "outputs": [
    {
     "name": "stdout",
     "output_type": "stream",
     "text": [
      "Apple\n",
      "Orange\n",
      "Banana\n"
     ]
    }
   ],
   "source": [
    "#for\n",
    "fruits = [\"Apple\", \"Orange\", \"Banana\"]\n",
    "for fruit in fruits:\n",
    "    print(fruit)"
   ]
  },
  {
   "cell_type": "code",
   "execution_count": 8,
   "id": "54b6ae8b-08db-4a19-81a7-28fa497b4ffc",
   "metadata": {},
   "outputs": [
    {
     "name": "stdout",
     "output_type": "stream",
     "text": [
      "0\n",
      "1\n",
      "2\n",
      "3\n",
      "4\n"
     ]
    }
   ],
   "source": [
    "#While loop\n",
    "count = 0\n",
    "while count < 5:\n",
    "    print(count)\n",
    "    count += 1"
   ]
  },
  {
   "cell_type": "code",
   "execution_count": null,
   "id": "c9a44d31-6f1b-487c-aa66-cb6259b08857",
   "metadata": {},
   "outputs": [],
   "source": []
  }
 ],
 "metadata": {
  "kernelspec": {
   "display_name": "Python 3 (ipykernel)",
   "language": "python",
   "name": "python3"
  },
  "language_info": {
   "codemirror_mode": {
    "name": "ipython",
    "version": 3
   },
   "file_extension": ".py",
   "mimetype": "text/x-python",
   "name": "python",
   "nbconvert_exporter": "python",
   "pygments_lexer": "ipython3",
   "version": "3.12.8"
  }
 },
 "nbformat": 4,
 "nbformat_minor": 5
}
