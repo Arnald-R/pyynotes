{
 "cells": [
  {
   "cell_type": "code",
   "execution_count": null,
   "id": "7e8e819d-efcd-42b1-95c1-d01ba0ecc5a1",
   "metadata": {},
   "outputs": [],
   "source": [
    "#Day6"
   ]
  },
  {
   "cell_type": "code",
   "execution_count": null,
   "id": "99474368-226d-4ef2-a577-634f51727a61",
   "metadata": {},
   "outputs": [],
   "source": [
    "Exception Handling - when your program encoubters an error (exception) using exxception handling we can fix the error and handle "
   ]
  },
  {
   "cell_type": "code",
   "execution_count": 1,
   "id": "f8fd270e-3caa-498a-9136-2c8f71341d64",
   "metadata": {},
   "outputs": [
    {
     "name": "stdout",
     "output_type": "stream",
     "text": [
      "you can not divide by zero\n"
     ]
    }
   ],
   "source": [
    "try:\n",
    "    x = 5/0\n",
    "except ZeroDivisionError:\n",
    "    print('you can not divide by zero')"
   ]
  },
  {
   "cell_type": "code",
   "execution_count": 11,
   "id": "8ef23bd8-4e33-486b-9995-d0a0e33acf62",
   "metadata": {},
   "outputs": [
    {
     "name": "stdin",
     "output_type": "stream",
     "text": [
      "Enter the number: a\n"
     ]
    },
    {
     "name": "stdout",
     "output_type": "stream",
     "text": [
      "The Invalid input Error\n"
     ]
    }
   ],
   "source": [
    "try:\n",
    "    num = int(input(\"Enter the number:\"))\n",
    "    result = 10/num\n",
    "except ZeroDivisionError:\n",
    "    print(\"Zero cannot be divide \")\n",
    "except ValueError:\n",
    "    print(\"The Invalid input Error\")"
   ]
  },
  {
   "cell_type": "code",
   "execution_count": 12,
   "id": "63a85c0f-6b31-46b2-84ed-95302162503b",
   "metadata": {},
   "outputs": [
    {
     "name": "stdin",
     "output_type": "stream",
     "text": [
      "Enter the number: 0\n"
     ]
    },
    {
     "name": "stdout",
     "output_type": "stream",
     "text": [
      "Zero cannot be divide \n",
      "execution completed\n"
     ]
    }
   ],
   "source": [
    "try:\n",
    "    num = int(input(\"Enter the number:\"))\n",
    "    result = 10/num\n",
    "except ZeroDivisionError:\n",
    "    print(\"Zero cannot be divide \")\n",
    "except ValueError:\n",
    "    print(\"The Invalid input Error\")\n",
    "finally:\n",
    "    print(\"execution completed\")"
   ]
  },
  {
   "cell_type": "code",
   "execution_count": null,
   "id": "a137b5d3-b650-4510-8d33-1f3efd07db01",
   "metadata": {},
   "outputs": [],
   "source": []
  }
 ],
 "metadata": {
  "kernelspec": {
   "display_name": "Python 3 (ipykernel)",
   "language": "python",
   "name": "python3"
  },
  "language_info": {
   "codemirror_mode": {
    "name": "ipython",
    "version": 3
   },
   "file_extension": ".py",
   "mimetype": "text/x-python",
   "name": "python",
   "nbconvert_exporter": "python",
   "pygments_lexer": "ipython3",
   "version": "3.12.8"
  }
 },
 "nbformat": 4,
 "nbformat_minor": 5
}
