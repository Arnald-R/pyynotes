{
 "cells": [
  {
   "cell_type": "code",
   "execution_count": null,
   "id": "82ca4278-8389-48b4-a4f6-0772b30e1219",
   "metadata": {},
   "outputs": [],
   "source": [
    "#day 5"
   ]
  },
  {
   "cell_type": "code",
   "execution_count": 1,
   "id": "cc0e8c11-ea52-4974-8e46-c5b39463e26f",
   "metadata": {},
   "outputs": [],
   "source": [
    "def greet():\n",
    "    print(\"Good Morning\")"
   ]
  },
  {
   "cell_type": "code",
   "execution_count": 2,
   "id": "93ecb394-f4cb-46df-82e4-d7783f68e00b",
   "metadata": {},
   "outputs": [
    {
     "name": "stdout",
     "output_type": "stream",
     "text": [
      "Good Morning\n"
     ]
    }
   ],
   "source": [
    "greet()"
   ]
  },
  {
   "cell_type": "code",
   "execution_count": 3,
   "id": "a77fee90-e3bd-4135-8cbb-78e1a3c6b4f0",
   "metadata": {},
   "outputs": [],
   "source": [
    "def greet(name):\n",
    "    print(f\"hello,{name}\")"
   ]
  },
  {
   "cell_type": "code",
   "execution_count": 5,
   "id": "2af4b72a-1578-4b2a-b870-ceb7962d54b1",
   "metadata": {},
   "outputs": [
    {
     "name": "stdout",
     "output_type": "stream",
     "text": [
      "hello,Arnald\n"
     ]
    }
   ],
   "source": [
    "greet(\"Arnald\")"
   ]
  },
  {
   "cell_type": "code",
   "execution_count": 6,
   "id": "a1f7a73c-0b26-44ee-9546-3104465fd893",
   "metadata": {},
   "outputs": [],
   "source": [
    "def add(a, b):\n",
    "    return a + b"
   ]
  },
  {
   "cell_type": "code",
   "execution_count": 7,
   "id": "78c9231e-4ccc-413b-84c2-2a4035b1557e",
   "metadata": {},
   "outputs": [],
   "source": [
    "result = add( 3, 2)"
   ]
  },
  {
   "cell_type": "code",
   "execution_count": 8,
   "id": "649320d3-7d37-427a-80e7-cf8e9f0ca3fd",
   "metadata": {},
   "outputs": [
    {
     "name": "stdout",
     "output_type": "stream",
     "text": [
      "5\n"
     ]
    }
   ],
   "source": [
    "print(result)"
   ]
  },
  {
   "cell_type": "code",
   "execution_count": 9,
   "id": "10f4b657-2502-4088-9968-20844fc8a73c",
   "metadata": {},
   "outputs": [],
   "source": [
    "result = add( 9, 1)"
   ]
  },
  {
   "cell_type": "code",
   "execution_count": 10,
   "id": "ff75f57b-bda7-48c4-8ffb-6ea7c326f235",
   "metadata": {},
   "outputs": [
    {
     "name": "stdout",
     "output_type": "stream",
     "text": [
      "10\n"
     ]
    }
   ],
   "source": [
    "print(result)"
   ]
  },
  {
   "cell_type": "code",
   "execution_count": 13,
   "id": "fea723df-e832-4b65-8b80-86eaaa7871b5",
   "metadata": {},
   "outputs": [],
   "source": [
    "#  *args - variable number of positional arguments\n",
    "\n",
    "\n",
    "def mul_numbers(*args):\n",
    "    total = 1\n",
    "    for num in args:\n",
    "        total*= num\n",
    "    return total\n"
   ]
  },
  {
   "cell_type": "code",
   "execution_count": 14,
   "id": "2b436248-4a14-482d-8e51-a5cd2ffdab3d",
   "metadata": {},
   "outputs": [
    {
     "name": "stdout",
     "output_type": "stream",
     "text": [
      "189\n"
     ]
    }
   ],
   "source": [
    "print(mul_numbers(1, 3, 7, 9))"
   ]
  },
  {
   "cell_type": "code",
   "execution_count": 15,
   "id": "1bfeb377-dca7-4b88-8c63-c7ba38ff8cf3",
   "metadata": {},
   "outputs": [],
   "source": [
    "# **kwargs - variable number of keyword arguments\n",
    "\n",
    "def info(**kwargs):\n",
    "    for key, value in kwargs.items():\n",
    "        print(f\"{key}:{value}\")\n",
    "        "
   ]
  },
  {
   "cell_type": "code",
   "execution_count": 16,
   "id": "3f625dad-a4b8-4ec8-bfc2-4299e2563557",
   "metadata": {},
   "outputs": [
    {
     "name": "stdout",
     "output_type": "stream",
     "text": [
      "name:Arnald\n",
      "age:23\n"
     ]
    }
   ],
   "source": [
    "info(name =\"Arnald\", age = 23)"
   ]
  },
  {
   "cell_type": "code",
   "execution_count": null,
   "id": "d2b4bd96-e9fd-4da5-859b-b991fd48504b",
   "metadata": {},
   "outputs": [],
   "source": []
  }
 ],
 "metadata": {
  "kernelspec": {
   "display_name": "Python 3 (ipykernel)",
   "language": "python",
   "name": "python3"
  },
  "language_info": {
   "codemirror_mode": {
    "name": "ipython",
    "version": 3
   },
   "file_extension": ".py",
   "mimetype": "text/x-python",
   "name": "python",
   "nbconvert_exporter": "python",
   "pygments_lexer": "ipython3",
   "version": "3.12.8"
  }
 },
 "nbformat": 4,
 "nbformat_minor": 5
}
