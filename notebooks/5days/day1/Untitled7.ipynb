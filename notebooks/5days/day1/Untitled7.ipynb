{
 "cells": [
  {
   "cell_type": "code",
   "execution_count": null,
   "id": "0d4411d6-a4a5-4641-b1c9-f0652fb83638",
   "metadata": {},
   "outputs": [],
   "source": [
    "#day8"
   ]
  },
  {
   "cell_type": "code",
   "execution_count": null,
   "id": "c41ae0c8-d0a2-4acb-8ec9-516b6be9adda",
   "metadata": {},
   "outputs": [],
   "source": [
    "#Inheritance - One class occurs the all the behaviour of the parent class is known as Inheritance"
   ]
  },
  {
   "cell_type": "code",
   "execution_count": 1,
   "id": "7d1ac46e-40db-4a93-aa20-0b0bd8b28ce3",
   "metadata": {},
   "outputs": [],
   "source": [
    "class Animal:\n",
    "    def __init__(self, name):\n",
    "        self.name = name\n",
    "\n",
    "    def speak(self):\n",
    "        return f\"{self.name} makes a sound\"\n",
    "\n",
    "\n",
    "#Dog inherits  from Animal\n",
    "class Dog(Animal):\n",
    "    def speak(self):\n",
    "        return f\"{self.name} barks\"\n",
    "\n",
    "#Cat inherits from Animal\n",
    "class Cat(Animal):\n",
    "    def speek(self):\n",
    "        return f\"{self.name} meow\""
   ]
  },
  {
   "cell_type": "code",
   "execution_count": 2,
   "id": "38bc40cc-e174-4790-bf69-f170cd924737",
   "metadata": {},
   "outputs": [],
   "source": [
    "dog = Dog(\"Bino\")"
   ]
  },
  {
   "cell_type": "code",
   "execution_count": 3,
   "id": "e80bfe72-cb40-4c66-88dd-e93f535b72fb",
   "metadata": {},
   "outputs": [],
   "source": [
    "cat = Cat(\"sintu\")"
   ]
  },
  {
   "cell_type": "code",
   "execution_count": 4,
   "id": "4424aaee-31c4-4158-b865-10de7f03d2b7",
   "metadata": {},
   "outputs": [
    {
     "name": "stdout",
     "output_type": "stream",
     "text": [
      "Bino barks\n"
     ]
    }
   ],
   "source": [
    "print(dog.speak())"
   ]
  },
  {
   "cell_type": "code",
   "execution_count": 5,
   "id": "39efeca6-c151-4ccc-9bf9-7a05600e6536",
   "metadata": {},
   "outputs": [
    {
     "name": "stdout",
     "output_type": "stream",
     "text": [
      "sintu makes a sound\n"
     ]
    }
   ],
   "source": [
    "print(cat.speak())"
   ]
  },
  {
   "cell_type": "code",
   "execution_count": null,
   "id": "bcd48973-9de5-472a-87e7-053c7358fb69",
   "metadata": {},
   "outputs": [],
   "source": [
    "#Polymorphism - same function name, in different claasses and performed by many ways\n"
   ]
  },
  {
   "cell_type": "code",
   "execution_count": 6,
   "id": "a929343c-dfbb-4334-ba86-0d1ff7130b8b",
   "metadata": {},
   "outputs": [
    {
     "name": "stdout",
     "output_type": "stream",
     "text": [
      "Bino barks\n",
      "sintu makes a sound\n"
     ]
    }
   ],
   "source": [
    "for animal in [Dog(\"Bino\"), Cat(\"sintu\")]:\n",
    "    print(animal.speak())"
   ]
  },
  {
   "cell_type": "code",
   "execution_count": null,
   "id": "e9956f1f-d20d-4365-8e2e-1a26fa6d4b47",
   "metadata": {},
   "outputs": [],
   "source": [
    "#Encapsulation - Hiding the implementation details and storing the personality of the user\n",
    "\n",
    "_  protected\n",
    "__ private"
   ]
  },
  {
   "cell_type": "code",
   "execution_count": 13,
   "id": "ba961433-bf2f-43e9-ad22-87440c45a411",
   "metadata": {},
   "outputs": [],
   "source": [
    "class BankAccount:\n",
    "    def __init__(self, balance):\n",
    "        self.__balance = balance\n",
    "\n",
    "    def deposit(self, Amount):\n",
    "        self.__balance += Amount\n",
    "\n",
    "    def get_balance(self):\n",
    "        return self.__balance\n",
    "\n",
    "account = BankAccount(1000)"
   ]
  },
  {
   "cell_type": "code",
   "execution_count": 14,
   "id": "5514cfaf-0a6c-4139-ab23-1657cd8a3dba",
   "metadata": {},
   "outputs": [],
   "source": [
    "account.deposit(500)"
   ]
  },
  {
   "cell_type": "code",
   "execution_count": 16,
   "id": "2b3665fe-8c7f-4202-8350-130e4c1eaf19",
   "metadata": {},
   "outputs": [
    {
     "name": "stdout",
     "output_type": "stream",
     "text": [
      "1500\n"
     ]
    }
   ],
   "source": [
    "print(account.get_balance())"
   ]
  },
  {
   "cell_type": "code",
   "execution_count": null,
   "id": "50741aa0-ff53-4128-9ebd-81313982f5d9",
   "metadata": {},
   "outputs": [],
   "source": []
  }
 ],
 "metadata": {
  "kernelspec": {
   "display_name": "Python 3 (ipykernel)",
   "language": "python",
   "name": "python3"
  },
  "language_info": {
   "codemirror_mode": {
    "name": "ipython",
    "version": 3
   },
   "file_extension": ".py",
   "mimetype": "text/x-python",
   "name": "python",
   "nbconvert_exporter": "python",
   "pygments_lexer": "ipython3",
   "version": "3.12.8"
  }
 },
 "nbformat": 4,
 "nbformat_minor": 5
}
