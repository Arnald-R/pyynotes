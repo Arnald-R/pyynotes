{
 "cells": [
  {
   "cell_type": "code",
   "execution_count": null,
   "id": "7dd023c9-8e2a-4a29-83b6-6c2da363a962",
   "metadata": {},
   "outputs": [],
   "source": [
    "#day3"
   ]
  },
  {
   "cell_type": "code",
   "execution_count": null,
   "id": "d1399534-68fb-4386-9d0a-92cfa433448a",
   "metadata": {},
   "outputs": [],
   "source": [
    "#list, tuple, set, dict"
   ]
  },
  {
   "cell_type": "code",
   "execution_count": 6,
   "id": "e6b992cb-2a1d-4882-857c-3d6700718a91",
   "metadata": {},
   "outputs": [],
   "source": [
    "#list - ordered,mutable,allow duplicate\n",
    "fruit = [ \"orage\", \"grapes\"]"
   ]
  },
  {
   "cell_type": "code",
   "execution_count": 7,
   "id": "1760c9fa-32e6-4d9b-9f9d-61da18a6096c",
   "metadata": {},
   "outputs": [
    {
     "name": "stdout",
     "output_type": "stream",
     "text": [
      "['orage', 'grapes', 'papaya']\n"
     ]
    }
   ],
   "source": [
    "fruit.append(\"papaya\")\n",
    "print(fruit)"
   ]
  },
  {
   "cell_type": "code",
   "execution_count": 10,
   "id": "47a5212c-9398-49e7-97bb-9ad733520c12",
   "metadata": {},
   "outputs": [],
   "source": [
    "fruit.remove(\"orage\")"
   ]
  },
  {
   "cell_type": "code",
   "execution_count": 11,
   "id": "1b50220b-71a8-4323-8bcd-2f147dd396d8",
   "metadata": {},
   "outputs": [
    {
     "name": "stdout",
     "output_type": "stream",
     "text": [
      "['grapes', 'papaya']\n"
     ]
    }
   ],
   "source": [
    "print(fruit)"
   ]
  },
  {
   "cell_type": "code",
   "execution_count": 15,
   "id": "fd3f1032-409a-4681-9048-b81e52853bd3",
   "metadata": {},
   "outputs": [
    {
     "name": "stdout",
     "output_type": "stream",
     "text": [
      "{1, 2, 3, 4, 5}\n"
     ]
    }
   ],
   "source": [
    "#set-unordered,didnot allow duplicates,\n",
    "nums = {5,4,1, 2, 3, 2}\n",
    "print(nums)\n"
   ]
  },
  {
   "cell_type": "code",
   "execution_count": 26,
   "id": "5fbf241e-0b1e-4a12-9196-b5a7a56dd97b",
   "metadata": {},
   "outputs": [
    {
     "name": "stdout",
     "output_type": "stream",
     "text": [
      "('red', 'rose', 'orange')\n"
     ]
    }
   ],
   "source": [
    "#Tuple - immutable, allow duplicates, ordered\n",
    "color =(\"red\" , \"rose\", \"orange\")\n",
    "print(color)"
   ]
  },
  {
   "cell_type": "code",
   "execution_count": 16,
   "id": "220c8737-76a1-4fd5-a467-a7497b84f9a3",
   "metadata": {},
   "outputs": [],
   "source": [
    "#Dict -didnot allow duplicate\n",
    "candidate = {\n",
    "    \"name\" : \"Arnald\",\n",
    "    \"age\"  : 22,\n",
    "    \"degree\" : \"BE\"\n",
    "}\n"
   ]
  },
  {
   "cell_type": "code",
   "execution_count": 19,
   "id": "f9430493-e999-448b-9c00-e09b7f242a7f",
   "metadata": {},
   "outputs": [
    {
     "name": "stdout",
     "output_type": "stream",
     "text": [
      "Arnald\n"
     ]
    }
   ],
   "source": [
    "print(candidate[\"name\"])"
   ]
  },
  {
   "cell_type": "code",
   "execution_count": 20,
   "id": "39e71ea9-7b80-4695-963e-938d5dfd32c2",
   "metadata": {},
   "outputs": [],
   "source": [
    "candidate[\"age\"] = 21"
   ]
  },
  {
   "cell_type": "code",
   "execution_count": 24,
   "id": "5c19577f-3682-4c0f-a5d8-a8d7bf66a98d",
   "metadata": {},
   "outputs": [],
   "source": [
    "candidate[\"degree\"] = \"BE EIE\"\n",
    "candidate[\"location\"] = \"Pollachi\""
   ]
  },
  {
   "cell_type": "code",
   "execution_count": 25,
   "id": "b6c0dd5e-2d46-4467-a155-b6daea7381d7",
   "metadata": {},
   "outputs": [
    {
     "name": "stdout",
     "output_type": "stream",
     "text": [
      "{'name': 'Arnald', 'age': 21, 'degree': 'BE EIE', 'location': 'Pollachi'}\n"
     ]
    }
   ],
   "source": [
    "print(candidate)"
   ]
  },
  {
   "cell_type": "code",
   "execution_count": null,
   "id": "87a056e2-4bf4-4dd2-a1f0-72cb1306363e",
   "metadata": {},
   "outputs": [],
   "source": []
  }
 ],
 "metadata": {
  "kernelspec": {
   "display_name": "Python 3 (ipykernel)",
   "language": "python",
   "name": "python3"
  },
  "language_info": {
   "codemirror_mode": {
    "name": "ipython",
    "version": 3
   },
   "file_extension": ".py",
   "mimetype": "text/x-python",
   "name": "python",
   "nbconvert_exporter": "python",
   "pygments_lexer": "ipython3",
   "version": "3.12.8"
  }
 },
 "nbformat": 4,
 "nbformat_minor": 5
}
