{
 "cells": [
  {
   "cell_type": "code",
   "execution_count": null,
   "id": "14751204-b5f9-44f6-b9b9-9eefe0b17ad1",
   "metadata": {},
   "outputs": [],
   "source": [
    "#day10"
   ]
  },
  {
   "cell_type": "code",
   "execution_count": null,
   "id": "89b4137e-ae6d-49f5-b79c-4133238813dc",
   "metadata": {},
   "outputs": [],
   "source": []
  }
 ],
 "metadata": {
  "kernelspec": {
   "display_name": "Python 3 (ipykernel)",
   "language": "python",
   "name": "python3"
  },
  "language_info": {
   "codemirror_mode": {
    "name": "ipython",
    "version": 3
   },
   "file_extension": ".py",
   "mimetype": "text/x-python",
   "name": "python",
   "nbconvert_exporter": "python",
   "pygments_lexer": "ipython3",
   "version": "3.12.8"
  }
 },
 "nbformat": 4,
 "nbformat_minor": 5
}
