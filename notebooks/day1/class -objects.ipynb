{
 "cells": [
  {
   "cell_type": "code",
   "execution_count": null,
   "id": "adacdf47-2583-408b-8f4f-6d0f368aade5",
   "metadata": {},
   "outputs": [],
   "source": [
    "#day 7"
   ]
  },
  {
   "cell_type": "code",
   "execution_count": 1,
   "id": "135e9c1f-41d8-4347-95d3-c08a1e60351c",
   "metadata": {},
   "outputs": [],
   "source": [
    "#classes and objects\n",
    "class Dog:\n",
    "    def __init__(self, name, breed):\n",
    "        self.name = name\n",
    "        self.breed = breed\n",
    "\n",
    "    def bark(self):\n",
    "        return f\"{self.name} barks\"\n",
    "\n",
    "#object creation\n",
    "dog1 = Dog(\"Dora\",\"Lab\")\n",
    "dog2 = Dog(\"diana\", \"puppy\")"
   ]
  },
  {
   "cell_type": "code",
   "execution_count": 2,
   "id": "7ec49b1e-a979-4f43-8b12-f5ee40f45f03",
   "metadata": {},
   "outputs": [
    {
     "name": "stdout",
     "output_type": "stream",
     "text": [
      "Dora barks\n"
     ]
    }
   ],
   "source": [
    "print(dog1.bark())"
   ]
  },
  {
   "cell_type": "code",
   "execution_count": 3,
   "id": "4db610c5-5563-47b3-9084-af62e45c03f9",
   "metadata": {},
   "outputs": [
    {
     "name": "stdout",
     "output_type": "stream",
     "text": [
      "diana barks\n"
     ]
    }
   ],
   "source": [
    "print(dog2.bark())"
   ]
  },
  {
   "cell_type": "code",
   "execution_count": 5,
   "id": "51c4f908-ca50-433b-9b92-e3658326084f",
   "metadata": {},
   "outputs": [
    {
     "name": "stdout",
     "output_type": "stream",
     "text": [
      "LMS school\n"
     ]
    }
   ],
   "source": [
    "#    @classmethod -- \n",
    "class Student:\n",
    "    school_name = \"LMS school\"\n",
    "\n",
    "    def __init__(self,name, grade):\n",
    "        self.name = name\n",
    "        self.grade = grade\n",
    "\n",
    "    @classmethod\n",
    "    def change_school(cls, new_name):\n",
    "        cls.school_name = new_name\n",
    "\n",
    "\n",
    "print(Student.school_name)"
   ]
  },
  {
   "cell_type": "code",
   "execution_count": 6,
   "id": "4a5aeb6f-3497-4219-9b80-9d3f67359fe8",
   "metadata": {},
   "outputs": [],
   "source": [
    "Student.change_school(\"ARB school\")"
   ]
  },
  {
   "cell_type": "code",
   "execution_count": 8,
   "id": "4a9deab8-2028-4fcf-a86b-955c0dfdb4e4",
   "metadata": {},
   "outputs": [
    {
     "name": "stdout",
     "output_type": "stream",
     "text": [
      "ARB school\n"
     ]
    }
   ],
   "source": [
    "print(Student.school_name)"
   ]
  },
  {
   "cell_type": "code",
   "execution_count": 9,
   "id": "16a25620-343f-4fff-9c9f-36a0f4c01980",
   "metadata": {},
   "outputs": [
    {
     "name": "stdout",
     "output_type": "stream",
     "text": [
      "11\n"
     ]
    }
   ],
   "source": [
    "#   @static method --do not access self or class\n",
    "\n",
    "class MathOperations:\n",
    "    @staticmethod\n",
    "    def add(x, y):\n",
    "        return x+y\n",
    "\n",
    "\n",
    "    @staticmethod\n",
    "    def multi(x, y):\n",
    "        return x * y\n",
    "\n",
    "\n",
    "print(MathOperations.add(3,8))\n"
   ]
  },
  {
   "cell_type": "code",
   "execution_count": 11,
   "id": "d9b693e1-61fc-49fb-8d76-0d2713deccc8",
   "metadata": {},
   "outputs": [
    {
     "name": "stdout",
     "output_type": "stream",
     "text": [
      "30\n"
     ]
    }
   ],
   "source": [
    "print(MathOperations.multi(3,10))"
   ]
  },
  {
   "cell_type": "code",
   "execution_count": null,
   "id": "f811437f-f6c0-4980-a5b2-1eff4bc1ee7f",
   "metadata": {},
   "outputs": [],
   "source": []
  }
 ],
 "metadata": {
  "kernelspec": {
   "display_name": "Python 3 (ipykernel)",
   "language": "python",
   "name": "python3"
  },
  "language_info": {
   "codemirror_mode": {
    "name": "ipython",
    "version": 3
   },
   "file_extension": ".py",
   "mimetype": "text/x-python",
   "name": "python",
   "nbconvert_exporter": "python",
   "pygments_lexer": "ipython3",
   "version": "3.12.8"
  }
 },
 "nbformat": 4,
 "nbformat_minor": 5
}
