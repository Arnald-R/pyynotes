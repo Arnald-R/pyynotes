{
 "cells": [
  {
   "cell_type": "code",
   "execution_count": null,
   "id": "6c58edcd-25f8-4591-952e-4f27d0f32519",
   "metadata": {},
   "outputs": [],
   "source": [
    "#day2"
   ]
  },
  {
   "cell_type": "code",
   "execution_count": 6,
   "id": "e9a47ece-73d3-4d8a-b35c-bdfdbadd5de3",
   "metadata": {},
   "outputs": [],
   "source": [
    "name = 'Alice'\n",
    "greeting = \"Good morning\"\n",
    "text = name + greeting"
   ]
  },
  {
   "cell_type": "code",
   "execution_count": 7,
   "id": "6e0b28ef-dfef-4032-b1ce-9a0e1844b367",
   "metadata": {},
   "outputs": [
    {
     "name": "stdout",
     "output_type": "stream",
     "text": [
      "AliceGood morning\n"
     ]
    }
   ],
   "source": [
    "print(text)"
   ]
  },
  {
   "cell_type": "code",
   "execution_count": 18,
   "id": "cfdf3d4e-06fb-46ba-aef5-771ccfe1e65c",
   "metadata": {},
   "outputs": [
    {
     "name": "stdout",
     "output_type": "stream",
     "text": [
      "ALICEGOOD MORNING\n",
      "alicegood morning\n",
      "Alicegood Morning\n",
      "17\n",
      "Ali\n",
      "A\n",
      "gninrom dooGecilA\n",
      "ris dlanrA si eman ym\n"
     ]
    }
   ],
   "source": [
    "print(text.upper())\n",
    "print(text.lower())\n",
    "print(text.title())\n",
    "print(len(text))\n",
    "\n",
    "print(text[0:3])\n",
    "print(text[:1:])\n",
    "print(text[::-1])\n",
    "chat = \"my name is Arnald sir\"\n",
    "print(chat[::-1])\n"
   ]
  },
  {
   "cell_type": "code",
   "execution_count": null,
   "id": "cbaae000-e218-46d8-949e-39bf03d3b617",
   "metadata": {},
   "outputs": [],
   "source": [
    "slice [start:stop:step]"
   ]
  },
  {
   "cell_type": "code",
   "execution_count": 19,
   "id": "11c8d31d-4076-4dd5-84f2-639d1dc08730",
   "metadata": {},
   "outputs": [],
   "source": [
    "num1 = 2"
   ]
  },
  {
   "cell_type": "code",
   "execution_count": 22,
   "id": "fe82b583-c5d9-4116-9565-5d8d0b75fd95",
   "metadata": {},
   "outputs": [],
   "source": [
    "num2 = 4"
   ]
  },
  {
   "cell_type": "code",
   "execution_count": 24,
   "id": "a069fe5e-a408-44ce-ab31-81f2f9d178c0",
   "metadata": {},
   "outputs": [
    {
     "name": "stdout",
     "output_type": "stream",
     "text": [
      "0.5\n"
     ]
    }
   ],
   "source": [
    "num = num1 / num2\n",
    "print(num)"
   ]
  },
  {
   "cell_type": "code",
   "execution_count": 25,
   "id": "ff25fc02-5b0c-479b-bfdb-34800f2549d5",
   "metadata": {},
   "outputs": [
    {
     "name": "stdout",
     "output_type": "stream",
     "text": [
      "double division:0\n"
     ]
    }
   ],
   "source": [
    "print(f\"double division:{num1 // num2}\")"
   ]
  },
  {
   "cell_type": "code",
   "execution_count": 26,
   "id": "e2b6f41b-b544-47ce-82e8-4d6ea0bef080",
   "metadata": {},
   "outputs": [
    {
     "name": "stdout",
     "output_type": "stream",
     "text": [
      "dd:2\n"
     ]
    }
   ],
   "source": [
    "a = 5\n",
    "b = 2\n",
    "print(f\"dd:{a//b}\")"
   ]
  },
  {
   "cell_type": "code",
   "execution_count": 32,
   "id": "d6e8846b-ceca-4987-8c63-ca1c40e26610",
   "metadata": {},
   "outputs": [
    {
     "name": "stdout",
     "output_type": "stream",
     "text": [
      "dd:0\n"
     ]
    }
   ],
   "source": [
    "a = 30\n",
    "b = 5\n",
    "print(f\"dd:{a%b}\")"
   ]
  },
  {
   "cell_type": "code",
   "execution_count": 40,
   "id": "a92598a7-5d54-4824-b173-7dc9541549ac",
   "metadata": {},
   "outputs": [
    {
     "name": "stdout",
     "output_type": "stream",
     "text": [
      "dd:512\n"
     ]
    }
   ],
   "source": [
    "a = 2\n",
    "b = 9\n",
    "print(f\"dd:{a**b}\")"
   ]
  },
  {
   "cell_type": "code",
   "execution_count": 42,
   "id": "078050b5-f3f2-45f5-9dfb-02e784faf540",
   "metadata": {},
   "outputs": [
    {
     "name": "stdout",
     "output_type": "stream",
     "text": [
      "1.43\n"
     ]
    }
   ],
   "source": [
    "#float\n",
    "f1 = 0.98\n",
    "f2 = 0.45\n",
    "f = f1 + f2\n",
    "print(f)"
   ]
  },
  {
   "cell_type": "code",
   "execution_count": 43,
   "id": "d421f553-5b25-4b09-8416-6eab6cb3d07e",
   "metadata": {},
   "outputs": [],
   "source": [
    "is_active = True\n",
    "is_notactive = False"
   ]
  },
  {
   "cell_type": "code",
   "execution_count": 44,
   "id": "73516c52-e5f3-4c88-a7e8-78d5fb0ea749",
   "metadata": {},
   "outputs": [
    {
     "name": "stdout",
     "output_type": "stream",
     "text": [
      "is he logged in:False\n"
     ]
    }
   ],
   "source": [
    "print(f\"is he logged in:{ not is_active}\")"
   ]
  },
  {
   "cell_type": "code",
   "execution_count": 45,
   "id": "396d624b-43e9-4bcc-9426-2d357b0b0a95",
   "metadata": {},
   "outputs": [
    {
     "name": "stdout",
     "output_type": "stream",
     "text": [
      "is he active:True\n"
     ]
    }
   ],
   "source": [
    "print(f\"is he active:{is_active or is_notactive}\")"
   ]
  },
  {
   "cell_type": "code",
   "execution_count": null,
   "id": "d88b246a-6ab4-4254-b9ad-9fa3b1f1897c",
   "metadata": {},
   "outputs": [],
   "source": []
  }
 ],
 "metadata": {
  "kernelspec": {
   "display_name": "Python 3 (ipykernel)",
   "language": "python",
   "name": "python3"
  },
  "language_info": {
   "codemirror_mode": {
    "name": "ipython",
    "version": 3
   },
   "file_extension": ".py",
   "mimetype": "text/x-python",
   "name": "python",
   "nbconvert_exporter": "python",
   "pygments_lexer": "ipython3",
   "version": "3.12.8"
  }
 },
 "nbformat": 4,
 "nbformat_minor": 5
}
