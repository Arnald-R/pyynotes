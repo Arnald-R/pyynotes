{
 "cells": [
  {
   "cell_type": "code",
   "execution_count": null,
   "id": "8d09e9ac-1a98-4318-8af7-c64d02566db2",
   "metadata": {},
   "outputs": [],
   "source": [
    "#created at 20250319"
   ]
  },
  {
   "cell_type": "code",
   "execution_count": null,
   "id": "63308a48-6ed4-4399-a292-9851b2d51b4c",
   "metadata": {},
   "outputs": [],
   "source": [
    "#https://stevejoe1412.gitbook.io/ssn/python-subtopics/16.-pep-8-compliance"
   ]
  },
  {
   "cell_type": "code",
   "execution_count": null,
   "id": "7f540269-ec9d-4828-ad3f-ca17516267b8",
   "metadata": {},
   "outputs": [],
   "source": [
    "#spaces in expressions and parameters"
   ]
  },
  {
   "cell_type": "code",
   "execution_count": 1,
   "id": "adf91655-b1ef-457a-ba88-6ddf7467f9ee",
   "metadata": {},
   "outputs": [],
   "source": [
    "#correct spacing\n",
    "a = 10 + 20\n",
    "b = [1, 2, 3, 4]\n",
    "c = (x * y for x, y in zip(range(3), range(4)))"
   ]
  },
  {
   "cell_type": "code",
   "execution_count": 2,
   "id": "2af2e3ef-6bc2-444b-9a8b-6e92a36a0834",
   "metadata": {},
   "outputs": [],
   "source": [
    "#incorrect  spacing \n",
    "\n",
    "a =10+20\n",
    "b= [1,2,3,4]"
   ]
  },
  {
   "cell_type": "code",
   "execution_count": null,
   "id": "a61b307d-9b52-4138-9d8f-38c0d8f4befe",
   "metadata": {},
   "outputs": [],
   "source": []
  }
 ],
 "metadata": {
  "kernelspec": {
   "display_name": "Python 3 (ipykernel)",
   "language": "python",
   "name": "python3"
  },
  "language_info": {
   "codemirror_mode": {
    "name": "ipython",
    "version": 3
   },
   "file_extension": ".py",
   "mimetype": "text/x-python",
   "name": "python",
   "nbconvert_exporter": "python",
   "pygments_lexer": "ipython3",
   "version": "3.12.8"
  }
 },
 "nbformat": 4,
 "nbformat_minor": 5
}
