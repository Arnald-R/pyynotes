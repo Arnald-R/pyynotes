{
 "cells": [
  {
   "cell_type": "code",
   "execution_count": null,
   "id": "1d6d7faf-3c82-4917-a6e5-c4edf632d29f",
   "metadata": {},
   "outputs": [],
   "source": [
    "#created at 20250319"
   ]
  },
  {
   "cell_type": "code",
   "execution_count": null,
   "id": "59188cfc-d27a-459c-a2b0-2eeb5ce36582",
   "metadata": {},
   "outputs": [],
   "source": [
    "#https://stevejoe1412.gitbook.io/ssn/python-subtopics/16.-pep-8-compliance"
   ]
  },
  {
   "cell_type": "code",
   "execution_count": null,
   "id": "6e33c9f6-9bdc-4fea-9803-0dabc210a2d0",
   "metadata": {},
   "outputs": [],
   "source": [
    "#Blank line"
   ]
  },
  {
   "cell_type": "code",
   "execution_count": 1,
   "id": "29604e6f-db69-4955-970e-edf19d7e9c3e",
   "metadata": {},
   "outputs": [],
   "source": [
    "class MyClass:\n",
    "    def __init(self):\n",
    "        pass\n",
    "#between class methods been list by one line blank\n",
    "    def my_method(self):\n",
    "        pass\n"
   ]
  },
  {
   "cell_type": "code",
   "execution_count": 2,
   "id": "4637f526-9934-4d99-9da1-f85003efba7f",
   "metadata": {},
   "outputs": [],
   "source": [
    "def another_function():\n",
    "    pass"
   ]
  },
  {
   "cell_type": "code",
   "execution_count": null,
   "id": "72d7af3b-c757-458d-893d-f862cd8f37de",
   "metadata": {},
   "outputs": [],
   "source": []
  }
 ],
 "metadata": {
  "kernelspec": {
   "display_name": "Python 3 (ipykernel)",
   "language": "python",
   "name": "python3"
  },
  "language_info": {
   "codemirror_mode": {
    "name": "ipython",
    "version": 3
   },
   "file_extension": ".py",
   "mimetype": "text/x-python",
   "name": "python",
   "nbconvert_exporter": "python",
   "pygments_lexer": "ipython3",
   "version": "3.12.8"
  }
 },
 "nbformat": 4,
 "nbformat_minor": 5
}
