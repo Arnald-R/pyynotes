{
 "cells": [
  {
   "cell_type": "code",
   "execution_count": null,
   "id": "4435d8af-47eb-4a73-8c00-d240ac621768",
   "metadata": {},
   "outputs": [],
   "source": [
    "#created at 20250319"
   ]
  },
  {
   "cell_type": "code",
   "execution_count": null,
   "id": "d7898f4b-2147-4ae2-a4bb-c107f83d8e68",
   "metadata": {},
   "outputs": [],
   "source": [
    "#https://stevejoe1412.gitbook.io/ssn/python-subtopics/16.-pep-8-compliance"
   ]
  },
  {
   "cell_type": "code",
   "execution_count": null,
   "id": "b574bbac-fc09-4b1c-aec3-83159ebcdf0d",
   "metadata": {},
   "outputs": [],
   "source": [
    "#Line Length"
   ]
  },
  {
   "cell_type": "code",
   "execution_count": null,
   "id": "dacdfe61-5c3e-4d2a-84d1-28072a76b89b",
   "metadata": {},
   "outputs": [],
   "source": [
    "#correct line length\n",
    "long_string = (\" This is a long string i have ever seen like this much nice statement over \"\n",
    "               \"in the world have to check the parameters of the string\"\n",
    "              )"
   ]
  }
 ],
 "metadata": {
  "kernelspec": {
   "display_name": "Python 3 (ipykernel)",
   "language": "python",
   "name": "python3"
  },
  "language_info": {
   "codemirror_mode": {
    "name": "ipython",
    "version": 3
   },
   "file_extension": ".py",
   "mimetype": "text/x-python",
   "name": "python",
   "nbconvert_exporter": "python",
   "pygments_lexer": "ipython3",
   "version": "3.12.8"
  }
 },
 "nbformat": 4,
 "nbformat_minor": 5
}
