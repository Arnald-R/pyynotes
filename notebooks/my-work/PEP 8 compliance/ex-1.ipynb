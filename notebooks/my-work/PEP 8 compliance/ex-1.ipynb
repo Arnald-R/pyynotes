{
 "cells": [
  {
   "cell_type": "code",
   "execution_count": null,
   "id": "ca67eacc-2ce6-4731-a3dd-39f171875fd5",
   "metadata": {},
   "outputs": [],
   "source": [
    "#created at 20250319"
   ]
  },
  {
   "cell_type": "code",
   "execution_count": null,
   "id": "dbef201f-d816-4fe3-b20d-a7375a43b464",
   "metadata": {},
   "outputs": [],
   "source": [
    "#https://stevejoe1412.gitbook.io/ssn/python-subtopics/16.-pep-8-compliance"
   ]
  },
  {
   "cell_type": "code",
   "execution_count": null,
   "id": "bbeb9cd5-7f5e-4d28-8f90-fc50cf11fa10",
   "metadata": {},
   "outputs": [],
   "source": [
    "#Import Statements"
   ]
  },
  {
   "cell_type": "code",
   "execution_count": 1,
   "id": "c18fe92a-e854-4284-89cc-45e7a9ddd6eb",
   "metadata": {},
   "outputs": [],
   "source": [
    "#standard imports\n",
    "import sys\n",
    "import os"
   ]
  },
  {
   "cell_type": "code",
   "execution_count": 2,
   "id": "b46083da-2c4f-4a33-8ec6-177a1bcdd71b",
   "metadata": {},
   "outputs": [],
   "source": [
    "#third party imports\n",
    "import requests"
   ]
  },
  {
   "cell_type": "code",
   "execution_count": 3,
   "id": "0b264d1b-d9ea-446e-8d44-c0906ce0c1a9",
   "metadata": {},
   "outputs": [
    {
     "ename": "ModuleNotFoundError",
     "evalue": "No module named 'my_module'",
     "output_type": "error",
     "traceback": [
      "\u001b[0;31m---------------------------------------------------------------------------\u001b[0m",
      "\u001b[0;31mModuleNotFoundError\u001b[0m                       Traceback (most recent call last)",
      "Cell \u001b[0;32mIn[3], line 2\u001b[0m\n\u001b[1;32m      1\u001b[0m \u001b[38;5;66;03m#local imports \u001b[39;00m\n\u001b[0;32m----> 2\u001b[0m \u001b[38;5;28;01mfrom\u001b[39;00m\u001b[38;5;250m \u001b[39m\u001b[38;5;21;01mmy_module\u001b[39;00m\u001b[38;5;250m \u001b[39m\u001b[38;5;28;01mimport\u001b[39;00m my_function\n",
      "\u001b[0;31mModuleNotFoundError\u001b[0m: No module named 'my_module'"
     ]
    }
   ],
   "source": [
    "#local imports \n",
    "from my_module import my_function"
   ]
  },
  {
   "cell_type": "code",
   "execution_count": null,
   "id": "d8c57455-3841-4b47-b436-f219197a709a",
   "metadata": {},
   "outputs": [],
   "source": []
  }
 ],
 "metadata": {
  "kernelspec": {
   "display_name": "Python 3 (ipykernel)",
   "language": "python",
   "name": "python3"
  },
  "language_info": {
   "codemirror_mode": {
    "name": "ipython",
    "version": 3
   },
   "file_extension": ".py",
   "mimetype": "text/x-python",
   "name": "python",
   "nbconvert_exporter": "python",
   "pygments_lexer": "ipython3",
   "version": "3.12.8"
  }
 },
 "nbformat": 4,
 "nbformat_minor": 5
}
