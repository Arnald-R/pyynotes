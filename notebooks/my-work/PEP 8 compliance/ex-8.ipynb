{
 "cells": [
  {
   "cell_type": "code",
   "execution_count": null,
   "id": "e99aaf3c-a2a0-4507-a4de-c6345d5027cb",
   "metadata": {},
   "outputs": [],
   "source": [
    "#created at 20250319"
   ]
  },
  {
   "cell_type": "code",
   "execution_count": null,
   "id": "8157af8e-331c-4b1f-9f2e-9fa1d7b2d226",
   "metadata": {},
   "outputs": [],
   "source": [
    "#https://stevejoe1412.gitbook.io/ssn/python-subtopics/16.-pep-8-compliance"
   ]
  },
  {
   "cell_type": "code",
   "execution_count": null,
   "id": "efae7107-2cdf-40a8-8ba2-f6e549ac0fcb",
   "metadata": {},
   "outputs": [],
   "source": [
    "#Commenting code"
   ]
  },
  {
   "cell_type": "code",
   "execution_count": 1,
   "id": "50539aef-1de1-4680-8d0e-944eb7c2dc60",
   "metadata": {},
   "outputs": [],
   "source": [
    "#Correct comment-----------comment start with the capital\n",
    "def add(x, y):\n",
    "    #This function return the sum of x and y\n",
    "    return x + y"
   ]
  },
  {
   "cell_type": "code",
   "execution_count": 2,
   "id": "35c78a38-076e-4689-a9cc-89a0143d8c31",
   "metadata": {},
   "outputs": [],
   "source": [
    "#Incorrect Comment\n",
    "def add(x,y):\n",
    "    # add x and y\n",
    "    return x + y"
   ]
  },
  {
   "cell_type": "code",
   "execution_count": null,
   "id": "498d81a5-dc26-4edf-b089-70aab4a16649",
   "metadata": {},
   "outputs": [],
   "source": []
  }
 ],
 "metadata": {
  "kernelspec": {
   "display_name": "Python 3 (ipykernel)",
   "language": "python",
   "name": "python3"
  },
  "language_info": {
   "codemirror_mode": {
    "name": "ipython",
    "version": 3
   },
   "file_extension": ".py",
   "mimetype": "text/x-python",
   "name": "python",
   "nbconvert_exporter": "python",
   "pygments_lexer": "ipython3",
   "version": "3.12.8"
  }
 },
 "nbformat": 4,
 "nbformat_minor": 5
}
