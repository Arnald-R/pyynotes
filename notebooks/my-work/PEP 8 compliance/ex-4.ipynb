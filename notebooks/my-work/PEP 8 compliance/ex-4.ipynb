{
 "cells": [
  {
   "cell_type": "code",
   "execution_count": null,
   "id": "75b78296-e21b-4240-a9c3-f84cf5924ad1",
   "metadata": {},
   "outputs": [],
   "source": [
    "#created at 20250319"
   ]
  },
  {
   "cell_type": "code",
   "execution_count": null,
   "id": "3e47838f-4388-4f69-b2ca-bc267bf50de7",
   "metadata": {},
   "outputs": [],
   "source": [
    "#https://stevejoe1412.gitbook.io/ssn/python-subtopics/16.-pep-8-compliance"
   ]
  },
  {
   "cell_type": "code",
   "execution_count": null,
   "id": "f5c5fdbd-e86d-4109-812f-38c94e9d6101",
   "metadata": {},
   "outputs": [],
   "source": [
    "#Indendation"
   ]
  },
  {
   "cell_type": "code",
   "execution_count": 2,
   "id": "5e8d4ec9-129a-425c-b0c9-4c0b880d7b9d",
   "metadata": {},
   "outputs": [],
   "source": [
    "def greet(name):\n",
    "    if name:\n",
    "        print(f\"Hello :{name}\")\n",
    "    else:\n",
    "        print(\"helo world\")"
   ]
  },
  {
   "cell_type": "code",
   "execution_count": 4,
   "id": "534eaa26-bb2c-449c-8ddd-5f2ac8a6334f",
   "metadata": {},
   "outputs": [
    {
     "name": "stdout",
     "output_type": "stream",
     "text": [
      "Hello :Arnald\n"
     ]
    }
   ],
   "source": [
    "great =greet(\"Arnald\")"
   ]
  },
  {
   "cell_type": "code",
   "execution_count": null,
   "id": "1fbea604-e9a2-4bd8-bc45-0619d87f0e7e",
   "metadata": {},
   "outputs": [],
   "source": []
  }
 ],
 "metadata": {
  "kernelspec": {
   "display_name": "Python 3 (ipykernel)",
   "language": "python",
   "name": "python3"
  },
  "language_info": {
   "codemirror_mode": {
    "name": "ipython",
    "version": 3
   },
   "file_extension": ".py",
   "mimetype": "text/x-python",
   "name": "python",
   "nbconvert_exporter": "python",
   "pygments_lexer": "ipython3",
   "version": "3.12.8"
  }
 },
 "nbformat": 4,
 "nbformat_minor": 5
}
