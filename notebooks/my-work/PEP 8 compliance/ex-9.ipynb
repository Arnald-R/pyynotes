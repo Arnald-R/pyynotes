{
 "cells": [
  {
   "cell_type": "code",
   "execution_count": null,
   "id": "2b79885b-104e-4cea-a4ed-51fb065fc40d",
   "metadata": {},
   "outputs": [],
   "source": [
    "#created at 20250319"
   ]
  },
  {
   "cell_type": "code",
   "execution_count": null,
   "id": "11c678e5-2ec2-4e86-83ff-2f10b76c1021",
   "metadata": {},
   "outputs": [],
   "source": [
    "#https://stevejoe1412.gitbook.io/ssn/python-subtopics/16.-pep-8-compliance"
   ]
  },
  {
   "cell_type": "code",
   "execution_count": null,
   "id": "7ed937e4-0b86-490f-b461-f91b2569b7cf",
   "metadata": {},
   "outputs": [],
   "source": [
    "#Docstrings for functions and Methods"
   ]
  },
  {
   "cell_type": "code",
   "execution_count": null,
   "id": "6f690e7a-dff4-4de1-b97e-7a850edf0ed1",
   "metadata": {},
   "outputs": [],
   "source": [
    "#it should summarize the all the behavior and list its arguments and return values"
   ]
  },
  {
   "cell_type": "code",
   "execution_count": 1,
   "id": "aa58e8d9-9352-4902-8bd2-a8d12236af8a",
   "metadata": {},
   "outputs": [],
   "source": [
    "def add(a, b):\n",
    "    \"\"\"\n",
    "    Add two numbers together.\n",
    "\n",
    "    Parameters:\n",
    "    a (int or float): The first number.\n",
    "    b (int or float): The second number.\n",
    "\n",
    "    Returns:\n",
    "    int or float : The sum of the two numbers.\n",
    "    \"\"\"\n",
    "    return a + b"
   ]
  },
  {
   "cell_type": "code",
   "execution_count": null,
   "id": "c177f43e-c251-4c9c-bfe7-a508f639916f",
   "metadata": {},
   "outputs": [],
   "source": []
  }
 ],
 "metadata": {
  "kernelspec": {
   "display_name": "Python 3 (ipykernel)",
   "language": "python",
   "name": "python3"
  },
  "language_info": {
   "codemirror_mode": {
    "name": "ipython",
    "version": 3
   },
   "file_extension": ".py",
   "mimetype": "text/x-python",
   "name": "python",
   "nbconvert_exporter": "python",
   "pygments_lexer": "ipython3",
   "version": "3.12.8"
  }
 },
 "nbformat": 4,
 "nbformat_minor": 5
}
