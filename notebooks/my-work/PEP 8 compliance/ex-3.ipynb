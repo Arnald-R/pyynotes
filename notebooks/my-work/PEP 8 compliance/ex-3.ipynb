{
 "cells": [
  {
   "cell_type": "code",
   "execution_count": null,
   "id": "55daf2db-2936-4523-b565-f10c33ec81b3",
   "metadata": {},
   "outputs": [],
   "source": [
    "#created at 20250319"
   ]
  },
  {
   "cell_type": "code",
   "execution_count": null,
   "id": "b0144f02-03a7-4658-a14a-276c5a4a2093",
   "metadata": {},
   "outputs": [],
   "source": [
    "#https://stevejoe1412.gitbook.io/ssn/python-subtopics/16.-pep-8-compliance"
   ]
  },
  {
   "cell_type": "code",
   "execution_count": null,
   "id": "260bc3d6-d783-4b48-a16b-7abd1b991b7c",
   "metadata": {},
   "outputs": [],
   "source": [
    "#function naming"
   ]
  },
  {
   "cell_type": "code",
   "execution_count": 1,
   "id": "f999d775-5612-4d5c-9898-4d96b44c555b",
   "metadata": {},
   "outputs": [],
   "source": [
    "def calculate_area(radius):\n",
    "    return 3.14 *radius * radius"
   ]
  },
  {
   "cell_type": "code",
   "execution_count": 2,
   "id": "3fd38436-7377-461d-b5c6-0efcf53f8237",
   "metadata": {},
   "outputs": [],
   "source": [
    "#calling the function\n",
    "area = calculate_area(5)"
   ]
  },
  {
   "cell_type": "code",
   "execution_count": 3,
   "id": "0103b439-6a0b-4272-a726-9a3cd92c7178",
   "metadata": {},
   "outputs": [
    {
     "name": "stdout",
     "output_type": "stream",
     "text": [
      "78.5\n"
     ]
    }
   ],
   "source": [
    "print(area)"
   ]
  },
  {
   "cell_type": "code",
   "execution_count": null,
   "id": "154f03f4-5ea3-438a-aa8c-568ba16bb5d4",
   "metadata": {},
   "outputs": [],
   "source": []
  }
 ],
 "metadata": {
  "kernelspec": {
   "display_name": "Python 3 (ipykernel)",
   "language": "python",
   "name": "python3"
  },
  "language_info": {
   "codemirror_mode": {
    "name": "ipython",
    "version": 3
   },
   "file_extension": ".py",
   "mimetype": "text/x-python",
   "name": "python",
   "nbconvert_exporter": "python",
   "pygments_lexer": "ipython3",
   "version": "3.12.8"
  }
 },
 "nbformat": 4,
 "nbformat_minor": 5
}
