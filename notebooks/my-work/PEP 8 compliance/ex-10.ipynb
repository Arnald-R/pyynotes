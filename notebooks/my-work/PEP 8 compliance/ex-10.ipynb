{
 "cells": [
  {
   "cell_type": "code",
   "execution_count": null,
   "id": "1bf20d57-9744-40e4-92d7-cb89c87dd81f",
   "metadata": {},
   "outputs": [],
   "source": [
    "#created at 20250319"
   ]
  },
  {
   "cell_type": "code",
   "execution_count": null,
   "id": "fc0801e8-1dfd-47e7-8e59-872693e5500f",
   "metadata": {},
   "outputs": [],
   "source": [
    "#https://stevejoe1412.gitbook.io/ssn/python-subtopics/16.-pep-8-compliance"
   ]
  },
  {
   "cell_type": "code",
   "execution_count": null,
   "id": "345eb92f-a139-4fda-a15b-f2b3a74e22d7",
   "metadata": {},
   "outputs": [],
   "source": [
    "#consistent use of self in class Methods"
   ]
  },
  {
   "cell_type": "code",
   "execution_count": null,
   "id": "45e3416c-2f0f-4684-bef7-f17bcbd28f0b",
   "metadata": {},
   "outputs": [],
   "source": [
    "#PEP 8 specifies that the first argument of an instance method in a class should always be self,\n"
   ]
  },
  {
   "cell_type": "code",
   "execution_count": 1,
   "id": "fa086d67-ea40-49e6-bdbc-1e2e6b9675d5",
   "metadata": {},
   "outputs": [],
   "source": [
    "class MyClass:\n",
    "    def instance_method(self, param):\n",
    "        print(f\"Instance method called with Param\")\n",
    "\n",
    "    @classmethod#while the first argument of a class method should always be cls.\n",
    "    def class_method(cls, param):\n",
    "        print(f\"class method called with:{param}\")"
   ]
  },
  {
   "cell_type": "code",
   "execution_count": null,
   "id": "4f5dafc9-fe7e-4887-b71f-8edfe57a2dda",
   "metadata": {},
   "outputs": [],
   "source": []
  }
 ],
 "metadata": {
  "kernelspec": {
   "display_name": "Python 3 (ipykernel)",
   "language": "python",
   "name": "python3"
  },
  "language_info": {
   "codemirror_mode": {
    "name": "ipython",
    "version": 3
   },
   "file_extension": ".py",
   "mimetype": "text/x-python",
   "name": "python",
   "nbconvert_exporter": "python",
   "pygments_lexer": "ipython3",
   "version": "3.12.8"
  }
 },
 "nbformat": 4,
 "nbformat_minor": 5
}
