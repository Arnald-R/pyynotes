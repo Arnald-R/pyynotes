{
 "cells": [
  {
   "cell_type": "code",
   "execution_count": null,
   "id": "b445a4e0-2654-449b-875e-458c4151b7ae",
   "metadata": {},
   "outputs": [],
   "source": [
    "#created at 20250319"
   ]
  },
  {
   "cell_type": "code",
   "execution_count": null,
   "id": "3047938e-14f9-40ed-b4d8-a024150208ff",
   "metadata": {},
   "outputs": [],
   "source": [
    "#https://stevejoe1412.gitbook.io/ssn/python-subtopics/16.-pep-8-compliance"
   ]
  },
  {
   "cell_type": "code",
   "execution_count": null,
   "id": "300de3e0-7177-4977-84f5-3bb61e58edff",
   "metadata": {},
   "outputs": [],
   "source": [
    "#Variable Naming"
   ]
  },
  {
   "cell_type": "code",
   "execution_count": 1,
   "id": "7ea88f12-6133-4359-b1a2-a89aec76ea2e",
   "metadata": {},
   "outputs": [],
   "source": [
    "my_variable = 10"
   ]
  },
  {
   "cell_type": "code",
   "execution_count": 2,
   "id": "f86a2a24-76b1-4dd2-b61b-da3f6fd9b765",
   "metadata": {},
   "outputs": [],
   "source": [
    "my_long_variable = 20"
   ]
  },
  {
   "cell_type": "code",
   "execution_count": 4,
   "id": "688321c5-ce49-4624-a486-c61ef66484f9",
   "metadata": {},
   "outputs": [],
   "source": [
    "#correct class Naming\n",
    "def MyClass():\n",
    "    pass"
   ]
  },
  {
   "cell_type": "code",
   "execution_count": null,
   "id": "b50b606c-fc14-46f8-8cf5-5d6357afc350",
   "metadata": {},
   "outputs": [],
   "source": []
  }
 ],
 "metadata": {
  "kernelspec": {
   "display_name": "Python 3 (ipykernel)",
   "language": "python",
   "name": "python3"
  },
  "language_info": {
   "codemirror_mode": {
    "name": "ipython",
    "version": 3
   },
   "file_extension": ".py",
   "mimetype": "text/x-python",
   "name": "python",
   "nbconvert_exporter": "python",
   "pygments_lexer": "ipython3",
   "version": "3.12.8"
  }
 },
 "nbformat": 4,
 "nbformat_minor": 5
}
