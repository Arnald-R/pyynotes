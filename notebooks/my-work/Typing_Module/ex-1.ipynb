{
 "cells": [
  {
   "cell_type": "code",
   "execution_count": 1,
   "id": "fa8f7893-9641-429e-87e3-d931094066dc",
   "metadata": {},
   "outputs": [],
   "source": [
    "#created at 20250304"
   ]
  },
  {
   "cell_type": "code",
   "execution_count": 2,
   "id": "4bde01a3-4c97-401d-9d70-247d233309dc",
   "metadata": {},
   "outputs": [],
   "source": [
    "#https://stevejoe1412.gitbook.io/ssn/python-subtopics/1.-typing-module"
   ]
  },
  {
   "cell_type": "code",
   "execution_count": 2,
   "id": "5d4cd75d-d698-4997-9bb1-9f7c21abd982",
   "metadata": {},
   "outputs": [],
   "source": [
    "from typing import List"
   ]
  },
  {
   "cell_type": "code",
   "execution_count": 3,
   "id": "1a6cb0ab-9396-4c87-8abf-39f44a217db2",
   "metadata": {},
   "outputs": [],
   "source": [
    "def sum_of_numbers(numbers : List[int]) -> int:\n",
    "    return sum(numbers)"
   ]
  },
  {
   "cell_type": "code",
   "execution_count": 4,
   "id": "a3e54243-9852-4f7a-8452-2957f12c12cc",
   "metadata": {},
   "outputs": [
    {
     "name": "stdout",
     "output_type": "stream",
     "text": [
      "6\n"
     ]
    }
   ],
   "source": [
    "print(sum_of_numbers([1,2,3]))"
   ]
  },
  {
   "cell_type": "code",
   "execution_count": null,
   "id": "bbd87b94-9b87-4dd6-a3d4-cdc7f4876ddc",
   "metadata": {},
   "outputs": [],
   "source": []
  }
 ],
 "metadata": {
  "kernelspec": {
   "display_name": "Python 3 (ipykernel)",
   "language": "python",
   "name": "python3"
  },
  "language_info": {
   "codemirror_mode": {
    "name": "ipython",
    "version": 3
   },
   "file_extension": ".py",
   "mimetype": "text/x-python",
   "name": "python",
   "nbconvert_exporter": "python",
   "pygments_lexer": "ipython3",
   "version": "3.12.8"
  }
 },
 "nbformat": 4,
 "nbformat_minor": 5
}
