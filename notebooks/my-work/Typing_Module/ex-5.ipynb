{
 "cells": [
  {
   "cell_type": "code",
   "execution_count": 1,
   "id": "5455c1f7-12d9-4cb1-9cc0-96980f3956a9",
   "metadata": {},
   "outputs": [],
   "source": [
    "#created at 20250307"
   ]
  },
  {
   "cell_type": "code",
   "execution_count": 2,
   "id": "ecfd8ab5-a974-498b-b97b-45795cfa8047",
   "metadata": {},
   "outputs": [],
   "source": [
    "#https://stevejoe1412.gitbook.io/ssn/python-subtopics/1.-typing-module"
   ]
  },
  {
   "cell_type": "code",
   "execution_count": null,
   "id": "f74f1a91-536c-47ef-87ce-b4039788daba",
   "metadata": {},
   "outputs": [],
   "source": [
    "Custome type aliases"
   ]
  },
  {
   "cell_type": "code",
   "execution_count": 3,
   "id": "dd8a9624-fec3-4ffa-a5ff-25cafcef9c28",
   "metadata": {},
   "outputs": [],
   "source": [
    "from typing import List"
   ]
  },
  {
   "cell_type": "code",
   "execution_count": 4,
   "id": "7d60ac5a-8042-428a-880e-d689dbf509c7",
   "metadata": {},
   "outputs": [],
   "source": [
    "Vector = List[float]"
   ]
  },
  {
   "cell_type": "code",
   "execution_count": 5,
   "id": "123fb547-ffca-4ef2-b2d3-158f8aa0d2b2",
   "metadata": {},
   "outputs": [],
   "source": [
    "def dot_product(vec1 :Vector, vec2 : Vector) -> float:\n",
    "    return sum(x * y for x, y in zip(vec1, vec2)) "
   ]
  },
  {
   "cell_type": "code",
   "execution_count": 6,
   "id": "0c0ddd7b-eb1e-4eed-b203-109130d8505d",
   "metadata": {},
   "outputs": [
    {
     "name": "stdout",
     "output_type": "stream",
     "text": [
      "36.0\n"
     ]
    }
   ],
   "source": [
    "print(dot_product([1.0,4.0],[4.0,8.0]))"
   ]
  },
  {
   "cell_type": "code",
   "execution_count": null,
   "id": "6de06564-a2da-41b7-9f03-800d731ad60f",
   "metadata": {},
   "outputs": [],
   "source": []
  }
 ],
 "metadata": {
  "kernelspec": {
   "display_name": "Python 3 (ipykernel)",
   "language": "python",
   "name": "python3"
  },
  "language_info": {
   "codemirror_mode": {
    "name": "ipython",
    "version": 3
   },
   "file_extension": ".py",
   "mimetype": "text/x-python",
   "name": "python",
   "nbconvert_exporter": "python",
   "pygments_lexer": "ipython3",
   "version": "3.12.8"
  }
 },
 "nbformat": 4,
 "nbformat_minor": 5
}
