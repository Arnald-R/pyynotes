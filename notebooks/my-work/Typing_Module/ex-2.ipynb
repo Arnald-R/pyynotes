{
 "cells": [
  {
   "cell_type": "code",
   "execution_count": 1,
   "id": "ba26024f-2c7f-48b8-86fc-01708dbb0e40",
   "metadata": {},
   "outputs": [],
   "source": [
    "#created at 20250307"
   ]
  },
  {
   "cell_type": "code",
   "execution_count": null,
   "id": "5fefdc0d-45d9-41fc-86d4-758f6a240820",
   "metadata": {},
   "outputs": [],
   "source": [
    "https://stevejoe1412.gitbook.io/ssn/python-subtopics/1.-typing-module"
   ]
  },
  {
   "cell_type": "code",
   "execution_count": null,
   "id": "8e1d04c0-3750-45a1-87b2-2b2020fa0f1e",
   "metadata": {},
   "outputs": [],
   "source": []
  },
  {
   "cell_type": "code",
   "execution_count": 2,
   "id": "d9a0a18d-f6e2-4e3d-aeee-b304413f8a0a",
   "metadata": {},
   "outputs": [],
   "source": [
    "#Using Optional for Nullable Parameters"
   ]
  },
  {
   "cell_type": "code",
   "execution_count": 3,
   "id": "77913a2a-3b33-4cc9-afc9-728c02384dcc",
   "metadata": {},
   "outputs": [],
   "source": [
    "from typing import Optional"
   ]
  },
  {
   "cell_type": "code",
   "execution_count": 4,
   "id": "9dd0db26-35fe-4e99-9df8-59540be002b9",
   "metadata": {},
   "outputs": [],
   "source": [
    "def greet(name: Optional[str] = None) -> str:\n",
    "    if name:\n",
    "        return f\"Hello,{name}\"\n",
    "    return \"Hello,Guest\""
   ]
  },
  {
   "cell_type": "code",
   "execution_count": 6,
   "id": "7972f81c-068f-40db-8618-cd70bfecf049",
   "metadata": {},
   "outputs": [
    {
     "name": "stdout",
     "output_type": "stream",
     "text": [
      "Hello,Arnald\n"
     ]
    }
   ],
   "source": [
    "print(greet(\"Arnald\"))"
   ]
  },
  {
   "cell_type": "code",
   "execution_count": 7,
   "id": "ea311ada-3099-4faa-b305-026a9ce47d98",
   "metadata": {},
   "outputs": [
    {
     "name": "stdout",
     "output_type": "stream",
     "text": [
      "Hello,Guest\n"
     ]
    }
   ],
   "source": [
    "print(greet())"
   ]
  },
  {
   "cell_type": "code",
   "execution_count": null,
   "id": "e01b654c-d70c-4546-aa78-4bc48a5d796f",
   "metadata": {},
   "outputs": [],
   "source": []
  }
 ],
 "metadata": {
  "kernelspec": {
   "display_name": "Python 3 (ipykernel)",
   "language": "python",
   "name": "python3"
  },
  "language_info": {
   "codemirror_mode": {
    "name": "ipython",
    "version": 3
   },
   "file_extension": ".py",
   "mimetype": "text/x-python",
   "name": "python",
   "nbconvert_exporter": "python",
   "pygments_lexer": "ipython3",
   "version": "3.12.8"
  }
 },
 "nbformat": 4,
 "nbformat_minor": 5
}
