{
 "cells": [
  {
   "cell_type": "code",
   "execution_count": 1,
   "id": "51798ccb-84e2-4543-9e51-bac4b2260251",
   "metadata": {},
   "outputs": [],
   "source": [
    "#created at 20250307"
   ]
  },
  {
   "cell_type": "code",
   "execution_count": 2,
   "id": "e36f4aed-fcda-45a9-a93c-2c69fbecfaa2",
   "metadata": {},
   "outputs": [],
   "source": [
    "#Using Any for Flexible Input"
   ]
  },
  {
   "cell_type": "code",
   "execution_count": 3,
   "id": "30c9a793-5a70-447a-9856-2af77534e669",
   "metadata": {},
   "outputs": [],
   "source": [
    "#https://stevejoe1412.gitbook.io/ssn/python-subtopics/1.-typing-module"
   ]
  },
  {
   "cell_type": "code",
   "execution_count": 4,
   "id": "379aeb2e-e510-4f12-9725-d99836f90741",
   "metadata": {},
   "outputs": [],
   "source": [
    "from typing import Any"
   ]
  },
  {
   "cell_type": "code",
   "execution_count": 5,
   "id": "0b31c5c9-00af-4359-94ec-217f68dda4df",
   "metadata": {},
   "outputs": [],
   "source": [
    "def stringify(value :Any) -> str:\n",
    "    return str(value)"
   ]
  },
  {
   "cell_type": "code",
   "execution_count": 6,
   "id": "b62d04a9-45ad-497c-8559-d4c414fb539a",
   "metadata": {},
   "outputs": [
    {
     "name": "stdout",
     "output_type": "stream",
     "text": [
      "2.0\n"
     ]
    }
   ],
   "source": [
    "print(stringify(2.0))"
   ]
  },
  {
   "cell_type": "code",
   "execution_count": 7,
   "id": "6eea006c-52dd-4440-8029-2085a887d20e",
   "metadata": {},
   "outputs": [
    {
     "name": "stdout",
     "output_type": "stream",
     "text": [
      "2\n"
     ]
    }
   ],
   "source": [
    "print(stringify(2))"
   ]
  },
  {
   "cell_type": "code",
   "execution_count": 8,
   "id": "28b77263-2a14-4435-a5af-286059e72bf8",
   "metadata": {},
   "outputs": [
    {
     "name": "stdout",
     "output_type": "stream",
     "text": [
      "[1, 23, 4]\n"
     ]
    }
   ],
   "source": [
    "print(stringify([1,23,4]))"
   ]
  },
  {
   "cell_type": "code",
   "execution_count": null,
   "id": "986305be-3990-47d6-bbb8-c3d6350fd63f",
   "metadata": {},
   "outputs": [],
   "source": []
  }
 ],
 "metadata": {
  "kernelspec": {
   "display_name": "Python 3 (ipykernel)",
   "language": "python",
   "name": "python3"
  },
  "language_info": {
   "codemirror_mode": {
    "name": "ipython",
    "version": 3
   },
   "file_extension": ".py",
   "mimetype": "text/x-python",
   "name": "python",
   "nbconvert_exporter": "python",
   "pygments_lexer": "ipython3",
   "version": "3.12.8"
  }
 },
 "nbformat": 4,
 "nbformat_minor": 5
}
