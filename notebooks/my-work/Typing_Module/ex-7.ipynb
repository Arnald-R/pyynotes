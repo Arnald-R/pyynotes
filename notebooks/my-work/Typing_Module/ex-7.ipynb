{
 "cells": [
  {
   "cell_type": "code",
   "execution_count": 1,
   "id": "7495cf06-a62c-4ee1-becb-9b1f0a0c4854",
   "metadata": {},
   "outputs": [],
   "source": [
    "#created at 20250307"
   ]
  },
  {
   "cell_type": "code",
   "execution_count": 2,
   "id": "1c897e98-65f2-457a-aae4-11fd149ad3a8",
   "metadata": {},
   "outputs": [],
   "source": [
    "#https://stevejoe1412.gitbook.io/ssn/python-subtopics/1.-typing-module"
   ]
  },
  {
   "cell_type": "code",
   "execution_count": 3,
   "id": "1117f8dc-791d-4914-a530-120487e33f2a",
   "metadata": {},
   "outputs": [],
   "source": [
    "#using tuple for fixed sequences"
   ]
  },
  {
   "cell_type": "code",
   "execution_count": 4,
   "id": "12696347-012b-40a7-a47c-8433ae9cf858",
   "metadata": {},
   "outputs": [],
   "source": [
    "from typing import Tuple"
   ]
  },
  {
   "cell_type": "code",
   "execution_count": 5,
   "id": "9fad4dcb-53b7-4950-a84b-6ec7846fa32d",
   "metadata": {},
   "outputs": [],
   "source": [
    "def coordinates(coords : Tuple[float,float]) -> str:\n",
    "    return f\"latitude :{coords[0]} , longitude : {coords[1]}\""
   ]
  },
  {
   "cell_type": "code",
   "execution_count": 6,
   "id": "4e91c9b8-7692-4864-8b69-9d4c549a143c",
   "metadata": {},
   "outputs": [
    {
     "name": "stdout",
     "output_type": "stream",
     "text": [
      "latitude :40.7128 , longitude : -74.006\n"
     ]
    }
   ],
   "source": [
    "print(coordinates((40.7128,-74.0060)))"
   ]
  },
  {
   "cell_type": "code",
   "execution_count": null,
   "id": "70c3d6d4-8321-49b9-b52f-9644c3f7259d",
   "metadata": {},
   "outputs": [],
   "source": []
  }
 ],
 "metadata": {
  "kernelspec": {
   "display_name": "Python 3 (ipykernel)",
   "language": "python",
   "name": "python3"
  },
  "language_info": {
   "codemirror_mode": {
    "name": "ipython",
    "version": 3
   },
   "file_extension": ".py",
   "mimetype": "text/x-python",
   "name": "python",
   "nbconvert_exporter": "python",
   "pygments_lexer": "ipython3",
   "version": "3.12.8"
  }
 },
 "nbformat": 4,
 "nbformat_minor": 5
}
