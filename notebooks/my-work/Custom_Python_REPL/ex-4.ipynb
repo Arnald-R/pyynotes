{
 "cells": [
  {
   "cell_type": "code",
   "execution_count": null,
   "id": "285beaec-b32f-4c2c-8c93-f8c72b431a50",
   "metadata": {},
   "outputs": [],
   "source": [
    "#createdat 20250324"
   ]
  },
  {
   "cell_type": "code",
   "execution_count": null,
   "id": "bcf55b26-d1c1-4965-9fc7-1112b469fde6",
   "metadata": {},
   "outputs": [],
   "source": [
    "#https://stevejoe1412.gitbook.io/ssn/python-subtopics/20.-custom-python-repl"
   ]
  },
  {
   "cell_type": "code",
   "execution_count": null,
   "id": "43b3e6d9-7ba8-4064-9a4e-ffbf1a1885a5",
   "metadata": {},
   "outputs": [],
   "source": [
    "#Implementing Custom Error Handling"
   ]
  },
  {
   "cell_type": "code",
   "execution_count": 4,
   "id": "bed426fb-81b8-4caa-a916-ebbdd915be02",
   "metadata": {},
   "outputs": [],
   "source": [
    "def custom_repl_with_error_handling():\n",
    "    print(\"Custom python REPL with enhanced error-handling,Type 'exit'to quit\")\n",
    "    while True:\n",
    "            try:\n",
    "                #Read user input\n",
    "                user_input = input(\">>> \")\n",
    "\n",
    "                #Exit condition \n",
    "                if user_input.lower =='exit':\n",
    "                    print(\"Exiting custom REPL\")\n",
    "                    break\n",
    "\n",
    "                #Try Evaluating the Expression first\n",
    "                try:\n",
    "                    result = eval(user_input)\n",
    "                    print(result)\n",
    "                except Exception as exec_error:\n",
    "                    print(f\"Error statement: {exec_error}\")\n",
    "            except Exception as e:\n",
    "                print(f\"unexpected error:{e}\")"
   ]
  },
  {
   "cell_type": "code",
   "execution_count": null,
   "id": "8819a821-d932-4105-9147-9860b5b1811e",
   "metadata": {},
   "outputs": [
    {
     "name": "stdout",
     "output_type": "stream",
     "text": [
      "Custom python REPL with enhanced error-handling,Type 'exit'to quit\n"
     ]
    },
    {
     "name": "stdin",
     "output_type": "stream",
     "text": [
      ">>>  enter\n"
     ]
    },
    {
     "name": "stdout",
     "output_type": "stream",
     "text": [
      "Error statement: name 'enter' is not defined\n"
     ]
    }
   ],
   "source": [
    "custom_repl_with_error_handling()"
   ]
  },
  {
   "cell_type": "code",
   "execution_count": null,
   "id": "6020c216-1f15-4744-b3b9-7061ab4ad3f2",
   "metadata": {},
   "outputs": [],
   "source": []
  }
 ],
 "metadata": {
  "kernelspec": {
   "display_name": "Python 3 (ipykernel)",
   "language": "python",
   "name": "python3"
  },
  "language_info": {
   "codemirror_mode": {
    "name": "ipython",
    "version": 3
   },
   "file_extension": ".py",
   "mimetype": "text/x-python",
   "name": "python",
   "nbconvert_exporter": "python",
   "pygments_lexer": "ipython3",
   "version": "3.12.8"
  }
 },
 "nbformat": 4,
 "nbformat_minor": 5
}
