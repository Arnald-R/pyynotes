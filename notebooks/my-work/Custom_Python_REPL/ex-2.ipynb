{
 "cells": [
  {
   "cell_type": "code",
   "execution_count": null,
   "id": "2b549ba3-374b-4066-abb4-1db26d12d712",
   "metadata": {},
   "outputs": [],
   "source": [
    "#createdat 20250324"
   ]
  },
  {
   "cell_type": "code",
   "execution_count": null,
   "id": "8b9473da-a8ce-43ef-bd92-512116f0d2f3",
   "metadata": {},
   "outputs": [],
   "source": [
    "#https://stevejoe1412.gitbook.io/ssn/python-subtopics/20.-custom-python-repl"
   ]
  },
  {
   "cell_type": "code",
   "execution_count": null,
   "id": "77d6a70d-4974-46cc-87d3-991cf817139d",
   "metadata": {},
   "outputs": [],
   "source": [
    "#Adding exex() statements for function"
   ]
  },
  {
   "cell_type": "code",
   "execution_count": 3,
   "id": "d489c5bd-8a26-4b36-bcec-e98a184f2078",
   "metadata": {},
   "outputs": [],
   "source": [
    "def customer_reply_with_exec():\n",
    "    print(\"custom python REPL with exec. Type exit to quit\")\n",
    "    while True:\n",
    "        try:\n",
    "            #Read user-input\n",
    "            user_input = input(\">>> \")\n",
    "\n",
    "            #exit condition\n",
    "            if user_input.lower() == 'exit':\n",
    "                print(\"Exiting custom REPL\")\n",
    "                break\n",
    "\n",
    "            #Try evaluating the expression first\n",
    "            try:\n",
    "                result = eval(user_input)\n",
    "                print(result)\n",
    "            except Exception:\n",
    "                #If it is not an expression treat it as a statement\n",
    "                exec(user_input)\n",
    "        except Exception as e:\n",
    "            print(f\"Error:{e}\")"
   ]
  },
  {
   "cell_type": "code",
   "execution_count": 4,
   "id": "444e61a4-e653-4041-ad2a-4b375b2b2982",
   "metadata": {},
   "outputs": [
    {
     "name": "stdout",
     "output_type": "stream",
     "text": [
      "custom python REPL with exec. Type exit to quit\n"
     ]
    },
    {
     "name": "stdin",
     "output_type": "stream",
     "text": [
      ">>>  enter\n"
     ]
    },
    {
     "name": "stdout",
     "output_type": "stream",
     "text": [
      "Error:name 'enter' is not defined\n"
     ]
    },
    {
     "name": "stdin",
     "output_type": "stream",
     "text": [
      ">>>  nothing\n"
     ]
    },
    {
     "name": "stdout",
     "output_type": "stream",
     "text": [
      "Error:name 'nothing' is not defined\n"
     ]
    },
    {
     "name": "stdin",
     "output_type": "stream",
     "text": [
      ">>>  exit\n"
     ]
    },
    {
     "name": "stdout",
     "output_type": "stream",
     "text": [
      "Exiting custom REPL\n"
     ]
    }
   ],
   "source": [
    "customer_reply_with_exec()"
   ]
  },
  {
   "cell_type": "code",
   "execution_count": null,
   "id": "e4f9e87e-dcbe-4da4-a83f-34cc768edb7a",
   "metadata": {},
   "outputs": [],
   "source": []
  }
 ],
 "metadata": {
  "kernelspec": {
   "display_name": "Python 3 (ipykernel)",
   "language": "python",
   "name": "python3"
  },
  "language_info": {
   "codemirror_mode": {
    "name": "ipython",
    "version": 3
   },
   "file_extension": ".py",
   "mimetype": "text/x-python",
   "name": "python",
   "nbconvert_exporter": "python",
   "pygments_lexer": "ipython3",
   "version": "3.12.8"
  }
 },
 "nbformat": 4,
 "nbformat_minor": 5
}
