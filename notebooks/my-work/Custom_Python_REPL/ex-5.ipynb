{
 "cells": [
  {
   "cell_type": "code",
   "execution_count": null,
   "id": "f7fa2de2-d6af-47a1-a7c6-15f8bf57d71d",
   "metadata": {},
   "outputs": [],
   "source": [
    "#createdat 20250324"
   ]
  },
  {
   "cell_type": "code",
   "execution_count": null,
   "id": "f2b0f2f3-1c45-4532-8c77-b85bcb8da93c",
   "metadata": {},
   "outputs": [],
   "source": [
    "#https://stevejoe1412.gitbook.io/ssn/python-subtopics/20.-custom-python-repl"
   ]
  },
  {
   "cell_type": "code",
   "execution_count": null,
   "id": "331d722a-0400-4ab7-be15-88598a0683a4",
   "metadata": {},
   "outputs": [],
   "source": [
    "#Maintaining state Across Evaluation"
   ]
  },
  {
   "cell_type": "code",
   "execution_count": 2,
   "id": "298e34f0-8738-4fb8-b10a-d56cb78d1e20",
   "metadata": {},
   "outputs": [],
   "source": [
    "def custom_repl_with_state():\n",
    "    print(\"customer REPL with State, type 'exit' to quit\")\n",
    "    #Maintain a global namespace (state)\n",
    "    global_namespace = {}\n",
    "\n",
    "    while True:\n",
    "        try:\n",
    "            #Read User-input\n",
    "            user_input = input(\">>> \")\n",
    "\n",
    "            #Exit the condition\n",
    "            if user_input.lower == 'exit':\n",
    "                print(\"Exiting custom REPL\")\n",
    "                break\n",
    "\n",
    "            #Evaluating the input wth global state\n",
    "            try:\n",
    "                result = eval(user_input,global_namespace)\n",
    "                print(result)\n",
    "            except Exception:\n",
    "                #If is not an expression.print the statement\n",
    "                exec(user_input,global_namespace)\n",
    "        except Exception as e:\n",
    "            print(f\"Error as:{e}\")"
   ]
  },
  {
   "cell_type": "code",
   "execution_count": null,
   "id": "f9fdffe9-3714-4587-824f-7760a53a235b",
   "metadata": {},
   "outputs": [
    {
     "name": "stdout",
     "output_type": "stream",
     "text": [
      "customer REPL with State, type 'exit' to quit\n"
     ]
    }
   ],
   "source": [
    "custom_repl_with_state()"
   ]
  },
  {
   "cell_type": "code",
   "execution_count": null,
   "id": "6f77a93f-2947-4a27-b639-87e776790123",
   "metadata": {},
   "outputs": [],
   "source": []
  }
 ],
 "metadata": {
  "kernelspec": {
   "display_name": "Python 3 (ipykernel)",
   "language": "python",
   "name": "python3"
  },
  "language_info": {
   "codemirror_mode": {
    "name": "ipython",
    "version": 3
   },
   "file_extension": ".py",
   "mimetype": "text/x-python",
   "name": "python",
   "nbconvert_exporter": "python",
   "pygments_lexer": "ipython3",
   "version": "3.12.8"
  }
 },
 "nbformat": 4,
 "nbformat_minor": 5
}
