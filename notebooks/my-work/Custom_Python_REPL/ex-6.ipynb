{
 "cells": [
  {
   "cell_type": "code",
   "execution_count": null,
   "id": "c6cbb2b0-102c-44eb-8b93-5535e33431f3",
   "metadata": {},
   "outputs": [],
   "source": [
    "#createdat 20250324"
   ]
  },
  {
   "cell_type": "code",
   "execution_count": null,
   "id": "1e331b8c-4b3c-4b5a-84e4-182297293527",
   "metadata": {},
   "outputs": [],
   "source": [
    "#https://stevejoe1412.gitbook.io/ssn/python-subtopics/20.-custom-python-repl"
   ]
  },
  {
   "cell_type": "code",
   "execution_count": null,
   "id": "dc963e51-8dd1-4f75-98b9-1c49cf958925",
   "metadata": {},
   "outputs": [],
   "source": [
    "#Custom REPL with syntax Highhlighting"
   ]
  },
  {
   "cell_type": "code",
   "execution_count": 1,
   "id": "c72af3d4-da41-433e-b9f6-327ccba7c2f5",
   "metadata": {},
   "outputs": [],
   "source": [
    "import struct"
   ]
  },
  {
   "cell_type": "code",
   "execution_count": 3,
   "id": "6ae542aa-803e-4bf5-a184-305ca92c8ac1",
   "metadata": {},
   "outputs": [],
   "source": [
    "from pygments import highlight\n",
    "from pygments.lexers import PythonLexer\n",
    "from pygments.formatters import TerminalFormatter"
   ]
  },
  {
   "cell_type": "code",
   "execution_count": 4,
   "id": "83bc176b-d559-4aa1-8b92-109de4cdd280",
   "metadata": {},
   "outputs": [],
   "source": [
    "def custom_repl_with_syntax_highlighting():\n",
    "    print(\"Custom REPL with syntax highlighting, type 'exit' to quit\")\n",
    "\n",
    "    while True:\n",
    "        try:\n",
    "            #Read input\n",
    "            user_input =input(\">>> \")\n",
    "\n",
    "            #exit the condition \n",
    "            if user_input.lower == 'exit':\n",
    "                print(\"Exiting with custom REPL\")\n",
    "                break\n",
    "\n",
    "            #Syntax highlighting using pygments\n",
    "            highlighted_input = hightlight(user_input,PythonLexer(),TerminalFormatter())\n",
    "            print(highlighted_input)\n",
    "\n",
    "            #Execut the input\n",
    "            try:\n",
    "                result = eval(user_input)\n",
    "                print(result)\n",
    "            except Exception:\n",
    "                exec(user_input)\n",
    "        except Exception as e:\n",
    "            print(f\"Error as {e}\")"
   ]
  },
  {
   "cell_type": "code",
   "execution_count": null,
   "id": "15df676c-8b73-4a6c-a687-9dcfff9d09e8",
   "metadata": {},
   "outputs": [
    {
     "name": "stdout",
     "output_type": "stream",
     "text": [
      "Custom REPL with syntax highlighting, type 'exit' to quit\n"
     ]
    }
   ],
   "source": [
    "custom_repl_with_syntax_highlighting()"
   ]
  },
  {
   "cell_type": "code",
   "execution_count": null,
   "id": "ca96315b-633c-47ef-85e0-9679f09ca53c",
   "metadata": {},
   "outputs": [],
   "source": []
  }
 ],
 "metadata": {
  "kernelspec": {
   "display_name": "Python 3 (ipykernel)",
   "language": "python",
   "name": "python3"
  },
  "language_info": {
   "codemirror_mode": {
    "name": "ipython",
    "version": 3
   },
   "file_extension": ".py",
   "mimetype": "text/x-python",
   "name": "python",
   "nbconvert_exporter": "python",
   "pygments_lexer": "ipython3",
   "version": "3.12.8"
  }
 },
 "nbformat": 4,
 "nbformat_minor": 5
}
