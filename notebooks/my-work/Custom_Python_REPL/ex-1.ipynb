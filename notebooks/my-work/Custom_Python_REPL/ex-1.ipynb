{
 "cells": [
  {
   "cell_type": "code",
   "execution_count": null,
   "id": "2befac10-8d77-4fba-8fed-ebdc18b25514",
   "metadata": {},
   "outputs": [],
   "source": [
    "#created at 20250324"
   ]
  },
  {
   "cell_type": "code",
   "execution_count": null,
   "id": "3a63a8d8-959e-42e4-8eb5-69f9d641882b",
   "metadata": {},
   "outputs": [],
   "source": [
    "#https://stevejoe1412.gitbook.io/ssn/python-subtopics/20.-custom-python-repl"
   ]
  },
  {
   "cell_type": "code",
   "execution_count": null,
   "id": "197073fd-5eb6-4692-857a-0970574436d5",
   "metadata": {},
   "outputs": [],
   "source": [
    "#REPL - Read Evaluate Print Loop"
   ]
  },
  {
   "cell_type": "code",
   "execution_count": null,
   "id": "c935964e-fae7-43f4-8994-e9cf4027189f",
   "metadata": {},
   "outputs": [],
   "source": [
    "#Read - Input from User\n",
    "#Evaluate - eval() and exec() functions\n",
    "#Print - print \n",
    "#loop - allow to continous interaction until user exits"
   ]
  },
  {
   "cell_type": "code",
   "execution_count": null,
   "id": "5f3f35b6-74db-4fed-85c0-e007ef2073db",
   "metadata": {},
   "outputs": [],
   "source": [
    "#Basic REPL implementation"
   ]
  },
  {
   "cell_type": "code",
   "execution_count": 8,
   "id": "3fe8321e-20c5-4279-b450-b83283cf64fc",
   "metadata": {},
   "outputs": [],
   "source": [
    "def custom_repl():\n",
    "    print(\"Custom Python REPL.Type 'exit' to quit.\")\n",
    "    while True:\n",
    "        try:\n",
    "            #Read user input (python code)\n",
    "            user_input = input(\">>> \")\n",
    "\n",
    "            #Exit condition\n",
    "            if user_input.lower() == 'exit':\n",
    "                print(\"Existing custom REPL\")\n",
    "                break\n",
    "\n",
    "            #Evaluate the expression and print the result \n",
    "            result = eval(user_input)\n",
    "            print(result)\n",
    "\n",
    "        except Exception as e:\n",
    "            print(f\"Error:{e}\")\n",
    "\n"
   ]
  },
  {
   "cell_type": "code",
   "execution_count": 9,
   "id": "a4aa829b-a382-4041-934e-6faa36b2a4e8",
   "metadata": {},
   "outputs": [
    {
     "name": "stdout",
     "output_type": "stream",
     "text": [
      "Custom Python REPL.Type 'exit' to quit.\n"
     ]
    },
    {
     "name": "stdin",
     "output_type": "stream",
     "text": [
      ">>>  exit\n"
     ]
    },
    {
     "name": "stdout",
     "output_type": "stream",
     "text": [
      "Existing custom REPL\n"
     ]
    }
   ],
   "source": [
    "#start the custom REPLexit\n",
    "\n",
    "custom_repl()"
   ]
  },
  {
   "cell_type": "code",
   "execution_count": null,
   "id": "5c6637bb-3eb2-42be-8a9d-b550f167c703",
   "metadata": {},
   "outputs": [],
   "source": []
  }
 ],
 "metadata": {
  "kernelspec": {
   "display_name": "Python 3 (ipykernel)",
   "language": "python",
   "name": "python3"
  },
  "language_info": {
   "codemirror_mode": {
    "name": "ipython",
    "version": 3
   },
   "file_extension": ".py",
   "mimetype": "text/x-python",
   "name": "python",
   "nbconvert_exporter": "python",
   "pygments_lexer": "ipython3",
   "version": "3.12.8"
  }
 },
 "nbformat": 4,
 "nbformat_minor": 5
}
