{
 "cells": [
  {
   "cell_type": "code",
   "execution_count": null,
   "id": "8e13ae22-82c9-4b1b-840b-a2ec6e52fdac",
   "metadata": {},
   "outputs": [],
   "source": [
    "#https://stevejoe1412.gitbook.io/ssn/python-subtopics/20.-custom-python-repl"
   ]
  },
  {
   "cell_type": "code",
   "execution_count": null,
   "id": "5a859de9-9b84-4603-a30e-f7e0001dbed0",
   "metadata": {},
   "outputs": [],
   "source": [
    "#Customizing the REPL with special commands"
   ]
  },
  {
   "cell_type": "code",
   "execution_count": 1,
   "id": "475ed5ff-9580-4dcb-a1c9-895f6b5280e1",
   "metadata": {},
   "outputs": [],
   "source": [
    "import builtins"
   ]
  },
  {
   "cell_type": "code",
   "execution_count": null,
   "id": "911414db-813e-4f30-83a1-dc978c044888",
   "metadata": {},
   "outputs": [
    {
     "name": "stdout",
     "output_type": "stream",
     "text": [
      "custom python REPL with commands.Type 'exit' to quit\n"
     ]
    }
   ],
   "source": [
    "def custom_repl_with_commands():\n",
    "    print(\"custom python REPL with commands.Type 'exit' to quit\")\n",
    "\n",
    "    #list of custom commands\n",
    "    custom_commands = {\n",
    "        'help' : 'Shows this help message',\n",
    "        'show_namespace' : 'Displays the current variables in the REPL'\n",
    "    }\n",
    "    while True:\n",
    "        try:\n",
    "            user_input = input(\">>> \")\n",
    "\n",
    "            #Exit condition\n",
    "            if user_input.lower() == 'exit':\n",
    "                print(\"Exiting Repl Url\")\n",
    "                break\n",
    "            elif user_input.lower() == 'help':\n",
    "                #Show help message\n",
    "                print(\"Available commands\")\n",
    "                for command, description in custom_commands.items():\n",
    "                    print(f\"{command}:{description}\")\n",
    "            elif user_input.lower() == 'show_namespace':\n",
    "                #show current namespace name\n",
    "                print(\"Current namespace:\",locals())\n",
    "            else:\n",
    "                #Evaluate regular python expressions or statements \n",
    "                try:\n",
    "                    result = eval(\"user_input\")\n",
    "                    print(result)\n",
    "                except Exception :\n",
    "                    exec(user_input)\n",
    "        except Exception as e:\n",
    "            print(f\"Error:{e}\")\n",
    "\n",
    "custom_repl_with_commands()\n",
    "            "
   ]
  },
  {
   "cell_type": "code",
   "execution_count": null,
   "id": "13965c4c-dc7b-4ea5-b369-1a0f7dca3e3c",
   "metadata": {},
   "outputs": [],
   "source": []
  }
 ],
 "metadata": {
  "kernelspec": {
   "display_name": "Python 3 (ipykernel)",
   "language": "python",
   "name": "python3"
  },
  "language_info": {
   "codemirror_mode": {
    "name": "ipython",
    "version": 3
   },
   "file_extension": ".py",
   "mimetype": "text/x-python",
   "name": "python",
   "nbconvert_exporter": "python",
   "pygments_lexer": "ipython3",
   "version": "3.12.8"
  }
 },
 "nbformat": 4,
 "nbformat_minor": 5
}
