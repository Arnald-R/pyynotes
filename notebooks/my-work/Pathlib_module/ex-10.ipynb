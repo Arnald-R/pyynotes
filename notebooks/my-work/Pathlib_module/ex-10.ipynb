{
 "cells": [
  {
   "cell_type": "code",
   "execution_count": null,
   "id": "29a2207c-ec36-4feb-97c4-779bd0c93194",
   "metadata": {},
   "outputs": [],
   "source": [
    "#created at 20250315"
   ]
  },
  {
   "cell_type": "code",
   "execution_count": null,
   "id": "ad12a23e-5804-46d6-8d59-845bc8dc8e76",
   "metadata": {},
   "outputs": [],
   "source": [
    "#https://stevejoe1412.gitbook.io/ssn/python-subtopics/11.-pathlib-module"
   ]
  },
  {
   "cell_type": "code",
   "execution_count": 1,
   "id": "33e94e97-6fd7-4937-8caf-48a2c9ef5b62",
   "metadata": {},
   "outputs": [],
   "source": [
    "#Renaming or moving a file"
   ]
  },
  {
   "cell_type": "code",
   "execution_count": 2,
   "id": "c01afa85-2d2d-4c4c-8c86-048936a7258f",
   "metadata": {},
   "outputs": [],
   "source": [
    "from pathlib import Path"
   ]
  },
  {
   "cell_type": "code",
   "execution_count": 3,
   "id": "650ab011-3f97-49fd-a23a-9d9db5721cf1",
   "metadata": {},
   "outputs": [],
   "source": [
    "file_path = Path(\"example.txt\")"
   ]
  },
  {
   "cell_type": "code",
   "execution_count": 4,
   "id": "1e1fbde2-7594-4b96-83db-2c082857ca03",
   "metadata": {},
   "outputs": [],
   "source": [
    "new_path = Path(\"renamed_example.txt\")"
   ]
  },
  {
   "cell_type": "code",
   "execution_count": 5,
   "id": "4442e739-3fbe-4087-8407-20727bf3ee76",
   "metadata": {},
   "outputs": [
    {
     "data": {
      "text/plain": [
       "PosixPath('renamed_example.txt')"
      ]
     },
     "execution_count": 5,
     "metadata": {},
     "output_type": "execute_result"
    }
   ],
   "source": [
    "file_path.rename(new_path)"
   ]
  },
  {
   "cell_type": "code",
   "execution_count": 6,
   "id": "a2de37bb-80f5-40dc-95ab-cbda608fa6a0",
   "metadata": {},
   "outputs": [
    {
     "name": "stdout",
     "output_type": "stream",
     "text": [
      "file renamed to renamed_example.txt\n"
     ]
    }
   ],
   "source": [
    "print(f\"file renamed to {new_path}\")"
   ]
  },
  {
   "cell_type": "code",
   "execution_count": null,
   "id": "a8a7d9c9-dda1-41c0-ba0d-426d962127b5",
   "metadata": {},
   "outputs": [],
   "source": []
  }
 ],
 "metadata": {
  "kernelspec": {
   "display_name": "Python 3 (ipykernel)",
   "language": "python",
   "name": "python3"
  },
  "language_info": {
   "codemirror_mode": {
    "name": "ipython",
    "version": 3
   },
   "file_extension": ".py",
   "mimetype": "text/x-python",
   "name": "python",
   "nbconvert_exporter": "python",
   "pygments_lexer": "ipython3",
   "version": "3.12.8"
  }
 },
 "nbformat": 4,
 "nbformat_minor": 5
}
