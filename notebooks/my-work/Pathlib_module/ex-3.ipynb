{
 "cells": [
  {
   "cell_type": "code",
   "execution_count": null,
   "id": "2b723c57-bc96-413c-966b-570561e0602c",
   "metadata": {},
   "outputs": [],
   "source": [
    "#created at 20250315"
   ]
  },
  {
   "cell_type": "code",
   "execution_count": null,
   "id": "ef12db3a-789e-4fb3-a558-54418c645ae5",
   "metadata": {},
   "outputs": [],
   "source": [
    "#https://stevejoe1412.gitbook.io/ssn/python-subtopics/11.-pathlib-module"
   ]
  },
  {
   "cell_type": "code",
   "execution_count": null,
   "id": "8069b50f-ca63-4eb2-9e19-9b1a2ca01e6d",
   "metadata": {},
   "outputs": [],
   "source": [
    "#creating a directory"
   ]
  },
  {
   "cell_type": "code",
   "execution_count": 6,
   "id": "1dba4b49-d78e-4149-90f3-e4bdbddb49fa",
   "metadata": {},
   "outputs": [],
   "source": [
    "from pathlib import Path"
   ]
  },
  {
   "cell_type": "code",
   "execution_count": 7,
   "id": "457fff83-8151-4fc4-b58f-da3b5ac721e8",
   "metadata": {},
   "outputs": [],
   "source": [
    "dir_path = Path(\"new_folder\")"
   ]
  },
  {
   "cell_type": "code",
   "execution_count": 8,
   "id": "d3a2644d-1bab-4104-a316-2984d3feefdc",
   "metadata": {},
   "outputs": [],
   "source": [
    "dir_path.mkdir(exist_ok = True)"
   ]
  },
  {
   "cell_type": "code",
   "execution_count": 9,
   "id": "5ac67427-4022-4e13-924b-ce2c00d7c45a",
   "metadata": {},
   "outputs": [
    {
     "name": "stdout",
     "output_type": "stream",
     "text": [
      "Directory created: new_folder\n"
     ]
    }
   ],
   "source": [
    "print(f\"Directory created: {dir_path}\")"
   ]
  },
  {
   "cell_type": "code",
   "execution_count": null,
   "id": "0e1cf1f6-3357-439c-8d86-3e8c0f179e26",
   "metadata": {},
   "outputs": [],
   "source": []
  }
 ],
 "metadata": {
  "kernelspec": {
   "display_name": "Python 3 (ipykernel)",
   "language": "python",
   "name": "python3"
  },
  "language_info": {
   "codemirror_mode": {
    "name": "ipython",
    "version": 3
   },
   "file_extension": ".py",
   "mimetype": "text/x-python",
   "name": "python",
   "nbconvert_exporter": "python",
   "pygments_lexer": "ipython3",
   "version": "3.12.8"
  }
 },
 "nbformat": 4,
 "nbformat_minor": 5
}
