{
 "cells": [
  {
   "cell_type": "code",
   "execution_count": null,
   "id": "4b0e7cec-4ff9-4cae-a02e-11b686387331",
   "metadata": {},
   "outputs": [],
   "source": [
    "#created at 20250315"
   ]
  },
  {
   "cell_type": "code",
   "execution_count": null,
   "id": "84ed4fb5-b2e6-49a3-bf48-923727bb35ed",
   "metadata": {},
   "outputs": [],
   "source": [
    "#https://stevejoe1412.gitbook.io/ssn/python-subtopics/11.-pathlib-module"
   ]
  },
  {
   "cell_type": "code",
   "execution_count": null,
   "id": "4cda6b0f-4f57-4994-971b-6dc8890192cb",
   "metadata": {},
   "outputs": [],
   "source": [
    "#writing to a file"
   ]
  },
  {
   "cell_type": "code",
   "execution_count": 1,
   "id": "6f06342f-374d-4635-8060-3e3299890db4",
   "metadata": {},
   "outputs": [],
   "source": [
    "from pathlib import Path"
   ]
  },
  {
   "cell_type": "code",
   "execution_count": 2,
   "id": "ad76b9ae-b577-47e5-916d-32e84ed5c991",
   "metadata": {},
   "outputs": [],
   "source": [
    "file_path = Path(\"example.txt\")"
   ]
  },
  {
   "cell_type": "code",
   "execution_count": 3,
   "id": "97725d08-6b4d-45f1-9fcd-bb0f159cf68c",
   "metadata": {},
   "outputs": [
    {
     "data": {
      "text/plain": [
       "12"
      ]
     },
     "execution_count": 3,
     "metadata": {},
     "output_type": "execute_result"
    }
   ],
   "source": [
    "file_path.write_text(\"Heloo,Arnald\")"
   ]
  },
  {
   "cell_type": "code",
   "execution_count": 4,
   "id": "e45ca949-ca81-4649-85af-5c0763f98023",
   "metadata": {},
   "outputs": [
    {
     "name": "stdout",
     "output_type": "stream",
     "text": [
      "content written to file is : example.txt\n"
     ]
    }
   ],
   "source": [
    "print(f\"content written to file is : {file_path}\")"
   ]
  },
  {
   "cell_type": "code",
   "execution_count": null,
   "id": "395bbb65-3957-4597-9b60-23f0b89ded20",
   "metadata": {},
   "outputs": [],
   "source": []
  }
 ],
 "metadata": {
  "kernelspec": {
   "display_name": "Python 3 (ipykernel)",
   "language": "python",
   "name": "python3"
  },
  "language_info": {
   "codemirror_mode": {
    "name": "ipython",
    "version": 3
   },
   "file_extension": ".py",
   "mimetype": "text/x-python",
   "name": "python",
   "nbconvert_exporter": "python",
   "pygments_lexer": "ipython3",
   "version": "3.12.8"
  }
 },
 "nbformat": 4,
 "nbformat_minor": 5
}
