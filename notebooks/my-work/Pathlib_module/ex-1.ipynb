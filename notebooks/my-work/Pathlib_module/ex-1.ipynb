{
 "cells": [
  {
   "cell_type": "code",
   "execution_count": null,
   "id": "ed52c9e1-482b-4232-aa0f-defcd0874d2a",
   "metadata": {},
   "outputs": [],
   "source": [
    "#created at 20250315"
   ]
  },
  {
   "cell_type": "code",
   "execution_count": null,
   "id": "7cc9a1bc-872c-4e8c-b9eb-0130d287e6a2",
   "metadata": {},
   "outputs": [],
   "source": [
    "#https://stevejoe1412.gitbook.io/ssn/python-subtopics/11.-pathlib-module"
   ]
  },
  {
   "cell_type": "code",
   "execution_count": null,
   "id": "10abeaed-b03a-4986-a0ff-8d50e3421f5c",
   "metadata": {},
   "outputs": [],
   "source": [
    "#filtering files by extension"
   ]
  },
  {
   "cell_type": "code",
   "execution_count": 1,
   "id": "ef7c70aa-2d7d-4adf-99e4-364278f884d9",
   "metadata": {},
   "outputs": [],
   "source": [
    "from pathlib import Path"
   ]
  },
  {
   "cell_type": "code",
   "execution_count": 2,
   "id": "9b14caf7-c7ce-46bd-bdf6-1e857fb6d7f8",
   "metadata": {},
   "outputs": [],
   "source": [
    "path = Path(\".\")"
   ]
  },
  {
   "cell_type": "code",
   "execution_count": 3,
   "id": "5ed9c43a-da6f-45fd-8403-f299d1cd7127",
   "metadata": {},
   "outputs": [],
   "source": [
    "for file in path.glob(\"*.txt\"):\n",
    "    print(file)"
   ]
  },
  {
   "cell_type": "code",
   "execution_count": null,
   "id": "02e30e18-43c4-4c2f-99ce-0bc4af273b64",
   "metadata": {},
   "outputs": [],
   "source": []
  }
 ],
 "metadata": {
  "kernelspec": {
   "display_name": "Python 3 (ipykernel)",
   "language": "python",
   "name": "python3"
  },
  "language_info": {
   "codemirror_mode": {
    "name": "ipython",
    "version": 3
   },
   "file_extension": ".py",
   "mimetype": "text/x-python",
   "name": "python",
   "nbconvert_exporter": "python",
   "pygments_lexer": "ipython3",
   "version": "3.12.8"
  }
 },
 "nbformat": 4,
 "nbformat_minor": 5
}
