{
 "cells": [
  {
   "cell_type": "code",
   "execution_count": null,
   "id": "ab0d939a-5847-403d-91e2-c3de84353a69",
   "metadata": {},
   "outputs": [],
   "source": [
    "#created at 20250315"
   ]
  },
  {
   "cell_type": "code",
   "execution_count": null,
   "id": "c0e097c3-aae8-4384-bfc3-3e789baea5f1",
   "metadata": {},
   "outputs": [],
   "source": [
    "#https://stevejoe1412.gitbook.io/ssn/python-subtopics/11.-pathlib-module"
   ]
  },
  {
   "cell_type": "code",
   "execution_count": null,
   "id": "24bc87a7-9897-4881-a281-ce6333b6b291",
   "metadata": {},
   "outputs": [],
   "source": [
    "#Iterating files over in a directory"
   ]
  },
  {
   "cell_type": "code",
   "execution_count": 4,
   "id": "dc1a9c59-2e7c-4f35-80e1-45fbd1be504b",
   "metadata": {},
   "outputs": [],
   "source": [
    "from pathlib import Path"
   ]
  },
  {
   "cell_type": "code",
   "execution_count": 5,
   "id": "23d2f175-f6cc-4195-9e87-97edbd7eb39d",
   "metadata": {},
   "outputs": [],
   "source": [
    "path = Path(\".\")"
   ]
  },
  {
   "cell_type": "code",
   "execution_count": 6,
   "id": "0b91e311-6d25-4da9-8d2a-2c3013ed504e",
   "metadata": {},
   "outputs": [
    {
     "name": "stdout",
     "output_type": "stream",
     "text": [
      "ex-1.ipynb\n",
      "ex-2.ipynb\n",
      "ex-7.ipynb\n",
      ".ipynb_checkpoints\n",
      "new_folder\n",
      "ex-10.ipynb\n",
      "ex-4.ipynb\n",
      "ex-3.ipynb\n",
      "ex-8.ipynb\n",
      "example.txt\n",
      "ex-6.ipynb\n",
      "ex-5.ipynb\n",
      "ex-9.ipynb\n"
     ]
    }
   ],
   "source": [
    "for file in path.iterdir():\n",
    "    print(file)"
   ]
  },
  {
   "cell_type": "code",
   "execution_count": null,
   "id": "5d49efdb-c98d-4bd9-8030-c393dc6e8d24",
   "metadata": {},
   "outputs": [],
   "source": []
  }
 ],
 "metadata": {
  "kernelspec": {
   "display_name": "Python 3 (ipykernel)",
   "language": "python",
   "name": "python3"
  },
  "language_info": {
   "codemirror_mode": {
    "name": "ipython",
    "version": 3
   },
   "file_extension": ".py",
   "mimetype": "text/x-python",
   "name": "python",
   "nbconvert_exporter": "python",
   "pygments_lexer": "ipython3",
   "version": "3.12.8"
  }
 },
 "nbformat": 4,
 "nbformat_minor": 5
}
