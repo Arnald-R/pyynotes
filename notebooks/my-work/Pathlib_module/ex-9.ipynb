{
 "cells": [
  {
   "cell_type": "code",
   "execution_count": null,
   "id": "3f602745-9a2d-4967-9f72-f041b16313fc",
   "metadata": {},
   "outputs": [],
   "source": [
    "#created at 20250315"
   ]
  },
  {
   "cell_type": "code",
   "execution_count": null,
   "id": "5a1cfce3-eabf-4f6c-bce1-db45f84a74d7",
   "metadata": {},
   "outputs": [],
   "source": [
    "#https://stevejoe1412.gitbook.io/ssn/python-subtopics/11.-pathlib-module"
   ]
  },
  {
   "cell_type": "code",
   "execution_count": null,
   "id": "ed956f0e-90c9-4ff1-aec2-ec89fc996520",
   "metadata": {},
   "outputs": [],
   "source": [
    "#Getting file name and Parent Directory"
   ]
  },
  {
   "cell_type": "code",
   "execution_count": 1,
   "id": "b18093da-4902-4596-b7f9-21303ecb9701",
   "metadata": {},
   "outputs": [],
   "source": [
    "from pathlib import Path"
   ]
  },
  {
   "cell_type": "code",
   "execution_count": 2,
   "id": "0ed321b7-6b05-450d-8369-a9bd0f3c867e",
   "metadata": {},
   "outputs": [],
   "source": [
    "file_path = Path(\"/Home/users/documents/example.txt\")"
   ]
  },
  {
   "cell_type": "code",
   "execution_count": 4,
   "id": "f91e8ba5-c85c-4c28-9fce-ac2b16e370c4",
   "metadata": {},
   "outputs": [
    {
     "name": "stdout",
     "output_type": "stream",
     "text": [
      "example.txt\n"
     ]
    }
   ],
   "source": [
    "print(file_path.name)"
   ]
  },
  {
   "cell_type": "code",
   "execution_count": 5,
   "id": "b17605db-4395-4334-a1e6-3b73b2449662",
   "metadata": {},
   "outputs": [
    {
     "name": "stdout",
     "output_type": "stream",
     "text": [
      "example\n"
     ]
    }
   ],
   "source": [
    "print(file_path.stem)"
   ]
  },
  {
   "cell_type": "code",
   "execution_count": 6,
   "id": "d27f0c52-b7ad-483f-9786-017bd11096fd",
   "metadata": {},
   "outputs": [
    {
     "name": "stdout",
     "output_type": "stream",
     "text": [
      ".txt\n"
     ]
    }
   ],
   "source": [
    "print(file_path.suffix)"
   ]
  },
  {
   "cell_type": "code",
   "execution_count": 7,
   "id": "07f6dfaa-20ab-4170-8a56-3aa1bda24f10",
   "metadata": {},
   "outputs": [
    {
     "name": "stdout",
     "output_type": "stream",
     "text": [
      "/Home/users/documents\n"
     ]
    }
   ],
   "source": [
    "print(file_path.parent)"
   ]
  },
  {
   "cell_type": "code",
   "execution_count": null,
   "id": "087462d8-8772-4688-9331-82214031e3eb",
   "metadata": {},
   "outputs": [],
   "source": []
  }
 ],
 "metadata": {
  "kernelspec": {
   "display_name": "Python 3 (ipykernel)",
   "language": "python",
   "name": "python3"
  },
  "language_info": {
   "codemirror_mode": {
    "name": "ipython",
    "version": 3
   },
   "file_extension": ".py",
   "mimetype": "text/x-python",
   "name": "python",
   "nbconvert_exporter": "python",
   "pygments_lexer": "ipython3",
   "version": "3.12.8"
  }
 },
 "nbformat": 4,
 "nbformat_minor": 5
}
