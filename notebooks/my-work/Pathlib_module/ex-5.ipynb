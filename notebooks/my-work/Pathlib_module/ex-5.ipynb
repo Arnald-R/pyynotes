{
 "cells": [
  {
   "cell_type": "code",
   "execution_count": null,
   "id": "e35e2ed2-9310-430d-a882-c262e4db9031",
   "metadata": {},
   "outputs": [],
   "source": [
    "#created at 20250315"
   ]
  },
  {
   "cell_type": "code",
   "execution_count": null,
   "id": "19f9f299-de59-4174-9d80-c9f45fc037fd",
   "metadata": {},
   "outputs": [],
   "source": [
    "#https://stevejoe1412.gitbook.io/ssn/python-subtopics/11.-pathlib-module"
   ]
  },
  {
   "cell_type": "code",
   "execution_count": null,
   "id": "61eccfa9-1bb0-4f2f-8e5d-9638dd923df6",
   "metadata": {},
   "outputs": [],
   "source": [
    "#creating a path object"
   ]
  },
  {
   "cell_type": "code",
   "execution_count": 1,
   "id": "3daab15d-a769-4e5c-859a-0cd6f6bab7bb",
   "metadata": {},
   "outputs": [],
   "source": [
    "from pathlib import Path"
   ]
  },
  {
   "cell_type": "code",
   "execution_count": 2,
   "id": "9eec18c2-837e-42a7-b914-f1d3bc72918f",
   "metadata": {},
   "outputs": [],
   "source": [
    "path = Path(\"/Home/users/documents\")"
   ]
  },
  {
   "cell_type": "code",
   "execution_count": 3,
   "id": "3a260248-64a1-48d3-af54-fd4381035133",
   "metadata": {},
   "outputs": [
    {
     "name": "stdout",
     "output_type": "stream",
     "text": [
      "/Home/users/documents\n"
     ]
    }
   ],
   "source": [
    "print(path)"
   ]
  },
  {
   "cell_type": "code",
   "execution_count": null,
   "id": "dba895f6-fcf1-4cb2-af31-40041a7e0320",
   "metadata": {},
   "outputs": [],
   "source": []
  }
 ],
 "metadata": {
  "kernelspec": {
   "display_name": "Python 3 (ipykernel)",
   "language": "python",
   "name": "python3"
  },
  "language_info": {
   "codemirror_mode": {
    "name": "ipython",
    "version": 3
   },
   "file_extension": ".py",
   "mimetype": "text/x-python",
   "name": "python",
   "nbconvert_exporter": "python",
   "pygments_lexer": "ipython3",
   "version": "3.12.8"
  }
 },
 "nbformat": 4,
 "nbformat_minor": 5
}
