{
 "cells": [
  {
   "cell_type": "code",
   "execution_count": null,
   "id": "f5966031-1139-4cd7-b5e5-08f247d04ef6",
   "metadata": {},
   "outputs": [],
   "source": [
    "#created at 20250315"
   ]
  },
  {
   "cell_type": "code",
   "execution_count": null,
   "id": "ac5ea7f0-cca3-41cc-a0a2-d3d689bfcc30",
   "metadata": {},
   "outputs": [],
   "source": [
    "#https://stevejoe1412.gitbook.io/ssn/python-subtopics/11.-pathlib-module"
   ]
  },
  {
   "cell_type": "code",
   "execution_count": null,
   "id": "97ac59d9-e46d-45a1-af16-fb126bd81eab",
   "metadata": {},
   "outputs": [],
   "source": [
    "#reading a file"
   ]
  },
  {
   "cell_type": "code",
   "execution_count": 1,
   "id": "6226cbcf-d102-459b-9e19-c29d7d757030",
   "metadata": {},
   "outputs": [],
   "source": [
    "from pathlib import Path"
   ]
  },
  {
   "cell_type": "code",
   "execution_count": 2,
   "id": "cd192e4b-ad3b-4ecf-a55a-edf13b9f7b80",
   "metadata": {},
   "outputs": [],
   "source": [
    "file_path = Path(\"example.txt\")"
   ]
  },
  {
   "cell_type": "code",
   "execution_count": 6,
   "id": "9d08a7e4-7b3d-4448-bff9-24b9165c9e7c",
   "metadata": {},
   "outputs": [],
   "source": [
    "if file_path.exists():\n",
    "    content = file_path.read_text()\n",
    "    print(content)"
   ]
  },
  {
   "cell_type": "code",
   "execution_count": null,
   "id": "2f4b072c-0fec-4d04-8093-eae57602b305",
   "metadata": {},
   "outputs": [],
   "source": []
  }
 ],
 "metadata": {
  "kernelspec": {
   "display_name": "Python 3 (ipykernel)",
   "language": "python",
   "name": "python3"
  },
  "language_info": {
   "codemirror_mode": {
    "name": "ipython",
    "version": 3
   },
   "file_extension": ".py",
   "mimetype": "text/x-python",
   "name": "python",
   "nbconvert_exporter": "python",
   "pygments_lexer": "ipython3",
   "version": "3.12.8"
  }
 },
 "nbformat": 4,
 "nbformat_minor": 5
}
