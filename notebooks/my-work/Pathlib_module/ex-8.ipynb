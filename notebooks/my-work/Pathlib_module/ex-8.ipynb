{
 "cells": [
  {
   "cell_type": "code",
   "execution_count": null,
   "id": "26dacce1-8a7c-4dbd-8a69-b063bb1cb824",
   "metadata": {},
   "outputs": [],
   "source": [
    "#created at 20250315"
   ]
  },
  {
   "cell_type": "code",
   "execution_count": null,
   "id": "9e8b50b4-0f29-48fd-b861-63761a92ec5c",
   "metadata": {},
   "outputs": [],
   "source": [
    "#https://stevejoe1412.gitbook.io/ssn/python-subtopics/11.-pathlib-module"
   ]
  },
  {
   "cell_type": "code",
   "execution_count": null,
   "id": "f1f3b771-69ca-457f-a517-d24f8c15226a",
   "metadata": {},
   "outputs": [],
   "source": [
    "#Getting file metadata"
   ]
  },
  {
   "cell_type": "code",
   "execution_count": 1,
   "id": "78a92f29-4289-425e-b6a6-952190d481e5",
   "metadata": {},
   "outputs": [],
   "source": [
    "from pathlib import Path"
   ]
  },
  {
   "cell_type": "code",
   "execution_count": 2,
   "id": "9174b8cc-7cde-4085-8026-03cd300b6082",
   "metadata": {},
   "outputs": [],
   "source": [
    "file_path = Path(\"example.txt\")"
   ]
  },
  {
   "cell_type": "code",
   "execution_count": 3,
   "id": "d4c3ab51-3564-402d-b246-5cd349c70f1d",
   "metadata": {},
   "outputs": [
    {
     "name": "stdout",
     "output_type": "stream",
     "text": [
      "file size:15 bytes\n",
      "Last Modified: 1742019400.8207994\n"
     ]
    }
   ],
   "source": [
    "if file_path.exists():\n",
    "    print(f\"file size:{file_path.stat().st_size} bytes\")\n",
    "    print(f\"Last Modified: {file_path.stat().st_mtime}\" )"
   ]
  },
  {
   "cell_type": "code",
   "execution_count": null,
   "id": "79e829e4-80c9-42c5-8ac6-f815af48fea2",
   "metadata": {},
   "outputs": [],
   "source": []
  }
 ],
 "metadata": {
  "kernelspec": {
   "display_name": "Python 3 (ipykernel)",
   "language": "python",
   "name": "python3"
  },
  "language_info": {
   "codemirror_mode": {
    "name": "ipython",
    "version": 3
   },
   "file_extension": ".py",
   "mimetype": "text/x-python",
   "name": "python",
   "nbconvert_exporter": "python",
   "pygments_lexer": "ipython3",
   "version": "3.12.8"
  }
 },
 "nbformat": 4,
 "nbformat_minor": 5
}
