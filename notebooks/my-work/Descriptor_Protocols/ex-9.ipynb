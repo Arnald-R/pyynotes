{
 "cells": [
  {
   "cell_type": "code",
   "execution_count": null,
   "id": "0f3f2511-01c1-47f7-b65d-96e9d49c514e",
   "metadata": {},
   "outputs": [],
   "source": [
    "#created at 20250311"
   ]
  },
  {
   "cell_type": "code",
   "execution_count": null,
   "id": "ab2ea620-1614-4048-82b2-2839601e5b9f",
   "metadata": {},
   "outputs": [],
   "source": [
    "#https://stevejoe1412.gitbook.io/ssn/python-subtopics/4.-descriptor-protocols"
   ]
  },
  {
   "cell_type": "code",
   "execution_count": 1,
   "id": "49e78762-88d3-4c97-a6ff-875568d3c56e",
   "metadata": {},
   "outputs": [],
   "source": [
    "#Using Descriptor for logging"
   ]
  },
  {
   "cell_type": "code",
   "execution_count": 12,
   "id": "a9125a2e-07aa-4b03-8d30-b77f83ff2a49",
   "metadata": {},
   "outputs": [],
   "source": [
    "class LoggedDescriptor:\n",
    "    def __get__(self,instance,owner):\n",
    "        print(f\"Accessing the name {self.name}\")\n",
    "        return instance.__dict__.get(self.name)\n",
    "\n",
    "    def __set__(self,instance,value):\n",
    "        print(f\"setting {self.name} to {value}\")\n",
    "        instance.__dict__[self.name] = value\n",
    "\n",
    "    def __set_name__(self,owner,name):\n",
    "        self.name = name"
   ]
  },
  {
   "cell_type": "code",
   "execution_count": 15,
   "id": "95d6da49-31d1-45c6-9a68-6a5a52f1a650",
   "metadata": {},
   "outputs": [],
   "source": [
    "class MyClass:\n",
    "    logged_attr =LoggedDescriptor()"
   ]
  },
  {
   "cell_type": "code",
   "execution_count": 16,
   "id": "b2676eaa-8a7f-4687-8360-c38d6b7d37f5",
   "metadata": {},
   "outputs": [
    {
     "name": "stdout",
     "output_type": "stream",
     "text": [
      "setting logged_attr to Testing\n",
      "Accessing the name logged_attr\n",
      "Testing\n"
     ]
    }
   ],
   "source": [
    "obj =MyClass()\n",
    "obj.logged_attr =\"Testing\"\n",
    "print(obj.logged_attr)"
   ]
  },
  {
   "cell_type": "code",
   "execution_count": null,
   "id": "df6f2b25-c7e0-45b7-8b17-bac9e3bbe7fb",
   "metadata": {},
   "outputs": [],
   "source": []
  }
 ],
 "metadata": {
  "kernelspec": {
   "display_name": "Python 3 (ipykernel)",
   "language": "python",
   "name": "python3"
  },
  "language_info": {
   "codemirror_mode": {
    "name": "ipython",
    "version": 3
   },
   "file_extension": ".py",
   "mimetype": "text/x-python",
   "name": "python",
   "nbconvert_exporter": "python",
   "pygments_lexer": "ipython3",
   "version": "3.12.8"
  }
 },
 "nbformat": 4,
 "nbformat_minor": 5
}
