{
 "cells": [
  {
   "cell_type": "code",
   "execution_count": null,
   "id": "0822af32-3a50-435c-ba2f-bb32ee67a030",
   "metadata": {},
   "outputs": [],
   "source": [
    "#created at 20250311"
   ]
  },
  {
   "cell_type": "code",
   "execution_count": null,
   "id": "49546419-2f86-4efd-9d5f-23ff457ff340",
   "metadata": {},
   "outputs": [],
   "source": [
    "#https://stevejoe1412.gitbook.io/ssn/python-subtopics/4.-descriptor-protocols"
   ]
  },
  {
   "cell_type": "code",
   "execution_count": 1,
   "id": "2154b1e7-4614-47e3-9ae8-4d61298a8b32",
   "metadata": {},
   "outputs": [],
   "source": [
    "#Tracking Access with a Descriptor"
   ]
  },
  {
   "cell_type": "code",
   "execution_count": 10,
   "id": "2e9c2adc-f9e2-4a86-a775-5d879df5b637",
   "metadata": {},
   "outputs": [],
   "source": [
    "class TrackingDescriptor:\n",
    "    def __init__(self):\n",
    "        self.access_count = 0\n",
    "\n",
    "    def __get__(self,instance,owner):\n",
    "        self.access_count += 1\n",
    "        return f\"Accessed {self.access_count} times\""
   ]
  },
  {
   "cell_type": "code",
   "execution_count": 11,
   "id": "817390bf-afb1-49e7-9a01-40f5ea578311",
   "metadata": {},
   "outputs": [],
   "source": [
    "class MyClass:\n",
    "    tracked = TrackingDescriptor()"
   ]
  },
  {
   "cell_type": "code",
   "execution_count": 12,
   "id": "917c7291-e867-4b1b-b9e9-828a02d5fa1b",
   "metadata": {},
   "outputs": [
    {
     "name": "stdout",
     "output_type": "stream",
     "text": [
      "Accessed 1 times\n"
     ]
    }
   ],
   "source": [
    "obj = MyClass()\n",
    "print(obj.tracked)"
   ]
  },
  {
   "cell_type": "code",
   "execution_count": 13,
   "id": "249bcd01-da2a-47e1-b566-9d8f7d3f5b65",
   "metadata": {},
   "outputs": [
    {
     "name": "stdout",
     "output_type": "stream",
     "text": [
      "Accessed 2 times\n"
     ]
    }
   ],
   "source": [
    "print(obj.tracked)"
   ]
  },
  {
   "cell_type": "code",
   "execution_count": null,
   "id": "db4eaf61-be2d-4541-93b0-07f9ec77e3c6",
   "metadata": {},
   "outputs": [],
   "source": []
  }
 ],
 "metadata": {
  "kernelspec": {
   "display_name": "Python 3 (ipykernel)",
   "language": "python",
   "name": "python3"
  },
  "language_info": {
   "codemirror_mode": {
    "name": "ipython",
    "version": 3
   },
   "file_extension": ".py",
   "mimetype": "text/x-python",
   "name": "python",
   "nbconvert_exporter": "python",
   "pygments_lexer": "ipython3",
   "version": "3.12.8"
  }
 },
 "nbformat": 4,
 "nbformat_minor": 5
}
