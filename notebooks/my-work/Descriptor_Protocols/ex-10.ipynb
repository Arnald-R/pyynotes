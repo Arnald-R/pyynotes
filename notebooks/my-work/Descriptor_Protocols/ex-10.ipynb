{
 "cells": [
  {
   "cell_type": "code",
   "execution_count": null,
   "id": "8358fe6e-9a73-4e47-8e7a-a99bd71e8add",
   "metadata": {},
   "outputs": [],
   "source": [
    "#created at 20250311"
   ]
  },
  {
   "cell_type": "code",
   "execution_count": null,
   "id": "acc0ab6b-64dd-4174-8364-8045635dde09",
   "metadata": {},
   "outputs": [],
   "source": [
    "#https://stevejoe1412.gitbook.io/ssn/python-subtopics/4.-descriptor-protocols"
   ]
  },
  {
   "cell_type": "code",
   "execution_count": 1,
   "id": "f6452a11-d194-4af8-816c-edf6ab4ee6cf",
   "metadata": {},
   "outputs": [],
   "source": [
    "#Descriptor with property like behavior"
   ]
  },
  {
   "cell_type": "code",
   "execution_count": 7,
   "id": "323efe6e-e50b-43fa-8ce2-95f4220c1959",
   "metadata": {},
   "outputs": [],
   "source": [
    "class Temperature:\n",
    "    def __get__(self,instance,owner):\n",
    "        return (instance._celsius* 9/5) +32\n",
    "\n",
    "\n",
    "    def __set__(self,instance,value):\n",
    "        instance._celsius = value"
   ]
  },
  {
   "cell_type": "code",
   "execution_count": 8,
   "id": "fc479553-282d-4296-acb7-67f2eabd4d51",
   "metadata": {},
   "outputs": [],
   "source": [
    "class Weather:\n",
    "    temperature = Temperature()"
   ]
  },
  {
   "cell_type": "code",
   "execution_count": 9,
   "id": "35d4999b-5b27-46d1-acab-cd88097c469e",
   "metadata": {},
   "outputs": [],
   "source": [
    "weather = Weather()"
   ]
  },
  {
   "cell_type": "code",
   "execution_count": 10,
   "id": "0c85bd31-bcbb-49c1-8a1a-b499e076c905",
   "metadata": {},
   "outputs": [],
   "source": [
    "weather.temperature = 25"
   ]
  },
  {
   "cell_type": "code",
   "execution_count": 11,
   "id": "ec968539-3a5c-406b-81ce-92f3bbbd6a8e",
   "metadata": {},
   "outputs": [
    {
     "name": "stdout",
     "output_type": "stream",
     "text": [
      "77.0\n"
     ]
    }
   ],
   "source": [
    "print(weather.temperature)"
   ]
  },
  {
   "cell_type": "code",
   "execution_count": null,
   "id": "ff9bde48-b67f-4486-a322-755afc358880",
   "metadata": {},
   "outputs": [],
   "source": []
  }
 ],
 "metadata": {
  "kernelspec": {
   "display_name": "Python 3 (ipykernel)",
   "language": "python",
   "name": "python3"
  },
  "language_info": {
   "codemirror_mode": {
    "name": "ipython",
    "version": 3
   },
   "file_extension": ".py",
   "mimetype": "text/x-python",
   "name": "python",
   "nbconvert_exporter": "python",
   "pygments_lexer": "ipython3",
   "version": "3.12.8"
  }
 },
 "nbformat": 4,
 "nbformat_minor": 5
}
