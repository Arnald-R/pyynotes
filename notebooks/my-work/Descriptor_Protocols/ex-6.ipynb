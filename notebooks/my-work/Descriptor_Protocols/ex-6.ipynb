{
 "cells": [
  {
   "cell_type": "code",
   "execution_count": null,
   "id": "9e39761e-c367-4361-88f8-fbc1e1e815c1",
   "metadata": {},
   "outputs": [],
   "source": [
    "#created at 20250311"
   ]
  },
  {
   "cell_type": "code",
   "execution_count": null,
   "id": "6f1171dc-9dc4-4278-bcd8-7409663a3ea6",
   "metadata": {},
   "outputs": [],
   "source": [
    "#https://stevejoe1412.gitbook.io/ssn/python-subtopics/4.-descriptor-protocols"
   ]
  },
  {
   "cell_type": "code",
   "execution_count": 1,
   "id": "d8b4d259-9a53-40b4-9a7f-6594c25aa899",
   "metadata": {},
   "outputs": [],
   "source": [
    "#combining __get__ and __set__"
   ]
  },
  {
   "cell_type": "code",
   "execution_count": 3,
   "id": "e09ddaa2-2d31-4fb6-a25e-f740adff95be",
   "metadata": {},
   "outputs": [],
   "source": [
    "class Descriptor:\n",
    "    def __get__(self,instance,owner):\n",
    "        return instance.__dict__.get(\"_value\",None)\n",
    "\n",
    "    def __set__(self,instance,value):\n",
    "        print(f\"setting value to{value}\")\n",
    "        instance.__dict__[\"_value\"] = value"
   ]
  },
  {
   "cell_type": "code",
   "execution_count": 4,
   "id": "20a1d937-6c03-4528-bce5-28c3246c1477",
   "metadata": {},
   "outputs": [],
   "source": [
    "class MyClass:\n",
    "    attribute = Descriptor()"
   ]
  },
  {
   "cell_type": "code",
   "execution_count": 7,
   "id": "efe74f73-8c8e-4511-9c1a-d11664082fc6",
   "metadata": {},
   "outputs": [
    {
     "name": "stdout",
     "output_type": "stream",
     "text": [
      "setting value tohello\n"
     ]
    },
    {
     "ename": "AttributeError",
     "evalue": "'MyClass' object has no attribute 'MyClass'",
     "output_type": "error",
     "traceback": [
      "\u001b[0;31m---------------------------------------------------------------------------\u001b[0m",
      "\u001b[0;31mAttributeError\u001b[0m                            Traceback (most recent call last)",
      "Cell \u001b[0;32mIn[7], line 3\u001b[0m\n\u001b[1;32m      1\u001b[0m obj \u001b[38;5;241m=\u001b[39m MyClass()\n\u001b[1;32m      2\u001b[0m obj\u001b[38;5;241m.\u001b[39mattribute \u001b[38;5;241m=\u001b[39m \u001b[38;5;124m\"\u001b[39m\u001b[38;5;124mhello\u001b[39m\u001b[38;5;124m\"\u001b[39m\n\u001b[0;32m----> 3\u001b[0m \u001b[38;5;28mprint\u001b[39m(\u001b[43mobj\u001b[49m\u001b[38;5;241;43m.\u001b[39;49m\u001b[43mMyClass\u001b[49m)\n",
      "\u001b[0;31mAttributeError\u001b[0m: 'MyClass' object has no attribute 'MyClass'"
     ]
    }
   ],
   "source": [
    "obj = MyClass()\n",
    "obj.attribute = \"hello\"\n",
    "print(obj.MyClass)"
   ]
  },
  {
   "cell_type": "code",
   "execution_count": null,
   "id": "97344112-769c-4408-8217-2c1203cca0c7",
   "metadata": {},
   "outputs": [],
   "source": []
  }
 ],
 "metadata": {
  "kernelspec": {
   "display_name": "Python 3 (ipykernel)",
   "language": "python",
   "name": "python3"
  },
  "language_info": {
   "codemirror_mode": {
    "name": "ipython",
    "version": 3
   },
   "file_extension": ".py",
   "mimetype": "text/x-python",
   "name": "python",
   "nbconvert_exporter": "python",
   "pygments_lexer": "ipython3",
   "version": "3.12.8"
  }
 },
 "nbformat": 4,
 "nbformat_minor": 5
}
