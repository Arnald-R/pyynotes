{
 "cells": [
  {
   "cell_type": "code",
   "execution_count": null,
   "id": "faa31de2-05f1-43b4-a7ad-7cfa221b96e0",
   "metadata": {},
   "outputs": [],
   "source": [
    "#created at 20250311"
   ]
  },
  {
   "cell_type": "code",
   "execution_count": null,
   "id": "776bd966-20c1-4eb2-b87d-71c38496cbc4",
   "metadata": {},
   "outputs": [],
   "source": [
    "#https://stevejoe1412.gitbook.io/ssn/python-subtopics/4.-descriptor-protocols"
   ]
  },
  {
   "cell_type": "code",
   "execution_count": null,
   "id": "38c3a797-4f88-4c74-8b9a-5fde91aa961c",
   "metadata": {},
   "outputs": [],
   "source": [
    "#Descriptor with validation"
   ]
  },
  {
   "cell_type": "code",
   "execution_count": 7,
   "id": "a3e9df3e-7d5b-4bd5-a6bc-a4721bec23e2",
   "metadata": {},
   "outputs": [],
   "source": [
    "class PositiveNumber:\n",
    "    def __get__(self,instance,owner):\n",
    "        return istance._value\n",
    "\n",
    "    def __set__(self,instance,value):\n",
    "        if value < 0:\n",
    "            raise ValueError(\"Number must be positive\")\n",
    "        instnace._value = value\n",
    "        "
   ]
  },
  {
   "cell_type": "code",
   "execution_count": 8,
   "id": "aee8c04d-9f6e-4387-99c3-e220763191f1",
   "metadata": {},
   "outputs": [],
   "source": [
    "class MyClass:\n",
    "    number = PositiveNumber()"
   ]
  },
  {
   "cell_type": "code",
   "execution_count": 9,
   "id": "49ae61c9-7e16-44a5-a602-ca6d5eda8f3f",
   "metadata": {},
   "outputs": [
    {
     "ename": "NameError",
     "evalue": "name 'instnace' is not defined",
     "output_type": "error",
     "traceback": [
      "\u001b[0;31m---------------------------------------------------------------------------\u001b[0m",
      "\u001b[0;31mNameError\u001b[0m                                 Traceback (most recent call last)",
      "Cell \u001b[0;32mIn[9], line 2\u001b[0m\n\u001b[1;32m      1\u001b[0m obj \u001b[38;5;241m=\u001b[39m MyClass()\n\u001b[0;32m----> 2\u001b[0m \u001b[43mobj\u001b[49m\u001b[38;5;241;43m.\u001b[39;49m\u001b[43mnumber\u001b[49m \u001b[38;5;241m=\u001b[39m \u001b[38;5;241m10\u001b[39m\n\u001b[1;32m      3\u001b[0m \u001b[38;5;28mprint\u001b[39m( obj\u001b[38;5;241m.\u001b[39mnumber)\n",
      "Cell \u001b[0;32mIn[7], line 8\u001b[0m, in \u001b[0;36mPositiveNumber.__set__\u001b[0;34m(self, instance, value)\u001b[0m\n\u001b[1;32m      6\u001b[0m \u001b[38;5;28;01mif\u001b[39;00m value \u001b[38;5;241m<\u001b[39m \u001b[38;5;241m0\u001b[39m:\n\u001b[1;32m      7\u001b[0m     \u001b[38;5;28;01mraise\u001b[39;00m \u001b[38;5;167;01mValueError\u001b[39;00m(\u001b[38;5;124m\"\u001b[39m\u001b[38;5;124mNumber must be positive\u001b[39m\u001b[38;5;124m\"\u001b[39m)\n\u001b[0;32m----> 8\u001b[0m \u001b[43minstnace\u001b[49m\u001b[38;5;241m.\u001b[39m_value \u001b[38;5;241m=\u001b[39m value\n",
      "\u001b[0;31mNameError\u001b[0m: name 'instnace' is not defined"
     ]
    }
   ],
   "source": [
    "obj = MyClass()\n",
    "obj.number = 10\n",
    "print( obj.number)"
   ]
  },
  {
   "cell_type": "code",
   "execution_count": null,
   "id": "f3fdce6c-fec7-4ab5-a472-9c17658018c5",
   "metadata": {},
   "outputs": [],
   "source": []
  }
 ],
 "metadata": {
  "kernelspec": {
   "display_name": "Python 3 (ipykernel)",
   "language": "python",
   "name": "python3"
  },
  "language_info": {
   "codemirror_mode": {
    "name": "ipython",
    "version": 3
   },
   "file_extension": ".py",
   "mimetype": "text/x-python",
   "name": "python",
   "nbconvert_exporter": "python",
   "pygments_lexer": "ipython3",
   "version": "3.12.8"
  }
 },
 "nbformat": 4,
 "nbformat_minor": 5
}
