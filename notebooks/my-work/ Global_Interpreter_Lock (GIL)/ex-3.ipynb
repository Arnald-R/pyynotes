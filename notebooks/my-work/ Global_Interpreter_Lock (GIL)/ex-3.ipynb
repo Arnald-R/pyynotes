{
 "cells": [
  {
   "cell_type": "code",
   "execution_count": null,
   "id": "18e02f91-72d1-4318-89cd-b1e4b9d309ad",
   "metadata": {},
   "outputs": [],
   "source": [
    "#created at 20250321"
   ]
  },
  {
   "cell_type": "code",
   "execution_count": null,
   "id": "622fa139-8787-483c-bfb1-4f9cf350899a",
   "metadata": {},
   "outputs": [],
   "source": [
    "#https://stevejoe1412.gitbook.io/ssn/python-subtopics/18.-global-interpreter-lock-gil"
   ]
  },
  {
   "cell_type": "code",
   "execution_count": null,
   "id": "0f4c1cdd-a134-458f-b6b9-d735d447422d",
   "metadata": {},
   "outputs": [],
   "source": [
    "#Using multiprocessing to Bypass GIL"
   ]
  },
  {
   "cell_type": "code",
   "execution_count": 1,
   "id": "f0d60003-c98f-4c48-a63c-7afaeb7b7d49",
   "metadata": {},
   "outputs": [],
   "source": [
    "import multiprocessing"
   ]
  },
  {
   "cell_type": "code",
   "execution_count": 2,
   "id": "e567518e-7c32-44d7-b143-b208f81ae4d2",
   "metadata": {},
   "outputs": [],
   "source": [
    "#CPU-Bound Task\n",
    "def cpu_bound_task():\n",
    "    result = 0\n",
    "    for i in range(10**7):\n",
    "        result += i\n",
    "    print(f\"Result:{result}\")"
   ]
  },
  {
   "cell_type": "code",
   "execution_count": 5,
   "id": "f5461718-ecdf-4b19-b4bb-0dd502dc9f8f",
   "metadata": {},
   "outputs": [],
   "source": [
    "#start two process\n",
    "if __name__ == \"_main__\":\n",
    "    processes = []\n",
    "    for _ in range(2):\n",
    "        process = multiprocessing.process(target=cpu_bound_task)\n",
    "        processe.append(process)\n",
    "        process.start()\n",
    "\n",
    "\n",
    "    for process in processes:\n",
    "        process.join()"
   ]
  },
  {
   "cell_type": "code",
   "execution_count": null,
   "id": "17974aa5-9df0-42c9-af28-d859c94f2dbb",
   "metadata": {},
   "outputs": [],
   "source": []
  }
 ],
 "metadata": {
  "kernelspec": {
   "display_name": "Python 3 (ipykernel)",
   "language": "python",
   "name": "python3"
  },
  "language_info": {
   "codemirror_mode": {
    "name": "ipython",
    "version": 3
   },
   "file_extension": ".py",
   "mimetype": "text/x-python",
   "name": "python",
   "nbconvert_exporter": "python",
   "pygments_lexer": "ipython3",
   "version": "3.12.8"
  }
 },
 "nbformat": 4,
 "nbformat_minor": 5
}
