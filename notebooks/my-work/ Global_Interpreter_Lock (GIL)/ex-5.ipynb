{
 "cells": [
  {
   "cell_type": "code",
   "execution_count": null,
   "id": "329df604-8939-4f4f-b840-a1c2e42bfc38",
   "metadata": {},
   "outputs": [],
   "source": [
    "#created at 20250321"
   ]
  },
  {
   "cell_type": "code",
   "execution_count": null,
   "id": "a3252198-1f6d-4837-ab8a-acb359f069ab",
   "metadata": {},
   "outputs": [],
   "source": [
    "#https://stevejoe1412.gitbook.io/ssn/python-subtopics/18.-global-interpreter-lock-gil"
   ]
  },
  {
   "cell_type": "code",
   "execution_count": null,
   "id": "8924f34a-a55f-45b0-bd4f-4adab128278b",
   "metadata": {},
   "outputs": [],
   "source": [
    "#GIL and performance Benchmark(CPU-bound)"
   ]
  },
  {
   "cell_type": "code",
   "execution_count": 1,
   "id": "8514d6e1-6a17-4495-878f-a3829bcb1165",
   "metadata": {},
   "outputs": [],
   "source": [
    "import threading"
   ]
  },
  {
   "cell_type": "code",
   "execution_count": 2,
   "id": "a30281e2-3918-4e21-97b7-8a5445a442cd",
   "metadata": {},
   "outputs": [],
   "source": [
    "import multiprocessing"
   ]
  },
  {
   "cell_type": "code",
   "execution_count": 3,
   "id": "f0c9d892-2e6a-4ba1-b7e2-38bd3b98606b",
   "metadata": {},
   "outputs": [],
   "source": [
    "import time"
   ]
  },
  {
   "cell_type": "code",
   "execution_count": 4,
   "id": "cd70f608-88b2-4c30-8e63-280b8febf56e",
   "metadata": {},
   "outputs": [],
   "source": [
    "#CPU-bound task\n",
    "def cpu_bound_task():\n",
    "    result = 0\n",
    "    for i in range(10**7):\n",
    "        result += i"
   ]
  },
  {
   "cell_type": "code",
   "execution_count": 6,
   "id": "914d70d0-bea4-4867-b261-048efab4d466",
   "metadata": {},
   "outputs": [],
   "source": [
    "#Benchmark Threading\n",
    "start_time = time.time()\n",
    "threads = [threading.Thread(target = cpu_bound_task) for _ in range(2)]\n",
    "for thread in threads:\n",
    "    thread.start()\n",
    "for thread in threads:\n",
    "    thread.join()\n",
    "threading_time = time.time() - start_time"
   ]
  },
  {
   "cell_type": "code",
   "execution_count": 7,
   "id": "3a6986ff-1588-473b-8c98-e51777687fcb",
   "metadata": {},
   "outputs": [],
   "source": [
    "#Benchmark multiprocessing\n",
    "start_time = time.time()\n",
    "processes =[multiprocessing.Process(target =cpu_bound_task) for _ in range(2)]\n",
    "for process in processes:\n",
    "    process.start()\n",
    "for process in processes:\n",
    "     process.join()\n",
    "multiprocessing_time = time.time() - start_time"
   ]
  },
  {
   "cell_type": "code",
   "execution_count": 8,
   "id": "709348c8-572d-471d-a7b3-9b2dac96a7fa",
   "metadata": {},
   "outputs": [
    {
     "name": "stdout",
     "output_type": "stream",
     "text": [
      "Threading time:1.715914249420166\n"
     ]
    }
   ],
   "source": [
    "print(f\"Threading time:{threading_time}\")"
   ]
  },
  {
   "cell_type": "code",
   "execution_count": 9,
   "id": "992b01ed-b373-417e-af8a-fd3fa7c3588c",
   "metadata": {},
   "outputs": [
    {
     "name": "stdout",
     "output_type": "stream",
     "text": [
      "multiprocessing_time:1.4396085739135742\n"
     ]
    }
   ],
   "source": [
    "print(f\"multiprocessing_time:{multiprocessing_time}\")"
   ]
  },
  {
   "cell_type": "code",
   "execution_count": null,
   "id": "0383ab43-bf7e-4ca4-9e62-4205992028b9",
   "metadata": {},
   "outputs": [],
   "source": []
  }
 ],
 "metadata": {
  "kernelspec": {
   "display_name": "Python 3 (ipykernel)",
   "language": "python",
   "name": "python3"
  },
  "language_info": {
   "codemirror_mode": {
    "name": "ipython",
    "version": 3
   },
   "file_extension": ".py",
   "mimetype": "text/x-python",
   "name": "python",
   "nbconvert_exporter": "python",
   "pygments_lexer": "ipython3",
   "version": "3.12.8"
  }
 },
 "nbformat": 4,
 "nbformat_minor": 5
}
