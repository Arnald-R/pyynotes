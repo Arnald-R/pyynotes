{
 "cells": [
  {
   "cell_type": "code",
   "execution_count": null,
   "id": "af9de84c-c610-429c-ab0e-80f4e7ba42ee",
   "metadata": {},
   "outputs": [],
   "source": [
    "#created at 20250321"
   ]
  },
  {
   "cell_type": "code",
   "execution_count": null,
   "id": "77e02b9a-6362-4a9a-9eaf-97c0beaa0c61",
   "metadata": {},
   "outputs": [],
   "source": [
    "#https://stevejoe1412.gitbook.io/ssn/python-subtopics/18.-global-interpreter-lock-gil"
   ]
  },
  {
   "cell_type": "code",
   "execution_count": null,
   "id": "6e6af434-55a6-495b-83a7-9d93b2e00409",
   "metadata": {},
   "outputs": [],
   "source": [
    "#Basic Multithreading with the GIL (CPU-bound)"
   ]
  },
  {
   "cell_type": "code",
   "execution_count": 1,
   "id": "b8833d5b-83a2-4738-817c-e0019220fda6",
   "metadata": {},
   "outputs": [],
   "source": [
    "import threading \n",
    "import time"
   ]
  },
  {
   "cell_type": "code",
   "execution_count": 2,
   "id": "94efc80b-beb5-4eff-93a4-cf1496d0ffba",
   "metadata": {},
   "outputs": [],
   "source": [
    "#CPU Bound task\n",
    "def cpu_bound_task():\n",
    "    result = 0\n",
    "    for i in range(10**7):\n",
    "        result += i\n",
    "    print(f\"Result: {result}\")"
   ]
  },
  {
   "cell_type": "code",
   "execution_count": 3,
   "id": "c404e202-701a-4701-aa69-de27c29c3a2d",
   "metadata": {},
   "outputs": [
    {
     "name": "stdout",
     "output_type": "stream",
     "text": [
      "Result: 49999995000000\n",
      "Result: 49999995000000\n"
     ]
    }
   ],
   "source": [
    "#start two threads\n",
    "threads = []\n",
    "for _ in range(2):\n",
    "    thread = threading.Thread(target=cpu_bound_task)\n",
    "    threads.append(thread)\n",
    "    thread.start()"
   ]
  },
  {
   "cell_type": "code",
   "execution_count": 4,
   "id": "17dc5ab3-bda0-4e41-8ef4-8d0408883329",
   "metadata": {},
   "outputs": [],
   "source": [
    "for thread in threads:\n",
    "    thread.join()"
   ]
  },
  {
   "cell_type": "code",
   "execution_count": null,
   "id": "3a9eb9a4-7b99-41b0-bc50-0b56b143400b",
   "metadata": {},
   "outputs": [],
   "source": []
  }
 ],
 "metadata": {
  "kernelspec": {
   "display_name": "Python 3 (ipykernel)",
   "language": "python",
   "name": "python3"
  },
  "language_info": {
   "codemirror_mode": {
    "name": "ipython",
    "version": 3
   },
   "file_extension": ".py",
   "mimetype": "text/x-python",
   "name": "python",
   "nbconvert_exporter": "python",
   "pygments_lexer": "ipython3",
   "version": "3.12.8"
  }
 },
 "nbformat": 4,
 "nbformat_minor": 5
}
