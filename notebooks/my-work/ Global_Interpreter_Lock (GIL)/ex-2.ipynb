{
 "cells": [
  {
   "cell_type": "code",
   "execution_count": null,
   "id": "a4dc1f24-b244-43a1-9b79-d389721ef7dc",
   "metadata": {},
   "outputs": [],
   "source": [
    "#created at 20250321"
   ]
  },
  {
   "cell_type": "code",
   "execution_count": null,
   "id": "3d519ef0-666d-4f5f-909c-7560c09dd44e",
   "metadata": {},
   "outputs": [],
   "source": [
    "#https://stevejoe1412.gitbook.io/ssn/python-subtopics/18.-global-interpreter-lock-gil"
   ]
  },
  {
   "cell_type": "code",
   "execution_count": null,
   "id": "157dcfc1-1df5-4e2f-8f3f-a8692796e61d",
   "metadata": {},
   "outputs": [],
   "source": [
    "#MultiThreading with the GIL (I/O - bound)"
   ]
  },
  {
   "cell_type": "code",
   "execution_count": 1,
   "id": "c9a0b90a-d22d-4dd4-b0de-a5000fa9e844",
   "metadata": {},
   "outputs": [],
   "source": [
    "import threading\n",
    "import time"
   ]
  },
  {
   "cell_type": "code",
   "execution_count": 2,
   "id": "2870b8a1-9436-417e-92e1-f6568b165c17",
   "metadata": {},
   "outputs": [],
   "source": [
    "#I/O- bound task\n",
    "def io_bound_task():\n",
    "    time.sleep(2) #Simulate I/O operation\n",
    "    print(\"I/O Task done\")"
   ]
  },
  {
   "cell_type": "code",
   "execution_count": 3,
   "id": "576d100c-45d3-4f7c-8ded-defeca4d1531",
   "metadata": {},
   "outputs": [
    {
     "name": "stdout",
     "output_type": "stream",
     "text": [
      "I/O Task done\n",
      "I/O Task done\n"
     ]
    }
   ],
   "source": [
    "#Start two threads\n",
    "threads = []\n",
    "for _ in range(2):\n",
    "    thread = threading.Thread(target=io_bound_task)\n",
    "    threads.append(thread)\n",
    "    thread.start()"
   ]
  },
  {
   "cell_type": "code",
   "execution_count": 4,
   "id": "ac08a210-f9e0-4c06-b384-b0a8e9bab8fc",
   "metadata": {},
   "outputs": [],
   "source": [
    "for thread in threads:\n",
    "    thread.join()"
   ]
  },
  {
   "cell_type": "code",
   "execution_count": null,
   "id": "ddbc53f6-4ce7-407a-a66c-9994a9cd700f",
   "metadata": {},
   "outputs": [],
   "source": []
  }
 ],
 "metadata": {
  "kernelspec": {
   "display_name": "Python 3 (ipykernel)",
   "language": "python",
   "name": "python3"
  },
  "language_info": {
   "codemirror_mode": {
    "name": "ipython",
    "version": 3
   },
   "file_extension": ".py",
   "mimetype": "text/x-python",
   "name": "python",
   "nbconvert_exporter": "python",
   "pygments_lexer": "ipython3",
   "version": "3.12.8"
  }
 },
 "nbformat": 4,
 "nbformat_minor": 5
}
