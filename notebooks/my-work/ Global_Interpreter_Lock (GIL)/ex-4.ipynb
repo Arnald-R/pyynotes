{
 "cells": [
  {
   "cell_type": "code",
   "execution_count": null,
   "id": "bfced61b-a474-47da-b597-0ccf7c92564e",
   "metadata": {},
   "outputs": [],
   "source": [
    "#created at 20250321"
   ]
  },
  {
   "cell_type": "code",
   "execution_count": null,
   "id": "ae03241e-99bb-40ba-92f1-2e41963ae82e",
   "metadata": {},
   "outputs": [],
   "source": [
    "#https://stevejoe1412.gitbook.io/ssn/python-subtopics/18.-global-interpreter-lock-gil"
   ]
  },
  {
   "cell_type": "code",
   "execution_count": null,
   "id": "36b19d0c-d810-420d-9f6e-d2f97d37c2ad",
   "metadata": {},
   "outputs": [],
   "source": [
    "#Threading with shared data(GIL Locking)"
   ]
  },
  {
   "cell_type": "code",
   "execution_count": 2,
   "id": "7c7e38dd-6cb0-434f-b8f9-10e54b873cad",
   "metadata": {},
   "outputs": [],
   "source": [
    "import threading"
   ]
  },
  {
   "cell_type": "code",
   "execution_count": 3,
   "id": "4c86d870-cca0-4dd1-a163-27731603126d",
   "metadata": {},
   "outputs": [],
   "source": [
    "#Shared resource\n",
    "shared_list = []"
   ]
  },
  {
   "cell_type": "code",
   "execution_count": 5,
   "id": "778b3932-292e-421a-b41b-13f6835d6308",
   "metadata": {},
   "outputs": [],
   "source": [
    "#Task to append in shared list\n",
    "def append_to_list():\n",
    "    for i in range(10000):\n",
    "        shared_list.append(1)"
   ]
  },
  {
   "cell_type": "code",
   "execution_count": 7,
   "id": "e023d67d-5149-4a86-bd11-0b5fccf0cec7",
   "metadata": {},
   "outputs": [],
   "source": [
    "#starttwo theads\n",
    "threads = []\n",
    "for _ in range(2):\n",
    "    thread = threading.Thread(target=append_to_list)\n",
    "    threads.append(thread)\n",
    "    thread.start()"
   ]
  },
  {
   "cell_type": "code",
   "execution_count": 8,
   "id": "2ff8d1e2-0b55-4ac2-9024-d60b5b90f7c6",
   "metadata": {},
   "outputs": [],
   "source": [
    "for thread in threads:\n",
    "    thread.join()"
   ]
  },
  {
   "cell_type": "code",
   "execution_count": 9,
   "id": "70ecf85a-4951-42f0-bcf2-e1227b43c457",
   "metadata": {},
   "outputs": [
    {
     "name": "stdout",
     "output_type": "stream",
     "text": [
      "shared list length:20000\n"
     ]
    }
   ],
   "source": [
    "print(f\"shared list length:{len(shared_list)}\")"
   ]
  },
  {
   "cell_type": "code",
   "execution_count": null,
   "id": "5c714cce-f8ad-4e57-93f1-b618274001f3",
   "metadata": {},
   "outputs": [],
   "source": []
  }
 ],
 "metadata": {
  "kernelspec": {
   "display_name": "Python 3 (ipykernel)",
   "language": "python",
   "name": "python3"
  },
  "language_info": {
   "codemirror_mode": {
    "name": "ipython",
    "version": 3
   },
   "file_extension": ".py",
   "mimetype": "text/x-python",
   "name": "python",
   "nbconvert_exporter": "python",
   "pygments_lexer": "ipython3",
   "version": "3.12.8"
  }
 },
 "nbformat": 4,
 "nbformat_minor": 5
}
