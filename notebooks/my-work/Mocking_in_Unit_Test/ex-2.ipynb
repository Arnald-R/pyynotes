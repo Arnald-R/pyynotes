{
 "cells": [
  {
   "cell_type": "code",
   "execution_count": null,
   "id": "149ca6a2-0d5c-44a6-a45c-bfe0c509369f",
   "metadata": {},
   "outputs": [],
   "source": [
    "#created at 20250314"
   ]
  },
  {
   "cell_type": "code",
   "execution_count": null,
   "id": "3b9394dc-5e30-45f7-b257-96b44e7f75fb",
   "metadata": {},
   "outputs": [],
   "source": [
    "#https://stevejoe1412.gitbook.io/ssn/python-subtopics/10.-mocking-in-unit-tests"
   ]
  },
  {
   "cell_type": "code",
   "execution_count": null,
   "id": "5e8e1ec7-ac26-49eb-83ad-dec08fc001ce",
   "metadata": {},
   "outputs": [],
   "source": [
    "#Mocking method calls in a class"
   ]
  },
  {
   "cell_type": "code",
   "execution_count": 1,
   "id": "d177a473-1378-49cd-a5be-e2c1107a30d7",
   "metadata": {},
   "outputs": [],
   "source": [
    "from unittest.mock import MagicMock"
   ]
  },
  {
   "cell_type": "code",
   "execution_count": 2,
   "id": "4d3255cc-115c-4d8c-998c-4b76ca7852d9",
   "metadata": {},
   "outputs": [],
   "source": [
    "class MyClass: \n",
    "    def method(self):\n",
    "        return \"Hello world\""
   ]
  },
  {
   "cell_type": "code",
   "execution_count": 3,
   "id": "c80de437-deca-4a48-a5b8-88318f56bc5a",
   "metadata": {},
   "outputs": [],
   "source": [
    "obj = MyClass()"
   ]
  },
  {
   "cell_type": "code",
   "execution_count": 4,
   "id": "e9907937-dd1c-48b0-9cc5-cf13aefe54b6",
   "metadata": {},
   "outputs": [],
   "source": [
    "obj.method = MagicMock(return_value = \"Mocked_method\")"
   ]
  },
  {
   "cell_type": "code",
   "execution_count": 5,
   "id": "f8052cd3-ade4-4d1b-81af-26721c662512",
   "metadata": {},
   "outputs": [
    {
     "name": "stdout",
     "output_type": "stream",
     "text": [
      "Mocked_method\n"
     ]
    }
   ],
   "source": [
    "print(obj.method())"
   ]
  },
  {
   "cell_type": "code",
   "execution_count": null,
   "id": "236c5a56-49d3-4a81-b3ee-442e40b26304",
   "metadata": {},
   "outputs": [],
   "source": []
  }
 ],
 "metadata": {
  "kernelspec": {
   "display_name": "Python 3 (ipykernel)",
   "language": "python",
   "name": "python3"
  },
  "language_info": {
   "codemirror_mode": {
    "name": "ipython",
    "version": 3
   },
   "file_extension": ".py",
   "mimetype": "text/x-python",
   "name": "python",
   "nbconvert_exporter": "python",
   "pygments_lexer": "ipython3",
   "version": "3.12.8"
  }
 },
 "nbformat": 4,
 "nbformat_minor": 5
}
