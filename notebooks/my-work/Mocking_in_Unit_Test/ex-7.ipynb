{
 "cells": [
  {
   "cell_type": "code",
   "execution_count": null,
   "id": "945da0c7-a8c3-4190-8b8f-4163607da0ee",
   "metadata": {},
   "outputs": [],
   "source": [
    "#created at 20250314"
   ]
  },
  {
   "cell_type": "code",
   "execution_count": null,
   "id": "61bcac45-3618-44b3-9bc2-08560b31d6f4",
   "metadata": {},
   "outputs": [],
   "source": [
    "#https://stevejoe1412.gitbook.io/ssn/python-subtopics/10.-mocking-in-unit-tests"
   ]
  },
  {
   "cell_type": "code",
   "execution_count": null,
   "id": "3ce379e6-c92f-4dce-908e-8bc1f14c1593",
   "metadata": {},
   "outputs": [],
   "source": [
    "#Mocking with side effects"
   ]
  },
  {
   "cell_type": "code",
   "execution_count": 1,
   "id": "14bc24c1-79af-4f69-8020-1ec7e1f1fa7f",
   "metadata": {},
   "outputs": [],
   "source": [
    "from unittest.mock import Mock"
   ]
  },
  {
   "cell_type": "code",
   "execution_count": 2,
   "id": "5a6db383-8160-46c8-95e0-10f1ebf84c9e",
   "metadata": {},
   "outputs": [],
   "source": [
    "def side_effect_func(arg):\n",
    "    return f\"processed :{arg}\""
   ]
  },
  {
   "cell_type": "code",
   "execution_count": 3,
   "id": "a49fe2cd-ad36-4768-81b0-a0b138ced2de",
   "metadata": {},
   "outputs": [
    {
     "name": "stdout",
     "output_type": "stream",
     "text": [
      "processed :data\n"
     ]
    }
   ],
   "source": [
    "mock = Mock(side_effect = side_effect_func)\n",
    "print(mock(\"data\"))"
   ]
  },
  {
   "cell_type": "code",
   "execution_count": null,
   "id": "5f1933dc-39f9-42f0-910e-46c646805834",
   "metadata": {},
   "outputs": [],
   "source": []
  }
 ],
 "metadata": {
  "kernelspec": {
   "display_name": "Python 3 (ipykernel)",
   "language": "python",
   "name": "python3"
  },
  "language_info": {
   "codemirror_mode": {
    "name": "ipython",
    "version": 3
   },
   "file_extension": ".py",
   "mimetype": "text/x-python",
   "name": "python",
   "nbconvert_exporter": "python",
   "pygments_lexer": "ipython3",
   "version": "3.12.8"
  }
 },
 "nbformat": 4,
 "nbformat_minor": 5
}
