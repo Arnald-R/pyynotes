{
 "cells": [
  {
   "cell_type": "code",
   "execution_count": null,
   "id": "fe0d82e7-4a66-4bee-9624-d9de425bf833",
   "metadata": {},
   "outputs": [],
   "source": [
    "#created at 20250314"
   ]
  },
  {
   "cell_type": "code",
   "execution_count": null,
   "id": "4911a821-d8d0-45cb-8246-49592209f497",
   "metadata": {},
   "outputs": [],
   "source": [
    "#https://stevejoe1412.gitbook.io/ssn/python-subtopics/10.-mocking-in-unit-tests"
   ]
  },
  {
   "cell_type": "code",
   "execution_count": null,
   "id": "65fa149f-c876-4b6f-b39e-1381228de306",
   "metadata": {},
   "outputs": [],
   "source": [
    "#mocking multiple calls with different results "
   ]
  },
  {
   "cell_type": "code",
   "execution_count": 1,
   "id": "5bf59fcf-c175-40ac-8ad9-e255a066532c",
   "metadata": {},
   "outputs": [],
   "source": [
    "from unittest.mock import Mock"
   ]
  },
  {
   "cell_type": "code",
   "execution_count": 2,
   "id": "eb85b45d-cea7-4059-b294-2a857dbadee9",
   "metadata": {},
   "outputs": [],
   "source": [
    "mock = Mock()"
   ]
  },
  {
   "cell_type": "code",
   "execution_count": 5,
   "id": "f2a1d0eb-f68f-461f-887f-708f8fcff66a",
   "metadata": {},
   "outputs": [],
   "source": [
    "mock.side_effect = [1,2,3]"
   ]
  },
  {
   "cell_type": "code",
   "execution_count": 6,
   "id": "71d7f855-db40-4af5-8fcd-71f12c6bd3db",
   "metadata": {},
   "outputs": [
    {
     "name": "stdout",
     "output_type": "stream",
     "text": [
      "1\n"
     ]
    }
   ],
   "source": [
    "print(mock())"
   ]
  },
  {
   "cell_type": "code",
   "execution_count": 7,
   "id": "5a03faed-284c-4916-b0d1-69dcb47cd02c",
   "metadata": {},
   "outputs": [
    {
     "name": "stdout",
     "output_type": "stream",
     "text": [
      "2\n"
     ]
    }
   ],
   "source": [
    "print(mock())"
   ]
  },
  {
   "cell_type": "code",
   "execution_count": 8,
   "id": "7807bf9d-4c97-46b1-baf1-4d5306297a26",
   "metadata": {},
   "outputs": [
    {
     "name": "stdout",
     "output_type": "stream",
     "text": [
      "3\n"
     ]
    }
   ],
   "source": [
    "print(mock())"
   ]
  },
  {
   "cell_type": "code",
   "execution_count": null,
   "id": "5e5d01df-aac2-4f49-9eff-b8ebc9d7c82d",
   "metadata": {},
   "outputs": [],
   "source": []
  }
 ],
 "metadata": {
  "kernelspec": {
   "display_name": "Python 3 (ipykernel)",
   "language": "python",
   "name": "python3"
  },
  "language_info": {
   "codemirror_mode": {
    "name": "ipython",
    "version": 3
   },
   "file_extension": ".py",
   "mimetype": "text/x-python",
   "name": "python",
   "nbconvert_exporter": "python",
   "pygments_lexer": "ipython3",
   "version": "3.12.8"
  }
 },
 "nbformat": 4,
 "nbformat_minor": 5
}
