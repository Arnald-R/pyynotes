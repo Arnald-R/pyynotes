{
 "cells": [
  {
   "cell_type": "code",
   "execution_count": null,
   "id": "1967556a-6fa9-48d5-b20c-757b1b505732",
   "metadata": {},
   "outputs": [],
   "source": [
    "#created at 20250314"
   ]
  },
  {
   "cell_type": "code",
   "execution_count": null,
   "id": "a1dc0b38-d54b-4e5b-9bdb-c7fbb44907d4",
   "metadata": {},
   "outputs": [],
   "source": [
    "#https://stevejoe1412.gitbook.io/ssn/python-subtopics/10.-mocking-in-unit-tests"
   ]
  },
  {
   "cell_type": "code",
   "execution_count": null,
   "id": "072322f9-667c-42e1-bd65-14414909dcd0",
   "metadata": {},
   "outputs": [],
   "source": [
    "#Mock in unit test in test classes"
   ]
  },
  {
   "cell_type": "code",
   "execution_count": 1,
   "id": "cd4fcd24-2ea8-40d6-934a-27afbb7a7570",
   "metadata": {},
   "outputs": [],
   "source": [
    "import unittest"
   ]
  },
  {
   "cell_type": "code",
   "execution_count": 2,
   "id": "1bb2b740-6f03-4546-9bf5-eab27d34b6e4",
   "metadata": {},
   "outputs": [],
   "source": [
    "from unittest.mock import patch"
   ]
  },
  {
   "cell_type": "code",
   "execution_count": 3,
   "id": "ff21378e-a601-4fcd-949a-629023c84277",
   "metadata": {},
   "outputs": [],
   "source": [
    "def get_user_info(user_id):\n",
    "    import database\n",
    "    return database.get_user(user_id)"
   ]
  },
  {
   "cell_type": "code",
   "execution_count": 5,
   "id": "5ece003a-0aba-42c8-ae01-6fba69d3d1f4",
   "metadata": {},
   "outputs": [],
   "source": [
    "class TestUserInfo(unittest.TestCase):\n",
    "    @patch(\"database.get_user\")\n",
    "    def test_get_user_info(self,mock_get_user):\n",
    "        mock_get_user.return_value = {\"id\" : 1, \"name\" : \"Arnald\"}\n",
    "        user_info = get_user_info(1)\n",
    "        self.assertequal(user_info,{\"id\" :1 , \"name\" : \"Arnald\"})\n",
    "        mock_get_user.assert_called_once_with(1)\n",
    "\n",
    "if __name__  == \"main\":\n",
    "    unittest.main()"
   ]
  },
  {
   "cell_type": "code",
   "execution_count": null,
   "id": "dd2b1bfa-3389-4653-85c2-26f6fdf91464",
   "metadata": {},
   "outputs": [],
   "source": []
  }
 ],
 "metadata": {
  "kernelspec": {
   "display_name": "Python 3 (ipykernel)",
   "language": "python",
   "name": "python3"
  },
  "language_info": {
   "codemirror_mode": {
    "name": "ipython",
    "version": 3
   },
   "file_extension": ".py",
   "mimetype": "text/x-python",
   "name": "python",
   "nbconvert_exporter": "python",
   "pygments_lexer": "ipython3",
   "version": "3.12.8"
  }
 },
 "nbformat": 4,
 "nbformat_minor": 5
}
