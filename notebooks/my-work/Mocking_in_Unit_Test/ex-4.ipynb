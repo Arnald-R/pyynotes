{
 "cells": [
  {
   "cell_type": "code",
   "execution_count": null,
   "id": "40f3ab1d-2c72-42c6-a25a-6a46705d78da",
   "metadata": {},
   "outputs": [],
   "source": [
    "#created at 20250314"
   ]
  },
  {
   "cell_type": "code",
   "execution_count": null,
   "id": "02aadc44-84a6-422d-abea-94117ff4cbaa",
   "metadata": {},
   "outputs": [],
   "source": [
    "#https://stevejoe1412.gitbook.io/ssn/python-subtopics/10.-mocking-in-unit-tests"
   ]
  },
  {
   "cell_type": "code",
   "execution_count": null,
   "id": "517d305a-183a-46c7-92c6-57e2b104027a",
   "metadata": {},
   "outputs": [],
   "source": [
    "#mocking a module dependency"
   ]
  },
  {
   "cell_type": "code",
   "execution_count": 1,
   "id": "7a02a2e8-8326-4227-8eb3-315a1f3eda1c",
   "metadata": {},
   "outputs": [],
   "source": [
    "from unittest.mock import patch"
   ]
  },
  {
   "cell_type": "code",
   "execution_count": 2,
   "id": "00928f82-0593-4f3f-a8b0-c9a0dd8c419d",
   "metadata": {},
   "outputs": [],
   "source": [
    "def get_data():\n",
    "    import requests\n",
    "    response = requests.get(\"http://example.com\")\n",
    "    return response.status_code"
   ]
  },
  {
   "cell_type": "code",
   "execution_count": 3,
   "id": "379c19a6-d4e7-41b3-9c69-834620b96188",
   "metadata": {},
   "outputs": [
    {
     "name": "stdout",
     "output_type": "stream",
     "text": [
      "200\n"
     ]
    }
   ],
   "source": [
    "with patch (\"requests.get\") as mock_get:\n",
    "    mock_get.return_value.status_code = 200\n",
    "    print(get_data())"
   ]
  },
  {
   "cell_type": "code",
   "execution_count": null,
   "id": "6c328f29-b82f-415b-a98c-2a5fe6ce11d1",
   "metadata": {},
   "outputs": [],
   "source": []
  }
 ],
 "metadata": {
  "kernelspec": {
   "display_name": "Python 3 (ipykernel)",
   "language": "python",
   "name": "python3"
  },
  "language_info": {
   "codemirror_mode": {
    "name": "ipython",
    "version": 3
   },
   "file_extension": ".py",
   "mimetype": "text/x-python",
   "name": "python",
   "nbconvert_exporter": "python",
   "pygments_lexer": "ipython3",
   "version": "3.12.8"
  }
 },
 "nbformat": 4,
 "nbformat_minor": 5
}
