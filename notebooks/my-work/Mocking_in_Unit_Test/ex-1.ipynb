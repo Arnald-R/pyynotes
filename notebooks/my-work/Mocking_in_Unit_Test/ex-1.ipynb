{
 "cells": [
  {
   "cell_type": "code",
   "execution_count": null,
   "id": "30136311-4b39-495f-8399-50ec14b6b378",
   "metadata": {},
   "outputs": [],
   "source": [
    "#created at 20250314"
   ]
  },
  {
   "cell_type": "code",
   "execution_count": null,
   "id": "f0948edb-bde5-4008-bcc7-fb7703c889c2",
   "metadata": {},
   "outputs": [],
   "source": [
    "#https://stevejoe1412.gitbook.io/ssn/python-subtopics/10.-mocking-in-unit-tests"
   ]
  },
  {
   "cell_type": "code",
   "execution_count": null,
   "id": "588bc8ad-3195-4616-9c3b-b61bbb05ac2b",
   "metadata": {},
   "outputs": [],
   "source": [
    "#Mocking a simple function"
   ]
  },
  {
   "cell_type": "code",
   "execution_count": 1,
   "id": "02b12492-ed50-495b-a62f-4157dde9fed3",
   "metadata": {},
   "outputs": [],
   "source": [
    "from unittest.mock import Mock"
   ]
  },
  {
   "cell_type": "code",
   "execution_count": 2,
   "id": "927d6838-8686-4bb1-8a00-b49a9a50a1d9",
   "metadata": {},
   "outputs": [],
   "source": [
    "def greet():\n",
    "    return \"hello\""
   ]
  },
  {
   "cell_type": "code",
   "execution_count": 3,
   "id": "313d06f9-ee8b-4b64-96e7-c5c3b2e3a147",
   "metadata": {},
   "outputs": [],
   "source": [
    "mock_greet = Mock(return_value = \"Hi there\")"
   ]
  },
  {
   "cell_type": "code",
   "execution_count": 4,
   "id": "62f89981-8acc-4327-8a8e-99458af73e0b",
   "metadata": {},
   "outputs": [
    {
     "name": "stdout",
     "output_type": "stream",
     "text": [
      "Hi there\n"
     ]
    }
   ],
   "source": [
    "print(mock_greet())"
   ]
  },
  {
   "cell_type": "code",
   "execution_count": null,
   "id": "585860e0-303c-4f47-b8de-57bfe003555e",
   "metadata": {},
   "outputs": [],
   "source": []
  }
 ],
 "metadata": {
  "kernelspec": {
   "display_name": "Python 3 (ipykernel)",
   "language": "python",
   "name": "python3"
  },
  "language_info": {
   "codemirror_mode": {
    "name": "ipython",
    "version": 3
   },
   "file_extension": ".py",
   "mimetype": "text/x-python",
   "name": "python",
   "nbconvert_exporter": "python",
   "pygments_lexer": "ipython3",
   "version": "3.12.8"
  }
 },
 "nbformat": 4,
 "nbformat_minor": 5
}
