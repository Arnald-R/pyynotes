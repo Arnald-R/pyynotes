{
 "cells": [
  {
   "cell_type": "code",
   "execution_count": null,
   "id": "178377b0-0ccf-4937-b638-60845df92ff6",
   "metadata": {},
   "outputs": [],
   "source": [
    "#creatd at 20250314"
   ]
  },
  {
   "cell_type": "code",
   "execution_count": null,
   "id": "d57b0077-ee80-427f-9dff-6cf1c47df2f5",
   "metadata": {},
   "outputs": [],
   "source": [
    "#https://stevejoe1412.gitbook.io/ssn/python-subtopics/7.-function-annotations"
   ]
  },
  {
   "cell_type": "code",
   "execution_count": null,
   "id": "a2909e69-8542-4a65-a4d5-64f8767464b3",
   "metadata": {},
   "outputs": [],
   "source": [
    "#using Annotations with default value"
   ]
  },
  {
   "cell_type": "code",
   "execution_count": 3,
   "id": "6749c988-ba43-4888-9f47-f606ef8eecb5",
   "metadata": {},
   "outputs": [],
   "source": [
    "def power(base : int,  exponent :int =  2) -> int:\n",
    "    return base ** exponent"
   ]
  },
  {
   "cell_type": "code",
   "execution_count": 4,
   "id": "7f6bc362-9b1a-4241-87c6-5ff99d83588b",
   "metadata": {},
   "outputs": [
    {
     "name": "stdout",
     "output_type": "stream",
     "text": [
      "16\n"
     ]
    }
   ],
   "source": [
    "print(power(4))"
   ]
  },
  {
   "cell_type": "code",
   "execution_count": 5,
   "id": "b6c4eaad-21e8-44f7-a337-824f5b265959",
   "metadata": {},
   "outputs": [
    {
     "name": "stdout",
     "output_type": "stream",
     "text": [
      "27\n"
     ]
    }
   ],
   "source": [
    "print(power(3,3))"
   ]
  },
  {
   "cell_type": "code",
   "execution_count": null,
   "id": "5ba0816a-ffae-4978-87ee-0f1a0da4dc86",
   "metadata": {},
   "outputs": [],
   "source": []
  }
 ],
 "metadata": {
  "kernelspec": {
   "display_name": "Python 3 (ipykernel)",
   "language": "python",
   "name": "python3"
  },
  "language_info": {
   "codemirror_mode": {
    "name": "ipython",
    "version": 3
   },
   "file_extension": ".py",
   "mimetype": "text/x-python",
   "name": "python",
   "nbconvert_exporter": "python",
   "pygments_lexer": "ipython3",
   "version": "3.12.8"
  }
 },
 "nbformat": 4,
 "nbformat_minor": 5
}
