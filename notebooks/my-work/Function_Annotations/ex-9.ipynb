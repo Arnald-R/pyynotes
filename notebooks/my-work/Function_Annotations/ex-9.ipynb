{
 "cells": [
  {
   "cell_type": "code",
   "execution_count": null,
   "id": "f4b181a4-1ea8-4b9c-8b3a-2807c8003513",
   "metadata": {},
   "outputs": [],
   "source": [
    "#creatd at 20250314"
   ]
  },
  {
   "cell_type": "code",
   "execution_count": null,
   "id": "2054d44e-08f1-4246-bf28-62c48146683a",
   "metadata": {},
   "outputs": [],
   "source": [
    "#https://stevejoe1412.gitbook.io/ssn/python-subtopics/7.-function-annotations"
   ]
  },
  {
   "cell_type": "code",
   "execution_count": null,
   "id": "c2cec157-cf06-4862-992f-898c9e716911",
   "metadata": {},
   "outputs": [],
   "source": [
    "#Annotations for Generator Functions"
   ]
  },
  {
   "cell_type": "code",
   "execution_count": 1,
   "id": "ae0ea19d-b336-4cf0-862a-3e001181092e",
   "metadata": {},
   "outputs": [],
   "source": [
    "from typing import Generator"
   ]
  },
  {
   "cell_type": "code",
   "execution_count": 4,
   "id": "9dc74c0b-5e5f-45a0-a85d-e7d8d50cdbcd",
   "metadata": {},
   "outputs": [],
   "source": [
    "def count_up_to(max_val : int) -> Generator[int, None, None]:\n",
    "    count = 1\n",
    "    while count <= max_val:\n",
    "        yield count\n",
    "        count += 1"
   ]
  },
  {
   "cell_type": "code",
   "execution_count": 5,
   "id": "4a2c164e-2e98-4cab-969a-32b0179efba3",
   "metadata": {},
   "outputs": [
    {
     "name": "stdout",
     "output_type": "stream",
     "text": [
      "1 2 3 4 5 "
     ]
    }
   ],
   "source": [
    "for num in count_up_to(5):\n",
    "    print(num,end = \" \")"
   ]
  },
  {
   "cell_type": "code",
   "execution_count": null,
   "id": "654ee4b1-2422-4c5b-bb42-e0e2e8c611c6",
   "metadata": {},
   "outputs": [],
   "source": []
  }
 ],
 "metadata": {
  "kernelspec": {
   "display_name": "Python 3 (ipykernel)",
   "language": "python",
   "name": "python3"
  },
  "language_info": {
   "codemirror_mode": {
    "name": "ipython",
    "version": 3
   },
   "file_extension": ".py",
   "mimetype": "text/x-python",
   "name": "python",
   "nbconvert_exporter": "python",
   "pygments_lexer": "ipython3",
   "version": "3.12.8"
  }
 },
 "nbformat": 4,
 "nbformat_minor": 5
}
