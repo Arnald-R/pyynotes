{
 "cells": [
  {
   "cell_type": "code",
   "execution_count": null,
   "id": "3b38063f-0c03-41e8-8d3c-f10df8c697a2",
   "metadata": {},
   "outputs": [],
   "source": [
    "#creatd at 20250314"
   ]
  },
  {
   "cell_type": "code",
   "execution_count": null,
   "id": "19af9d6e-50cd-4977-bf7d-53eef01548f8",
   "metadata": {},
   "outputs": [],
   "source": [
    "#https://stevejoe1412.gitbook.io/ssn/python-subtopics/7.-function-annotations"
   ]
  },
  {
   "cell_type": "code",
   "execution_count": null,
   "id": "f60f02ec-d77f-4981-a25a-dd00f20d0ee4",
   "metadata": {},
   "outputs": [],
   "source": [
    "#Annotation with Dictionaries"
   ]
  },
  {
   "cell_type": "code",
   "execution_count": 1,
   "id": "f3d8fc46-a4f5-4bb3-a48a-a561559d1363",
   "metadata": {},
   "outputs": [],
   "source": [
    "from typing import Dict"
   ]
  },
  {
   "cell_type": "code",
   "execution_count": 2,
   "id": "1b1184c3-0f46-479e-951e-c8e64c71193b",
   "metadata": {},
   "outputs": [],
   "source": [
    "def user_info(data : Dict[str,str]) ->str:\n",
    "    return f\" Name : {data['name']},Age : {data['age']}\""
   ]
  },
  {
   "cell_type": "code",
   "execution_count": 3,
   "id": "caeec288-0b5c-4640-aa4a-7369d6955fdd",
   "metadata": {},
   "outputs": [
    {
     "name": "stdout",
     "output_type": "stream",
     "text": [
      " Name : Arnald,Age : 34\n"
     ]
    }
   ],
   "source": [
    "print(user_info({\"name\":\"Arnald\",\"age\" :\"34\"}))"
   ]
  },
  {
   "cell_type": "code",
   "execution_count": null,
   "id": "d06930c5-5379-4813-b7b1-1ca6cd69b43f",
   "metadata": {},
   "outputs": [],
   "source": []
  }
 ],
 "metadata": {
  "kernelspec": {
   "display_name": "Python 3 (ipykernel)",
   "language": "python",
   "name": "python3"
  },
  "language_info": {
   "codemirror_mode": {
    "name": "ipython",
    "version": 3
   },
   "file_extension": ".py",
   "mimetype": "text/x-python",
   "name": "python",
   "nbconvert_exporter": "python",
   "pygments_lexer": "ipython3",
   "version": "3.12.8"
  }
 },
 "nbformat": 4,
 "nbformat_minor": 5
}
