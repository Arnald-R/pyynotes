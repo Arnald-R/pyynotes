{
 "cells": [
  {
   "cell_type": "code",
   "execution_count": null,
   "id": "385dd718-4b01-4a04-a25a-81b76ff98fb0",
   "metadata": {},
   "outputs": [],
   "source": [
    "#creatd at 20250314"
   ]
  },
  {
   "cell_type": "code",
   "execution_count": null,
   "id": "30a5e550-bdce-4ab7-a088-d42d6ab34401",
   "metadata": {},
   "outputs": [],
   "source": [
    "#https://stevejoe1412.gitbook.io/ssn/python-subtopics/7.-function-annotations"
   ]
  },
  {
   "cell_type": "code",
   "execution_count": null,
   "id": "45047947-b031-44d5-8387-73072cb11c69",
   "metadata": {},
   "outputs": [],
   "source": [
    "#Annotating multiple Arguments"
   ]
  },
  {
   "cell_type": "code",
   "execution_count": 1,
   "id": "2afa092d-219b-40bf-a8fc-bf80908e77d2",
   "metadata": {},
   "outputs": [],
   "source": [
    "def add(x :int,y : int) -> int:\n",
    "    return x + y"
   ]
  },
  {
   "cell_type": "code",
   "execution_count": 3,
   "id": "ab34b7e1-7847-4f04-862c-5796d5ae16d7",
   "metadata": {},
   "outputs": [
    {
     "name": "stdout",
     "output_type": "stream",
     "text": [
      "9\n"
     ]
    }
   ],
   "source": [
    "print(add(4,5))"
   ]
  },
  {
   "cell_type": "code",
   "execution_count": null,
   "id": "9e3bb639-4a7c-459c-a0de-feaf6e427e02",
   "metadata": {},
   "outputs": [],
   "source": []
  }
 ],
 "metadata": {
  "kernelspec": {
   "display_name": "Python 3 (ipykernel)",
   "language": "python",
   "name": "python3"
  },
  "language_info": {
   "codemirror_mode": {
    "name": "ipython",
    "version": 3
   },
   "file_extension": ".py",
   "mimetype": "text/x-python",
   "name": "python",
   "nbconvert_exporter": "python",
   "pygments_lexer": "ipython3",
   "version": "3.12.8"
  }
 },
 "nbformat": 4,
 "nbformat_minor": 5
}
