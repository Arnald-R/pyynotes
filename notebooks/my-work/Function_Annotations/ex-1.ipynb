{
 "cells": [
  {
   "cell_type": "code",
   "execution_count": null,
   "id": "27223e2a-ba3c-4c45-bfa0-2254e624de85",
   "metadata": {},
   "outputs": [],
   "source": [
    "#creatd at 20250314"
   ]
  },
  {
   "cell_type": "code",
   "execution_count": null,
   "id": "241dcb07-2c8c-49d2-bd88-4bc7fcba6d8c",
   "metadata": {},
   "outputs": [],
   "source": [
    "#https://stevejoe1412.gitbook.io/ssn/python-subtopics/7.-function-annotations"
   ]
  },
  {
   "cell_type": "code",
   "execution_count": null,
   "id": "6b183ff4-1afa-410a-bd4e-483a796f795a",
   "metadata": {},
   "outputs": [],
   "source": [
    "#Basic Function Annotations"
   ]
  },
  {
   "cell_type": "code",
   "execution_count": 1,
   "id": "411d5ded-0d67-4b92-a251-87965967f643",
   "metadata": {},
   "outputs": [],
   "source": [
    "def greet(name : str) -> str:\n",
    "    return f\"Hello,'{name}'\""
   ]
  },
  {
   "cell_type": "code",
   "execution_count": 2,
   "id": "a9312f42-8f0f-4016-96cb-eecaac3fbc45",
   "metadata": {},
   "outputs": [
    {
     "name": "stdout",
     "output_type": "stream",
     "text": [
      "Hello,'Arnald'\n"
     ]
    }
   ],
   "source": [
    "print(greet(\"Arnald\"))"
   ]
  },
  {
   "cell_type": "code",
   "execution_count": null,
   "id": "e5d38cae-40c2-4df0-aff7-147ae5a8e508",
   "metadata": {},
   "outputs": [],
   "source": []
  }
 ],
 "metadata": {
  "kernelspec": {
   "display_name": "Python 3 (ipykernel)",
   "language": "python",
   "name": "python3"
  },
  "language_info": {
   "codemirror_mode": {
    "name": "ipython",
    "version": 3
   },
   "file_extension": ".py",
   "mimetype": "text/x-python",
   "name": "python",
   "nbconvert_exporter": "python",
   "pygments_lexer": "ipython3",
   "version": "3.12.8"
  }
 },
 "nbformat": 4,
 "nbformat_minor": 5
}
