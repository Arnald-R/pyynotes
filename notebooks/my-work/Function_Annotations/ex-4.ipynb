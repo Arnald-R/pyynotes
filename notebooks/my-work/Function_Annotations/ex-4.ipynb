{
 "cells": [
  {
   "cell_type": "code",
   "execution_count": null,
   "id": "310ab265-8d31-4e55-b7d2-b85a1b61210c",
   "metadata": {},
   "outputs": [],
   "source": [
    "#creatd at 20250314"
   ]
  },
  {
   "cell_type": "code",
   "execution_count": null,
   "id": "fa63330d-5a68-4a5b-96b2-43d951feb1f0",
   "metadata": {},
   "outputs": [],
   "source": [
    "#https://stevejoe1412.gitbook.io/ssn/python-subtopics/7.-function-annotations"
   ]
  },
  {
   "cell_type": "code",
   "execution_count": null,
   "id": "99355e6b-0a16-4d83-9c83-31795c1299f0",
   "metadata": {},
   "outputs": [],
   "source": [
    "#annotations for custom types"
   ]
  },
  {
   "cell_type": "code",
   "execution_count": 1,
   "id": "506dd664-3ffc-4466-ba53-6aac2c2bab7a",
   "metadata": {},
   "outputs": [],
   "source": [
    "from typing import List"
   ]
  },
  {
   "cell_type": "code",
   "execution_count": 3,
   "id": "34272cc2-fcb0-4d40-ba88-7b0254b1ceba",
   "metadata": {},
   "outputs": [],
   "source": [
    "def total (scores : List[int]) -> int :\n",
    "    return sum(scores)"
   ]
  },
  {
   "cell_type": "code",
   "execution_count": 5,
   "id": "0e6e2819-9377-4f8c-8a93-ca734765885f",
   "metadata": {},
   "outputs": [
    {
     "name": "stdout",
     "output_type": "stream",
     "text": [
      "177\n"
     ]
    }
   ],
   "source": [
    "print(total([23,56,98]))"
   ]
  },
  {
   "cell_type": "code",
   "execution_count": null,
   "id": "8e989ed3-da9c-4fcf-9848-c6a557e9e5f0",
   "metadata": {},
   "outputs": [],
   "source": []
  }
 ],
 "metadata": {
  "kernelspec": {
   "display_name": "Python 3 (ipykernel)",
   "language": "python",
   "name": "python3"
  },
  "language_info": {
   "codemirror_mode": {
    "name": "ipython",
    "version": 3
   },
   "file_extension": ".py",
   "mimetype": "text/x-python",
   "name": "python",
   "nbconvert_exporter": "python",
   "pygments_lexer": "ipython3",
   "version": "3.12.8"
  }
 },
 "nbformat": 4,
 "nbformat_minor": 5
}
