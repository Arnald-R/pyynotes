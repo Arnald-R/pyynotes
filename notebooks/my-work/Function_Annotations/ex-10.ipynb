{
 "cells": [
  {
   "cell_type": "code",
   "execution_count": null,
   "id": "ff5d408f-598b-4d22-be9a-d84864b37d11",
   "metadata": {},
   "outputs": [],
   "source": [
    "#created at 20250314"
   ]
  },
  {
   "cell_type": "code",
   "execution_count": null,
   "id": "42979724-86a0-446a-80aa-0c46ff6e02f3",
   "metadata": {},
   "outputs": [],
   "source": [
    "#https://stevejoe1412.gitbook.io/ssn/python-subtopics/7.-function-annotations"
   ]
  },
  {
   "cell_type": "code",
   "execution_count": null,
   "id": "d1c62272-ccc1-4e7b-aa54-e83bacce5f1d",
   "metadata": {},
   "outputs": [],
   "source": [
    "#Acceesing Function Annotations"
   ]
  },
  {
   "cell_type": "code",
   "execution_count": 1,
   "id": "36380959-122d-47c7-9ba8-f4f3b569cbfa",
   "metadata": {},
   "outputs": [],
   "source": [
    "def multiply(a : int, b : int) -> int:\n",
    "    return a * b"
   ]
  },
  {
   "cell_type": "code",
   "execution_count": 2,
   "id": "48abce40-c48f-4006-8970-97879ad759c4",
   "metadata": {},
   "outputs": [
    {
     "name": "stdout",
     "output_type": "stream",
     "text": [
      "{'a': <class 'int'>, 'b': <class 'int'>, 'return': <class 'int'>}\n"
     ]
    }
   ],
   "source": [
    "print(multiply.__annotations__)"
   ]
  },
  {
   "cell_type": "code",
   "execution_count": null,
   "id": "0296a776-45d2-4538-bbd2-3f060c2a0a33",
   "metadata": {},
   "outputs": [],
   "source": []
  }
 ],
 "metadata": {
  "kernelspec": {
   "display_name": "Python 3 (ipykernel)",
   "language": "python",
   "name": "python3"
  },
  "language_info": {
   "codemirror_mode": {
    "name": "ipython",
    "version": 3
   },
   "file_extension": ".py",
   "mimetype": "text/x-python",
   "name": "python",
   "nbconvert_exporter": "python",
   "pygments_lexer": "ipython3",
   "version": "3.12.8"
  }
 },
 "nbformat": 4,
 "nbformat_minor": 5
}
