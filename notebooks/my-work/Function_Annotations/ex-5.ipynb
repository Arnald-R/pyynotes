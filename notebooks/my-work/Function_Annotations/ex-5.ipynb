{
 "cells": [
  {
   "cell_type": "code",
   "execution_count": null,
   "id": "1837578e-f7b7-4087-a152-7c41b6e6e0e1",
   "metadata": {},
   "outputs": [],
   "source": [
    "#creatd at 20250314"
   ]
  },
  {
   "cell_type": "code",
   "execution_count": null,
   "id": "6ea208ab-ee73-495a-b841-1acd10d125a6",
   "metadata": {},
   "outputs": [],
   "source": [
    "#https://stevejoe1412.gitbook.io/ssn/python-subtopics/7.-function-annotations"
   ]
  },
  {
   "cell_type": "code",
   "execution_count": null,
   "id": "04e565ca-58de-44a0-a525-decf176f4bba",
   "metadata": {},
   "outputs": [],
   "source": [
    "#Annotations for Optional parameters"
   ]
  },
  {
   "cell_type": "code",
   "execution_count": 2,
   "id": "41593a3e-5a45-4b6e-a9cb-8449352dfaac",
   "metadata": {},
   "outputs": [],
   "source": [
    "from typing import Optional"
   ]
  },
  {
   "cell_type": "code",
   "execution_count": 7,
   "id": "dda90528-8639-410b-bf61-1db2c2d48335",
   "metadata": {},
   "outputs": [],
   "source": [
    "def find_user(username : str , age :Optional[int] = None ) -> str:\n",
    "    return f\"User:{username} , Age : {age if age else 'unknown'}\""
   ]
  },
  {
   "cell_type": "code",
   "execution_count": 8,
   "id": "dca52c8a-350c-4f61-95c6-a60a69a0bb7f",
   "metadata": {},
   "outputs": [
    {
     "name": "stdout",
     "output_type": "stream",
     "text": [
      "User:Arnald , Age : unknown\n"
     ]
    }
   ],
   "source": [
    "print(find_user(\"Arnald\"))"
   ]
  },
  {
   "cell_type": "code",
   "execution_count": 9,
   "id": "ab38bc15-8f4c-47c1-bf0a-1d24129a85e4",
   "metadata": {},
   "outputs": [
    {
     "name": "stdout",
     "output_type": "stream",
     "text": [
      "User:Ambu , Age : 32\n"
     ]
    }
   ],
   "source": [
    "print(find_user(\"Ambu\",32))"
   ]
  },
  {
   "cell_type": "code",
   "execution_count": null,
   "id": "c369ef51-da78-4546-8d3d-ea4b84feadf8",
   "metadata": {},
   "outputs": [],
   "source": []
  }
 ],
 "metadata": {
  "kernelspec": {
   "display_name": "Python 3 (ipykernel)",
   "language": "python",
   "name": "python3"
  },
  "language_info": {
   "codemirror_mode": {
    "name": "ipython",
    "version": 3
   },
   "file_extension": ".py",
   "mimetype": "text/x-python",
   "name": "python",
   "nbconvert_exporter": "python",
   "pygments_lexer": "ipython3",
   "version": "3.12.8"
  }
 },
 "nbformat": 4,
 "nbformat_minor": 5
}
