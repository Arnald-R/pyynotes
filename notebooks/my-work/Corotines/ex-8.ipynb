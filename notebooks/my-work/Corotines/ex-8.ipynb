{
 "cells": [
  {
   "cell_type": "code",
   "execution_count": null,
   "id": "9a59a794-67e5-41ea-a5ac-24ccdb6cebb4",
   "metadata": {},
   "outputs": [],
   "source": [
    "#creatd at 20250314"
   ]
  },
  {
   "cell_type": "code",
   "execution_count": null,
   "id": "49be18f4-e283-4364-9cfc-d4946c444ea8",
   "metadata": {},
   "outputs": [],
   "source": [
    "#https://stevejoe1412.gitbook.io/ssn/python-subtopics/8.-coroutines"
   ]
  },
  {
   "cell_type": "code",
   "execution_count": null,
   "id": "88b2c604-71bf-4055-8824-eee4cd376e05",
   "metadata": {},
   "outputs": [],
   "source": [
    "#Coroutine for Logging messages"
   ]
  },
  {
   "cell_type": "code",
   "execution_count": 1,
   "id": "c1aeb219-c12d-441f-b5ad-d88eefeb8051",
   "metadata": {},
   "outputs": [],
   "source": [
    "def logger():\n",
    "    print(\"logger started\")\n",
    "    while True:\n",
    "        message = yield \n",
    "        print(f\"log : {message}\")"
   ]
  },
  {
   "cell_type": "code",
   "execution_count": 2,
   "id": "fec964f9-4185-4dd7-844c-a40ffa449df3",
   "metadata": {},
   "outputs": [],
   "source": [
    "coro = logger()"
   ]
  },
  {
   "cell_type": "code",
   "execution_count": 3,
   "id": "1129f86b-18ee-4267-b823-1a413e2cbc54",
   "metadata": {},
   "outputs": [
    {
     "name": "stdout",
     "output_type": "stream",
     "text": [
      "logger started\n"
     ]
    }
   ],
   "source": [
    "next(coro)"
   ]
  },
  {
   "cell_type": "code",
   "execution_count": 4,
   "id": "4696905a-29d4-4ab6-bb20-3498b1be2217",
   "metadata": {},
   "outputs": [
    {
     "name": "stdout",
     "output_type": "stream",
     "text": [
      "log : process started\n"
     ]
    }
   ],
   "source": [
    "coro.send(\"process started\")"
   ]
  },
  {
   "cell_type": "code",
   "execution_count": 5,
   "id": "908607ce-6fa6-4ebd-be1e-f591fd1b3d21",
   "metadata": {},
   "outputs": [
    {
     "name": "stdout",
     "output_type": "stream",
     "text": [
      "log : process completed\n"
     ]
    }
   ],
   "source": [
    "coro.send(\"process completed\")"
   ]
  },
  {
   "cell_type": "code",
   "execution_count": null,
   "id": "83866306-1640-400c-93aa-388d3f629875",
   "metadata": {},
   "outputs": [],
   "source": []
  }
 ],
 "metadata": {
  "kernelspec": {
   "display_name": "Python 3 (ipykernel)",
   "language": "python",
   "name": "python3"
  },
  "language_info": {
   "codemirror_mode": {
    "name": "ipython",
    "version": 3
   },
   "file_extension": ".py",
   "mimetype": "text/x-python",
   "name": "python",
   "nbconvert_exporter": "python",
   "pygments_lexer": "ipython3",
   "version": "3.12.8"
  }
 },
 "nbformat": 4,
 "nbformat_minor": 5
}
