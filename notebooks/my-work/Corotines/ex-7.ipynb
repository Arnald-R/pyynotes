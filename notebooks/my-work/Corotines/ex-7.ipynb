{
 "cells": [
  {
   "cell_type": "code",
   "execution_count": null,
   "id": "03031932-3d72-4b31-b6da-7dd651318722",
   "metadata": {},
   "outputs": [],
   "source": [
    "#creatd at 20250314"
   ]
  },
  {
   "cell_type": "code",
   "execution_count": null,
   "id": "1f228a2d-d97c-4528-bf57-3ecb14e607c0",
   "metadata": {},
   "outputs": [],
   "source": [
    "#https://stevejoe1412.gitbook.io/ssn/python-subtopics/8.-coroutines"
   ]
  },
  {
   "cell_type": "code",
   "execution_count": null,
   "id": "ccdeaf26-92b7-4ad8-8044-76aca5fd146c",
   "metadata": {},
   "outputs": [],
   "source": [
    "#Cororutine with Closing Behavior"
   ]
  },
  {
   "cell_type": "code",
   "execution_count": 1,
   "id": "b6bad858-b689-4009-8333-4c7b45b344fe",
   "metadata": {},
   "outputs": [],
   "source": [
    "def closing_coroutine():\n",
    "    try:\n",
    "        while True:\n",
    "            value = yield\n",
    "            print(f\"processing: {value}\")\n",
    "    except GeneratorExit:\n",
    "        print(\"coroutine closed\")"
   ]
  },
  {
   "cell_type": "code",
   "execution_count": 2,
   "id": "019750be-eec4-4362-a17c-9f35786cf7db",
   "metadata": {},
   "outputs": [],
   "source": [
    "coro = closing_coroutine()"
   ]
  },
  {
   "cell_type": "code",
   "execution_count": 3,
   "id": "8a0a7ffb-aff0-4de2-9183-9db414ca2236",
   "metadata": {},
   "outputs": [],
   "source": [
    "next(coro)"
   ]
  },
  {
   "cell_type": "code",
   "execution_count": 5,
   "id": "e505de30-8e8d-4b78-a021-be8b56dee274",
   "metadata": {},
   "outputs": [
    {
     "name": "stdout",
     "output_type": "stream",
     "text": [
      "processing: 34\n"
     ]
    }
   ],
   "source": [
    "coro.send(34)"
   ]
  },
  {
   "cell_type": "code",
   "execution_count": 6,
   "id": "9dde1542-53aa-4912-8b3e-4aec7be03cb4",
   "metadata": {},
   "outputs": [
    {
     "name": "stdout",
     "output_type": "stream",
     "text": [
      "coroutine closed\n"
     ]
    }
   ],
   "source": [
    "coro.close()"
   ]
  },
  {
   "cell_type": "code",
   "execution_count": null,
   "id": "4bb2c178-a021-4829-8e34-e1bec7f4ef9e",
   "metadata": {},
   "outputs": [],
   "source": []
  }
 ],
 "metadata": {
  "kernelspec": {
   "display_name": "Python 3 (ipykernel)",
   "language": "python",
   "name": "python3"
  },
  "language_info": {
   "codemirror_mode": {
    "name": "ipython",
    "version": 3
   },
   "file_extension": ".py",
   "mimetype": "text/x-python",
   "name": "python",
   "nbconvert_exporter": "python",
   "pygments_lexer": "ipython3",
   "version": "3.12.8"
  }
 },
 "nbformat": 4,
 "nbformat_minor": 5
}
