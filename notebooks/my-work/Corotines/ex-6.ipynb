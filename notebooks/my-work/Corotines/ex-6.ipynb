{
 "cells": [
  {
   "cell_type": "code",
   "execution_count": null,
   "id": "94732fba-a7a7-49ef-a20c-09962ea8cfa7",
   "metadata": {},
   "outputs": [],
   "source": [
    "#creatd at 20250314"
   ]
  },
  {
   "cell_type": "code",
   "execution_count": null,
   "id": "6c2bdfec-0d7b-431f-ab31-0f61b5335a6c",
   "metadata": {},
   "outputs": [],
   "source": [
    "#https://stevejoe1412.gitbook.io/ssn/python-subtopics/8.-coroutines"
   ]
  },
  {
   "cell_type": "code",
   "execution_count": null,
   "id": "0143a2ae-35ee-497d-95e0-4be52d9350e6",
   "metadata": {},
   "outputs": [],
   "source": [
    "#Coroutine with Exception Handling"
   ]
  },
  {
   "cell_type": "code",
   "execution_count": 1,
   "id": "715a1c66-3f64-4de4-ac6c-ac0b2d3b1fc5",
   "metadata": {},
   "outputs": [],
   "source": [
    "def exception_handling_coroutine():\n",
    "    try: \n",
    "        while True :\n",
    "            value = yield\n",
    "            print(f\"received :{value}\")\n",
    "\n",
    "    except ValueError as e:\n",
    "        print(f\"Caught exception: {e}\")"
   ]
  },
  {
   "cell_type": "code",
   "execution_count": 2,
   "id": "8ba4565a-5e10-486c-86a3-bc9ed2c42e89",
   "metadata": {},
   "outputs": [],
   "source": [
    "coro = exception_handling_coroutine()"
   ]
  },
  {
   "cell_type": "code",
   "execution_count": 3,
   "id": "b3a13db6-a7ea-4237-a6fa-aab10e75eadb",
   "metadata": {},
   "outputs": [],
   "source": [
    "next(coro)"
   ]
  },
  {
   "cell_type": "code",
   "execution_count": 4,
   "id": "e2a45450-7cc0-43f0-a323-edce93db6255",
   "metadata": {},
   "outputs": [
    {
     "name": "stdout",
     "output_type": "stream",
     "text": [
      "received :10\n"
     ]
    }
   ],
   "source": [
    "coro.send(10)"
   ]
  },
  {
   "cell_type": "code",
   "execution_count": 5,
   "id": "e630efe9-c398-4afe-9c1f-9884af4bfb9f",
   "metadata": {},
   "outputs": [
    {
     "name": "stderr",
     "output_type": "stream",
     "text": [
      "/tmp/ipykernel_8692/1015842093.py:1: DeprecationWarning: the (type, exc, tb) signature of throw() is deprecated, use the single-arg signature instead.\n",
      "  coro.throw(ValueError, \"an error occured\")\n"
     ]
    },
    {
     "name": "stdout",
     "output_type": "stream",
     "text": [
      "Caught exception: an error occured\n"
     ]
    },
    {
     "ename": "StopIteration",
     "evalue": "",
     "output_type": "error",
     "traceback": [
      "\u001b[0;31m---------------------------------------------------------------------------\u001b[0m",
      "\u001b[0;31mStopIteration\u001b[0m                             Traceback (most recent call last)",
      "Cell \u001b[0;32mIn[5], line 1\u001b[0m\n\u001b[0;32m----> 1\u001b[0m \u001b[43mcoro\u001b[49m\u001b[38;5;241;43m.\u001b[39;49m\u001b[43mthrow\u001b[49m\u001b[43m(\u001b[49m\u001b[38;5;167;43;01mValueError\u001b[39;49;00m\u001b[43m,\u001b[49m\u001b[43m \u001b[49m\u001b[38;5;124;43m\"\u001b[39;49m\u001b[38;5;124;43man error occured\u001b[39;49m\u001b[38;5;124;43m\"\u001b[39;49m\u001b[43m)\u001b[49m\n",
      "\u001b[0;31mStopIteration\u001b[0m: "
     ]
    }
   ],
   "source": [
    "coro.throw(ValueError, \"an error occured\")"
   ]
  },
  {
   "cell_type": "code",
   "execution_count": null,
   "id": "f242ba8e-a772-4d0f-96a2-7a74a147e636",
   "metadata": {},
   "outputs": [],
   "source": []
  }
 ],
 "metadata": {
  "kernelspec": {
   "display_name": "Python 3 (ipykernel)",
   "language": "python",
   "name": "python3"
  },
  "language_info": {
   "codemirror_mode": {
    "name": "ipython",
    "version": 3
   },
   "file_extension": ".py",
   "mimetype": "text/x-python",
   "name": "python",
   "nbconvert_exporter": "python",
   "pygments_lexer": "ipython3",
   "version": "3.12.8"
  }
 },
 "nbformat": 4,
 "nbformat_minor": 5
}
