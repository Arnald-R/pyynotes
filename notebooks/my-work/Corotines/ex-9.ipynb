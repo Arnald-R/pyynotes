{
 "cells": [
  {
   "cell_type": "code",
   "execution_count": null,
   "id": "34582080-4a19-4f5f-ab3c-2ed97409b8de",
   "metadata": {},
   "outputs": [],
   "source": [
    "#creatd at 20250314"
   ]
  },
  {
   "cell_type": "code",
   "execution_count": null,
   "id": "bc6f99a3-7420-4101-bfed-05843e20e540",
   "metadata": {},
   "outputs": [],
   "source": [
    "#https://stevejoe1412.gitbook.io/ssn/python-subtopics/8.-coroutines"
   ]
  },
  {
   "cell_type": "code",
   "execution_count": null,
   "id": "166e72af-a3b6-4d77-b722-bff3d2db17f1",
   "metadata": {},
   "outputs": [],
   "source": [
    "#Coroutine for producing  Fibanocci Numbers"
   ]
  },
  {
   "cell_type": "code",
   "execution_count": 5,
   "id": "54a44ba6-f87a-4cdd-a9bb-ba7c6e03e0b1",
   "metadata": {},
   "outputs": [],
   "source": [
    "def fibonacci_coroutine():\n",
    "    a, b = 0 ,1\n",
    "    while True:\n",
    "        yield a\n",
    "        a, b = a, a + b"
   ]
  },
  {
   "cell_type": "code",
   "execution_count": 6,
   "id": "6fef13ed-830b-4faa-a22e-e8f45c385a0c",
   "metadata": {},
   "outputs": [],
   "source": [
    "coro = fibonacci_coroutine()\n"
   ]
  },
  {
   "cell_type": "code",
   "execution_count": 8,
   "id": "9506ba31-764d-42b9-85ad-38ba04f1232e",
   "metadata": {},
   "outputs": [
    {
     "name": "stdout",
     "output_type": "stream",
     "text": [
      "0 0 0 0 0 0 "
     ]
    }
   ],
   "source": [
    "for _ in range(6):\n",
    "    print(next(coro), end =\" \")"
   ]
  },
  {
   "cell_type": "code",
   "execution_count": null,
   "id": "7964bf90-335f-4e2c-8e76-d96abce8275a",
   "metadata": {},
   "outputs": [],
   "source": []
  }
 ],
 "metadata": {
  "kernelspec": {
   "display_name": "Python 3 (ipykernel)",
   "language": "python",
   "name": "python3"
  },
  "language_info": {
   "codemirror_mode": {
    "name": "ipython",
    "version": 3
   },
   "file_extension": ".py",
   "mimetype": "text/x-python",
   "name": "python",
   "nbconvert_exporter": "python",
   "pygments_lexer": "ipython3",
   "version": "3.12.8"
  }
 },
 "nbformat": 4,
 "nbformat_minor": 5
}
