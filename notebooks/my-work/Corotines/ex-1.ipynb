{
 "cells": [
  {
   "cell_type": "code",
   "execution_count": null,
   "id": "29cfd3e6-5a46-4733-ad71-3b44062a45c1",
   "metadata": {},
   "outputs": [],
   "source": [
    "#creatd at 20250314"
   ]
  },
  {
   "cell_type": "code",
   "execution_count": null,
   "id": "a1bef850-4515-4315-9dc9-a97aca5fd6b9",
   "metadata": {},
   "outputs": [],
   "source": [
    "#https://stevejoe1412.gitbook.io/ssn/python-subtopics/8.-coroutines"
   ]
  },
  {
   "cell_type": "code",
   "execution_count": null,
   "id": "105a66d7-81d5-45c3-9ba1-718b3ceb0d18",
   "metadata": {},
   "outputs": [],
   "source": [
    "#Basic coroutine example"
   ]
  },
  {
   "cell_type": "code",
   "execution_count": 1,
   "id": "ed402751-b495-4ec6-8f0e-68398755016c",
   "metadata": {},
   "outputs": [],
   "source": [
    "def simple_coroutine():\n",
    "    print(\"coroutine started\")\n",
    "    x = yield\n",
    "    print(f\"Received :{x}\")"
   ]
  },
  {
   "cell_type": "code",
   "execution_count": 2,
   "id": "03a218df-cb91-4619-8c94-2d89a9dba04e",
   "metadata": {},
   "outputs": [],
   "source": [
    "coro = simple_coroutine()"
   ]
  },
  {
   "cell_type": "code",
   "execution_count": 3,
   "id": "8396d7d4-303a-4df7-853c-b414214837d9",
   "metadata": {},
   "outputs": [
    {
     "name": "stdout",
     "output_type": "stream",
     "text": [
      "coroutine started\n"
     ]
    }
   ],
   "source": [
    "next(coro)"
   ]
  },
  {
   "cell_type": "code",
   "execution_count": 4,
   "id": "6fe6263c-c0d4-4324-801e-f9e599ffbbcb",
   "metadata": {},
   "outputs": [
    {
     "name": "stdout",
     "output_type": "stream",
     "text": [
      "Received :56\n"
     ]
    },
    {
     "ename": "StopIteration",
     "evalue": "",
     "output_type": "error",
     "traceback": [
      "\u001b[0;31m---------------------------------------------------------------------------\u001b[0m",
      "\u001b[0;31mStopIteration\u001b[0m                             Traceback (most recent call last)",
      "Cell \u001b[0;32mIn[4], line 1\u001b[0m\n\u001b[0;32m----> 1\u001b[0m \u001b[43mcoro\u001b[49m\u001b[38;5;241;43m.\u001b[39;49m\u001b[43msend\u001b[49m\u001b[43m(\u001b[49m\u001b[38;5;241;43m56\u001b[39;49m\u001b[43m)\u001b[49m\n",
      "\u001b[0;31mStopIteration\u001b[0m: "
     ]
    }
   ],
   "source": [
    "coro.send(56)"
   ]
  },
  {
   "cell_type": "code",
   "execution_count": null,
   "id": "0d5f0941-b0ad-4b8c-b3e3-4fa67d802199",
   "metadata": {},
   "outputs": [],
   "source": []
  }
 ],
 "metadata": {
  "kernelspec": {
   "display_name": "Python 3 (ipykernel)",
   "language": "python",
   "name": "python3"
  },
  "language_info": {
   "codemirror_mode": {
    "name": "ipython",
    "version": 3
   },
   "file_extension": ".py",
   "mimetype": "text/x-python",
   "name": "python",
   "nbconvert_exporter": "python",
   "pygments_lexer": "ipython3",
   "version": "3.12.8"
  }
 },
 "nbformat": 4,
 "nbformat_minor": 5
}
