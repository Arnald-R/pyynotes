{
 "cells": [
  {
   "cell_type": "code",
   "execution_count": null,
   "id": "6dacd942-b203-41d2-8c96-68aee4f8ee87",
   "metadata": {},
   "outputs": [],
   "source": [
    "#created at 20250322"
   ]
  },
  {
   "cell_type": "code",
   "execution_count": null,
   "id": "0c016f94-d45f-4cd2-aa57-aa2799bbd3d4",
   "metadata": {},
   "outputs": [],
   "source": [
    "#https://stevejoe1412.gitbook.io/ssn/python-subtopics/19.-binary-data-handling"
   ]
  },
  {
   "cell_type": "code",
   "execution_count": null,
   "id": "ea84972d-bedf-44b3-9414-f1215eafb080",
   "metadata": {},
   "outputs": [],
   "source": [
    "#Packing and Unpacking multiple Entries"
   ]
  },
  {
   "cell_type": "code",
   "execution_count": 1,
   "id": "e770f2e6-3ac1-4f60-a43c-64f166ca33da",
   "metadata": {},
   "outputs": [],
   "source": [
    "import struct"
   ]
  },
  {
   "cell_type": "code",
   "execution_count": null,
   "id": "2df6bf96-5c70-436b-83d4-0983dd6202c8",
   "metadata": {},
   "outputs": [],
   "source": [
    "#Data: List of integers and floats"
   ]
  },
  {
   "cell_type": "code",
   "execution_count": 2,
   "id": "1a5e6b9a-af06-4d74-94bd-8b05bc705c38",
   "metadata": {},
   "outputs": [],
   "source": [
    "data = [(1,2.5),(2,3.5),(3,4.5)]"
   ]
  },
  {
   "cell_type": "code",
   "execution_count": null,
   "id": "6c2d940b-4f99-419a-b50e-f00ca1e5fc4e",
   "metadata": {},
   "outputs": [],
   "source": [
    "#Packing Multiple Entries"
   ]
  },
  {
   "cell_type": "code",
   "execution_count": 3,
   "id": "560a9b53-b9bb-452c-9182-83c38a20f4fa",
   "metadata": {},
   "outputs": [
    {
     "name": "stdout",
     "output_type": "stream",
     "text": [
      "Packed data:b'\\x01\\x00\\x00\\x00\\x00\\x00 @\\x02\\x00\\x00\\x00\\x00\\x00`@\\x03\\x00\\x00\\x00\\x00\\x00\\x90@'\n"
     ]
    }
   ],
   "source": [
    "packed_data = struct.pack('I f' *len(data), *[item for sublist in data for item in sublist])\n",
    "print(f\"Packed data:{packed_data}\")"
   ]
  },
  {
   "cell_type": "code",
   "execution_count": 4,
   "id": "706a204d-7651-4420-8ea3-7ca741ce644e",
   "metadata": {},
   "outputs": [
    {
     "name": "stdout",
     "output_type": "stream",
     "text": [
      "Unpacked Data: (1, 2.5, 2, 3.5, 3, 4.5)\n"
     ]
    }
   ],
   "source": [
    "#Unpacking multiple entries\n",
    "unpacked_data = struct.unpack('I f' * len(data), packed_data)\n",
    "print(f\"Unpacked Data: {unpacked_data}\")"
   ]
  },
  {
   "cell_type": "code",
   "execution_count": null,
   "id": "ce41a1ba-4794-4725-972d-86b79f63d956",
   "metadata": {},
   "outputs": [],
   "source": []
  }
 ],
 "metadata": {
  "kernelspec": {
   "display_name": "Python 3 (ipykernel)",
   "language": "python",
   "name": "python3"
  },
  "language_info": {
   "codemirror_mode": {
    "name": "ipython",
    "version": 3
   },
   "file_extension": ".py",
   "mimetype": "text/x-python",
   "name": "python",
   "nbconvert_exporter": "python",
   "pygments_lexer": "ipython3",
   "version": "3.12.8"
  }
 },
 "nbformat": 4,
 "nbformat_minor": 5
}
