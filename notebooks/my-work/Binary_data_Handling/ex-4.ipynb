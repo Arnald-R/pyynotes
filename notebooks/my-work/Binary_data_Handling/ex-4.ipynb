{
 "cells": [
  {
   "cell_type": "code",
   "execution_count": null,
   "id": "a2302961-b709-4d00-ac02-8e000a9a5637",
   "metadata": {},
   "outputs": [],
   "source": [
    "#created at 20250322"
   ]
  },
  {
   "cell_type": "code",
   "execution_count": null,
   "id": "649bbccc-4f53-47ea-903e-4847bbb1b7fa",
   "metadata": {},
   "outputs": [],
   "source": [
    "#https://stevejoe1412.gitbook.io/ssn/python-subtopics/19.-binary-data-handling"
   ]
  },
  {
   "cell_type": "code",
   "execution_count": null,
   "id": "45b1f88d-6eca-4eba-ab8d-c78667d72a55",
   "metadata": {},
   "outputs": [],
   "source": [
    "#Using clacsize to Determine Structure size"
   ]
  },
  {
   "cell_type": "code",
   "execution_count": 1,
   "id": "72fe153c-0246-4672-89e5-ac4d1a4fc3d6",
   "metadata": {},
   "outputs": [],
   "source": [
    "import struct"
   ]
  },
  {
   "cell_type": "code",
   "execution_count": 2,
   "id": "7efc7f2d-f368-445e-9cd2-bb33795de269",
   "metadata": {},
   "outputs": [],
   "source": [
    "#Define a format string for a struct\n",
    "format_string = ' I f 3s'"
   ]
  },
  {
   "cell_type": "code",
   "execution_count": 3,
   "id": "fb98c760-6f4a-46ed-99f3-120e3994c352",
   "metadata": {},
   "outputs": [
    {
     "name": "stdout",
     "output_type": "stream",
     "text": [
      "size of the struct: 11\n"
     ]
    }
   ],
   "source": [
    "#Get the size of the struct\n",
    "size = struct.calcsize(format_string)\n",
    "print(f\"size of the struct: {size}\")"
   ]
  },
  {
   "cell_type": "code",
   "execution_count": null,
   "id": "62e2c76a-12d8-4edc-a460-00dc988e0b35",
   "metadata": {},
   "outputs": [],
   "source": []
  }
 ],
 "metadata": {
  "kernelspec": {
   "display_name": "Python 3 (ipykernel)",
   "language": "python",
   "name": "python3"
  },
  "language_info": {
   "codemirror_mode": {
    "name": "ipython",
    "version": 3
   },
   "file_extension": ".py",
   "mimetype": "text/x-python",
   "name": "python",
   "nbconvert_exporter": "python",
   "pygments_lexer": "ipython3",
   "version": "3.12.8"
  }
 },
 "nbformat": 4,
 "nbformat_minor": 5
}
