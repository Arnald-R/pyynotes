{
 "cells": [
  {
   "cell_type": "code",
   "execution_count": null,
   "id": "c66fc7d1-38e6-474e-882c-6bb215ae44ae",
   "metadata": {},
   "outputs": [],
   "source": [
    "#created at 20250322"
   ]
  },
  {
   "cell_type": "code",
   "execution_count": null,
   "id": "77223776-afac-48d8-ae39-fe663981fe79",
   "metadata": {},
   "outputs": [],
   "source": [
    "#https://stevejoe1412.gitbook.io/ssn/python-subtopics/19.-binary-data-handling"
   ]
  },
  {
   "cell_type": "code",
   "execution_count": null,
   "id": "cc78c7fc-d1e7-45e6-ac5c-ad2e15768be9",
   "metadata": {},
   "outputs": [],
   "source": [
    "#Handling Big Endian and Little Endian Data"
   ]
  },
  {
   "cell_type": "code",
   "execution_count": 1,
   "id": "c79442a1-f57d-47a8-9a9a-97a7420d9119",
   "metadata": {},
   "outputs": [],
   "source": [
    "import struct"
   ]
  },
  {
   "cell_type": "code",
   "execution_count": 2,
   "id": "324094ed-cf7c-40ee-ad0f-163703f7e4f5",
   "metadata": {},
   "outputs": [],
   "source": [
    "data = (1, 2.5)"
   ]
  },
  {
   "cell_type": "code",
   "execution_count": 4,
   "id": "3db24f9b-e6d4-4fee-bd23-3783f2d2f9e3",
   "metadata": {},
   "outputs": [],
   "source": [
    "packed_data = struct.pack('! I f ',*data)\n"
   ]
  },
  {
   "cell_type": "code",
   "execution_count": 6,
   "id": "480d1248-4770-46d0-8ca2-c4a4b41ee520",
   "metadata": {},
   "outputs": [
    {
     "name": "stdout",
     "output_type": "stream",
     "text": [
      "packed data:b'\\x00\\x00\\x00\\x01@ \\x00\\x00'\n"
     ]
    }
   ],
   "source": [
    "print(f\"packed Big Endian data:{packed_data}\")"
   ]
  },
  {
   "cell_type": "code",
   "execution_count": 7,
   "id": "02a69f2f-669c-4c1e-9976-b5dbce75b8b8",
   "metadata": {},
   "outputs": [
    {
     "name": "stdout",
     "output_type": "stream",
     "text": [
      "Unpacked Big Endian data:(1, 2.5)\n"
     ]
    }
   ],
   "source": [
    "unpacked_data = struct.unpack('! I f',packed_data)\n",
    "print(f\"Unpacked Big Endian data:{unpacked_data}\")"
   ]
  },
  {
   "cell_type": "code",
   "execution_count": null,
   "id": "a79de8da-3a34-4f85-970a-65d4b942523d",
   "metadata": {},
   "outputs": [],
   "source": []
  }
 ],
 "metadata": {
  "kernelspec": {
   "display_name": "Python 3 (ipykernel)",
   "language": "python",
   "name": "python3"
  },
  "language_info": {
   "codemirror_mode": {
    "name": "ipython",
    "version": 3
   },
   "file_extension": ".py",
   "mimetype": "text/x-python",
   "name": "python",
   "nbconvert_exporter": "python",
   "pygments_lexer": "ipython3",
   "version": "3.12.8"
  }
 },
 "nbformat": 4,
 "nbformat_minor": 5
}
