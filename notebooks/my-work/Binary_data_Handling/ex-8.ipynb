{
 "cells": [
  {
   "cell_type": "code",
   "execution_count": null,
   "id": "5baa3d9a-a9ee-4f07-b711-a952e7e53e99",
   "metadata": {},
   "outputs": [],
   "source": [
    "#created at 20250322"
   ]
  },
  {
   "cell_type": "code",
   "execution_count": null,
   "id": "a904d581-e396-4d58-854e-4231c7c48795",
   "metadata": {},
   "outputs": [],
   "source": [
    "#https://stevejoe1412.gitbook.io/ssn/python-subtopics/19.-binary-data-handling"
   ]
  },
  {
   "cell_type": "code",
   "execution_count": null,
   "id": "c903491d-0de2-45a5-b74b-1358bf8e2cf3",
   "metadata": {},
   "outputs": [],
   "source": [
    "#Working with signed and Unsigned integers"
   ]
  },
  {
   "cell_type": "code",
   "execution_count": 1,
   "id": "e9a0fa61-8c36-4d8f-abef-118d1f6a9081",
   "metadata": {},
   "outputs": [],
   "source": [
    "import struct"
   ]
  },
  {
   "cell_type": "code",
   "execution_count": 2,
   "id": "17f3a340-8464-4181-bb01-28b32912907f",
   "metadata": {},
   "outputs": [],
   "source": [
    "data = (123, - 234)"
   ]
  },
  {
   "cell_type": "code",
   "execution_count": 3,
   "id": "42232364-7531-416b-9261-2e65c08ac1ae",
   "metadata": {},
   "outputs": [],
   "source": [
    "packed_data = struct.pack('I i',data[0],data[1])"
   ]
  },
  {
   "cell_type": "code",
   "execution_count": 4,
   "id": "420d7be9-8ad3-427f-b2f1-bd7ee08fae1e",
   "metadata": {},
   "outputs": [
    {
     "name": "stdout",
     "output_type": "stream",
     "text": [
      "packed Data:b'{\\x00\\x00\\x00\\x16\\xff\\xff\\xff'\n"
     ]
    }
   ],
   "source": [
    "print(f\"packed Data:{packed_data}\")"
   ]
  },
  {
   "cell_type": "code",
   "execution_count": 5,
   "id": "d57e212a-23a5-4cf9-82c1-0a1c70185123",
   "metadata": {},
   "outputs": [],
   "source": [
    "unpacked_data = struct.unpack('I i',packed_data)"
   ]
  },
  {
   "cell_type": "code",
   "execution_count": 6,
   "id": "93049fc8-629a-4ca0-ab2b-54b8e7386a9c",
   "metadata": {},
   "outputs": [
    {
     "name": "stdout",
     "output_type": "stream",
     "text": [
      "unpacked data:(123, -234)\n"
     ]
    }
   ],
   "source": [
    "print(f\"unpacked data:{unpacked_data}\")"
   ]
  },
  {
   "cell_type": "code",
   "execution_count": null,
   "id": "da8229fe-8a59-475b-bfb9-a8e9ed36569c",
   "metadata": {},
   "outputs": [],
   "source": []
  }
 ],
 "metadata": {
  "kernelspec": {
   "display_name": "Python 3 (ipykernel)",
   "language": "python",
   "name": "python3"
  },
  "language_info": {
   "codemirror_mode": {
    "name": "ipython",
    "version": 3
   },
   "file_extension": ".py",
   "mimetype": "text/x-python",
   "name": "python",
   "nbconvert_exporter": "python",
   "pygments_lexer": "ipython3",
   "version": "3.12.8"
  }
 },
 "nbformat": 4,
 "nbformat_minor": 5
}
