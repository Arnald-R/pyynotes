{
 "cells": [
  {
   "cell_type": "code",
   "execution_count": null,
   "id": "a3724175-57c4-43eb-b673-4f3a7013501f",
   "metadata": {},
   "outputs": [],
   "source": [
    "#created at 20250322"
   ]
  },
  {
   "cell_type": "code",
   "execution_count": null,
   "id": "172fa0f6-eceb-461a-a98d-2b83e50a1e8d",
   "metadata": {},
   "outputs": [],
   "source": [
    "#https://stevejoe1412.gitbook.io/ssn/python-subtopics/19.-binary-data-handling"
   ]
  },
  {
   "cell_type": "code",
   "execution_count": null,
   "id": "6813103c-e021-49fb-9149-7dde4228770d",
   "metadata": {},
   "outputs": [],
   "source": [
    "#Padding with struct"
   ]
  },
  {
   "cell_type": "code",
   "execution_count": 1,
   "id": "6a9acfe0-65ef-4f70-9b65-230fc7162ef8",
   "metadata": {},
   "outputs": [],
   "source": [
    "import struct"
   ]
  },
  {
   "cell_type": "code",
   "execution_count": 2,
   "id": "4ddc26ad-87ef-4279-b29d-d1e6d4c75dab",
   "metadata": {},
   "outputs": [],
   "source": [
    "data = (1, b'hello')"
   ]
  },
  {
   "cell_type": "code",
   "execution_count": 3,
   "id": "7f69da5b-8620-4d9e-a5b6-f1da42913aff",
   "metadata": {},
   "outputs": [],
   "source": [
    "packed_data = struct.pack('I 5s',*data)"
   ]
  },
  {
   "cell_type": "code",
   "execution_count": 4,
   "id": "14478343-78b6-4d9d-a6ca-cd0af4f79c99",
   "metadata": {},
   "outputs": [
    {
     "name": "stdout",
     "output_type": "stream",
     "text": [
      "packed_data is :b'\\x01\\x00\\x00\\x00hello'\n"
     ]
    }
   ],
   "source": [
    "print(f\"packed_data is :{packed_data}\")"
   ]
  },
  {
   "cell_type": "code",
   "execution_count": 5,
   "id": "b223c2ea-a89b-4bcb-9d8d-2c214bcd986c",
   "metadata": {},
   "outputs": [
    {
     "name": "stdout",
     "output_type": "stream",
     "text": [
      "Unpacked Data with Padding: (1, b'hello')\n"
     ]
    }
   ],
   "source": [
    "unpacked_data = struct.unpack('I 5s', packed_data)\n",
    "print(f\"Unpacked Data with Padding: {unpacked_data}\")"
   ]
  },
  {
   "cell_type": "code",
   "execution_count": null,
   "id": "9ddc1416-cb42-4147-9171-413de250858b",
   "metadata": {},
   "outputs": [],
   "source": []
  }
 ],
 "metadata": {
  "kernelspec": {
   "display_name": "Python 3 (ipykernel)",
   "language": "python",
   "name": "python3"
  },
  "language_info": {
   "codemirror_mode": {
    "name": "ipython",
    "version": 3
   },
   "file_extension": ".py",
   "mimetype": "text/x-python",
   "name": "python",
   "nbconvert_exporter": "python",
   "pygments_lexer": "ipython3",
   "version": "3.12.8"
  }
 },
 "nbformat": 4,
 "nbformat_minor": 5
}
