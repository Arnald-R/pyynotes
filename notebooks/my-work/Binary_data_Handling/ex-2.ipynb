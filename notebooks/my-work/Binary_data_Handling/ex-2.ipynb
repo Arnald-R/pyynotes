{
 "cells": [
  {
   "cell_type": "code",
   "execution_count": null,
   "id": "e0635464-4a44-4440-93fb-b6ce21a819f0",
   "metadata": {},
   "outputs": [],
   "source": [
    "#created at 20250322"
   ]
  },
  {
   "cell_type": "code",
   "execution_count": null,
   "id": "0c8f6118-216c-46db-92e7-17a4155b9d9e",
   "metadata": {},
   "outputs": [],
   "source": [
    "#https://stevejoe1412.gitbook.io/ssn/python-subtopics/19.-binary-data-handling"
   ]
  },
  {
   "cell_type": "code",
   "execution_count": null,
   "id": "fb8e76eb-c115-437c-91f3-05994776ba19",
   "metadata": {},
   "outputs": [],
   "source": [
    "#Reading and writing binary files"
   ]
  },
  {
   "cell_type": "code",
   "execution_count": null,
   "id": "20c5fee5-1939-4a28-9627-ec5859a1eb94",
   "metadata": {},
   "outputs": [],
   "source": [
    "#writing binary to a file "
   ]
  },
  {
   "cell_type": "code",
   "execution_count": 1,
   "id": "62a02f02-06ee-4195-968f-9d7f5ee88633",
   "metadata": {},
   "outputs": [],
   "source": [
    "import struct"
   ]
  },
  {
   "cell_type": "code",
   "execution_count": 2,
   "id": "60451ac3-7f0f-4965-8ac9-463584264379",
   "metadata": {},
   "outputs": [],
   "source": [
    "#Data to write\n",
    "data = (1, 2.5, b'abc')"
   ]
  },
  {
   "cell_type": "code",
   "execution_count": 3,
   "id": "27808bde-4803-4477-9ebf-4860183478a3",
   "metadata": {},
   "outputs": [
    {
     "name": "stdout",
     "output_type": "stream",
     "text": [
      "Data written to binary file\n"
     ]
    }
   ],
   "source": [
    "#Open file in a write-binary mode\n",
    "with open('binary_data.dat','wb') as f:\n",
    "    packed_data = struct.pack('I f 3s',*data)\n",
    "    f.write(packed_data)\n",
    "    print(\"Data written to binary file\")"
   ]
  },
  {
   "cell_type": "code",
   "execution_count": 5,
   "id": "812f8fdf-cc34-4078-8cd3-ad975ad32bb4",
   "metadata": {},
   "outputs": [
    {
     "name": "stdout",
     "output_type": "stream",
     "text": [
      "Unpacked data from file: (1, 2.5, b'abc')\n"
     ]
    }
   ],
   "source": [
    "#Reading binary data from a file\n",
    "with open('binary_data.dat','rb') as f:\n",
    "    packed_data = f.read()\n",
    "    unpacked_data = struct.unpack('I f 3s',packed_data)\n",
    "    print(f\"Unpacked data from file: {unpacked_data}\")"
   ]
  },
  {
   "cell_type": "code",
   "execution_count": null,
   "id": "ab1137ad-7729-4fc3-96b7-ba00a20bb876",
   "metadata": {},
   "outputs": [],
   "source": []
  }
 ],
 "metadata": {
  "kernelspec": {
   "display_name": "Python 3 (ipykernel)",
   "language": "python",
   "name": "python3"
  },
  "language_info": {
   "codemirror_mode": {
    "name": "ipython",
    "version": 3
   },
   "file_extension": ".py",
   "mimetype": "text/x-python",
   "name": "python",
   "nbconvert_exporter": "python",
   "pygments_lexer": "ipython3",
   "version": "3.12.8"
  }
 },
 "nbformat": 4,
 "nbformat_minor": 5
}
