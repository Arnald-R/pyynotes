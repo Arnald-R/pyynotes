{
 "cells": [
  {
   "cell_type": "code",
   "execution_count": null,
   "id": "8b330368-e51d-4f4f-a3ff-23fd2c03f162",
   "metadata": {},
   "outputs": [],
   "source": [
    "#created at 20250322"
   ]
  },
  {
   "cell_type": "code",
   "execution_count": null,
   "id": "b7be8e5d-c5ce-4d2e-b0b1-1cc6e04570e7",
   "metadata": {},
   "outputs": [],
   "source": [
    "#https://stevejoe1412.gitbook.io/ssn/python-subtopics/19.-binary-data-handling"
   ]
  },
  {
   "cell_type": "code",
   "execution_count": null,
   "id": "bf3fd90d-5580-462d-8675-ed57ebe913cd",
   "metadata": {},
   "outputs": [],
   "source": [
    "#Handling Binary Data with Variable Length String"
   ]
  },
  {
   "cell_type": "code",
   "execution_count": 1,
   "id": "48af2027-423a-4629-8bbb-f853d8ec7470",
   "metadata": {},
   "outputs": [],
   "source": [
    "import struct"
   ]
  },
  {
   "cell_type": "code",
   "execution_count": 2,
   "id": "2f37c3df-e318-4a04-930a-8aa4ef660c47",
   "metadata": {},
   "outputs": [],
   "source": [
    "#Data with a variable length string\n",
    "data = (123, b\"Hello,World!\")"
   ]
  },
  {
   "cell_type": "code",
   "execution_count": 3,
   "id": "7a340087-b3b3-4e39-9aeb-0e7a74fef10a",
   "metadata": {},
   "outputs": [
    {
     "name": "stdout",
     "output_type": "stream",
     "text": [
      "Packed Data: b'{\\x00\\x00\\x00Hello,World!\\x00'\n"
     ]
    }
   ],
   "source": [
    "#Pack the data with a dynamic string length\n",
    "packed_data = struct.pack('I 13s',data[0], data[1])\n",
    "print(f\"Packed Data: {packed_data}\")"
   ]
  },
  {
   "cell_type": "code",
   "execution_count": 4,
   "id": "af2b0a4d-52d2-4910-9149-09e67de083a7",
   "metadata": {},
   "outputs": [
    {
     "name": "stdout",
     "output_type": "stream",
     "text": [
      "Unpacked data:(123, b'Hello,World!\\x00')\n"
     ]
    }
   ],
   "source": [
    "unpacked_data = struct.unpack('I 13s', packed_data)\n",
    "print(f\"Unpacked data:{unpacked_data}\")"
   ]
  },
  {
   "cell_type": "code",
   "execution_count": null,
   "id": "9b093372-f8db-4c34-89bb-87a17709abe5",
   "metadata": {},
   "outputs": [],
   "source": []
  }
 ],
 "metadata": {
  "kernelspec": {
   "display_name": "Python 3 (ipykernel)",
   "language": "python",
   "name": "python3"
  },
  "language_info": {
   "codemirror_mode": {
    "name": "ipython",
    "version": 3
   },
   "file_extension": ".py",
   "mimetype": "text/x-python",
   "name": "python",
   "nbconvert_exporter": "python",
   "pygments_lexer": "ipython3",
   "version": "3.12.8"
  }
 },
 "nbformat": 4,
 "nbformat_minor": 5
}
