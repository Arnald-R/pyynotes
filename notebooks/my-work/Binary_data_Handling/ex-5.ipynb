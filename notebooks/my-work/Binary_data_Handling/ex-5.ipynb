{
 "cells": [
  {
   "cell_type": "code",
   "execution_count": null,
   "id": "ffcf102f-e39f-4b34-a2cc-d45b2ec8a75e",
   "metadata": {},
   "outputs": [],
   "source": [
    "#created at 20250322"
   ]
  },
  {
   "cell_type": "code",
   "execution_count": null,
   "id": "833defce-3a18-47b3-bf6e-4d1158d5513b",
   "metadata": {},
   "outputs": [],
   "source": [
    "#https://stevejoe1412.gitbook.io/ssn/python-subtopics/19.-binary-data-handling"
   ]
  },
  {
   "cell_type": "code",
   "execution_count": null,
   "id": "bf9cb6dd-4dd5-4563-a3d9-076a145677c6",
   "metadata": {},
   "outputs": [],
   "source": [
    "#Working with Packed Binary Data for Networking "
   ]
  },
  {
   "cell_type": "code",
   "execution_count": null,
   "id": "7648a4da-2695-4c46-a2a4-5abf2219ceb9",
   "metadata": {},
   "outputs": [],
   "source": [
    "#Packing data for network transmission"
   ]
  },
  {
   "cell_type": "code",
   "execution_count": 1,
   "id": "a1b8bb97-9e49-4c09-a8f0-3699d84c56dd",
   "metadata": {},
   "outputs": [],
   "source": [
    "import struct"
   ]
  },
  {
   "cell_type": "code",
   "execution_count": 2,
   "id": "23af26b1-19ba-4ae6-83c0-a60bc71fa176",
   "metadata": {},
   "outputs": [],
   "source": [
    "#prepare data to send(integer, float, string)\n",
    "data = (101, 3.14, b'Hello')"
   ]
  },
  {
   "cell_type": "code",
   "execution_count": 3,
   "id": "83c1eb42-d319-4c93-a76c-fa60ae34022a",
   "metadata": {},
   "outputs": [],
   "source": [
    "#Pack the data into a binary string \n",
    "packed_data = struct.pack('I f 5s', *data)"
   ]
  },
  {
   "cell_type": "code",
   "execution_count": 4,
   "id": "00b2872a-a2c6-437a-8bab-159b05c33ebc",
   "metadata": {},
   "outputs": [
    {
     "name": "stdout",
     "output_type": "stream",
     "text": [
      "Packed data : b'e\\x00\\x00\\x00\\xc3\\xf5H@Hello'\n"
     ]
    }
   ],
   "source": [
    "#send the packed_data over the network\n",
    "print(f\"Packed data : {packed_data}\")"
   ]
  },
  {
   "cell_type": "code",
   "execution_count": 5,
   "id": "03fcd690-c624-4a5c-b0db-6cbcafb87b9e",
   "metadata": {},
   "outputs": [],
   "source": [
    "#Unpacking the received binary data \n",
    "received_data = packed_data"
   ]
  },
  {
   "cell_type": "code",
   "execution_count": 6,
   "id": "87691df8-d272-4717-b3a6-95292e5bcaa5",
   "metadata": {},
   "outputs": [
    {
     "name": "stdout",
     "output_type": "stream",
     "text": [
      "Unpacked_data :(101, 3.140000104904175, b'Hello')\n"
     ]
    }
   ],
   "source": [
    "#Unpack the Data\n",
    "unpacked_data = struct.unpack('I f 5s',received_data)\n",
    "print(f\"Unpacked_data :{unpacked_data}\")"
   ]
  },
  {
   "cell_type": "code",
   "execution_count": null,
   "id": "6fe12271-26cf-42f8-a20d-ecbd3e2f9636",
   "metadata": {},
   "outputs": [],
   "source": []
  }
 ],
 "metadata": {
  "kernelspec": {
   "display_name": "Python 3 (ipykernel)",
   "language": "python",
   "name": "python3"
  },
  "language_info": {
   "codemirror_mode": {
    "name": "ipython",
    "version": 3
   },
   "file_extension": ".py",
   "mimetype": "text/x-python",
   "name": "python",
   "nbconvert_exporter": "python",
   "pygments_lexer": "ipython3",
   "version": "3.12.8"
  }
 },
 "nbformat": 4,
 "nbformat_minor": 5
}
