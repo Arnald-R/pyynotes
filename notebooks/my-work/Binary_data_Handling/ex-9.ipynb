{
 "cells": [
  {
   "cell_type": "code",
   "execution_count": null,
   "id": "71dc6ace-4ac7-4358-a5aa-ea7485b10418",
   "metadata": {},
   "outputs": [],
   "source": [
    "#created at 20250322"
   ]
  },
  {
   "cell_type": "code",
   "execution_count": null,
   "id": "e7bf72f4-c50e-4469-afab-b6a1a7ea1dc4",
   "metadata": {},
   "outputs": [],
   "source": [
    "#https://stevejoe1412.gitbook.io/ssn/python-subtopics/19.-binary-data-handling"
   ]
  },
  {
   "cell_type": "code",
   "execution_count": null,
   "id": "e3520536-7a76-41c8-b2ca-48e3708ea654",
   "metadata": {},
   "outputs": [],
   "source": [
    "#Handling Floats in Precision"
   ]
  },
  {
   "cell_type": "code",
   "execution_count": 1,
   "id": "8a107689-1e8b-43a2-9187-755ea0e74d10",
   "metadata": {},
   "outputs": [],
   "source": [
    "import struct "
   ]
  },
  {
   "cell_type": "code",
   "execution_count": null,
   "id": "3a48ce84-3e28-454e-8a91-7fea717d022e",
   "metadata": {},
   "outputs": [],
   "source": [
    "#Packing a float with Specified position"
   ]
  },
  {
   "cell_type": "code",
   "execution_count": 6,
   "id": "94733a7f-e217-4bac-8d64-a7cf8181bb80",
   "metadata": {},
   "outputs": [],
   "source": [
    "data = (3.141567,)"
   ]
  },
  {
   "cell_type": "code",
   "execution_count": 8,
   "id": "631d9c00-3331-43fc-863a-1991586658f2",
   "metadata": {},
   "outputs": [],
   "source": [
    "packed_data = struct.pack('f', data[0])"
   ]
  },
  {
   "cell_type": "code",
   "execution_count": 9,
   "id": "3d165542-7894-441e-8036-5409a990215d",
   "metadata": {},
   "outputs": [
    {
     "name": "stdout",
     "output_type": "stream",
     "text": [
      "pakced_data:b'o\\x0fI@'\n"
     ]
    }
   ],
   "source": [
    "print(f\"pakced_data:{packed_data}\")"
   ]
  },
  {
   "cell_type": "code",
   "execution_count": 10,
   "id": "82f3c960-56f5-4806-8b38-531cc58a70af",
   "metadata": {},
   "outputs": [],
   "source": [
    "Unpacked_data = struct.unpack('f', packed_data)\n"
   ]
  },
  {
   "cell_type": "code",
   "execution_count": 11,
   "id": "0670743c-e155-4b5e-b77b-803d6df32cf1",
   "metadata": {},
   "outputs": [
    {
     "name": "stdout",
     "output_type": "stream",
     "text": [
      "Unpacked_data :(3.1415669918060303,)\n"
     ]
    }
   ],
   "source": [
    "print(f\"Unpacked_data :{Unpacked_data}\")"
   ]
  },
  {
   "cell_type": "code",
   "execution_count": null,
   "id": "572efb80-17a4-4964-8df4-ad771371d398",
   "metadata": {},
   "outputs": [],
   "source": [
    "    "
   ]
  }
 ],
 "metadata": {
  "kernelspec": {
   "display_name": "Python 3 (ipykernel)",
   "language": "python",
   "name": "python3"
  },
  "language_info": {
   "codemirror_mode": {
    "name": "ipython",
    "version": 3
   },
   "file_extension": ".py",
   "mimetype": "text/x-python",
   "name": "python",
   "nbconvert_exporter": "python",
   "pygments_lexer": "ipython3",
   "version": "3.12.8"
  }
 },
 "nbformat": 4,
 "nbformat_minor": 5
}
