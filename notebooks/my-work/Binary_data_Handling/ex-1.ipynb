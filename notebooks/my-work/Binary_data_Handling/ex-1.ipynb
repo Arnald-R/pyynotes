{
 "cells": [
  {
   "cell_type": "code",
   "execution_count": null,
   "id": "d66bf63b-3854-4b08-9a93-5c1186b4df35",
   "metadata": {},
   "outputs": [],
   "source": [
    "#created at 20250322"
   ]
  },
  {
   "cell_type": "code",
   "execution_count": null,
   "id": "0ac8ad2d-3d56-4427-9b10-90e7e1ff069f",
   "metadata": {},
   "outputs": [],
   "source": [
    "#https://stevejoe1412.gitbook.io/ssn/python-subtopics/19.-binary-data-handling"
   ]
  },
  {
   "cell_type": "code",
   "execution_count": null,
   "id": "c188d090-05c3-46c1-aa7d-cb2893638d59",
   "metadata": {},
   "outputs": [],
   "source": [
    "#Packing and Unpacking Data"
   ]
  },
  {
   "cell_type": "code",
   "execution_count": 7,
   "id": "757a2bb0-f226-41b9-9ec4-05cf6690877f",
   "metadata": {},
   "outputs": [],
   "source": [
    "import struct"
   ]
  },
  {
   "cell_type": "code",
   "execution_count": 9,
   "id": "26f4c83e-dd85-4fd5-bf2b-48b80c1fc58d",
   "metadata": {},
   "outputs": [
    {
     "name": "stdout",
     "output_type": "stream",
     "text": [
      "packed_data:b'\\x01\\x00\\x00\\x00\\x00\\x00`@abc'\n",
      "unpacked_Data:(1, 3.5, b'abc')\n"
     ]
    }
   ],
   "source": [
    "#Packing data into Binary\n",
    "data =(1, 3.5, b'abc')\n",
    "packed_data = struct.pack('I f 3s', *data) #'I' for int, 'f' for float '3s' for 3-byte string\n",
    "print(f\"packed_data:{packed_data}\")\n",
    "\n",
    "#unpacking binary data back to python data types\n",
    "Unpacked_data = struct.unpack('I f 3s',packed_data)\n",
    "print(f\"unpacked_Data:{Unpacked_data}\")"
   ]
  },
  {
   "cell_type": "code",
   "execution_count": null,
   "id": "65c72991-d67c-4404-915b-a2e3e8e2a5fa",
   "metadata": {},
   "outputs": [],
   "source": []
  }
 ],
 "metadata": {
  "kernelspec": {
   "display_name": "Python 3 (ipykernel)",
   "language": "python",
   "name": "python3"
  },
  "language_info": {
   "codemirror_mode": {
    "name": "ipython",
    "version": 3
   },
   "file_extension": ".py",
   "mimetype": "text/x-python",
   "name": "python",
   "nbconvert_exporter": "python",
   "pygments_lexer": "ipython3",
   "version": "3.12.8"
  }
 },
 "nbformat": 4,
 "nbformat_minor": 5
}
