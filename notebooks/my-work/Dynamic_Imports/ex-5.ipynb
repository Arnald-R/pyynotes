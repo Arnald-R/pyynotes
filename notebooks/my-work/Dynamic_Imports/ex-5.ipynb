{
 "cells": [
  {
   "cell_type": "code",
   "execution_count": null,
   "id": "748b2a04-f1ac-47b3-9229-387e4c4f9a84",
   "metadata": {},
   "outputs": [],
   "source": [
    "#created at 20250313"
   ]
  },
  {
   "cell_type": "code",
   "execution_count": null,
   "id": "babaed18-35bf-4145-a53b-227698884583",
   "metadata": {},
   "outputs": [],
   "source": [
    "#https://stevejoe1412.gitbook.io/ssn/python-subtopics/6.-dynamic-imports"
   ]
  },
  {
   "cell_type": "code",
   "execution_count": null,
   "id": "2e4aa12b-b82f-4b63-b1e3-095745b7450d",
   "metadata": {},
   "outputs": [],
   "source": [
    "#Dynamic import and uses of classes"
   ]
  },
  {
   "cell_type": "code",
   "execution_count": 1,
   "id": "85b63b7c-ccf7-4dca-b60d-85395f9c54fc",
   "metadata": {},
   "outputs": [],
   "source": [
    "import importlib"
   ]
  },
  {
   "cell_type": "code",
   "execution_count": 3,
   "id": "8a0d7a18-8914-40a1-bfa3-b4872b61d209",
   "metadata": {},
   "outputs": [],
   "source": [
    "module_name = \"datetime\""
   ]
  },
  {
   "cell_type": "code",
   "execution_count": 4,
   "id": "9c383b94-ef38-40ba-bdeb-451a73ddc64e",
   "metadata": {},
   "outputs": [],
   "source": [
    "class_name = \"datetime\""
   ]
  },
  {
   "cell_type": "code",
   "execution_count": 5,
   "id": "3689fa80-2350-4dd6-b38c-464735fd95af",
   "metadata": {},
   "outputs": [],
   "source": [
    "module = importlib.import_module(module_name)"
   ]
  },
  {
   "cell_type": "code",
   "execution_count": 6,
   "id": "fcf0d470-9713-4f12-89a6-bad559ab045a",
   "metadata": {},
   "outputs": [],
   "source": [
    "cls = getattr(module, class_name)"
   ]
  },
  {
   "cell_type": "code",
   "execution_count": 7,
   "id": "d2fec055-8b18-4534-a9bc-89fe84a11917",
   "metadata": {},
   "outputs": [],
   "source": [
    "now = cls.now()"
   ]
  },
  {
   "cell_type": "code",
   "execution_count": 8,
   "id": "ed790d86-5c97-4953-a3a3-b455f3c7fbd4",
   "metadata": {},
   "outputs": [
    {
     "name": "stdout",
     "output_type": "stream",
     "text": [
      "2025-03-13 21:50:34.798421\n"
     ]
    }
   ],
   "source": [
    "print(now)"
   ]
  },
  {
   "cell_type": "code",
   "execution_count": null,
   "id": "df239d61-35d1-4250-9afc-3d00e6bc708a",
   "metadata": {},
   "outputs": [],
   "source": []
  }
 ],
 "metadata": {
  "kernelspec": {
   "display_name": "Python 3 (ipykernel)",
   "language": "python",
   "name": "python3"
  },
  "language_info": {
   "codemirror_mode": {
    "name": "ipython",
    "version": 3
   },
   "file_extension": ".py",
   "mimetype": "text/x-python",
   "name": "python",
   "nbconvert_exporter": "python",
   "pygments_lexer": "ipython3",
   "version": "3.12.8"
  }
 },
 "nbformat": 4,
 "nbformat_minor": 5
}
