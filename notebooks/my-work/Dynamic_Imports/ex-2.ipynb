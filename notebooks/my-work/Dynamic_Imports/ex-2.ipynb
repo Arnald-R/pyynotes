{
 "cells": [
  {
   "cell_type": "code",
   "execution_count": null,
   "id": "22c65812-d8aa-4df5-a113-3da8568bd17c",
   "metadata": {},
   "outputs": [],
   "source": [
    "#created at 20250313"
   ]
  },
  {
   "cell_type": "code",
   "execution_count": null,
   "id": "037626c4-ae7f-4151-b3d1-a0ee4a913fa7",
   "metadata": {},
   "outputs": [],
   "source": [
    "#https://stevejoe1412.gitbook.io/ssn/python-subtopics/6.-dynamic-imports"
   ]
  },
  {
   "cell_type": "code",
   "execution_count": null,
   "id": "675442f1-082b-499d-a04b-e7fdfc7c3488",
   "metadata": {},
   "outputs": [],
   "source": [
    "#Dynamically import a function from a module"
   ]
  },
  {
   "cell_type": "code",
   "execution_count": 1,
   "id": "45e52857-2286-4275-809f-19d056a3556b",
   "metadata": {},
   "outputs": [],
   "source": [
    "import importlib"
   ]
  },
  {
   "cell_type": "code",
   "execution_count": 2,
   "id": "de5a6879-c930-48dc-8c53-de33058c7967",
   "metadata": {},
   "outputs": [],
   "source": [
    "sqrt_function = getattr(importlib.import_module(\"math\"),\"sqrt\")"
   ]
  },
  {
   "cell_type": "code",
   "execution_count": 3,
   "id": "da702d1f-3713-420f-b100-b882f3eebeff",
   "metadata": {},
   "outputs": [
    {
     "name": "stdout",
     "output_type": "stream",
     "text": [
      "2.0\n"
     ]
    }
   ],
   "source": [
    "print(sqrt_function(4))"
   ]
  },
  {
   "cell_type": "code",
   "execution_count": null,
   "id": "0d65a1be-b059-437f-8636-a646a29889e9",
   "metadata": {},
   "outputs": [],
   "source": []
  }
 ],
 "metadata": {
  "kernelspec": {
   "display_name": "Python 3 (ipykernel)",
   "language": "python",
   "name": "python3"
  },
  "language_info": {
   "codemirror_mode": {
    "name": "ipython",
    "version": 3
   },
   "file_extension": ".py",
   "mimetype": "text/x-python",
   "name": "python",
   "nbconvert_exporter": "python",
   "pygments_lexer": "ipython3",
   "version": "3.12.8"
  }
 },
 "nbformat": 4,
 "nbformat_minor": 5
}
