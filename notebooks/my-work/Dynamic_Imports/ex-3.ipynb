{
 "cells": [
  {
   "cell_type": "code",
   "execution_count": null,
   "id": "3c645a3b-bdff-45ab-b385-c5c98778c564",
   "metadata": {},
   "outputs": [],
   "source": [
    "#created at 20250313"
   ]
  },
  {
   "cell_type": "code",
   "execution_count": null,
   "id": "9c9f594b-096f-4a64-bebf-0f5f77c2d936",
   "metadata": {},
   "outputs": [],
   "source": [
    "#https://stevejoe1412.gitbook.io/ssn/python-subtopics/6.-dynamic-imports"
   ]
  },
  {
   "cell_type": "code",
   "execution_count": null,
   "id": "976cdf84-e007-4b99-b8b2-03fcaeee721e",
   "metadata": {},
   "outputs": [],
   "source": [
    "#Dynamic import Using a user input"
   ]
  },
  {
   "cell_type": "code",
   "execution_count": 2,
   "id": "56887044-0dd1-437b-b827-5cdf6fbac603",
   "metadata": {},
   "outputs": [],
   "source": [
    "import importlib"
   ]
  },
  {
   "cell_type": "code",
   "execution_count": 7,
   "id": "ac4013bd-1c83-44b7-aee8-3c043422a7f4",
   "metadata": {},
   "outputs": [
    {
     "name": "stdin",
     "output_type": "stream",
     "text": [
      "Enter the module name: math\n"
     ]
    }
   ],
   "source": [
    "module_name = input(\"Enter the module name:\")"
   ]
  },
  {
   "cell_type": "code",
   "execution_count": 8,
   "id": "803c311c-8734-4f1a-984a-ccd6f6d02f48",
   "metadata": {},
   "outputs": [
    {
     "name": "stdin",
     "output_type": "stream",
     "text": [
      "Enter the function name: factorial\n"
     ]
    }
   ],
   "source": [
    "function_name = input(\"Enter the function name:\")"
   ]
  },
  {
   "cell_type": "code",
   "execution_count": 9,
   "id": "f1f5a3e6-81f5-45fb-a07f-26d9d00ef8f4",
   "metadata": {},
   "outputs": [],
   "source": [
    "module = importlib.import_module(module_name)"
   ]
  },
  {
   "cell_type": "code",
   "execution_count": 10,
   "id": "c7adfc96-a62d-44b1-9a5d-255eef4fc44d",
   "metadata": {},
   "outputs": [],
   "source": [
    "function = getattr(module,function_name)"
   ]
  },
  {
   "cell_type": "code",
   "execution_count": 11,
   "id": "556ae6d3-fba7-45f7-903b-00305c5bbae5",
   "metadata": {},
   "outputs": [
    {
     "name": "stdout",
     "output_type": "stream",
     "text": [
      "120\n"
     ]
    }
   ],
   "source": [
    "print(function(5))"
   ]
  },
  {
   "cell_type": "code",
   "execution_count": null,
   "id": "5acc36f2-7c81-4c18-b274-e36a241de31c",
   "metadata": {},
   "outputs": [],
   "source": []
  }
 ],
 "metadata": {
  "kernelspec": {
   "display_name": "Python 3 (ipykernel)",
   "language": "python",
   "name": "python3"
  },
  "language_info": {
   "codemirror_mode": {
    "name": "ipython",
    "version": 3
   },
   "file_extension": ".py",
   "mimetype": "text/x-python",
   "name": "python",
   "nbconvert_exporter": "python",
   "pygments_lexer": "ipython3",
   "version": "3.12.8"
  }
 },
 "nbformat": 4,
 "nbformat_minor": 5
}
