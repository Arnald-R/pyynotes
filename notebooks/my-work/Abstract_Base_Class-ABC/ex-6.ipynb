{
 "cells": [
  {
   "cell_type": "code",
   "execution_count": null,
   "id": "26ea2e4d-f015-4ca8-8b99-33402941b8cb",
   "metadata": {},
   "outputs": [],
   "source": [
    "#created at 20250312"
   ]
  },
  {
   "cell_type": "code",
   "execution_count": null,
   "id": "a5a9e021-d034-41fa-ac47-2bc5fa167893",
   "metadata": {},
   "outputs": [],
   "source": [
    "#https://stevejoe1412.gitbook.io/ssn/python-subtopics/5.-abstract-base-classes-abcs"
   ]
  },
  {
   "cell_type": "code",
   "execution_count": null,
   "id": "73c2d4f4-31cf-4db3-a004-277db2abac9a",
   "metadata": {},
   "outputs": [],
   "source": [
    "#Abstract Base Class with class methods "
   ]
  },
  {
   "cell_type": "code",
   "execution_count": 1,
   "id": "a3dc56cc-9ef4-4115-842d-70bc927e9b83",
   "metadata": {},
   "outputs": [],
   "source": [
    "from abc import ABC,abstractmethod"
   ]
  },
  {
   "cell_type": "code",
   "execution_count": 3,
   "id": "12c0a33e-4f00-4fec-ae73-92781794f3fb",
   "metadata": {},
   "outputs": [],
   "source": [
    "class Database(ABC):\n",
    "    @classmethod\n",
    "    @abstractmethod\n",
    "    def connect(cls):\n",
    "        pass"
   ]
  },
  {
   "cell_type": "code",
   "execution_count": 4,
   "id": "ad0b119d-d460-4dc9-abcf-c81fcc7d3df4",
   "metadata": {},
   "outputs": [],
   "source": [
    "class MysqlDatabase(Database):\n",
    "    @classmethod\n",
    "    def connect(cls):\n",
    "        print(\"connecting to Mysql\")\n",
    "        "
   ]
  },
  {
   "cell_type": "code",
   "execution_count": 5,
   "id": "041fa596-1314-4233-89bf-6a6d48fedf1a",
   "metadata": {},
   "outputs": [
    {
     "name": "stdout",
     "output_type": "stream",
     "text": [
      "connecting to Mysql\n"
     ]
    }
   ],
   "source": [
    "MysqlDatabase.connect()"
   ]
  },
  {
   "cell_type": "code",
   "execution_count": null,
   "id": "ca5eb03c-5222-4306-babe-60cfac6e4e22",
   "metadata": {},
   "outputs": [],
   "source": []
  }
 ],
 "metadata": {
  "kernelspec": {
   "display_name": "Python 3 (ipykernel)",
   "language": "python",
   "name": "python3"
  },
  "language_info": {
   "codemirror_mode": {
    "name": "ipython",
    "version": 3
   },
   "file_extension": ".py",
   "mimetype": "text/x-python",
   "name": "python",
   "nbconvert_exporter": "python",
   "pygments_lexer": "ipython3",
   "version": "3.12.8"
  }
 },
 "nbformat": 4,
 "nbformat_minor": 5
}
