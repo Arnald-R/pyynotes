{
 "cells": [
  {
   "cell_type": "code",
   "execution_count": null,
   "id": "b702a0ad-fa94-4783-9aec-faf5aaf4b550",
   "metadata": {},
   "outputs": [],
   "source": [
    "#created at 20250312"
   ]
  },
  {
   "cell_type": "code",
   "execution_count": null,
   "id": "e2ff5409-1848-498b-832a-2abe99f19db5",
   "metadata": {},
   "outputs": [],
   "source": [
    "#https://stevejoe1412.gitbook.io/ssn/python-subtopics/5.-abstract-base-classes-abcs"
   ]
  },
  {
   "cell_type": "code",
   "execution_count": 1,
   "id": "f47cdd32-68f9-4607-8b3a-6910eb65e3ca",
   "metadata": {},
   "outputs": [],
   "source": [
    "#Abstract Base class with __init__"
   ]
  },
  {
   "cell_type": "code",
   "execution_count": 2,
   "id": "8025aebb-ac54-4f3d-983e-5aca163a8dea",
   "metadata": {},
   "outputs": [],
   "source": [
    "from abc import ABC, abstractmethod"
   ]
  },
  {
   "cell_type": "code",
   "execution_count": 5,
   "id": "b89308e0-6c06-4eac-86f9-77ed3bc6a71c",
   "metadata": {},
   "outputs": [],
   "source": [
    "class Vehicle(ABC):\n",
    "    def __init__(self, brand):\n",
    "        self.brand = brand\n",
    "\n",
    "    @abstractmethod\n",
    "    def drive(self):\n",
    "        pass"
   ]
  },
  {
   "cell_type": "code",
   "execution_count": 6,
   "id": "7d93ca81-a4e7-4e00-83d7-c69e75fbee2b",
   "metadata": {},
   "outputs": [],
   "source": [
    "class  Car(Vehicle):\n",
    "    def drive(self):\n",
    "        print(f\"{self.brand} is driving\")"
   ]
  },
  {
   "cell_type": "code",
   "execution_count": 7,
   "id": "3600e0c5-b26c-45ce-a06b-3f867c9e505a",
   "metadata": {},
   "outputs": [],
   "source": [
    "car = Car(\"echo\")\n"
   ]
  },
  {
   "cell_type": "code",
   "execution_count": 8,
   "id": "823f543a-d4df-4217-8870-b59a0f6562a2",
   "metadata": {},
   "outputs": [
    {
     "name": "stdout",
     "output_type": "stream",
     "text": [
      "echo is driving\n"
     ]
    }
   ],
   "source": [
    "car.drive()"
   ]
  },
  {
   "cell_type": "code",
   "execution_count": null,
   "id": "42d4001f-e956-48d0-b488-77fc34d8ca3b",
   "metadata": {},
   "outputs": [],
   "source": []
  }
 ],
 "metadata": {
  "kernelspec": {
   "display_name": "Python 3 (ipykernel)",
   "language": "python",
   "name": "python3"
  },
  "language_info": {
   "codemirror_mode": {
    "name": "ipython",
    "version": 3
   },
   "file_extension": ".py",
   "mimetype": "text/x-python",
   "name": "python",
   "nbconvert_exporter": "python",
   "pygments_lexer": "ipython3",
   "version": "3.12.8"
  }
 },
 "nbformat": 4,
 "nbformat_minor": 5
}
