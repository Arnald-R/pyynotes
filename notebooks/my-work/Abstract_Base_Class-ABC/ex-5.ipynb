{
 "cells": [
  {
   "cell_type": "code",
   "execution_count": null,
   "id": "829dbf31-0933-482f-b183-be8c98a9463b",
   "metadata": {},
   "outputs": [],
   "source": [
    "#created at 20250312"
   ]
  },
  {
   "cell_type": "code",
   "execution_count": null,
   "id": "81b49637-4684-4c3a-93b2-339d732b240d",
   "metadata": {},
   "outputs": [],
   "source": [
    "#https://stevejoe1412.gitbook.io/ssn/python-subtopics/5.-abstract-base-classes-abcs"
   ]
  },
  {
   "cell_type": "code",
   "execution_count": null,
   "id": "0e9f76be-6799-4232-ab7b-2e22bfb8464f",
   "metadata": {},
   "outputs": [],
   "source": [
    "#Abstract properties"
   ]
  },
  {
   "cell_type": "code",
   "execution_count": 1,
   "id": "bf1ea177-9c9d-4be1-8bc5-ceeb8bdeea2f",
   "metadata": {},
   "outputs": [],
   "source": [
    "from abc import ABC, abstractmethod"
   ]
  },
  {
   "cell_type": "code",
   "execution_count": 2,
   "id": "cec93012-430e-4bd7-b0c3-1cb9b4ad53fb",
   "metadata": {},
   "outputs": [],
   "source": [
    "class Employee(ABC):\n",
    "    @property\n",
    "    @abstractmethod\n",
    "    def salary(self):\n",
    "        pass"
   ]
  },
  {
   "cell_type": "code",
   "execution_count": 7,
   "id": "1dd08ce4-990d-4d33-9f0d-d5da205bec98",
   "metadata": {},
   "outputs": [],
   "source": [
    "class Manager(Employee):\n",
    "    def __init__(self,base_salary):\n",
    "        self._salary = base_salary \n",
    "\n",
    "    @property\n",
    "    def salary(self):\n",
    "        return self._salary"
   ]
  },
  {
   "cell_type": "code",
   "execution_count": 8,
   "id": "191ec5f3-823e-4cac-b787-ef2705e99a52",
   "metadata": {},
   "outputs": [
    {
     "name": "stdout",
     "output_type": "stream",
     "text": [
      "50000\n"
     ]
    }
   ],
   "source": [
    "manager = Manager(50000)\n",
    "print(manager.salary)"
   ]
  },
  {
   "cell_type": "code",
   "execution_count": null,
   "id": "6724a5ba-752f-49a6-a9c6-829eb7210d45",
   "metadata": {},
   "outputs": [],
   "source": []
  }
 ],
 "metadata": {
  "kernelspec": {
   "display_name": "Python 3 (ipykernel)",
   "language": "python",
   "name": "python3"
  },
  "language_info": {
   "codemirror_mode": {
    "name": "ipython",
    "version": 3
   },
   "file_extension": ".py",
   "mimetype": "text/x-python",
   "name": "python",
   "nbconvert_exporter": "python",
   "pygments_lexer": "ipython3",
   "version": "3.12.8"
  }
 },
 "nbformat": 4,
 "nbformat_minor": 5
}
