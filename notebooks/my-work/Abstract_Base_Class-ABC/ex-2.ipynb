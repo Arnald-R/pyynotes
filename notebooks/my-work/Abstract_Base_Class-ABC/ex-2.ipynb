{
 "cells": [
  {
   "cell_type": "code",
   "execution_count": null,
   "id": "96e00254-fe91-4b88-b9af-331f6954a089",
   "metadata": {},
   "outputs": [],
   "source": [
    "#created at 20250312"
   ]
  },
  {
   "cell_type": "code",
   "execution_count": null,
   "id": "4f6bf512-56c6-4cb6-8df8-515424a8c4be",
   "metadata": {},
   "outputs": [],
   "source": [
    "#https://stevejoe1412.gitbook.io/ssn/python-subtopics/5.-abstract-base-classes-abcs"
   ]
  },
  {
   "cell_type": "code",
   "execution_count": null,
   "id": "7a596737-a884-4014-abee-17a68b4661bd",
   "metadata": {},
   "outputs": [],
   "source": [
    "#Abstract class with multiple methods"
   ]
  },
  {
   "cell_type": "code",
   "execution_count": 1,
   "id": "abaccf55-7b87-4f92-b86a-8bae994ec99f",
   "metadata": {},
   "outputs": [],
   "source": [
    "from abc import ABC, abstractmethod"
   ]
  },
  {
   "cell_type": "code",
   "execution_count": 2,
   "id": "00710a61-ad95-482c-82a7-6239bca62899",
   "metadata": {},
   "outputs": [],
   "source": [
    "class shape(ABC):\n",
    "    @abstractmethod\n",
    "    def area(self):\n",
    "        pass\n",
    "\n",
    "    def perimeter(self):\n",
    "        pass"
   ]
  },
  {
   "cell_type": "code",
   "execution_count": 7,
   "id": "c527712c-d5d2-4bae-b059-05a244671183",
   "metadata": {},
   "outputs": [],
   "source": [
    "class rectangle(shape):\n",
    "    def __init__(self, height, width):\n",
    "        self.height = height\n",
    "        self.width  = width\n",
    "\n",
    "    def area(self):\n",
    "        return self.height * self.width\n",
    "\n",
    "    def perimeter(self):\n",
    "        return 2 * (self.height + self.width)"
   ]
  },
  {
   "cell_type": "code",
   "execution_count": 8,
   "id": "01babcca-c374-4629-b440-32f85026864c",
   "metadata": {},
   "outputs": [],
   "source": [
    "rect = rectangle(4,5)"
   ]
  },
  {
   "cell_type": "code",
   "execution_count": 9,
   "id": "5ad2441c-e7a0-46f7-a240-db41da798d8a",
   "metadata": {},
   "outputs": [
    {
     "name": "stdout",
     "output_type": "stream",
     "text": [
      "20\n"
     ]
    }
   ],
   "source": [
    "print(rect.area())"
   ]
  },
  {
   "cell_type": "code",
   "execution_count": 10,
   "id": "1891f270-0696-4b0a-b5e4-a613a118ed49",
   "metadata": {},
   "outputs": [
    {
     "name": "stdout",
     "output_type": "stream",
     "text": [
      "18\n"
     ]
    }
   ],
   "source": [
    "print(rect.perimeter())"
   ]
  },
  {
   "cell_type": "code",
   "execution_count": null,
   "id": "2cd73c04-ed3a-4c90-88a8-94220218bebc",
   "metadata": {},
   "outputs": [],
   "source": []
  }
 ],
 "metadata": {
  "kernelspec": {
   "display_name": "Python 3 (ipykernel)",
   "language": "python",
   "name": "python3"
  },
  "language_info": {
   "codemirror_mode": {
    "name": "ipython",
    "version": 3
   },
   "file_extension": ".py",
   "mimetype": "text/x-python",
   "name": "python",
   "nbconvert_exporter": "python",
   "pygments_lexer": "ipython3",
   "version": "3.12.8"
  }
 },
 "nbformat": 4,
 "nbformat_minor": 5
}
