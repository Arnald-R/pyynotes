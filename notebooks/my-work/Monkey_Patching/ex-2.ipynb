{
 "cells": [
  {
   "cell_type": "code",
   "execution_count": null,
   "id": "ccab48f2-738e-459d-9a4f-d9e51551fb1c",
   "metadata": {},
   "outputs": [],
   "source": [
    "#created at 20250320"
   ]
  },
  {
   "cell_type": "code",
   "execution_count": null,
   "id": "9ead3c3b-caf7-4808-a4d9-a74981ef8a02",
   "metadata": {},
   "outputs": [],
   "source": [
    "#https://stevejoe1412.gitbook.io/ssn/python-subtopics/17.-monkey-patching"
   ]
  },
  {
   "cell_type": "code",
   "execution_count": null,
   "id": "431c8112-31ff-4505-a27a-2ae7fa1010ed",
   "metadata": {},
   "outputs": [],
   "source": [
    "#Monkey patching method of a class"
   ]
  },
  {
   "cell_type": "code",
   "execution_count": 1,
   "id": "c29acfbf-a7e5-4fbe-94d3-3eb46b94100b",
   "metadata": {},
   "outputs": [],
   "source": [
    "class Dog:\n",
    "    def speak(self):\n",
    "        return \"woof\""
   ]
  },
  {
   "cell_type": "code",
   "execution_count": 2,
   "id": "cdc267ce-f369-4166-8ae6-733b2d632067",
   "metadata": {},
   "outputs": [],
   "source": [
    "#Monkey patch the speak method\n",
    "def new_speak(self):\n",
    "    return \"Bark\""
   ]
  },
  {
   "cell_type": "code",
   "execution_count": 3,
   "id": "8237dbae-ee4c-40a6-be36-5a7fd966fe5f",
   "metadata": {},
   "outputs": [],
   "source": [
    "Dog.speak = new_speak #Replace the speak method with new_speak"
   ]
  },
  {
   "cell_type": "code",
   "execution_count": 4,
   "id": "8ad97fbf-cd73-481d-9b0a-72255e32bf89",
   "metadata": {},
   "outputs": [],
   "source": [
    "#Test the Patched method\n",
    "dog = Dog()"
   ]
  },
  {
   "cell_type": "code",
   "execution_count": 6,
   "id": "f53220ac-f62f-40a9-bea5-a7a0689468a1",
   "metadata": {},
   "outputs": [
    {
     "name": "stdout",
     "output_type": "stream",
     "text": [
      "Bark\n"
     ]
    }
   ],
   "source": [
    "print(dog.speak())"
   ]
  },
  {
   "cell_type": "code",
   "execution_count": null,
   "id": "cdcc13d7-49a1-4c68-972a-a7271eddd144",
   "metadata": {},
   "outputs": [],
   "source": []
  }
 ],
 "metadata": {
  "kernelspec": {
   "display_name": "Python 3 (ipykernel)",
   "language": "python",
   "name": "python3"
  },
  "language_info": {
   "codemirror_mode": {
    "name": "ipython",
    "version": 3
   },
   "file_extension": ".py",
   "mimetype": "text/x-python",
   "name": "python",
   "nbconvert_exporter": "python",
   "pygments_lexer": "ipython3",
   "version": "3.12.8"
  }
 },
 "nbformat": 4,
 "nbformat_minor": 5
}
