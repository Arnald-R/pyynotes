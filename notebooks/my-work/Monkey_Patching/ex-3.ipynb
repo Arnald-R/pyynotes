{
 "cells": [
  {
   "cell_type": "code",
   "execution_count": null,
   "id": "4eef9004-dc6c-4454-b298-6142556598d7",
   "metadata": {},
   "outputs": [],
   "source": [
    "#created at 20250320"
   ]
  },
  {
   "cell_type": "code",
   "execution_count": null,
   "id": "135cfb82-08d5-474d-845a-064957bdff99",
   "metadata": {},
   "outputs": [],
   "source": [
    "#https://stevejoe1412.gitbook.io/ssn/python-subtopics/17.-monkey-patching"
   ]
  },
  {
   "cell_type": "code",
   "execution_count": null,
   "id": "87ed5db8-d891-4aca-82b7-6f6063846dbe",
   "metadata": {},
   "outputs": [],
   "source": [
    "#Monkey Patching a Module Function"
   ]
  },
  {
   "cell_type": "code",
   "execution_count": 2,
   "id": "5a338142-6c23-48bf-abed-de8487d91550",
   "metadata": {},
   "outputs": [],
   "source": [
    "import math"
   ]
  },
  {
   "cell_type": "code",
   "execution_count": 4,
   "id": "f7508098-9a79-4167-9a9a-a6826c6c118c",
   "metadata": {},
   "outputs": [
    {
     "name": "stdout",
     "output_type": "stream",
     "text": [
      "4.0\n"
     ]
    }
   ],
   "source": [
    "#Original Function\n",
    "print(math.sqrt(16))"
   ]
  },
  {
   "cell_type": "code",
   "execution_count": 5,
   "id": "f861b27d-88b2-4095-8f81-8a7e6bd28c60",
   "metadata": {},
   "outputs": [],
   "source": [
    "#Monkey Patch the sqrt function\n",
    "def new_sqrt(x):\n",
    "    return x ** 0.5"
   ]
  },
  {
   "cell_type": "code",
   "execution_count": 6,
   "id": "d2d3449a-147e-4f92-80c7-b71a0d6a8789",
   "metadata": {},
   "outputs": [],
   "source": [
    "math.sqrt = new_sqrt # Replace the original sqrt function"
   ]
  },
  {
   "cell_type": "code",
   "execution_count": 7,
   "id": "25c70505-d382-4e0a-ba8d-627004e674d5",
   "metadata": {},
   "outputs": [
    {
     "name": "stdout",
     "output_type": "stream",
     "text": [
      "4.0\n"
     ]
    }
   ],
   "source": [
    "#Test the Patched Function\\\n",
    "print(math.sqrt(16))"
   ]
  },
  {
   "cell_type": "code",
   "execution_count": null,
   "id": "5edb27ff-4f7a-4275-880b-ea583dc9c105",
   "metadata": {},
   "outputs": [],
   "source": []
  }
 ],
 "metadata": {
  "kernelspec": {
   "display_name": "Python 3 (ipykernel)",
   "language": "python",
   "name": "python3"
  },
  "language_info": {
   "codemirror_mode": {
    "name": "ipython",
    "version": 3
   },
   "file_extension": ".py",
   "mimetype": "text/x-python",
   "name": "python",
   "nbconvert_exporter": "python",
   "pygments_lexer": "ipython3",
   "version": "3.12.8"
  }
 },
 "nbformat": 4,
 "nbformat_minor": 5
}
