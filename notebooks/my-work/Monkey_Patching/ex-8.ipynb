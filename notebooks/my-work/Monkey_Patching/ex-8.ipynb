{
 "cells": [
  {
   "cell_type": "code",
   "execution_count": null,
   "id": "4da9befc-f88a-4372-9f69-20372f2a86d3",
   "metadata": {},
   "outputs": [],
   "source": [
    "#created at 20250320"
   ]
  },
  {
   "cell_type": "code",
   "execution_count": null,
   "id": "d545e87a-71e9-4fe7-96ef-966616eebfef",
   "metadata": {},
   "outputs": [],
   "source": [
    "#https://stevejoe1412.gitbook.io/ssn/python-subtopics/17.-monkey-patching"
   ]
  },
  {
   "cell_type": "code",
   "execution_count": null,
   "id": "43fa3c19-f1ec-4bb9-aa9d-9b13de40892b",
   "metadata": {},
   "outputs": [],
   "source": [
    "#Monkey Patching with a Wrapper"
   ]
  },
  {
   "cell_type": "code",
   "execution_count": 1,
   "id": "0da047d0-f8be-4e2f-9ee2-823c10e5e52d",
   "metadata": {},
   "outputs": [],
   "source": [
    "def original_function(x):\n",
    "    return x * 2"
   ]
  },
  {
   "cell_type": "code",
   "execution_count": 4,
   "id": "9839df38-55c0-4db5-a9ad-ac3b1ce2904b",
   "metadata": {},
   "outputs": [],
   "source": [
    "#Wrapper function to log the arguments\n",
    "def wrapper(func):\n",
    "    def inner(x):\n",
    "        print(f\"calling function with argument {x}\")\n",
    "        return func(x)\n",
    "    return inner"
   ]
  },
  {
   "cell_type": "code",
   "execution_count": 5,
   "id": "0a47fc2c-4ab1-4e81-8291-e9b367aa18a8",
   "metadata": {},
   "outputs": [],
   "source": [
    "#Monkey Patch the original function with wrapper\n",
    "original_function = wrapper(original_function)"
   ]
  },
  {
   "cell_type": "code",
   "execution_count": 8,
   "id": "13f35fac-7170-45f1-81d0-d10139be2153",
   "metadata": {},
   "outputs": [
    {
     "name": "stdout",
     "output_type": "stream",
     "text": [
      "calling function with argument 5\n",
      "10\n"
     ]
    }
   ],
   "source": [
    "#Test the patched function\n",
    "print(original_function(5))"
   ]
  },
  {
   "cell_type": "code",
   "execution_count": null,
   "id": "c5f9c9eb-9871-469f-b416-a7f3ae4641f7",
   "metadata": {},
   "outputs": [],
   "source": []
  },
  {
   "cell_type": "code",
   "execution_count": null,
   "id": "43ab846a-b4aa-49e5-8dfb-df8a913c13bb",
   "metadata": {},
   "outputs": [],
   "source": []
  }
 ],
 "metadata": {
  "kernelspec": {
   "display_name": "Python 3 (ipykernel)",
   "language": "python",
   "name": "python3"
  },
  "language_info": {
   "codemirror_mode": {
    "name": "ipython",
    "version": 3
   },
   "file_extension": ".py",
   "mimetype": "text/x-python",
   "name": "python",
   "nbconvert_exporter": "python",
   "pygments_lexer": "ipython3",
   "version": "3.12.8"
  }
 },
 "nbformat": 4,
 "nbformat_minor": 5
}
