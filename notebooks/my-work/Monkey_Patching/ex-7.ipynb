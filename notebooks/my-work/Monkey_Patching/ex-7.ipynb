{
 "cells": [
  {
   "cell_type": "code",
   "execution_count": null,
   "id": "f6262b9b-3361-4115-bd81-6619f6a248c1",
   "metadata": {},
   "outputs": [],
   "source": [
    "#created at 20250320"
   ]
  },
  {
   "cell_type": "code",
   "execution_count": null,
   "id": "4abbc8b9-7a5a-4c8a-bc29-5ea2526d6b98",
   "metadata": {},
   "outputs": [],
   "source": [
    "#https://stevejoe1412.gitbook.io/ssn/python-subtopics/17.-monkey-patching"
   ]
  },
  {
   "cell_type": "code",
   "execution_count": null,
   "id": "7cd4a5e2-f910-4a55-873b-ede2ec92d633",
   "metadata": {},
   "outputs": [],
   "source": [
    "#Monkey patching for Handle Errors"
   ]
  },
  {
   "cell_type": "code",
   "execution_count": 1,
   "id": "e8fc7d9e-3b08-4f75-8cf0-8b23533c0463",
   "metadata": {},
   "outputs": [],
   "source": [
    "#Original function\n",
    "def divide(a,b):\n",
    "    return a / b"
   ]
  },
  {
   "cell_type": "code",
   "execution_count": 7,
   "id": "9770aaa9-af92-46d6-b747-30c761bde272",
   "metadata": {},
   "outputs": [],
   "source": [
    "#Monkey Patch to handle division by zero\n",
    "def safe_divide(a,b):\n",
    "    if b == 0:\n",
    "        return \"Error : Division by zero\"\n",
    "    return a / b"
   ]
  },
  {
   "cell_type": "code",
   "execution_count": 8,
   "id": "3a1e2779-1274-4cec-9eb0-726655063d29",
   "metadata": {},
   "outputs": [],
   "source": [
    "divide = safe_divide"
   ]
  },
  {
   "cell_type": "code",
   "execution_count": 9,
   "id": "2472fdd4-ec96-4f16-a954-131596a33b02",
   "metadata": {},
   "outputs": [
    {
     "name": "stdout",
     "output_type": "stream",
     "text": [
      "Error : Division by zero\n"
     ]
    }
   ],
   "source": [
    "print(divide(10,0))"
   ]
  },
  {
   "cell_type": "code",
   "execution_count": 10,
   "id": "e80d3f0f-7849-45ad-ae4b-e019e2a55902",
   "metadata": {},
   "outputs": [
    {
     "name": "stdout",
     "output_type": "stream",
     "text": [
      "5.0\n"
     ]
    }
   ],
   "source": [
    "print(divide(10,2))"
   ]
  },
  {
   "cell_type": "code",
   "execution_count": null,
   "id": "3cd23a34-ccb1-4690-a835-296dbb9ac2f1",
   "metadata": {},
   "outputs": [],
   "source": []
  }
 ],
 "metadata": {
  "kernelspec": {
   "display_name": "Python 3 (ipykernel)",
   "language": "python",
   "name": "python3"
  },
  "language_info": {
   "codemirror_mode": {
    "name": "ipython",
    "version": 3
   },
   "file_extension": ".py",
   "mimetype": "text/x-python",
   "name": "python",
   "nbconvert_exporter": "python",
   "pygments_lexer": "ipython3",
   "version": "3.12.8"
  }
 },
 "nbformat": 4,
 "nbformat_minor": 5
}
