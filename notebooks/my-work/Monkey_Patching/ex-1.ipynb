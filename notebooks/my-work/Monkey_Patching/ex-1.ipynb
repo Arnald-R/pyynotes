{
 "cells": [
  {
   "cell_type": "code",
   "execution_count": null,
   "id": "9f137df0-0bfc-48a9-b314-4af68070a227",
   "metadata": {},
   "outputs": [],
   "source": [
    "#created at 20250320"
   ]
  },
  {
   "cell_type": "code",
   "execution_count": null,
   "id": "032c0e33-d52c-4bd5-bd3b-5e8370ef01d2",
   "metadata": {},
   "outputs": [],
   "source": [
    "#https://stevejoe1412.gitbook.io/ssn/python-subtopics/17.-monkey-patching"
   ]
  },
  {
   "cell_type": "code",
   "execution_count": null,
   "id": "c13514ae-af6a-44be-8d78-e4b13b2e5324",
   "metadata": {},
   "outputs": [],
   "source": [
    "# without altering the original code directly. "
   ]
  },
  {
   "cell_type": "code",
   "execution_count": null,
   "id": "25a4666b-2c5c-46c4-82e6-a449ad2105a1",
   "metadata": {},
   "outputs": [],
   "source": [
    "#dynamically changing or modifying a class or module's behavior during runtime."
   ]
  },
  {
   "cell_type": "code",
   "execution_count": null,
   "id": "e305d594-48eb-4bc3-a433-a3ef726ab264",
   "metadata": {},
   "outputs": [],
   "source": [
    "#Basic Monkey Patching of a function "
   ]
  },
  {
   "cell_type": "code",
   "execution_count": 1,
   "id": "a5aa8324-35cd-4895-98d3-4e8a2d0f42a5",
   "metadata": {},
   "outputs": [],
   "source": [
    "#Original Function \n",
    "def greet(name):\n",
    "    return f\"Hello, {name}\""
   ]
  },
  {
   "cell_type": "code",
   "execution_count": 2,
   "id": "dd8938f7-3da4-4ed2-838a-db16cb97aafa",
   "metadata": {},
   "outputs": [],
   "source": [
    "#Monkey Patching Function\n",
    "def new_greet(name):\n",
    "    return f\"Hi, {name}\""
   ]
  },
  {
   "cell_type": "code",
   "execution_count": 3,
   "id": "f14faa6c-1e29-48b8-8ee0-be2dd2dd58e6",
   "metadata": {},
   "outputs": [],
   "source": [
    "greet = new_greet #Replace the original function with the new one"
   ]
  },
  {
   "cell_type": "code",
   "execution_count": 4,
   "id": "1c28c002-d394-4842-a228-1aa736a175d2",
   "metadata": {},
   "outputs": [],
   "source": [
    "#Test the patched function"
   ]
  },
  {
   "cell_type": "code",
   "execution_count": 5,
   "id": "84f6b094-a8f3-4e6e-af8c-6fc9c936fb78",
   "metadata": {},
   "outputs": [
    {
     "name": "stdout",
     "output_type": "stream",
     "text": [
      "Hi, Arnald\n"
     ]
    }
   ],
   "source": [
    "print(greet(\"Arnald\"))"
   ]
  },
  {
   "cell_type": "code",
   "execution_count": null,
   "id": "733aaddb-2951-46ce-b60d-a48c921a6af6",
   "metadata": {},
   "outputs": [],
   "source": []
  }
 ],
 "metadata": {
  "kernelspec": {
   "display_name": "Python 3 (ipykernel)",
   "language": "python",
   "name": "python3"
  },
  "language_info": {
   "codemirror_mode": {
    "name": "ipython",
    "version": 3
   },
   "file_extension": ".py",
   "mimetype": "text/x-python",
   "name": "python",
   "nbconvert_exporter": "python",
   "pygments_lexer": "ipython3",
   "version": "3.12.8"
  }
 },
 "nbformat": 4,
 "nbformat_minor": 5
}
