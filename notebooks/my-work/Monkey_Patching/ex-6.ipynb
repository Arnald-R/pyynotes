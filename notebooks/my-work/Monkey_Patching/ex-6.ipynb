{
 "cells": [
  {
   "cell_type": "code",
   "execution_count": null,
   "id": "c7489b95-3c6c-482c-a17e-144248278062",
   "metadata": {},
   "outputs": [],
   "source": [
    "#created at 20250320"
   ]
  },
  {
   "cell_type": "code",
   "execution_count": null,
   "id": "f0c6a773-0f9c-4605-a88a-3775f742df1b",
   "metadata": {},
   "outputs": [],
   "source": [
    "#https://stevejoe1412.gitbook.io/ssn/python-subtopics/17.-monkey-patching"
   ]
  },
  {
   "cell_type": "code",
   "execution_count": null,
   "id": "6fd2b37c-a180-49fb-bebf-a3891c19454b",
   "metadata": {},
   "outputs": [],
   "source": [
    "#Monkey Patching for Debugging"
   ]
  },
  {
   "cell_type": "code",
   "execution_count": 1,
   "id": "47547722-6995-435a-b159-3185a7e87a57",
   "metadata": {},
   "outputs": [],
   "source": [
    "#Original fuction\n",
    "def add(a,b):\n",
    "    return a + b"
   ]
  },
  {
   "cell_type": "code",
   "execution_count": 2,
   "id": "d0674f8d-4581-438d-a5ba-936039db8273",
   "metadata": {},
   "outputs": [],
   "source": [
    "#Monkey patch to add debugging\n",
    "def debug_add(a,b):\n",
    "    print(f\"Adding {a} and {b}\")\n",
    "    return a + b"
   ]
  },
  {
   "cell_type": "code",
   "execution_count": 3,
   "id": "ee7ed1cc-2145-45b4-b5d5-6f2b32341f84",
   "metadata": {},
   "outputs": [],
   "source": [
    "add = debug_add #Replace the add function"
   ]
  },
  {
   "cell_type": "code",
   "execution_count": 4,
   "id": "3fed468c-8f1a-4cea-beeb-c3638db732c9",
   "metadata": {},
   "outputs": [
    {
     "name": "stdout",
     "output_type": "stream",
     "text": [
      "Adding 2 and 3\n",
      "5\n"
     ]
    }
   ],
   "source": [
    "#Test the add function\n",
    "print(add(2,3))"
   ]
  },
  {
   "cell_type": "code",
   "execution_count": null,
   "id": "ff72fb6e-483a-45d8-98da-a408042601b9",
   "metadata": {},
   "outputs": [],
   "source": []
  }
 ],
 "metadata": {
  "kernelspec": {
   "display_name": "Python 3 (ipykernel)",
   "language": "python",
   "name": "python3"
  },
  "language_info": {
   "codemirror_mode": {
    "name": "ipython",
    "version": 3
   },
   "file_extension": ".py",
   "mimetype": "text/x-python",
   "name": "python",
   "nbconvert_exporter": "python",
   "pygments_lexer": "ipython3",
   "version": "3.12.8"
  }
 },
 "nbformat": 4,
 "nbformat_minor": 5
}
