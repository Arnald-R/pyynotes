{
 "cells": [
  {
   "cell_type": "code",
   "execution_count": null,
   "id": "c7489b95-3c6c-482c-a17e-144248278062",
   "metadata": {},
   "outputs": [],
   "source": [
    "#created at 20250320"
   ]
  },
  {
   "cell_type": "code",
   "execution_count": null,
   "id": "f0c6a773-0f9c-4605-a88a-3775f742df1b",
   "metadata": {},
   "outputs": [],
   "source": [
    "#https://stevejoe1412.gitbook.io/ssn/python-subtopics/17.-monkey-patching"
   ]
  },
  {
   "cell_type": "code",
   "execution_count": null,
   "id": "6fd2b37c-a180-49fb-bebf-a3891c19454b",
   "metadata": {},
   "outputs": [],
   "source": []
  },
  {
   "cell_type": "code",
   "execution_count": null,
   "id": "47547722-6995-435a-b159-3185a7e87a57",
   "metadata": {},
   "outputs": [],
   "source": []
  }
 ],
 "metadata": {
  "kernelspec": {
   "display_name": "Python 3 (ipykernel)",
   "language": "python",
   "name": "python3"
  },
  "language_info": {
   "codemirror_mode": {
    "name": "ipython",
    "version": 3
   },
   "file_extension": ".py",
   "mimetype": "text/x-python",
   "name": "python",
   "nbconvert_exporter": "python",
   "pygments_lexer": "ipython3",
   "version": "3.12.8"
  }
 },
 "nbformat": 4,
 "nbformat_minor": 5
}
