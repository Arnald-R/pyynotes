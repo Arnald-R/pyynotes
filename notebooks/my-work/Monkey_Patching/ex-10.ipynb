{
 "cells": [
  {
   "cell_type": "code",
   "execution_count": null,
   "id": "a854805a-82e3-47d8-acb4-db83cda46ba9",
   "metadata": {},
   "outputs": [],
   "source": [
    "#created at 20250320"
   ]
  },
  {
   "cell_type": "code",
   "execution_count": null,
   "id": "0c33a36b-e4cb-4ef6-bf21-4bbff864dcfd",
   "metadata": {},
   "outputs": [],
   "source": [
    "#https://stevejoe1412.gitbook.io/ssn/python-subtopics/17.-monkey-patching"
   ]
  },
  {
   "cell_type": "code",
   "execution_count": null,
   "id": "150d9d3e-9ffe-4d5a-a81e-b393ea4dd807",
   "metadata": {},
   "outputs": [],
   "source": [
    "#Monkey Patching for performance"
   ]
  },
  {
   "cell_type": "code",
   "execution_count": 1,
   "id": "87c5bcf3-3eda-49f8-8e98-2fce3f8e208f",
   "metadata": {},
   "outputs": [],
   "source": [
    "import time"
   ]
  },
  {
   "cell_type": "code",
   "execution_count": 2,
   "id": "aef35cc2-77f9-4826-892d-da6172c9c790",
   "metadata": {},
   "outputs": [],
   "source": [
    "#Original function\n",
    "def slow_function():\n",
    "    time.sleep(2)\n",
    "    return \"Done\""
   ]
  },
  {
   "cell_type": "code",
   "execution_count": 3,
   "id": "2152eb0a-180f-40a8-a4eb-a51077682dc8",
   "metadata": {},
   "outputs": [],
   "source": [
    "#Monkey patch to speed up the process for testing\n",
    "def fast_function():\n",
    "    return \"Done\""
   ]
  },
  {
   "cell_type": "code",
   "execution_count": 4,
   "id": "0035e7f0-495c-4139-9307-762125e2dfe2",
   "metadata": {},
   "outputs": [],
   "source": [
    "slow_function = fast_function"
   ]
  },
  {
   "cell_type": "code",
   "execution_count": 5,
   "id": "e7c456df-147f-4c69-bc48-74d01749447a",
   "metadata": {},
   "outputs": [
    {
     "name": "stdout",
     "output_type": "stream",
     "text": [
      "Done\n"
     ]
    }
   ],
   "source": [
    "print(slow_function())"
   ]
  },
  {
   "cell_type": "code",
   "execution_count": null,
   "id": "ef26b6ba-34f9-4235-9baa-83eecf9a8750",
   "metadata": {},
   "outputs": [],
   "source": []
  }
 ],
 "metadata": {
  "kernelspec": {
   "display_name": "Python 3 (ipykernel)",
   "language": "python",
   "name": "python3"
  },
  "language_info": {
   "codemirror_mode": {
    "name": "ipython",
    "version": 3
   },
   "file_extension": ".py",
   "mimetype": "text/x-python",
   "name": "python",
   "nbconvert_exporter": "python",
   "pygments_lexer": "ipython3",
   "version": "3.12.8"
  }
 },
 "nbformat": 4,
 "nbformat_minor": 5
}
