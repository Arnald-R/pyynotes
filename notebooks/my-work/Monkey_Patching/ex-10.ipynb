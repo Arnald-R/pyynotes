{
 "cells": [
  {
   "cell_type": "code",
   "execution_count": null,
   "id": "a854805a-82e3-47d8-acb4-db83cda46ba9",
   "metadata": {},
   "outputs": [],
   "source": [
    "#created at 20250320"
   ]
  },
  {
   "cell_type": "code",
   "execution_count": null,
   "id": "0c33a36b-e4cb-4ef6-bf21-4bbff864dcfd",
   "metadata": {},
   "outputs": [],
   "source": [
    "#https://stevejoe1412.gitbook.io/ssn/python-subtopics/17.-monkey-patching"
   ]
  },
  {
   "cell_type": "code",
   "execution_count": null,
   "id": "150d9d3e-9ffe-4d5a-a81e-b393ea4dd807",
   "metadata": {},
   "outputs": [],
   "source": []
  },
  {
   "cell_type": "code",
   "execution_count": null,
   "id": "87c5bcf3-3eda-49f8-8e98-2fce3f8e208f",
   "metadata": {},
   "outputs": [],
   "source": []
  }
 ],
 "metadata": {
  "kernelspec": {
   "display_name": "Python 3 (ipykernel)",
   "language": "python",
   "name": "python3"
  },
  "language_info": {
   "codemirror_mode": {
    "name": "ipython",
    "version": 3
   },
   "file_extension": ".py",
   "mimetype": "text/x-python",
   "name": "python",
   "nbconvert_exporter": "python",
   "pygments_lexer": "ipython3",
   "version": "3.12.8"
  }
 },
 "nbformat": 4,
 "nbformat_minor": 5
}
