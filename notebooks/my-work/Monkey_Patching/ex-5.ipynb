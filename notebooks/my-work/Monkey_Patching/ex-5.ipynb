{
 "cells": [
  {
   "cell_type": "code",
   "execution_count": null,
   "id": "c10567fb-d287-418e-bf26-f8513d012efa",
   "metadata": {},
   "outputs": [],
   "source": [
    "#created at 20250320"
   ]
  },
  {
   "cell_type": "code",
   "execution_count": null,
   "id": "1b3e836c-3e25-4779-8e70-80027dcb5e95",
   "metadata": {},
   "outputs": [],
   "source": [
    "#https://stevejoe1412.gitbook.io/ssn/python-subtopics/17.-monkey-patching"
   ]
  },
  {
   "cell_type": "code",
   "execution_count": null,
   "id": "7d0edebc-946a-43b5-8252-3cc0663378e3",
   "metadata": {},
   "outputs": [],
   "source": [
    "#Monkey Patching to Extend Behavior"
   ]
  },
  {
   "cell_type": "code",
   "execution_count": 1,
   "id": "de1e18e8-87f9-40ce-be99-7733efe2002e",
   "metadata": {},
   "outputs": [],
   "source": [
    "class car:\n",
    "    def drive(self):\n",
    "        return \"Driving  \""
   ]
  },
  {
   "cell_type": "code",
   "execution_count": 2,
   "id": "a4b9ab6b-3036-4d22-9370-3bffbb66b042",
   "metadata": {},
   "outputs": [],
   "source": [
    "#Monkey patch add more functionality \n",
    "def new_drive(self):\n",
    "    Original_Behavior = \"Driving\"\n",
    "    return Original_Behavior + \"Fast\""
   ]
  },
  {
   "cell_type": "code",
   "execution_count": 3,
   "id": "c36a6a6a-57eb-4986-949b-2ce8d40cde89",
   "metadata": {},
   "outputs": [],
   "source": [
    "car.drive = new_drive #Replace the drive method "
   ]
  },
  {
   "cell_type": "code",
   "execution_count": 4,
   "id": "b9bfb5f8-5cfe-429a-a5fa-78f0d6df3d8b",
   "metadata": {},
   "outputs": [],
   "source": [
    "#Test the car patched method\n",
    "Car = car()"
   ]
  },
  {
   "cell_type": "code",
   "execution_count": 6,
   "id": "938de3bb-c0b6-4b61-8763-235aa8bb4ee5",
   "metadata": {},
   "outputs": [
    {
     "name": "stdout",
     "output_type": "stream",
     "text": [
      "DrivingFast\n"
     ]
    }
   ],
   "source": [
    "print(Car.drive())"
   ]
  },
  {
   "cell_type": "code",
   "execution_count": null,
   "id": "34e20443-4e74-4e2c-89c3-b0455d35c7f9",
   "metadata": {},
   "outputs": [],
   "source": []
  }
 ],
 "metadata": {
  "kernelspec": {
   "display_name": "Python 3 (ipykernel)",
   "language": "python",
   "name": "python3"
  },
  "language_info": {
   "codemirror_mode": {
    "name": "ipython",
    "version": 3
   },
   "file_extension": ".py",
   "mimetype": "text/x-python",
   "name": "python",
   "nbconvert_exporter": "python",
   "pygments_lexer": "ipython3",
   "version": "3.12.8"
  }
 },
 "nbformat": 4,
 "nbformat_minor": 5
}
