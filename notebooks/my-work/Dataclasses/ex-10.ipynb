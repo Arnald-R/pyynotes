{
 "cells": [
  {
   "cell_type": "code",
   "execution_count": null,
   "id": "d16a21de-f9dd-43d4-8193-96b747c228bf",
   "metadata": {},
   "outputs": [],
   "source": [
    "#created at 20250311"
   ]
  },
  {
   "cell_type": "code",
   "execution_count": null,
   "id": "69a8e124-a49b-4d0c-aa00-e9161a86485c",
   "metadata": {},
   "outputs": [],
   "source": [
    "#https://stevejoe1412.gitbook.io/ssn/python-subtopics/3.-data-classes"
   ]
  },
  {
   "cell_type": "code",
   "execution_count": 1,
   "id": "d2c44c05-5f72-432f-8e1d-f27c7ab9f046",
   "metadata": {},
   "outputs": [],
   "source": [
    "#using asdict and astuple"
   ]
  },
  {
   "cell_type": "code",
   "execution_count": 6,
   "id": "c6db579c-3752-4662-ae0e-d9072955effb",
   "metadata": {},
   "outputs": [],
   "source": [
    "from dataclasses import dataclass, asdict, astuple"
   ]
  },
  {
   "cell_type": "code",
   "execution_count": 7,
   "id": "165da81a-9c3c-48cc-a42a-a9720b1d338b",
   "metadata": {},
   "outputs": [],
   "source": [
    "@dataclass\n",
    "class Employee:\n",
    "    name : str\n",
    "    role : str\n",
    "    salery : float"
   ]
  },
  {
   "cell_type": "code",
   "execution_count": 8,
   "id": "7d02741d-9f25-496a-83ab-cdfefab5410d",
   "metadata": {},
   "outputs": [],
   "source": [
    "employee = Employee(name =\"Arnald\", role = \"python-developer\", salery = 4000.00)"
   ]
  },
  {
   "cell_type": "code",
   "execution_count": 9,
   "id": "79154b00-f80a-4115-8084-63f05e1a36c0",
   "metadata": {},
   "outputs": [
    {
     "name": "stdout",
     "output_type": "stream",
     "text": [
      "{'name': 'Arnald', 'role': 'python-developer', 'salery': 4000.0}\n"
     ]
    }
   ],
   "source": [
    "print(asdict(employee))"
   ]
  },
  {
   "cell_type": "code",
   "execution_count": 10,
   "id": "7ce8be5a-a37d-4b23-b431-40da19a08fcb",
   "metadata": {},
   "outputs": [
    {
     "name": "stdout",
     "output_type": "stream",
     "text": [
      "('Arnald', 'python-developer', 4000.0)\n"
     ]
    }
   ],
   "source": [
    "print(astuple(employee))"
   ]
  },
  {
   "cell_type": "code",
   "execution_count": null,
   "id": "60770c73-5023-46c9-9f87-e26b76ccce65",
   "metadata": {},
   "outputs": [],
   "source": []
  }
 ],
 "metadata": {
  "kernelspec": {
   "display_name": "Python 3 (ipykernel)",
   "language": "python",
   "name": "python3"
  },
  "language_info": {
   "codemirror_mode": {
    "name": "ipython",
    "version": 3
   },
   "file_extension": ".py",
   "mimetype": "text/x-python",
   "name": "python",
   "nbconvert_exporter": "python",
   "pygments_lexer": "ipython3",
   "version": "3.12.8"
  }
 },
 "nbformat": 4,
 "nbformat_minor": 5
}
