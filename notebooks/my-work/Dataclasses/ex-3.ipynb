{
 "cells": [
  {
   "cell_type": "code",
   "execution_count": 1,
   "id": "3823200f-7248-423b-9f9a-4ce48d310437",
   "metadata": {},
   "outputs": [],
   "source": [
    "#created at 20250310"
   ]
  },
  {
   "cell_type": "code",
   "execution_count": null,
   "id": "047e3781-5411-4dde-abf3-0a7972bead4f",
   "metadata": {},
   "outputs": [],
   "source": [
    "#https://stevejoe1412.gitbook.io/ssn/python-subtopics/3.-data-classes"
   ]
  },
  {
   "cell_type": "code",
   "execution_count": 2,
   "id": "ef39752d-525f-4a9f-9fa9-1970c297f808",
   "metadata": {},
   "outputs": [],
   "source": [
    "#Immutable Dataclasses"
   ]
  },
  {
   "cell_type": "code",
   "execution_count": 8,
   "id": "d785da73-ae2a-44a0-af0b-0db717744f36",
   "metadata": {},
   "outputs": [],
   "source": [
    "from dataclasses import dataclass"
   ]
  },
  {
   "cell_type": "code",
   "execution_count": 9,
   "id": "3906d608-c4fa-40e4-b92c-163057f88bf2",
   "metadata": {},
   "outputs": [],
   "source": [
    "@dataclass(frozen = True)\n",
    "class Point:\n",
    "    x = int\n",
    "    y = int"
   ]
  },
  {
   "cell_type": "code",
   "execution_count": 1,
   "id": "a46b5039-8ca2-4f18-98b6-fdc89703808e",
   "metadata": {},
   "outputs": [
    {
     "ename": "NameError",
     "evalue": "name 'Point' is not defined",
     "output_type": "error",
     "traceback": [
      "\u001b[0;31m---------------------------------------------------------------------------\u001b[0m",
      "\u001b[0;31mNameError\u001b[0m                                 Traceback (most recent call last)",
      "Cell \u001b[0;32mIn[1], line 1\u001b[0m\n\u001b[0;32m----> 1\u001b[0m point \u001b[38;5;241m=\u001b[39m \u001b[43mPoint\u001b[49m(x \u001b[38;5;241m=\u001b[39m \u001b[38;5;241m3\u001b[39m,y \u001b[38;5;241m=\u001b[39m \u001b[38;5;241m4\u001b[39m)\n\u001b[1;32m      2\u001b[0m \u001b[38;5;28mprint\u001b[39m(point)\n",
      "\u001b[0;31mNameError\u001b[0m: name 'Point' is not defined"
     ]
    }
   ],
   "source": [
    "point = Point(x = 3,y = 4)\n",
    "print(point)"
   ]
  },
  {
   "cell_type": "code",
   "execution_count": null,
   "id": "43e0c6b8-e68e-43f0-80e2-c36c05b66a4c",
   "metadata": {},
   "outputs": [],
   "source": []
  }
 ],
 "metadata": {
  "kernelspec": {
   "display_name": "Python 3 (ipykernel)",
   "language": "python",
   "name": "python3"
  },
  "language_info": {
   "codemirror_mode": {
    "name": "ipython",
    "version": 3
   },
   "file_extension": ".py",
   "mimetype": "text/x-python",
   "name": "python",
   "nbconvert_exporter": "python",
   "pygments_lexer": "ipython3",
   "version": "3.12.8"
  }
 },
 "nbformat": 4,
 "nbformat_minor": 5
}
