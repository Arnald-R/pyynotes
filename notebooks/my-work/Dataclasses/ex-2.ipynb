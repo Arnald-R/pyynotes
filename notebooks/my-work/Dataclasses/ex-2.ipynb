{
 "cells": [
  {
   "cell_type": "code",
   "execution_count": 1,
   "id": "060c814c-c469-4b33-b15a-f313e9a159c9",
   "metadata": {},
   "outputs": [],
   "source": [
    "#created at 20250310"
   ]
  },
  {
   "cell_type": "code",
   "execution_count": null,
   "id": "4c08254c-591c-41c1-bdea-d310fbbf674a",
   "metadata": {},
   "outputs": [],
   "source": [
    "#https://stevejoe1412.gitbook.io/ssn/python-subtopics/3.-data-classes"
   ]
  },
  {
   "cell_type": "code",
   "execution_count": 2,
   "id": "8defbeda-706f-4689-9697-fafa5eb2796c",
   "metadata": {},
   "outputs": [],
   "source": [
    "#Default values in the Dataclasses"
   ]
  },
  {
   "cell_type": "code",
   "execution_count": 3,
   "id": "c9fd266d-6251-4cdf-9769-2daf95a5de8d",
   "metadata": {},
   "outputs": [],
   "source": [
    "from dataclasses import dataclass"
   ]
  },
  {
   "cell_type": "code",
   "execution_count": 4,
   "id": "a0ab813e-7ab7-4555-a208-0400de4c6fdb",
   "metadata": {},
   "outputs": [],
   "source": [
    "@dataclass\n",
    "class Book:\n",
    "    Book_name : str\n",
    "    Author    : str\n",
    "    price     : float"
   ]
  },
  {
   "cell_type": "code",
   "execution_count": 5,
   "id": "277f1c52-00ce-4943-9b35-baeeb42263d7",
   "metadata": {},
   "outputs": [],
   "source": [
    "book = Book(Book_name = \"logic first\",Author = \"Dennis\", price = 99.9)"
   ]
  },
  {
   "cell_type": "code",
   "execution_count": 6,
   "id": "e56df801-f461-48c4-b799-f29bb157380c",
   "metadata": {},
   "outputs": [
    {
     "name": "stdout",
     "output_type": "stream",
     "text": [
      "Book(Book_name='logic first', Author='Dennis', price=99.9)\n"
     ]
    }
   ],
   "source": [
    "print(book)"
   ]
  },
  {
   "cell_type": "code",
   "execution_count": null,
   "id": "ebb29399-cc2c-413e-8e40-f6e6e1aaf105",
   "metadata": {},
   "outputs": [],
   "source": []
  }
 ],
 "metadata": {
  "kernelspec": {
   "display_name": "Python 3 (ipykernel)",
   "language": "python",
   "name": "python3"
  },
  "language_info": {
   "codemirror_mode": {
    "name": "ipython",
    "version": 3
   },
   "file_extension": ".py",
   "mimetype": "text/x-python",
   "name": "python",
   "nbconvert_exporter": "python",
   "pygments_lexer": "ipython3",
   "version": "3.12.8"
  }
 },
 "nbformat": 4,
 "nbformat_minor": 5
}
