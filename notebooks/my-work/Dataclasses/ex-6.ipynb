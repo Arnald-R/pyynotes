{
 "cells": [
  {
   "cell_type": "code",
   "execution_count": null,
   "id": "b3ae6c7d-1a9e-42f6-8c7b-bfcbe5492193",
   "metadata": {},
   "outputs": [],
   "source": [
    "#created at 20250311"
   ]
  },
  {
   "cell_type": "code",
   "execution_count": null,
   "id": "4c5bafaa-7a30-4d37-8559-0cda95d9d579",
   "metadata": {},
   "outputs": [],
   "source": [
    "#https://stevejoe1412.gitbook.io/ssn/python-subtopics/3.-data-classes"
   ]
  },
  {
   "cell_type": "code",
   "execution_count": 1,
   "id": "2ec501d8-d3fc-4c0c-b1ee-bbf3942214f9",
   "metadata": {},
   "outputs": [],
   "source": [
    "#Default factory for Mutable Fields"
   ]
  },
  {
   "cell_type": "code",
   "execution_count": 4,
   "id": "5f0cf247-2364-4eb9-b7e9-7187033f2c39",
   "metadata": {},
   "outputs": [],
   "source": [
    "from dataclasses import dataclass,field"
   ]
  },
  {
   "cell_type": "code",
   "execution_count": 5,
   "id": "22625a6d-9960-4e4c-ac00-3abe8aaa3909",
   "metadata": {},
   "outputs": [],
   "source": [
    "from typing import List"
   ]
  },
  {
   "cell_type": "code",
   "execution_count": 10,
   "id": "612d2917-b6d3-4bc5-93c4-c8096b9e397b",
   "metadata": {},
   "outputs": [],
   "source": [
    "@dataclass\n",
    "class ShippingCart:\n",
    "    items : List[str] = field(default_factory = list)"
   ]
  },
  {
   "cell_type": "code",
   "execution_count": 13,
   "id": "7db3a19d-8358-4bff-a065-ed192ecd7693",
   "metadata": {},
   "outputs": [],
   "source": [
    "cart = ShippingCart()"
   ]
  },
  {
   "cell_type": "code",
   "execution_count": 14,
   "id": "62fe7f2f-668b-47a3-8bed-09f47f8e0ad1",
   "metadata": {},
   "outputs": [],
   "source": [
    "cart.items.append(\"Apple\")"
   ]
  },
  {
   "cell_type": "code",
   "execution_count": 15,
   "id": "8f4ed72f-3e1e-400b-88ea-56fe330a2642",
   "metadata": {},
   "outputs": [
    {
     "name": "stdout",
     "output_type": "stream",
     "text": [
      "ShippingCart(items=['Apple'])\n"
     ]
    }
   ],
   "source": [
    "print(cart)"
   ]
  },
  {
   "cell_type": "code",
   "execution_count": null,
   "id": "64c30f7e-4662-47d9-80cd-599edd729fc0",
   "metadata": {},
   "outputs": [],
   "source": []
  }
 ],
 "metadata": {
  "kernelspec": {
   "display_name": "Python 3 (ipykernel)",
   "language": "python",
   "name": "python3"
  },
  "language_info": {
   "codemirror_mode": {
    "name": "ipython",
    "version": 3
   },
   "file_extension": ".py",
   "mimetype": "text/x-python",
   "name": "python",
   "nbconvert_exporter": "python",
   "pygments_lexer": "ipython3",
   "version": "3.12.8"
  }
 },
 "nbformat": 4,
 "nbformat_minor": 5
}
