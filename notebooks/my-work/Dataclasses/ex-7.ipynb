{
 "cells": [
  {
   "cell_type": "code",
   "execution_count": null,
   "id": "80cdeaa8-6803-4185-b2c4-323fb2102823",
   "metadata": {},
   "outputs": [],
   "source": [
    "#created at 20250311"
   ]
  },
  {
   "cell_type": "code",
   "execution_count": null,
   "id": "c6d90913-24e9-42ea-aba5-01061c22e94d",
   "metadata": {},
   "outputs": [],
   "source": [
    "#https://stevejoe1412.gitbook.io/ssn/python-subtopics/3.-data-classes"
   ]
  },
  {
   "cell_type": "code",
   "execution_count": 1,
   "id": "51e8d207-ca0d-4cbf-b63a-2e08d98bbeb4",
   "metadata": {},
   "outputs": [],
   "source": [
    "from dataclasses import dataclass"
   ]
  },
  {
   "cell_type": "code",
   "execution_count": 8,
   "id": "bcbaaa71-3a82-4f41-a058-e51ad4670cc9",
   "metadata": {},
   "outputs": [],
   "source": [
    "@dataclass\n",
    "class User:\n",
    "    name : str\n",
    "    work : str = \"search\"\n",
    "\n",
    "    def __repr__(self):\n",
    "        return f\"User(name = '{self.name}')\""
   ]
  },
  {
   "cell_type": "code",
   "execution_count": 10,
   "id": "ba9a8ad2-5a86-48d7-bd09-45f9451bb104",
   "metadata": {},
   "outputs": [],
   "source": [
    "user = User(name =\"Arnald\")"
   ]
  },
  {
   "cell_type": "code",
   "execution_count": 11,
   "id": "ddfe0ce6-b501-4b8c-baa0-fd171a4fcf5c",
   "metadata": {},
   "outputs": [
    {
     "name": "stdout",
     "output_type": "stream",
     "text": [
      "User(name = 'Arnald')\n"
     ]
    }
   ],
   "source": [
    "print(user)"
   ]
  },
  {
   "cell_type": "code",
   "execution_count": null,
   "id": "59582b75-0fdd-4e7a-8bec-e0418d05f5f6",
   "metadata": {},
   "outputs": [],
   "source": []
  }
 ],
 "metadata": {
  "kernelspec": {
   "display_name": "Python 3 (ipykernel)",
   "language": "python",
   "name": "python3"
  },
  "language_info": {
   "codemirror_mode": {
    "name": "ipython",
    "version": 3
   },
   "file_extension": ".py",
   "mimetype": "text/x-python",
   "name": "python",
   "nbconvert_exporter": "python",
   "pygments_lexer": "ipython3",
   "version": "3.12.8"
  }
 },
 "nbformat": 4,
 "nbformat_minor": 5
}
