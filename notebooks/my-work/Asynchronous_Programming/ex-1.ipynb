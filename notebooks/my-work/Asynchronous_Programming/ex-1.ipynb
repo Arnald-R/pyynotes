{
 "cells": [
  {
   "cell_type": "code",
   "execution_count": 1,
   "id": "8c6b5e01-6a55-4d17-9749-0bfe898c85e9",
   "metadata": {},
   "outputs": [],
   "source": [
    "#created at 20250307"
   ]
  },
  {
   "cell_type": "code",
   "execution_count": 2,
   "id": "bd1ae133-a489-4367-a72f-0f483fcda036",
   "metadata": {},
   "outputs": [],
   "source": [
    "#https://stevejoe1412.gitbook.io/ssn/python-subtopics/asynchronous-programming"
   ]
  },
  {
   "cell_type": "code",
   "execution_count": 3,
   "id": "01c7980e-c7c6-4293-b278-3178983118c5",
   "metadata": {},
   "outputs": [],
   "source": [
    "#Basic async function"
   ]
  },
  {
   "cell_type": "code",
   "execution_count": 4,
   "id": "b57c7ad1-5475-45f9-be1d-1aa0ae643792",
   "metadata": {},
   "outputs": [],
   "source": [
    "import asyncio"
   ]
  },
  {
   "cell_type": "code",
   "execution_count": 3,
   "id": "15560684-e674-4edd-837d-b1e2089e907e",
   "metadata": {},
   "outputs": [],
   "source": [
    "async def say_hello():\n",
    "    print(\"Hello,World\")\n",
    "    await asyncio.asleep(1)\n",
    "    print(\"Good bye\")"
   ]
  },
  {
   "cell_type": "code",
   "execution_count": 5,
   "id": "f423f08f-af67-4685-b478-a68494f5ba84",
   "metadata": {},
   "outputs": [
    {
     "ename": "NameError",
     "evalue": "name 'asyncio' is not defined",
     "output_type": "error",
     "traceback": [
      "\u001b[0;31m---------------------------------------------------------------------------\u001b[0m",
      "\u001b[0;31mNameError\u001b[0m                                 Traceback (most recent call last)",
      "Cell \u001b[0;32mIn[5], line 1\u001b[0m\n\u001b[0;32m----> 1\u001b[0m \u001b[43masyncio\u001b[49m\u001b[38;5;241m.\u001b[39mrun(say_hello())\n",
      "\u001b[0;31mNameError\u001b[0m: name 'asyncio' is not defined"
     ]
    }
   ],
   "source": [
    "asyncio.run(say_hello())"
   ]
  },
  {
   "cell_type": "code",
   "execution_count": null,
   "id": "db4a3003-0328-443b-9cca-44d313b4b93d",
   "metadata": {},
   "outputs": [],
   "source": []
  },
  {
   "cell_type": "code",
   "execution_count": null,
   "id": "8153970a-d0b3-453d-a9f3-d56d772711fd",
   "metadata": {},
   "outputs": [],
   "source": []
  }
 ],
 "metadata": {
  "kernelspec": {
   "display_name": "Python 3 (ipykernel)",
   "language": "python",
   "name": "python3"
  },
  "language_info": {
   "codemirror_mode": {
    "name": "ipython",
    "version": 3
   },
   "file_extension": ".py",
   "mimetype": "text/x-python",
   "name": "python",
   "nbconvert_exporter": "python",
   "pygments_lexer": "ipython3",
   "version": "3.12.8"
  }
 },
 "nbformat": 4,
 "nbformat_minor": 5
}
