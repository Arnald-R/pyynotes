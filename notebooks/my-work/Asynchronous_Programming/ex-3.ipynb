{
 "cells": [
  {
   "cell_type": "code",
   "execution_count": 1,
   "id": "bb85eee8-08f1-4836-a1f6-9d99f0545554",
   "metadata": {},
   "outputs": [],
   "source": [
    "#created at 20250307"
   ]
  },
  {
   "cell_type": "code",
   "execution_count": 2,
   "id": "7ddd724e-767e-4e37-9cc0-d427edd595ab",
   "metadata": {},
   "outputs": [],
   "source": [
    "#https://stevejoe1412.gitbook.io/ssn/python-subtopics/2.-asynchronous-programming"
   ]
  },
  {
   "cell_type": "code",
   "execution_count": 3,
   "id": "80a65377-40e9-4084-a175-99ca8d834f54",
   "metadata": {},
   "outputs": [],
   "source": [
    "#using asyncio sleep for delays"
   ]
  },
  {
   "cell_type": "code",
   "execution_count": 4,
   "id": "f187d328-99af-475c-9726-fcf43420220b",
   "metadata": {},
   "outputs": [],
   "source": [
    "import asyncio"
   ]
  },
  {
   "cell_type": "code",
   "execution_count": 5,
   "id": "28804b06-5803-44f9-89d9-4d3b8f84c18b",
   "metadata": {},
   "outputs": [],
   "source": [
    "async def countdown(n:int):\n",
    "    while n > 0:\n",
    "        print(f\"the counting down {n}\")\n",
    "        await asyncio.sleep(1)\n",
    "        n -=1\n",
    "    print(\"countdown finished\")"
   ]
  },
  {
   "cell_type": "code",
   "execution_count": 6,
   "id": "0649c175-2df5-4f3f-91b3-d4817c8e044b",
   "metadata": {},
   "outputs": [
    {
     "ename": "AttributeError",
     "evalue": "module 'asyncio' has no attribute 'countdown'",
     "output_type": "error",
     "traceback": [
      "\u001b[0;31m---------------------------------------------------------------------------\u001b[0m",
      "\u001b[0;31mAttributeError\u001b[0m                            Traceback (most recent call last)",
      "Cell \u001b[0;32mIn[6], line 1\u001b[0m\n\u001b[0;32m----> 1\u001b[0m \u001b[43masyncio\u001b[49m\u001b[38;5;241;43m.\u001b[39;49m\u001b[43mcountdown\u001b[49m(\u001b[38;5;241m5\u001b[39m)\n",
      "\u001b[0;31mAttributeError\u001b[0m: module 'asyncio' has no attribute 'countdown'"
     ]
    }
   ],
   "source": [
    "asyncio.countdown(5)"
   ]
  },
  {
   "cell_type": "code",
   "execution_count": null,
   "id": "ece206f8-dc0c-420b-951c-057f97007890",
   "metadata": {},
   "outputs": [],
   "source": []
  }
 ],
 "metadata": {
  "kernelspec": {
   "display_name": "Python 3 (ipykernel)",
   "language": "python",
   "name": "python3"
  },
  "language_info": {
   "codemirror_mode": {
    "name": "ipython",
    "version": 3
   },
   "file_extension": ".py",
   "mimetype": "text/x-python",
   "name": "python",
   "nbconvert_exporter": "python",
   "pygments_lexer": "ipython3",
   "version": "3.12.8"
  }
 },
 "nbformat": 4,
 "nbformat_minor": 5
}
