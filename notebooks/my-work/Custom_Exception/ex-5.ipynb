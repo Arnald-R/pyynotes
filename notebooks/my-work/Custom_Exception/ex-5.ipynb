{
 "cells": [
  {
   "cell_type": "code",
   "execution_count": null,
   "id": "8c61c9ce-793f-4948-a7b2-e14273f86bf5",
   "metadata": {},
   "outputs": [],
   "source": [
    "#created at 20250315"
   ]
  },
  {
   "cell_type": "code",
   "execution_count": null,
   "id": "815a1787-cbef-4f95-bea1-c07ed6b35373",
   "metadata": {},
   "outputs": [],
   "source": [
    "#https://stevejoe1412.gitbook.io/ssn/python-subtopics/14.-custom-exceptions"
   ]
  },
  {
   "cell_type": "code",
   "execution_count": null,
   "id": "e2ac7a59-46d6-4b0f-bb46-13481edfabc0",
   "metadata": {},
   "outputs": [],
   "source": [
    "#Custom Exception with Multiple Errors"
   ]
  },
  {
   "cell_type": "code",
   "execution_count": 1,
   "id": "28cfff10-d747-4ec2-9fbb-35464ba01748",
   "metadata": {},
   "outputs": [],
   "source": [
    "class FileReadError(Exception):\n",
    "    pass"
   ]
  },
  {
   "cell_type": "code",
   "execution_count": 2,
   "id": "de53e09b-96bc-4db0-b263-4100a56d268f",
   "metadata": {},
   "outputs": [],
   "source": [
    "class FileWriteError(Exception):\n",
    "    pass"
   ]
  },
  {
   "cell_type": "code",
   "execution_count": 3,
   "id": "b3330027-eb52-466d-9e79-af2f96fdffbb",
   "metadata": {},
   "outputs": [],
   "source": [
    "def read_file(file_path):\n",
    "    try:\n",
    "        with open(file_path,\"r\") as file:\n",
    "            return file.read()\n",
    "    except FileNotFoundError:\n",
    "        return FileReadError(\"File not found during read operation\")\n",
    "    except PermissionError:\n",
    "        return FileReadError(\"Permission denied during read operation\")\n",
    "        "
   ]
  },
  {
   "cell_type": "code",
   "execution_count": 4,
   "id": "3474fca5-b007-4daf-91c6-8c065b06e939",
   "metadata": {},
   "outputs": [],
   "source": [
    "def write_file(file_path):\n",
    "    try:\n",
    "        with open(file_path,\"w\") as file:\n",
    "            file.write(content)\n",
    "    except PermissionError:\n",
    "        raise FileWriteError(\"Permission denied during write operation\")\n",
    "        "
   ]
  },
  {
   "cell_type": "code",
   "execution_count": 5,
   "id": "e4d3268e-5796-4683-a202-75effd551bc1",
   "metadata": {},
   "outputs": [],
   "source": [
    "try:\n",
    "    read_file(\"missing_file.txt\")\n",
    "except FileReadError as e:\n",
    "    print(f\"Read Error {e}\")"
   ]
  },
  {
   "cell_type": "code",
   "execution_count": 6,
   "id": "ff0a6e47-f51c-415f-bf25-92bcd0f3c0b4",
   "metadata": {},
   "outputs": [
    {
     "name": "stdout",
     "output_type": "stream",
     "text": [
      " Write error: Permission denied during write operation\n"
     ]
    }
   ],
   "source": [
    "try:\n",
    "    write_file(\"/restricted_file.txt\")\n",
    "except FileWriteError as e:\n",
    "    print(f\" Write error: {e}\")"
   ]
  },
  {
   "cell_type": "code",
   "execution_count": null,
   "id": "f79e97c7-9f2c-4f7c-8c40-00d6d4d21729",
   "metadata": {},
   "outputs": [],
   "source": []
  }
 ],
 "metadata": {
  "kernelspec": {
   "display_name": "Python 3 (ipykernel)",
   "language": "python",
   "name": "python3"
  },
  "language_info": {
   "codemirror_mode": {
    "name": "ipython",
    "version": 3
   },
   "file_extension": ".py",
   "mimetype": "text/x-python",
   "name": "python",
   "nbconvert_exporter": "python",
   "pygments_lexer": "ipython3",
   "version": "3.12.8"
  }
 },
 "nbformat": 4,
 "nbformat_minor": 5
}
