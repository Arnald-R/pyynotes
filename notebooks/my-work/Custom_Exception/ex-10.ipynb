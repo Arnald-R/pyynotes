{
 "cells": [
  {
   "cell_type": "code",
   "execution_count": null,
   "id": "8f9e62a4-47e6-457d-9e4e-4784a87ebc18",
   "metadata": {},
   "outputs": [],
   "source": [
    "#created at 20250315"
   ]
  },
  {
   "cell_type": "code",
   "execution_count": null,
   "id": "199f92bb-05ef-4cbd-b5df-47b2d3801dae",
   "metadata": {},
   "outputs": [],
   "source": [
    "#https://stevejoe1412.gitbook.io/ssn/python-subtopics/14.-custom-exceptions"
   ]
  },
  {
   "cell_type": "code",
   "execution_count": null,
   "id": "3aa5c371-ba49-4bd0-ac6e-9001ac8c1f00",
   "metadata": {},
   "outputs": [],
   "source": [
    "#Chaining Eceptions"
   ]
  },
  {
   "cell_type": "code",
   "execution_count": 6,
   "id": "bc4e99b0-07d5-4c31-bf0b-f929fa7e824c",
   "metadata": {},
   "outputs": [],
   "source": [
    "class InvalidValueError(Exception):\n",
    "    pass"
   ]
  },
  {
   "cell_type": "code",
   "execution_count": 10,
   "id": "e676813d-81c6-40a4-ab29-5c2d2875b174",
   "metadata": {},
   "outputs": [],
   "source": [
    "class InvalidOperationError(Exception):\n",
    "    pass\n",
    "    "
   ]
  },
  {
   "cell_type": "code",
   "execution_count": 11,
   "id": "05f183d3-bd26-407f-be86-a50aabec55da",
   "metadata": {},
   "outputs": [],
   "source": [
    "def perform_operation(a,b):\n",
    "    try:\n",
    "        if a < 0 or b < 0:\n",
    "            raise InvalidValueError(\"Negative numbers are not allowed\")\n",
    "        return a/b\n",
    "    except InvalidValueError as e:\n",
    "        raise InvalidOperationError(\"Operation failed due to Invalid values\") from e"
   ]
  },
  {
   "cell_type": "code",
   "execution_count": 12,
   "id": "a532b365-a308-4e86-86c3-79145155c8ef",
   "metadata": {},
   "outputs": [
    {
     "name": "stdout",
     "output_type": "stream",
     "text": [
      "Error:Operation failed due to Invalid values\n",
      "caused by: Negative numbers are not allowed\n"
     ]
    }
   ],
   "source": [
    "try :\n",
    "    perform_operation(-1,10)\n",
    "except InvalidOperationError as e:\n",
    "    print(f\"Error:{e}\")\n",
    "    print(f\"caused by: {e.__cause__}\")"
   ]
  },
  {
   "cell_type": "code",
   "execution_count": null,
   "id": "aef461af-3bd2-4ff6-9445-68b92e84b31e",
   "metadata": {},
   "outputs": [],
   "source": []
  },
  {
   "cell_type": "code",
   "execution_count": null,
   "id": "1d13411e-cd8f-4d37-bce4-334ee7a1a364",
   "metadata": {},
   "outputs": [],
   "source": []
  }
 ],
 "metadata": {
  "kernelspec": {
   "display_name": "Python 3 (ipykernel)",
   "language": "python",
   "name": "python3"
  },
  "language_info": {
   "codemirror_mode": {
    "name": "ipython",
    "version": 3
   },
   "file_extension": ".py",
   "mimetype": "text/x-python",
   "name": "python",
   "nbconvert_exporter": "python",
   "pygments_lexer": "ipython3",
   "version": "3.12.8"
  }
 },
 "nbformat": 4,
 "nbformat_minor": 5
}
