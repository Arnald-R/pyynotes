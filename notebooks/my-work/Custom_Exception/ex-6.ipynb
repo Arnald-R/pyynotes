{
 "cells": [
  {
   "cell_type": "code",
   "execution_count": null,
   "id": "a0bbf8e4-d7b6-4a27-88e2-92dbea478139",
   "metadata": {},
   "outputs": [],
   "source": [
    "#created at 20250315"
   ]
  },
  {
   "cell_type": "code",
   "execution_count": null,
   "id": "c5d49c85-249c-421f-872b-7ad6c519908d",
   "metadata": {},
   "outputs": [],
   "source": [
    "#https://stevejoe1412.gitbook.io/ssn/python-subtopics/14.-custom-exceptions"
   ]
  },
  {
   "cell_type": "code",
   "execution_count": null,
   "id": "378bc31e-c4a7-4aec-a25d-b45481913978",
   "metadata": {},
   "outputs": [],
   "source": [
    "#Custom Exception with Additional Data"
   ]
  },
  {
   "cell_type": "code",
   "execution_count": 9,
   "id": "4718b572-9390-42e2-8f46-20a9ef44f31d",
   "metadata": {},
   "outputs": [],
   "source": [
    "class InsufficientFundsError(Exception):\n",
    "    def __init__(self,balance,amount):\n",
    "        self.balance = balance\n",
    "        self.amount = amount\n",
    "        self.message = f\"Insufficent funds: Balance {balance} attempy withdraw {amount}\"\n",
    "        super().__init__(self.message)"
   ]
  },
  {
   "cell_type": "code",
   "execution_count": 10,
   "id": "43134e43-d660-4627-a494-fdc785fe74ad",
   "metadata": {},
   "outputs": [],
   "source": [
    "def withdraw(balance,amount):\n",
    "    if amount>balance:\n",
    "        raise InsufficientFundsError(balance,amount)\n",
    "    return balance - amount"
   ]
  },
  {
   "cell_type": "code",
   "execution_count": 11,
   "id": "67e85432-97ff-45cd-bfba-84c00455c34f",
   "metadata": {},
   "outputs": [
    {
     "name": "stdout",
     "output_type": "stream",
     "text": [
      "Error:Insufficent funds: Balance 50 attempy withdraw 100\n"
     ]
    }
   ],
   "source": [
    "try:\n",
    "    withdraw(50,100)\n",
    "except InsufficientFundsError as e :\n",
    "    print(f\"Error:{e}\")"
   ]
  },
  {
   "cell_type": "code",
   "execution_count": null,
   "id": "3b8ead22-a8fa-4f82-8954-c9e7982c4c9f",
   "metadata": {},
   "outputs": [],
   "source": []
  }
 ],
 "metadata": {
  "kernelspec": {
   "display_name": "Python 3 (ipykernel)",
   "language": "python",
   "name": "python3"
  },
  "language_info": {
   "codemirror_mode": {
    "name": "ipython",
    "version": 3
   },
   "file_extension": ".py",
   "mimetype": "text/x-python",
   "name": "python",
   "nbconvert_exporter": "python",
   "pygments_lexer": "ipython3",
   "version": "3.12.8"
  }
 },
 "nbformat": 4,
 "nbformat_minor": 5
}
