{
 "cells": [
  {
   "cell_type": "code",
   "execution_count": null,
   "id": "a0bbf8e4-d7b6-4a27-88e2-92dbea478139",
   "metadata": {},
   "outputs": [],
   "source": [
    "#created at 20250315"
   ]
  },
  {
   "cell_type": "code",
   "execution_count": null,
   "id": "c5d49c85-249c-421f-872b-7ad6c519908d",
   "metadata": {},
   "outputs": [],
   "source": [
    "#https://stevejoe1412.gitbook.io/ssn/python-subtopics/14.-custom-exceptions"
   ]
  },
  {
   "cell_type": "code",
   "execution_count": null,
   "id": "378bc31e-c4a7-4aec-a25d-b45481913978",
   "metadata": {},
   "outputs": [],
   "source": []
  },
  {
   "cell_type": "code",
   "execution_count": null,
   "id": "4718b572-9390-42e2-8f46-20a9ef44f31d",
   "metadata": {},
   "outputs": [],
   "source": []
  }
 ],
 "metadata": {
  "kernelspec": {
   "display_name": "Python 3 (ipykernel)",
   "language": "python",
   "name": "python3"
  },
  "language_info": {
   "codemirror_mode": {
    "name": "ipython",
    "version": 3
   },
   "file_extension": ".py",
   "mimetype": "text/x-python",
   "name": "python",
   "nbconvert_exporter": "python",
   "pygments_lexer": "ipython3",
   "version": "3.12.8"
  }
 },
 "nbformat": 4,
 "nbformat_minor": 5
}
