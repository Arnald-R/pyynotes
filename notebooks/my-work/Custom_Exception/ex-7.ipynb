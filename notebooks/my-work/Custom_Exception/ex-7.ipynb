{
 "cells": [
  {
   "cell_type": "code",
   "execution_count": null,
   "id": "7eaf3dbd-4cc3-4f91-8152-5ae8baf0a9a0",
   "metadata": {},
   "outputs": [],
   "source": [
    "#created at 20250315"
   ]
  },
  {
   "cell_type": "code",
   "execution_count": null,
   "id": "46e8acf1-2da6-4197-8721-aefc84f924a2",
   "metadata": {},
   "outputs": [],
   "source": [
    "#https://stevejoe1412.gitbook.io/ssn/python-subtopics/14.-custom-exceptions"
   ]
  },
  {
   "cell_type": "code",
   "execution_count": null,
   "id": "d451ee07-5f2b-4a90-9523-485f0ccbae5b",
   "metadata": {},
   "outputs": [],
   "source": []
  }
 ],
 "metadata": {
  "kernelspec": {
   "display_name": "Python 3 (ipykernel)",
   "language": "python",
   "name": "python3"
  },
  "language_info": {
   "codemirror_mode": {
    "name": "ipython",
    "version": 3
   },
   "file_extension": ".py",
   "mimetype": "text/x-python",
   "name": "python",
   "nbconvert_exporter": "python",
   "pygments_lexer": "ipython3",
   "version": "3.12.8"
  }
 },
 "nbformat": 4,
 "nbformat_minor": 5
}
