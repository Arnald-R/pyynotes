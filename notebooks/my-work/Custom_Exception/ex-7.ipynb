{
 "cells": [
  {
   "cell_type": "code",
   "execution_count": null,
   "id": "7eaf3dbd-4cc3-4f91-8152-5ae8baf0a9a0",
   "metadata": {},
   "outputs": [],
   "source": [
    "#created at 20250315"
   ]
  },
  {
   "cell_type": "code",
   "execution_count": null,
   "id": "46e8acf1-2da6-4197-8721-aefc84f924a2",
   "metadata": {},
   "outputs": [],
   "source": [
    "#https://stevejoe1412.gitbook.io/ssn/python-subtopics/14.-custom-exceptions"
   ]
  },
  {
   "cell_type": "code",
   "execution_count": null,
   "id": "d451ee07-5f2b-4a90-9523-485f0ccbae5b",
   "metadata": {},
   "outputs": [],
   "source": [
    "#custom Exception with repr method"
   ]
  },
  {
   "cell_type": "code",
   "execution_count": 1,
   "id": "1beb4bf3-3c7f-4e86-94bd-5b0ff6dbccb6",
   "metadata": {},
   "outputs": [],
   "source": [
    "class NegativeNumberError(Exception):\n",
    "    def __init__(self, number):\n",
    "        self.number = number\n",
    "        self.message = f\"Negative number is not allowed : {number}\"\n",
    "        super().__init__(self.message)\n",
    "\n",
    "    def __repr__(self):\n",
    "        return f\"NegativeNumberError({self.number!r})\""
   ]
  },
  {
   "cell_type": "code",
   "execution_count": 2,
   "id": "46fcd2f9-bce6-4abd-a72e-7a6cc17e29db",
   "metadata": {},
   "outputs": [],
   "source": [
    "def process_number(number):\n",
    "    if number < 0 :\n",
    "        raise NegativeNumberError(number)"
   ]
  },
  {
   "cell_type": "code",
   "execution_count": 3,
   "id": "7522907b-d62b-4bbd-9597-a16aa2cffba1",
   "metadata": {},
   "outputs": [
    {
     "name": "stdout",
     "output_type": "stream",
     "text": [
      "NegativeNumberError(-5)\n"
     ]
    }
   ],
   "source": [
    "try:\n",
    "    process_number(-5)\n",
    "except NegativeNumberError as e:\n",
    "    print(repr(e))"
   ]
  },
  {
   "cell_type": "code",
   "execution_count": null,
   "id": "e95eb177-874e-4ba3-ab13-6002606d165a",
   "metadata": {},
   "outputs": [],
   "source": []
  }
 ],
 "metadata": {
  "kernelspec": {
   "display_name": "Python 3 (ipykernel)",
   "language": "python",
   "name": "python3"
  },
  "language_info": {
   "codemirror_mode": {
    "name": "ipython",
    "version": 3
   },
   "file_extension": ".py",
   "mimetype": "text/x-python",
   "name": "python",
   "nbconvert_exporter": "python",
   "pygments_lexer": "ipython3",
   "version": "3.12.8"
  }
 },
 "nbformat": 4,
 "nbformat_minor": 5
}
