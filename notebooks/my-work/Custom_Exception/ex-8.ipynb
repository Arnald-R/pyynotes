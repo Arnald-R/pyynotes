{
 "cells": [
  {
   "cell_type": "code",
   "execution_count": null,
   "id": "02656187-348d-4340-8acc-5f90b615690f",
   "metadata": {},
   "outputs": [],
   "source": [
    "#created at 20250315"
   ]
  },
  {
   "cell_type": "code",
   "execution_count": null,
   "id": "993ed5d8-fa28-4c8a-8627-8094e96c5d25",
   "metadata": {},
   "outputs": [],
   "source": [
    "#https://stevejoe1412.gitbook.io/ssn/python-subtopics/14.-custom-exceptions"
   ]
  },
  {
   "cell_type": "code",
   "execution_count": null,
   "id": "f464dbbe-35bc-403f-8662-afbf62ac9484",
   "metadata": {},
   "outputs": [],
   "source": [
    "#custom Exception for Authentication failure"
   ]
  },
  {
   "cell_type": "code",
   "execution_count": 1,
   "id": "93d4f4a3-c4fa-4b3c-81e5-d3bfe1558edd",
   "metadata": {},
   "outputs": [],
   "source": [
    "class AuthenticationError(Exception):\n",
    "    def __init__(self, username):\n",
    "        self.username = username\n",
    "        self.message = f\"Authentication failed for user:{username}\"\n",
    "        super().__init__(self.message)"
   ]
  },
  {
   "cell_type": "code",
   "execution_count": 4,
   "id": "c6d65ad0-0f32-4b29-8144-d3692c7b855c",
   "metadata": {},
   "outputs": [],
   "source": [
    "def authenticate(user, password):\n",
    "    if user != \"admin\" or password !=\"password123\":\n",
    "        raise AuthenticationError(user)\n",
    "    print(\"Authenticated Successfully\")"
   ]
  },
  {
   "cell_type": "code",
   "execution_count": 5,
   "id": "a71b02fd-4969-4559-8f55-7445f83cee36",
   "metadata": {},
   "outputs": [
    {
     "name": "stdout",
     "output_type": "stream",
     "text": [
      "Error:Authentication failed for user:guest\n"
     ]
    }
   ],
   "source": [
    "try:\n",
    "    authenticate(\"guest\",\"wrongpassword\")\n",
    "except AuthenticationError as e:\n",
    "    print(f\"Error:{e}\")"
   ]
  },
  {
   "cell_type": "code",
   "execution_count": null,
   "id": "eb43685e-7be0-4601-8884-5bd1e0ab257c",
   "metadata": {},
   "outputs": [],
   "source": []
  }
 ],
 "metadata": {
  "kernelspec": {
   "display_name": "Python 3 (ipykernel)",
   "language": "python",
   "name": "python3"
  },
  "language_info": {
   "codemirror_mode": {
    "name": "ipython",
    "version": 3
   },
   "file_extension": ".py",
   "mimetype": "text/x-python",
   "name": "python",
   "nbconvert_exporter": "python",
   "pygments_lexer": "ipython3",
   "version": "3.12.8"
  }
 },
 "nbformat": 4,
 "nbformat_minor": 5
}
