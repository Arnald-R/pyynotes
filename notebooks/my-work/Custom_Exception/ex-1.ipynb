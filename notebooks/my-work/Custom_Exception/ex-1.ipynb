{
 "cells": [
  {
   "cell_type": "code",
   "execution_count": null,
   "id": "e1c610c6-bd77-4e2e-ac91-4c71101e46ca",
   "metadata": {},
   "outputs": [],
   "source": [
    "#created at 20250315"
   ]
  },
  {
   "cell_type": "code",
   "execution_count": null,
   "id": "0ef874e9-8f55-44fd-9f13-304a4e182f76",
   "metadata": {},
   "outputs": [],
   "source": [
    "#https://stevejoe1412.gitbook.io/ssn/python-subtopics/14.-custom-exceptions"
   ]
  },
  {
   "cell_type": "code",
   "execution_count": null,
   "id": "ffc96b75-22b3-4a37-a8b6-62f4a553e383",
   "metadata": {},
   "outputs": [],
   "source": [
    "#Basic Customer Exception"
   ]
  },
  {
   "cell_type": "code",
   "execution_count": 1,
   "id": "e826eeb5-e5fd-413d-a1ad-0765cbd31c76",
   "metadata": {},
   "outputs": [],
   "source": [
    "class MyCustomError(Exception):\n",
    "    pass"
   ]
  },
  {
   "cell_type": "code",
   "execution_count": 2,
   "id": "cf4ef92b-1c92-4328-985d-b57e6c4a0abd",
   "metadata": {},
   "outputs": [],
   "source": [
    "def divide(a,b):\n",
    "    if b == 0:\n",
    "        raise MyCustomError(\"Cannot divide by zero\")\n",
    "        return a/b"
   ]
  },
  {
   "cell_type": "code",
   "execution_count": 3,
   "id": "7b918615-5fb6-4d25-8e84-b8a11226fd41",
   "metadata": {},
   "outputs": [
    {
     "name": "stdout",
     "output_type": "stream",
     "text": [
      "Error :Cannot divide by zero\n"
     ]
    }
   ],
   "source": [
    "try:\n",
    "    result = divide(10,0)\n",
    "except MyCustomError as e:\n",
    "    print(f\"Error :{e}\")"
   ]
  },
  {
   "cell_type": "code",
   "execution_count": null,
   "id": "17eb2eab-f4aa-4583-8f07-27db30281751",
   "metadata": {},
   "outputs": [],
   "source": []
  }
 ],
 "metadata": {
  "kernelspec": {
   "display_name": "Python 3 (ipykernel)",
   "language": "python",
   "name": "python3"
  },
  "language_info": {
   "codemirror_mode": {
    "name": "ipython",
    "version": 3
   },
   "file_extension": ".py",
   "mimetype": "text/x-python",
   "name": "python",
   "nbconvert_exporter": "python",
   "pygments_lexer": "ipython3",
   "version": "3.12.8"
  }
 },
 "nbformat": 4,
 "nbformat_minor": 5
}
