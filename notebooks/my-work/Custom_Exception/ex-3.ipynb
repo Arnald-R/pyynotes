{
 "cells": [
  {
   "cell_type": "code",
   "execution_count": null,
   "id": "39c953d5-077d-4586-b9c0-043daf109fa1",
   "metadata": {},
   "outputs": [],
   "source": [
    "#created at 20250315"
   ]
  },
  {
   "cell_type": "code",
   "execution_count": null,
   "id": "dccfc8d9-e1a5-4951-bcda-8720f9c2ff73",
   "metadata": {},
   "outputs": [],
   "source": [
    "#https://stevejoe1412.gitbook.io/ssn/python-subtopics/14.-custom-exceptions"
   ]
  },
  {
   "cell_type": "code",
   "execution_count": null,
   "id": "bc5aaf82-875d-415c-92af-39f68802b49e",
   "metadata": {},
   "outputs": [],
   "source": [
    "#Custom Exception with Errorcode"
   ]
  },
  {
   "cell_type": "code",
   "execution_count": 2,
   "id": "fff9d9e8-8a25-4102-a08c-8a3d7350b44b",
   "metadata": {},
   "outputs": [],
   "source": [
    "class InvalidErrorException(Exception):\n",
    "    def __init__(self, value ,code, message = \"Invalid value provided\"):\n",
    "        self.value = value\n",
    "        self.code = code\n",
    "        self.message = message\n",
    "        super().__init__(self.message)\n",
    "\n",
    "    def __str__(self):\n",
    "        return f\"[Error Code {self.code}] {self.message} {self.value}\""
   ]
  },
  {
   "cell_type": "code",
   "execution_count": 3,
   "id": "62a6383f-00fa-4d21-9a03-0da22fe84152",
   "metadata": {},
   "outputs": [],
   "source": [
    "def process_value(value):\n",
    "    if value < 0:\n",
    "        raise InvaildValueError(value, 404)\n",
    "    return value * 2"
   ]
  },
  {
   "cell_type": "code",
   "execution_count": 5,
   "id": "77ca56b6-a6d2-4118-9e7d-b2213dd770af",
   "metadata": {},
   "outputs": [
    {
     "ename": "NameError",
     "evalue": "name 'InvalidValueError' is not defined",
     "output_type": "error",
     "traceback": [
      "\u001b[0;31m---------------------------------------------------------------------------\u001b[0m",
      "\u001b[0;31mNameError\u001b[0m                                 Traceback (most recent call last)",
      "Cell \u001b[0;32mIn[5], line 2\u001b[0m\n\u001b[1;32m      1\u001b[0m \u001b[38;5;28;01mtry\u001b[39;00m :\n\u001b[0;32m----> 2\u001b[0m     \u001b[43mprocess_value\u001b[49m\u001b[43m(\u001b[49m\u001b[38;5;241;43m-\u001b[39;49m\u001b[38;5;241;43m1\u001b[39;49m\u001b[43m)\u001b[49m\n\u001b[1;32m      3\u001b[0m \u001b[38;5;28;01mexcept\u001b[39;00m InvalidValueError \u001b[38;5;28;01mas\u001b[39;00m e:\n",
      "Cell \u001b[0;32mIn[3], line 3\u001b[0m, in \u001b[0;36mprocess_value\u001b[0;34m(value)\u001b[0m\n\u001b[1;32m      2\u001b[0m \u001b[38;5;28;01mif\u001b[39;00m value \u001b[38;5;241m<\u001b[39m \u001b[38;5;241m0\u001b[39m:\n\u001b[0;32m----> 3\u001b[0m     \u001b[38;5;28;01mraise\u001b[39;00m \u001b[43mInvaildValueError\u001b[49m(value, \u001b[38;5;241m404\u001b[39m)\n\u001b[1;32m      4\u001b[0m \u001b[38;5;28;01mreturn\u001b[39;00m value \u001b[38;5;241m*\u001b[39m \u001b[38;5;241m2\u001b[39m\n",
      "\u001b[0;31mNameError\u001b[0m: name 'InvaildValueError' is not defined",
      "\nDuring handling of the above exception, another exception occurred:\n",
      "\u001b[0;31mNameError\u001b[0m                                 Traceback (most recent call last)",
      "Cell \u001b[0;32mIn[5], line 3\u001b[0m\n\u001b[1;32m      1\u001b[0m \u001b[38;5;28;01mtry\u001b[39;00m :\n\u001b[1;32m      2\u001b[0m     process_value(\u001b[38;5;241m-\u001b[39m\u001b[38;5;241m1\u001b[39m)\n\u001b[0;32m----> 3\u001b[0m \u001b[38;5;28;01mexcept\u001b[39;00m \u001b[43mInvalidValueError\u001b[49m \u001b[38;5;28;01mas\u001b[39;00m e:\n\u001b[1;32m      4\u001b[0m     \u001b[38;5;28mprint\u001b[39m(\u001b[38;5;124mf\u001b[39m\u001b[38;5;124m\"\u001b[39m\u001b[38;5;124mError : \u001b[39m\u001b[38;5;132;01m{\u001b[39;00me\u001b[38;5;132;01m}\u001b[39;00m\u001b[38;5;124m\"\u001b[39m)\n",
      "\u001b[0;31mNameError\u001b[0m: name 'InvalidValueError' is not defined"
     ]
    }
   ],
   "source": [
    "try :\n",
    "    process_value(-1)\n",
    "except InvalidValueError as e:\n",
    "    print(f\"Error : {e}\")"
   ]
  },
  {
   "cell_type": "code",
   "execution_count": null,
   "id": "8943718a-9033-4161-866e-1c38e37adf8d",
   "metadata": {},
   "outputs": [],
   "source": []
  }
 ],
 "metadata": {
  "kernelspec": {
   "display_name": "Python 3 (ipykernel)",
   "language": "python",
   "name": "python3"
  },
  "language_info": {
   "codemirror_mode": {
    "name": "ipython",
    "version": 3
   },
   "file_extension": ".py",
   "mimetype": "text/x-python",
   "name": "python",
   "nbconvert_exporter": "python",
   "pygments_lexer": "ipython3",
   "version": "3.12.8"
  }
 },
 "nbformat": 4,
 "nbformat_minor": 5
}
