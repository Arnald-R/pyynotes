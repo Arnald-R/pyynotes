{
 "cells": [
  {
   "cell_type": "code",
   "execution_count": null,
   "id": "9de26e84-d6dc-41f6-a70b-31402d6bc5ed",
   "metadata": {},
   "outputs": [],
   "source": [
    "#created at 20250318"
   ]
  },
  {
   "cell_type": "code",
   "execution_count": null,
   "id": "2ed49f9b-235e-494e-b9a3-9ae8b14ec759",
   "metadata": {},
   "outputs": [],
   "source": [
    "#https://stevejoe1412.gitbook.io/ssn/python-subtopics/15.-slot-classes"
   ]
  },
  {
   "cell_type": "code",
   "execution_count": null,
   "id": "c244d169-dc6d-40c6-b6d1-bc75228c50c6",
   "metadata": {},
   "outputs": [],
   "source": [
    "#using __slots__ for Larger classes"
   ]
  },
  {
   "cell_type": "code",
   "execution_count": 1,
   "id": "45aec4b7-decd-4a1a-b2ef-506a7f945f40",
   "metadata": {},
   "outputs": [],
   "source": [
    "class Product():\n",
    "    __slots__ = ['product_id','product_name','price','category']\n",
    "\n",
    "    def __init__(self,product_id,product_name,price,category):\n",
    "        self.product_id = product_id\n",
    "        self.product_name = product_name\n",
    "        self.price = price\n",
    "        self.category =category"
   ]
  },
  {
   "cell_type": "code",
   "execution_count": 2,
   "id": "b3d4420b-76e6-4cde-aa88-21a28176973a",
   "metadata": {},
   "outputs": [],
   "source": [
    "product = Product(1,\"Laptop\",39000,\"Electronics\")"
   ]
  },
  {
   "cell_type": "code",
   "execution_count": 3,
   "id": "08626672-323d-4f21-8e93-986dc5102541",
   "metadata": {},
   "outputs": [
    {
     "name": "stdout",
     "output_type": "stream",
     "text": [
      "Laptop\n"
     ]
    }
   ],
   "source": [
    "print(product.product_name)"
   ]
  },
  {
   "cell_type": "code",
   "execution_count": null,
   "id": "d7afa389-7a70-431b-88aa-3b24578ccceb",
   "metadata": {},
   "outputs": [],
   "source": []
  }
 ],
 "metadata": {
  "kernelspec": {
   "display_name": "Python 3 (ipykernel)",
   "language": "python",
   "name": "python3"
  },
  "language_info": {
   "codemirror_mode": {
    "name": "ipython",
    "version": 3
   },
   "file_extension": ".py",
   "mimetype": "text/x-python",
   "name": "python",
   "nbconvert_exporter": "python",
   "pygments_lexer": "ipython3",
   "version": "3.12.8"
  }
 },
 "nbformat": 4,
 "nbformat_minor": 5
}
