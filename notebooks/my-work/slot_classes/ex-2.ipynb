{
 "cells": [
  {
   "cell_type": "code",
   "execution_count": null,
   "id": "25650f25-941c-4d81-ab32-2fbd43a1433d",
   "metadata": {},
   "outputs": [],
   "source": [
    "#created at 20250318"
   ]
  },
  {
   "cell_type": "code",
   "execution_count": null,
   "id": "51940605-cb18-4dff-b73c-1a800fc9480a",
   "metadata": {},
   "outputs": [],
   "source": [
    "#https://stevejoe1412.gitbook.io/ssn/python-subtopics/15.-slot-classes"
   ]
  },
  {
   "cell_type": "code",
   "execution_count": null,
   "id": "1ee932c7-7016-44eb-ae09-23eefa16532c",
   "metadata": {},
   "outputs": [],
   "source": [
    "#Memory Optimization with slots"
   ]
  },
  {
   "cell_type": "code",
   "execution_count": 1,
   "id": "322283fd-1257-492b-9103-36056a47d339",
   "metadata": {},
   "outputs": [],
   "source": [
    "import sys"
   ]
  },
  {
   "cell_type": "code",
   "execution_count": 2,
   "id": "70796408-af40-423d-bba9-141ab1fb8fa6",
   "metadata": {},
   "outputs": [],
   "source": [
    "class Person:\n",
    "    __slots__ = ['name','age']\n",
    "\n",
    "    def __init__(self, name, age):\n",
    "        self.name = name\n",
    "        self.age = age"
   ]
  },
  {
   "cell_type": "code",
   "execution_count": 3,
   "id": "dd95bd62-43b0-4357-8b41-39d5751ca276",
   "metadata": {},
   "outputs": [],
   "source": [
    "person = Person(\"Arnald\", 23)"
   ]
  },
  {
   "cell_type": "code",
   "execution_count": 4,
   "id": "853e07aa-6c17-4609-8f2f-c34faff2ea96",
   "metadata": {},
   "outputs": [
    {
     "name": "stdout",
     "output_type": "stream",
     "text": [
      "48\n"
     ]
    }
   ],
   "source": [
    "print(sys.getsizeof(person))"
   ]
  },
  {
   "cell_type": "code",
   "execution_count": null,
   "id": "555ea30d-a648-4d1f-b5dc-072e963f2257",
   "metadata": {},
   "outputs": [],
   "source": [
    "#without __slots__"
   ]
  },
  {
   "cell_type": "code",
   "execution_count": 5,
   "id": "ccb3218d-a1b7-4fcc-80fa-aa27e1d6aaa7",
   "metadata": {},
   "outputs": [],
   "source": [
    "class PersonWithoutslots:\n",
    "    def __init__ (self,name,age):\n",
    "        self.name = name\n",
    "        self.age = age"
   ]
  },
  {
   "cell_type": "code",
   "execution_count": 7,
   "id": "cb9d9bac-152a-46a6-9c4c-4c377a1e0e50",
   "metadata": {},
   "outputs": [],
   "source": [
    "personwithoutslots = PersonWithoutslots(\"Arnald\",23)"
   ]
  },
  {
   "cell_type": "code",
   "execution_count": 9,
   "id": "597d38d5-bb1c-4320-8727-1672a21ab8bc",
   "metadata": {},
   "outputs": [
    {
     "name": "stdout",
     "output_type": "stream",
     "text": [
      "48\n"
     ]
    }
   ],
   "source": [
    "print(sys.getsizeof(personwithoutslots))"
   ]
  },
  {
   "cell_type": "code",
   "execution_count": null,
   "id": "819511de-9619-444c-bf89-4a98339868c1",
   "metadata": {},
   "outputs": [],
   "source": []
  }
 ],
 "metadata": {
  "kernelspec": {
   "display_name": "Python 3 (ipykernel)",
   "language": "python",
   "name": "python3"
  },
  "language_info": {
   "codemirror_mode": {
    "name": "ipython",
    "version": 3
   },
   "file_extension": ".py",
   "mimetype": "text/x-python",
   "name": "python",
   "nbconvert_exporter": "python",
   "pygments_lexer": "ipython3",
   "version": "3.12.8"
  }
 },
 "nbformat": 4,
 "nbformat_minor": 5
}
