{
 "cells": [
  {
   "cell_type": "code",
   "execution_count": null,
   "id": "ec6f3e91-b69d-4bad-b530-98c1e02c29a7",
   "metadata": {},
   "outputs": [],
   "source": [
    "#created at 20250318"
   ]
  },
  {
   "cell_type": "code",
   "execution_count": null,
   "id": "ef1d4bf9-afcc-4e0e-97df-3ac3e1bffe61",
   "metadata": {},
   "outputs": [],
   "source": [
    "#https://stevejoe1412.gitbook.io/ssn/python-subtopics/15.-slot-classes"
   ]
  },
  {
   "cell_type": "code",
   "execution_count": null,
   "id": "82b90a75-54e3-481f-8527-1565759630ab",
   "metadata": {},
   "outputs": [],
   "source": [
    "#__slots__ in combination with __dict__"
   ]
  },
  {
   "cell_type": "code",
   "execution_count": 1,
   "id": "b684ccd4-9bf3-4d6b-9195-6afad09f1e99",
   "metadata": {},
   "outputs": [],
   "source": [
    "class Employee():\n",
    "    __slots__ = ['name','position']\n",
    "\n",
    "    def __init__(self,name,position):\n",
    "        self.name = name\n",
    "        self.position = position"
   ]
  },
  {
   "cell_type": "code",
   "execution_count": 3,
   "id": "14cceb38-abff-45e3-8958-ccbca109d821",
   "metadata": {},
   "outputs": [],
   "source": [
    "emp = Employee(\"Arnald\",\"Python Develeoper\")"
   ]
  },
  {
   "cell_type": "code",
   "execution_count": 5,
   "id": "5707a1d7-f330-446a-b47a-c71b2e304c54",
   "metadata": {},
   "outputs": [
    {
     "ename": "AttributeError",
     "evalue": "'Employee' object has no attribute '__dict__'",
     "output_type": "error",
     "traceback": [
      "\u001b[0;31m---------------------------------------------------------------------------\u001b[0m",
      "\u001b[0;31mAttributeError\u001b[0m                            Traceback (most recent call last)",
      "Cell \u001b[0;32mIn[5], line 1\u001b[0m\n\u001b[0;32m----> 1\u001b[0m \u001b[38;5;28mprint\u001b[39m(\u001b[43memp\u001b[49m\u001b[38;5;241;43m.\u001b[39;49m\u001b[38;5;18;43m__dict__\u001b[39;49m)\n",
      "\u001b[0;31mAttributeError\u001b[0m: 'Employee' object has no attribute '__dict__'"
     ]
    }
   ],
   "source": [
    "print(emp.__dict__)"
   ]
  },
  {
   "cell_type": "code",
   "execution_count": null,
   "id": "f9ad504e-e2f3-4f02-b53b-1ad081c0de61",
   "metadata": {},
   "outputs": [],
   "source": []
  }
 ],
 "metadata": {
  "kernelspec": {
   "display_name": "Python 3 (ipykernel)",
   "language": "python",
   "name": "python3"
  },
  "language_info": {
   "codemirror_mode": {
    "name": "ipython",
    "version": 3
   },
   "file_extension": ".py",
   "mimetype": "text/x-python",
   "name": "python",
   "nbconvert_exporter": "python",
   "pygments_lexer": "ipython3",
   "version": "3.12.8"
  }
 },
 "nbformat": 4,
 "nbformat_minor": 5
}
