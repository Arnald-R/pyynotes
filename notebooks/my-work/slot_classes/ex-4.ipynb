{
 "cells": [
  {
   "cell_type": "code",
   "execution_count": null,
   "id": "8caa801a-9819-4440-939a-88c6aeba7c45",
   "metadata": {},
   "outputs": [],
   "source": [
    "#created at 20250318"
   ]
  },
  {
   "cell_type": "code",
   "execution_count": null,
   "id": "7dccb4c0-b348-415d-ad38-2c0e4427d595",
   "metadata": {},
   "outputs": [],
   "source": [
    "#https://stevejoe1412.gitbook.io/ssn/python-subtopics/15.-slot-classes"
   ]
  },
  {
   "cell_type": "code",
   "execution_count": null,
   "id": "3ff1ffd1-4bb3-47c7-a786-86239a183a03",
   "metadata": {},
   "outputs": [],
   "source": [
    "#Using __slots__ with Inheritance"
   ]
  },
  {
   "cell_type": "code",
   "execution_count": 1,
   "id": "0506c4f8-7a09-4f82-b5f0-f7b70a5abec3",
   "metadata": {},
   "outputs": [],
   "source": [
    "class Vehicle:\n",
    "    __slots__ = ['make','model']\n",
    "\n",
    "    def __init__ (self,make,model):\n",
    "        self.make = make\n",
    "        self.model = model\n",
    "        "
   ]
  },
  {
   "cell_type": "code",
   "execution_count": null,
   "id": "3bd6b975-39fc-47fb-94f8-fcd3b4f8c536",
   "metadata": {},
   "outputs": [],
   "source": [
    "class Car(Vehicle):\n",
    "    __slots__ = ['year']\n",
    "\n",
    "    def __init__ (self,make,model,year):\n",
    "        self.make = make\n",
    "        self.model = model\n",
    "        self."
   ]
  }
 ],
 "metadata": {
  "kernelspec": {
   "display_name": "Python 3 (ipykernel)",
   "language": "python",
   "name": "python3"
  },
  "language_info": {
   "codemirror_mode": {
    "name": "ipython",
    "version": 3
   },
   "file_extension": ".py",
   "mimetype": "text/x-python",
   "name": "python",
   "nbconvert_exporter": "python",
   "pygments_lexer": "ipython3",
   "version": "3.12.8"
  }
 },
 "nbformat": 4,
 "nbformat_minor": 5
}
