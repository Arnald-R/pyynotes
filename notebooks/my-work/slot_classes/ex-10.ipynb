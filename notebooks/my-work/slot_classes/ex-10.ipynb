{
 "cells": [
  {
   "cell_type": "code",
   "execution_count": null,
   "id": "e985d32e-3471-42b0-887d-9e665024d6f9",
   "metadata": {},
   "outputs": [],
   "source": [
    "#created at 20250318"
   ]
  },
  {
   "cell_type": "code",
   "execution_count": null,
   "id": "5da583cc-fa72-401d-835e-de4d0cdf342d",
   "metadata": {},
   "outputs": [],
   "source": [
    "#https://stevejoe1412.gitbook.io/ssn/python-subtopics/15.-slot-classes"
   ]
  },
  {
   "cell_type": "code",
   "execution_count": null,
   "id": "83f8b545-d7fb-4117-a472-6bac45b90b4b",
   "metadata": {},
   "outputs": [],
   "source": [
    "#Trying to add New Attributes to a class with __slots__"
   ]
  },
  {
   "cell_type": "code",
   "execution_count": 1,
   "id": "2102d0c1-6c9b-4bb7-ba88-e6da61a01b42",
   "metadata": {},
   "outputs": [],
   "source": [
    "class Book:\n",
    "    __slots__ = ['title','Author']\n",
    "\n",
    "    def __init__(self,title,Author):\n",
    "        self.title = title\n",
    "        self.Author = Author"
   ]
  },
  {
   "cell_type": "code",
   "execution_count": 2,
   "id": "7aadc74e-a081-48e3-b491-db61a4d884f4",
   "metadata": {},
   "outputs": [],
   "source": [
    "book = Book(\"My book\",\"Dennis Retchie\")"
   ]
  },
  {
   "cell_type": "code",
   "execution_count": 3,
   "id": "10325ab8-9d43-4697-b75d-d263ded8d091",
   "metadata": {},
   "outputs": [
    {
     "name": "stdout",
     "output_type": "stream",
     "text": [
      "Error:'Book' object has no attribute 'publisher'\n"
     ]
    }
   ],
   "source": [
    "try:\n",
    "    book.publisher = \"Secker& Warburg\"\n",
    "except AttributeError as e:\n",
    "    print(f\"Error:{e}\")"
   ]
  },
  {
   "cell_type": "code",
   "execution_count": null,
   "id": "b468c32d-1fb1-40f7-9675-1b00317d9719",
   "metadata": {},
   "outputs": [],
   "source": []
  }
 ],
 "metadata": {
  "kernelspec": {
   "display_name": "Python 3 (ipykernel)",
   "language": "python",
   "name": "python3"
  },
  "language_info": {
   "codemirror_mode": {
    "name": "ipython",
    "version": 3
   },
   "file_extension": ".py",
   "mimetype": "text/x-python",
   "name": "python",
   "nbconvert_exporter": "python",
   "pygments_lexer": "ipython3",
   "version": "3.12.8"
  }
 },
 "nbformat": 4,
 "nbformat_minor": 5
}
