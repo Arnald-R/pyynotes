{
 "cells": [
  {
   "cell_type": "code",
   "execution_count": null,
   "id": "8de6bee7-c5d9-403f-9e26-554fea558931",
   "metadata": {},
   "outputs": [],
   "source": [
    "#created at 20250318"
   ]
  },
  {
   "cell_type": "code",
   "execution_count": null,
   "id": "eda63dd7-a22c-4a57-8a9b-e1912f953cc9",
   "metadata": {},
   "outputs": [],
   "source": [
    "#https://stevejoe1412.gitbook.io/ssn/python-subtopics/15.-slot-classes"
   ]
  },
  {
   "cell_type": "code",
   "execution_count": null,
   "id": "ac984c1f-e87e-407f-9b77-5a09fa029bb9",
   "metadata": {},
   "outputs": [],
   "source": [
    "#Dynamic Behaviour with __slots__"
   ]
  },
  {
   "cell_type": "code",
   "execution_count": 1,
   "id": "9be4e644-5643-47e2-ab4c-44bb30a5c3e0",
   "metadata": {},
   "outputs": [],
   "source": [
    "class Dynamicperson():\n",
    "    __slots__ =['name','age']\n",
    "\n",
    "    def __init__(self,name,age):\n",
    "        self.name = name\n",
    "        self.age = age"
   ]
  },
  {
   "cell_type": "code",
   "execution_count": 2,
   "id": "4c47fa68-5fcf-4a06-bc6e-fcbc57689508",
   "metadata": {},
   "outputs": [],
   "source": [
    "dp = Dynamicperson(\"Arnald\",23)"
   ]
  },
  {
   "cell_type": "code",
   "execution_count": 3,
   "id": "3e23e796-4bc1-4b41-999b-9ab593e7061b",
   "metadata": {},
   "outputs": [
    {
     "name": "stdout",
     "output_type": "stream",
     "text": [
      "error :'Dynamicperson' object has no attribute 'address'\n"
     ]
    }
   ],
   "source": [
    "try:\n",
    "    dp.address =\"2/69,poy\"\n",
    "except AttributeError as e:\n",
    "    print(f\"error :{e}\")"
   ]
  },
  {
   "cell_type": "code",
   "execution_count": null,
   "id": "f6482821-07b5-430a-8a9c-544715f6153e",
   "metadata": {},
   "outputs": [],
   "source": []
  }
 ],
 "metadata": {
  "kernelspec": {
   "display_name": "Python 3 (ipykernel)",
   "language": "python",
   "name": "python3"
  },
  "language_info": {
   "codemirror_mode": {
    "name": "ipython",
    "version": 3
   },
   "file_extension": ".py",
   "mimetype": "text/x-python",
   "name": "python",
   "nbconvert_exporter": "python",
   "pygments_lexer": "ipython3",
   "version": "3.12.8"
  }
 },
 "nbformat": 4,
 "nbformat_minor": 5
}
