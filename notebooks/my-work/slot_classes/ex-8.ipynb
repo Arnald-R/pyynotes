{
 "cells": [
  {
   "cell_type": "code",
   "execution_count": null,
   "id": "3a4299b3-48e5-4bfa-9e51-015d74ef4b1e",
   "metadata": {},
   "outputs": [],
   "source": [
    "#created at 20250318"
   ]
  },
  {
   "cell_type": "code",
   "execution_count": null,
   "id": "2a4c3547-6677-4df5-a81e-cba7d4e9b66d",
   "metadata": {},
   "outputs": [],
   "source": [
    "#https://stevejoe1412.gitbook.io/ssn/python-subtopics/15.-slot-classes"
   ]
  },
  {
   "cell_type": "code",
   "execution_count": null,
   "id": "173352be-e951-457d-9b7d-31ab70eb649a",
   "metadata": {},
   "outputs": [],
   "source": [
    "#Memory storage between __slots__ and normal classes"
   ]
  },
  {
   "cell_type": "code",
   "execution_count": 1,
   "id": "c2a913fd-700b-4ec2-b27f-f86ca58507dc",
   "metadata": {},
   "outputs": [],
   "source": [
    "import sys"
   ]
  },
  {
   "cell_type": "code",
   "execution_count": 2,
   "id": "b444c557-f6d1-48d4-bb5f-c7b3ef788584",
   "metadata": {},
   "outputs": [],
   "source": [
    "class withslots():\n",
    "    __slots__ =['a','b']\n",
    "    def __init__ (self,a,b):\n",
    "        self.a = a\n",
    "        self.b = b        "
   ]
  },
  {
   "cell_type": "code",
   "execution_count": 3,
   "id": "7a0112bc-d2ab-4d3c-8e60-914296c9a044",
   "metadata": {},
   "outputs": [],
   "source": [
    "class withoutslots():\n",
    "    def __init__ (self,a,b):\n",
    "        self.a = a\n",
    "        self.b = b\n",
    "        "
   ]
  },
  {
   "cell_type": "code",
   "execution_count": 4,
   "id": "a61ee972-267c-479c-87d1-aa67d746f3f1",
   "metadata": {},
   "outputs": [],
   "source": [
    "slot_obj = withslots(1,3)"
   ]
  },
  {
   "cell_type": "code",
   "execution_count": 5,
   "id": "87e544fc-4d2a-43fb-962f-ff1d0dd8eb1e",
   "metadata": {},
   "outputs": [],
   "source": [
    "without_obj = withoutslots(1,3)"
   ]
  },
  {
   "cell_type": "code",
   "execution_count": 6,
   "id": "16a69a52-6c2a-4afc-9d85-397af9ef4d14",
   "metadata": {},
   "outputs": [
    {
     "name": "stdout",
     "output_type": "stream",
     "text": [
      "slots object size:48\n"
     ]
    }
   ],
   "source": [
    "print(f\"slots object size:{sys.getsizeof (slot_obj)}\")"
   ]
  },
  {
   "cell_type": "code",
   "execution_count": 7,
   "id": "422b0e66-3604-4018-8c5c-d6136575f0e1",
   "metadata": {},
   "outputs": [
    {
     "name": "stdout",
     "output_type": "stream",
     "text": [
      "without slots obj size :48\n"
     ]
    }
   ],
   "source": [
    "print(f\"without slots obj size :{sys.getsizeof(without_obj)}\")"
   ]
  },
  {
   "cell_type": "code",
   "execution_count": null,
   "id": "9927872c-acbf-4adf-be1a-6bed5d002730",
   "metadata": {},
   "outputs": [],
   "source": []
  }
 ],
 "metadata": {
  "kernelspec": {
   "display_name": "Python 3 (ipykernel)",
   "language": "python",
   "name": "python3"
  },
  "language_info": {
   "codemirror_mode": {
    "name": "ipython",
    "version": 3
   },
   "file_extension": ".py",
   "mimetype": "text/x-python",
   "name": "python",
   "nbconvert_exporter": "python",
   "pygments_lexer": "ipython3",
   "version": "3.12.8"
  }
 },
 "nbformat": 4,
 "nbformat_minor": 5
}
