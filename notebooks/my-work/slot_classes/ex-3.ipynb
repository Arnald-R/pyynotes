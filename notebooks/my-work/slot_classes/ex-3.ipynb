{
 "cells": [
  {
   "cell_type": "code",
   "execution_count": null,
   "id": "54ef02a0-2c69-4e27-8bf0-4e560ccca69d",
   "metadata": {},
   "outputs": [],
   "source": [
    "#created at 20250318"
   ]
  },
  {
   "cell_type": "code",
   "execution_count": null,
   "id": "d6ef709f-1f71-42d7-bbc1-573c72c03873",
   "metadata": {},
   "outputs": [],
   "source": [
    "#https://stevejoe1412.gitbook.io/ssn/python-subtopics/15.-slot-classes"
   ]
  },
  {
   "cell_type": "code",
   "execution_count": null,
   "id": "8f4e11e3-984b-4073-ab8b-1c6c3fdd9f4e",
   "metadata": {},
   "outputs": [],
   "source": [
    "#Preventing dynamic attribute assignment"
   ]
  },
  {
   "cell_type": "code",
   "execution_count": 1,
   "id": "de9a0fd0-5984-423a-bd32-5af861e6ae80",
   "metadata": {},
   "outputs": [],
   "source": [
    "class Rectangle:\n",
    "    __slots__ = ['width', 'height']\n",
    "\n",
    "    def __init__(self,width,height):\n",
    "        self.width = width\n",
    "        self.height = height"
   ]
  },
  {
   "cell_type": "code",
   "execution_count": 2,
   "id": "70b6285e-8028-4a7e-bdf1-99749ae6d4dc",
   "metadata": {},
   "outputs": [],
   "source": [
    "r = Rectangle(5,10)\n"
   ]
  },
  {
   "cell_type": "code",
   "execution_count": 3,
   "id": "6979ea8a-8102-4372-af1e-655305d883f7",
   "metadata": {},
   "outputs": [
    {
     "name": "stdout",
     "output_type": "stream",
     "text": [
      "Error: 'Rectangle' object has no attribute 'color'\n"
     ]
    }
   ],
   "source": [
    "try:\n",
    "    r.color = 'red'\n",
    "except AttributeError as e:\n",
    "    print(f\"Error: {e}\")"
   ]
  },
  {
   "cell_type": "code",
   "execution_count": null,
   "id": "a686cfed-fa56-4a5c-9fc7-1abe2ed7013f",
   "metadata": {},
   "outputs": [],
   "source": []
  }
 ],
 "metadata": {
  "kernelspec": {
   "display_name": "Python 3 (ipykernel)",
   "language": "python",
   "name": "python3"
  },
  "language_info": {
   "codemirror_mode": {
    "name": "ipython",
    "version": 3
   },
   "file_extension": ".py",
   "mimetype": "text/x-python",
   "name": "python",
   "nbconvert_exporter": "python",
   "pygments_lexer": "ipython3",
   "version": "3.12.8"
  }
 },
 "nbformat": 4,
 "nbformat_minor": 5
}
