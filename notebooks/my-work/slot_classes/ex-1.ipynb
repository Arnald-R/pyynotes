{
 "cells": [
  {
   "cell_type": "code",
   "execution_count": null,
   "id": "088b43a0-4b02-4f71-863d-6a7e7802283b",
   "metadata": {},
   "outputs": [],
   "source": [
    "#created at 20250318"
   ]
  },
  {
   "cell_type": "code",
   "execution_count": null,
   "id": "72cdc6cc-72fa-4bbb-9ba7-b7c279c56c28",
   "metadata": {},
   "outputs": [],
   "source": [
    "#https://stevejoe1412.gitbook.io/ssn/python-subtopics/15.-slot-classes"
   ]
  },
  {
   "cell_type": "code",
   "execution_count": null,
   "id": "085b723e-f2e7-4e88-bf83-7f96e0324743",
   "metadata": {},
   "outputs": [],
   "source": [
    "#Basic use of __slots__"
   ]
  },
  {
   "cell_type": "code",
   "execution_count": 1,
   "id": "0c1ced77-4528-4e60-afe2-d6179b192675",
   "metadata": {},
   "outputs": [],
   "source": [
    "class Point:\n",
    "    __slot__ = ['x','y']\n",
    "\n",
    "    def __init__(self,x,y):\n",
    "        self.x = x\n",
    "        self.y = y\n",
    "        "
   ]
  },
  {
   "cell_type": "code",
   "execution_count": 2,
   "id": "a657036d-d0dc-44fc-916b-ff4d91dad2da",
   "metadata": {},
   "outputs": [],
   "source": [
    "p = Point(1,2)"
   ]
  },
  {
   "cell_type": "code",
   "execution_count": 3,
   "id": "edc349c7-9442-45b8-aceb-3e62206bd174",
   "metadata": {},
   "outputs": [
    {
     "name": "stdout",
     "output_type": "stream",
     "text": [
      "1 2\n"
     ]
    }
   ],
   "source": [
    "print(p.x,p.y)"
   ]
  },
  {
   "cell_type": "code",
   "execution_count": null,
   "id": "4fd36478-438e-40e0-9d61-919ac46106cf",
   "metadata": {},
   "outputs": [],
   "source": []
  }
 ],
 "metadata": {
  "kernelspec": {
   "display_name": "Python 3 (ipykernel)",
   "language": "python",
   "name": "python3"
  },
  "language_info": {
   "codemirror_mode": {
    "name": "ipython",
    "version": 3
   },
   "file_extension": ".py",
   "mimetype": "text/x-python",
   "name": "python",
   "nbconvert_exporter": "python",
   "pygments_lexer": "ipython3",
   "version": "3.12.8"
  }
 },
 "nbformat": 4,
 "nbformat_minor": 5
}
