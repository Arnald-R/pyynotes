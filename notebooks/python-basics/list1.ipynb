{
 "cells": [
  {
   "cell_type": "code",
   "execution_count": null,
   "id": "8b545e2b-1438-4a7d-846c-c1b7be7a1853",
   "metadata": {},
   "outputs": [],
   "source": [
    "#created at 20250203"
   ]
  },
  {
   "cell_type": "code",
   "execution_count": null,
   "id": "8faf0fe7-baa8-41ed-8e67-74f0837a9d52",
   "metadata": {},
   "outputs": [],
   "source": [
    "https://stevejoe1412.gitbook.io/ssn/python-subtopics/list-comprehensions"
   ]
  },
  {
   "cell_type": "code",
   "execution_count": null,
   "id": "45720c32-cda8-42a4-9289-b39429255636",
   "metadata": {},
   "outputs": [],
   "source": [
    "#Basic list comprehension"
   ]
  },
  {
   "cell_type": "code",
   "execution_count": 1,
   "id": "6ca4ecd1-b45a-4081-b469-a6d3d2e6b974",
   "metadata": {},
   "outputs": [],
   "source": [
    "squares = []\n",
    "for i in range(5):\n",
    "    squares.append(i**2)"
   ]
  },
  {
   "cell_type": "code",
   "execution_count": 2,
   "id": "0545e11f-0bb6-43a3-a121-f6fef2a88e40",
   "metadata": {},
   "outputs": [
    {
     "name": "stdout",
     "output_type": "stream",
     "text": [
      "[0, 1, 4, 9, 16]\n"
     ]
    }
   ],
   "source": [
    "squares = [i**2 for i in range(5)]\n",
    "print(squares)  # Output: [0, 1, 4, 9, 16]"
   ]
  },
  {
   "cell_type": "code",
   "execution_count": 3,
   "id": "a1dd9235-48b2-4499-a7e0-9e850c908352",
   "metadata": {},
   "outputs": [],
   "source": [
    "#list comprehension with conditional logic"
   ]
  },
  {
   "cell_type": "code",
   "execution_count": 4,
   "id": "b3a7f5f3-8f88-4fbc-a283-8b4e62e3276e",
   "metadata": {},
   "outputs": [
    {
     "name": "stdout",
     "output_type": "stream",
     "text": [
      "[0, 2, 4, 6, 8]\n"
     ]
    }
   ],
   "source": [
    "evens = [i for i in range(10) if i % 2 == 0]\n",
    "print(evens)  # Output: [0, 2, 4, 6, 8]"
   ]
  },
  {
   "cell_type": "code",
   "execution_count": null,
   "id": "4d576481-4870-4a73-8f83-01ac0d704bf1",
   "metadata": {},
   "outputs": [],
   "source": [
    "# Convert a list of strings to uppercase"
   ]
  },
  {
   "cell_type": "code",
   "execution_count": null,
   "id": "32694b43-e40c-49d2-8e65-ce560004c488",
   "metadata": {},
   "outputs": [],
   "source": [
    "words = ['hello', 'world', 'python']"
   ]
  },
  {
   "cell_type": "code",
   "execution_count": null,
   "id": "f10dcc6b-a438-495b-9434-c5655df3ca77",
   "metadata": {},
   "outputs": [],
   "source": [
    "uppercase_words = [word.upper() for word in words]"
   ]
  },
  {
   "cell_type": "code",
   "execution_count": null,
   "id": "7d95d8c3-ef3f-4492-a333-fd9cf72d9f9d",
   "metadata": {},
   "outputs": [],
   "source": [
    "print(uppercase_words)  # Output: ['HELLO', 'WORLD', 'PYTHON']"
   ]
  },
  {
   "cell_type": "code",
   "execution_count": null,
   "id": "77d7103b-4e33-41b0-a00b-98c517fab6c5",
   "metadata": {},
   "outputs": [],
   "source": []
  }
 ],
 "metadata": {
  "kernelspec": {
   "display_name": "Python 3 (ipykernel)",
   "language": "python",
   "name": "python3"
  },
  "language_info": {
   "codemirror_mode": {
    "name": "ipython",
    "version": 3
   },
   "file_extension": ".py",
   "mimetype": "text/x-python",
   "name": "python",
   "nbconvert_exporter": "python",
   "pygments_lexer": "ipython3",
   "version": "3.12.8"
  }
 },
 "nbformat": 4,
 "nbformat_minor": 5
}
