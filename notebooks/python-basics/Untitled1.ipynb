{
 "cells": [
  {
   "cell_type": "code",
   "execution_count": 1,
   "id": "34c3fb5e-76b1-478c-ab11-6df648e95679",
   "metadata": {},
   "outputs": [],
   "source": [
    "#created at 20250208"
   ]
  },
  {
   "cell_type": "code",
   "execution_count": null,
   "id": "538fb471-4a09-4486-8bfb-dc0861b068e1",
   "metadata": {},
   "outputs": [],
   "source": [
    "https://stevejoe1412.gitbook.io/python-basic-questions/list"
   ]
  },
  {
   "cell_type": "code",
   "execution_count": null,
   "id": "8cf04783-c64e-45b9-bdfc-085f3163b6de",
   "metadata": {},
   "outputs": [],
   "source": []
  }
 ],
 "metadata": {
  "kernelspec": {
   "display_name": "Python 3 (ipykernel)",
   "language": "python",
   "name": "python3"
  },
  "language_info": {
   "codemirror_mode": {
    "name": "ipython",
    "version": 3
   },
   "file_extension": ".py",
   "mimetype": "text/x-python",
   "name": "python",
   "nbconvert_exporter": "python",
   "pygments_lexer": "ipython3",
   "version": "3.12.8"
  }
 },
 "nbformat": 4,
 "nbformat_minor": 5
}
