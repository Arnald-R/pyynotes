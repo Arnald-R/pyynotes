{
 "cells": [
  {
   "cell_type": "code",
   "execution_count": 1,
   "id": "6c8e0cec-cbe9-4b14-a5e1-6a64d303f721",
   "metadata": {},
   "outputs": [],
   "source": [
    "#created at 20250130"
   ]
  },
  {
   "cell_type": "code",
   "execution_count": null,
   "id": "218315eb-9657-4ac7-a05a-015f7f27ffa9",
   "metadata": {},
   "outputs": [],
   "source": [
    "https://stevejoe1412.gitbook.io/ssn/python-subtopics/typing-module"
   ]
  },
  {
   "cell_type": "code",
   "execution_count": 2,
   "id": "be378c44-d028-4b32-8fab-eec8c71d55c9",
   "metadata": {},
   "outputs": [],
   "source": [
    "#using Tuple for fixed length sequences"
   ]
  },
  {
   "cell_type": "code",
   "execution_count": 3,
   "id": "200ba394-741d-4e6b-beac-8dc6742f2b3e",
   "metadata": {},
   "outputs": [],
   "source": [
    "from typing import Tuple"
   ]
  },
  {
   "cell_type": "code",
   "execution_count": 4,
   "id": "6df25365-afa8-40db-bf26-6bcee0929d31",
   "metadata": {},
   "outputs": [],
   "source": [
    "def process_coordinates(coords: Tuple[float, float]) -> str:\n",
    "    return f\"Latitude: {coords[0]},Latitude: {coords[0]}\""
   ]
  },
  {
   "cell_type": "code",
   "execution_count": 5,
   "id": "ad9a7d10-c41d-4c44-bb91-063e46f35d14",
   "metadata": {},
   "outputs": [
    {
     "name": "stdout",
     "output_type": "stream",
     "text": [
      "Latitude: 40.7128,Latitude: 40.7128\n"
     ]
    }
   ],
   "source": [
    "print(process_coordinates((40.7128, -74.0060)))"
   ]
  },
  {
   "cell_type": "code",
   "execution_count": 1,
   "id": "100d6838-3b8d-4852-9551-d3804dd9ec24",
   "metadata": {},
   "outputs": [],
   "source": [
    "#Using Any for Flexible Input\n"
   ]
  },
  {
   "cell_type": "code",
   "execution_count": 2,
   "id": "10693286-0a50-4896-8d5b-133f702f554c",
   "metadata": {},
   "outputs": [],
   "source": [
    "from typing import Any"
   ]
  },
  {
   "cell_type": "code",
   "execution_count": 3,
   "id": "17917e6c-9e1e-4420-904c-f9abd8deca64",
   "metadata": {},
   "outputs": [],
   "source": [
    "def stringify(value: Any) -> str:\n",
    "    return str(value)"
   ]
  },
  {
   "cell_type": "code",
   "execution_count": 4,
   "id": "00732e83-9bfc-4795-8b08-89f51f769cc7",
   "metadata": {},
   "outputs": [
    {
     "name": "stdout",
     "output_type": "stream",
     "text": [
      "43\n"
     ]
    }
   ],
   "source": [
    "print(stringify(43))"
   ]
  },
  {
   "cell_type": "code",
   "execution_count": 5,
   "id": "e3db071a-45b0-4de3-a523-bc72584f36f3",
   "metadata": {},
   "outputs": [
    {
     "name": "stdout",
     "output_type": "stream",
     "text": [
      "[1, 2, 3]\n"
     ]
    }
   ],
   "source": [
    "print(stringify([1,2,3]))"
   ]
  },
  {
   "cell_type": "code",
   "execution_count": 6,
   "id": "2bf51805-65ef-4f50-ad5f-10bced48524c",
   "metadata": {},
   "outputs": [],
   "source": [
    "#Using Literal for Specific Values"
   ]
  },
  {
   "cell_type": "code",
   "execution_count": 7,
   "id": "c977f799-8c70-4003-ba32-d3b0b3a6a3b8",
   "metadata": {},
   "outputs": [],
   "source": [
    "from typing import Literal"
   ]
  },
  {
   "cell_type": "code",
   "execution_count": 8,
   "id": "6b16ce09-99c5-4ce2-93b0-66636cacbd34",
   "metadata": {},
   "outputs": [],
   "source": [
    "def choose_plan(plan: Literal[\"free\", \"enterprise\", \"premium\"]) -> str: \n",
    "    return f\"you selected the {plan} plan.\""
   ]
  },
  {
   "cell_type": "code",
   "execution_count": 9,
   "id": "75f4d65c-c221-4e6e-b9ea-325ef34a72ab",
   "metadata": {},
   "outputs": [
    {
     "name": "stdout",
     "output_type": "stream",
     "text": [
      "you selected the premium plan.\n"
     ]
    }
   ],
   "source": [
    "print(choose_plan(\"premium\"))"
   ]
  },
  {
   "cell_type": "code",
   "execution_count": 10,
   "id": "2bf90b24-edb8-4e56-b22b-fc61694501fc",
   "metadata": {},
   "outputs": [],
   "source": [
    "#Using TypedDict for Structured Dictionaries"
   ]
  },
  {
   "cell_type": "code",
   "execution_count": 12,
   "id": "8ac82822-717e-44b7-b328-35b7ba680c68",
   "metadata": {},
   "outputs": [],
   "source": [
    "from typing import TypedDict"
   ]
  },
  {
   "cell_type": "code",
   "execution_count": 13,
   "id": "6e8a311a-fabd-498c-a716-a46199176888",
   "metadata": {},
   "outputs": [],
   "source": [
    "class User(TypedDict):\n",
    "    name: str\n",
    "    age: int\n",
    "    email: str"
   ]
  },
  {
   "cell_type": "code",
   "execution_count": 14,
   "id": "808b9cb6-22e6-4601-bcba-dfc86c5ff61c",
   "metadata": {},
   "outputs": [],
   "source": [
    "def display_user(user: User) -> str:\n",
    "    return f\"{user['name']}({user['age']}) can be reached at {user['email']}.\""
   ]
  },
  {
   "cell_type": "code",
   "execution_count": 15,
   "id": "03c0ab51-0a3a-421e-bbdf-0066925e8932",
   "metadata": {},
   "outputs": [],
   "source": [
    "user = {\"name\": \"Arnald\", \"age\": 22, \"email\": \"arnald642@gmail.com\"}"
   ]
  },
  {
   "cell_type": "code",
   "execution_count": 16,
   "id": "ba5fe3fc-1438-42e1-a70d-ae5e706c77f7",
   "metadata": {},
   "outputs": [
    {
     "name": "stdout",
     "output_type": "stream",
     "text": [
      "Arnald(22) can be reached at arnald642@gmail.com.\n"
     ]
    }
   ],
   "source": [
    "print(display_user(user))"
   ]
  },
  {
   "cell_type": "code",
   "execution_count": null,
   "id": "38e659f4-0d83-4879-b341-de49ebe849b6",
   "metadata": {},
   "outputs": [],
   "source": []
  }
 ],
 "metadata": {
  "kernelspec": {
   "display_name": "Python 3 (ipykernel)",
   "language": "python",
   "name": "python3"
  },
  "language_info": {
   "codemirror_mode": {
    "name": "ipython",
    "version": 3
   },
   "file_extension": ".py",
   "mimetype": "text/x-python",
   "name": "python",
   "nbconvert_exporter": "python",
   "pygments_lexer": "ipython3",
   "version": "3.12.8"
  }
 },
 "nbformat": 4,
 "nbformat_minor": 5
}
