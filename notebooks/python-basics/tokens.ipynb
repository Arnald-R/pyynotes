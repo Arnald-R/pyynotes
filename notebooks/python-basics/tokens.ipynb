{
 "cells": [
  {
   "cell_type": "code",
   "execution_count": null,
   "id": "d78ed286-180a-4634-9729-5a262fc5109e",
   "metadata": {},
   "outputs": [],
   "source": [
    "# created at : 20250118"
   ]
  },
  {
   "cell_type": "code",
   "execution_count": null,
   "id": "599abfed-466b-4011-873f-a2e7853c4769",
   "metadata": {},
   "outputs": [],
   "source": [
    "https://www.scientecheasy.com/2022/09/python-tokens.html/"
   ]
  },
  {
   "cell_type": "code",
   "execution_count": 1,
   "id": "0a244029-4301-4d2d-8cd7-903a36515eca",
   "metadata": {},
   "outputs": [],
   "source": [
    "# Python program to find the subtraction of two numbers."
   ]
  },
  {
   "cell_type": "code",
   "execution_count": 6,
   "id": "eb3c5c50-6eca-48a4-91c0-0e2830ddc866",
   "metadata": {},
   "outputs": [
    {
     "name": "stdin",
     "output_type": "stream",
     "text": [
      "Enter the first input : 12\n",
      "Enter the second input : 23\n"
     ]
    }
   ],
   "source": [
    "x = int(input(\"Enter the first input :\"))\n",
    "y = int(input(\"Enter the second input :\"))\n",
    "Sub = x-y"
   ]
  },
  {
   "cell_type": "code",
   "execution_count": 7,
   "id": "2cff0b7c-8f65-476a-8248-2417a45fb578",
   "metadata": {},
   "outputs": [
    {
     "name": "stdout",
     "output_type": "stream",
     "text": [
      "Result -11\n"
     ]
    }
   ],
   "source": [
    "print(\"Result\", Sub)"
   ]
  },
  {
   "cell_type": "raw",
   "id": "173629e5-77d2-48bb-b50e-09d1f714128b",
   "metadata": {},
   "source": []
  },
  {
   "cell_type": "code",
   "execution_count": null,
   "id": "1fa141ed-4fa6-4008-9550-ebf93c29c60c",
   "metadata": {},
   "outputs": [],
   "source": []
  }
 ],
 "metadata": {
  "kernelspec": {
   "display_name": "Python 3 (ipykernel)",
   "language": "python",
   "name": "python3"
  },
  "language_info": {
   "codemirror_mode": {
    "name": "ipython",
    "version": 3
   },
   "file_extension": ".py",
   "mimetype": "text/x-python",
   "name": "python",
   "nbconvert_exporter": "python",
   "pygments_lexer": "ipython3",
   "version": "3.12.8"
  }
 },
 "nbformat": 4,
 "nbformat_minor": 5
}
