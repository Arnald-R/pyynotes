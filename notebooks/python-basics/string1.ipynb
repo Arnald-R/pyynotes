{
 "cells": [
  {
   "cell_type": "code",
   "execution_count": 1,
   "id": "8c97172e-2778-466a-bbbc-9ccb94134862",
   "metadata": {},
   "outputs": [],
   "source": [
    "#created at 220250127"
   ]
  },
  {
   "cell_type": "code",
   "execution_count": null,
   "id": "52ec924a-327b-4a41-930f-c4cbbb908264",
   "metadata": {},
   "outputs": [],
   "source": [
    "https://stevejoe1412.gitbook.io/ssn/py-notes"
   ]
  },
  {
   "cell_type": "code",
   "execution_count": 2,
   "id": "62cd911c-79f2-47b0-850e-d931496b0ab9",
   "metadata": {},
   "outputs": [],
   "source": [
    "#remove first and last charcter in string + python"
   ]
  },
  {
   "cell_type": "code",
   "execution_count": 3,
   "id": "2789c18a-f13d-486e-b27c-96c8b9e992b4",
   "metadata": {},
   "outputs": [],
   "source": [
    "def remove_first_last_characters(string):\n",
    "    return string[1:-1]"
   ]
  },
  {
   "cell_type": "code",
   "execution_count": 4,
   "id": "da85699a-6dc4-4fe2-966e-5772998699a5",
   "metadata": {},
   "outputs": [],
   "source": [
    "original_string = \"hello\"\n"
   ]
  },
  {
   "cell_type": "code",
   "execution_count": null,
   "id": "45e21a6c-f4a4-4ff5-bd52-23c63f79f845",
   "metadata": {},
   "outputs": [],
   "source": []
  },
  {
   "cell_type": "code",
   "execution_count": null,
   "id": "75378ad1-deef-4a19-bba2-4e40133b70e1",
   "metadata": {},
   "outputs": [],
   "source": []
  },
  {
   "cell_type": "code",
   "execution_count": null,
   "id": "d8b6d834-ac71-4dc9-be92-02e960814ed7",
   "metadata": {},
   "outputs": [],
   "source": [
    "\n",
    "    \n",
    "\n",
    "# Example usage:\n",
    "modified_string = remove_first_last_characters(original_string)\n",
    "print(modified_string)  # Output: \"ell\"\n"
   ]
  },
  {
   "cell_type": "code",
   "execution_count": null,
   "id": "8814a64c-bde7-4bdf-af56-0e1430b8ba12",
   "metadata": {},
   "outputs": [],
   "source": []
  },
  {
   "cell_type": "code",
   "execution_count": null,
   "id": "f31b9b66-cbf5-4a7a-9525-afa1f2b00dde",
   "metadata": {},
   "outputs": [],
   "source": []
  },
  {
   "cell_type": "code",
   "execution_count": null,
   "id": "586d3e44-57a6-4f9e-ab00-29eabc34cc42",
   "metadata": {},
   "outputs": [],
   "source": []
  },
  {
   "cell_type": "code",
   "execution_count": null,
   "id": "50d513f9-d49a-40ba-8dec-78470c88692d",
   "metadata": {},
   "outputs": [],
   "source": []
  }
 ],
 "metadata": {
  "kernelspec": {
   "display_name": "Python 3 (ipykernel)",
   "language": "python",
   "name": "python3"
  },
  "language_info": {
   "codemirror_mode": {
    "name": "ipython",
    "version": 3
   },
   "file_extension": ".py",
   "mimetype": "text/x-python",
   "name": "python",
   "nbconvert_exporter": "python",
   "pygments_lexer": "ipython3",
   "version": "3.12.8"
  }
 },
 "nbformat": 4,
 "nbformat_minor": 5
}
