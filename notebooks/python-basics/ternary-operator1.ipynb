{
 "cells": [
  {
   "cell_type": "code",
   "execution_count": null,
   "id": "532744c4-81f3-4ec8-bdc8-bf6115081427",
   "metadata": {},
   "outputs": [],
   "source": [
    "#created at 20250122"
   ]
  },
  {
   "cell_type": "code",
   "execution_count": null,
   "id": "0aca6c2a-2053-423d-b57d-5e01ee97e95f",
   "metadata": {},
   "outputs": [],
   "source": [
    "http://scientecheasy.com/2022/10/ternary-operator-in-python.html/"
   ]
  },
  {
   "cell_type": "code",
   "execution_count": null,
   "id": "ac95136f-7141-43a3-9cfe-6478a64f0ec1",
   "metadata": {},
   "outputs": [],
   "source": [
    "#ternary operator\n",
    "#msg = 'Hello' if x > y else 'Goodbye'"
   ]
  },
  {
   "cell_type": "code",
   "execution_count": 4,
   "id": "c22442b0-d922-4a0a-9898-c3a512d2ecd2",
   "metadata": {},
   "outputs": [],
   "source": [
    "x = 20"
   ]
  },
  {
   "cell_type": "code",
   "execution_count": 8,
   "id": "38996ba7-7fa2-466a-b77d-f49ffc739812",
   "metadata": {},
   "outputs": [],
   "source": [
    "y = 23"
   ]
  },
  {
   "cell_type": "code",
   "execution_count": 9,
   "id": "4d837d39-b4d5-41c0-b7ed-b06d15272bc9",
   "metadata": {},
   "outputs": [],
   "source": [
    "msg = 'Hello' if x > y else 'Goodbye'\n"
   ]
  },
  {
   "cell_type": "code",
   "execution_count": 10,
   "id": "cca7114e-7324-4767-a7a7-48d908c32195",
   "metadata": {},
   "outputs": [
    {
     "name": "stdout",
     "output_type": "stream",
     "text": [
      "Goodbye\n"
     ]
    }
   ],
   "source": [
    "print(msg)"
   ]
  },
  {
   "cell_type": "code",
   "execution_count": 11,
   "id": "e708ba03-389d-4e9e-9b20-4379fe2d37e4",
   "metadata": {},
   "outputs": [
    {
     "name": "stdout",
     "output_type": "stream",
     "text": [
      "Hello\n"
     ]
    }
   ],
   "source": [
    "print('Hello' if True else 'Goodbye')"
   ]
  },
  {
   "cell_type": "raw",
   "id": "e7b83823-9434-4c29-8fae-760d0a7138e7",
   "metadata": {},
   "source": []
  },
  {
   "cell_type": "code",
   "execution_count": 12,
   "id": "f77919b9-6419-42a4-8ecf-44b04999f175",
   "metadata": {},
   "outputs": [
    {
     "name": "stdout",
     "output_type": "stream",
     "text": [
      "Goodbye\n"
     ]
    }
   ],
   "source": [
    "print('Hello' if False else 'Goodbye')"
   ]
  },
  {
   "cell_type": "code",
   "execution_count": 13,
   "id": "31772934-15ef-49f4-8c59-2dd6c06c6b91",
   "metadata": {},
   "outputs": [],
   "source": [
    "studentGrade = 43"
   ]
  },
  {
   "cell_type": "code",
   "execution_count": 15,
   "id": "57922aa9-cabd-47fc-90e6-fb03da1e1d08",
   "metadata": {},
   "outputs": [
    {
     "name": "stdout",
     "output_type": "stream",
     "text": [
      "Passed\n"
     ]
    }
   ],
   "source": [
    "print(\"Passed\" if (studentGrade >= 40) else \"Failed\")\n"
   ]
  },
  {
   "cell_type": "code",
   "execution_count": 16,
   "id": "90637c56-82b2-4a0d-902e-71af4911a230",
   "metadata": {},
   "outputs": [],
   "source": [
    "x, y =20, 30"
   ]
  },
  {
   "cell_type": "code",
   "execution_count": 17,
   "id": "be8ba9f7-5618-4579-9bc4-4606d353aa7e",
   "metadata": {},
   "outputs": [],
   "source": [
    "z = 30 if (x < y) else 50"
   ]
  },
  {
   "cell_type": "code",
   "execution_count": 18,
   "id": "107dbb02-0148-4a21-99e2-24b55a24aa25",
   "metadata": {},
   "outputs": [
    {
     "name": "stdout",
     "output_type": "stream",
     "text": [
      "30\n"
     ]
    }
   ],
   "source": [
    "print(z)"
   ]
  },
  {
   "cell_type": "code",
   "execution_count": 19,
   "id": "8ea00616-fc59-4a0e-8079-ee30a08b8d5b",
   "metadata": {},
   "outputs": [
    {
     "name": "stdin",
     "output_type": "stream",
     "text": [
      "Enter the first number: 23\n"
     ]
    }
   ],
   "source": [
    "num1 = int(input(\"Enter the first number:\"))"
   ]
  },
  {
   "cell_type": "code",
   "execution_count": 20,
   "id": "8c45866e-8187-42c9-837a-e338d667b12b",
   "metadata": {},
   "outputs": [
    {
     "name": "stdin",
     "output_type": "stream",
     "text": [
      "Enter the second number: 34\n"
     ]
    }
   ],
   "source": [
    "num2 = int(input(\"Enter the second number:\"))"
   ]
  },
  {
   "cell_type": "code",
   "execution_count": 21,
   "id": "e714e6b2-105a-443d-aeff-f2eea11a2833",
   "metadata": {},
   "outputs": [
    {
     "name": "stdin",
     "output_type": "stream",
     "text": [
      "Entr the third number: 25\n"
     ]
    }
   ],
   "source": [
    "num3 = int(input(\"Entr the third number:\"))"
   ]
  },
  {
   "cell_type": "code",
   "execution_count": 22,
   "id": "cc0974e8-a361-468a-9101-01af85a128d2",
   "metadata": {},
   "outputs": [],
   "source": [
    "greatest_num = (num1 if (num1 > num3) else num3) if (num1 > num2) else (num2 if (num2 > num3) else num3)"
   ]
  },
  {
   "cell_type": "code",
   "execution_count": 24,
   "id": "187172be-5285-44b2-b36d-c34de44fe0e7",
   "metadata": {},
   "outputs": [
    {
     "name": "stdout",
     "output_type": "stream",
     "text": [
      "The greatest number among three numbers:  34\n"
     ]
    }
   ],
   "source": [
    "print('The greatest number among three numbers: ', (greatest_num))\n"
   ]
  },
  {
   "cell_type": "code",
   "execution_count": null,
   "id": "e8e08eed-a157-4174-bb3e-405a518580e8",
   "metadata": {},
   "outputs": [],
   "source": []
  },
  {
   "cell_type": "code",
   "execution_count": null,
   "id": "2df7b132-815f-477f-88b4-6f17f25eba42",
   "metadata": {},
   "outputs": [],
   "source": []
  },
  {
   "cell_type": "code",
   "execution_count": null,
   "id": "6ec03e48-64e5-42b4-801d-f72fc235f6b9",
   "metadata": {},
   "outputs": [],
   "source": []
  },
  {
   "cell_type": "code",
   "execution_count": null,
   "id": "578c7667-c951-4050-aac6-13e611e3b723",
   "metadata": {},
   "outputs": [],
   "source": []
  },
  {
   "cell_type": "code",
   "execution_count": null,
   "id": "82ba389a-743a-4c78-8e03-f1f6dce5f3de",
   "metadata": {},
   "outputs": [],
   "source": []
  },
  {
   "cell_type": "code",
   "execution_count": null,
   "id": "2e3f4397-5727-43f8-879b-30488d4cd28f",
   "metadata": {},
   "outputs": [],
   "source": []
  }
 ],
 "metadata": {
  "kernelspec": {
   "display_name": "Python 3 (ipykernel)",
   "language": "python",
   "name": "python3"
  },
  "language_info": {
   "codemirror_mode": {
    "name": "ipython",
    "version": 3
   },
   "file_extension": ".py",
   "mimetype": "text/x-python",
   "name": "python",
   "nbconvert_exporter": "python",
   "pygments_lexer": "ipython3",
   "version": "3.12.8"
  }
 },
 "nbformat": 4,
 "nbformat_minor": 5
}
