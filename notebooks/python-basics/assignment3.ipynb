{
 "cells": [
  {
   "cell_type": "code",
   "execution_count": 1,
   "id": "67d9915d-bab0-4582-999a-4af9b7ab302f",
   "metadata": {},
   "outputs": [],
   "source": [
    "#Dictionary data aggregation"
   ]
  },
  {
   "cell_type": "code",
   "execution_count": 2,
   "id": "16c38369-e0ea-4232-a16a-20759ec102f9",
   "metadata": {},
   "outputs": [],
   "source": [
    "from typing import Dict"
   ]
  },
  {
   "cell_type": "code",
   "execution_count": 3,
   "id": "8786b815-1027-401f-b1e3-27b20ce6e1a0",
   "metadata": {},
   "outputs": [],
   "source": [
    "def subject_marks(subject_marks: Dict[str,int]) -> int :\n",
    "    return sum(subject_marks.values())"
   ]
  },
  {
   "cell_type": "code",
   "execution_count": 4,
   "id": "119d60a6-fd0c-489a-86b5-4476b837fa07",
   "metadata": {},
   "outputs": [],
   "source": [
    "marks = {\"tamil\": 91,\"english\": 93,\"maths\" :91}"
   ]
  },
  {
   "cell_type": "code",
   "execution_count": 5,
   "id": "e7d2815f-46a6-407b-9eb2-82fe3ef50fc4",
   "metadata": {},
   "outputs": [
    {
     "name": "stdout",
     "output_type": "stream",
     "text": [
      "275\n"
     ]
    }
   ],
   "source": [
    "print(subject_marks(marks))"
   ]
  },
  {
   "cell_type": "code",
   "execution_count": null,
   "id": "74692a99-d4fd-40a5-a895-87b67ee2a366",
   "metadata": {},
   "outputs": [],
   "source": []
  }
 ],
 "metadata": {
  "kernelspec": {
   "display_name": "Python 3 (ipykernel)",
   "language": "python",
   "name": "python3"
  },
  "language_info": {
   "codemirror_mode": {
    "name": "ipython",
    "version": 3
   },
   "file_extension": ".py",
   "mimetype": "text/x-python",
   "name": "python",
   "nbconvert_exporter": "python",
   "pygments_lexer": "ipython3",
   "version": "3.12.8"
  }
 },
 "nbformat": 4,
 "nbformat_minor": 5
}
