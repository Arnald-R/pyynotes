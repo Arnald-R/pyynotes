{
 "cells": [
  {
   "cell_type": "code",
   "execution_count": null,
   "id": "53d6b526-d99a-44a7-97ef-e0157ac702a4",
   "metadata": {},
   "outputs": [],
   "source": [
    "#created at 20250121"
   ]
  },
  {
   "cell_type": "code",
   "execution_count": null,
   "id": "14c4c4d4-d99c-42f2-8d7f-6e645a21306d",
   "metadata": {},
   "outputs": [],
   "source": [
    "https://www.scientecheasy.com/2022/10/assignment-operators-in-python.html/"
   ]
  },
  {
   "cell_type": "code",
   "execution_count": 1,
   "id": "1c141a36-7858-4ef3-b706-db54ebd4ee04",
   "metadata": {},
   "outputs": [],
   "source": [
    "#assignment operation"
   ]
  },
  {
   "cell_type": "code",
   "execution_count": 5,
   "id": "016b8824-0520-4721-a804-f517ca5a0f3f",
   "metadata": {},
   "outputs": [],
   "source": [
    "x = 20; # Literal assignment. Here, assigns a value 10 to a variable x by = operator.\n"
   ]
  },
  {
   "cell_type": "code",
   "execution_count": 6,
   "id": "d06a8024-cb56-408f-9c7f-a3df098dfe93",
   "metadata": {},
   "outputs": [],
   "source": [
    "y = x + 2; # Assignment with an expression.\n"
   ]
  },
  {
   "cell_type": "code",
   "execution_count": 7,
   "id": "5591b75a-afc8-4a9f-94d5-689ff6a768e1",
   "metadata": {},
   "outputs": [],
   "source": [
    "z = x * y; # Assignment with an expression with literal.\n",
    "\n"
   ]
  },
  {
   "cell_type": "code",
   "execution_count": 8,
   "id": "5d591f63-cfba-4667-bc71-ffcb38f290c1",
   "metadata": {},
   "outputs": [],
   "source": [
    "p = q = r = s = 50 # Assigns a common value to multiple variables.\n"
   ]
  },
  {
   "cell_type": "code",
   "execution_count": 3,
   "id": "fc401e29-88c8-4d87-8153-7d07535802d7",
   "metadata": {},
   "outputs": [],
   "source": [
    "p, q, r = 20, 40, 60 # Multiple assignments in a single line.\n"
   ]
  },
  {
   "cell_type": "code",
   "execution_count": 9,
   "id": "1f13e574-f0f4-40ce-a698-158351f150f8",
   "metadata": {},
   "outputs": [],
   "source": [
    "Cities = ('Dhanbad', 'New York', 'Sydney', 'Paris') # Assigns multiple values in a sequence.\n"
   ]
  },
  {
   "cell_type": "code",
   "execution_count": 12,
   "id": "14d8570d-cee0-4b0f-9bd0-5802fa600404",
   "metadata": {},
   "outputs": [
    {
     "name": "stdout",
     "output_type": "stream",
     "text": [
      "20 22 440 50 50 50 50\n",
      "('Dhanbad', 'New York', 'Sydney', 'Paris')\n"
     ]
    }
   ],
   "source": [
    "print(x,y,z,p,q,r,s)\n",
    "print(Cities)"
   ]
  },
  {
   "cell_type": "code",
   "execution_count": null,
   "id": "11930983-d5b6-423e-8a76-f13bf7573744",
   "metadata": {},
   "outputs": [],
   "source": []
  }
 ],
 "metadata": {
  "kernelspec": {
   "display_name": "Python 3 (ipykernel)",
   "language": "python",
   "name": "python3"
  },
  "language_info": {
   "codemirror_mode": {
    "name": "ipython",
    "version": 3
   },
   "file_extension": ".py",
   "mimetype": "text/x-python",
   "name": "python",
   "nbconvert_exporter": "python",
   "pygments_lexer": "ipython3",
   "version": "3.12.8"
  }
 },
 "nbformat": 4,
 "nbformat_minor": 5
}
