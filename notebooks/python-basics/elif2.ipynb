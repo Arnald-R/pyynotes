{
 "cells": [
  {
   "cell_type": "code",
   "execution_count": 1,
   "id": "191274b2-e99d-4c94-b10e-781876c03bcf",
   "metadata": {},
   "outputs": [],
   "source": [
    "#created at 20250124"
   ]
  },
  {
   "cell_type": "code",
   "execution_count": null,
   "id": "3bec1df4-b42e-4ea7-987d-cdf51e51d68b",
   "metadata": {},
   "outputs": [],
   "source": [
    "https://www.scientecheasy.com/2022/10/python-if-elif-else.html/"
   ]
  },
  {
   "cell_type": "code",
   "execution_count": 2,
   "id": "8562a6df-54aa-4ee2-9957-d173d68bcf82",
   "metadata": {},
   "outputs": [
    {
     "name": "stdin",
     "output_type": "stream",
     "text": [
      "Enter the age:  30\n"
     ]
    }
   ],
   "source": [
    "age = int(input(\"Enter the age: \"))"
   ]
  },
  {
   "cell_type": "code",
   "execution_count": 3,
   "id": "26c24de0-7dc3-4211-8cea-721d102ec14d",
   "metadata": {},
   "outputs": [
    {
     "name": "stdout",
     "output_type": "stream",
     "text": [
      "30 - you are an adult\n"
     ]
    }
   ],
   "source": [
    "if age < 18:\n",
    "    print(age ,\"- you are a child\")\n",
    "elif age > 18 and age < 60:\n",
    "    print(age , \"- you are an adult\")\n",
    "elif age > 60:\n",
    "    print(age ,\" - yor a senior\")\n",
    "else:\n",
    "    print(\"you have entered a invalid age\")"
   ]
  },
  {
   "cell_type": "code",
   "execution_count": 10,
   "id": "f25e5df9-9626-4326-b993-3c5983384775",
   "metadata": {},
   "outputs": [
    {
     "name": "stdin",
     "output_type": "stream",
     "text": [
      "Enter the single character:  p\n"
     ]
    }
   ],
   "source": [
    "ch = input(\"Enter the single character: \")"
   ]
  },
  {
   "cell_type": "code",
   "execution_count": 11,
   "id": "2accbdc8-0849-48b4-a4d2-6c7c4d8d089a",
   "metadata": {},
   "outputs": [
    {
     "name": "stdout",
     "output_type": "stream",
     "text": [
      "p - is a consonent\n"
     ]
    }
   ],
   "source": [
    "if ch == 'a' or ch == 'A':\n",
    "    print( ch ,\" - is a vowel\")\n",
    "elif ch == 'e' or ch == 'E':\n",
    "    print( ch ,\" -is a vowel\")\n",
    "elif ch == 'i' or ch == 'I':\n",
    "    print( ch ,\" - is a vowel\")\n",
    "elif ch == 'o' or ch == 'O':\n",
    "    print( ch ,\" - is a vowel\")\n",
    "elif ch == 'u' or ch == 'U':\n",
    "    print( ch ,\" - is a vowel\")\n",
    "else:\n",
    "    print(ch ,\"- is a consonent\")"
   ]
  },
  {
   "cell_type": "code",
   "execution_count": 12,
   "id": "2bae85ea-2706-4417-9ece-66c28055198f",
   "metadata": {},
   "outputs": [],
   "source": [
    "#three sides of triangle input"
   ]
  },
  {
   "cell_type": "code",
   "execution_count": 13,
   "id": "4147037f-7009-493a-ade0-2d8d3e9dd617",
   "metadata": {},
   "outputs": [
    {
     "name": "stdin",
     "output_type": "stream",
     "text": [
      "enter the first side value:  12\n"
     ]
    }
   ],
   "source": [
    "side1 =int(input(\"enter the first side value: \"))"
   ]
  },
  {
   "cell_type": "code",
   "execution_count": 14,
   "id": "8c9fc668-8811-40c7-9c36-c57ebc180cdf",
   "metadata": {},
   "outputs": [
    {
     "name": "stdin",
     "output_type": "stream",
     "text": [
      "enter the second side value:  12\n"
     ]
    }
   ],
   "source": [
    "side2 = int(input(\"enter the second side value: \"))"
   ]
  },
  {
   "cell_type": "code",
   "execution_count": 15,
   "id": "5573b0bf-ef5d-4f40-84dc-8013bf42dd2a",
   "metadata": {},
   "outputs": [
    {
     "name": "stdin",
     "output_type": "stream",
     "text": [
      "enter the third side value:  38\n"
     ]
    }
   ],
   "source": [
    "side3 = int(input(\"enter the third side value: \"))"
   ]
  },
  {
   "cell_type": "code",
   "execution_count": 19,
   "id": "cff553cf-5e15-4c2b-a9d9-a298b7fc6415",
   "metadata": {},
   "outputs": [
    {
     "name": "stdout",
     "output_type": "stream",
     "text": [
      "the triangle is isosceles triangle\n"
     ]
    }
   ],
   "source": [
    "if ((side1 != side2) and (side1 != side3) and (side2 != side3)):\n",
    "    print(\"the triangle is scalene triangle\")\n",
    "elif ((side1 == side2) and (side2 == side3)) :\n",
    "    print(\"the triangle is equilateral triangle\")\n",
    "else:\n",
    "    print(\"the triangle is isosceles triangle\")"
   ]
  },
  {
   "cell_type": "code",
   "execution_count": null,
   "id": "df05498a-2f3e-426f-9e2a-ae36a94e79dd",
   "metadata": {},
   "outputs": [],
   "source": []
  }
 ],
 "metadata": {
  "kernelspec": {
   "display_name": "Python 3 (ipykernel)",
   "language": "python",
   "name": "python3"
  },
  "language_info": {
   "codemirror_mode": {
    "name": "ipython",
    "version": 3
   },
   "file_extension": ".py",
   "mimetype": "text/x-python",
   "name": "python",
   "nbconvert_exporter": "python",
   "pygments_lexer": "ipython3",
   "version": "3.12.8"
  }
 },
 "nbformat": 4,
 "nbformat_minor": 5
}
