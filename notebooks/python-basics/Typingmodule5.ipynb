{
 "cells": [
  {
   "cell_type": "code",
   "execution_count": 1,
   "id": "7a17e518-ea58-4958-b6eb-b742b0e5de7c",
   "metadata": {},
   "outputs": [],
   "source": [
    "#created at 20250131"
   ]
  },
  {
   "cell_type": "code",
   "execution_count": null,
   "id": "12f45543-0e55-4a19-8534-b29f62eed3f8",
   "metadata": {},
   "outputs": [],
   "source": [
    "https://chatgpt.com/c/679c622a-5318-800b-a323-68a368e854f9"
   ]
  },
  {
   "cell_type": "code",
   "execution_count": 2,
   "id": "03be43ad-60f0-440d-a9c6-a1ee4276318f",
   "metadata": {},
   "outputs": [],
   "source": [
    "#Optional Type[Type,None]"
   ]
  },
  {
   "cell_type": "code",
   "execution_count": 3,
   "id": "8eee0e52-c4a0-4344-90ab-a54278138921",
   "metadata": {},
   "outputs": [],
   "source": [
    "from typing import Optional"
   ]
  },
  {
   "cell_type": "code",
   "execution_count": 4,
   "id": "2dda5a7d-c2d3-433f-958d-fa1dc3614674",
   "metadata": {},
   "outputs": [],
   "source": [
    "def greet(name: Optional[str]) -> str:\n",
    "    if name:\n",
    "        return f\"Hello,{name}!\"\n",
    "    return \"Hello, Stranger!\""
   ]
  },
  {
   "cell_type": "code",
   "execution_count": 5,
   "id": "9f459b3f-5e36-40d3-8437-b10dce0fd350",
   "metadata": {},
   "outputs": [
    {
     "name": "stdout",
     "output_type": "stream",
     "text": [
      "Hello,Arnald!\n"
     ]
    }
   ],
   "source": [
    "print(greet(\"Arnald\"))"
   ]
  },
  {
   "cell_type": "code",
   "execution_count": 7,
   "id": "9df4f133-2c22-4bd9-8907-69734537c172",
   "metadata": {},
   "outputs": [
    {
     "name": "stdout",
     "output_type": "stream",
     "text": [
      "Hello, Stranger!\n"
     ]
    }
   ],
   "source": [
    "print(greet(None))"
   ]
  },
  {
   "cell_type": "code",
   "execution_count": 8,
   "id": "e0629a1f-8d29-41d5-994b-82fa8833cd03",
   "metadata": {},
   "outputs": [],
   "source": [
    "#Callable (arguments and return type) "
   ]
  },
  {
   "cell_type": "code",
   "execution_count": 9,
   "id": "c96e5d73-7959-412b-850e-47716dfd798a",
   "metadata": {},
   "outputs": [],
   "source": [
    "from typing import Callable"
   ]
  },
  {
   "cell_type": "code",
   "execution_count": 10,
   "id": "b3cde982-9e2f-4db4-a5a6-bfb5d9a4021a",
   "metadata": {},
   "outputs": [],
   "source": [
    "def operation(x: int, y: int) -> int:\n",
    "    return x + y"
   ]
  },
  {
   "cell_type": "code",
   "execution_count": 11,
   "id": "972da90b-8aa1-48d6-9747-1095e604021e",
   "metadata": {},
   "outputs": [],
   "source": [
    "def execute(func: Callable[[int,int], int],a: int,b: int) -> int:\n",
    "    return func(a, b)"
   ]
  },
  {
   "cell_type": "code",
   "execution_count": 14,
   "id": "f1c7ae00-70ab-4b95-9fa1-3eb1f1bfc97c",
   "metadata": {},
   "outputs": [
    {
     "name": "stdout",
     "output_type": "stream",
     "text": [
      "10\n"
     ]
    }
   ],
   "source": [
    "print(execute(operation, 3 , 7))"
   ]
  },
  {
   "cell_type": "code",
   "execution_count": 15,
   "id": "b5347f7b-3b94-4129-a386-56a5437c6cb7",
   "metadata": {},
   "outputs": [],
   "source": [
    "#Generics"
   ]
  },
  {
   "cell_type": "code",
   "execution_count": 16,
   "id": "c9b6a68c-1461-47c2-83b3-c6d810e4d446",
   "metadata": {},
   "outputs": [],
   "source": [
    "from typing import TypeVar, Generic"
   ]
  },
  {
   "cell_type": "code",
   "execution_count": 17,
   "id": "a61b72ff-36bd-4d68-a678-fe234e0ae02a",
   "metadata": {},
   "outputs": [],
   "source": [
    "T = TypeVar('T')"
   ]
  },
  {
   "cell_type": "code",
   "execution_count": 22,
   "id": "64f8d22f-aad1-4703-b121-e11906a029ff",
   "metadata": {},
   "outputs": [],
   "source": [
    "class Box(Generic[T]):\n",
    "    def __init__(self, value : T ):\n",
    "        self.value = value\n",
    "    def get_value(self) -> T:\n",
    "        return self.value\n",
    "int_box = Box(199)\n",
    "str_box = Box(\"Python\")"
   ]
  },
  {
   "cell_type": "code",
   "execution_count": 23,
   "id": "4f8d918d-f59f-4d87-9647-545217688b89",
   "metadata": {},
   "outputs": [
    {
     "name": "stdout",
     "output_type": "stream",
     "text": [
      "199\n"
     ]
    }
   ],
   "source": [
    "print(int_box.get_value())"
   ]
  },
  {
   "cell_type": "code",
   "execution_count": 24,
   "id": "21d2438e-132c-4ac0-af78-9e6dc6bf3496",
   "metadata": {},
   "outputs": [
    {
     "name": "stdout",
     "output_type": "stream",
     "text": [
      "Python\n"
     ]
    }
   ],
   "source": [
    "print(str_box.get_value())"
   ]
  },
  {
   "cell_type": "code",
   "execution_count": null,
   "id": "3ea34559-c7ea-4e00-beef-c939835c94e8",
   "metadata": {},
   "outputs": [],
   "source": []
  }
 ],
 "metadata": {
  "kernelspec": {
   "display_name": "Python 3 (ipykernel)",
   "language": "python",
   "name": "python3"
  },
  "language_info": {
   "codemirror_mode": {
    "name": "ipython",
    "version": 3
   },
   "file_extension": ".py",
   "mimetype": "text/x-python",
   "name": "python",
   "nbconvert_exporter": "python",
   "pygments_lexer": "ipython3",
   "version": "3.12.8"
  }
 },
 "nbformat": 4,
 "nbformat_minor": 5
}
