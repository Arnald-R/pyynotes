{
 "cells": [
  {
   "cell_type": "code",
   "execution_count": 1,
   "id": "a26ff1aa-db83-4c0d-915e-37ec633c4d08",
   "metadata": {},
   "outputs": [],
   "source": [
    "#created at 20250131"
   ]
  },
  {
   "cell_type": "code",
   "execution_count": null,
   "id": "8cacc26d-32cf-4cad-a3b0-9aa7c2bcd45a",
   "metadata": {},
   "outputs": [],
   "source": [
    "https://chatgpt.com/c/679c622a-5318-800b-a323-68a368e854f9"
   ]
  },
  {
   "cell_type": "code",
   "execution_count": 2,
   "id": "7a14ae62-1af6-42e8-9ca1-3dd44cbfa465",
   "metadata": {},
   "outputs": [],
   "source": [
    "#NewType"
   ]
  },
  {
   "cell_type": "code",
   "execution_count": 3,
   "id": "221051b2-3ed9-44e5-bb2a-e198c00664ac",
   "metadata": {},
   "outputs": [],
   "source": [
    "from typing import NewType"
   ]
  },
  {
   "cell_type": "code",
   "execution_count": 4,
   "id": "e817d7a6-d9e2-4dd7-b834-c367667f0cf6",
   "metadata": {},
   "outputs": [],
   "source": [
    "UserId = NewType('UserId',int)"
   ]
  },
  {
   "cell_type": "code",
   "execution_count": 5,
   "id": "30dbf7be-ee3c-4ce7-8422-9da4333ae0e3",
   "metadata": {},
   "outputs": [],
   "source": [
    "def get_user(User_id: UserId) -> str:\n",
    "    return f\" user with id {User_id}\""
   ]
  },
  {
   "cell_type": "code",
   "execution_count": 7,
   "id": "2444365b-8c95-4b5f-9767-cf1c9f14a6cd",
   "metadata": {},
   "outputs": [],
   "source": [
    "uid = UserId(101)"
   ]
  },
  {
   "cell_type": "code",
   "execution_count": 8,
   "id": "001d0fe5-9c19-46ee-8609-e626edf60c28",
   "metadata": {},
   "outputs": [
    {
     "name": "stdout",
     "output_type": "stream",
     "text": [
      " user with id 101\n"
     ]
    }
   ],
   "source": [
    "print(get_user(uid))"
   ]
  },
  {
   "cell_type": "code",
   "execution_count": 9,
   "id": "b8b9ca0d-a78d-4162-b9ba-96e1fb3324d6",
   "metadata": {},
   "outputs": [],
   "source": [
    "#protocols"
   ]
  },
  {
   "cell_type": "code",
   "execution_count": 10,
   "id": "a0c81f58-7376-4d0f-bfe6-f136542609ee",
   "metadata": {},
   "outputs": [],
   "source": [
    "from typing import Protocol"
   ]
  },
  {
   "cell_type": "code",
   "execution_count": 12,
   "id": "43156c88-f1e9-4a57-a94e-0d94c9bc6f1b",
   "metadata": {},
   "outputs": [],
   "source": [
    "class Speakable(Protocol):\n",
    "    def speak(self) -> str:\n",
    "        pass\n",
    "    "
   ]
  },
  {
   "cell_type": "code",
   "execution_count": 13,
   "id": "fa864cf2-4839-40e1-be0b-2cc7cb01b787",
   "metadata": {},
   "outputs": [],
   "source": [
    "class Dog:\n",
    "    def speak(self) -> str:\n",
    "        return \"woof!!\""
   ]
  },
  {
   "cell_type": "code",
   "execution_count": 14,
   "id": "fe11c2f6-39d7-471a-86eb-2d62ed98b42e",
   "metadata": {},
   "outputs": [],
   "source": [
    "class Robot:\n",
    "    def speak(seld) -> str:\n",
    "        return \"Beep,Beep\""
   ]
  },
  {
   "cell_type": "code",
   "execution_count": 22,
   "id": "d692d8a9-7c5b-4ca6-9da4-fc31cad89776",
   "metadata": {},
   "outputs": [],
   "source": [
    "def make_speak(animal: Speakable) -> str:\n",
    "    return animal.speak()"
   ]
  },
  {
   "cell_type": "code",
   "execution_count": 23,
   "id": "38f5373e-64cc-4616-9fee-00482e929765",
   "metadata": {},
   "outputs": [],
   "source": [
    "dog = Dog()"
   ]
  },
  {
   "cell_type": "code",
   "execution_count": 24,
   "id": "47d7e206-7587-40bc-a79e-a5bd5bea4d1d",
   "metadata": {},
   "outputs": [],
   "source": [
    "robot = Robot()"
   ]
  },
  {
   "cell_type": "code",
   "execution_count": 25,
   "id": "f4afb72d-8744-4fa3-b977-72864a339891",
   "metadata": {},
   "outputs": [
    {
     "name": "stdout",
     "output_type": "stream",
     "text": [
      "woof!!\n"
     ]
    }
   ],
   "source": [
    "print(make_speak(dog))"
   ]
  },
  {
   "cell_type": "code",
   "execution_count": 26,
   "id": "825007f8-47a2-48b8-89a3-bba9b4d70eb6",
   "metadata": {},
   "outputs": [
    {
     "name": "stdout",
     "output_type": "stream",
     "text": [
      "Beep,Beep\n"
     ]
    }
   ],
   "source": [
    "print(make_speak(robot))"
   ]
  },
  {
   "cell_type": "code",
   "execution_count": null,
   "id": "14f3c436-ea5d-498f-bad2-7319dc4a38a3",
   "metadata": {},
   "outputs": [],
   "source": []
  }
 ],
 "metadata": {
  "kernelspec": {
   "display_name": "Python 3 (ipykernel)",
   "language": "python",
   "name": "python3"
  },
  "language_info": {
   "codemirror_mode": {
    "name": "ipython",
    "version": 3
   },
   "file_extension": ".py",
   "mimetype": "text/x-python",
   "name": "python",
   "nbconvert_exporter": "python",
   "pygments_lexer": "ipython3",
   "version": "3.12.8"
  }
 },
 "nbformat": 4,
 "nbformat_minor": 5
}
