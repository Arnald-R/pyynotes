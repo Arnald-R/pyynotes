{
 "cells": [
  {
   "cell_type": "code",
   "execution_count": null,
   "id": "447f3a22-72cc-4a1a-b69b-ee3fc66ad8ee",
   "metadata": {},
   "outputs": [],
   "source": [
    "#created at 20250124"
   ]
  },
  {
   "cell_type": "code",
   "execution_count": null,
   "id": "629b6337-c42d-49cd-92bb-4569aed45a7e",
   "metadata": {},
   "outputs": [],
   "source": [
    "https://www.scientecheasy.com/2022/10/for-loop-in-python.html/"
   ]
  },
  {
   "cell_type": "code",
   "execution_count": 2,
   "id": "288c1eed-e842-49c3-9b3c-458d6ed0a875",
   "metadata": {},
   "outputs": [
    {
     "name": "stdin",
     "output_type": "stream",
     "text": [
      "Enter the limit:  10\n"
     ]
    }
   ],
   "source": [
    "num = int(input(\"Enter the limit: \"))"
   ]
  },
  {
   "cell_type": "code",
   "execution_count": 3,
   "id": "8c6c851a-42a2-4474-bf2f-bb1cc548425a",
   "metadata": {},
   "outputs": [],
   "source": [
    "even =0"
   ]
  },
  {
   "cell_type": "code",
   "execution_count": 4,
   "id": "16e16748-24cd-4c42-a491-a46429533905",
   "metadata": {},
   "outputs": [],
   "source": [
    "odd = 0"
   ]
  },
  {
   "cell_type": "code",
   "execution_count": 6,
   "id": "9dac593b-daa2-4f8c-bb58-da2c599e74f8",
   "metadata": {},
   "outputs": [],
   "source": [
    "for n in range(num):\n",
    "    if n % 2 == 0:\n",
    "        even = even + n\n",
    "    else:\n",
    "        odd = odd + n"
   ]
  },
  {
   "cell_type": "code",
   "execution_count": 7,
   "id": "e16e1390-cdc7-492d-b4f8-4a97b3717425",
   "metadata": {},
   "outputs": [
    {
     "name": "stdout",
     "output_type": "stream",
     "text": [
      "odd number total 25\n"
     ]
    }
   ],
   "source": [
    "print(\"odd number total\",odd)"
   ]
  },
  {
   "cell_type": "code",
   "execution_count": 8,
   "id": "54094368-2ddf-4645-9069-93c42a024704",
   "metadata": {},
   "outputs": [
    {
     "name": "stdout",
     "output_type": "stream",
     "text": [
      "even number total 20\n"
     ]
    }
   ],
   "source": [
    "print(\"even number total\",even)\n"
   ]
  },
  {
   "cell_type": "code",
   "execution_count": 10,
   "id": "3b2c6941-5baa-4e9c-8edf-5874aa1a85c3",
   "metadata": {},
   "outputs": [
    {
     "name": "stdin",
     "output_type": "stream",
     "text": [
      "Enter a number: 6\n"
     ]
    }
   ],
   "source": [
    "num = int(input(\"Enter a number:\"))"
   ]
  },
  {
   "cell_type": "code",
   "execution_count": 11,
   "id": "2f36be17-1254-46fd-8516-7427aab53c8f",
   "metadata": {},
   "outputs": [],
   "source": [
    "fact = 1"
   ]
  },
  {
   "cell_type": "code",
   "execution_count": 14,
   "id": "0d5b6c5f-29c0-470e-b89f-35e03b00de8c",
   "metadata": {},
   "outputs": [
    {
     "name": "stdout",
     "output_type": "stream",
     "text": [
      "factorial of num: 6 is: 86400\n",
      "factorial of num: 6 is: 172800\n",
      "factorial of num: 6 is: 518400\n",
      "factorial of num: 6 is: 2073600\n",
      "factorial of num: 6 is: 10368000\n",
      "factorial of num: 6 is: 62208000\n"
     ]
    }
   ],
   "source": [
    "if num < 0:\n",
    "    print(\"please enter a positive number bcz negative value we cant get\")\n",
    "elif num == 0:\n",
    "    print(\"we cant calculate factorial for zero\")\n",
    "else:\n",
    "    for i in range(1 , num + 1):\n",
    "        fact = fact * i\n",
    "        print(\"factorial of num:\",num, \"is:\",fact)"
   ]
  },
  {
   "cell_type": "code",
   "execution_count": 31,
   "id": "3b205bef-31ec-43d8-bbad-1b755c47b1b5",
   "metadata": {},
   "outputs": [],
   "source": [
    "nlist = [ 2, 4, 6, 8, 10]"
   ]
  },
  {
   "cell_type": "code",
   "execution_count": 32,
   "id": "d2342efe-9ab7-4a53-ae8b-4aaaffd885d0",
   "metadata": {},
   "outputs": [
    {
     "name": "stdout",
     "output_type": "stream",
     "text": [
      "original order: [2, 4, 6, 8, 10]\n"
     ]
    }
   ],
   "source": [
    "print(\"original order:\",nlist)"
   ]
  },
  {
   "cell_type": "code",
   "execution_count": 33,
   "id": "0af80458-956c-4ffd-910d-988e78151b89",
   "metadata": {},
   "outputs": [
    {
     "name": "stdout",
     "output_type": "stream",
     "text": [
      "2 4 6 8 10 \n",
      "List of numbers in reverse order: \n",
      "10 8 6 4 2 "
     ]
    }
   ],
   "source": [
    "for x in nlist:\n",
    "    print(x, end= ' ')\n",
    "num = len(nlist) # Here, function len() returns the number of items in the container.\n",
    "i = 0\n",
    "j = -1\n",
    "print('\\nList of numbers in reverse order: ')\n",
    "while i <= num - 1:\n",
    "    print(nlist[j], end=' ')\n",
    "    j -= 1\n",
    "    i += 1\n"
   ]
  },
  {
   "cell_type": "code",
   "execution_count": null,
   "id": "d74856a1-89e2-4cb8-99f6-f3da023319ab",
   "metadata": {},
   "outputs": [],
   "source": []
  }
 ],
 "metadata": {
  "kernelspec": {
   "display_name": "Python 3 (ipykernel)",
   "language": "python",
   "name": "python3"
  },
  "language_info": {
   "codemirror_mode": {
    "name": "ipython",
    "version": 3
   },
   "file_extension": ".py",
   "mimetype": "text/x-python",
   "name": "python",
   "nbconvert_exporter": "python",
   "pygments_lexer": "ipython3",
   "version": "3.12.8"
  }
 },
 "nbformat": 4,
 "nbformat_minor": 5
}
