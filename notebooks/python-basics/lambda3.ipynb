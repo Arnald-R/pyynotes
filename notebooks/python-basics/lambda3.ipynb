{
 "cells": [
  {
   "cell_type": "code",
   "execution_count": 1,
   "id": "0d2c5f7b-97e1-4da8-8f4a-294262d2d9a6",
   "metadata": {},
   "outputs": [],
   "source": [
    "#created at 20250203"
   ]
  },
  {
   "cell_type": "code",
   "execution_count": null,
   "id": "db678e22-71e9-481c-8de1-b42f75b2fcbb",
   "metadata": {},
   "outputs": [],
   "source": [
    "https://stevejoe1412.gitbook.io/ssn/python-subtopics/lambda-functions"
   ]
  },
  {
   "cell_type": "code",
   "execution_count": 2,
   "id": "078715f9-2d76-49aa-839d-906dfbf57fb2",
   "metadata": {},
   "outputs": [],
   "source": [
    "#Lambda with Default Arguments"
   ]
  },
  {
   "cell_type": "code",
   "execution_count": 3,
   "id": "e1dfc108-8b11-492c-8a1d-5e8e60b3b4cf",
   "metadata": {},
   "outputs": [],
   "source": [
    "greet = lambda name, greeting=\"Hello\": f\"{greeting}, {name}!\""
   ]
  },
  {
   "cell_type": "code",
   "execution_count": 4,
   "id": "0ddc6d78-f148-4a9c-94b1-9b3db098f1aa",
   "metadata": {},
   "outputs": [
    {
     "name": "stdout",
     "output_type": "stream",
     "text": [
      "Hello, Alice!\n"
     ]
    }
   ],
   "source": [
    "print(greet(\"Alice\"))           # Output: Hello, Alice!"
   ]
  },
  {
   "cell_type": "code",
   "execution_count": 5,
   "id": "51199f3d-38c4-4960-89fa-93e85c00b858",
   "metadata": {},
   "outputs": [
    {
     "name": "stdout",
     "output_type": "stream",
     "text": [
      "Hi, Alice!\n"
     ]
    }
   ],
   "source": [
    "print(greet(\"Alice\", \"Hi\"))     # Output: Hi, Alice!"
   ]
  },
  {
   "cell_type": "code",
   "execution_count": 6,
   "id": "1c2a97f3-af99-4e7a-a8f9-8989aa7f5261",
   "metadata": {},
   "outputs": [],
   "source": [
    "def apply_func(func, x, y):\n",
    "    return func(x, y)"
   ]
  },
  {
   "cell_type": "code",
   "execution_count": 7,
   "id": "c542944a-a494-4466-b26b-29f501adff94",
   "metadata": {},
   "outputs": [],
   "source": [
    "result = apply_func(lambda x, y: x ** y, 2, 3)"
   ]
  },
  {
   "cell_type": "code",
   "execution_count": 8,
   "id": "f9323460-7096-4d1c-ab88-36c7e3ce29b2",
   "metadata": {},
   "outputs": [
    {
     "name": "stdout",
     "output_type": "stream",
     "text": [
      "8\n"
     ]
    }
   ],
   "source": [
    "print(result)  # Output: 8"
   ]
  },
  {
   "cell_type": "code",
   "execution_count": 9,
   "id": "61c640e9-24d7-40a3-b6a0-60459ed2c294",
   "metadata": {},
   "outputs": [],
   "source": [
    "#lambda with max and min"
   ]
  },
  {
   "cell_type": "code",
   "execution_count": 10,
   "id": "8d9b2dca-da46-4a7e-bb52-541b13bb25ad",
   "metadata": {},
   "outputs": [],
   "source": [
    "words = [\"apple\", \"banana\", \"cherry\", \"kiwi\"]"
   ]
  },
  {
   "cell_type": "code",
   "execution_count": 11,
   "id": "fdbbe559-b956-4085-a874-23283a8ec998",
   "metadata": {},
   "outputs": [],
   "source": [
    "longest_word = max(words, key=lambda word: len(word))"
   ]
  },
  {
   "cell_type": "code",
   "execution_count": 12,
   "id": "72f7248f-cf4b-4e6f-998c-13868d8589a7",
   "metadata": {},
   "outputs": [
    {
     "name": "stdout",
     "output_type": "stream",
     "text": [
      "banana\n"
     ]
    }
   ],
   "source": [
    "print(longest_word)  # Output: banana"
   ]
  },
  {
   "cell_type": "code",
   "execution_count": null,
   "id": "4c7c95c8-d851-44a9-bdf6-95edf9d70223",
   "metadata": {},
   "outputs": [],
   "source": [
    "#Nested Lambda Functions"
   ]
  },
  {
   "cell_type": "code",
   "execution_count": 13,
   "id": "fa56428b-0e0b-4e79-b9da-d09425815468",
   "metadata": {},
   "outputs": [],
   "source": [
    "multiply = lambda x: (lambda y: x * y)"
   ]
  },
  {
   "cell_type": "code",
   "execution_count": 14,
   "id": "c1dacbe4-3755-4408-80f7-8f7385760780",
   "metadata": {},
   "outputs": [],
   "source": [
    "result = multiply(5)(2)"
   ]
  },
  {
   "cell_type": "code",
   "execution_count": 15,
   "id": "50da8556-3511-4949-a23b-1f140cb1235b",
   "metadata": {},
   "outputs": [
    {
     "name": "stdout",
     "output_type": "stream",
     "text": [
      "10\n"
     ]
    }
   ],
   "source": [
    "print(result)  # Output: 10"
   ]
  },
  {
   "cell_type": "code",
   "execution_count": 16,
   "id": "9ea9cac3-dd17-4a69-bf9e-521659a41d06",
   "metadata": {},
   "outputs": [],
   "source": [
    "#lambda for mathematical operation"
   ]
  },
  {
   "cell_type": "code",
   "execution_count": 17,
   "id": "ff7e489e-a3c8-4ecc-b928-209f38aa981e",
   "metadata": {},
   "outputs": [],
   "source": [
    "square = lambda x: x ** 2"
   ]
  },
  {
   "cell_type": "code",
   "execution_count": 18,
   "id": "338563e5-5359-48b5-841e-6dda02ab61b8",
   "metadata": {},
   "outputs": [],
   "source": [
    "cube = lambda x: x ** 3"
   ]
  },
  {
   "cell_type": "code",
   "execution_count": null,
   "id": "80f032d2-bdb4-4bf3-95ec-48b5b687612e",
   "metadata": {},
   "outputs": [],
   "source": [
    "print(square(4))  # Output: 16"
   ]
  },
  {
   "cell_type": "code",
   "execution_count": 19,
   "id": "3bfbb4d0-63d7-4f17-9719-a34ce5e4dc58",
   "metadata": {},
   "outputs": [
    {
     "name": "stdout",
     "output_type": "stream",
     "text": [
      "27\n"
     ]
    }
   ],
   "source": [
    "print(cube(3))"
   ]
  },
  {
   "cell_type": "code",
   "execution_count": null,
   "id": "54b911db-3364-4cd5-822b-ad3ea82ced73",
   "metadata": {},
   "outputs": [],
   "source": []
  }
 ],
 "metadata": {
  "kernelspec": {
   "display_name": "Python 3 (ipykernel)",
   "language": "python",
   "name": "python3"
  },
  "language_info": {
   "codemirror_mode": {
    "name": "ipython",
    "version": 3
   },
   "file_extension": ".py",
   "mimetype": "text/x-python",
   "name": "python",
   "nbconvert_exporter": "python",
   "pygments_lexer": "ipython3",
   "version": "3.12.8"
  }
 },
 "nbformat": 4,
 "nbformat_minor": 5
}
