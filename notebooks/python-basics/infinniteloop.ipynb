{
 "cells": [
  {
   "cell_type": "code",
   "execution_count": 1,
   "id": "10bf21ff-e791-48aa-a2af-b01cc598bb0a",
   "metadata": {},
   "outputs": [],
   "source": [
    "#created at 20250125"
   ]
  },
  {
   "cell_type": "code",
   "execution_count": null,
   "id": "06866e16-81e0-4d3f-a53b-136c4345531b",
   "metadata": {},
   "outputs": [],
   "source": [
    "https://www.scientecheasy.com/2022/11/infinite-loop-in-python.html/"
   ]
  },
  {
   "cell_type": "code",
   "execution_count": null,
   "id": "45cbedaa-59e6-46cc-aa55-d3b2dceac155",
   "metadata": {},
   "outputs": [],
   "source": [
    "#"
   ]
  },
  {
   "cell_type": "code",
   "execution_count": null,
   "id": "22bce7ce-619a-4fc1-84a3-c1d53c9d4856",
   "metadata": {},
   "outputs": [],
   "source": [
    "count = 0"
   ]
  },
  {
   "cell_type": "code",
   "execution_count": null,
   "id": "d48bac4f-6cf9-48eb-9183-b04b2cdb790b",
   "metadata": {},
   "outputs": [],
   "source": [
    "# An example of infinite loop\n",
    "while count < 100:\n",
    "    print('Count: ',count)\n",
    "    # OOPS, forget to put in a line that increments count value at all. \n"
   ]
  },
  {
   "cell_type": "code",
   "execution_count": null,
   "id": "0f89c9d9-33c5-497d-bddc-10047e9d635d",
   "metadata": {},
   "outputs": [],
   "source": [
    "count = 1"
   ]
  },
  {
   "cell_type": "code",
   "execution_count": null,
   "id": "a8a6dcb9-2714-4a02-a530-9969cecfbb4d",
   "metadata": {},
   "outputs": [],
   "source": [
    "while count == 1:\n",
    "    num = int(input(\"enter the value:\"))\n",
    "    print(\"your enterd value\",num)"
   ]
  },
  {
   "cell_type": "code",
   "execution_count": null,
   "id": "eb7579c8-5b3b-4e86-bce7-fd0509d987f7",
   "metadata": {},
   "outputs": [],
   "source": []
  }
 ],
 "metadata": {
  "kernelspec": {
   "display_name": "Python 3 (ipykernel)",
   "language": "python",
   "name": "python3"
  },
  "language_info": {
   "codemirror_mode": {
    "name": "ipython",
    "version": 3
   },
   "file_extension": ".py",
   "mimetype": "text/x-python",
   "name": "python",
   "nbconvert_exporter": "python",
   "pygments_lexer": "ipython3",
   "version": "3.12.8"
  }
 },
 "nbformat": 4,
 "nbformat_minor": 5
}
