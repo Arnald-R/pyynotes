{
 "cells": [
  {
   "cell_type": "code",
   "execution_count": 1,
   "id": "0aa8753b-89c4-4086-983e-6c1c6fb6037d",
   "metadata": {},
   "outputs": [],
   "source": [
    "# created at 20250125"
   ]
  },
  {
   "cell_type": "code",
   "execution_count": null,
   "id": "e2ed9741-48b1-43bf-adb2-eee5fc7439b7",
   "metadata": {},
   "outputs": [],
   "source": [
    "https://www.scientecheasy.com/2022/11/break-statement-in-python.html/"
   ]
  },
  {
   "cell_type": "code",
   "execution_count": 7,
   "id": "02be4ef2-b4cc-45e2-a01e-26449cd5891b",
   "metadata": {},
   "outputs": [
    {
     "name": "stdout",
     "output_type": "stream",
     "text": [
      "1 0\n",
      "1 1\n",
      "1 2\n",
      "1 3\n",
      "1 4\n",
      "2 0\n",
      "2 1\n",
      "3 0\n",
      "3 1\n",
      "3 2\n",
      "3 3\n",
      "3 4\n"
     ]
    }
   ],
   "source": [
    "for i in range ( 1 , 4):\n",
    "    for y in 0,1,2,3,4:\n",
    "        if (i == 2) and (y == 2):\n",
    "            break\n",
    "        print( i , y)"
   ]
  },
  {
   "cell_type": "code",
   "execution_count": 17,
   "id": "7d19a841-9f0c-4358-b29b-64f896de51df",
   "metadata": {},
   "outputs": [
    {
     "name": "stdin",
     "output_type": "stream",
     "text": [
      "enter the number to check the number in the list: 20\n"
     ]
    }
   ],
   "source": [
    "num = int(input(\"enter the number to check the number in the list:\"))"
   ]
  },
  {
   "cell_type": "code",
   "execution_count": 19,
   "id": "659235d4-9943-4e62-b024-b80e27a1cd63",
   "metadata": {},
   "outputs": [
    {
     "name": "stdout",
     "output_type": "stream",
     "text": [
      "number not in the goiven list\n"
     ]
    }
   ],
   "source": [
    "list1 = [12,13,14,18,19]\n",
    "for i in list1:\n",
    "    if i == num:\n",
    "        print(\"the number in the list\")\n",
    "        break    \n",
    "else:\n",
    "    print(\"number not in the goiven list\")"
   ]
  },
  {
   "cell_type": "code",
   "execution_count": null,
   "id": "612afd65-3280-4852-9b9f-e493c9680af9",
   "metadata": {},
   "outputs": [],
   "source": []
  },
  {
   "cell_type": "code",
   "execution_count": null,
   "id": "4e862bcb-f911-4444-86d7-45e64b7e663e",
   "metadata": {},
   "outputs": [],
   "source": []
  }
 ],
 "metadata": {
  "kernelspec": {
   "display_name": "Python 3 (ipykernel)",
   "language": "python",
   "name": "python3"
  },
  "language_info": {
   "codemirror_mode": {
    "name": "ipython",
    "version": 3
   },
   "file_extension": ".py",
   "mimetype": "text/x-python",
   "name": "python",
   "nbconvert_exporter": "python",
   "pygments_lexer": "ipython3",
   "version": "3.12.8"
  }
 },
 "nbformat": 4,
 "nbformat_minor": 5
}
