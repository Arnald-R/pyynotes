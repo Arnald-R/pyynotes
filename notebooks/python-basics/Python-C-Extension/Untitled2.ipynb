{
 "cells": [
  {
   "cell_type": "code",
   "execution_count": 1,
   "id": "6d8e5849-f18f-4783-a65a-68de2e16396d",
   "metadata": {},
   "outputs": [],
   "source": [
    "#created at 20250210"
   ]
  },
  {
   "cell_type": "code",
   "execution_count": null,
   "id": "2b4812ed-1f91-459c-8faa-14ff5d0b7c2a",
   "metadata": {},
   "outputs": [],
   "source": [
    "https://stevejoe1412.gitbook.io/ssn/python-subtopics/8.-coroutines"
   ]
  },
  {
   "cell_type": "code",
   "execution_count": null,
   "id": "a67fd06a-9045-49b4-b36d-6c2b52451b89",
   "metadata": {},
   "outputs": [],
   "source": []
  },
  {
   "cell_type": "code",
   "execution_count": null,
   "id": "a8a31f71-ce39-4dc1-8b4d-5961a2c85b51",
   "metadata": {},
   "outputs": [],
   "source": []
  },
  {
   "cell_type": "code",
   "execution_count": null,
   "id": "137554d0-ba0e-4de5-8f98-e3b4b2e0e711",
   "metadata": {},
   "outputs": [],
   "source": []
  }
 ],
 "metadata": {
  "kernelspec": {
   "display_name": "Python 3 (ipykernel)",
   "language": "python",
   "name": "python3"
  },
  "language_info": {
   "codemirror_mode": {
    "name": "ipython",
    "version": 3
   },
   "file_extension": ".py",
   "mimetype": "text/x-python",
   "name": "python",
   "nbconvert_exporter": "python",
   "pygments_lexer": "ipython3",
   "version": "3.12.8"
  }
 },
 "nbformat": 4,
 "nbformat_minor": 5
}
