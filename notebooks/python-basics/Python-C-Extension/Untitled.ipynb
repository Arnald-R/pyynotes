{
 "cells": [
  {
   "cell_type": "code",
   "execution_count": 1,
   "id": "f0e1225f-c7a0-4552-a7e0-9371fe7422f4",
   "metadata": {},
   "outputs": [],
   "source": [
    "#created at 20250210"
   ]
  },
  {
   "cell_type": "code",
   "execution_count": null,
   "id": "20bc8c3d-61b3-4a81-99c8-483ceff1e5c1",
   "metadata": {},
   "outputs": [],
   "source": [
    "https://stevejoe1412.gitbook.io/ssn/python-subtopics/8.-coroutines"
   ]
  },
  {
   "cell_type": "code",
   "execution_count": 2,
   "id": "e862ef68-eb1e-4136-8898-430c2c419d6f",
   "metadata": {},
   "outputs": [
    {
     "ename": "ModuleNotFoundError",
     "evalue": "No module named 'hello'",
     "output_type": "error",
     "traceback": [
      "\u001b[0;31m---------------------------------------------------------------------------\u001b[0m",
      "\u001b[0;31mModuleNotFoundError\u001b[0m                       Traceback (most recent call last)",
      "Cell \u001b[0;32mIn[2], line 1\u001b[0m\n\u001b[0;32m----> 1\u001b[0m \u001b[38;5;28;01mimport\u001b[39;00m\u001b[38;5;250m \u001b[39m\u001b[38;5;21;01mhello\u001b[39;00m\n\u001b[1;32m      2\u001b[0m hello\u001b[38;5;241m.\u001b[39mhello_world()  \u001b[38;5;66;03m# Output: Hello, World!\u001b[39;00m\n",
      "\u001b[0;31mModuleNotFoundError\u001b[0m: No module named 'hello'"
     ]
    }
   ],
   "source": [
    "import hello\n",
    "hello.hello_world()  # Output: Hello, World!\n",
    "\n"
   ]
  },
  {
   "cell_type": "code",
   "execution_count": null,
   "id": "75c76277-aed6-4bf8-b328-a8a76e2fdcc7",
   "metadata": {},
   "outputs": [],
   "source": [
    "# doubt"
   ]
  },
  {
   "cell_type": "code",
   "execution_count": 3,
   "id": "52c9a6db-aece-4003-a91b-446740333a73",
   "metadata": {},
   "outputs": [
    {
     "ename": "SyntaxError",
     "evalue": "invalid syntax (3299781953.py, line 3)",
     "output_type": "error",
     "traceback": [
      "\u001b[0;36m  Cell \u001b[0;32mIn[3], line 3\u001b[0;36m\u001b[0m\n\u001b[0;31m    static PyObject* hello_world(PyObject* self, PyObject* args) {\u001b[0m\n\u001b[0m           ^\u001b[0m\n\u001b[0;31mSyntaxError\u001b[0m\u001b[0;31m:\u001b[0m invalid syntax\n"
     ]
    }
   ],
   "source": [
    "#include <Python.h>\n",
    "\n",
    "static PyObject* hello_world(PyObject* self, PyObject* args) {\n",
    "    printf(\"Hello, World!\\n\");\n",
    "    Py_RETURN_NONE;\n",
    "}\n",
    "\n",
    "static PyMethodDef HelloMethods[] = {\n",
    "    {\"hello_world\", hello_world, METH_VARARGS, \"Prints Hello, World!\"},\n",
    "    {NULL, NULL, 0, NULL}\n",
    "};\n",
    "\n",
    "static struct PyModuleDef hellomodule = {\n",
    "    PyModuleDef_HEAD_INIT,\n",
    "    \"hello\",\n",
    "    NULL,\n",
    "    -1,\n",
    "    HelloMethods\n",
    "};\n",
    "\n",
    "PyMODINIT_FUNC PyInit_hello(void) {\n",
    "    return PyModule_Create(&hellomodule);\n",
    "}"
   ]
  },
  {
   "cell_type": "code",
   "execution_count": null,
   "id": "9577c109-410c-4837-bb90-bca8a7463944",
   "metadata": {},
   "outputs": [],
   "source": []
  },
  {
   "cell_type": "code",
   "execution_count": null,
   "id": "8d626a5a-41e3-4867-afcb-bc1c1fe88899",
   "metadata": {},
   "outputs": [],
   "source": []
  }
 ],
 "metadata": {
  "kernelspec": {
   "display_name": "Python 3 (ipykernel)",
   "language": "python",
   "name": "python3"
  },
  "language_info": {
   "codemirror_mode": {
    "name": "ipython",
    "version": 3
   },
   "file_extension": ".py",
   "mimetype": "text/x-python",
   "name": "python",
   "nbconvert_exporter": "python",
   "pygments_lexer": "ipython3",
   "version": "3.12.8"
  }
 },
 "nbformat": 4,
 "nbformat_minor": 5
}
