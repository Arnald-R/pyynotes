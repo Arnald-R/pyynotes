{
 "cells": [
  {
   "cell_type": "code",
   "execution_count": 1,
   "id": "2232dfeb-d2aa-4d53-811c-cee857d5a678",
   "metadata": {},
   "outputs": [],
   "source": [
    "#created at20250207"
   ]
  },
  {
   "cell_type": "code",
   "execution_count": null,
   "id": "98cdc32f-72d1-4e20-8088-f092e48ea6de",
   "metadata": {},
   "outputs": [],
   "source": [
    "https://stevejoe1412.gitbook.io/python-basic-questions/list"
   ]
  },
  {
   "cell_type": "code",
   "execution_count": 1,
   "id": "42daa3e3-45a1-41c1-9edd-855371387dcc",
   "metadata": {},
   "outputs": [
    {
     "name": "stdout",
     "output_type": "stream",
     "text": [
      "enter the 5 integers in list:\n"
     ]
    }
   ],
   "source": [
    "print(\"enter the 5 integers in list:\")"
   ]
  },
  {
   "cell_type": "code",
   "execution_count": 15,
   "id": "7adca50b-34b7-4a13-b0f8-900af3eb4dfd",
   "metadata": {},
   "outputs": [
    {
     "name": "stdin",
     "output_type": "stream",
     "text": [
      "numbers  1 2 4 6 8\n"
     ]
    }
   ],
   "source": [
    "num = list(map(int, input(\"numbers \").split()))"
   ]
  },
  {
   "cell_type": "code",
   "execution_count": 18,
   "id": "4532273f-b903-4b81-b911-d5a1c03c434f",
   "metadata": {},
   "outputs": [
    {
     "name": "stdout",
     "output_type": "stream",
     "text": [
      "sum is: 21\n"
     ]
    }
   ],
   "source": [
    "print(\"sum is:\",sum(num))"
   ]
  },
  {
   "cell_type": "code",
   "execution_count": 20,
   "id": "da6531d9-b194-4216-858c-9991cfee5ac1",
   "metadata": {},
   "outputs": [
    {
     "name": "stdout",
     "output_type": "stream",
     "text": [
      "Average is: 4.2\n"
     ]
    }
   ],
   "source": [
    "print(\"Average is:\",sum(num)/len(num))"
   ]
  },
  {
   "cell_type": "code",
   "execution_count": null,
   "id": "3d12921e-43eb-4773-8ac2-31b3d04371dd",
   "metadata": {},
   "outputs": [],
   "source": []
  }
 ],
 "metadata": {
  "kernelspec": {
   "display_name": "Python 3 (ipykernel)",
   "language": "python",
   "name": "python3"
  },
  "language_info": {
   "codemirror_mode": {
    "name": "ipython",
    "version": 3
   },
   "file_extension": ".py",
   "mimetype": "text/x-python",
   "name": "python",
   "nbconvert_exporter": "python",
   "pygments_lexer": "ipython3",
   "version": "3.12.8"
  }
 },
 "nbformat": 4,
 "nbformat_minor": 5
}
