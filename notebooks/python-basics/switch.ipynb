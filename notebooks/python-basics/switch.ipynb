{
 "cells": [
  {
   "cell_type": "code",
   "execution_count": null,
   "id": "07f262b9-a2f9-43db-834e-7d9fe19d5380",
   "metadata": {},
   "outputs": [],
   "source": [
    "#created at 20250125"
   ]
  },
  {
   "cell_type": "code",
   "execution_count": null,
   "id": "b729babb-ccc7-4931-93fd-979fefec0452",
   "metadata": {},
   "outputs": [],
   "source": [
    "https://www.scientecheasy.com/2022/11/switch-statement-in-python.html/"
   ]
  },
  {
   "cell_type": "code",
   "execution_count": 5,
   "id": "265e1dde-0e68-48e5-851e-37af634ed1f6",
   "metadata": {},
   "outputs": [],
   "source": [
    "city = 'a'"
   ]
  },
  {
   "cell_type": "code",
   "execution_count": 6,
   "id": "468ce779-f66a-4748-977f-3cc5a1ec4fe5",
   "metadata": {},
   "outputs": [
    {
     "name": "stdout",
     "output_type": "stream",
     "text": [
      "andhra\n"
     ]
    }
   ],
   "source": [
    "if city == 'k':\n",
    "    print(\"karna\")\n",
    "elif city == 'g':\n",
    "    print(\"germany\")\n",
    "elif city == 'h':\n",
    "    print(\"hankok\")\n",
    "elif city == 'a':\n",
    "    print(\"andhra\")\n",
    "else:\n",
    "    print(\"no city\")"
   ]
  },
  {
   "cell_type": "code",
   "execution_count": 7,
   "id": "2ce6f44e-ea93-4528-8651-f1cbf835e921",
   "metadata": {},
   "outputs": [],
   "source": [
    "# Implementing switch case statement in Python using Dictionary."
   ]
  },
  {
   "cell_type": "code",
   "execution_count": 27,
   "id": "58564f55-3c57-4e40-87d6-c2ea6d0a48e8",
   "metadata": {},
   "outputs": [],
   "source": [
    "def m():\n",
    "    return \"madurai\"\n",
    "def d():\n",
    "    return \"dharmapuri\"\n",
    "def c():\n",
    "    return \"chengalpet\"\n",
    "def r():\n",
    "    return \"ranipet\"\n",
    "def default():\n",
    "    return \"nocity\""
   ]
  },
  {
   "cell_type": "code",
   "execution_count": 28,
   "id": "2071a454-b301-4b8b-9187-fb1d6f7fad88",
   "metadata": {},
   "outputs": [],
   "source": [
    "# Creating a dictionary and put these in it.\n",
    "switcher = {\n",
    "    1: m,\n",
    "    2: d,\n",
    "    3: c,\n",
    "    4: r\n",
    "    }"
   ]
  },
  {
   "cell_type": "code",
   "execution_count": 29,
   "id": "6377cad5-79a7-4415-8e08-27aa3ba10cba",
   "metadata": {},
   "outputs": [],
   "source": [
    "def switch(city):\n",
    "    return switcher.get(city, default)()"
   ]
  },
  {
   "cell_type": "code",
   "execution_count": 30,
   "id": "b4cecc3f-fc7e-470c-b75a-15ba43070f0c",
   "metadata": {},
   "outputs": [
    {
     "name": "stdout",
     "output_type": "stream",
     "text": [
      "dharmapuri\n",
      "chengalpet\n"
     ]
    }
   ],
   "source": [
    "print(switch(2)) # Calling function.\n",
    "print(switch(3)) # Calling function."
   ]
  },
  {
   "cell_type": "code",
   "execution_count": null,
   "id": "a841b960-a554-4eee-9a26-f9d1307a8fba",
   "metadata": {},
   "outputs": [],
   "source": []
  }
 ],
 "metadata": {
  "kernelspec": {
   "display_name": "Python 3 (ipykernel)",
   "language": "python",
   "name": "python3"
  },
  "language_info": {
   "codemirror_mode": {
    "name": "ipython",
    "version": 3
   },
   "file_extension": ".py",
   "mimetype": "text/x-python",
   "name": "python",
   "nbconvert_exporter": "python",
   "pygments_lexer": "ipython3",
   "version": "3.12.8"
  }
 },
 "nbformat": 4,
 "nbformat_minor": 5
}
