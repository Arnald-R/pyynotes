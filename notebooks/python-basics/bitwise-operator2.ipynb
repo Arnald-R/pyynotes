{
 "cells": [
  {
   "cell_type": "markdown",
   "id": "130eae86-6719-4512-85f7-68794ddc3cbe",
   "metadata": {},
   "source": [
    "# "
   ]
  },
  {
   "cell_type": "code",
   "execution_count": null,
   "id": "26ee042c-b18e-471e-8dbb-89c0e30ef0d7",
   "metadata": {},
   "outputs": [],
   "source": [
    "#created at 20250122"
   ]
  },
  {
   "cell_type": "code",
   "execution_count": null,
   "id": "f59df728-f5a4-4e60-895b-37beaefe0bf6",
   "metadata": {},
   "outputs": [],
   "source": [
    "http://scientecheasy.com/2022/10/bitwise-operators-in-python.html/"
   ]
  },
  {
   "cell_type": "code",
   "execution_count": null,
   "id": "fdffcf53-4aee-4499-9b6b-afbc91f83f34",
   "metadata": {},
   "outputs": [],
   "source": [
    "# bitwise \\"
   ]
  },
  {
   "cell_type": "code",
   "execution_count": 1,
   "id": "2ed2bc9d-8e55-4b6a-a9e5-d361570f8e4c",
   "metadata": {},
   "outputs": [],
   "source": [
    "A = 2"
   ]
  },
  {
   "cell_type": "code",
   "execution_count": 2,
   "id": "567cf4ab-a764-4152-b2d1-1a9b9eaedd23",
   "metadata": {},
   "outputs": [],
   "source": [
    "B = 6"
   ]
  },
  {
   "cell_type": "code",
   "execution_count": 3,
   "id": "d6359cdd-1963-490a-8a42-51296fb379ad",
   "metadata": {},
   "outputs": [],
   "source": [
    "result = A | B"
   ]
  },
  {
   "cell_type": "code",
   "execution_count": 4,
   "id": "6f94ab3c-43b4-468c-9561-a2ad3020b014",
   "metadata": {},
   "outputs": [
    {
     "name": "stdout",
     "output_type": "stream",
     "text": [
      "Result of (2 | 6) is: 6\n"
     ]
    }
   ],
   "source": [
    "print(\"Result of (2 | 6) is:\", result)"
   ]
  },
  {
   "cell_type": "code",
   "execution_count": 5,
   "id": "aabef210-d123-4c85-8367-e5b0d028de47",
   "metadata": {},
   "outputs": [],
   "source": [
    "A = 25"
   ]
  },
  {
   "cell_type": "code",
   "execution_count": 6,
   "id": "f17476e2-fbf7-479a-8a52-a59408697a72",
   "metadata": {},
   "outputs": [],
   "source": [
    "B = 45"
   ]
  },
  {
   "cell_type": "code",
   "execution_count": 7,
   "id": "1b29744c-02f5-4b33-84f7-528500a0d3d4",
   "metadata": {},
   "outputs": [],
   "source": [
    "result = A|B"
   ]
  },
  {
   "cell_type": "code",
   "execution_count": 8,
   "id": "3da0db50-dd41-4063-9fd8-ba568ed08ffe",
   "metadata": {},
   "outputs": [
    {
     "name": "stdout",
     "output_type": "stream",
     "text": [
      "Result of (25 | 45):  61\n"
     ]
    }
   ],
   "source": [
    "print(\"Result of (25 | 45): \", result)\n"
   ]
  },
  {
   "cell_type": "code",
   "execution_count": 9,
   "id": "4637b783-271a-4778-aa7f-8bef9aa97e96",
   "metadata": {},
   "outputs": [],
   "source": [
    "A = -25"
   ]
  },
  {
   "cell_type": "code",
   "execution_count": 10,
   "id": "3695b840-6fda-4f35-aa7f-0462b06cc5ab",
   "metadata": {},
   "outputs": [],
   "source": [
    "B = 45"
   ]
  },
  {
   "cell_type": "code",
   "execution_count": 11,
   "id": "a84fac51-8b01-441d-a823-f98d1b4374e4",
   "metadata": {},
   "outputs": [],
   "source": [
    "result = A|B"
   ]
  },
  {
   "cell_type": "code",
   "execution_count": 12,
   "id": "28d558b2-8995-4f96-8023-1c60fa8ef55a",
   "metadata": {},
   "outputs": [
    {
     "name": "stdout",
     "output_type": "stream",
     "text": [
      "Result of (-25|45) is: -17\n"
     ]
    }
   ],
   "source": [
    "print(\"Result of (-25|45) is:\", result)"
   ]
  },
  {
   "cell_type": "code",
   "execution_count": 13,
   "id": "6f5894ac-dc5e-4c14-abac-cad064999733",
   "metadata": {},
   "outputs": [],
   "source": [
    "X = True"
   ]
  },
  {
   "cell_type": "code",
   "execution_count": 14,
   "id": "cea39c6d-82e5-47cb-bbed-73d20981baa9",
   "metadata": {},
   "outputs": [],
   "source": [
    "Y = 45"
   ]
  },
  {
   "cell_type": "code",
   "execution_count": 15,
   "id": "9481c48b-4408-4f0a-9572-3b13f83c0b15",
   "metadata": {},
   "outputs": [],
   "source": [
    "result = X|Y"
   ]
  },
  {
   "cell_type": "code",
   "execution_count": 16,
   "id": "25c63b24-7a5a-4705-8726-36b4bdb28abd",
   "metadata": {},
   "outputs": [
    {
     "name": "stdout",
     "output_type": "stream",
     "text": [
      "Result of (True |10) : 45\n"
     ]
    }
   ],
   "source": [
    "print(\"Result of (True |10) :\",result) "
   ]
  },
  {
   "cell_type": "code",
   "execution_count": 17,
   "id": "cdefe252-526c-407d-99be-22060c9058dd",
   "metadata": {},
   "outputs": [],
   "source": [
    "P = False"
   ]
  },
  {
   "cell_type": "code",
   "execution_count": 18,
   "id": "15eb381a-bee6-4baa-b3f0-569f0e2f743d",
   "metadata": {},
   "outputs": [],
   "source": [
    "Q = 15"
   ]
  },
  {
   "cell_type": "code",
   "execution_count": 19,
   "id": "6767f1ea-c6ff-483a-ab7c-b8da7d4ed631",
   "metadata": {},
   "outputs": [],
   "source": [
    "result = P | Q"
   ]
  },
  {
   "cell_type": "code",
   "execution_count": 20,
   "id": "e8a7e172-2562-4ce1-aa12-18eb510bf837",
   "metadata": {},
   "outputs": [
    {
     "name": "stdout",
     "output_type": "stream",
     "text": [
      "Result of (False | 20):  15\n"
     ]
    }
   ],
   "source": [
    "print(\"Result of (False | 20): \", result)"
   ]
  },
  {
   "cell_type": "code",
   "execution_count": null,
   "id": "fbcf3dee-b23e-40ad-ae8f-0519b20e363d",
   "metadata": {},
   "outputs": [],
   "source": []
  }
 ],
 "metadata": {
  "kernelspec": {
   "display_name": "Python 3 (ipykernel)",
   "language": "python",
   "name": "python3"
  },
  "language_info": {
   "codemirror_mode": {
    "name": "ipython",
    "version": 3
   },
   "file_extension": ".py",
   "mimetype": "text/x-python",
   "name": "python",
   "nbconvert_exporter": "python",
   "pygments_lexer": "ipython3",
   "version": "3.12.8"
  }
 },
 "nbformat": 4,
 "nbformat_minor": 5
}
