{
 "cells": [
  {
   "cell_type": "code",
   "execution_count": 1,
   "id": "02e69a30-9214-41c6-89e8-af5d74e767bd",
   "metadata": {},
   "outputs": [],
   "source": [
    "#created at 20250204"
   ]
  },
  {
   "cell_type": "code",
   "execution_count": null,
   "id": "dce94c6b-d177-48b8-b74d-f03b556975df",
   "metadata": {},
   "outputs": [],
   "source": [
    "https://stevejoe1412.gitbook.io/ssn/python-subtopics/pythons-sys-module"
   ]
  },
  {
   "cell_type": "code",
   "execution_count": 2,
   "id": "e20eba82-745c-4e48-887f-1840e3befe7e",
   "metadata": {},
   "outputs": [
    {
     "name": "stdout",
     "output_type": "stream",
     "text": [
      "Current recursion limit: 3000\n",
      "Updated recursion limit: 2000\n"
     ]
    }
   ],
   "source": [
    "import sys\n",
    "\n",
    "print(f\"Current recursion limit: {sys.getrecursionlimit()}\")\n",
    "sys.setrecursionlimit(2000)\n",
    "print(f\"Updated recursion limit: {sys.getrecursionlimit()}\")"
   ]
  },
  {
   "cell_type": "code",
   "execution_count": 3,
   "id": "1a604e9a-5f6c-4989-9f24-c80f1ac50e78",
   "metadata": {},
   "outputs": [
    {
     "name": "stdout",
     "output_type": "stream",
     "text": [
      "Please enter your name:\n",
      "Hello, !\n"
     ]
    }
   ],
   "source": [
    "import sys\n",
    "\n",
    "print(\"Please enter your name:\")\n",
    "name = sys.stdin.readline().strip()\n",
    "print(f\"Hello, {name}!\")"
   ]
  },
  {
   "cell_type": "code",
   "execution_count": 4,
   "id": "2a0e2282-38e6-4e75-af24-0355907b773f",
   "metadata": {},
   "outputs": [
    {
     "name": "stdout",
     "output_type": "stream",
     "text": [
      "Something went wrong.\n"
     ]
    },
    {
     "ename": "SystemExit",
     "evalue": "1",
     "output_type": "error",
     "traceback": [
      "An exception has occurred, use %tb to see the full traceback.\n",
      "\u001b[0;31mSystemExit\u001b[0m\u001b[0;31m:\u001b[0m 1\n"
     ]
    },
    {
     "name": "stderr",
     "output_type": "stream",
     "text": [
      "/home/arnald/miniconda3/envs/py312/lib/python3.12/site-packages/IPython/core/interactiveshell.py:3585: UserWarning: To exit: use 'exit', 'quit', or Ctrl-D.\n",
      "  warn(\"To exit: use 'exit', 'quit', or Ctrl-D.\", stacklevel=1)\n"
     ]
    }
   ],
   "source": [
    "import sys\n",
    "\n",
    "print(\"Something went wrong.\")\n",
    "sys.exit(1)  # Exit with error code 1"
   ]
  },
  {
   "cell_type": "code",
   "execution_count": null,
   "id": "4590cefa-b6a2-403c-8d6d-4b324d9108e2",
   "metadata": {},
   "outputs": [],
   "source": []
  }
 ],
 "metadata": {
  "kernelspec": {
   "display_name": "Python 3 (ipykernel)",
   "language": "python",
   "name": "python3"
  },
  "language_info": {
   "codemirror_mode": {
    "name": "ipython",
    "version": 3
   },
   "file_extension": ".py",
   "mimetype": "text/x-python",
   "name": "python",
   "nbconvert_exporter": "python",
   "pygments_lexer": "ipython3",
   "version": "3.12.8"
  }
 },
 "nbformat": 4,
 "nbformat_minor": 5
}
