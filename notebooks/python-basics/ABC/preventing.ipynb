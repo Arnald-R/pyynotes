{
 "cells": [
  {
   "cell_type": "code",
   "execution_count": 1,
   "id": "ad7a4949-f9f0-441a-91ed-154b8b66f86a",
   "metadata": {},
   "outputs": [],
   "source": [
    "#created atg 20250210"
   ]
  },
  {
   "cell_type": "code",
   "execution_count": null,
   "id": "419e8409-1730-4d29-925f-a36c989d3dce",
   "metadata": {},
   "outputs": [],
   "source": [
    "https://stevejoe1412.gitbook.io/ssn/python-subtopics/5.-abstract-base-classes-abcs"
   ]
  },
  {
   "cell_type": "code",
   "execution_count": 2,
   "id": "3fed00a2-7c54-495a-9404-bc7714c7503c",
   "metadata": {},
   "outputs": [],
   "source": [
    "from abc import ABC,abstractmethod\n",
    "class Vehicle(ABC):\n",
    "    @abstractmethod\n",
    "    def start_engine(self):\n",
    "        pass"
   ]
  },
  {
   "cell_type": "code",
   "execution_count": null,
   "id": "9967a976-a51a-42e7-84b9-70cf8b3350ac",
   "metadata": {},
   "outputs": [],
   "source": []
  }
 ],
 "metadata": {
  "kernelspec": {
   "display_name": "Python 3 (ipykernel)",
   "language": "python",
   "name": "python3"
  },
  "language_info": {
   "codemirror_mode": {
    "name": "ipython",
    "version": 3
   },
   "file_extension": ".py",
   "mimetype": "text/x-python",
   "name": "python",
   "nbconvert_exporter": "python",
   "pygments_lexer": "ipython3",
   "version": "3.12.8"
  }
 },
 "nbformat": 4,
 "nbformat_minor": 5
}
