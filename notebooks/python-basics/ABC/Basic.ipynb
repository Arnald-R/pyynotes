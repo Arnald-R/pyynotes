{
 "cells": [
  {
   "cell_type": "code",
   "execution_count": 1,
   "id": "f32ee76f-d351-44fa-b974-4c599a0b29b0",
   "metadata": {},
   "outputs": [],
   "source": [
    "#created at 20250210"
   ]
  },
  {
   "cell_type": "code",
   "execution_count": null,
   "id": "232b9192-7aca-44e5-b9e5-32019fa998cd",
   "metadata": {},
   "outputs": [],
   "source": [
    "https://stevejoe1412.gitbook.io/ssn/python-subtopics/5.-abstract-base-classes-abcs"
   ]
  },
  {
   "cell_type": "code",
   "execution_count": null,
   "id": "4f00a1cd-2d66-4fc1-a0ec-b67e3c4abfb2",
   "metadata": {},
   "outputs": [],
   "source": [
    "#Basic abstract base class"
   ]
  },
  {
   "cell_type": "code",
   "execution_count": 4,
   "id": "05b09d10-c94e-488b-b3a7-4f3123d02f50",
   "metadata": {},
   "outputs": [
    {
     "name": "stdout",
     "output_type": "stream",
     "text": [
      "woof\n"
     ]
    }
   ],
   "source": [
    "from abc import ABC, abstractmethod\n",
    "class Animal(ABC):\n",
    "    @abstractmethod\n",
    "    def make_sound(self):\n",
    "        pass\n",
    "\n",
    "class Dog(Animal):\n",
    "    def make_sound(self):\n",
    "        return \"woof\" \n",
    "\n",
    "dog = Dog()\n",
    "print(dog.make_sound())"
   ]
  },
  {
   "cell_type": "code",
   "execution_count": null,
   "id": "f4903405-47ef-447c-a952-497ebd1551af",
   "metadata": {},
   "outputs": [],
   "source": []
  },
  {
   "cell_type": "code",
   "execution_count": null,
   "id": "6580cb71-c7d5-4f6b-a29a-500e6a3c650d",
   "metadata": {},
   "outputs": [],
   "source": []
  },
  {
   "cell_type": "code",
   "execution_count": null,
   "id": "5782fd49-25e8-482e-949e-183c96e9b11b",
   "metadata": {},
   "outputs": [],
   "source": []
  }
 ],
 "metadata": {
  "kernelspec": {
   "display_name": "Python 3 (ipykernel)",
   "language": "python",
   "name": "python3"
  },
  "language_info": {
   "codemirror_mode": {
    "name": "ipython",
    "version": 3
   },
   "file_extension": ".py",
   "mimetype": "text/x-python",
   "name": "python",
   "nbconvert_exporter": "python",
   "pygments_lexer": "ipython3",
   "version": "3.12.8"
  }
 },
 "nbformat": 4,
 "nbformat_minor": 5
}
