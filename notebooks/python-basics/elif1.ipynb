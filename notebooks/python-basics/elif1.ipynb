{
 "cells": [
  {
   "cell_type": "code",
   "execution_count": null,
   "id": "133254a9-0c03-4e72-a732-6a84345ea636",
   "metadata": {},
   "outputs": [],
   "source": [
    "#createdat 20250124"
   ]
  },
  {
   "cell_type": "code",
   "execution_count": null,
   "id": "6aa52cfc-5592-46af-babb-143e8324d6ad",
   "metadata": {},
   "outputs": [],
   "source": [
    "https://www.scientecheasy.com/2022/10/python-if-elif-else.html/"
   ]
  },
  {
   "cell_type": "code",
   "execution_count": 1,
   "id": "fc3de16d-299e-4358-a021-e25ab07e8b72",
   "metadata": {},
   "outputs": [
    {
     "name": "stdout",
     "output_type": "stream",
     "text": [
      "math operations\n",
      "----------------\n",
      "+ => Addition\n",
      "- => Subtraction\n",
      "* => Multiplication\n",
      "/ => Division\n"
     ]
    }
   ],
   "source": [
    "print(\"math operations\")\n",
    "print(\"----------------\")\n",
    "print(\"+ => Addition\")\n",
    "print(\"- => Subtraction\")\n",
    "print(\"* => Multiplication\")\n",
    "print(\"/ => Division\")"
   ]
  },
  {
   "cell_type": "code",
   "execution_count": 2,
   "id": "5f7e7703-bfef-44d3-955f-4deffdf70031",
   "metadata": {},
   "outputs": [
    {
     "name": "stdin",
     "output_type": "stream",
     "text": [
      "Enter a input [+,-,*,/]:  *\n"
     ]
    }
   ],
   "source": [
    "opt = input(\"Enter a input [+,-,*,/]: \")"
   ]
  },
  {
   "cell_type": "code",
   "execution_count": 3,
   "id": "3d5172cb-c867-41b0-8b6f-a04fb3f18950",
   "metadata": {},
   "outputs": [
    {
     "name": "stdin",
     "output_type": "stream",
     "text": [
      "Enter the first number:  54\n"
     ]
    }
   ],
   "source": [
    "num1 = int(input(\"Enter the first number: \"))"
   ]
  },
  {
   "cell_type": "code",
   "execution_count": 4,
   "id": "3d008c0a-3d5a-49ba-8e76-27b6350face8",
   "metadata": {},
   "outputs": [
    {
     "name": "stdin",
     "output_type": "stream",
     "text": [
      "Enter the Second number:  34\n"
     ]
    }
   ],
   "source": [
    "num2 = int(input(\"Enter the Second number: \"))"
   ]
  },
  {
   "cell_type": "code",
   "execution_count": 7,
   "id": "f66b6249-3f53-419d-9a77-8352aa8b20d6",
   "metadata": {},
   "outputs": [
    {
     "name": "stdout",
     "output_type": "stream",
     "text": [
      "multi of 54 and 34 is : 1836\n"
     ]
    }
   ],
   "source": [
    "if (opt == '+' ):\n",
    "    num = num1 + num2\n",
    "    print(\"sum of\" ,num1 ,\"and\" ,num2, \"is :\" ,num)\n",
    "elif (opt == '-'):\n",
    "    num = num1 - num2\n",
    "    print(\"sub of\" ,num1, \"and\" ,num2 ,\" is  :\",num)\n",
    "elif (opt == '*'):\n",
    "    num = num1 * num2\n",
    "    print(\"multi of\" ,num1, \"and\" ,num2 ,\"is :\", num)\n",
    "else:\n",
    "    num = num1/num2\n",
    "    print(\"division of\" ,num1, \"and\", num2, \"is :\",num) "
   ]
  },
  {
   "cell_type": "code",
   "execution_count": 9,
   "id": "8e3d514d-9480-46d7-b9ef-6c30039ddbd8",
   "metadata": {},
   "outputs": [
    {
     "name": "stdin",
     "output_type": "stream",
     "text": [
      "Enter the maths marks: 89\n"
     ]
    }
   ],
   "source": [
    "math = int(input(\"Enter the maths marks:\"))"
   ]
  },
  {
   "cell_type": "code",
   "execution_count": 10,
   "id": "e7f7c875-0ec4-4c5a-a62f-397f5bd45d02",
   "metadata": {},
   "outputs": [
    {
     "name": "stdin",
     "output_type": "stream",
     "text": [
      "Enter the phys marks: 91\n"
     ]
    }
   ],
   "source": [
    "phy = int(input(\"Enter the phys marks:\"))"
   ]
  },
  {
   "cell_type": "code",
   "execution_count": 11,
   "id": "13deeec9-8a0f-463a-8f44-c5d9fdb3fde9",
   "metadata": {},
   "outputs": [
    {
     "name": "stdin",
     "output_type": "stream",
     "text": [
      "Enter the Chem marks: 67\n"
     ]
    }
   ],
   "source": [
    "chem = int(input(\"Enter the Chem marks:\"))"
   ]
  },
  {
   "cell_type": "code",
   "execution_count": 16,
   "id": "b267eff7-acff-4dcc-aa12-d4371e8b23d9",
   "metadata": {},
   "outputs": [],
   "source": [
    "total = math + phy + chem"
   ]
  },
  {
   "cell_type": "code",
   "execution_count": 17,
   "id": "4bd4b844-acac-4160-90a0-0630f59341cf",
   "metadata": {},
   "outputs": [],
   "source": [
    "per = total / 3"
   ]
  },
  {
   "cell_type": "code",
   "execution_count": 18,
   "id": "cfbd3d5d-3e6d-4d03-89e5-18727bfe40c6",
   "metadata": {},
   "outputs": [
    {
     "name": "stdout",
     "output_type": "stream",
     "text": [
      "247\n"
     ]
    }
   ],
   "source": [
    "print(total)"
   ]
  },
  {
   "cell_type": "code",
   "execution_count": 19,
   "id": "293d866b-141b-40ca-a3fa-dff8a1153c1b",
   "metadata": {},
   "outputs": [
    {
     "name": "stdout",
     "output_type": "stream",
     "text": [
      "82.33333333333333\n"
     ]
    }
   ],
   "source": [
    "print(per)"
   ]
  },
  {
   "cell_type": "code",
   "execution_count": 20,
   "id": "4da722d7-5ee3-4ed0-b4df-5c16da28ef6b",
   "metadata": {},
   "outputs": [
    {
     "name": "stdout",
     "output_type": "stream",
     "text": [
      "Grade B\n"
     ]
    }
   ],
   "source": [
    "if( per > 90):\n",
    "    print(\"Grade A\")\n",
    "elif( per > 80):\n",
    "    print(\"Grade B\")\n",
    "elif( per > 70):\n",
    "    print(\"Grade C\")\n",
    "else:\n",
    "    print(\"Grade D\")"
   ]
  },
  {
   "cell_type": "code",
   "execution_count": null,
   "id": "bade49ee-53ec-437c-837d-21309a851aea",
   "metadata": {},
   "outputs": [],
   "source": []
  }
 ],
 "metadata": {
  "kernelspec": {
   "display_name": "Python 3 (ipykernel)",
   "language": "python",
   "name": "python3"
  },
  "language_info": {
   "codemirror_mode": {
    "name": "ipython",
    "version": 3
   },
   "file_extension": ".py",
   "mimetype": "text/x-python",
   "name": "python",
   "nbconvert_exporter": "python",
   "pygments_lexer": "ipython3",
   "version": "3.12.8"
  }
 },
 "nbformat": 4,
 "nbformat_minor": 5
}
