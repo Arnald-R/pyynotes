{
 "cells": [
  {
   "cell_type": "code",
   "execution_count": null,
   "id": "1255f06a-eb97-4e29-a9b6-23c325f3aa82",
   "metadata": {},
   "outputs": [],
   "source": [
    "#created at 20250120"
   ]
  },
  {
   "cell_type": "code",
   "execution_count": null,
   "id": "917068de-a104-4594-b490-a3476b18293f",
   "metadata": {},
   "outputs": [],
   "source": [
    "https://www.scientecheasy.com/2022/09/literals-in-python.html/"
   ]
  },
  {
   "cell_type": "code",
   "execution_count": 1,
   "id": "5eff9035-fb83-45fc-861f-6f6670558c58",
   "metadata": {},
   "outputs": [],
   "source": [
    "#literals"
   ]
  },
  {
   "cell_type": "code",
   "execution_count": 3,
   "id": "78f4bd3c-7209-4576-b593-ee4c6e0db35a",
   "metadata": {},
   "outputs": [
    {
     "name": "stdout",
     "output_type": "stream",
     "text": [
      "10\n"
     ]
    }
   ],
   "source": [
    "x=10\n",
    "print(x)\n"
   ]
  },
  {
   "cell_type": "code",
   "execution_count": 4,
   "id": "e766420f-b3a3-4627-a6ee-96d3c57ee452",
   "metadata": {},
   "outputs": [],
   "source": [
    "#string literals"
   ]
  },
  {
   "cell_type": "code",
   "execution_count": 5,
   "id": "2fd88c81-6311-444b-abcb-2e6c9486554c",
   "metadata": {},
   "outputs": [
    {
     "name": "stdout",
     "output_type": "stream",
     "text": [
      "asdf\n",
      "hidear friendhow are you\n"
     ]
    }
   ],
   "source": [
    "singlt_line_string = 'asdf'\n",
    "print(singlt_line_string )\n",
    "multi_line_string = 'hi\\\n",
    "dear friend\\\n",
    "how are you'\n",
    "print(multi_line_string )"
   ]
  },
  {
   "cell_type": "code",
   "execution_count": 6,
   "id": "35a26bac-e6d3-4024-8d3e-dc43c6182577",
   "metadata": {},
   "outputs": [],
   "source": [
    "#integer literals"
   ]
  },
  {
   "cell_type": "code",
   "execution_count": 7,
   "id": "51308e68-5a76-4912-a2c3-ff39ea4c0bca",
   "metadata": {},
   "outputs": [],
   "source": [
    "x = 40\n",
    "y = 0o34\n",
    "z = 0x34"
   ]
  },
  {
   "cell_type": "code",
   "execution_count": 8,
   "id": "7484f254-7655-45ae-9ce2-1514a68a09a2",
   "metadata": {},
   "outputs": [
    {
     "name": "stdout",
     "output_type": "stream",
     "text": [
      "Decimal representation  40\n",
      "Decimal representation  28\n",
      "Decimal representation  52\n"
     ]
    }
   ],
   "source": [
    "print(\"Decimal representation \", x)\n",
    "print(\"Decimal representation \", y)\n",
    "print(\"Decimal representation \", z) \n"
   ]
  },
  {
   "cell_type": "code",
   "execution_count": 9,
   "id": "a40b9c6f-7abb-4629-8e5f-8dc4d5f59a16",
   "metadata": {},
   "outputs": [],
   "source": [
    "#floating point literals"
   ]
  },
  {
   "cell_type": "code",
   "execution_count": 10,
   "id": "b205d1ef-b645-4822-ae2f-d3ba54a92362",
   "metadata": {},
   "outputs": [
    {
     "name": "stdout",
     "output_type": "stream",
     "text": [
      "0.56\n",
      "0.56\n"
     ]
    }
   ],
   "source": [
    "x = 56e-2\n",
    "y = 0.56\n",
    "print(x)\n",
    "print(y)\n"
   ]
  },
  {
   "cell_type": "code",
   "execution_count": 11,
   "id": "f752a59e-0e4b-4c3a-b8b7-e7eaf359644e",
   "metadata": {},
   "outputs": [],
   "source": [
    "#complex literals"
   ]
  },
  {
   "cell_type": "code",
   "execution_count": 12,
   "id": "ee5845bf-7281-47e7-8885-3dadfb322a7c",
   "metadata": {},
   "outputs": [
    {
     "name": "stdout",
     "output_type": "stream",
     "text": [
      "(5+5j)\n",
      "7j\n"
     ]
    }
   ],
   "source": [
    "a = 5 + 5j\n",
    "b = 7j\n",
    "print(a)\n",
    "print(b)\n"
   ]
  },
  {
   "cell_type": "code",
   "execution_count": 13,
   "id": "d3c4c2ae-2868-4f9a-80ab-0c8606bf827b",
   "metadata": {},
   "outputs": [],
   "source": [
    "#boolean literal"
   ]
  },
  {
   "cell_type": "code",
   "execution_count": 14,
   "id": "dbd27369-ee5c-4c78-bf0f-f2f5fb15d8b7",
   "metadata": {},
   "outputs": [
    {
     "name": "stdout",
     "output_type": "stream",
     "text": [
      "a is  True\n",
      "b is  False\n",
      "c is  6\n",
      "d is  5\n"
     ]
    }
   ],
   "source": [
    "a = (9 == 9)\n",
    "b = (5 == False)\n",
    "c = True + 5\n",
    "d = False + 5 \n",
    "\n",
    "print(\"a is \", a)\n",
    "print(\"b is \", b)\n",
    "print(\"c is \", c)\n",
    "print(\"d is \", d)\n"
   ]
  },
  {
   "cell_type": "code",
   "execution_count": 15,
   "id": "5a716c2b-e9bc-4fef-8fd7-c619fe7c2663",
   "metadata": {},
   "outputs": [
    {
     "name": "stdout",
     "output_type": "stream",
     "text": [
      "None\n"
     ]
    }
   ],
   "source": [
    "# Special literals\n",
    "a = None\n",
    "print(a) \n"
   ]
  },
  {
   "cell_type": "code",
   "execution_count": null,
   "id": "b7017f0a-ea03-4c67-9a42-97d50b56fa5b",
   "metadata": {},
   "outputs": [],
   "source": [
    "#collection literal tokens, such as List, Tuple, Dictionary, and Set\n",
    "list =mutable data or values of different types"
   ]
  },
  {
   "cell_type": "code",
   "execution_count": 18,
   "id": "a516d974-cfaa-4a00-b2f7-d1d59cec23d8",
   "metadata": {},
   "outputs": [
    {
     "name": "stdout",
     "output_type": "stream",
     "text": [
      "['Arnald', 'Ambu', 'Anthony']\n",
      "[1, 2, 3, 4, 5, 6, 7, 8, 9]\n"
     ]
    }
   ],
   "source": [
    "#<name of list> = [ <value1>, <value2>, <value3>, . . . . ]\n",
    "# List literals\n",
    "address = ['Arnald', 'Ambu', 'Anthony']\n",
    "print(address)\n",
    "list =[1,2,3,4,5,6,7,8,9]\n",
    "print(list)\n"
   ]
  },
  {
   "cell_type": "code",
   "execution_count": 19,
   "id": "a8b571d7-c500-453e-ad08-bc29570ccc4d",
   "metadata": {},
   "outputs": [],
   "source": [
    "#dictionary = stores value in a key-value pairs"
   ]
  },
  {
   "cell_type": "code",
   "execution_count": 21,
   "id": "d2cc369a-24e2-49f9-8ed0-4d749783ad39",
   "metadata": {},
   "outputs": [
    {
     "name": "stdout",
     "output_type": "stream",
     "text": [
      "{'Arnsld': 67, 'ambu': 89, 'anthony': 58}\n"
     ]
    }
   ],
   "source": [
    "mark_list = { \n",
    "    'Arnsld' : 67,\n",
    "    'ambu'   : 89,\n",
    "    'anthony': 58}\n",
    "print(mark_list)\n"
   ]
  },
  {
   "cell_type": "code",
   "execution_count": 24,
   "id": "ce126a20-d9f6-418e-83c8-e4a881b26b87",
   "metadata": {},
   "outputs": [
    {
     "name": "stdout",
     "output_type": "stream",
     "text": [
      "(90, 80, 68, 70, 95, 91)\n",
      "('a', 'r', 'n', 'o', 'l', 'd')\n",
      "('North', 'South', 'East', 'West')\n"
     ]
    }
   ],
   "source": [
    "# tuple literals\n",
    "numbers = (90, 80, 68, 70, 95, 91)\n",
    "vowels = ('a','r','n','o','l','d')\n",
    "direction = ('North', 'South', 'East', 'West')\n",
    "\n",
    "print(numbers)\n",
    "print(vowels)\n",
    "print(direction)\n"
   ]
  },
  {
   "cell_type": "code",
   "execution_count": 25,
   "id": "a6c4398f-fbba-4c89-9c66-fd9bf7e52cf7",
   "metadata": {},
   "outputs": [],
   "source": [
    "#set literals"
   ]
  },
  {
   "cell_type": "code",
   "execution_count": 26,
   "id": "099d4c89-f12a-49e6-8330-bfb0e9af2744",
   "metadata": {},
   "outputs": [
    {
     "name": "stdout",
     "output_type": "stream",
     "text": [
      "{'seven', 'six', 'eight', 'nine'}\n"
     ]
    }
   ],
   "source": [
    "num_reading = { 'nine','eight' ,'seven' ,'six'}\n",
    "print(num_reading)"
   ]
  },
  {
   "cell_type": "code",
   "execution_count": null,
   "id": "0b97c8e8-3d39-4925-9394-40c65968cb0e",
   "metadata": {},
   "outputs": [],
   "source": []
  }
 ],
 "metadata": {
  "kernelspec": {
   "display_name": "Python 3 (ipykernel)",
   "language": "python",
   "name": "python3"
  },
  "language_info": {
   "codemirror_mode": {
    "name": "ipython",
    "version": 3
   },
   "file_extension": ".py",
   "mimetype": "text/x-python",
   "name": "python",
   "nbconvert_exporter": "python",
   "pygments_lexer": "ipython3",
   "version": "3.12.8"
  }
 },
 "nbformat": 4,
 "nbformat_minor": 5
}
