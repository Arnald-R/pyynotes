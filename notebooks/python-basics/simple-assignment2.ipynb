{
 "cells": [
  {
   "cell_type": "code",
   "execution_count": null,
   "id": "b957b29f-5620-4e6b-b098-756d104642ea",
   "metadata": {},
   "outputs": [],
   "source": [
    "#createdat 20250121"
   ]
  },
  {
   "cell_type": "code",
   "execution_count": null,
   "id": "c11d962f-cfb7-40d4-91fc-5bbce2d09af2",
   "metadata": {},
   "outputs": [],
   "source": [
    "https://www.scientecheasy.com/2022/10/assignment-operators-in-python.html/"
   ]
  },
  {
   "cell_type": "code",
   "execution_count": 1,
   "id": "5ccdee62-f491-4a6b-a4c4-290ea62c9c99",
   "metadata": {},
   "outputs": [],
   "source": [
    "# bitwise and x &= y # It's equivalent to x = x & y."
   ]
  },
  {
   "cell_type": "code",
   "execution_count": 2,
   "id": "652a228c-153c-4c81-9940-9811940cf71e",
   "metadata": {},
   "outputs": [],
   "source": [
    "x = 20"
   ]
  },
  {
   "cell_type": "code",
   "execution_count": 3,
   "id": "fc8ffcb5-b69d-4d0f-8d20-16f393270f26",
   "metadata": {},
   "outputs": [],
   "source": [
    "y = 5"
   ]
  },
  {
   "cell_type": "code",
   "execution_count": null,
   "id": "9871b39c-dc0d-4749-9fde-325d367c1aa9",
   "metadata": {},
   "outputs": [],
   "source": [
    "x &= y#=20&5"
   ]
  },
  {
   "cell_type": "code",
   "execution_count": 4,
   "id": "0f8b0415-9bf6-4468-b8f9-b766fab51a09",
   "metadata": {},
   "outputs": [
    {
     "name": "stdout",
     "output_type": "stream",
     "text": [
      "Result of (x = x & y) =  20\n"
     ]
    }
   ],
   "source": [
    "print(\"Result of (x = x & y) = \", x)"
   ]
  },
  {
   "cell_type": "code",
   "execution_count": 5,
   "id": "e47d57ed-bb9c-42cf-a17d-41abc3b9ba20",
   "metadata": {},
   "outputs": [],
   "source": [
    "#bitwise or"
   ]
  },
  {
   "cell_type": "code",
   "execution_count": 6,
   "id": "af5161b4-b8d5-4807-ba0c-556c22c0c1c5",
   "metadata": {},
   "outputs": [],
   "source": [
    "x = 10"
   ]
  },
  {
   "cell_type": "code",
   "execution_count": 7,
   "id": "122d42c7-c3c8-4d50-be5f-1d89b1b3f3a8",
   "metadata": {},
   "outputs": [],
   "source": [
    "y = 5"
   ]
  },
  {
   "cell_type": "code",
   "execution_count": 8,
   "id": "51beb9d5-4d92-46fd-ac1c-1b3c03f97b05",
   "metadata": {},
   "outputs": [],
   "source": [
    "x |= y"
   ]
  },
  {
   "cell_type": "code",
   "execution_count": 9,
   "id": "6fe41189-e5b8-4dc6-bd50-3136cc65adf5",
   "metadata": {},
   "outputs": [
    {
     "name": "stdout",
     "output_type": "stream",
     "text": [
      "Result of (x = x | y) =  15\n"
     ]
    }
   ],
   "source": [
    "print(\"Result of (x = x | y) = \", x)"
   ]
  },
  {
   "cell_type": "code",
   "execution_count": null,
   "id": "5ec65bae-cacc-4f40-8cd0-0adedf5b5969",
   "metadata": {},
   "outputs": [],
   "source": [
    "#x ^= y # It's equivalent to x = x ^ y.\n"
   ]
  },
  {
   "cell_type": "code",
   "execution_count": 10,
   "id": "76c04252-a72a-4fc5-9952-84544cbfae36",
   "metadata": {},
   "outputs": [],
   "source": [
    "x = 20"
   ]
  },
  {
   "cell_type": "code",
   "execution_count": 11,
   "id": "908a370e-73ae-4e52-9404-bc4664ffd34c",
   "metadata": {},
   "outputs": [],
   "source": [
    "y = 10"
   ]
  },
  {
   "cell_type": "code",
   "execution_count": 12,
   "id": "ea6387fa-e11a-47fb-bb99-b7f88471311f",
   "metadata": {},
   "outputs": [],
   "source": [
    "x ^= y"
   ]
  },
  {
   "cell_type": "code",
   "execution_count": 13,
   "id": "a7b298d8-808b-4053-9c79-9bd5809c723d",
   "metadata": {},
   "outputs": [
    {
     "name": "stdout",
     "output_type": "stream",
     "text": [
      "Result of (x = x ^ y) =  30\n"
     ]
    }
   ],
   "source": [
    "print(\"Result of (x = x ^ y) = \", x)"
   ]
  },
  {
   "cell_type": "code",
   "execution_count": null,
   "id": "cab64c06-d19b-4362-8a0a-0c61739412ef",
   "metadata": {},
   "outputs": [],
   "source": [
    "#x >>= y # It's equivalent to x = x >> y.\n"
   ]
  },
  {
   "cell_type": "code",
   "execution_count": 14,
   "id": "8ffa43ae-30a4-4bed-93e6-a611af3e14f0",
   "metadata": {},
   "outputs": [],
   "source": [
    "x = 6"
   ]
  },
  {
   "cell_type": "code",
   "execution_count": 15,
   "id": "2b37b53e-3f50-40fe-9881-faabd60ec203",
   "metadata": {},
   "outputs": [],
   "source": [
    "y = 2"
   ]
  },
  {
   "cell_type": "code",
   "execution_count": 16,
   "id": "b4ed01c9-8294-4362-b8b2-70a50ce41d29",
   "metadata": {},
   "outputs": [],
   "source": [
    "x >>= y"
   ]
  },
  {
   "cell_type": "code",
   "execution_count": 17,
   "id": "36336def-339c-45c0-bcf8-984d5673ea54",
   "metadata": {},
   "outputs": [
    {
     "name": "stdout",
     "output_type": "stream",
     "text": [
      "Result of (x = x >> y) =  1\n"
     ]
    }
   ],
   "source": [
    "print(\"Result of (x = x >> y) = \", x)"
   ]
  },
  {
   "cell_type": "code",
   "execution_count": 18,
   "id": "a9cb1a3e-1578-4e40-9f5b-0c01a9f9343e",
   "metadata": {},
   "outputs": [],
   "source": [
    "x = 6"
   ]
  },
  {
   "cell_type": "code",
   "execution_count": 19,
   "id": "9dbe0b5a-a00d-4dab-aba4-35d5fb236e43",
   "metadata": {},
   "outputs": [],
   "source": [
    "y = 2"
   ]
  },
  {
   "cell_type": "code",
   "execution_count": 20,
   "id": "4553c29c-ddb9-430a-9e15-70fa23b9b60d",
   "metadata": {},
   "outputs": [],
   "source": [
    "x <<= y"
   ]
  },
  {
   "cell_type": "code",
   "execution_count": 21,
   "id": "0001cf56-498b-4419-b673-35222e93aef7",
   "metadata": {},
   "outputs": [
    {
     "name": "stdout",
     "output_type": "stream",
     "text": [
      "Result of (x = x << y) =  24\n"
     ]
    }
   ],
   "source": [
    "print(\"Result of (x = x << y) = \", x)"
   ]
  },
  {
   "cell_type": "code",
   "execution_count": 22,
   "id": "ee14d759-7fff-4baf-84ff-570673c42a4b",
   "metadata": {},
   "outputs": [],
   "source": [
    "x, y, z = 20, 30, 50"
   ]
  },
  {
   "cell_type": "code",
   "execution_count": 23,
   "id": "2dfe43ff-70db-490d-ba7f-67d3abbb6c57",
   "metadata": {},
   "outputs": [],
   "source": [
    "x += y"
   ]
  },
  {
   "cell_type": "code",
   "execution_count": 24,
   "id": "bf3a4ee8-fd0c-45fa-af8e-4b82e9772b37",
   "metadata": {},
   "outputs": [],
   "source": [
    "y -= x + z"
   ]
  },
  {
   "cell_type": "code",
   "execution_count": 25,
   "id": "3cfc98ec-d9d2-44cf-8a5a-407d5194351b",
   "metadata": {},
   "outputs": [],
   "source": [
    "z *= x * y"
   ]
  },
  {
   "cell_type": "code",
   "execution_count": 26,
   "id": "f4f36463-3013-4deb-b10b-d690909bade1",
   "metadata": {},
   "outputs": [
    {
     "name": "stdout",
     "output_type": "stream",
     "text": [
      "x =  50\n"
     ]
    }
   ],
   "source": [
    "print(\"x = \", x)"
   ]
  },
  {
   "cell_type": "code",
   "execution_count": 27,
   "id": "71a03976-5d58-43a7-b4bd-9f54666794ca",
   "metadata": {},
   "outputs": [
    {
     "name": "stdout",
     "output_type": "stream",
     "text": [
      "y =  -70\n"
     ]
    }
   ],
   "source": [
    "print(\"y = \", y)"
   ]
  },
  {
   "cell_type": "code",
   "execution_count": 28,
   "id": "89abb8b3-c262-431c-b9c2-5cdc2657b43f",
   "metadata": {},
   "outputs": [
    {
     "name": "stdout",
     "output_type": "stream",
     "text": [
      "z =  -175000\n"
     ]
    }
   ],
   "source": [
    "print(\"z = \", z )"
   ]
  },
  {
   "cell_type": "code",
   "execution_count": null,
   "id": "457c256b-f5d6-420d-b961-8c8e34d88ce6",
   "metadata": {},
   "outputs": [],
   "source": []
  }
 ],
 "metadata": {
  "kernelspec": {
   "display_name": "Python 3 (ipykernel)",
   "language": "python",
   "name": "python3"
  },
  "language_info": {
   "codemirror_mode": {
    "name": "ipython",
    "version": 3
   },
   "file_extension": ".py",
   "mimetype": "text/x-python",
   "name": "python",
   "nbconvert_exporter": "python",
   "pygments_lexer": "ipython3",
   "version": "3.12.8"
  }
 },
 "nbformat": 4,
 "nbformat_minor": 5
}
