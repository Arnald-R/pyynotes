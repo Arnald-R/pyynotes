{
 "cells": [
  {
   "cell_type": "code",
   "execution_count": null,
   "id": "a2f5233f-94b3-4add-8e99-6a1fab28d0bc",
   "metadata": {},
   "outputs": [],
   "source": [
    "#created at 20250124"
   ]
  },
  {
   "cell_type": "code",
   "execution_count": null,
   "id": "27f72f83-25e6-4815-89e3-479594b05305",
   "metadata": {},
   "outputs": [],
   "source": [
    "https://www.scientecheasy.com/2022/10/loops-in-python.html/"
   ]
  },
  {
   "cell_type": "code",
   "execution_count": 1,
   "id": "e4ac1ef3-e266-4a96-8e17-87b5f1ed7f69",
   "metadata": {},
   "outputs": [],
   "source": [
    "count = 0"
   ]
  },
  {
   "cell_type": "code",
   "execution_count": 3,
   "id": "9305b461-c1e1-4483-b8d7-341527c91f06",
   "metadata": {},
   "outputs": [
    {
     "name": "stdout",
     "output_type": "stream",
     "text": [
      "Hello world\n",
      "Hello world\n",
      "Hello world\n",
      "Hello world\n",
      "Hello world\n",
      "Hello world\n",
      "Hello world\n",
      "Hello world\n",
      "Hello world\n",
      "Hello world\n",
      "Hello world\n",
      "Hello world\n",
      "Hello world\n",
      "Hello world\n",
      "Hello world\n",
      "Hello world\n",
      "Hello world\n",
      "Hello world\n",
      "Hello world\n",
      "Hello world\n",
      "Hello world\n",
      "Hello world\n",
      "Hello world\n",
      "Hello world\n",
      "Hello world\n",
      "Hello world\n",
      "Hello world\n",
      "Hello world\n",
      "Hello world\n",
      "Hello world\n",
      "Hello world\n",
      "Hello world\n",
      "Hello world\n",
      "Hello world\n",
      "Hello world\n",
      "Hello world\n",
      "Hello world\n",
      "Hello world\n",
      "Hello world\n",
      "Hello world\n",
      "Hello world\n",
      "Hello world\n",
      "Hello world\n",
      "Hello world\n",
      "Hello world\n",
      "Hello world\n",
      "Hello world\n",
      "Hello world\n",
      "Hello world\n",
      "Hello world\n",
      "Hello world\n",
      "Hello world\n",
      "Hello world\n",
      "Hello world\n",
      "Hello world\n",
      "Hello world\n",
      "Hello world\n",
      "Hello world\n",
      "Hello world\n",
      "Hello world\n",
      "Hello world\n",
      "Hello world\n",
      "Hello world\n",
      "Hello world\n",
      "Hello world\n",
      "Hello world\n",
      "Hello world\n",
      "Hello world\n",
      "Hello world\n",
      "Hello world\n",
      "Hello world\n",
      "Hello world\n",
      "Hello world\n",
      "Hello world\n",
      "Hello world\n",
      "Hello world\n",
      "Hello world\n",
      "Hello world\n",
      "Hello world\n",
      "Hello world\n",
      "Hello world\n",
      "Hello world\n",
      "Hello world\n",
      "Hello world\n",
      "Hello world\n",
      "Hello world\n",
      "Hello world\n",
      "Hello world\n",
      "Hello world\n",
      "Hello world\n",
      "Hello world\n",
      "Hello world\n",
      "Hello world\n",
      "Hello world\n",
      "Hello world\n",
      "Hello world\n",
      "Hello world\n",
      "Hello world\n",
      "Hello world\n",
      "Hello world\n",
      "loop over\n"
     ]
    }
   ],
   "source": [
    "while count < 100:\n",
    "    print(\"Hello world\")\n",
    "    count += 1\n",
    "print(\"loop over\")"
   ]
  },
  {
   "cell_type": "code",
   "execution_count": 4,
   "id": "761df817-cc98-4413-8c13-2c340e58ff7b",
   "metadata": {},
   "outputs": [
    {
     "name": "stdout",
     "output_type": "stream",
     "text": [
      "you are a high scorer\n",
      "you are a high scorer\n",
      "you are a high scorer\n",
      "you are a high scorer\n",
      "you are a high scorer\n"
     ]
    }
   ],
   "source": [
    "for count in range( 0 , 5):\n",
    "     print(\"you are a high scorer\")"
   ]
  },
  {
   "cell_type": "code",
   "execution_count": 5,
   "id": "6ff7dd51-d7d2-4099-9b80-a79abb45e936",
   "metadata": {},
   "outputs": [
    {
     "name": "stdout",
     "output_type": "stream",
     "text": [
      "hi how are you\n",
      "hi how are you\n"
     ]
    }
   ],
   "source": [
    "for count in 1,2:\n",
    "    print(\"hi how are you\")"
   ]
  },
  {
   "cell_type": "code",
   "execution_count": 7,
   "id": "884e05c2-adda-4611-97c7-f60af4e987ed",
   "metadata": {},
   "outputs": [
    {
     "name": "stdout",
     "output_type": "stream",
     "text": [
      "hello 1\n",
      "hello 2\n",
      "hello 3\n",
      "hello 4\n"
     ]
    }
   ],
   "source": [
    "for count in 1,2,3,4:\n",
    "    print(\"hello\",count)"
   ]
  },
  {
   "cell_type": "code",
   "execution_count": 8,
   "id": "6cabca08-1927-40c9-b488-8ff0e9453454",
   "metadata": {},
   "outputs": [
    {
     "name": "stdout",
     "output_type": "stream",
     "text": [
      "Arnald\n",
      "Arnald\n",
      "Arnald\n",
      "Arnald\n",
      "Arnald\n"
     ]
    }
   ],
   "source": [
    "#first stop range\n",
    "for i in range(5):\n",
    "    print(\"Arnald\")"
   ]
  },
  {
   "cell_type": "code",
   "execution_count": 9,
   "id": "672f67a7-892e-4ddf-8f8d-1106a3367285",
   "metadata": {},
   "outputs": [
    {
     "name": "stdout",
     "output_type": "stream",
     "text": [
      "Hi there my for loop\n",
      "Hi there my for loop\n",
      "Hi there my for loop\n",
      "Hi there my for loop\n"
     ]
    }
   ],
   "source": [
    "#for start and stop range\n",
    "for i in range(1,5):\n",
    "    print(\"Hi there my for loop\")"
   ]
  },
  {
   "cell_type": "code",
   "execution_count": 10,
   "id": "d3a1f3d5-5d95-4c71-a988-a74b1ab999ad",
   "metadata": {},
   "outputs": [
    {
     "name": "stdout",
     "output_type": "stream",
     "text": [
      "1 -my code\n",
      "3 -my code\n",
      "5 -my code\n",
      "7 -my code\n",
      "9 -my code\n"
     ]
    }
   ],
   "source": [
    "#for start stop and step method to print\n",
    "for i in range(1,10,2):\n",
    "    print(i,\"-my code\")"
   ]
  },
  {
   "cell_type": "code",
   "execution_count": null,
   "id": "2456a01d-4cce-43a6-805f-c2e3c5227234",
   "metadata": {},
   "outputs": [],
   "source": [
    "\n",
    "\n"
   ]
  },
  {
   "cell_type": "code",
   "execution_count": null,
   "id": "a2f34f38-fd84-4979-abf3-0bf2d1fca475",
   "metadata": {},
   "outputs": [],
   "source": []
  },
  {
   "cell_type": "code",
   "execution_count": null,
   "id": "b0bb10fd-ae77-463b-acbf-c4c02b445a32",
   "metadata": {},
   "outputs": [],
   "source": []
  },
  {
   "cell_type": "code",
   "execution_count": null,
   "id": "ca0a2f8e-c0dc-45ad-9fa3-8d29e7652eb7",
   "metadata": {},
   "outputs": [],
   "source": []
  },
  {
   "cell_type": "code",
   "execution_count": null,
   "id": "22d615d8-9438-4806-a2d1-f5d8ccb75a25",
   "metadata": {},
   "outputs": [],
   "source": []
  }
 ],
 "metadata": {
  "kernelspec": {
   "display_name": "Python 3 (ipykernel)",
   "language": "python",
   "name": "python3"
  },
  "language_info": {
   "codemirror_mode": {
    "name": "ipython",
    "version": 3
   },
   "file_extension": ".py",
   "mimetype": "text/x-python",
   "name": "python",
   "nbconvert_exporter": "python",
   "pygments_lexer": "ipython3",
   "version": "3.12.8"
  }
 },
 "nbformat": 4,
 "nbformat_minor": 5
}
