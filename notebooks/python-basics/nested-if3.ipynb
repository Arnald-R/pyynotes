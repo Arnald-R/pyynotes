{
 "cells": [
  {
   "cell_type": "code",
   "execution_count": null,
   "id": "c4cb47c5-e2c9-4de9-98a3-b2f58a4d6c7a",
   "metadata": {},
   "outputs": [],
   "source": [
    "#created at 20250124"
   ]
  },
  {
   "cell_type": "code",
   "execution_count": null,
   "id": "75b2d0d1-12dd-4297-9c00-bb546f01bafa",
   "metadata": {},
   "outputs": [],
   "source": [
    "https://www.scientecheasy.com/2022/10/python-nested-if.html/"
   ]
  },
  {
   "cell_type": "code",
   "execution_count": 1,
   "id": "fe2a63ac-0940-403b-84a8-2828d9eeced8",
   "metadata": {},
   "outputs": [
    {
     "name": "stdin",
     "output_type": "stream",
     "text": [
      "enter the year to check leap year: 2027\n"
     ]
    }
   ],
   "source": [
    "year = int(input(\"enter the year to check leap year:\"))"
   ]
  },
  {
   "cell_type": "code",
   "execution_count": 4,
   "id": "282f22d5-1a0b-463a-a95e-ef698b624a4e",
   "metadata": {},
   "outputs": [
    {
     "name": "stdout",
     "output_type": "stream",
     "text": [
      "2027 is not leap year\n"
     ]
    }
   ],
   "source": [
    "if year % 4 == 0:\n",
    "    if year % 100 == 0:\n",
    "        if year % 400 == 0:\n",
    "            print(year,\" is a leap year\")\n",
    "        else:\n",
    "            print(year,\" is not leap year\")\n",
    "    else:\n",
    "        print(year,\"is a leap year\")\n",
    "else:\n",
    "    print(year,\"is not leap year\")"
   ]
  },
  {
   "cell_type": "code",
   "execution_count": 5,
   "id": "7d2cd879-783f-4e8a-b5f5-8de269c80706",
   "metadata": {},
   "outputs": [
    {
     "name": "stdin",
     "output_type": "stream",
     "text": [
      "Please enter an operator [+, -, *, or /]:  *\n"
     ]
    }
   ],
   "source": [
    "opr = input('Please enter an operator [+, -, *, or /]: ')"
   ]
  },
  {
   "cell_type": "code",
   "execution_count": 19,
   "id": "6bae730a-79ca-447a-bc86-6896cbebe690",
   "metadata": {},
   "outputs": [
    {
     "name": "stdin",
     "output_type": "stream",
     "text": [
      " please enter the first number: 56\n",
      " please enter the second number: 67\n"
     ]
    },
    {
     "name": "stdout",
     "output_type": "stream",
     "text": [
      "Multiplication of 56 and 67 = 3752\n"
     ]
    }
   ],
   "source": [
    "if ( opr == '+' or opr == '-' or opr == '*' or opr == '/'):\n",
    "    n1 = int(input(\" please enter the first number:\"))\n",
    "    n2 = int(input(\" please enter the second number:\"))\n",
    "    if(opr == '+'):\n",
    "        sum = n1 + n2\n",
    "        print(\"sum of\", n1, \"and \",n2, '= ',sum)\n",
    "    elif(opr == '-'):\n",
    "        if(n1 > n2):\n",
    "            diff = n1 - n2\n",
    "        else:\n",
    "            diff = n2 - n1\n",
    "        print(\"Differnce between\",n1,\"and\",n2,\" = \",diff)\n",
    "    elif(opr == '*'):\n",
    "        multiply = n1 * n2\n",
    "        print('Multiplication of',n1,'and',n2,'=', multiply)\n",
    "    elif(opr == '/'):\n",
    "        if(n1 == 0 or n2 == 0):\n",
    "            print('Numbers must be positive.')\n",
    "        else:\n",
    "            div = n1 / n2\n",
    "            print('Division of',n1,'by',n2,'=', div)\n",
    "else:\n",
    "    print('Sorry, you have entered an invalid operator. Please choose any of these +, -, *, or /.')\n"
   ]
  },
  {
   "cell_type": "code",
   "execution_count": null,
   "id": "2c36e39f-73a4-4ba5-a15e-539b7612d76f",
   "metadata": {},
   "outputs": [],
   "source": []
  },
  {
   "cell_type": "code",
   "execution_count": null,
   "id": "ef8b9ca8-fec2-4204-8f0a-3c43b361ad26",
   "metadata": {},
   "outputs": [],
   "source": []
  },
  {
   "cell_type": "code",
   "execution_count": null,
   "id": "e2ef0223-af0a-4626-b9e1-de13095ec647",
   "metadata": {},
   "outputs": [],
   "source": []
  },
  {
   "cell_type": "code",
   "execution_count": null,
   "id": "b6e0c32b-12bd-4cdb-aa17-e4b3b9ef3206",
   "metadata": {},
   "outputs": [],
   "source": []
  },
  {
   "cell_type": "code",
   "execution_count": null,
   "id": "9cd04d2d-688e-4b38-87a2-628cbc030fae",
   "metadata": {},
   "outputs": [],
   "source": []
  },
  {
   "cell_type": "code",
   "execution_count": null,
   "id": "ee00f136-8861-49e6-9afa-abc50c1ba541",
   "metadata": {},
   "outputs": [],
   "source": []
  },
  {
   "cell_type": "code",
   "execution_count": null,
   "id": "eae3b90d-7475-42ce-9126-ee0aa0bce4dc",
   "metadata": {},
   "outputs": [],
   "source": []
  },
  {
   "cell_type": "code",
   "execution_count": null,
   "id": "b17abec7-c530-48da-8b68-3344cf722ed6",
   "metadata": {},
   "outputs": [],
   "source": []
  },
  {
   "cell_type": "code",
   "execution_count": null,
   "id": "0e0f4cda-7502-4368-9154-5da4007e1f5c",
   "metadata": {},
   "outputs": [],
   "source": []
  }
 ],
 "metadata": {
  "kernelspec": {
   "display_name": "Python 3 (ipykernel)",
   "language": "python",
   "name": "python3"
  },
  "language_info": {
   "codemirror_mode": {
    "name": "ipython",
    "version": 3
   },
   "file_extension": ".py",
   "mimetype": "text/x-python",
   "name": "python",
   "nbconvert_exporter": "python",
   "pygments_lexer": "ipython3",
   "version": "3.12.8"
  }
 },
 "nbformat": 4,
 "nbformat_minor": 5
}
