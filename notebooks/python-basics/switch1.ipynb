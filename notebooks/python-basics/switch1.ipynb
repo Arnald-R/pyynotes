{
 "cells": [
  {
   "cell_type": "code",
   "execution_count": 1,
   "id": "850080b0-1e4d-4bb6-b023-fcb17adcc764",
   "metadata": {},
   "outputs": [],
   "source": [
    "#createdat 20250125"
   ]
  },
  {
   "cell_type": "code",
   "execution_count": null,
   "id": "ee6d95ec-057f-49f2-a900-b0c90aa43600",
   "metadata": {},
   "outputs": [],
   "source": [
    "https://www.scientecheasy.com/2022/11/switch-statement-in-python.html/"
   ]
  },
  {
   "cell_type": "code",
   "execution_count": 12,
   "id": "7678234b-ca55-4bac-8c25-7c2ca1dccc0c",
   "metadata": {},
   "outputs": [
    {
     "name": "stdin",
     "output_type": "stream",
     "text": [
      "enter the first number: 21\n"
     ]
    }
   ],
   "source": [
    "x = int(input(\"enter the first number:\"))"
   ]
  },
  {
   "cell_type": "code",
   "execution_count": 15,
   "id": "c951df45-a9f7-4fb9-97b5-20fb6c659c6e",
   "metadata": {},
   "outputs": [
    {
     "name": "stdin",
     "output_type": "stream",
     "text": [
      "enter the second number: 21\n"
     ]
    }
   ],
   "source": [
    "y = int(input(\"enter the second number:\"))"
   ]
  },
  {
   "cell_type": "code",
   "execution_count": 16,
   "id": "b8bcc476-6b71-4146-8a58-c50c033fc262",
   "metadata": {},
   "outputs": [
    {
     "name": "stdin",
     "output_type": "stream",
     "text": [
      " enter the choice 1.addition 2.subtraction 3.division 4.multiplication 2\n"
     ]
    }
   ],
   "source": [
    "choice =int(input(\" enter the choice 1.addition 2.subtraction 3.division 4.multiplication\"))"
   ]
  },
  {
   "cell_type": "code",
   "execution_count": 17,
   "id": "91f7cc4b-ffba-46de-9dda-4c397d6a9701",
   "metadata": {},
   "outputs": [],
   "source": [
    "def addition():\n",
    "    sum = x + y\n",
    "    return sum\n",
    "def subtraction():\n",
    "    sub = x - y\n",
    "    return sub\n",
    "def division():\n",
    "    div = x / y\n",
    "    return div\n",
    "def multiplication():\n",
    "    mul = x * y\n",
    "    return mul\n",
    "def default():\n",
    "    return \"you selected the wrong operation\"\n"
   ]
  },
  {
   "cell_type": "code",
   "execution_count": 18,
   "id": "d8cfc35c-e8cf-4ddf-a82b-0489d9c349e3",
   "metadata": {},
   "outputs": [],
   "source": [
    "switcher = {\n",
    "    1 : addition,\n",
    "    2 : subtraction,\n",
    "    3 : division,\n",
    "    4 : multiplication\n",
    "}"
   ]
  },
  {
   "cell_type": "code",
   "execution_count": 19,
   "id": "4fb791da-9244-4d53-8103-9ce840d45d7a",
   "metadata": {},
   "outputs": [
    {
     "name": "stdout",
     "output_type": "stream",
     "text": [
      "0\n"
     ]
    }
   ],
   "source": [
    "def switch(num):\n",
    "    return switcher.get(num,default)()\n",
    "print (switch(choice)) "
   ]
  },
  {
   "cell_type": "code",
   "execution_count": null,
   "id": "9114628c-fd22-4983-9f44-5fb5dad7ac61",
   "metadata": {},
   "outputs": [],
   "source": []
  }
 ],
 "metadata": {
  "kernelspec": {
   "display_name": "Python 3 (ipykernel)",
   "language": "python",
   "name": "python3"
  },
  "language_info": {
   "codemirror_mode": {
    "name": "ipython",
    "version": 3
   },
   "file_extension": ".py",
   "mimetype": "text/x-python",
   "name": "python",
   "nbconvert_exporter": "python",
   "pygments_lexer": "ipython3",
   "version": "3.12.8"
  }
 },
 "nbformat": 4,
 "nbformat_minor": 5
}
