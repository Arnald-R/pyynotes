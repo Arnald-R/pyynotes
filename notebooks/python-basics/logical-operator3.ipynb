{
 "cells": [
  {
   "cell_type": "code",
   "execution_count": 1,
   "id": "919ec4f3-2df2-4bd2-b258-c9d616a23fa6",
   "metadata": {},
   "outputs": [],
   "source": [
    "#created at 20250122"
   ]
  },
  {
   "cell_type": "code",
   "execution_count": null,
   "id": "fa62db11-b5a2-4b8e-a31b-9c66ced6ffe1",
   "metadata": {},
   "outputs": [],
   "source": [
    "https://www.scientecheasy.com/2022/10/logical-operators-in-python.html/"
   ]
  },
  {
   "cell_type": "code",
   "execution_count": null,
   "id": "a923e9d0-9f7b-4cea-9492-f47d647ce8cb",
   "metadata": {},
   "outputs": [],
   "source": [
    "#logical or"
   ]
  },
  {
   "cell_type": "code",
   "execution_count": 2,
   "id": "fb6a4f2a-98b7-4eee-aebe-9def52d67ad2",
   "metadata": {},
   "outputs": [
    {
     "name": "stdout",
     "output_type": "stream",
     "text": [
      "True\n"
     ]
    }
   ],
   "source": [
    "print((2 == 2) or (3 > 5))"
   ]
  },
  {
   "cell_type": "code",
   "execution_count": 3,
   "id": "afcc470a-a1b8-44c7-ae61-fe315c26f9d0",
   "metadata": {},
   "outputs": [
    {
     "name": "stdout",
     "output_type": "stream",
     "text": [
      "True\n"
     ]
    }
   ],
   "source": [
    "print((5 > 18) or (3 != 9))"
   ]
  },
  {
   "cell_type": "code",
   "execution_count": 4,
   "id": "48c357fc-55ea-4ca0-b727-ea838125f47b",
   "metadata": {},
   "outputs": [
    {
     "name": "stdout",
     "output_type": "stream",
     "text": [
      "True\n"
     ]
    }
   ],
   "source": [
    "print((4 == 4) or (5 < 9))"
   ]
  },
  {
   "cell_type": "code",
   "execution_count": 5,
   "id": "ffd64f3a-9037-410e-b2dd-1dae4588cf36",
   "metadata": {},
   "outputs": [
    {
     "name": "stdout",
     "output_type": "stream",
     "text": [
      "False\n"
     ]
    }
   ],
   "source": [
    "print((4 < 2) or (2 == 1))"
   ]
  },
  {
   "cell_type": "code",
   "execution_count": 6,
   "id": "8a449bbd-57bc-4e6a-b016-cf20edc0843c",
   "metadata": {},
   "outputs": [
    {
     "name": "stdout",
     "output_type": "stream",
     "text": [
      "False\n"
     ]
    }
   ],
   "source": [
    "print((3 != 3) or (3 >= 9)) "
   ]
  },
  {
   "cell_type": "code",
   "execution_count": 7,
   "id": "08769dd1-dcdc-4f0c-a69a-ba12578fad63",
   "metadata": {},
   "outputs": [],
   "source": [
    "x, y ,z = 20, 10, 5"
   ]
  },
  {
   "cell_type": "code",
   "execution_count": 13,
   "id": "5b6f02b4-6732-4261-b62f-db03caa076ee",
   "metadata": {},
   "outputs": [
    {
     "name": "stdout",
     "output_type": "stream",
     "text": [
      "python\n"
     ]
    }
   ],
   "source": [
    "if( x > y or y > z):\n",
    "    print(\"python\")"
   ]
  },
  {
   "cell_type": "code",
   "execution_count": 14,
   "id": "66d0c8d5-5968-4c92-b8a1-cd55e1f1e1c8",
   "metadata": {},
   "outputs": [
    {
     "name": "stdout",
     "output_type": "stream",
     "text": [
      "java script\n"
     ]
    }
   ],
   "source": [
    "if( z > y  or y < x):\n",
    "    print(\"java script\")"
   ]
  },
  {
   "cell_type": "code",
   "execution_count": 16,
   "id": "d5e79b64-f124-44a3-a8cf-89ea3c0dabc5",
   "metadata": {},
   "outputs": [],
   "source": [
    "if((y+20) < x or (z + 15) < y):\n",
    "    print(\"java\")"
   ]
  },
  {
   "cell_type": "code",
   "execution_count": 17,
   "id": "df0521a2-c498-4b16-9507-358f58194950",
   "metadata": {},
   "outputs": [],
   "source": [
    "x, y, z = 10, 5, 20"
   ]
  },
  {
   "cell_type": "code",
   "execution_count": 18,
   "id": "7d9f786a-4243-491b-b5bb-7f515f148ba7",
   "metadata": {},
   "outputs": [
    {
     "name": "stdout",
     "output_type": "stream",
     "text": [
      "one\n"
     ]
    }
   ],
   "source": [
    "if((x > y) or (y == z)):\n",
    "    print(\"one\")"
   ]
  },
  {
   "cell_type": "code",
   "execution_count": 19,
   "id": "32f3bbbc-d8a2-42ad-9b26-c4d99ef17cb0",
   "metadata": {},
   "outputs": [
    {
     "name": "stdout",
     "output_type": "stream",
     "text": [
      "two\n"
     ]
    }
   ],
   "source": [
    "if((x == y) or (y < z)):\n",
    "    print(\"two\")"
   ]
  },
  {
   "cell_type": "code",
   "execution_count": 21,
   "id": "7f4f1036-b76a-4006-9983-317f17919e9d",
   "metadata": {},
   "outputs": [
    {
     "name": "stdout",
     "output_type": "stream",
     "text": [
      "three\n"
     ]
    }
   ],
   "source": [
    "if((x != y) or (y != z)):\n",
    "    print(\"three\")"
   ]
  },
  {
   "cell_type": "code",
   "execution_count": 22,
   "id": "c5e72606-2315-4bbc-9d37-264d7f188b39",
   "metadata": {},
   "outputs": [],
   "source": [
    "if((x < y) or (y > z)):\n",
    "    print(\"Four\")"
   ]
  },
  {
   "cell_type": "code",
   "execution_count": 23,
   "id": "705acc9b-dd9c-4cbd-8202-555be75aa916",
   "metadata": {},
   "outputs": [],
   "source": [
    "a = (\"big \" != \"bigger\") or False"
   ]
  },
  {
   "cell_type": "code",
   "execution_count": 24,
   "id": "d1af2819-9036-4a07-98b5-9d08c1a8ff60",
   "metadata": {},
   "outputs": [
    {
     "name": "stdout",
     "output_type": "stream",
     "text": [
      "a : True\n"
     ]
    }
   ],
   "source": [
    "print(\"a :\",a)"
   ]
  },
  {
   "cell_type": "code",
   "execution_count": 26,
   "id": "34b6b43d-195d-4222-b49a-64d8542bda6e",
   "metadata": {},
   "outputs": [],
   "source": [
    "b = True or False"
   ]
  },
  {
   "cell_type": "code",
   "execution_count": 27,
   "id": "9e2d43f8-9c32-4322-b5a9-ff46cd77417f",
   "metadata": {},
   "outputs": [
    {
     "name": "stdout",
     "output_type": "stream",
     "text": [
      "b:  True\n"
     ]
    }
   ],
   "source": [
    "print(\"b: \",b)"
   ]
  },
  {
   "cell_type": "code",
   "execution_count": 28,
   "id": "48cf0eaa-5b44-427c-9c0e-f71f32c7d56c",
   "metadata": {},
   "outputs": [],
   "source": [
    "c = \"a\" or D"
   ]
  },
  {
   "cell_type": "code",
   "execution_count": 29,
   "id": "4a983c26-4710-43c4-8ba6-1c4a4e9013f3",
   "metadata": {},
   "outputs": [
    {
     "name": "stdout",
     "output_type": "stream",
     "text": [
      "c:  a\n"
     ]
    }
   ],
   "source": [
    "print(\"c: \", c)"
   ]
  },
  {
   "cell_type": "code",
   "execution_count": 30,
   "id": "3cea873a-7029-4138-8aa5-d186873be699",
   "metadata": {},
   "outputs": [],
   "source": [
    "d = (\"ABc\" > \"abC\") or False"
   ]
  },
  {
   "cell_type": "code",
   "execution_count": 31,
   "id": "774878a5-03df-4cb4-8e7d-82eb5fd91540",
   "metadata": {},
   "outputs": [
    {
     "name": "stdout",
     "output_type": "stream",
     "text": [
      "d:  False\n"
     ]
    }
   ],
   "source": [
    "print(\"d: \", d)"
   ]
  }
 ],
 "metadata": {
  "kernelspec": {
   "display_name": "Python 3 (ipykernel)",
   "language": "python",
   "name": "python3"
  },
  "language_info": {
   "codemirror_mode": {
    "name": "ipython",
    "version": 3
   },
   "file_extension": ".py",
   "mimetype": "text/x-python",
   "name": "python",
   "nbconvert_exporter": "python",
   "pygments_lexer": "ipython3",
   "version": "3.12.8"
  }
 },
 "nbformat": 4,
 "nbformat_minor": 5
}
