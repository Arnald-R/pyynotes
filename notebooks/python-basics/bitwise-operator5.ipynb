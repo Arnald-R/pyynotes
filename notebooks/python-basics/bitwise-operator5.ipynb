{
 "cells": [
  {
   "cell_type": "code",
   "execution_count": null,
   "id": "cd2aa130-2717-4835-8b4d-265837269120",
   "metadata": {},
   "outputs": [],
   "source": [
    "#created at 20250122"
   ]
  },
  {
   "cell_type": "code",
   "execution_count": null,
   "id": "98825510-c990-4a3f-9f0d-471bb1ba646e",
   "metadata": {},
   "outputs": [],
   "source": [
    "https://www.scientecheasy.com/2022/10/bitwise-operators-in-python.html/"
   ]
  },
  {
   "cell_type": "code",
   "execution_count": 7,
   "id": "e57aaa35-5c21-47e1-9eb8-c265943e9a9e",
   "metadata": {},
   "outputs": [
    {
     "name": "stdin",
     "output_type": "stream",
     "text": [
      "Enter the first number: 56\n"
     ]
    }
   ],
   "source": [
    "p = int(input('Enter the first number:'))"
   ]
  },
  {
   "cell_type": "code",
   "execution_count": 9,
   "id": "b7fe0ed2-22ae-4002-9ab5-3cc32b720c03",
   "metadata": {},
   "outputs": [
    {
     "name": "stdin",
     "output_type": "stream",
     "text": [
      "Enter the second number: 45\n"
     ]
    }
   ],
   "source": [
    "q = int(input('Enter the second number:'))"
   ]
  },
  {
   "cell_type": "code",
   "execution_count": 11,
   "id": "29cfc64a-8c72-4fff-b7fb-5985911b035d",
   "metadata": {},
   "outputs": [
    {
     "name": "stdin",
     "output_type": "stream",
     "text": [
      "Enter the number of bits to be shifted towards left and right:  3\n"
     ]
    }
   ],
   "source": [
    "r = int(input('Enter the number of bits to be shifted towards left and right: '))"
   ]
  },
  {
   "cell_type": "code",
   "execution_count": 12,
   "id": "b8da5a3a-0e68-4720-b4f3-9b9ba6354b46",
   "metadata": {},
   "outputs": [
    {
     "name": "stdout",
     "output_type": "stream",
     "text": [
      "outcomes of bitwise &:  40\n"
     ]
    }
   ],
   "source": [
    "print('outcomes of bitwise &: ', p & q)"
   ]
  },
  {
   "cell_type": "code",
   "execution_count": 13,
   "id": "919889c7-a591-48e8-9f0f-aa5584b432bb",
   "metadata": {},
   "outputs": [
    {
     "name": "stdout",
     "output_type": "stream",
     "text": [
      "outcomes of bitwise |:  61\n"
     ]
    }
   ],
   "source": [
    "print('outcomes of bitwise |: ',p | q)"
   ]
  },
  {
   "cell_type": "code",
   "execution_count": 14,
   "id": "9ac2964d-9d55-4490-bbc6-faefeeb5c218",
   "metadata": {},
   "outputs": [
    {
     "name": "stdout",
     "output_type": "stream",
     "text": [
      "outcomes of bitwise ^:  21\n"
     ]
    }
   ],
   "source": [
    "print('outcomes of bitwise ^: ',p^q)"
   ]
  },
  {
   "cell_type": "code",
   "execution_count": 15,
   "id": "96af7708-c11a-410b-9f2e-d0d33ed692ff",
   "metadata": {},
   "outputs": [
    {
     "name": "stdout",
     "output_type": "stream",
     "text": [
      "outcomes of bitwise ~:  -57\n"
     ]
    }
   ],
   "source": [
    "print('outcomes of bitwise ~: ',~p)"
   ]
  },
  {
   "cell_type": "code",
   "execution_count": 18,
   "id": "bd4eab33-5db4-4dd0-a7b7-57dc3b74bbc2",
   "metadata": {},
   "outputs": [
    {
     "name": "stdout",
     "output_type": "stream",
     "text": [
      "outcommes of bitwise ~:  -46\n"
     ]
    }
   ],
   "source": [
    "print('outcommes of bitwise ~: ',~q)"
   ]
  },
  {
   "cell_type": "code",
   "execution_count": 20,
   "id": "b92494d1-27be-490b-a228-9cf517161778",
   "metadata": {},
   "outputs": [
    {
     "name": "stdout",
     "output_type": "stream",
     "text": [
      "Outcome of bitwise <<:  448\n"
     ]
    }
   ],
   "source": [
    "print('Outcome of bitwise <<: ', p << r) "
   ]
  },
  {
   "cell_type": "code",
   "execution_count": 21,
   "id": "93e2f6c6-3f8f-4b45-b184-85ff0b1d4ce8",
   "metadata": {},
   "outputs": [
    {
     "name": "stdout",
     "output_type": "stream",
     "text": [
      "Outcome of bitwise >>:  7\n"
     ]
    }
   ],
   "source": [
    "print('Outcome of bitwise >>: ', p >> r)"
   ]
  },
  {
   "cell_type": "code",
   "execution_count": null,
   "id": "1ae3d3d3-e315-4a52-bb2e-638455e334b1",
   "metadata": {},
   "outputs": [],
   "source": []
  }
 ],
 "metadata": {
  "kernelspec": {
   "display_name": "Python 3 (ipykernel)",
   "language": "python",
   "name": "python3"
  },
  "language_info": {
   "codemirror_mode": {
    "name": "ipython",
    "version": 3
   },
   "file_extension": ".py",
   "mimetype": "text/x-python",
   "name": "python",
   "nbconvert_exporter": "python",
   "pygments_lexer": "ipython3",
   "version": "3.12.8"
  }
 },
 "nbformat": 4,
 "nbformat_minor": 5
}
