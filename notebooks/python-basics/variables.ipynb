{
 "cells": [
  {
   "cell_type": "code",
   "execution_count": 1,
   "id": "4d0d5e41-734a-4819-9df1-c3d0bac2941e",
   "metadata": {},
   "outputs": [],
   "source": [
    "#created at 20250120"
   ]
  },
  {
   "cell_type": "code",
   "execution_count": null,
   "id": "19354bca-0d5f-4fa7-b46f-0d1568f51a1b",
   "metadata": {},
   "outputs": [],
   "source": [
    "https://www.scientecheasy.com/2022/09/variables-in-python.html/"
   ]
  },
  {
   "cell_type": "code",
   "execution_count": 3,
   "id": "ad3ad32c-964d-46b4-801b-eaf42b334636",
   "metadata": {},
   "outputs": [],
   "source": [
    " num = 14"
   ]
  },
  {
   "cell_type": "code",
   "execution_count": 4,
   "id": "2cc693db-ede1-4bfa-8bbb-94450d365edb",
   "metadata": {},
   "outputs": [
    {
     "name": "stdout",
     "output_type": "stream",
     "text": [
      "9772200\n"
     ]
    }
   ],
   "source": [
    "num = 20\n",
    "print(id(num))"
   ]
  },
  {
   "cell_type": "code",
   "execution_count": 5,
   "id": "69f563a4-699e-4fbf-b462-5706f2a68d26",
   "metadata": {},
   "outputs": [],
   "source": [
    "#calcu the percentage"
   ]
  },
  {
   "cell_type": "code",
   "execution_count": 6,
   "id": "436ffa6f-862b-4a1e-8878-810aac549b44",
   "metadata": {},
   "outputs": [
    {
     "name": "stdout",
     "output_type": "stream",
     "text": [
      "marks_obtained 223\n",
      " the percentage is: 74.33333333333333\n"
     ]
    }
   ],
   "source": [
    "tam =67\n",
    "eng =89\n",
    "math=67\n",
    "marks =tam + eng + math\n",
    "per = (marks*100)/300\n",
    "print(\"marks_obtained\",marks)\n",
    "print(\" the percentage is:\",per)"
   ]
  },
  {
   "cell_type": "code",
   "execution_count": 7,
   "id": "2b8d4bee-6000-4254-8bef-48463001a2dc",
   "metadata": {},
   "outputs": [],
   "source": [
    "#diff variable"
   ]
  },
  {
   "cell_type": "code",
   "execution_count": 12,
   "id": "a2ed6e78-9d1b-431b-8cb2-319f45739aa8",
   "metadata": {},
   "outputs": [
    {
     "name": "stdout",
     "output_type": "stream",
     "text": [
      "19\n",
      "12.27\n",
      "Arnald\n"
     ]
    }
   ],
   "source": [
    "x = 19\n",
    "Y = 12.27\n",
    "z = 'Arnald'\n",
    "print(x)\n",
    "print(Y)\n",
    "print(z)"
   ]
  },
  {
   "cell_type": "code",
   "execution_count": 13,
   "id": "88a55325-ba7c-4182-833a-afae579635ca",
   "metadata": {},
   "outputs": [],
   "source": [
    "#perimeter and area circle"
   ]
  },
  {
   "cell_type": "code",
   "execution_count": 15,
   "id": "6d79a104-a9e5-46a9-9eb5-e484bf772a93",
   "metadata": {},
   "outputs": [
    {
     "name": "stdout",
     "output_type": "stream",
     "text": [
      "Area of the circle is : 113.03999999999999\n",
      "perimeter of the circle: 37.68\n"
     ]
    }
   ],
   "source": [
    "radius= 6\n",
    "pi =3.14\n",
    "perimeter = 2 * pi * radius\n",
    "Area = pi * radius * radius\n",
    "print(\"Area of the circle is :\",Area)\n",
    "print(\"perimeter of the circle:\",perimeter)"
   ]
  },
  {
   "cell_type": "code",
   "execution_count": 17,
   "id": "b8e8703c-d943-4d91-9d4f-ddddf79f8c1a",
   "metadata": {},
   "outputs": [
    {
     "name": "stdout",
     "output_type": "stream",
     "text": [
      "<class 'float'>\n"
     ]
    }
   ],
   "source": [
    "#type-finding\n",
    "num = 100.990\n",
    "print(type(num))\n",
    "\n"
   ]
  },
  {
   "cell_type": "code",
   "execution_count": null,
   "id": "ebad3040-d85d-4fbd-bd4d-7eafd62dc08d",
   "metadata": {},
   "outputs": [],
   "source": []
  }
 ],
 "metadata": {
  "kernelspec": {
   "display_name": "Python 3 (ipykernel)",
   "language": "python",
   "name": "python3"
  },
  "language_info": {
   "codemirror_mode": {
    "name": "ipython",
    "version": 3
   },
   "file_extension": ".py",
   "mimetype": "text/x-python",
   "name": "python",
   "nbconvert_exporter": "python",
   "pygments_lexer": "ipython3",
   "version": "3.12.8"
  }
 },
 "nbformat": 4,
 "nbformat_minor": 5
}
