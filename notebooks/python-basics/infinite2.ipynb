{
 "cells": [
  {
   "cell_type": "code",
   "execution_count": 1,
   "id": "43a26c4a-37ee-4d6a-8a10-f0d7e919b804",
   "metadata": {},
   "outputs": [],
   "source": [
    "#created at 20250125"
   ]
  },
  {
   "cell_type": "code",
   "execution_count": null,
   "id": "2c2abb20-cec7-4812-9951-b28805565833",
   "metadata": {},
   "outputs": [],
   "source": [
    "https://www.scientecheasy.com/2022/11/infinite-loop-in-python.html/"
   ]
  },
  {
   "cell_type": "code",
   "execution_count": null,
   "id": "7dd9a8f6-5f56-4d3a-8048-340c1d8befb4",
   "metadata": {},
   "outputs": [],
   "source": []
  },
  {
   "cell_type": "code",
   "execution_count": 2,
   "id": "6d65caab-6b1b-405b-8b61-0be74bf9d264",
   "metadata": {},
   "outputs": [
    {
     "name": "stdout",
     "output_type": "stream",
     "text": [
      "Sum:  2470\n"
     ]
    }
   ],
   "source": [
    "sum = 0\n",
    "i = 0\n",
    "while True:\n",
    "    sum = sum + i * i\n",
    "    i = i + 1\n",
    "    if i >= 20:\n",
    "        break; # If the i value exceeds 20, then the control will come out of this loop.\n",
    "print(\"Sum: \",sum)\n"
   ]
  },
  {
   "cell_type": "code",
   "execution_count": null,
   "id": "99b41f6f-ec1d-4183-a0b8-b7032bd1203a",
   "metadata": {},
   "outputs": [],
   "source": []
  },
  {
   "cell_type": "code",
   "execution_count": null,
   "id": "952dac28-31f8-4d6e-886f-2dce75fcf2bc",
   "metadata": {},
   "outputs": [],
   "source": []
  },
  {
   "cell_type": "code",
   "execution_count": null,
   "id": "d3f91b42-71ac-4a4c-86eb-1f6ac2c6bae2",
   "metadata": {},
   "outputs": [],
   "source": []
  }
 ],
 "metadata": {
  "kernelspec": {
   "display_name": "Python 3 (ipykernel)",
   "language": "python",
   "name": "python3"
  },
  "language_info": {
   "codemirror_mode": {
    "name": "ipython",
    "version": 3
   },
   "file_extension": ".py",
   "mimetype": "text/x-python",
   "name": "python",
   "nbconvert_exporter": "python",
   "pygments_lexer": "ipython3",
   "version": "3.12.8"
  }
 },
 "nbformat": 4,
 "nbformat_minor": 5
}
