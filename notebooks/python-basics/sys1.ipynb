{
 "cells": [
  {
   "cell_type": "code",
   "execution_count": 1,
   "id": "b9deb99e-4273-42bb-9914-815bbf77a9ff",
   "metadata": {},
   "outputs": [],
   "source": [
    "#created at 20250204"
   ]
  },
  {
   "cell_type": "code",
   "execution_count": null,
   "id": "52699cd1-4871-4a11-abb2-c1686afec569",
   "metadata": {},
   "outputs": [],
   "source": [
    "https://stevejoe1412.gitbook.io/ssn/python-subtopics/pythons-sys-module"
   ]
  },
  {
   "cell_type": "code",
   "execution_count": null,
   "id": "be3e2a66-dbe5-4b7b-a957-80a790cb944f",
   "metadata": {},
   "outputs": [],
   "source": [
    "#command line arguments"
   ]
  },
  {
   "cell_type": "code",
   "execution_count": 2,
   "id": "553500b5-19ce-4437-827e-aeb86cf8f9ae",
   "metadata": {},
   "outputs": [
    {
     "name": "stdout",
     "output_type": "stream",
     "text": [
      "Command-line arguments:\n",
      "/home/arnald/miniconda3/envs/py312/lib/python3.12/site-packages/ipykernel_launcher.py\n",
      "-f\n",
      "/home/arnald/.local/share/jupyter/runtime/kernel-840e4cdf-8000-4dd7-bf49-da657e8e245f.json\n"
     ]
    }
   ],
   "source": [
    "import sys\n",
    "\n",
    "if __name__ == \"__main__\":\n",
    "    print(\"Command-line arguments:\")\n",
    "    for arg in sys.argv:\n",
    "        print(arg)"
   ]
  },
  {
   "cell_type": "code",
   "execution_count": 3,
   "id": "dfab867a-d753-4970-aec2-5be034a2f01b",
   "metadata": {},
   "outputs": [
    {
     "name": "stdout",
     "output_type": "stream",
     "text": [
      "This is an example of sys.exit()\n"
     ]
    },
    {
     "ename": "SystemExit",
     "evalue": "0",
     "output_type": "error",
     "traceback": [
      "An exception has occurred, use %tb to see the full traceback.\n",
      "\u001b[0;31mSystemExit\u001b[0m\u001b[0;31m:\u001b[0m 0\n"
     ]
    },
    {
     "name": "stderr",
     "output_type": "stream",
     "text": [
      "/home/arnald/miniconda3/envs/py312/lib/python3.12/site-packages/IPython/core/interactiveshell.py:3585: UserWarning: To exit: use 'exit', 'quit', or Ctrl-D.\n",
      "  warn(\"To exit: use 'exit', 'quit', or Ctrl-D.\", stacklevel=1)\n"
     ]
    }
   ],
   "source": [
    "import sys\n",
    "\n",
    "def main():\n",
    "    print(\"This is an example of sys.exit()\")\n",
    "    sys.exit(0)\n",
    "\n",
    "if __name__ == \"__main__\":\n",
    "    main()"
   ]
  },
  {
   "cell_type": "code",
   "execution_count": 5,
   "id": "02b0a52e-1aa6-45e7-bc7b-78ff0971033c",
   "metadata": {},
   "outputs": [],
   "source": [
    "import sys\n",
    "\n",
    "with open('output.txt', 'w') as f:\n",
    "    sys.stdout = f\n",
    "    print(\"This will be written to output.txt\")\n",
    "    \n",
    "sys.stdout = sys.__stdout__  # Resetting stdout"
   ]
  },
  {
   "cell_type": "code",
   "execution_count": null,
   "id": "24840eb1-4df1-4e77-93df-43470ef27fbb",
   "metadata": {},
   "outputs": [],
   "source": []
  }
 ],
 "metadata": {
  "kernelspec": {
   "display_name": "Python 3 (ipykernel)",
   "language": "python",
   "name": "python3"
  },
  "language_info": {
   "codemirror_mode": {
    "name": "ipython",
    "version": 3
   },
   "file_extension": ".py",
   "mimetype": "text/x-python",
   "name": "python",
   "nbconvert_exporter": "python",
   "pygments_lexer": "ipython3",
   "version": "3.12.8"
  }
 },
 "nbformat": 4,
 "nbformat_minor": 5
}
