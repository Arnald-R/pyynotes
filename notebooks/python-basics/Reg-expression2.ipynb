{
 "cells": [
  {
   "cell_type": "code",
   "execution_count": 2,
   "id": "23c76016-ff9d-4aa5-9a84-2a939b4ca5ee",
   "metadata": {},
   "outputs": [],
   "source": [
    "#created at 20250203"
   ]
  },
  {
   "cell_type": "code",
   "execution_count": null,
   "id": "53f154c3-7be0-4d70-80c7-a3685a0295f8",
   "metadata": {},
   "outputs": [],
   "source": [
    "https://stevejoe1412.gitbook.io/ssn/python-subtopics/regular-expressions-with-re"
   ]
  },
  {
   "cell_type": "code",
   "execution_count": 3,
   "id": "e18fc3de-02a0-49c2-8efe-e1f3b0005ef9",
   "metadata": {},
   "outputs": [],
   "source": [
    "import re"
   ]
  },
  {
   "cell_type": "code",
   "execution_count": 4,
   "id": "9f4fddc5-1d93-4a06-b855-07c6660e6a55",
   "metadata": {},
   "outputs": [],
   "source": [
    "text = \"hello world\""
   ]
  },
  {
   "cell_type": "code",
   "execution_count": 5,
   "id": "ff071f04-0d6c-41bd-acc9-31c5cd6cd12e",
   "metadata": {},
   "outputs": [
    {
     "name": "stdout",
     "output_type": "stream",
     "text": [
      "Starts with 'hello'\n"
     ]
    }
   ],
   "source": [
    "# Matches 'hello' at the start of the string\n",
    "if re.match(r'^hello', text):\n",
    "    print(\"Starts with 'hello'\")"
   ]
  },
  {
   "cell_type": "code",
   "execution_count": 6,
   "id": "02e12430-f1d4-4198-988f-83a4947b6067",
   "metadata": {},
   "outputs": [
    {
     "name": "stdout",
     "output_type": "stream",
     "text": [
      "Ends with 'world'\n"
     ]
    }
   ],
   "source": [
    "# Matches 'world' at the end of the string\n",
    "if re.search(r'world$', text):\n",
    "    print(\"Ends with 'world'\")"
   ]
  },
  {
   "cell_type": "code",
   "execution_count": 7,
   "id": "b1cd71ec-7228-438a-8550-8dda3f59c3d9",
   "metadata": {},
   "outputs": [],
   "source": [
    "import re"
   ]
  },
  {
   "cell_type": "code",
   "execution_count": 8,
   "id": "12297b17-e1bc-4c99-9c4f-8460767869ba",
   "metadata": {},
   "outputs": [
    {
     "name": "stdout",
     "output_type": "stream",
     "text": [
      "['apple', 'banana', 'orange']\n"
     ]
    }
   ],
   "source": [
    "text = \"apple,banana,orange\"\n",
    "fruits = re.split(r',', text)  # Split by comma\n",
    "print(fruits)  # Output: ['apple', 'banana', 'orange']"
   ]
  },
  {
   "cell_type": "code",
   "execution_count": 9,
   "id": "76d27023-07d6-4a55-8114-a9951f921153",
   "metadata": {},
   "outputs": [],
   "source": [
    "import re"
   ]
  },
  {
   "cell_type": "code",
   "execution_count": 10,
   "id": "81f345eb-b345-4c79-860b-c9ba69175322",
   "metadata": {},
   "outputs": [],
   "source": [
    "text = \"abc def\"\n",
    "match = re.search(r'a.b', text)\n",
    "if match:\n",
    "    print(\"Pattern found:\", match.group())  # Output: 'abc'"
   ]
  },
  {
   "cell_type": "code",
   "execution_count": null,
   "id": "5dff1113-7430-41ea-9b5e-75a8153b913a",
   "metadata": {},
   "outputs": [],
   "source": []
  }
 ],
 "metadata": {
  "kernelspec": {
   "display_name": "Python 3 (ipykernel)",
   "language": "python",
   "name": "python3"
  },
  "language_info": {
   "codemirror_mode": {
    "name": "ipython",
    "version": 3
   },
   "file_extension": ".py",
   "mimetype": "text/x-python",
   "name": "python",
   "nbconvert_exporter": "python",
   "pygments_lexer": "ipython3",
   "version": "3.12.8"
  }
 },
 "nbformat": 4,
 "nbformat_minor": 5
}
