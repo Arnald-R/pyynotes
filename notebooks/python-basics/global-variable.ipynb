{
 "cells": [
  {
   "cell_type": "code",
   "execution_count": 1,
   "id": "b9a14761-4ff9-44e0-a26d-4b1befc01214",
   "metadata": {},
   "outputs": [],
   "source": [
    "#global-variable"
   ]
  },
  {
   "cell_type": "code",
   "execution_count": 2,
   "id": "ed78e7c6-b07c-4fd2-a14f-410555463a9e",
   "metadata": {},
   "outputs": [
    {
     "name": "stdout",
     "output_type": "stream",
     "text": [
      "inside function: 20\n",
      "outside function: 20\n"
     ]
    }
   ],
   "source": [
    "x = 20\n",
    "def my_function():\n",
    "    print(\"inside function:\",x)\n",
    "my_function()\n",
    "print(\"outside function:\",x)"
   ]
  },
  {
   "cell_type": "code",
   "execution_count": 3,
   "id": "3bfe8407-54c2-4574-a1e7-effa0021f6dd",
   "metadata": {},
   "outputs": [],
   "source": [
    "#local variable"
   ]
  },
  {
   "cell_type": "code",
   "execution_count": 4,
   "id": "f81d2a8e-eec5-4cec-b17f-2fad8cd56353",
   "metadata": {},
   "outputs": [
    {
     "name": "stdout",
     "output_type": "stream",
     "text": [
      "the inside function: 400\n",
      "outside function: 100\n"
     ]
    }
   ],
   "source": [
    "x = 100\n",
    "def mynew_function():\n",
    "    x = 20 * 20\n",
    "    print(\"the inside function:\",x)\n",
    "mynew_function()\n",
    "print(\"outside function:\",x)"
   ]
  },
  {
   "cell_type": "code",
   "execution_count": 6,
   "id": "c12ef477-af93-4a89-9f9e-1a74a75b4ce3",
   "metadata": {},
   "outputs": [
    {
     "name": "stdout",
     "output_type": "stream",
     "text": [
      "inside the function: Arnald\n",
      "inside the another function: Arnald\n",
      "outside the function: Arnald\n"
     ]
    }
   ],
   "source": [
    "name = \"aren\"\n",
    "def my_func():\n",
    "    global name\n",
    "    name = \"Arnald\"\n",
    "    print(\"inside the function:\",name)\n",
    "def my_func1():\n",
    "    print(\"inside the another function:\",name)\n",
    "my_func()\n",
    "my_func1()\n",
    "print(\"outside the function:\",name)"
   ]
  },
  {
   "cell_type": "code",
   "execution_count": 7,
   "id": "8460d301-a9c6-49f4-b8d6-746a95c50e7d",
   "metadata": {},
   "outputs": [
    {
     "name": "stdout",
     "output_type": "stream",
     "text": [
      "Inside my_function1:  los angels\n",
      "Inside my_function2:  Sydney\n",
      "Outside function:  Sydney\n"
     ]
    }
   ],
   "source": [
    "city = 'New York' # a global variable.\n",
    "def my_function1():\n",
    "    global city\n",
    "    city = 'los angels'\n",
    "    print(\"Inside my_function1: \", city)\n",
    "def my_function2():\n",
    "    global city\n",
    "    city = 'Sydney'\n",
    "    print(\"Inside my_function2: \",city)\n",
    "\n",
    "# Calling the function.\n",
    "my_function1()\n",
    "my_function2()\n",
    "print(\"Outside function: \", city)\n"
   ]
  },
  {
   "cell_type": "code",
   "execution_count": 8,
   "id": "55002e7a-f29a-4299-abcc-1927004b41f4",
   "metadata": {},
   "outputs": [],
   "source": [
    "#local variable"
   ]
  },
  {
   "cell_type": "code",
   "execution_count": 10,
   "id": "25499cd3-9fb1-4363-be8c-d80e2e3989aa",
   "metadata": {},
   "outputs": [
    {
     "name": "stdout",
     "output_type": "stream",
     "text": [
      "coimbatore\n",
      "Sydney\n"
     ]
    }
   ],
   "source": [
    "def my_func():\n",
    "    city = 'coimbatore'\n",
    "    print(city)\n",
    "# Calling the function.\n",
    "my_func()\n",
    "print(city)\n"
   ]
  },
  {
   "cell_type": "code",
   "execution_count": 11,
   "id": "caad66dc-5e2d-4afd-9a8b-afc321b12e5c",
   "metadata": {},
   "outputs": [
    {
     "name": "stdout",
     "output_type": "stream",
     "text": [
      "This is a global variable, and we can access it anywhere in the program.\n",
      "This is a local variable, and we can access it only inside the function body.\n"
     ]
    }
   ],
   "source": [
    "# Declare a global variable and assign it a value.\n",
    "message1 = \"This is a global variable, and we can access it anywhere in the program.\"\n",
    "# Create a function named display.\n",
    "def display():\n",
    "# Declare a local variable and assign it a value.\n",
    "    message2 = \"This is a local variable, and we can access it only inside the function body.\"\n",
    "    print(message2) # Accessing local variable from inside the function.\n",
    "\n",
    "print(message1); # Accessing the global variable.\n",
    "display() # Calling function.\n"
   ]
  },
  {
   "cell_type": "code",
   "execution_count": 12,
   "id": "9b1f43a2-10fd-4c4d-938a-ffd5554aa381",
   "metadata": {},
   "outputs": [
    {
     "name": "stdout",
     "output_type": "stream",
     "text": [
      "Harry   Deep\n",
      "John   Larry\n"
     ]
    }
   ],
   "source": [
    "# Declare global variables.\n",
    "student1 = \"John\"\n",
    "student2 = \"Larry\"\n",
    "\n",
    "# Create a function named showMe.\n",
    "def showMe():\n",
    "    student2 = \"Harry\" # Here, local variable is sharing the same name as global variable.\n",
    "    student3 = \"Deep\"\n",
    "    print(student2, \" \",student3)\n",
    "\n",
    "showMe(); # calling function.\n",
    "print(student1, \" \", student2)\n"
   ]
  },
  {
   "cell_type": "code",
   "execution_count": null,
   "id": "3d287d9a-2bcc-469a-b309-fec046d7128d",
   "metadata": {},
   "outputs": [],
   "source": []
  },
  {
   "cell_type": "code",
   "execution_count": null,
   "id": "86805f99-c427-47eb-a1c6-4cb0e85c5f5e",
   "metadata": {},
   "outputs": [],
   "source": []
  }
 ],
 "metadata": {
  "kernelspec": {
   "display_name": "Python 3 (ipykernel)",
   "language": "python",
   "name": "python3"
  },
  "language_info": {
   "codemirror_mode": {
    "name": "ipython",
    "version": 3
   },
   "file_extension": ".py",
   "mimetype": "text/x-python",
   "name": "python",
   "nbconvert_exporter": "python",
   "pygments_lexer": "ipython3",
   "version": "3.12.8"
  }
 },
 "nbformat": 4,
 "nbformat_minor": 5
}
