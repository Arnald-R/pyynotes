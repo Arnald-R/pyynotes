{
 "cells": [
  {
   "cell_type": "code",
   "execution_count": 1,
   "id": "f2163357-4337-4cfb-9f26-ecd586534ec4",
   "metadata": {},
   "outputs": [],
   "source": [
    "#createdat 20250125"
   ]
  },
  {
   "cell_type": "code",
   "execution_count": null,
   "id": "33aced17-da6f-4d50-9046-2331c57d3986",
   "metadata": {},
   "outputs": [],
   "source": [
    "https://www.scientecheasy.com/2022/11/infinite-loop-in-python.html/"
   ]
  },
  {
   "cell_type": "code",
   "execution_count": null,
   "id": "6993d557-bf3e-449d-b327-fb89223e6fe7",
   "metadata": {},
   "outputs": [],
   "source": [
    "# An example of an infinite loop.\n",
    "count = 0\n",
    "while count < 100:\n",
    "    print('Count: ',count)\n",
    "    count = count * 1 # OOPS, does not change the count value.\n"
   ]
  },
  {
   "cell_type": "code",
   "execution_count": null,
   "id": "1c31e37f-e1e6-4317-b5a3-8f6f4f147592",
   "metadata": {},
   "outputs": [],
   "source": []
  },
  {
   "cell_type": "code",
   "execution_count": null,
   "id": "8669f5f6-6ac3-4d51-afcd-48cb5f0244db",
   "metadata": {},
   "outputs": [],
   "source": []
  },
  {
   "cell_type": "code",
   "execution_count": null,
   "id": "59ba2deb-dd5d-43f6-9d59-0f58814f459b",
   "metadata": {},
   "outputs": [],
   "source": []
  },
  {
   "cell_type": "code",
   "execution_count": null,
   "id": "118d4f92-9b9e-40b2-adfd-b04c14efc5b6",
   "metadata": {},
   "outputs": [],
   "source": []
  },
  {
   "cell_type": "code",
   "execution_count": null,
   "id": "d4eb8b80-ad6a-4003-b0b1-0311db703983",
   "metadata": {},
   "outputs": [],
   "source": []
  }
 ],
 "metadata": {
  "kernelspec": {
   "display_name": "Python 3 (ipykernel)",
   "language": "python",
   "name": "python3"
  },
  "language_info": {
   "codemirror_mode": {
    "name": "ipython",
    "version": 3
   },
   "file_extension": ".py",
   "mimetype": "text/x-python",
   "name": "python",
   "nbconvert_exporter": "python",
   "pygments_lexer": "ipython3",
   "version": "3.12.8"
  }
 },
 "nbformat": 4,
 "nbformat_minor": 5
}
