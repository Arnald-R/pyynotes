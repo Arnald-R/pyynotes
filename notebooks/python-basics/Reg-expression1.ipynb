{
 "cells": [
  {
   "cell_type": "code",
   "execution_count": 1,
   "id": "740b3e85-76ef-4cee-94f2-48cebd08bf03",
   "metadata": {},
   "outputs": [],
   "source": [
    "#created at 20250203"
   ]
  },
  {
   "cell_type": "code",
   "execution_count": null,
   "id": "48d76218-ce6a-4f00-a6b7-a9df01b94895",
   "metadata": {},
   "outputs": [],
   "source": [
    "https://stevejoe1412.gitbook.io/ssn/python-subtopics/regular-expressions-with-re"
   ]
  },
  {
   "cell_type": "code",
   "execution_count": 2,
   "id": "c83e575d-ecec-4702-84d4-101aec1fa20c",
   "metadata": {},
   "outputs": [],
   "source": [
    "import re"
   ]
  },
  {
   "cell_type": "code",
   "execution_count": 3,
   "id": "6b4b15f3-12f7-4450-9c07-3fdacff55bb1",
   "metadata": {},
   "outputs": [
    {
     "name": "stdout",
     "output_type": "stream",
     "text": [
      "The price is 200 dollars.\n"
     ]
    }
   ],
   "source": [
    "text = \"The price is 100 dollars.\"\n",
    "new_text = re.sub(r'\\d+', '200', text)  # Replaces digits with '200'\n",
    "print(new_text)  # Output: The price is 200 dollars."
   ]
  },
  {
   "cell_type": "code",
   "execution_count": 4,
   "id": "f3538e5b-56a1-4730-b75a-67085c9f8d7d",
   "metadata": {},
   "outputs": [],
   "source": [
    "import re"
   ]
  },
  {
   "cell_type": "code",
   "execution_count": 5,
   "id": "7c504240-543b-41b2-b14e-073cf41cdcc0",
   "metadata": {},
   "outputs": [
    {
     "name": "stdout",
     "output_type": "stream",
     "text": [
      "['12', '25']\n"
     ]
    }
   ],
   "source": [
    "pattern = re.compile(r'\\d+')  # Compiled regex pattern\n",
    "matches = pattern.findall(\"There are 12 apples and 25 oranges.\")\n",
    "print(matches)  # Output: ['12', '25']"
   ]
  },
  {
   "cell_type": "code",
   "execution_count": 6,
   "id": "f40f0f9d-613f-4e52-9f56-f0f3ad44aaab",
   "metadata": {},
   "outputs": [],
   "source": [
    "import re"
   ]
  },
  {
   "cell_type": "code",
   "execution_count": 7,
   "id": "1841a938-0ae6-4f82-b682-aae5ae9f7ad9",
   "metadata": {},
   "outputs": [],
   "source": [
    "text = \"My name is John and I am 30 years old.\"\n",
    "match = re.search(r'(\\w+) (\\d+)', text)  # Captures name and age"
   ]
  },
  {
   "cell_type": "code",
   "execution_count": 8,
   "id": "a6275ac6-2a47-4bab-af2d-0a8731141311",
   "metadata": {},
   "outputs": [
    {
     "name": "stdout",
     "output_type": "stream",
     "text": [
      "Name: am\n",
      "Age: 30\n"
     ]
    }
   ],
   "source": [
    "if match:\n",
    "    print(\"Name:\", match.group(1))  # John\n",
    "    print(\"Age:\", match.group(2))   # 30"
   ]
  },
  {
   "cell_type": "code",
   "execution_count": null,
   "id": "f7b7e361-d304-445c-8bc3-d7fe6ff74dc8",
   "metadata": {},
   "outputs": [],
   "source": []
  },
  {
   "cell_type": "code",
   "execution_count": null,
   "id": "3ab99cbc-a701-4167-a934-8f5709ba8624",
   "metadata": {},
   "outputs": [],
   "source": []
  }
 ],
 "metadata": {
  "kernelspec": {
   "display_name": "Python 3 (ipykernel)",
   "language": "python",
   "name": "python3"
  },
  "language_info": {
   "codemirror_mode": {
    "name": "ipython",
    "version": 3
   },
   "file_extension": ".py",
   "mimetype": "text/x-python",
   "name": "python",
   "nbconvert_exporter": "python",
   "pygments_lexer": "ipython3",
   "version": "3.12.8"
  }
 },
 "nbformat": 4,
 "nbformat_minor": 5
}
