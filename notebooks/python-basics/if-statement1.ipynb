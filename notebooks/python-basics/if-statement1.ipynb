{
 "cells": [
  {
   "cell_type": "code",
   "execution_count": 1,
   "id": "2e402ea3-7055-4c33-928d-cb65ef88035f",
   "metadata": {},
   "outputs": [],
   "source": [
    "#created at 20250123"
   ]
  },
  {
   "cell_type": "code",
   "execution_count": null,
   "id": "ab521885-14d6-4b70-a30e-0cf928caa3b3",
   "metadata": {},
   "outputs": [],
   "source": [
    "https://www.scientecheasy.com/2022/10/if-statement-in-python.html/"
   ]
  },
  {
   "cell_type": "code",
   "execution_count": 3,
   "id": "52665563-93c8-42e0-bc1b-93967b2970ac",
   "metadata": {},
   "outputs": [
    {
     "name": "stdin",
     "output_type": "stream",
     "text": [
      "Enter the number to check the number is divisble by 2 64\n"
     ]
    }
   ],
   "source": [
    "num = int(input(\"Enter the number to check the number is divisble by 2\"))"
   ]
  },
  {
   "cell_type": "code",
   "execution_count": 5,
   "id": "4caf7d35-ea8a-4091-8b6f-d9fb99b6066f",
   "metadata": {},
   "outputs": [
    {
     "name": "stdout",
     "output_type": "stream",
     "text": [
      "64  is divisible by 2\n"
     ]
    }
   ],
   "source": [
    "if num % 2 == 0:\n",
    "    print(num,\" is divisible by 2\")"
   ]
  },
  {
   "cell_type": "code",
   "execution_count": 6,
   "id": "42bb5f3c-0c05-46c6-b040-d4fa24ac3eee",
   "metadata": {},
   "outputs": [],
   "source": [
    "if num % 2 != 0:\n",
    "    print(num ,\" is not divisble by 2\")"
   ]
  },
  {
   "cell_type": "code",
   "execution_count": 7,
   "id": "73211145-cb61-4b60-bac6-0998cfddee33",
   "metadata": {},
   "outputs": [
    {
     "name": "stdin",
     "output_type": "stream",
     "text": [
      " enter your age to check you are eligible to vote or not:  19\n"
     ]
    }
   ],
   "source": [
    "age = int(input(\" enter your age to check you are eligible to vote or not: \" ))"
   ]
  },
  {
   "cell_type": "code",
   "execution_count": 8,
   "id": "34261d37-658c-4542-81cb-723107a08d0b",
   "metadata": {},
   "outputs": [
    {
     "name": "stdout",
     "output_type": "stream",
     "text": [
      "you are eligible to cast a vote\n"
     ]
    }
   ],
   "source": [
    "if age >= 18:\n",
    "    print(\"you are eligible to cast a vote\")"
   ]
  },
  {
   "cell_type": "code",
   "execution_count": 9,
   "id": "59a71128-b273-401f-81d7-207f454b7acd",
   "metadata": {},
   "outputs": [],
   "source": [
    "if age < 18 :\n",
    "    print(\"you are not eligiblr to cast a vote\")"
   ]
  },
  {
   "cell_type": "code",
   "execution_count": 10,
   "id": "f9446e78-ca0f-41e2-b0cd-f0213df9fee1",
   "metadata": {},
   "outputs": [
    {
     "name": "stdin",
     "output_type": "stream",
     "text": [
      "Enter the physics marks:  68\n"
     ]
    }
   ],
   "source": [
    "phy = int(input(\"Enter the physics marks: \"))"
   ]
  },
  {
   "cell_type": "code",
   "execution_count": 11,
   "id": "83aab596-8d31-4ff1-94e7-5369b58112a8",
   "metadata": {},
   "outputs": [
    {
     "name": "stdin",
     "output_type": "stream",
     "text": [
      "Enter the chemistry marks:  81\n"
     ]
    }
   ],
   "source": [
    "chem = int(input(\"Enter the chemistry marks: \"))"
   ]
  },
  {
   "cell_type": "code",
   "execution_count": 12,
   "id": "2ae2ab5e-e0c1-42ef-92f8-7ff6b47c85e1",
   "metadata": {},
   "outputs": [
    {
     "name": "stdin",
     "output_type": "stream",
     "text": [
      "Enter the maths marks:  69\n"
     ]
    }
   ],
   "source": [
    "math = int(input(\"Enter the maths marks: \"))"
   ]
  },
  {
   "cell_type": "code",
   "execution_count": 13,
   "id": "2f6e9fe9-b39c-4dd0-b98d-ea3dcecbc610",
   "metadata": {},
   "outputs": [],
   "source": [
    "totalmarks = phy + chem + math"
   ]
  },
  {
   "cell_type": "code",
   "execution_count": 14,
   "id": "7a6c65e7-bf27-442c-8111-93a5bb2f1192",
   "metadata": {},
   "outputs": [],
   "source": [
    "myper = totalmarks /3"
   ]
  },
  {
   "cell_type": "code",
   "execution_count": 15,
   "id": "2ff4fa95-d536-43c4-8e08-b8d325848cd2",
   "metadata": {},
   "outputs": [
    {
     "name": "stdout",
     "output_type": "stream",
     "text": [
      "total marks obtained is:  218\n"
     ]
    }
   ],
   "source": [
    "print(\"total marks obtained is: \",totalmarks)"
   ]
  },
  {
   "cell_type": "code",
   "execution_count": 16,
   "id": "a31aa4a9-fec5-49c8-91b8-fdf00db3f051",
   "metadata": {},
   "outputs": [
    {
     "name": "stdout",
     "output_type": "stream",
     "text": [
      "the percentage is :  72.66666666666667\n"
     ]
    }
   ],
   "source": [
    "print(\"the percentage is : \",myper)"
   ]
  },
  {
   "cell_type": "code",
   "execution_count": 17,
   "id": "7ae76fbb-5e50-4490-a0e1-a575f5ee50d6",
   "metadata": {},
   "outputs": [],
   "source": [
    "if (myper >= 90):\n",
    "    print(\"Grade A\")"
   ]
  },
  {
   "cell_type": "code",
   "execution_count": 19,
   "id": "05e8a7ac-0b01-4858-adc5-ab23129ef2fc",
   "metadata": {},
   "outputs": [
    {
     "name": "stdout",
     "output_type": "stream",
     "text": [
      "Grade B\n"
     ]
    }
   ],
   "source": [
    "if(myper < 90.0): \n",
    "    print(\"Grade B\")"
   ]
  },
  {
   "cell_type": "code",
   "execution_count": null,
   "id": "f4b71a4a-0017-46e4-9276-9589da1ff990",
   "metadata": {},
   "outputs": [],
   "source": []
  }
 ],
 "metadata": {
  "kernelspec": {
   "display_name": "Python 3 (ipykernel)",
   "language": "python",
   "name": "python3"
  },
  "language_info": {
   "codemirror_mode": {
    "name": "ipython",
    "version": 3
   },
   "file_extension": ".py",
   "mimetype": "text/x-python",
   "name": "python",
   "nbconvert_exporter": "python",
   "pygments_lexer": "ipython3",
   "version": "3.12.8"
  }
 },
 "nbformat": 4,
 "nbformat_minor": 5
}
