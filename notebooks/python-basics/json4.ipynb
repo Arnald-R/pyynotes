{
 "cells": [
  {
   "cell_type": "code",
   "execution_count": 1,
   "id": "1794980e-b1fb-4c7a-b524-937f5c2f1532",
   "metadata": {},
   "outputs": [],
   "source": [
    "#created at 20250204"
   ]
  },
  {
   "cell_type": "code",
   "execution_count": null,
   "id": "021c96b5-3d49-4b3d-abdb-07ece1fca75b",
   "metadata": {},
   "outputs": [],
   "source": [
    "https://stevejoe1412.gitbook.io/ssn/python-subtopics/handling-json-data"
   ]
  },
  {
   "cell_type": "code",
   "execution_count": 2,
   "id": "76e2ee0e-6338-4de7-b5a6-4744876ba39c",
   "metadata": {},
   "outputs": [],
   "source": [
    "import json"
   ]
  },
  {
   "cell_type": "code",
   "execution_count": 3,
   "id": "e77a8a39-278e-483d-a0fb-460cdd8e05bf",
   "metadata": {},
   "outputs": [],
   "source": [
    "from datetime import datetime"
   ]
  },
  {
   "cell_type": "code",
   "execution_count": 4,
   "id": "874dd587-c907-4956-a400-c9159fa4379d",
   "metadata": {},
   "outputs": [],
   "source": [
    "def default_serializer(obj):\n",
    "    if isinstance(obj, datetime):\n",
    "        return obj.isoformat()\n",
    "    raise TypeError(f\"Type {type(obj)} not serializable\")"
   ]
  },
  {
   "cell_type": "code",
   "execution_count": 5,
   "id": "c557a3c3-b4bd-48ac-b7c5-f032ea481754",
   "metadata": {},
   "outputs": [
    {
     "name": "stdout",
     "output_type": "stream",
     "text": [
      "{\"event\": \"2024-08-01T14:30:00\"}\n"
     ]
    }
   ],
   "source": [
    "data = {\"event\": datetime(2024, 8, 1, 14, 30)}\n",
    "\n",
    "json_string = json.dumps(data, default=default_serializer)\n",
    "\n",
    "print(json_string)  # Output: {\"event\": \"2024-08-01T14:30:00\"}"
   ]
  },
  {
   "cell_type": "code",
   "execution_count": 6,
   "id": "6f29ba53-64c7-465c-9c3f-1a349a71fdbc",
   "metadata": {},
   "outputs": [],
   "source": [
    "import json"
   ]
  },
  {
   "cell_type": "code",
   "execution_count": 7,
   "id": "4a61dc1a-891f-4271-afd5-7e2541fa2404",
   "metadata": {},
   "outputs": [],
   "source": [
    "json_string = '{\"name\": \"Eve\", \"address\": {\"city\": \"New York\", \"zip\": \"10001\"}}'\n",
    "data = json.loads(json_string)"
   ]
  },
  {
   "cell_type": "code",
   "execution_count": 8,
   "id": "96897074-c0b6-40c3-a63f-c902812519e5",
   "metadata": {},
   "outputs": [
    {
     "name": "stdout",
     "output_type": "stream",
     "text": [
      "New York\n"
     ]
    }
   ],
   "source": [
    "print(data['address']['city'])  # Output: New York"
   ]
  },
  {
   "cell_type": "code",
   "execution_count": 9,
   "id": "da2810c4-5149-42b4-8731-268a970287ea",
   "metadata": {},
   "outputs": [],
   "source": [
    "import json"
   ]
  },
  {
   "cell_type": "code",
   "execution_count": 10,
   "id": "a4a2ebe6-b54a-4f59-aaf0-b88c0673947e",
   "metadata": {},
   "outputs": [],
   "source": [
    "class CustomDecoder(json.JSONDecoder):\n",
    "    def decode(self, s, **kwargs):\n",
    "        data = super().decode(s, **kwargs)\n",
    "        data['name'] = data['name'].upper()  # Modify the 'name' field\n",
    "        return data"
   ]
  },
  {
   "cell_type": "code",
   "execution_count": 11,
   "id": "cf0c36a2-1bf3-4c42-9cbe-3512162731ae",
   "metadata": {},
   "outputs": [],
   "source": [
    "json_string = '{\"name\": \"Alice\", \"age\": 30}'\n",
    "data = json.loads(json_string, cls=CustomDecoder)"
   ]
  },
  {
   "cell_type": "code",
   "execution_count": 12,
   "id": "867df43d-f0e8-44ec-8bf8-33227f44b79b",
   "metadata": {},
   "outputs": [
    {
     "name": "stdout",
     "output_type": "stream",
     "text": [
      "{'name': 'ALICE', 'age': 30}\n"
     ]
    }
   ],
   "source": [
    "print(data)  # Output: {'name': 'ALICE', 'age': 30}"
   ]
  },
  {
   "cell_type": "code",
   "execution_count": null,
   "id": "2dc85874-18a1-48c0-abbc-04ba7e0c65b5",
   "metadata": {},
   "outputs": [],
   "source": []
  }
 ],
 "metadata": {
  "kernelspec": {
   "display_name": "Python 3 (ipykernel)",
   "language": "python",
   "name": "python3"
  },
  "language_info": {
   "codemirror_mode": {
    "name": "ipython",
    "version": 3
   },
   "file_extension": ".py",
   "mimetype": "text/x-python",
   "name": "python",
   "nbconvert_exporter": "python",
   "pygments_lexer": "ipython3",
   "version": "3.12.8"
  }
 },
 "nbformat": 4,
 "nbformat_minor": 5
}
