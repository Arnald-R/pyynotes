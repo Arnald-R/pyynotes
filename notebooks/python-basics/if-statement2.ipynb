{
 "cells": [
  {
   "cell_type": "code",
   "execution_count": 1,
   "id": "8e13026b-abad-4be7-8aa1-dc38a898cd78",
   "metadata": {},
   "outputs": [],
   "source": [
    "#created at 20250123"
   ]
  },
  {
   "cell_type": "code",
   "execution_count": null,
   "id": "2ab3f22c-2c04-4758-9a86-7c5032cea536",
   "metadata": {},
   "outputs": [],
   "source": [
    "https://www.scientecheasy.com/2022/10/if-statement-in-python.html/"
   ]
  },
  {
   "cell_type": "code",
   "execution_count": 2,
   "id": "6060a389-cb52-4aea-8a8c-14ac2421039c",
   "metadata": {},
   "outputs": [
    {
     "name": "stdin",
     "output_type": "stream",
     "text": [
      "Enter the number:  34\n"
     ]
    }
   ],
   "source": [
    "num = int(input(\"Enter the number: \"))"
   ]
  },
  {
   "cell_type": "code",
   "execution_count": 3,
   "id": "d83519af-2d38-45aa-a073-711b45a3468d",
   "metadata": {},
   "outputs": [
    {
     "name": "stdout",
     "output_type": "stream",
     "text": [
      "34 is an even number\n"
     ]
    }
   ],
   "source": [
    "if num % 2 == 0:\n",
    "    print(num, \"is an even number\")"
   ]
  },
  {
   "cell_type": "code",
   "execution_count": 4,
   "id": "412650a3-48c5-4c33-82ca-4f5f1af0b9ba",
   "metadata": {},
   "outputs": [],
   "source": [
    "if num % 2 != 0:\n",
    "    print(num, \"is odd number\")"
   ]
  },
  {
   "cell_type": "code",
   "execution_count": null,
   "id": "1061c3ec-9ec5-439f-8f3d-81983bf94192",
   "metadata": {},
   "outputs": [],
   "source": [
    "# Read the number from the user to check even or odd.\n",
    "num = int(input(\"Enter a number: \"))\n",
    "if num % 2 == 0:\n",
    "    print(num, 'is an even number')\n",
    "if num % 2 != 0:\n",
    "    print(num, 'is a odd number')\n"
   ]
  },
  {
   "cell_type": "code",
   "execution_count": 5,
   "id": "70ad8c91-d1e1-4e34-ba9d-8850285b4688",
   "metadata": {},
   "outputs": [],
   "source": [
    "x, y, z =20, 40, 50"
   ]
  },
  {
   "cell_type": "code",
   "execution_count": 6,
   "id": "f761f6b9-d6ec-42e1-9311-dcc6685ef65c",
   "metadata": {},
   "outputs": [
    {
     "name": "stdout",
     "output_type": "stream",
     "text": [
      "y is greater than x but smaller than z\n"
     ]
    }
   ],
   "source": [
    "if((y > x) and ( y < z)):\n",
    "    print(\"y is greater than x but smaller than z\")"
   ]
  },
  {
   "cell_type": "code",
   "execution_count": 7,
   "id": "76bc0b39-1336-4c76-81c1-4430b027e8bd",
   "metadata": {},
   "outputs": [],
   "source": [
    "if((x > y) and (y < z)):\n",
    "    print(\"z is greater than x,y\")"
   ]
  },
  {
   "cell_type": "code",
   "execution_count": 8,
   "id": "a7abe49b-1d56-4550-bf57-3d0ed57297f5",
   "metadata": {},
   "outputs": [
    {
     "name": "stdout",
     "output_type": "stream",
     "text": [
      "y is divisible by x\n"
     ]
    }
   ],
   "source": [
    "if(y % x == 0 and x != 0): \n",
    "    print(\"y is divisible by x\")"
   ]
  },
  {
   "cell_type": "code",
   "execution_count": 9,
   "id": "03ea1c80-4039-4a7a-ab6a-185ee8bea288",
   "metadata": {},
   "outputs": [],
   "source": [
    "x, y, z = 2, 1, 4"
   ]
  },
  {
   "cell_type": "code",
   "execution_count": 19,
   "id": "76c6df52-9283-4fee-93d3-ad3f51885e3e",
   "metadata": {},
   "outputs": [
    {
     "name": "stdout",
     "output_type": "stream",
     "text": [
      "True\n"
     ]
    }
   ],
   "source": [
    "if( value := x > y or y < z):\n",
    "    print(value)"
   ]
  },
  {
   "cell_type": "code",
   "execution_count": 20,
   "id": "39f1f85e-72fb-4bcd-8aff-8e9428b8a75a",
   "metadata": {},
   "outputs": [
    {
     "name": "stdout",
     "output_type": "stream",
     "text": [
      "True\n"
     ]
    }
   ],
   "source": [
    "if( value := x > y or y > z):\n",
    "    print(value)"
   ]
  },
  {
   "cell_type": "code",
   "execution_count": 21,
   "id": "8467a7b4-730c-47c7-a390-7ab5fbd74678",
   "metadata": {},
   "outputs": [
    {
     "name": "stdout",
     "output_type": "stream",
     "text": [
      "True\n"
     ]
    }
   ],
   "source": [
    "if(value := x < y or y < z):\n",
    "    print(value)"
   ]
  },
  {
   "cell_type": "code",
   "execution_count": 22,
   "id": "5f3252cb-b551-4a7f-9357-53f6dc156c21",
   "metadata": {},
   "outputs": [],
   "source": [
    "if(value := x < y or y > z):\n",
    "    print(value)\n"
   ]
  },
  {
   "cell_type": "code",
   "execution_count": 23,
   "id": "3b91789e-26e3-42b2-b767-5e0cbfe6586c",
   "metadata": {},
   "outputs": [],
   "source": [
    "x, y = 2, 1"
   ]
  },
  {
   "cell_type": "code",
   "execution_count": 24,
   "id": "b1ea368f-6cda-4d72-8578-c2d5c2bab76a",
   "metadata": {},
   "outputs": [
    {
     "name": "stdout",
     "output_type": "stream",
     "text": [
      "True\n"
     ]
    }
   ],
   "source": [
    "if(value := (x == 2) and not(y == 2)):\n",
    "    print(value)\n"
   ]
  },
  {
   "cell_type": "code",
   "execution_count": null,
   "id": "daa065a2-b94a-4665-84e6-07c5ee94ed10",
   "metadata": {},
   "outputs": [],
   "source": []
  }
 ],
 "metadata": {
  "kernelspec": {
   "display_name": "Python 3 (ipykernel)",
   "language": "python",
   "name": "python3"
  },
  "language_info": {
   "codemirror_mode": {
    "name": "ipython",
    "version": 3
   },
   "file_extension": ".py",
   "mimetype": "text/x-python",
   "name": "python",
   "nbconvert_exporter": "python",
   "pygments_lexer": "ipython3",
   "version": "3.12.8"
  }
 },
 "nbformat": 4,
 "nbformat_minor": 5
}
