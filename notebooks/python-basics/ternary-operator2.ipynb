{
 "cells": [
  {
   "cell_type": "code",
   "execution_count": null,
   "id": "1bc29e20-ae36-41ba-bb4e-c6707ef36d80",
   "metadata": {},
   "outputs": [],
   "source": [
    "#created at 20250123"
   ]
  },
  {
   "cell_type": "code",
   "execution_count": null,
   "id": "e01176c1-9cb0-4566-9f81-07ddd7d1d546",
   "metadata": {},
   "outputs": [],
   "source": [
    "http://scientecheasy.com/2022/10/ternary-operator-in-python.html/"
   ]
  },
  {
   "cell_type": "code",
   "execution_count": 1,
   "id": "10059eb4-9d51-41b8-8a94-2f8e7a094da5",
   "metadata": {},
   "outputs": [
    {
     "name": "stdin",
     "output_type": "stream",
     "text": [
      "How old are you?  24\n"
     ]
    }
   ],
   "source": [
    "age = int(input(\"How old are you? \"))\n"
   ]
  },
  {
   "cell_type": "code",
   "execution_count": 2,
   "id": "64d01286-d217-4546-a0ef-38da0f96db99",
   "metadata": {},
   "outputs": [],
   "source": [
    "eligible = \"you are eligible\" if(age >18) else \"you are not eligible\""
   ]
  },
  {
   "cell_type": "code",
   "execution_count": 3,
   "id": "f62f4854-6161-40da-8fb1-815838e679c4",
   "metadata": {},
   "outputs": [
    {
     "name": "stdout",
     "output_type": "stream",
     "text": [
      "you are eligible\n"
     ]
    }
   ],
   "source": [
    "print(eligible)"
   ]
  },
  {
   "cell_type": "code",
   "execution_count": null,
   "id": "ecd8bc83-e42e-4e91-afad-2250493969e2",
   "metadata": {},
   "outputs": [],
   "source": [
    "total = 0;"
   ]
  },
  {
   "cell_type": "code",
   "execution_count": 12,
   "id": "f62027ec-3b3b-4d01-b1a9-c3580b4f8bde",
   "metadata": {},
   "outputs": [
    {
     "name": "stdin",
     "output_type": "stream",
     "text": [
      "Enter a leap year:  2025\n"
     ]
    }
   ],
   "source": [
    "yearcheck = int(input(\"Enter a leap year: \"))"
   ]
  },
  {
   "cell_type": "code",
   "execution_count": 14,
   "id": "c3f19515-af72-4575-a546-ed46fbfd62e8",
   "metadata": {},
   "outputs": [],
   "source": [
    "check4 = 1 if(yearcheck % 4 == 0) else 0\n",
    "check100 = -1 if(yearcheck % 100 == 0) else 0\n",
    "check400 = 1 if(yearcheck % 400 == 0) else 0"
   ]
  },
  {
   "cell_type": "code",
   "execution_count": 15,
   "id": "60e7c63e-a0c3-405b-8174-420832c2c562",
   "metadata": {},
   "outputs": [],
   "source": [
    "total = check4 + check100 + check400"
   ]
  },
  {
   "cell_type": "code",
   "execution_count": 16,
   "id": "522fa572-3ba8-4707-afdc-3ea4d45c0f64",
   "metadata": {},
   "outputs": [
    {
     "name": "stdout",
     "output_type": "stream",
     "text": [
      "Not leap year\n"
     ]
    }
   ],
   "source": [
    "print(\"leap year\" if (total == 1) else \"Not leap year\")"
   ]
  },
  {
   "cell_type": "code",
   "execution_count": 17,
   "id": "b5f5abae-b716-47c7-ba2d-bfadc7fca0f1",
   "metadata": {},
   "outputs": [
    {
     "name": "stdin",
     "output_type": "stream",
     "text": [
      "Enter the first number:  12\n"
     ]
    }
   ],
   "source": [
    "num1 = int(input(\"Enter the first number: \"))"
   ]
  },
  {
   "cell_type": "code",
   "execution_count": 18,
   "id": "591b51f4-b639-41cb-9a93-46b92f199603",
   "metadata": {},
   "outputs": [
    {
     "name": "stdin",
     "output_type": "stream",
     "text": [
      "Enter the second number:  15\n"
     ]
    }
   ],
   "source": [
    "num2 = int(input(\"Enter the second number: \"))"
   ]
  },
  {
   "cell_type": "code",
   "execution_count": 19,
   "id": "7791580a-56b3-4d85-86c0-f5ae97cf725b",
   "metadata": {},
   "outputs": [
    {
     "name": "stdout",
     "output_type": "stream",
     "text": [
      "15 is great number\n"
     ]
    }
   ],
   "source": [
    "print(num1, \"is greater number\") if (num1 > num2 ) else print(num2, \"is great number\")"
   ]
  },
  {
   "cell_type": "code",
   "execution_count": null,
   "id": "935bd1e5-20f6-452c-a6bc-84102f7869b0",
   "metadata": {},
   "outputs": [],
   "source": [
    "# Nested ternary operator."
   ]
  },
  {
   "cell_type": "code",
   "execution_count": 20,
   "id": "0038d1a4-94ba-43d7-b2a2-0849c57cabc4",
   "metadata": {},
   "outputs": [],
   "source": [
    "num1, num2 = 10, 20"
   ]
  },
  {
   "cell_type": "code",
   "execution_count": 23,
   "id": "d355e3bd-ba37-4b6f-895f-7f548e4790f5",
   "metadata": {},
   "outputs": [],
   "source": [
    "num = \"num1 = num2\" if(num1 == num2) else \"num1 > num2\" if (num1 > num2) else \"num2 > num1\""
   ]
  },
  {
   "cell_type": "code",
   "execution_count": 24,
   "id": "977500e0-f99e-4e47-be08-4c525182e314",
   "metadata": {},
   "outputs": [
    {
     "name": "stdout",
     "output_type": "stream",
     "text": [
      "num2 > num1\n"
     ]
    }
   ],
   "source": [
    "print(num)"
   ]
  },
  {
   "cell_type": "code",
   "execution_count": null,
   "id": "a2874b83-53b1-484e-941e-9147e7973d30",
   "metadata": {},
   "outputs": [],
   "source": [
    "# Nested if-else statement"
   ]
  },
  {
   "cell_type": "code",
   "execution_count": null,
   "id": "16e7416a-08a2-4bab-9450-348757e9043e",
   "metadata": {},
   "outputs": [],
   "source": [
    "num1, num2 = 10, 20"
   ]
  },
  {
   "cell_type": "code",
   "execution_count": 32,
   "id": "d6d08604-ff3e-49c4-8278-317e6916dbf1",
   "metadata": {},
   "outputs": [
    {
     "name": "stdout",
     "output_type": "stream",
     "text": [
      "num2 > num1\n"
     ]
    }
   ],
   "source": [
    "if num1 != num2:\n",
    "    if num1 > num2:\n",
    "        print(\"num1 > num2\")\n",
    "    else:\n",
    "        print(\"num2 > num1\")\n",
    "else:\n",
    "    print(\"num1 = num2\")"
   ]
  },
  {
   "cell_type": "code",
   "execution_count": null,
   "id": "5a7d3442-d729-4402-9313-bdec205244c2",
   "metadata": {},
   "outputs": [],
   "source": []
  }
 ],
 "metadata": {
  "kernelspec": {
   "display_name": "Python 3 (ipykernel)",
   "language": "python",
   "name": "python3"
  },
  "language_info": {
   "codemirror_mode": {
    "name": "ipython",
    "version": 3
   },
   "file_extension": ".py",
   "mimetype": "text/x-python",
   "name": "python",
   "nbconvert_exporter": "python",
   "pygments_lexer": "ipython3",
   "version": "3.12.8"
  }
 },
 "nbformat": 4,
 "nbformat_minor": 5
}
