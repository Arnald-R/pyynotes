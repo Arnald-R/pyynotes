{
 "cells": [
  {
   "cell_type": "code",
   "execution_count": null,
   "id": "80f40db9-6e9c-44e0-9d1d-968b6260e76f",
   "metadata": {},
   "outputs": [],
   "source": [
    "#created at 20250203"
   ]
  },
  {
   "cell_type": "code",
   "execution_count": null,
   "id": "d84da92d-6000-4909-9230-4feeb6f6e798",
   "metadata": {},
   "outputs": [],
   "source": [
    "https://stevejoe1412.gitbook.io/ssn/python-subtopics/lambda-functions"
   ]
  },
  {
   "cell_type": "code",
   "execution_count": 2,
   "id": "a37e07cb-148c-48b7-a485-171b6845c988",
   "metadata": {},
   "outputs": [],
   "source": [
    "add = lambda x, y: x + y"
   ]
  },
  {
   "cell_type": "code",
   "execution_count": 3,
   "id": "4ab04baf-9df8-4567-be12-5e3f78a1bd19",
   "metadata": {},
   "outputs": [
    {
     "name": "stdout",
     "output_type": "stream",
     "text": [
      "8\n"
     ]
    }
   ],
   "source": [
    "print(add(5, 3)) \n"
   ]
  },
  {
   "cell_type": "code",
   "execution_count": 8,
   "id": "b9572723-e633-4efb-a4e4-cdb78182ac1e",
   "metadata": {},
   "outputs": [],
   "source": [
    "#Lambda with Sorting\n"
   ]
  },
  {
   "cell_type": "code",
   "execution_count": 9,
   "id": "3493e624-3ff6-4976-829f-cd404accc895",
   "metadata": {},
   "outputs": [
    {
     "name": "stdout",
     "output_type": "stream",
     "text": [
      "[(1, 'apple'), (2, 'banana'), (3, 'cherry')]\n"
     ]
    }
   ],
   "source": [
    "data = [(1, 'apple'), (2, 'banana'), (3, 'cherry')]\n",
    "sorted_data = sorted(data, key=lambda x: x[1])\n",
    "print(sorted_data)"
   ]
  },
  {
   "cell_type": "code",
   "execution_count": 10,
   "id": "9a0ffc4a-bcb7-4529-a73e-055a3b322ac9",
   "metadata": {},
   "outputs": [],
   "source": [
    "#Using Lambda with map()"
   ]
  },
  {
   "cell_type": "code",
   "execution_count": 11,
   "id": "f759bca6-783b-42b3-91ff-cf54ff0c3988",
   "metadata": {},
   "outputs": [],
   "source": [
    "numbers = [1, 2, 3, 4, 5]"
   ]
  },
  {
   "cell_type": "code",
   "execution_count": 12,
   "id": "1ac4ca87-3a07-4864-810e-12edecc0bac9",
   "metadata": {},
   "outputs": [],
   "source": [
    "result = map(lambda x: x * 2, numbers)"
   ]
  },
  {
   "cell_type": "code",
   "execution_count": null,
   "id": "c6f3ee8c-6a98-4a62-9388-da002848af6e",
   "metadata": {},
   "outputs": [],
   "source": [
    "print(list(result))  # Output: [2, 4, 6, 8, 10]"
   ]
  },
  {
   "cell_type": "code",
   "execution_count": null,
   "id": "40193012-f2eb-47bf-afc7-6b6d434b25cf",
   "metadata": {},
   "outputs": [],
   "source": []
  }
 ],
 "metadata": {
  "kernelspec": {
   "display_name": "Python 3 (ipykernel)",
   "language": "python",
   "name": "python3"
  },
  "language_info": {
   "codemirror_mode": {
    "name": "ipython",
    "version": 3
   },
   "file_extension": ".py",
   "mimetype": "text/x-python",
   "name": "python",
   "nbconvert_exporter": "python",
   "pygments_lexer": "ipython3",
   "version": "3.12.8"
  }
 },
 "nbformat": 4,
 "nbformat_minor": 5
}
