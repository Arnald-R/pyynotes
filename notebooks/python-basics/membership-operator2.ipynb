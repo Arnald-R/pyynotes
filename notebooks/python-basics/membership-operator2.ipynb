{
 "cells": [
  {
   "cell_type": "code",
   "execution_count": 1,
   "id": "fc011335-6d70-4ba0-85e5-24ffb4a94b67",
   "metadata": {},
   "outputs": [],
   "source": [
    "#created at 20250123"
   ]
  },
  {
   "cell_type": "code",
   "execution_count": null,
   "id": "70c9f469-d1eb-42a3-865f-8e36f8f37da4",
   "metadata": {},
   "outputs": [],
   "source": [
    "https://www.scientecheasy.com/2022/10/membership-operators-in-python.html/"
   ]
  },
  {
   "cell_type": "code",
   "execution_count": 2,
   "id": "5ea29915-f084-4fe5-a71d-69cf4aca685c",
   "metadata": {},
   "outputs": [],
   "source": [
    "#not in "
   ]
  },
  {
   "cell_type": "code",
   "execution_count": 3,
   "id": "6bfaf739-f3d6-4a89-a830-3110f4c56f9e",
   "metadata": {},
   "outputs": [],
   "source": [
    "my_string = 'I love myy parents and my friends'"
   ]
  },
  {
   "cell_type": "code",
   "execution_count": 4,
   "id": "306af550-dc64-40cc-8879-83faf7e7d360",
   "metadata": {},
   "outputs": [
    {
     "name": "stdout",
     "output_type": "stream",
     "text": [
      "False\n"
     ]
    }
   ],
   "source": [
    "print('love' not in my_string)"
   ]
  },
  {
   "cell_type": "code",
   "execution_count": 5,
   "id": "9801a488-6299-4b42-9903-9c2e2c10e79c",
   "metadata": {},
   "outputs": [
    {
     "name": "stdout",
     "output_type": "stream",
     "text": [
      "True\n"
     ]
    }
   ],
   "source": [
    "print('my fam' not in my_string)"
   ]
  },
  {
   "cell_type": "code",
   "execution_count": 6,
   "id": "41ccb21b-a177-4b5a-afd1-f6515ae987dc",
   "metadata": {},
   "outputs": [
    {
     "name": "stdout",
     "output_type": "stream",
     "text": [
      "False\n"
     ]
    }
   ],
   "source": [
    "print('friend' not in my_string)"
   ]
  },
  {
   "cell_type": "code",
   "execution_count": 7,
   "id": "7911874f-16a3-40b5-9f42-7e9dbb198bbc",
   "metadata": {},
   "outputs": [],
   "source": [
    "my_list = [10,12,13,14,15,16]"
   ]
  },
  {
   "cell_type": "code",
   "execution_count": 8,
   "id": "25dbef12-d3fe-4bb9-b9fc-523844244a57",
   "metadata": {},
   "outputs": [
    {
     "name": "stdout",
     "output_type": "stream",
     "text": [
      "True\n"
     ]
    }
   ],
   "source": [
    "print(11 not in my_list)"
   ]
  },
  {
   "cell_type": "code",
   "execution_count": 9,
   "id": "bf34067d-4f46-41dd-b0d9-6bf6f1af3735",
   "metadata": {},
   "outputs": [
    {
     "name": "stdout",
     "output_type": "stream",
     "text": [
      "False\n"
     ]
    }
   ],
   "source": [
    "print(15 not in my_list)"
   ]
  },
  {
   "cell_type": "code",
   "execution_count": 10,
   "id": "75264690-db20-4def-9431-c9c0aacfc47b",
   "metadata": {},
   "outputs": [],
   "source": [
    "num1 = 20"
   ]
  },
  {
   "cell_type": "code",
   "execution_count": 12,
   "id": "e48498cb-9e17-461c-8ad1-d45461b54114",
   "metadata": {},
   "outputs": [],
   "source": [
    "num2 = 3"
   ]
  },
  {
   "cell_type": "code",
   "execution_count": 11,
   "id": "6166c3f1-ab01-408b-9b25-2d5b0b86e6b8",
   "metadata": {},
   "outputs": [],
   "source": [
    "my_list = [10,2,3,4,98,12]"
   ]
  },
  {
   "cell_type": "code",
   "execution_count": 16,
   "id": "5710db6c-d11f-4afd-9268-5f18dfd56f6b",
   "metadata": {},
   "outputs": [
    {
     "name": "stdout",
     "output_type": "stream",
     "text": [
      "3 is present in the given list.\n"
     ]
    }
   ],
   "source": [
    "if(num2 in my_list):\n",
    "    print(num2, 'is present in the given list.')\n",
    "else:\n",
    "    print(num2 ,'is not present in the given list')"
   ]
  },
  {
   "cell_type": "code",
   "execution_count": 20,
   "id": "243ef431-829b-4529-b8e9-e7f33b8a832c",
   "metadata": {},
   "outputs": [
    {
     "name": "stdout",
     "output_type": "stream",
     "text": [
      "20 is not present in the given list.\n"
     ]
    }
   ],
   "source": [
    "if(num1 not in my_list):\n",
    "    print(num1, 'is not present in the given list.')\n",
    "else:\n",
    "    print(num2, 'is present in the given list.')"
   ]
  },
  {
   "cell_type": "code",
   "execution_count": null,
   "id": "6b427dac-0698-4813-b3c6-2299e7e43163",
   "metadata": {},
   "outputs": [],
   "source": []
  },
  {
   "cell_type": "code",
   "execution_count": null,
   "id": "d93c9ce6-2edb-45ce-9474-26eb60ba01a6",
   "metadata": {},
   "outputs": [],
   "source": []
  },
  {
   "cell_type": "code",
   "execution_count": null,
   "id": "c7d3cd88-7821-488b-86ea-ac39fece126e",
   "metadata": {},
   "outputs": [],
   "source": []
  },
  {
   "cell_type": "code",
   "execution_count": null,
   "id": "7ec8e873-987b-45ff-9aff-de4277592e17",
   "metadata": {},
   "outputs": [],
   "source": []
  }
 ],
 "metadata": {
  "kernelspec": {
   "display_name": "Python 3 (ipykernel)",
   "language": "python",
   "name": "python3"
  },
  "language_info": {
   "codemirror_mode": {
    "name": "ipython",
    "version": 3
   },
   "file_extension": ".py",
   "mimetype": "text/x-python",
   "name": "python",
   "nbconvert_exporter": "python",
   "pygments_lexer": "ipython3",
   "version": "3.12.8"
  }
 },
 "nbformat": 4,
 "nbformat_minor": 5
}
