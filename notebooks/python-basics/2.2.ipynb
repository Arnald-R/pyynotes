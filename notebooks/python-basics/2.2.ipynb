{
 "cells": [
  {
   "cell_type": "code",
   "execution_count": 1,
   "id": "2e97be59-e480-41c2-8b24-1b583a900198",
   "metadata": {},
   "outputs": [],
   "source": [
    "#Reserved keywords"
   ]
  },
  {
   "cell_type": "code",
   "execution_count": 2,
   "id": "49f9dfb1-b47e-4686-b3de-f8f2e0c4069e",
   "metadata": {},
   "outputs": [],
   "source": [
    "#True and False"
   ]
  },
  {
   "cell_type": "code",
   "execution_count": 3,
   "id": "24137d7f-ea14-4df3-8eda-ee77adb055ef",
   "metadata": {},
   "outputs": [
    {
     "name": "stdout",
     "output_type": "stream",
     "text": [
      "True\n",
      "False\n",
      "True\n",
      "True\n"
     ]
    }
   ],
   "source": [
    "print( 1==1)\n",
    "print( 15>16 )\n",
    "print( True or False )\n",
    "print( 10>=8 )"
   ]
  },
  {
   "cell_type": "code",
   "execution_count": 5,
   "id": "a5b7efa5-13b3-4e9f-b396-686f35a3e74b",
   "metadata": {},
   "outputs": [
    {
     "name": "stdout",
     "output_type": "stream",
     "text": [
      "False\n",
      "False\n",
      "True\n",
      "False\n",
      "1\n"
     ]
    }
   ],
   "source": [
    "print(20<12)\n",
    "print(5<=3)\n",
    "print(False == 0)\n",
    "print(False == 1)\n",
    "print(False + False + 1)"
   ]
  },
  {
   "cell_type": "code",
   "execution_count": 6,
   "id": "3619d2a3-ca35-4d24-a0e0-b41f8f03c0a3",
   "metadata": {},
   "outputs": [],
   "source": [
    "#None Keyword"
   ]
  },
  {
   "cell_type": "code",
   "execution_count": 8,
   "id": "81509a78-afe4-435c-a643-10c04cbb0eea",
   "metadata": {},
   "outputs": [
    {
     "name": "stdout",
     "output_type": "stream",
     "text": [
      "False\n",
      "False\n",
      "False\n"
     ]
    }
   ],
   "source": [
    "print(None == False)\n",
    "print( None == 0 )\n",
    "print( None == \" \" )"
   ]
  },
  {
   "cell_type": "code",
   "execution_count": 9,
   "id": "0cff70ee-733f-4e8f-a3dc-af8c1c3403ae",
   "metadata": {},
   "outputs": [],
   "source": [
    "#true "
   ]
  },
  {
   "cell_type": "code",
   "execution_count": 10,
   "id": "8de31452-9798-4f29-a924-62465a24bd62",
   "metadata": {},
   "outputs": [
    {
     "name": "stdout",
     "output_type": "stream",
     "text": [
      "True\n",
      "True\n",
      "True\n",
      "True\n"
     ]
    }
   ],
   "source": [
    "print(True or True)\n",
    "print(False or False or True)\n",
    "print(True or False)\n",
    "print(True or 1)"
   ]
  },
  {
   "cell_type": "code",
   "execution_count": 11,
   "id": "8b454f50-dd6a-4e9c-b36e-458446a282da",
   "metadata": {},
   "outputs": [
    {
     "name": "stdout",
     "output_type": "stream",
     "text": [
      "True\n",
      "False\n"
     ]
    }
   ],
   "source": [
    "num = [10, 25, 30, 40, 50]\n",
    "print(50 in num)\n",
    "print(15 in num)"
   ]
  },
  {
   "cell_type": "code",
   "execution_count": 12,
   "id": "bb059a2a-53f6-4d2e-b1cd-7b5028f34df1",
   "metadata": {},
   "outputs": [],
   "source": [
    "#keyword is to traverse over a sequence in a for loop"
   ]
  },
  {
   "cell_type": "code",
   "execution_count": 13,
   "id": "a709a022-a363-4f2a-9934-ac63a60243f3",
   "metadata": {},
   "outputs": [
    {
     "name": "stdout",
     "output_type": "stream",
     "text": [
      "A\n",
      "r\n",
      "n\n",
      "a\n",
      "l\n",
      "d\n"
     ]
    }
   ],
   "source": [
    "for i in 'Arnald':\n",
    "    print(i)"
   ]
  },
  {
   "cell_type": "code",
   "execution_count": 14,
   "id": "55b2df66-26aa-4c87-9981-752192b79bbf",
   "metadata": {},
   "outputs": [
    {
     "name": "stdout",
     "output_type": "stream",
     "text": [
      "True\n",
      "False\n",
      "True\n",
      "True\n"
     ]
    },
    {
     "name": "stderr",
     "output_type": "stream",
     "text": [
      "<>:5: SyntaxWarning: \"is\" with 'int' literal. Did you mean \"==\"?\n",
      "<>:5: SyntaxWarning: \"is\" with 'int' literal. Did you mean \"==\"?\n",
      "/tmp/ipykernel_7250/2494937313.py:5: SyntaxWarning: \"is\" with 'int' literal. Did you mean \"==\"?\n",
      "  print((2 + 4) is (3 * 2))\n"
     ]
    }
   ],
   "source": [
    "#if both objects are same means is true\n",
    "print( True is True )\n",
    "print( False is True )\n",
    "print( None is None )\n",
    "print((2 + 4) is (3 * 2))"
   ]
  },
  {
   "cell_type": "code",
   "execution_count": 15,
   "id": "96278231-3f6c-4427-9863-38d79ba7a63f",
   "metadata": {},
   "outputs": [
    {
     "name": "stdout",
     "output_type": "stream",
     "text": [
      "True\n",
      "False\n",
      "True\n",
      "False\n"
     ]
    }
   ],
   "source": [
    "print( [ ] == [ ] )\n",
    "print( [ ] is [ ] )  \n",
    "print( { } == { } )\n",
    "print( { } is { } )"
   ]
  },
  {
   "cell_type": "code",
   "execution_count": 16,
   "id": "3b68fa86-d49f-4fa1-af96-6d817f9eb565",
   "metadata": {},
   "outputs": [],
   "source": [
    "#Iteration Keywords – for, while, break, continue"
   ]
  },
  {
   "cell_type": "code",
   "execution_count": 17,
   "id": "68d47d81-4978-4b73-874f-fa571dd540c1",
   "metadata": {},
   "outputs": [
    {
     "name": "stdout",
     "output_type": "stream",
     "text": [
      "Hi,Arnald R\n",
      "Hi,Arnald R\n",
      "Hi,Arnald R\n"
     ]
    }
   ],
   "source": [
    "for count in range(1,4):\n",
    "    print(\"Hi,Arnald R\")"
   ]
  },
  {
   "cell_type": "code",
   "execution_count": 18,
   "id": "a24cc100-6c3d-467b-9189-d93aa06b5a03",
   "metadata": {},
   "outputs": [
    {
     "name": "stdout",
     "output_type": "stream",
     "text": [
      "the count is: 0\n",
      "the count is: 1\n",
      "the count is: 2\n",
      "while loop ended\n"
     ]
    }
   ],
   "source": [
    "c=0\n",
    "while(c<3):\n",
    "    print(\"the count is:\",c)\n",
    "    c=c+1\n",
    "print(\"while loop ended\")\n",
    "    "
   ]
  },
  {
   "cell_type": "code",
   "execution_count": 20,
   "id": "675e7e11-8e92-40e3-8486-2569d2a9f6f0",
   "metadata": {},
   "outputs": [
    {
     "name": "stdout",
     "output_type": "stream",
     "text": [
      "1\n",
      "2\n"
     ]
    }
   ],
   "source": [
    "for i in range(1,5):\n",
    "    if i == 3:\n",
    "        break\n",
    "    print(i)"
   ]
  },
  {
   "cell_type": "raw",
   "id": "854a129c-6984-490f-8fa6-7bd94f698d6c",
   "metadata": {},
   "source": [
    " "
   ]
  },
  {
   "cell_type": "code",
   "execution_count": 21,
   "id": "a7693024-d97d-41b6-85ed-4cdadec9b77f",
   "metadata": {},
   "outputs": [
    {
     "name": "stdout",
     "output_type": "stream",
     "text": [
      "1\n",
      "2\n",
      "4\n"
     ]
    }
   ],
   "source": [
    "for i in range(1,5):\n",
    "    if i == 3:\n",
    "        continue\n",
    "    print(i)"
   ]
  },
  {
   "cell_type": "code",
   "execution_count": 22,
   "id": "6c9cd93b-5a4f-4ddc-9f0f-fdd00977d5a9",
   "metadata": {},
   "outputs": [],
   "source": [
    "#Conditional keywords – if, else, and elif\n"
   ]
  },
  {
   "cell_type": "code",
   "execution_count": 23,
   "id": "afe1518b-8f01-423f-98e1-ad01c1284ae1",
   "metadata": {},
   "outputs": [
    {
     "name": "stdout",
     "output_type": "stream",
     "text": [
      "Python keywords\n"
     ]
    }
   ],
   "source": [
    "i = 10\n",
    "if (i == 5):\n",
    "    print (\"Hello\")\n",
    "elif (i == 10):\n",
    "    print (\"Python keywords\")\n",
    "else:\n",
    "    print (\"Hello Python\")"
   ]
  },
  {
   "cell_type": "code",
   "execution_count": 24,
   "id": "4b0137c8-7108-4829-add5-3213838493a6",
   "metadata": {},
   "outputs": [],
   "source": [
    "#def keyword"
   ]
  },
  {
   "cell_type": "code",
   "execution_count": 25,
   "id": "3232c01a-85a6-49c7-a8c3-5ea6e0d297e7",
   "metadata": {},
   "outputs": [
    {
     "name": "stdout",
     "output_type": "stream",
     "text": [
      "method\n"
     ]
    }
   ],
   "source": [
    "def func():\n",
    "    print(\"method\")\n",
    "func()"
   ]
  },
  {
   "cell_type": "code",
   "execution_count": 26,
   "id": "b6bff9bf-b2da-4912-8fd3-f24347c9b2a1",
   "metadata": {},
   "outputs": [],
   "source": [
    "#Return Keywords – Return, and Yield"
   ]
  },
  {
   "cell_type": "code",
   "execution_count": 30,
   "id": "b1e3f62b-5933-40e6-b120-aa338681a036",
   "metadata": {},
   "outputs": [
    {
     "name": "stdout",
     "output_type": "stream",
     "text": [
      "20\n",
      "None\n"
     ]
    }
   ],
   "source": [
    "def fun_key():\n",
    "    x=20\n",
    "    return x\n",
    "def fun_no_key():\n",
    "    y=50\n",
    "print(fun_key())\n",
    "print(fun_no_key())"
   ]
  },
  {
   "cell_type": "code",
   "execution_count": 31,
   "id": "c3b29987-8d54-43b8-8ce4-c435a220545d",
   "metadata": {},
   "outputs": [],
   "source": [
    "#yield"
   ]
  },
  {
   "cell_type": "code",
   "execution_count": 32,
   "id": "a77a4762-bacd-4c1b-a253-fc9182f8abe8",
   "metadata": {},
   "outputs": [
    {
     "name": "stdout",
     "output_type": "stream",
     "text": [
      "0\n",
      "1\n",
      "3\n",
      "6\n",
      "10\n"
     ]
    }
   ],
   "source": [
    "def func():\n",
    "    x = 0\n",
    "    for i in range(5):\n",
    "        x += i\n",
    "        yield x\n",
    "for i in func():\n",
    "    print(i)"
   ]
  },
  {
   "cell_type": "code",
   "execution_count": 33,
   "id": "01ecd24e-e93a-4d8a-8e1d-8b007e08e6b1",
   "metadata": {},
   "outputs": [],
   "source": [
    "#with keyword"
   ]
  },
  {
   "cell_type": "code",
   "execution_count": 34,
   "id": "27535e4c-3d6e-44b5-8554-18f43fc2b2a8",
   "metadata": {},
   "outputs": [],
   "source": [
    "with open('myfile.txt','w') as file:\n",
    "    file.write('Hi,Arnald')"
   ]
  },
  {
   "cell_type": "code",
   "execution_count": 35,
   "id": "83523f08-6b05-463b-bbe0-aa7805aec671",
   "metadata": {},
   "outputs": [],
   "source": [
    "#as keyword"
   ]
  },
  {
   "cell_type": "code",
   "execution_count": 40,
   "id": "ec04ee4a-1989-4c23-8797-e368e4128ce5",
   "metadata": {},
   "outputs": [
    {
     "name": "stdout",
     "output_type": "stream",
     "text": [
      "1.0\n"
     ]
    }
   ],
   "source": [
    "import math as x\n",
    "print(x.cos(0))"
   ]
  },
  {
   "cell_type": "code",
   "execution_count": 41,
   "id": "5ed73bdd-4378-45ae-872c-9ee315f27e48",
   "metadata": {},
   "outputs": [
    {
     "name": "stdout",
     "output_type": "stream",
     "text": [
      "343\n"
     ]
    }
   ],
   "source": [
    "# Lambda keyword\n",
    "cube = lambda x: x * x * x\n",
    "print(cube(7))"
   ]
  },
  {
   "cell_type": "code",
   "execution_count": 42,
   "id": "22efe600-77e9-4cab-95e0-62f37623e9b5",
   "metadata": {},
   "outputs": [
    {
     "name": "stdout",
     "output_type": "stream",
     "text": [
      "2.0\n"
     ]
    }
   ],
   "source": [
    "import math\n",
    "print(math.sqrt(4))"
   ]
  },
  {
   "cell_type": "code",
   "execution_count": 44,
   "id": "7eaded86-42e2-4cae-8bcd-e53434c7b2f0",
   "metadata": {},
   "outputs": [
    {
     "name": "stdout",
     "output_type": "stream",
     "text": [
      "25.0\n"
     ]
    }
   ],
   "source": [
    "from math import sqrt\n",
    "print(sqrt(625))"
   ]
  },
  {
   "cell_type": "code",
   "execution_count": 45,
   "id": "d7ed22df-8b2c-4691-bb26-1535fb239ea4",
   "metadata": {},
   "outputs": [
    {
     "name": "stdout",
     "output_type": "stream",
     "text": [
      "200\n",
      "Scientech Easy\n"
     ]
    },
    {
     "ename": "NameError",
     "evalue": "name 'my_var1' is not defined",
     "output_type": "error",
     "traceback": [
      "\u001b[0;31m---------------------------------------------------------------------------\u001b[0m",
      "\u001b[0;31mNameError\u001b[0m                                 Traceback (most recent call last)",
      "Cell \u001b[0;32mIn[45], line 13\u001b[0m\n\u001b[1;32m     10\u001b[0m \u001b[38;5;28;01mdel\u001b[39;00m my_var2\n\u001b[1;32m     12\u001b[0m \u001b[38;5;66;03m# check if my_var1 and my_var2 exists\u001b[39;00m\n\u001b[0;32m---> 13\u001b[0m \u001b[38;5;28mprint\u001b[39m(\u001b[43mmy_var1\u001b[49m)\n\u001b[1;32m     14\u001b[0m \u001b[38;5;28mprint\u001b[39m(my_var2)\n",
      "\u001b[0;31mNameError\u001b[0m: name 'my_var1' is not defined"
     ]
    }
   ],
   "source": [
    "my_var1 = 200\n",
    "my_var2 = \"Scientech Easy\"\n",
    "\n",
    "# check if my_var1 and my_var2 exists.\n",
    "print(my_var1)\n",
    "print(my_var2)\n",
    "\n",
    "# delete both the variables.\n",
    "del my_var1\n",
    "del my_var2\n",
    "\n",
    "# check if my_var1 and my_var2 exists\n",
    "print(my_var1)\n",
    "print(my_var2)\n"
   ]
  },
  {
   "cell_type": "code",
   "execution_count": 46,
   "id": "89883401-3dd0-45d9-8b89-abe913e3b6b3",
   "metadata": {},
   "outputs": [
    {
     "name": "stdout",
     "output_type": "stream",
     "text": [
      "50\n",
      "100\n"
     ]
    }
   ],
   "source": [
    "g_var = 50\n",
    "def func_read():\n",
    "    print(g_var)\n",
    "def func_write():\n",
    "    global g_var\n",
    "    g_var = 100\n",
    "\n",
    "func_read()\n",
    "func_write()\n",
    "func_read()\n"
   ]
  },
  {
   "cell_type": "code",
   "execution_count": 47,
   "id": "2cf31c66-5296-4022-9963-c1b2ffcfb004",
   "metadata": {},
   "outputs": [
    {
     "name": "stdout",
     "output_type": "stream",
     "text": [
      "Inner function:  100\n",
      "Outer function:  100\n"
     ]
    }
   ],
   "source": [
    "def outer_func():\n",
    "    x = 50\n",
    "    def inner_func():\n",
    "        nonlocal x\n",
    "        x = 100\n",
    "        print(\"Inner function: \",x)\n",
    "    inner_func()\n",
    "    print(\"Outer function: \",x)\n",
    "\n",
    "outer_func()\n"
   ]
  },
  {
   "cell_type": "code",
   "execution_count": 48,
   "id": "cf96fb00-b3b7-4e42-b61b-46725c50381b",
   "metadata": {},
   "outputs": [
    {
     "name": "stdout",
     "output_type": "stream",
     "text": [
      "Inner function:  100\n",
      "Outer function:  50\n"
     ]
    }
   ],
   "source": [
    "def outer_func():\n",
    "    x = 50\n",
    "    def inner_func():\n",
    "        x = 100\n",
    "        print(\"Inner function: \",x)\n",
    "    inner_func()\n",
    "    print(\"Outer function: \",x)\n",
    "\n",
    "outer_func()\n"
   ]
  },
  {
   "cell_type": "code",
   "execution_count": 49,
   "id": "ce2fc85f-276b-4f1f-8a12-5ff6b02d876b",
   "metadata": {},
   "outputs": [],
   "source": [
    "#Exception Handling Keywords – try, except, raise, and finally"
   ]
  },
  {
   "cell_type": "code",
   "execution_count": 50,
   "id": "3b530ca0-a148-4c34-853c-9eefb4968719",
   "metadata": {},
   "outputs": [
    {
     "name": "stdout",
     "output_type": "stream",
     "text": [
      "Cannot divide by zero\n",
      "finally block always gets executed\n"
     ]
    }
   ],
   "source": [
    "# initializing the value of variables.\n",
    "x = 10\n",
    "y = 0\n",
    "# No exception raised in try block\n",
    "try:\n",
    "    z = x // y  # raises divide by zero exception.\n",
    "    print(z)\n",
    "# handles zero division exception\n",
    "except ZeroDivisionError:\n",
    "    print(\"Cannot divide by zero\")\n",
    "\n",
    "finally:\n",
    "    # this block always gets executed regardless of exception produced.\n",
    "    print('finally block always gets executed')\n"
   ]
  },
  {
   "cell_type": "code",
   "execution_count": 51,
   "id": "9759508f-b041-4740-98ba-e65b78604f20",
   "metadata": {},
   "outputs": [],
   "source": [
    "#assert"
   ]
  },
  {
   "cell_type": "code",
   "execution_count": 55,
   "id": "a4290405-04a2-48f6-bfa4-72eaa5fdc845",
   "metadata": {},
   "outputs": [
    {
     "ename": "AssertionError",
     "evalue": "",
     "output_type": "error",
     "traceback": [
      "\u001b[0;31m---------------------------------------------------------------------------\u001b[0m",
      "\u001b[0;31mAssertionError\u001b[0m                            Traceback (most recent call last)",
      "Cell \u001b[0;32mIn[55], line 3\u001b[0m\n\u001b[1;32m      1\u001b[0m x \u001b[38;5;241m=\u001b[39m \u001b[38;5;241m10\u001b[39m\n\u001b[1;32m      2\u001b[0m \u001b[38;5;28;01massert\u001b[39;00m x \u001b[38;5;241m>\u001b[39m\u001b[38;5;241m=\u001b[39m \u001b[38;5;241m10\u001b[39m\n\u001b[0;32m----> 3\u001b[0m \u001b[38;5;28;01massert\u001b[39;00m x \u001b[38;5;241m<\u001b[39m \u001b[38;5;241m10\u001b[39m\n\u001b[1;32m      4\u001b[0m x \u001b[38;5;241m=\u001b[39m \u001b[38;5;241m10\u001b[39m\n\u001b[1;32m      5\u001b[0m \u001b[38;5;28;01massert\u001b[39;00m x \u001b[38;5;241m<\u001b[39m \u001b[38;5;241m10\u001b[39m, \u001b[38;5;124m\"\u001b[39m\u001b[38;5;124mx is not less than 10\u001b[39m\u001b[38;5;124m\"\u001b[39m\n",
      "\u001b[0;31mAssertionError\u001b[0m: "
     ]
    }
   ],
   "source": [
    "x = 10\n",
    "assert x >= 10\n",
    "assert x < 10\n",
    "x = 10\n",
    "assert x < 10, \"x is not less than 10\"\n",
    "\n",
    "\n"
   ]
  },
  {
   "cell_type": "code",
   "execution_count": null,
   "id": "92749d52-e716-454e-af76-08de22c5b48a",
   "metadata": {},
   "outputs": [],
   "source": []
  }
 ],
 "metadata": {
  "kernelspec": {
   "display_name": "Python 3 (ipykernel)",
   "language": "python",
   "name": "python3"
  },
  "language_info": {
   "codemirror_mode": {
    "name": "ipython",
    "version": 3
   },
   "file_extension": ".py",
   "mimetype": "text/x-python",
   "name": "python",
   "nbconvert_exporter": "python",
   "pygments_lexer": "ipython3",
   "version": "3.12.8"
  }
 },
 "nbformat": 4,
 "nbformat_minor": 5
}
