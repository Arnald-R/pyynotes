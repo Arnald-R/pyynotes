{
 "cells": [
  {
   "cell_type": "code",
   "execution_count": 1,
   "id": "f068890c-4399-4786-b41f-928cb1dcef62",
   "metadata": {},
   "outputs": [],
   "source": [
    "#created at 20250125"
   ]
  },
  {
   "cell_type": "code",
   "execution_count": null,
   "id": "20b159df-d80a-42e2-933d-ff51c9c6b353",
   "metadata": {},
   "outputs": [],
   "source": [
    "https://www.scientecheasy.com/2022/11/python-continue.html/\n"
   ]
  },
  {
   "cell_type": "code",
   "execution_count": 3,
   "id": "acbf0842-db47-4a90-9b7e-3f74b74ac20d",
   "metadata": {},
   "outputs": [
    {
     "name": "stdout",
     "output_type": "stream",
     "text": [
      "1\n",
      "2\n",
      "3\n",
      "4\n",
      "5\n",
      "7\n",
      "8\n",
      "9\n"
     ]
    }
   ],
   "source": [
    "x = 1\n",
    "while x < 10:\n",
    "    if x == 6:\n",
    "        x = x + 1\n",
    "        continue\n",
    "    print(x)\n",
    "    x = x + 1"
   ]
  },
  {
   "cell_type": "code",
   "execution_count": 4,
   "id": "b5f1a504-850a-414d-86ab-f4f86b21327d",
   "metadata": {},
   "outputs": [
    {
     "name": "stdout",
     "output_type": "stream",
     "text": [
      "1 1\n",
      "1 2\n",
      "1 3\n",
      "2 1\n",
      "2 2\n",
      "3 1\n",
      "3 2\n",
      "3 3\n"
     ]
    }
   ],
   "source": [
    "# Outer loop.\n",
    "for x in range(1, 4):\n",
    "   # Inner loop.\n",
    "     for y in range(1, 4):\n",
    "       if x == 2 and y == 3:\n",
    "           continue # continue statement inside the inner for loop.\n",
    "       print(x,y)\n"
   ]
  },
  {
   "cell_type": "code",
   "execution_count": 5,
   "id": "1fb958d6-29f5-41d1-adb4-71ad17e6a7d5",
   "metadata": {},
   "outputs": [
    {
     "name": "stdout",
     "output_type": "stream",
     "text": [
      "2\n",
      "3\n",
      "4\n",
      "40\n",
      "5\n",
      "50\n",
      "6\n",
      "60\n"
     ]
    }
   ],
   "source": [
    "for x in range(1, 7):\n",
    "    if x < 2:\n",
    "        continue\n",
    "    print(x)\n",
    "    if x < 4:\n",
    "        continue\n",
    "    print(10 * x)\n"
   ]
  },
  {
   "cell_type": "code",
   "execution_count": null,
   "id": "11b8ef43-2eb1-499c-9476-7023aaf20c19",
   "metadata": {},
   "outputs": [],
   "source": []
  }
 ],
 "metadata": {
  "kernelspec": {
   "display_name": "Python 3 (ipykernel)",
   "language": "python",
   "name": "python3"
  },
  "language_info": {
   "codemirror_mode": {
    "name": "ipython",
    "version": 3
   },
   "file_extension": ".py",
   "mimetype": "text/x-python",
   "name": "python",
   "nbconvert_exporter": "python",
   "pygments_lexer": "ipython3",
   "version": "3.12.8"
  }
 },
 "nbformat": 4,
 "nbformat_minor": 5
}
