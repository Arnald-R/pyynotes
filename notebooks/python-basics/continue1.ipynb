{
 "cells": [
  {
   "cell_type": "code",
   "execution_count": null,
   "id": "dd03af67-a41e-45e9-9379-bda8567d3e50",
   "metadata": {},
   "outputs": [],
   "source": [
    "#created at 20250125"
   ]
  },
  {
   "cell_type": "code",
   "execution_count": null,
   "id": "3a6e0dc4-a5a0-49da-966f-f06e6d1a94b0",
   "metadata": {},
   "outputs": [],
   "source": [
    "https://www.scientecheasy.com/2022/11/python-continue.html/"
   ]
  },
  {
   "cell_type": "code",
   "execution_count": 1,
   "id": "f10fb5bb-eec0-4e1f-8f77-a89e84d6d511",
   "metadata": {},
   "outputs": [],
   "source": [
    "x = 1"
   ]
  },
  {
   "cell_type": "code",
   "execution_count": null,
   "id": "6f4fb054-e53b-4a71-af0d-fc1172d07cbb",
   "metadata": {},
   "outputs": [],
   "source": [
    "while x < 10:\n",
    "    if x == 6:\n",
    "        continue\n",
    "        x = x + 1\n",
    "    print(x)\n",
    "    x = x + 1"
   ]
  },
  {
   "cell_type": "code",
   "execution_count": null,
   "id": "d62be9cc-665e-4ea1-9ea6-913407e07c6c",
   "metadata": {},
   "outputs": [],
   "source": [
    "# Outer loop.\n",
    "for x in range(1, 4):\n",
    "   # Inner loop.\n",
    "     for y in range(1, 4):\n",
    "       if x == 2 and y == 3:\n",
    "           continue # continue statement inside the inner for loop.\n",
    "       print(x,y)\n"
   ]
  },
  {
   "cell_type": "code",
   "execution_count": null,
   "id": "5d41e45a-1c53-40c4-959a-16ac14527dc4",
   "metadata": {},
   "outputs": [],
   "source": []
  }
 ],
 "metadata": {
  "kernelspec": {
   "display_name": "Python 3 (ipykernel)",
   "language": "python",
   "name": "python3"
  },
  "language_info": {
   "codemirror_mode": {
    "name": "ipython",
    "version": 3
   },
   "file_extension": ".py",
   "mimetype": "text/x-python",
   "name": "python",
   "nbconvert_exporter": "python",
   "pygments_lexer": "ipython3",
   "version": "3.12.8"
  }
 },
 "nbformat": 4,
 "nbformat_minor": 5
}
