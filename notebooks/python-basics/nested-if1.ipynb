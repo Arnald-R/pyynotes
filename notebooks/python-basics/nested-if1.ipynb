{
 "cells": [
  {
   "cell_type": "code",
   "execution_count": null,
   "id": "d9c1be5b-0d97-4a5e-ad9c-891eb4377a12",
   "metadata": {},
   "outputs": [],
   "source": [
    "#createdat 20250124"
   ]
  },
  {
   "cell_type": "code",
   "execution_count": null,
   "id": "b45e2ddc-3aa4-450c-89bb-e07364cd184d",
   "metadata": {},
   "outputs": [],
   "source": [
    "https://www.scientecheasy.com/2022/10/python-nested-if.html/"
   ]
  },
  {
   "cell_type": "code",
   "execution_count": 1,
   "id": "6a862177-c408-4d9a-a77f-a7464fe87ea2",
   "metadata": {},
   "outputs": [],
   "source": [
    "#when outer true means get into the inner if"
   ]
  },
  {
   "cell_type": "code",
   "execution_count": 2,
   "id": "bf47ce6d-d65c-4269-aa95-c7b6da3b4720",
   "metadata": {},
   "outputs": [],
   "source": [
    "x = 15"
   ]
  },
  {
   "cell_type": "code",
   "execution_count": 3,
   "id": "e356aa36-d44f-4404-8265-dbfce536414e",
   "metadata": {},
   "outputs": [],
   "source": [
    "y = 10"
   ]
  },
  {
   "cell_type": "code",
   "execution_count": 4,
   "id": "ba11cd1b-dc43-4071-b818-111c77323a9f",
   "metadata": {},
   "outputs": [],
   "source": [
    "z = 5"
   ]
  },
  {
   "cell_type": "code",
   "execution_count": 5,
   "id": "60cc738a-d239-478e-b240-0252a24c4468",
   "metadata": {},
   "outputs": [
    {
     "name": "stdout",
     "output_type": "stream",
     "text": [
      "Hi\n"
     ]
    }
   ],
   "source": [
    "if x > y:\n",
    "    if y > z:\n",
    "        print(\"Hi\")"
   ]
  },
  {
   "cell_type": "code",
   "execution_count": 7,
   "id": "79408646-db4c-4081-9694-b8fc37abae6d",
   "metadata": {},
   "outputs": [
    {
     "name": "stdout",
     "output_type": "stream",
     "text": [
      "Hi\n"
     ]
    }
   ],
   "source": [
    "if x > y:\n",
    "    if y < z:\n",
    "        print(\"Heloo\")\n",
    "    print(\"Hi\")"
   ]
  },
  {
   "cell_type": "code",
   "execution_count": null,
   "id": "ab9c002a-c611-4966-983d-802032dadf65",
   "metadata": {},
   "outputs": [],
   "source": [
    "#if first condition fails means it doesnot get into the inner "
   ]
  },
  {
   "cell_type": "code",
   "execution_count": 8,
   "id": "55d2c069-86bb-4a58-8ec5-702cb3cfa200",
   "metadata": {},
   "outputs": [],
   "source": [
    "if x < y:\n",
    "    if y > z:\n",
    "        print(\"Hi\")\n",
    "    print(\"Hello\")"
   ]
  },
  {
   "cell_type": "code",
   "execution_count": 9,
   "id": "273a0c97-18ad-489f-87fb-a27c9d711f4a",
   "metadata": {},
   "outputs": [
    {
     "name": "stdout",
     "output_type": "stream",
     "text": [
      "outer if-else\n"
     ]
    }
   ],
   "source": [
    "if x < y:\n",
    "    print(\"outer if\")\n",
    "    if y > z:\n",
    "        print(\"inner if\")\n",
    "    else:\n",
    "        print(\"inner if-else\")\n",
    "else:\n",
    "    print(\"outer if-else\")"
   ]
  },
  {
   "cell_type": "code",
   "execution_count": null,
   "id": "d3298848-bc34-400a-8435-e58217c5576e",
   "metadata": {},
   "outputs": [],
   "source": []
  }
 ],
 "metadata": {
  "kernelspec": {
   "display_name": "Python 3 (ipykernel)",
   "language": "python",
   "name": "python3"
  },
  "language_info": {
   "codemirror_mode": {
    "name": "ipython",
    "version": 3
   },
   "file_extension": ".py",
   "mimetype": "text/x-python",
   "name": "python",
   "nbconvert_exporter": "python",
   "pygments_lexer": "ipython3",
   "version": "3.12.8"
  }
 },
 "nbformat": 4,
 "nbformat_minor": 5
}
