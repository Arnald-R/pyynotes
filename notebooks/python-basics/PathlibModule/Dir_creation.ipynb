{
 "cells": [
  {
   "cell_type": "code",
   "execution_count": 1,
   "id": "22c8002e-e1ec-4377-ad39-f11d08e2db1b",
   "metadata": {},
   "outputs": [],
   "source": [
    "#created at 20250210"
   ]
  },
  {
   "cell_type": "code",
   "execution_count": null,
   "id": "7a7fdca8-1d0f-44f6-901b-9e0875c550dd",
   "metadata": {},
   "outputs": [],
   "source": [
    "https://stevejoe1412.gitbook.io/ssn/python-subtopics/11.-pathlib-module"
   ]
  },
  {
   "cell_type": "code",
   "execution_count": 3,
   "id": "a34aa3d1-231d-4ea2-a76d-a2e96a6407e3",
   "metadata": {},
   "outputs": [
    {
     "name": "stdout",
     "output_type": "stream",
     "text": [
      "Directory_created: new_folder\n"
     ]
    }
   ],
   "source": [
    "from pathlib import Path\n",
    "\n",
    "dir_path = Path(\"new_folder\")\n",
    "dir_path.mkdir(exist_ok = True)\n",
    "print(f\"Directory_created: {dir_path}\")"
   ]
  },
  {
   "cell_type": "code",
   "execution_count": null,
   "id": "5b138040-62ce-4567-a75c-ff958fe87c4d",
   "metadata": {},
   "outputs": [],
   "source": []
  }
 ],
 "metadata": {
  "kernelspec": {
   "display_name": "Python 3 (ipykernel)",
   "language": "python",
   "name": "python3"
  },
  "language_info": {
   "codemirror_mode": {
    "name": "ipython",
    "version": 3
   },
   "file_extension": ".py",
   "mimetype": "text/x-python",
   "name": "python",
   "nbconvert_exporter": "python",
   "pygments_lexer": "ipython3",
   "version": "3.12.8"
  }
 },
 "nbformat": 4,
 "nbformat_minor": 5
}
