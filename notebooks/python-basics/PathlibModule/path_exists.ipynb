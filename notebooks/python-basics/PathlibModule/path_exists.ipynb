{
 "cells": [
  {
   "cell_type": "code",
   "execution_count": 1,
   "id": "74f11811-5346-4589-add0-a721bfe679f5",
   "metadata": {},
   "outputs": [],
   "source": [
    "#created at 20250210"
   ]
  },
  {
   "cell_type": "code",
   "execution_count": null,
   "id": "927411af-9fe8-400b-89a0-799f45c52d54",
   "metadata": {},
   "outputs": [],
   "source": [
    "https://stevejoe1412.gitbook.io/ssn/python-subtopics/11.-pathlib-module"
   ]
  },
  {
   "cell_type": "code",
   "execution_count": 2,
   "id": "3c7669e4-2222-4654-a5c4-4740ab6b8514",
   "metadata": {},
   "outputs": [],
   "source": [
    "#checking is the path exists"
   ]
  },
  {
   "cell_type": "code",
   "execution_count": 3,
   "id": "b0730b82-17ac-4c11-ad42-496dce39f7ff",
   "metadata": {},
   "outputs": [
    {
     "name": "stdout",
     "output_type": "stream",
     "text": [
      "False\n"
     ]
    }
   ],
   "source": [
    "from pathlib import Path\n",
    "\n",
    "path = Path(\"example.txt\")\n",
    "print(path.exists())"
   ]
  },
  {
   "cell_type": "code",
   "execution_count": null,
   "id": "0c178f7e-2371-4b0e-9579-1bb6e63684ba",
   "metadata": {},
   "outputs": [],
   "source": []
  }
 ],
 "metadata": {
  "kernelspec": {
   "display_name": "Python 3 (ipykernel)",
   "language": "python",
   "name": "python3"
  },
  "language_info": {
   "codemirror_mode": {
    "name": "ipython",
    "version": 3
   },
   "file_extension": ".py",
   "mimetype": "text/x-python",
   "name": "python",
   "nbconvert_exporter": "python",
   "pygments_lexer": "ipython3",
   "version": "3.12.8"
  }
 },
 "nbformat": 4,
 "nbformat_minor": 5
}
