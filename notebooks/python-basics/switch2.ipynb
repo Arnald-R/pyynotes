{
 "cells": [
  {
   "cell_type": "code",
   "execution_count": null,
   "id": "13e8465f-1913-4b08-b1d4-1b19588530be",
   "metadata": {},
   "outputs": [],
   "source": [
    "#createdat 20250125"
   ]
  },
  {
   "cell_type": "code",
   "execution_count": null,
   "id": "a865f52f-9842-4f45-9028-9c143824d159",
   "metadata": {},
   "outputs": [],
   "source": [
    "https://www.scientecheasy.com/2022/11/switch-statement-in-python.html/"
   ]
  },
  {
   "cell_type": "code",
   "execution_count": null,
   "id": "906df60d-9629-4abb-bfd4-b6becb62a946",
   "metadata": {},
   "outputs": [],
   "source": []
  },
  {
   "cell_type": "code",
   "execution_count": 1,
   "id": "8ae62d52-5444-425b-b573-05369fe6616c",
   "metadata": {},
   "outputs": [],
   "source": [
    "# Creating a class.\n"
   ]
  },
  {
   "cell_type": "code",
   "execution_count": 11,
   "id": "5d696605-f8e8-456a-bc8d-3a6287dc03bf",
   "metadata": {},
   "outputs": [],
   "source": [
    "class PythonSwitch():\n",
    "    def main_function(self, name_of_day):\n",
    "        default = \"Incorrect name of day\"\n",
    "        method_name = 'day_' + str(name_of_day)\n",
    "        method = getattr(self, method_name, lambda: default())\n",
    "        return method()\n",
    "    def day_1(self):\n",
    "        return \"Sunday\"\n",
    "    def day_2(self):\n",
    "        return \"Monday\"\n",
    "    def day_3(self):\n",
    "        return \"Tuesday\"\n",
    "    def day_4(self):\n",
    "        return \"Wednesday\"\n",
    "    def day_5(self):\n",
    "        return \"Thursday\"\n",
    "    def day_6(self):\n",
    "        return \"Friday\"\n",
    "    def day_7(self):\n",
    "        return \"Saturday\""
   ]
  },
  {
   "cell_type": "code",
   "execution_count": 12,
   "id": "03156046-ad9a-4867-8d0a-54ccbbee4a71",
   "metadata": {},
   "outputs": [
    {
     "name": "stdout",
     "output_type": "stream",
     "text": [
      "Sunday\n",
      "Tuesday\n"
     ]
    }
   ],
   "source": [
    "# Creating an object of class.\n",
    "my_switch = PythonSwitch()\n",
    "print(my_switch.main_function(1)) # Calling function with passing argument value.\n",
    "print(my_switch.main_function(3)) # Calling function."
   ]
  },
  {
   "cell_type": "code",
   "execution_count": 13,
   "id": "3dccfe0d-cf30-453a-abe8-0c30a3753595",
   "metadata": {},
   "outputs": [
    {
     "name": "stdout",
     "output_type": "stream",
     "text": [
      "80\n"
     ]
    }
   ],
   "source": [
    "x = lambda number: number * 20\n",
    "print(x(4))\n"
   ]
  },
  {
   "cell_type": "code",
   "execution_count": null,
   "id": "ffc49c9c-b654-4ca3-b1c0-6791280d755c",
   "metadata": {},
   "outputs": [],
   "source": []
  }
 ],
 "metadata": {
  "kernelspec": {
   "display_name": "Python 3 (ipykernel)",
   "language": "python",
   "name": "python3"
  },
  "language_info": {
   "codemirror_mode": {
    "name": "ipython",
    "version": 3
   },
   "file_extension": ".py",
   "mimetype": "text/x-python",
   "name": "python",
   "nbconvert_exporter": "python",
   "pygments_lexer": "ipython3",
   "version": "3.12.8"
  }
 },
 "nbformat": 4,
 "nbformat_minor": 5
}
