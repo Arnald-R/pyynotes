{
 "cells": [
  {
   "cell_type": "code",
   "execution_count": null,
   "id": "1d283c8a-f619-4a26-ab1e-755ec2847613",
   "metadata": {},
   "outputs": [],
   "source": [
    "#created at 20250124"
   ]
  },
  {
   "cell_type": "code",
   "execution_count": null,
   "id": "7cc96a41-7595-4ff0-a021-6c89a345e0e7",
   "metadata": {},
   "outputs": [],
   "source": [
    "https://www.scientecheasy.com/2022/10/python-nested-if.html/"
   ]
  },
  {
   "cell_type": "code",
   "execution_count": 1,
   "id": "6f9d46f4-9c70-4fda-8ccc-ce6b665a74e6",
   "metadata": {},
   "outputs": [
    {
     "name": "stdin",
     "output_type": "stream",
     "text": [
      "Enter the number to check divisible 56\n"
     ]
    }
   ],
   "source": [
    "num = int(input(\"Enter the number to check divisible\"))"
   ]
  },
  {
   "cell_type": "code",
   "execution_count": 2,
   "id": "c4417d99-f26b-40bb-a696-8f30dd1b9995",
   "metadata": {},
   "outputs": [
    {
     "name": "stdout",
     "output_type": "stream",
     "text": [
      "The num is divisible by 2 not 3\n"
     ]
    }
   ],
   "source": [
    "if num % 2 == 0:\n",
    "    if num % 3 ==0:\n",
    "        print(\" The num is divisible by 2 and 3\")\n",
    "    else:\n",
    "        print(\"The num is divisible by 2 not 3\")\n",
    "else:\n",
    "    if num % 3 == 0:\n",
    "        print(\"the number is divisble by 3 not 2\")\n",
    "    else:\n",
    "        print(\"number is not divisible by 3 and 2\")"
   ]
  },
  {
   "cell_type": "code",
   "execution_count": 4,
   "id": "e8758949-6fed-4d2a-a644-481a5e36bb6b",
   "metadata": {},
   "outputs": [
    {
     "name": "stdout",
     "output_type": "stream",
     "text": [
      " the number is positive\n"
     ]
    }
   ],
   "source": [
    "if num >= 0:\n",
    "    if num == 0:\n",
    "        print(\" the number is zer\")\n",
    "    else:\n",
    "        print(\" the number is positive\")\n",
    "else:\n",
    "    print(\"Number is negative\")"
   ]
  },
  {
   "cell_type": "code",
   "execution_count": 6,
   "id": "994cc8a1-7197-4aff-be1d-2f0c51463292",
   "metadata": {},
   "outputs": [
    {
     "name": "stdin",
     "output_type": "stream",
     "text": [
      " Enter the age to check : 48\n"
     ]
    }
   ],
   "source": [
    "age =int(input(\" Enter the age to check :\"))"
   ]
  },
  {
   "cell_type": "code",
   "execution_count": 7,
   "id": "3db036fc-5171-4320-9eae-86ef8bdbd171",
   "metadata": {},
   "outputs": [
    {
     "name": "stdout",
     "output_type": "stream",
     "text": [
      "you are young and eligible to cast vote\n"
     ]
    }
   ],
   "source": [
    "if age < 18:\n",
    "    print(\" you are minor not eligible to cast vote\") \n",
    "else: \n",
    "    if age > 18 and age < 60:\n",
    "        print(\"you are young and eligible to cast vote\")\n",
    "    else:\n",
    "        print(\"you are senior citizen and eligible to vote\")"
   ]
  },
  {
   "cell_type": "code",
   "execution_count": null,
   "id": "72e5f9c0-a306-4c70-8f45-9b6c872a416b",
   "metadata": {},
   "outputs": [],
   "source": []
  }
 ],
 "metadata": {
  "kernelspec": {
   "display_name": "Python 3 (ipykernel)",
   "language": "python",
   "name": "python3"
  },
  "language_info": {
   "codemirror_mode": {
    "name": "ipython",
    "version": 3
   },
   "file_extension": ".py",
   "mimetype": "text/x-python",
   "name": "python",
   "nbconvert_exporter": "python",
   "pygments_lexer": "ipython3",
   "version": "3.12.8"
  }
 },
 "nbformat": 4,
 "nbformat_minor": 5
}
