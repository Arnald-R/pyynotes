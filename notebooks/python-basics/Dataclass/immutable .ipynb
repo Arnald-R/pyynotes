{
 "cells": [
  {
   "cell_type": "code",
   "execution_count": 1,
   "id": "d6324f0f-cf0d-4389-ac20-513407415f10",
   "metadata": {},
   "outputs": [],
   "source": [
    "#created at 20250210"
   ]
  },
  {
   "cell_type": "code",
   "execution_count": null,
   "id": "b828acb0-028c-46cd-bfcb-9badb1b5f17a",
   "metadata": {},
   "outputs": [],
   "source": [
    "https://stevejoe1412.gitbook.io/ssn/python-subtopics/3.-data-classes"
   ]
  },
  {
   "cell_type": "code",
   "execution_count": null,
   "id": "155a1679-0150-45a1-8a62-8a595fed2cb6",
   "metadata": {},
   "outputs": [],
   "source": [
    "#immutable dataclasses"
   ]
  },
  {
   "cell_type": "code",
   "execution_count": null,
   "id": "909c2400-9303-4cf4-a4c2-9d1a35bcf0a4",
   "metadata": {},
   "outputs": [],
   "source": [
    "from dataclasses import dataclass"
   ]
  },
  {
   "cell_type": "code",
   "execution_count": 2,
   "id": "7d5dea92-3145-4021-bc27-33d895eb8028",
   "metadata": {},
   "outputs": [
    {
     "ename": "NameError",
     "evalue": "name 'dataclass' is not defined",
     "output_type": "error",
     "traceback": [
      "\u001b[0;31m---------------------------------------------------------------------------\u001b[0m",
      "\u001b[0;31mNameError\u001b[0m                                 Traceback (most recent call last)",
      "Cell \u001b[0;32mIn[2], line 1\u001b[0m\n\u001b[0;32m----> 1\u001b[0m \u001b[38;5;129m@dataclass\u001b[39m(frozen \u001b[38;5;241m=\u001b[39m \u001b[38;5;28;01mTrue\u001b[39;00m)\n\u001b[1;32m      2\u001b[0m \u001b[38;5;28;01mclass\u001b[39;00m\u001b[38;5;250m \u001b[39m\u001b[38;5;21;01mPoint\u001b[39;00m:\n\u001b[1;32m      3\u001b[0m     x : \u001b[38;5;28mint\u001b[39m\n\u001b[1;32m      4\u001b[0m     y : \u001b[38;5;28mint\u001b[39m\n",
      "\u001b[0;31mNameError\u001b[0m: name 'dataclass' is not defined"
     ]
    }
   ],
   "source": [
    "@dataclass(frozen = True)\n",
    "class Point:\n",
    "    x : int\n",
    "    y : int\n",
    "\n",
    "point = Point(3, 4)\n",
    "print(point)\n"
   ]
  },
  {
   "cell_type": "code",
   "execution_count": 3,
   "id": "dec47287-42b6-42e7-a0df-1ccff00d8b03",
   "metadata": {},
   "outputs": [
    {
     "name": "stdout",
     "output_type": "stream",
     "text": [
      "Point(x=3, y=4)\n"
     ]
    }
   ],
   "source": [
    "from dataclasses import dataclass\n",
    "\n",
    "@dataclass(frozen=True)\n",
    "class Point:\n",
    "    x: int\n",
    "    y: int\n",
    "\n",
    "point = Point(3, 4)\n",
    "print(point)  # Output: Point(x=3, y=4)\n",
    "\n",
    "# point.x = 5  # Raises error: FrozenInstanceError"
   ]
  },
  {
   "cell_type": "code",
   "execution_count": null,
   "id": "85ab720c-b118-4685-a6b9-43aac5d038f8",
   "metadata": {},
   "outputs": [],
   "source": []
  },
  {
   "cell_type": "code",
   "execution_count": null,
   "id": "1a907268-ebe5-47d9-b90c-8d548a1732fd",
   "metadata": {},
   "outputs": [],
   "source": []
  },
  {
   "cell_type": "code",
   "execution_count": null,
   "id": "93f02ada-d772-4822-98ab-51733752c82a",
   "metadata": {},
   "outputs": [],
   "source": []
  }
 ],
 "metadata": {
  "kernelspec": {
   "display_name": "Python 3 (ipykernel)",
   "language": "python",
   "name": "python3"
  },
  "language_info": {
   "codemirror_mode": {
    "name": "ipython",
    "version": 3
   },
   "file_extension": ".py",
   "mimetype": "text/x-python",
   "name": "python",
   "nbconvert_exporter": "python",
   "pygments_lexer": "ipython3",
   "version": "3.12.8"
  }
 },
 "nbformat": 4,
 "nbformat_minor": 5
}
