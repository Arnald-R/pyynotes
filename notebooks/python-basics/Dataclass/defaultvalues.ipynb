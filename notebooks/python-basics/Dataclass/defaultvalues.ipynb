{
 "cells": [
  {
   "cell_type": "code",
   "execution_count": 1,
   "id": "7bc00e53-0667-4c8a-a843-cf0fc503a56f",
   "metadata": {},
   "outputs": [],
   "source": [
    "#created at 20250210"
   ]
  },
  {
   "cell_type": "code",
   "execution_count": null,
   "id": "d96e4d42-eff6-48a6-b13b-591afdeae39e",
   "metadata": {},
   "outputs": [],
   "source": [
    "https://stevejoe1412.gitbook.io/ssn/python-subtopics/3.-data-classes"
   ]
  },
  {
   "cell_type": "code",
   "execution_count": null,
   "id": "535993c8-4879-4fd2-9bde-1f26aefe669f",
   "metadata": {},
   "outputs": [],
   "source": [
    "#default values in data class"
   ]
  },
  {
   "cell_type": "code",
   "execution_count": 2,
   "id": "eb463503-e46f-437b-afae-bdaa410f8883",
   "metadata": {},
   "outputs": [],
   "source": [
    "from dataclasses import dataclass"
   ]
  },
  {
   "cell_type": "code",
   "execution_count": 4,
   "id": "aac41f01-5520-47e7-b744-b9a702cfb1d8",
   "metadata": {},
   "outputs": [
    {
     "name": "stdout",
     "output_type": "stream",
     "text": [
      "Book(title='Pybook', author='Dennis Richie', price=99.2)\n"
     ]
    }
   ],
   "source": [
    "@dataclass\n",
    "class Book:\n",
    "    title : str\n",
    "    author : str\n",
    "    price : float = 99.20\n",
    "book = Book(title = \"Pybook\",author = \"Dennis Richie\")\n",
    "print(book)"
   ]
  },
  {
   "cell_type": "code",
   "execution_count": null,
   "id": "b7f2fd06-fd7c-482d-8fba-b7c05afaf6f9",
   "metadata": {},
   "outputs": [],
   "source": []
  },
  {
   "cell_type": "code",
   "execution_count": null,
   "id": "24d30709-1880-46a7-a336-9d736e13a20f",
   "metadata": {},
   "outputs": [],
   "source": []
  },
  {
   "cell_type": "code",
   "execution_count": null,
   "id": "6bcbda19-0700-49d0-95da-3b62fd3606d9",
   "metadata": {},
   "outputs": [],
   "source": []
  },
  {
   "cell_type": "code",
   "execution_count": null,
   "id": "8751a18d-0ee4-4962-bee7-62a5e0f89bcf",
   "metadata": {},
   "outputs": [],
   "source": []
  },
  {
   "cell_type": "code",
   "execution_count": null,
   "id": "6fed91d3-2bef-4394-8f7d-6dd4d271254c",
   "metadata": {},
   "outputs": [],
   "source": []
  }
 ],
 "metadata": {
  "kernelspec": {
   "display_name": "Python 3 (ipykernel)",
   "language": "python",
   "name": "python3"
  },
  "language_info": {
   "codemirror_mode": {
    "name": "ipython",
    "version": 3
   },
   "file_extension": ".py",
   "mimetype": "text/x-python",
   "name": "python",
   "nbconvert_exporter": "python",
   "pygments_lexer": "ipython3",
   "version": "3.12.8"
  }
 },
 "nbformat": 4,
 "nbformat_minor": 5
}
