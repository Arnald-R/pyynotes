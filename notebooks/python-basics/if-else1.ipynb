{
 "cells": [
  {
   "cell_type": "code",
   "execution_count": 1,
   "id": "320d4008-9c4f-4076-8340-bfc938896eec",
   "metadata": {},
   "outputs": [],
   "source": [
    "#created at 20250123"
   ]
  },
  {
   "cell_type": "code",
   "execution_count": null,
   "id": "32f15965-b19d-4889-80d3-bc677b46f3cd",
   "metadata": {},
   "outputs": [],
   "source": [
    "https://www.scientecheasy.com/2022/10/if-else-in-python.html/"
   ]
  },
  {
   "cell_type": "code",
   "execution_count": 2,
   "id": "ba67d2b3-0538-4083-beb1-1d0543d84351",
   "metadata": {},
   "outputs": [],
   "source": [
    "num = 13"
   ]
  },
  {
   "cell_type": "code",
   "execution_count": 6,
   "id": "eee9d3cc-5cfd-49af-9477-dee3dc1afc58",
   "metadata": {},
   "outputs": [
    {
     "name": "stdout",
     "output_type": "stream",
     "text": [
      "13 is not divisible by 2\n"
     ]
    }
   ],
   "source": [
    "if num % 2 == 0:\n",
    "    print(num,\"is divisible by 2.\")\n",
    "else:\n",
    "    print(num ,\"is not divisible by 2\")"
   ]
  },
  {
   "cell_type": "code",
   "execution_count": 7,
   "id": "c117be70-981a-4fbb-aa1c-b4f445c0050f",
   "metadata": {},
   "outputs": [],
   "source": [
    "passmarks = 36"
   ]
  },
  {
   "cell_type": "code",
   "execution_count": 10,
   "id": "97c481ee-2352-4aa0-ae30-dea8fdf81357",
   "metadata": {},
   "outputs": [
    {
     "name": "stdout",
     "output_type": "stream",
     "text": [
      "Pass\n"
     ]
    }
   ],
   "source": [
    "if passmarks >= 35:\n",
    "    print(\"Pass\")\n",
    "else:\n",
    "    print(\"Fail\")"
   ]
  },
  {
   "cell_type": "code",
   "execution_count": 14,
   "id": "76f44d73-b6fd-4ad9-95ef-a83296115890",
   "metadata": {},
   "outputs": [
    {
     "name": "stdout",
     "output_type": "stream",
     "text": [
      "Paased\n"
     ]
    }
   ],
   "source": [
    "print(\"Paased\" if passmarks >= 35 else \"Failed\")\n"
   ]
  },
  {
   "cell_type": "code",
   "execution_count": 15,
   "id": "40043705-026f-4104-97cf-a54fcc31e1f2",
   "metadata": {},
   "outputs": [],
   "source": [
    "x, y = 20, 40"
   ]
  },
  {
   "cell_type": "code",
   "execution_count": 16,
   "id": "0ac14ff7-d983-453e-9360-e420d844ac2f",
   "metadata": {},
   "outputs": [
    {
     "name": "stdout",
     "output_type": "stream",
     "text": [
      "40 is greater than x 20\n"
     ]
    }
   ],
   "source": [
    "if x > y:\n",
    "    print(x ,\"is greater than y\", y)\n",
    "else:\n",
    "    print(y ,\"is greater than x\", x)"
   ]
  },
  {
   "cell_type": "code",
   "execution_count": 17,
   "id": "caff618f-db9d-48af-a426-4448f2c13705",
   "metadata": {},
   "outputs": [],
   "source": [
    "gender = 'M'"
   ]
  },
  {
   "cell_type": "code",
   "execution_count": 18,
   "id": "5013965d-d70b-4f3b-a607-4f6153202c8d",
   "metadata": {},
   "outputs": [
    {
     "name": "stdout",
     "output_type": "stream",
     "text": [
      "you are a male\n"
     ]
    }
   ],
   "source": [
    "if((gender == 'm') or (gender == 'M')):\n",
    "    print(\"you are a male\")\n",
    "else:\n",
    "    print(\"you are Female\")"
   ]
  },
  {
   "cell_type": "code",
   "execution_count": 19,
   "id": "ab405800-e9f7-4963-ac7a-2ba77f453cd7",
   "metadata": {},
   "outputs": [
    {
     "name": "stdin",
     "output_type": "stream",
     "text": [
      "Enter a number:  45\n"
     ]
    }
   ],
   "source": [
    "number = int(input('Enter a number: '))"
   ]
  },
  {
   "cell_type": "code",
   "execution_count": 21,
   "id": "6efb1aa6-f6aa-46af-930b-79aa5364461a",
   "metadata": {},
   "outputs": [
    {
     "name": "stdout",
     "output_type": "stream",
     "text": [
      "45 is an odd number.\n"
     ]
    }
   ],
   "source": [
    "if number % 2 == 0:\n",
    "    print(number, \"is an even number.\")\n",
    "else: \n",
    "    print(number, \"is an odd number.\")"
   ]
  },
  {
   "cell_type": "code",
   "execution_count": null,
   "id": "1e1ea4ef-0c5d-4a33-84d3-528e8f21450d",
   "metadata": {},
   "outputs": [],
   "source": []
  }
 ],
 "metadata": {
  "kernelspec": {
   "display_name": "Python 3 (ipykernel)",
   "language": "python",
   "name": "python3"
  },
  "language_info": {
   "codemirror_mode": {
    "name": "ipython",
    "version": 3
   },
   "file_extension": ".py",
   "mimetype": "text/x-python",
   "name": "python",
   "nbconvert_exporter": "python",
   "pygments_lexer": "ipython3",
   "version": "3.12.8"
  }
 },
 "nbformat": 4,
 "nbformat_minor": 5
}
