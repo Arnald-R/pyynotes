{
 "cells": [
  {
   "cell_type": "code",
   "execution_count": 1,
   "id": "248cfb9f-8b2e-4143-8329-753d6ecfc461",
   "metadata": {},
   "outputs": [],
   "source": [
    "#created at 20250210"
   ]
  },
  {
   "cell_type": "code",
   "execution_count": null,
   "id": "5a0642b1-c59b-4336-b3d3-02a5207edb40",
   "metadata": {},
   "outputs": [],
   "source": [
    "https://stevejoe1412.gitbook.io/ssn/python-subtopics/4.-descriptor-protocols"
   ]
  },
  {
   "cell_type": "code",
   "execution_count": 2,
   "id": "b88272dd-df33-4d38-a4ef-73f0099f6736",
   "metadata": {},
   "outputs": [],
   "source": [
    "#Basic Descriptor example"
   ]
  },
  {
   "cell_type": "code",
   "execution_count": 10,
   "id": "d37242a6-73e9-43a6-8484-a5719fb44391",
   "metadata": {},
   "outputs": [
    {
     "name": "stdout",
     "output_type": "stream",
     "text": [
      "Setting value\n",
      "Getting value\n",
      "42\n"
     ]
    }
   ],
   "source": [
    " class Descriptor:\n",
    "    def __get__(self, instance, owner):\n",
    "        print(\"Getting value\")\n",
    "        return instance._value\n",
    "    def __set__(self, instance, owner):\n",
    "        print(\"setting value\")\n",
    "        instance._value = value \n",
    " class Myclass:\n",
    "    attribute = Descriptor()\n",
    "\n",
    "obj = MyClass()\n",
    "obj.attribute = 42\n",
    "print(obj.attribute)"
   ]
  },
  {
   "cell_type": "code",
   "execution_count": null,
   "id": "f71e6939-ec81-4843-8e57-13a1710bcf35",
   "metadata": {},
   "outputs": [],
   "source": []
  }
 ],
 "metadata": {
  "kernelspec": {
   "display_name": "Python 3 (ipykernel)",
   "language": "python",
   "name": "python3"
  },
  "language_info": {
   "codemirror_mode": {
    "name": "ipython",
    "version": 3
   },
   "file_extension": ".py",
   "mimetype": "text/x-python",
   "name": "python",
   "nbconvert_exporter": "python",
   "pygments_lexer": "ipython3",
   "version": "3.12.8"
  }
 },
 "nbformat": 4,
 "nbformat_minor": 5
}
