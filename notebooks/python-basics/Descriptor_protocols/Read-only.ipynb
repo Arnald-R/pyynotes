{
 "cells": [
  {
   "cell_type": "code",
   "execution_count": 1,
   "id": "91cba3ad-2f25-4177-8e93-ec291ab6d52e",
   "metadata": {},
   "outputs": [],
   "source": [
    "#created at 20250210"
   ]
  },
  {
   "cell_type": "code",
   "execution_count": null,
   "id": "bf2e90b6-be69-4652-8ee2-29ff4a68c66b",
   "metadata": {},
   "outputs": [],
   "source": [
    "https://stevejoe1412.gitbook.io/ssn/python-subtopics/4.-descriptor-protocols"
   ]
  },
  {
   "cell_type": "code",
   "execution_count": 2,
   "id": "713db45c-5906-4b09-854c-13ea041c0080",
   "metadata": {},
   "outputs": [
    {
     "name": "stdout",
     "output_type": "stream",
     "text": [
      "This is a read-only attribute\n"
     ]
    }
   ],
   "source": [
    "class ReadOnlyDescriptor:\n",
    "    def __get__(self, instance, owner):\n",
    "        return \"This is a read-only attribute\"\n",
    "    def __set__(self, instance, owner):\n",
    "        raise AttributeError(\"Cannot modify read-only attribute\")\n",
    "\n",
    "class MyClass:\n",
    "    read_only = ReadOnlyDescriptor()\n",
    "\n",
    "obj = MyClass()\n",
    "print (obj.read_only)"
   ]
  },
  {
   "cell_type": "code",
   "execution_count": null,
   "id": "7339136b-c43a-44f2-829e-637f9f92ecad",
   "metadata": {},
   "outputs": [],
   "source": []
  }
 ],
 "metadata": {
  "kernelspec": {
   "display_name": "Python 3 (ipykernel)",
   "language": "python",
   "name": "python3"
  },
  "language_info": {
   "codemirror_mode": {
    "name": "ipython",
    "version": 3
   },
   "file_extension": ".py",
   "mimetype": "text/x-python",
   "name": "python",
   "nbconvert_exporter": "python",
   "pygments_lexer": "ipython3",
   "version": "3.12.8"
  }
 },
 "nbformat": 4,
 "nbformat_minor": 5
}
