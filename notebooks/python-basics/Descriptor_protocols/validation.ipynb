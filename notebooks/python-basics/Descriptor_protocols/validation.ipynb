{
 "cells": [
  {
   "cell_type": "code",
   "execution_count": 1,
   "id": "61025c83-51c4-4791-96b9-061721a2c251",
   "metadata": {},
   "outputs": [],
   "source": [
    "#created at 20250210"
   ]
  },
  {
   "cell_type": "code",
   "execution_count": null,
   "id": "9780a657-eb3f-4c05-bdb9-53874dd54d44",
   "metadata": {},
   "outputs": [],
   "source": [
    "https://stevejoe1412.gitbook.io/ssn/python-subtopics/4.-descriptor-protocols"
   ]
  },
  {
   "cell_type": "code",
   "execution_count": null,
   "id": "031ffc9c-94ab-4d17-abac-bec65d921c3f",
   "metadata": {},
   "outputs": [],
   "source": [
    "#descriptor with validation"
   ]
  },
  {
   "cell_type": "code",
   "execution_count": 6,
   "id": "ea242f71-83af-4096-a899-214849668003",
   "metadata": {},
   "outputs": [
    {
     "name": "stdout",
     "output_type": "stream",
     "text": [
      "10\n"
     ]
    }
   ],
   "source": [
    "class PositiveNumber:\n",
    "    \n",
    "    def __get__(self, instance, owner):\n",
    "        return instance._number\n",
    "    def __set__(self, instance, value):\n",
    "        if value < 0:\n",
    "            raise ValueError(\"Number must be positive\")\n",
    "        instance._number = value\n",
    "   \n",
    "class MyClass:\n",
    "    number = PositiveNumber()\n",
    "\n",
    "obj = MyClass()\n",
    "obj.number = 10\n",
    "print(obj.number)"
   ]
  },
  {
   "cell_type": "code",
   "execution_count": null,
   "id": "747324e9-afdd-4f59-8485-720a118919d1",
   "metadata": {},
   "outputs": [],
   "source": []
  }
 ],
 "metadata": {
  "kernelspec": {
   "display_name": "Python 3 (ipykernel)",
   "language": "python",
   "name": "python3"
  },
  "language_info": {
   "codemirror_mode": {
    "name": "ipython",
    "version": 3
   },
   "file_extension": ".py",
   "mimetype": "text/x-python",
   "name": "python",
   "nbconvert_exporter": "python",
   "pygments_lexer": "ipython3",
   "version": "3.12.8"
  }
 },
 "nbformat": 4,
 "nbformat_minor": 5
}
