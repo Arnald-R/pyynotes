{
 "cells": [
  {
   "cell_type": "code",
   "execution_count": 1,
   "id": "cc752369-00e7-4e3e-938e-77f56378e87f",
   "metadata": {},
   "outputs": [],
   "source": [
    "#createdat 20250121"
   ]
  },
  {
   "cell_type": "code",
   "execution_count": null,
   "id": "e875dba0-b447-4579-ac0c-d66567b9f8a3",
   "metadata": {},
   "outputs": [],
   "source": [
    "https://www.scientecheasy.com/2022/10/comparison-operators-in-python.html/"
   ]
  },
  {
   "cell_type": "code",
   "execution_count": null,
   "id": "335e246a-f0b0-4b34-997e-a560b66f4d37",
   "metadata": {},
   "outputs": [],
   "source": [
    "# Program to illustrate the use of comparison or relational operators. "
   ]
  },
  {
   "cell_type": "code",
   "execution_count": 2,
   "id": "d59d0fba-696b-4c1a-996a-b8560d41ae7f",
   "metadata": {},
   "outputs": [],
   "source": [
    "p = 50"
   ]
  },
  {
   "cell_type": "code",
   "execution_count": 3,
   "id": "546cd6ea-e95d-440d-b24c-4629360eea72",
   "metadata": {},
   "outputs": [],
   "source": [
    "q = 60"
   ]
  },
  {
   "cell_type": "code",
   "execution_count": 9,
   "id": "159b1035-5953-4122-b95f-5592014752dd",
   "metadata": {},
   "outputs": [
    {
     "name": "stdout",
     "output_type": "stream",
     "text": [
      "p is not equal to q\n"
     ]
    }
   ],
   "source": [
    "if(p == q):\n",
    "    print(\"p is equal to q\")\n",
    "else:\n",
    "    print(\"p is not equal to q\")"
   ]
  },
  {
   "cell_type": "code",
   "execution_count": 11,
   "id": "ee4ee316-c9ae-40b1-9828-8d075d2a3d0e",
   "metadata": {},
   "outputs": [
    {
     "name": "stdout",
     "output_type": "stream",
     "text": [
      "p is not equal to q\n"
     ]
    }
   ],
   "source": [
    "if(p != q):\n",
    "    print(\"p is not equal to q\")\n",
    "else:\n",
    "    print(\"p is equal to q\")"
   ]
  },
  {
   "cell_type": "code",
   "execution_count": 12,
   "id": "1e5106da-6c74-4df2-a6c9-b284a8a2696f",
   "metadata": {},
   "outputs": [
    {
     "name": "stdout",
     "output_type": "stream",
     "text": [
      "p is not greater than q\n"
     ]
    }
   ],
   "source": [
    "if(p > q):\n",
    "    print(\"p is greater than q\")\n",
    "else:\n",
    "    print(\"p is not greater than q\")"
   ]
  },
  {
   "cell_type": "code",
   "execution_count": 13,
   "id": "9c19f46e-724d-4b72-af02-f8ceb21310da",
   "metadata": {},
   "outputs": [
    {
     "name": "stdout",
     "output_type": "stream",
     "text": [
      "p is less than q\n"
     ]
    }
   ],
   "source": [
    "if(p < q): \n",
    "    print(\"p is less than q\")  \n",
    "else: \n",
    "    print(\"p is not less than q\")\n",
    "   "
   ]
  },
  {
   "cell_type": "code",
   "execution_count": 14,
   "id": "415aec24-6aa3-448d-ba1b-b835dabef2b8",
   "metadata": {},
   "outputs": [
    {
     "name": "stdout",
     "output_type": "stream",
     "text": [
      "p is not greater than or equal to q\n"
     ]
    }
   ],
   "source": [
    "if(p >= q):\n",
    "     print(\"p is greater than or equal to q\")\n",
    "else:\n",
    "    print(\"p is not greater than or equal to q\")"
   ]
  },
  {
   "cell_type": "code",
   "execution_count": 15,
   "id": "9f1d12eb-b555-4112-b732-ba7e8ceb1e33",
   "metadata": {},
   "outputs": [
    {
     "name": "stdout",
     "output_type": "stream",
     "text": [
      "p is less than or equal to q\n"
     ]
    }
   ],
   "source": [
    "if(p <= q):\n",
    "    print(\"p is less than or equal to q\")\n",
    "else:\n",
    "    print(\"p is not less than or equal to q\")\n"
   ]
  },
  {
   "cell_type": "code",
   "execution_count": 16,
   "id": "4fb8faa7-89ce-4481-a1a1-0fb89dc7c1eb",
   "metadata": {},
   "outputs": [],
   "source": [
    "#voting age"
   ]
  },
  {
   "cell_type": "code",
   "execution_count": 17,
   "id": "5eb3f347-7027-4cae-86e7-56814046a0e1",
   "metadata": {},
   "outputs": [
    {
     "name": "stdin",
     "output_type": "stream",
     "text": [
      "Enter your age:  23\n"
     ]
    }
   ],
   "source": [
    "# Program to check you are eligible for voting or not\n",
    "# Using comparison or relational operators.\n",
    "age = int(input(\"Enter your age: \"))"
   ]
  },
  {
   "cell_type": "code",
   "execution_count": 18,
   "id": "f15986b4-369a-4979-bfc1-d5f216c41959",
   "metadata": {},
   "outputs": [
    {
     "name": "stdout",
     "output_type": "stream",
     "text": [
      "You are eligible for voting.\n"
     ]
    }
   ],
   "source": [
    "if(age >= 18):\n",
    "    print(\"You are eligible for voting.\")\n",
    "else:\n",
    "    print(\"You are not eligible for voting.\")"
   ]
  },
  {
   "cell_type": "code",
   "execution_count": null,
   "id": "1078ec5a-1380-43a8-9aa8-de469fb58b21",
   "metadata": {},
   "outputs": [],
   "source": []
  },
  {
   "cell_type": "code",
   "execution_count": null,
   "id": "15c530d0-f369-4e29-8d18-3f64446d5a36",
   "metadata": {},
   "outputs": [],
   "source": []
  }
 ],
 "metadata": {
  "kernelspec": {
   "display_name": "Python 3 (ipykernel)",
   "language": "python",
   "name": "python3"
  },
  "language_info": {
   "codemirror_mode": {
    "name": "ipython",
    "version": 3
   },
   "file_extension": ".py",
   "mimetype": "text/x-python",
   "name": "python",
   "nbconvert_exporter": "python",
   "pygments_lexer": "ipython3",
   "version": "3.12.8"
  }
 },
 "nbformat": 4,
 "nbformat_minor": 5
}
