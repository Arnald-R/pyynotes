{
 "cells": [
  {
   "cell_type": "code",
   "execution_count": 1,
   "id": "b70c5d48-53b3-4c98-9e16-3a36c19c8133",
   "metadata": {},
   "outputs": [],
   "source": [
    "# created at : 20250118\n",
    "https://www.scientecheasy.com/2022/09/reserved-keywords-in-python.html/\n",
    "\n",
    "#keywords"
   ]
  },
  {
   "cell_type": "code",
   "execution_count": 2,
   "id": "852cea0f-b419-4957-a0ee-79a72a2928f8",
   "metadata": {},
   "outputs": [
    {
     "name": "stdout",
     "output_type": "stream",
     "text": [
      "['False', 'None', 'True', 'and', 'as', 'assert', 'async', 'await', 'break', 'class', 'continue', 'def', 'del', 'elif', 'else', 'except', 'finally', 'for', 'from', 'global', 'if', 'import', 'in', 'is', 'lambda', 'nonlocal', 'not', 'or', 'pass', 'raise', 'return', 'try', 'while', 'with', 'yield']\n"
     ]
    }
   ],
   "source": [
    "import keyword\n",
    "print(keyword.kwlist)"
   ]
  },
  {
   "cell_type": "code",
   "execution_count": null,
   "id": "63bda284-437f-40c7-86aa-3320fb1c3d7f",
   "metadata": {},
   "outputs": [],
   "source": []
  }
 ],
 "metadata": {
  "kernelspec": {
   "display_name": "Python 3 (ipykernel)",
   "language": "python",
   "name": "python3"
  },
  "language_info": {
   "codemirror_mode": {
    "name": "ipython",
    "version": 3
   },
   "file_extension": ".py",
   "mimetype": "text/x-python",
   "name": "python",
   "nbconvert_exporter": "python",
   "pygments_lexer": "ipython3",
   "version": "3.12.8"
  }
 },
 "nbformat": 4,
 "nbformat_minor": 5
}
