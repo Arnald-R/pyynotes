{
 "cells": [
  {
   "cell_type": "code",
   "execution_count": null,
   "id": "fb9d0e04-742d-4db1-b743-727309db8855",
   "metadata": {},
   "outputs": [],
   "source": [
    "#created at 20250124"
   ]
  },
  {
   "cell_type": "code",
   "execution_count": null,
   "id": "d497bcbc-763a-471b-a972-785edd045322",
   "metadata": {},
   "outputs": [],
   "source": [
    "https://www.scientecheasy.com/2022/10/python-if-elif-else.html/"
   ]
  },
  {
   "cell_type": "code",
   "execution_count": 1,
   "id": "3b715ff0-f516-4d3a-a657-ed04b1111d43",
   "metadata": {},
   "outputs": [
    {
     "name": "stdin",
     "output_type": "stream",
     "text": [
      "Enter the number:  24\n"
     ]
    }
   ],
   "source": [
    "num = int(input(\"Enter the number: \"))"
   ]
  },
  {
   "cell_type": "code",
   "execution_count": 6,
   "id": "40407ac8-1201-4789-af7e-351f2a8188e9",
   "metadata": {},
   "outputs": [
    {
     "name": "stdout",
     "output_type": "stream",
     "text": [
      "24 is a positive number.\n"
     ]
    }
   ],
   "source": [
    "if num <= -1 :\n",
    "    print(\"negative number\")\n",
    "elif num == 0:\n",
    "    print(num, 'is a zero number.')\n",
    "else:\n",
    "      print(num, 'is a positive number.')\n"
   ]
  },
  {
   "cell_type": "code",
   "execution_count": 8,
   "id": "1da5a58f-32a1-45fa-baa1-a2249673bf15",
   "metadata": {},
   "outputs": [
    {
     "name": "stdin",
     "output_type": "stream",
     "text": [
      "Enter the first number:  25\n"
     ]
    }
   ],
   "source": [
    "num1 = int(input(\"Enter the first number: \"))"
   ]
  },
  {
   "cell_type": "code",
   "execution_count": 9,
   "id": "31b9f64e-3205-462b-94ea-9097800c8798",
   "metadata": {},
   "outputs": [
    {
     "name": "stdin",
     "output_type": "stream",
     "text": [
      "Enter the second number:  17\n"
     ]
    }
   ],
   "source": [
    "num2 = int(input(\"Enter the second number: \"))"
   ]
  },
  {
   "cell_type": "code",
   "execution_count": 10,
   "id": "e13b1639-82c8-4926-9b7b-dfdb8398699d",
   "metadata": {},
   "outputs": [
    {
     "name": "stdout",
     "output_type": "stream",
     "text": [
      "25 num1 is greater number\n"
     ]
    }
   ],
   "source": [
    "if num1 > num2:\n",
    "    print(num1, \"num1 is greater number\")\n",
    "elif num2 > num1:\n",
    "    print(num2, \"num2 is grater number\")\n",
    "else :\n",
    "    print(num1 == num2,\" num1 = num2 is same number\")"
   ]
  },
  {
   "cell_type": "code",
   "execution_count": 11,
   "id": "7b04b80c-8b0e-4ec2-94e7-1c8405561078",
   "metadata": {},
   "outputs": [
    {
     "name": "stdin",
     "output_type": "stream",
     "text": [
      "Enter the first number:  13\n"
     ]
    }
   ],
   "source": [
    "num1 = int(input(\"Enter the first number: \"))"
   ]
  },
  {
   "cell_type": "code",
   "execution_count": 12,
   "id": "3a64d660-38d0-4155-9cf3-38291aab6b9d",
   "metadata": {},
   "outputs": [
    {
     "name": "stdin",
     "output_type": "stream",
     "text": [
      "Enter the second number:  34\n"
     ]
    }
   ],
   "source": [
    "num2 = int(input(\"Enter the second number: \"))"
   ]
  },
  {
   "cell_type": "code",
   "execution_count": 13,
   "id": "4a5bfa5b-ef9d-4244-ae7e-5068db2b431e",
   "metadata": {},
   "outputs": [
    {
     "name": "stdin",
     "output_type": "stream",
     "text": [
      "Enter the three number : 26\n"
     ]
    }
   ],
   "source": [
    "num3 = int(input(\"Enter the three number :\"))"
   ]
  },
  {
   "cell_type": "code",
   "execution_count": 14,
   "id": "225ba0d7-6f0f-46c0-9b90-d1c837e6f13e",
   "metadata": {},
   "outputs": [
    {
     "name": "stdout",
     "output_type": "stream",
     "text": [
      "34  is the greatest of three numbers\n"
     ]
    }
   ],
   "source": [
    "if num1 > num2 and num1 > num3:\n",
    "    print(num1 ,\" is the greatest of three numbers\")\n",
    "elif num2 > num1 and num2 > num3:\n",
    "    print(num2 ,\" is the greatest of three numbers\")\n",
    "else:\n",
    "    print(num3 ,\" is the greatest of three numbers\")"
   ]
  },
  {
   "cell_type": "code",
   "execution_count": null,
   "id": "7292a183-3723-4ef3-8d2b-b73d0b97821e",
   "metadata": {},
   "outputs": [],
   "source": []
  }
 ],
 "metadata": {
  "kernelspec": {
   "display_name": "Python 3 (ipykernel)",
   "language": "python",
   "name": "python3"
  },
  "language_info": {
   "codemirror_mode": {
    "name": "ipython",
    "version": 3
   },
   "file_extension": ".py",
   "mimetype": "text/x-python",
   "name": "python",
   "nbconvert_exporter": "python",
   "pygments_lexer": "ipython3",
   "version": "3.12.8"
  }
 },
 "nbformat": 4,
 "nbformat_minor": 5
}
