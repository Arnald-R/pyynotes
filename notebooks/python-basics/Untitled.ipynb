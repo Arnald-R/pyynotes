{
 "cells": [
  {
   "cell_type": "code",
   "execution_count": 1,
   "id": "6c8e0cec-cbe9-4b14-a5e1-6a64d303f721",
   "metadata": {},
   "outputs": [],
   "source": [
    "#created at 20250130"
   ]
  },
  {
   "cell_type": "code",
   "execution_count": null,
   "id": "218315eb-9657-4ac7-a05a-015f7f27ffa9",
   "metadata": {},
   "outputs": [],
   "source": [
    "https://stevejoe1412.gitbook.io/ssn/python-subtopics/typing-module"
   ]
  },
  {
   "cell_type": "code",
   "execution_count": 2,
   "id": "be378c44-d028-4b32-8fab-eec8c71d55c9",
   "metadata": {},
   "outputs": [],
   "source": [
    "#using Tuple for fixed length sequences"
   ]
  },
  {
   "cell_type": "code",
   "execution_count": 3,
   "id": "200ba394-741d-4e6b-beac-8dc6742f2b3e",
   "metadata": {},
   "outputs": [],
   "source": [
    "from typing import Tuple"
   ]
  },
  {
   "cell_type": "code",
   "execution_count": 4,
   "id": "6df25365-afa8-40db-bf26-6bcee0929d31",
   "metadata": {},
   "outputs": [],
   "source": [
    "def process_coordinates(coords: Tuple[float, float]) -> str:\n",
    "    return f\"Latitude: {coords[0]},Latitude: {coords[0]}\""
   ]
  },
  {
   "cell_type": "code",
   "execution_count": 5,
   "id": "ad9a7d10-c41d-4c44-bb91-063e46f35d14",
   "metadata": {},
   "outputs": [
    {
     "name": "stdout",
     "output_type": "stream",
     "text": [
      "Latitude: 40.7128,Latitude: 40.7128\n"
     ]
    }
   ],
   "source": [
    "print(process_coordinates((40.7128, -74.0060)))"
   ]
  },
  {
   "cell_type": "code",
   "execution_count": null,
   "id": "100d6838-3b8d-4852-9551-d3804dd9ec24",
   "metadata": {},
   "outputs": [],
   "source": []
  },
  {
   "cell_type": "code",
   "execution_count": null,
   "id": "10693286-0a50-4896-8d5b-133f702f554c",
   "metadata": {},
   "outputs": [],
   "source": []
  },
  {
   "cell_type": "code",
   "execution_count": null,
   "id": "17917e6c-9e1e-4420-904c-f9abd8deca64",
   "metadata": {},
   "outputs": [],
   "source": []
  },
  {
   "cell_type": "code",
   "execution_count": null,
   "id": "90a2e053-7faa-4f0e-9a5b-a1ec2dfda624",
   "metadata": {},
   "outputs": [],
   "source": []
  }
 ],
 "metadata": {
  "kernelspec": {
   "display_name": "Python 3 (ipykernel)",
   "language": "python",
   "name": "python3"
  },
  "language_info": {
   "codemirror_mode": {
    "name": "ipython",
    "version": 3
   },
   "file_extension": ".py",
   "mimetype": "text/x-python",
   "name": "python",
   "nbconvert_exporter": "python",
   "pygments_lexer": "ipython3",
   "version": "3.12.8"
  }
 },
 "nbformat": 4,
 "nbformat_minor": 5
}
