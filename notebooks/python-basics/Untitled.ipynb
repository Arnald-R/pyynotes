{
 "cells": [
  {
   "cell_type": "code",
   "execution_count": 1,
   "id": "4685072c-d2ed-4ff9-b8a7-0b93d5fd8338",
   "metadata": {},
   "outputs": [],
   "source": [
    "#created at 20250203"
   ]
  },
  {
   "cell_type": "code",
   "execution_count": null,
   "id": "3d89b273-29a1-48e4-8b31-c55047483d14",
   "metadata": {},
   "outputs": [],
   "source": [
    "https://stevejoe1412.gitbook.io/ssn/python-subtopics/list-comprehensions"
   ]
  },
  {
   "cell_type": "code",
   "execution_count": 2,
   "id": "18c91343-ee28-4924-afa9-af70c70baf9d",
   "metadata": {},
   "outputs": [],
   "source": [
    "#List Comprehension with Functions"
   ]
  },
  {
   "cell_type": "code",
   "execution_count": 3,
   "id": "22b70c2f-946f-44a0-aa47-022f779850f1",
   "metadata": {},
   "outputs": [],
   "source": [
    "def square(x):\n",
    "    return x**2"
   ]
  },
  {
   "cell_type": "code",
   "execution_count": 4,
   "id": "4ecd9d22-420c-4a18-a48b-bd5f300d26e6",
   "metadata": {},
   "outputs": [],
   "source": [
    "numbers = [1, 2, 3, 4]"
   ]
  },
  {
   "cell_type": "code",
   "execution_count": 6,
   "id": "00cc3199-77f8-4822-84a0-5759b602d986",
   "metadata": {},
   "outputs": [],
   "source": [
    "square_numbers = [square(num) for num in numbers]"
   ]
  },
  {
   "cell_type": "code",
   "execution_count": 7,
   "id": "089ba6f4-10bf-4f10-b13b-cc77d438f1f9",
   "metadata": {},
   "outputs": [
    {
     "name": "stdout",
     "output_type": "stream",
     "text": [
      "[1, 4, 9, 16]\n"
     ]
    }
   ],
   "source": [
    "print(square_numbers)"
   ]
  },
  {
   "cell_type": "code",
   "execution_count": null,
   "id": "8ce43660-35bc-452b-9f00-f2f4f5d9f763",
   "metadata": {},
   "outputs": [],
   "source": [
    "# with conditional comprehension"
   ]
  },
  {
   "cell_type": "code",
   "execution_count": 8,
   "id": "f0f0a6de-976d-446e-bd68-9e87780ece64",
   "metadata": {},
   "outputs": [],
   "source": [
    "numbers = [1, 2, 3, 4, 5, 6]"
   ]
  },
  {
   "cell_type": "code",
   "execution_count": 9,
   "id": "e73d2774-6b87-4c37-a7da-a9ed0e32417a",
   "metadata": {},
   "outputs": [],
   "source": [
    "modified_numbers = [0 if num % 2 == 0 else num for num in numbers]"
   ]
  },
  {
   "cell_type": "code",
   "execution_count": 10,
   "id": "c5910a19-0c8c-4904-b65b-35229c4a773d",
   "metadata": {},
   "outputs": [
    {
     "name": "stdout",
     "output_type": "stream",
     "text": [
      "[1, 0, 3, 0, 5, 0]\n"
     ]
    }
   ],
   "source": [
    "print(modified_numbers)"
   ]
  },
  {
   "cell_type": "code",
   "execution_count": 12,
   "id": "d2045232-e6c5-4c95-a722-2122abbf4b65",
   "metadata": {},
   "outputs": [],
   "source": [
    "evens = [i for i in range (1, 21) if i%2 == 0]"
   ]
  },
  {
   "cell_type": "code",
   "execution_count": 13,
   "id": "0a41be41-74cf-4442-a488-f5f1b8074042",
   "metadata": {},
   "outputs": [
    {
     "name": "stdout",
     "output_type": "stream",
     "text": [
      "[2, 4, 6, 8, 10, 12, 14, 16, 18, 20]\n"
     ]
    }
   ],
   "source": [
    "print(evens)"
   ]
  },
  {
   "cell_type": "code",
   "execution_count": 14,
   "id": "66c91413-26ac-42a8-aa35-621077207c99",
   "metadata": {},
   "outputs": [],
   "source": [
    "squares = [(i, i**2) for i in range(5)]"
   ]
  },
  {
   "cell_type": "code",
   "execution_count": 15,
   "id": "9194e503-3340-4b6b-aeba-405d1b69817e",
   "metadata": {},
   "outputs": [
    {
     "name": "stdout",
     "output_type": "stream",
     "text": [
      "[(0, 0), (1, 1), (2, 4), (3, 9), (4, 16)]\n"
     ]
    }
   ],
   "source": [
    "print(squares)"
   ]
  },
  {
   "cell_type": "code",
   "execution_count": 16,
   "id": "b59b2277-7a5f-4f70-bd3e-7c59184e80cc",
   "metadata": {},
   "outputs": [
    {
     "name": "stdout",
     "output_type": "stream",
     "text": [
      "['key0', 'key1', 'key2', 'key3', 'key4']\n"
     ]
    }
   ],
   "source": [
    "keys = [f'key{i}' for i in range(5)]\n",
    "print(keys)  # Output: ['key0', 'key1', 'key2', 'key3', 'key4']"
   ]
  },
  {
   "cell_type": "code",
   "execution_count": null,
   "id": "6ff257c2-88ec-4ec2-a730-00d65df188e6",
   "metadata": {},
   "outputs": [],
   "source": []
  }
 ],
 "metadata": {
  "kernelspec": {
   "display_name": "Python 3 (ipykernel)",
   "language": "python",
   "name": "python3"
  },
  "language_info": {
   "codemirror_mode": {
    "name": "ipython",
    "version": 3
   },
   "file_extension": ".py",
   "mimetype": "text/x-python",
   "name": "python",
   "nbconvert_exporter": "python",
   "pygments_lexer": "ipython3",
   "version": "3.12.8"
  }
 },
 "nbformat": 4,
 "nbformat_minor": 5
}
