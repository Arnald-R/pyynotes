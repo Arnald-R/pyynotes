{
 "cells": [
  {
   "cell_type": "code",
   "execution_count": 3,
   "id": "05a6d248-839e-4ccb-a93e-33fb7b36d5e2",
   "metadata": {},
   "outputs": [],
   "source": [
    "#data processing with union"
   ]
  },
  {
   "cell_type": "code",
   "execution_count": null,
   "id": "a61ccbc6-b298-4f74-abf5-0e35890b2652",
   "metadata": {},
   "outputs": [],
   "source": [
    "#Assignment 2: Data Processing with Union Types\n",
    "Problem Statement:\n",
    "\n",
    "Write a function that processes a list of items, where each item can be an int, float, or str. The function should return a list of strings describing each item.\n",
    "\n",
    "Requirements:\n",
    "\n",
    "Use the Union type from the typing module to annotate the parameter, indicating it can handle multiple types.\n",
    "The function should iterate through the list and return a new list with strings describing the type and value of each item.\n",
    "Include type annotations for the function parameters and return type.\n",
    "Ensure type correctness using a static type checker."
   ]
  },
  {
   "cell_type": "code",
   "execution_count": 2,
   "id": "213f1ba2-0482-482e-a95d-5cbc9ac3ac2f",
   "metadata": {},
   "outputs": [],
   "source": [
    "from typing import Union"
   ]
  },
  {
   "cell_type": "code",
   "execution_count": 4,
   "id": "4284fda7-6cfc-44d0-91e9-0805eccfde07",
   "metadata": {},
   "outputs": [],
   "source": [
    "def process_list(value : Union[int, float, str]) -> str:\n",
    "    return f\"processed :{value}\""
   ]
  },
  {
   "cell_type": "code",
   "execution_count": 14,
   "id": "06ee8c0a-c6ac-4dd0-8d54-bee257195e6e",
   "metadata": {},
   "outputs": [
    {
     "name": "stdout",
     "output_type": "stream",
     "text": [
      "<class 'str'>\n"
     ]
    }
   ],
   "source": [
    "print(process_list(1))"
   ]
  },
  {
   "cell_type": "code",
   "execution_count": 13,
   "id": "936b6bbe-a45c-4fda-bbac-0577596e51f6",
   "metadata": {},
   "outputs": [
    {
     "name": "stdout",
     "output_type": "stream",
     "text": [
      "<class 'function'>\n"
     ]
    }
   ],
   "source": [
    "print(typ"
   ]
  },
  {
   "cell_type": "code",
   "execution_count": 8,
   "id": "4a4ec6e9-e9ab-40e7-8d3d-7f5d00ef56b0",
   "metadata": {},
   "outputs": [
    {
     "name": "stdout",
     "output_type": "stream",
     "text": [
      "processed :19.23\n"
     ]
    }
   ],
   "source": [
    "print(process_list(19.23))"
   ]
  },
  {
   "cell_type": "code",
   "execution_count": 9,
   "id": "4c8cd357-a319-46ec-ad18-1033fbbbb553",
   "metadata": {},
   "outputs": [
    {
     "name": "stdout",
     "output_type": "stream",
     "text": [
      "processed :Arnald\n"
     ]
    }
   ],
   "source": [
    "print(process_list(\"Arnald\"))"
   ]
  },
  {
   "cell_type": "code",
   "execution_count": 12,
   "id": "9af4eee0-f6a1-4338-b44a-15f3397e8281",
   "metadata": {},
   "outputs": [
    {
     "name": "stdout",
     "output_type": "stream",
     "text": [
      "<function process_list at 0x74809025aac0>\n"
     ]
    }
   ],
   "source": [
    "print(process_list)"
   ]
  },
  {
   "cell_type": "code",
   "execution_count": null,
   "id": "1f8bfdbf-9cb7-4b24-82ea-8f2f425f2ba1",
   "metadata": {},
   "outputs": [],
   "source": []
  }
 ],
 "metadata": {
  "kernelspec": {
   "display_name": "Python 3 (ipykernel)",
   "language": "python",
   "name": "python3"
  },
  "language_info": {
   "codemirror_mode": {
    "name": "ipython",
    "version": 3
   },
   "file_extension": ".py",
   "mimetype": "text/x-python",
   "name": "python",
   "nbconvert_exporter": "python",
   "pygments_lexer": "ipython3",
   "version": "3.12.8"
  }
 },
 "nbformat": 4,
 "nbformat_minor": 5
}
