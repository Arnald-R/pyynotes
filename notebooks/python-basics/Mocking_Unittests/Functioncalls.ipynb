{
 "cells": [
  {
   "cell_type": "code",
   "execution_count": 1,
   "id": "3e8df757-e33e-43f0-ae04-2fe95bf0a267",
   "metadata": {},
   "outputs": [],
   "source": [
    "#created at 20250210"
   ]
  },
  {
   "cell_type": "code",
   "execution_count": null,
   "id": "3b637d71-b129-4115-8ffa-8a496f5d05d9",
   "metadata": {},
   "outputs": [],
   "source": [
    "https://stevejoe1412.gitbook.io/ssn/python-subtopics/10.-mocking-in-unit-tests"
   ]
  },
  {
   "cell_type": "code",
   "execution_count": 3,
   "id": "32a102e1-6610-4a3d-b7ec-8ac0950933dc",
   "metadata": {},
   "outputs": [
    {
     "ename": "AttributeError",
     "evalue": "'asserted_called_with' is not a valid assertion. Use a spec for the mock if 'asserted_called_with' is meant to be an attribute.",
     "output_type": "error",
     "traceback": [
      "\u001b[0;31m---------------------------------------------------------------------------\u001b[0m",
      "\u001b[0;31mAttributeError\u001b[0m                            Traceback (most recent call last)",
      "Cell \u001b[0;32mIn[3], line 5\u001b[0m\n\u001b[1;32m      3\u001b[0m mock_func \u001b[38;5;241m=\u001b[39m Mock()\n\u001b[1;32m      4\u001b[0m mock_func(\u001b[38;5;241m34\u001b[39m) \n\u001b[0;32m----> 5\u001b[0m \u001b[43mmock_func\u001b[49m\u001b[38;5;241;43m.\u001b[39;49m\u001b[43masserted_called_with\u001b[49m(\u001b[38;5;241m34\u001b[39m)\n",
      "File \u001b[0;32m~/miniconda3/envs/py312/lib/python3.12/unittest/mock.py:665\u001b[0m, in \u001b[0;36mNonCallableMock.__getattr__\u001b[0;34m(self, name)\u001b[0m\n\u001b[1;32m    663\u001b[0m \u001b[38;5;28;01mif\u001b[39;00m \u001b[38;5;129;01mnot\u001b[39;00m \u001b[38;5;28mself\u001b[39m\u001b[38;5;241m.\u001b[39m_mock_unsafe \u001b[38;5;129;01mand\u001b[39;00m (\u001b[38;5;129;01mnot\u001b[39;00m \u001b[38;5;28mself\u001b[39m\u001b[38;5;241m.\u001b[39m_mock_methods \u001b[38;5;129;01mor\u001b[39;00m name \u001b[38;5;129;01mnot\u001b[39;00m \u001b[38;5;129;01min\u001b[39;00m \u001b[38;5;28mself\u001b[39m\u001b[38;5;241m.\u001b[39m_mock_methods):\n\u001b[1;32m    664\u001b[0m     \u001b[38;5;28;01mif\u001b[39;00m name\u001b[38;5;241m.\u001b[39mstartswith((\u001b[38;5;124m'\u001b[39m\u001b[38;5;124massert\u001b[39m\u001b[38;5;124m'\u001b[39m, \u001b[38;5;124m'\u001b[39m\u001b[38;5;124massret\u001b[39m\u001b[38;5;124m'\u001b[39m, \u001b[38;5;124m'\u001b[39m\u001b[38;5;124masert\u001b[39m\u001b[38;5;124m'\u001b[39m, \u001b[38;5;124m'\u001b[39m\u001b[38;5;124maseert\u001b[39m\u001b[38;5;124m'\u001b[39m, \u001b[38;5;124m'\u001b[39m\u001b[38;5;124massrt\u001b[39m\u001b[38;5;124m'\u001b[39m)) \u001b[38;5;129;01mor\u001b[39;00m name \u001b[38;5;129;01min\u001b[39;00m _ATTRIB_DENY_LIST:\n\u001b[0;32m--> 665\u001b[0m         \u001b[38;5;28;01mraise\u001b[39;00m \u001b[38;5;167;01mAttributeError\u001b[39;00m(\n\u001b[1;32m    666\u001b[0m             \u001b[38;5;124mf\u001b[39m\u001b[38;5;124m\"\u001b[39m\u001b[38;5;132;01m{\u001b[39;00mname\u001b[38;5;132;01m!r}\u001b[39;00m\u001b[38;5;124m is not a valid assertion. Use a spec \u001b[39m\u001b[38;5;124m\"\u001b[39m\n\u001b[1;32m    667\u001b[0m             \u001b[38;5;124mf\u001b[39m\u001b[38;5;124m\"\u001b[39m\u001b[38;5;124mfor the mock if \u001b[39m\u001b[38;5;132;01m{\u001b[39;00mname\u001b[38;5;132;01m!r}\u001b[39;00m\u001b[38;5;124m is meant to be an attribute.\u001b[39m\u001b[38;5;124m\"\u001b[39m)\n\u001b[1;32m    669\u001b[0m \u001b[38;5;28;01mwith\u001b[39;00m NonCallableMock\u001b[38;5;241m.\u001b[39m_lock:\n\u001b[1;32m    670\u001b[0m     result \u001b[38;5;241m=\u001b[39m \u001b[38;5;28mself\u001b[39m\u001b[38;5;241m.\u001b[39m_mock_children\u001b[38;5;241m.\u001b[39mget(name)\n",
      "\u001b[0;31mAttributeError\u001b[0m: 'asserted_called_with' is not a valid assertion. Use a spec for the mock if 'asserted_called_with' is meant to be an attribute."
     ]
    }
   ],
   "source": [
    "from unittest.mock import Mock\n",
    "\n",
    "mock_func = Mock()\n",
    "mock_func(34) \n",
    "mock_func.asserted_called_with(34)"
   ]
  },
  {
   "cell_type": "code",
   "execution_count": null,
   "id": "b28aa63d-f51c-4931-998e-20dc7ec23bde",
   "metadata": {},
   "outputs": [],
   "source": []
  },
  {
   "cell_type": "code",
   "execution_count": null,
   "id": "e2c7acc5-b49b-4749-86a7-bc169b36a0be",
   "metadata": {},
   "outputs": [],
   "source": [
    "\n"
   ]
  }
 ],
 "metadata": {
  "kernelspec": {
   "display_name": "Python 3 (ipykernel)",
   "language": "python",
   "name": "python3"
  },
  "language_info": {
   "codemirror_mode": {
    "name": "ipython",
    "version": 3
   },
   "file_extension": ".py",
   "mimetype": "text/x-python",
   "name": "python",
   "nbconvert_exporter": "python",
   "pygments_lexer": "ipython3",
   "version": "3.12.8"
  }
 },
 "nbformat": 4,
 "nbformat_minor": 5
}
