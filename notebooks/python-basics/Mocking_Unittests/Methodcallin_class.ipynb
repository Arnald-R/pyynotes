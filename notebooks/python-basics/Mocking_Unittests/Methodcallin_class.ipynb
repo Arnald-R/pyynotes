{
 "cells": [
  {
   "cell_type": "code",
   "execution_count": 1,
   "id": "6f7dcaf9-fd6e-494e-9fb1-0712f66e7a09",
   "metadata": {},
   "outputs": [],
   "source": [
    "#created at 20250210\n"
   ]
  },
  {
   "cell_type": "code",
   "execution_count": null,
   "id": "15776dc9-632f-401c-9e3a-e0aba5c00e45",
   "metadata": {},
   "outputs": [],
   "source": [
    "https://stevejoe1412.gitbook.io/ssn/python-subtopics/10.-mocking-in-unit-tests"
   ]
  },
  {
   "cell_type": "code",
   "execution_count": 4,
   "id": "316e8a7b-9c8a-4b50-86d4-68c1747dc0db",
   "metadata": {},
   "outputs": [
    {
     "ename": "ImportError",
     "evalue": "cannot import name 'Magicmock' from 'unittest.mock' (/home/arnald/miniconda3/envs/py312/lib/python3.12/unittest/mock.py)",
     "output_type": "error",
     "traceback": [
      "\u001b[0;31m---------------------------------------------------------------------------\u001b[0m",
      "\u001b[0;31mImportError\u001b[0m                               Traceback (most recent call last)",
      "Cell \u001b[0;32mIn[4], line 1\u001b[0m\n\u001b[0;32m----> 1\u001b[0m \u001b[38;5;28;01mfrom\u001b[39;00m\u001b[38;5;250m \u001b[39m\u001b[38;5;21;01munittest\u001b[39;00m\u001b[38;5;21;01m.\u001b[39;00m\u001b[38;5;21;01mmock\u001b[39;00m\u001b[38;5;250m \u001b[39m\u001b[38;5;28;01mimport\u001b[39;00m Magicmock\n\u001b[1;32m      3\u001b[0m \u001b[38;5;28;01mclass\u001b[39;00m\u001b[38;5;250m \u001b[39m\u001b[38;5;21;01mmyClass\u001b[39;00m:\n\u001b[1;32m      4\u001b[0m     \u001b[38;5;28;01mdef\u001b[39;00m\u001b[38;5;250m \u001b[39m\u001b[38;5;21mmethod\u001b[39m(\u001b[38;5;28mself\u001b[39m):\n",
      "\u001b[0;31mImportError\u001b[0m: cannot import name 'Magicmock' from 'unittest.mock' (/home/arnald/miniconda3/envs/py312/lib/python3.12/unittest/mock.py)"
     ]
    }
   ],
   "source": [
    "from unittest.mock import Magicmock\n",
    "\n",
    "class myClass:\n",
    "    def method(self):\n",
    "        return \"Real World\"\n",
    "\n",
    "obj = MyClass()\n",
    "obj.method = MagicMock(return_value= \"Mocked method\")\n",
    "print(obj.method())"
   ]
  },
  {
   "cell_type": "code",
   "execution_count": null,
   "id": "f34b3dbb-e5f4-4383-a2b1-e3ffcaebf71e",
   "metadata": {},
   "outputs": [],
   "source": []
  },
  {
   "cell_type": "code",
   "execution_count": null,
   "id": "5a9ce75c-7c08-4930-9242-55c2ffd6dba0",
   "metadata": {},
   "outputs": [],
   "source": []
  },
  {
   "cell_type": "code",
   "execution_count": null,
   "id": "fb6589a3-a51e-409b-9521-20f95a42e4f0",
   "metadata": {},
   "outputs": [],
   "source": []
  }
 ],
 "metadata": {
  "kernelspec": {
   "display_name": "Python 3 (ipykernel)",
   "language": "python",
   "name": "python3"
  },
  "language_info": {
   "codemirror_mode": {
    "name": "ipython",
    "version": 3
   },
   "file_extension": ".py",
   "mimetype": "text/x-python",
   "name": "python",
   "nbconvert_exporter": "python",
   "pygments_lexer": "ipython3",
   "version": "3.12.8"
  }
 },
 "nbformat": 4,
 "nbformat_minor": 5
}
