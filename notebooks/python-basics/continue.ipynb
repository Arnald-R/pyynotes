{
 "cells": [
  {
   "cell_type": "code",
   "execution_count": null,
   "id": "e1fec51e-85de-4c61-8cb4-44c6ae16ea69",
   "metadata": {},
   "outputs": [],
   "source": [
    "#created at 20250125"
   ]
  },
  {
   "cell_type": "code",
   "execution_count": null,
   "id": "cf5be08e-68fe-4b89-9048-28b808b3c1b8",
   "metadata": {},
   "outputs": [],
   "source": [
    "https://www.scientecheasy.com/2022/11/python-continue.html/"
   ]
  },
  {
   "cell_type": "code",
   "execution_count": 2,
   "id": "4f03bfb6-54f0-4c77-a08f-d5cea43d5450",
   "metadata": {},
   "outputs": [
    {
     "name": "stdout",
     "output_type": "stream",
     "text": [
      "A\n",
      "r\n",
      "the letter leave\n",
      "a\n",
      "l\n",
      "d\n"
     ]
    }
   ],
   "source": [
    "for i in 'Arnald':\n",
    "    if i == 'n':\n",
    "        print(\"the letter leave\")\n",
    "        continue\n",
    "    print(i)"
   ]
  },
  {
   "cell_type": "code",
   "execution_count": 3,
   "id": "aa64720b-3c81-4b94-969b-8d7f41f0eddb",
   "metadata": {},
   "outputs": [
    {
     "name": "stdout",
     "output_type": "stream",
     "text": [
      "1\n",
      "2\n",
      "4\n",
      "5\n"
     ]
    }
   ],
   "source": [
    "for i in range (1,6):\n",
    "    if i == 3:\n",
    "        continue\n",
    "    print(i)"
   ]
  },
  {
   "cell_type": "code",
   "execution_count": 4,
   "id": "d4e82e96-9a48-4a79-9fc4-6468e22c218b",
   "metadata": {},
   "outputs": [],
   "source": [
    "x = 1"
   ]
  },
  {
   "cell_type": "code",
   "execution_count": null,
   "id": "2e44732f-adf3-47d3-b54c-ab78ce9ee54a",
   "metadata": {},
   "outputs": [],
   "source": []
  },
  {
   "cell_type": "code",
   "execution_count": null,
   "id": "5e0a5468-e8fe-46a6-becb-a07bcea7a1e5",
   "metadata": {},
   "outputs": [],
   "source": []
  }
 ],
 "metadata": {
  "kernelspec": {
   "display_name": "Python 3 (ipykernel)",
   "language": "python",
   "name": "python3"
  },
  "language_info": {
   "codemirror_mode": {
    "name": "ipython",
    "version": 3
   },
   "file_extension": ".py",
   "mimetype": "text/x-python",
   "name": "python",
   "nbconvert_exporter": "python",
   "pygments_lexer": "ipython3",
   "version": "3.12.8"
  }
 },
 "nbformat": 4,
 "nbformat_minor": 5
}
