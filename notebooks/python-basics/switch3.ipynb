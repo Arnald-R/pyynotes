{
 "cells": [
  {
   "cell_type": "code",
   "execution_count": 1,
   "id": "b3eaf233-ed51-4e4b-b9af-cf4e3f3b89da",
   "metadata": {},
   "outputs": [],
   "source": [
    "#created at 20250125"
   ]
  },
  {
   "cell_type": "code",
   "execution_count": null,
   "id": "fb1adde7-a83c-41b7-94d5-5c25b0d832e5",
   "metadata": {},
   "outputs": [],
   "source": [
    "https://www.scientecheasy.com/2022/11/switch-statement-in-python.html/"
   ]
  },
  {
   "cell_type": "code",
   "execution_count": 2,
   "id": "676fc145-a1e1-4e4c-8e04-9f6abf924467",
   "metadata": {},
   "outputs": [
    {
     "name": "stdout",
     "output_type": "stream",
     "text": [
      "Orange\n",
      "Invalid\n"
     ]
    }
   ],
   "source": [
    "def a():\n",
    "    return 'Apple'\n",
    "def m():\n",
    "    return 'Mango'\n",
    "def o():\n",
    "    return 'Orange'\n",
    "def fruits(i):\n",
    "    switcher = {\n",
    "        1: a,\n",
    "        2: m,\n",
    "        3: o,\n",
    "        4: lambda: 'Banana'\n",
    "    }\n",
    "    funct = switcher.get(i, lambda: 'Invalid')\n",
    "    return funct()\n",
    "print(fruits(3)) # Calling function.\n",
    "print(fruits(0)) # Calling function.\n"
   ]
  },
  {
   "cell_type": "code",
   "execution_count": 4,
   "id": "c05e94ee-dc80-4068-b53e-a509133a583d",
   "metadata": {},
   "outputs": [
    {
     "name": "stdin",
     "output_type": "stream",
     "text": [
      "Which programming language do you want to learn?  Java\n"
     ]
    },
    {
     "name": "stdout",
     "output_type": "stream",
     "text": [
      "You will be a software developer after learning Java\n"
     ]
    }
   ],
   "source": [
    "# This program code will execute only in python 3.10 or above versions\n",
    "lang = input('Which programming language do you want to learn? ')\n",
    "\n",
    "match lang:\n",
    "    case \"JavaScript\":\n",
    "        print('You will be a web developer after learning JavaScript.')\n",
    "\n",
    "    case \"Python\":\n",
    "        print(\"You will be a Data Scientist after learning Python.\")\n",
    "\n",
    "    case \"PHP\":\n",
    "        print(\"You will be a backend developer after learning PHP.\")\n",
    "\n",
    "    case \"Solidity\":\n",
    "        print(\"You will be a Blockchain developer after learning Solidity.\")\n",
    "\n",
    "    case \"Java\":\n",
    "        print(\"You will be a software developer after learning Java\")\n",
    "    case _:\n",
    "        print(\"Language does not matter.\")\n"
   ]
  },
  {
   "cell_type": "code",
   "execution_count": null,
   "id": "ed4868a3-d853-4ba3-8096-74866939c99d",
   "metadata": {},
   "outputs": [],
   "source": []
  },
  {
   "cell_type": "code",
   "execution_count": null,
   "id": "69a20c58-f5de-4ea8-a7f3-154b34bc0b80",
   "metadata": {},
   "outputs": [],
   "source": []
  },
  {
   "cell_type": "code",
   "execution_count": null,
   "id": "196379d1-19b5-49c4-99d2-7a8b183f286a",
   "metadata": {},
   "outputs": [],
   "source": []
  },
  {
   "cell_type": "code",
   "execution_count": null,
   "id": "6c7aec35-25d6-4ee0-bbf4-cfcb9e25593b",
   "metadata": {},
   "outputs": [],
   "source": []
  }
 ],
 "metadata": {
  "kernelspec": {
   "display_name": "Python 3 (ipykernel)",
   "language": "python",
   "name": "python3"
  },
  "language_info": {
   "codemirror_mode": {
    "name": "ipython",
    "version": 3
   },
   "file_extension": ".py",
   "mimetype": "text/x-python",
   "name": "python",
   "nbconvert_exporter": "python",
   "pygments_lexer": "ipython3",
   "version": "3.12.8"
  }
 },
 "nbformat": 4,
 "nbformat_minor": 5
}
