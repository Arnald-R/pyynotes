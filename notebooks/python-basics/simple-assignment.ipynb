{
 "cells": [
  {
   "cell_type": "code",
   "execution_count": 1,
   "id": "f47b120f-e9e3-4ff3-b031-5ca72c61fc44",
   "metadata": {},
   "outputs": [],
   "source": [
    "#created at 20250121"
   ]
  },
  {
   "cell_type": "code",
   "execution_count": null,
   "id": "e1d0cfb6-731a-4333-9eb6-d287b379ea13",
   "metadata": {},
   "outputs": [],
   "source": [
    "https://www.scientecheasy.com/2022/10/assignment-operators-in-python.html/"
   ]
  },
  {
   "cell_type": "code",
   "execution_count": 2,
   "id": "95adf56f-42ad-441d-b267-e0d3eacd0e46",
   "metadata": {},
   "outputs": [],
   "source": [
    "x = 10"
   ]
  },
  {
   "cell_type": "code",
   "execution_count": 3,
   "id": "6aac7c0c-c34a-4def-ba0d-56bbfab5f57f",
   "metadata": {},
   "outputs": [],
   "source": [
    "y = 21"
   ]
  },
  {
   "cell_type": "code",
   "execution_count": 4,
   "id": "b5adc3ea-7f2b-4e01-816e-8c1b87f86320",
   "metadata": {},
   "outputs": [],
   "source": [
    "z = x + y"
   ]
  },
  {
   "cell_type": "code",
   "execution_count": 5,
   "id": "b613a61e-3b86-4f56-8518-3752021f4a38",
   "metadata": {},
   "outputs": [
    {
     "name": "stdout",
     "output_type": "stream",
     "text": [
      "31\n"
     ]
    }
   ],
   "source": [
    "print(z)"
   ]
  },
  {
   "cell_type": "code",
   "execution_count": 6,
   "id": "8c0de6bf-4d6b-4e50-922f-00a36e2db81c",
   "metadata": {},
   "outputs": [],
   "source": [
    "#right-operand  and left-operand"
   ]
  },
  {
   "cell_type": "code",
   "execution_count": 19,
   "id": "a8d9822e-4e65-4e05-ac9c-3d53b965e25b",
   "metadata": {},
   "outputs": [],
   "source": [
    "x = 20\n",
    "\n"
   ]
  },
  {
   "cell_type": "code",
   "execution_count": 20,
   "id": "b0dbedd5-15a5-4742-acdb-5e66d634c888",
   "metadata": {},
   "outputs": [],
   "source": [
    "y = 5\n"
   ]
  },
  {
   "cell_type": "code",
   "execution_count": 21,
   "id": "59ceac25-ae52-4962-8406-916e16ce9a0a",
   "metadata": {},
   "outputs": [],
   "source": [
    "z = 10\n"
   ]
  },
  {
   "cell_type": "code",
   "execution_count": 22,
   "id": "64720e8b-5f15-4e6e-b53e-77fb424633b9",
   "metadata": {},
   "outputs": [],
   "source": [
    "x += y #20 +=5 =>25\n"
   ]
  },
  {
   "cell_type": "code",
   "execution_count": 23,
   "id": "997bff49-ba13-4ad7-862c-1f530bcc05b5",
   "metadata": {},
   "outputs": [
    {
     "name": "stdout",
     "output_type": "stream",
     "text": [
      "Result of (x = x + y) =  25\n"
     ]
    }
   ],
   "source": [
    "print(\"Result of (x = x + y) = \", x)\n"
   ]
  },
  {
   "cell_type": "code",
   "execution_count": 24,
   "id": "4792a390-fabb-4246-ab46-f8b20b491df7",
   "metadata": {},
   "outputs": [],
   "source": [
    "z += x + y # 10 += 25+5 =>40\n"
   ]
  },
  {
   "cell_type": "code",
   "execution_count": 25,
   "id": "2cb24c36-adf0-4e44-bd23-09b0f33ae91e",
   "metadata": {},
   "outputs": [
    {
     "name": "stdout",
     "output_type": "stream",
     "text": [
      "Result =  40\n"
     ]
    }
   ],
   "source": [
    "print(\"Result = \", z)"
   ]
  },
  {
   "cell_type": "code",
   "execution_count": 12,
   "id": "c0ca6edc-4966-4b95-987d-860d182ef70c",
   "metadata": {},
   "outputs": [],
   "source": [
    "x = 20\n"
   ]
  },
  {
   "cell_type": "code",
   "execution_count": 13,
   "id": "aae21a1f-5fd7-41a8-9e92-3365eeb5675d",
   "metadata": {},
   "outputs": [],
   "source": [
    "y = 5\n"
   ]
  },
  {
   "cell_type": "code",
   "execution_count": 14,
   "id": "84321aa7-17ee-4e80-aab0-57236fe03bd1",
   "metadata": {},
   "outputs": [],
   "source": [
    "z = 10\n"
   ]
  },
  {
   "cell_type": "code",
   "execution_count": 15,
   "id": "a9b0270f-3634-4dd7-be5c-2201e9873746",
   "metadata": {},
   "outputs": [],
   "source": [
    "x -= y #20 -=5 =>15\n",
    "\n"
   ]
  },
  {
   "cell_type": "code",
   "execution_count": 16,
   "id": "1f4d9a33-1d1d-4a2c-aff4-8750005aca70",
   "metadata": {},
   "outputs": [
    {
     "name": "stdout",
     "output_type": "stream",
     "text": [
      "Result of (x = x - y) =  15\n"
     ]
    }
   ],
   "source": [
    "print(\"Result of (x = x - y) = \", x)\n"
   ]
  },
  {
   "cell_type": "code",
   "execution_count": 17,
   "id": "2a325ef7-2649-48e7-af46-0b430d3c1163",
   "metadata": {},
   "outputs": [],
   "source": [
    "z -= x + y # 10 -= 15+5 =>-10\n"
   ]
  },
  {
   "cell_type": "code",
   "execution_count": 18,
   "id": "c1868ae9-bb25-4667-843a-1c88fec1256a",
   "metadata": {},
   "outputs": [
    {
     "name": "stdout",
     "output_type": "stream",
     "text": [
      "Result =  -10\n"
     ]
    }
   ],
   "source": [
    "print(\"Result = \", z)"
   ]
  },
  {
   "cell_type": "code",
   "execution_count": 26,
   "id": "7e9f380e-54d7-4e42-b415-291621ac81db",
   "metadata": {},
   "outputs": [],
   "source": [
    "#multiplication\n",
    "x = 20\n"
   ]
  },
  {
   "cell_type": "code",
   "execution_count": 27,
   "id": "7f55f757-9a03-4b22-8156-5573a82fdb90",
   "metadata": {},
   "outputs": [],
   "source": [
    "y = 5\n"
   ]
  },
  {
   "cell_type": "code",
   "execution_count": 28,
   "id": "fe5bc8fe-bd8a-4bf9-ba81-b5a0de1de928",
   "metadata": {},
   "outputs": [],
   "source": [
    "z = 10\n"
   ]
  },
  {
   "cell_type": "code",
   "execution_count": 29,
   "id": "82b6435a-133c-432f-9571-e3feb2c80ddb",
   "metadata": {},
   "outputs": [],
   "source": [
    "x *= y #20 *=5 =>100\n"
   ]
  },
  {
   "cell_type": "code",
   "execution_count": 30,
   "id": "21b49cb6-34ba-4e34-9611-baf4dd8dfa05",
   "metadata": {},
   "outputs": [
    {
     "name": "stdout",
     "output_type": "stream",
     "text": [
      "Result of (x = x * y) =  100\n"
     ]
    }
   ],
   "source": [
    "print(\"Result of (x = x * y) = \", x)\n"
   ]
  },
  {
   "cell_type": "code",
   "execution_count": 31,
   "id": "2db91e63-0bc5-44ca-979f-2be54ca332c8",
   "metadata": {},
   "outputs": [],
   "source": [
    "z *= x * y # 10 *= 100 *5 =>5000\n"
   ]
  },
  {
   "cell_type": "code",
   "execution_count": 32,
   "id": "1a4cc2df-5a1e-4183-8f46-b382b025dfe9",
   "metadata": {},
   "outputs": [
    {
     "name": "stdout",
     "output_type": "stream",
     "text": [
      "Result =  5000\n"
     ]
    }
   ],
   "source": [
    "print(\"Result = \", z)"
   ]
  },
  {
   "cell_type": "code",
   "execution_count": null,
   "id": "6b1cd910-c75f-483b-8954-2e4c3b3b5e71",
   "metadata": {},
   "outputs": [],
   "source": []
  }
 ],
 "metadata": {
  "kernelspec": {
   "display_name": "Python 3 (ipykernel)",
   "language": "python",
   "name": "python3"
  },
  "language_info": {
   "codemirror_mode": {
    "name": "ipython",
    "version": 3
   },
   "file_extension": ".py",
   "mimetype": "text/x-python",
   "name": "python",
   "nbconvert_exporter": "python",
   "pygments_lexer": "ipython3",
   "version": "3.12.8"
  }
 },
 "nbformat": 4,
 "nbformat_minor": 5
}
