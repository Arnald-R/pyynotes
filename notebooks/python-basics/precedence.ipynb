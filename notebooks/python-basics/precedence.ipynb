{
 "cells": [
  {
   "cell_type": "code",
   "execution_count": 1,
   "id": "dcacb91a-1266-490e-a7cc-521dca141eca",
   "metadata": {},
   "outputs": [],
   "source": [
    "#created at 20250123"
   ]
  },
  {
   "cell_type": "code",
   "execution_count": null,
   "id": "cfa71ec3-c572-4c3d-bfaf-a6e7f76884c3",
   "metadata": {},
   "outputs": [],
   "source": [
    "https://www.scientecheasy.com/2022/10/operator-precedence-in-python.html/"
   ]
  },
  {
   "cell_type": "code",
   "execution_count": 2,
   "id": "e65be57c-3a3b-4740-871f-4e00095ca9aa",
   "metadata": {},
   "outputs": [
    {
     "name": "stdout",
     "output_type": "stream",
     "text": [
      "10.0\n"
     ]
    }
   ],
   "source": [
    "print(10 / 5 * 5) #brackets left to right\n"
   ]
  },
  {
   "cell_type": "code",
   "execution_count": 3,
   "id": "b211f797-d799-41ce-9e45-41a1223fdc5e",
   "metadata": {},
   "outputs": [
    {
     "name": "stdout",
     "output_type": "stream",
     "text": [
      "10.0\n"
     ]
    }
   ],
   "source": [
    "print(10 - 10 + 10 / 10 * 10) \n"
   ]
  },
  {
   "cell_type": "code",
   "execution_count": 4,
   "id": "ba0013c0-2066-4540-9104-af88bc636908",
   "metadata": {},
   "outputs": [
    {
     "name": "stdout",
     "output_type": "stream",
     "text": [
      "22.0\n"
     ]
    }
   ],
   "source": [
    "print(((6 - 3) + 2 * 4) * 8 / 4) "
   ]
  },
  {
   "cell_type": "code",
   "execution_count": 5,
   "id": "90f2b5a7-5960-4d68-9d5d-25aacd957dc8",
   "metadata": {},
   "outputs": [
    {
     "name": "stdout",
     "output_type": "stream",
     "text": [
      "-46\n"
     ]
    }
   ],
   "source": [
    "print(2 ** 3 + 4 // 7 - 6 * 9) "
   ]
  },
  {
   "cell_type": "code",
   "execution_count": 6,
   "id": "43189637-8ab1-4c0a-b5bc-4f3a793e6b8f",
   "metadata": {},
   "outputs": [
    {
     "name": "stdout",
     "output_type": "stream",
     "text": [
      "True\n"
     ]
    }
   ],
   "source": [
    "print(not True or True) "
   ]
  },
  {
   "cell_type": "code",
   "execution_count": 8,
   "id": "cf45d234-79ec-4528-9f33-6fec2a7d54ca",
   "metadata": {},
   "outputs": [],
   "source": [
    "p = 1"
   ]
  },
  {
   "cell_type": "code",
   "execution_count": 9,
   "id": "84cdb3da-c85c-4d06-a84b-1a4e22fff0e9",
   "metadata": {},
   "outputs": [],
   "source": [
    "q = 2"
   ]
  },
  {
   "cell_type": "code",
   "execution_count": 10,
   "id": "0c895563-9b72-4923-8748-9097d061eb67",
   "metadata": {},
   "outputs": [
    {
     "name": "stdout",
     "output_type": "stream",
     "text": [
      "p and q are positive integer numbers.\n"
     ]
    }
   ],
   "source": [
    "if(p > 0 and q > 0):\n",
    "    print('p and q are positive integer numbers.')\n"
   ]
  },
  {
   "cell_type": "code",
   "execution_count": 11,
   "id": "ff4855fe-c4b3-400d-876e-46e781921a81",
   "metadata": {},
   "outputs": [
    {
     "name": "stdout",
     "output_type": "stream",
     "text": [
      "20.0\n"
     ]
    }
   ],
   "source": [
    "print(10 * 20 / 10)"
   ]
  },
  {
   "cell_type": "code",
   "execution_count": 12,
   "id": "a14e6c83-47c9-4607-ac7f-5539df8dd244",
   "metadata": {},
   "outputs": [
    {
     "name": "stdout",
     "output_type": "stream",
     "text": [
      "20.0\n"
     ]
    }
   ],
   "source": [
    "print(20 / 10 * 10)"
   ]
  },
  {
   "cell_type": "code",
   "execution_count": 13,
   "id": "49a97a11-33c3-4668-afac-f705c8589391",
   "metadata": {},
   "outputs": [
    {
     "name": "stdout",
     "output_type": "stream",
     "text": [
      "256\n"
     ]
    }
   ],
   "source": [
    "print(2 ** 2 ** 3)"
   ]
  },
  {
   "cell_type": "code",
   "execution_count": 14,
   "id": "5b4f03d6-5db6-46f1-b45c-8e54bb9a232a",
   "metadata": {},
   "outputs": [
    {
     "name": "stdout",
     "output_type": "stream",
     "text": [
      "64\n"
     ]
    }
   ],
   "source": [
    "print((2 ** 2) ** 3)"
   ]
  },
  {
   "cell_type": "code",
   "execution_count": null,
   "id": "90428644-590c-44c5-9b59-420e99214556",
   "metadata": {},
   "outputs": [],
   "source": []
  }
 ],
 "metadata": {
  "kernelspec": {
   "display_name": "Python 3 (ipykernel)",
   "language": "python",
   "name": "python3"
  },
  "language_info": {
   "codemirror_mode": {
    "name": "ipython",
    "version": 3
   },
   "file_extension": ".py",
   "mimetype": "text/x-python",
   "name": "python",
   "nbconvert_exporter": "python",
   "pygments_lexer": "ipython3",
   "version": "3.12.8"
  }
 },
 "nbformat": 4,
 "nbformat_minor": 5
}
