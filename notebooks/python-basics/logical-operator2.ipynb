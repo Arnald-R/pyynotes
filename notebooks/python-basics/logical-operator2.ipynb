{
 "cells": [
  {
   "cell_type": "code",
   "execution_count": 1,
   "id": "cdef5df5-e92d-411a-96d7-c2da4bae56fe",
   "metadata": {},
   "outputs": [],
   "source": [
    "#created at 20250122"
   ]
  },
  {
   "cell_type": "code",
   "execution_count": null,
   "id": "2f51c3a4-e0f5-48e6-a863-1e9c1f4b085f",
   "metadata": {},
   "outputs": [],
   "source": [
    "https://www.scientecheasy.com/2022/10/logical-operators-in-python.html/"
   ]
  },
  {
   "cell_type": "code",
   "execution_count": 2,
   "id": "2a5dbbfc-20f2-4454-bcce-0237395063e0",
   "metadata": {},
   "outputs": [],
   "source": [
    "x = (15 < 20) and (\"pen\" < \"pencil\")"
   ]
  },
  {
   "cell_type": "code",
   "execution_count": 3,
   "id": "d7d4ab78-f7ac-4d7a-b23c-c51393bdf6d7",
   "metadata": {},
   "outputs": [],
   "source": [
    "y = (\"Big\" < \"bigger\") and (True != 1)"
   ]
  },
  {
   "cell_type": "code",
   "execution_count": 4,
   "id": "dd6ea7a8-e0a8-4f79-924f-c0b2b8264231",
   "metadata": {},
   "outputs": [],
   "source": [
    "z = (\"A\" <= \"A\") and (\"a\" != \"a\")"
   ]
  },
  {
   "cell_type": "code",
   "execution_count": 5,
   "id": "2c33e144-790f-4910-b110-e4299d4c6a9c",
   "metadata": {},
   "outputs": [
    {
     "name": "stdout",
     "output_type": "stream",
     "text": [
      "x : True\n"
     ]
    }
   ],
   "source": [
    "print(\"x :\",x)"
   ]
  },
  {
   "cell_type": "code",
   "execution_count": 6,
   "id": "fdcab669-67ff-4d2e-8274-fffc6536cdc1",
   "metadata": {},
   "outputs": [
    {
     "name": "stdout",
     "output_type": "stream",
     "text": [
      "y : False\n"
     ]
    }
   ],
   "source": [
    "print(\"y :\",y)"
   ]
  },
  {
   "cell_type": "code",
   "execution_count": 7,
   "id": "ea67bae5-5ee0-4f0a-90ac-904b180346e2",
   "metadata": {},
   "outputs": [
    {
     "name": "stdout",
     "output_type": "stream",
     "text": [
      "z : False\n"
     ]
    }
   ],
   "source": [
    "print(\"z :\",z)"
   ]
  },
  {
   "cell_type": "code",
   "execution_count": 8,
   "id": "0e1cb04b-d630-4678-9adf-6fa853128ee3",
   "metadata": {},
   "outputs": [],
   "source": [
    "p = True and True"
   ]
  },
  {
   "cell_type": "code",
   "execution_count": 9,
   "id": "0df90c42-3d1a-48b0-8e79-9ccccbfa26f6",
   "metadata": {},
   "outputs": [],
   "source": [
    "q = False and False"
   ]
  },
  {
   "cell_type": "code",
   "execution_count": 10,
   "id": "7a0548fe-9944-41d1-a11c-63f188f8303d",
   "metadata": {},
   "outputs": [],
   "source": [
    "s = 'a' and 'b' "
   ]
  },
  {
   "cell_type": "code",
   "execution_count": 11,
   "id": "0a1a0ffa-8424-4ca1-ae56-c842b75244dd",
   "metadata": {},
   "outputs": [],
   "source": [
    "t = False and 'a'"
   ]
  },
  {
   "cell_type": "code",
   "execution_count": 12,
   "id": "f3364ea5-cd3a-421a-9cd2-a8d99a4c903c",
   "metadata": {},
   "outputs": [],
   "source": [
    "u = True and 'a'"
   ]
  },
  {
   "cell_type": "code",
   "execution_count": 13,
   "id": "42f37131-2a3f-41a0-b4ac-9f2f18192d54",
   "metadata": {},
   "outputs": [
    {
     "name": "stdout",
     "output_type": "stream",
     "text": [
      "p : True\n"
     ]
    }
   ],
   "source": [
    "print(\"p :\",p)"
   ]
  },
  {
   "cell_type": "code",
   "execution_count": 14,
   "id": "1aa4f755-02b0-444c-bcb7-07a5789cb69a",
   "metadata": {},
   "outputs": [
    {
     "name": "stdout",
     "output_type": "stream",
     "text": [
      "q : False\n"
     ]
    }
   ],
   "source": [
    "print(\"q :\",q)"
   ]
  },
  {
   "cell_type": "code",
   "execution_count": 15,
   "id": "5a4c5b6a-71e0-42e2-8cac-aae3852b67c5",
   "metadata": {},
   "outputs": [
    {
     "name": "stdout",
     "output_type": "stream",
     "text": [
      "s : b\n"
     ]
    }
   ],
   "source": [
    "print(\"s :\",s)"
   ]
  },
  {
   "cell_type": "code",
   "execution_count": 16,
   "id": "8e9034c6-c0c4-49c2-9f45-ab1ef32c45d7",
   "metadata": {},
   "outputs": [
    {
     "name": "stdout",
     "output_type": "stream",
     "text": [
      "t : False\n"
     ]
    }
   ],
   "source": [
    "print(\"t :\",t)"
   ]
  },
  {
   "cell_type": "code",
   "execution_count": 17,
   "id": "68ecabc1-76da-4475-9eb8-2cd8e35486f6",
   "metadata": {},
   "outputs": [
    {
     "name": "stdout",
     "output_type": "stream",
     "text": [
      "u : a\n"
     ]
    }
   ],
   "source": [
    "print(\"u :\",u)"
   ]
  },
  {
   "cell_type": "code",
   "execution_count": 18,
   "id": "507e2470-610f-4690-bf60-d63c385104fc",
   "metadata": {},
   "outputs": [],
   "source": [
    "p = (True == 1) and (False == 0)"
   ]
  },
  {
   "cell_type": "code",
   "execution_count": 19,
   "id": "81a9799b-04ca-4446-8e97-c70913f7424d",
   "metadata": {},
   "outputs": [],
   "source": [
    "q = (\"2\" != 2) and (2 == 2)"
   ]
  },
  {
   "cell_type": "code",
   "execution_count": 26,
   "id": "6228f1fe-7004-4e94-811c-e7deaaf18260",
   "metadata": {},
   "outputs": [],
   "source": [
    "r = (\"5+5\" == 5+5) and True"
   ]
  },
  {
   "cell_type": "code",
   "execution_count": 21,
   "id": "511c2891-2f07-4b34-ac6e-245fcba9a973",
   "metadata": {},
   "outputs": [],
   "source": [
    "s = (False == 0) and (5 > 2)"
   ]
  },
  {
   "cell_type": "code",
   "execution_count": 22,
   "id": "738eba79-2a81-4744-84fe-d14e2e0c4fc5",
   "metadata": {},
   "outputs": [],
   "source": [
    "t = (10 + True >= 10) and False"
   ]
  },
  {
   "cell_type": "code",
   "execution_count": 24,
   "id": "3b006f22-bba3-4e8e-ba0e-e99f2f08ae3d",
   "metadata": {},
   "outputs": [
    {
     "name": "stdout",
     "output_type": "stream",
     "text": [
      "p:  True\n"
     ]
    }
   ],
   "source": [
    "print(\"p: \", p)"
   ]
  },
  {
   "cell_type": "code",
   "execution_count": 25,
   "id": "e8b5f0ff-2cca-4b10-bf51-9d5131b46e30",
   "metadata": {},
   "outputs": [
    {
     "name": "stdout",
     "output_type": "stream",
     "text": [
      "q:  True\n"
     ]
    }
   ],
   "source": [
    "print(\"q: \", q)"
   ]
  },
  {
   "cell_type": "code",
   "execution_count": 27,
   "id": "ea55488d-b6c3-4fcd-82b5-d36269b63478",
   "metadata": {},
   "outputs": [
    {
     "name": "stdout",
     "output_type": "stream",
     "text": [
      "r:  False\n"
     ]
    }
   ],
   "source": [
    "print(\"r: \", r)"
   ]
  },
  {
   "cell_type": "code",
   "execution_count": 28,
   "id": "a20f03c1-aa83-4b15-93a8-0d7db3d2e1a6",
   "metadata": {},
   "outputs": [
    {
     "name": "stdout",
     "output_type": "stream",
     "text": [
      "s:  True\n"
     ]
    }
   ],
   "source": [
    "print(\"s: \",s)"
   ]
  },
  {
   "cell_type": "code",
   "execution_count": 29,
   "id": "40d94fee-570f-41ba-8cb6-df32336c2c81",
   "metadata": {},
   "outputs": [
    {
     "name": "stdout",
     "output_type": "stream",
     "text": [
      "t:  False\n"
     ]
    }
   ],
   "source": [
    "print(\"t: \", t)"
   ]
  },
  {
   "cell_type": "code",
   "execution_count": null,
   "id": "7710823c-1677-4d56-85d3-abef95e70d15",
   "metadata": {},
   "outputs": [],
   "source": []
  }
 ],
 "metadata": {
  "kernelspec": {
   "display_name": "Python 3 (ipykernel)",
   "language": "python",
   "name": "python3"
  },
  "language_info": {
   "codemirror_mode": {
    "name": "ipython",
    "version": 3
   },
   "file_extension": ".py",
   "mimetype": "text/x-python",
   "name": "python",
   "nbconvert_exporter": "python",
   "pygments_lexer": "ipython3",
   "version": "3.12.8"
  }
 },
 "nbformat": 4,
 "nbformat_minor": 5
}
