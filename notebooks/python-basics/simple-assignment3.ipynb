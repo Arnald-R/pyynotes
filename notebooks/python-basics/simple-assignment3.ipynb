{
 "cells": [
  {
   "cell_type": "code",
   "execution_count": 1,
   "id": "8d9ddafb-9047-4550-bce1-08ed909c1a87",
   "metadata": {},
   "outputs": [],
   "source": [
    "#created at 20250121"
   ]
  },
  {
   "cell_type": "code",
   "execution_count": null,
   "id": "783fc82a-e58f-421f-a57d-021553275308",
   "metadata": {},
   "outputs": [],
   "source": [
    "https://www.scientecheasy.com/2022/10/assignment-operators-in-python.html/"
   ]
  },
  {
   "cell_type": "code",
   "execution_count": 4,
   "id": "9129c916-7e58-4866-b6ce-87db2c175a35",
   "metadata": {},
   "outputs": [],
   "source": [
    "a, b, c = 19, 31, 50"
   ]
  },
  {
   "cell_type": "code",
   "execution_count": 5,
   "id": "3abafd31-c32d-4bfc-b308-6765c9b3de7a",
   "metadata": {},
   "outputs": [],
   "source": [
    "a += 1\n",
    "b -= 1\n",
    "c *= 2"
   ]
  },
  {
   "cell_type": "code",
   "execution_count": 6,
   "id": "35e4c558-eac7-41c0-b166-b335bc777f3f",
   "metadata": {},
   "outputs": [],
   "source": [
    "x = (10 + a)\n",
    "y = x + 100\n",
    "z = x + y + c"
   ]
  },
  {
   "cell_type": "code",
   "execution_count": 7,
   "id": "5e0b1b6f-d6f6-46a3-aff0-7d81c9328d4e",
   "metadata": {},
   "outputs": [
    {
     "name": "stdout",
     "output_type": "stream",
     "text": [
      "Value of a:  20\n",
      "Value of b:  30\n",
      "Value of c:  100\n"
     ]
    }
   ],
   "source": [
    "print(\"Value of a: \", a)\n",
    "print(\"Value of b: \", b)\n",
    "print(\"Value of c: \", c)\n"
   ]
  },
  {
   "cell_type": "code",
   "execution_count": 8,
   "id": "d70e2521-c45f-420a-b96b-4b907e9c1ae7",
   "metadata": {},
   "outputs": [
    {
     "name": "stdout",
     "output_type": "stream",
     "text": [
      "Value of x:  30\n",
      "Value of y:  130\n",
      "Value of z:  260\n"
     ]
    }
   ],
   "source": [
    "print(\"Value of x: \", x)\n",
    "print(\"Value of y: \", y)\n",
    "print(\"Value of z: \", z)"
   ]
  },
  {
   "cell_type": "code",
   "execution_count": 9,
   "id": "8f47e2dd-158b-49cd-a81b-10c9280ea589",
   "metadata": {},
   "outputs": [],
   "source": [
    "a, b, c = 9, 21, 10"
   ]
  },
  {
   "cell_type": "code",
   "execution_count": 10,
   "id": "d9066fa5-4f1b-4f72-984b-5b521938b69a",
   "metadata": {},
   "outputs": [],
   "source": [
    "a += 1\n",
    "b -= 1\n",
    "c *= 2"
   ]
  },
  {
   "cell_type": "code",
   "execution_count": 11,
   "id": "710521d4-c0f1-4f27-ab53-8bd8cef619b4",
   "metadata": {},
   "outputs": [],
   "source": [
    "x = (10 + a)* 2 / 10\n",
    "y = (x + (11 * x)) / 12\n",
    "z = x + y + c"
   ]
  },
  {
   "cell_type": "code",
   "execution_count": 12,
   "id": "768d1797-2ed0-42bd-894a-6ef55c78992f",
   "metadata": {},
   "outputs": [
    {
     "name": "stdout",
     "output_type": "stream",
     "text": [
      "Value of x:  4.0\n",
      "Value of y:  4.0\n",
      "Value of z:  28.0\n"
     ]
    }
   ],
   "source": [
    "\n",
    "print(\"Value of x: \", x)\n",
    "print(\"Value of y: \", y)\n",
    "print(\"Value of z: \", z)"
   ]
  },
  {
   "cell_type": "code",
   "execution_count": 14,
   "id": "00600cb4-f71c-486e-a1dc-cc07845518ff",
   "metadata": {},
   "outputs": [],
   "source": [
    "a, b, c = 20, 10, 5"
   ]
  },
  {
   "cell_type": "code",
   "execution_count": 15,
   "id": "4b61b486-b1fd-450e-8e87-328dd433b6b0",
   "metadata": {},
   "outputs": [],
   "source": [
    "exp = (b + a) * c / 10"
   ]
  },
  {
   "cell_type": "code",
   "execution_count": 16,
   "id": "06c261da-261f-4a24-9b09-deab8fa07f98",
   "metadata": {},
   "outputs": [
    {
     "name": "stdout",
     "output_type": "stream",
     "text": [
      "Value of exp:  15.0\n"
     ]
    }
   ],
   "source": [
    "print(\"Value of exp: \", exp)"
   ]
  },
  {
   "cell_type": "code",
   "execution_count": null,
   "id": "60dfc659-c49a-4f3b-ae42-bcbbe977734c",
   "metadata": {},
   "outputs": [],
   "source": []
  }
 ],
 "metadata": {
  "kernelspec": {
   "display_name": "Python 3 (ipykernel)",
   "language": "python",
   "name": "python3"
  },
  "language_info": {
   "codemirror_mode": {
    "name": "ipython",
    "version": 3
   },
   "file_extension": ".py",
   "mimetype": "text/x-python",
   "name": "python",
   "nbconvert_exporter": "python",
   "pygments_lexer": "ipython3",
   "version": "3.12.8"
  }
 },
 "nbformat": 4,
 "nbformat_minor": 5
}
