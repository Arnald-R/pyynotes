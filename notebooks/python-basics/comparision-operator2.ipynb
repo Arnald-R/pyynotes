{
 "cells": [
  {
   "cell_type": "code",
   "execution_count": 1,
   "id": "cfb3d97e-ee6e-4f25-994a-c2620d7a4a0f",
   "metadata": {},
   "outputs": [],
   "source": [
    "#created at 20250121"
   ]
  },
  {
   "cell_type": "code",
   "execution_count": null,
   "id": "5f6292eb-ff0b-4703-afbe-bd3c5fff1290",
   "metadata": {},
   "outputs": [],
   "source": [
    "https://www.scientecheasy.com/2022/10/comparison-operators-in-python.html/"
   ]
  },
  {
   "cell_type": "code",
   "execution_count": 2,
   "id": "1282de8b-6cc3-4bc3-8469-bccd716a8af8",
   "metadata": {},
   "outputs": [],
   "source": [
    "#greater than"
   ]
  },
  {
   "cell_type": "code",
   "execution_count": 3,
   "id": "835beb35-b2e3-488e-a4d7-29a1c1db0e86",
   "metadata": {},
   "outputs": [],
   "source": [
    "num1 = 60"
   ]
  },
  {
   "cell_type": "code",
   "execution_count": 4,
   "id": "9d5e38a1-d5b9-493f-94e0-69011202db95",
   "metadata": {},
   "outputs": [],
   "source": [
    "num2 = 50"
   ]
  },
  {
   "cell_type": "code",
   "execution_count": 5,
   "id": "ec0b1dfc-3489-4317-bc5d-3be6f4e043fe",
   "metadata": {},
   "outputs": [
    {
     "name": "stdout",
     "output_type": "stream",
     "text": [
      "True\n"
     ]
    }
   ],
   "source": [
    "print(num1 > num2)"
   ]
  },
  {
   "cell_type": "code",
   "execution_count": 6,
   "id": "e318f1ca-2354-4e0e-bd00-93f8e778c287",
   "metadata": {},
   "outputs": [
    {
     "name": "stdout",
     "output_type": "stream",
     "text": [
      "False\n"
     ]
    }
   ],
   "source": [
    "print(num1 + 20 - 20 > num2 + 20)"
   ]
  },
  {
   "cell_type": "code",
   "execution_count": 7,
   "id": "c6e6cc86-3602-4140-bcc2-bf6a168b7946",
   "metadata": {},
   "outputs": [],
   "source": [
    "n1 = 20"
   ]
  },
  {
   "cell_type": "code",
   "execution_count": 8,
   "id": "bad66c45-b4d8-4ad2-b87a-62d81c14070c",
   "metadata": {},
   "outputs": [],
   "source": [
    "n2 = n1"
   ]
  },
  {
   "cell_type": "code",
   "execution_count": 9,
   "id": "031630ba-adcf-4b8b-8d23-ec3eface0000",
   "metadata": {},
   "outputs": [
    {
     "name": "stdout",
     "output_type": "stream",
     "text": [
      "False\n"
     ]
    }
   ],
   "source": [
    "print(n1 > n2)"
   ]
  },
  {
   "cell_type": "code",
   "execution_count": 10,
   "id": "592bb6f4-43eb-463f-bc08-8e27ad1821fc",
   "metadata": {},
   "outputs": [
    {
     "name": "stdout",
     "output_type": "stream",
     "text": [
      "True\n"
     ]
    }
   ],
   "source": [
    "str1 = 'Python'\n",
    "str2 = 'Pythe'\n",
    "print(str1 > str2)\n"
   ]
  },
  {
   "cell_type": "code",
   "execution_count": 11,
   "id": "6bf43d71-011c-4664-a04c-08c15a1052b3",
   "metadata": {},
   "outputs": [
    {
     "name": "stdout",
     "output_type": "stream",
     "text": [
      "True\n"
     ]
    }
   ],
   "source": [
    "str1 = 'Python'\n",
    "str2 = 'Text'\n",
    "print(str1 < str2)"
   ]
  },
  {
   "cell_type": "code",
   "execution_count": 12,
   "id": "6e881850-a80c-4715-b043-4e5529c2761b",
   "metadata": {},
   "outputs": [
    {
     "name": "stdout",
     "output_type": "stream",
     "text": [
      "True\n"
     ]
    }
   ],
   "source": [
    "p = True\n",
    "q = 0\n",
    "print(q < p)"
   ]
  },
  {
   "cell_type": "code",
   "execution_count": 13,
   "id": "b8875d28-fbab-4278-817b-199bfbd2d302",
   "metadata": {},
   "outputs": [
    {
     "name": "stdout",
     "output_type": "stream",
     "text": [
      "False\n"
     ]
    }
   ],
   "source": [
    "r = False\n",
    "s = -2\n",
    "print(r < s)"
   ]
  },
  {
   "cell_type": "code",
   "execution_count": 14,
   "id": "c908614b-aa4e-4394-a9f8-f2b9415a0ff3",
   "metadata": {},
   "outputs": [
    {
     "name": "stdout",
     "output_type": "stream",
     "text": [
      "True\n"
     ]
    }
   ],
   "source": [
    "List1 = [1, 2, 3]\n",
    "List2 = [1, 2, 4]\n",
    "print(List1 < List2)"
   ]
  },
  {
   "cell_type": "code",
   "execution_count": null,
   "id": "24b0911f-5051-4bc5-8af6-3148d939fa8f",
   "metadata": {},
   "outputs": [],
   "source": []
  }
 ],
 "metadata": {
  "kernelspec": {
   "display_name": "Python 3 (ipykernel)",
   "language": "python",
   "name": "python3"
  },
  "language_info": {
   "codemirror_mode": {
    "name": "ipython",
    "version": 3
   },
   "file_extension": ".py",
   "mimetype": "text/x-python",
   "name": "python",
   "nbconvert_exporter": "python",
   "pygments_lexer": "ipython3",
   "version": "3.12.8"
  }
 },
 "nbformat": 4,
 "nbformat_minor": 5
}
