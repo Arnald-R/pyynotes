{
 "cells": [
  {
   "cell_type": "code",
   "execution_count": 1,
   "id": "3d068224-1826-4731-8144-4e71060adc85",
   "metadata": {},
   "outputs": [],
   "source": [
    "#createdat20250121"
   ]
  },
  {
   "cell_type": "code",
   "execution_count": null,
   "id": "921fe88e-47c8-49ae-8e8c-99574bfaa796",
   "metadata": {},
   "outputs": [],
   "source": [
    "https://www.scientecheasy.com/2022/10/comparison-operators-in-python.html/"
   ]
  },
  {
   "cell_type": "code",
   "execution_count": 2,
   "id": "ca281399-bd4a-4723-90a8-3e2d54fdddec",
   "metadata": {},
   "outputs": [],
   "source": [
    "#greater than or equal to"
   ]
  },
  {
   "cell_type": "code",
   "execution_count": 3,
   "id": "cbd5f383-273e-410e-9547-8c1f77db023f",
   "metadata": {},
   "outputs": [],
   "source": [
    "num1 = 20.20\n"
   ]
  },
  {
   "cell_type": "code",
   "execution_count": 4,
   "id": "5fc6ada7-20b3-4b79-9ed2-aa3c4fa2cf3f",
   "metadata": {},
   "outputs": [],
   "source": [
    "num2 = 20.0200\n"
   ]
  },
  {
   "cell_type": "code",
   "execution_count": 5,
   "id": "c6fdbf30-0d58-4693-9dd2-2d3fd537c67d",
   "metadata": {},
   "outputs": [
    {
     "name": "stdout",
     "output_type": "stream",
     "text": [
      "True\n"
     ]
    }
   ],
   "source": [
    "print(num1 >= num2)\n",
    "\n"
   ]
  },
  {
   "cell_type": "code",
   "execution_count": 6,
   "id": "38460756-f209-4d78-b261-a63d6488bcf7",
   "metadata": {},
   "outputs": [],
   "source": [
    "x = True + 2\n",
    "\n"
   ]
  },
  {
   "cell_type": "code",
   "execution_count": 7,
   "id": "9875e6c7-8af6-4d10-9483-4d29e32a5d81",
   "metadata": {},
   "outputs": [],
   "source": [
    "y = False + False + False"
   ]
  },
  {
   "cell_type": "code",
   "execution_count": 8,
   "id": "21056274-dee9-488c-88e1-f7fba0fb2f81",
   "metadata": {},
   "outputs": [
    {
     "name": "stdout",
     "output_type": "stream",
     "text": [
      "True\n"
     ]
    }
   ],
   "source": [
    "print(x >= y)"
   ]
  },
  {
   "cell_type": "code",
   "execution_count": 9,
   "id": "aa67b688-d909-4a63-8379-af1ce15b454e",
   "metadata": {},
   "outputs": [],
   "source": [
    "p = 'abcd'\n"
   ]
  },
  {
   "cell_type": "code",
   "execution_count": 10,
   "id": "2eeca385-19ba-471f-a247-cd45c9eead4a",
   "metadata": {},
   "outputs": [],
   "source": [
    "q = 'abcde'\n"
   ]
  },
  {
   "cell_type": "code",
   "execution_count": 11,
   "id": "6b8855c5-2edf-4923-8e8a-04bc6a8fd4bb",
   "metadata": {},
   "outputs": [
    {
     "name": "stdout",
     "output_type": "stream",
     "text": [
      "False\n"
     ]
    }
   ],
   "source": [
    "print(p >= q)"
   ]
  },
  {
   "cell_type": "code",
   "execution_count": 12,
   "id": "b7d48f1d-da22-4616-8a55-ea627cbefe64",
   "metadata": {},
   "outputs": [],
   "source": [
    "#lessthan or equal to"
   ]
  },
  {
   "cell_type": "code",
   "execution_count": 13,
   "id": "165c2b80-55f5-4fa6-b898-949a33f6e1a1",
   "metadata": {},
   "outputs": [],
   "source": [
    "num1 = 40.40"
   ]
  },
  {
   "cell_type": "code",
   "execution_count": 14,
   "id": "0f235d02-fbdd-492b-8e8b-731f2e3b09d5",
   "metadata": {},
   "outputs": [],
   "source": [
    "num2 = 40.400\n"
   ]
  },
  {
   "cell_type": "code",
   "execution_count": 15,
   "id": "ef061669-10cc-4693-9106-47dc2591264a",
   "metadata": {},
   "outputs": [
    {
     "name": "stdout",
     "output_type": "stream",
     "text": [
      "True\n"
     ]
    }
   ],
   "source": [
    "print(num1 <= num2)"
   ]
  },
  {
   "cell_type": "code",
   "execution_count": 16,
   "id": "bb539d35-5eff-4952-b095-675029cdaf7b",
   "metadata": {},
   "outputs": [],
   "source": [
    "x = True + 2"
   ]
  },
  {
   "cell_type": "code",
   "execution_count": 17,
   "id": "80f9257d-f23b-4487-96cf-39e884a70f36",
   "metadata": {},
   "outputs": [],
   "source": [
    "y = False + False + False"
   ]
  },
  {
   "cell_type": "code",
   "execution_count": 18,
   "id": "70e8d4cd-f768-4f1b-82cf-64859e386e24",
   "metadata": {},
   "outputs": [
    {
     "name": "stdout",
     "output_type": "stream",
     "text": [
      "False\n"
     ]
    }
   ],
   "source": [
    "print(x <= y)"
   ]
  },
  {
   "cell_type": "code",
   "execution_count": 19,
   "id": "5909fd6f-e87b-40fd-aaeb-16b1938536ae",
   "metadata": {},
   "outputs": [],
   "source": [
    "p = 'A'"
   ]
  },
  {
   "cell_type": "code",
   "execution_count": 20,
   "id": "34e16ee3-6cbf-4a56-9b46-2bc597fcf95f",
   "metadata": {},
   "outputs": [],
   "source": [
    "q = 'B'"
   ]
  },
  {
   "cell_type": "code",
   "execution_count": 21,
   "id": "f208f9ea-81ec-43a8-b9bf-0daae7318513",
   "metadata": {},
   "outputs": [
    {
     "name": "stdout",
     "output_type": "stream",
     "text": [
      "True\n"
     ]
    }
   ],
   "source": [
    "print(p <= q)"
   ]
  },
  {
   "cell_type": "code",
   "execution_count": null,
   "id": "e5ec79a9-7ddb-42b1-b057-7d74797620b0",
   "metadata": {},
   "outputs": [],
   "source": []
  }
 ],
 "metadata": {
  "kernelspec": {
   "display_name": "Python 3 (ipykernel)",
   "language": "python",
   "name": "python3"
  },
  "language_info": {
   "codemirror_mode": {
    "name": "ipython",
    "version": 3
   },
   "file_extension": ".py",
   "mimetype": "text/x-python",
   "name": "python",
   "nbconvert_exporter": "python",
   "pygments_lexer": "ipython3",
   "version": "3.12.8"
  }
 },
 "nbformat": 4,
 "nbformat_minor": 5
}
