{
 "cells": [
  {
   "cell_type": "code",
   "execution_count": 1,
   "id": "31f247b6-346f-4fbc-878e-8df35148fc54",
   "metadata": {},
   "outputs": [],
   "source": [
    "#created at 20250123"
   ]
  },
  {
   "cell_type": "code",
   "execution_count": null,
   "id": "3f231def-d663-44b4-8778-c2a6c08c9861",
   "metadata": {},
   "outputs": [],
   "source": [
    "https://www.scientecheasy.com/2022/10/expression-in-python.html/"
   ]
  },
  {
   "cell_type": "code",
   "execution_count": 8,
   "id": "6f9ce99f-8ccb-4a88-a88b-78703ebf1a04",
   "metadata": {},
   "outputs": [],
   "source": [
    "Average = 70 + 89 + 90 + 88 + 99 /5"
   ]
  },
  {
   "cell_type": "code",
   "execution_count": 9,
   "id": "9ddb8be9-ab62-493b-a6aa-807f6ef18cdd",
   "metadata": {},
   "outputs": [
    {
     "name": "stdout",
     "output_type": "stream",
     "text": [
      "356.8\n"
     ]
    }
   ],
   "source": [
    "print(Average) "
   ]
  },
  {
   "cell_type": "code",
   "execution_count": 4,
   "id": "de93011f-e275-494a-8a64-12a87c396284",
   "metadata": {},
   "outputs": [],
   "source": [
    "Average = (70 + 89 + 90 + 88 + 99) / 5"
   ]
  },
  {
   "cell_type": "code",
   "execution_count": 5,
   "id": "ef1714d8-1f4a-49a7-be3b-32b10619d9c5",
   "metadata": {},
   "outputs": [
    {
     "name": "stdout",
     "output_type": "stream",
     "text": [
      "87.2\n"
     ]
    }
   ],
   "source": [
    "print(Average) # Output: 87.2"
   ]
  },
  {
   "cell_type": "code",
   "execution_count": 10,
   "id": "5e2403a4-6aad-499c-9c5b-549865962d46",
   "metadata": {},
   "outputs": [],
   "source": [
    "num1 = 20"
   ]
  },
  {
   "cell_type": "code",
   "execution_count": 11,
   "id": "91467183-ad79-4812-9f71-af51161c7024",
   "metadata": {},
   "outputs": [],
   "source": [
    "num2 = 40"
   ]
  },
  {
   "cell_type": "code",
   "execution_count": 12,
   "id": "b6b871a1-d23e-4abd-9ac2-217399d4b465",
   "metadata": {},
   "outputs": [],
   "source": [
    "sum = num1 + num2"
   ]
  },
  {
   "cell_type": "code",
   "execution_count": 13,
   "id": "b96a9ea6-4e36-4bb6-abad-24cdbf1ad735",
   "metadata": {},
   "outputs": [
    {
     "name": "stdout",
     "output_type": "stream",
     "text": [
      "Sum of two numbers is  60\n"
     ]
    }
   ],
   "source": [
    "print(\"Sum of two numbers is \", sum)\n"
   ]
  },
  {
   "cell_type": "code",
   "execution_count": null,
   "id": "a478b232-f4f5-4207-adcd-51286e221421",
   "metadata": {},
   "outputs": [],
   "source": []
  }
 ],
 "metadata": {
  "kernelspec": {
   "display_name": "Python 3 (ipykernel)",
   "language": "python",
   "name": "python3"
  },
  "language_info": {
   "codemirror_mode": {
    "name": "ipython",
    "version": 3
   },
   "file_extension": ".py",
   "mimetype": "text/x-python",
   "name": "python",
   "nbconvert_exporter": "python",
   "pygments_lexer": "ipython3",
   "version": "3.12.8"
  }
 },
 "nbformat": 4,
 "nbformat_minor": 5
}
