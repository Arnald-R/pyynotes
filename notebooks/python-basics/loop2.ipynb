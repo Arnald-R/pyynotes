{
 "cells": [
  {
   "cell_type": "code",
   "execution_count": null,
   "id": "4d4ac203-bfb6-4cef-ba7d-d80f4748f1c7",
   "metadata": {},
   "outputs": [],
   "source": [
    "#createdat 20250124"
   ]
  },
  {
   "cell_type": "code",
   "execution_count": null,
   "id": "091ec548-7286-4dc2-9580-102e60f2ad68",
   "metadata": {},
   "outputs": [],
   "source": [
    "https://www.scientecheasy.com/2022/10/for-loop-in-python.html/"
   ]
  },
  {
   "cell_type": "code",
   "execution_count": 2,
   "id": "3fef631b-2014-4b7a-8b52-b523edb2cc52",
   "metadata": {},
   "outputs": [],
   "source": [
    "sum = 0"
   ]
  },
  {
   "cell_type": "code",
   "execution_count": 3,
   "id": "a6d0367f-9f00-4322-8524-ae86eec84af7",
   "metadata": {},
   "outputs": [
    {
     "name": "stdout",
     "output_type": "stream",
     "text": [
      "sum of numbers between 1 to 10 =  1\n",
      "sum of numbers between 1 to 10 =  3\n",
      "sum of numbers between 1 to 10 =  6\n",
      "sum of numbers between 1 to 10 =  10\n",
      "sum of numbers between 1 to 10 =  15\n",
      "sum of numbers between 1 to 10 =  21\n",
      "sum of numbers between 1 to 10 =  28\n",
      "sum of numbers between 1 to 10 =  36\n",
      "sum of numbers between 1 to 10 =  45\n",
      "sum of numbers between 1 to 10 =  55\n"
     ]
    }
   ],
   "source": [
    "for num in range(1 , 11):\n",
    "    sum = sum + num\n",
    "    print('sum of numbers between 1 to 10 = ',sum)"
   ]
  },
  {
   "cell_type": "code",
   "execution_count": 4,
   "id": "df448b75-6214-4c3f-82c0-b2027dd2a5fd",
   "metadata": {},
   "outputs": [
    {
     "name": "stdout",
     "output_type": "stream",
     "text": [
      "p\n",
      "y\n",
      "t\n",
      "h\n",
      "o\n",
      "n\n"
     ]
    }
   ],
   "source": [
    "for ch in 'python':\n",
    "    print(ch)"
   ]
  },
  {
   "cell_type": "code",
   "execution_count": 5,
   "id": "72f127af-eabf-4585-8db3-1305b8fa7106",
   "metadata": {},
   "outputs": [
    {
     "name": "stdout",
     "output_type": "stream",
     "text": [
      "apple\n",
      "orane\n",
      "banana\n",
      "loop over\n"
     ]
    }
   ],
   "source": [
    "#list\n",
    "fruits = ['apple','orane','banana']\n",
    "for item in fruits:\n",
    "    print(item)\n",
    "print(\"loop over\")"
   ]
  },
  {
   "cell_type": "code",
   "execution_count": 7,
   "id": "6c843083-33fe-406f-b967-df12df494eca",
   "metadata": {},
   "outputs": [
    {
     "name": "stdout",
     "output_type": "stream",
     "text": [
      "red\n",
      "yellow\n",
      "violet\n"
     ]
    }
   ],
   "source": [
    "#tuple\n",
    "color = ('red','yellow','violet')\n",
    "for item in color:\n",
    "    print(item)\n"
   ]
  },
  {
   "cell_type": "code",
   "execution_count": 8,
   "id": "92620ed2-6181-4887-b7e8-0a40741e12bc",
   "metadata": {},
   "outputs": [],
   "source": [
    "#even number finding in list"
   ]
  },
  {
   "cell_type": "code",
   "execution_count": 9,
   "id": "b07b36e7-a7dc-4297-9322-aeb536004149",
   "metadata": {},
   "outputs": [
    {
     "name": "stdout",
     "output_type": "stream",
     "text": [
      "even number 2\n",
      "even number 4\n",
      "odd number 7\n",
      "odd number 1\n"
     ]
    }
   ],
   "source": [
    "list = [ 2, 4,7,1]\n",
    "for n in list:\n",
    "    if n % 2 == 0:\n",
    "        print(\"even number\" ,n)\n",
    "    else:\n",
    "        print(\"odd number\",n)"
   ]
  },
  {
   "cell_type": "code",
   "execution_count": null,
   "id": "c5ce3bf3-c354-4ae5-823a-0898e5b93e79",
   "metadata": {},
   "outputs": [],
   "source": []
  },
  {
   "cell_type": "code",
   "execution_count": null,
   "id": "6e819ecb-4d8c-487f-8345-545c2789972f",
   "metadata": {},
   "outputs": [],
   "source": []
  },
  {
   "cell_type": "code",
   "execution_count": null,
   "id": "997897f7-fe89-4612-8c3d-3e8b443f7b97",
   "metadata": {},
   "outputs": [],
   "source": []
  }
 ],
 "metadata": {
  "kernelspec": {
   "display_name": "Python 3 (ipykernel)",
   "language": "python",
   "name": "python3"
  },
  "language_info": {
   "codemirror_mode": {
    "name": "ipython",
    "version": 3
   },
   "file_extension": ".py",
   "mimetype": "text/x-python",
   "name": "python",
   "nbconvert_exporter": "python",
   "pygments_lexer": "ipython3",
   "version": "3.12.8"
  }
 },
 "nbformat": 4,
 "nbformat_minor": 5
}
