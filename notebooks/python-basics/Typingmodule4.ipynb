{
 "cells": [
  {
   "cell_type": "code",
   "execution_count": 1,
   "id": "8096a814-9ae3-4b37-a130-b692a674dacf",
   "metadata": {},
   "outputs": [],
   "source": [
    "#created at 20250131"
   ]
  },
  {
   "cell_type": "code",
   "execution_count": null,
   "id": "28ae982b-b1b2-4370-b538-a755c0e99a95",
   "metadata": {},
   "outputs": [],
   "source": [
    "https://chatgpt.com/c/679c622a-5318-800b-a323-68a368e854f9"
   ]
  },
  {
   "cell_type": "code",
   "execution_count": 2,
   "id": "41526127-c74d-4631-9b50-23daface4881",
   "metadata": {},
   "outputs": [],
   "source": [
    "from typing import List"
   ]
  },
  {
   "cell_type": "code",
   "execution_count": 3,
   "id": "ac5255e2-0616-481a-aade-dfb90c8b1f63",
   "metadata": {},
   "outputs": [],
   "source": [
    "def add_numbers(a: int, b: int) -> int:\n",
    "    return a+b"
   ]
  },
  {
   "cell_type": "code",
   "execution_count": 4,
   "id": "e7b2106b-401c-4f53-9b32-5b627d751519",
   "metadata": {},
   "outputs": [],
   "source": [
    "x: int = 10\n",
    "y: int = 20"
   ]
  },
  {
   "cell_type": "code",
   "execution_count": 5,
   "id": "0eab938c-79f4-4cc3-a5b6-8f773779fc31",
   "metadata": {},
   "outputs": [],
   "source": [
    "z : str = \"hello\""
   ]
  },
  {
   "cell_type": "code",
   "execution_count": 6,
   "id": "b6576c19-c8ce-4c64-952b-a3dcc090c429",
   "metadata": {},
   "outputs": [
    {
     "name": "stdout",
     "output_type": "stream",
     "text": [
      "30\n"
     ]
    }
   ],
   "source": [
    "print(add_numbers(x, y))"
   ]
  },
  {
   "cell_type": "code",
   "execution_count": 7,
   "id": "35f52997-97a5-4165-8230-40fd37045973",
   "metadata": {},
   "outputs": [
    {
     "name": "stdout",
     "output_type": "stream",
     "text": [
      "hello\n"
     ]
    }
   ],
   "source": [
    "print(z)"
   ]
  },
  {
   "cell_type": "code",
   "execution_count": 8,
   "id": "1268aab2-97f8-4475-a8e8-4e581cf5e8cc",
   "metadata": {},
   "outputs": [],
   "source": [
    "# Lists, Tuples, and Dictionaries"
   ]
  },
  {
   "cell_type": "code",
   "execution_count": 9,
   "id": "592d7be3-6875-4e6b-b9b1-a12734edb6d2",
   "metadata": {},
   "outputs": [],
   "source": [
    "from typing import List, Tuple, Dict"
   ]
  },
  {
   "cell_type": "code",
   "execution_count": 10,
   "id": "db394315-b900-4dbf-b13b-98c072f64626",
   "metadata": {},
   "outputs": [],
   "source": [
    "numbers: List[int] = [1, 2, 3]\n",
    "coordinates: Tuple[int, int] = (10, 20)\n",
    "person: Dict[str,int] = {\"age\": 25,\"height\": 147}"
   ]
  },
  {
   "cell_type": "code",
   "execution_count": 12,
   "id": "69372845-ed2a-4813-9d10-3fe752496035",
   "metadata": {},
   "outputs": [
    {
     "name": "stdout",
     "output_type": "stream",
     "text": [
      "typing.List typing.Tuple typing.Dict\n"
     ]
    }
   ],
   "source": [
    "print(List, Tuple, Dict)"
   ]
  },
  {
   "cell_type": "code",
   "execution_count": 13,
   "id": "f98d60a4-2024-4acf-905e-c233f04a964c",
   "metadata": {},
   "outputs": [],
   "source": [
    "#Union"
   ]
  },
  {
   "cell_type": "code",
   "execution_count": 15,
   "id": "3f8234a6-96ba-4360-a2bd-6ada9408eb55",
   "metadata": {},
   "outputs": [],
   "source": [
    "from typing import Union"
   ]
  },
  {
   "cell_type": "code",
   "execution_count": 16,
   "id": "789c77e4-0afb-4b09-bc15-ba883653f1c4",
   "metadata": {},
   "outputs": [],
   "source": [
    "def process_data(value: Union[int, float, str]) -> str:\n",
    "    return f\" processed :{value}\""
   ]
  },
  {
   "cell_type": "code",
   "execution_count": 17,
   "id": "cbe64574-2e6c-47c2-9234-3735f8655504",
   "metadata": {},
   "outputs": [
    {
     "name": "stdout",
     "output_type": "stream",
     "text": [
      " processed :10\n",
      " processed :3.14\n",
      " processed :Arnald\n"
     ]
    }
   ],
   "source": [
    "print(process_data(10))\n",
    "print(process_data(3.14))\n",
    "print(process_data(\"Arnald\"))"
   ]
  },
  {
   "cell_type": "code",
   "execution_count": null,
   "id": "c9639804-10af-4f84-9a31-915ab22db2f5",
   "metadata": {},
   "outputs": [],
   "source": []
  }
 ],
 "metadata": {
  "kernelspec": {
   "display_name": "Python 3 (ipykernel)",
   "language": "python",
   "name": "python3"
  },
  "language_info": {
   "codemirror_mode": {
    "name": "ipython",
    "version": 3
   },
   "file_extension": ".py",
   "mimetype": "text/x-python",
   "name": "python",
   "nbconvert_exporter": "python",
   "pygments_lexer": "ipython3",
   "version": "3.12.8"
  }
 },
 "nbformat": 4,
 "nbformat_minor": 5
}
