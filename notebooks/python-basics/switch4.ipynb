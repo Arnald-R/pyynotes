{
 "cells": [
  {
   "cell_type": "code",
   "execution_count": 1,
   "id": "f66ca362-caa8-4d59-94a0-2b3f392e4320",
   "metadata": {},
   "outputs": [],
   "source": [
    "#created at 20250125"
   ]
  },
  {
   "cell_type": "code",
   "execution_count": null,
   "id": "8e20576f-bdf0-4eda-84e6-9fcfd2491211",
   "metadata": {},
   "outputs": [],
   "source": [
    "https://www.scientecheasy.com/2022/11/switch-statement-in-python.html/"
   ]
  },
  {
   "cell_type": "code",
   "execution_count": 2,
   "id": "3887433a-dd14-493f-8f6a-dc919cd4e704",
   "metadata": {},
   "outputs": [
    {
     "name": "stdout",
     "output_type": "stream",
     "text": [
      "You chose 2\n"
     ]
    }
   ],
   "source": [
    "choice = int(2)\n",
    "match choice:\n",
    "    case 1:\n",
    "        print('You chose 1')\n",
    "    case 2:\n",
    "        print('You chose 2')\n",
    "    case 3:\n",
    "        print('You chose 3')\n",
    "    case _:\n",
    "        print('Default option')\n"
   ]
  },
  {
   "cell_type": "code",
   "execution_count": null,
   "id": "9e68e052-92ce-4161-9dbf-a061d79010fe",
   "metadata": {},
   "outputs": [],
   "source": []
  }
 ],
 "metadata": {
  "kernelspec": {
   "display_name": "Python 3 (ipykernel)",
   "language": "python",
   "name": "python3"
  },
  "language_info": {
   "codemirror_mode": {
    "name": "ipython",
    "version": 3
   },
   "file_extension": ".py",
   "mimetype": "text/x-python",
   "name": "python",
   "nbconvert_exporter": "python",
   "pygments_lexer": "ipython3",
   "version": "3.12.8"
  }
 },
 "nbformat": 4,
 "nbformat_minor": 5
}
