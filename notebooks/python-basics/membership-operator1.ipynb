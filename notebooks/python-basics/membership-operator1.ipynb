{
 "cells": [
  {
   "cell_type": "code",
   "execution_count": 1,
   "id": "99377ad0-4508-4734-8567-1c172a6adf30",
   "metadata": {},
   "outputs": [],
   "source": [
    "#created at 20250123"
   ]
  },
  {
   "cell_type": "code",
   "execution_count": null,
   "id": "6ec861a2-c0a9-4f23-8b85-3c53be161544",
   "metadata": {},
   "outputs": [],
   "source": [
    "https://www.scientecheasy.com/2022/10/membership-operators-in-python.html/"
   ]
  },
  {
   "cell_type": "code",
   "execution_count": 2,
   "id": "b2d01c1d-3356-4cbc-b9dd-283406112448",
   "metadata": {},
   "outputs": [],
   "source": [
    "#in and not in"
   ]
  },
  {
   "cell_type": "code",
   "execution_count": 3,
   "id": "1ff3c2ec-3c6c-4a3f-9365-5a9343f7c530",
   "metadata": {},
   "outputs": [],
   "source": [
    "my_string = 'I am Arnald From Pollachi coimbatore'"
   ]
  },
  {
   "cell_type": "code",
   "execution_count": 5,
   "id": "e3950497-092d-4d0d-87a3-a4073443fab9",
   "metadata": {},
   "outputs": [
    {
     "name": "stdout",
     "output_type": "stream",
     "text": [
      "True\n"
     ]
    }
   ],
   "source": [
    "print('I' in my_string)"
   ]
  },
  {
   "cell_type": "code",
   "execution_count": 6,
   "id": "648d41ae-7bc2-4846-a349-813709011891",
   "metadata": {},
   "outputs": [
    {
     "name": "stdout",
     "output_type": "stream",
     "text": [
      "True\n"
     ]
    }
   ],
   "source": [
    "print('Arnald' in my_string)"
   ]
  },
  {
   "cell_type": "code",
   "execution_count": 7,
   "id": "f8304827-f996-4fff-907e-73ecb1e6e48a",
   "metadata": {},
   "outputs": [
    {
     "name": "stdout",
     "output_type": "stream",
     "text": [
      "True\n"
     ]
    }
   ],
   "source": [
    "print('Po' in my_string) "
   ]
  },
  {
   "cell_type": "code",
   "execution_count": 8,
   "id": "f19f5132-4ed0-4dae-8db7-27e8fbaca13a",
   "metadata": {},
   "outputs": [
    {
     "name": "stdout",
     "output_type": "stream",
     "text": [
      "False\n"
     ]
    }
   ],
   "source": [
    "print('Coimbatore' in my_string)"
   ]
  },
  {
   "cell_type": "code",
   "execution_count": 9,
   "id": "95893379-8d6d-4515-afe6-195ad4abbab2",
   "metadata": {},
   "outputs": [],
   "source": [
    "my_list = [2, 3, 4, 6, 9]"
   ]
  },
  {
   "cell_type": "code",
   "execution_count": 10,
   "id": "42838f4e-4832-4c83-ba2b-32a8b0b2a6b9",
   "metadata": {},
   "outputs": [
    {
     "name": "stdout",
     "output_type": "stream",
     "text": [
      "True\n"
     ]
    }
   ],
   "source": [
    "print(3 in my_list)"
   ]
  },
  {
   "cell_type": "code",
   "execution_count": 11,
   "id": "4cfc8670-66bd-4734-b8b3-d4dac9ff13a6",
   "metadata": {},
   "outputs": [
    {
     "name": "stdout",
     "output_type": "stream",
     "text": [
      "False\n"
     ]
    }
   ],
   "source": [
    "print(10 in my_list)"
   ]
  },
  {
   "cell_type": "code",
   "execution_count": 12,
   "id": "94e433d2-097d-4cb9-bc8c-2469781cfdd1",
   "metadata": {},
   "outputs": [],
   "source": [
    "my_dict = {\n",
    "    1: 'apple',\n",
    "    2: 'orange',\n",
    "    3: 'choclate'\n",
    "}"
   ]
  },
  {
   "cell_type": "code",
   "execution_count": 13,
   "id": "8ee6c20d-29a0-495d-92ea-5395a930e225",
   "metadata": {},
   "outputs": [
    {
     "name": "stdout",
     "output_type": "stream",
     "text": [
      "True\n"
     ]
    }
   ],
   "source": [
    "print(1 in my_dict)"
   ]
  },
  {
   "cell_type": "code",
   "execution_count": 14,
   "id": "093fe67a-abe4-4913-8a18-db1c4546c37a",
   "metadata": {},
   "outputs": [
    {
     "name": "stdout",
     "output_type": "stream",
     "text": [
      "False\n"
     ]
    }
   ],
   "source": [
    "print(4 in my_dict)"
   ]
  },
  {
   "cell_type": "code",
   "execution_count": 16,
   "id": "9fbb78f9-4126-464f-b71b-5894fd0c3f81",
   "metadata": {},
   "outputs": [
    {
     "name": "stdout",
     "output_type": "stream",
     "text": [
      "False\n"
     ]
    }
   ],
   "source": [
    "print('orange' in my_dict)"
   ]
  },
  {
   "cell_type": "code",
   "execution_count": null,
   "id": "813ed386-48a8-47ab-be19-04f094c7b745",
   "metadata": {},
   "outputs": [],
   "source": []
  },
  {
   "cell_type": "code",
   "execution_count": null,
   "id": "8aa17a8e-7441-443d-8ea9-47d4bc0841bd",
   "metadata": {},
   "outputs": [],
   "source": []
  },
  {
   "cell_type": "code",
   "execution_count": null,
   "id": "4c9fa090-3db7-4930-9d51-448f94674141",
   "metadata": {},
   "outputs": [],
   "source": []
  },
  {
   "cell_type": "code",
   "execution_count": null,
   "id": "afe17800-0f41-4bd0-a1fc-75d366e9a685",
   "metadata": {},
   "outputs": [],
   "source": []
  },
  {
   "cell_type": "code",
   "execution_count": null,
   "id": "009aece7-7cfa-4562-b7ec-ce732f24b097",
   "metadata": {},
   "outputs": [],
   "source": []
  },
  {
   "cell_type": "code",
   "execution_count": null,
   "id": "098cb4c9-dd72-4999-9a2f-0058f6aca31c",
   "metadata": {},
   "outputs": [],
   "source": []
  },
  {
   "cell_type": "code",
   "execution_count": null,
   "id": "fd3efc8f-ddbf-4fe5-9024-93cbdd4351ff",
   "metadata": {},
   "outputs": [],
   "source": []
  }
 ],
 "metadata": {
  "kernelspec": {
   "display_name": "Python 3 (ipykernel)",
   "language": "python",
   "name": "python3"
  },
  "language_info": {
   "codemirror_mode": {
    "name": "ipython",
    "version": 3
   },
   "file_extension": ".py",
   "mimetype": "text/x-python",
   "name": "python",
   "nbconvert_exporter": "python",
   "pygments_lexer": "ipython3",
   "version": "3.12.8"
  }
 },
 "nbformat": 4,
 "nbformat_minor": 5
}
