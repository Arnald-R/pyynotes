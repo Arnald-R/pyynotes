{
 "cells": [
  {
   "cell_type": "code",
   "execution_count": null,
   "id": "2a46fd8d-562a-441f-b171-716ed2865318",
   "metadata": {},
   "outputs": [],
   "source": [
    "#createdat 20250120"
   ]
  },
  {
   "cell_type": "code",
   "execution_count": 1,
   "id": "9acaedb9-a782-46ab-8284-983b8a718edb",
   "metadata": {},
   "outputs": [],
   "source": [
    "https://www.scientecheasy.com/2022/09/identifiers-in-python.html/\n"
   ]
  },
  {
   "cell_type": "code",
   "execution_count": null,
   "id": "0af1186c-d03e-4945-bf47-0e53eda22412",
   "metadata": {},
   "outputs": [],
   "source": [
    "#identifiers\n",
    "we cannot use the keywords as identifiers"
   ]
  },
  {
   "cell_type": "code",
   "execution_count": 5,
   "id": "04b851bc-8b28-400f-a8cd-11a15d675c8a",
   "metadata": {},
   "outputs": [
    {
     "ename": "SyntaxError",
     "evalue": "invalid syntax (1551882446.py, line 1)",
     "output_type": "error",
     "traceback": [
      "\u001b[0;36m  Cell \u001b[0;32mIn[5], line 1\u001b[0;36m\u001b[0m\n\u001b[0;31m    class = 10\u001b[0m\n\u001b[0m          ^\u001b[0m\n\u001b[0;31mSyntaxError\u001b[0m\u001b[0;31m:\u001b[0m invalid syntax\n"
     ]
    }
   ],
   "source": [
    "class = 10\n",
    "print(class)"
   ]
  },
  {
   "cell_type": "code",
   "execution_count": 2,
   "id": "a58d7984-6d41-49cf-8d95-52a0cd003dff",
   "metadata": {},
   "outputs": [
    {
     "name": "stdout",
     "output_type": "stream",
     "text": [
      "RSVM\n"
     ]
    }
   ],
   "source": [
    "class_ = \"RSVM\"\n",
    "print(class_)\n"
   ]
  },
  {
   "cell_type": "code",
   "execution_count": 3,
   "id": "8a505202-5228-44db-8b77-ed9c0b84043c",
   "metadata": {},
   "outputs": [],
   "source": [
    "#Identifier may not include special symbols like !, @, #, $, % "
   ]
  },
  {
   "cell_type": "code",
   "execution_count": 4,
   "id": "2b8485f6-15f5-496a-809f-da298532c4d7",
   "metadata": {},
   "outputs": [
    {
     "ename": "SyntaxError",
     "evalue": "invalid syntax (566518699.py, line 1)",
     "output_type": "error",
     "traceback": [
      "\u001b[0;36m  Cell \u001b[0;32mIn[4], line 1\u001b[0;36m\u001b[0m\n\u001b[0;31m    schoola@ = \"mbhss\"\u001b[0m\n\u001b[0m             ^\u001b[0m\n\u001b[0;31mSyntaxError\u001b[0m\u001b[0;31m:\u001b[0m invalid syntax\n"
     ]
    }
   ],
   "source": [
    "schoola@ = \"mbhss\"\n",
    "print(school@)"
   ]
  },
  {
   "cell_type": "code",
   "execution_count": null,
   "id": "34ba83ab-0639-4024-9f19-5f17fe470211",
   "metadata": {},
   "outputs": [],
   "source": []
  }
 ],
 "metadata": {
  "kernelspec": {
   "display_name": "Python 3 (ipykernel)",
   "language": "python",
   "name": "python3"
  },
  "language_info": {
   "codemirror_mode": {
    "name": "ipython",
    "version": 3
   },
   "file_extension": ".py",
   "mimetype": "text/x-python",
   "name": "python",
   "nbconvert_exporter": "python",
   "pygments_lexer": "ipython3",
   "version": "3.12.8"
  }
 },
 "nbformat": 4,
 "nbformat_minor": 5
}
