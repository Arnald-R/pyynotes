{
 "cells": [
  {
   "cell_type": "code",
   "execution_count": null,
   "id": "65738100-ae65-4dd1-b805-ab9d8ed42505",
   "metadata": {},
   "outputs": [],
   "source": [
    "#created at 20250123"
   ]
  },
  {
   "cell_type": "code",
   "execution_count": null,
   "id": "cd08e0f7-e9b2-47e3-8083-41929f2fda4c",
   "metadata": {},
   "outputs": [],
   "source": [
    "https://www.scientecheasy.com/2022/10/expression-in-python.html/"
   ]
  },
  {
   "cell_type": "code",
   "execution_count": 1,
   "id": "b04d82d3-fc47-4312-a018-70fcea42e916",
   "metadata": {},
   "outputs": [
    {
     "name": "stdin",
     "output_type": "stream",
     "text": [
      "Enter the First number:  12\n"
     ]
    }
   ],
   "source": [
    "num1 = int(input(\"Enter the First number: \"))"
   ]
  },
  {
   "cell_type": "code",
   "execution_count": 2,
   "id": "1ae2ce0e-6164-40e6-8491-e33244e9dd6c",
   "metadata": {},
   "outputs": [
    {
     "name": "stdin",
     "output_type": "stream",
     "text": [
      "Enter the second number:  43\n"
     ]
    }
   ],
   "source": [
    "num2 = int(input(\"Enter the second number: \"))"
   ]
  },
  {
   "cell_type": "code",
   "execution_count": 4,
   "id": "e8aeede1-fb67-4fb9-a9da-2859e4222803",
   "metadata": {},
   "outputs": [
    {
     "name": "stdin",
     "output_type": "stream",
     "text": [
      "Enter the third number:  23\n"
     ]
    }
   ],
   "source": [
    "num3 = int(input(\"Enter the third number: \"))"
   ]
  },
  {
   "cell_type": "code",
   "execution_count": 5,
   "id": "410d1b90-463c-4e44-8e95-4c9a6d93d254",
   "metadata": {},
   "outputs": [
    {
     "name": "stdout",
     "output_type": "stream",
     "text": [
      "43 is greater than among the three numbers\n"
     ]
    }
   ],
   "source": [
    "if num1 > num2 and num1 > num3:\n",
    "    print(num1, \"is greater than among the three numbers\")\n",
    "elif num2 > num1 and num2 > num3:\n",
    "    print(num2, \"is greater than among the three numbers\")\n",
    "else:\n",
    "    print(num3,\"is greater than among the three  numbers\")"
   ]
  },
  {
   "cell_type": "code",
   "execution_count": 6,
   "id": "cdbfeee5-066f-4509-a93a-395f82b16bd2",
   "metadata": {},
   "outputs": [
    {
     "name": "stdin",
     "output_type": "stream",
     "text": [
      "Enter your age:  31\n"
     ]
    }
   ],
   "source": [
    "Age = int(input(\"Enter your age: \"))"
   ]
  },
  {
   "cell_type": "code",
   "execution_count": 8,
   "id": "9a6ad2a9-54af-4b30-9487-f37a3c714b51",
   "metadata": {},
   "outputs": [
    {
     "name": "stdout",
     "output_type": "stream",
     "text": [
      "You can cast vote.\n"
     ]
    }
   ],
   "source": [
    "if Age >= 18:\n",
    "    print('You can cast vote.')\n",
    "else:\n",
    "    print('You cannot cast vote.')\n"
   ]
  },
  {
   "cell_type": "code",
   "execution_count": 10,
   "id": "67a09be8-104d-4685-8c8f-36e19189c428",
   "metadata": {},
   "outputs": [],
   "source": [
    "p = 10"
   ]
  },
  {
   "cell_type": "code",
   "execution_count": 11,
   "id": "f12131e3-9a35-4406-a6d7-c2eb07f7809c",
   "metadata": {},
   "outputs": [],
   "source": [
    "q = 15"
   ]
  },
  {
   "cell_type": "code",
   "execution_count": 12,
   "id": "4f565138-4167-438c-9b0b-eda61766af0b",
   "metadata": {},
   "outputs": [],
   "source": [
    "r = 5"
   ]
  },
  {
   "cell_type": "code",
   "execution_count": 13,
   "id": "15ca4f98-8543-4518-a293-3e1313f134e6",
   "metadata": {},
   "outputs": [],
   "source": [
    "s = 20"
   ]
  },
  {
   "cell_type": "code",
   "execution_count": 14,
   "id": "1592f647-9a51-4b23-ab74-aefc3f89ac4c",
   "metadata": {},
   "outputs": [],
   "source": [
    "result = p > q and r > s"
   ]
  },
  {
   "cell_type": "code",
   "execution_count": 15,
   "id": "5357dbb0-b01d-45e8-8e95-f40134bef71b",
   "metadata": {},
   "outputs": [
    {
     "name": "stdout",
     "output_type": "stream",
     "text": [
      "Logical expression (p > q and r > s) returns  False\n"
     ]
    }
   ],
   "source": [
    "print(\"Logical expression (p > q and r > s) returns \", result)"
   ]
  },
  {
   "cell_type": "code",
   "execution_count": null,
   "id": "df7cb1f6-5c9b-4eea-a1a4-a980be0543f3",
   "metadata": {},
   "outputs": [],
   "source": []
  }
 ],
 "metadata": {
  "kernelspec": {
   "display_name": "Python 3 (ipykernel)",
   "language": "python",
   "name": "python3"
  },
  "language_info": {
   "codemirror_mode": {
    "name": "ipython",
    "version": 3
   },
   "file_extension": ".py",
   "mimetype": "text/x-python",
   "name": "python",
   "nbconvert_exporter": "python",
   "pygments_lexer": "ipython3",
   "version": "3.12.8"
  }
 },
 "nbformat": 4,
 "nbformat_minor": 5
}
