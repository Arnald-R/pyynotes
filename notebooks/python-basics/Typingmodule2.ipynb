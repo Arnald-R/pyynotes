{
 "cells": [
  {
   "cell_type": "code",
   "execution_count": 2,
   "id": "84089e1a-0f37-494f-9401-4bec4e7c4317",
   "metadata": {},
   "outputs": [],
   "source": [
    "#created at 20250130"
   ]
  },
  {
   "cell_type": "code",
   "execution_count": null,
   "id": "1c69a809-5c07-4c03-a0cf-44c09b58b82d",
   "metadata": {},
   "outputs": [],
   "source": [
    "https://stevejoe1412.gitbook.io/ssn/python-subtopics/typing-module"
   ]
  },
  {
   "cell_type": "code",
   "execution_count": null,
   "id": "613a59ff-3478-4b58-beed-5a16f8491e78",
   "metadata": {},
   "outputs": [],
   "source": [
    "# Using Union for Multiple Types\n"
   ]
  },
  {
   "cell_type": "code",
   "execution_count": 3,
   "id": "47cacfee-763f-41f5-b910-3ad905e52149",
   "metadata": {},
   "outputs": [],
   "source": [
    "from typing import Union"
   ]
  },
  {
   "cell_type": "code",
   "execution_count": 7,
   "id": "a88e2150-570e-4cbd-b379-3b3230a59ce3",
   "metadata": {},
   "outputs": [],
   "source": [
    "def square_or_length(value: Union[int, str]) -> str:\n",
    "    if isinstance(value, int):\n",
    "        return value ** 2\n",
    "    return len(value)"
   ]
  },
  {
   "cell_type": "code",
   "execution_count": 8,
   "id": "69069633-2e12-4743-90cd-e9a34ecbf079",
   "metadata": {},
   "outputs": [
    {
     "name": "stdout",
     "output_type": "stream",
     "text": [
      "16\n",
      "4\n"
     ]
    }
   ],
   "source": [
    "print(square_or_length(4))\n",
    "print(square_or_length(\"test\"))"
   ]
  },
  {
   "cell_type": "code",
   "execution_count": 9,
   "id": "dbc1f57f-60a3-441e-8c5b-e7d899342525",
   "metadata": {},
   "outputs": [],
   "source": [
    "#custom type aliases"
   ]
  },
  {
   "cell_type": "code",
   "execution_count": 10,
   "id": "2929cf93-e699-4153-8bf0-cac2e3101262",
   "metadata": {},
   "outputs": [],
   "source": [
    "from typing import List"
   ]
  },
  {
   "cell_type": "code",
   "execution_count": 12,
   "id": "00a64723-310e-4d70-a2e5-dabc25bceacb",
   "metadata": {},
   "outputs": [],
   "source": [
    "vector = List[float]"
   ]
  },
  {
   "cell_type": "code",
   "execution_count": 15,
   "id": "f4f281d9-5a01-4938-b399-3c402db40ab4",
   "metadata": {},
   "outputs": [],
   "source": [
    "def dot_product(vec1 : vector, vec2 : vector) -> float:\n",
    "    return sum(x * y for x , y in zip(vec1, vec2))"
   ]
  },
  {
   "cell_type": "code",
   "execution_count": 16,
   "id": "26933516-baec-45b3-ae56-d2b723d0efd5",
   "metadata": {},
   "outputs": [
    {
     "name": "stdout",
     "output_type": "stream",
     "text": [
      "11.0\n"
     ]
    }
   ],
   "source": [
    "print(dot_product([1.0, 2.0],[3.0, 4.0]))"
   ]
  },
  {
   "cell_type": "code",
   "execution_count": 17,
   "id": "c9dab04f-f1c0-4efa-b7bb-8cf802090742",
   "metadata": {},
   "outputs": [],
   "source": [
    "#using callable functions"
   ]
  },
  {
   "cell_type": "code",
   "execution_count": 18,
   "id": "f9ee2be8-38e2-4931-a43e-12a3126ad6fb",
   "metadata": {},
   "outputs": [],
   "source": [
    "from typing import Callable"
   ]
  },
  {
   "cell_type": "code",
   "execution_count": 19,
   "id": "984d8059-0644-4103-9977-073eb96b42f7",
   "metadata": {},
   "outputs": [],
   "source": [
    "def apply_operation(a: int, b: int, operation: Callable[[int , int], int]) -> int:\n",
    "    return operation(a,b)"
   ]
  },
  {
   "cell_type": "code",
   "execution_count": 20,
   "id": "5f858ae6-cd37-4700-a1ed-648f327921a9",
   "metadata": {},
   "outputs": [],
   "source": [
    "result = apply_operation(2, 3, lambda x, y: x + y)"
   ]
  },
  {
   "cell_type": "code",
   "execution_count": 21,
   "id": "855ee134-756a-4883-9d86-6343162d28fd",
   "metadata": {},
   "outputs": [
    {
     "name": "stdout",
     "output_type": "stream",
     "text": [
      "5\n"
     ]
    }
   ],
   "source": [
    "print(result)"
   ]
  },
  {
   "cell_type": "code",
   "execution_count": null,
   "id": "4a2d6fd4-29a0-46b4-b108-cd3f313199f6",
   "metadata": {},
   "outputs": [],
   "source": []
  }
 ],
 "metadata": {
  "kernelspec": {
   "display_name": "Python 3 (ipykernel)",
   "language": "python",
   "name": "python3"
  },
  "language_info": {
   "codemirror_mode": {
    "name": "ipython",
    "version": 3
   },
   "file_extension": ".py",
   "mimetype": "text/x-python",
   "name": "python",
   "nbconvert_exporter": "python",
   "pygments_lexer": "ipython3",
   "version": "3.12.8"
  }
 },
 "nbformat": 4,
 "nbformat_minor": 5
}
