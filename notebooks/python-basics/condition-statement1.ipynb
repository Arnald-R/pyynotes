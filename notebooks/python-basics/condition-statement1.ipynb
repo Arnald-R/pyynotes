{
 "cells": [
  {
   "cell_type": "code",
   "execution_count": 1,
   "id": "e3f7d376-dfb7-459b-ba9c-efa29d303510",
   "metadata": {},
   "outputs": [],
   "source": [
    "#created at20250123"
   ]
  },
  {
   "cell_type": "code",
   "execution_count": null,
   "id": "202f1984-1e06-4ef6-9e42-b76e6f97543d",
   "metadata": {},
   "outputs": [],
   "source": [
    "https://www.scientecheasy.com/2022/11/conditional-statements-in-python.html/"
   ]
  },
  {
   "cell_type": "code",
   "execution_count": 4,
   "id": "1d98baa3-1fae-4d36-a14c-4f63cc3ee28c",
   "metadata": {},
   "outputs": [],
   "source": [
    "x = 4"
   ]
  },
  {
   "cell_type": "code",
   "execution_count": 5,
   "id": "1af54489-22ec-467e-9679-a74cf7d1fecf",
   "metadata": {},
   "outputs": [],
   "source": [
    "y = 5 "
   ]
  },
  {
   "cell_type": "code",
   "execution_count": 6,
   "id": "75cd13e6-a6fd-41f0-8c80-adfccb8be810",
   "metadata": {},
   "outputs": [],
   "source": [
    "z = 6"
   ]
  },
  {
   "cell_type": "code",
   "execution_count": 8,
   "id": "77eb4e12-590b-4905-be2f-a77a7f892411",
   "metadata": {},
   "outputs": [],
   "source": [
    "s = (x + y + z) / 2"
   ]
  },
  {
   "cell_type": "code",
   "execution_count": 10,
   "id": "5809d89a-2d59-4753-8568-358af5803d99",
   "metadata": {},
   "outputs": [],
   "source": [
    "area = (s * (s - x) * (s - y) * (s - z) ** 0.5)"
   ]
  },
  {
   "cell_type": "code",
   "execution_count": 11,
   "id": "a0d9ba4f-52b5-4484-9164-986fcdcff6c3",
   "metadata": {},
   "outputs": [
    {
     "name": "stdout",
     "output_type": "stream",
     "text": [
      "Area of the triangle = 80.37\n"
     ]
    }
   ],
   "source": [
    "print(\"Area of the triangle = %0.2f\" %area)"
   ]
  },
  {
   "cell_type": "code",
   "execution_count": null,
   "id": "71595dc0-57be-4d08-ad74-dc708fb7b48d",
   "metadata": {},
   "outputs": [],
   "source": []
  },
  {
   "cell_type": "code",
   "execution_count": null,
   "id": "cb832f0c-5a5c-4d92-bc13-cca6476c45ea",
   "metadata": {},
   "outputs": [],
   "source": []
  },
  {
   "cell_type": "code",
   "execution_count": null,
   "id": "7deb1f62-1806-4ebd-82b7-d0859eaae576",
   "metadata": {},
   "outputs": [],
   "source": []
  }
 ],
 "metadata": {
  "kernelspec": {
   "display_name": "Python 3 (ipykernel)",
   "language": "python",
   "name": "python3"
  },
  "language_info": {
   "codemirror_mode": {
    "name": "ipython",
    "version": 3
   },
   "file_extension": ".py",
   "mimetype": "text/x-python",
   "name": "python",
   "nbconvert_exporter": "python",
   "pygments_lexer": "ipython3",
   "version": "3.12.8"
  }
 },
 "nbformat": 4,
 "nbformat_minor": 5
}
