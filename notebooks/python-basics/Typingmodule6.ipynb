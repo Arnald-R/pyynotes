{
 "cells": [
  {
   "cell_type": "code",
   "execution_count": 1,
   "id": "e13fec24-4bfb-4821-aa43-2cf5291ef74b",
   "metadata": {},
   "outputs": [],
   "source": [
    "#created at 20250131"
   ]
  },
  {
   "cell_type": "code",
   "execution_count": null,
   "id": "98113b1f-6953-41c0-9b92-32cce339822c",
   "metadata": {},
   "outputs": [],
   "source": [
    "https://chatgpt.com/c/679c622a-5318-800b-a323-68a368e854f9"
   ]
  },
  {
   "cell_type": "code",
   "execution_count": 2,
   "id": "1116552a-42d2-4bef-8a57-7e6d2d3d5e53",
   "metadata": {},
   "outputs": [],
   "source": [
    "#TypedDict"
   ]
  },
  {
   "cell_type": "code",
   "execution_count": 3,
   "id": "6ad4ad1c-f84d-4ffa-8b10-56799b97b162",
   "metadata": {},
   "outputs": [],
   "source": [
    "from typing import TypedDict"
   ]
  },
  {
   "cell_type": "code",
   "execution_count": 5,
   "id": "5f543da6-469d-42eb-945f-9fd5e02cff59",
   "metadata": {},
   "outputs": [],
   "source": [
    "class Person(TypedDict):\n",
    "    name: str\n",
    "    number: int"
   ]
  },
  {
   "cell_type": "code",
   "execution_count": 8,
   "id": "a3193fe7-f330-43a4-83b1-ca1dbeda4e3d",
   "metadata": {},
   "outputs": [],
   "source": [
    "p : Person = {\"name\": \"Arnald\",\"age\": 22}"
   ]
  },
  {
   "cell_type": "code",
   "execution_count": 9,
   "id": "194ad8c5-d4c7-4900-9ebc-94b8a7024766",
   "metadata": {},
   "outputs": [
    {
     "name": "stdout",
     "output_type": "stream",
     "text": [
      "Arnald 22\n"
     ]
    }
   ],
   "source": [
    "print(p[\"name\"],p[\"age\"])"
   ]
  },
  {
   "cell_type": "code",
   "execution_count": 10,
   "id": "d2a4f37b-9d28-4493-8d03-69b56728b1b2",
   "metadata": {},
   "outputs": [],
   "source": [
    "#Literal type"
   ]
  },
  {
   "cell_type": "code",
   "execution_count": 11,
   "id": "2db6f678-152a-4508-ac1e-ddf810efcd40",
   "metadata": {},
   "outputs": [],
   "source": [
    "from typing import Literal"
   ]
  },
  {
   "cell_type": "code",
   "execution_count": 12,
   "id": "8bc77b3b-7244-4c11-b832-a4e21a8da896",
   "metadata": {},
   "outputs": [],
   "source": [
    "def set_mode(mode: Literal[\"auto\", \"manual\"]) -> str:\n",
    "    return f\"Mode set to {mode}\""
   ]
  },
  {
   "cell_type": "code",
   "execution_count": 13,
   "id": "91527fe5-6a22-470c-b8e4-1c0fb779ebea",
   "metadata": {},
   "outputs": [
    {
     "name": "stdout",
     "output_type": "stream",
     "text": [
      "Mode set to auto\n"
     ]
    }
   ],
   "source": [
    "print(set_mode(\"auto\"))"
   ]
  },
  {
   "cell_type": "code",
   "execution_count": null,
   "id": "67b9e250-6643-411d-a9d9-066e38ab4fd8",
   "metadata": {},
   "outputs": [],
   "source": []
  }
 ],
 "metadata": {
  "kernelspec": {
   "display_name": "Python 3 (ipykernel)",
   "language": "python",
   "name": "python3"
  },
  "language_info": {
   "codemirror_mode": {
    "name": "ipython",
    "version": 3
   },
   "file_extension": ".py",
   "mimetype": "text/x-python",
   "name": "python",
   "nbconvert_exporter": "python",
   "pygments_lexer": "ipython3",
   "version": "3.12.8"
  }
 },
 "nbformat": 4,
 "nbformat_minor": 5
}
