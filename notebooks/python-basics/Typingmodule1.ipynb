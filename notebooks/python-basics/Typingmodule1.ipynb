{
 "cells": [
  {
   "cell_type": "code",
   "execution_count": null,
   "id": "f79e0a31-9fe2-4691-9e25-db080db73755",
   "metadata": {},
   "outputs": [],
   "source": [
    "#created at 20250130"
   ]
  },
  {
   "cell_type": "code",
   "execution_count": null,
   "id": "37e2bd88-43a6-408f-a17b-5cdda765d130",
   "metadata": {},
   "outputs": [],
   "source": [
    "https://stevejoe1412.gitbook.io/ssn/python-subtopics/typing-module"
   ]
  },
  {
   "cell_type": "code",
   "execution_count": null,
   "id": "ab13e7a2-9af2-487c-82df-44b9dfa606ae",
   "metadata": {},
   "outputs": [],
   "source": [
    "#Specifying Function Input and Output Types"
   ]
  },
  {
   "cell_type": "code",
   "execution_count": 1,
   "id": "58d82033-e3f3-4501-8e26-f066bf03251b",
   "metadata": {},
   "outputs": [],
   "source": [
    "from typing import List"
   ]
  },
  {
   "cell_type": "code",
   "execution_count": 4,
   "id": "3c2a065e-4027-4489-90f8-8daa02f898fb",
   "metadata": {},
   "outputs": [],
   "source": [
    "def sum_of_integers(numbers: List[int]) -> int:\n",
    "    return sum(numbers)"
   ]
  },
  {
   "cell_type": "code",
   "execution_count": 5,
   "id": "cfdd7711-00e2-4b9a-8104-ee8c159a9524",
   "metadata": {},
   "outputs": [
    {
     "name": "stdout",
     "output_type": "stream",
     "text": [
      "6\n"
     ]
    }
   ],
   "source": [
    "print(sum_of_integers([1, 2, 3]))"
   ]
  },
  {
   "cell_type": "code",
   "execution_count": 6,
   "id": "0f8cc0a0-5851-4f63-814d-5faf1cd70929",
   "metadata": {},
   "outputs": [],
   "source": [
    "#Using Optional for Nullable Parameters"
   ]
  },
  {
   "cell_type": "code",
   "execution_count": 7,
   "id": "656ab369-aa83-45e7-9f6e-e9a5ed5e9146",
   "metadata": {},
   "outputs": [],
   "source": [
    "from typing import Optional"
   ]
  },
  {
   "cell_type": "code",
   "execution_count": 8,
   "id": "2e868c50-957c-4dbf-801e-ad99e5b8fc69",
   "metadata": {},
   "outputs": [],
   "source": [
    "def greet(name: Optional[str] = None) -> str:\n",
    "    if name:\n",
    "        return f\"Hello, {name}!\"\n",
    "    return \"Hello,Guest!\"\n",
    "    "
   ]
  },
  {
   "cell_type": "code",
   "execution_count": 9,
   "id": "27b53389-3eae-4dd6-9fec-91ae690d2d58",
   "metadata": {},
   "outputs": [
    {
     "name": "stdout",
     "output_type": "stream",
     "text": [
      "Hello,Guest!\n"
     ]
    }
   ],
   "source": [
    "print(greet())"
   ]
  },
  {
   "cell_type": "code",
   "execution_count": 10,
   "id": "52c6da93-c873-4d1e-8f45-5dd56714f02c",
   "metadata": {},
   "outputs": [
    {
     "name": "stdout",
     "output_type": "stream",
     "text": [
      "Hello, Alice!\n"
     ]
    }
   ],
   "source": [
    "print(greet(\"Alice\"))"
   ]
  },
  {
   "cell_type": "code",
   "execution_count": 11,
   "id": "9c5f0acb-4050-4ff4-92be-40319af46ea3",
   "metadata": {},
   "outputs": [],
   "source": [
    "#Hint for dictionaries"
   ]
  },
  {
   "cell_type": "code",
   "execution_count": 12,
   "id": "e1038452-5d26-4b80-99ec-01cfc6aa9491",
   "metadata": {},
   "outputs": [],
   "source": [
    "from typing import Dict"
   ]
  },
  {
   "cell_type": "code",
   "execution_count": 13,
   "id": "39658fd9-2ba8-4ce0-8954-b97aafb6a06c",
   "metadata": {},
   "outputs": [],
   "source": [
    "def count_fruits(fruit_counts: Dict[str,int]) -> int :\n",
    "    return sum(fruit_counts.values())"
   ]
  },
  {
   "cell_type": "code",
   "execution_count": 14,
   "id": "149f2834-6f11-4a2e-9f8b-2936c929e9c8",
   "metadata": {},
   "outputs": [],
   "source": [
    "fruits = {\"apple\": 5,\"banana\": 6,\"watermelon\" :10}"
   ]
  },
  {
   "cell_type": "code",
   "execution_count": 15,
   "id": "1fdf10d3-c05d-413b-b037-fe0602c24585",
   "metadata": {},
   "outputs": [
    {
     "name": "stdout",
     "output_type": "stream",
     "text": [
      "21\n"
     ]
    }
   ],
   "source": [
    "print(count_fruits(fruits))"
   ]
  },
  {
   "cell_type": "code",
   "execution_count": null,
   "id": "527d45a3-132e-4259-83f6-dc88af8d98e9",
   "metadata": {},
   "outputs": [],
   "source": []
  }
 ],
 "metadata": {
  "kernelspec": {
   "display_name": "Python 3 (ipykernel)",
   "language": "python",
   "name": "python3"
  },
  "language_info": {
   "codemirror_mode": {
    "name": "ipython",
    "version": 3
   },
   "file_extension": ".py",
   "mimetype": "text/x-python",
   "name": "python",
   "nbconvert_exporter": "python",
   "pygments_lexer": "ipython3",
   "version": "3.12.8"
  }
 },
 "nbformat": 4,
 "nbformat_minor": 5
}
