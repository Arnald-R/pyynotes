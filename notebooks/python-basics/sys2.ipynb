{
 "cells": [
  {
   "cell_type": "code",
   "execution_count": 1,
   "id": "9db8c5b7-3efd-418d-a923-f37d922621b6",
   "metadata": {},
   "outputs": [],
   "source": [
    "#created at 20250204"
   ]
  },
  {
   "cell_type": "code",
   "execution_count": null,
   "id": "b96f2565-de63-4bb6-96f9-e62baebd8aba",
   "metadata": {},
   "outputs": [],
   "source": [
    "https://stevejoe1412.gitbook.io/ssn/python-subtopics/pythons-sys-module"
   ]
  },
  {
   "cell_type": "code",
   "execution_count": 2,
   "id": "7ead8ae7-8e47-424f-b077-ee7e2cbb34bb",
   "metadata": {},
   "outputs": [
    {
     "name": "stdout",
     "output_type": "stream",
     "text": [
      "Python version: 3.12.8 | packaged by Anaconda, Inc. | (main, Dec 11 2024, 16:31:09) [GCC 11.2.0]\n"
     ]
    }
   ],
   "source": [
    "import sys\n",
    "\n",
    "print(f\"Python version: {sys.version}\")"
   ]
  },
  {
   "cell_type": "code",
   "execution_count": 3,
   "id": "2a5cf7e6-7171-4375-a222-f48d36f5a786",
   "metadata": {},
   "outputs": [
    {
     "name": "stdout",
     "output_type": "stream",
     "text": [
      "Before modifying sys.path: ['/home/arnald/miniconda3/envs/py312/lib/python312.zip', '/home/arnald/miniconda3/envs/py312/lib/python3.12', '/home/arnald/miniconda3/envs/py312/lib/python3.12/lib-dynload', '', '/home/arnald/miniconda3/envs/py312/lib/python3.12/site-packages']\n",
      "After modifying sys.path: ['/home/arnald/miniconda3/envs/py312/lib/python312.zip', '/home/arnald/miniconda3/envs/py312/lib/python3.12', '/home/arnald/miniconda3/envs/py312/lib/python3.12/lib-dynload', '', '/home/arnald/miniconda3/envs/py312/lib/python3.12/site-packages', '/path/to/directory']\n"
     ]
    }
   ],
   "source": [
    "import sys\n",
    "\n",
    "# Print current sys.path\n",
    "print(\"Before modifying sys.path:\", sys.path)\n",
    "\n",
    "# Add a new path\n",
    "sys.path.append('/path/to/directory')\n",
    "\n",
    "# Print updated sys.path\n",
    "print(\"After modifying sys.path:\", sys.path)"
   ]
  },
  {
   "cell_type": "code",
   "execution_count": 4,
   "id": "48f88bbe-f289-420c-bc40-1679647fb964",
   "metadata": {},
   "outputs": [],
   "source": [
    "import sys"
   ]
  },
  {
   "cell_type": "code",
   "execution_count": 5,
   "id": "14c7056a-c602-47f1-811d-1469c48847e7",
   "metadata": {},
   "outputs": [
    {
     "name": "stdout",
     "output_type": "stream",
     "text": [
      "Size of list 'a': 88 bytes\n"
     ]
    }
   ],
   "source": [
    "a = [1, 2, 3]\n",
    "size = sys.getsizeof(a)\n",
    "print(f\"Size of list 'a': {size} bytes\")"
   ]
  },
  {
   "cell_type": "code",
   "execution_count": 6,
   "id": "2027e8d8-def1-4b2d-9e81-afeace14f356",
   "metadata": {},
   "outputs": [
    {
     "name": "stdout",
     "output_type": "stream",
     "text": [
      "This is a normal message.\n"
     ]
    },
    {
     "name": "stderr",
     "output_type": "stream",
     "text": [
      "This is an error message.\n"
     ]
    }
   ],
   "source": [
    "import sys\n",
    "\n",
    "print(\"This is a normal message.\")\n",
    "print(\"This is an error message.\", file=sys.stderr)"
   ]
  },
  {
   "cell_type": "code",
   "execution_count": null,
   "id": "ee4495a4-be1e-4d21-a8a1-877276972428",
   "metadata": {},
   "outputs": [],
   "source": []
  }
 ],
 "metadata": {
  "kernelspec": {
   "display_name": "Python 3 (ipykernel)",
   "language": "python",
   "name": "python3"
  },
  "language_info": {
   "codemirror_mode": {
    "name": "ipython",
    "version": 3
   },
   "file_extension": ".py",
   "mimetype": "text/x-python",
   "name": "python",
   "nbconvert_exporter": "python",
   "pygments_lexer": "ipython3",
   "version": "3.12.8"
  }
 },
 "nbformat": 4,
 "nbformat_minor": 5
}
