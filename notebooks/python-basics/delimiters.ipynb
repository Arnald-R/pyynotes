{
 "cells": [
  {
   "cell_type": "code",
   "execution_count": null,
   "id": "21f66d0a-2b6f-4d53-b8a3-0a24cd75c762",
   "metadata": {},
   "outputs": [],
   "source": [
    "#created at 202250120"
   ]
  },
  {
   "cell_type": "code",
   "execution_count": null,
   "id": "c099f008-9715-4ee2-882a-120596fd7688",
   "metadata": {},
   "outputs": [],
   "source": [
    "https://www.scientecheasy.com/2022/09/delimiters-in-python.html/"
   ]
  },
  {
   "cell_type": "code",
   "execution_count": 1,
   "id": "66117cf5-63ad-4cbf-8b07-61c3b4b5d66b",
   "metadata": {},
   "outputs": [],
   "source": [
    "#Python programming language, we use delimiters in the various sections such as to build expression, string literals, tuples, lists, or dictionaries."
   ]
  },
  {
   "cell_type": "code",
   "execution_count": 6,
   "id": "dbc61717-3632-4aaa-8261-1a0a5cac3f69",
   "metadata": {},
   "outputs": [
    {
     "name": "stdout",
     "output_type": "stream",
     "text": [
      "hi  dear im arnald,hello\n",
      "[1, 3, 45, 78]\n",
      "('banana', 'apple', 'orange')\n",
      "{'anu': 23, 'and': 24, 'ali': 21}\n"
     ]
    }
   ],
   "source": [
    "#string delimeter\n",
    "msg = 'hi  dear im arnald,hello'\n",
    "\n",
    "num = [1,3,45,78]\n",
    "\n",
    "#tuple\n",
    "\n",
    "fruit = ('banana','apple','orange')\n",
    "\n",
    "#dictionary\n",
    "\n",
    "stud_mark = {\n",
    "    \"anu\" : 23,\n",
    "    \"and\" : 24,\n",
    "    \"ali\" : 21 }\n",
    "\n",
    "print(msg)\n",
    "print(num)\n",
    "print(fruit)\n",
    "print(stud_mark)\n"
   ]
  },
  {
   "cell_type": "code",
   "execution_count": null,
   "id": "1f04f661-aafc-4f32-8887-f3834ccdb3e9",
   "metadata": {},
   "outputs": [],
   "source": []
  }
 ],
 "metadata": {
  "kernelspec": {
   "display_name": "Python 3 (ipykernel)",
   "language": "python",
   "name": "python3"
  },
  "language_info": {
   "codemirror_mode": {
    "name": "ipython",
    "version": 3
   },
   "file_extension": ".py",
   "mimetype": "text/x-python",
   "name": "python",
   "nbconvert_exporter": "python",
   "pygments_lexer": "ipython3",
   "version": "3.12.8"
  }
 },
 "nbformat": 4,
 "nbformat_minor": 5
}
