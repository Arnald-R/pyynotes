{
 "cells": [
  {
   "cell_type": "code",
   "execution_count": 1,
   "id": "1cedffdb-9710-4565-aadc-79149ca2f5d0",
   "metadata": {},
   "outputs": [],
   "source": [
    "#created at 20250125"
   ]
  },
  {
   "cell_type": "code",
   "execution_count": null,
   "id": "a66e0245-309a-4143-ac22-eeb02b8a4911",
   "metadata": {},
   "outputs": [],
   "source": [
    "https://www.scientecheasy.com/2022/11/break-statement-in-python.html/"
   ]
  },
  {
   "cell_type": "code",
   "execution_count": 5,
   "id": "d953c82a-68e1-42a4-8297-9fe29b541268",
   "metadata": {},
   "outputs": [
    {
     "name": "stdout",
     "output_type": "stream",
     "text": [
      "i 1\n",
      "i 2\n",
      "i 3\n",
      "i 4\n"
     ]
    }
   ],
   "source": [
    "for i in range( 1,6):\n",
    "    if i == 5:\n",
    "     break\n",
    "    print(\"i\",i)"
   ]
  },
  {
   "cell_type": "code",
   "execution_count": 6,
   "id": "4d77ef9c-c4da-4079-bd32-306284f680c7",
   "metadata": {},
   "outputs": [],
   "source": [
    "i = 1"
   ]
  },
  {
   "cell_type": "code",
   "execution_count": null,
   "id": "8ddce53a-7f13-4359-8ef1-955d5d54634c",
   "metadata": {},
   "outputs": [],
   "source": [
    "while i < 10:\n",
    "    if i == 6:\n",
    "        break\n",
    "    print(\"i value is :\",i)\n",
    "    i =i+1"
   ]
  },
  {
   "cell_type": "code",
   "execution_count": null,
   "id": "8f3ad642-a8fb-4e31-aa3b-5b9c8d2d010e",
   "metadata": {},
   "outputs": [],
   "source": []
  },
  {
   "cell_type": "code",
   "execution_count": null,
   "id": "8bd76a47-9c07-4bd6-9bb5-ce9b2e275b9d",
   "metadata": {},
   "outputs": [],
   "source": []
  },
  {
   "cell_type": "code",
   "execution_count": null,
   "id": "23e0b366-32a8-4f69-a2fe-464ca7a5c74f",
   "metadata": {},
   "outputs": [],
   "source": []
  }
 ],
 "metadata": {
  "kernelspec": {
   "display_name": "Python 3 (ipykernel)",
   "language": "python",
   "name": "python3"
  },
  "language_info": {
   "codemirror_mode": {
    "name": "ipython",
    "version": 3
   },
   "file_extension": ".py",
   "mimetype": "text/x-python",
   "name": "python",
   "nbconvert_exporter": "python",
   "pygments_lexer": "ipython3",
   "version": "3.12.8"
  }
 },
 "nbformat": 4,
 "nbformat_minor": 5
}
