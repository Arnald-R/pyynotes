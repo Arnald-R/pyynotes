{
 "cells": [
  {
   "cell_type": "code",
   "execution_count": 1,
   "id": "09ce4492-7c5e-4e06-b69a-490ba7976f8f",
   "metadata": {},
   "outputs": [],
   "source": [
    "#created at 20250204"
   ]
  },
  {
   "cell_type": "code",
   "execution_count": null,
   "id": "b45a899f-2e5f-4c24-bddc-a8ed0043a353",
   "metadata": {},
   "outputs": [],
   "source": [
    "https://stevejoe1412.gitbook.io/ssn/python-subtopics/handling-json-data"
   ]
  },
  {
   "cell_type": "code",
   "execution_count": 2,
   "id": "6b563757-cb9c-4779-8492-731dcec064f9",
   "metadata": {},
   "outputs": [],
   "source": [
    "import json"
   ]
  },
  {
   "cell_type": "code",
   "execution_count": 3,
   "id": "34fa2470-dbdb-4a9d-8f74-e76d4cf15d46",
   "metadata": {},
   "outputs": [],
   "source": [
    "data = {\"name\": \"Charlie\", \"age\": 35}\n",
    "\n",
    "with open('output.json', 'w') as file:\n",
    "    json.dump(data, file)"
   ]
  },
  {
   "cell_type": "code",
   "execution_count": 4,
   "id": "be06b051-ee29-4b63-b481-c1c9b23d753c",
   "metadata": {},
   "outputs": [],
   "source": [
    "import json"
   ]
  },
  {
   "cell_type": "code",
   "execution_count": 5,
   "id": "c3469887-869c-4ea4-b757-1c32c4023dec",
   "metadata": {},
   "outputs": [
    {
     "name": "stdout",
     "output_type": "stream",
     "text": [
      "{\n",
      "    \"name\": \"Dave\",\n",
      "    \"age\": 40\n",
      "}\n"
     ]
    }
   ],
   "source": [
    "data = {\"name\": \"Dave\", \"age\": 40}\n",
    "json_string = json.dumps(data, indent=4)\n",
    "\n",
    "print(json_string)  \n",
    "# Output: \n",
    "# {\n",
    "#     \"name\": \"Dave\",\n",
    "#     \"age\": 40\n",
    "# }"
   ]
  },
  {
   "cell_type": "code",
   "execution_count": 6,
   "id": "ca36f99b-0567-4a5f-8492-517b6e7c1cdd",
   "metadata": {},
   "outputs": [],
   "source": [
    "import json"
   ]
  },
  {
   "cell_type": "code",
   "execution_count": 7,
   "id": "0334745d-fd7d-457d-84f6-f687b43c06a4",
   "metadata": {},
   "outputs": [],
   "source": [
    "data = [1, 2, 3, 4, 5]\n",
    "json_string = json.dumps(data)"
   ]
  },
  {
   "cell_type": "code",
   "execution_count": 8,
   "id": "8edaed4a-7547-4148-b395-adb87539a5f7",
   "metadata": {},
   "outputs": [
    {
     "name": "stdout",
     "output_type": "stream",
     "text": [
      "[1, 2, 3, 4, 5]\n"
     ]
    }
   ],
   "source": [
    "print(json_string)  # Output: [1, 2, 3, 4, 5]"
   ]
  },
  {
   "cell_type": "code",
   "execution_count": 11,
   "id": "46ee88e3-3a01-4ae4-a77d-93ad73a4b303",
   "metadata": {},
   "outputs": [],
   "source": [
    "import json"
   ]
  },
  {
   "cell_type": "code",
   "execution_count": 12,
   "id": "1d3fe99b-149d-404c-adfa-bcd4d97ca2fd",
   "metadata": {},
   "outputs": [],
   "source": [
    "data = {\"greeting\": \"안녕하세요\"}\n",
    "json_string = json.dumps(data, ensure_ascii=False)\n"
   ]
  },
  {
   "cell_type": "code",
   "execution_count": 13,
   "id": "99702ad9-8880-4988-a2a0-76f6da80217f",
   "metadata": {},
   "outputs": [
    {
     "name": "stdout",
     "output_type": "stream",
     "text": [
      "{\"greeting\": \"안녕하세요\"}\n"
     ]
    }
   ],
   "source": [
    "print(json_string)  # Output: {\"greeting\": \"안녕하세요\"}"
   ]
  },
  {
   "cell_type": "code",
   "execution_count": null,
   "id": "69b35568-b153-415f-8c88-b5bf54442851",
   "metadata": {},
   "outputs": [],
   "source": []
  }
 ],
 "metadata": {
  "kernelspec": {
   "display_name": "Python 3 (ipykernel)",
   "language": "python",
   "name": "python3"
  },
  "language_info": {
   "codemirror_mode": {
    "name": "ipython",
    "version": 3
   },
   "file_extension": ".py",
   "mimetype": "text/x-python",
   "name": "python",
   "nbconvert_exporter": "python",
   "pygments_lexer": "ipython3",
   "version": "3.12.8"
  }
 },
 "nbformat": 4,
 "nbformat_minor": 5
}
