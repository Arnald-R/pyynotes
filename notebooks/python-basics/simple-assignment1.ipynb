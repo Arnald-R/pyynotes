{
 "cells": [
  {
   "cell_type": "code",
   "execution_count": 1,
   "id": "d777c218-0362-4400-b1ba-4f8fce438727",
   "metadata": {},
   "outputs": [],
   "source": [
    "#created at 20250121"
   ]
  },
  {
   "cell_type": "code",
   "execution_count": null,
   "id": "9e07a096-4dfc-47ed-95eb-ec976ad95061",
   "metadata": {},
   "outputs": [],
   "source": [
    "https://www.scientecheasy.com/2022/10/assignment-operators-in-python.html/"
   ]
  },
  {
   "cell_type": "code",
   "execution_count": 2,
   "id": "ed7d5df5-8ace-4961-8e63-95496ef27c81",
   "metadata": {},
   "outputs": [],
   "source": [
    "#division x /= y # It is equivalent to x = x / y. divide and assignment operator"
   ]
  },
  {
   "cell_type": "code",
   "execution_count": 4,
   "id": "5d4c3cf2-71b2-40d8-bfea-8ed59fc02ee5",
   "metadata": {},
   "outputs": [],
   "source": [
    "x = 20\n"
   ]
  },
  {
   "cell_type": "code",
   "execution_count": 5,
   "id": "05fcd62b-aeac-4e42-b802-674163802ae4",
   "metadata": {},
   "outputs": [],
   "source": [
    "y = 5\n"
   ]
  },
  {
   "cell_type": "code",
   "execution_count": 6,
   "id": "58ae362c-03b4-4d9a-8c65-f30de616ac70",
   "metadata": {},
   "outputs": [],
   "source": [
    "z = 100\n",
    "\n"
   ]
  },
  {
   "cell_type": "code",
   "execution_count": 7,
   "id": "310b1664-d831-4585-a261-aa26caf337f2",
   "metadata": {},
   "outputs": [],
   "source": [
    "x /= y # 20/5=4\n"
   ]
  },
  {
   "cell_type": "code",
   "execution_count": 8,
   "id": "3f5b8782-7cff-4b89-9b63-595543600682",
   "metadata": {},
   "outputs": [
    {
     "name": "stdout",
     "output_type": "stream",
     "text": [
      "Result of (x = x / y) =  4.0\n"
     ]
    }
   ],
   "source": [
    "print(\"Result of (x = x / y) = \", x)\n",
    "\n"
   ]
  },
  {
   "cell_type": "code",
   "execution_count": 10,
   "id": "fa1c9f02-da77-4898-af22-571a7dadd752",
   "metadata": {},
   "outputs": [],
   "source": [
    "z /= x * y #100/= 4*5=>100/20=5\n"
   ]
  },
  {
   "cell_type": "code",
   "execution_count": 11,
   "id": "c10d8165-2419-4e43-994f-79cc63b25f5d",
   "metadata": {},
   "outputs": [
    {
     "name": "stdout",
     "output_type": "stream",
     "text": [
      "Result =  0.25\n"
     ]
    }
   ],
   "source": [
    "print(\"Result = \", z)"
   ]
  },
  {
   "cell_type": "code",
   "execution_count": 12,
   "id": "dc075663-8647-4729-bfae-d1044249800d",
   "metadata": {},
   "outputs": [],
   "source": [
    "#modulus\n",
    "x = 211\n"
   ]
  },
  {
   "cell_type": "code",
   "execution_count": 13,
   "id": "0de95236-a38c-41d2-ac92-1ca876ebc514",
   "metadata": {},
   "outputs": [],
   "source": [
    "y = 5\n"
   ]
  },
  {
   "cell_type": "code",
   "execution_count": 14,
   "id": "9d5fa78a-c780-414b-8ee7-d266830b5ea7",
   "metadata": {},
   "outputs": [],
   "source": [
    "z = 100\n"
   ]
  },
  {
   "cell_type": "code",
   "execution_count": 15,
   "id": "5399657b-be7c-4236-a4a7-da1785425342",
   "metadata": {},
   "outputs": [],
   "source": [
    "x %= y #  1=211%5\n"
   ]
  },
  {
   "cell_type": "code",
   "execution_count": 16,
   "id": "6c33a5a1-0ab4-457e-9e5a-922a2c942ec9",
   "metadata": {},
   "outputs": [
    {
     "name": "stdout",
     "output_type": "stream",
     "text": [
      "Result of (x = x % y) =  1\n"
     ]
    }
   ],
   "source": [
    "print(\"Result of (x = x % y) = \", x)\n"
   ]
  },
  {
   "cell_type": "code",
   "execution_count": 17,
   "id": "9e190ffa-fc5b-4a6e-bc2e-ae0809938b17",
   "metadata": {},
   "outputs": [],
   "source": [
    "z %= x + y# 4=1+5\n"
   ]
  },
  {
   "cell_type": "code",
   "execution_count": 18,
   "id": "893d50e8-eb8b-4224-be82-5353ca157b50",
   "metadata": {},
   "outputs": [
    {
     "name": "stdout",
     "output_type": "stream",
     "text": [
      "Result =  4\n"
     ]
    }
   ],
   "source": [
    "print(\"Result = \", z)"
   ]
  },
  {
   "cell_type": "code",
   "execution_count": 19,
   "id": "d6f0d2d0-8350-424f-aa50-127bdbeaf979",
   "metadata": {},
   "outputs": [],
   "source": [
    "#x //= y # It's equivalent to x = x // y.\n",
    "x = 211"
   ]
  },
  {
   "cell_type": "code",
   "execution_count": 20,
   "id": "d6547c8f-ef20-49ed-9b49-de56c9d39402",
   "metadata": {},
   "outputs": [],
   "source": [
    "y = 5"
   ]
  },
  {
   "cell_type": "code",
   "execution_count": 22,
   "id": "52065374-6bce-4796-9b77-c20f0c08eb5f",
   "metadata": {},
   "outputs": [],
   "source": [
    "z = 100"
   ]
  },
  {
   "cell_type": "code",
   "execution_count": 23,
   "id": "fa9ce045-6909-41ee-8ae6-b057afbdd638",
   "metadata": {},
   "outputs": [],
   "source": [
    "x //= y# 42=211//5"
   ]
  },
  {
   "cell_type": "code",
   "execution_count": 24,
   "id": "d4716303-e115-4b06-94b6-f86ed58ddab9",
   "metadata": {},
   "outputs": [
    {
     "name": "stdout",
     "output_type": "stream",
     "text": [
      "Result of (x = x // y) =  42\n"
     ]
    }
   ],
   "source": [
    "print(\"Result of (x = x // y) = \", x)"
   ]
  },
  {
   "cell_type": "code",
   "execution_count": 25,
   "id": "2d186b35-00a2-49e1-a8ec-10a078236b91",
   "metadata": {},
   "outputs": [],
   "source": [
    "z //= x + y # 2=42+5"
   ]
  },
  {
   "cell_type": "code",
   "execution_count": 26,
   "id": "446aaf24-3858-4a83-8a3c-0c8e8ae1be06",
   "metadata": {},
   "outputs": [
    {
     "name": "stdout",
     "output_type": "stream",
     "text": [
      "Result =  2\n"
     ]
    }
   ],
   "source": [
    "print(\"Result = \", z)"
   ]
  },
  {
   "cell_type": "code",
   "execution_count": 27,
   "id": "d0e864f5-7ae6-40ac-b10e-220a3ce4a1a7",
   "metadata": {},
   "outputs": [],
   "source": [
    "#x **= y # It's equivalent to x = x ** y.\n"
   ]
  },
  {
   "cell_type": "code",
   "execution_count": 28,
   "id": "b6d96321-da23-45f4-9c43-44c71e8b3f66",
   "metadata": {},
   "outputs": [],
   "source": [
    "x = 2"
   ]
  },
  {
   "cell_type": "code",
   "execution_count": 29,
   "id": "25557fbb-a4d8-4b2f-a3ee-1cba84d8cdc0",
   "metadata": {},
   "outputs": [],
   "source": [
    "y = 5"
   ]
  },
  {
   "cell_type": "code",
   "execution_count": 30,
   "id": "25a8ef11-59c6-4223-adf0-36945f03f83c",
   "metadata": {},
   "outputs": [],
   "source": [
    "z = 2"
   ]
  },
  {
   "cell_type": "code",
   "execution_count": 31,
   "id": "9fd76dd5-a5a7-43f4-9d35-f7a9cec1c229",
   "metadata": {},
   "outputs": [],
   "source": [
    "x **= y# 32=2**5"
   ]
  },
  {
   "cell_type": "code",
   "execution_count": 32,
   "id": "d56c9f21-94d2-45ba-8a0f-79eba65a624e",
   "metadata": {},
   "outputs": [
    {
     "name": "stdout",
     "output_type": "stream",
     "text": [
      "Result of (x = x ** y) =  32\n"
     ]
    }
   ],
   "source": [
    "print(\"Result of (x = x ** y) = \", x)"
   ]
  },
  {
   "cell_type": "code",
   "execution_count": 35,
   "id": "7d9098b0-739d-442d-b69b-e1d7bc988fd6",
   "metadata": {},
   "outputs": [],
   "source": [
    "z **= x + y - 30"
   ]
  },
  {
   "cell_type": "code",
   "execution_count": 36,
   "id": "32be20f4-b008-4d48-9b39-927826fbcf21",
   "metadata": {},
   "outputs": [
    {
     "name": "stdout",
     "output_type": "stream",
     "text": [
      "Result =  17917957937422433684459538244547554224973163977877196279199912807710334969441287563047019946172856926208\n"
     ]
    }
   ],
   "source": [
    "print(\"Result = \", z)"
   ]
  },
  {
   "cell_type": "code",
   "execution_count": null,
   "id": "b1c4f45d-cb99-492e-bad9-fd079a0b2970",
   "metadata": {},
   "outputs": [],
   "source": []
  }
 ],
 "metadata": {
  "kernelspec": {
   "display_name": "Python 3 (ipykernel)",
   "language": "python",
   "name": "python3"
  },
  "language_info": {
   "codemirror_mode": {
    "name": "ipython",
    "version": 3
   },
   "file_extension": ".py",
   "mimetype": "text/x-python",
   "name": "python",
   "nbconvert_exporter": "python",
   "pygments_lexer": "ipython3",
   "version": "3.12.8"
  }
 },
 "nbformat": 4,
 "nbformat_minor": 5
}
