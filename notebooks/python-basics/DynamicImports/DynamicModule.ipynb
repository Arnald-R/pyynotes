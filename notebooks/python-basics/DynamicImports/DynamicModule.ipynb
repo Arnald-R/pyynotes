{
 "cells": [
  {
   "cell_type": "code",
   "execution_count": 1,
   "id": "261a9984-9127-4d5c-aec2-380319a5c910",
   "metadata": {},
   "outputs": [],
   "source": [
    "#created at 20250210"
   ]
  },
  {
   "cell_type": "code",
   "execution_count": null,
   "id": "85a5a26c-46dc-40cd-8314-98dbd8699c20",
   "metadata": {},
   "outputs": [],
   "source": [
    "https://stevejoe1412.gitbook.io/ssn/python-subtopics/6.-dynamic-imports"
   ]
  },
  {
   "cell_type": "code",
   "execution_count": 4,
   "id": "1408ea77-c6df-4bfa-9ff1-c29f5a50f71d",
   "metadata": {},
   "outputs": [
    {
     "name": "stdin",
     "output_type": "stream",
     "text": [
      "Enter a input module: math\n",
      "Enter a function name: factorial\n"
     ]
    },
    {
     "name": "stdout",
     "output_type": "stream",
     "text": [
      "120\n"
     ]
    }
   ],
   "source": [
    "import importlib\n",
    "module_name = input(\"Enter a input module:\")\n",
    "function_name = input(\"Enter a function name:\")\n",
    "\n",
    "module = importlib.import_module(module_name)\n",
    "function = getattr(module, function_name)\n",
    "\n",
    "print(function(5))"
   ]
  },
  {
   "cell_type": "code",
   "execution_count": null,
   "id": "fb9c4a92-b00a-484b-bcea-e1f72d1c9fa1",
   "metadata": {},
   "outputs": [],
   "source": []
  }
 ],
 "metadata": {
  "kernelspec": {
   "display_name": "Python 3 (ipykernel)",
   "language": "python",
   "name": "python3"
  },
  "language_info": {
   "codemirror_mode": {
    "name": "ipython",
    "version": 3
   },
   "file_extension": ".py",
   "mimetype": "text/x-python",
   "name": "python",
   "nbconvert_exporter": "python",
   "pygments_lexer": "ipython3",
   "version": "3.12.8"
  }
 },
 "nbformat": 4,
 "nbformat_minor": 5
}
