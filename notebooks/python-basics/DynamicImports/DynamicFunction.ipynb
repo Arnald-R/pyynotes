{
 "cells": [
  {
   "cell_type": "code",
   "execution_count": 1,
   "id": "16d90f27-2604-4d6d-990c-7d5da0b591b3",
   "metadata": {},
   "outputs": [],
   "source": [
    "#created at 20250210"
   ]
  },
  {
   "cell_type": "code",
   "execution_count": null,
   "id": "45f41a65-aaed-4233-be6c-48b10b83b142",
   "metadata": {},
   "outputs": [],
   "source": [
    "https://stevejoe1412.gitbook.io/ssn/python-subtopics/6.-dynamic-imports"
   ]
  },
  {
   "cell_type": "code",
   "execution_count": null,
   "id": "20b8b45f-65d7-40aa-bc65-d8539fa2faa0",
   "metadata": {},
   "outputs": [],
   "source": [
    "#Dynamically import a function from a Module"
   ]
  },
  {
   "cell_type": "code",
   "execution_count": null,
   "id": "22687002-5ca5-43d3-ab40-71f074ffc439",
   "metadata": {},
   "outputs": [],
   "source": []
  },
  {
   "cell_type": "code",
   "execution_count": 2,
   "id": "692bbb88-0bec-4e79-a15f-d7ec85d0f0b0",
   "metadata": {},
   "outputs": [
    {
     "name": "stdout",
     "output_type": "stream",
     "text": [
      "5.0\n"
     ]
    }
   ],
   "source": [
    "import importlib\n",
    "\n",
    "sqrt_function = getattr(importlib.import_module(\"math\"),\"sqrt\") \n",
    "print(sqrt_function(25))"
   ]
  },
  {
   "cell_type": "code",
   "execution_count": null,
   "id": "44d43ff2-f6f1-421b-af49-b76e386eddfb",
   "metadata": {},
   "outputs": [],
   "source": []
  }
 ],
 "metadata": {
  "kernelspec": {
   "display_name": "Python 3 (ipykernel)",
   "language": "python",
   "name": "python3"
  },
  "language_info": {
   "codemirror_mode": {
    "name": "ipython",
    "version": 3
   },
   "file_extension": ".py",
   "mimetype": "text/x-python",
   "name": "python",
   "nbconvert_exporter": "python",
   "pygments_lexer": "ipython3",
   "version": "3.12.8"
  }
 },
 "nbformat": 4,
 "nbformat_minor": 5
}
