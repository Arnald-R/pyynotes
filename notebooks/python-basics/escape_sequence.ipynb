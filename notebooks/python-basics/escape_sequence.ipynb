{
 "cells": [
  {
   "cell_type": "code",
   "execution_count": 1,
   "id": "24a54c5e-dac2-492c-818b-3f4aa1f843ef",
   "metadata": {},
   "outputs": [],
   "source": [
    "#createdat 20250120"
   ]
  },
  {
   "cell_type": "code",
   "execution_count": null,
   "id": "8b996eb3-d31a-4b4c-940f-0460c9def61b",
   "metadata": {},
   "outputs": [],
   "source": [
    "https://www.scientecheasy.com/2022/09/escape-sequence-in-python.html/"
   ]
  },
  {
   "cell_type": "code",
   "execution_count": 3,
   "id": "71ef31cc-9175-4b44-8cf9-bac7b12a78fe",
   "metadata": {},
   "outputs": [
    {
     "ename": "SyntaxError",
     "evalue": "invalid syntax. Perhaps you forgot a comma? (200330748.py, line 1)",
     "output_type": "error",
     "traceback": [
      "\u001b[0;36m  Cell \u001b[0;32mIn[3], line 1\u001b[0;36m\u001b[0m\n\u001b[0;31m    print('He said 'Python is fun unlimited'')\u001b[0m\n\u001b[0m          ^\u001b[0m\n\u001b[0;31mSyntaxError\u001b[0m\u001b[0;31m:\u001b[0m invalid syntax. Perhaps you forgot a comma?\n"
     ]
    }
   ],
   "source": [
    "print('He said 'Python is fun unlimited'')\n"
   ]
  },
  {
   "cell_type": "code",
   "execution_count": 2,
   "id": "1c57e34b-6ddd-4753-810b-f9cc9c08ca03",
   "metadata": {},
   "outputs": [
    {
     "name": "stdout",
     "output_type": "stream",
     "text": [
      "He said 'Python is fun unlimited'\n"
     ]
    }
   ],
   "source": [
    "print(\"He said 'Python is fun unlimited'\")\n"
   ]
  },
  {
   "cell_type": "code",
   "execution_count": 5,
   "id": "8cae065f-2580-48ac-ad82-8f086eb70927",
   "metadata": {},
   "outputs": [
    {
     "name": "stdout",
     "output_type": "stream",
     "text": [
      "Good Morning 'Arnald'\n"
     ]
    }
   ],
   "source": [
    "# \\’:\n",
    "print('Good Morning \\'Arnald\\'')"
   ]
  },
  {
   "cell_type": "code",
   "execution_count": 6,
   "id": "56acd916-42ac-4f36-b107-e2f26f854832",
   "metadata": {},
   "outputs": [
    {
     "name": "stdout",
     "output_type": "stream",
     "text": [
      "Welcome to \"Python class\"\n"
     ]
    }
   ],
   "source": [
    "# \\\":\n",
    "print(\"Welcome to \\\"Python class\\\"\")\n"
   ]
  },
  {
   "cell_type": "code",
   "execution_count": 8,
   "id": "6beb2890-aadb-40a2-b3ef-c27f8530792a",
   "metadata": {},
   "outputs": [
    {
     "name": "stdout",
     "output_type": "stream",
     "text": [
      "Welcome to\tNew home\n"
     ]
    }
   ],
   "source": [
    "# \\t:\n",
    "print(\"Welcome to\\tNew home\")\n"
   ]
  },
  {
   "cell_type": "code",
   "execution_count": 9,
   "id": "ecd9ddaf-8840-4611-8d7c-28ddcb6ee337",
   "metadata": {},
   "outputs": [
    {
     "name": "stdout",
     "output_type": "stream",
     "text": [
      "Good Morning \n",
      "Scientech Easy\n",
      "*\n",
      "**\n",
      "***\n",
      "\n"
     ]
    }
   ],
   "source": [
    "# \\n:\n",
    "print(\"Good Morning \\nScientech Easy\")\n",
    "print(\"*\\n**\\n***\\n\")\n"
   ]
  },
  {
   "cell_type": "code",
   "execution_count": 10,
   "id": "b1abc8da-4054-4ece-8bee-29465a998718",
   "metadata": {},
   "outputs": [
    {
     "name": "stdout",
     "output_type": "stream",
     "text": [
      "Good Evening \\Scientech Easy\\\n"
     ]
    }
   ],
   "source": [
    "# \\\\: \n",
    "print('Good Evening \\\\Scientech Easy\\\\')"
   ]
  },
  {
   "cell_type": "code",
   "execution_count": 16,
   "id": "b25484e6-2a01-4402-baa1-e6832bfa02ed",
   "metadata": {},
   "outputs": [
    {
     "name": "stdout",
     "output_type": "stream",
     "text": [
      "new letterng \n"
     ]
    }
   ],
   "source": [
    "# \\r: This escape sequence moves the output \\\n",
    "# point back to the beginning of the line without moving down a line (generally).\n",
    "print('Good Morning \\rnew letter')"
   ]
  },
  {
   "cell_type": "code",
   "execution_count": 11,
   "id": "ec537c2d-daa5-4270-be3b-7d7014d7bfc7",
   "metadata": {},
   "outputs": [
    {
     "name": "stdout",
     "output_type": "stream",
     "text": [
      "1. Hello 'Python\n",
      "2. Hello \"Python\n",
      "3. Hello \tPython\n",
      "4. Hello \n",
      "Python\n",
      "Pythonlo \n",
      "6. Hello \u0007 Python\n",
      "7. Hello \\Python\n",
      "8. \\ooo 20\n",
      "9. Hello \n",
      "Python\n",
      "10. HelloPython\n",
      "11. Hello \f",
      "Python\n",
      "12. Hello \u000b",
      "Python\n"
     ]
    },
    {
     "name": "stderr",
     "output_type": "stream",
     "text": [
      "<>:10: SyntaxWarning: invalid escape sequence '\\o'\n",
      "<>:10: SyntaxWarning: invalid escape sequence '\\o'\n",
      "/tmp/ipykernel_9809/2920431680.py:10: SyntaxWarning: invalid escape sequence '\\o'\n",
      "  print(\"8. \\ooo 20\")\n"
     ]
    }
   ],
   "source": [
    "#important escape sequence characters:\n",
    "\n",
    "print(\"1. Hello \\'Python\")\n",
    "print(\"2. Hello \\\"Python\")\n",
    "print(\"3. Hello \\tPython\")\n",
    "print(\"4. Hello \\nPython\")\n",
    "print(\"5. Hello \\rPython\")\n",
    "print(\"6. Hello \\a Python\")\n",
    "print(\"7. Hello \\\\Python\")\n",
    "print(\"8. \\ooo 20\")\n",
    "print(\"9. Hello \\nPython\")\n",
    "print(\"10. Hello \\bPython\")\n",
    "print(\"11. Hello \\fPython\")\n",
    "print(\"12. Hello \\vPython\")"
   ]
  },
  {
   "cell_type": "code",
   "execution_count": null,
   "id": "57233fa0-c44e-4ad4-92bd-e3c5056ba47b",
   "metadata": {},
   "outputs": [],
   "source": []
  }
 ],
 "metadata": {
  "kernelspec": {
   "display_name": "Python 3 (ipykernel)",
   "language": "python",
   "name": "python3"
  },
  "language_info": {
   "codemirror_mode": {
    "name": "ipython",
    "version": 3
   },
   "file_extension": ".py",
   "mimetype": "text/x-python",
   "name": "python",
   "nbconvert_exporter": "python",
   "pygments_lexer": "ipython3",
   "version": "3.12.8"
  }
 },
 "nbformat": 4,
 "nbformat_minor": 5
}
