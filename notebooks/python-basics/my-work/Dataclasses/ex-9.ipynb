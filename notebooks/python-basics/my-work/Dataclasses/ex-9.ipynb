{
 "cells": [
  {
   "cell_type": "code",
   "execution_count": 1,
   "id": "1ad9d96d-24fe-4ebf-8e49-70add4a4fdfe",
   "metadata": {},
   "outputs": [],
   "source": [
    "#created at 20250311"
   ]
  },
  {
   "cell_type": "code",
   "execution_count": null,
   "id": "a88d6963-a0dc-4c74-8318-4a1056723abd",
   "metadata": {},
   "outputs": [],
   "source": [
    "#https://stevejoe1412.gitbook.io/ssn/python-subtopics/3.-data-classes"
   ]
  },
  {
   "cell_type": "code",
   "execution_count": 2,
   "id": "a36a2f59-c84b-443f-be03-1b5808ed30d2",
   "metadata": {},
   "outputs": [],
   "source": [
    "#Inheriting from dataclass"
   ]
  },
  {
   "cell_type": "code",
   "execution_count": 3,
   "id": "232de01c-a7f5-4299-832f-0a48a68562f7",
   "metadata": {},
   "outputs": [],
   "source": [
    "from dataclasses import dataclass"
   ]
  },
  {
   "cell_type": "code",
   "execution_count": 4,
   "id": "e0d36063-e53c-4234-928f-f1b40e3bc604",
   "metadata": {},
   "outputs": [],
   "source": [
    "@dataclass\n",
    "class Animal:\n",
    "    name : str"
   ]
  },
  {
   "cell_type": "code",
   "execution_count": 5,
   "id": "b492eb0d-e953-4c91-aee7-29332350ab1e",
   "metadata": {},
   "outputs": [],
   "source": [
    "@dataclass\n",
    "class Dog(Animal):\n",
    "    breed : str"
   ]
  },
  {
   "cell_type": "code",
   "execution_count": 6,
   "id": "bbe8995c-78ad-4d58-b60d-8a1f313b4798",
   "metadata": {},
   "outputs": [],
   "source": [
    "dog = Dog(name =\"greeda\", breed =\"puppy\")"
   ]
  },
  {
   "cell_type": "code",
   "execution_count": 7,
   "id": "31659e71-69f4-4cad-8b7d-a784f6926e78",
   "metadata": {},
   "outputs": [
    {
     "name": "stdout",
     "output_type": "stream",
     "text": [
      "Dog(name='greeda', breed='puppy')\n"
     ]
    }
   ],
   "source": [
    "print(dog)"
   ]
  },
  {
   "cell_type": "code",
   "execution_count": null,
   "id": "a43d5a7a-fe3c-49dd-ac32-5a531b097f14",
   "metadata": {},
   "outputs": [],
   "source": []
  }
 ],
 "metadata": {
  "kernelspec": {
   "display_name": "Python 3 (ipykernel)",
   "language": "python",
   "name": "python3"
  },
  "language_info": {
   "codemirror_mode": {
    "name": "ipython",
    "version": 3
   },
   "file_extension": ".py",
   "mimetype": "text/x-python",
   "name": "python",
   "nbconvert_exporter": "python",
   "pygments_lexer": "ipython3",
   "version": "3.12.8"
  }
 },
 "nbformat": 4,
 "nbformat_minor": 5
}
