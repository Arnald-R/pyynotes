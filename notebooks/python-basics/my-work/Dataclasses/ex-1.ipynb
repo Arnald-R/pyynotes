{
 "cells": [
  {
   "cell_type": "code",
   "execution_count": 1,
   "id": "07b20843-9ac0-4b83-85ac-23126805ae50",
   "metadata": {},
   "outputs": [],
   "source": [
    "#created at 20250310"
   ]
  },
  {
   "cell_type": "code",
   "execution_count": null,
   "id": "32c20c78-d9d8-4832-bb88-4654f4247266",
   "metadata": {},
   "outputs": [],
   "source": [
    "#https://stevejoe1412.gitbook.io/ssn/python-subtopics/3.-data-classes"
   ]
  },
  {
   "cell_type": "code",
   "execution_count": null,
   "id": "0ace7a91-6578-444e-9e37-b7e77c75d4a5",
   "metadata": {},
   "outputs": [],
   "source": [
    "#Basic data classes"
   ]
  },
  {
   "cell_type": "code",
   "execution_count": 2,
   "id": "01ed57f6-5acc-496f-aad4-928b0616cab1",
   "metadata": {},
   "outputs": [],
   "source": [
    "from dataclasses import dataclass"
   ]
  },
  {
   "cell_type": "code",
   "execution_count": 4,
   "id": "d99aa525-46a1-43e2-9232-f6cf9682a510",
   "metadata": {},
   "outputs": [],
   "source": [
    "@dataclass\n",
    "class Person:\n",
    "    name: str\n",
    "    age : int"
   ]
  },
  {
   "cell_type": "code",
   "execution_count": 7,
   "id": "89250d67-50ee-43cd-a396-b750ca263a0a",
   "metadata": {},
   "outputs": [],
   "source": [
    "person = Person(name = \"Arnald\",age = 23)"
   ]
  },
  {
   "cell_type": "code",
   "execution_count": 8,
   "id": "d998a563-ac95-461d-b3d3-dd75681a95bd",
   "metadata": {},
   "outputs": [
    {
     "name": "stdout",
     "output_type": "stream",
     "text": [
      "Person(name='Arnald', age=23)\n"
     ]
    }
   ],
   "source": [
    "print(person)"
   ]
  },
  {
   "cell_type": "code",
   "execution_count": null,
   "id": "b6a05f0b-d824-4f94-9f76-8df6362208ca",
   "metadata": {},
   "outputs": [],
   "source": []
  }
 ],
 "metadata": {
  "kernelspec": {
   "display_name": "Python 3 (ipykernel)",
   "language": "python",
   "name": "python3"
  },
  "language_info": {
   "codemirror_mode": {
    "name": "ipython",
    "version": 3
   },
   "file_extension": ".py",
   "mimetype": "text/x-python",
   "name": "python",
   "nbconvert_exporter": "python",
   "pygments_lexer": "ipython3",
   "version": "3.12.8"
  }
 },
 "nbformat": 4,
 "nbformat_minor": 5
}
