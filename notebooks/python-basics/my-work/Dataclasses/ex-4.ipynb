{
 "cells": [
  {
   "cell_type": "code",
   "execution_count": 1,
   "id": "d601d132-60e2-4d91-8b4b-f3316c239094",
   "metadata": {},
   "outputs": [],
   "source": [
    "#created at 20250310"
   ]
  },
  {
   "cell_type": "code",
   "execution_count": null,
   "id": "6780d7df-71c3-4511-9915-133fa5a9c4a0",
   "metadata": {},
   "outputs": [],
   "source": [
    "#https://stevejoe1412.gitbook.io/ssn/python-subtopics/3.-data-classes"
   ]
  },
  {
   "cell_type": "code",
   "execution_count": null,
   "id": "1299ad7b-e622-4344-9b9b-698d571a05ec",
   "metadata": {},
   "outputs": [],
   "source": [
    "#Post initialization processing"
   ]
  },
  {
   "cell_type": "code",
   "execution_count": 1,
   "id": "19f64c34-f9a5-450b-ba96-61c9ed4be6a6",
   "metadata": {},
   "outputs": [],
   "source": [
    "from dataclasses import dataclass"
   ]
  },
  {
   "cell_type": "code",
   "execution_count": 13,
   "id": "6b9fcc6b-ebf3-47fd-80e1-a46efbadf4e2",
   "metadata": {},
   "outputs": [
    {
     "name": "stdout",
     "output_type": "stream",
     "text": [
      "50\n"
     ]
    }
   ],
   "source": [
    "@dataclass\n",
    "class Rectangle:\n",
    "    height : float\n",
    "    width  : float\n",
    "    area   : float = 0.0\n",
    "\n",
    "    \n"
   ]
  },
  {
   "cell_type": "code",
   "execution_count": 14,
   "id": "a71dee79-2502-4678-b0b8-8db31f0a806b",
   "metadata": {},
   "outputs": [],
   "source": [
    "def __post_init__(self):\n",
    "        self.area = self.height * self.width\n"
   ]
  },
  {
   "cell_type": "code",
   "execution_count": 15,
   "id": "5c1f2908-0c33-4cdf-898e-aa648ddd4fb2",
   "metadata": {},
   "outputs": [
    {
     "name": "stdout",
     "output_type": "stream",
     "text": [
      "50\n"
     ]
    }
   ],
   "source": [
    "rect = Rectangle(height=10, width=5)\n",
    "print(rect.area)"
   ]
  },
  {
   "cell_type": "code",
   "execution_count": null,
   "id": "6bab7849-afe9-4c9e-bbc4-3c5709e5e3cb",
   "metadata": {},
   "outputs": [],
   "source": []
  }
 ],
 "metadata": {
  "kernelspec": {
   "display_name": "Python 3 (ipykernel)",
   "language": "python",
   "name": "python3"
  },
  "language_info": {
   "codemirror_mode": {
    "name": "ipython",
    "version": 3
   },
   "file_extension": ".py",
   "mimetype": "text/x-python",
   "name": "python",
   "nbconvert_exporter": "python",
   "pygments_lexer": "ipython3",
   "version": "3.12.8"
  }
 },
 "nbformat": 4,
 "nbformat_minor": 5
}
