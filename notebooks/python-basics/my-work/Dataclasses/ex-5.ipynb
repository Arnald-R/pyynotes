{
 "cells": [
  {
   "cell_type": "code",
   "execution_count": 1,
   "id": "fc234268-9aa3-41f9-bd19-028f7b959fba",
   "metadata": {},
   "outputs": [],
   "source": [
    "#created at 20250310"
   ]
  },
  {
   "cell_type": "code",
   "execution_count": null,
   "id": "a1bcba67-3dc0-41e0-b1eb-0962d9ea7cde",
   "metadata": {},
   "outputs": [],
   "source": [
    "#https://stevejoe1412.gitbook.io/ssn/python-subtopics/3.-data-classes"
   ]
  },
  {
   "cell_type": "code",
   "execution_count": 1,
   "id": "a5824009-734b-4b3e-9288-f1527073dd89",
   "metadata": {},
   "outputs": [],
   "source": [
    "#comparing Data class Instance"
   ]
  },
  {
   "cell_type": "code",
   "execution_count": 1,
   "id": "6d8166af-f307-44d0-be9a-c61e1584e347",
   "metadata": {},
   "outputs": [],
   "source": [
    "from dataclasses import dataclass"
   ]
  },
  {
   "cell_type": "code",
   "execution_count": 7,
   "id": "e28a8ea6-ae93-454d-9303-96385fba7df4",
   "metadata": {},
   "outputs": [],
   "source": [
    "@dataclass\n",
    "class Item:\n",
    "    name  : str\n",
    "    price : float"
   ]
  },
  {
   "cell_type": "code",
   "execution_count": 8,
   "id": "68c2b8c1-0753-4bdd-bf4a-3c18d58909cc",
   "metadata": {},
   "outputs": [
    {
     "ename": "TypeError",
     "evalue": "Item.__init__() got an unexpected keyword argument 'Price'",
     "output_type": "error",
     "traceback": [
      "\u001b[0;31m---------------------------------------------------------------------------\u001b[0m",
      "\u001b[0;31mTypeError\u001b[0m                                 Traceback (most recent call last)",
      "Cell \u001b[0;32mIn[8], line 1\u001b[0m\n\u001b[0;32m----> 1\u001b[0m item \u001b[38;5;241m=\u001b[39m \u001b[43mItem\u001b[49m\u001b[43m(\u001b[49m\u001b[43mname\u001b[49m\u001b[38;5;241;43m=\u001b[39;49m\u001b[38;5;124;43m\"\u001b[39;49m\u001b[38;5;124;43mMac\u001b[39;49m\u001b[38;5;124;43m\"\u001b[39;49m\u001b[43m,\u001b[49m\u001b[43m \u001b[49m\u001b[43mPrice\u001b[49m\u001b[38;5;241;43m=\u001b[39;49m\u001b[38;5;241;43m1000\u001b[39;49m\u001b[43m)\u001b[49m\n\u001b[1;32m      2\u001b[0m item1\u001b[38;5;241m=\u001b[39m Item(name\u001b[38;5;241m=\u001b[39m\u001b[38;5;124m\"\u001b[39m\u001b[38;5;124mMac\u001b[39m\u001b[38;5;124m\"\u001b[39m, Price\u001b[38;5;241m=\u001b[39m\u001b[38;5;241m1000\u001b[39m)\n\u001b[1;32m      3\u001b[0m \u001b[38;5;28mprint\u001b[39m(item \u001b[38;5;241m==\u001b[39m item1)\n",
      "\u001b[0;31mTypeError\u001b[0m: Item.__init__() got an unexpected keyword argument 'Price'"
     ]
    }
   ],
   "source": [
    "item = Item(name=\"Mac\", Price=1000)\n",
    "item1= Item(name=\"Mac\", Price=1000)\n",
    "print(item == item1)"
   ]
  },
  {
   "cell_type": "code",
   "execution_count": null,
   "id": "5bf87912-7645-4b43-80b2-9459b17c689e",
   "metadata": {},
   "outputs": [],
   "source": []
  },
  {
   "cell_type": "code",
   "execution_count": null,
   "id": "dbb073ba-9901-46d6-93ba-f886596dce74",
   "metadata": {},
   "outputs": [],
   "source": []
  }
 ],
 "metadata": {
  "kernelspec": {
   "display_name": "Python 3 (ipykernel)",
   "language": "python",
   "name": "python3"
  },
  "language_info": {
   "codemirror_mode": {
    "name": "ipython",
    "version": 3
   },
   "file_extension": ".py",
   "mimetype": "text/x-python",
   "name": "python",
   "nbconvert_exporter": "python",
   "pygments_lexer": "ipython3",
   "version": "3.12.8"
  }
 },
 "nbformat": 4,
 "nbformat_minor": 5
}
