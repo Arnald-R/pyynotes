{
 "cells": [
  {
   "cell_type": "code",
   "execution_count": null,
   "id": "677369ef-9096-42e2-be8a-bd163ce416b9",
   "metadata": {},
   "outputs": [],
   "source": [
    "#created at 20250311"
   ]
  },
  {
   "cell_type": "code",
   "execution_count": null,
   "id": "7e9ab40a-f827-4e2c-8550-33ad2a276f98",
   "metadata": {},
   "outputs": [],
   "source": [
    "#https://stevejoe1412.gitbook.io/ssn/python-subtopics/3.-data-classes"
   ]
  },
  {
   "cell_type": "code",
   "execution_count": 1,
   "id": "91e9abe4-3c7b-4681-9e22-9f6cd8a1f353",
   "metadata": {},
   "outputs": [],
   "source": [
    "#Data classes with Type hints"
   ]
  },
  {
   "cell_type": "code",
   "execution_count": 2,
   "id": "cd0fcad7-8254-4ae3-87d9-46e8247247f1",
   "metadata": {},
   "outputs": [],
   "source": [
    "from dataclasses import dataclass"
   ]
  },
  {
   "cell_type": "code",
   "execution_count": 9,
   "id": "68050e71-a2ff-47fa-b0e8-b0b3973b4df7",
   "metadata": {},
   "outputs": [],
   "source": [
    "from typing import List"
   ]
  },
  {
   "cell_type": "code",
   "execution_count": 10,
   "id": "74f6ea7f-ef69-4428-911f-803481c85e12",
   "metadata": {},
   "outputs": [],
   "source": [
    "@dataclass\n",
    "class Room:\n",
    "    students : List[str]\n",
    "    teacher : str"
   ]
  },
  {
   "cell_type": "code",
   "execution_count": 11,
   "id": "fbef5247-c543-4f36-800a-e4d2102eeee5",
   "metadata": {},
   "outputs": [
    {
     "name": "stdout",
     "output_type": "stream",
     "text": [
      "Room(students=['Arnald', 'Anthony'], teacher='Praveen')\n"
     ]
    }
   ],
   "source": [
    "school = Room(students = [\"Arnald\",\"Anthony\"],teacher = \"Praveen\")\n",
    "print(school)"
   ]
  },
  {
   "cell_type": "code",
   "execution_count": null,
   "id": "5c64ff1c-097d-4f77-8cc6-f23acb4fa27e",
   "metadata": {},
   "outputs": [],
   "source": []
  }
 ],
 "metadata": {
  "kernelspec": {
   "display_name": "Python 3 (ipykernel)",
   "language": "python",
   "name": "python3"
  },
  "language_info": {
   "codemirror_mode": {
    "name": "ipython",
    "version": 3
   },
   "file_extension": ".py",
   "mimetype": "text/x-python",
   "name": "python",
   "nbconvert_exporter": "python",
   "pygments_lexer": "ipython3",
   "version": "3.12.8"
  }
 },
 "nbformat": 4,
 "nbformat_minor": 5
}
