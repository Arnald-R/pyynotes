{
 "cells": [
  {
   "cell_type": "code",
   "execution_count": null,
   "id": "770858ef-320d-4ae8-871c-77221e408547",
   "metadata": {},
   "outputs": [],
   "source": [
    "#creatd at 20250314"
   ]
  },
  {
   "cell_type": "code",
   "execution_count": null,
   "id": "f0c481e9-07a6-4fcf-9f86-bd79acc649e8",
   "metadata": {},
   "outputs": [],
   "source": [
    "#https://stevejoe1412.gitbook.io/ssn/python-subtopics/7.-function-annotations"
   ]
  },
  {
   "cell_type": "code",
   "execution_count": null,
   "id": "56c534e1-ea4b-42ae-9403-ac71c0048f1d",
   "metadata": {},
   "outputs": [],
   "source": [
    "#Annotation with Tuple"
   ]
  },
  {
   "cell_type": "code",
   "execution_count": 1,
   "id": "fb31973a-d6eb-4ef8-940e-f5f1ffe6a8b6",
   "metadata": {},
   "outputs": [],
   "source": [
    "from typing import Tuple"
   ]
  },
  {
   "cell_type": "code",
   "execution_count": 2,
   "id": "a8d07dbc-1918-4d59-9617-32b8748f408a",
   "metadata": {},
   "outputs": [],
   "source": [
    "def get_coordinates() ->Tuple[float,float]:\n",
    "    return 40.7128,-74.0060"
   ]
  },
  {
   "cell_type": "code",
   "execution_count": 3,
   "id": "886909e4-fe45-4fef-8060-2307d7bd1cf4",
   "metadata": {},
   "outputs": [
    {
     "name": "stdout",
     "output_type": "stream",
     "text": [
      "<function get_coordinates at 0x7dcb75973920>\n"
     ]
    }
   ],
   "source": [
    "print(get_coordinates)"
   ]
  },
  {
   "cell_type": "code",
   "execution_count": null,
   "id": "2e769dc9-ee3c-4339-83d0-b95b15ea3f03",
   "metadata": {},
   "outputs": [],
   "source": []
  }
 ],
 "metadata": {
  "kernelspec": {
   "display_name": "Python 3 (ipykernel)",
   "language": "python",
   "name": "python3"
  },
  "language_info": {
   "codemirror_mode": {
    "name": "ipython",
    "version": 3
   },
   "file_extension": ".py",
   "mimetype": "text/x-python",
   "name": "python",
   "nbconvert_exporter": "python",
   "pygments_lexer": "ipython3",
   "version": "3.12.8"
  }
 },
 "nbformat": 4,
 "nbformat_minor": 5
}
