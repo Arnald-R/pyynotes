{
 "cells": [
  {
   "cell_type": "code",
   "execution_count": null,
   "id": "948bd49b-7740-421c-9e48-f30ea91bcdc0",
   "metadata": {},
   "outputs": [],
   "source": [
    "#creatd at 20250314"
   ]
  },
  {
   "cell_type": "code",
   "execution_count": null,
   "id": "127b58bb-1fff-4900-a1a9-ca310491a0c8",
   "metadata": {},
   "outputs": [],
   "source": [
    "#https://stevejoe1412.gitbook.io/ssn/python-subtopics/7.-function-annotations"
   ]
  },
  {
   "cell_type": "code",
   "execution_count": null,
   "id": "a44cb29e-e0a0-4b1f-93c0-8edf5d17bb2e",
   "metadata": {},
   "outputs": [],
   "source": [
    "#Annotations for Callable objects"
   ]
  },
  {
   "cell_type": "code",
   "execution_count": 1,
   "id": "761cb420-2c81-4109-9352-8f5c6b0549f4",
   "metadata": {},
   "outputs": [],
   "source": [
    "from typing import Callable"
   ]
  },
  {
   "cell_type": "code",
   "execution_count": 2,
   "id": "9b67b5f1-7320-44e1-a1cd-8422b110ac51",
   "metadata": {},
   "outputs": [],
   "source": [
    "def execute(func : Callable[[int,int],int],a:int,b:int) -> int:\n",
    "    return func(a,b)"
   ]
  },
  {
   "cell_type": "code",
   "execution_count": 4,
   "id": "44d2c981-9ea9-494f-beb6-4b19f3b78848",
   "metadata": {},
   "outputs": [
    {
     "name": "stdout",
     "output_type": "stream",
     "text": [
      "30\n"
     ]
    }
   ],
   "source": [
    "print(execute(lambda x,y: x+y,10,20))"
   ]
  },
  {
   "cell_type": "code",
   "execution_count": null,
   "id": "1be093ba-32b7-4265-9b56-29d17fe0164c",
   "metadata": {},
   "outputs": [],
   "source": []
  }
 ],
 "metadata": {
  "kernelspec": {
   "display_name": "Python 3 (ipykernel)",
   "language": "python",
   "name": "python3"
  },
  "language_info": {
   "codemirror_mode": {
    "name": "ipython",
    "version": 3
   },
   "file_extension": ".py",
   "mimetype": "text/x-python",
   "name": "python",
   "nbconvert_exporter": "python",
   "pygments_lexer": "ipython3",
   "version": "3.12.8"
  }
 },
 "nbformat": 4,
 "nbformat_minor": 5
}
