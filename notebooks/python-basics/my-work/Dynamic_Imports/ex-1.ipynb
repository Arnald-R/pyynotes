{
 "cells": [
  {
   "cell_type": "code",
   "execution_count": null,
   "id": "3092e17c-2062-4122-9622-504a12ae8632",
   "metadata": {},
   "outputs": [],
   "source": [
    "#created at 20250313"
   ]
  },
  {
   "cell_type": "code",
   "execution_count": null,
   "id": "21f84800-1978-4d91-a2db-d6ec2f8fa436",
   "metadata": {},
   "outputs": [],
   "source": [
    "#https://stevejoe1412.gitbook.io/ssn/python-subtopics/6.-dynamic-imports"
   ]
  },
  {
   "cell_type": "code",
   "execution_count": null,
   "id": "fe04523b-cf89-4656-bc72-089e7a008987",
   "metadata": {},
   "outputs": [],
   "source": [
    "#Basic Dynamic Import of a Module"
   ]
  },
  {
   "cell_type": "code",
   "execution_count": 1,
   "id": "28a57741-3a82-4462-b2eb-cd22d32be7e5",
   "metadata": {},
   "outputs": [],
   "source": [
    "import importlib"
   ]
  },
  {
   "cell_type": "code",
   "execution_count": 2,
   "id": "bf18005a-eac8-4a5e-9d64-7a9ad9a092b6",
   "metadata": {},
   "outputs": [],
   "source": [
    "math_module = importlib.import_module(\"math\")"
   ]
  },
  {
   "cell_type": "code",
   "execution_count": 3,
   "id": "ceef90a9-94de-4f48-82ff-6917f1ed622e",
   "metadata": {},
   "outputs": [
    {
     "name": "stdout",
     "output_type": "stream",
     "text": [
      "4.0\n"
     ]
    }
   ],
   "source": [
    "print(math_module.sqrt(16))"
   ]
  },
  {
   "cell_type": "code",
   "execution_count": null,
   "id": "84d23be9-91b4-46e5-94a1-649a84db4974",
   "metadata": {},
   "outputs": [],
   "source": []
  }
 ],
 "metadata": {
  "kernelspec": {
   "display_name": "Python 3 (ipykernel)",
   "language": "python",
   "name": "python3"
  },
  "language_info": {
   "codemirror_mode": {
    "name": "ipython",
    "version": 3
   },
   "file_extension": ".py",
   "mimetype": "text/x-python",
   "name": "python",
   "nbconvert_exporter": "python",
   "pygments_lexer": "ipython3",
   "version": "3.12.8"
  }
 },
 "nbformat": 4,
 "nbformat_minor": 5
}
