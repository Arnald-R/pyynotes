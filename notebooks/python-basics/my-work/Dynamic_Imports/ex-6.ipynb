{
 "cells": [
  {
   "cell_type": "code",
   "execution_count": null,
   "id": "953bd691-4ad3-4f15-b1f0-253d396e205f",
   "metadata": {},
   "outputs": [],
   "source": [
    "#created at 20250313"
   ]
  },
  {
   "cell_type": "code",
   "execution_count": null,
   "id": "9116029a-28e5-4df6-a142-35560e363788",
   "metadata": {},
   "outputs": [],
   "source": [
    "#https://stevejoe1412.gitbook.io/ssn/python-subtopics/6.-dynamic-imports"
   ]
  },
  {
   "cell_type": "code",
   "execution_count": null,
   "id": "52aded98-ae12-4fb6-8701-7baa59d452ae",
   "metadata": {},
   "outputs": [],
   "source": [
    "#Dynamic import with fallback"
   ]
  },
  {
   "cell_type": "code",
   "execution_count": 1,
   "id": "352e19a8-eb23-4d16-a17e-3dd1ed801f80",
   "metadata": {},
   "outputs": [],
   "source": [
    "import importlib"
   ]
  },
  {
   "cell_type": "code",
   "execution_count": 2,
   "id": "e7fdc85b-ca48-4f18-866e-94c1a6ad699b",
   "metadata": {},
   "outputs": [],
   "source": [
    "module_name = \"nonexistent_module\""
   ]
  },
  {
   "cell_type": "code",
   "execution_count": 3,
   "id": "c77207f4-3862-415f-8694-df35edb2d074",
   "metadata": {},
   "outputs": [
    {
     "name": "stdout",
     "output_type": "stream",
     "text": [
      "module 'nonexistent_module' is not found.so falling back to 'math'.\n"
     ]
    }
   ],
   "source": [
    "try:\n",
    "    module = importlib.import_module(module_name) \n",
    "except ModuleNotFoundError:\n",
    "    print(f\"module '{module_name}' is not found.so falling back to 'math'.\")\n",
    "    module = importlib.import_module(\"math\")"
   ]
  },
  {
   "cell_type": "code",
   "execution_count": 4,
   "id": "1dd5991b-70d1-4ed3-97ef-7598edd57fbb",
   "metadata": {},
   "outputs": [
    {
     "name": "stdout",
     "output_type": "stream",
     "text": [
      "3.0\n"
     ]
    }
   ],
   "source": [
    "print(module.sqrt(9))"
   ]
  },
  {
   "cell_type": "code",
   "execution_count": null,
   "id": "ab0c3add-a800-4ecd-837a-e79f1b2efd11",
   "metadata": {},
   "outputs": [],
   "source": []
  }
 ],
 "metadata": {
  "kernelspec": {
   "display_name": "Python 3 (ipykernel)",
   "language": "python",
   "name": "python3"
  },
  "language_info": {
   "codemirror_mode": {
    "name": "ipython",
    "version": 3
   },
   "file_extension": ".py",
   "mimetype": "text/x-python",
   "name": "python",
   "nbconvert_exporter": "python",
   "pygments_lexer": "ipython3",
   "version": "3.12.8"
  }
 },
 "nbformat": 4,
 "nbformat_minor": 5
}
