{
 "cells": [
  {
   "cell_type": "code",
   "execution_count": null,
   "id": "22c65812-d8aa-4df5-a113-3da8568bd17c",
   "metadata": {},
   "outputs": [],
   "source": [
    "#created at 20250313"
   ]
  },
  {
   "cell_type": "code",
   "execution_count": null,
   "id": "037626c4-ae7f-4151-b3d1-a0ee4a913fa7",
   "metadata": {},
   "outputs": [],
   "source": []
  }
 ],
 "metadata": {
  "kernelspec": {
   "display_name": "Python 3 (ipykernel)",
   "language": "python",
   "name": "python3"
  },
  "language_info": {
   "codemirror_mode": {
    "name": "ipython",
    "version": 3
   },
   "file_extension": ".py",
   "mimetype": "text/x-python",
   "name": "python",
   "nbconvert_exporter": "python",
   "pygments_lexer": "ipython3",
   "version": "3.12.8"
  }
 },
 "nbformat": 4,
 "nbformat_minor": 5
}
