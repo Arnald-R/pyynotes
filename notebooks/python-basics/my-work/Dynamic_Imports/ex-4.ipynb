{
 "cells": [
  {
   "cell_type": "code",
   "execution_count": null,
   "id": "fdc739bb-b2ec-4ecb-9748-b43304a3aad2",
   "metadata": {},
   "outputs": [],
   "source": [
    "#created at 20250313"
   ]
  },
  {
   "cell_type": "code",
   "execution_count": null,
   "id": "4bcea1d1-82c1-4d50-a951-895327fb5671",
   "metadata": {},
   "outputs": [],
   "source": [
    "#https://stevejoe1412.gitbook.io/ssn/python-subtopics/6.-dynamic-imports"
   ]
  },
  {
   "cell_type": "code",
   "execution_count": null,
   "id": "9eca85a9-433d-4439-9611-a621e4c8da31",
   "metadata": {},
   "outputs": [],
   "source": [
    "#check if module exists before importing"
   ]
  },
  {
   "cell_type": "code",
   "execution_count": 1,
   "id": "fc23c2fc-a607-4853-b257-0a47db3ce939",
   "metadata": {},
   "outputs": [],
   "source": [
    "import importlib"
   ]
  },
  {
   "cell_type": "code",
   "execution_count": 2,
   "id": "f82bf84a-751d-4e7b-b0ce-8b584904637d",
   "metadata": {},
   "outputs": [],
   "source": [
    "module_name = \"random\""
   ]
  },
  {
   "cell_type": "code",
   "execution_count": 3,
   "id": "6686ccb0-a8c0-4141-b954-dd98404bcd8d",
   "metadata": {},
   "outputs": [
    {
     "name": "stdout",
     "output_type": "stream",
     "text": [
      "'random' imported successfully\n"
     ]
    }
   ],
   "source": [
    "try:\n",
    "    module = importlib.import_module(module_name)\n",
    "    print(f\"'{module_name}' imported successfully\")\n",
    "\n",
    "except ModuleNotFoundError:\n",
    "    print(f\"Module '{module_name}' not found\")"
   ]
  },
  {
   "cell_type": "code",
   "execution_count": null,
   "id": "29b59898-6d26-4e02-b08a-aced2903e870",
   "metadata": {},
   "outputs": [],
   "source": []
  }
 ],
 "metadata": {
  "kernelspec": {
   "display_name": "Python 3 (ipykernel)",
   "language": "python",
   "name": "python3"
  },
  "language_info": {
   "codemirror_mode": {
    "name": "ipython",
    "version": 3
   },
   "file_extension": ".py",
   "mimetype": "text/x-python",
   "name": "python",
   "nbconvert_exporter": "python",
   "pygments_lexer": "ipython3",
   "version": "3.12.8"
  }
 },
 "nbformat": 4,
 "nbformat_minor": 5
}
