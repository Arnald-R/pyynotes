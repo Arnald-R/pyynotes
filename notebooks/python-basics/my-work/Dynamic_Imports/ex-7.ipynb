{
 "cells": [
  {
   "cell_type": "code",
   "execution_count": null,
   "id": "6d0f8526-17d3-4d14-b557-57e2e6ad2653",
   "metadata": {},
   "outputs": [],
   "source": [
    "#created at 20250313"
   ]
  },
  {
   "cell_type": "code",
   "execution_count": null,
   "id": "2debfad9-228f-4e7f-b040-d7e0686039ad",
   "metadata": {},
   "outputs": [],
   "source": [
    "#https://stevejoe1412.gitbook.io/ssn/python-subtopics/6.-dynamic-imports"
   ]
  },
  {
   "cell_type": "code",
   "execution_count": null,
   "id": "0d506ef3-d89c-40aa-8095-1697ceb9d28a",
   "metadata": {},
   "outputs": [],
   "source": [
    "#Dynamic import of Multiple modules in a loop"
   ]
  },
  {
   "cell_type": "code",
   "execution_count": 1,
   "id": "0e03f6d8-c439-4d61-a460-bb442f84826e",
   "metadata": {},
   "outputs": [],
   "source": [
    "import importlib"
   ]
  },
  {
   "cell_type": "code",
   "execution_count": 2,
   "id": "0d7e87e2-7d48-40db-aa54-90981b4ffafe",
   "metadata": {},
   "outputs": [],
   "source": [
    "modules = [\"math\" , \"random\" , \"os\"]\n"
   ]
  },
  {
   "cell_type": "code",
   "execution_count": 3,
   "id": "3cd1149b-f908-45e6-aba0-ccf132c662aa",
   "metadata": {},
   "outputs": [],
   "source": [
    "imported_modules = {}"
   ]
  },
  {
   "cell_type": "code",
   "execution_count": 5,
   "id": "6108453e-9204-4d19-b991-961ccc12285d",
   "metadata": {},
   "outputs": [],
   "source": [
    "for module_name in modules:\n",
    "    imported_modules[module_name] = importlib.import_module(module_name)"
   ]
  },
  {
   "cell_type": "code",
   "execution_count": 6,
   "id": "7432d45c-ed97-4629-ac4f-f4d122aa526d",
   "metadata": {},
   "outputs": [
    {
     "name": "stdout",
     "output_type": "stream",
     "text": [
      "4.0\n"
     ]
    }
   ],
   "source": [
    "print(imported_modules[\"math\"].sqrt(16))"
   ]
  },
  {
   "cell_type": "code",
   "execution_count": 7,
   "id": "51805c7d-e9a9-47ef-bb6b-4939c61f97e5",
   "metadata": {},
   "outputs": [
    {
     "name": "stdout",
     "output_type": "stream",
     "text": [
      "9\n"
     ]
    }
   ],
   "source": [
    "print(imported_modules[\"random\"].randint(1,10))"
   ]
  },
  {
   "cell_type": "code",
   "execution_count": null,
   "id": "1dae84ad-61e6-4fee-8bb1-7f3d0fdd3b37",
   "metadata": {},
   "outputs": [],
   "source": []
  }
 ],
 "metadata": {
  "kernelspec": {
   "display_name": "Python 3 (ipykernel)",
   "language": "python",
   "name": "python3"
  },
  "language_info": {
   "codemirror_mode": {
    "name": "ipython",
    "version": 3
   },
   "file_extension": ".py",
   "mimetype": "text/x-python",
   "name": "python",
   "nbconvert_exporter": "python",
   "pygments_lexer": "ipython3",
   "version": "3.12.8"
  }
 },
 "nbformat": 4,
 "nbformat_minor": 5
}
