{
 "cells": [
  {
   "cell_type": "code",
   "execution_count": null,
   "id": "bbe89d02-b7fb-4bd8-8caf-2ee5f4041234",
   "metadata": {},
   "outputs": [],
   "source": [
    "#created at 20250313"
   ]
  },
  {
   "cell_type": "code",
   "execution_count": null,
   "id": "7022fcf1-def5-40d9-925f-5c0b2e5d6ecb",
   "metadata": {},
   "outputs": [],
   "source": [
    "#https://stevejoe1412.gitbook.io/ssn/python-subtopics/6.-dynamic-imports"
   ]
  },
  {
   "cell_type": "code",
   "execution_count": null,
   "id": "e87573d8-8f7a-4dc5-af4e-c490ac5b5f3f",
   "metadata": {},
   "outputs": [],
   "source": [
    "#Dynamic import with lazy loading"
   ]
  },
  {
   "cell_type": "code",
   "execution_count": 1,
   "id": "6a235396-b702-46ff-95ea-fa3cec3e93f8",
   "metadata": {},
   "outputs": [],
   "source": [
    "import importlib"
   ]
  },
  {
   "cell_type": "code",
   "execution_count": 2,
   "id": "51e7d927-ac24-44ba-b6d4-1d1d11070165",
   "metadata": {},
   "outputs": [],
   "source": [
    "def dynamic_import(module_name,function_name):\n",
    "    module = importlib.import_module(module_name)\n",
    "    return getattr(module, func_name)"
   ]
  },
  {
   "cell_type": "code",
   "execution_count": 5,
   "id": "42a750ab-a3fc-437b-b1fe-2fba31a82a2c",
   "metadata": {},
   "outputs": [
    {
     "ename": "NameError",
     "evalue": "name 'func_name' is not defined",
     "output_type": "error",
     "traceback": [
      "\u001b[0;31m---------------------------------------------------------------------------\u001b[0m",
      "\u001b[0;31mNameError\u001b[0m                                 Traceback (most recent call last)",
      "Cell \u001b[0;32mIn[5], line 1\u001b[0m\n\u001b[0;32m----> 1\u001b[0m sqrt_function \u001b[38;5;241m=\u001b[39m \u001b[43mdynamic_import\u001b[49m\u001b[43m(\u001b[49m\u001b[38;5;124;43m\"\u001b[39;49m\u001b[38;5;124;43mmath\u001b[39;49m\u001b[38;5;124;43m\"\u001b[39;49m\u001b[43m,\u001b[49m\u001b[38;5;124;43m\"\u001b[39;49m\u001b[38;5;124;43msqrt\u001b[39;49m\u001b[38;5;124;43m\"\u001b[39;49m\u001b[43m)\u001b[49m\n\u001b[1;32m      2\u001b[0m \u001b[38;5;28mprint\u001b[39m(sqrt_function(\u001b[38;5;241m49\u001b[39m))\n",
      "Cell \u001b[0;32mIn[2], line 3\u001b[0m, in \u001b[0;36mdynamic_import\u001b[0;34m(module_name, function_name)\u001b[0m\n\u001b[1;32m      1\u001b[0m \u001b[38;5;28;01mdef\u001b[39;00m\u001b[38;5;250m \u001b[39m\u001b[38;5;21mdynamic_import\u001b[39m(module_name,function_name):\n\u001b[1;32m      2\u001b[0m     module \u001b[38;5;241m=\u001b[39m importlib\u001b[38;5;241m.\u001b[39mimport_module(module_name)\n\u001b[0;32m----> 3\u001b[0m     \u001b[38;5;28;01mreturn\u001b[39;00m \u001b[38;5;28mgetattr\u001b[39m(module, \u001b[43mfunc_name\u001b[49m)\n",
      "\u001b[0;31mNameError\u001b[0m: name 'func_name' is not defined"
     ]
    }
   ],
   "source": [
    "sqrt_function = dynamic_import(\"math\",\"sqrt\")\n",
    "print(sqrt_function(49))"
   ]
  },
  {
   "cell_type": "raw",
   "id": "2e52757c-3482-41ed-bb91-a3fc33af0628",
   "metadata": {},
   "source": []
  }
 ],
 "metadata": {
  "kernelspec": {
   "display_name": "Python 3 (ipykernel)",
   "language": "python",
   "name": "python3"
  },
  "language_info": {
   "codemirror_mode": {
    "name": "ipython",
    "version": 3
   },
   "file_extension": ".py",
   "mimetype": "text/x-python",
   "name": "python",
   "nbconvert_exporter": "python",
   "pygments_lexer": "ipython3",
   "version": "3.12.8"
  }
 },
 "nbformat": 4,
 "nbformat_minor": 5
}
