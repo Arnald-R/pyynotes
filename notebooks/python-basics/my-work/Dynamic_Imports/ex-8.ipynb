{
 "cells": [
  {
   "cell_type": "code",
   "execution_count": null,
   "id": "017cd44a-1de6-4b01-ba67-f07825c930b9",
   "metadata": {},
   "outputs": [],
   "source": [
    "#created at 20250313"
   ]
  },
  {
   "cell_type": "code",
   "execution_count": null,
   "id": "6741c763-9d16-486e-ab67-0d3dab0f264f",
   "metadata": {},
   "outputs": [],
   "source": [
    "#https://stevejoe1412.gitbook.io/ssn/python-subtopics/6.-dynamic-imports"
   ]
  },
  {
   "cell_type": "code",
   "execution_count": null,
   "id": "522c9940-5de3-45da-9a9e-5443e987d996",
   "metadata": {},
   "outputs": [],
   "source": [
    "#Dynamic import and Method call using importlib"
   ]
  },
  {
   "cell_type": "code",
   "execution_count": 1,
   "id": "6adbadee-ba0d-4fe6-9981-db944eb5946d",
   "metadata": {},
   "outputs": [],
   "source": [
    "import importlib"
   ]
  },
  {
   "cell_type": "code",
   "execution_count": 2,
   "id": "3a665a54-3d8f-4b0a-88a3-1b92ca77a504",
   "metadata": {},
   "outputs": [],
   "source": [
    "module_name = \"os\""
   ]
  },
  {
   "cell_type": "code",
   "execution_count": 3,
   "id": "d0155abf-09c3-4506-a811-cee4c975b7b8",
   "metadata": {},
   "outputs": [],
   "source": [
    "method_name = \"getcwd\""
   ]
  },
  {
   "cell_type": "code",
   "execution_count": 4,
   "id": "c53f378a-cf29-4ab3-8022-653b2d700951",
   "metadata": {},
   "outputs": [],
   "source": [
    "module = importlib.import_module(module_name)"
   ]
  },
  {
   "cell_type": "code",
   "execution_count": 5,
   "id": "c3aeee51-44ca-4079-bff5-21e446b74552",
   "metadata": {},
   "outputs": [],
   "source": [
    "method = getattr(module, method_name)"
   ]
  },
  {
   "cell_type": "code",
   "execution_count": 6,
   "id": "a0385ce2-20eb-43d7-87f4-d20e68a8fe57",
   "metadata": {},
   "outputs": [
    {
     "name": "stdout",
     "output_type": "stream",
     "text": [
      "/home/arnald/tact/pyynotes/notebooks/python-basics/my-work/Dynamic_Imports\n"
     ]
    }
   ],
   "source": [
    "print(method())"
   ]
  },
  {
   "cell_type": "code",
   "execution_count": null,
   "id": "d848beff-419c-460b-9775-440bbb2883cf",
   "metadata": {},
   "outputs": [],
   "source": []
  }
 ],
 "metadata": {
  "kernelspec": {
   "display_name": "Python 3 (ipykernel)",
   "language": "python",
   "name": "python3"
  },
  "language_info": {
   "codemirror_mode": {
    "name": "ipython",
    "version": 3
   },
   "file_extension": ".py",
   "mimetype": "text/x-python",
   "name": "python",
   "nbconvert_exporter": "python",
   "pygments_lexer": "ipython3",
   "version": "3.12.8"
  }
 },
 "nbformat": 4,
 "nbformat_minor": 5
}
