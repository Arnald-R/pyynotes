{
 "cells": [
  {
   "cell_type": "code",
   "execution_count": null,
   "id": "808a6b3f-f7e6-4d59-a02d-1bd808c7e9fb",
   "metadata": {},
   "outputs": [],
   "source": [
    "#created at 20250311"
   ]
  },
  {
   "cell_type": "code",
   "execution_count": null,
   "id": "32eff631-8444-462b-a689-7ca695c524ca",
   "metadata": {},
   "outputs": [],
   "source": [
    "#https://stevejoe1412.gitbook.io/ssn/python-subtopics/4.-descriptor-protocols"
   ]
  },
  {
   "cell_type": "code",
   "execution_count": null,
   "id": "689d6aad-52f9-4a70-9d23-e0adfd18b6ea",
   "metadata": {},
   "outputs": [],
   "source": [
    "#Descriptor in Class Variables"
   ]
  },
  {
   "cell_type": "code",
   "execution_count": 1,
   "id": "1a42c8b6-2ba6-4e0a-9101-7bda947da32d",
   "metadata": {},
   "outputs": [],
   "source": [
    "class Descriptor:\n",
    "    def __get__(self,instance,owner):\n",
    "        return \"Class-Level Descriptor\""
   ]
  },
  {
   "cell_type": "code",
   "execution_count": 2,
   "id": "13c7c655-952a-4548-aea1-f994cac703cb",
   "metadata": {},
   "outputs": [],
   "source": [
    "class MyClass:\n",
    "    attribute = Descriptor()"
   ]
  },
  {
   "cell_type": "code",
   "execution_count": 3,
   "id": "468b0b4c-811b-4fa4-83d2-a5274e105363",
   "metadata": {},
   "outputs": [
    {
     "name": "stdout",
     "output_type": "stream",
     "text": [
      "Class-Level Descriptor\n"
     ]
    }
   ],
   "source": [
    "print(MyClass.attribute)"
   ]
  },
  {
   "cell_type": "code",
   "execution_count": null,
   "id": "ae4e2049-a5c1-4a00-b5de-55b9ea176106",
   "metadata": {},
   "outputs": [],
   "source": []
  }
 ],
 "metadata": {
  "kernelspec": {
   "display_name": "Python 3 (ipykernel)",
   "language": "python",
   "name": "python3"
  },
  "language_info": {
   "codemirror_mode": {
    "name": "ipython",
    "version": 3
   },
   "file_extension": ".py",
   "mimetype": "text/x-python",
   "name": "python",
   "nbconvert_exporter": "python",
   "pygments_lexer": "ipython3",
   "version": "3.12.8"
  }
 },
 "nbformat": 4,
 "nbformat_minor": 5
}
