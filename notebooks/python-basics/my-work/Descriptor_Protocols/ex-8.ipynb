{
 "cells": [
  {
   "cell_type": "code",
   "execution_count": null,
   "id": "6cccaa80-fcf5-4594-ae4e-4c75cfb7ba66",
   "metadata": {},
   "outputs": [],
   "source": [
    "#created at 20250311"
   ]
  },
  {
   "cell_type": "code",
   "execution_count": null,
   "id": "93f89f9d-c798-46f3-8218-ce87d128557d",
   "metadata": {},
   "outputs": [],
   "source": [
    "#https://stevejoe1412.gitbook.io/ssn/python-subtopics/4.-descriptor-protocols"
   ]
  },
  {
   "cell_type": "code",
   "execution_count": 1,
   "id": "f18d756d-8b79-4811-8db4-940f2fb3414a",
   "metadata": {},
   "outputs": [],
   "source": [
    "#Descriptor for multiple Attributes"
   ]
  },
  {
   "cell_type": "code",
   "execution_count": 2,
   "id": "96b9a371-0dfd-455f-af1c-d8232fc9df26",
   "metadata": {},
   "outputs": [],
   "source": [
    "class ControlledAttribute:\n",
    "    def __get__(self,instance,owner):\n",
    "        return instance.__dict__.get(self.name)\n",
    "\n",
    "    def __set__(self,instance,value):\n",
    "        print(f\"setting {self.name} to {value}\")\n",
    "        instance.__dict__[self.name] = value\n",
    "\n",
    "    def __set_name__(self,owner,name):\n",
    "        self.name = name"
   ]
  },
  {
   "cell_type": "code",
   "execution_count": 3,
   "id": "631914e5-2f5d-4707-b0b8-9ff8aad5d0f0",
   "metadata": {},
   "outputs": [],
   "source": [
    "class MyClass:\n",
    "    attr1 = ControlledAttribute()\n",
    "    attr2 = ControlledAttribute()"
   ]
  },
  {
   "cell_type": "code",
   "execution_count": 4,
   "id": "46ba2334-658b-4260-b813-a7d6d31d5e8f",
   "metadata": {},
   "outputs": [
    {
     "name": "stdout",
     "output_type": "stream",
     "text": [
      "setting attr1 to value1\n",
      "setting attr2 to value2\n"
     ]
    }
   ],
   "source": [
    "obj = MyClass()\n",
    "obj.attr1 = \"value1\"\n",
    "obj.attr2 = \"value2\""
   ]
  },
  {
   "cell_type": "code",
   "execution_count": 5,
   "id": "383d2c89-4910-4881-ab20-c2be27d95c9e",
   "metadata": {},
   "outputs": [
    {
     "name": "stdout",
     "output_type": "stream",
     "text": [
      "value1\n"
     ]
    }
   ],
   "source": [
    "print(obj.attr1)"
   ]
  },
  {
   "cell_type": "code",
   "execution_count": null,
   "id": "9aff35c4-d571-4d45-82e9-eafaadb5d20f",
   "metadata": {},
   "outputs": [],
   "source": []
  }
 ],
 "metadata": {
  "kernelspec": {
   "display_name": "Python 3 (ipykernel)",
   "language": "python",
   "name": "python3"
  },
  "language_info": {
   "codemirror_mode": {
    "name": "ipython",
    "version": 3
   },
   "file_extension": ".py",
   "mimetype": "text/x-python",
   "name": "python",
   "nbconvert_exporter": "python",
   "pygments_lexer": "ipython3",
   "version": "3.12.8"
  }
 },
 "nbformat": 4,
 "nbformat_minor": 5
}
