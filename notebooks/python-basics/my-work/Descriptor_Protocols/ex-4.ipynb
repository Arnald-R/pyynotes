{
 "cells": [
  {
   "cell_type": "code",
   "execution_count": null,
   "id": "be809070-295e-486a-a141-5b413f3afe3d",
   "metadata": {},
   "outputs": [],
   "source": [
    "#created at 20250311"
   ]
  },
  {
   "cell_type": "code",
   "execution_count": null,
   "id": "a85be96b-6432-41b6-97c7-00766870a97f",
   "metadata": {},
   "outputs": [],
   "source": [
    "#https://stevejoe1412.gitbook.io/ssn/python-subtopics/4.-descriptor-protocols"
   ]
  },
  {
   "cell_type": "code",
   "execution_count": 1,
   "id": "9abed303-786c-4dd5-8c9a-9affe7019deb",
   "metadata": {},
   "outputs": [],
   "source": [
    "#Non data Descriptor"
   ]
  },
  {
   "cell_type": "code",
   "execution_count": 5,
   "id": "04a34e3b-9a4d-4049-b0eb-314b4674cdc4",
   "metadata": {},
   "outputs": [],
   "source": [
    "class NonDataDescriptor:\n",
    "    def __get__(self,instance,owner):\n",
    "        return \"NonDataDescriptor\""
   ]
  },
  {
   "cell_type": "code",
   "execution_count": 6,
   "id": "6de32104-5645-4c10-b7d9-f97c8ca6c849",
   "metadata": {},
   "outputs": [],
   "source": [
    "class MyClass:\n",
    "    attribute = NonDataDescriptor() "
   ]
  },
  {
   "cell_type": "code",
   "execution_count": 7,
   "id": "f84b490f-cbfe-4aa1-bc27-b17cd3dded4e",
   "metadata": {},
   "outputs": [
    {
     "ename": "AttributeError",
     "evalue": "'MyClass' object has no attribute 'MyClass'",
     "output_type": "error",
     "traceback": [
      "\u001b[0;31m---------------------------------------------------------------------------\u001b[0m",
      "\u001b[0;31mAttributeError\u001b[0m                            Traceback (most recent call last)",
      "Cell \u001b[0;32mIn[7], line 2\u001b[0m\n\u001b[1;32m      1\u001b[0m obj \u001b[38;5;241m=\u001b[39m MyClass()\n\u001b[0;32m----> 2\u001b[0m \u001b[38;5;28mprint\u001b[39m(\u001b[43mobj\u001b[49m\u001b[38;5;241;43m.\u001b[39;49m\u001b[43mMyClass\u001b[49m)\n",
      "\u001b[0;31mAttributeError\u001b[0m: 'MyClass' object has no attribute 'MyClass'"
     ]
    }
   ],
   "source": [
    "obj = MyClass()\n",
    "print(obj.MyClass)"
   ]
  },
  {
   "cell_type": "code",
   "execution_count": null,
   "id": "a750be9d-d4db-4a19-b23f-4c58f598fd17",
   "metadata": {},
   "outputs": [],
   "source": []
  },
  {
   "cell_type": "code",
   "execution_count": null,
   "id": "154596db-9d04-49d2-b9a4-b0952f09cc1c",
   "metadata": {},
   "outputs": [],
   "source": []
  },
  {
   "cell_type": "code",
   "execution_count": null,
   "id": "f94194a9-448c-4d41-9027-526229859304",
   "metadata": {},
   "outputs": [],
   "source": []
  }
 ],
 "metadata": {
  "kernelspec": {
   "display_name": "Python 3 (ipykernel)",
   "language": "python",
   "name": "python3"
  },
  "language_info": {
   "codemirror_mode": {
    "name": "ipython",
    "version": 3
   },
   "file_extension": ".py",
   "mimetype": "text/x-python",
   "name": "python",
   "nbconvert_exporter": "python",
   "pygments_lexer": "ipython3",
   "version": "3.12.8"
  }
 },
 "nbformat": 4,
 "nbformat_minor": 5
}
