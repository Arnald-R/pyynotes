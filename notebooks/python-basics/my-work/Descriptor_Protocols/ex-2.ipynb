{
 "cells": [
  {
   "cell_type": "code",
   "execution_count": null,
   "id": "112dccc9-fa8b-48d0-85e2-8933a24eb517",
   "metadata": {},
   "outputs": [],
   "source": [
    "#created at 20250311"
   ]
  },
  {
   "cell_type": "code",
   "execution_count": null,
   "id": "59424111-bd62-4fad-9979-5eeeac8eee51",
   "metadata": {},
   "outputs": [],
   "source": [
    "#https://stevejoe1412.gitbook.io/ssn/python-subtopics/4.-descriptor-protocols"
   ]
  },
  {
   "cell_type": "code",
   "execution_count": 1,
   "id": "a884433e-66d6-42ea-a006-0c99c7e1e8bd",
   "metadata": {},
   "outputs": [],
   "source": [
    "#read-only Descriptor"
   ]
  },
  {
   "cell_type": "code",
   "execution_count": 3,
   "id": "57a5cda4-0c87-42e6-b0fb-3e21dcacc478",
   "metadata": {},
   "outputs": [],
   "source": [
    "class ReadOnlyDescriptor:\n",
    "    def __get__(self,instance,owner):\n",
    "        return \"This is an ReadOnlyDescriptor\"\n",
    "\n",
    "    def __set__(self,instance,value):\n",
    "        raise AttributeError(\"cannot define read-only-attribute\")"
   ]
  },
  {
   "cell_type": "code",
   "execution_count": 4,
   "id": "762730c3-e320-4cd4-93f9-c186b2201b5c",
   "metadata": {},
   "outputs": [],
   "source": [
    "class Myclass:\n",
    "    read_only = ReadOnlyDescriptor()\n",
    "    "
   ]
  },
  {
   "cell_type": "code",
   "execution_count": 5,
   "id": "ab003e67-c74b-4545-b3bd-3c9e2fde4539",
   "metadata": {},
   "outputs": [
    {
     "name": "stdout",
     "output_type": "stream",
     "text": [
      "This is an ReadOnlyDescriptor\n"
     ]
    }
   ],
   "source": [
    "obj = Myclass()\n",
    "print(obj.read_only)"
   ]
  },
  {
   "cell_type": "code",
   "execution_count": null,
   "id": "1f70692d-7ddc-454a-8601-bebd71261e30",
   "metadata": {},
   "outputs": [],
   "source": []
  }
 ],
 "metadata": {
  "kernelspec": {
   "display_name": "Python 3 (ipykernel)",
   "language": "python",
   "name": "python3"
  },
  "language_info": {
   "codemirror_mode": {
    "name": "ipython",
    "version": 3
   },
   "file_extension": ".py",
   "mimetype": "text/x-python",
   "name": "python",
   "nbconvert_exporter": "python",
   "pygments_lexer": "ipython3",
   "version": "3.12.8"
  }
 },
 "nbformat": 4,
 "nbformat_minor": 5
}
