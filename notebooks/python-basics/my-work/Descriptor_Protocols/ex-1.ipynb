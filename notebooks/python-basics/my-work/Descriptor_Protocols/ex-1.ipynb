{
 "cells": [
  {
   "cell_type": "code",
   "execution_count": null,
   "id": "1f35b07c-8a4b-4014-b66d-786c9c4c7764",
   "metadata": {},
   "outputs": [],
   "source": [
    "#created at 20250311"
   ]
  },
  {
   "cell_type": "code",
   "execution_count": null,
   "id": "9f0d7bc8-dd65-4cb0-9a45-88f11e1fe174",
   "metadata": {},
   "outputs": [],
   "source": [
    "#https://stevejoe1412.gitbook.io/ssn/python-subtopics/4.-descriptor-protocols"
   ]
  },
  {
   "cell_type": "code",
   "execution_count": 1,
   "id": "af621378-2577-41a9-a5da-e6bf54034e25",
   "metadata": {},
   "outputs": [],
   "source": [
    "#basic descriptor Example"
   ]
  },
  {
   "cell_type": "code",
   "execution_count": 3,
   "id": "3af4b164-0b02-4852-a132-204808e5d1cf",
   "metadata": {},
   "outputs": [],
   "source": [
    "class Descriptor :\n",
    "    def __get__(self,instance,owner):\n",
    "        print(\"Getting value\")\n",
    "        return instance._value\n",
    "\n",
    "    def __set__(self, instance, value):\n",
    "        print(\"setting value\")\n",
    "        instance._value = value"
   ]
  },
  {
   "cell_type": "code",
   "execution_count": 8,
   "id": "ba12fa05-e112-4afc-835c-ae3ed714daba",
   "metadata": {},
   "outputs": [
    {
     "ename": "NameError",
     "evalue": "name 'MyClass' is not defined",
     "output_type": "error",
     "traceback": [
      "\u001b[0;31m---------------------------------------------------------------------------\u001b[0m",
      "\u001b[0;31mNameError\u001b[0m                                 Traceback (most recent call last)",
      "Cell \u001b[0;32mIn[8], line 4\u001b[0m\n\u001b[1;32m      1\u001b[0m \u001b[38;5;28;01mclass\u001b[39;00m\u001b[38;5;250m \u001b[39m\u001b[38;5;21;01mMyclass\u001b[39;00m:\n\u001b[1;32m      2\u001b[0m     attribute \u001b[38;5;241m=\u001b[39m Descriptor()\n\u001b[0;32m----> 4\u001b[0m obj \u001b[38;5;241m=\u001b[39m \u001b[43mMyClass\u001b[49m()\n\u001b[1;32m      5\u001b[0m obj\u001b[38;5;241m.\u001b[39mattribute \u001b[38;5;241m=\u001b[39m \u001b[38;5;241m43\u001b[39m\n\u001b[1;32m      6\u001b[0m \u001b[38;5;28mprint\u001b[39m(obj\u001b[38;5;241m.\u001b[39mattribute)\n",
      "\u001b[0;31mNameError\u001b[0m: name 'MyClass' is not defined"
     ]
    }
   ],
   "source": [
    "class Myclass:\n",
    "    attribute = Descriptor()\n",
    "\n",
    "obj = MyClass()\n",
    "obj.attribute = 43\n",
    "print(obj.attribute)"
   ]
  },
  {
   "cell_type": "code",
   "execution_count": 5,
   "id": "90ad482b-604f-4982-ac66-aa84fb156380",
   "metadata": {},
   "outputs": [
    {
     "ename": "NameError",
     "evalue": "name 'MyClass' is not defined",
     "output_type": "error",
     "traceback": [
      "\u001b[0;31m---------------------------------------------------------------------------\u001b[0m",
      "\u001b[0;31mNameError\u001b[0m                                 Traceback (most recent call last)",
      "Cell \u001b[0;32mIn[5], line 1\u001b[0m\n\u001b[0;32m----> 1\u001b[0m obj \u001b[38;5;241m=\u001b[39m \u001b[43mMyClass\u001b[49m()\n\u001b[1;32m      2\u001b[0m obj\u001b[38;5;241m.\u001b[39mattribute(\u001b[38;5;241m42\u001b[39m)\n",
      "\u001b[0;31mNameError\u001b[0m: name 'MyClass' is not defined"
     ]
    }
   ],
   "source": []
  },
  {
   "cell_type": "code",
   "execution_count": null,
   "id": "0d5f15c4-4231-4752-b415-7e91aa15fc3b",
   "metadata": {},
   "outputs": [],
   "source": []
  }
 ],
 "metadata": {
  "kernelspec": {
   "display_name": "Python 3 (ipykernel)",
   "language": "python",
   "name": "python3"
  },
  "language_info": {
   "codemirror_mode": {
    "name": "ipython",
    "version": 3
   },
   "file_extension": ".py",
   "mimetype": "text/x-python",
   "name": "python",
   "nbconvert_exporter": "python",
   "pygments_lexer": "ipython3",
   "version": "3.12.8"
  }
 },
 "nbformat": 4,
 "nbformat_minor": 5
}
