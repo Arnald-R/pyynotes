{
 "cells": [
  {
   "cell_type": "code",
   "execution_count": 1,
   "id": "f41505a2-31a0-4db8-aac5-78ff4ce68ce7",
   "metadata": {},
   "outputs": [],
   "source": [
    "#created at 20250307"
   ]
  },
  {
   "cell_type": "code",
   "execution_count": null,
   "id": "9998d671-1f46-49e7-afc0-178787d1b957",
   "metadata": {},
   "outputs": [],
   "source": [
    "#https://stevejoe1412.gitbook.io/ssn/python-subtopics/1.-typing-module"
   ]
  },
  {
   "cell_type": "code",
   "execution_count": null,
   "id": "b22c6d13-dd93-4fa9-943a-2fc697ecf759",
   "metadata": {},
   "outputs": [],
   "source": [
    "#using lieral for specific values"
   ]
  },
  {
   "cell_type": "code",
   "execution_count": 2,
   "id": "cfd7a1ff-23e4-48d7-80d5-6d29f10e2573",
   "metadata": {},
   "outputs": [],
   "source": [
    "from typing import Literal"
   ]
  },
  {
   "cell_type": "code",
   "execution_count": 3,
   "id": "5a28187e-e039-4161-9742-75a6a552cf0d",
   "metadata": {},
   "outputs": [],
   "source": [
    "def new_plan(plan: Literal[\"Beginner\",\"senior\",\"junior\"]) -> str:\n",
    "    return f\"you selected {plan} of the chart\""
   ]
  },
  {
   "cell_type": "code",
   "execution_count": 4,
   "id": "2114ce0b-9d6d-4925-9c35-9452cdb918e0",
   "metadata": {},
   "outputs": [
    {
     "name": "stdout",
     "output_type": "stream",
     "text": [
      "you selected Beginner of the chart\n"
     ]
    }
   ],
   "source": [
    "print(new_plan(\"Beginner\"))"
   ]
  },
  {
   "cell_type": "code",
   "execution_count": null,
   "id": "955a878e-3fa2-47e6-9b55-98fd06a84995",
   "metadata": {},
   "outputs": [],
   "source": []
  }
 ],
 "metadata": {
  "kernelspec": {
   "display_name": "Python 3 (ipykernel)",
   "language": "python",
   "name": "python3"
  },
  "language_info": {
   "codemirror_mode": {
    "name": "ipython",
    "version": 3
   },
   "file_extension": ".py",
   "mimetype": "text/x-python",
   "name": "python",
   "nbconvert_exporter": "python",
   "pygments_lexer": "ipython3",
   "version": "3.12.8"
  }
 },
 "nbformat": 4,
 "nbformat_minor": 5
}
