{
 "cells": [
  {
   "cell_type": "code",
   "execution_count": 1,
   "id": "b27e1d25-adcc-43df-af87-8dc9b3553400",
   "metadata": {},
   "outputs": [],
   "source": [
    "#created at 20250307"
   ]
  },
  {
   "cell_type": "code",
   "execution_count": 2,
   "id": "b4ba377d-8f86-4b2d-b2c8-8d0cdf375fb4",
   "metadata": {},
   "outputs": [],
   "source": [
    "#https://stevejoe1412.gitbook.io/ssn/python-subtopics/1.-typing-module"
   ]
  },
  {
   "cell_type": "code",
   "execution_count": 3,
   "id": "1d665a52-bb6e-4a83-b22b-16f5e1bda963",
   "metadata": {},
   "outputs": [],
   "source": [
    "from typing import Union"
   ]
  },
  {
   "cell_type": "code",
   "execution_count": 5,
   "id": "6f529e30-722b-4570-b709-d066aba8aba2",
   "metadata": {},
   "outputs": [],
   "source": [
    "def square_r_length(value : Union[str,int]) -> int:\n",
    "    if isinstance(value,int):\n",
    "        return value ** 2\n",
    "    return len(value)"
   ]
  },
  {
   "cell_type": "code",
   "execution_count": 6,
   "id": "ed2ce8ab-cc36-4982-b39d-c73ebd2c63c3",
   "metadata": {},
   "outputs": [
    {
     "name": "stdout",
     "output_type": "stream",
     "text": [
      "16\n"
     ]
    }
   ],
   "source": [
    "print(square_r_length(4))"
   ]
  },
  {
   "cell_type": "code",
   "execution_count": 7,
   "id": "99bb7c84-cf91-4e08-a420-082f20068ba7",
   "metadata": {},
   "outputs": [
    {
     "name": "stdout",
     "output_type": "stream",
     "text": [
      "6\n"
     ]
    }
   ],
   "source": [
    "print(square_r_length(\"thanks\"))"
   ]
  },
  {
   "cell_type": "code",
   "execution_count": null,
   "id": "09dfa0ba-2ad9-41ae-86c9-13b8f4f43464",
   "metadata": {},
   "outputs": [],
   "source": []
  }
 ],
 "metadata": {
  "kernelspec": {
   "display_name": "Python 3 (ipykernel)",
   "language": "python",
   "name": "python3"
  },
  "language_info": {
   "codemirror_mode": {
    "name": "ipython",
    "version": 3
   },
   "file_extension": ".py",
   "mimetype": "text/x-python",
   "name": "python",
   "nbconvert_exporter": "python",
   "pygments_lexer": "ipython3",
   "version": "3.12.8"
  }
 },
 "nbformat": 4,
 "nbformat_minor": 5
}
