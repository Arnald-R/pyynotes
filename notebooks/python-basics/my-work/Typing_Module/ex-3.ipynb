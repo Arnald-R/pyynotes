{
 "cells": [
  {
   "cell_type": "code",
   "execution_count": 1,
   "id": "bf1951df-d47d-4758-8248-796755019b43",
   "metadata": {},
   "outputs": [],
   "source": [
    "#created at 20250307"
   ]
  },
  {
   "cell_type": "code",
   "execution_count": null,
   "id": "3d9b78a6-d303-42bb-9f0f-11677ab20cf5",
   "metadata": {},
   "outputs": [],
   "source": [
    "https://stevejoe1412.gitbook.io/ssn/python-subtopics/1.-typing-module"
   ]
  },
  {
   "cell_type": "code",
   "execution_count": 2,
   "id": "fb13e50a-1370-4d2e-ae77-b4b65c7ba305",
   "metadata": {},
   "outputs": [],
   "source": [
    "#Type Hint for Dictionaries"
   ]
  },
  {
   "cell_type": "code",
   "execution_count": 7,
   "id": "321be006-106c-48ed-b2a1-f753bc479607",
   "metadata": {},
   "outputs": [],
   "source": [
    "from typing import Dict"
   ]
  },
  {
   "cell_type": "code",
   "execution_count": 8,
   "id": "f1c33445-a73e-4474-9c06-93943eb704f0",
   "metadata": {},
   "outputs": [],
   "source": [
    "def count_fruits(fruit_count: Dict[str,int]) -> int:\n",
    "    return sum(fruit_count.values())\n",
    "    "
   ]
  },
  {
   "cell_type": "code",
   "execution_count": 9,
   "id": "f337174d-a085-429b-ae20-c747fed467de",
   "metadata": {},
   "outputs": [],
   "source": [
    "fruits = {\"apple\" : 3 ,\"orange\" : 4,\"banana\" : 7}"
   ]
  },
  {
   "cell_type": "code",
   "execution_count": 10,
   "id": "ea0a0721-1cb9-47e5-9324-80c8c3f66ae8",
   "metadata": {},
   "outputs": [
    {
     "name": "stdout",
     "output_type": "stream",
     "text": [
      "14\n"
     ]
    }
   ],
   "source": [
    "print(count_fruits(fruits))"
   ]
  },
  {
   "cell_type": "code",
   "execution_count": null,
   "id": "196d4926-41c0-4456-ad28-a38016bd8e77",
   "metadata": {},
   "outputs": [],
   "source": []
  }
 ],
 "metadata": {
  "kernelspec": {
   "display_name": "Python 3 (ipykernel)",
   "language": "python",
   "name": "python3"
  },
  "language_info": {
   "codemirror_mode": {
    "name": "ipython",
    "version": 3
   },
   "file_extension": ".py",
   "mimetype": "text/x-python",
   "name": "python",
   "nbconvert_exporter": "python",
   "pygments_lexer": "ipython3",
   "version": "3.12.8"
  }
 },
 "nbformat": 4,
 "nbformat_minor": 5
}
