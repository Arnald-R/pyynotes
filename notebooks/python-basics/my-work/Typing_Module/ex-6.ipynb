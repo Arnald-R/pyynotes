{
 "cells": [
  {
   "cell_type": "code",
   "execution_count": 1,
   "id": "028b59e6-de55-4fd3-aa27-21cb15989164",
   "metadata": {},
   "outputs": [],
   "source": [
    "#created at 20250307"
   ]
  },
  {
   "cell_type": "code",
   "execution_count": 2,
   "id": "68c9453a-2696-4fb8-b7b2-2f5ebddbf857",
   "metadata": {},
   "outputs": [],
   "source": [
    "#https://stevejoe1412.gitbook.io/ssn/python-subtopics/1.-typing-module"
   ]
  },
  {
   "cell_type": "code",
   "execution_count": 3,
   "id": "8255feb8-eb67-4288-9bdf-fd9960c7663a",
   "metadata": {},
   "outputs": [],
   "source": [
    "#using for Callable functions"
   ]
  },
  {
   "cell_type": "code",
   "execution_count": 4,
   "id": "db23f90d-50a4-4af6-af5a-01f29295ff17",
   "metadata": {},
   "outputs": [],
   "source": [
    "from typing import Callable"
   ]
  },
  {
   "cell_type": "code",
   "execution_count": 8,
   "id": "91b7b8ad-32a3-4d8f-9a4c-d36797dfc51e",
   "metadata": {},
   "outputs": [],
   "source": [
    "def apply(a : int, b : int, operation : Callable[[int,int],int])-> int :\n",
    "    return operation(a,b)"
   ]
  },
  {
   "cell_type": "code",
   "execution_count": 9,
   "id": "eedef2bc-9415-4c7b-8bd0-0335df5cf3c9",
   "metadata": {},
   "outputs": [],
   "source": [
    "result = apply(2,5,lambda x,y : x+y)"
   ]
  },
  {
   "cell_type": "code",
   "execution_count": 10,
   "id": "c17cb4cb-afd0-4508-92ba-838d184d3fab",
   "metadata": {},
   "outputs": [
    {
     "name": "stdout",
     "output_type": "stream",
     "text": [
      "7\n"
     ]
    }
   ],
   "source": [
    "print(result)"
   ]
  },
  {
   "cell_type": "code",
   "execution_count": null,
   "id": "7892e27e-b930-4d0b-ac47-d47f8bd7850c",
   "metadata": {},
   "outputs": [],
   "source": []
  }
 ],
 "metadata": {
  "kernelspec": {
   "display_name": "Python 3 (ipykernel)",
   "language": "python",
   "name": "python3"
  },
  "language_info": {
   "codemirror_mode": {
    "name": "ipython",
    "version": 3
   },
   "file_extension": ".py",
   "mimetype": "text/x-python",
   "name": "python",
   "nbconvert_exporter": "python",
   "pygments_lexer": "ipython3",
   "version": "3.12.8"
  }
 },
 "nbformat": 4,
 "nbformat_minor": 5
}
