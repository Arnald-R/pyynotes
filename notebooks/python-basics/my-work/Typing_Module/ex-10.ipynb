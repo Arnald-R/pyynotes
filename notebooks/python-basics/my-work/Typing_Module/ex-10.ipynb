{
 "cells": [
  {
   "cell_type": "code",
   "execution_count": 1,
   "id": "e72ba251-e6fd-4acb-8a0f-2ae005f5613b",
   "metadata": {},
   "outputs": [],
   "source": [
    "#created at 20250307"
   ]
  },
  {
   "cell_type": "code",
   "execution_count": 2,
   "id": "6d519138-045d-4ea0-a927-ea064e42309b",
   "metadata": {},
   "outputs": [],
   "source": [
    "#https://stevejoe1412.gitbook.io/ssn/python-subtopics/1.-typing-module"
   ]
  },
  {
   "cell_type": "code",
   "execution_count": null,
   "id": "a3e1a7eb-c7c8-41b6-bbca-6af93a38b5a7",
   "metadata": {},
   "outputs": [],
   "source": [
    "#using TypedDict for structered Dictionaries"
   ]
  },
  {
   "cell_type": "code",
   "execution_count": 3,
   "id": "64b5ead3-27ca-4e96-b980-76da2f9fa3ee",
   "metadata": {},
   "outputs": [],
   "source": [
    "from typing import TypedDict"
   ]
  },
  {
   "cell_type": "code",
   "execution_count": 4,
   "id": "538eb19f-ede5-40ad-be72-6ee9f060980d",
   "metadata": {},
   "outputs": [],
   "source": [
    "class User(TypedDict):\n",
    "    name = str\n",
    "    age  = int\n",
    "    email= str"
   ]
  },
  {
   "cell_type": "code",
   "execution_count": 14,
   "id": "67293eff-9606-4238-aaed-0168ad552167",
   "metadata": {},
   "outputs": [],
   "source": [
    "def display(user : User) -> str :\n",
    "    return f\"{user['name']}({user['age']}) and be reached {user['email']}\""
   ]
  },
  {
   "cell_type": "code",
   "execution_count": 15,
   "id": "97224dce-91a6-4d14-b116-a47f9d051104",
   "metadata": {},
   "outputs": [],
   "source": [
    "user = {\"name\": \"Arnald\",\"age\": 23,\"email\": \"arnald@gmail.com\"}"
   ]
  },
  {
   "cell_type": "code",
   "execution_count": 16,
   "id": "0f88c531-7ebd-441f-90f1-6e97080e029e",
   "metadata": {},
   "outputs": [
    {
     "name": "stdout",
     "output_type": "stream",
     "text": [
      "Arnald(23) and be reached arnald@gmail.com\n"
     ]
    }
   ],
   "source": [
    "print(display(user))"
   ]
  },
  {
   "cell_type": "code",
   "execution_count": null,
   "id": "ea1fdbf5-b745-44df-8b97-f7d106ec0e3a",
   "metadata": {},
   "outputs": [],
   "source": []
  }
 ],
 "metadata": {
  "kernelspec": {
   "display_name": "Python 3 (ipykernel)",
   "language": "python",
   "name": "python3"
  },
  "language_info": {
   "codemirror_mode": {
    "name": "ipython",
    "version": 3
   },
   "file_extension": ".py",
   "mimetype": "text/x-python",
   "name": "python",
   "nbconvert_exporter": "python",
   "pygments_lexer": "ipython3",
   "version": "3.12.8"
  }
 },
 "nbformat": 4,
 "nbformat_minor": 5
}
