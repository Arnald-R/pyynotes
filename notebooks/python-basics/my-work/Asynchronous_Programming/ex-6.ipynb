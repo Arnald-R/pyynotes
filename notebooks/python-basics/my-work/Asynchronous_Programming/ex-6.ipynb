{
 "cells": [
  {
   "cell_type": "code",
   "execution_count": null,
   "id": "49e926cf-9914-422d-9f80-e97fcc2eef32",
   "metadata": {},
   "outputs": [],
   "source": [
    "#created at 20250308"
   ]
  },
  {
   "cell_type": "code",
   "execution_count": null,
   "id": "2815bd18-5f5d-4517-b26e-7a7369bfc5fb",
   "metadata": {},
   "outputs": [],
   "source": [
    "#https://stevejoe1412.gitbook.io/ssn/python-subtopics/2.-asynchronous-programming"
   ]
  },
  {
   "cell_type": "code",
   "execution_count": 1,
   "id": "946d11d2-3a72-4435-a41c-a15565f01dd8",
   "metadata": {},
   "outputs": [],
   "source": [
    "#Timeouts with asyncio.wait_for"
   ]
  },
  {
   "cell_type": "code",
   "execution_count": 2,
   "id": "fdde6f87-60ef-4e7c-8234-930315b675a5",
   "metadata": {},
   "outputs": [],
   "source": [
    "import asyncio"
   ]
  },
  {
   "cell_type": "code",
   "execution_count": 3,
   "id": "409a2476-a144-4628-bdc8-795000f55496",
   "metadata": {},
   "outputs": [],
   "source": [
    "async def slow_task():\n",
    "    await asyncio.sleep(5)\n",
    "    return \"Task completed\""
   ]
  },
  {
   "cell_type": "code",
   "execution_count": 6,
   "id": "a4db5090-1bac-4e14-909b-46a528f0c65e",
   "metadata": {},
   "outputs": [
    {
     "ename": "SyntaxError",
     "evalue": "invalid syntax (4164017243.py, line 5)",
     "output_type": "error",
     "traceback": [
      "\u001b[0;36m  Cell \u001b[0;32mIn[6], line 5\u001b[0;36m\u001b[0m\n\u001b[0;31m    except asyncio TimeoutError\u001b[0m\n\u001b[0m                   ^\u001b[0m\n\u001b[0;31mSyntaxError\u001b[0m\u001b[0;31m:\u001b[0m invalid syntax\n"
     ]
    }
   ],
   "source": [
    "async def main():\n",
    "    try:\n",
    "        result = await asyncio.wait_for(slow_task(),timeout = 2)\n",
    "        print(result)\n",
    "    except asyncio TimeoutError\n",
    "        print(\"Task Timed out\")\n",
    "asyncio.run(main())"
   ]
  },
  {
   "cell_type": "code",
   "execution_count": null,
   "id": "717db785-d2ad-407a-9321-dcb6df4f9893",
   "metadata": {},
   "outputs": [],
   "source": []
  }
 ],
 "metadata": {
  "kernelspec": {
   "display_name": "Python 3 (ipykernel)",
   "language": "python",
   "name": "python3"
  },
  "language_info": {
   "codemirror_mode": {
    "name": "ipython",
    "version": 3
   },
   "file_extension": ".py",
   "mimetype": "text/x-python",
   "name": "python",
   "nbconvert_exporter": "python",
   "pygments_lexer": "ipython3",
   "version": "3.12.8"
  }
 },
 "nbformat": 4,
 "nbformat_minor": 5
}
