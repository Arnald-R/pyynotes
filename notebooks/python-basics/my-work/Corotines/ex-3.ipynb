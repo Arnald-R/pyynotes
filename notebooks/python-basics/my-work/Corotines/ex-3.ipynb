{
 "cells": [
  {
   "cell_type": "code",
   "execution_count": null,
   "id": "d4de53d0-5b1f-4668-9000-faf078c12d2d",
   "metadata": {},
   "outputs": [],
   "source": [
    "#creatd at 20250314"
   ]
  },
  {
   "cell_type": "code",
   "execution_count": null,
   "id": "b281a164-c0d3-486f-a1c4-bc76984b2430",
   "metadata": {},
   "outputs": [],
   "source": [
    "#https://stevejoe1412.gitbook.io/ssn/python-subtopics/8.-coroutines"
   ]
  },
  {
   "cell_type": "code",
   "execution_count": null,
   "id": "6a67a560-07f1-4557-a4ca-55aa4abf192c",
   "metadata": {},
   "outputs": [],
   "source": [
    "#coroutine for Accumulating values"
   ]
  },
  {
   "cell_type": "code",
   "execution_count": 6,
   "id": "32ca34f7-5516-4fc2-ab1d-b0ff0f920b2b",
   "metadata": {},
   "outputs": [],
   "source": [
    "def accumulator():\n",
    "    total = 0\n",
    "    while True:\n",
    "        value = yield total \n",
    "        total += value"
   ]
  },
  {
   "cell_type": "code",
   "execution_count": 7,
   "id": "1ed79536-2cad-4ae9-ba94-e26e92513e09",
   "metadata": {},
   "outputs": [],
   "source": [
    "coro = accumulator()"
   ]
  },
  {
   "cell_type": "code",
   "execution_count": 8,
   "id": "b411a9d4-de57-4675-a732-2fcb259f604a",
   "metadata": {},
   "outputs": [
    {
     "data": {
      "text/plain": [
       "0"
      ]
     },
     "execution_count": 8,
     "metadata": {},
     "output_type": "execute_result"
    }
   ],
   "source": [
    "next(coro)"
   ]
  },
  {
   "cell_type": "code",
   "execution_count": 9,
   "id": "187a73ba-4ba2-44f3-8ccf-ce1e89f7f3b1",
   "metadata": {},
   "outputs": [
    {
     "name": "stdout",
     "output_type": "stream",
     "text": [
      "34\n"
     ]
    }
   ],
   "source": [
    "print(coro.send(34))"
   ]
  },
  {
   "cell_type": "code",
   "execution_count": 10,
   "id": "eb06e1bd-c66b-41ca-8380-3a395bde65b4",
   "metadata": {},
   "outputs": [
    {
     "name": "stdout",
     "output_type": "stream",
     "text": [
      "79\n"
     ]
    }
   ],
   "source": [
    "print(coro.send(45))"
   ]
  },
  {
   "cell_type": "code",
   "execution_count": null,
   "id": "a0b840ed-2be1-4a19-b997-030040c9f005",
   "metadata": {},
   "outputs": [],
   "source": []
  }
 ],
 "metadata": {
  "kernelspec": {
   "display_name": "Python 3 (ipykernel)",
   "language": "python",
   "name": "python3"
  },
  "language_info": {
   "codemirror_mode": {
    "name": "ipython",
    "version": 3
   },
   "file_extension": ".py",
   "mimetype": "text/x-python",
   "name": "python",
   "nbconvert_exporter": "python",
   "pygments_lexer": "ipython3",
   "version": "3.12.8"
  }
 },
 "nbformat": 4,
 "nbformat_minor": 5
}
