{
 "cells": [
  {
   "cell_type": "code",
   "execution_count": null,
   "id": "1c8e9634-d768-4878-914c-e6755c2fce05",
   "metadata": {},
   "outputs": [],
   "source": [
    "#creatd at 20250314"
   ]
  },
  {
   "cell_type": "code",
   "execution_count": null,
   "id": "7236171e-cee5-4509-9db9-e5afa2f951a2",
   "metadata": {},
   "outputs": [],
   "source": [
    "#https://stevejoe1412.gitbook.io/ssn/python-subtopics/8.-coroutines"
   ]
  },
  {
   "cell_type": "code",
   "execution_count": null,
   "id": "1d1bf424-58c8-4757-aa54-b8874455a95a",
   "metadata": {},
   "outputs": [],
   "source": [
    "#Coroutine for Data filtering "
   ]
  },
  {
   "cell_type": "code",
   "execution_count": 1,
   "id": "f8cb9b9a-c1e7-4f5e-95b0-b4e6d7ade7c1",
   "metadata": {},
   "outputs": [],
   "source": [
    "def data_filter(threshold):\n",
    "    while True:\n",
    "        value = yield\n",
    "        if value > threshold:\n",
    "            print(f\"value '{value}' is above the '{threshold}'\")"
   ]
  },
  {
   "cell_type": "code",
   "execution_count": 3,
   "id": "e878b614-e948-4c4e-801e-7cc28919b716",
   "metadata": {},
   "outputs": [],
   "source": [
    "coro = data_filter(10)"
   ]
  },
  {
   "cell_type": "code",
   "execution_count": 5,
   "id": "1a916fc5-d2c4-49f2-885f-658af1f11027",
   "metadata": {},
   "outputs": [],
   "source": [
    "next(coro)"
   ]
  },
  {
   "cell_type": "code",
   "execution_count": 6,
   "id": "c0b071d8-ccab-474a-bc6b-85f826f75ecf",
   "metadata": {},
   "outputs": [],
   "source": [
    "coro.send(5)"
   ]
  },
  {
   "cell_type": "code",
   "execution_count": 7,
   "id": "96876f15-8a85-4730-a0c3-fdf4288979b3",
   "metadata": {},
   "outputs": [
    {
     "name": "stdout",
     "output_type": "stream",
     "text": [
      "value '12' is above the '10'\n"
     ]
    }
   ],
   "source": [
    "coro.send(12)"
   ]
  },
  {
   "cell_type": "code",
   "execution_count": 8,
   "id": "4ec2bb14-6ad0-4fcb-8296-4d66a3b67e47",
   "metadata": {},
   "outputs": [],
   "source": [
    "coro.send(10)"
   ]
  },
  {
   "cell_type": "code",
   "execution_count": null,
   "id": "22ba8ebb-64a7-4963-901f-43ccff5d6fd6",
   "metadata": {},
   "outputs": [],
   "source": []
  }
 ],
 "metadata": {
  "kernelspec": {
   "display_name": "Python 3 (ipykernel)",
   "language": "python",
   "name": "python3"
  },
  "language_info": {
   "codemirror_mode": {
    "name": "ipython",
    "version": 3
   },
   "file_extension": ".py",
   "mimetype": "text/x-python",
   "name": "python",
   "nbconvert_exporter": "python",
   "pygments_lexer": "ipython3",
   "version": "3.12.8"
  }
 },
 "nbformat": 4,
 "nbformat_minor": 5
}
