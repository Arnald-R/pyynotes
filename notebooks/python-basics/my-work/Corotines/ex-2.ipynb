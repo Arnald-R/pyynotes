{
 "cells": [
  {
   "cell_type": "code",
   "execution_count": null,
   "id": "873757d2-d87d-4d89-9ac0-4e6c5a143f66",
   "metadata": {},
   "outputs": [],
   "source": [
    "#creatd at 20250314"
   ]
  },
  {
   "cell_type": "code",
   "execution_count": null,
   "id": "678d3d03-dfaf-48c0-8615-ee182d832d41",
   "metadata": {},
   "outputs": [],
   "source": [
    "#https://stevejoe1412.gitbook.io/ssn/python-subtopics/8.-coroutines"
   ]
  },
  {
   "cell_type": "code",
   "execution_count": null,
   "id": "747a43f7-b5d4-4ffd-89c2-c67bf59f9954",
   "metadata": {},
   "outputs": [],
   "source": [
    "#coroutine with multiple yield statements"
   ]
  },
  {
   "cell_type": "code",
   "execution_count": 1,
   "id": "f2a6cda9-18e8-4fd7-98a8-170171f54294",
   "metadata": {},
   "outputs": [],
   "source": [
    "def multiple_coroutine():\n",
    "    print(\"corotine started\")\n",
    "    x = yield \"First yield\"\n",
    "    print(f\"received : {x}\")\n",
    "    y = yield \"second yield\"\n",
    "    print(f\"received : {y}\")"
   ]
  },
  {
   "cell_type": "code",
   "execution_count": 2,
   "id": "594cf608-8348-4d75-a805-7b744cd8e319",
   "metadata": {},
   "outputs": [],
   "source": [
    "coro = multiple_coroutine()"
   ]
  },
  {
   "cell_type": "code",
   "execution_count": 3,
   "id": "b0606dd1-79ba-4fac-afb0-9233dd96ac0f",
   "metadata": {},
   "outputs": [
    {
     "name": "stdout",
     "output_type": "stream",
     "text": [
      "corotine started\n",
      "First yield\n"
     ]
    }
   ],
   "source": [
    "print(next(coro))"
   ]
  },
  {
   "cell_type": "code",
   "execution_count": 4,
   "id": "268d608d-6c09-49b7-93f4-3bf542eab5d1",
   "metadata": {},
   "outputs": [
    {
     "name": "stdout",
     "output_type": "stream",
     "text": [
      "received : 45\n"
     ]
    },
    {
     "data": {
      "text/plain": [
       "'second yield'"
      ]
     },
     "execution_count": 4,
     "metadata": {},
     "output_type": "execute_result"
    }
   ],
   "source": [
    "coro.send(45)"
   ]
  },
  {
   "cell_type": "code",
   "execution_count": 5,
   "id": "b0d53794-465a-4a6d-8618-e3f79a5538a2",
   "metadata": {},
   "outputs": [
    {
     "name": "stdout",
     "output_type": "stream",
     "text": [
      "received : 78\n"
     ]
    },
    {
     "ename": "StopIteration",
     "evalue": "",
     "output_type": "error",
     "traceback": [
      "\u001b[0;31m---------------------------------------------------------------------------\u001b[0m",
      "\u001b[0;31mStopIteration\u001b[0m                             Traceback (most recent call last)",
      "Cell \u001b[0;32mIn[5], line 1\u001b[0m\n\u001b[0;32m----> 1\u001b[0m \u001b[43mcoro\u001b[49m\u001b[38;5;241;43m.\u001b[39;49m\u001b[43msend\u001b[49m\u001b[43m(\u001b[49m\u001b[38;5;241;43m78\u001b[39;49m\u001b[43m)\u001b[49m\n",
      "\u001b[0;31mStopIteration\u001b[0m: "
     ]
    }
   ],
   "source": [
    "coro.send(78)"
   ]
  },
  {
   "cell_type": "code",
   "execution_count": null,
   "id": "4fcda7c5-0d3d-4506-a619-c347c6a484c4",
   "metadata": {},
   "outputs": [],
   "source": []
  }
 ],
 "metadata": {
  "kernelspec": {
   "display_name": "Python 3 (ipykernel)",
   "language": "python",
   "name": "python3"
  },
  "language_info": {
   "codemirror_mode": {
    "name": "ipython",
    "version": 3
   },
   "file_extension": ".py",
   "mimetype": "text/x-python",
   "name": "python",
   "nbconvert_exporter": "python",
   "pygments_lexer": "ipython3",
   "version": "3.12.8"
  }
 },
 "nbformat": 4,
 "nbformat_minor": 5
}
