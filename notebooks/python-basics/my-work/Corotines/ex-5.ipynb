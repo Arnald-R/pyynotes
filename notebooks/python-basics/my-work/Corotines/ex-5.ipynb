{
 "cells": [
  {
   "cell_type": "code",
   "execution_count": null,
   "id": "038977d6-6530-4964-8bb2-ec990e22fcdc",
   "metadata": {},
   "outputs": [],
   "source": [
    "#creatd at 20250314"
   ]
  },
  {
   "cell_type": "code",
   "execution_count": null,
   "id": "d66b0d92-087f-4c6e-a0ec-0e9a9a6b79f0",
   "metadata": {},
   "outputs": [],
   "source": [
    "#https://stevejoe1412.gitbook.io/ssn/python-subtopics/8.-coroutines"
   ]
  },
  {
   "cell_type": "code",
   "execution_count": null,
   "id": "d97b8e66-8342-4a65-b4d6-3ed8b0588d6d",
   "metadata": {},
   "outputs": [],
   "source": [
    "#coroutine for string processing"
   ]
  },
  {
   "cell_type": "code",
   "execution_count": 1,
   "id": "2fc51016-d655-4ca7-9bbf-ac168b6ecbbc",
   "metadata": {},
   "outputs": [],
   "source": [
    "def string_processor():\n",
    "    result = \" \"\n",
    "    while True:\n",
    "        string = yield result\n",
    "        result += string.upper()"
   ]
  },
  {
   "cell_type": "code",
   "execution_count": 2,
   "id": "42be2ba6-8a92-454e-bec5-864c14ed630d",
   "metadata": {},
   "outputs": [],
   "source": [
    "coro = string_processor()"
   ]
  },
  {
   "cell_type": "code",
   "execution_count": 3,
   "id": "af19d66a-3c50-47b6-a1f3-a7d76e7efb1d",
   "metadata": {},
   "outputs": [
    {
     "data": {
      "text/plain": [
       "' '"
      ]
     },
     "execution_count": 3,
     "metadata": {},
     "output_type": "execute_result"
    }
   ],
   "source": [
    "next(coro)"
   ]
  },
  {
   "cell_type": "code",
   "execution_count": 4,
   "id": "70179f3d-5471-411c-a85b-78e91d6e952d",
   "metadata": {},
   "outputs": [
    {
     "name": "stdout",
     "output_type": "stream",
     "text": [
      " HELLO\n"
     ]
    }
   ],
   "source": [
    "print(coro.send(\"hello\"))"
   ]
  },
  {
   "cell_type": "code",
   "execution_count": 5,
   "id": "73c9833a-4d78-41af-9084-8d4eba928044",
   "metadata": {},
   "outputs": [
    {
     "name": "stdout",
     "output_type": "stream",
     "text": [
      " HELLO HOW ARE YOU\n"
     ]
    }
   ],
   "source": [
    "print(coro.send(\" how are you\"))"
   ]
  },
  {
   "cell_type": "code",
   "execution_count": null,
   "id": "ecd36edf-2701-49b6-ba0a-e8f79f681a68",
   "metadata": {},
   "outputs": [],
   "source": []
  }
 ],
 "metadata": {
  "kernelspec": {
   "display_name": "Python 3 (ipykernel)",
   "language": "python",
   "name": "python3"
  },
  "language_info": {
   "codemirror_mode": {
    "name": "ipython",
    "version": 3
   },
   "file_extension": ".py",
   "mimetype": "text/x-python",
   "name": "python",
   "nbconvert_exporter": "python",
   "pygments_lexer": "ipython3",
   "version": "3.12.8"
  }
 },
 "nbformat": 4,
 "nbformat_minor": 5
}
