{
 "cells": [
  {
   "cell_type": "code",
   "execution_count": null,
   "id": "d409ae73-8578-4bdf-a038-f806761e4dcf",
   "metadata": {},
   "outputs": [],
   "source": [
    "#created at 20250312"
   ]
  },
  {
   "cell_type": "code",
   "execution_count": null,
   "id": "d62f0f2b-1c88-4077-a006-7448ec46a686",
   "metadata": {},
   "outputs": [],
   "source": [
    "#https://stevejoe1412.gitbook.io/ssn/python-subtopics/5.-abstract-base-classes-abcs"
   ]
  },
  {
   "cell_type": "code",
   "execution_count": null,
   "id": "ed6ab1be-fcbc-450c-b384-5ee081f1d84a",
   "metadata": {},
   "outputs": [],
   "source": [
    "#Basic Abstract class"
   ]
  },
  {
   "cell_type": "code",
   "execution_count": 1,
   "id": "956b8f15-4406-4a68-ad47-9b640352a689",
   "metadata": {},
   "outputs": [],
   "source": [
    "from abc import ABC, abstractmethod"
   ]
  },
  {
   "cell_type": "code",
   "execution_count": 3,
   "id": "bc1a45db-2e67-4739-89dc-8e3aa400534e",
   "metadata": {},
   "outputs": [],
   "source": [
    "class Animal(ABC):\n",
    "    @abstractmethod\n",
    "    def make_sound(self):\n",
    "        pass\n",
    "        "
   ]
  },
  {
   "cell_type": "code",
   "execution_count": 7,
   "id": "7b790cd0-d603-4871-8ddf-7db402d2f5ec",
   "metadata": {},
   "outputs": [],
   "source": [
    "class Dog(Animal):\n",
    "    def make_sound(self):\n",
    "        return \"woof\""
   ]
  },
  {
   "cell_type": "code",
   "execution_count": 8,
   "id": "97d1fc36-1e47-4266-ab34-130ff5ba03d0",
   "metadata": {},
   "outputs": [],
   "source": [
    "dog = Dog()"
   ]
  },
  {
   "cell_type": "code",
   "execution_count": 10,
   "id": "8902b69f-8b32-4a15-90b0-3762e9fddf4e",
   "metadata": {},
   "outputs": [
    {
     "name": "stdout",
     "output_type": "stream",
     "text": [
      "woof\n"
     ]
    }
   ],
   "source": [
    "print(dog.make_sound())"
   ]
  },
  {
   "cell_type": "code",
   "execution_count": null,
   "id": "c532d31a-4a5b-4d0f-8e6d-28b9d5153364",
   "metadata": {},
   "outputs": [],
   "source": []
  }
 ],
 "metadata": {
  "kernelspec": {
   "display_name": "Python 3 (ipykernel)",
   "language": "python",
   "name": "python3"
  },
  "language_info": {
   "codemirror_mode": {
    "name": "ipython",
    "version": 3
   },
   "file_extension": ".py",
   "mimetype": "text/x-python",
   "name": "python",
   "nbconvert_exporter": "python",
   "pygments_lexer": "ipython3",
   "version": "3.12.8"
  }
 },
 "nbformat": 4,
 "nbformat_minor": 5
}
