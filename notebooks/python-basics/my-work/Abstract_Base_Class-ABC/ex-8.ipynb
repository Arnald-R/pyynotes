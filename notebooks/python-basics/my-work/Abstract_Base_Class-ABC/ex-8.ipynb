{
 "cells": [
  {
   "cell_type": "code",
   "execution_count": null,
   "id": "1d2e91ac-720c-495a-a727-16cfc776ff31",
   "metadata": {},
   "outputs": [],
   "source": [
    "#created at 20250312"
   ]
  },
  {
   "cell_type": "code",
   "execution_count": null,
   "id": "495ad51d-92a1-4853-9153-29b9a64ae090",
   "metadata": {},
   "outputs": [],
   "source": [
    "#https://stevejoe1412.gitbook.io/ssn/python-subtopics/5.-abstract-base-classes-abcs"
   ]
  },
  {
   "cell_type": "code",
   "execution_count": null,
   "id": "d177a0ae-1ff0-4392-bb6a-d921a85d4894",
   "metadata": {},
   "outputs": [],
   "source": [
    "#Multiple Abstract Base classes"
   ]
  },
  {
   "cell_type": "code",
   "execution_count": 2,
   "id": "d4e54eea-93f0-4f70-af28-15c8b03b4ffa",
   "metadata": {},
   "outputs": [],
   "source": [
    "from abc import ABC , abstractmethod"
   ]
  },
  {
   "cell_type": "code",
   "execution_count": 3,
   "id": "8fb96fe4-94c5-4e18-856f-37ecf5d0486c",
   "metadata": {},
   "outputs": [],
   "source": [
    "class Swimmable(ABC):\n",
    "    @abstractmethod\n",
    "    def swim(self):\n",
    "        pass\n",
    "\n",
    "    "
   ]
  },
  {
   "cell_type": "code",
   "execution_count": 4,
   "id": "e3c869db-5f44-47d1-9f64-0b1443000ae7",
   "metadata": {},
   "outputs": [],
   "source": [
    "class Walkable(ABC):\n",
    "    @abstractmethod\n",
    "    def walk(self):\n",
    "        pass"
   ]
  },
  {
   "cell_type": "code",
   "execution_count": 5,
   "id": "1be8c7d4-d47d-43f4-9724-df4a110bf819",
   "metadata": {},
   "outputs": [],
   "source": [
    "class Duck(Swimmable,Walkable):\n",
    "    def swim(self):\n",
    "        print(\"Duck is swimming\")\n",
    "\n",
    "    def walk(self):\n",
    "        print(\"Duck is walking\")"
   ]
  },
  {
   "cell_type": "code",
   "execution_count": 6,
   "id": "e3bb4b1a-bbba-4070-ae3e-82893ec7a7bc",
   "metadata": {},
   "outputs": [],
   "source": [
    "duck = Duck()"
   ]
  },
  {
   "cell_type": "code",
   "execution_count": 7,
   "id": "07ca2a34-dce0-4e1f-b933-1f777b8882e7",
   "metadata": {},
   "outputs": [
    {
     "name": "stdout",
     "output_type": "stream",
     "text": [
      "Duck is swimming\n"
     ]
    }
   ],
   "source": [
    "duck.swim()"
   ]
  },
  {
   "cell_type": "code",
   "execution_count": 8,
   "id": "674500e2-6f72-44c4-ac7a-066230d482ef",
   "metadata": {},
   "outputs": [
    {
     "name": "stdout",
     "output_type": "stream",
     "text": [
      "Duck is walking\n"
     ]
    }
   ],
   "source": [
    "duck.walk()"
   ]
  },
  {
   "cell_type": "code",
   "execution_count": null,
   "id": "288512d8-c07b-4e79-9024-4a93db06dab2",
   "metadata": {},
   "outputs": [],
   "source": []
  }
 ],
 "metadata": {
  "kernelspec": {
   "display_name": "Python 3 (ipykernel)",
   "language": "python",
   "name": "python3"
  },
  "language_info": {
   "codemirror_mode": {
    "name": "ipython",
    "version": 3
   },
   "file_extension": ".py",
   "mimetype": "text/x-python",
   "name": "python",
   "nbconvert_exporter": "python",
   "pygments_lexer": "ipython3",
   "version": "3.12.8"
  }
 },
 "nbformat": 4,
 "nbformat_minor": 5
}
