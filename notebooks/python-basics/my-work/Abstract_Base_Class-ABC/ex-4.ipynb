{
 "cells": [
  {
   "cell_type": "code",
   "execution_count": null,
   "id": "76c18fdf-daee-4dda-aee3-df9c05eeeacc",
   "metadata": {},
   "outputs": [],
   "source": [
    "#created at 20250312"
   ]
  },
  {
   "cell_type": "code",
   "execution_count": null,
   "id": "ee08387b-dd18-4976-9c73-f0bac155e958",
   "metadata": {},
   "outputs": [],
   "source": [
    "#https://stevejoe1412.gitbook.io/ssn/python-subtopics/5.-abstract-base-classes-abcs"
   ]
  },
  {
   "cell_type": "code",
   "execution_count": null,
   "id": "36ee78d4-a46d-4275-bb3c-e9c5ed0ef8e4",
   "metadata": {},
   "outputs": [],
   "source": [
    "#Partially implemented Abstract Base class"
   ]
  },
  {
   "cell_type": "code",
   "execution_count": 1,
   "id": "cd607a9d-2ee3-4237-abd4-86daa5690480",
   "metadata": {},
   "outputs": [],
   "source": [
    "from abc import ABC, abstractmethod"
   ]
  },
  {
   "cell_type": "code",
   "execution_count": 2,
   "id": "121f0e53-dacc-44f2-92dd-067381762285",
   "metadata": {},
   "outputs": [],
   "source": [
    "class Appliance(ABC):\n",
    "    @abstractmethod\n",
    "    def turn_on(self):\n",
    "        pass\n",
    "\n",
    "    def plug_in(self):\n",
    "        print(\"the appliance is plugged-in\")\n",
    "    "
   ]
  },
  {
   "cell_type": "code",
   "execution_count": 3,
   "id": "319240e4-34d5-4b42-bd35-39110889e241",
   "metadata": {},
   "outputs": [],
   "source": [
    "class Washingmachine(Appliance):\n",
    "    def turn_on(self):\n",
    "        print(\"now washing machine is running\")"
   ]
  },
  {
   "cell_type": "code",
   "execution_count": 4,
   "id": "f43636ac-e2ce-47ef-9b8d-be0e594efb28",
   "metadata": {},
   "outputs": [],
   "source": [
    "machine = Washingmachine()"
   ]
  },
  {
   "cell_type": "code",
   "execution_count": 5,
   "id": "148a81cb-1eff-4b5f-b33f-c370c83b548e",
   "metadata": {},
   "outputs": [
    {
     "name": "stdout",
     "output_type": "stream",
     "text": [
      "now washing machine is running\n"
     ]
    }
   ],
   "source": [
    "machine.turn_on()"
   ]
  },
  {
   "cell_type": "code",
   "execution_count": 6,
   "id": "1684114c-efb5-40e9-a9ef-ec1b0d8b0756",
   "metadata": {},
   "outputs": [
    {
     "name": "stdout",
     "output_type": "stream",
     "text": [
      "the appliance is plugged-in\n"
     ]
    }
   ],
   "source": [
    "machine.plug_in()"
   ]
  },
  {
   "cell_type": "code",
   "execution_count": null,
   "id": "0102b6db-d2dc-4c84-8a7d-a20a84872925",
   "metadata": {},
   "outputs": [],
   "source": []
  }
 ],
 "metadata": {
  "kernelspec": {
   "display_name": "Python 3 (ipykernel)",
   "language": "python",
   "name": "python3"
  },
  "language_info": {
   "codemirror_mode": {
    "name": "ipython",
    "version": 3
   },
   "file_extension": ".py",
   "mimetype": "text/x-python",
   "name": "python",
   "nbconvert_exporter": "python",
   "pygments_lexer": "ipython3",
   "version": "3.12.8"
  }
 },
 "nbformat": 4,
 "nbformat_minor": 5
}
