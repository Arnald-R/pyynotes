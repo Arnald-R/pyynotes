{
 "cells": [
  {
   "cell_type": "code",
   "execution_count": null,
   "id": "61083a33-5a02-49d1-8e18-99b04174007d",
   "metadata": {},
   "outputs": [],
   "source": [
    "#created at 20250312"
   ]
  },
  {
   "cell_type": "code",
   "execution_count": null,
   "id": "1e4882bb-a70f-49d6-bd54-12698a92fcd8",
   "metadata": {},
   "outputs": [],
   "source": [
    "#https://stevejoe1412.gitbook.io/ssn/python-subtopics/5.-abstract-base-classes-abcs"
   ]
  },
  {
   "cell_type": "code",
   "execution_count": null,
   "id": "c48c2c7c-bef3-402c-9873-9b52e07e5363",
   "metadata": {},
   "outputs": [],
   "source": [
    "#Using Abstract Base class for type checking"
   ]
  },
  {
   "cell_type": "code",
   "execution_count": 2,
   "id": "138f9be5-108b-4e72-a459-cc61e3e96cd3",
   "metadata": {},
   "outputs": [],
   "source": [
    "from abc import ABC,abstractmethod"
   ]
  },
  {
   "cell_type": "code",
   "execution_count": 3,
   "id": "6d4af500-228d-4907-94d2-fb657ef1f017",
   "metadata": {},
   "outputs": [],
   "source": [
    "class Media(ABC):\n",
    "    @abstractmethod\n",
    "    def play(self):\n",
    "        pass "
   ]
  },
  {
   "cell_type": "code",
   "execution_count": 5,
   "id": "e9c72e9b-f03e-44e6-bab2-f1c1307c5693",
   "metadata": {},
   "outputs": [],
   "source": [
    "class Video(Media):\n",
    "    def play(self):\n",
    "        print(\"playing video\")"
   ]
  },
  {
   "cell_type": "code",
   "execution_count": 6,
   "id": "1b783817-4861-47cb-a9d6-eeb1afc79059",
   "metadata": {},
   "outputs": [],
   "source": [
    "class Audio(Media):\n",
    "    def play(self):\n",
    "        print(\"Playing Audio\")"
   ]
  },
  {
   "cell_type": "code",
   "execution_count": 7,
   "id": "b8ce279f-a917-44b2-95d5-79d345a80fbe",
   "metadata": {},
   "outputs": [],
   "source": [
    "def play_Media(media : Media):\n",
    "    media.play()"
   ]
  },
  {
   "cell_type": "code",
   "execution_count": 12,
   "id": "88f5eb5c-5760-4bbf-b5df-3a76f98ebdaf",
   "metadata": {},
   "outputs": [],
   "source": [
    "video =Video()\n",
    "audio =Audio()"
   ]
  },
  {
   "cell_type": "code",
   "execution_count": 13,
   "id": "6546880d-c235-451d-87af-52b223c57097",
   "metadata": {},
   "outputs": [
    {
     "name": "stdout",
     "output_type": "stream",
     "text": [
      "playing video\n"
     ]
    }
   ],
   "source": [
    "play_Media(video)"
   ]
  },
  {
   "cell_type": "code",
   "execution_count": 15,
   "id": "14555b94-d179-4da7-b10b-9f1811d8003d",
   "metadata": {},
   "outputs": [
    {
     "name": "stdout",
     "output_type": "stream",
     "text": [
      "Playing Audio\n"
     ]
    }
   ],
   "source": [
    "play_Media(audio)"
   ]
  },
  {
   "cell_type": "code",
   "execution_count": null,
   "id": "160486b0-bbc8-4fdf-8682-9bb6e7deaf71",
   "metadata": {},
   "outputs": [],
   "source": []
  }
 ],
 "metadata": {
  "kernelspec": {
   "display_name": "Python 3 (ipykernel)",
   "language": "python",
   "name": "python3"
  },
  "language_info": {
   "codemirror_mode": {
    "name": "ipython",
    "version": 3
   },
   "file_extension": ".py",
   "mimetype": "text/x-python",
   "name": "python",
   "nbconvert_exporter": "python",
   "pygments_lexer": "ipython3",
   "version": "3.12.8"
  }
 },
 "nbformat": 4,
 "nbformat_minor": 5
}
