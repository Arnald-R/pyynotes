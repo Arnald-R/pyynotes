{
 "cells": [
  {
   "cell_type": "code",
   "execution_count": null,
   "id": "9ff99538-bde2-4182-aa82-200e188acd7d",
   "metadata": {},
   "outputs": [],
   "source": [
    "#created at 20250312"
   ]
  },
  {
   "cell_type": "code",
   "execution_count": null,
   "id": "6a8804fe-ae19-4e30-abd5-7a4f7ab06c98",
   "metadata": {},
   "outputs": [],
   "source": [
    "#https://stevejoe1412.gitbook.io/ssn/python-subtopics/5.-abstract-base-classes-abcs"
   ]
  },
  {
   "cell_type": "code",
   "execution_count": null,
   "id": "85d639be-943a-4988-afc1-a0e755367101",
   "metadata": {},
   "outputs": [],
   "source": [
    "#Connecting Abstract Base class with interfaces"
   ]
  },
  {
   "cell_type": "code",
   "execution_count": 2,
   "id": "f6ab0a8f-0a69-4a93-a790-ac16ff2e4ee8",
   "metadata": {},
   "outputs": [],
   "source": [
    "from abc import ABC, abstractmethod"
   ]
  },
  {
   "cell_type": "code",
   "execution_count": 3,
   "id": "98556b68-8707-47cf-b2af-7d4ffed376c6",
   "metadata": {},
   "outputs": [],
   "source": [
    "class Flyable(ABC):\n",
    "    @abstractmethod\n",
    "    def fly(self):\n",
    "        pass"
   ]
  },
  {
   "cell_type": "code",
   "execution_count": 4,
   "id": "09fa71ea-32c0-40bd-a3b8-a6c5e45b5851",
   "metadata": {},
   "outputs": [],
   "source": [
    "class Bird(Flyable):\n",
    "    def fly(self):\n",
    "        print(\"Bird is flying\")"
   ]
  },
  {
   "cell_type": "code",
   "execution_count": 5,
   "id": "f7209bd8-a0a7-45d1-b58f-2ca5684453f8",
   "metadata": {},
   "outputs": [],
   "source": [
    "bird = Bird()"
   ]
  },
  {
   "cell_type": "code",
   "execution_count": 6,
   "id": "31c6e9d8-fc5c-4b11-8ca2-ecdee298a3d7",
   "metadata": {},
   "outputs": [
    {
     "name": "stdout",
     "output_type": "stream",
     "text": [
      "Bird is flying\n"
     ]
    }
   ],
   "source": [
    "bird.fly()"
   ]
  },
  {
   "cell_type": "code",
   "execution_count": null,
   "id": "5f96dd90-154e-4465-95ec-63b6e3615652",
   "metadata": {},
   "outputs": [],
   "source": []
  }
 ],
 "metadata": {
  "kernelspec": {
   "display_name": "Python 3 (ipykernel)",
   "language": "python",
   "name": "python3"
  },
  "language_info": {
   "codemirror_mode": {
    "name": "ipython",
    "version": 3
   },
   "file_extension": ".py",
   "mimetype": "text/x-python",
   "name": "python",
   "nbconvert_exporter": "python",
   "pygments_lexer": "ipython3",
   "version": "3.12.8"
  }
 },
 "nbformat": 4,
 "nbformat_minor": 5
}
