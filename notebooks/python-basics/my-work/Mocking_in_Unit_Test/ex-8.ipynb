{
 "cells": [
  {
   "cell_type": "code",
   "execution_count": null,
   "id": "6e00df19-3b4c-4d79-ac55-4a705921c242",
   "metadata": {},
   "outputs": [],
   "source": [
    "#created at 20250314"
   ]
  },
  {
   "cell_type": "code",
   "execution_count": null,
   "id": "bb240109-1c2b-400a-9416-1ecdbc923a8f",
   "metadata": {},
   "outputs": [],
   "source": [
    "#https://stevejoe1412.gitbook.io/ssn/python-subtopics/10.-mocking-in-unit-tests"
   ]
  },
  {
   "cell_type": "code",
   "execution_count": null,
   "id": "fd893208-bab4-44d3-9f08-f1b6a26fe4f0",
   "metadata": {},
   "outputs": [],
   "source": [
    "#Mocking a context Manager"
   ]
  },
  {
   "cell_type": "code",
   "execution_count": 1,
   "id": "4b450eab-e02d-40c5-9d6f-380f29af939c",
   "metadata": {},
   "outputs": [],
   "source": [
    "from unittest.mock import MagicMock"
   ]
  },
  {
   "cell_type": "code",
   "execution_count": 4,
   "id": "526e3657-a769-4b64-9bf1-1518979f71cb",
   "metadata": {},
   "outputs": [
    {
     "ename": "AttributeError",
     "evalue": "type object 'MagicMock' has no attribute '__enter__'",
     "output_type": "error",
     "traceback": [
      "\u001b[0;31m---------------------------------------------------------------------------\u001b[0m",
      "\u001b[0;31mAttributeError\u001b[0m                            Traceback (most recent call last)",
      "Cell \u001b[0;32mIn[4], line 2\u001b[0m\n\u001b[1;32m      1\u001b[0m mock_context \u001b[38;5;241m=\u001b[39m  MagicMock\n\u001b[0;32m----> 2\u001b[0m \u001b[43mmock_context\u001b[49m\u001b[38;5;241;43m.\u001b[39;49m\u001b[38;5;21;43m__enter__\u001b[39;49m\u001b[38;5;241m.\u001b[39mreturn_value \u001b[38;5;241m=\u001b[39m \u001b[38;5;124m\"\u001b[39m\u001b[38;5;124mInside the context\u001b[39m\u001b[38;5;124m\"\u001b[39m\n\u001b[1;32m      3\u001b[0m mock_context\u001b[38;5;241m.\u001b[39m\u001b[38;5;21m__exit__\u001b[39m\u001b[38;5;241m.\u001b[39mreturn_value \u001b[38;5;241m=\u001b[39m none\n",
      "\u001b[0;31mAttributeError\u001b[0m: type object 'MagicMock' has no attribute '__enter__'"
     ]
    }
   ],
   "source": [
    "mock_context =  MagicMock\n",
    "mock_context.__enter__.return_value = \"Inside the context\"\n",
    "mock_context.__exit__.return_value = none"
   ]
  },
  {
   "cell_type": "code",
   "execution_count": 5,
   "id": "7cda419d-8ab9-42fd-8bc9-09a4e8699b45",
   "metadata": {},
   "outputs": [
    {
     "ename": "TypeError",
     "evalue": "'type' object does not support the context manager protocol",
     "output_type": "error",
     "traceback": [
      "\u001b[0;31m---------------------------------------------------------------------------\u001b[0m",
      "\u001b[0;31mTypeError\u001b[0m                                 Traceback (most recent call last)",
      "Cell \u001b[0;32mIn[5], line 1\u001b[0m\n\u001b[0;32m----> 1\u001b[0m \u001b[38;5;28;01mwith\u001b[39;00m mock_context \u001b[38;5;28;01mas\u001b[39;00m value:\n\u001b[1;32m      2\u001b[0m     \u001b[38;5;28mprint\u001b[39m(value)\n",
      "\u001b[0;31mTypeError\u001b[0m: 'type' object does not support the context manager protocol"
     ]
    }
   ],
   "source": [
    "with mock_context as value:\n",
    "    print(value)"
   ]
  },
  {
   "cell_type": "code",
   "execution_count": null,
   "id": "bd7ae7cd-2f43-414f-9fc5-e0e760e01ccc",
   "metadata": {},
   "outputs": [],
   "source": []
  }
 ],
 "metadata": {
  "kernelspec": {
   "display_name": "Python 3 (ipykernel)",
   "language": "python",
   "name": "python3"
  },
  "language_info": {
   "codemirror_mode": {
    "name": "ipython",
    "version": 3
   },
   "file_extension": ".py",
   "mimetype": "text/x-python",
   "name": "python",
   "nbconvert_exporter": "python",
   "pygments_lexer": "ipython3",
   "version": "3.12.8"
  }
 },
 "nbformat": 4,
 "nbformat_minor": 5
}
