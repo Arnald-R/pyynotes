{
 "cells": [
  {
   "cell_type": "code",
   "execution_count": null,
   "id": "c1647ddf-70bc-4d81-9b43-05238d27791d",
   "metadata": {},
   "outputs": [],
   "source": [
    "#created at 20250314"
   ]
  },
  {
   "cell_type": "code",
   "execution_count": null,
   "id": "6e1413b6-5618-4438-bcd8-4d9f09b6ee19",
   "metadata": {},
   "outputs": [],
   "source": [
    "#https://stevejoe1412.gitbook.io/ssn/python-subtopics/10.-mocking-in-unit-tests"
   ]
  },
  {
   "cell_type": "code",
   "execution_count": null,
   "id": "a8812d77-dfd9-497c-bf45-10242e11910b",
   "metadata": {},
   "outputs": [],
   "source": [
    "#Mocking an object Attribute"
   ]
  },
  {
   "cell_type": "code",
   "execution_count": 5,
   "id": "fa4a1cf6-f19b-48ad-bd10-043267a4e49c",
   "metadata": {},
   "outputs": [],
   "source": [
    "from unittest.mock import patch"
   ]
  },
  {
   "cell_type": "code",
   "execution_count": 6,
   "id": "daaef59a-2e35-4d8b-a828-1c11c51affd2",
   "metadata": {},
   "outputs": [],
   "source": [
    "class MyClass:\n",
    "    attribute = \"original value\""
   ]
  },
  {
   "cell_type": "code",
   "execution_count": 7,
   "id": "9b03389f-a185-4c5f-b7cb-516b1b5940b0",
   "metadata": {},
   "outputs": [
    {
     "ename": "AttributeError",
     "evalue": "<class '__main__.MyClass'> does not have the attribute 'Attribute'",
     "output_type": "error",
     "traceback": [
      "\u001b[0;31m---------------------------------------------------------------------------\u001b[0m",
      "\u001b[0;31mAttributeError\u001b[0m                            Traceback (most recent call last)",
      "Cell \u001b[0;32mIn[7], line 1\u001b[0m\n\u001b[0;32m----> 1\u001b[0m \u001b[38;5;28;01mwith\u001b[39;00m patch\u001b[38;5;241m.\u001b[39mobject(MyClass,\u001b[38;5;124m\"\u001b[39m\u001b[38;5;124mAttribute\u001b[39m\u001b[38;5;124m\"\u001b[39m,\u001b[38;5;124m\"\u001b[39m\u001b[38;5;124mMocked value\u001b[39m\u001b[38;5;124m\"\u001b[39m):\n\u001b[1;32m      2\u001b[0m     \u001b[38;5;28mprint\u001b[39m(MyClass\u001b[38;5;241m.\u001b[39mattribute)\n",
      "File \u001b[0;32m~/miniconda3/envs/py312/lib/python3.12/unittest/mock.py:1467\u001b[0m, in \u001b[0;36m_patch.__enter__\u001b[0;34m(self)\u001b[0m\n\u001b[1;32m   1463\u001b[0m \u001b[38;5;28;01mif\u001b[39;00m ((spec \u001b[38;5;129;01mis\u001b[39;00m \u001b[38;5;129;01mnot\u001b[39;00m \u001b[38;5;28;01mNone\u001b[39;00m \u001b[38;5;129;01mor\u001b[39;00m autospec \u001b[38;5;129;01mis\u001b[39;00m \u001b[38;5;129;01mnot\u001b[39;00m \u001b[38;5;28;01mNone\u001b[39;00m) \u001b[38;5;129;01mand\u001b[39;00m\n\u001b[1;32m   1464\u001b[0m     spec_set \u001b[38;5;129;01mnot\u001b[39;00m \u001b[38;5;129;01min\u001b[39;00m (\u001b[38;5;28;01mTrue\u001b[39;00m, \u001b[38;5;28;01mNone\u001b[39;00m)):\n\u001b[1;32m   1465\u001b[0m     \u001b[38;5;28;01mraise\u001b[39;00m \u001b[38;5;167;01mTypeError\u001b[39;00m(\u001b[38;5;124m\"\u001b[39m\u001b[38;5;124mCan\u001b[39m\u001b[38;5;124m'\u001b[39m\u001b[38;5;124mt provide explicit spec_set *and* spec or autospec\u001b[39m\u001b[38;5;124m\"\u001b[39m)\n\u001b[0;32m-> 1467\u001b[0m original, local \u001b[38;5;241m=\u001b[39m \u001b[38;5;28;43mself\u001b[39;49m\u001b[38;5;241;43m.\u001b[39;49m\u001b[43mget_original\u001b[49m\u001b[43m(\u001b[49m\u001b[43m)\u001b[49m\n\u001b[1;32m   1469\u001b[0m \u001b[38;5;28;01mif\u001b[39;00m new \u001b[38;5;129;01mis\u001b[39;00m DEFAULT \u001b[38;5;129;01mand\u001b[39;00m autospec \u001b[38;5;129;01mis\u001b[39;00m \u001b[38;5;28;01mNone\u001b[39;00m:\n\u001b[1;32m   1470\u001b[0m     inherit \u001b[38;5;241m=\u001b[39m \u001b[38;5;28;01mFalse\u001b[39;00m\n",
      "File \u001b[0;32m~/miniconda3/envs/py312/lib/python3.12/unittest/mock.py:1437\u001b[0m, in \u001b[0;36m_patch.get_original\u001b[0;34m(self)\u001b[0m\n\u001b[1;32m   1434\u001b[0m     \u001b[38;5;28mself\u001b[39m\u001b[38;5;241m.\u001b[39mcreate \u001b[38;5;241m=\u001b[39m \u001b[38;5;28;01mTrue\u001b[39;00m\n\u001b[1;32m   1436\u001b[0m \u001b[38;5;28;01mif\u001b[39;00m \u001b[38;5;129;01mnot\u001b[39;00m \u001b[38;5;28mself\u001b[39m\u001b[38;5;241m.\u001b[39mcreate \u001b[38;5;129;01mand\u001b[39;00m original \u001b[38;5;129;01mis\u001b[39;00m DEFAULT:\n\u001b[0;32m-> 1437\u001b[0m     \u001b[38;5;28;01mraise\u001b[39;00m \u001b[38;5;167;01mAttributeError\u001b[39;00m(\n\u001b[1;32m   1438\u001b[0m         \u001b[38;5;124m\"\u001b[39m\u001b[38;5;132;01m%s\u001b[39;00m\u001b[38;5;124m does not have the attribute \u001b[39m\u001b[38;5;132;01m%r\u001b[39;00m\u001b[38;5;124m\"\u001b[39m \u001b[38;5;241m%\u001b[39m (target, name)\n\u001b[1;32m   1439\u001b[0m     )\n\u001b[1;32m   1440\u001b[0m \u001b[38;5;28;01mreturn\u001b[39;00m original, local\n",
      "\u001b[0;31mAttributeError\u001b[0m: <class '__main__.MyClass'> does not have the attribute 'Attribute'"
     ]
    }
   ],
   "source": [
    "with patch.object(MyClass,\"Attribute\",\"Mocked value\"):\n",
    "    print(MyClass.attribute)"
   ]
  },
  {
   "cell_type": "code",
   "execution_count": null,
   "id": "0cf917d2-943d-474c-a6a0-a6f3db989ecc",
   "metadata": {},
   "outputs": [],
   "source": []
  }
 ],
 "metadata": {
  "kernelspec": {
   "display_name": "Python 3 (ipykernel)",
   "language": "python",
   "name": "python3"
  },
  "language_info": {
   "codemirror_mode": {
    "name": "ipython",
    "version": 3
   },
   "file_extension": ".py",
   "mimetype": "text/x-python",
   "name": "python",
   "nbconvert_exporter": "python",
   "pygments_lexer": "ipython3",
   "version": "3.12.8"
  }
 },
 "nbformat": 4,
 "nbformat_minor": 5
}
