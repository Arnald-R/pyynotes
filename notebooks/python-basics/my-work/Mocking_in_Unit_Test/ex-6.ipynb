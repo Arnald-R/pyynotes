{
 "cells": [
  {
   "cell_type": "code",
   "execution_count": null,
   "id": "317551c9-9ccf-4c94-8681-76f61e924696",
   "metadata": {},
   "outputs": [],
   "source": [
    "#created at 20250314"
   ]
  },
  {
   "cell_type": "code",
   "execution_count": null,
   "id": "c24c1086-634b-458b-a281-f2ba6b5c326f",
   "metadata": {},
   "outputs": [],
   "source": [
    "#https://stevejoe1412.gitbook.io/ssn/python-subtopics/10.-mocking-in-unit-tests"
   ]
  },
  {
   "cell_type": "code",
   "execution_count": null,
   "id": "39c02144-1012-42ee-9108-e63e0a223d59",
   "metadata": {},
   "outputs": [],
   "source": [
    "#Mocking a class"
   ]
  },
  {
   "cell_type": "code",
   "execution_count": 1,
   "id": "70ac0753-07cd-4338-a5f2-19ebd937a58b",
   "metadata": {},
   "outputs": [],
   "source": [
    "from unittest.mock import patch"
   ]
  },
  {
   "cell_type": "code",
   "execution_count": 2,
   "id": "b7184ff5-3a7c-415f-a17e-b2966d6799b0",
   "metadata": {},
   "outputs": [],
   "source": [
    "class MyClass:\n",
    "    def method(self):\n",
    "        return \"Original method\""
   ]
  },
  {
   "cell_type": "code",
   "execution_count": 4,
   "id": "046b28f3-e394-4cf8-94e9-d32f449812a2",
   "metadata": {},
   "outputs": [
    {
     "name": "stdout",
     "output_type": "stream",
     "text": [
      "Mocked_Method\n"
     ]
    }
   ],
   "source": [
    "with patch(\"__main__.MyClass\") as MockClass:\n",
    "    instance = MockClass.return_value\n",
    "    instance.method.return_value = \"Mocked_Method\"\n",
    "    print(instance.method())"
   ]
  },
  {
   "cell_type": "code",
   "execution_count": null,
   "id": "cdbf725d-ef81-497b-92da-d7be05b3b524",
   "metadata": {},
   "outputs": [],
   "source": []
  }
 ],
 "metadata": {
  "kernelspec": {
   "display_name": "Python 3 (ipykernel)",
   "language": "python",
   "name": "python3"
  },
  "language_info": {
   "codemirror_mode": {
    "name": "ipython",
    "version": 3
   },
   "file_extension": ".py",
   "mimetype": "text/x-python",
   "name": "python",
   "nbconvert_exporter": "python",
   "pygments_lexer": "ipython3",
   "version": "3.12.8"
  }
 },
 "nbformat": 4,
 "nbformat_minor": 5
}
