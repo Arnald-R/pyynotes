{
 "cells": [
  {
   "cell_type": "code",
   "execution_count": null,
   "id": "31afba1a-5442-4c5a-992f-f2bd8cae7ce0",
   "metadata": {},
   "outputs": [],
   "source": [
    "#created at 20250314"
   ]
  },
  {
   "cell_type": "code",
   "execution_count": null,
   "id": "3944f096-aefd-4e1f-8ca4-a343d60fb8c8",
   "metadata": {},
   "outputs": [],
   "source": [
    "#https://stevejoe1412.gitbook.io/ssn/python-subtopics/10.-mocking-in-unit-tests"
   ]
  },
  {
   "cell_type": "code",
   "execution_count": null,
   "id": "bbc86ed4-8e30-4aec-a361-6a892fb6bda0",
   "metadata": {},
   "outputs": [],
   "source": [
    "#Asserting function calls"
   ]
  },
  {
   "cell_type": "code",
   "execution_count": 1,
   "id": "7c3a4280-9910-452d-b954-68ecc0448564",
   "metadata": {},
   "outputs": [],
   "source": [
    "from unittest.mock import Mock"
   ]
  },
  {
   "cell_type": "code",
   "execution_count": 2,
   "id": "aedff578-f71f-4ce0-8dc9-4db4cd89a840",
   "metadata": {},
   "outputs": [],
   "source": [
    "mock_func = Mock()"
   ]
  },
  {
   "cell_type": "code",
   "execution_count": 3,
   "id": "5a0fc144-8988-4fde-93ee-a27efd8e00fe",
   "metadata": {},
   "outputs": [
    {
     "data": {
      "text/plain": [
       "<Mock name='mock()' id='124233527222224'>"
      ]
     },
     "execution_count": 3,
     "metadata": {},
     "output_type": "execute_result"
    }
   ],
   "source": [
    "mock_func(42)"
   ]
  },
  {
   "cell_type": "code",
   "execution_count": 4,
   "id": "fc491a24-fd32-49c3-b9de-b7a90a29fb2a",
   "metadata": {},
   "outputs": [],
   "source": [
    "mock_func.assert_called_with(42)"
   ]
  },
  {
   "cell_type": "code",
   "execution_count": null,
   "id": "3385209e-2704-4e3d-af0e-17e9675ab6f9",
   "metadata": {},
   "outputs": [],
   "source": []
  }
 ],
 "metadata": {
  "kernelspec": {
   "display_name": "Python 3 (ipykernel)",
   "language": "python",
   "name": "python3"
  },
  "language_info": {
   "codemirror_mode": {
    "name": "ipython",
    "version": 3
   },
   "file_extension": ".py",
   "mimetype": "text/x-python",
   "name": "python",
   "nbconvert_exporter": "python",
   "pygments_lexer": "ipython3",
   "version": "3.12.8"
  }
 },
 "nbformat": 4,
 "nbformat_minor": 5
}
