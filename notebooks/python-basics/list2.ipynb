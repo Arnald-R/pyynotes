{
 "cells": [
  {
   "cell_type": "code",
   "execution_count": null,
   "id": "d38a1ce3-10ca-4985-a16d-09abee74768c",
   "metadata": {},
   "outputs": [],
   "source": [
    "#created at 20250203"
   ]
  },
  {
   "cell_type": "code",
   "execution_count": null,
   "id": "9c742c83-ffd6-441d-b9dc-f87057430a44",
   "metadata": {},
   "outputs": [],
   "source": [
    "https://stevejoe1412.gitbook.io/ssn/python-subtopics/list-comprehensions"
   ]
  },
  {
   "cell_type": "code",
   "execution_count": null,
   "id": "3add00f9-59f8-4f97-8298-cbf5a50f3c28",
   "metadata": {},
   "outputs": [],
   "source": [
    "#List Comprehension with Multiple Iterators"
   ]
  },
  {
   "cell_type": "code",
   "execution_count": 1,
   "id": "b483432d-7c74-42e3-a7c6-d6280028df45",
   "metadata": {},
   "outputs": [],
   "source": [
    "a = [1,2,3]"
   ]
  },
  {
   "cell_type": "code",
   "execution_count": 2,
   "id": "2e019cb6-b7a5-4c55-9794-e91ab4de490a",
   "metadata": {},
   "outputs": [],
   "source": [
    "b = ['x','y']"
   ]
  },
  {
   "cell_type": "code",
   "execution_count": 7,
   "id": "2a9957c9-a4fe-40c9-af32-e50b0b669990",
   "metadata": {},
   "outputs": [
    {
     "name": "stdout",
     "output_type": "stream",
     "text": [
      "[(1, 'x'), (1, 'y'), (2, 'x'), (2, 'y'), (3, 'x'), (3, 'y')]\n"
     ]
    }
   ],
   "source": [
    "product = [(i ,j) for i in a for j in b]\n",
    "print(product)"
   ]
  },
  {
   "cell_type": "code",
   "execution_count": 8,
   "id": "10a5616e-910c-4a37-951e-54fd35e3d6dd",
   "metadata": {},
   "outputs": [],
   "source": [
    "#Nested List Comprehensions"
   ]
  },
  {
   "cell_type": "code",
   "execution_count": 9,
   "id": "f627901f-8a82-4deb-b269-7ad909040048",
   "metadata": {},
   "outputs": [],
   "source": [
    "matrix = [[1,2],[3,4],[5,6]]"
   ]
  },
  {
   "cell_type": "code",
   "execution_count": 13,
   "id": "eaf892dc-ba89-4ba8-815a-afda6d475e1d",
   "metadata": {},
   "outputs": [],
   "source": [
    "flattened = [ item for sublist in matrix for item in sublist]"
   ]
  },
  {
   "cell_type": "code",
   "execution_count": 14,
   "id": "d0f167c6-5ba0-427e-80f3-e88310c0adaf",
   "metadata": {},
   "outputs": [
    {
     "name": "stdout",
     "output_type": "stream",
     "text": [
      "[1, 2, 3, 4, 5, 6]\n"
     ]
    }
   ],
   "source": [
    "print(flattened)"
   ]
  },
  {
   "cell_type": "code",
   "execution_count": null,
   "id": "87f6f4bb-82f6-403c-8030-baef128c7eff",
   "metadata": {},
   "outputs": [],
   "source": []
  }
 ],
 "metadata": {
  "kernelspec": {
   "display_name": "Python 3 (ipykernel)",
   "language": "python",
   "name": "python3"
  },
  "language_info": {
   "codemirror_mode": {
    "name": "ipython",
    "version": 3
   },
   "file_extension": ".py",
   "mimetype": "text/x-python",
   "name": "python",
   "nbconvert_exporter": "python",
   "pygments_lexer": "ipython3",
   "version": "3.12.8"
  }
 },
 "nbformat": 4,
 "nbformat_minor": 5
}
