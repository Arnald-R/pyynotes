{
 "cells": [
  {
   "cell_type": "code",
   "execution_count": 1,
   "id": "067d9148-7dad-476a-835e-c1760d2807f2",
   "metadata": {},
   "outputs": [],
   "source": [
    "#created at 20250210"
   ]
  },
  {
   "cell_type": "code",
   "execution_count": null,
   "id": "f7684fe7-79bb-4ab4-8808-e2f588a00981",
   "metadata": {},
   "outputs": [],
   "source": [
    "https://stevejoe1412.gitbook.io/ssn/python-subtopics/8.-coroutines"
   ]
  },
  {
   "cell_type": "code",
   "execution_count": 3,
   "id": "ebd0dde9-5943-49ec-a7c5-6c36daf81ef9",
   "metadata": {},
   "outputs": [
    {
     "name": "stdout",
     "output_type": "stream",
     "text": [
      "corotine started\n",
      "First Field\n",
      "Recieved: 10\n",
      "Second Field\n",
      "Recived: 20\n"
     ]
    },
    {
     "ename": "StopIteration",
     "evalue": "",
     "output_type": "error",
     "traceback": [
      "\u001b[0;31m---------------------------------------------------------------------------\u001b[0m",
      "\u001b[0;31mStopIteration\u001b[0m                             Traceback (most recent call last)",
      "Cell \u001b[0;32mIn[3], line 11\u001b[0m\n\u001b[1;32m      9\u001b[0m \u001b[38;5;28mprint\u001b[39m(\u001b[38;5;28mnext\u001b[39m(coro))\n\u001b[1;32m     10\u001b[0m \u001b[38;5;28mprint\u001b[39m(coro\u001b[38;5;241m.\u001b[39msend(\u001b[38;5;241m10\u001b[39m))\n\u001b[0;32m---> 11\u001b[0m \u001b[43mcoro\u001b[49m\u001b[38;5;241;43m.\u001b[39;49m\u001b[43msend\u001b[49m\u001b[43m(\u001b[49m\u001b[38;5;241;43m20\u001b[39;49m\u001b[43m)\u001b[49m\n",
      "\u001b[0;31mStopIteration\u001b[0m: "
     ]
    }
   ],
   "source": [
    "def multi_yield_coroutine():\n",
    "    print(\"corotine started\")\n",
    "    x = yield \"First Field\"\n",
    "    print(f\"Recieved: {x}\")\n",
    "    y= yield \"Second Field\"\n",
    "    print(f\"Recived: {y}\")\n",
    "\n",
    "coro = multi_yield_coroutine()\n",
    "print(next(coro))\n",
    "print(coro.send(10))\n",
    "coro.send(20)"
   ]
  },
  {
   "cell_type": "code",
   "execution_count": null,
   "id": "a293f3db-2a3d-4884-9f33-8cdf4f7db094",
   "metadata": {},
   "outputs": [],
   "source": []
  }
 ],
 "metadata": {
  "kernelspec": {
   "display_name": "Python 3 (ipykernel)",
   "language": "python",
   "name": "python3"
  },
  "language_info": {
   "codemirror_mode": {
    "name": "ipython",
    "version": 3
   },
   "file_extension": ".py",
   "mimetype": "text/x-python",
   "name": "python",
   "nbconvert_exporter": "python",
   "pygments_lexer": "ipython3",
   "version": "3.12.8"
  }
 },
 "nbformat": 4,
 "nbformat_minor": 5
}
