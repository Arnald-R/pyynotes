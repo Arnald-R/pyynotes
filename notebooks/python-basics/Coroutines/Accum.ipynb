{
 "cells": [
  {
   "cell_type": "code",
   "execution_count": 1,
   "id": "b1f23e75-0758-4d5f-b968-546f5b70cd11",
   "metadata": {},
   "outputs": [],
   "source": [
    "#created at 20250210"
   ]
  },
  {
   "cell_type": "code",
   "execution_count": null,
   "id": "afe4396d-a59e-458e-94ab-7d266e3d4a7b",
   "metadata": {},
   "outputs": [],
   "source": [
    "https://stevejoe1412.gitbook.io/ssn/python-subtopics/8.-coroutines"
   ]
  },
  {
   "cell_type": "code",
   "execution_count": 2,
   "id": "505fa31d-a83a-4dc4-ade7-841f64e96641",
   "metadata": {},
   "outputs": [],
   "source": [
    "#accumulating values"
   ]
  },
  {
   "cell_type": "code",
   "execution_count": 5,
   "id": "fbdaecbc-8e81-44ea-b809-86021611a4ce",
   "metadata": {},
   "outputs": [
    {
     "name": "stdout",
     "output_type": "stream",
     "text": [
      "10\n",
      "14\n",
      "38\n"
     ]
    }
   ],
   "source": [
    "def accumulator():\n",
    "    total = 0\n",
    "    while True:\n",
    "        value = yield total\n",
    "        total += value\n",
    "\n",
    "coro = accumulator()\n",
    "next(coro)\n",
    "print(coro.send(10))\n",
    "print(coro.send(4))\n",
    "print(coro.send(24))"
   ]
  },
  {
   "cell_type": "code",
   "execution_count": null,
   "id": "dc7da2b3-9422-4713-b9bb-9332c7866fdc",
   "metadata": {},
   "outputs": [],
   "source": []
  }
 ],
 "metadata": {
  "kernelspec": {
   "display_name": "Python 3 (ipykernel)",
   "language": "python",
   "name": "python3"
  },
  "language_info": {
   "codemirror_mode": {
    "name": "ipython",
    "version": 3
   },
   "file_extension": ".py",
   "mimetype": "text/x-python",
   "name": "python",
   "nbconvert_exporter": "python",
   "pygments_lexer": "ipython3",
   "version": "3.12.8"
  }
 },
 "nbformat": 4,
 "nbformat_minor": 5
}
