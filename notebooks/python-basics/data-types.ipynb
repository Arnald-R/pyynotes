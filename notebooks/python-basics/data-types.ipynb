{
 "cells": [
  {
   "cell_type": "code",
   "execution_count": null,
   "id": "8548a279-848f-4b11-aec4-f8f0e446fcaa",
   "metadata": {},
   "outputs": [],
   "source": [
    "#created at 20250120"
   ]
  },
  {
   "cell_type": "code",
   "execution_count": null,
   "id": "cad7aa6f-50cc-4213-a25d-b41031be98d2",
   "metadata": {},
   "outputs": [],
   "source": [
    "https://www.scientecheasy.com/2022/09/data-types-in-python.html/"
   ]
  },
  {
   "cell_type": "code",
   "execution_count": 1,
   "id": "9edfdfde-79ee-47c7-8380-b38e43b0bfcd",
   "metadata": {},
   "outputs": [],
   "source": [
    "#int,float,complex"
   ]
  },
  {
   "cell_type": "code",
   "execution_count": 2,
   "id": "5c9bca25-93cb-4b29-9397-e3da9a0c192c",
   "metadata": {},
   "outputs": [
    {
     "name": "stdout",
     "output_type": "stream",
     "text": [
      "50\n"
     ]
    }
   ],
   "source": [
    "num1 = 20\n",
    "num2 = 30\n",
    "add  = num1 + num2 \n",
    "print(add)"
   ]
  },
  {
   "cell_type": "code",
   "execution_count": 4,
   "id": "0f07b972-fcc9-4a58-9a19-fe9a979f2d63",
   "metadata": {},
   "outputs": [
    {
     "name": "stdout",
     "output_type": "stream",
     "text": [
      "50.54\n"
     ]
    }
   ],
   "source": [
    "num1 = 20.55\n",
    "num2 = 29.99\n",
    "add  = num1 + num2\n",
    "print(add)"
   ]
  },
  {
   "cell_type": "code",
   "execution_count": 5,
   "id": "7dc2caed-a490-4dcd-b6e2-d0a37c0ede8b",
   "metadata": {},
   "outputs": [
    {
     "name": "stdout",
     "output_type": "stream",
     "text": [
      "5000000.0\n"
     ]
    }
   ],
   "source": [
    "num1 = 23E5\n",
    "num2 = 27E5\n",
    "add  = num1 + num2\n",
    "print(add)"
   ]
  },
  {
   "cell_type": "code",
   "execution_count": 6,
   "id": "c95af37e-604d-47ec-bae1-b7b1c4e268a5",
   "metadata": {},
   "outputs": [
    {
     "name": "stdout",
     "output_type": "stream",
     "text": [
      "(5+15j)\n"
     ]
    }
   ],
   "source": [
    "num1 = 3+7j\n",
    "num2 = 2+8j\n",
    "add  = num1 +num2\n",
    "print(add)"
   ]
  },
  {
   "cell_type": "code",
   "execution_count": 11,
   "id": "ea9f11a6-8491-49f2-b6e5-ba6fbe105c08",
   "metadata": {},
   "outputs": [
    {
     "name": "stdout",
     "output_type": "stream",
     "text": [
      "12\n",
      "78.09\n",
      "7800000.0\n",
      "(7+7j)\n",
      "<class 'int'>\n",
      "<class 'float'>\n",
      "<class 'float'>\n",
      "<class 'complex'>\n",
      "True\n"
     ]
    }
   ],
   "source": [
    "num1 =12\n",
    "num2 = 78.09\n",
    "num3 =78E5\n",
    "num4 =7+7j\n",
    "print(num1)\n",
    "print(num2)\n",
    "print(num3)\n",
    "print(num4)\n",
    "print(type(num1))\n",
    "print(type(num2))\n",
    "print(type(num3))\n",
    "print(type(num4))\n",
    "print(isinstance(num3,float))"
   ]
  },
  {
   "cell_type": "code",
   "execution_count": 12,
   "id": "137b2dc6-3917-4a4c-a82d-e5abac49494c",
   "metadata": {},
   "outputs": [],
   "source": [
    "#boolean"
   ]
  },
  {
   "cell_type": "code",
   "execution_count": 13,
   "id": "fdb1d73e-20db-41d5-9732-c5688addc2c2",
   "metadata": {},
   "outputs": [
    {
     "name": "stdout",
     "output_type": "stream",
     "text": [
      "False False True\n"
     ]
    }
   ],
   "source": [
    "a = (10>=15)\n",
    "b = (10 == 10 * 3)\n",
    "c = (10 != 3 * 2)\n",
    "print(a,b,c)"
   ]
  },
  {
   "cell_type": "code",
   "execution_count": 14,
   "id": "512ab7a3-dc14-4da7-8569-3922fd410884",
   "metadata": {},
   "outputs": [
    {
     "name": "stdout",
     "output_type": "stream",
     "text": [
      "0 6 11\n",
      "<class 'bool'>\n"
     ]
    }
   ],
   "source": [
    "a = True\n",
    "b = True * False\n",
    "c = 5+True\n",
    "d = True + 10\n",
    "print(b,c,d)\n",
    "print(type(a))\n"
   ]
  },
  {
   "cell_type": "code",
   "execution_count": 15,
   "id": "afa71a84-f92d-442d-80dc-162ee3ec7dc9",
   "metadata": {},
   "outputs": [
    {
     "name": "stdout",
     "output_type": "stream",
     "text": [
      "None\n",
      "<class 'NoneType'>\n"
     ]
    }
   ],
   "source": [
    "a = None\n",
    "print(a)\n",
    "print(type(a))"
   ]
  },
  {
   "cell_type": "code",
   "execution_count": 16,
   "id": "0ac7571f-c547-471b-b0f4-b34b2b5ba1a2",
   "metadata": {},
   "outputs": [
    {
     "name": "stdout",
     "output_type": "stream",
     "text": [
      "Good morning\n",
      "hi friends hope doing well\n",
      "<class 'str'>\n"
     ]
    }
   ],
   "source": [
    "#string\n",
    "str1 = \"Good morning\"\n",
    "str2 = \"hi friends hope doing well\"\n",
    "print(str1)\n",
    "print(str2)\n",
    "print(type(str1))"
   ]
  },
  {
   "cell_type": "code",
   "execution_count": 17,
   "id": "9269ae33-6611-4134-aea6-7bfec9910eba",
   "metadata": {},
   "outputs": [
    {
     "name": "stdout",
     "output_type": "stream",
     "text": [
      "[10, 20.5, 'Python', True]\n",
      "<class 'list'>\n"
     ]
    }
   ],
   "source": [
    "store = [10, 20.50, \"Python\", True]\n",
    "print(store)\n",
    "print(type(store))\n"
   ]
  },
  {
   "cell_type": "code",
   "execution_count": 18,
   "id": "fb29f91d-6446-4e88-8bd2-5803063c1dd6",
   "metadata": {},
   "outputs": [
    {
     "name": "stdout",
     "output_type": "stream",
     "text": [
      "[10, 20, 32, 34]\n",
      "[10, 20, 50, 34]\n"
     ]
    }
   ],
   "source": [
    "number_list = [10,20,32,34]\n",
    "print(number_list)\n",
    "number_list[2] = 50\n",
    "print(number_list)"
   ]
  },
  {
   "cell_type": "code",
   "execution_count": 23,
   "id": "4c614ebc-1ff0-4a76-a17f-aa79c56c0591",
   "metadata": {},
   "outputs": [],
   "source": [
    "#tuple"
   ]
  },
  {
   "cell_type": "code",
   "execution_count": 24,
   "id": "1cbd3c98-8268-4473-8c50-0a7db0f6fffe",
   "metadata": {},
   "outputs": [
    {
     "name": "stdout",
     "output_type": "stream",
     "text": [
      "(1, 2.5, 'Arnald', (4+3j))\n",
      "<class 'tuple'>\n"
     ]
    }
   ],
   "source": [
    "t = (1,2.5,\"Arnald\",4+3j)\n",
    "print(t)\n",
    "print(type(t))"
   ]
  },
  {
   "cell_type": "code",
   "execution_count": 25,
   "id": "6ea09830-ee4d-4c80-b9e9-533fbee5292b",
   "metadata": {},
   "outputs": [],
   "source": [
    "#set"
   ]
  },
  {
   "cell_type": "code",
   "execution_count": 27,
   "id": "4a9a598a-2c35-44a5-979c-e90cc37d277b",
   "metadata": {},
   "outputs": [
    {
     "name": "stdout",
     "output_type": "stream",
     "text": [
      "{1, 2.7, 'jack', (5+6j)}\n",
      "<class 'set'>\n"
     ]
    }
   ],
   "source": [
    "s = {1,2.7,\"jack\",5+6j}\n",
    "print(s)\n",
    "print(type(s))"
   ]
  },
  {
   "cell_type": "code",
   "execution_count": 19,
   "id": "7f01d83c-bf57-4f53-901d-86faf3882928",
   "metadata": {},
   "outputs": [],
   "source": [
    "#dict  "
   ]
  },
  {
   "cell_type": "code",
   "execution_count": 22,
   "id": "f3b67630-07f2-472e-91a4-ddf978ed79d6",
   "metadata": {},
   "outputs": [
    {
     "name": "stdout",
     "output_type": "stream",
     "text": [
      "{1: 'brinjal', 2: 'carrot', 'veg3': 'tomato'}\n",
      "<class 'dict'>\n"
     ]
    }
   ],
   "source": [
    "veg = {1 :'brinjal',\n",
    "       2 :'carrot',\n",
    "       'veg3' :'tomato'}\n",
    "print(veg)\n",
    "print(type(veg))"
   ]
  },
  {
   "cell_type": "code",
   "execution_count": null,
   "id": "6d6d69c4-f0f9-47c7-8f2a-f1db07adcb67",
   "metadata": {},
   "outputs": [],
   "source": [
    "    "
   ]
  }
 ],
 "metadata": {
  "kernelspec": {
   "display_name": "Python 3 (ipykernel)",
   "language": "python",
   "name": "python3"
  },
  "language_info": {
   "codemirror_mode": {
    "name": "ipython",
    "version": 3
   },
   "file_extension": ".py",
   "mimetype": "text/x-python",
   "name": "python",
   "nbconvert_exporter": "python",
   "pygments_lexer": "ipython3",
   "version": "3.12.8"
  }
 },
 "nbformat": 4,
 "nbformat_minor": 5
}
