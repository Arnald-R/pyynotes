{
 "cells": [
  {
   "cell_type": "code",
   "execution_count": null,
   "id": "ff9a9245-812e-4393-baae-5f2dd11246ac",
   "metadata": {},
   "outputs": [],
   "source": [
    "#created at 20250125"
   ]
  },
  {
   "cell_type": "code",
   "execution_count": null,
   "id": "d9513b83-ea2f-4e04-9bd6-5c5f521f8862",
   "metadata": {},
   "outputs": [],
   "source": [
    "https://www.scientecheasy.com/2022/11/nested-loops-in-python.html/"
   ]
  },
  {
   "cell_type": "code",
   "execution_count": 1,
   "id": "c7ca75ed-3f6a-4c8c-91ca-cea9927343ed",
   "metadata": {},
   "outputs": [
    {
     "name": "stdout",
     "output_type": "stream",
     "text": [
      "1  2  3  4  5  \n",
      "1  2  3  4  \n",
      "1  2  3  \n",
      "1  2  \n",
      "1  \n"
     ]
    }
   ],
   "source": [
    "for i in range(6,1,-1):\n",
    "    for j in range(1,i):\n",
    "        print(j,' ',end = '')\n",
    "    print()"
   ]
  },
  {
   "cell_type": "code",
   "execution_count": 5,
   "id": "41e34fde-1d19-407e-8948-dd5e85ee5cdb",
   "metadata": {},
   "outputs": [
    {
     "name": "stdout",
     "output_type": "stream",
     "text": [
      "A  \n",
      "B  B  \n",
      "C  C  C  \n",
      "D  D  D  D  \n",
      "E  E  E  E  E  \n"
     ]
    }
   ],
   "source": [
    "for i in range(65,70):\n",
    "    for j in range(65 , i+1):\n",
    "        print(chr(i),' ',end = '')\n",
    "    print()"
   ]
  },
  {
   "cell_type": "code",
   "execution_count": 9,
   "id": "8e57aa15-a299-48d5-b962-ba10cbef4f2e",
   "metadata": {},
   "outputs": [
    {
     "name": "stdout",
     "output_type": "stream",
     "text": [
      "A B C D E \n",
      "A B C D \n",
      "A B C \n",
      "A B \n",
      "A \n"
     ]
    }
   ],
   "source": [
    "for i in range(70 ,65, -1):\n",
    "    for j in range(65,i):\n",
    "        print(chr(j), '',end = '')\n",
    "    print()"
   ]
  },
  {
   "cell_type": "code",
   "execution_count": 10,
   "id": "147ad420-4d4e-43e1-9846-780eb6de006b",
   "metadata": {},
   "outputs": [],
   "source": [
    "import math"
   ]
  },
  {
   "cell_type": "code",
   "execution_count": 11,
   "id": "8dad1262-d712-4042-95f2-7eeb34d42a81",
   "metadata": {},
   "outputs": [
    {
     "name": "stdin",
     "output_type": "stream",
     "text": [
      "enter the value of x: 12\n"
     ]
    }
   ],
   "source": [
    "x = int(input(\"enter the value of x:\"))"
   ]
  },
  {
   "cell_type": "code",
   "execution_count": 18,
   "id": "6d1e7881-4544-4125-ad0e-cc1991d515f0",
   "metadata": {},
   "outputs": [
    {
     "name": "stdin",
     "output_type": "stream",
     "text": [
      "enter the value of y: 9\n"
     ]
    }
   ],
   "source": [
    "n = int(input(\"enter the value of y:\"))"
   ]
  },
  {
   "cell_type": "code",
   "execution_count": 20,
   "id": "823b1e03-bb65-4d7f-9b94-a8935ac06521",
   "metadata": {},
   "outputs": [
    {
     "name": "stdout",
     "output_type": "stream",
     "text": [
      "Sum of the series = 632728757.11\n"
     ]
    }
   ],
   "source": [
    "S = 1.0 + x\n",
    "term = 1\n",
    "count = 1\n",
    "while count <= n: # Outer while loop.\n",
    "    power = math.pow(x, count)\n",
    "    fact = 1\n",
    "    for i in range(1, count + 1): # Inner for loop.\n",
    "        fact = fact * 1\n",
    "    S = S + (power/count)\n",
    "    count = count + 1\n",
    "print('Sum of the series = %.2f'%S)"
   ]
  },
  {
   "cell_type": "code",
   "execution_count": null,
   "id": "5f736c17-365a-46b5-afc4-73610660dda3",
   "metadata": {},
   "outputs": [],
   "source": []
  },
  {
   "cell_type": "code",
   "execution_count": null,
   "id": "3677f23a-d806-4d7e-8fde-e3e727f179fd",
   "metadata": {},
   "outputs": [],
   "source": []
  },
  {
   "cell_type": "code",
   "execution_count": null,
   "id": "1589fe32-22fb-4bbd-a8d4-a6b20528b84f",
   "metadata": {},
   "outputs": [],
   "source": []
  },
  {
   "cell_type": "code",
   "execution_count": null,
   "id": "1cecf63a-8d36-4248-9df1-86e7e62d1002",
   "metadata": {},
   "outputs": [],
   "source": []
  },
  {
   "cell_type": "code",
   "execution_count": null,
   "id": "57db9578-5271-43ad-bf4e-b47bf57d464d",
   "metadata": {},
   "outputs": [],
   "source": []
  },
  {
   "cell_type": "code",
   "execution_count": null,
   "id": "0d9f0674-b470-4f18-9298-2cc8b34aae3a",
   "metadata": {},
   "outputs": [],
   "source": []
  },
  {
   "cell_type": "code",
   "execution_count": null,
   "id": "8219aaf1-d8e8-4a34-ab18-3d97917e757c",
   "metadata": {},
   "outputs": [],
   "source": []
  },
  {
   "cell_type": "code",
   "execution_count": null,
   "id": "8b3f00c6-bbb4-4496-a499-91ee3ac6a969",
   "metadata": {},
   "outputs": [],
   "source": []
  },
  {
   "cell_type": "code",
   "execution_count": null,
   "id": "a1e649c8-5591-40a8-a40e-970cf25bc543",
   "metadata": {},
   "outputs": [],
   "source": []
  },
  {
   "cell_type": "code",
   "execution_count": null,
   "id": "21bb1774-d93f-482a-8237-531a5bc10252",
   "metadata": {},
   "outputs": [],
   "source": []
  }
 ],
 "metadata": {
  "kernelspec": {
   "display_name": "Python 3 (ipykernel)",
   "language": "python",
   "name": "python3"
  },
  "language_info": {
   "codemirror_mode": {
    "name": "ipython",
    "version": 3
   },
   "file_extension": ".py",
   "mimetype": "text/x-python",
   "name": "python",
   "nbconvert_exporter": "python",
   "pygments_lexer": "ipython3",
   "version": "3.12.8"
  }
 },
 "nbformat": 4,
 "nbformat_minor": 5
}
