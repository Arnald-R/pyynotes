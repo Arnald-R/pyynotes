{
 "cells": [
  {
   "cell_type": "code",
   "execution_count": 1,
   "id": "29815e55-47ff-4cef-8e96-3469760f0125",
   "metadata": {},
   "outputs": [],
   "source": [
    "#createdat 20250121"
   ]
  },
  {
   "cell_type": "code",
   "execution_count": null,
   "id": "f0fdb5ef-b3ee-40b7-a63a-400dd9df999f",
   "metadata": {},
   "outputs": [],
   "source": [
    "https://www.scientecheasy.com/2022/10/operators-in-python.html/"
   ]
  },
  {
   "cell_type": "code",
   "execution_count": null,
   "id": "aec2fcfb-c5f0-4c92-8764-045e7cdec0e0",
   "metadata": {},
   "outputs": [],
   "source": [
    "#addition operators"
   ]
  },
  {
   "cell_type": "code",
   "execution_count": 2,
   "id": "088faa45-18e2-4ecd-a5d5-4d8d25800fac",
   "metadata": {},
   "outputs": [
    {
     "name": "stdout",
     "output_type": "stream",
     "text": [
      "sum of 'x' and 'y' is: 50\n"
     ]
    }
   ],
   "source": [
    "x = 20\n"
   ]
  },
  {
   "cell_type": "code",
   "execution_count": null,
   "id": "7996d5e6-0283-42bd-84f3-449bddedec11",
   "metadata": {},
   "outputs": [],
   "source": [
    "y = 30"
   ]
  },
  {
   "cell_type": "code",
   "execution_count": null,
   "id": "f069d7df-06e7-4510-8c24-068e7fa3e7f0",
   "metadata": {},
   "outputs": [],
   "source": [
    "sum = x + y\n",
    "print(\"sum of 'x' and 'y' is:\",sum)"
   ]
  },
  {
   "cell_type": "code",
   "execution_count": 3,
   "id": "ebce221c-5873-4dc6-93f9-fca3c12b04ae",
   "metadata": {},
   "outputs": [],
   "source": [
    "#converts decimal into integer"
   ]
  },
  {
   "cell_type": "code",
   "execution_count": 4,
   "id": "7c24c81e-868b-4a12-9f65-a2c7f121bdde",
   "metadata": {},
   "outputs": [
    {
     "name": "stdout",
     "output_type": "stream",
     "text": [
      "Sum of two numbers:  50.6\n"
     ]
    }
   ],
   "source": [
    "x = 20 \n",
    "y = 30.60 \n",
    "sum = x + y \n",
    "print(\"Sum of two numbers: \", sum) \n"
   ]
  },
  {
   "cell_type": "code",
   "execution_count": 6,
   "id": "b647a00e-5180-4eb4-a2f8-d017d9419111",
   "metadata": {},
   "outputs": [
    {
     "name": "stdout",
     "output_type": "stream",
     "text": [
      "fullname: ArnaldRamesh\n"
     ]
    }
   ],
   "source": [
    "#string concatentaion \n",
    "firstname = \"Arnald\"\n",
    "lastname = \"Ramesh\"\n",
    "fullname = firstname + lastname\n",
    "print(\"fullname:\",fullname)"
   ]
  },
  {
   "cell_type": "code",
   "execution_count": 7,
   "id": "76705a79-efee-46a0-aa58-3b80d093fb1e",
   "metadata": {},
   "outputs": [
    {
     "name": "stdout",
     "output_type": "stream",
     "text": [
      "[1, 2, 3, 4, 4, 56, 6, 9]\n"
     ]
    }
   ],
   "source": [
    "#list concatentation\n",
    "x = [1,2,3,4]\n",
    "y = [4,56,6,9]\n",
    "add = x + y\n",
    "print(add)"
   ]
  },
  {
   "cell_type": "code",
   "execution_count": 11,
   "id": "d65728c8-e253-445f-b033-a9d7a38d4691",
   "metadata": {},
   "outputs": [
    {
     "name": "stdout",
     "output_type": "stream",
     "text": [
      "('Hi', 22, 12, 'Arnald', 7, 2002)\n"
     ]
    }
   ],
   "source": [
    "x = ('Hi', 22)\n",
    "y = (12, 'Arnald')\n",
    "z = (7, 2002)\n",
    "result = x + y + z\n",
    "print(result)\n"
   ]
  },
  {
   "cell_type": "code",
   "execution_count": 12,
   "id": "cf12cf7b-850a-44d1-b38f-8114855e069d",
   "metadata": {},
   "outputs": [
    {
     "name": "stdout",
     "output_type": "stream",
     "text": [
      "subtraction: -10.5\n"
     ]
    }
   ],
   "source": [
    "#subtraction\n",
    "x = 34.50\n",
    "y = 45\n",
    "sub = x - y\n",
    "print(\"subtraction:\",sub)"
   ]
  },
  {
   "cell_type": "code",
   "execution_count": 13,
   "id": "5e5b4bc0-9334-48ab-b1e4-f5f7a1de6d66",
   "metadata": {},
   "outputs": [
    {
     "name": "stdout",
     "output_type": "stream",
     "text": [
      "multiplication: 300\n"
     ]
    }
   ],
   "source": [
    "#multiplication\n",
    "x = 10\n",
    "y = 30\n",
    "mul = x * y\n",
    "print(\"multiplication:\",mul)"
   ]
  },
  {
   "cell_type": "code",
   "execution_count": 16,
   "id": "ba65ef48-adb8-4410-b1a4-c0a94a8b00f3",
   "metadata": {},
   "outputs": [
    {
     "name": "stdout",
     "output_type": "stream",
     "text": [
      "result is to be: hellohellohello\n"
     ]
    }
   ],
   "source": [
    "text = 'hello'\n",
    "count = 3\n",
    "result = text * 3\n",
    "print(\"result is to be:\",result)"
   ]
  },
  {
   "cell_type": "code",
   "execution_count": 18,
   "id": "b2b6f200-3a8f-49e2-a30a-273e1012820e",
   "metadata": {},
   "outputs": [
    {
     "name": "stdout",
     "output_type": "stream",
     "text": [
      "list is: ['hi', 'Arnald', 'hi', 'Arnald']\n"
     ]
    }
   ],
   "source": [
    "list = ['hi','Arnald']\n",
    "y = 2\n",
    "result = list * 2\n",
    "print(\"list is:\",result)"
   ]
  },
  {
   "cell_type": "code",
   "execution_count": 20,
   "id": "a1e2f38d-b377-44e8-9da3-8dec6ea80de8",
   "metadata": {},
   "outputs": [
    {
     "name": "stdout",
     "output_type": "stream",
     "text": [
      "6.666666666666667\n",
      "3.0\n"
     ]
    }
   ],
   "source": [
    "#division\n",
    "x = 20\n",
    "y = 3\n",
    "print(x/y)\n",
    "x = 12.6\n",
    "y = 4.2\n",
    "print(x/y)"
   ]
  },
  {
   "cell_type": "code",
   "execution_count": 21,
   "id": "bbc8b4c3-2924-4044-be2c-7d1911ed1333",
   "metadata": {},
   "outputs": [
    {
     "name": "stdout",
     "output_type": "stream",
     "text": [
      "2\n",
      "0.8000000000000003\n"
     ]
    }
   ],
   "source": [
    "#modulus\n",
    "num1 = 20\n",
    "num2 = 3\n",
    "print(num1 % num2)\n",
    "x = 3.6\n",
    "y = 1.4\n",
    "print(x % y)"
   ]
  },
  {
   "cell_type": "code",
   "execution_count": 24,
   "id": "88bf574a-8c04-4c62-b0dc-c0f4feaab1b0",
   "metadata": {},
   "outputs": [
    {
     "name": "stdout",
     "output_type": "stream",
     "text": [
      "expo: 216\n",
      "expo: 12.166999999999998\n"
     ]
    }
   ],
   "source": [
    "#exponential op(**)\n",
    "num1 = 6\n",
    "num2 = 3\n",
    "exp = num1 ** num2\n",
    "print(\"expo:\",exp)\n",
    "x = 2.3\n",
    "y = 3\n",
    "exp = x ** y\n",
    "print(\"expo:\",exp)\n"
   ]
  },
  {
   "cell_type": "code",
   "execution_count": 27,
   "id": "0104a39f-6158-4a2f-bc13-9ef94d106a56",
   "metadata": {},
   "outputs": [
    {
     "name": "stdout",
     "output_type": "stream",
     "text": [
      "Result:  2\n",
      "Result:  3.0\n"
     ]
    }
   ],
   "source": [
    "#floor division it cuts the division after the decimal\n",
    "num1 = 5\n",
    "num2 = 2\n",
    "num = num1 // num2\n",
    "print(\"Result: \", num)\n",
    "\n",
    "x = 12.2\n",
    "y = 3.1\n",
    "z = x // y\n",
    "print(\"Result: \", z)\n"
   ]
  },
  {
   "cell_type": "code",
   "execution_count": 28,
   "id": "9aba7ac3-fdb4-4f7e-8f3d-ef538642fb8d",
   "metadata": {},
   "outputs": [
    {
     "name": "stdin",
     "output_type": "stream",
     "text": [
      "Enter the first number:  23\n",
      "Enter the second number:  45\n"
     ]
    },
    {
     "name": "stdout",
     "output_type": "stream",
     "text": [
      "Addition (x + y):  68\n",
      "Subtraction (x - y):  -22\n",
      "Multiplication (x * y):  1035\n",
      "Division (x / y):  0.5111111111111111\n",
      "Floor division (x // y):  0\n",
      "Modulus (x % y):  23\n",
      "Exponential (x ** y):  18956258430116202791319715713277227626159289499745290235663543\n"
     ]
    }
   ],
   "source": [
    "x = int(input(\"Enter the first number: \"))\n",
    "y = int(input(\"Enter the second number: \"))\n",
    "\n",
    "print(\"Addition (x + y): \", (x + y))\n",
    "print(\"Subtraction (x - y): \", (x - y))\n",
    "print(\"Multiplication (x * y): \", ( x * y))\n",
    "\n",
    "print(\"Division (x / y): \", (x / y ))\n",
    "print(\"Floor division (x // y): \", (x // y))\n",
    "\n",
    "print(\"Modulus (x % y): \", (x % y))\n",
    "print(\"Exponential (x ** y): \", (x ** y))\n"
   ]
  },
  {
   "cell_type": "code",
   "execution_count": null,
   "id": "e68c7002-66a6-481b-8211-6792ea957c38",
   "metadata": {},
   "outputs": [],
   "source": []
  }
 ],
 "metadata": {
  "kernelspec": {
   "display_name": "Python 3 (ipykernel)",
   "language": "python",
   "name": "python3"
  },
  "language_info": {
   "codemirror_mode": {
    "name": "ipython",
    "version": 3
   },
   "file_extension": ".py",
   "mimetype": "text/x-python",
   "name": "python",
   "nbconvert_exporter": "python",
   "pygments_lexer": "ipython3",
   "version": "3.12.8"
  }
 },
 "nbformat": 4,
 "nbformat_minor": 5
}
