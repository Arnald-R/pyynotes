{
 "cells": [
  {
   "cell_type": "code",
   "execution_count": null,
   "id": "1f312054-cc21-4b37-acc3-5d88d10f0c4d",
   "metadata": {},
   "outputs": [],
   "source": [
    "#created at 20250122"
   ]
  },
  {
   "cell_type": "code",
   "execution_count": null,
   "id": "ce5e0653-4a8e-4aeb-851a-423d13e8a592",
   "metadata": {},
   "outputs": [],
   "source": [
    "https://www.scientecheasy.com/2022/10/bitwise-operators-in-python.html/"
   ]
  },
  {
   "cell_type": "code",
   "execution_count": null,
   "id": "c166685f-122d-4904-8853-8b2befa97119",
   "metadata": {},
   "outputs": [],
   "source": [
    "#bitwise ~ not"
   ]
  },
  {
   "cell_type": "code",
   "execution_count": 1,
   "id": "2de33cd5-c72a-4f46-8258-427743df4ffd",
   "metadata": {},
   "outputs": [],
   "source": [
    " A = ~3"
   ]
  },
  {
   "cell_type": "code",
   "execution_count": 2,
   "id": "802a17c1-a6c7-4a88-bb34-b6d08cb33acc",
   "metadata": {},
   "outputs": [
    {
     "name": "stdout",
     "output_type": "stream",
     "text": [
      "Result of (~3):  -4\n"
     ]
    }
   ],
   "source": [
    "print(\"Result of (~3): \", A)"
   ]
  },
  {
   "cell_type": "code",
   "execution_count": 3,
   "id": "a47c712f-f213-4f6a-b770-1b846c5d95cc",
   "metadata": {},
   "outputs": [],
   "source": [
    "#left shift operator"
   ]
  },
  {
   "cell_type": "code",
   "execution_count": 4,
   "id": "0346c0ee-b634-4b10-88fc-6489675ab207",
   "metadata": {},
   "outputs": [],
   "source": [
    "A = 3"
   ]
  },
  {
   "cell_type": "code",
   "execution_count": 5,
   "id": "7b39cb2f-7a84-4ef6-99c4-b2da9894f15d",
   "metadata": {},
   "outputs": [],
   "source": [
    "B = 1"
   ]
  },
  {
   "cell_type": "code",
   "execution_count": 6,
   "id": "7f3fb940-0179-4d1e-8685-672475b669c1",
   "metadata": {},
   "outputs": [],
   "source": [
    "result = A << B"
   ]
  },
  {
   "cell_type": "code",
   "execution_count": 7,
   "id": "a6b87d36-4ffc-4943-b772-4cf9d1b6985b",
   "metadata": {},
   "outputs": [
    {
     "name": "stdout",
     "output_type": "stream",
     "text": [
      "Result of (A << B):  6\n"
     ]
    }
   ],
   "source": [
    "print(\"Result of (A << B): \", result)"
   ]
  },
  {
   "cell_type": "code",
   "execution_count": 8,
   "id": "c31120ec-43ac-48ca-ae0e-fd21cbb6ed1b",
   "metadata": {},
   "outputs": [],
   "source": [
    "X = 3\n"
   ]
  },
  {
   "cell_type": "code",
   "execution_count": 9,
   "id": "cbe46fa8-ba67-4610-831a-f352cc450664",
   "metadata": {},
   "outputs": [],
   "source": [
    "Y = 2"
   ]
  },
  {
   "cell_type": "code",
   "execution_count": 10,
   "id": "51b954fb-b0b6-4816-af8e-7eebb41fa104",
   "metadata": {},
   "outputs": [],
   "source": [
    "result = X << Y\n"
   ]
  },
  {
   "cell_type": "code",
   "execution_count": 11,
   "id": "c8025bc6-9eaa-4b45-8f3d-f74aebd1012e",
   "metadata": {},
   "outputs": [
    {
     "name": "stdout",
     "output_type": "stream",
     "text": [
      "Result of (X<<Y):  12\n"
     ]
    }
   ],
   "source": [
    "print(\"Result of (X<<Y): \", result)"
   ]
  },
  {
   "cell_type": "code",
   "execution_count": 12,
   "id": "23b88810-a448-48b0-b7fd-020b1fc047d3",
   "metadata": {},
   "outputs": [],
   "source": [
    "X = 25"
   ]
  },
  {
   "cell_type": "code",
   "execution_count": 13,
   "id": "08a91a91-18de-40da-9726-a70d05d91a5e",
   "metadata": {},
   "outputs": [],
   "source": [
    "Y = 2"
   ]
  },
  {
   "cell_type": "code",
   "execution_count": 14,
   "id": "3e66000e-4854-41bc-b98b-d092af1d18ee",
   "metadata": {},
   "outputs": [],
   "source": [
    "result = X << Y"
   ]
  },
  {
   "cell_type": "code",
   "execution_count": 15,
   "id": "0fca1e6a-2fe5-4137-91ad-e154a38e428d",
   "metadata": {},
   "outputs": [
    {
     "name": "stdout",
     "output_type": "stream",
     "text": [
      "Result of (A << B):  100\n"
     ]
    }
   ],
   "source": [
    "print(\"Result of (A << B): \", result)"
   ]
  },
  {
   "cell_type": "code",
   "execution_count": 16,
   "id": "2a69d1f8-4ec1-4fcd-bb4a-d1358530b534",
   "metadata": {},
   "outputs": [],
   "source": [
    "#right shift"
   ]
  },
  {
   "cell_type": "code",
   "execution_count": 17,
   "id": "80d9a60c-3f81-44e7-b3da-b756694fff3d",
   "metadata": {},
   "outputs": [],
   "source": [
    "A = 6"
   ]
  },
  {
   "cell_type": "code",
   "execution_count": 18,
   "id": "1452e450-15e0-48b0-bcec-08574714c5c6",
   "metadata": {},
   "outputs": [],
   "source": [
    "B = 1"
   ]
  },
  {
   "cell_type": "code",
   "execution_count": 19,
   "id": "cb9bcf4e-63ba-4b46-84e5-416b90479d85",
   "metadata": {},
   "outputs": [],
   "source": [
    "result = A >> B"
   ]
  },
  {
   "cell_type": "code",
   "execution_count": 20,
   "id": "43a79d9e-b7c8-4e54-aed0-a4f259b72635",
   "metadata": {},
   "outputs": [
    {
     "name": "stdout",
     "output_type": "stream",
     "text": [
      "Result of (A >> B):  3\n"
     ]
    }
   ],
   "source": [
    "print(\"Result of (A >> B): \", result)"
   ]
  },
  {
   "cell_type": "code",
   "execution_count": 21,
   "id": "d98594bc-2076-4a9b-a9a6-76780e217d27",
   "metadata": {},
   "outputs": [],
   "source": [
    "X = 6"
   ]
  },
  {
   "cell_type": "code",
   "execution_count": 22,
   "id": "8975484c-b4a6-4300-b0b4-775e484bdc4a",
   "metadata": {},
   "outputs": [],
   "source": [
    "Y = 2"
   ]
  },
  {
   "cell_type": "code",
   "execution_count": 23,
   "id": "20708710-d9f5-42c7-996f-1a363740fa2e",
   "metadata": {},
   "outputs": [],
   "source": [
    "result = X >> Y"
   ]
  },
  {
   "cell_type": "code",
   "execution_count": 24,
   "id": "b955ec49-aa30-4b08-bbb8-db6e149e197d",
   "metadata": {},
   "outputs": [
    {
     "name": "stdout",
     "output_type": "stream",
     "text": [
      "Result of (X >> Y):  1\n"
     ]
    }
   ],
   "source": [
    "print(\"Result of (X >> Y): \", result)"
   ]
  },
  {
   "cell_type": "code",
   "execution_count": null,
   "id": "c3ca86f0-205e-44e0-976b-9754154da4e9",
   "metadata": {},
   "outputs": [],
   "source": []
  }
 ],
 "metadata": {
  "kernelspec": {
   "display_name": "Python 3 (ipykernel)",
   "language": "python",
   "name": "python3"
  },
  "language_info": {
   "codemirror_mode": {
    "name": "ipython",
    "version": 3
   },
   "file_extension": ".py",
   "mimetype": "text/x-python",
   "name": "python",
   "nbconvert_exporter": "python",
   "pygments_lexer": "ipython3",
   "version": "3.12.8"
  }
 },
 "nbformat": 4,
 "nbformat_minor": 5
}
