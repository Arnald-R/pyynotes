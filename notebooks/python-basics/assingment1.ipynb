{
 "cells": [
  {
   "cell_type": "code",
   "execution_count": 3,
   "id": "24734bed-f03c-4ce8-8e42-15b880d5d8ab",
   "metadata": {},
   "outputs": [],
   "source": [
    "#Calculator "
   ]
  },
  {
   "cell_type": "code",
   "execution_count": 23,
   "id": "4c79ca12-551a-47ff-9c93-f729caccb0b7",
   "metadata": {},
   "outputs": [],
   "source": [
    "from typing import List"
   ]
  },
  {
   "cell_type": "code",
   "execution_count": null,
   "id": "ae7aea02-e6cc-4bec-892a-6b82cc2e75c8",
   "metadata": {},
   "outputs": [],
   "source": [
    "#function add"
   ]
  },
  {
   "cell_type": "code",
   "execution_count": 7,
   "id": "5098d3fa-e622-4e64-9d55-96b0c5326f20",
   "metadata": {},
   "outputs": [],
   "source": [
    "def add_numbers(a: float, b: float) -> float:\n",
    "    return a+b"
   ]
  },
  {
   "cell_type": "code",
   "execution_count": 9,
   "id": "806cf445-0c3f-46a8-86a2-bac630c46aa0",
   "metadata": {},
   "outputs": [],
   "source": [
    "x: float = 10.56\n",
    "y: float = 12.89"
   ]
  },
  {
   "cell_type": "code",
   "execution_count": 10,
   "id": "f66e4100-bdcc-4783-88bb-00e87123cff0",
   "metadata": {},
   "outputs": [
    {
     "name": "stdout",
     "output_type": "stream",
     "text": [
      "23.450000000000003\n"
     ]
    }
   ],
   "source": [
    "print(add_numbers(x,y))"
   ]
  },
  {
   "cell_type": "code",
   "execution_count": null,
   "id": "2de16439-4936-4963-b8a9-cac92e0e3b97",
   "metadata": {},
   "outputs": [],
   "source": [
    "#function subtraction"
   ]
  },
  {
   "cell_type": "code",
   "execution_count": 11,
   "id": "81217841-93fc-42f3-9cd7-f2fc5e19e4aa",
   "metadata": {},
   "outputs": [],
   "source": [
    "def subtract(a: float, b: float)-> float:\n",
    "    return a-b"
   ]
  },
  {
   "cell_type": "code",
   "execution_count": 12,
   "id": "135d7e0f-ef81-47be-aa0f-4a5234cd823a",
   "metadata": {},
   "outputs": [
    {
     "name": "stdout",
     "output_type": "stream",
     "text": [
      "-2.33\n"
     ]
    }
   ],
   "source": [
    "print(subtract(x,y))"
   ]
  },
  {
   "cell_type": "code",
   "execution_count": null,
   "id": "dde59ca9-846b-41d4-aacb-d9a6b273b2d7",
   "metadata": {},
   "outputs": [],
   "source": [
    "#function multiply"
   ]
  },
  {
   "cell_type": "code",
   "execution_count": 14,
   "id": "4b5dda3b-d4c4-4883-81d2-03aded7c4c15",
   "metadata": {},
   "outputs": [],
   "source": [
    "def multiply(a: float, b: float)-> float:\n",
    "    return a*b"
   ]
  },
  {
   "cell_type": "code",
   "execution_count": 15,
   "id": "c49f0886-5ded-43b6-86df-44066cef78c2",
   "metadata": {},
   "outputs": [
    {
     "name": "stdout",
     "output_type": "stream",
     "text": [
      "136.1184\n"
     ]
    }
   ],
   "source": [
    "print(multiply(x,y))"
   ]
  },
  {
   "cell_type": "code",
   "execution_count": 16,
   "id": "a11c7e47-abc1-456e-b5c3-510c495e36a7",
   "metadata": {},
   "outputs": [],
   "source": [
    "def divison(a: float, b: float)-> float:\n",
    "    return a/b"
   ]
  },
  {
   "cell_type": "code",
   "execution_count": 20,
   "id": "76a0a043-25fd-4cbf-b259-50737cbd5aed",
   "metadata": {},
   "outputs": [
    {
     "name": "stdin",
     "output_type": "stream",
     "text": [
      "enter the number 12.89\n"
     ]
    }
   ],
   "source": [
    "x = float(input(\"enter the number\"))"
   ]
  },
  {
   "cell_type": "code",
   "execution_count": 21,
   "id": "9bc0c714-d3f7-4c99-a125-f44971b5ca77",
   "metadata": {},
   "outputs": [
    {
     "name": "stdin",
     "output_type": "stream",
     "text": [
      "enter the number 12.81\n"
     ]
    }
   ],
   "source": [
    "y = float(input(\"enter the number\"))"
   ]
  },
  {
   "cell_type": "code",
   "execution_count": 22,
   "id": "476109ea-0992-4c62-b905-db9551e1452d",
   "metadata": {},
   "outputs": [
    {
     "name": "stdout",
     "output_type": "stream",
     "text": [
      "1.0062451209992194\n"
     ]
    }
   ],
   "source": [
    "print(divison(x,y))"
   ]
  },
  {
   "cell_type": "code",
   "execution_count": null,
   "id": "8b86ece9-958e-4b61-98e5-f4c0062445d8",
   "metadata": {},
   "outputs": [],
   "source": []
  }
 ],
 "metadata": {
  "kernelspec": {
   "display_name": "Python 3 (ipykernel)",
   "language": "python",
   "name": "python3"
  },
  "language_info": {
   "codemirror_mode": {
    "name": "ipython",
    "version": 3
   },
   "file_extension": ".py",
   "mimetype": "text/x-python",
   "name": "python",
   "nbconvert_exporter": "python",
   "pygments_lexer": "ipython3",
   "version": "3.12.8"
  }
 },
 "nbformat": 4,
 "nbformat_minor": 5
}
