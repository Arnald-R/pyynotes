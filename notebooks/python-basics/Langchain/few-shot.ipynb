{
 "cells": [
  {
   "cell_type": "code",
   "execution_count": 1,
   "id": "04b65927-e0e5-43c6-9e92-051c7e7a8907",
   "metadata": {},
   "outputs": [],
   "source": [
    "#created at 20250219"
   ]
  },
  {
   "cell_type": "code",
   "execution_count": null,
   "id": "c0f4c3a3-b23a-4329-950f-90fa2a693da6",
   "metadata": {},
   "outputs": [],
   "source": [
    "https://python.langchain.com/docs/how_to/few_shot_examples/"
   ]
  },
  {
   "cell_type": "code",
   "execution_count": null,
   "id": "a3103b8c-28b6-4486-ba57-8ece891a52e3",
   "metadata": {},
   "outputs": [],
   "source": []
  }
 ],
 "metadata": {
  "kernelspec": {
   "display_name": "Python 3 (ipykernel)",
   "language": "python",
   "name": "python3"
  },
  "language_info": {
   "codemirror_mode": {
    "name": "ipython",
    "version": 3
   },
   "file_extension": ".py",
   "mimetype": "text/x-python",
   "name": "python",
   "nbconvert_exporter": "python",
   "pygments_lexer": "ipython3",
   "version": "3.12.8"
  }
 },
 "nbformat": 4,
 "nbformat_minor": 5
}
