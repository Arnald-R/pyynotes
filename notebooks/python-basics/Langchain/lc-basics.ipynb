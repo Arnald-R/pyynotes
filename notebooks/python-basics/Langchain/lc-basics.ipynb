{
 "cells": [
  {
   "cell_type": "code",
   "execution_count": 1,
   "id": "cfa06a96-6f15-48f3-899a-8122e7546187",
   "metadata": {},
   "outputs": [],
   "source": [
    "#created at 20250218"
   ]
  },
  {
   "cell_type": "code",
   "execution_count": 2,
   "id": "5ce5b494-57e6-4c35-9c5b-5228e89119a5",
   "metadata": {},
   "outputs": [],
   "source": [
    "#langchain used to return the reverse code"
   ]
  },
  {
   "cell_type": "code",
   "execution_count": null,
   "id": "f19f0c28-282a-4983-984e-153df855827a",
   "metadata": {},
   "outputs": [],
   "source": [
    "from langchain_core.messages import HumanMessage, SystemMessage\n",
    "from langchain_openai import ChatOpenAI"
   ]
  }
 ],
 "metadata": {
  "kernelspec": {
   "display_name": "Python 3 (ipykernel)",
   "language": "python",
   "name": "python3"
  },
  "language_info": {
   "codemirror_mode": {
    "name": "ipython",
    "version": 3
   },
   "file_extension": ".py",
   "mimetype": "text/x-python",
   "name": "python",
   "nbconvert_exporter": "python",
   "pygments_lexer": "ipython3",
   "version": "3.12.8"
  }
 },
 "nbformat": 4,
 "nbformat_minor": 5
}
