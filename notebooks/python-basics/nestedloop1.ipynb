{
 "cells": [
  {
   "cell_type": "code",
   "execution_count": null,
   "id": "6cfdd988-5d50-4b57-afff-a474402701ab",
   "metadata": {},
   "outputs": [],
   "source": [
    "#created at 20250125"
   ]
  },
  {
   "cell_type": "code",
   "execution_count": null,
   "id": "a857ec77-4a9b-4444-b9fa-7875bb3e2959",
   "metadata": {},
   "outputs": [],
   "source": [
    "https://www.scientecheasy.com/2022/11/nested-loops-in-python.html/"
   ]
  },
  {
   "cell_type": "code",
   "execution_count": 2,
   "id": "5a9066f2-34a3-47b5-8dfd-7a4fbd6688cb",
   "metadata": {},
   "outputs": [
    {
     "name": "stdout",
     "output_type": "stream",
     "text": [
      "value of i in:  1\n",
      "value of j in:  1\n",
      "value of j in:  2\n",
      "value of i in:  2\n",
      "value of j in:  1\n",
      "value of j in:  2\n",
      "nested loop ends here\n"
     ]
    }
   ],
   "source": [
    "for i in 1,2:\n",
    "    print(\"value of i in: \",i)\n",
    "    for j in 1,2:\n",
    "        print(\"value of j in: \",j)\n",
    "print(\"nested loop ends here\")"
   ]
  },
  {
   "cell_type": "code",
   "execution_count": 3,
   "id": "2bbacfb5-7471-4313-940d-6769a0d7ab80",
   "metadata": {},
   "outputs": [],
   "source": [
    "x = 3"
   ]
  },
  {
   "cell_type": "code",
   "execution_count": 4,
   "id": "187ddd58-6469-4a2b-9f41-c0dedafd1693",
   "metadata": {},
   "outputs": [],
   "source": [
    "y = 5"
   ]
  },
  {
   "cell_type": "code",
   "execution_count": 5,
   "id": "3dbd8d5f-d333-451f-a1ce-609a00e99ef9",
   "metadata": {},
   "outputs": [
    {
     "name": "stdout",
     "output_type": "stream",
     "text": [
      "x value in:  3\n",
      "y value in:  5\n",
      "y value in:  6\n",
      "y value in:  7\n",
      "y value in:  8\n",
      "y value in:  9\n",
      "x value in:  4\n",
      "nested while ends here\n"
     ]
    }
   ],
   "source": [
    "while x < 5:\n",
    "    print(\"x value in: \", x)\n",
    "    while y < 10:\n",
    "        print(\"y value in: \",y)\n",
    "        y += 1\n",
    "    x += 1\n",
    "print(\"nested while ends here\")"
   ]
  },
  {
   "cell_type": "code",
   "execution_count": 6,
   "id": "b09c84b0-e8e7-4df9-9e7f-0709df3f5a04",
   "metadata": {},
   "outputs": [
    {
     "name": "stdout",
     "output_type": "stream",
     "text": [
      "math table of '6'\n"
     ]
    }
   ],
   "source": [
    "print(\"math table of '6'\")"
   ]
  },
  {
   "cell_type": "code",
   "execution_count": 8,
   "id": "dd843668-3c80-47e4-985f-07251bb237fc",
   "metadata": {},
   "outputs": [
    {
     "name": "stdout",
     "output_type": "stream",
     "text": [
      "6 * 1  =  6\n",
      "6 * 2  =  12\n",
      "6 * 3  =  18\n",
      "6 * 4  =  24\n",
      "6 * 5  =  30\n",
      "6 * 6  =  36\n",
      "6 * 7  =  42\n",
      "6 * 8  =  48\n",
      "6 * 9  =  54\n",
      "6 * 10  =  60\n",
      "\n",
      "loop ended\n"
     ]
    }
   ],
   "source": [
    "for i in range  (6,7):\n",
    "    for j in range(1 , 11):\n",
    "        x = i * j\n",
    "        print(i ,'*', j,' = ',x)\n",
    "    print()\n",
    "print(\"loop ended\")"
   ]
  },
  {
   "cell_type": "code",
   "execution_count": 12,
   "id": "4e132c07-719b-4b8d-97c7-b66e609bc41e",
   "metadata": {},
   "outputs": [],
   "source": [
    "x = 1"
   ]
  },
  {
   "cell_type": "code",
   "execution_count": 13,
   "id": "c9ecf8a8-6344-4265-a5df-7188cfa86025",
   "metadata": {},
   "outputs": [
    {
     "name": "stdout",
     "output_type": "stream",
     "text": [
      "\n",
      "1 * 1 = 1\n",
      "1 * 2 = 2\n",
      "1 * 3 = 3\n",
      "1 * 4 = 4\n",
      "1 * 5 = 5\n",
      "1 * 6 = 6\n",
      "1 * 7 = 7\n",
      "1 * 8 = 8\n",
      "1 * 9 = 9\n",
      "1 * 10 = 10\n",
      "\n",
      "2 * 1 = 2\n",
      "2 * 2 = 4\n",
      "2 * 3 = 6\n",
      "2 * 4 = 8\n",
      "2 * 5 = 10\n",
      "2 * 6 = 12\n",
      "2 * 7 = 14\n",
      "2 * 8 = 16\n",
      "2 * 9 = 18\n",
      "2 * 10 = 20\n",
      "\n",
      "3 * 1 = 3\n",
      "3 * 2 = 6\n",
      "3 * 3 = 9\n",
      "3 * 4 = 12\n",
      "3 * 5 = 15\n",
      "3 * 6 = 18\n",
      "3 * 7 = 21\n",
      "3 * 8 = 24\n",
      "3 * 9 = 27\n",
      "3 * 10 = 30\n",
      "\n",
      "4 * 1 = 4\n",
      "4 * 2 = 8\n",
      "4 * 3 = 12\n",
      "4 * 4 = 16\n",
      "4 * 5 = 20\n",
      "4 * 6 = 24\n",
      "4 * 7 = 28\n",
      "4 * 8 = 32\n",
      "4 * 9 = 36\n",
      "4 * 10 = 40\n",
      "\n",
      "5 * 1 = 5\n",
      "5 * 2 = 10\n",
      "5 * 3 = 15\n",
      "5 * 4 = 20\n",
      "5 * 5 = 25\n",
      "5 * 6 = 30\n",
      "5 * 7 = 35\n",
      "5 * 8 = 40\n",
      "5 * 9 = 45\n",
      "5 * 10 = 50\n",
      " nested loop winded up\n"
     ]
    }
   ],
   "source": [
    "while x <=5 :\n",
    "    tot,y = 1,1\n",
    "    print()\n",
    "    while y <= 10:\n",
    "        tot = x * y\n",
    "        print( x ,'*', y ,'=' ,tot)\n",
    "        y = y+1\n",
    "    x = x + 1\n",
    "print(\" nested loop winded up\")"
   ]
  },
  {
   "cell_type": "code",
   "execution_count": 14,
   "id": "133f97a2-5ba4-40be-bdf9-17c1706fa0e9",
   "metadata": {},
   "outputs": [
    {
     "name": "stdout",
     "output_type": "stream",
     "text": [
      "tables from 1 - 5\n"
     ]
    }
   ],
   "source": [
    "print(\"tables from 1 - 5\")"
   ]
  },
  {
   "cell_type": "code",
   "execution_count": 19,
   "id": "51b47335-e4dc-4d68-9104-e552aac732d0",
   "metadata": {},
   "outputs": [
    {
     "name": "stdout",
     "output_type": "stream",
     "text": [
      "1 * 1 = 1\n",
      "1 * 2 = 2\n",
      "1 * 3 = 3\n",
      "1 * 4 = 4\n",
      "1 * 5 = 5\n",
      "1 * 6 = 6\n",
      "1 * 7 = 7\n",
      "1 * 8 = 8\n",
      "1 * 9 = 9\n",
      "1 * 10 = 10\n",
      "\n",
      "2 * 1 = 2\n",
      "2 * 2 = 4\n",
      "2 * 3 = 6\n",
      "2 * 4 = 8\n",
      "2 * 5 = 10\n",
      "2 * 6 = 12\n",
      "2 * 7 = 14\n",
      "2 * 8 = 16\n",
      "2 * 9 = 18\n",
      "2 * 10 = 20\n",
      "\n",
      "3 * 1 = 3\n",
      "3 * 2 = 6\n",
      "3 * 3 = 9\n",
      "3 * 4 = 12\n",
      "3 * 5 = 15\n",
      "3 * 6 = 18\n",
      "3 * 7 = 21\n",
      "3 * 8 = 24\n",
      "3 * 9 = 27\n",
      "3 * 10 = 30\n",
      "\n",
      "4 * 1 = 4\n",
      "4 * 2 = 8\n",
      "4 * 3 = 12\n",
      "4 * 4 = 16\n",
      "4 * 5 = 20\n",
      "4 * 6 = 24\n",
      "4 * 7 = 28\n",
      "4 * 8 = 32\n",
      "4 * 9 = 36\n",
      "4 * 10 = 40\n",
      "\n",
      "5 * 1 = 5\n",
      "5 * 2 = 10\n",
      "5 * 3 = 15\n",
      "5 * 4 = 20\n",
      "5 * 5 = 25\n",
      "5 * 6 = 30\n",
      "5 * 7 = 35\n",
      "5 * 8 = 40\n",
      "5 * 9 = 45\n",
      "5 * 10 = 50\n",
      "\n"
     ]
    }
   ],
   "source": [
    "for i in range (1,6):\n",
    "    for j in range (1,11):\n",
    "        tot = i * j\n",
    "        print(i,'*',j ,'=',tot)\n",
    "    print()"
   ]
  },
  {
   "cell_type": "code",
   "execution_count": 20,
   "id": "0738458e-e1af-408e-b2df-3a4989a11c0c",
   "metadata": {},
   "outputs": [
    {
     "name": "stdout",
     "output_type": "stream",
     "text": [
      "triangle of *\n"
     ]
    }
   ],
   "source": [
    "print(\"triangle of *\")"
   ]
  },
  {
   "cell_type": "code",
   "execution_count": 23,
   "id": "d1028a50-4dbc-40ff-8338-19d602ee08d5",
   "metadata": {},
   "outputs": [
    {
     "name": "stdout",
     "output_type": "stream",
     "text": [
      "*\n",
      "**\n",
      "***\n",
      "****\n",
      "*****\n"
     ]
    }
   ],
   "source": [
    "for i in range (1,6):\n",
    "    for j in range( 1,i+1):\n",
    "        print('*',end = '')\n",
    "    print()"
   ]
  },
  {
   "cell_type": "code",
   "execution_count": 28,
   "id": "052eab27-ea54-4d63-9036-b4316f056660",
   "metadata": {},
   "outputs": [
    {
     "name": "stdout",
     "output_type": "stream",
     "text": [
      "truangle of numbers:\n"
     ]
    }
   ],
   "source": [
    "print(\"truangle of numbers:\")"
   ]
  },
  {
   "cell_type": "code",
   "execution_count": 43,
   "id": "d48a8166-b025-47ca-8a85-5fb2b44c2341",
   "metadata": {},
   "outputs": [
    {
     "name": "stdout",
     "output_type": "stream",
     "text": [
      "1  \n",
      "1  2  \n",
      "1  2  3  \n",
      "1  2  3  4  \n",
      "1  2  3  4  5  \n"
     ]
    }
   ],
   "source": [
    "for i in range (1,6):\n",
    "    for j in range(1,i+1):\n",
    "        print(j,' ',end = '')\n",
    "    print()"
   ]
  },
  {
   "cell_type": "code",
   "execution_count": null,
   "id": "fd5b9ce8-109f-450a-92ce-1d2e26ede92b",
   "metadata": {},
   "outputs": [],
   "source": []
  }
 ],
 "metadata": {
  "kernelspec": {
   "display_name": "Python 3 (ipykernel)",
   "language": "python",
   "name": "python3"
  },
  "language_info": {
   "codemirror_mode": {
    "name": "ipython",
    "version": 3
   },
   "file_extension": ".py",
   "mimetype": "text/x-python",
   "name": "python",
   "nbconvert_exporter": "python",
   "pygments_lexer": "ipython3",
   "version": "3.12.8"
  }
 },
 "nbformat": 4,
 "nbformat_minor": 5
}
