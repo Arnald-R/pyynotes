{
 "cells": [
  {
   "cell_type": "code",
   "execution_count": null,
   "id": "0f4896d9-4ae9-4828-8726-cfbb1521f852",
   "metadata": {},
   "outputs": [],
   "source": [
    "#createdat 20250122"
   ]
  },
  {
   "cell_type": "code",
   "execution_count": null,
   "id": "78258ff8-89af-4efe-83a9-aae08e51d7bd",
   "metadata": {},
   "outputs": [],
   "source": [
    "https://www.scientecheasy.com/2022/10/logical-operators-in-python.html/"
   ]
  },
  {
   "cell_type": "code",
   "execution_count": null,
   "id": "a0f63515-28ec-4df5-a8d3-cb15235450e0",
   "metadata": {},
   "outputs": [],
   "source": [
    "#logical not"
   ]
  },
  {
   "cell_type": "code",
   "execution_count": 3,
   "id": "b741b9ee-59d8-4ef2-a4cf-31552c07f72f",
   "metadata": {},
   "outputs": [
    {
     "name": "stdout",
     "output_type": "stream",
     "text": [
      "I love Python Programming\n"
     ]
    }
   ],
   "source": [
    "if(not(2 > 5)):\n",
    "     print(\"I love Python Programming\")"
   ]
  },
  {
   "cell_type": "code",
   "execution_count": 4,
   "id": "e5338ad0-150e-4a96-9150-835ba9e85168",
   "metadata": {},
   "outputs": [
    {
     "name": "stdout",
     "output_type": "stream",
     "text": [
      "False\n"
     ]
    }
   ],
   "source": [
    "print(not(5 == 5))"
   ]
  },
  {
   "cell_type": "code",
   "execution_count": 5,
   "id": "dc53ece1-f69e-4d2f-8340-4cd88390cf36",
   "metadata": {},
   "outputs": [
    {
     "name": "stdout",
     "output_type": "stream",
     "text": [
      "True\n"
     ]
    }
   ],
   "source": [
    "print(not(False))"
   ]
  },
  {
   "cell_type": "code",
   "execution_count": 6,
   "id": "72e901ed-93d0-4634-a4f3-464e1e01f83f",
   "metadata": {},
   "outputs": [
    {
     "name": "stdout",
     "output_type": "stream",
     "text": [
      "False\n"
     ]
    }
   ],
   "source": [
    "print(not(True))"
   ]
  },
  {
   "cell_type": "code",
   "execution_count": 8,
   "id": "af6cc50d-af94-4959-9a5e-a87aabda85c4",
   "metadata": {},
   "outputs": [
    {
     "name": "stdout",
     "output_type": "stream",
     "text": [
      "a:  False\n"
     ]
    }
   ],
   "source": [
    "a = not(\"ABc\" > \"ABC\") or False\n",
    "print(\"a: \", a)"
   ]
  },
  {
   "cell_type": "code",
   "execution_count": 9,
   "id": "9df1bb51-b1c8-47a9-82f5-ba6dfbc65dfd",
   "metadata": {},
   "outputs": [
    {
     "name": "stdout",
     "output_type": "stream",
     "text": [
      "b:  True\n"
     ]
    }
   ],
   "source": [
    "b = not(True) or not(False)\n",
    "print(\"b: \",b)"
   ]
  },
  {
   "cell_type": "code",
   "execution_count": 10,
   "id": "2ab0bdc2-2084-431b-8aad-f240133c52c8",
   "metadata": {},
   "outputs": [
    {
     "name": "stdout",
     "output_type": "stream",
     "text": [
      "c : True\n"
     ]
    }
   ],
   "source": [
    "c = (True >= 0) or not(20 == 20)\n",
    "print(\"c :\",c)"
   ]
  },
  {
   "cell_type": "code",
   "execution_count": 11,
   "id": "ad562ca6-9701-4bf0-84dc-804b02486685",
   "metadata": {},
   "outputs": [
    {
     "name": "stdout",
     "output_type": "stream",
     "text": [
      "d : True\n"
     ]
    }
   ],
   "source": [
    "d = not(\"5\" == 10) and not(False and (10 != 20))\n",
    "print(\"d :\",d)"
   ]
  },
  {
   "cell_type": "code",
   "execution_count": 12,
   "id": "9a458a39-cb73-4a3e-8ca7-59a6964658b1",
   "metadata": {},
   "outputs": [
    {
     "name": "stdout",
     "output_type": "stream",
     "text": [
      "a : True\n"
     ]
    }
   ],
   "source": [
    "a = not(\"abc\" < \"ABCD\") and not(False)\n",
    "print(\"a :\",a)"
   ]
  },
  {
   "cell_type": "code",
   "execution_count": 13,
   "id": "8e243585-c0f8-404f-8127-0c8b317fa68d",
   "metadata": {},
   "outputs": [
    {
     "name": "stdout",
     "output_type": "stream",
     "text": [
      "b : False\n"
     ]
    }
   ],
   "source": [
    "b = not True and not False\n",
    "print(\"b :\",b)"
   ]
  },
  {
   "cell_type": "code",
   "execution_count": 14,
   "id": "626085ee-25a5-4348-85cc-56faa90701f5",
   "metadata": {},
   "outputs": [
    {
     "name": "stdout",
     "output_type": "stream",
     "text": [
      "c : True\n"
     ]
    }
   ],
   "source": [
    "c = not(\"20\" == 20) and not(True == False)\n",
    "print(\"c :\",c)"
   ]
  }
 ],
 "metadata": {
  "kernelspec": {
   "display_name": "Python 3 (ipykernel)",
   "language": "python",
   "name": "python3"
  },
  "language_info": {
   "codemirror_mode": {
    "name": "ipython",
    "version": 3
   },
   "file_extension": ".py",
   "mimetype": "text/x-python",
   "name": "python",
   "nbconvert_exporter": "python",
   "pygments_lexer": "ipython3",
   "version": "3.12.8"
  }
 },
 "nbformat": 4,
 "nbformat_minor": 5
}
