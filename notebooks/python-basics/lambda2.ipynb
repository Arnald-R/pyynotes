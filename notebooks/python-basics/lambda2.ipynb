{
 "cells": [
  {
   "cell_type": "code",
   "execution_count": 1,
   "id": "3bec0fb9-b38c-4594-aa4d-4106cf702cd8",
   "metadata": {},
   "outputs": [],
   "source": [
    "#created at 20250203"
   ]
  },
  {
   "cell_type": "code",
   "execution_count": null,
   "id": "738e2716-6103-48b6-8e64-b4f0def8cdb2",
   "metadata": {},
   "outputs": [],
   "source": [
    "https://stevejoe1412.gitbook.io/ssn/python-subtopics/lambda-functions"
   ]
  },
  {
   "cell_type": "code",
   "execution_count": null,
   "id": "3f760c23-fda4-4719-91d7-60601c1267fe",
   "metadata": {},
   "outputs": [],
   "source": [
    "#using lambda with filter()"
   ]
  },
  {
   "cell_type": "code",
   "execution_count": null,
   "id": "f5202e0f-b216-4c73-b6a2-98e7d02810e9",
   "metadata": {},
   "outputs": [],
   "source": []
  },
  {
   "cell_type": "code",
   "execution_count": 2,
   "id": "bfca9bd1-5207-4d7f-abaa-27e3f211aeab",
   "metadata": {},
   "outputs": [],
   "source": [
    "numbers = [1, 2, 3, 4, 5, 6]"
   ]
  },
  {
   "cell_type": "code",
   "execution_count": 3,
   "id": "ace2251b-73a4-4256-90b7-2d6a9a3795d2",
   "metadata": {},
   "outputs": [],
   "source": [
    "result = filter(lambda x: x % 2 == 0, numbers)"
   ]
  },
  {
   "cell_type": "code",
   "execution_count": 4,
   "id": "9eb4398c-b432-4836-a638-cb752689d4af",
   "metadata": {},
   "outputs": [
    {
     "name": "stdout",
     "output_type": "stream",
     "text": [
      "[2, 4, 6]\n"
     ]
    }
   ],
   "source": [
    "print(list(result))  # Output: [2, 4, 6]"
   ]
  },
  {
   "cell_type": "code",
   "execution_count": 5,
   "id": "1347524d-2a04-4382-b990-8f78556fea59",
   "metadata": {},
   "outputs": [],
   "source": [
    "#using lambda with reduce()"
   ]
  },
  {
   "cell_type": "code",
   "execution_count": 6,
   "id": "ddb56337-6125-4545-bd15-310b9f4f20a3",
   "metadata": {},
   "outputs": [],
   "source": [
    "from functools import reduce"
   ]
  },
  {
   "cell_type": "code",
   "execution_count": 7,
   "id": "6a8c5c62-7561-4dc1-b576-50ede2b63562",
   "metadata": {},
   "outputs": [],
   "source": [
    "numbers = [1, 2, 3, 4, 5]"
   ]
  },
  {
   "cell_type": "code",
   "execution_count": 8,
   "id": "8c118b93-f8fe-4062-979c-de6732811f81",
   "metadata": {},
   "outputs": [],
   "source": [
    "result = reduce(lambda x, y: x * y, numbers)"
   ]
  },
  {
   "cell_type": "code",
   "execution_count": 9,
   "id": "e57dcfac-56df-461e-8930-03579dc663d6",
   "metadata": {},
   "outputs": [
    {
     "name": "stdout",
     "output_type": "stream",
     "text": [
      "120\n"
     ]
    }
   ],
   "source": [
    "print(result)  # Output: 120"
   ]
  },
  {
   "cell_type": "code",
   "execution_count": 10,
   "id": "ba8212b3-44ba-4168-aa48-b0cd963e3317",
   "metadata": {},
   "outputs": [],
   "source": [
    "#Lambda with Default Arguments"
   ]
  },
  {
   "cell_type": "code",
   "execution_count": 11,
   "id": "5e5def2f-5ade-4c43-ba8e-3feba6422d11",
   "metadata": {},
   "outputs": [],
   "source": [
    "def apply_func(func, x, y):\n",
    "    return func(x, y)"
   ]
  },
  {
   "cell_type": "code",
   "execution_count": 12,
   "id": "1ea4de9a-276a-43de-8d3f-31678d69e275",
   "metadata": {},
   "outputs": [],
   "source": [
    "result = apply_func(lambda x, y: x ** y, 2, 3)"
   ]
  },
  {
   "cell_type": "code",
   "execution_count": 13,
   "id": "054d76d7-234a-4417-8a54-65eb20a8c119",
   "metadata": {},
   "outputs": [
    {
     "name": "stdout",
     "output_type": "stream",
     "text": [
      "8\n"
     ]
    }
   ],
   "source": [
    "print(result) "
   ]
  },
  {
   "cell_type": "code",
   "execution_count": null,
   "id": "6511f50f-d0e4-4151-8fdc-974f3ca7ba49",
   "metadata": {},
   "outputs": [],
   "source": []
  }
 ],
 "metadata": {
  "kernelspec": {
   "display_name": "Python 3 (ipykernel)",
   "language": "python",
   "name": "python3"
  },
  "language_info": {
   "codemirror_mode": {
    "name": "ipython",
    "version": 3
   },
   "file_extension": ".py",
   "mimetype": "text/x-python",
   "name": "python",
   "nbconvert_exporter": "python",
   "pygments_lexer": "ipython3",
   "version": "3.12.8"
  }
 },
 "nbformat": 4,
 "nbformat_minor": 5
}
