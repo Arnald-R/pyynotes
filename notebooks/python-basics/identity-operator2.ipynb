{
 "cells": [
  {
   "cell_type": "code",
   "execution_count": null,
   "id": "150d32ce-1ad5-4aa4-a1ec-acbc59d3ddc4",
   "metadata": {},
   "outputs": [],
   "source": [
    "#created at 20250122"
   ]
  },
  {
   "cell_type": "code",
   "execution_count": null,
   "id": "885c6bf6-9b51-4e4b-ae77-54b82b6e20c4",
   "metadata": {},
   "outputs": [],
   "source": [
    "https://www.scientecheasy.com/2022/10/identity-operators-in-python.html/"
   ]
  },
  {
   "cell_type": "code",
   "execution_count": 1,
   "id": "59e1db69-5bc6-4a5c-be29-0af67725c602",
   "metadata": {},
   "outputs": [],
   "source": [
    "num1 = 20"
   ]
  },
  {
   "cell_type": "code",
   "execution_count": 2,
   "id": "071d84a3-8cd3-4370-ba6d-beea59c5517f",
   "metadata": {},
   "outputs": [],
   "source": [
    "num2 = 20"
   ]
  },
  {
   "cell_type": "code",
   "execution_count": 3,
   "id": "3404a59d-5fbb-4ea1-831e-3387bb4d8657",
   "metadata": {},
   "outputs": [
    {
     "name": "stdout",
     "output_type": "stream",
     "text": [
      "num1 =  20   id(num1):  9772200\n"
     ]
    }
   ],
   "source": [
    "print(\"num1 = \", num1, \" \", \"id(num1): \", id(num1))"
   ]
  },
  {
   "cell_type": "code",
   "execution_count": 4,
   "id": "a74d8f3d-713e-496d-a828-602608bfc2da",
   "metadata": {},
   "outputs": [
    {
     "name": "stdout",
     "output_type": "stream",
     "text": [
      "num2 =  20   id(num2):  9772200\n"
     ]
    }
   ],
   "source": [
    "print(\"num2 = \", num2, \" \", \"id(num2): \", id(num2))"
   ]
  },
  {
   "cell_type": "code",
   "execution_count": 5,
   "id": "d5067da8-324a-4e58-8480-e20fcdb7b493",
   "metadata": {},
   "outputs": [
    {
     "name": "stdout",
     "output_type": "stream",
     "text": [
      "num1 and num2 have the same identity\n"
     ]
    }
   ],
   "source": [
    "if(id(num1) == id(num2)):\n",
    "    print('num1 and num2 have the same identity')\n",
    "else:\n",
    "    print('num1 and num2 do not have the same identity')"
   ]
  },
  {
   "cell_type": "code",
   "execution_count": 6,
   "id": "3f9d51dd-7b94-4f7a-8f1d-63c0367b8fec",
   "metadata": {},
   "outputs": [
    {
     "name": "stdout",
     "output_type": "stream",
     "text": [
      "num1 =  20   id(num1):  9772200\n",
      "num2 =  40   id(num2):  9772840\n"
     ]
    }
   ],
   "source": [
    "num2 = 40\n",
    "print(\"num1 = \", num1, \" \", \"id(num1): \", id(num1))\n",
    "print(\"num2 = \", num2, \" \", \"id(num2): \", id(num2))"
   ]
  },
  {
   "cell_type": "code",
   "execution_count": 7,
   "id": "a14fbdb5-cba2-488f-8be7-ab1118b5525a",
   "metadata": {},
   "outputs": [
    {
     "name": "stdout",
     "output_type": "stream",
     "text": [
      "num1 and num2 do not have the same identity\n"
     ]
    }
   ],
   "source": [
    "if(num1 is not num2):\n",
    "    print('num1 and num2 do not have the same identity')\n",
    "else:\n",
    "    print('num1 and num2 have the same identity')\n"
   ]
  },
  {
   "cell_type": "code",
   "execution_count": null,
   "id": "cc363e98-1e06-49b6-8ffd-9471894ef0d4",
   "metadata": {},
   "outputs": [],
   "source": []
  }
 ],
 "metadata": {
  "kernelspec": {
   "display_name": "Python 3 (ipykernel)",
   "language": "python",
   "name": "python3"
  },
  "language_info": {
   "codemirror_mode": {
    "name": "ipython",
    "version": 3
   },
   "file_extension": ".py",
   "mimetype": "text/x-python",
   "name": "python",
   "nbconvert_exporter": "python",
   "pygments_lexer": "ipython3",
   "version": "3.12.8"
  }
 },
 "nbformat": 4,
 "nbformat_minor": 5
}
