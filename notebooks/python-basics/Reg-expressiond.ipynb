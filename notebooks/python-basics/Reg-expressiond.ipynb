{
 "cells": [
  {
   "cell_type": "code",
   "execution_count": 1,
   "id": "b162940e-8061-4e48-a585-8231adf0afba",
   "metadata": {},
   "outputs": [],
   "source": [
    "#created at 20250204"
   ]
  },
  {
   "cell_type": "code",
   "execution_count": null,
   "id": "e9425192-d0bb-4991-9c35-0a8d8ffef833",
   "metadata": {},
   "outputs": [],
   "source": [
    "https://stevejoe1412.gitbook.io/ssn/python-subtopics/regular-expressions-with-re"
   ]
  },
  {
   "cell_type": "code",
   "execution_count": 2,
   "id": "f75bb285-d985-48f9-8564-49c950367a2e",
   "metadata": {},
   "outputs": [],
   "source": [
    "import re"
   ]
  },
  {
   "cell_type": "code",
   "execution_count": 3,
   "id": "4ccde7ad-f584-448d-998b-8e4bf9a0a192",
   "metadata": {},
   "outputs": [
    {
     "name": "stdout",
     "output_type": "stream",
     "text": [
      "Match found: hello\n"
     ]
    }
   ],
   "source": [
    "# re.match() example\n",
    "result = re.match(r'hello', 'hello world')\n",
    "if result:\n",
    "    print(\"Match found:\", result.group())\n",
    "else:\n",
    "    print(\"No match\")\n"
   ]
  },
  {
   "cell_type": "code",
   "execution_count": 4,
   "id": "68a3ba6d-4013-413b-8dde-4395f051d36c",
   "metadata": {},
   "outputs": [
    {
     "name": "stdout",
     "output_type": "stream",
     "text": [
      "Search found: world\n"
     ]
    }
   ],
   "source": [
    "# re.search() example\n",
    "result = re.search(r'world', 'hello world')\n",
    "if result:\n",
    "    print(\"Search found:\", result.group())\n",
    "else:\n",
    "    print(\"No search match\")"
   ]
  },
  {
   "cell_type": "code",
   "execution_count": 5,
   "id": "dddbfbb0-01a0-4afb-9962-01931d64a8b2",
   "metadata": {},
   "outputs": [],
   "source": [
    "import re"
   ]
  },
  {
   "cell_type": "code",
   "execution_count": 6,
   "id": "f3c81781-f2e9-45d2-9d34-40e410533789",
   "metadata": {},
   "outputs": [
    {
     "name": "stdout",
     "output_type": "stream",
     "text": [
      "['The', 'fox', 'the', 'dog']\n"
     ]
    }
   ],
   "source": [
    "text = \"The quick brown fox jumps over the lazy dog.\"\n",
    "matches = re.findall(r'\\b\\w{3}\\b', text)  # Matches words of exactly 3 letters\n",
    "print(matches)  # Output: ['The', 'fox', 'the', 'dog']"
   ]
  },
  {
   "cell_type": "code",
   "execution_count": null,
   "id": "095f505e-c2b2-4739-b573-512d306650b1",
   "metadata": {},
   "outputs": [],
   "source": []
  }
 ],
 "metadata": {
  "kernelspec": {
   "display_name": "Python 3 (ipykernel)",
   "language": "python",
   "name": "python3"
  },
  "language_info": {
   "codemirror_mode": {
    "name": "ipython",
    "version": 3
   },
   "file_extension": ".py",
   "mimetype": "text/x-python",
   "name": "python",
   "nbconvert_exporter": "python",
   "pygments_lexer": "ipython3",
   "version": "3.12.8"
  }
 },
 "nbformat": 4,
 "nbformat_minor": 5
}
