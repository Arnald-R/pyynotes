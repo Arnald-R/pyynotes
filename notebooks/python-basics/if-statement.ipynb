{
 "cells": [
  {
   "cell_type": "code",
   "execution_count": 1,
   "id": "436fc825-fedd-4adf-9211-d28d15517211",
   "metadata": {},
   "outputs": [],
   "source": [
    "#created at 20250123"
   ]
  },
  {
   "cell_type": "code",
   "execution_count": null,
   "id": "72a4c544-f2be-469d-863c-cc07c72ca929",
   "metadata": {},
   "outputs": [],
   "source": [
    "https://www.scientecheasy.com/2022/10/if-statement-in-python.html/"
   ]
  },
  {
   "cell_type": "code",
   "execution_count": 2,
   "id": "487d8c75-05ec-449d-a97a-ec12f499f61b",
   "metadata": {},
   "outputs": [],
   "source": [
    "my_per = 85"
   ]
  },
  {
   "cell_type": "code",
   "execution_count": 3,
   "id": "8e88bc36-816a-4312-bae4-07d44a3444cc",
   "metadata": {},
   "outputs": [
    {
     "name": "stdout",
     "output_type": "stream",
     "text": [
      "Grade 'A'\n"
     ]
    }
   ],
   "source": [
    "if my_per >= 85:\n",
    "    print(\"Grade 'A'\")"
   ]
  },
  {
   "cell_type": "code",
   "execution_count": 4,
   "id": "ea799d19-2af9-4af1-84d3-86aea968023c",
   "metadata": {},
   "outputs": [
    {
     "name": "stdout",
     "output_type": "stream",
     "text": [
      "Code to be executed\n"
     ]
    }
   ],
   "source": [
    "if(True): # Here, we have used a boolean value True to check whether the condition is true or not.\n",
    "    print(\"Code to be executed\") # It will print statement. "
   ]
  },
  {
   "cell_type": "code",
   "execution_count": 5,
   "id": "17a9b184-c9f9-4792-b6fb-4c6b2f3447bd",
   "metadata": {},
   "outputs": [],
   "source": [
    "if(False): \n",
    "    print(\"Code not to be executed\") # It will not print statement."
   ]
  },
  {
   "cell_type": "code",
   "execution_count": 6,
   "id": "bee0c774-c35d-49f4-a09a-661d6fc74c6e",
   "metadata": {},
   "outputs": [
    {
     "name": "stdout",
     "output_type": "stream",
     "text": [
      "1  is a positvive number\n"
     ]
    }
   ],
   "source": [
    "x = 1\n",
    "if x > 0 :\n",
    "    print(x , \" is a positvive number\")"
   ]
  },
  {
   "cell_type": "code",
   "execution_count": 7,
   "id": "fd067103-c3d4-4aaf-bdff-75e3a69b90b8",
   "metadata": {},
   "outputs": [
    {
     "name": "stdout",
     "output_type": "stream",
     "text": [
      "10 is a nonzero number\n"
     ]
    }
   ],
   "source": [
    "x = 10 \n",
    "if(x):\n",
    "    print(x, \"is a nonzero number\")"
   ]
  },
  {
   "cell_type": "code",
   "execution_count": 8,
   "id": "c4546179-9bab-45b5-a8e2-804413daa919",
   "metadata": {},
   "outputs": [],
   "source": [
    "x, y = 10, 10"
   ]
  },
  {
   "cell_type": "code",
   "execution_count": 10,
   "id": "bdd5eaf5-3538-4b12-b278-496c6283c045",
   "metadata": {},
   "outputs": [
    {
     "name": "stdout",
     "output_type": "stream",
     "text": [
      "x and y are equal number\n"
     ]
    }
   ],
   "source": [
    "if(x == y):\n",
    "    print(\"x and y are equal number\")\n",
    "    "
   ]
  },
  {
   "cell_type": "code",
   "execution_count": 11,
   "id": "494ad3b8-bc4a-4aa2-b7e5-7930ef072b62",
   "metadata": {},
   "outputs": [],
   "source": [
    "x, y = 5, 10"
   ]
  },
  {
   "cell_type": "code",
   "execution_count": 12,
   "id": "f88d73c4-8522-4ebf-8d1a-ec5ccf164a05",
   "metadata": {},
   "outputs": [
    {
     "name": "stdout",
     "output_type": "stream",
     "text": [
      "x is less than y\n"
     ]
    }
   ],
   "source": [
    "if x < y:\n",
    "    print(\"x is less than y\")"
   ]
  },
  {
   "cell_type": "code",
   "execution_count": 13,
   "id": "bc1c34d0-0233-4f24-acc9-e94e76df4935",
   "metadata": {},
   "outputs": [],
   "source": [
    "x = True"
   ]
  },
  {
   "cell_type": "code",
   "execution_count": 14,
   "id": "9f38b721-6506-4f61-9523-021434e2579d",
   "metadata": {},
   "outputs": [
    {
     "name": "stdout",
     "output_type": "stream",
     "text": [
      "You are eligible to cast vote\n"
     ]
    }
   ],
   "source": [
    "if(x): # Here, we have useda boolean value to check whether the condition is true or not.\n",
    "    print(\"You are eligible to cast vote\")\n"
   ]
  },
  {
   "cell_type": "code",
   "execution_count": 17,
   "id": "98b39465-077c-486e-9b54-f87928e3efd2",
   "metadata": {},
   "outputs": [],
   "source": [
    "radius = 2.5"
   ]
  },
  {
   "cell_type": "code",
   "execution_count": 18,
   "id": "85edd334-7644-4541-b906-bfb747e48696",
   "metadata": {},
   "outputs": [],
   "source": [
    "pi = 3.14"
   ]
  },
  {
   "cell_type": "code",
   "execution_count": 20,
   "id": "5eab8f1f-9be0-4750-86b6-a21a732abe82",
   "metadata": {},
   "outputs": [
    {
     "name": "stdout",
     "output_type": "stream",
     "text": [
      "Area of the circle is:  19.625\n"
     ]
    }
   ],
   "source": [
    "if radius >= 0:\n",
    "    area = radius * radius * pi\n",
    "    print(\"Area of the circle is: \",area)"
   ]
  },
  {
   "cell_type": "code",
   "execution_count": null,
   "id": "2a051960-ccaa-4af5-aed2-a0ee75391047",
   "metadata": {},
   "outputs": [],
   "source": []
  },
  {
   "cell_type": "code",
   "execution_count": null,
   "id": "73251685-f49e-4347-a3f0-3bfb1cf4dfcf",
   "metadata": {},
   "outputs": [],
   "source": []
  }
 ],
 "metadata": {
  "kernelspec": {
   "display_name": "Python 3 (ipykernel)",
   "language": "python",
   "name": "python3"
  },
  "language_info": {
   "codemirror_mode": {
    "name": "ipython",
    "version": 3
   },
   "file_extension": ".py",
   "mimetype": "text/x-python",
   "name": "python",
   "nbconvert_exporter": "python",
   "pygments_lexer": "ipython3",
   "version": "3.12.8"
  }
 },
 "nbformat": 4,
 "nbformat_minor": 5
}
