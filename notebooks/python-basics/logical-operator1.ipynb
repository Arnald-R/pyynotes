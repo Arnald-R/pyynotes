{
 "cells": [
  {
   "cell_type": "code",
   "execution_count": 1,
   "id": "642fa8bb-e820-42b5-aaa0-657624f1e54b",
   "metadata": {},
   "outputs": [],
   "source": [
    "#created at 202250122"
   ]
  },
  {
   "cell_type": "code",
   "execution_count": null,
   "id": "eaac3917-34c0-4523-8aa9-d2e865613a6b",
   "metadata": {},
   "outputs": [],
   "source": [
    "https://www.scientecheasy.com/2022/10/logical-operators-in-python.html/"
   ]
  },
  {
   "cell_type": "code",
   "execution_count": 2,
   "id": "362ba008-97bd-4637-80dc-047a5e765676",
   "metadata": {},
   "outputs": [
    {
     "name": "stdout",
     "output_type": "stream",
     "text": [
      "True\n"
     ]
    }
   ],
   "source": [
    "print(20 > 10 and 30 < 40) # True. "
   ]
  },
  {
   "cell_type": "code",
   "execution_count": 3,
   "id": "c463d1e2-6908-470c-89a5-fa38f61f6b79",
   "metadata": {},
   "outputs": [
    {
     "name": "stdout",
     "output_type": "stream",
     "text": [
      "True\n"
     ]
    }
   ],
   "source": [
    "print(10 == 10 and 88 >= 78) # True."
   ]
  },
  {
   "cell_type": "code",
   "execution_count": 4,
   "id": "b7978b00-55a0-4664-af53-7df514022b67",
   "metadata": {},
   "outputs": [
    {
     "name": "stdout",
     "output_type": "stream",
     "text": [
      "False\n"
     ]
    }
   ],
   "source": [
    "print(10 == 20 and 50 <= 40) # False."
   ]
  },
  {
   "cell_type": "code",
   "execution_count": 5,
   "id": "909435e6-7896-4bee-ba8a-165323dbf4ad",
   "metadata": {},
   "outputs": [],
   "source": [
    "x, y = 10, 5 "
   ]
  },
  {
   "cell_type": "code",
   "execution_count": 6,
   "id": "ae683431-68ae-44fa-89da-5744f8f4f612",
   "metadata": {},
   "outputs": [],
   "source": [
    "result = (x == 10 and y == 5)"
   ]
  },
  {
   "cell_type": "code",
   "execution_count": 7,
   "id": "56b5538f-767b-4d4a-b067-601a561e6c2d",
   "metadata": {},
   "outputs": [
    {
     "name": "stdout",
     "output_type": "stream",
     "text": [
      "True\n"
     ]
    }
   ],
   "source": [
    "print(result)"
   ]
  },
  {
   "cell_type": "code",
   "execution_count": 8,
   "id": "6c0686c7-88a8-4926-b304-c645db07d4c5",
   "metadata": {},
   "outputs": [],
   "source": [
    "result = (x == 10 and y > x)"
   ]
  },
  {
   "cell_type": "code",
   "execution_count": 9,
   "id": "3cef803c-7baa-4bb1-8f16-59fadada5c50",
   "metadata": {},
   "outputs": [
    {
     "name": "stdout",
     "output_type": "stream",
     "text": [
      "False\n"
     ]
    }
   ],
   "source": [
    "print(result)"
   ]
  },
  {
   "cell_type": "code",
   "execution_count": 10,
   "id": "f940fbe5-c16d-4871-a23e-47d6ede932e1",
   "metadata": {},
   "outputs": [],
   "source": [
    "result = (x < y and y > x)"
   ]
  },
  {
   "cell_type": "code",
   "execution_count": 11,
   "id": "d92f0ce9-0483-4ac4-83ac-4454811f4df8",
   "metadata": {},
   "outputs": [
    {
     "name": "stdout",
     "output_type": "stream",
     "text": [
      "False\n"
     ]
    }
   ],
   "source": [
    "print(result)"
   ]
  },
  {
   "cell_type": "code",
   "execution_count": null,
   "id": "ea50eec7-afc3-448b-8811-1aebf53f3547",
   "metadata": {},
   "outputs": [],
   "source": [
    "# Use of logical and operator in the if statement."
   ]
  },
  {
   "cell_type": "code",
   "execution_count": 13,
   "id": "987d55a2-355c-4056-86ac-d1c7efd0a26e",
   "metadata": {},
   "outputs": [],
   "source": [
    "x, y, z = 20, 10, 25"
   ]
  },
  {
   "cell_type": "code",
   "execution_count": 15,
   "id": "e9eb6f24-244d-41ab-835a-cedea99a3404",
   "metadata": {},
   "outputs": [],
   "source": [
    "if(x > y and y > z):\n",
    "    print(\"Hello\")"
   ]
  },
  {
   "cell_type": "code",
   "execution_count": 16,
   "id": "76cf983b-25cb-4038-9a20-febe8c25d57c",
   "metadata": {},
   "outputs": [
    {
     "name": "stdout",
     "output_type": "stream",
     "text": [
      "Python\n"
     ]
    }
   ],
   "source": [
    "if(z > y and y < x):\n",
    "    print(\"Python\")"
   ]
  },
  {
   "cell_type": "code",
   "execution_count": 17,
   "id": "4c918175-6b34-4be4-8a54-00cb48e281ae",
   "metadata": {},
   "outputs": [],
   "source": [
    "if((y+200) < x and (y+150) < z):\n",
    "    print(\"Hello Python\")"
   ]
  },
  {
   "cell_type": "code",
   "execution_count": null,
   "id": "5b4773ae-fa83-46a0-beea-4b4818376ca0",
   "metadata": {},
   "outputs": [],
   "source": []
  }
 ],
 "metadata": {
  "kernelspec": {
   "display_name": "Python 3 (ipykernel)",
   "language": "python",
   "name": "python3"
  },
  "language_info": {
   "codemirror_mode": {
    "name": "ipython",
    "version": 3
   },
   "file_extension": ".py",
   "mimetype": "text/x-python",
   "name": "python",
   "nbconvert_exporter": "python",
   "pygments_lexer": "ipython3",
   "version": "3.12.8"
  }
 },
 "nbformat": 4,
 "nbformat_minor": 5
}
