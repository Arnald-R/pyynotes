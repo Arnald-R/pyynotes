{
 "cells": [
  {
   "cell_type": "code",
   "execution_count": 1,
   "id": "f67dc106-b77f-46ae-932e-411c3590064b",
   "metadata": {},
   "outputs": [],
   "source": [
    "#created at 20250203"
   ]
  },
  {
   "cell_type": "code",
   "execution_count": null,
   "id": "f8c3dd22-661d-451a-9ad4-f5c5e840c367",
   "metadata": {},
   "outputs": [],
   "source": [
    "https://stevejoe1412.gitbook.io/ssn/python-subtopics/regular-expressions-with-re"
   ]
  },
  {
   "cell_type": "code",
   "execution_count": 2,
   "id": "d7fcd756-d3db-4408-82c4-a5e13535032a",
   "metadata": {},
   "outputs": [],
   "source": [
    "import re"
   ]
  },
  {
   "cell_type": "code",
   "execution_count": 3,
   "id": "91475118-eb5a-4b9d-8e31-be50240bb72b",
   "metadata": {},
   "outputs": [],
   "source": [
    "text = \"hello world, hello\""
   ]
  },
  {
   "cell_type": "code",
   "execution_count": 4,
   "id": "e36c81d0-1400-412f-a48d-6ee1fdde6662",
   "metadata": {},
   "outputs": [
    {
     "name": "stdout",
     "output_type": "stream",
     "text": [
      "['hello', 'hello']\n"
     ]
    }
   ],
   "source": [
    "# Matches 'hello' as a whole word\n",
    "matches = re.findall(r'\\bhello\\b', text)\n",
    "print(matches)  # Output: ['hello', 'hello']"
   ]
  },
  {
   "cell_type": "code",
   "execution_count": 5,
   "id": "e16081b7-e51a-41b8-bf08-b6eaa6ace8a2",
   "metadata": {},
   "outputs": [],
   "source": [
    "import re"
   ]
  },
  {
   "cell_type": "code",
   "execution_count": 6,
   "id": "89a0ed3c-a683-4114-89df-9ca6527f2177",
   "metadata": {},
   "outputs": [],
   "source": [
    "text = \"Hello World\""
   ]
  },
  {
   "cell_type": "code",
   "execution_count": 7,
   "id": "7967cf98-2c85-4d33-82aa-0c62297de696",
   "metadata": {},
   "outputs": [
    {
     "name": "stdout",
     "output_type": "stream",
     "text": [
      "Match found: Hello\n"
     ]
    }
   ],
   "source": [
    "# Case-insensitive matching\n",
    "match = re.search(r'hello', text, re.IGNORECASE)\n",
    "if match:\n",
    "    print(\"Match found:\", match.group())  # Output: 'Hello'"
   ]
  },
  {
   "cell_type": "code",
   "execution_count": null,
   "id": "97adc3c2-4c14-4dce-b1e6-fdf907c65818",
   "metadata": {},
   "outputs": [],
   "source": []
  }
 ],
 "metadata": {
  "kernelspec": {
   "display_name": "Python 3 (ipykernel)",
   "language": "python",
   "name": "python3"
  },
  "language_info": {
   "codemirror_mode": {
    "name": "ipython",
    "version": 3
   },
   "file_extension": ".py",
   "mimetype": "text/x-python",
   "name": "python",
   "nbconvert_exporter": "python",
   "pygments_lexer": "ipython3",
   "version": "3.12.8"
  }
 },
 "nbformat": 4,
 "nbformat_minor": 5
}
