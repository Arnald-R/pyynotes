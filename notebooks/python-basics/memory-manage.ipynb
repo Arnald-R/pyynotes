{
 "cells": [
  {
   "cell_type": "code",
   "execution_count": 2,
   "id": "2001c88f-b391-4675-8fe5-502d70056b6f",
   "metadata": {},
   "outputs": [],
   "source": [
    "#created at 20250120"
   ]
  },
  {
   "cell_type": "code",
   "execution_count": null,
   "id": "34f34432-bc6a-4bc0-85a3-bfd9b58f60fb",
   "metadata": {},
   "outputs": [],
   "source": [
    "https://www.scientecheasy.com/2022/09/memory-management-in-python.html/"
   ]
  },
  {
   "cell_type": "code",
   "execution_count": 4,
   "id": "cdacfb3a-8eda-4e4e-ba07-e944bc2634e1",
   "metadata": {},
   "outputs": [
    {
     "name": "stdout",
     "output_type": "stream",
     "text": [
      "Final value =  150\n"
     ]
    }
   ],
   "source": [
    "#memory management\n",
    "def func(x):\n",
    "    value = (x + 5) * 10\n",
    "    return value\n",
    "x = 10\n",
    "final_value = func(x)\n",
    "print(\"Final value = \", final_value)\n"
   ]
  },
  {
   "cell_type": "code",
   "execution_count": null,
   "id": "8b99dcb5-edc5-4433-9541-4bbd4e44539d",
   "metadata": {},
   "outputs": [],
   "source": []
  }
 ],
 "metadata": {
  "kernelspec": {
   "display_name": "Python 3 (ipykernel)",
   "language": "python",
   "name": "python3"
  },
  "language_info": {
   "codemirror_mode": {
    "name": "ipython",
    "version": 3
   },
   "file_extension": ".py",
   "mimetype": "text/x-python",
   "name": "python",
   "nbconvert_exporter": "python",
   "pygments_lexer": "ipython3",
   "version": "3.12.8"
  }
 },
 "nbformat": 4,
 "nbformat_minor": 5
}
