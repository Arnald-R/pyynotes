{
 "cells": [
  {
   "cell_type": "code",
   "execution_count": null,
   "id": "5f617077-61dc-45ad-9621-148e62eb8ba0",
   "metadata": {},
   "outputs": [],
   "source": []
  },
  {
   "cell_type": "code",
   "execution_count": null,
   "id": "c826a36c-e029-4413-b1da-6652627dd805",
   "metadata": {},
   "outputs": [],
   "source": []
  },
  {
   "cell_type": "code",
   "execution_count": null,
   "id": "93b2751b-2f19-4af6-9435-b0d3b4f908df",
   "metadata": {},
   "outputs": [],
   "source": [
    "#created at 20250122"
   ]
  },
  {
   "cell_type": "code",
   "execution_count": null,
   "id": "2e013389-30e9-49ce-94d1-24e519f48723",
   "metadata": {},
   "outputs": [],
   "source": [
    "https://www.scientecheasy.com/2022/10/identity-operators-in-python.html/"
   ]
  },
  {
   "cell_type": "code",
   "execution_count": 3,
   "id": "11b66ea8-c701-4d22-af49-f81a805db0ef",
   "metadata": {},
   "outputs": [],
   "source": [
    "list1 = [20, 30.5, 40, 'text'] "
   ]
  },
  {
   "cell_type": "code",
   "execution_count": 4,
   "id": "253d5068-4702-48a3-910c-afaa551ac117",
   "metadata": {},
   "outputs": [],
   "source": [
    "list2 = [20, 30.5, 40, 'text']"
   ]
  },
  {
   "cell_type": "code",
   "execution_count": 5,
   "id": "220d0fe3-206f-44c8-83e1-f77ee8545a87",
   "metadata": {},
   "outputs": [],
   "source": [
    "result = list1 is list2"
   ]
  },
  {
   "cell_type": "code",
   "execution_count": 6,
   "id": "3e05ffac-9f20-4cc2-b34b-c8bf3a8b4e36",
   "metadata": {},
   "outputs": [
    {
     "name": "stdout",
     "output_type": "stream",
     "text": [
      "False\n"
     ]
    }
   ],
   "source": [
    "print(result)"
   ]
  },
  {
   "cell_type": "code",
   "execution_count": 8,
   "id": "961086d4-10c5-4b76-8343-c80d6de18b35",
   "metadata": {},
   "outputs": [],
   "source": [
    "dict1 = {\n",
    "    'name': 'jack',\n",
    "    'age': 20,\n",
    "}"
   ]
  },
  {
   "cell_type": "code",
   "execution_count": 9,
   "id": "6e01ca32-b269-4a64-b752-f84c7781bcb2",
   "metadata": {},
   "outputs": [],
   "source": [
    "dict2 = {\n",
    "    'name':'jack',\n",
    "    'age':20,\n",
    "}\n"
   ]
  },
  {
   "cell_type": "code",
   "execution_count": 10,
   "id": "21b409bd-e916-4681-97fb-751abcb327e2",
   "metadata": {},
   "outputs": [],
   "source": [
    "result = dict1 is dict2"
   ]
  },
  {
   "cell_type": "code",
   "execution_count": 11,
   "id": "2d22679d-237e-4ec8-8c48-53323968b7f0",
   "metadata": {},
   "outputs": [
    {
     "name": "stdout",
     "output_type": "stream",
     "text": [
      "False\n"
     ]
    }
   ],
   "source": [
    "print(result)"
   ]
  },
  {
   "cell_type": "code",
   "execution_count": 12,
   "id": "d987556f-8939-49f1-8cc0-a227c3ee8545",
   "metadata": {},
   "outputs": [],
   "source": [
    "tuple1 = (1, 2.3, 5,'Tech')"
   ]
  },
  {
   "cell_type": "code",
   "execution_count": 13,
   "id": "35c3f3dd-57e0-4589-9af9-6490739a461a",
   "metadata": {},
   "outputs": [],
   "source": [
    "tuple2 = (1, 2.3, 5,'Tech')"
   ]
  },
  {
   "cell_type": "code",
   "execution_count": 14,
   "id": "f13d61c1-3fb3-4464-b5b9-64724fdff927",
   "metadata": {},
   "outputs": [],
   "source": [
    "result = tuple1 is tuple2"
   ]
  },
  {
   "cell_type": "code",
   "execution_count": 15,
   "id": "c464db5d-abf4-4ecf-ab3d-63e6dcb81e1c",
   "metadata": {},
   "outputs": [
    {
     "name": "stdout",
     "output_type": "stream",
     "text": [
      "False\n"
     ]
    }
   ],
   "source": [
    "print(result)"
   ]
  },
  {
   "cell_type": "code",
   "execution_count": 16,
   "id": "eafafecd-6b61-4c6c-8689-320c9e5c1690",
   "metadata": {},
   "outputs": [],
   "source": [
    "#is not operator"
   ]
  },
  {
   "cell_type": "code",
   "execution_count": 17,
   "id": "dba3ecfd-36b6-4494-b80b-0af856a07abd",
   "metadata": {},
   "outputs": [],
   "source": [
    "num1 = 30"
   ]
  },
  {
   "cell_type": "code",
   "execution_count": 18,
   "id": "becfe6a8-6581-4730-b41b-951de28e921c",
   "metadata": {},
   "outputs": [],
   "source": [
    "num2 = 40"
   ]
  },
  {
   "cell_type": "code",
   "execution_count": 19,
   "id": "be4aa4ff-0d6f-45c9-955f-dac2ddab0f58",
   "metadata": {},
   "outputs": [
    {
     "name": "stdout",
     "output_type": "stream",
     "text": [
      "True\n"
     ]
    }
   ],
   "source": [
    "print(num1 is not num2)"
   ]
  },
  {
   "cell_type": "code",
   "execution_count": 20,
   "id": "4bcd14e1-0f39-486f-8d9c-5b71365122e2",
   "metadata": {},
   "outputs": [],
   "source": [
    "num2 = 30"
   ]
  },
  {
   "cell_type": "code",
   "execution_count": 21,
   "id": "889948a3-c86c-42b5-8690-bededa2b030c",
   "metadata": {},
   "outputs": [
    {
     "name": "stdout",
     "output_type": "stream",
     "text": [
      "False\n"
     ]
    }
   ],
   "source": [
    "print(num1 is not num2)"
   ]
  },
  {
   "cell_type": "code",
   "execution_count": 22,
   "id": "1be60132-ce63-4832-a3d6-316a6af527d9",
   "metadata": {},
   "outputs": [],
   "source": [
    "str1 = 'python'"
   ]
  },
  {
   "cell_type": "code",
   "execution_count": 23,
   "id": "282c6bd7-b91b-4932-be9f-b0b17e10f33a",
   "metadata": {},
   "outputs": [],
   "source": [
    "str2 = 'Langchain'"
   ]
  },
  {
   "cell_type": "code",
   "execution_count": 24,
   "id": "95f1bb8f-f905-4339-915e-fed79ca96642",
   "metadata": {},
   "outputs": [
    {
     "name": "stdout",
     "output_type": "stream",
     "text": [
      "True\n"
     ]
    }
   ],
   "source": [
    "print(str1 is not str2)"
   ]
  },
  {
   "cell_type": "code",
   "execution_count": 25,
   "id": "bf3ac4fb-a885-46a0-95a6-6be59d141410",
   "metadata": {},
   "outputs": [],
   "source": [
    "list1 = [2, 4, 6, 8, 10]"
   ]
  },
  {
   "cell_type": "code",
   "execution_count": 26,
   "id": "76ed1954-1084-43f5-823c-acd96604cf51",
   "metadata": {},
   "outputs": [],
   "source": [
    "list2 = [12, 14, 16]"
   ]
  },
  {
   "cell_type": "code",
   "execution_count": 27,
   "id": "0faa43ca-d8ff-4bce-a3eb-35856d3c9f15",
   "metadata": {},
   "outputs": [
    {
     "name": "stdout",
     "output_type": "stream",
     "text": [
      "True\n"
     ]
    }
   ],
   "source": [
    "print(list1 is not list2)"
   ]
  },
  {
   "cell_type": "code",
   "execution_count": 28,
   "id": "e5ff1cf0-98ef-4298-ad1a-05bde5847f9c",
   "metadata": {},
   "outputs": [],
   "source": [
    "num1 = 20"
   ]
  },
  {
   "cell_type": "code",
   "execution_count": 29,
   "id": "07a7a6e0-f38c-41d8-9769-d350382f611a",
   "metadata": {},
   "outputs": [],
   "source": [
    "num2 = 20"
   ]
  },
  {
   "cell_type": "code",
   "execution_count": 30,
   "id": "ad6b2ce2-0165-45dc-9c10-98a6f8386954",
   "metadata": {},
   "outputs": [
    {
     "name": "stdout",
     "output_type": "stream",
     "text": [
      "num1 =  20   id(num1):  9772200\n"
     ]
    }
   ],
   "source": [
    "print(\"num1 = \", num1, \" \", \"id(num1): \", id(num1))"
   ]
  },
  {
   "cell_type": "code",
   "execution_count": 31,
   "id": "174e4454-6014-4a53-acbe-31ee877fc6b6",
   "metadata": {},
   "outputs": [
    {
     "name": "stdout",
     "output_type": "stream",
     "text": [
      "num2 =  20   id(num2):  9772200\n"
     ]
    }
   ],
   "source": [
    "print(\"num2 = \", num2, \" \", \"id(num2): \", id(num2))"
   ]
  },
  {
   "cell_type": "code",
   "execution_count": 34,
   "id": "ff5d93b0-b6b5-4b2c-a46a-85847a5b46a2",
   "metadata": {},
   "outputs": [
    {
     "name": "stdout",
     "output_type": "stream",
     "text": [
      "num1 and num2 have the same identity\n"
     ]
    }
   ],
   "source": [
    "if(num1 is num2):\n",
    "    print('num1 and num2 have the same identity')\n",
    "else:\n",
    "    print('num1 and num2 do not have the same identity')"
   ]
  },
  {
   "cell_type": "code",
   "execution_count": 35,
   "id": "721d0730-b23a-4a70-8e1c-cb4907a1bf5d",
   "metadata": {},
   "outputs": [
    {
     "name": "stdout",
     "output_type": "stream",
     "text": [
      "num1 and num2 have the same identity\n"
     ]
    }
   ],
   "source": [
    "if(id(num1) == id(num2)):\n",
    "    print('num1 and num2 have the same identity')\n",
    "else:\n",
    "    print('num1 and num2 do not have the same identity')"
   ]
  },
  {
   "cell_type": "code",
   "execution_count": 36,
   "id": "6a53f694-5d97-454a-8700-6c9adcf6525b",
   "metadata": {},
   "outputs": [
    {
     "name": "stdout",
     "output_type": "stream",
     "text": [
      "num1 and num2 have the same identity\n"
     ]
    }
   ],
   "source": [
    "if(num1 is not num2):\n",
    "    print('num1 and num2 do not have the same identity')\n",
    "else:\n",
    "    print('num1 and num2 have the same identity')\n"
   ]
  },
  {
   "cell_type": "code",
   "execution_count": null,
   "id": "fdc5cf1b-7b94-4685-ae47-2165fefd0ee6",
   "metadata": {},
   "outputs": [],
   "source": []
  }
 ],
 "metadata": {
  "kernelspec": {
   "display_name": "Python 3 (ipykernel)",
   "language": "python",
   "name": "python3"
  },
  "language_info": {
   "codemirror_mode": {
    "name": "ipython",
    "version": 3
   },
   "file_extension": ".py",
   "mimetype": "text/x-python",
   "name": "python",
   "nbconvert_exporter": "python",
   "pygments_lexer": "ipython3",
   "version": "3.12.8"
  }
 },
 "nbformat": 4,
 "nbformat_minor": 5
}
