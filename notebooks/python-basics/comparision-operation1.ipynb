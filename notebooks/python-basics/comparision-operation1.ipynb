{
 "cells": [
  {
   "cell_type": "code",
   "execution_count": 1,
   "id": "280d9981-d602-45c2-9440-a3b9c26e4c6c",
   "metadata": {},
   "outputs": [],
   "source": [
    "#createdat 20250121"
   ]
  },
  {
   "cell_type": "code",
   "execution_count": null,
   "id": "317d0ecd-3a23-4bd5-bbdd-4c7766e9bd82",
   "metadata": {},
   "outputs": [],
   "source": [
    "https://www.scientecheasy.com/2022/10/comparison-operators-in-python.html/"
   ]
  },
  {
   "cell_type": "code",
   "execution_count": 2,
   "id": "8d4a4a81-ae27-4d10-a624-4180712caeef",
   "metadata": {},
   "outputs": [
    {
     "name": "stdout",
     "output_type": "stream",
     "text": [
      "Returned value of (x == y):  True\n"
     ]
    }
   ],
   "source": [
    "# Comparison between two numeric values using equal operator.\n",
    "x = 20\n",
    "y = 20\n",
    "print(\"Returned value of (x == y): \", x == y)"
   ]
  },
  {
   "cell_type": "code",
   "execution_count": 3,
   "id": "1963a1c5-7599-4b29-9652-c3759c3095ac",
   "metadata": {},
   "outputs": [
    {
     "name": "stdout",
     "output_type": "stream",
     "text": [
      "Returned value of (p == q):  True\n"
     ]
    }
   ],
   "source": [
    "# Comparison between two string values using equal operator.\n",
    "p = 'My name is John'\n",
    "q = 'My name is John'\n",
    "print(\"Returned value of (p == q): \", p == q)"
   ]
  },
  {
   "cell_type": "code",
   "execution_count": 4,
   "id": "e6e95642-70ba-45ac-ba39-6108c94250bb",
   "metadata": {},
   "outputs": [
    {
     "name": "stdout",
     "output_type": "stream",
     "text": [
      "Returned value of (r == s):  False\n"
     ]
    }
   ],
   "source": [
    "r = 'Text'\n",
    "s = 'text'\n",
    "print(\"Returned value of (r == s): \", r == s)"
   ]
  },
  {
   "cell_type": "code",
   "execution_count": 5,
   "id": "435721c4-26f9-4605-82bb-e0dc97dcbc6c",
   "metadata": {},
   "outputs": [
    {
     "name": "stdout",
     "output_type": "stream",
     "text": [
      "Returned value of (t == u):  False\n"
     ]
    }
   ],
   "source": [
    "# Comparison between two lists using equal operator.\n",
    "t = [1, 2, 3, 4]\n",
    "u = [1, 2, 3]\n",
    "print(\"Returned value of (t == u): \", t == u)"
   ]
  },
  {
   "cell_type": "code",
   "execution_count": 6,
   "id": "638172b3-4c6e-4759-a21e-44d0e2e0393d",
   "metadata": {},
   "outputs": [
    {
     "name": "stdout",
     "output_type": "stream",
     "text": [
      "Returned value of (List1 = List2):  True\n"
     ]
    }
   ],
   "source": [
    "List1 = [10, 20, 30, 40, 50]\n",
    "List2 = List1\n",
    "print(\"Returned value of (List1 = List2): \", List1 == List2)\n"
   ]
  },
  {
   "cell_type": "code",
   "execution_count": 8,
   "id": "a1da6b83-d3ee-41cd-8f6f-1f9e1ee49f3b",
   "metadata": {},
   "outputs": [
    {
     "name": "stdout",
     "output_type": "stream",
     "text": [
      "True\n"
     ]
    }
   ],
   "source": [
    "#exercise 2\n",
    "x = 50.0\n",
    "y = 50\n",
    "print(x == y)"
   ]
  },
  {
   "cell_type": "code",
   "execution_count": 9,
   "id": "94dd5a56-83f6-4297-8f22-6e6f9e11d3da",
   "metadata": {},
   "outputs": [
    {
     "name": "stdout",
     "output_type": "stream",
     "text": [
      "True\n"
     ]
    }
   ],
   "source": [
    "str1 = 'My name is John'\n",
    "str2 = str1\n",
    "print(str1 == str2)"
   ]
  },
  {
   "cell_type": "code",
   "execution_count": 10,
   "id": "160d6154-5520-40cc-a749-236fad7a8f90",
   "metadata": {},
   "outputs": [
    {
     "name": "stdout",
     "output_type": "stream",
     "text": [
      "True\n"
     ]
    }
   ],
   "source": [
    "a = True\n",
    "b = 1\n",
    "print(a == b)"
   ]
  },
  {
   "cell_type": "code",
   "execution_count": 11,
   "id": "ddf34e14-d1d1-4ac6-bd16-379e6e1cdc70",
   "metadata": {},
   "outputs": [
    {
     "name": "stdout",
     "output_type": "stream",
     "text": [
      "True\n"
     ]
    }
   ],
   "source": [
    "p = False\n",
    "q = 0\n",
    "print(p == q)"
   ]
  },
  {
   "cell_type": "code",
   "execution_count": 12,
   "id": "1d6c24b8-9cb7-4709-814d-ec3c654ab85f",
   "metadata": {},
   "outputs": [
    {
     "name": "stdout",
     "output_type": "stream",
     "text": [
      "False\n"
     ]
    }
   ],
   "source": [
    "r = '90'\n",
    "s = 90\n",
    "print(r == s)"
   ]
  },
  {
   "cell_type": "code",
   "execution_count": 13,
   "id": "74695f0f-8931-493c-a677-7d1e7f47aa34",
   "metadata": {},
   "outputs": [],
   "source": [
    "#exercise3"
   ]
  },
  {
   "cell_type": "code",
   "execution_count": 14,
   "id": "5996c1ed-5a66-484c-891d-54104c122cf4",
   "metadata": {},
   "outputs": [
    {
     "name": "stdout",
     "output_type": "stream",
     "text": [
      "Returned value of (x != y):  True\n"
     ]
    }
   ],
   "source": [
    "x = 50\n",
    "y = 90\n",
    "print(\"Returned value of (x != y): \", x != y)"
   ]
  },
  {
   "cell_type": "code",
   "execution_count": 15,
   "id": "051db75e-a7b3-441e-b825-fa6973332cf0",
   "metadata": {},
   "outputs": [
    {
     "name": "stdout",
     "output_type": "stream",
     "text": [
      "Returned value of (str1 != str2):  False\n"
     ]
    }
   ],
   "source": [
    "str1 = 'My name is John'\n",
    "str2 = str1\n",
    "print(\"Returned value of (str1 != str2): \", str1 != str2)\n"
   ]
  },
  {
   "cell_type": "code",
   "execution_count": 16,
   "id": "df67b696-161f-49d1-a92d-c0739df41f13",
   "metadata": {},
   "outputs": [
    {
     "name": "stdout",
     "output_type": "stream",
     "text": [
      "Returned value of (a != b):  False\n"
     ]
    }
   ],
   "source": [
    "a = True\n",
    "b = 1\n",
    "print(\"Returned value of (a != b): \", a != b)\n"
   ]
  },
  {
   "cell_type": "code",
   "execution_count": 17,
   "id": "8596f247-a436-4b3e-b74d-cf536aec6469",
   "metadata": {},
   "outputs": [
    {
     "name": "stdout",
     "output_type": "stream",
     "text": [
      "Returned value of (p != q):  False\n"
     ]
    }
   ],
   "source": [
    "p = False\n",
    "q = 0\n",
    "print(\"Returned value of (p != q): \", p != q)\n"
   ]
  },
  {
   "cell_type": "code",
   "execution_count": 18,
   "id": "43dcd3cd-3cfc-45f5-a681-ef8133dcfa8b",
   "metadata": {},
   "outputs": [
    {
     "name": "stdout",
     "output_type": "stream",
     "text": [
      "Returned value of (r !=s ):  True\n"
     ]
    }
   ],
   "source": [
    "r = '50'\n",
    "s = 50\n",
    "print(\"Returned value of (r !=s ): \", r != s)"
   ]
  },
  {
   "cell_type": "code",
   "execution_count": 19,
   "id": "1631ebfa-273d-4724-bcf0-9fd429cd4f04",
   "metadata": {},
   "outputs": [],
   "source": [
    "#exercise4"
   ]
  },
  {
   "cell_type": "code",
   "execution_count": 20,
   "id": "ffe49839-c788-4106-ae9a-1cd18fe6a096",
   "metadata": {},
   "outputs": [
    {
     "name": "stdout",
     "output_type": "stream",
     "text": [
      "True\n"
     ]
    }
   ],
   "source": [
    "List1 = [10, 20, 'Python', '30']\n",
    "List2 = [10, 20, 'Python', 30]\n",
    "print(List1 != List2)"
   ]
  },
  {
   "cell_type": "code",
   "execution_count": 22,
   "id": "52c9dd71-94b4-4a81-a5c3-1c3dea8e04a1",
   "metadata": {},
   "outputs": [],
   "source": [
    "Dict1 = {\n",
    "     1: 'a',\n",
    "     2: '20'\n",
    "}"
   ]
  },
  {
   "cell_type": "code",
   "execution_count": 23,
   "id": "5cf695d1-e6e2-4907-9493-fe5591ae5de4",
   "metadata": {},
   "outputs": [],
   "source": [
    "Dict2 = {\n",
    "    1: 'a',\n",
    "    2: '20'\n",
    "}"
   ]
  },
  {
   "cell_type": "code",
   "execution_count": 24,
   "id": "18c3bb8f-3a89-48f8-a0a2-307aa25150e3",
   "metadata": {},
   "outputs": [
    {
     "name": "stdout",
     "output_type": "stream",
     "text": [
      "False\n"
     ]
    }
   ],
   "source": [
    "print(Dict1 != Dict2)"
   ]
  },
  {
   "cell_type": "code",
   "execution_count": null,
   "id": "4db2a312-9bcb-4b3f-9a54-c2adb2913f0c",
   "metadata": {},
   "outputs": [],
   "source": []
  }
 ],
 "metadata": {
  "kernelspec": {
   "display_name": "Python 3 (ipykernel)",
   "language": "python",
   "name": "python3"
  },
  "language_info": {
   "codemirror_mode": {
    "name": "ipython",
    "version": 3
   },
   "file_extension": ".py",
   "mimetype": "text/x-python",
   "name": "python",
   "nbconvert_exporter": "python",
   "pygments_lexer": "ipython3",
   "version": "3.12.8"
  }
 },
 "nbformat": 4,
 "nbformat_minor": 5
}
