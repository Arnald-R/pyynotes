{
 "cells": [
  {
   "cell_type": "code",
   "execution_count": null,
   "id": "cc1d78b6-4c0e-4cc7-9feb-f41374a2de0f",
   "metadata": {},
   "outputs": [],
   "source": [
    "#created at 2025012"
   ]
  },
  {
   "cell_type": "code",
   "execution_count": null,
   "id": "5afad015-8b73-431e-a520-37a4b4116496",
   "metadata": {},
   "outputs": [],
   "source": [
    "https://www.scientecheasy.com/2022/10/identity-operators-in-python.html/"
   ]
  },
  {
   "cell_type": "code",
   "execution_count": null,
   "id": "36575b48-0537-478a-b392-4941ac0bc820",
   "metadata": {},
   "outputs": [],
   "source": [
    "# identity operators is or isnot"
   ]
  },
  {
   "cell_type": "code",
   "execution_count": 1,
   "id": "a514f574-1590-416c-a4e0-86d51b0e5365",
   "metadata": {},
   "outputs": [],
   "source": [
    "x = 20"
   ]
  },
  {
   "cell_type": "code",
   "execution_count": 2,
   "id": "56c7e98f-47a0-441e-897a-b522c2b228ef",
   "metadata": {},
   "outputs": [],
   "source": [
    "y = 20"
   ]
  },
  {
   "cell_type": "code",
   "execution_count": 3,
   "id": "b3c8c4cb-f1ba-451f-8fb6-0d88c25da7a3",
   "metadata": {},
   "outputs": [],
   "source": [
    "result = x is y"
   ]
  },
  {
   "cell_type": "code",
   "execution_count": 4,
   "id": "02103622-e279-463b-bb51-694f4e1c351f",
   "metadata": {},
   "outputs": [
    {
     "name": "stdout",
     "output_type": "stream",
     "text": [
      "True\n"
     ]
    }
   ],
   "source": [
    "print(result)"
   ]
  },
  {
   "cell_type": "code",
   "execution_count": 5,
   "id": "d2618ced-8b90-4a6a-b4aa-f499cb81939a",
   "metadata": {},
   "outputs": [],
   "source": [
    "str1 = \"python\""
   ]
  },
  {
   "cell_type": "code",
   "execution_count": 6,
   "id": "76289780-bc61-4b33-82d2-ed78f39e262a",
   "metadata": {},
   "outputs": [],
   "source": [
    "str2 = \"python\""
   ]
  },
  {
   "cell_type": "code",
   "execution_count": 7,
   "id": "6d87cabf-764b-49de-9a9a-0bd23d56a64f",
   "metadata": {},
   "outputs": [],
   "source": [
    "result = str1 is str2"
   ]
  },
  {
   "cell_type": "code",
   "execution_count": 8,
   "id": "92a94a5f-a37f-409c-a79a-a2094745f049",
   "metadata": {},
   "outputs": [
    {
     "name": "stdout",
     "output_type": "stream",
     "text": [
      "True\n"
     ]
    }
   ],
   "source": [
    "print(result)"
   ]
  },
  {
   "cell_type": "code",
   "execution_count": 9,
   "id": "1e710c4a-3ee9-465b-9964-9649104a26ee",
   "metadata": {},
   "outputs": [],
   "source": [
    "name1 = \"john\""
   ]
  },
  {
   "cell_type": "code",
   "execution_count": 10,
   "id": "6df95ae3-98b3-45ac-ac0f-fef7d7af6ece",
   "metadata": {},
   "outputs": [],
   "source": [
    "name2 = \"jack\""
   ]
  },
  {
   "cell_type": "code",
   "execution_count": 11,
   "id": "51725c13-1873-4b30-a561-d68e5c6774b3",
   "metadata": {},
   "outputs": [],
   "source": [
    "result = name1 is name2"
   ]
  },
  {
   "cell_type": "code",
   "execution_count": 12,
   "id": "6ccffcc5-12c6-4a10-998b-3f18bf43c7b7",
   "metadata": {},
   "outputs": [
    {
     "name": "stdout",
     "output_type": "stream",
     "text": [
      "False\n"
     ]
    }
   ],
   "source": [
    "print(result)"
   ]
  },
  {
   "cell_type": "code",
   "execution_count": 13,
   "id": "2146683a-dc16-4b72-8e7a-6eddabe9c004",
   "metadata": {},
   "outputs": [],
   "source": [
    "a = True"
   ]
  },
  {
   "cell_type": "code",
   "execution_count": 14,
   "id": "85794211-ca3f-46c6-b947-e1fca7852eeb",
   "metadata": {},
   "outputs": [],
   "source": [
    "b = 1"
   ]
  },
  {
   "cell_type": "code",
   "execution_count": 17,
   "id": "e00222f7-d27e-4238-ba42-bd9f7d349763",
   "metadata": {},
   "outputs": [],
   "source": [
    "result = a is b"
   ]
  },
  {
   "cell_type": "code",
   "execution_count": 18,
   "id": "9adeb200-b8b3-48f5-9b15-88ab9bd1a6db",
   "metadata": {},
   "outputs": [
    {
     "name": "stdout",
     "output_type": "stream",
     "text": [
      "False\n"
     ]
    }
   ],
   "source": [
    "print(result)"
   ]
  },
  {
   "cell_type": "code",
   "execution_count": 19,
   "id": "038d3eba-ce5b-4a65-880a-fb3ee62465e8",
   "metadata": {},
   "outputs": [],
   "source": [
    "p = \"20\""
   ]
  },
  {
   "cell_type": "code",
   "execution_count": 20,
   "id": "2214b00a-a0aa-4051-aa21-1cd910963bd1",
   "metadata": {},
   "outputs": [],
   "source": [
    "q = 20"
   ]
  },
  {
   "cell_type": "code",
   "execution_count": 21,
   "id": "5cd211b0-d5a8-40ee-be3a-b02c8b6cd8d6",
   "metadata": {},
   "outputs": [],
   "source": [
    "result = p is q"
   ]
  },
  {
   "cell_type": "code",
   "execution_count": 22,
   "id": "b69ef75b-739e-45d5-820f-7302c102a467",
   "metadata": {},
   "outputs": [
    {
     "name": "stdout",
     "output_type": "stream",
     "text": [
      "False\n"
     ]
    }
   ],
   "source": [
    "print(result)"
   ]
  },
  {
   "cell_type": "code",
   "execution_count": null,
   "id": "bcc392ef-3e7a-4f6a-b188-14a84c0a26e7",
   "metadata": {},
   "outputs": [],
   "source": []
  }
 ],
 "metadata": {
  "kernelspec": {
   "display_name": "Python 3 (ipykernel)",
   "language": "python",
   "name": "python3"
  },
  "language_info": {
   "codemirror_mode": {
    "name": "ipython",
    "version": 3
   },
   "file_extension": ".py",
   "mimetype": "text/x-python",
   "name": "python",
   "nbconvert_exporter": "python",
   "pygments_lexer": "ipython3",
   "version": "3.12.8"
  }
 },
 "nbformat": 4,
 "nbformat_minor": 5
}
