{
 "cells": [
  {
   "cell_type": "code",
   "execution_count": 1,
   "id": "de1b880a-3e91-4d54-9a57-4100eccd0b86",
   "metadata": {},
   "outputs": [],
   "source": [
    "#created at 20250203"
   ]
  },
  {
   "cell_type": "code",
   "execution_count": null,
   "id": "fabf344e-3b9c-47dc-9a8d-d8b27c00df29",
   "metadata": {},
   "outputs": [],
   "source": [
    "https://stevejoe1412.gitbook.io/ssn/python-subtopics/regular-expressions-with-re"
   ]
  },
  {
   "cell_type": "code",
   "execution_count": 2,
   "id": "f472a0f4-bb23-42ed-b070-9b76881ba363",
   "metadata": {},
   "outputs": [],
   "source": [
    "import re"
   ]
  },
  {
   "cell_type": "code",
   "execution_count": 3,
   "id": "07525920-05dd-41c7-99e0-baea72892491",
   "metadata": {},
   "outputs": [],
   "source": [
    "text = \"123abc def 456\""
   ]
  },
  {
   "cell_type": "code",
   "execution_count": 4,
   "id": "a05372ac-9918-413d-b2c8-458e05ad6a85",
   "metadata": {},
   "outputs": [
    {
     "name": "stdout",
     "output_type": "stream",
     "text": [
      "Digits: ['123', '456']\n"
     ]
    }
   ],
   "source": [
    "# Match digits\n",
    "digits = re.findall(r'\\d+', text)\n",
    "print(\"Digits:\", digits)  # Output: ['123', '456']"
   ]
  },
  {
   "cell_type": "code",
   "execution_count": 5,
   "id": "4880675b-9d81-443d-bc16-0806d609f5af",
   "metadata": {},
   "outputs": [
    {
     "name": "stdout",
     "output_type": "stream",
     "text": [
      "Words: ['123abc', 'def', '456']\n"
     ]
    }
   ],
   "source": [
    "# Match word characters (alphanumeric and underscore)\n",
    "words = re.findall(r'\\w+', text)\n",
    "print(\"Words:\", words)  # Output: ['123abc', 'def', '456']"
   ]
  },
  {
   "cell_type": "code",
   "execution_count": 6,
   "id": "7aa378a7-9e2d-4a88-8182-671593daa46f",
   "metadata": {},
   "outputs": [],
   "source": [
    "import re"
   ]
  },
  {
   "cell_type": "code",
   "execution_count": 7,
   "id": "09e2ef49-88fe-4723-98d1-849b4d2c37eb",
   "metadata": {},
   "outputs": [],
   "source": [
    "text = \"aaabbbcccc\""
   ]
  },
  {
   "cell_type": "code",
   "execution_count": 8,
   "id": "95c770e7-5043-4e02-bd60-47303b8e3902",
   "metadata": {},
   "outputs": [
    {
     "name": "stdout",
     "output_type": "stream",
     "text": [
      "Matched: aaa\n"
     ]
    }
   ],
   "source": [
    "# Matches three 'a's\n",
    "match = re.search(r'a{3}', text)\n",
    "if match:\n",
    "    print(\"Matched:\", match.group())  # Output: 'aaa'"
   ]
  },
  {
   "cell_type": "code",
   "execution_count": 9,
   "id": "e822d78f-fdbf-44ae-bb26-18de45fb6142",
   "metadata": {},
   "outputs": [
    {
     "name": "stdout",
     "output_type": "stream",
     "text": [
      "Matched: bbb\n"
     ]
    }
   ],
   "source": [
    "# Matches one or more 'b's\n",
    "match = re.search(r'b+', text)\n",
    "if match:\n",
    "    print(\"Matched:\", match.group())  # Output: 'bbb'"
   ]
  },
  {
   "cell_type": "code",
   "execution_count": 10,
   "id": "22dafd86-8b73-437f-be80-3c8167d03a1e",
   "metadata": {},
   "outputs": [
    {
     "name": "stdout",
     "output_type": "stream",
     "text": [
      "Matched: cccc\n"
     ]
    }
   ],
   "source": [
    "# Matches between 2 and 4 'c's\n",
    "match = re.search(r'c{2,4}', text)\n",
    "if match:\n",
    "    print(\"Matched:\", match.group())  # Output: 'cccc'"
   ]
  },
  {
   "cell_type": "code",
   "execution_count": null,
   "id": "6caf915e-7a5f-4a4e-9646-cec10fbc6977",
   "metadata": {},
   "outputs": [],
   "source": []
  }
 ],
 "metadata": {
  "kernelspec": {
   "display_name": "Python 3 (ipykernel)",
   "language": "python",
   "name": "python3"
  },
  "language_info": {
   "codemirror_mode": {
    "name": "ipython",
    "version": 3
   },
   "file_extension": ".py",
   "mimetype": "text/x-python",
   "name": "python",
   "nbconvert_exporter": "python",
   "pygments_lexer": "ipython3",
   "version": "3.12.8"
  }
 },
 "nbformat": 4,
 "nbformat_minor": 5
}
