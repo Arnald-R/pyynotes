{
 "cells": [
  {
   "cell_type": "code",
   "execution_count": null,
   "id": "60d81f55-8f04-41a5-8fdc-6f52eea8fd5f",
   "metadata": {},
   "outputs": [],
   "source": [
    "#created at 20250122"
   ]
  },
  {
   "cell_type": "code",
   "execution_count": null,
   "id": "977c483b-fab3-4de4-a7b6-3aa7f5af2940",
   "metadata": {},
   "outputs": [],
   "source": [
    "https://www.scientecheasy.com/2022/10/bitwise-operators-in-python.html/"
   ]
  },
  {
   "cell_type": "code",
   "execution_count": null,
   "id": "3a951b74-d8ae-43f5-bc9c-e86039aad81c",
   "metadata": {},
   "outputs": [],
   "source": [
    "#Bitwise & and"
   ]
  },
  {
   "cell_type": "code",
   "execution_count": 1,
   "id": "d67ae23b-06e1-4e21-ad12-2aa9753b7e6d",
   "metadata": {},
   "outputs": [],
   "source": [
    "A = 3"
   ]
  },
  {
   "cell_type": "code",
   "execution_count": 2,
   "id": "94b7a3df-2179-417f-b8a4-182f25aec238",
   "metadata": {},
   "outputs": [],
   "source": [
    "B = 6"
   ]
  },
  {
   "cell_type": "code",
   "execution_count": 4,
   "id": "1175c53d-406e-4463-a6f0-ec9ee570e1b1",
   "metadata": {},
   "outputs": [],
   "source": [
    "result = A & B"
   ]
  },
  {
   "cell_type": "code",
   "execution_count": 5,
   "id": "85ae789c-0180-4cea-9c54-405329ca6939",
   "metadata": {},
   "outputs": [
    {
     "name": "stdout",
     "output_type": "stream",
     "text": [
      "result of (3 & 6) is : 2\n"
     ]
    }
   ],
   "source": [
    "print(\"result of (3 & 6) is :\",result)"
   ]
  },
  {
   "cell_type": "code",
   "execution_count": 6,
   "id": "6b4a8544-c5c5-4396-b9cc-4568f920cebd",
   "metadata": {},
   "outputs": [],
   "source": [
    "A = 25"
   ]
  },
  {
   "cell_type": "code",
   "execution_count": 7,
   "id": "ecf540f7-b158-47a1-af0a-f55654b5724e",
   "metadata": {},
   "outputs": [],
   "source": [
    "B = 45"
   ]
  },
  {
   "cell_type": "code",
   "execution_count": 8,
   "id": "ea4d6f01-b06b-49d3-a043-7fc838865805",
   "metadata": {},
   "outputs": [],
   "source": [
    "result = A & B"
   ]
  },
  {
   "cell_type": "code",
   "execution_count": 9,
   "id": "b87855c8-c458-45eb-8206-66bf3884c6fd",
   "metadata": {},
   "outputs": [
    {
     "name": "stdout",
     "output_type": "stream",
     "text": [
      "Result of (25 & 45):  9\n"
     ]
    }
   ],
   "source": [
    "print(\"Result of (25 & 45): \", result)"
   ]
  },
  {
   "cell_type": "code",
   "execution_count": 10,
   "id": "2d78325d-84c4-4ade-8df7-60a179e3c525",
   "metadata": {},
   "outputs": [],
   "source": [
    "A = -25"
   ]
  },
  {
   "cell_type": "code",
   "execution_count": 11,
   "id": "0b5e28fd-e75f-4630-8e90-5dcc033549b6",
   "metadata": {},
   "outputs": [],
   "source": [
    "B = 45"
   ]
  },
  {
   "cell_type": "code",
   "execution_count": 12,
   "id": "8ea29eb6-4ca6-422d-9e30-dddc00076d18",
   "metadata": {},
   "outputs": [],
   "source": [
    "result = A & B"
   ]
  },
  {
   "cell_type": "code",
   "execution_count": 13,
   "id": "0ce2a596-96d5-42ec-984a-97fd8cc486c4",
   "metadata": {},
   "outputs": [
    {
     "name": "stdout",
     "output_type": "stream",
     "text": [
      "Result of (-25 & 45):  37\n"
     ]
    }
   ],
   "source": [
    "print(\"Result of (-25 & 45): \",result)"
   ]
  },
  {
   "cell_type": "code",
   "execution_count": 14,
   "id": "6cd2e02c-74c2-4c98-abb1-f9b26c260d18",
   "metadata": {},
   "outputs": [],
   "source": [
    "x = True"
   ]
  },
  {
   "cell_type": "code",
   "execution_count": 15,
   "id": "d031a4d4-5bdc-4b06-8c3a-7554998c440d",
   "metadata": {},
   "outputs": [],
   "source": [
    "Y = 45"
   ]
  },
  {
   "cell_type": "code",
   "execution_count": 16,
   "id": "677d524b-5f4e-4974-82bf-1e4589fa0eca",
   "metadata": {},
   "outputs": [],
   "source": [
    "result = x & Y"
   ]
  },
  {
   "cell_type": "code",
   "execution_count": 17,
   "id": "baa71352-de5b-461d-b018-772b2039ca2e",
   "metadata": {},
   "outputs": [
    {
     "name": "stdout",
     "output_type": "stream",
     "text": [
      "Result of (True & 10):  1\n"
     ]
    }
   ],
   "source": [
    "print(\"Result of (True & 10): \",result)"
   ]
  },
  {
   "cell_type": "code",
   "execution_count": 18,
   "id": "29c130e2-54e5-43f4-85c5-2509b5e76ba1",
   "metadata": {},
   "outputs": [],
   "source": [
    "x = False"
   ]
  },
  {
   "cell_type": "code",
   "execution_count": 19,
   "id": "eb1b8c52-0e50-4503-b0d3-c0000bbda72d",
   "metadata": {},
   "outputs": [],
   "source": [
    "y = 15"
   ]
  },
  {
   "cell_type": "code",
   "execution_count": 20,
   "id": "5063f4c8-adb9-47eb-81ac-09af54c0f6bd",
   "metadata": {},
   "outputs": [],
   "source": [
    "result = x & y"
   ]
  },
  {
   "cell_type": "code",
   "execution_count": 21,
   "id": "5f9e0d5b-35c8-407c-8ecc-fb3ea38f636c",
   "metadata": {},
   "outputs": [
    {
     "name": "stdout",
     "output_type": "stream",
     "text": [
      "Result of (False & 20):  0\n"
     ]
    }
   ],
   "source": [
    "print(\"Result of (False & 20): \", result)"
   ]
  },
  {
   "cell_type": "code",
   "execution_count": null,
   "id": "0bf5cb6e-204a-447f-96fd-c773a5e5dafa",
   "metadata": {},
   "outputs": [],
   "source": []
  }
 ],
 "metadata": {
  "kernelspec": {
   "display_name": "Python 3 (ipykernel)",
   "language": "python",
   "name": "python3"
  },
  "language_info": {
   "codemirror_mode": {
    "name": "ipython",
    "version": 3
   },
   "file_extension": ".py",
   "mimetype": "text/x-python",
   "name": "python",
   "nbconvert_exporter": "python",
   "pygments_lexer": "ipython3",
   "version": "3.12.8"
  }
 },
 "nbformat": 4,
 "nbformat_minor": 5
}
