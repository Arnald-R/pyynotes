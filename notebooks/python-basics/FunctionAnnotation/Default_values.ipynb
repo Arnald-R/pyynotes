{
 "cells": [
  {
   "cell_type": "code",
   "execution_count": 1,
   "id": "c6780a6a-5bd0-407e-bead-f194bb391f42",
   "metadata": {},
   "outputs": [],
   "source": [
    "#created at 20250210"
   ]
  },
  {
   "cell_type": "code",
   "execution_count": null,
   "id": "89eba192-89e6-4d23-bbcf-15f851de7685",
   "metadata": {},
   "outputs": [],
   "source": [
    "https://stevejoe1412.gitbook.io/ssn/python-subtopics/6.-dynamic-imports"
   ]
  },
  {
   "cell_type": "code",
   "execution_count": 2,
   "id": "da7ca9ff-4ff9-4ee5-ad09-f28063ffde1c",
   "metadata": {},
   "outputs": [
    {
     "name": "stdout",
     "output_type": "stream",
     "text": [
      "25\n",
      "125\n"
     ]
    }
   ],
   "source": [
    "def power(base: int,exponent: int = 2) -> int:\n",
    "    return base ** exponent\n",
    "\n",
    "print(power(5))\n",
    "print(power(5,3))"
   ]
  },
  {
   "cell_type": "code",
   "execution_count": null,
   "id": "fac6d8ea-089e-4579-a8d8-e5ba00be69c8",
   "metadata": {},
   "outputs": [],
   "source": []
  }
 ],
 "metadata": {
  "kernelspec": {
   "display_name": "Python 3 (ipykernel)",
   "language": "python",
   "name": "python3"
  },
  "language_info": {
   "codemirror_mode": {
    "name": "ipython",
    "version": 3
   },
   "file_extension": ".py",
   "mimetype": "text/x-python",
   "name": "python",
   "nbconvert_exporter": "python",
   "pygments_lexer": "ipython3",
   "version": "3.12.8"
  }
 },
 "nbformat": 4,
 "nbformat_minor": 5
}
