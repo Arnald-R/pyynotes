{
 "cells": [
  {
   "cell_type": "code",
   "execution_count": 1,
   "id": "d111ae9d-a2d9-402b-b8ce-151857c01ab8",
   "metadata": {},
   "outputs": [],
   "source": [
    "#created at 20250210"
   ]
  },
  {
   "cell_type": "code",
   "execution_count": null,
   "id": "ddc6f07d-ebf9-42a1-accd-553d592509e6",
   "metadata": {},
   "outputs": [],
   "source": [
    "https://stevejoe1412.gitbook.io/ssn/python-subtopics/6.-dynamic-imports"
   ]
  },
  {
   "cell_type": "code",
   "execution_count": 2,
   "id": "1e206cd5-1868-43e5-8792-2260663a067b",
   "metadata": {},
   "outputs": [
    {
     "name": "stdout",
     "output_type": "stream",
     "text": [
      "Hello, Alice!\n"
     ]
    }
   ],
   "source": [
    "def greet(name: str) -> str:\n",
    "    return f\"Hello, {name}!\"\n",
    "\n",
    "print(greet(\"Alice\"))"
   ]
  },
  {
   "cell_type": "code",
   "execution_count": null,
   "id": "6de41369-8b4a-4c1c-a5b2-8fdf6c6208dd",
   "metadata": {},
   "outputs": [],
   "source": []
  }
 ],
 "metadata": {
  "kernelspec": {
   "display_name": "Python 3 (ipykernel)",
   "language": "python",
   "name": "python3"
  },
  "language_info": {
   "codemirror_mode": {
    "name": "ipython",
    "version": 3
   },
   "file_extension": ".py",
   "mimetype": "text/x-python",
   "name": "python",
   "nbconvert_exporter": "python",
   "pygments_lexer": "ipython3",
   "version": "3.12.8"
  }
 },
 "nbformat": 4,
 "nbformat_minor": 5
}
