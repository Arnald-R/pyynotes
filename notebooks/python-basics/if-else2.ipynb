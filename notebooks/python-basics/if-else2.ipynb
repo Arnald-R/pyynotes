{
 "cells": [
  {
   "cell_type": "code",
   "execution_count": 1,
   "id": "b0436b2d-a85d-4123-9148-498d821ac2f9",
   "metadata": {},
   "outputs": [],
   "source": [
    "#created at 20250123"
   ]
  },
  {
   "cell_type": "code",
   "execution_count": null,
   "id": "3ec6e1c9-dabe-435b-91ae-c97592a55f07",
   "metadata": {},
   "outputs": [],
   "source": [
    "https://www.scientecheasy.com/2022/10/if-else-in-python.html/"
   ]
  },
  {
   "cell_type": "code",
   "execution_count": 2,
   "id": "b48458e9-e26f-474a-b026-dc8da2a3a36c",
   "metadata": {},
   "outputs": [
    {
     "name": "stdin",
     "output_type": "stream",
     "text": [
      "Enter your maths marks:  67\n"
     ]
    }
   ],
   "source": [
    "maths = int(input('Enter your maths marks: '))"
   ]
  },
  {
   "cell_type": "code",
   "execution_count": 3,
   "id": "bf69b41a-79f9-4859-b92a-f7ef279a17fa",
   "metadata": {},
   "outputs": [
    {
     "name": "stdin",
     "output_type": "stream",
     "text": [
      "Enter your physics marks:  87\n"
     ]
    }
   ],
   "source": [
    "phy = int(input('Enter your physics marks: '))"
   ]
  },
  {
   "cell_type": "code",
   "execution_count": 5,
   "id": "c2a19525-2b65-467d-8a5d-0cdc56ba3b71",
   "metadata": {},
   "outputs": [
    {
     "name": "stdin",
     "output_type": "stream",
     "text": [
      "Enter your chemistry marks:  82\n"
     ]
    }
   ],
   "source": [
    "chem = int(input('Enter your chemistry marks: '))"
   ]
  },
  {
   "cell_type": "code",
   "execution_count": 6,
   "id": "3090ab42-22e9-4e40-a12a-bb9b2c6165af",
   "metadata": {},
   "outputs": [],
   "source": [
    "total = chem + phy + maths"
   ]
  },
  {
   "cell_type": "code",
   "execution_count": 7,
   "id": "729969b9-ba97-4246-b380-3f38223c881a",
   "metadata": {},
   "outputs": [],
   "source": [
    "per = total / 3"
   ]
  },
  {
   "cell_type": "code",
   "execution_count": 8,
   "id": "e08a3895-8966-462c-8f25-d8f08d723686",
   "metadata": {},
   "outputs": [
    {
     "name": "stdout",
     "output_type": "stream",
     "text": [
      "Total marks obtained:  236\n"
     ]
    }
   ],
   "source": [
    "print(\"Total marks obtained: \", total)"
   ]
  },
  {
   "cell_type": "code",
   "execution_count": 9,
   "id": "b160d37b-fc7a-4e7f-b85a-fb1c48b5741f",
   "metadata": {},
   "outputs": [
    {
     "name": "stdout",
     "output_type": "stream",
     "text": [
      "Percentage:  78.66666666666667\n"
     ]
    }
   ],
   "source": [
    "print(\"Percentage: \", per)"
   ]
  },
  {
   "cell_type": "code",
   "execution_count": 10,
   "id": "d93f0594-d952-4390-9505-74b0549c2b50",
   "metadata": {},
   "outputs": [
    {
     "name": "stdout",
     "output_type": "stream",
     "text": [
      "Grade B\n"
     ]
    }
   ],
   "source": [
    "\n",
    "if per >= 85:\n",
    "    print(\"Grade A\")\n",
    "else:\n",
    "    print(\"Grade B\")"
   ]
  },
  {
   "cell_type": "code",
   "execution_count": 11,
   "id": "e9b3bf5c-6649-4d97-9961-0808da4052bb",
   "metadata": {},
   "outputs": [],
   "source": [
    "num1, num2 = 20, 7"
   ]
  },
  {
   "cell_type": "code",
   "execution_count": 12,
   "id": "a834574d-a7c7-4d95-8ebc-8ae60dc156a2",
   "metadata": {},
   "outputs": [
    {
     "name": "stdout",
     "output_type": "stream",
     "text": [
      "20 is not divisible by 7\n"
     ]
    }
   ],
   "source": [
    "\n",
    "if num1 % num2 == 0:\n",
    "    print(num1, \"is divisible by\", num2)\n",
    "else:\n",
    "    print(num1, \"is not divisible by\", num2)\n"
   ]
  },
  {
   "cell_type": "code",
   "execution_count": 13,
   "id": "2e274abb-e94a-42bf-a7e9-f17f71d1309d",
   "metadata": {},
   "outputs": [
    {
     "name": "stdin",
     "output_type": "stream",
     "text": [
      "Enter an integer number to check buzz:  77\n"
     ]
    }
   ],
   "source": [
    "num = int(input('Enter an integer number to check buzz: '))\n"
   ]
  },
  {
   "cell_type": "code",
   "execution_count": 14,
   "id": "1addacc5-5c9e-4f47-95d8-2d65fb1c360d",
   "metadata": {},
   "outputs": [
    {
     "name": "stdout",
     "output_type": "stream",
     "text": [
      "77 is a Buzz number\n"
     ]
    }
   ],
   "source": [
    "if (num % 10 == 0) or (num % 7 == 0):\n",
    "    print(num, \"is a Buzz number\")\n",
    "else:\n",
    "    print(num, \"is not a Buzz number\")"
   ]
  },
  {
   "cell_type": "code",
   "execution_count": 15,
   "id": "2e4858a6-5647-4d15-bb35-509efcc7420f",
   "metadata": {},
   "outputs": [],
   "source": [
    "salary = 7500"
   ]
  },
  {
   "cell_type": "code",
   "execution_count": 16,
   "id": "8ee29f73-3dba-4411-a1cf-3ffa7443fd52",
   "metadata": {},
   "outputs": [
    {
     "name": "stdout",
     "output_type": "stream",
     "text": [
      "Employee salary:  8625.0\n"
     ]
    }
   ],
   "source": [
    "if salary >= 8000:\n",
    "    salary = salary + (salary * 0.1)\n",
    "    print(\"Employee salary: \", salary)\n",
    "else:\n",
    "    salary = salary + (salary * 0.15)\n",
    "    print(\"Employee salary: \", salary)"
   ]
  },
  {
   "cell_type": "code",
   "execution_count": null,
   "id": "ebb2d88d-799f-486a-aa20-89598ddc3970",
   "metadata": {},
   "outputs": [],
   "source": []
  }
 ],
 "metadata": {
  "kernelspec": {
   "display_name": "Python 3 (ipykernel)",
   "language": "python",
   "name": "python3"
  },
  "language_info": {
   "codemirror_mode": {
    "name": "ipython",
    "version": 3
   },
   "file_extension": ".py",
   "mimetype": "text/x-python",
   "name": "python",
   "nbconvert_exporter": "python",
   "pygments_lexer": "ipython3",
   "version": "3.12.8"
  }
 },
 "nbformat": 4,
 "nbformat_minor": 5
}
