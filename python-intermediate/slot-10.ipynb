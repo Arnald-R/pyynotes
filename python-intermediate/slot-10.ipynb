{
 "cells": [
  {
   "cell_type": "code",
   "execution_count": null,
   "id": "20c915fa-9568-47c0-a381-8ba11fb3c8de",
   "metadata": {},
   "outputs": [],
   "source": [
    "#created at 20250226"
   ]
  },
  {
   "cell_type": "code",
   "execution_count": null,
   "id": "7d4d498e-cdd5-4335-8790-3f35af85d53b",
   "metadata": {},
   "outputs": [],
   "source": [
    "#https://stevejoe1412.gitbook.io/python-exploring/python-subtopics/1-50/15.-slot-classes"
   ]
  },
  {
   "cell_type": "code",
   "execution_count": 1,
   "id": "c970819d-b2e3-4013-b1cc-46c26503d84e",
   "metadata": {},
   "outputs": [],
   "source": [
    "#using __slots__ with multiple attributes"
   ]
  },
  {
   "cell_type": "code",
   "execution_count": 17,
   "id": "37940040-f6ba-4f46-994d-616d5b2ca5c1",
   "metadata": {},
   "outputs": [],
   "source": [
    "class Employee:\n",
    "    __slots__ = ['name','ids','dob','salary']\n",
    "\n",
    "    def __init__(self,name,ids,dob,salary):\n",
    "        self.name = name\n",
    "        self.ids = ids\n",
    "        self.dob = dob\n",
    "        self.salary = salary\n",
    "\n"
   ]
  },
  {
   "cell_type": "code",
   "execution_count": 19,
   "id": "d07f213b-6aef-4eb4-9908-4acba1c5ab60",
   "metadata": {},
   "outputs": [
    {
     "name": "stdout",
     "output_type": "stream",
     "text": [
      "Antony 34000\n"
     ]
    }
   ],
   "source": [
    "e = Employee(\"Antony\",\"19cts26\",12071998,34000)\n",
    "print(e.name,e.salary)"
   ]
  },
  {
   "cell_type": "code",
   "execution_count": null,
   "id": "b4e8756d-eaa5-40bd-a44c-8d2887a86a85",
   "metadata": {},
   "outputs": [],
   "source": []
  }
 ],
 "metadata": {
  "kernelspec": {
   "display_name": "Python 3 (ipykernel)",
   "language": "python",
   "name": "python3"
  },
  "language_info": {
   "codemirror_mode": {
    "name": "ipython",
    "version": 3
   },
   "file_extension": ".py",
   "mimetype": "text/x-python",
   "name": "python",
   "nbconvert_exporter": "python",
   "pygments_lexer": "ipython3",
   "version": "3.12.8"
  }
 },
 "nbformat": 4,
 "nbformat_minor": 5
}
