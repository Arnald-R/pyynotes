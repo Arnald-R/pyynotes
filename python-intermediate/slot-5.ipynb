{
 "cells": [
  {
   "cell_type": "code",
   "execution_count": 1,
   "id": "776f6949-c352-4618-b9d2-046c7743bd74",
   "metadata": {},
   "outputs": [],
   "source": [
    "#created at 20250226"
   ]
  },
  {
   "cell_type": "code",
   "execution_count": 2,
   "id": "fabb25ea-c3f5-456d-92d6-46383904b075",
   "metadata": {},
   "outputs": [],
   "source": [
    "#https://stevejoe1412.gitbook.io/python-exploring/python-subtopics/1-50/15.-slot-classes"
   ]
  },
  {
   "cell_type": "code",
   "execution_count": 3,
   "id": "414575fc-52a9-4c0b-9393-08e9a629789b",
   "metadata": {},
   "outputs": [],
   "source": [
    "#inheriting with __slots__"
   ]
  },
  {
   "cell_type": "code",
   "execution_count": 4,
   "id": "ec840a9a-7ab3-440c-909d-d80c4963902b",
   "metadata": {},
   "outputs": [],
   "source": [
    "class Parent():\n",
    "    __slots__ = ['x']\n",
    "\n",
    "class child(Parent):\n",
    "    __slots__ = ['y']\n",
    "\n",
    "c = child()\n",
    "c.x = 5\n",
    "c.y = 10"
   ]
  },
  {
   "cell_type": "code",
   "execution_count": null,
   "id": "d9423eee-35e4-4e5e-926a-fb838451d043",
   "metadata": {},
   "outputs": [],
   "source": []
  }
 ],
 "metadata": {
  "kernelspec": {
   "display_name": "Python 3 (ipykernel)",
   "language": "python",
   "name": "python3"
  },
  "language_info": {
   "codemirror_mode": {
    "name": "ipython",
    "version": 3
   },
   "file_extension": ".py",
   "mimetype": "text/x-python",
   "name": "python",
   "nbconvert_exporter": "python",
   "pygments_lexer": "ipython3",
   "version": "3.12.8"
  }
 },
 "nbformat": 4,
 "nbformat_minor": 5
}
