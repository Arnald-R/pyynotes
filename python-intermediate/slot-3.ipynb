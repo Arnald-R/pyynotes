{
 "cells": [
  {
   "cell_type": "code",
   "execution_count": 1,
   "id": "b75b643c-2c80-40b0-9518-717e43feb6bb",
   "metadata": {},
   "outputs": [],
   "source": [
    "#created at 20250226"
   ]
  },
  {
   "cell_type": "code",
   "execution_count": 2,
   "id": "8050171e-53cb-43e0-ae1e-930460c3e829",
   "metadata": {},
   "outputs": [],
   "source": [
    "#https://stevejoe1412.gitbook.io/python-exploring/python-subtopics/1-50/15.-slot-classes"
   ]
  },
  {
   "cell_type": "code",
   "execution_count": 3,
   "id": "f606a849-572a-4667-bf28-84afa1ef2c8b",
   "metadata": {},
   "outputs": [],
   "source": [
    "import sys"
   ]
  },
  {
   "cell_type": "code",
   "execution_count": 6,
   "id": "b4a4c2f8-8020-4a70-a0bd-f602ce00c788",
   "metadata": {},
   "outputs": [],
   "source": [
    "class Withoutslots:\n",
    "    def __init__(self,name,age):\n",
    "        self.name = name\n",
    "        self.age = age\n",
    "\n",
    "class withslots:\n",
    "    __slots__ = ['name','age']\n",
    "\n",
    "    def __init__(self,name,age):\n",
    "        self.name = name\n",
    "        self.age = age"
   ]
  },
  {
   "cell_type": "code",
   "execution_count": 7,
   "id": "2c1de156-d001-41c9-bfe3-1643d19fbb46",
   "metadata": {},
   "outputs": [],
   "source": [
    "A = Withoutslots(\"Arnald\",22)\n",
    "B = withslots(\"Andrews\",25)"
   ]
  },
  {
   "cell_type": "code",
   "execution_count": 11,
   "id": "5b386c35-2f84-4315-a64a-610e92f6f8b0",
   "metadata": {},
   "outputs": [
    {
     "name": "stdout",
     "output_type": "stream",
     "text": [
      "296\n"
     ]
    }
   ],
   "source": [
    "print(sys.getsizeof(A.__dict__))"
   ]
  },
  {
   "cell_type": "code",
   "execution_count": 12,
   "id": "734620b1-1b36-4963-932a-78c15fa45369",
   "metadata": {},
   "outputs": [
    {
     "name": "stdout",
     "output_type": "stream",
     "text": [
      "48\n"
     ]
    }
   ],
   "source": [
    "print(sys.getsizeof(B))"
   ]
  },
  {
   "cell_type": "code",
   "execution_count": null,
   "id": "8e0f5778-abf8-4182-8c5f-0dcf1da9404b",
   "metadata": {},
   "outputs": [],
   "source": []
  }
 ],
 "metadata": {
  "kernelspec": {
   "display_name": "Python 3 (ipykernel)",
   "language": "python",
   "name": "python3"
  },
  "language_info": {
   "codemirror_mode": {
    "name": "ipython",
    "version": 3
   },
   "file_extension": ".py",
   "mimetype": "text/x-python",
   "name": "python",
   "nbconvert_exporter": "python",
   "pygments_lexer": "ipython3",
   "version": "3.12.8"
  }
 },
 "nbformat": 4,
 "nbformat_minor": 5
}
