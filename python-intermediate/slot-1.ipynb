{
 "cells": [
  {
   "cell_type": "code",
   "execution_count": 1,
   "id": "96bfb656-abe3-4e6e-953e-6a383ab86d32",
   "metadata": {},
   "outputs": [],
   "source": [
    "#created at 20250226"
   ]
  },
  {
   "cell_type": "code",
   "execution_count": 2,
   "id": "bafe5f30-51e6-46e1-aec8-3ac0131b7d0d",
   "metadata": {},
   "outputs": [],
   "source": [
    "#https://stevejoe1412.gitbook.io/python-exploring/python-subtopics/1-50/15.-slot-classes"
   ]
  },
  {
   "cell_type": "code",
   "execution_count": 12,
   "id": "8ba0ef0a-d139-4c4d-be72-2aec464ed79c",
   "metadata": {},
   "outputs": [],
   "source": [
    "class Person:\n",
    "    __slots__ = ['name','age']\n",
    "\n",
    "    def __init__(self,name,age):\n",
    "        self.name = name\n",
    "        self.age  = age\n"
   ]
  },
  {
   "cell_type": "code",
   "execution_count": 13,
   "id": "4a3111a4-5d14-47f2-9881-a5e924e3b90c",
   "metadata": {},
   "outputs": [
    {
     "name": "stdout",
     "output_type": "stream",
     "text": [
      "Arnald 22\n"
     ]
    }
   ],
   "source": [
    "p = Person(\"Arnald\",22)\n",
    "print(p.name,p.age)"
   ]
  },
  {
   "cell_type": "code",
   "execution_count": null,
   "id": "2d0f9e69-c5b5-4f50-be79-982874659ef9",
   "metadata": {},
   "outputs": [],
   "source": []
  }
 ],
 "metadata": {
  "kernelspec": {
   "display_name": "Python 3 (ipykernel)",
   "language": "python",
   "name": "python3"
  },
  "language_info": {
   "codemirror_mode": {
    "name": "ipython",
    "version": 3
   },
   "file_extension": ".py",
   "mimetype": "text/x-python",
   "name": "python",
   "nbconvert_exporter": "python",
   "pygments_lexer": "ipython3",
   "version": "3.12.8"
  }
 },
 "nbformat": 4,
 "nbformat_minor": 5
}
