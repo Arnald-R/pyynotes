{
 "cells": [
  {
   "cell_type": "code",
   "execution_count": 1,
   "id": "2889a0bc-0418-4866-95af-97892710d219",
   "metadata": {},
   "outputs": [],
   "source": [
    "#created at 20250226"
   ]
  },
  {
   "cell_type": "code",
   "execution_count": null,
   "id": "e2b3bcbc-447d-46f7-a3b0-087cc8b9de08",
   "metadata": {},
   "outputs": [],
   "source": [
    "#https://stevejoe1412.gitbook.io/python-exploring/python-subtopics/1-50/15.-slot-classes"
   ]
  },
  {
   "cell_type": "code",
   "execution_count": 2,
   "id": "8c581182-1650-46dd-9acf-b62e677b445a",
   "metadata": {},
   "outputs": [],
   "source": [
    "#__slots__ with default values(using class variables)|"
   ]
  },
  {
   "cell_type": "code",
   "execution_count": 4,
   "id": "784ab067-8142-4d3f-8073-c242f669ebc6",
   "metadata": {},
   "outputs": [],
   "source": [
    "class Car():\n",
    "    __slots__ = ['brand','car']\n",
    "    default_color = \"Red\"\n",
    "\n",
    "c = Car()\n",
    "c.brand = \"swift\"\n",
    "c.car = \"baleno\""
   ]
  },
  {
   "cell_type": "code",
   "execution_count": 5,
   "id": "014d705a-9a1b-4e12-a322-6357a5543f36",
   "metadata": {},
   "outputs": [
    {
     "name": "stdout",
     "output_type": "stream",
     "text": [
      "Red\n"
     ]
    }
   ],
   "source": [
    "print(c.default_color)"
   ]
  },
  {
   "cell_type": "code",
   "execution_count": null,
   "id": "008e9964-e646-4a1d-82e1-f0f99737d7e4",
   "metadata": {},
   "outputs": [],
   "source": []
  }
 ],
 "metadata": {
  "kernelspec": {
   "display_name": "Python 3 (ipykernel)",
   "language": "python",
   "name": "python3"
  },
  "language_info": {
   "codemirror_mode": {
    "name": "ipython",
    "version": 3
   },
   "file_extension": ".py",
   "mimetype": "text/x-python",
   "name": "python",
   "nbconvert_exporter": "python",
   "pygments_lexer": "ipython3",
   "version": "3.12.8"
  }
 },
 "nbformat": 4,
 "nbformat_minor": 5
}
