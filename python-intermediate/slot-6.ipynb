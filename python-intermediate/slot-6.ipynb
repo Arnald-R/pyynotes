{
 "cells": [
  {
   "cell_type": "code",
   "execution_count": 1,
   "id": "c13b54e5-1ab1-4b50-b167-4079900c05df",
   "metadata": {},
   "outputs": [],
   "source": [
    "#created at 20250226"
   ]
  },
  {
   "cell_type": "code",
   "execution_count": 2,
   "id": "d0206a59-1841-4b0a-af2d-41a3d00eaa96",
   "metadata": {},
   "outputs": [],
   "source": [
    "#https://stevejoe1412.gitbook.io/python-exploring/python-subtopics/1-50/15.-slot-classes"
   ]
  },
  {
   "cell_type": "code",
   "execution_count": 3,
   "id": "b07cad74-bd82-4137-9dff-7075470a2189",
   "metadata": {},
   "outputs": [],
   "source": [
    "#using __slots__ with properties"
   ]
  },
  {
   "cell_type": "code",
   "execution_count": 5,
   "id": "7186107f-d297-475b-9e11-ce596d877d89",
   "metadata": {},
   "outputs": [],
   "source": [
    "class Rectangle():\n",
    "    __slots__ = ['width','height']\n",
    "\n",
    "    def __init__(self,width,height):\n",
    "        self.width = width\n",
    "        self.height = height\n",
    "\n",
    "    @property\n",
    "    def area(self):\n",
    "        return self.width * self.height\n"
   ]
  },
  {
   "cell_type": "code",
   "execution_count": 6,
   "id": "6cb0db83-a151-472d-b8cb-92d956f3ac00",
   "metadata": {},
   "outputs": [],
   "source": [
    "r = Rectangle(5,10)"
   ]
  },
  {
   "cell_type": "code",
   "execution_count": 7,
   "id": "ead4bb8e-1e99-4070-a931-a4641ba4b2cf",
   "metadata": {},
   "outputs": [
    {
     "name": "stdout",
     "output_type": "stream",
     "text": [
      "50\n"
     ]
    }
   ],
   "source": [
    "print(r.area)"
   ]
  }
 ],
 "metadata": {
  "kernelspec": {
   "display_name": "Python 3 (ipykernel)",
   "language": "python",
   "name": "python3"
  },
  "language_info": {
   "codemirror_mode": {
    "name": "ipython",
    "version": 3
   },
   "file_extension": ".py",
   "mimetype": "text/x-python",
   "name": "python",
   "nbconvert_exporter": "python",
   "pygments_lexer": "ipython3",
   "version": "3.12.8"
  }
 },
 "nbformat": 4,
 "nbformat_minor": 5
}
