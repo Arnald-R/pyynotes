{
 "cells": [
  {
   "cell_type": "code",
   "execution_count": 1,
   "id": "9a0d96ea-1021-469d-8d91-36f4995a5224",
   "metadata": {},
   "outputs": [],
   "source": [
    "#created at 20250226"
   ]
  },
  {
   "cell_type": "code",
   "execution_count": 2,
   "id": "721f399f-4823-4bcd-91e2-786c06bab62e",
   "metadata": {},
   "outputs": [],
   "source": [
    "#https://stevejoe1412.gitbook.io/python-exploring/python-subtopics/1-50/15.-slot-classes"
   ]
  },
  {
   "cell_type": "code",
   "execution_count": 3,
   "id": "627b5d88-4468-4299-838a-e736ae7fb413",
   "metadata": {},
   "outputs": [],
   "source": [
    "#inheriting without __slots__"
   ]
  },
  {
   "cell_type": "code",
   "execution_count": 4,
   "id": "ce959526-30a0-488e-9b6e-192e494b9ef3",
   "metadata": {},
   "outputs": [],
   "source": [
    "class Parent():\n",
    "    __slots__ = ['x']\n",
    "\n",
    "class child(Parent):\n",
    "    pass\n",
    "\n",
    "c = child()\n",
    "c.y = 10"
   ]
  },
  {
   "cell_type": "code",
   "execution_count": null,
   "id": "42191d5c-c3e5-4145-98aa-ce3f0b353441",
   "metadata": {},
   "outputs": [],
   "source": []
  }
 ],
 "metadata": {
  "kernelspec": {
   "display_name": "Python 3 (ipykernel)",
   "language": "python",
   "name": "python3"
  },
  "language_info": {
   "codemirror_mode": {
    "name": "ipython",
    "version": 3
   },
   "file_extension": ".py",
   "mimetype": "text/x-python",
   "name": "python",
   "nbconvert_exporter": "python",
   "pygments_lexer": "ipython3",
   "version": "3.12.8"
  }
 },
 "nbformat": 4,
 "nbformat_minor": 5
}
