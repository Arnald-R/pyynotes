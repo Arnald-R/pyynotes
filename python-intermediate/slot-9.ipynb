{
 "cells": [
  {
   "cell_type": "code",
   "execution_count": null,
   "id": "95ad1a49-5157-4911-a5f4-aca9f602e2c7",
   "metadata": {},
   "outputs": [],
   "source": [
    "#created at 20250226"
   ]
  },
  {
   "cell_type": "code",
   "execution_count": null,
   "id": "b0aded35-bbd7-4456-908c-3da58500903d",
   "metadata": {},
   "outputs": [],
   "source": [
    "#https://stevejoe1412.gitbook.io/python-exploring/python-subtopics/1-50/15.-slot-classes"
   ]
  },
  {
   "cell_type": "code",
   "execution_count": 1,
   "id": "4f3b6fef-5012-4ac5-a19d-605b83b19beb",
   "metadata": {},
   "outputs": [],
   "source": [
    "#Restricting Weak Reference "
   ]
  },
  {
   "cell_type": "code",
   "execution_count": 2,
   "id": "5890bf13-228e-4cdf-8bb4-80d9ed76c185",
   "metadata": {},
   "outputs": [],
   "source": [
    "class NoweakRef:\n",
    "    __slots__ = ['x']"
   ]
  },
  {
   "cell_type": "code",
   "execution_count": 3,
   "id": "16c38787-ddc5-4e6a-acfd-ccb1d312648a",
   "metadata": {},
   "outputs": [],
   "source": [
    "import weakref"
   ]
  },
  {
   "cell_type": "code",
   "execution_count": null,
   "id": "7524ff50-21e9-4c77-ae19-c415b40b32b4",
   "metadata": {},
   "outputs": [],
   "source": [
    "n = NoweakRef()"
   ]
  }
 ],
 "metadata": {
  "kernelspec": {
   "display_name": "Python 3 (ipykernel)",
   "language": "python",
   "name": "python3"
  },
  "language_info": {
   "codemirror_mode": {
    "name": "ipython",
    "version": 3
   },
   "file_extension": ".py",
   "mimetype": "text/x-python",
   "name": "python",
   "nbconvert_exporter": "python",
   "pygments_lexer": "ipython3",
   "version": "3.12.8"
  }
 },
 "nbformat": 4,
 "nbformat_minor": 5
}
