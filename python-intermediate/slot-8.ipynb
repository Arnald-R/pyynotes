{
 "cells": [
  {
   "cell_type": "code",
   "execution_count": null,
   "id": "ee13985e-25a4-4031-ba59-1443779b57d7",
   "metadata": {},
   "outputs": [],
   "source": [
    "#created at 20250226"
   ]
  },
  {
   "cell_type": "code",
   "execution_count": null,
   "id": "ce435db0-e985-4055-b116-cfef7c95294a",
   "metadata": {},
   "outputs": [],
   "source": [
    "#https://stevejoe1412.gitbook.io/python-exploring/python-subtopics/1-50/15.-slot-classes"
   ]
  },
  {
   "cell_type": "code",
   "execution_count": 1,
   "id": "4791ed71-059e-46e2-ad84-3b760d8a314d",
   "metadata": {},
   "outputs": [],
   "source": [
    "#preventing __dict__ creation"
   ]
  },
  {
   "cell_type": "code",
   "execution_count": 2,
   "id": "f4e0b830-76b6-4e19-97f4-914c6d91fe57",
   "metadata": {},
   "outputs": [],
   "source": [
    "class NoDict:\n",
    "    __slots__ = ['Name']"
   ]
  },
  {
   "cell_type": "code",
   "execution_count": 3,
   "id": "59460f96-69fc-4688-a43e-2c5583371a09",
   "metadata": {},
   "outputs": [
    {
     "name": "stdout",
     "output_type": "stream",
     "text": [
      "False\n"
     ]
    }
   ],
   "source": [
    "n = NoDict()\n",
    "print(hasattr(n,'__dict__'))"
   ]
  },
  {
   "cell_type": "code",
   "execution_count": null,
   "id": "b41bd6da-3484-4489-803f-5aa5ed463f99",
   "metadata": {},
   "outputs": [],
   "source": []
  }
 ],
 "metadata": {
  "kernelspec": {
   "display_name": "Python 3 (ipykernel)",
   "language": "python",
   "name": "python3"
  },
  "language_info": {
   "codemirror_mode": {
    "name": "ipython",
    "version": 3
   },
   "file_extension": ".py",
   "mimetype": "text/x-python",
   "name": "python",
   "nbconvert_exporter": "python",
   "pygments_lexer": "ipython3",
   "version": "3.12.8"
  }
 },
 "nbformat": 4,
 "nbformat_minor": 5
}
