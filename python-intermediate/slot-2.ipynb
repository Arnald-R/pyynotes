{
 "cells": [
  {
   "cell_type": "code",
   "execution_count": 1,
   "id": "33a955b9-22a6-4308-a20c-4a77b412242b",
   "metadata": {},
   "outputs": [],
   "source": [
    "#created at 20250226"
   ]
  },
  {
   "cell_type": "code",
   "execution_count": 2,
   "id": "8829cbc3-8485-497b-8392-6aa8f4f35b15",
   "metadata": {},
   "outputs": [],
   "source": [
    "#https://stevejoe1412.gitbook.io/python-exploring/python-subtopics/1-50/15.-slot-classes"
   ]
  },
  {
   "cell_type": "code",
   "execution_count": 3,
   "id": "5d8fbfb8-1612-429e-b0bc-a6dad0b66c3f",
   "metadata": {},
   "outputs": [],
   "source": [
    "#preventing dynamic attribute assignment"
   ]
  },
  {
   "cell_type": "code",
   "execution_count": 17,
   "id": "e7b61789-7b96-4dcc-8b15-87e99ccd4b3a",
   "metadata": {},
   "outputs": [],
   "source": [
    "class Animals:\n",
    "    __slots__ = ['spice']\n",
    "\n",
    "    def __init__ (self,spice):\n",
    "        self.spice = spice"
   ]
  },
  {
   "cell_type": "code",
   "execution_count": 18,
   "id": "5348d81d-aa6f-467e-91f3-886c0471abcf",
   "metadata": {},
   "outputs": [],
   "source": [
    "a = Animals(\"Dog\")\n"
   ]
  },
  {
   "cell_type": "code",
   "execution_count": 19,
   "id": "a5399a68-8804-4bbf-a6f2-5b71259b0199",
   "metadata": {},
   "outputs": [
    {
     "ename": "AttributeError",
     "evalue": "'Animals' object has no attribute 'color'",
     "output_type": "error",
     "traceback": [
      "\u001b[0;31m---------------------------------------------------------------------------\u001b[0m",
      "\u001b[0;31mAttributeError\u001b[0m                            Traceback (most recent call last)",
      "Cell \u001b[0;32mIn[19], line 1\u001b[0m\n\u001b[0;32m----> 1\u001b[0m \u001b[43ma\u001b[49m\u001b[38;5;241;43m.\u001b[39;49m\u001b[43mcolor\u001b[49m \u001b[38;5;241m=\u001b[39m \u001b[38;5;124m\"\u001b[39m\u001b[38;5;124mwhite\u001b[39m\u001b[38;5;124m\"\u001b[39m\n",
      "\u001b[0;31mAttributeError\u001b[0m: 'Animals' object has no attribute 'color'"
     ]
    }
   ],
   "source": [
    "a.color = \"white\""
   ]
  },
  {
   "cell_type": "code",
   "execution_count": null,
   "id": "144dc0b8-25c9-4049-9300-37f8c6c65586",
   "metadata": {},
   "outputs": [],
   "source": []
  }
 ],
 "metadata": {
  "kernelspec": {
   "display_name": "Python 3 (ipykernel)",
   "language": "python",
   "name": "python3"
  },
  "language_info": {
   "codemirror_mode": {
    "name": "ipython",
    "version": 3
   },
   "file_extension": ".py",
   "mimetype": "text/x-python",
   "name": "python",
   "nbconvert_exporter": "python",
   "pygments_lexer": "ipython3",
   "version": "3.12.8"
  }
 },
 "nbformat": 4,
 "nbformat_minor": 5
}
